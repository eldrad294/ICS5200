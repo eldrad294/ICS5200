{
 "cells": [
  {
   "cell_type": "markdown",
   "metadata": {
    "collapsed": true
   },
   "source": [
    "# Benchmark\n",
    "\n",
    "This notebook contains work pertatining to benchmark metrics and data visualization / descriptions"
   ]
  },
  {
   "cell_type": "code",
   "execution_count": null,
   "metadata": {
    "collapsed": true
   },
   "outputs": [],
   "source": [
    "#\n",
    "# Module Import\n",
    "import pandas as pd\n",
    "import matplotlib.pyplot as plt\n",
    "#\n",
    "# Open Data\n",
    "rep_execution_plans_path = 'C:/Users/gabriel.sammut/University/Data_ICS5200/Benchmark/tpcds1/rep_execution_plans.csv'\n",
    "rep_explain_plans_path = 'C:/Users/gabriel.sammut/University/Data_ICS5200/Benchmark/tpcds1/rep_explain_plans.csv'\n",
    "#\n",
    "rep_execution_plans_df = pd.read_csv(rep_execution_plans_path)\n",
    "rep_explain_plans_df = pd.read_csv(rep_explain_plans_path)\n",
    "#\n",
    "print(rep_execution_plans_df.head())\n",
    "print(\"---------------------------------------------------------------------------------\")\n",
    "print(rep_explain_plans_df.head())"
   ]
  },
  {
   "cell_type": "markdown",
   "metadata": {},
   "source": [
    "# Dataset Description\n",
    "\n",
    "Statistical calculations:\n",
    "\n",
    "* Column Names\n",
    "* Dataframe Row Counts\n",
    "* Mean (were applicable)\n",
    "* Standard Dev (were applicable)\n",
    "* Quartile Percentile\n",
    "* Min / Max"
   ]
  },
  {
   "cell_type": "code",
   "execution_count": null,
   "metadata": {
    "collapsed": true
   },
   "outputs": [],
   "source": [
    "print('\\n-----------------------------------------------------------\\nDataframe Row Count: REP_EXECUTION_PLANS - ' + str(len(rep_execution_plans_df)))\n",
    "print('Dataframe Row Count: REP_EXPLAIN_PLANS - ' + str(len(rep_explain_plans_df)) + '\\n-----------------------------------------------------------\\n')\n",
    "#\n",
    "print('REP_EXECUTION_PLANS:')\n",
    "print(rep_execution_plans_df.describe())\n",
    "print('\\n\\nREP_EXPLAIN_PLANS:')\n",
    "print(rep_explain_plans_df.describe())"
   ]
  }
 ],
 "metadata": {
  "kernelspec": {
   "display_name": "Python 3",
   "language": "python",
   "name": "python3"
  },
  "language_info": {
   "codemirror_mode": {
    "name": "ipython",
    "version": 3
   },
   "file_extension": ".py",
   "mimetype": "text/x-python",
   "name": "python",
   "nbconvert_exporter": "python",
   "pygments_lexer": "ipython3",
   "version": "3.6.3"
  }
 },
 "nbformat": 4,
 "nbformat_minor": 2
}
