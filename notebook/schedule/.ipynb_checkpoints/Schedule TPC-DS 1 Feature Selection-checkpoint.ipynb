{
 "cells": [
  {
   "cell_type": "markdown",
   "metadata": {},
   "source": [
    "# Schedule TPC-DS 1 Feature Selection\n",
    "\n",
    "This notebook is dedicated to dataset profiling. In this notebook, feature selection techniques will be implemented so as to categorize which features belay the most information to address the problem at hand - Workload Prediction. Due to the vast feature space which have been gathered during a workload's execution, manual techniques at determining which are most detrimental is not sufficient. \n",
    "\n",
    "Therefore the following work puts emphasis on automated techniques so as to determine out of the vast feature space which are most important to base future models upon. "
   ]
  },
  {
   "cell_type": "code",
   "execution_count": 193,
   "metadata": {},
   "outputs": [],
   "source": [
    "#\n",
    "# Module Import\n",
    "import pandas as pd\n",
    "import numpy as np\n",
    "import matplotlib.pyplot as plt\n",
    "from sklearn.feature_selection import SelectFromModel, SelectKBest, chi2, RFE\n",
    "from sklearn.preprocessing import RobustScaler, MinMaxScaler\n",
    "from sklearn.ensemble import RandomForestRegressor, GradientBoostingRegressor\n",
    "from sklearn.model_selection import train_test_split\n",
    "from sklearn import preprocessing\n",
    "from operator import itemgetter\n",
    "from sklearn.metrics import r2_score"
   ]
  },
  {
   "cell_type": "markdown",
   "metadata": {},
   "source": [
    "### Configuration Cell\n",
    "\n",
    "Tweak parametric changes from this cell to influence outcome of experiment"
   ]
  },
  {
   "cell_type": "code",
   "execution_count": 194,
   "metadata": {},
   "outputs": [],
   "source": [
    "#\n",
    "# Experiment Config\n",
    "tpcds='TPCDS1' # Schema upon which to operate test\n",
    "debug_mode=True # Determines whether to plot graphs or not, useful for development purposes \n",
    "low_quartile_limit = 0 # Lower Quartile threshold to detect outliers\n",
    "upper_quartile_limit = 1 # Upper Quartile threshold to detect outliers\n",
    "test_split=.3 # Denotes which Data Split to operate under when it comes to training / validation"
   ]
  },
  {
   "cell_type": "code",
   "execution_count": 195,
   "metadata": {},
   "outputs": [
    {
     "name": "stderr",
     "output_type": "stream",
     "text": [
      "C:\\ProgramData\\Anaconda3\\lib\\site-packages\\IPython\\core\\interactiveshell.py:2785: DtypeWarning: Columns (14) have mixed types. Specify dtype option on import or set low_memory=False.\n",
      "  interactivity=interactivity, compiler=compiler, result=result)\n",
      "C:\\ProgramData\\Anaconda3\\lib\\site-packages\\IPython\\core\\interactiveshell.py:2785: DtypeWarning: Columns (6,20,21,22,25,26) have mixed types. Specify dtype option on import or set low_memory=False.\n",
      "  interactivity=interactivity, compiler=compiler, result=result)\n"
     ]
    }
   ],
   "source": [
    "#\n",
    "# Open Data\n",
    "rep_hist_snapshot_path = 'C:/Users/gabriel.sammut/University/Data_ICS5200/Schedule/' + tpcds + '/rep_hist_snapshot.csv'\n",
    "rep_hist_sysmetric_summary_path = 'C:/Users/gabriel.sammut/University/Data_ICS5200/Schedule/' + tpcds + '/rep_hist_sysmetric_summary.csv'\n",
    "rep_hist_sysstat_path = 'C:/Users/gabriel.sammut/University/Data_ICS5200/Schedule/' + tpcds + '/rep_hist_sysstat.csv'\n",
    "rep_vsql_plan_path = 'C:/Users/gabriel.sammut/University/Data_ICS5200/Schedule/' + tpcds + '/rep_vsql_plan.csv'\n",
    "#\n",
    "rep_hist_snapshot_df = pd.read_csv(rep_hist_snapshot_path)\n",
    "rep_hist_sysmetric_summary_df = pd.read_csv(rep_hist_sysmetric_summary_path)\n",
    "rep_hist_sysstat_df = pd.read_csv(rep_hist_sysstat_path)\n",
    "rep_vsql_plan_df = pd.read_csv(rep_vsql_plan_path)\n",
    "#\n",
    "def prettify_header(headers):\n",
    "    \"\"\"\n",
    "    Cleans header list from unwated character strings\n",
    "    \"\"\"\n",
    "    header_list = []\n",
    "    [header_list.append(header.replace(\"(\",\"\").replace(\")\",\"\").replace(\"'\",\"\").replace(\",\",\"\")) for header in headers]\n",
    "    return header_list\n",
    "#\n",
    "rep_hist_snapshot_df.columns = prettify_header(rep_hist_snapshot_df.columns.values)\n",
    "rep_hist_sysmetric_summary_df.columns = prettify_header(rep_hist_sysmetric_summary_df.columns.values)\n",
    "rep_hist_sysstat_df.columns = prettify_header(rep_hist_sysstat_df.columns.values)\n",
    "rep_vsql_plan_df.columns = prettify_header(rep_vsql_plan_df.columns.values)"
   ]
  },
  {
   "cell_type": "markdown",
   "metadata": {},
   "source": [
    "# Dataset Description\n",
    "\n",
    "The correlation of resources consumed (y) per snapshot (X) define our feature space. Since the objective here is to attempt to predict what resources will be incurred ahead of time, the problem can be defined as a number of questions:\n",
    "\n",
    "* Q: What resources can I predict to be in usage at point N in time?\n",
    "* Q: What resources should I be predicting that accurately portray a schedule's workload?\n",
    "* Q: What knowledge/data do I have ahead of time which I can use to base my predictions off?\n",
    "\n",
    "Due to the vast feature space in the available metrics monitored and captured during a workload's execution, it is important to rank which attribute is most beneficial than others. Additionally, it is important to analyze such features individually, and considerate of other features in two types of analysis:\n",
    "\n",
    "* Univariate Analysis\n",
    "* Multivariate Analysis\n",
    "\n",
    "Furthermore, multiple types of feature ranking / analysis techniques ara available, amongst which will be considered:\n",
    "\n",
    "* Filter Methods\n",
    "* Wrapper Methods\n",
    "* Embedded Methods"
   ]
  },
  {
   "cell_type": "markdown",
   "metadata": {},
   "source": [
    "# Data Preprocessing\n",
    "\n",
    "We apply a number of preprocessing techniques to the presented dataframes, particularly to normalize and/or scale feature vectors into a more suitable representation for downstream estimators:\n",
    "\n",
    "Relative Links:\n",
    "* http://scikit-learn.org/stable/modules/preprocessing.html\n",
    "* https://machinelearningmastery.com/improve-model-accuracy-with-data-pre-processing/\n",
    "* https://machinelearningmastery.com/normalize-standardize-time-series-data-python/\n",
    "\n",
    "### Table Pivots\n",
    "\n",
    "To better handle the following table, a number of table pivots are made on tables:\n",
    "* rep_hist_sysmetric_summary\n",
    "* rep_hist_sysstat"
   ]
  },
  {
   "cell_type": "code",
   "execution_count": 196,
   "metadata": {
    "scrolled": true
   },
   "outputs": [
    {
     "name": "stdout",
     "output_type": "stream",
     "text": [
      "Index(['SNAP_ID', 'Active Parallel Sessions', 'Active Serial Sessions',\n",
      "       'Average Active Sessions',\n",
      "       'Average Synchronous Single-Block Read Latency',\n",
      "       'Background CPU Usage Per Sec', 'Background Checkpoints Per Sec',\n",
      "       'Background Time Per Sec', 'Branch Node Splits Per Sec',\n",
      "       'Branch Node Splits Per Txn',\n",
      "       ...\n",
      "       'User Commits Percentage', 'User Limit %',\n",
      "       'User Rollback Undo Records Applied Per Txn',\n",
      "       'User Rollback UndoRec Applied Per Sec', 'User Rollbacks Per Sec',\n",
      "       'User Rollbacks Percentage', 'User Transaction Per Sec',\n",
      "       'VM in bytes Per Sec', 'VM out bytes Per Sec',\n",
      "       'Workload Capture and Replay status'],\n",
      "      dtype='object', name='METRIC_NAME', length=162)\n",
      "REP_HIST_SYSMETRIC Shape: (4018, 162)\n",
      "Index(['SNAP_ID', 'ADG global flush', 'ADG parselock X get attempts',\n",
      "       'ADG parselock X get successes', 'BA au bytes allocated',\n",
      "       'BA bytes for file maps', 'BA bytes read from disk',\n",
      "       'BA bytes read from flash', 'BA count - borrowed from other node',\n",
      "       'BA count - cache denied',\n",
      "       ...\n",
      "       'user logouts cumulative', 'user rollbacks',\n",
      "       'very large tracked transactions', 'workarea executions - multipass',\n",
      "       'workarea executions - onepass', 'workarea executions - optimal',\n",
      "       'workarea memory allocated', 'write clones created for recovery',\n",
      "       'write clones created in background',\n",
      "       'write clones created in foreground'],\n",
      "      dtype='object', name='STAT_NAME', length=1179)\n",
      "REP_HIST_SYSSTAT_DF Shape: (4019, 1179)\n",
      "\n",
      "\n",
      "Table [REP_HIST_SNAPSHOT] - (329200, 90)\n",
      "Table [REP_HIST_SYSMETRIC_SUMMARY] - (4018, 162)\n",
      "Table [REP_HIST_SYSSTAT] - (4019, 1179)\n",
      "Table [REP_VSQL_PLAN] - (61384, 39)\n"
     ]
    }
   ],
   "source": [
    "#\n",
    "# Table REP_HIST_SYSMETRIC_SUMMARY\n",
    "rep_hist_sysmetric_summary_df = rep_hist_sysmetric_summary_df.pivot(index='SNAP_ID', columns='METRIC_NAME', values='AVERAGE')\n",
    "rep_hist_sysmetric_summary_df.reset_index(inplace=True)\n",
    "print(rep_hist_sysmetric_summary_df.columns)\n",
    "rep_hist_sysmetric_summary_df[['SNAP_ID']] = rep_hist_sysmetric_summary_df[['SNAP_ID']].astype(int)\n",
    "rep_hist_sysmetric_summary_df.sort_values(by=['SNAP_ID'],inplace=True,ascending=True)\n",
    "print(\"REP_HIST_SYSMETRIC Shape: \" + str(rep_hist_sysmetric_summary_df.shape))\n",
    "#\n",
    "# Table REP_HIST_SYSSTAT\n",
    "rep_hist_sysstat_df = rep_hist_sysstat_df.pivot(index='SNAP_ID', columns='STAT_NAME', values='VALUE')\n",
    "rep_hist_sysstat_df.reset_index(inplace=True)\n",
    "print(rep_hist_sysstat_df.columns)\n",
    "rep_hist_sysstat_df[['SNAP_ID']] = rep_hist_sysstat_df[['SNAP_ID']].astype(int)\n",
    "rep_hist_sysstat_df.sort_values(by=['SNAP_ID'],inplace=True,ascending=True)\n",
    "print(\"REP_HIST_SYSSTAT_DF Shape: \" + str(rep_hist_sysstat_df.shape))\n",
    "#\n",
    "# Refreshing columns with pivoted columns\n",
    "def convert_list_to_upper(col_list):\n",
    "    \"\"\"\n",
    "    Takes a string and converts elements to upper\n",
    "    \"\"\"\n",
    "    upper_col_list = []\n",
    "    for col in col_list:\n",
    "        upper_col_list.append(col.upper())\n",
    "    return upper_col_list\n",
    "#\n",
    "rep_hist_sysmetric_summary_df.rename(str.upper, inplace=True, axis='columns')\n",
    "rep_hist_sysstat_df.rename(str.upper, inplace=True, axis='columns')\n",
    "#\n",
    "rep_hist_snapshot_headers = rep_hist_snapshot_df.columns\n",
    "rep_hist_sysmetric_summary_headers = list(rep_hist_sysmetric_summary_df.columns)\n",
    "rep_hist_sysstat_headers = list(rep_hist_sysstat_df.columns)\n",
    "rep_vsql_plan_headers = rep_vsql_plan_df.columns\n",
    "#\n",
    "# DF Shape\n",
    "print('\\n\\nTable [REP_HIST_SNAPSHOT] - ' + str(rep_hist_snapshot_df.shape))\n",
    "print('Table [REP_HIST_SYSMETRIC_SUMMARY] - ' + str(rep_hist_sysmetric_summary_df.shape))\n",
    "print('Table [REP_HIST_SYSSTAT] - ' + str(rep_hist_sysstat_df.shape))\n",
    "print('Table [REP_VSQL_PLAN] - ' + str(rep_vsql_plan_df.shape))"
   ]
  },
  {
   "cell_type": "markdown",
   "metadata": {},
   "source": [
    "### Checking for NaN Values\n",
    "\n",
    "Checking dataframes for potential missing values/data:"
   ]
  },
  {
   "cell_type": "code",
   "execution_count": 197,
   "metadata": {
    "scrolled": true
   },
   "outputs": [
    {
     "name": "stdout",
     "output_type": "stream",
     "text": [
      "Table REP_HIST_SNAPSHOT: ['OPTIMIZER_COST', 'OPTIMIZER_MODE', 'OPTIMIZER_ENV_HASH_VALUE', 'LOADED_VERSIONS', 'MODULE', 'ACTION', 'SQL_PROFILE', 'PARSING_SCHEMA_ID', 'PARSING_SCHEMA_NAME', 'PARSING_USER_ID', 'FETCHES_TOTAL', 'FETCHES_DELTA', 'END_OF_FETCH_COUNT_TOTAL', 'END_OF_FETCH_COUNT_DELTA', 'SORTS_TOTAL', 'SORTS_DELTA', 'EXECUTIONS_TOTAL', 'EXECUTIONS_DELTA', 'PX_SERVERS_EXECS_TOTAL', 'PX_SERVERS_EXECS_DELTA', 'LOADS_TOTAL', 'LOADS_DELTA', 'INVALIDATIONS_TOTAL', 'INVALIDATIONS_DELTA', 'PARSE_CALLS_TOTAL', 'DISK_READS_TOTAL', 'DISK_READS_DELTA', 'BUFFER_GETS_TOTAL', 'BUFFER_GETS_DELTA', 'ROWS_PROCESSED_TOTAL', 'ROWS_PROCESSED_DELTA', 'CPU_TIME_TOTAL', 'ELAPSED_TIME_TOTAL', 'IOWAIT_TOTAL', 'IOWAIT_DELTA', 'CLWAIT_TOTAL', 'CLWAIT_DELTA', 'APWAIT_TOTAL', 'APWAIT_DELTA', 'CCWAIT_TOTAL', 'CCWAIT_DELTA', 'DIRECT_WRITES_TOTAL', 'DIRECT_WRITES_DELTA', 'PLSEXEC_TIME_TOTAL', 'PLSEXEC_TIME_DELTA', 'JAVEXEC_TIME_TOTAL', 'JAVEXEC_TIME_DELTA', 'IO_OFFLOAD_ELIG_BYTES_TOTAL', 'IO_OFFLOAD_ELIG_BYTES_DELTA', 'IO_INTERCONNECT_BYTES_TOTAL', 'IO_INTERCONNECT_BYTES_DELTA', 'PHYSICAL_READ_REQUESTS_TOTAL', 'PHYSICAL_READ_REQUESTS_DELTA', 'PHYSICAL_READ_BYTES_TOTAL', 'PHYSICAL_READ_BYTES_DELTA', 'PHYSICAL_WRITE_REQUESTS_TOTAL', 'PHYSICAL_WRITE_REQUESTS_DELTA', 'PHYSICAL_WRITE_BYTES_TOTAL', 'PHYSICAL_WRITE_BYTES_DELTA', 'OPTIMIZED_PHYSICAL_READS_TOTAL', 'OPTIMIZED_PHYSICAL_READS_DELTA', 'CELL_UNCOMPRESSED_BYTES_TOTAL', 'CELL_UNCOMPRESSED_BYTES_DELTA', 'IO_OFFLOAD_RETURN_BYTES_TOTAL', 'IO_OFFLOAD_RETURN_BYTES_DELTA', 'BIND_DATA', 'FLAG']\n",
      "\n",
      "\n",
      "Table REP_HIST_SYSMETRIC_SUMMARY: ['BACKGROUND CPU USAGE PER SEC', 'BACKGROUND TIME PER SEC', 'CELL PHYSICAL IO INTERCONNECT BYTES', 'HOST CPU USAGE PER SEC', 'RUN QUEUE PER SEC', 'TEMP SPACE USED', 'TOTAL PGA ALLOCATED', 'TOTAL PGA USED BY SQL WORKAREAS', 'VM IN BYTES PER SEC', 'VM OUT BYTES PER SEC', 'WORKLOAD CAPTURE AND REPLAY STATUS']\n",
      "\n",
      "\n",
      "Table REP_HIST_SYSSTAT: ['OS BLOCK INPUT OPERATIONS', 'OS BLOCK OUTPUT OPERATIONS', 'OS INTEGRAL SHARED TEXT SIZE', 'OS INTEGRAL UNSHARED DATA SIZE', 'OS INTEGRAL UNSHARED STACK SIZE', 'OS INVOLUNTARY CONTEXT SWITCHES', 'OS MAXIMUM RESIDENT SET SIZE', 'OS PAGE FAULTS', 'OS PAGE RECLAIMS', 'OS SIGNALS RECEIVED', 'OS SOCKET MESSAGES RECEIVED', 'OS SOCKET MESSAGES SENT', 'OS SWAPS', 'OS SYSTEM TIME USED', 'OS USER TIME USED', 'OS VOLUNTARY CONTEXT SWITCHES', 'BACKUP COMPRESSED DATA WRITTEN LOCALLY', 'BACKUP COMPRESSED DATA WRITTEN REMOTELY', 'BACKUP DATA COMPRESSED LOCALLY', 'BACKUP DATA COMPRESSED REMOTELY', 'BACKUP PIECE LOCAL PROCESSING TIME', 'BACKUP PIECE REMOTE PROCESSING TIME', 'BACKUP PIECES COMPRESSED LOCALLY', 'BACKUP PIECES COMPRESSED REMOTELY', 'CELL LOGICAL WRITE IO REQUESTS ELIGIBLE FOR OFFLOAD']\n",
      "\n",
      "\n",
      "Table REP_VSQL_PLAN: ['OPTIONS', 'OBJECT_NODE', 'OBJECT#', 'OBJECT_OWNER', 'OBJECT_NAME', 'OBJECT_ALIAS', 'OBJECT_TYPE', 'OPTIMIZER', 'PARENT_ID', 'POSITION', 'COST', 'CARDINALITY', 'BYTES', 'OTHER_TAG', 'PARTITION_START', 'PARTITION_STOP', 'PARTITION_ID', 'OTHER', 'DISTRIBUTION', 'CPU_COST', 'IO_COST', 'TEMP_SPACE', 'ACCESS_PREDICATES', 'FILTER_PREDICATES', 'PROJECTION', 'TIME', 'QBLOCK_NAME', 'REMARKS', 'OTHER_XML']\n",
      "\n",
      "\n"
     ]
    }
   ],
   "source": [
    "def get_na_columns(df, headers):\n",
    "    \"\"\"\n",
    "    Return columns which consist of NAN values\n",
    "    \"\"\"\n",
    "    na_list = []\n",
    "    for head in headers:\n",
    "        if df[head].isnull().values.any():\n",
    "            na_list.append(head)\n",
    "    return na_list\n",
    "#\n",
    "print(\"Table REP_HIST_SNAPSHOT: \" + str(get_na_columns(df=rep_hist_snapshot_df,headers=rep_hist_snapshot_headers)) + \"\\n\\n\")\n",
    "print(\"Table REP_HIST_SYSMETRIC_SUMMARY: \" + str(get_na_columns(df=rep_hist_sysmetric_summary_df,headers=rep_hist_sysmetric_summary_headers)) + \"\\n\\n\")\n",
    "print(\"Table REP_HIST_SYSSTAT: \" + str(get_na_columns(df=rep_hist_sysstat_df,headers=rep_hist_sysstat_headers)) + \"\\n\\n\")\n",
    "print(\"Table REP_VSQL_PLAN: \" + str(get_na_columns(df=rep_vsql_plan_df,headers=rep_vsql_plan_headers)) + \"\\n\\n\")\n",
    "#\n",
    "def fill_na(df):\n",
    "    \"\"\"\n",
    "    Replaces NA columns with 0s\n",
    "    \"\"\"\n",
    "    return df.fillna(0)\n",
    "#\n",
    "# Populating NaN values with amount '0'\n",
    "rep_hist_snapshot_df = fill_na(df=rep_hist_snapshot_df)\n",
    "rep_hist_sysmetric_summary_df = fill_na(df=rep_hist_sysmetric_summary_df)\n",
    "rep_hist_sysstat_df = fill_na(df=rep_hist_sysstat_df)\n",
    "rep_vsql_plan_df = fill_na(df=rep_vsql_plan_df)"
   ]
  },
  {
   "cell_type": "markdown",
   "metadata": {},
   "source": [
    "### Checking for Negative Values\n",
    "\n",
    "A function which retrieves a count per column for nay negative values it might contain"
   ]
  },
  {
   "cell_type": "code",
   "execution_count": 198,
   "metadata": {
    "scrolled": false
   },
   "outputs": [
    {
     "name": "stdout",
     "output_type": "stream",
     "text": [
      "---------------WITH NEGATIVE VALUES---------------\n",
      "Table REP_HIST_SNAPSHOT: [['IO_OFFLOAD_RETURN_BYTES_TOTAL', 6153], ['IO_OFFLOAD_RETURN_BYTES_DELTA', 162]]\n",
      "\n",
      "\n",
      "Table REP_HIST_SYSMETRIC_SUMMARY: []\n",
      "\n",
      "\n",
      "Table REP_HIST_SYSSTAT: []\n",
      "\n",
      "\n",
      "Table REP_VSQL_PLAN: []\n",
      "\n",
      "\n",
      "\n",
      "\n",
      "---------------WITHOUT NEGATIVE VALUES---------------\n",
      "Table REP_HIST_SNAPSHOT: []\n",
      "\n",
      "\n",
      "Table REP_HIST_SYSMETRIC_SUMMARY: []\n",
      "\n",
      "\n",
      "Table REP_HIST_SYSSTAT: []\n",
      "\n",
      "\n",
      "Table REP_VSQL_PLAN: []\n",
      "\n",
      "\n"
     ]
    }
   ],
   "source": [
    "def count_neg_df(df, headers):\n",
    "    \"\"\"\n",
    "    Return columns with respective negative value count\n",
    "    \"\"\"\n",
    "    neg_list = []\n",
    "    for head in headers:\n",
    "        count = 0\n",
    "        try:\n",
    "            count = sum(n < 0 for n in df[head].values.flatten())\n",
    "        except Exception:\n",
    "            pass\n",
    "            #print('Non numeric column [' + head + ']')\n",
    "        if count > 0:\n",
    "            neg_list.append([head,count])\n",
    "    return neg_list\n",
    "#\n",
    "def fill_neg(df, headers):\n",
    "    \"\"\"\n",
    "    Sets any data anomilies resulting in negative values to 0\n",
    "    \n",
    "    :param headers: list as follows eg: ['column_name', 'negative_count']\n",
    "    \"\"\"\n",
    "    for head in headers:\n",
    "        try:\n",
    "            df[df[head[0]] < 0] = 0\n",
    "        except Exception:\n",
    "            pass\n",
    "            #print('Non numeric column [' + head + ']')\n",
    "    return df\n",
    "#\n",
    "# Check For Negative Values within dataframes\n",
    "print('---------------WITH NEGATIVE VALUES---------------')\n",
    "print(\"Table REP_HIST_SNAPSHOT: \" + str(count_neg_df(df=rep_hist_snapshot_df,headers=rep_hist_snapshot_headers)) + \"\\n\\n\")\n",
    "print(\"Table REP_HIST_SYSMETRIC_SUMMARY: \" + str(count_neg_df(df=rep_hist_sysmetric_summary_df,headers=rep_hist_sysmetric_summary_headers)) + \"\\n\\n\")\n",
    "print(\"Table REP_HIST_SYSSTAT: \" + str(count_neg_df(df=rep_hist_sysstat_df,headers=rep_hist_sysstat_headers)) + \"\\n\\n\")\n",
    "print(\"Table REP_VSQL_PLAN: \" + str(count_neg_df(df=rep_vsql_plan_df,headers=rep_vsql_plan_headers)) + \"\\n\\n\")\n",
    "#\n",
    "# Replace Negative Values with a minimal threshold of 0\n",
    "rep_hist_snapshot_df = fill_neg(df=rep_hist_snapshot_df,headers=count_neg_df(df=rep_hist_snapshot_df,headers=rep_hist_snapshot_headers))\n",
    "rep_hist_sysmetric_summary_df = fill_neg(df=rep_hist_sysmetric_summary_df,headers=count_neg_df(df=rep_hist_sysmetric_summary_df,headers=rep_hist_sysmetric_summary_headers))\n",
    "rep_hist_sysstat_df = fill_neg(df=rep_hist_sysstat_df,headers=count_neg_df(df=rep_hist_sysstat_df,headers=rep_hist_sysstat_headers))\n",
    "rep_vsql_plan_df = fill_neg(df=rep_vsql_plan_df,headers=count_neg_df(df=rep_vsql_plan_df,headers=rep_vsql_plan_headers))\n",
    "#\n",
    "# Check For Negative Values within dataframes\n",
    "print('\\n\\n---------------WITHOUT NEGATIVE VALUES---------------')\n",
    "print(\"Table REP_HIST_SNAPSHOT: \" + str(count_neg_df(df=rep_hist_snapshot_df,headers=rep_hist_snapshot_headers)) + \"\\n\\n\")\n",
    "print(\"Table REP_HIST_SYSMETRIC_SUMMARY: \" + str(count_neg_df(df=rep_hist_sysmetric_summary_df,headers=rep_hist_sysmetric_summary_headers)) + \"\\n\\n\")\n",
    "print(\"Table REP_HIST_SYSSTAT: \" + str(count_neg_df(df=rep_hist_sysstat_df,headers=rep_hist_sysstat_headers)) + \"\\n\\n\")\n",
    "print(\"Table REP_VSQL_PLAN: \" + str(count_neg_df(df=rep_vsql_plan_df,headers=rep_vsql_plan_headers)) + \"\\n\\n\")"
   ]
  },
  {
   "cell_type": "markdown",
   "metadata": {},
   "source": [
    "### Feature Selection\n",
    "\n",
    "In this step, redundant features are dropped. Features are considered redundant if exhibit a standard devaition of 0 (meaning no change in value)."
   ]
  },
  {
   "cell_type": "code",
   "execution_count": 199,
   "metadata": {},
   "outputs": [
    {
     "name": "stdout",
     "output_type": "stream",
     "text": [
      "\n",
      "Shape before changes: [(329200, 90)]\n",
      "Shape after changes: [(329200, 77)]\n",
      "Dropped a total [13]\n",
      "\n",
      "Shape before changes: [(4018, 162)]\n",
      "Shape after changes: [(4018, 140)]\n",
      "Dropped a total [22]\n",
      "\n",
      "Shape before changes: [(4019, 1179)]\n",
      "Shape after changes: [(4019, 321)]\n",
      "Dropped a total [858]\n",
      "\n",
      "Shape before changes: [(61384, 39)]\n",
      "Shape after changes: [(61384, 31)]\n",
      "Dropped a total [8]\n"
     ]
    }
   ],
   "source": [
    "def drop_flatline_columns(df):\n",
    "    columns = df.columns\n",
    "    flatline_features = []\n",
    "    for i in range(len(columns)):\n",
    "        try:\n",
    "            std = df[columns[i]].std()\n",
    "            if std == 0:\n",
    "                flatline_features.append(columns[i])\n",
    "        except:\n",
    "            pass\n",
    "    #\n",
    "    #print('Features which are considered flatline:\\n')\n",
    "    #for col in flatline_features:\n",
    "    #    print(col)\n",
    "    print('\\nShape before changes: [' + str(df.shape) + ']')\n",
    "    df = df.drop(columns=flatline_features)\n",
    "    print('Shape after changes: [' + str(df.shape) + ']')\n",
    "    print('Dropped a total [' + str(len(flatline_features)) + ']')\n",
    "    return df\n",
    "#\n",
    "rep_hist_snapshot_df = drop_flatline_columns(df=rep_hist_snapshot_df)\n",
    "rep_hist_sysmetric_summary_df = drop_flatline_columns(df=rep_hist_sysmetric_summary_df)\n",
    "rep_hist_sysstat_df = drop_flatline_columns(df=rep_hist_sysstat_df)\n",
    "rep_vsql_plan_df = drop_flatline_columns(df=rep_vsql_plan_df)\n",
    "#\n",
    "rep_hist_snapshot_headers = rep_hist_snapshot_df.columns\n",
    "rep_hist_sysmetric_summary_headers = rep_hist_sysmetric_summary_df.columns\n",
    "rep_hist_sysstat_headers = rep_hist_sysstat_df.columns\n",
    "rep_vsql_plan_headers = rep_vsql_plan_df.columns"
   ]
  },
  {
   "cell_type": "markdown",
   "metadata": {},
   "source": [
    "## Visualizing Feature Distribution & Skewness\n",
    "\n",
    "In order to decide between a normalization strategy, it is important to understand the underlying data spread. Understanding of dataset mean, variance, skewness on a per column/feature basis helps determine whether a standardization or normalization strategy should be utilized on the datasets.\n",
    "\n",
    "### Plotting Data Distribution\n",
    "\n",
    "To better decide which normalization technique ought to be utilized for the technique at hand, a number of feature columns will be plotted as histograms to better convey the distribution spread."
   ]
  },
  {
   "cell_type": "code",
   "execution_count": 200,
   "metadata": {
    "scrolled": true
   },
   "outputs": [],
   "source": [
    "def plot_hist(df=None, tpc_type=None, table=None, feature_column=None, bin_size=10):\n",
    "    \"\"\"\n",
    "    Plots histogram distribution\n",
    "    \"\"\"\n",
    "    #\n",
    "    try:\n",
    "        df['SNAP_ID'] = df['SNAP_ID'].astype(float)\n",
    "        df[feature_column] = df[feature_column].astype(float)\n",
    "        #\n",
    "        max_val = df[feature_column].max()\n",
    "        start_snap, end_snap = int(df['SNAP_ID'].min()), int(df['SNAP_ID'].max())\n",
    "        #\n",
    "        df[feature_column].hist(bins=10,figsize=(12,8))\n",
    "        plt.ylabel(feature_column)\n",
    "        plt.xlabel('Bin Ranges Of ' + str(int(max_val/bin_size)))\n",
    "        plt.title(tpc_type + ' Table ' + table.upper() + '.' + str(feature_column) + \" between \" + str(start_snap) + \" - \" + str(end_snap))\n",
    "        plt.show()\n",
    "    except Exception:\n",
    "        print('Could not plot column: ' + feature_column)\n",
    "#\n",
    "def plot_scatter(df=None, tpc_type=None, table=None, feature_column=None):\n",
    "    \"\"\"\n",
    "    Plots scatter plots vs SNAP_ID\n",
    "    \"\"\"\n",
    "    #\n",
    "    try:\n",
    "        df['SNAP_ID'] = df['SNAP_ID'].astype(int)\n",
    "        df[feature_column] = df[feature_column].astype(int)\n",
    "        start_snap, end_snap = int(df['SNAP_ID'].min()), int(df['SNAP_ID'].max())\n",
    "        #\n",
    "        df.plot.scatter(x='SNAP_ID',\n",
    "                        y=feature_column,\n",
    "                        figsize=(12,8))\n",
    "        plt.ylabel(feature_column)\n",
    "        plt.xlabel('SNAP ID')\n",
    "        plt.title(tpc_type + ' Table ' + table.upper() + '.' + str(feature_column) + \" between \" + str(start_snap) + \" - \" + str(end_snap))\n",
    "        plt.show()\n",
    "    except Exception:\n",
    "        print('Could not plot column: ' + feature_column)\n",
    "#\n",
    "def plot_boxplot(df=None, tpc_type=None, table=None, feature_columns=None):\n",
    "    \"\"\"\n",
    "    Plots quartile plots to estimate mean and sigma (std dev)\n",
    "    \"\"\"\n",
    "    #\n",
    "    try:\n",
    "        for feature_column in feature_columns:\n",
    "            df[feature_column] = df[feature_column].astype(int)\n",
    "        df.boxplot(column=feature_columns, figsize=(12,8), grid=True)\n",
    "        plt.title(tpc_type + ' ' + str(feature_columns))\n",
    "        plt.show()\n",
    "    except Exception:\n",
    "        print('Could not plot column: ' + feature_column)\n",
    "#\n",
    "if debug_mode is False:\n",
    "    #\n",
    "    # Plotting Histograms of data distribution\n",
    "    for header in rep_hist_snapshot_headers:\n",
    "        print('REP_HIST_SNAPSHOT - ' + header + ' - OUTLIERS HISTOGRAM')\n",
    "        plot_hist(df=rep_hist_snapshot_df, tpc_type=tpcds, table='rep_hist_snapshot', feature_column=header, bin_size=10)\n",
    "    for header in rep_hist_sysmetric_summary_headers:\n",
    "        print('REP_HIST_SYSMETRIC_SUMMARY - ' + header + ' - OUTLIERS HISTOGRAM')\n",
    "        plot_hist(df=rep_hist_sysmetric_summary_df, tpc_type=tpcds, table='rep_hist_sysmetric_summary', feature_column=header, bin_size=10)\n",
    "    for header in rep_hist_sysstat_headers:\n",
    "        print('REP_HIST_SYSSTAT - ' + header + ' - OUTLIERS HISTOGRAM')\n",
    "        plot_hist(df=rep_hist_sysstat_df, tpc_type=tpcds, table='rep_hist_sysstat', feature_column=header, bin_size=10)\n",
    "    #\n",
    "    # Plotting Scatter Plots of data distribution\n",
    "    for header in rep_hist_snapshot_headers:\n",
    "        print('REP_HIST_SNAPSHOT - ' + header + ' - OUTLIERS SCATTER')\n",
    "        plot_scatter(df=rep_hist_snapshot_df, tpc_type=tpcds,table='rep_hist_snapshot',feature_column=header)\n",
    "    for header in rep_hist_sysmetric_summary_headers:\n",
    "        print('REP_HIST_SYSMETRIC_SUMMARY - ' + header + ' - OUTLIERS SCATTER')\n",
    "        plot_scatter(df=rep_hist_sysmetric_summary_df, tpc_type=tpcds,table='rep_hist_sysmetric_summary',feature_column=header)\n",
    "    for header in rep_hist_sysstat_headers:\n",
    "        print('REP_HIST_SYSSTAT - ' + header + ' - OUTLIERS SCATTER')\n",
    "        plot_scatter(df=rep_hist_sysstat_df, tpc_type=tpcds,table='rep_hist_sysstat',feature_column=header)\n",
    "    #\n",
    "    # Plotting Box Plots of data distribution\n",
    "    whisker_boxes_per_plot = 3\n",
    "    for i in range(whisker_boxes_per_plot, len(rep_hist_snapshot_headers), whisker_boxes_per_plot):\n",
    "        print('REP_HIST_SNAPSHOT - ' + header + ' - OUTLIERS WHISKER')\n",
    "        plot_boxplot(df=rep_hist_snapshot_df, tpc_type=tpcds,table='rep_hist_snapshot',feature_columns=rep_hist_snapshot_headers[i-whisker_boxes_per_plot:i])"
   ]
  },
  {
   "cell_type": "markdown",
   "metadata": {},
   "source": [
    "### Outlier Handling\n",
    "\n",
    "https://machinelearningmastery.com/how-to-identify-outliers-in-your-data/\n",
    "\n",
    "As can be appreciated from the previous plots, data is heavily skewed on particular (smallest) bins. This skew in the plotted histograms is a result of data point outliers - these need to be evaluated and removed if neccessary.\n",
    "\n",
    "Following the 3 Standard Deviation Rule, we can categorize our dataset into subsets consisting of the following ranges:\n",
    "* 0     - 68.27%\n",
    "* 68.28 - 95.45%\n",
    "* 95.46 - 99.73%\n",
    "* 99.74 - 100%\n",
    "\n",
    "It should be mentioned, that given the time series nature of the dataset, it is not a safe assumption to ignore outliers. By training respective models on outlier insensitive dataset, we would invite a potential problem, which risks blinding any models we train to future predicted spikes of activity."
   ]
  },
  {
   "cell_type": "code",
   "execution_count": 201,
   "metadata": {
    "scrolled": true
   },
   "outputs": [
    {
     "name": "stdout",
     "output_type": "stream",
     "text": [
      "could not convert string to float: \n",
      "'CLWAIT_TOTAL'\n",
      "'CLWAIT_DELTA'\n",
      "'JAVEXEC_TIME_TOTAL'\n",
      "'JAVEXEC_TIME_DELTA'\n",
      "'IO_OFFLOAD_ELIG_BYTES_TOTAL'\n",
      "'IO_OFFLOAD_ELIG_BYTES_DELTA'\n",
      "'OPTIMIZED_PHYSICAL_READS_TOTAL'\n",
      "'OPTIMIZED_PHYSICAL_READS_DELTA'\n",
      "'CELL_UNCOMPRESSED_BYTES_TOTAL'\n",
      "'CELL_UNCOMPRESSED_BYTES_DELTA'\n",
      "\n",
      "\n",
      "DATAFRAMES WITH OUTLIERS\n",
      "(329200, 77)\n",
      "(4018, 140)\n",
      "(4019, 321)\n",
      "(61384, 31)\n",
      "----------------------------\n",
      "could not convert string to float: \n",
      "'CLWAIT_TOTAL'\n",
      "'CLWAIT_DELTA'\n",
      "'JAVEXEC_TIME_TOTAL'\n",
      "'JAVEXEC_TIME_DELTA'\n",
      "'IO_OFFLOAD_ELIG_BYTES_TOTAL'\n",
      "'IO_OFFLOAD_ELIG_BYTES_DELTA'\n",
      "'OPTIMIZED_PHYSICAL_READS_TOTAL'\n",
      "'OPTIMIZED_PHYSICAL_READS_DELTA'\n",
      "'CELL_UNCOMPRESSED_BYTES_TOTAL'\n",
      "'CELL_UNCOMPRESSED_BYTES_DELTA'\n",
      "'FULL_PLAN_HASH_VALUE'\n",
      "'CHILD_NUMBER'\n",
      "'CON_ID'\n",
      "\n",
      "\n",
      "OUTLIERS\n",
      "0\n",
      "0\n",
      "0\n",
      "0\n",
      "----------------------------\n",
      "could not convert string to float: \n",
      "'CLWAIT_TOTAL'\n",
      "'CLWAIT_DELTA'\n",
      "'JAVEXEC_TIME_TOTAL'\n",
      "'JAVEXEC_TIME_DELTA'\n",
      "'IO_OFFLOAD_ELIG_BYTES_TOTAL'\n",
      "'IO_OFFLOAD_ELIG_BYTES_DELTA'\n",
      "'OPTIMIZED_PHYSICAL_READS_TOTAL'\n",
      "'OPTIMIZED_PHYSICAL_READS_DELTA'\n",
      "'CELL_UNCOMPRESSED_BYTES_TOTAL'\n",
      "'CELL_UNCOMPRESSED_BYTES_DELTA'\n",
      "'FULL_PLAN_HASH_VALUE'\n",
      "'CHILD_NUMBER'\n",
      "'CON_ID'\n",
      "\n",
      "\n",
      "DATAFRAMES WITHOUT OUTLIERS\n",
      "(329200, 77)\n",
      "(4018, 140)\n",
      "(4019, 321)\n",
      "(61384, 31)\n",
      "\n",
      "\n",
      "First 20 record sample before outliers:\n",
      "0     3un99a0zwp4vd\n",
      "1     gngtvs38t0060\n",
      "2     a6ygk0r9s5xuj\n",
      "3     g9pu3v9m3q9zm\n",
      "4     frjd8zfy2jfdq\n",
      "5     8swypbbr0m372\n",
      "6     0gx3b09qrx9f5\n",
      "7     616m6uhpa2usu\n",
      "8     bnznj24yxuzah\n",
      "9     bkq9pjcfvm9vn\n",
      "10    1p5grz1gs7fjq\n",
      "11    04kug40zbu4dm\n",
      "12    4b4wp0a8dvkf0\n",
      "13    cvn54b7yz0s8u\n",
      "14    gac15vmmrzgbv\n",
      "15    dcstr36r0vz0d\n",
      "16    6wm3n4d7bnddg\n",
      "17    7tchj0bmt6tn1\n",
      "18    7b15swu87j163\n",
      "19    3s5fm38sg5mfm\n",
      "Name: SQL_ID, dtype: object\n",
      "---------------------------------------\n",
      "First 20 record sample after outliers:\n",
      "0     3un99a0zwp4vd\n",
      "1     gngtvs38t0060\n",
      "2     a6ygk0r9s5xuj\n",
      "3     g9pu3v9m3q9zm\n",
      "4     frjd8zfy2jfdq\n",
      "5     8swypbbr0m372\n",
      "6     0gx3b09qrx9f5\n",
      "7     616m6uhpa2usu\n",
      "8     bnznj24yxuzah\n",
      "9     bkq9pjcfvm9vn\n",
      "10    1p5grz1gs7fjq\n",
      "11    04kug40zbu4dm\n",
      "12    4b4wp0a8dvkf0\n",
      "13    cvn54b7yz0s8u\n",
      "14    gac15vmmrzgbv\n",
      "15    dcstr36r0vz0d\n",
      "16    6wm3n4d7bnddg\n",
      "17    7tchj0bmt6tn1\n",
      "18    7b15swu87j163\n",
      "19    3s5fm38sg5mfm\n",
      "Name: SQL_ID, dtype: object\n",
      "---------------------------------------\n"
     ]
    }
   ],
   "source": [
    "def get_outliers(df=None, low_quartile_limit=.01, upper_quartile_limit=.99, headers=None):\n",
    "    \"\"\"\n",
    "    Detect and return which rows are considered outliers within the dataset, determined by :quartile_limit (99%)\n",
    "    \"\"\"\n",
    "    outlier_rows = [] # This list of lists consists of elements of the following notation [column,rowid]\n",
    "    for header in headers:\n",
    "        try:\n",
    "            df[header] = df[header].astype(float)\n",
    "            q = df[header].quantile(upper_quartile_limit)\n",
    "            series_row = (df[df[header] > q].index)\n",
    "            for id in list(np.array(series_row)):\n",
    "                outlier_rows.append([header,id])\n",
    "            q = df[header].quantile(low_quartile_limit)\n",
    "            series_row = (df[df[header] < q].index)\n",
    "            for id in list(np.array(series_row)):\n",
    "                outlier_rows.append([header,id])\n",
    "        except Exception as e:\n",
    "            print(str(e))\n",
    "    #\n",
    "    unique_ids = []\n",
    "    unique_outlier_rows = []\n",
    "    #\n",
    "    for col, rowid in outlier_rows:\n",
    "        if rowid not in unique_ids:\n",
    "            unique_outlier_rows.append([col,rowid])\n",
    "            unique_ids.append(rowid)\n",
    "    return unique_outlier_rows\n",
    "#\n",
    "def remove_outliers(df=None, low_quartile_limit=.01, upper_quartile_limit=.99, headers=None):\n",
    "    \"\"\"\n",
    "    Remove rows which are considered outliers within the dataset, determined by :quartile_limit (99%)\n",
    "    \"\"\"\n",
    "    length_before = len(df)\n",
    "    outliers_index = []\n",
    "    for header in headers:\n",
    "        try:\n",
    "            df[header] = df[header].astype(float)\n",
    "            q = df[header].quantile(upper_quartile_limit)\n",
    "            outliers_index.append(list(np.array(df[df[header] > q].index)))\n",
    "            q = df[header].quantile(low_quartile_limit)\n",
    "            outliers_index.append(list(np.array(df[df[header] < q].index)))\n",
    "        except Exception as e:\n",
    "            print(str(e))\n",
    "    #flat_outliers_index = [item for sublist in l for item in outliers_index]\n",
    "    flat_outliers_index = [item for sublist in outliers_index for item in sublist]\n",
    "    outliers_index = list(set(flat_outliers_index))\n",
    "    df = df.drop(outliers_index)\n",
    "    return df\n",
    "#\n",
    "# Defining which columns will be exposed to outliers\n",
    "# rep_hist_snapshot_header_outliers = rep_hist_snapshot_headers\n",
    "rep_hist_snapshot_header_outliers = ['PLAN_HASH_VALUE',\n",
    "                                    'OPTIMIZER_COST',\n",
    "                                    'OPTIMIZER_ENV_HASH_VALUE',\n",
    "                                    'SHARABLE_MEM',\n",
    "                                    'LOADED_VERSIONS',\n",
    "                                    'VERSION_COUNT',\n",
    "                                    'FORCE_MATCHING_SIGNATURE',\n",
    "                                    'PARSING_SCHEMA_ID',\n",
    "                                    'PARSING_USER_ID',\n",
    "                                    'FETCHES_TOTAL',\n",
    "                                    'FETCHES_DELTA',\n",
    "                                    'END_OF_FETCH_COUNT_TOTAL',\n",
    "                                    'END_OF_FETCH_COUNT_DELTA',\n",
    "                                    'SORTS_TOTAL',\n",
    "                                    'SORTS_DELTA',\n",
    "                                    'EXECUTIONS_TOTAL',\n",
    "                                    'EXECUTIONS_DELTA',\n",
    "                                    'PX_SERVERS_EXECS_TOTAL',\n",
    "                                    'PX_SERVERS_EXECS_DELTA',\n",
    "                                    'LOADS_TOTAL',\n",
    "                                    'LOADS_DELTA',\n",
    "                                    'INVALIDATIONS_TOTAL',\n",
    "                                    'INVALIDATIONS_DELTA',\n",
    "                                    'PARSE_CALLS_TOTAL',\n",
    "                                    'PARSE_CALLS_DELTA',\n",
    "                                    'DISK_READS_TOTAL',\n",
    "                                    'DISK_READS_DELTA',\n",
    "                                    'BUFFER_GETS_TOTAL',\n",
    "                                    'BUFFER_GETS_DELTA',\n",
    "                                    'ROWS_PROCESSED_TOTAL',\n",
    "                                    'ROWS_PROCESSED_DELTA',\n",
    "                                    'CPU_TIME_TOTAL',\n",
    "                                    'CPU_TIME_DELTA',\n",
    "                                    'ELAPSED_TIME_TOTAL',\n",
    "                                    'ELAPSED_TIME_DELTA',\n",
    "                                    'IOWAIT_TOTAL',\n",
    "                                    'IOWAIT_DELTA',\n",
    "                                    'CLWAIT_TOTAL',\n",
    "                                    'CLWAIT_DELTA',\n",
    "                                    'APWAIT_TOTAL',\n",
    "                                    'APWAIT_DELTA',\n",
    "                                    'CCWAIT_TOTAL',\n",
    "                                    'CCWAIT_DELTA',\n",
    "                                    'DIRECT_WRITES_TOTAL',\n",
    "                                    'DIRECT_WRITES_DELTA',\n",
    "                                    'PLSEXEC_TIME_TOTAL',\n",
    "                                    'PLSEXEC_TIME_DELTA',\n",
    "                                    'JAVEXEC_TIME_TOTAL',\n",
    "                                    'JAVEXEC_TIME_DELTA',\n",
    "                                    'IO_OFFLOAD_ELIG_BYTES_TOTAL',\n",
    "                                    'IO_OFFLOAD_ELIG_BYTES_DELTA',\n",
    "                                    'IO_INTERCONNECT_BYTES_TOTAL',\n",
    "                                    'IO_INTERCONNECT_BYTES_DELTA',\n",
    "                                    'PHYSICAL_READ_REQUESTS_TOTAL',\n",
    "                                    'PHYSICAL_READ_REQUESTS_DELTA',\n",
    "                                    'PHYSICAL_READ_BYTES_TOTAL',\n",
    "                                    'PHYSICAL_READ_BYTES_DELTA',\n",
    "                                    'PHYSICAL_WRITE_REQUESTS_TOTAL',\n",
    "                                    'PHYSICAL_WRITE_REQUESTS_DELTA',\n",
    "                                    'PHYSICAL_WRITE_BYTES_TOTAL',\n",
    "                                    'PHYSICAL_WRITE_BYTES_DELTA',\n",
    "                                    'OPTIMIZED_PHYSICAL_READS_TOTAL',\n",
    "                                    'OPTIMIZED_PHYSICAL_READS_DELTA',\n",
    "                                    'CELL_UNCOMPRESSED_BYTES_TOTAL',\n",
    "                                    'CELL_UNCOMPRESSED_BYTES_DELTA',\n",
    "                                    'IO_OFFLOAD_RETURN_BYTES_TOTAL',\n",
    "                                    'IO_OFFLOAD_RETURN_BYTES_DELTA']\n",
    "rep_hist_sysmetric_summary_header_outliers = rep_hist_sysmetric_summary_headers\n",
    "rep_hist_sysstat_header_outliers = rep_hist_sysstat_headers\n",
    "#rep_vsql_plan_headers_outliers = rep_vsql_plan_headers\n",
    "rep_vsql_plan_headers_outliers = ['PLAN_HASH_VALUE',\n",
    "                                  'FULL_PLAN_HASH_VALUE',\n",
    "                                  'CHILD_NUMBER',\n",
    "                                  'PARENT_ID',\n",
    "                                  'DEPTH',\n",
    "                                  'POSITION',\n",
    "                                  'SEARCH_COLUMNS',\n",
    "                                  'COST',\n",
    "                                  'CARDINALITY',\n",
    "                                  'BYTES',\n",
    "                                  'PARTITION_ID',\n",
    "                                  'IO_COST',\n",
    "                                  'TEMP_SPACE',\n",
    "                                  'TIME',\n",
    "                                  'CON_ID']\n",
    "#\n",
    "#Printing outliers to screen\n",
    "outliers = get_outliers(df=rep_hist_snapshot_df,\n",
    "                           headers=rep_hist_snapshot_header_outliers,\n",
    "                           upper_quartile_limit=upper_quartile_limit,\n",
    "                           low_quartile_limit=low_quartile_limit)\n",
    "for header, loc in outliers:\n",
    "    print(str(loc+2) + \" - \" + str(rep_hist_snapshot_df.iloc[loc]['SQL_ID']) + \" - \" + str(header) + \" - \" + str(rep_hist_snapshot_df.iloc[loc][header]))\n",
    "#\n",
    "# Printing dataframe before adjustments\n",
    "print('\\n\\nDATAFRAMES WITH OUTLIERS')\n",
    "print(rep_hist_snapshot_df.shape)\n",
    "print(rep_hist_sysmetric_summary_df.shape)\n",
    "print(rep_hist_sysstat_df.shape)\n",
    "print(rep_vsql_plan_df.shape)\n",
    "print('----------------------------')\n",
    "#\n",
    "#Printing outliers to screen\n",
    "rep_hist_snapshot_df_outliers = get_outliers(df=rep_hist_snapshot_df, \n",
    "                                             headers=rep_hist_snapshot_header_outliers,\n",
    "                                             upper_quartile_limit=upper_quartile_limit,\n",
    "                                             low_quartile_limit=low_quartile_limit)\n",
    "rep_hist_sysmetric_summary_df_outliers = get_outliers(df=rep_hist_sysmetric_summary_df, headers=rep_hist_sysmetric_summary_header_outliers,upper_quartile_limit=upper_quartile_limit,low_quartile_limit=low_quartile_limit)\n",
    "rep_hist_sysstat_df_outliers = get_outliers(df=rep_hist_sysstat_df, headers=rep_hist_sysstat_header_outliers,upper_quartile_limit= upper_quartile_limit,low_quartile_limit=low_quartile_limit)\n",
    "rep_vsql_plan_df_outliers = get_outliers(df=rep_vsql_plan_df, headers=rep_vsql_plan_headers_outliers,upper_quartile_limit=upper_quartile_limit,low_quartile_limit=low_quartile_limit)\n",
    "print('\\n\\nOUTLIERS')\n",
    "print(len(rep_hist_snapshot_df_outliers))\n",
    "print(len(rep_hist_sysmetric_summary_df_outliers))\n",
    "print(len(rep_hist_sysstat_df_outliers))\n",
    "print(len(rep_vsql_plan_df_outliers))\n",
    "print('----------------------------')\n",
    "#\n",
    "# Dropping Outliers\n",
    "rep_hist_snapshot_df_pruned = remove_outliers(df=rep_hist_snapshot_df, headers=rep_hist_snapshot_header_outliers,upper_quartile_limit=upper_quartile_limit,low_quartile_limit=low_quartile_limit)\n",
    "rep_hist_sysmetric_summary_df_pruned = remove_outliers(df=rep_hist_sysmetric_summary_df, headers=rep_hist_sysmetric_summary_header_outliers,upper_quartile_limit=upper_quartile_limit,low_quartile_limit=low_quartile_limit)\n",
    "rep_hist_sysstat_df_pruned = remove_outliers(df=rep_hist_sysstat_df, headers=rep_hist_sysstat_header_outliers,upper_quartile_limit=upper_quartile_limit,low_quartile_limit=low_quartile_limit)\n",
    "rep_vsql_plan_df_pruned = remove_outliers(df=rep_vsql_plan_df, headers=rep_vsql_plan_headers_outliers,upper_quartile_limit=upper_quartile_limit,low_quartile_limit=low_quartile_limit)\n",
    "print('\\n\\nDATAFRAMES WITHOUT OUTLIERS')\n",
    "print(rep_hist_snapshot_df_pruned.shape)\n",
    "print(rep_hist_sysmetric_summary_df_pruned.shape)\n",
    "print(rep_hist_sysstat_df_pruned.shape)\n",
    "print(rep_vsql_plan_df_pruned.shape)\n",
    "#\n",
    "print('\\n\\nFirst 20 record sample before outliers:')\n",
    "print(rep_hist_snapshot_df.iloc[0:20]['SQL_ID'])\n",
    "print('---------------------------------------')\n",
    "print('First 20 record sample after outliers:')\n",
    "print(rep_hist_snapshot_df_pruned.iloc[0:20]['SQL_ID'])\n",
    "print('---------------------------------------')"
   ]
  },
  {
   "cell_type": "markdown",
   "metadata": {},
   "source": [
    "### Plotting data distribution without outliers\n",
    "\n",
    "Plotting metrics against SNAP_ID, without outliers."
   ]
  },
  {
   "cell_type": "code",
   "execution_count": 202,
   "metadata": {
    "scrolled": true
   },
   "outputs": [],
   "source": [
    "if debug_mode is False:\n",
    "    #\n",
    "    # Plotting Histograms without Outliers\n",
    "    for header in rep_hist_snapshot_header_outliers:\n",
    "        print('REP_HIST_SNAPSHOT - ' + header + ' - STRIPPED HISTOGRAM')\n",
    "        plot_hist(df=rep_hist_snapshot_df_pruned, tpc_type=tpcds, table='rep_hist_snapshot', feature_column=header, bin_size=10)\n",
    "    for header in rep_hist_sysmetric_summary_header_outliers:\n",
    "        print('REP_HIST_SYSMETRIC - ' + header + ' - STRIPPED HISTOGRAM')\n",
    "        plot_hist(df=rep_hist_sysmetric_summary_df_pruned, tpc_type=tpcds, table='rep_hist_sysmetric_summary', feature_column=header, bin_size=10)\n",
    "    for header in rep_hist_sysstat_header_outliers:\n",
    "        print('REP_HIST_SYSSTAT - ' + header + ' - STRIPPED HISTOGRAM')\n",
    "        plot_hist(df=rep_hist_sysstat_df_pruned, tpc_type=tpcds, table='rep_hist_sysstat', feature_column=header, bin_size=10)\n",
    "    #\n",
    "    # Plotting Scatter Plots without Outliers\n",
    "    for header in rep_hist_snapshot_header_outliers:\n",
    "        print('REP_HIST_SNAPSHOT - ' + header + ' - STRIPPED SCATTER')\n",
    "        plot_scatter(df=rep_hist_snapshot_df_pruned, tpc_type=tpcds,table='rep_hist_snapshot',feature_column=header)\n",
    "    for header in rep_hist_sysmetric_summary_header_outliers:\n",
    "        print('REP_HIST_SYSMETRIC - ' + header + ' - STRIPPED SCATTER')\n",
    "        plot_scatter(df=rep_hist_sysmetric_summary_df_pruned, tpc_type=tpcds,table='rep_hist_sysmetric_summary',feature_column=header)\n",
    "    for header in rep_hist_sysstat_header_outliers:\n",
    "        print('REP_HIST_SYSSTAT - ' + header + ' - STRIPPED SCATTER')\n",
    "        plot_scatter(df=rep_hist_sysstat_df_pruned, tpc_type=tpcds,table='rep_hist_sysstat',feature_column=header)\n",
    "    #\n",
    "    # Plotting Box Plots without Outliers\n",
    "    whisker_boxes_per_plot = 3\n",
    "    for i in range(whisker_boxes_per_plot, len(rep_hist_snapshot_header_outliers), whisker_boxes_per_plot):\n",
    "        print('REP_HIST_SNAPSHOT - ' + header + ' - STRIPPED WHISKER')\n",
    "        plot_boxplot(df=rep_hist_snapshot_df, tpc_type=tpcds,table='rep_hist_snapshot',feature_columns=rep_hist_snapshot_headers[i-whisker_boxes_per_plot:i])"
   ]
  },
  {
   "cell_type": "markdown",
   "metadata": {},
   "source": [
    "### Dropping Redundant Columns\n",
    "\n",
    "Dropping redundant columns which are not detrimental to the task at hand (NB: This is only the first steps towards feature selection. This step ensures that specific columns which are SURELY not useful are dropped ahead of time)."
   ]
  },
  {
   "cell_type": "markdown",
   "metadata": {
    "scrolled": true
   },
   "source": [
    "http://benalexkeen.com/feature-scaling-with-scikit-learn/\n",
    "\n",
    "Based on the above plots, one can argue that the data distribution is uneven, and does not correlate to any particular pattern. A normalization approach (MinMaxScaling and/or RobustScaling) to the presented dataset is a more likely candidate than standardizing of the presented dataset. \n",
    "\n",
    "Reasons behind normalizing the dataset rather than standardizing, is due to the vast standard deviations from the mean for several feature columns."
   ]
  },
  {
   "cell_type": "code",
   "execution_count": 203,
   "metadata": {},
   "outputs": [
    {
     "name": "stdout",
     "output_type": "stream",
     "text": [
      "Before: (329200, 77)| After: (329200, 51)\n",
      "Before: (4018, 140)| After: (4018, 140)\n",
      "Before: (4019, 321)| After: (4019, 321)\n",
      "Before: (61384, 31)| After: (61384, 12)\n"
     ]
    }
   ],
   "source": [
    "retain_headers_rep_hist_snapshot = ['SNAP_ID',\n",
    "                                    'OPTIMIZER_COST',\n",
    "                                    'SHARABLE_MEM',\n",
    "                                    'FETCHES_TOTAL',\n",
    "                                    'FETCHES_DELTA',\n",
    "                                    'END_OF_FETCH_COUNT_TOTAL',\n",
    "                                    'END_OF_FETCH_COUNT_DELTA',\n",
    "                                    'SORTS_TOTAL',\n",
    "                                    'SORTS_DELTA',\n",
    "                                    'EXECUTIONS_TOTAL',\n",
    "                                    'EXECUTIONS_DELTA',\n",
    "                                    'PX_SERVERS_EXECS_TOTAL',\n",
    "                                    'PX_SERVERS_EXECS_DELTA',\n",
    "                                    'LOADS_TOTAL',\n",
    "                                    'LOADS_DELTA',\n",
    "                                    'INVALIDATIONS_TOTAL',\n",
    "                                    'INVALIDATIONS_DELTA',\n",
    "                                    'PARSE_CALLS_TOTAL',\n",
    "                                    'PARSE_CALLS_DELTA',\n",
    "                                    'DISK_READS_TOTAL',\n",
    "                                    'DISK_READS_DELTA',\n",
    "                                    'BUFFER_GETS_TOTAL',\n",
    "                                    'BUFFER_GETS_DELTA',\n",
    "                                    'ROWS_PROCESSED_TOTAL',\n",
    "                                    'ROWS_PROCESSED_DELTA',\n",
    "                                    'CPU_TIME_TOTAL',\n",
    "                                    'CPU_TIME_DELTA',\n",
    "                                    'ELAPSED_TIME_TOTAL',\n",
    "                                    'ELAPSED_TIME_DELTA',\n",
    "                                    'IOWAIT_TOTAL',\n",
    "                                    'IOWAIT_DELTA',\n",
    "                                    'APWAIT_TOTAL',\n",
    "                                    'APWAIT_DELTA',\n",
    "                                    'CCWAIT_TOTAL',\n",
    "                                    'CCWAIT_DELTA',\n",
    "                                    'DIRECT_WRITES_TOTAL',\n",
    "                                    'DIRECT_WRITES_DELTA',\n",
    "                                    'PLSEXEC_TIME_TOTAL',\n",
    "                                    'PLSEXEC_TIME_DELTA',\n",
    "                                    'IO_INTERCONNECT_BYTES_TOTAL',\n",
    "                                    'IO_INTERCONNECT_BYTES_DELTA',\n",
    "                                    'PHYSICAL_READ_REQUESTS_TOTAL',\n",
    "                                    'PHYSICAL_READ_REQUESTS_DELTA',\n",
    "                                    'PHYSICAL_READ_BYTES_TOTAL',\n",
    "                                    'PHYSICAL_READ_BYTES_DELTA',\n",
    "                                    'PHYSICAL_WRITE_REQUESTS_TOTAL',\n",
    "                                    'PHYSICAL_WRITE_REQUESTS_DELTA',\n",
    "                                    'PHYSICAL_WRITE_BYTES_TOTAL',\n",
    "                                    'PHYSICAL_WRITE_BYTES_DELTA',\n",
    "                                    'IO_OFFLOAD_RETURN_BYTES_TOTAL',\n",
    "                                    'IO_OFFLOAD_RETURN_BYTES_DELTA']\n",
    "\n",
    "retain_headers_rep_hist_sysmetric_summary = rep_hist_sysmetric_summary_headers\n",
    "retain_headers_rep_hist_sysstat = rep_hist_sysstat_headers\n",
    "#rep_vsql_plan_headers_outliers = rep_vsql_plan_headers\n",
    "retain_headers_rep_vsql_plan = [  'PLAN_HASH_VALUE',\n",
    "                                  'PARENT_ID',\n",
    "                                  'DEPTH',\n",
    "                                  'POSITION',\n",
    "                                  'SEARCH_COLUMNS',\n",
    "                                  'COST',\n",
    "                                  'CARDINALITY',\n",
    "                                  'BYTES',\n",
    "                                  'PARTITION_ID',\n",
    "                                  'IO_COST',\n",
    "                                  'TEMP_SPACE',\n",
    "                                  'TIME']\n",
    "#\n",
    "def retain_these_columns(dataframe, headers):\n",
    "    \"\"\"\n",
    "    Drops all columns from dataframe except those passed in the header\n",
    "    \"\"\"\n",
    "    dataframe.reset_index(inplace=True)\n",
    "    return dataframe[headers]\n",
    "#\n",
    "shape = rep_hist_snapshot_df_pruned.shape\n",
    "rep_hist_snapshot_df_pruned = retain_these_columns(dataframe=rep_hist_snapshot_df_pruned,headers=retain_headers_rep_hist_snapshot)\n",
    "print('Before: ' + str(shape) + '| After: ' + str(rep_hist_snapshot_df_pruned.shape))\n",
    "#\n",
    "shape = rep_hist_sysmetric_summary_df_pruned.shape\n",
    "rep_hist_sysmetric_summary_df_pruned = retain_these_columns(dataframe=rep_hist_sysmetric_summary_df_pruned,headers=retain_headers_rep_hist_sysmetric_summary)\n",
    "print('Before: ' + str(shape) + '| After: ' + str(rep_hist_sysmetric_summary_df_pruned.shape))\n",
    "#\n",
    "shape = rep_hist_sysstat_df_pruned.shape\n",
    "rep_hist_sysstat_df_pruned = retain_these_columns(dataframe=rep_hist_sysstat_df_pruned, headers=retain_headers_rep_hist_sysstat)\n",
    "print('Before: ' + str(shape) + '| After: ' + str(rep_hist_sysstat_df_pruned.shape))\n",
    "#\n",
    "shape = rep_vsql_plan_df_pruned.shape\n",
    "rep_vsql_plan_df_pruned = retain_these_columns(dataframe=rep_vsql_plan_df_pruned, headers=retain_headers_rep_vsql_plan)\n",
    "print('Before: ' + str(shape) + '| After: ' + str(rep_vsql_plan_df_pruned.shape))"
   ]
  },
  {
   "cell_type": "markdown",
   "metadata": {},
   "source": [
    "### Dataset Consolidation\n",
    "\n",
    "Grouping datasets on SNAP_ID"
   ]
  },
  {
   "cell_type": "code",
   "execution_count": 204,
   "metadata": {},
   "outputs": [
    {
     "name": "stdout",
     "output_type": "stream",
     "text": [
      "REP_HIST_SNAPSHOT shape after transformation: (4014, 51)\n",
      "REP_HIST_SYSMETRIC_SUMMARY shape after transformation: (4018, 140)\n",
      "REP_HIST_SYSSTAT shape after transformation: (4019, 321)\n"
     ]
    }
   ],
   "source": [
    "#\n",
    "rep_hist_snapshot_df_pruned = rep_hist_snapshot_df_pruned[rep_hist_snapshot_df_pruned['SNAP_ID'] > 0]\n",
    "rep_hist_sysmetric_summary_df_pruned = rep_hist_sysmetric_summary_df_pruned[rep_hist_sysmetric_summary_df_pruned['SNAP_ID'] > 0]\n",
    "rep_hist_sysstat_df_pruned = rep_hist_sysstat_df_pruned[rep_hist_sysstat_df_pruned['SNAP_ID'] > 0]\n",
    "#\n",
    "# Group By Values by SNAP_ID , sum all metrics (for table REP_HIST_SNAPSHOT)\n",
    "rep_hist_snapshot_df_pruned = rep_hist_snapshot_df_pruned.groupby(['SNAP_ID']).sum()\n",
    "rep_hist_snapshot_df_pruned.reset_index(inplace=True)\n",
    "rep_hist_sysmetric_summary_df_pruned = rep_hist_sysmetric_summary_df_pruned.groupby(['SNAP_ID']).sum()\n",
    "rep_hist_sysmetric_summary_df_pruned.reset_index(inplace=True)\n",
    "rep_hist_sysstat_df_pruned = rep_hist_sysstat_df_pruned.groupby(['SNAP_ID']).sum()\n",
    "rep_hist_sysstat_df_pruned.reset_index(inplace=True)\n",
    "#\n",
    "print(\"REP_HIST_SNAPSHOT shape after transformation: \" + str(rep_hist_snapshot_df_pruned.shape))\n",
    "print(\"REP_HIST_SYSMETRIC_SUMMARY shape after transformation: \" + str(rep_hist_sysmetric_summary_df_pruned.shape))\n",
    "print(\"REP_HIST_SYSSTAT shape after transformation: \" + str(rep_hist_sysstat_df_pruned.shape))\n",
    "# #\n",
    "# # Remove SNAP_ID from header column names\n",
    "# retain_headers_rep_hist_snapshot = retain_headers_rep_hist_snapshot[1:]\n",
    "# retain_headers_rep_hist_sysmetric_summary = retain_headers_rep_hist_sysmetric_summary[1:]\n",
    "# retain_headers_rep_hist_sysstat = retain_headers_rep_hist_sysstat[1:]"
   ]
  },
  {
   "cell_type": "markdown",
   "metadata": {},
   "source": [
    "### Normalization\n",
    "\n",
    "Relavent Sources:\n",
    "\n",
    "* http://jmlr.csail.mit.edu/papers/volume3/guyon03a/guyon03a.pdf\n",
    "* https://machinelearningmastery.com/rescaling-data-for-machine-learning-in-python-with-scikit-learn/\n",
    "\n",
    "https://machinelearningmastery.com/normalize-standardize-time-series-data-python/ recommends a normalization preprocessing technique for data distribution that can closely approximate minimum and maximum observable values per column:\n",
    "\n",
    "<i>\"Normalization requires that you know or are able to accurately estimate the minimum and maximum observable values. You may be able to estimate these values from your available data. If your time series is trending up or down, estimating these expected values may be difficult and normalization may not be the best method to use on your problem.\"</i>\n",
    "\n",
    "Normalization formula is stated as follows: $$y=(x-min)/(max-min)$$\n",
    "\n",
    "### Standardization\n",
    "\n",
    "https://machinelearningmastery.com/normalize-standardize-time-series-data-python/ recommends a standardization preprocessing technique for data distributions that observe a Gaussian spread, with a mean of 0 and a standard deviation of 1 (approximately close to these values):\n",
    "\n",
    "<i>\"Standardization assumes that your observations fit a Gaussian distribution (bell curve) with a well behaved mean and standard deviation. You can still standardize your time series data if this expectation is not met, but you may not get reliable results.\"</i>\n",
    "\n",
    "Standardization formula is stated as follows: $$y=(x-mean)/StandardDeviation$$\n",
    "Mean defined as: $$mean=sum(x)/count(x)$$\n",
    "Standard Deviation defined as: $$StandardDeviation=sqrt(sum((x-mean)^2)/count(x))$$"
   ]
  },
  {
   "cell_type": "code",
   "execution_count": 205,
   "metadata": {
    "scrolled": true
   },
   "outputs": [
    {
     "name": "stdout",
     "output_type": "stream",
     "text": [
      "------------------BEFORE------------------\n",
      "------------------REP_HIST_SNAPSHOT------------------\n",
      "(4014, 51)\n",
      "------------------REP_HIST_SYSMETRIC_SUMMARY------------------\n",
      "(4018, 140)\n",
      "------------------REP_HIST_SYSSTAT------------------\n",
      "(4019, 321)\n",
      "------------------REP_VSQL_PLAN------------------\n",
      "(61384, 12)\n",
      "\n",
      "\n",
      "\n",
      "\n",
      "------------------AFTER------------------\n",
      "------------------REP_HIST_SNAPSHOT------------------\n",
      "(4014, 51)\n",
      "------------------REP_HIST_SYSMETRIC_SUMMARY------------------\n",
      "(4018, 140)\n",
      "------------------REP_HIST_SYSSTAT------------------\n",
      "(4019, 321)\n",
      "------------------REP_VSQL_PLAN------------------\n",
      "(61384, 12)\n",
      "\n",
      "\n",
      "\n",
      "REP_HIST_SNAPSHOT\n",
      "[2.42648903e-07 9.00476536e-07 1.58691624e-03 1.97401802e-04\n",
      " 1.71207407e-06 3.30582733e-05 7.15337576e-07 5.70301806e-06\n",
      " 3.92728325e-07 3.82457521e-05 8.03601498e-07 2.75965714e-07\n",
      " 2.75965714e-07 1.64431280e-07 7.07341541e-09 1.23015920e-09\n",
      " 0.00000000e+00 3.00751372e-05 6.48293899e-07 3.55970143e-05\n",
      " 2.12194261e-05 1.59584340e-03 1.83353384e-04 1.76909605e-04\n",
      " 2.69179336e-06 5.05086085e-02 1.04109823e-02 2.01042444e-01\n",
      " 8.39931995e-02 1.43901382e-01 7.21903113e-02 9.77463999e-07\n",
      " 7.10109399e-07 3.05680476e-03 1.48722290e-03 6.47883846e-07\n",
      " 7.81151093e-08 5.61158063e-03 2.34234819e-04 6.58189418e-01\n",
      " 1.79921366e-01 3.95051276e-05 3.70800737e-06 6.52765223e-01\n",
      " 1.79396498e-01 2.20301010e-07 8.61111441e-09 5.42419509e-03\n",
      " 5.24867926e-04 0.00000000e+00 0.00000000e+00]\n",
      "\n",
      "\n",
      "REP_HIST_SYSMETRIC_SUMMARY\n",
      "[1.95908362e-06 0.00000000e+00 1.65533047e-09 6.15339043e-09\n",
      " 3.99578710e-09 3.39059138e-09 0.00000000e+00 4.02694641e-11\n",
      " 0.00000000e+00 0.00000000e+00 7.98632202e-08 2.13842621e-07\n",
      " 1.68907533e-07 6.61801289e-10 5.22735939e-10 3.14355612e-09\n",
      " 2.48299571e-09 8.80373078e-01 3.07737599e-08 2.43072212e-08\n",
      " 2.38350630e-05 1.88265635e-05 6.78685494e-08 7.50637408e-09\n",
      " 8.85601804e-08 1.47343130e-07 4.20064581e-07 3.31795747e-07\n",
      " 1.98789726e-09 4.66873234e-07 3.68768424e-07 2.20941271e-09\n",
      " 0.00000000e+00 2.87630219e-08 6.15339043e-07 5.40035018e-08\n",
      " 0.00000000e+00 0.00000000e+00 1.68400853e-07 1.33014516e-07\n",
      " 2.48175483e-09 1.96025977e-09 7.30738923e-10 5.77187600e-10\n",
      " 4.59772752e-08 2.45790241e-07 1.94141950e-07 1.16316817e-09\n",
      " 0.00000000e+00 0.00000000e+00 1.41460026e-08 1.11734807e-08\n",
      " 1.36813629e-07 3.43062746e-09 1.39667647e-08 3.89580359e-07\n",
      " 9.37551826e-10 7.40542581e-10 7.32198950e-08 9.54662875e-09\n",
      " 2.43019362e-05 1.91953320e-05 1.15005536e-07 3.50478933e-08\n",
      " 2.76832241e-08 4.06732042e-08 3.21264796e-08 8.27665237e-08\n",
      " 8.32614959e-07 2.33340104e-07 1.84307980e-07 6.42891345e-08\n",
      " 0.00000000e+00 0.00000000e+00 3.17113118e-10 1.24087742e-10\n",
      " 9.80129886e-11 1.41302870e-02 3.74414079e-07 1.44046645e-02\n",
      " 3.91400312e-07 8.27251611e-11 6.53419924e-11 8.72419549e-07\n",
      " 6.89096652e-07 1.72488855e-06 1.36243499e-06 1.62192495e-04\n",
      " 1.01614073e-08 2.60887363e-04 2.04882649e-08 2.17806641e-11\n",
      " 2.75750537e-11 2.19221677e-09 1.73156280e-09 1.97988886e-08\n",
      " 1.56385168e-08 5.03496353e-08 3.17113118e-10 2.19879342e-06\n",
      " 1.73675749e-06 8.27665237e-08 8.27892456e-05 6.53926107e-05\n",
      " 9.30658063e-09 7.35097415e-09 4.86036878e-07 8.07549112e-08\n",
      " 2.01161256e-09 4.14438827e-06 2.14558397e-10 1.05941150e-07\n",
      " 1.10355365e-08 9.30134765e-09 7.20499092e-08 2.60360971e-03\n",
      " 1.54558176e-07 1.22080622e-07 4.73845102e-01 0.00000000e+00\n",
      " 1.09252363e-07 8.62949913e-08 3.44833329e-10 6.14510072e-08\n",
      " 4.85382100e-08 2.90808353e-10 2.47453021e-11 1.74894778e-07\n",
      " 1.38143862e-07 6.09828739e-09 9.92701934e-10 7.84103909e-08\n",
      " 1.58018781e-15 0.00000000e+00 0.00000000e+00 5.51501074e-11\n",
      " 4.35613283e-09 1.04785204e-09 1.30115428e-04 0.00000000e+00]\n",
      "\n",
      "\n",
      "REP_HIST_SYSSTAT\n",
      "[4.97330223e-11 2.25968237e-07 4.16816094e-10 0.00000000e+00\n",
      " 7.97867212e-07 3.73747759e-09 2.00743447e-08 4.83298177e-07\n",
      " 1.99273034e-07 8.14503780e-09 1.18258614e-07 2.74324157e-08\n",
      " 1.38162202e-08 2.03067053e-09 5.69860173e-10 6.30329813e-14\n",
      " 5.69860173e-10 5.69860173e-10 5.69860173e-10 2.01705540e-12\n",
      " 6.30329813e-14 4.43752188e-11 1.70516947e-07 1.59716750e-07\n",
      " 1.19958067e-09 7.16046263e-09 2.06019097e-09 3.93869530e-06\n",
      " 6.35984821e-06 2.72848765e-10 4.77159669e-11 7.16748031e-10\n",
      " 6.34293094e-06 8.49295885e-09 3.91587375e-07 3.35755680e-11\n",
      " 1.23303353e-07 1.17897733e-06 7.09769943e-07 2.04539923e-09\n",
      " 8.00518863e-12 8.00518863e-12 8.00518863e-12 1.84896745e-12\n",
      " 1.88048394e-11 3.90170898e-07 2.77511359e-03 2.94908838e-08\n",
      " 1.60734102e-11 2.63898082e-11 5.25778478e-08 6.03717288e-09\n",
      " 6.10897277e-04 5.25778478e-08 5.73268156e-09 7.34408757e-03\n",
      " 1.34226578e-06 4.02467687e-09 5.08770267e-07 1.33819019e-10\n",
      " 6.82199653e-09 3.78653826e-09 8.69123287e-07 7.29275281e-06\n",
      " 5.67296832e-13 3.72683342e-08 3.87388034e-07 3.87388034e-07\n",
      " 3.35755680e-11 9.55146918e-07 6.56173335e-11 9.55154482e-07\n",
      " 7.49075209e-06 7.14373788e-13 7.77406770e-13 7.77406770e-13\n",
      " 5.34033697e-08 3.65948479e-10 2.19207698e-10 2.19207698e-10\n",
      " 4.36924246e-08 2.54611223e-10 2.41473269e-05 3.45102609e-04\n",
      " 2.24668238e-03 8.60178838e-05 1.48869547e-06 7.46816149e-07\n",
      " 1.20970971e-06 2.33845423e-06 1.21536000e-01 7.60516032e-09\n",
      " 1.25603406e-07 1.93721363e-10 7.52655819e-10 2.33333809e-07\n",
      " 2.20819514e-07 5.35223550e-09 5.35223550e-09 1.59788608e-10\n",
      " 4.52807927e-10 6.92719858e-09 1.37643020e-10 1.40484950e-05\n",
      " 1.40408175e-05 5.35223550e-09 5.35223550e-09 1.01705123e-07\n",
      " 6.28835931e-09 3.31109940e-08 6.28060692e-05 3.73231643e-06\n",
      " 1.83960322e-05 1.83852472e-05 5.90737527e-05 4.06777206e-05\n",
      " 3.99032018e-05 8.15415657e-10 4.27993943e-11 4.52038924e-09\n",
      " 3.87612747e-05 6.17346814e-05 5.48761711e-07 6.11859196e-05\n",
      " 3.95199559e-05 1.33350091e-05 1.09367328e-07 1.21973651e-08\n",
      " 1.21989691e-06 1.22017829e-06 2.79719360e-10 5.40318716e-10\n",
      " 5.64610513e-07 2.71041820e-12 4.42764083e-07 1.05587022e-06\n",
      " 2.15436112e-02 2.10109938e-13 2.49435759e-06 2.42271237e-06\n",
      " 3.78523558e-09 1.79408697e-06 9.46377181e-10 2.81373240e-07\n",
      " 2.89263690e-05 6.93362794e-13 4.47240013e-09 2.33053943e-10\n",
      " 1.86250484e-08 5.85486584e-05 5.13043735e-07 2.25866082e-09\n",
      " 8.55148077e-08 3.93655676e-09 7.76841574e-09 7.76786945e-09\n",
      " 9.85167236e-01 4.74323184e-09 1.76492348e-12 9.33308343e-10\n",
      " 5.26978458e-07 5.26978437e-07 7.14888558e-09 4.22378398e-07\n",
      " 4.25416301e-05 3.39241993e-06 2.33791072e-06 9.16759244e-08\n",
      " 2.18514335e-12 4.11815478e-11 6.74242790e-11 3.31177385e-09\n",
      " 5.00361269e-08 2.62421009e-09 9.75685417e-09 7.66407346e-07\n",
      " 4.82681605e-02 8.43314643e-07 4.94725562e-02 5.28031277e-08\n",
      " 5.89210943e-06 1.59931785e-06 1.00091309e-06 4.29279156e-06\n",
      " 1.16085741e-10 7.13166455e-07 4.63361551e-06 6.21276082e-02\n",
      " 5.13666814e-06 7.20634440e-02 4.38076489e-08 7.58393654e-06\n",
      " 1.03465153e-06 2.24607523e-11 6.46113923e-07 6.54928501e-06\n",
      " 2.02395205e-06 4.71948942e-10 1.09257168e-12 4.20219875e-14\n",
      " 3.13892061e-08 3.23360601e-05 2.93943803e-11 3.15164907e-13\n",
      " 9.99738655e-07 5.17109972e-08 7.00701622e-06 1.88793104e-05\n",
      " 6.22119385e-06 7.50126095e-09 3.96653945e-09 1.98488875e-05\n",
      " 6.37961006e-09 2.40229828e-08 2.00133498e-08 9.23614213e-03\n",
      " 6.96850460e-06 2.96674959e-07 4.35768011e-11 6.30176013e-08\n",
      " 6.30466959e-04 2.44511815e-03 4.72639973e-07 4.42911749e-11\n",
      " 6.08688490e-11 4.22320975e-11 7.40847640e-11 4.72997012e-07\n",
      " 1.17771679e-04 6.33255234e-04 6.38581694e-06 4.72863614e-07\n",
      " 7.00897610e-06 4.28294400e-09 1.12458235e-07 1.35523137e-07\n",
      " 1.66916524e-07 5.82722683e-08 4.84261384e-10 1.14593960e-10\n",
      " 5.76331559e-11 7.49104961e-10 6.33512979e-08 6.33512963e-04\n",
      " 6.39609369e-04 4.27996807e-06 4.78858702e-07 1.41251133e-07\n",
      " 5.76751779e-11 4.78858218e-07 1.41308808e-07 2.35289513e-09\n",
      " 8.87462355e-10 3.38277000e-12 2.56465932e-06 1.25876864e-09\n",
      " 1.83998483e-07 1.66617181e-11 1.71965256e-07 9.50974387e-07\n",
      " 6.36002781e-11 1.83998483e-07 1.61994762e-11 5.40822980e-11\n",
      " 2.89951714e-12 1.66617181e-11 1.51279155e-11 1.05054969e-13\n",
      " 1.34470360e-12 8.95034717e-08 1.65986851e-11 1.02323540e-11\n",
      " 1.78419056e-09 9.98307954e-09 2.85749515e-12 1.62209074e-08\n",
      " 7.09583912e-08 1.24540751e-04 3.51473484e-06 8.92025371e-06\n",
      " 4.51786544e-04 1.44228218e-02 3.08270380e-07 5.00208729e-10\n",
      " 7.35805002e-11 6.57433995e-11 3.44742293e-08 3.00500158e-04\n",
      " 2.41487756e-09 2.13996972e-10 1.51201435e-07 4.31845258e-09\n",
      " 1.75871033e-04 1.03456032e-09 2.22950102e-05 1.49160520e-03\n",
      " 1.49721936e-03 4.44149296e-09 7.52155757e-09 7.02044537e-09\n",
      " 1.93247565e-08 6.60948714e-08 1.29331071e-08 5.68124665e-09\n",
      " 0.00000000e+00 8.21193681e-10 2.09353542e-10 5.12668248e-12\n",
      " 1.28814201e-09 2.66682064e-03 1.82573555e-06 9.80856600e-07\n",
      " 4.72271734e-07 5.32649703e-10 5.32376560e-10 3.42689308e-11\n",
      " 1.32789481e-10 3.14475536e-08 0.00000000e+00 7.49252038e-11\n",
      " 9.12166871e-08]\n",
      "\n",
      "\n",
      "REP_VSQL_PLAN\n",
      "[1.00000000e+00 0.00000000e+00 0.00000000e+00 6.03957905e-08\n",
      " 0.00000000e+00 6.03957905e-08 0.00000000e+00 0.00000000e+00\n",
      " 0.00000000e+00 0.00000000e+00 0.00000000e+00 0.00000000e+00]\n"
     ]
    }
   ],
   "source": [
    "def robust_scaler(dataframe, headers):\n",
    "    \"\"\"\n",
    "    Normalize df using interquartile ranges as min-max, this way outliers do not play a heavy emphasis on the\n",
    "    normalization of values.\n",
    "    \"\"\"\n",
    "    return preprocessing.robust_scale(dataframe)\n",
    "#\n",
    "def minmax_scaler(dataframe, headers):\n",
    "    \"\"\"\n",
    "    Normalize df using min-max ranges for normalization method\n",
    "    \"\"\"\n",
    "    return preprocessing.minmax_scale(dataframe)\n",
    "#\n",
    "def normalize(dataframe, headers):\n",
    "    \"\"\"\n",
    "    The normalizer scales each value by dividing each value by its magnitude in n-dimensional space for n number of features. \n",
    "    \"\"\"\n",
    "    return preprocessing.normalize(dataframe)\n",
    "#\n",
    "print('------------------BEFORE------------------')\n",
    "print('------------------REP_HIST_SNAPSHOT------------------')\n",
    "print(rep_hist_snapshot_df_pruned.shape)\n",
    "print('------------------REP_HIST_SYSMETRIC_SUMMARY------------------')\n",
    "print(rep_hist_sysmetric_summary_df_pruned.shape)\n",
    "print('------------------REP_HIST_SYSSTAT------------------')\n",
    "print(rep_hist_sysstat_df_pruned.shape)\n",
    "print('------------------REP_VSQL_PLAN------------------')\n",
    "print(rep_vsql_plan_df_pruned.shape)\n",
    "print('\\n')\n",
    "#print(rep_hist_snapshot_df_pruned.head())\n",
    "#\n",
    "# ROBUST SCALER\n",
    "# rep_hist_snapshot_df_pruned_norm = robust_scaler(dataframe=rep_hist_snapshot_df_pruned, \n",
    "#                                                  headers=retain_headers_rep_hist_snapshot)\n",
    "# rep_hist_sysmetric_summary_df_pruned_norm = robust_scaler(dataframe=rep_hist_sysmetric_summary_df_pruned,\n",
    "#                                                           headers=retain_headers_rep_hist_sysmetric_summary)\n",
    "# rep_hist_sysstat_df_pruned_norm = robust_scaler(dataframe=rep_hist_sysstat_df_pruned,\n",
    "#                                                 headers=retain_headers_rep_hist_sysstat)\n",
    "# rep_vsql_plan_df_pruned_norm = robust_scaler(dataframe=rep_vsql_plan_df_pruned,\n",
    "#                                              headers=retain_headers_rep_vsql_plan)\n",
    "#\n",
    "# MINMAX SCALER\n",
    "# rep_hist_snapshot_df_pruned_norm = minmax_scaler(dataframe=rep_hist_snapshot_df_pruned,\n",
    "#                                                  headers=retain_headers_rep_hist_snapshot)\n",
    "# rep_hist_sysmetric_summary_df_pruned_norm = minmax_scaler(dataframe=rep_hist_sysmetric_summary_df_pruned,\n",
    "#                                                           headers=retain_headers_rep_hist_sysmetric_summary)\n",
    "# rep_hist_sysstat_df_pruned_norm = minmax_scaler(dataframe=rep_hist_sysstat_df_pruned,\n",
    "#                                                 headers=retain_headers_rep_hist_sysstat)\n",
    "# rep_vsql_plan_df_pruned_norm = minmax_scaler(dataframe=rep_vsql_plan_df_pruned,\n",
    "#                                              headers=retain_headers_rep_vsql_plan)\n",
    "#\n",
    "# NORMALIZER\n",
    "rep_hist_snapshot_df_pruned_norm = normalize(dataframe=rep_hist_snapshot_df_pruned, \n",
    "                                             headers=retain_headers_rep_hist_snapshot)\n",
    "rep_hist_sysmetric_summary_df_pruned_norm = normalize(dataframe=rep_hist_sysmetric_summary_df_pruned,\n",
    "                                                      headers=retain_headers_rep_hist_sysmetric_summary)\n",
    "rep_hist_sysstat_df_pruned_norm = normalize(dataframe=rep_hist_sysstat_df_pruned,\n",
    "                                            headers=retain_headers_rep_hist_sysstat)\n",
    "rep_vsql_plan_df_pruned_norm = normalize(dataframe=rep_vsql_plan_df_pruned,\n",
    "                                         headers=retain_headers_rep_vsql_plan)\n",
    "#\n",
    "print('\\n\\n------------------AFTER------------------')\n",
    "print('------------------REP_HIST_SNAPSHOT------------------')\n",
    "print(rep_hist_snapshot_df_pruned_norm.shape)\n",
    "print('------------------REP_HIST_SYSMETRIC_SUMMARY------------------')\n",
    "print(rep_hist_sysmetric_summary_df_pruned_norm.shape)\n",
    "print('------------------REP_HIST_SYSSTAT------------------')\n",
    "print(rep_hist_sysstat_df_pruned_norm.shape)\n",
    "print('------------------REP_VSQL_PLAN------------------')\n",
    "print(rep_vsql_plan_df_pruned_norm.shape)\n",
    "print('\\n\\n')\n",
    "print('REP_HIST_SNAPSHOT')\n",
    "print(rep_hist_snapshot_df_pruned_norm[0])\n",
    "print('\\n\\nREP_HIST_SYSMETRIC_SUMMARY')\n",
    "print(rep_hist_sysmetric_summary_df_pruned_norm[0])\n",
    "print('\\n\\nREP_HIST_SYSSTAT')\n",
    "print(rep_hist_sysstat_df_pruned_norm[0])\n",
    "print('\\n\\nREP_VSQL_PLAN')\n",
    "print(rep_vsql_plan_df_pruned_norm[0])"
   ]
  },
  {
   "cell_type": "markdown",
   "metadata": {},
   "source": [
    "# Filter Methods\n",
    "\n",
    "* https://machinelearningmastery.com/feature-selection-machine-learning-python/\n",
    "\n",
    "Filter methods allow for the univariate analysis of features. Particularly, the following statistical methods have been considered and dismissed as explained below:\n",
    "\n",
    "* Information Gain - Data at hand is continous by nature, whilst MI is usually applicable against discrete values / binned labels.\n",
    "* Pearson Correlation Coefficient - Applicable to data with linear distributions, which is not the case for the majority of the presented features.\n",
    "\n",
    "### Chi2\n",
    "\n",
    "Therefore, a likely candidate for a first univariate, filter test is a chi2 measure, between X labels 'SNAP_ID', and other output 'y' labels. NB: Due to chi2 requiring non-nagative values, a data normalization strategy was opted for (Refer to above cell).\n",
    "\n",
    "The following cell computes the chi2 value for each feature pertaining in the following tables, in relation to the SNAP_ID feature:\n",
    "* REP_HIST_SNAPSHOT\n",
    "* REP_HIST_SYSMETRIC_SUMMARY\n",
    "* REP_HIST_SYSSTAT"
   ]
  },
  {
   "cell_type": "code",
   "execution_count": 206,
   "metadata": {
    "scrolled": true
   },
   "outputs": [
    {
     "name": "stderr",
     "output_type": "stream",
     "text": [
      "C:\\ProgramData\\Anaconda3\\lib\\site-packages\\sklearn\\utils\\__init__.py:54: FutureWarning: Conversion of the second argument of issubdtype from `int` to `np.signedinteger` is deprecated. In future, it will be treated as `np.int32 == np.dtype(int).type`.\n",
      "  if np.issubdtype(mask.dtype, np.int):\n"
     ]
    },
    {
     "name": "stdout",
     "output_type": "stream",
     "text": [
      "\n",
      "\n",
      "Table [REP_HIST_SNAPSHOT]\n",
      "Original number of features: 51\n",
      "Reduced number of features: 30\n",
      "\n",
      "Feature [OPTIMIZER_COST] with score [2033.4581149295393]\n",
      "Feature [PHYSICAL_READ_BYTES_DELTA] with score [1102.7985107983545]\n",
      "Feature [IO_INTERCONNECT_BYTES_DELTA] with score [1050.5311535571172]\n",
      "Feature [ELAPSED_TIME_TOTAL] with score [671.0722163535955]\n",
      "Feature [CPU_TIME_TOTAL] with score [666.1036190219986]\n",
      "Feature [PHYSICAL_READ_BYTES_TOTAL] with score [410.3805798886898]\n",
      "Feature [IO_INTERCONNECT_BYTES_TOTAL] with score [400.2314322815469]\n",
      "Feature [ELAPSED_TIME_DELTA] with score [231.45272993539587]\n",
      "Feature [CPU_TIME_DELTA] with score [231.06922679099]\n",
      "Feature [IOWAIT_TOTAL] with score [222.34442729299704]\n",
      "Feature [PHYSICAL_WRITE_BYTES_TOTAL] with score [221.77214249374498]\n",
      "Feature [IOWAIT_DELTA] with score [146.41619566685657]\n",
      "Feature [PHYSICAL_WRITE_BYTES_DELTA] with score [100.15468272248049]\n",
      "Feature [PLSEXEC_TIME_TOTAL] with score [14.756813145246594]\n",
      "Feature [SHARABLE_MEM] with score [12.278401775506396]\n",
      "Feature [CCWAIT_DELTA] with score [11.855373466957786]\n",
      "Feature [BUFFER_GETS_TOTAL] with score [10.98965641619643]\n",
      "Feature [CCWAIT_TOTAL] with score [10.406404824592538]\n",
      "Feature [PLSEXEC_TIME_DELTA] with score [9.829592570828185]\n",
      "Feature [BUFFER_GETS_DELTA] with score [6.695728518927473]\n",
      "Feature [FETCHES_TOTAL] with score [2.266834860772673]\n",
      "Feature [ROWS_PROCESSED_TOTAL] with score [2.1104702036639296]\n",
      "Feature [IO_OFFLOAD_RETURN_BYTES_TOTAL] with score [0.8167652149553367]\n",
      "Feature [EXECUTIONS_TOTAL] with score [0.3954491850794847]\n",
      "Feature [END_OF_FETCH_COUNT_TOTAL] with score [0.32241949050620594]\n",
      "Feature [PARSE_CALLS_TOTAL] with score [0.3154528058262255]\n",
      "Feature [ROWS_PROCESSED_DELTA] with score [0.144264744898166]\n",
      "Feature [DISK_READS_DELTA] with score [0.1037947555935559]\n",
      "Feature [SORTS_TOTAL] with score [0.08789931538929988]\n"
     ]
    },
    {
     "data": {
      "image/png": "[encoded data removed]",
      "text/plain": [
       "<Figure size 1440x1080 with 1 Axes>"
      ]
     },
     "metadata": {
      "needs_background": "light"
     },
     "output_type": "display_data"
    },
    {
     "name": "stdout",
     "output_type": "stream",
     "text": [
      "\n",
      "\n",
      "Table [REP_HIST_SYSMETRIC_SUMMARY]\n",
      "Original number of features: 140\n",
      "Reduced number of features: 30\n",
      "\n",
      "Feature [TOTAL PGA ALLOCATED] with score [1536.0598394994063]\n",
      "Feature [CELL PHYSICAL IO INTERCONNECT BYTES] with score [971.007954616221]\n",
      "Feature [TOTAL PGA USED BY SQL WORKAREAS] with score [805.9516546154506]\n",
      "Feature [PHYSICAL READ BYTES PER SEC] with score [64.84773919349183]\n",
      "Feature [PHYSICAL READ TOTAL BYTES PER SEC] with score [64.1201063090792]\n",
      "Feature [TEMP SPACE USED] with score [42.75603829651253]\n",
      "Feature [VM IN BYTES PER SEC] with score [31.72922548131208]\n",
      "Feature [PHYSICAL WRITE BYTES PER SEC] with score [10.678487946311318]\n",
      "Feature [PHYSICAL WRITE TOTAL BYTES PER SEC] with score [10.0962860465259]\n",
      "Feature [CONSISTENT READ GETS PER TXN] with score [1.7058252011802983]\n",
      "Feature [LOGICAL READS PER TXN] with score [1.704648623503413]\n",
      "Feature [REDO GENERATED PER SEC] with score [0.6503466293380139]\n",
      "Feature [REDO GENERATED PER TXN] with score [0.4338460619401169]\n",
      "Feature [CONSISTENT READ GETS PER SEC] with score [0.4079806689964623]\n",
      "Feature [LOGICAL READS PER SEC] with score [0.40724479409099923]\n",
      "Feature [NETWORK TRAFFIC VOLUME PER SEC] with score [0.06971869230587874]\n",
      "Feature [ROWS PER SORT] with score [0.03831220872109322]\n",
      "Feature [PHYSICAL READS PER TXN] with score [0.031446091184209435]\n",
      "Feature [LOGICAL READS PER USER CALL] with score [0.02817332718892252]\n",
      "Feature [RESPONSE TIME PER TXN] with score [0.023859175438235205]\n",
      "Feature [CPU USAGE PER TXN] with score [0.023817549317482443]\n",
      "Feature [SNAP_ID] with score [0.016549894176623583]\n",
      "Feature [PHYSICAL READS DIRECT PER TXN] with score [0.013223250369260602]\n",
      "Feature [TOTAL INDEX SCANS PER TXN] with score [0.0120922727995508]\n",
      "Feature [PHYSICAL READS PER SEC] with score [0.007915991299802767]\n",
      "Feature [PHYSICAL READ IO REQUESTS PER SEC] with score [0.0056592311567114795]\n",
      "Feature [DB BLOCK CHANGES PER SEC] with score [0.0055423818548757334]\n",
      "Feature [PHYSICAL READ TOTAL IO REQUESTS PER SEC] with score [0.005541304761109607]\n",
      "Feature [I/O REQUESTS PER SECOND] with score [0.005482218574304511]\n"
     ]
    },
    {
     "data": {
      "image/png": "[encoded data removed]",
      "text/plain": [
       "<Figure size 1440x1080 with 1 Axes>"
      ]
     },
     "metadata": {
      "needs_background": "light"
     },
     "output_type": "display_data"
    },
    {
     "name": "stdout",
     "output_type": "stream",
     "text": [
      "\n",
      "\n",
      "Table [REP_HIST_SYSSTAT]\n",
      "Original number of features: 321\n",
      "Reduced number of features: 30\n",
      "\n",
      "Feature [PHYSICAL READ BYTES] with score [94.93551877765576]\n",
      "Feature [PHYSICAL READ TOTAL BYTES] with score [93.90896699983921]\n",
      "Feature [CELL PHYSICAL IO INTERCONNECT BYTES] with score [56.19645211006452]\n",
      "Feature [PHYSICAL WRITE TOTAL BYTES] with score [27.8939987555101]\n",
      "Feature [PHYSICAL WRITE BYTES] with score [22.877678955366257]\n",
      "Feature [FILE IO WAIT TIME] with score [11.659375666516341]\n",
      "Feature [REDO SIZE] with score [4.985163349202385]\n",
      "Feature [KTFB ALLOC SPACE (BLOCK)] with score [3.777423736813437]\n",
      "Feature [SESSION UGA MEMORY MAX] with score [3.0812858622184267]\n",
      "Feature [IMU REDO ALLOCATION SIZE] with score [1.5258748982672383]\n",
      "Feature [UNDO CHANGE VECTOR SIZE] with score [1.4332375857895272]\n",
      "Feature [REDO SYNCH TIME OVERHEAD (USEC)] with score [1.2621002638122805]\n",
      "Feature [BYTES RECEIVED VIA SQL*NET FROM CLIENT] with score [1.2098029146117923]\n",
      "Feature [TABLE SCAN DISK NON-IMC ROWS GOTTEN] with score [0.39192663181631376]\n",
      "Feature [TABLE SCAN ROWS GOTTEN] with score [0.3901769716004303]\n",
      "Feature [REDO WRITE TOTAL TIME] with score [0.3496860242437376]\n",
      "Feature [REDO SYNCH TIME (USEC)] with score [0.3469193986458821]\n",
      "Feature [REDO WRITE TIME (USEC)] with score [0.3464378738488529]\n",
      "Feature [REDO WRITE FINISH TIME] with score [0.3463083581768824]\n",
      "Feature [IMU UNDO ALLOCATION SIZE] with score [0.3309756797091054]\n",
      "Feature [LOGICAL READ BYTES FROM CACHE] with score [0.21318390058415504]\n",
      "Feature [BUFFER IS PINNED COUNT] with score [0.11790679793199774]\n",
      "Feature [TABLE FETCH BY ROWID] with score [0.06861918769253891]\n",
      "Feature [REDO WASTAGE] with score [0.062210602761556474]\n",
      "Feature [DB BLOCK GETS FROM CACHE] with score [0.03306668832763341]\n",
      "Feature [DB BLOCK GETS] with score [0.031722908640598305]\n",
      "Feature [INDEX FETCH BY KEY] with score [0.030515979298179823]\n",
      "Feature [DB BLOCK GETS FROM CACHE (FASTPATH)] with score [0.021533076223148418]\n",
      "Feature [DB BLOCK CHANGES] with score [0.020823751958295965]\n",
      "Feature [PROCESS LAST NON-IDLE TIME] with score [0.017810553408983344]\n"
     ]
    },
    {
     "data": {
      "image/png": "[encoded data removed]",
      "text/plain": [
       "<Figure size 1440x1080 with 1 Axes>"
      ]
     },
     "metadata": {
      "needs_background": "light"
     },
     "output_type": "display_data"
    }
   ],
   "source": [
    "top_n_features=30\n",
    "def chi2_test(top_n_features=30, X_df=None, y_df=None, table=None, headers=None):\n",
    "    \"\"\"\n",
    "    Carries out a chi squared test on passed X,y dataframes, selecting top N features ranked by highest scoring\n",
    "    \"\"\"\n",
    "    chi2_selector = SelectKBest(score_func=chi2, k=top_n_features)\n",
    "    X_kbest = chi2_selector.fit_transform(X_df, y_df)\n",
    "    print('\\n\\nTable [' + table.upper() + ']')\n",
    "    print('Original number of features: ' + str(X_df.shape[1]))\n",
    "    print('Reduced number of features: ' + str(X_kbest.shape[1]) + \"\\n\")\n",
    "    outcome = chi2_selector.get_support()\n",
    "    #\n",
    "    scoring_sheet = []\n",
    "    for i in range(0,len(headers)-1):\n",
    "        if outcome[i]:\n",
    "            scoring_sheet.append([headers[i],chi2_selector.scores_[i]])\n",
    "    #\n",
    "    scoring_sheet = sorted(scoring_sheet, key=itemgetter(1), reverse=True)\n",
    "    [print('Feature [' + str(row) + '] with score [' + str(score) + ']') for row, score in scoring_sheet[:top_n_features]]\n",
    "    #\n",
    "    scoring_sheet = pd.Series((v[1] for v in scoring_sheet[:top_n_features]) )\n",
    "    scoring_sheet[:top_n_features].plot.bar()\n",
    "    plt.ylabel('CHI2 RANKING')\n",
    "    plt.xlabel('FEATURES')\n",
    "    plt.title('Features Ranked By Chi2 Scoring')\n",
    "    plt.rcParams['figure.figsize'] = [20, 15]\n",
    "    plt.show()\n",
    "#\n",
    "chi2_test(top_n_features=top_n_features, X_df=rep_hist_snapshot_df_pruned_norm, y_df=rep_hist_snapshot_df_pruned['SNAP_ID'], table='REP_HIST_SNAPSHOT', headers=retain_headers_rep_hist_snapshot)\n",
    "chi2_test(top_n_features=top_n_features, X_df=rep_hist_sysmetric_summary_df_pruned_norm, y_df=rep_hist_sysmetric_summary_df_pruned['SNAP_ID'], table='REP_HIST_SYSMETRIC_SUMMARY', headers=retain_headers_rep_hist_sysmetric_summary)\n",
    "chi2_test(top_n_features=top_n_features, X_df=rep_hist_sysstat_df_pruned_norm, y_df=rep_hist_sysstat_df_pruned['SNAP_ID'], table='REP_HIST_SYSSTAT', headers=retain_headers_rep_hist_sysstat)"
   ]
  },
  {
   "cell_type": "markdown",
   "metadata": {},
   "source": [
    "### Random Forest Feature Importance\n",
    "\n",
    "Calculating MI (Mutual Information) scoring between data matrix X (feature vectors) and target column y ('SNAP_ID') "
   ]
  },
  {
   "cell_type": "code",
   "execution_count": 207,
   "metadata": {
    "scrolled": true
   },
   "outputs": [
    {
     "name": "stdout",
     "output_type": "stream",
     "text": [
      "                               importance\n",
      "feature                                  \n",
      "DISK_READS_TOTAL                    0.561\n",
      "PHYSICAL_READ_BYTES_TOTAL           0.114\n",
      "CCWAIT_TOTAL                        0.073\n",
      "PHYSICAL_WRITE_BYTES_TOTAL          0.032\n",
      "IO_INTERCONNECT_BYTES_DELTA         0.021\n",
      "BUFFER_GETS_TOTAL                   0.021\n",
      "IO_OFFLOAD_RETURN_BYTES_TOTAL       0.018\n",
      "PHYSICAL_READ_REQUESTS_TOTAL        0.016\n",
      "CPU_TIME_DELTA                      0.016\n",
      "IOWAIT_TOTAL                        0.014\n",
      "OPTIMIZER_COST                      0.014\n",
      "ELAPSED_TIME_DELTA                  0.013\n",
      "SORTS_TOTAL                         0.010\n",
      "BUFFER_GETS_DELTA                   0.010\n",
      "SHARABLE_MEM                        0.008\n",
      "PHYSICAL_WRITE_BYTES_DELTA          0.007\n",
      "CPU_TIME_TOTAL                      0.006\n",
      "PLSEXEC_TIME_TOTAL                  0.006\n",
      "FETCHES_TOTAL                       0.006\n",
      "EXECUTIONS_TOTAL                    0.006\n",
      "ROWS_PROCESSED_TOTAL                0.004\n",
      "PHYSICAL_WRITE_REQUESTS_TOTAL       0.003\n",
      "IO_INTERCONNECT_BYTES_TOTAL         0.003\n",
      "APWAIT_TOTAL                        0.003\n",
      "ELAPSED_TIME_TOTAL                  0.003\n",
      "PHYSICAL_READ_BYTES_DELTA           0.003\n",
      "ROWS_PROCESSED_DELTA                0.002\n",
      "END_OF_FETCH_COUNT_TOTAL            0.002\n",
      "LOADS_TOTAL                         0.001\n",
      "IOWAIT_DELTA                        0.001\n"
     ]
    },
    {
     "data": {
      "image/png": "[encoded data removed]",
      "text/plain": [
       "<Figure size 1440x1080 with 1 Axes>"
      ]
     },
     "metadata": {
      "needs_background": "light"
     },
     "output_type": "display_data"
    },
    {
     "name": "stdout",
     "output_type": "stream",
     "text": [
      "                                         importance\n",
      "feature                                            \n",
      "LOGICAL READS PER TXN                         0.211\n",
      "SNAP_ID                                       0.155\n",
      "REDO GENERATED PER SEC                        0.100\n",
      "TOTAL PGA USED BY SQL WORKAREAS               0.100\n",
      "LOGICAL READS PER SEC                         0.078\n",
      "CONSISTENT READ GETS PER TXN                  0.045\n",
      "NETWORK TRAFFIC VOLUME PER SEC                0.042\n",
      "PHYSICAL READ BYTES PER SEC                   0.042\n",
      "CONSISTENT READ GETS PER SEC                  0.038\n",
      "PHYSICAL READ TOTAL BYTES PER SEC             0.037\n",
      "TEMP SPACE USED                               0.035\n",
      "PHYSICAL WRITE BYTES PER SEC                  0.022\n",
      "REDO GENERATED PER TXN                        0.017\n",
      "PHYSICAL WRITE TOTAL BYTES PER SEC            0.010\n",
      "TOTAL PGA ALLOCATED                           0.010\n",
      "CELL PHYSICAL IO INTERCONNECT BYTES           0.008\n",
      "RECURSIVE CALLS PER TXN                       0.007\n",
      "RECURSIVE CALLS PER SEC                       0.005\n",
      "ROWS PER SORT                                 0.005\n",
      "PHYSICAL READS DIRECT PER TXN                 0.004\n",
      "PHYSICAL READS DIRECT PER SEC                 0.004\n",
      "VM IN BYTES PER SEC                           0.004\n",
      "CPU USAGE PER TXN                             0.003\n",
      "PHYSICAL READS PER TXN                        0.003\n",
      "RESPONSE TIME PER TXN                         0.002\n",
      "LOGICAL READS PER USER CALL                   0.002\n",
      "VM OUT BYTES PER SEC                          0.002\n",
      "PHYSICAL READS PER SEC                        0.001\n",
      "PHYSICAL READ TOTAL IO REQUESTS PER SEC       0.001\n",
      "TOTAL INDEX SCANS PER TXN                     0.001\n"
     ]
    },
    {
     "data": {
      "image/png": "[encoded data removed]",
      "text/plain": [
       "<Figure size 1440x1080 with 1 Axes>"
      ]
     },
     "metadata": {
      "needs_background": "light"
     },
     "output_type": "display_data"
    },
    {
     "name": "stdout",
     "output_type": "stream",
     "text": [
      "                                        importance\n",
      "feature                                           \n",
      "PHYSICAL WRITE BYTES                         0.117\n",
      "PHYSICAL WRITE TOTAL BYTES                   0.097\n",
      "SESSION UGA MEMORY MAX                       0.092\n",
      "FILE IO WAIT TIME                            0.091\n",
      "REDO SIZE                                    0.066\n",
      "TABLE SCAN ROWS GOTTEN                       0.054\n",
      "IMU REDO ALLOCATION SIZE                     0.052\n",
      "TABLE SCAN DISK NON-IMC ROWS GOTTEN          0.049\n",
      "KTFB ALLOC SPACE (BLOCK)                     0.045\n",
      "REDO SYNCH TIME OVERHEAD (USEC)              0.044\n",
      "UNDO CHANGE VECTOR SIZE                      0.042\n",
      "BYTES RECEIVED VIA SQL*NET FROM CLIENT       0.037\n",
      "TABLE FETCH BY ROWID                         0.032\n",
      "BUFFER IS PINNED COUNT                       0.028\n",
      "REDO SYNCH TIME (USEC)                       0.028\n",
      "REDO WRITE TOTAL TIME                        0.022\n",
      "REDO WRITE TIME (USEC)                       0.021\n",
      "IMU UNDO ALLOCATION SIZE                     0.020\n",
      "REDO WRITE FINISH TIME                       0.018\n",
      "PHYSICAL READ BYTES                          0.010\n",
      "LOGICAL READ BYTES FROM CACHE                0.009\n",
      "CELL PHYSICAL IO INTERCONNECT BYTES          0.008\n",
      "PHYSICAL READ TOTAL BYTES                    0.008\n",
      "SORTS (ROWS)                                 0.007\n",
      "REDO WASTAGE                                 0.001\n",
      "CONSISTENT GETS PIN (FASTPATH)               0.001\n",
      "CONSISTENT GETS PIN                          0.001\n",
      "REDO WRITE SIZE COUNT (   4KB)               0.000\n",
      "REDO BLOCKS WRITTEN (GROUP 1)                0.000\n",
      "REDO BUFFER ALLOCATION RETRIES               0.000\n"
     ]
    },
    {
     "data": {
      "image/png": "[encoded data removed]",
      "text/plain": [
       "<Figure size 1440x1080 with 1 Axes>"
      ]
     },
     "metadata": {
      "needs_background": "light"
     },
     "output_type": "display_data"
    }
   ],
   "source": [
    "def rfr_ranking(X_df=None, y_df=None, headers=None, top_n_features=30):\n",
    "    \"\"\"\n",
    "    Ranks features using a filter RFR method, and plots them in descending order (ranked by importance)\n",
    "    \"\"\"\n",
    "    X_df = np.array(X_df)\n",
    "    y_df = np.array(y_df)\n",
    "    rfr = RandomForestRegressor(n_estimators=2000)\n",
    "    rfr.fit(X_df, y_df)\n",
    "    importances = pd.DataFrame({'feature':headers,\n",
    "                                'importance':np.round(rfr.feature_importances_,3)})\n",
    "    importances = importances.sort_values('importance',ascending=False).set_index('feature')\n",
    "    print(importances[:top_n_features])\n",
    "    importances[:top_n_features].plot.bar()\n",
    "    plt.ylabel('FEATURE INFORMATION IMPORTANCE')\n",
    "    plt.xlabel('FEATURES')\n",
    "    plt.title('Features Ranked By RFC Scoring')\n",
    "    plt.rcParams['figure.figsize'] = [20, 15]\n",
    "    plt.show()\n",
    "#\n",
    "rfr_ranking(top_n_features=top_n_features,\n",
    "            X_df=rep_hist_snapshot_df_pruned_norm, \n",
    "            y_df=rep_hist_snapshot_df_pruned['SNAP_ID'], \n",
    "            headers=retain_headers_rep_hist_snapshot)\n",
    "rfr_ranking(top_n_features=top_n_features,\n",
    "            X_df=rep_hist_sysmetric_summary_df_pruned_norm, \n",
    "            y_df=rep_hist_sysmetric_summary_df_pruned['SNAP_ID'], \n",
    "            headers=retain_headers_rep_hist_sysmetric_summary)\n",
    "rfr_ranking(top_n_features=top_n_features,\n",
    "            X_df=rep_hist_sysstat_df_pruned_norm, \n",
    "            y_df=rep_hist_sysstat_df_pruned['SNAP_ID'], \n",
    "            headers=retain_headers_rep_hist_sysstat)"
   ]
  },
  {
   "cell_type": "markdown",
   "metadata": {},
   "source": [
    "### Wrapper Methods\n",
    "\n",
    "Use a number of machine learning models to evaluate features individually and rank by highest. The following machine learning models will be opted for:\n",
    "\n",
    "* Random Forest Classifier\n",
    "* Gradient Boosting\n",
    "\n",
    "In a 'Brute-Fore' approach, these machine learning heuristics will strip away 1 feature at a time in a method referred to as 'Recursive Feature Elimination', and compare accuracy with every variable elimination. This allows the respective classifier to establish an optimum feature configuration with the highest accuracy score.\n",
    "\n",
    "https://www.fabienplisson.com/choosing-right-features/\n",
    "\n",
    "### Random Forest Wrapper (Feature Combination)  (Regression)"
   ]
  },
  {
   "cell_type": "code",
   "execution_count": 208,
   "metadata": {
    "scrolled": true
   },
   "outputs": [
    {
     "name": "stdout",
     "output_type": "stream",
     "text": [
      "Table [REP_HIST_SNAPSHOT] RFR R2 Score: 0.9838686105716388\n"
     ]
    },
    {
     "name": "stderr",
     "output_type": "stream",
     "text": [
      "C:\\ProgramData\\Anaconda3\\lib\\site-packages\\sklearn\\utils\\__init__.py:54: FutureWarning: Conversion of the second argument of issubdtype from `int` to `np.signedinteger` is deprecated. In future, it will be treated as `np.int32 == np.dtype(int).type`.\n",
      "  if np.issubdtype(mask.dtype, np.int):\n",
      "C:\\ProgramData\\Anaconda3\\lib\\site-packages\\sklearn\\utils\\__init__.py:54: FutureWarning: Conversion of the second argument of issubdtype from `int` to `np.signedinteger` is deprecated. In future, it will be treated as `np.int32 == np.dtype(int).type`.\n",
      "  if np.issubdtype(mask.dtype, np.int):\n"
     ]
    },
    {
     "name": "stdout",
     "output_type": "stream",
     "text": [
      "Thresh=0.0, n=51, R2 Score: 0.9844211548868792\n"
     ]
    },
    {
     "name": "stderr",
     "output_type": "stream",
     "text": [
      "C:\\ProgramData\\Anaconda3\\lib\\site-packages\\sklearn\\utils\\__init__.py:54: FutureWarning: Conversion of the second argument of issubdtype from `int` to `np.signedinteger` is deprecated. In future, it will be treated as `np.int32 == np.dtype(int).type`.\n",
      "  if np.issubdtype(mask.dtype, np.int):\n"
     ]
    },
    {
     "name": "stdout",
     "output_type": "stream",
     "text": [
      "Thresh=0.0, n=51, R2 Score: 0.9827360255763852\n"
     ]
    },
    {
     "name": "stderr",
     "output_type": "stream",
     "text": [
      "C:\\ProgramData\\Anaconda3\\lib\\site-packages\\sklearn\\utils\\__init__.py:54: FutureWarning: Conversion of the second argument of issubdtype from `int` to `np.signedinteger` is deprecated. In future, it will be treated as `np.int32 == np.dtype(int).type`.\n",
      "  if np.issubdtype(mask.dtype, np.int):\n"
     ]
    },
    {
     "name": "stdout",
     "output_type": "stream",
     "text": [
      "Thresh=0.0, n=51, R2 Score: 0.9832584085809197\n"
     ]
    },
    {
     "name": "stderr",
     "output_type": "stream",
     "text": [
      "C:\\ProgramData\\Anaconda3\\lib\\site-packages\\sklearn\\utils\\__init__.py:54: FutureWarning: Conversion of the second argument of issubdtype from `int` to `np.signedinteger` is deprecated. In future, it will be treated as `np.int32 == np.dtype(int).type`.\n",
      "  if np.issubdtype(mask.dtype, np.int):\n"
     ]
    },
    {
     "name": "stdout",
     "output_type": "stream",
     "text": [
      "Thresh=7.392420816170941e-08, n=48, R2 Score: 0.982171021093919\n"
     ]
    },
    {
     "name": "stderr",
     "output_type": "stream",
     "text": [
      "C:\\ProgramData\\Anaconda3\\lib\\site-packages\\sklearn\\utils\\__init__.py:54: FutureWarning: Conversion of the second argument of issubdtype from `int` to `np.signedinteger` is deprecated. In future, it will be treated as `np.int32 == np.dtype(int).type`.\n",
      "  if np.issubdtype(mask.dtype, np.int):\n"
     ]
    },
    {
     "name": "stdout",
     "output_type": "stream",
     "text": [
      "Thresh=1.2618635504467456e-06, n=47, R2 Score: 0.9831647810720208\n"
     ]
    },
    {
     "name": "stderr",
     "output_type": "stream",
     "text": [
      "C:\\ProgramData\\Anaconda3\\lib\\site-packages\\sklearn\\utils\\__init__.py:54: FutureWarning: Conversion of the second argument of issubdtype from `int` to `np.signedinteger` is deprecated. In future, it will be treated as `np.int32 == np.dtype(int).type`.\n",
      "  if np.issubdtype(mask.dtype, np.int):\n"
     ]
    },
    {
     "name": "stdout",
     "output_type": "stream",
     "text": [
      "Thresh=2.0987413443347724e-06, n=46, R2 Score: 0.9833892318235927\n"
     ]
    },
    {
     "name": "stderr",
     "output_type": "stream",
     "text": [
      "C:\\ProgramData\\Anaconda3\\lib\\site-packages\\sklearn\\utils\\__init__.py:54: FutureWarning: Conversion of the second argument of issubdtype from `int` to `np.signedinteger` is deprecated. In future, it will be treated as `np.int32 == np.dtype(int).type`.\n",
      "  if np.issubdtype(mask.dtype, np.int):\n"
     ]
    },
    {
     "name": "stdout",
     "output_type": "stream",
     "text": [
      "Thresh=4.508780548672495e-06, n=45, R2 Score: 0.9831953339897841\n"
     ]
    },
    {
     "name": "stderr",
     "output_type": "stream",
     "text": [
      "C:\\ProgramData\\Anaconda3\\lib\\site-packages\\sklearn\\utils\\__init__.py:54: FutureWarning: Conversion of the second argument of issubdtype from `int` to `np.signedinteger` is deprecated. In future, it will be treated as `np.int32 == np.dtype(int).type`.\n",
      "  if np.issubdtype(mask.dtype, np.int):\n"
     ]
    },
    {
     "name": "stdout",
     "output_type": "stream",
     "text": [
      "Thresh=1.4587352106407793e-05, n=44, R2 Score: 0.9825504782428246\n"
     ]
    },
    {
     "name": "stderr",
     "output_type": "stream",
     "text": [
      "C:\\ProgramData\\Anaconda3\\lib\\site-packages\\sklearn\\utils\\__init__.py:54: FutureWarning: Conversion of the second argument of issubdtype from `int` to `np.signedinteger` is deprecated. In future, it will be treated as `np.int32 == np.dtype(int).type`.\n",
      "  if np.issubdtype(mask.dtype, np.int):\n"
     ]
    },
    {
     "name": "stdout",
     "output_type": "stream",
     "text": [
      "Thresh=1.998821201168408e-05, n=43, R2 Score: 0.9827551487390512\n"
     ]
    },
    {
     "name": "stderr",
     "output_type": "stream",
     "text": [
      "C:\\ProgramData\\Anaconda3\\lib\\site-packages\\sklearn\\utils\\__init__.py:54: FutureWarning: Conversion of the second argument of issubdtype from `int` to `np.signedinteger` is deprecated. In future, it will be treated as `np.int32 == np.dtype(int).type`.\n",
      "  if np.issubdtype(mask.dtype, np.int):\n"
     ]
    },
    {
     "name": "stdout",
     "output_type": "stream",
     "text": [
      "Thresh=3.004596497489958e-05, n=42, R2 Score: 0.9828862481876681\n"
     ]
    },
    {
     "name": "stderr",
     "output_type": "stream",
     "text": [
      "C:\\ProgramData\\Anaconda3\\lib\\site-packages\\sklearn\\utils\\__init__.py:54: FutureWarning: Conversion of the second argument of issubdtype from `int` to `np.signedinteger` is deprecated. In future, it will be treated as `np.int32 == np.dtype(int).type`.\n",
      "  if np.issubdtype(mask.dtype, np.int):\n"
     ]
    },
    {
     "name": "stdout",
     "output_type": "stream",
     "text": [
      "Thresh=3.485061505354633e-05, n=41, R2 Score: 0.9825964772528004\n"
     ]
    },
    {
     "name": "stderr",
     "output_type": "stream",
     "text": [
      "C:\\ProgramData\\Anaconda3\\lib\\site-packages\\sklearn\\utils\\__init__.py:54: FutureWarning: Conversion of the second argument of issubdtype from `int` to `np.signedinteger` is deprecated. In future, it will be treated as `np.int32 == np.dtype(int).type`.\n",
      "  if np.issubdtype(mask.dtype, np.int):\n"
     ]
    },
    {
     "name": "stdout",
     "output_type": "stream",
     "text": [
      "Thresh=4.074141384529803e-05, n=40, R2 Score: 0.9828457688823194\n"
     ]
    },
    {
     "name": "stderr",
     "output_type": "stream",
     "text": [
      "C:\\ProgramData\\Anaconda3\\lib\\site-packages\\sklearn\\utils\\__init__.py:54: FutureWarning: Conversion of the second argument of issubdtype from `int` to `np.signedinteger` is deprecated. In future, it will be treated as `np.int32 == np.dtype(int).type`.\n",
      "  if np.issubdtype(mask.dtype, np.int):\n"
     ]
    },
    {
     "name": "stdout",
     "output_type": "stream",
     "text": [
      "Thresh=5.202484442497463e-05, n=39, R2 Score: 0.9830025195391068\n"
     ]
    },
    {
     "name": "stderr",
     "output_type": "stream",
     "text": [
      "C:\\ProgramData\\Anaconda3\\lib\\site-packages\\sklearn\\utils\\__init__.py:54: FutureWarning: Conversion of the second argument of issubdtype from `int` to `np.signedinteger` is deprecated. In future, it will be treated as `np.int32 == np.dtype(int).type`.\n",
      "  if np.issubdtype(mask.dtype, np.int):\n"
     ]
    },
    {
     "name": "stdout",
     "output_type": "stream",
     "text": [
      "Thresh=0.0002650025811938745, n=38, R2 Score: 0.9835387834688386\n"
     ]
    },
    {
     "name": "stderr",
     "output_type": "stream",
     "text": [
      "C:\\ProgramData\\Anaconda3\\lib\\site-packages\\sklearn\\utils\\__init__.py:54: FutureWarning: Conversion of the second argument of issubdtype from `int` to `np.signedinteger` is deprecated. In future, it will be treated as `np.int32 == np.dtype(int).type`.\n",
      "  if np.issubdtype(mask.dtype, np.int):\n"
     ]
    },
    {
     "name": "stdout",
     "output_type": "stream",
     "text": [
      "Thresh=0.00048586328502588994, n=37, R2 Score: 0.9831904303883696\n"
     ]
    },
    {
     "name": "stderr",
     "output_type": "stream",
     "text": [
      "C:\\ProgramData\\Anaconda3\\lib\\site-packages\\sklearn\\utils\\__init__.py:54: FutureWarning: Conversion of the second argument of issubdtype from `int` to `np.signedinteger` is deprecated. In future, it will be treated as `np.int32 == np.dtype(int).type`.\n",
      "  if np.issubdtype(mask.dtype, np.int):\n"
     ]
    },
    {
     "name": "stdout",
     "output_type": "stream",
     "text": [
      "Thresh=0.0005686693913644348, n=36, R2 Score: 0.9828847479731923\n"
     ]
    },
    {
     "name": "stderr",
     "output_type": "stream",
     "text": [
      "C:\\ProgramData\\Anaconda3\\lib\\site-packages\\sklearn\\utils\\__init__.py:54: FutureWarning: Conversion of the second argument of issubdtype from `int` to `np.signedinteger` is deprecated. In future, it will be treated as `np.int32 == np.dtype(int).type`.\n",
      "  if np.issubdtype(mask.dtype, np.int):\n"
     ]
    },
    {
     "name": "stdout",
     "output_type": "stream",
     "text": [
      "Thresh=0.0006482517656020341, n=35, R2 Score: 0.9827933458770236\n"
     ]
    },
    {
     "name": "stderr",
     "output_type": "stream",
     "text": [
      "C:\\ProgramData\\Anaconda3\\lib\\site-packages\\sklearn\\utils\\__init__.py:54: FutureWarning: Conversion of the second argument of issubdtype from `int` to `np.signedinteger` is deprecated. In future, it will be treated as `np.int32 == np.dtype(int).type`.\n",
      "  if np.issubdtype(mask.dtype, np.int):\n"
     ]
    },
    {
     "name": "stdout",
     "output_type": "stream",
     "text": [
      "Thresh=0.0006729857184874779, n=34, R2 Score: 0.9830358061389858\n"
     ]
    },
    {
     "name": "stderr",
     "output_type": "stream",
     "text": [
      "C:\\ProgramData\\Anaconda3\\lib\\site-packages\\sklearn\\utils\\__init__.py:54: FutureWarning: Conversion of the second argument of issubdtype from `int` to `np.signedinteger` is deprecated. In future, it will be treated as `np.int32 == np.dtype(int).type`.\n",
      "  if np.issubdtype(mask.dtype, np.int):\n"
     ]
    },
    {
     "name": "stdout",
     "output_type": "stream",
     "text": [
      "Thresh=0.0007490226128306301, n=33, R2 Score: 0.9827233812718635\n"
     ]
    },
    {
     "name": "stderr",
     "output_type": "stream",
     "text": [
      "C:\\ProgramData\\Anaconda3\\lib\\site-packages\\sklearn\\utils\\__init__.py:54: FutureWarning: Conversion of the second argument of issubdtype from `int` to `np.signedinteger` is deprecated. In future, it will be treated as `np.int32 == np.dtype(int).type`.\n",
      "  if np.issubdtype(mask.dtype, np.int):\n"
     ]
    },
    {
     "name": "stdout",
     "output_type": "stream",
     "text": [
      "Thresh=0.0007798409553277562, n=32, R2 Score: 0.982918590768602\n"
     ]
    },
    {
     "name": "stderr",
     "output_type": "stream",
     "text": [
      "C:\\ProgramData\\Anaconda3\\lib\\site-packages\\sklearn\\utils\\__init__.py:54: FutureWarning: Conversion of the second argument of issubdtype from `int` to `np.signedinteger` is deprecated. In future, it will be treated as `np.int32 == np.dtype(int).type`.\n",
      "  if np.issubdtype(mask.dtype, np.int):\n"
     ]
    },
    {
     "name": "stdout",
     "output_type": "stream",
     "text": [
      "Thresh=0.0014229281855015093, n=31, R2 Score: 0.9833604099225324\n"
     ]
    },
    {
     "name": "stderr",
     "output_type": "stream",
     "text": [
      "C:\\ProgramData\\Anaconda3\\lib\\site-packages\\sklearn\\utils\\__init__.py:54: FutureWarning: Conversion of the second argument of issubdtype from `int` to `np.signedinteger` is deprecated. In future, it will be treated as `np.int32 == np.dtype(int).type`.\n",
      "  if np.issubdtype(mask.dtype, np.int):\n"
     ]
    },
    {
     "name": "stdout",
     "output_type": "stream",
     "text": [
      "Thresh=0.0014705295424655696, n=30, R2 Score: 0.9836264025525477\n"
     ]
    },
    {
     "name": "stderr",
     "output_type": "stream",
     "text": [
      "C:\\ProgramData\\Anaconda3\\lib\\site-packages\\sklearn\\utils\\__init__.py:54: FutureWarning: Conversion of the second argument of issubdtype from `int` to `np.signedinteger` is deprecated. In future, it will be treated as `np.int32 == np.dtype(int).type`.\n",
      "  if np.issubdtype(mask.dtype, np.int):\n"
     ]
    },
    {
     "name": "stdout",
     "output_type": "stream",
     "text": [
      "Thresh=0.0015475429666551035, n=29, R2 Score: 0.983294445258701\n"
     ]
    },
    {
     "name": "stderr",
     "output_type": "stream",
     "text": [
      "C:\\ProgramData\\Anaconda3\\lib\\site-packages\\sklearn\\utils\\__init__.py:54: FutureWarning: Conversion of the second argument of issubdtype from `int` to `np.signedinteger` is deprecated. In future, it will be treated as `np.int32 == np.dtype(int).type`.\n",
      "  if np.issubdtype(mask.dtype, np.int):\n"
     ]
    },
    {
     "name": "stdout",
     "output_type": "stream",
     "text": [
      "Thresh=0.0018207917149058847, n=28, R2 Score: 0.9826473426583672\n"
     ]
    },
    {
     "name": "stderr",
     "output_type": "stream",
     "text": [
      "C:\\ProgramData\\Anaconda3\\lib\\site-packages\\sklearn\\utils\\__init__.py:54: FutureWarning: Conversion of the second argument of issubdtype from `int` to `np.signedinteger` is deprecated. In future, it will be treated as `np.int32 == np.dtype(int).type`.\n",
      "  if np.issubdtype(mask.dtype, np.int):\n"
     ]
    },
    {
     "name": "stdout",
     "output_type": "stream",
     "text": [
      "Thresh=0.002061739566049382, n=27, R2 Score: 0.9822587650378493\n"
     ]
    },
    {
     "name": "stderr",
     "output_type": "stream",
     "text": [
      "C:\\ProgramData\\Anaconda3\\lib\\site-packages\\sklearn\\utils\\__init__.py:54: FutureWarning: Conversion of the second argument of issubdtype from `int` to `np.signedinteger` is deprecated. In future, it will be treated as `np.int32 == np.dtype(int).type`.\n",
      "  if np.issubdtype(mask.dtype, np.int):\n"
     ]
    },
    {
     "name": "stdout",
     "output_type": "stream",
     "text": [
      "Thresh=0.002275681167209239, n=26, R2 Score: 0.9819114152534002\n"
     ]
    },
    {
     "name": "stderr",
     "output_type": "stream",
     "text": [
      "C:\\ProgramData\\Anaconda3\\lib\\site-packages\\sklearn\\utils\\__init__.py:54: FutureWarning: Conversion of the second argument of issubdtype from `int` to `np.signedinteger` is deprecated. In future, it will be treated as `np.int32 == np.dtype(int).type`.\n",
      "  if np.issubdtype(mask.dtype, np.int):\n"
     ]
    },
    {
     "name": "stdout",
     "output_type": "stream",
     "text": [
      "Thresh=0.002842639438780586, n=25, R2 Score: 0.9831789577519844\n"
     ]
    },
    {
     "name": "stderr",
     "output_type": "stream",
     "text": [
      "C:\\ProgramData\\Anaconda3\\lib\\site-packages\\sklearn\\utils\\__init__.py:54: FutureWarning: Conversion of the second argument of issubdtype from `int` to `np.signedinteger` is deprecated. In future, it will be treated as `np.int32 == np.dtype(int).type`.\n",
      "  if np.issubdtype(mask.dtype, np.int):\n"
     ]
    },
    {
     "name": "stdout",
     "output_type": "stream",
     "text": [
      "Thresh=0.003114358364863367, n=24, R2 Score: 0.9818700713856108\n"
     ]
    },
    {
     "name": "stderr",
     "output_type": "stream",
     "text": [
      "C:\\ProgramData\\Anaconda3\\lib\\site-packages\\sklearn\\utils\\__init__.py:54: FutureWarning: Conversion of the second argument of issubdtype from `int` to `np.signedinteger` is deprecated. In future, it will be treated as `np.int32 == np.dtype(int).type`.\n",
      "  if np.issubdtype(mask.dtype, np.int):\n"
     ]
    },
    {
     "name": "stdout",
     "output_type": "stream",
     "text": [
      "Thresh=0.003118715496523419, n=23, R2 Score: 0.9818094668827905\n"
     ]
    },
    {
     "name": "stderr",
     "output_type": "stream",
     "text": [
      "C:\\ProgramData\\Anaconda3\\lib\\site-packages\\sklearn\\utils\\__init__.py:54: FutureWarning: Conversion of the second argument of issubdtype from `int` to `np.signedinteger` is deprecated. In future, it will be treated as `np.int32 == np.dtype(int).type`.\n",
      "  if np.issubdtype(mask.dtype, np.int):\n"
     ]
    },
    {
     "name": "stdout",
     "output_type": "stream",
     "text": [
      "Thresh=0.0037373781655267503, n=22, R2 Score: 0.983686418068264\n"
     ]
    },
    {
     "name": "stderr",
     "output_type": "stream",
     "text": [
      "C:\\ProgramData\\Anaconda3\\lib\\site-packages\\sklearn\\utils\\__init__.py:54: FutureWarning: Conversion of the second argument of issubdtype from `int` to `np.signedinteger` is deprecated. In future, it will be treated as `np.int32 == np.dtype(int).type`.\n",
      "  if np.issubdtype(mask.dtype, np.int):\n"
     ]
    },
    {
     "name": "stdout",
     "output_type": "stream",
     "text": [
      "Thresh=0.0038938202749565706, n=21, R2 Score: 0.981187511635492\n"
     ]
    },
    {
     "name": "stderr",
     "output_type": "stream",
     "text": [
      "C:\\ProgramData\\Anaconda3\\lib\\site-packages\\sklearn\\utils\\__init__.py:54: FutureWarning: Conversion of the second argument of issubdtype from `int` to `np.signedinteger` is deprecated. In future, it will be treated as `np.int32 == np.dtype(int).type`.\n",
      "  if np.issubdtype(mask.dtype, np.int):\n"
     ]
    },
    {
     "name": "stdout",
     "output_type": "stream",
     "text": [
      "Thresh=0.004995886088568031, n=20, R2 Score: 0.9821484819321709\n"
     ]
    },
    {
     "name": "stderr",
     "output_type": "stream",
     "text": [
      "C:\\ProgramData\\Anaconda3\\lib\\site-packages\\sklearn\\utils\\__init__.py:54: FutureWarning: Conversion of the second argument of issubdtype from `int` to `np.signedinteger` is deprecated. In future, it will be treated as `np.int32 == np.dtype(int).type`.\n",
      "  if np.issubdtype(mask.dtype, np.int):\n"
     ]
    },
    {
     "name": "stdout",
     "output_type": "stream",
     "text": [
      "Thresh=0.005780321732242645, n=19, R2 Score: 0.98143490198437\n"
     ]
    },
    {
     "name": "stderr",
     "output_type": "stream",
     "text": [
      "C:\\ProgramData\\Anaconda3\\lib\\site-packages\\sklearn\\utils\\__init__.py:54: FutureWarning: Conversion of the second argument of issubdtype from `int` to `np.signedinteger` is deprecated. In future, it will be treated as `np.int32 == np.dtype(int).type`.\n",
      "  if np.issubdtype(mask.dtype, np.int):\n"
     ]
    },
    {
     "name": "stdout",
     "output_type": "stream",
     "text": [
      "Thresh=0.00587550347478265, n=18, R2 Score: 0.9814167108591126\n"
     ]
    },
    {
     "name": "stderr",
     "output_type": "stream",
     "text": [
      "C:\\ProgramData\\Anaconda3\\lib\\site-packages\\sklearn\\utils\\__init__.py:54: FutureWarning: Conversion of the second argument of issubdtype from `int` to `np.signedinteger` is deprecated. In future, it will be treated as `np.int32 == np.dtype(int).type`.\n",
      "  if np.issubdtype(mask.dtype, np.int):\n"
     ]
    },
    {
     "name": "stdout",
     "output_type": "stream",
     "text": [
      "Thresh=0.005890986576062265, n=17, R2 Score: 0.9798227786974544\n"
     ]
    },
    {
     "name": "stderr",
     "output_type": "stream",
     "text": [
      "C:\\ProgramData\\Anaconda3\\lib\\site-packages\\sklearn\\utils\\__init__.py:54: FutureWarning: Conversion of the second argument of issubdtype from `int` to `np.signedinteger` is deprecated. In future, it will be treated as `np.int32 == np.dtype(int).type`.\n",
      "  if np.issubdtype(mask.dtype, np.int):\n"
     ]
    },
    {
     "name": "stdout",
     "output_type": "stream",
     "text": [
      "Thresh=0.005986175421416461, n=16, R2 Score: 0.9798316406201237\n"
     ]
    },
    {
     "name": "stderr",
     "output_type": "stream",
     "text": [
      "C:\\ProgramData\\Anaconda3\\lib\\site-packages\\sklearn\\utils\\__init__.py:54: FutureWarning: Conversion of the second argument of issubdtype from `int` to `np.signedinteger` is deprecated. In future, it will be treated as `np.int32 == np.dtype(int).type`.\n",
      "  if np.issubdtype(mask.dtype, np.int):\n"
     ]
    },
    {
     "name": "stdout",
     "output_type": "stream",
     "text": [
      "Thresh=0.007312398614979541, n=15, R2 Score: 0.9810607614845802\n"
     ]
    },
    {
     "name": "stderr",
     "output_type": "stream",
     "text": [
      "C:\\ProgramData\\Anaconda3\\lib\\site-packages\\sklearn\\utils\\__init__.py:54: FutureWarning: Conversion of the second argument of issubdtype from `int` to `np.signedinteger` is deprecated. In future, it will be treated as `np.int32 == np.dtype(int).type`.\n",
      "  if np.issubdtype(mask.dtype, np.int):\n"
     ]
    },
    {
     "name": "stdout",
     "output_type": "stream",
     "text": [
      "Thresh=0.01293989690362835, n=14, R2 Score: 0.9799137980150662\n"
     ]
    },
    {
     "name": "stderr",
     "output_type": "stream",
     "text": [
      "C:\\ProgramData\\Anaconda3\\lib\\site-packages\\sklearn\\utils\\__init__.py:54: FutureWarning: Conversion of the second argument of issubdtype from `int` to `np.signedinteger` is deprecated. In future, it will be treated as `np.int32 == np.dtype(int).type`.\n",
      "  if np.issubdtype(mask.dtype, np.int):\n"
     ]
    },
    {
     "name": "stdout",
     "output_type": "stream",
     "text": [
      "Thresh=0.01299404917434727, n=13, R2 Score: 0.9791599512765355\n"
     ]
    },
    {
     "name": "stderr",
     "output_type": "stream",
     "text": [
      "C:\\ProgramData\\Anaconda3\\lib\\site-packages\\sklearn\\utils\\__init__.py:54: FutureWarning: Conversion of the second argument of issubdtype from `int` to `np.signedinteger` is deprecated. In future, it will be treated as `np.int32 == np.dtype(int).type`.\n",
      "  if np.issubdtype(mask.dtype, np.int):\n"
     ]
    },
    {
     "name": "stdout",
     "output_type": "stream",
     "text": [
      "Thresh=0.014806480991125874, n=12, R2 Score: 0.9787341129697044\n"
     ]
    },
    {
     "name": "stderr",
     "output_type": "stream",
     "text": [
      "C:\\ProgramData\\Anaconda3\\lib\\site-packages\\sklearn\\utils\\__init__.py:54: FutureWarning: Conversion of the second argument of issubdtype from `int` to `np.signedinteger` is deprecated. In future, it will be treated as `np.int32 == np.dtype(int).type`.\n",
      "  if np.issubdtype(mask.dtype, np.int):\n"
     ]
    },
    {
     "name": "stdout",
     "output_type": "stream",
     "text": [
      "Thresh=0.015923561207438902, n=11, R2 Score: 0.9767362258314981\n"
     ]
    },
    {
     "name": "stderr",
     "output_type": "stream",
     "text": [
      "C:\\ProgramData\\Anaconda3\\lib\\site-packages\\sklearn\\utils\\__init__.py:54: FutureWarning: Conversion of the second argument of issubdtype from `int` to `np.signedinteger` is deprecated. In future, it will be treated as `np.int32 == np.dtype(int).type`.\n",
      "  if np.issubdtype(mask.dtype, np.int):\n"
     ]
    },
    {
     "name": "stdout",
     "output_type": "stream",
     "text": [
      "Thresh=0.017328096902383544, n=10, R2 Score: 0.9766136030045649\n"
     ]
    },
    {
     "name": "stderr",
     "output_type": "stream",
     "text": [
      "C:\\ProgramData\\Anaconda3\\lib\\site-packages\\sklearn\\utils\\__init__.py:54: FutureWarning: Conversion of the second argument of issubdtype from `int` to `np.signedinteger` is deprecated. In future, it will be treated as `np.int32 == np.dtype(int).type`.\n",
      "  if np.issubdtype(mask.dtype, np.int):\n"
     ]
    },
    {
     "name": "stdout",
     "output_type": "stream",
     "text": [
      "Thresh=0.01924976295961175, n=9, R2 Score: 0.9747116204977767\n"
     ]
    },
    {
     "name": "stderr",
     "output_type": "stream",
     "text": [
      "C:\\ProgramData\\Anaconda3\\lib\\site-packages\\sklearn\\utils\\__init__.py:54: FutureWarning: Conversion of the second argument of issubdtype from `int` to `np.signedinteger` is deprecated. In future, it will be treated as `np.int32 == np.dtype(int).type`.\n",
      "  if np.issubdtype(mask.dtype, np.int):\n"
     ]
    },
    {
     "name": "stdout",
     "output_type": "stream",
     "text": [
      "Thresh=0.019712731370753862, n=8, R2 Score: 0.9758290141661177\n"
     ]
    },
    {
     "name": "stderr",
     "output_type": "stream",
     "text": [
      "C:\\ProgramData\\Anaconda3\\lib\\site-packages\\sklearn\\utils\\__init__.py:54: FutureWarning: Conversion of the second argument of issubdtype from `int` to `np.signedinteger` is deprecated. In future, it will be treated as `np.int32 == np.dtype(int).type`.\n",
      "  if np.issubdtype(mask.dtype, np.int):\n"
     ]
    },
    {
     "name": "stdout",
     "output_type": "stream",
     "text": [
      "Thresh=0.02168962574641939, n=7, R2 Score: 0.9721060676709206\n"
     ]
    },
    {
     "name": "stderr",
     "output_type": "stream",
     "text": [
      "C:\\ProgramData\\Anaconda3\\lib\\site-packages\\sklearn\\utils\\__init__.py:54: FutureWarning: Conversion of the second argument of issubdtype from `int` to `np.signedinteger` is deprecated. In future, it will be treated as `np.int32 == np.dtype(int).type`.\n",
      "  if np.issubdtype(mask.dtype, np.int):\n"
     ]
    },
    {
     "name": "stdout",
     "output_type": "stream",
     "text": [
      "Thresh=0.0271604917766654, n=6, R2 Score: 0.965252387970892\n"
     ]
    },
    {
     "name": "stderr",
     "output_type": "stream",
     "text": [
      "C:\\ProgramData\\Anaconda3\\lib\\site-packages\\sklearn\\utils\\__init__.py:54: FutureWarning: Conversion of the second argument of issubdtype from `int` to `np.signedinteger` is deprecated. In future, it will be treated as `np.int32 == np.dtype(int).type`.\n",
      "  if np.issubdtype(mask.dtype, np.int):\n"
     ]
    },
    {
     "name": "stdout",
     "output_type": "stream",
     "text": [
      "Thresh=0.027254546339848723, n=5, R2 Score: 0.9562477822297184\n"
     ]
    },
    {
     "name": "stderr",
     "output_type": "stream",
     "text": [
      "C:\\ProgramData\\Anaconda3\\lib\\site-packages\\sklearn\\utils\\__init__.py:54: FutureWarning: Conversion of the second argument of issubdtype from `int` to `np.signedinteger` is deprecated. In future, it will be treated as `np.int32 == np.dtype(int).type`.\n",
      "  if np.issubdtype(mask.dtype, np.int):\n"
     ]
    },
    {
     "name": "stdout",
     "output_type": "stream",
     "text": [
      "Thresh=0.030489963747485083, n=4, R2 Score: 0.9321456227550402\n"
     ]
    },
    {
     "name": "stderr",
     "output_type": "stream",
     "text": [
      "C:\\ProgramData\\Anaconda3\\lib\\site-packages\\sklearn\\utils\\__init__.py:54: FutureWarning: Conversion of the second argument of issubdtype from `int` to `np.signedinteger` is deprecated. In future, it will be treated as `np.int32 == np.dtype(int).type`.\n",
      "  if np.issubdtype(mask.dtype, np.int):\n"
     ]
    },
    {
     "name": "stdout",
     "output_type": "stream",
     "text": [
      "Thresh=0.05831103630139127, n=3, R2 Score: 0.9044184853938757\n"
     ]
    },
    {
     "name": "stderr",
     "output_type": "stream",
     "text": [
      "C:\\ProgramData\\Anaconda3\\lib\\site-packages\\sklearn\\utils\\__init__.py:54: FutureWarning: Conversion of the second argument of issubdtype from `int` to `np.signedinteger` is deprecated. In future, it will be treated as `np.int32 == np.dtype(int).type`.\n",
      "  if np.issubdtype(mask.dtype, np.int):\n",
      "C:\\ProgramData\\Anaconda3\\lib\\site-packages\\sklearn\\utils\\__init__.py:54: FutureWarning: Conversion of the second argument of issubdtype from `int` to `np.signedinteger` is deprecated. In future, it will be treated as `np.int32 == np.dtype(int).type`.\n",
      "  if np.issubdtype(mask.dtype, np.int):\n"
     ]
    },
    {
     "name": "stdout",
     "output_type": "stream",
     "text": [
      "Thresh=0.09013634706976575, n=2, R2 Score: 0.8427020575306674\n",
      "Thresh=0.5644861946957453, n=1, R2 Score: 0.6853594207776097\n",
      "\n",
      "\n",
      "------------------------------------------\n",
      "\n",
      "\n",
      "Table [REP_HIST_SYSMETRIC_SUMMARY] RFR R2 Score: 0.8863403138557522\n"
     ]
    },
    {
     "name": "stderr",
     "output_type": "stream",
     "text": [
      "C:\\ProgramData\\Anaconda3\\lib\\site-packages\\sklearn\\utils\\__init__.py:54: FutureWarning: Conversion of the second argument of issubdtype from `int` to `np.signedinteger` is deprecated. In future, it will be treated as `np.int32 == np.dtype(int).type`.\n",
      "  if np.issubdtype(mask.dtype, np.int):\n",
      "C:\\ProgramData\\Anaconda3\\lib\\site-packages\\sklearn\\utils\\__init__.py:54: FutureWarning: Conversion of the second argument of issubdtype from `int` to `np.signedinteger` is deprecated. In future, it will be treated as `np.int32 == np.dtype(int).type`.\n",
      "  if np.issubdtype(mask.dtype, np.int):\n"
     ]
    },
    {
     "name": "stdout",
     "output_type": "stream",
     "text": [
      "Thresh=0.0, n=140, R2 Score: 0.8841138034235074\n"
     ]
    },
    {
     "name": "stderr",
     "output_type": "stream",
     "text": [
      "C:\\ProgramData\\Anaconda3\\lib\\site-packages\\sklearn\\utils\\__init__.py:54: FutureWarning: Conversion of the second argument of issubdtype from `int` to `np.signedinteger` is deprecated. In future, it will be treated as `np.int32 == np.dtype(int).type`.\n",
      "  if np.issubdtype(mask.dtype, np.int):\n"
     ]
    },
    {
     "name": "stdout",
     "output_type": "stream",
     "text": [
      "Thresh=0.0, n=140, R2 Score: 0.8893494451544752\n"
     ]
    },
    {
     "name": "stderr",
     "output_type": "stream",
     "text": [
      "C:\\ProgramData\\Anaconda3\\lib\\site-packages\\sklearn\\utils\\__init__.py:54: FutureWarning: Conversion of the second argument of issubdtype from `int` to `np.signedinteger` is deprecated. In future, it will be treated as `np.int32 == np.dtype(int).type`.\n",
      "  if np.issubdtype(mask.dtype, np.int):\n"
     ]
    },
    {
     "name": "stdout",
     "output_type": "stream",
     "text": [
      "Thresh=0.0, n=140, R2 Score: 0.8855212417837619\n"
     ]
    },
    {
     "name": "stderr",
     "output_type": "stream",
     "text": [
      "C:\\ProgramData\\Anaconda3\\lib\\site-packages\\sklearn\\utils\\__init__.py:54: FutureWarning: Conversion of the second argument of issubdtype from `int` to `np.signedinteger` is deprecated. In future, it will be treated as `np.int32 == np.dtype(int).type`.\n",
      "  if np.issubdtype(mask.dtype, np.int):\n"
     ]
    },
    {
     "name": "stdout",
     "output_type": "stream",
     "text": [
      "Thresh=0.0, n=140, R2 Score: 0.8873583722224029\n"
     ]
    },
    {
     "name": "stderr",
     "output_type": "stream",
     "text": [
      "C:\\ProgramData\\Anaconda3\\lib\\site-packages\\sklearn\\utils\\__init__.py:54: FutureWarning: Conversion of the second argument of issubdtype from `int` to `np.signedinteger` is deprecated. In future, it will be treated as `np.int32 == np.dtype(int).type`.\n",
      "  if np.issubdtype(mask.dtype, np.int):\n"
     ]
    },
    {
     "name": "stdout",
     "output_type": "stream",
     "text": [
      "Thresh=0.0, n=140, R2 Score: 0.8857819134270677\n"
     ]
    },
    {
     "name": "stderr",
     "output_type": "stream",
     "text": [
      "C:\\ProgramData\\Anaconda3\\lib\\site-packages\\sklearn\\utils\\__init__.py:54: FutureWarning: Conversion of the second argument of issubdtype from `int` to `np.signedinteger` is deprecated. In future, it will be treated as `np.int32 == np.dtype(int).type`.\n",
      "  if np.issubdtype(mask.dtype, np.int):\n"
     ]
    },
    {
     "name": "stdout",
     "output_type": "stream",
     "text": [
      "Thresh=0.0, n=140, R2 Score: 0.8872968831896526\n"
     ]
    },
    {
     "name": "stderr",
     "output_type": "stream",
     "text": [
      "C:\\ProgramData\\Anaconda3\\lib\\site-packages\\sklearn\\utils\\__init__.py:54: FutureWarning: Conversion of the second argument of issubdtype from `int` to `np.signedinteger` is deprecated. In future, it will be treated as `np.int32 == np.dtype(int).type`.\n",
      "  if np.issubdtype(mask.dtype, np.int):\n"
     ]
    },
    {
     "name": "stdout",
     "output_type": "stream",
     "text": [
      "Thresh=0.0, n=140, R2 Score: 0.8856909707178744\n"
     ]
    },
    {
     "name": "stderr",
     "output_type": "stream",
     "text": [
      "C:\\ProgramData\\Anaconda3\\lib\\site-packages\\sklearn\\utils\\__init__.py:54: FutureWarning: Conversion of the second argument of issubdtype from `int` to `np.signedinteger` is deprecated. In future, it will be treated as `np.int32 == np.dtype(int).type`.\n",
      "  if np.issubdtype(mask.dtype, np.int):\n"
     ]
    },
    {
     "name": "stdout",
     "output_type": "stream",
     "text": [
      "Thresh=0.0, n=140, R2 Score: 0.886893314338886\n"
     ]
    },
    {
     "name": "stderr",
     "output_type": "stream",
     "text": [
      "C:\\ProgramData\\Anaconda3\\lib\\site-packages\\sklearn\\utils\\__init__.py:54: FutureWarning: Conversion of the second argument of issubdtype from `int` to `np.signedinteger` is deprecated. In future, it will be treated as `np.int32 == np.dtype(int).type`.\n",
      "  if np.issubdtype(mask.dtype, np.int):\n"
     ]
    },
    {
     "name": "stdout",
     "output_type": "stream",
     "text": [
      "Thresh=0.0, n=140, R2 Score: 0.8878719239073183\n"
     ]
    },
    {
     "name": "stderr",
     "output_type": "stream",
     "text": [
      "C:\\ProgramData\\Anaconda3\\lib\\site-packages\\sklearn\\utils\\__init__.py:54: FutureWarning: Conversion of the second argument of issubdtype from `int` to `np.signedinteger` is deprecated. In future, it will be treated as `np.int32 == np.dtype(int).type`.\n",
      "  if np.issubdtype(mask.dtype, np.int):\n"
     ]
    },
    {
     "name": "stdout",
     "output_type": "stream",
     "text": [
      "Thresh=0.0, n=140, R2 Score: 0.885300620470712\n"
     ]
    },
    {
     "name": "stderr",
     "output_type": "stream",
     "text": [
      "C:\\ProgramData\\Anaconda3\\lib\\site-packages\\sklearn\\utils\\__init__.py:54: FutureWarning: Conversion of the second argument of issubdtype from `int` to `np.signedinteger` is deprecated. In future, it will be treated as `np.int32 == np.dtype(int).type`.\n",
      "  if np.issubdtype(mask.dtype, np.int):\n"
     ]
    },
    {
     "name": "stdout",
     "output_type": "stream",
     "text": [
      "Thresh=0.0, n=140, R2 Score: 0.8860255697676952\n"
     ]
    },
    {
     "name": "stderr",
     "output_type": "stream",
     "text": [
      "C:\\ProgramData\\Anaconda3\\lib\\site-packages\\sklearn\\utils\\__init__.py:54: FutureWarning: Conversion of the second argument of issubdtype from `int` to `np.signedinteger` is deprecated. In future, it will be treated as `np.int32 == np.dtype(int).type`.\n",
      "  if np.issubdtype(mask.dtype, np.int):\n"
     ]
    },
    {
     "name": "stdout",
     "output_type": "stream",
     "text": [
      "Thresh=0.0, n=140, R2 Score: 0.8837550399004946\n"
     ]
    },
    {
     "name": "stderr",
     "output_type": "stream",
     "text": [
      "C:\\ProgramData\\Anaconda3\\lib\\site-packages\\sklearn\\utils\\__init__.py:54: FutureWarning: Conversion of the second argument of issubdtype from `int` to `np.signedinteger` is deprecated. In future, it will be treated as `np.int32 == np.dtype(int).type`.\n",
      "  if np.issubdtype(mask.dtype, np.int):\n"
     ]
    },
    {
     "name": "stdout",
     "output_type": "stream",
     "text": [
      "Thresh=0.0, n=140, R2 Score: 0.8894784970575897\n"
     ]
    },
    {
     "name": "stderr",
     "output_type": "stream",
     "text": [
      "C:\\ProgramData\\Anaconda3\\lib\\site-packages\\sklearn\\utils\\__init__.py:54: FutureWarning: Conversion of the second argument of issubdtype from `int` to `np.signedinteger` is deprecated. In future, it will be treated as `np.int32 == np.dtype(int).type`.\n",
      "  if np.issubdtype(mask.dtype, np.int):\n"
     ]
    },
    {
     "name": "stdout",
     "output_type": "stream",
     "text": [
      "Thresh=0.0, n=140, R2 Score: 0.8868512574336637\n"
     ]
    },
    {
     "name": "stderr",
     "output_type": "stream",
     "text": [
      "C:\\ProgramData\\Anaconda3\\lib\\site-packages\\sklearn\\utils\\__init__.py:54: FutureWarning: Conversion of the second argument of issubdtype from `int` to `np.signedinteger` is deprecated. In future, it will be treated as `np.int32 == np.dtype(int).type`.\n",
      "  if np.issubdtype(mask.dtype, np.int):\n"
     ]
    },
    {
     "name": "stdout",
     "output_type": "stream",
     "text": [
      "Thresh=0.0, n=140, R2 Score: 0.8875072526601414\n"
     ]
    },
    {
     "name": "stderr",
     "output_type": "stream",
     "text": [
      "C:\\ProgramData\\Anaconda3\\lib\\site-packages\\sklearn\\utils\\__init__.py:54: FutureWarning: Conversion of the second argument of issubdtype from `int` to `np.signedinteger` is deprecated. In future, it will be treated as `np.int32 == np.dtype(int).type`.\n",
      "  if np.issubdtype(mask.dtype, np.int):\n"
     ]
    },
    {
     "name": "stdout",
     "output_type": "stream",
     "text": [
      "Thresh=0.0, n=140, R2 Score: 0.8872871447886632\n"
     ]
    },
    {
     "name": "stderr",
     "output_type": "stream",
     "text": [
      "C:\\ProgramData\\Anaconda3\\lib\\site-packages\\sklearn\\utils\\__init__.py:54: FutureWarning: Conversion of the second argument of issubdtype from `int` to `np.signedinteger` is deprecated. In future, it will be treated as `np.int32 == np.dtype(int).type`.\n",
      "  if np.issubdtype(mask.dtype, np.int):\n"
     ]
    },
    {
     "name": "stdout",
     "output_type": "stream",
     "text": [
      "Thresh=0.0, n=140, R2 Score: 0.8880891801645764\n"
     ]
    },
    {
     "name": "stderr",
     "output_type": "stream",
     "text": [
      "C:\\ProgramData\\Anaconda3\\lib\\site-packages\\sklearn\\utils\\__init__.py:54: FutureWarning: Conversion of the second argument of issubdtype from `int` to `np.signedinteger` is deprecated. In future, it will be treated as `np.int32 == np.dtype(int).type`.\n",
      "  if np.issubdtype(mask.dtype, np.int):\n"
     ]
    },
    {
     "name": "stdout",
     "output_type": "stream",
     "text": [
      "Thresh=0.0, n=140, R2 Score: 0.8880307170393248\n"
     ]
    },
    {
     "name": "stderr",
     "output_type": "stream",
     "text": [
      "C:\\ProgramData\\Anaconda3\\lib\\site-packages\\sklearn\\utils\\__init__.py:54: FutureWarning: Conversion of the second argument of issubdtype from `int` to `np.signedinteger` is deprecated. In future, it will be treated as `np.int32 == np.dtype(int).type`.\n",
      "  if np.issubdtype(mask.dtype, np.int):\n"
     ]
    },
    {
     "name": "stdout",
     "output_type": "stream",
     "text": [
      "Thresh=0.0, n=140, R2 Score: 0.8891876739355086\n"
     ]
    },
    {
     "name": "stderr",
     "output_type": "stream",
     "text": [
      "C:\\ProgramData\\Anaconda3\\lib\\site-packages\\sklearn\\utils\\__init__.py:54: FutureWarning: Conversion of the second argument of issubdtype from `int` to `np.signedinteger` is deprecated. In future, it will be treated as `np.int32 == np.dtype(int).type`.\n",
      "  if np.issubdtype(mask.dtype, np.int):\n"
     ]
    },
    {
     "name": "stdout",
     "output_type": "stream",
     "text": [
      "Thresh=0.0, n=140, R2 Score: 0.884934607731585\n"
     ]
    },
    {
     "name": "stderr",
     "output_type": "stream",
     "text": [
      "C:\\ProgramData\\Anaconda3\\lib\\site-packages\\sklearn\\utils\\__init__.py:54: FutureWarning: Conversion of the second argument of issubdtype from `int` to `np.signedinteger` is deprecated. In future, it will be treated as `np.int32 == np.dtype(int).type`.\n",
      "  if np.issubdtype(mask.dtype, np.int):\n"
     ]
    },
    {
     "name": "stdout",
     "output_type": "stream",
     "text": [
      "Thresh=0.0, n=140, R2 Score: 0.886757595245949\n"
     ]
    },
    {
     "name": "stderr",
     "output_type": "stream",
     "text": [
      "C:\\ProgramData\\Anaconda3\\lib\\site-packages\\sklearn\\utils\\__init__.py:54: FutureWarning: Conversion of the second argument of issubdtype from `int` to `np.signedinteger` is deprecated. In future, it will be treated as `np.int32 == np.dtype(int).type`.\n",
      "  if np.issubdtype(mask.dtype, np.int):\n"
     ]
    },
    {
     "name": "stdout",
     "output_type": "stream",
     "text": [
      "Thresh=0.0, n=140, R2 Score: 0.8875953896880004\n"
     ]
    },
    {
     "name": "stderr",
     "output_type": "stream",
     "text": [
      "C:\\ProgramData\\Anaconda3\\lib\\site-packages\\sklearn\\utils\\__init__.py:54: FutureWarning: Conversion of the second argument of issubdtype from `int` to `np.signedinteger` is deprecated. In future, it will be treated as `np.int32 == np.dtype(int).type`.\n",
      "  if np.issubdtype(mask.dtype, np.int):\n"
     ]
    },
    {
     "name": "stdout",
     "output_type": "stream",
     "text": [
      "Thresh=0.0, n=140, R2 Score: 0.8849312747658915\n"
     ]
    },
    {
     "name": "stderr",
     "output_type": "stream",
     "text": [
      "C:\\ProgramData\\Anaconda3\\lib\\site-packages\\sklearn\\utils\\__init__.py:54: FutureWarning: Conversion of the second argument of issubdtype from `int` to `np.signedinteger` is deprecated. In future, it will be treated as `np.int32 == np.dtype(int).type`.\n",
      "  if np.issubdtype(mask.dtype, np.int):\n"
     ]
    },
    {
     "name": "stdout",
     "output_type": "stream",
     "text": [
      "Thresh=0.0, n=140, R2 Score: 0.8859616871911468\n"
     ]
    },
    {
     "name": "stderr",
     "output_type": "stream",
     "text": [
      "C:\\ProgramData\\Anaconda3\\lib\\site-packages\\sklearn\\utils\\__init__.py:54: FutureWarning: Conversion of the second argument of issubdtype from `int` to `np.signedinteger` is deprecated. In future, it will be treated as `np.int32 == np.dtype(int).type`.\n",
      "  if np.issubdtype(mask.dtype, np.int):\n"
     ]
    },
    {
     "name": "stdout",
     "output_type": "stream",
     "text": [
      "Thresh=0.0, n=140, R2 Score: 0.8875429632765235\n"
     ]
    },
    {
     "name": "stderr",
     "output_type": "stream",
     "text": [
      "C:\\ProgramData\\Anaconda3\\lib\\site-packages\\sklearn\\utils\\__init__.py:54: FutureWarning: Conversion of the second argument of issubdtype from `int` to `np.signedinteger` is deprecated. In future, it will be treated as `np.int32 == np.dtype(int).type`.\n",
      "  if np.issubdtype(mask.dtype, np.int):\n"
     ]
    },
    {
     "name": "stdout",
     "output_type": "stream",
     "text": [
      "Thresh=0.0, n=140, R2 Score: 0.8864894403175773\n"
     ]
    },
    {
     "name": "stderr",
     "output_type": "stream",
     "text": [
      "C:\\ProgramData\\Anaconda3\\lib\\site-packages\\sklearn\\utils\\__init__.py:54: FutureWarning: Conversion of the second argument of issubdtype from `int` to `np.signedinteger` is deprecated. In future, it will be treated as `np.int32 == np.dtype(int).type`.\n",
      "  if np.issubdtype(mask.dtype, np.int):\n"
     ]
    },
    {
     "name": "stdout",
     "output_type": "stream",
     "text": [
      "Thresh=0.0, n=140, R2 Score: 0.8889327803975388\n"
     ]
    },
    {
     "name": "stderr",
     "output_type": "stream",
     "text": [
      "C:\\ProgramData\\Anaconda3\\lib\\site-packages\\sklearn\\utils\\__init__.py:54: FutureWarning: Conversion of the second argument of issubdtype from `int` to `np.signedinteger` is deprecated. In future, it will be treated as `np.int32 == np.dtype(int).type`.\n",
      "  if np.issubdtype(mask.dtype, np.int):\n"
     ]
    },
    {
     "name": "stdout",
     "output_type": "stream",
     "text": [
      "Thresh=0.0, n=140, R2 Score: 0.8868266550250133\n"
     ]
    },
    {
     "name": "stderr",
     "output_type": "stream",
     "text": [
      "C:\\ProgramData\\Anaconda3\\lib\\site-packages\\sklearn\\utils\\__init__.py:54: FutureWarning: Conversion of the second argument of issubdtype from `int` to `np.signedinteger` is deprecated. In future, it will be treated as `np.int32 == np.dtype(int).type`.\n",
      "  if np.issubdtype(mask.dtype, np.int):\n"
     ]
    },
    {
     "name": "stdout",
     "output_type": "stream",
     "text": [
      "Thresh=0.0, n=140, R2 Score: 0.8860864761449363\n"
     ]
    },
    {
     "name": "stderr",
     "output_type": "stream",
     "text": [
      "C:\\ProgramData\\Anaconda3\\lib\\site-packages\\sklearn\\utils\\__init__.py:54: FutureWarning: Conversion of the second argument of issubdtype from `int` to `np.signedinteger` is deprecated. In future, it will be treated as `np.int32 == np.dtype(int).type`.\n",
      "  if np.issubdtype(mask.dtype, np.int):\n"
     ]
    },
    {
     "name": "stdout",
     "output_type": "stream",
     "text": [
      "Thresh=0.0, n=140, R2 Score: 0.8870785956447276\n"
     ]
    },
    {
     "name": "stderr",
     "output_type": "stream",
     "text": [
      "C:\\ProgramData\\Anaconda3\\lib\\site-packages\\sklearn\\utils\\__init__.py:54: FutureWarning: Conversion of the second argument of issubdtype from `int` to `np.signedinteger` is deprecated. In future, it will be treated as `np.int32 == np.dtype(int).type`.\n",
      "  if np.issubdtype(mask.dtype, np.int):\n"
     ]
    },
    {
     "name": "stdout",
     "output_type": "stream",
     "text": [
      "Thresh=0.0, n=140, R2 Score: 0.8860501652549517\n"
     ]
    },
    {
     "name": "stderr",
     "output_type": "stream",
     "text": [
      "C:\\ProgramData\\Anaconda3\\lib\\site-packages\\sklearn\\utils\\__init__.py:54: FutureWarning: Conversion of the second argument of issubdtype from `int` to `np.signedinteger` is deprecated. In future, it will be treated as `np.int32 == np.dtype(int).type`.\n",
      "  if np.issubdtype(mask.dtype, np.int):\n"
     ]
    },
    {
     "name": "stdout",
     "output_type": "stream",
     "text": [
      "Thresh=0.0, n=140, R2 Score: 0.8881701214598184\n"
     ]
    },
    {
     "name": "stderr",
     "output_type": "stream",
     "text": [
      "C:\\ProgramData\\Anaconda3\\lib\\site-packages\\sklearn\\utils\\__init__.py:54: FutureWarning: Conversion of the second argument of issubdtype from `int` to `np.signedinteger` is deprecated. In future, it will be treated as `np.int32 == np.dtype(int).type`.\n",
      "  if np.issubdtype(mask.dtype, np.int):\n"
     ]
    },
    {
     "name": "stdout",
     "output_type": "stream",
     "text": [
      "Thresh=0.0, n=140, R2 Score: 0.8856375973338906\n"
     ]
    },
    {
     "name": "stderr",
     "output_type": "stream",
     "text": [
      "C:\\ProgramData\\Anaconda3\\lib\\site-packages\\sklearn\\utils\\__init__.py:54: FutureWarning: Conversion of the second argument of issubdtype from `int` to `np.signedinteger` is deprecated. In future, it will be treated as `np.int32 == np.dtype(int).type`.\n",
      "  if np.issubdtype(mask.dtype, np.int):\n"
     ]
    },
    {
     "name": "stdout",
     "output_type": "stream",
     "text": [
      "Thresh=0.0, n=140, R2 Score: 0.8865824883889022\n"
     ]
    },
    {
     "name": "stderr",
     "output_type": "stream",
     "text": [
      "C:\\ProgramData\\Anaconda3\\lib\\site-packages\\sklearn\\utils\\__init__.py:54: FutureWarning: Conversion of the second argument of issubdtype from `int` to `np.signedinteger` is deprecated. In future, it will be treated as `np.int32 == np.dtype(int).type`.\n",
      "  if np.issubdtype(mask.dtype, np.int):\n"
     ]
    },
    {
     "name": "stdout",
     "output_type": "stream",
     "text": [
      "Thresh=0.0, n=140, R2 Score: 0.8860766213386887\n"
     ]
    },
    {
     "name": "stderr",
     "output_type": "stream",
     "text": [
      "C:\\ProgramData\\Anaconda3\\lib\\site-packages\\sklearn\\utils\\__init__.py:54: FutureWarning: Conversion of the second argument of issubdtype from `int` to `np.signedinteger` is deprecated. In future, it will be treated as `np.int32 == np.dtype(int).type`.\n",
      "  if np.issubdtype(mask.dtype, np.int):\n"
     ]
    },
    {
     "name": "stdout",
     "output_type": "stream",
     "text": [
      "Thresh=0.0, n=140, R2 Score: 0.8859401541060103\n"
     ]
    },
    {
     "name": "stderr",
     "output_type": "stream",
     "text": [
      "C:\\ProgramData\\Anaconda3\\lib\\site-packages\\sklearn\\utils\\__init__.py:54: FutureWarning: Conversion of the second argument of issubdtype from `int` to `np.signedinteger` is deprecated. In future, it will be treated as `np.int32 == np.dtype(int).type`.\n",
      "  if np.issubdtype(mask.dtype, np.int):\n"
     ]
    },
    {
     "name": "stdout",
     "output_type": "stream",
     "text": [
      "Thresh=0.0, n=140, R2 Score: 0.8868247302483366\n"
     ]
    },
    {
     "name": "stderr",
     "output_type": "stream",
     "text": [
      "C:\\ProgramData\\Anaconda3\\lib\\site-packages\\sklearn\\utils\\__init__.py:54: FutureWarning: Conversion of the second argument of issubdtype from `int` to `np.signedinteger` is deprecated. In future, it will be treated as `np.int32 == np.dtype(int).type`.\n",
      "  if np.issubdtype(mask.dtype, np.int):\n"
     ]
    },
    {
     "name": "stdout",
     "output_type": "stream",
     "text": [
      "Thresh=0.0, n=140, R2 Score: 0.88645684621603\n"
     ]
    },
    {
     "name": "stderr",
     "output_type": "stream",
     "text": [
      "C:\\ProgramData\\Anaconda3\\lib\\site-packages\\sklearn\\utils\\__init__.py:54: FutureWarning: Conversion of the second argument of issubdtype from `int` to `np.signedinteger` is deprecated. In future, it will be treated as `np.int32 == np.dtype(int).type`.\n",
      "  if np.issubdtype(mask.dtype, np.int):\n"
     ]
    },
    {
     "name": "stdout",
     "output_type": "stream",
     "text": [
      "Thresh=0.0, n=140, R2 Score: 0.888401357673992\n"
     ]
    },
    {
     "name": "stderr",
     "output_type": "stream",
     "text": [
      "C:\\ProgramData\\Anaconda3\\lib\\site-packages\\sklearn\\utils\\__init__.py:54: FutureWarning: Conversion of the second argument of issubdtype from `int` to `np.signedinteger` is deprecated. In future, it will be treated as `np.int32 == np.dtype(int).type`.\n",
      "  if np.issubdtype(mask.dtype, np.int):\n"
     ]
    },
    {
     "name": "stdout",
     "output_type": "stream",
     "text": [
      "Thresh=0.0, n=140, R2 Score: 0.8854587585871838\n"
     ]
    },
    {
     "name": "stderr",
     "output_type": "stream",
     "text": [
      "C:\\ProgramData\\Anaconda3\\lib\\site-packages\\sklearn\\utils\\__init__.py:54: FutureWarning: Conversion of the second argument of issubdtype from `int` to `np.signedinteger` is deprecated. In future, it will be treated as `np.int32 == np.dtype(int).type`.\n",
      "  if np.issubdtype(mask.dtype, np.int):\n"
     ]
    },
    {
     "name": "stdout",
     "output_type": "stream",
     "text": [
      "Thresh=0.0, n=140, R2 Score: 0.8869301059511264\n"
     ]
    },
    {
     "name": "stderr",
     "output_type": "stream",
     "text": [
      "C:\\ProgramData\\Anaconda3\\lib\\site-packages\\sklearn\\utils\\__init__.py:54: FutureWarning: Conversion of the second argument of issubdtype from `int` to `np.signedinteger` is deprecated. In future, it will be treated as `np.int32 == np.dtype(int).type`.\n",
      "  if np.issubdtype(mask.dtype, np.int):\n"
     ]
    },
    {
     "name": "stdout",
     "output_type": "stream",
     "text": [
      "Thresh=0.0, n=140, R2 Score: 0.884589677557784\n"
     ]
    },
    {
     "name": "stderr",
     "output_type": "stream",
     "text": [
      "C:\\ProgramData\\Anaconda3\\lib\\site-packages\\sklearn\\utils\\__init__.py:54: FutureWarning: Conversion of the second argument of issubdtype from `int` to `np.signedinteger` is deprecated. In future, it will be treated as `np.int32 == np.dtype(int).type`.\n",
      "  if np.issubdtype(mask.dtype, np.int):\n"
     ]
    },
    {
     "name": "stdout",
     "output_type": "stream",
     "text": [
      "Thresh=0.0, n=140, R2 Score: 0.8854469985100054\n"
     ]
    },
    {
     "name": "stderr",
     "output_type": "stream",
     "text": [
      "C:\\ProgramData\\Anaconda3\\lib\\site-packages\\sklearn\\utils\\__init__.py:54: FutureWarning: Conversion of the second argument of issubdtype from `int` to `np.signedinteger` is deprecated. In future, it will be treated as `np.int32 == np.dtype(int).type`.\n",
      "  if np.issubdtype(mask.dtype, np.int):\n"
     ]
    },
    {
     "name": "stdout",
     "output_type": "stream",
     "text": [
      "Thresh=0.0, n=140, R2 Score: 0.8873249953741457\n"
     ]
    },
    {
     "name": "stderr",
     "output_type": "stream",
     "text": [
      "C:\\ProgramData\\Anaconda3\\lib\\site-packages\\sklearn\\utils\\__init__.py:54: FutureWarning: Conversion of the second argument of issubdtype from `int` to `np.signedinteger` is deprecated. In future, it will be treated as `np.int32 == np.dtype(int).type`.\n",
      "  if np.issubdtype(mask.dtype, np.int):\n"
     ]
    },
    {
     "name": "stdout",
     "output_type": "stream",
     "text": [
      "Thresh=0.0, n=140, R2 Score: 0.8868296482131962\n"
     ]
    },
    {
     "name": "stderr",
     "output_type": "stream",
     "text": [
      "C:\\ProgramData\\Anaconda3\\lib\\site-packages\\sklearn\\utils\\__init__.py:54: FutureWarning: Conversion of the second argument of issubdtype from `int` to `np.signedinteger` is deprecated. In future, it will be treated as `np.int32 == np.dtype(int).type`.\n",
      "  if np.issubdtype(mask.dtype, np.int):\n"
     ]
    },
    {
     "name": "stdout",
     "output_type": "stream",
     "text": [
      "Thresh=0.0, n=140, R2 Score: 0.8861259331229835\n"
     ]
    },
    {
     "name": "stderr",
     "output_type": "stream",
     "text": [
      "C:\\ProgramData\\Anaconda3\\lib\\site-packages\\sklearn\\utils\\__init__.py:54: FutureWarning: Conversion of the second argument of issubdtype from `int` to `np.signedinteger` is deprecated. In future, it will be treated as `np.int32 == np.dtype(int).type`.\n",
      "  if np.issubdtype(mask.dtype, np.int):\n"
     ]
    },
    {
     "name": "stdout",
     "output_type": "stream",
     "text": [
      "Thresh=0.0, n=140, R2 Score: 0.8877649197893472\n"
     ]
    },
    {
     "name": "stderr",
     "output_type": "stream",
     "text": [
      "C:\\ProgramData\\Anaconda3\\lib\\site-packages\\sklearn\\utils\\__init__.py:54: FutureWarning: Conversion of the second argument of issubdtype from `int` to `np.signedinteger` is deprecated. In future, it will be treated as `np.int32 == np.dtype(int).type`.\n",
      "  if np.issubdtype(mask.dtype, np.int):\n"
     ]
    },
    {
     "name": "stdout",
     "output_type": "stream",
     "text": [
      "Thresh=0.0, n=140, R2 Score: 0.8853230722135627\n"
     ]
    },
    {
     "name": "stderr",
     "output_type": "stream",
     "text": [
      "C:\\ProgramData\\Anaconda3\\lib\\site-packages\\sklearn\\utils\\__init__.py:54: FutureWarning: Conversion of the second argument of issubdtype from `int` to `np.signedinteger` is deprecated. In future, it will be treated as `np.int32 == np.dtype(int).type`.\n",
      "  if np.issubdtype(mask.dtype, np.int):\n"
     ]
    },
    {
     "name": "stdout",
     "output_type": "stream",
     "text": [
      "Thresh=0.0, n=140, R2 Score: 0.8860660806852434\n"
     ]
    },
    {
     "name": "stderr",
     "output_type": "stream",
     "text": [
      "C:\\ProgramData\\Anaconda3\\lib\\site-packages\\sklearn\\utils\\__init__.py:54: FutureWarning: Conversion of the second argument of issubdtype from `int` to `np.signedinteger` is deprecated. In future, it will be treated as `np.int32 == np.dtype(int).type`.\n",
      "  if np.issubdtype(mask.dtype, np.int):\n"
     ]
    },
    {
     "name": "stdout",
     "output_type": "stream",
     "text": [
      "Thresh=0.0, n=140, R2 Score: 0.8875831230906439\n"
     ]
    },
    {
     "name": "stderr",
     "output_type": "stream",
     "text": [
      "C:\\ProgramData\\Anaconda3\\lib\\site-packages\\sklearn\\utils\\__init__.py:54: FutureWarning: Conversion of the second argument of issubdtype from `int` to `np.signedinteger` is deprecated. In future, it will be treated as `np.int32 == np.dtype(int).type`.\n",
      "  if np.issubdtype(mask.dtype, np.int):\n"
     ]
    },
    {
     "name": "stdout",
     "output_type": "stream",
     "text": [
      "Thresh=0.0, n=140, R2 Score: 0.8870050728251374\n"
     ]
    },
    {
     "name": "stderr",
     "output_type": "stream",
     "text": [
      "C:\\ProgramData\\Anaconda3\\lib\\site-packages\\sklearn\\utils\\__init__.py:54: FutureWarning: Conversion of the second argument of issubdtype from `int` to `np.signedinteger` is deprecated. In future, it will be treated as `np.int32 == np.dtype(int).type`.\n",
      "  if np.issubdtype(mask.dtype, np.int):\n"
     ]
    },
    {
     "name": "stdout",
     "output_type": "stream",
     "text": [
      "Thresh=0.0, n=140, R2 Score: 0.8876883842758283\n"
     ]
    },
    {
     "name": "stderr",
     "output_type": "stream",
     "text": [
      "C:\\ProgramData\\Anaconda3\\lib\\site-packages\\sklearn\\utils\\__init__.py:54: FutureWarning: Conversion of the second argument of issubdtype from `int` to `np.signedinteger` is deprecated. In future, it will be treated as `np.int32 == np.dtype(int).type`.\n",
      "  if np.issubdtype(mask.dtype, np.int):\n"
     ]
    },
    {
     "name": "stdout",
     "output_type": "stream",
     "text": [
      "Thresh=0.0, n=140, R2 Score: 0.8867737824982491\n"
     ]
    },
    {
     "name": "stderr",
     "output_type": "stream",
     "text": [
      "C:\\ProgramData\\Anaconda3\\lib\\site-packages\\sklearn\\utils\\__init__.py:54: FutureWarning: Conversion of the second argument of issubdtype from `int` to `np.signedinteger` is deprecated. In future, it will be treated as `np.int32 == np.dtype(int).type`.\n",
      "  if np.issubdtype(mask.dtype, np.int):\n"
     ]
    },
    {
     "name": "stdout",
     "output_type": "stream",
     "text": [
      "Thresh=4.8803858414727886e-11, n=87, R2 Score: 0.8842883798501069\n"
     ]
    },
    {
     "name": "stderr",
     "output_type": "stream",
     "text": [
      "C:\\ProgramData\\Anaconda3\\lib\\site-packages\\sklearn\\utils\\__init__.py:54: FutureWarning: Conversion of the second argument of issubdtype from `int` to `np.signedinteger` is deprecated. In future, it will be treated as `np.int32 == np.dtype(int).type`.\n",
      "  if np.issubdtype(mask.dtype, np.int):\n"
     ]
    },
    {
     "name": "stdout",
     "output_type": "stream",
     "text": [
      "Thresh=3.105612902819773e-10, n=86, R2 Score: 0.8842705163620869\n"
     ]
    },
    {
     "name": "stderr",
     "output_type": "stream",
     "text": [
      "C:\\ProgramData\\Anaconda3\\lib\\site-packages\\sklearn\\utils\\__init__.py:54: FutureWarning: Conversion of the second argument of issubdtype from `int` to `np.signedinteger` is deprecated. In future, it will be treated as `np.int32 == np.dtype(int).type`.\n",
      "  if np.issubdtype(mask.dtype, np.int):\n"
     ]
    },
    {
     "name": "stdout",
     "output_type": "stream",
     "text": [
      "Thresh=1.949802237231345e-09, n=85, R2 Score: 0.885555702144748\n"
     ]
    },
    {
     "name": "stderr",
     "output_type": "stream",
     "text": [
      "C:\\ProgramData\\Anaconda3\\lib\\site-packages\\sklearn\\utils\\__init__.py:54: FutureWarning: Conversion of the second argument of issubdtype from `int` to `np.signedinteger` is deprecated. In future, it will be treated as `np.int32 == np.dtype(int).type`.\n",
      "  if np.issubdtype(mask.dtype, np.int):\n"
     ]
    },
    {
     "name": "stdout",
     "output_type": "stream",
     "text": [
      "Thresh=1.7352544708633107e-07, n=84, R2 Score: 0.8852544270889049\n"
     ]
    },
    {
     "name": "stderr",
     "output_type": "stream",
     "text": [
      "C:\\ProgramData\\Anaconda3\\lib\\site-packages\\sklearn\\utils\\__init__.py:54: FutureWarning: Conversion of the second argument of issubdtype from `int` to `np.signedinteger` is deprecated. In future, it will be treated as `np.int32 == np.dtype(int).type`.\n",
      "  if np.issubdtype(mask.dtype, np.int):\n"
     ]
    },
    {
     "name": "stdout",
     "output_type": "stream",
     "text": [
      "Thresh=2.195959159445775e-07, n=83, R2 Score: 0.8859570385314253\n"
     ]
    },
    {
     "name": "stderr",
     "output_type": "stream",
     "text": [
      "C:\\ProgramData\\Anaconda3\\lib\\site-packages\\sklearn\\utils\\__init__.py:54: FutureWarning: Conversion of the second argument of issubdtype from `int` to `np.signedinteger` is deprecated. In future, it will be treated as `np.int32 == np.dtype(int).type`.\n",
      "  if np.issubdtype(mask.dtype, np.int):\n"
     ]
    },
    {
     "name": "stdout",
     "output_type": "stream",
     "text": [
      "Thresh=3.233084218878828e-07, n=82, R2 Score: 0.8862794502653087\n"
     ]
    },
    {
     "name": "stderr",
     "output_type": "stream",
     "text": [
      "C:\\ProgramData\\Anaconda3\\lib\\site-packages\\sklearn\\utils\\__init__.py:54: FutureWarning: Conversion of the second argument of issubdtype from `int` to `np.signedinteger` is deprecated. In future, it will be treated as `np.int32 == np.dtype(int).type`.\n",
      "  if np.issubdtype(mask.dtype, np.int):\n"
     ]
    },
    {
     "name": "stdout",
     "output_type": "stream",
     "text": [
      "Thresh=3.545657417734203e-07, n=81, R2 Score: 0.8881709595776783\n"
     ]
    },
    {
     "name": "stderr",
     "output_type": "stream",
     "text": [
      "C:\\ProgramData\\Anaconda3\\lib\\site-packages\\sklearn\\utils\\__init__.py:54: FutureWarning: Conversion of the second argument of issubdtype from `int` to `np.signedinteger` is deprecated. In future, it will be treated as `np.int32 == np.dtype(int).type`.\n",
      "  if np.issubdtype(mask.dtype, np.int):\n"
     ]
    },
    {
     "name": "stdout",
     "output_type": "stream",
     "text": [
      "Thresh=3.784285303318336e-07, n=80, R2 Score: 0.8859153660781643\n"
     ]
    },
    {
     "name": "stderr",
     "output_type": "stream",
     "text": [
      "C:\\ProgramData\\Anaconda3\\lib\\site-packages\\sklearn\\utils\\__init__.py:54: FutureWarning: Conversion of the second argument of issubdtype from `int` to `np.signedinteger` is deprecated. In future, it will be treated as `np.int32 == np.dtype(int).type`.\n",
      "  if np.issubdtype(mask.dtype, np.int):\n"
     ]
    },
    {
     "name": "stdout",
     "output_type": "stream",
     "text": [
      "Thresh=3.8049908557534164e-07, n=79, R2 Score: 0.8865691716273503\n"
     ]
    },
    {
     "name": "stderr",
     "output_type": "stream",
     "text": [
      "C:\\ProgramData\\Anaconda3\\lib\\site-packages\\sklearn\\utils\\__init__.py:54: FutureWarning: Conversion of the second argument of issubdtype from `int` to `np.signedinteger` is deprecated. In future, it will be treated as `np.int32 == np.dtype(int).type`.\n",
      "  if np.issubdtype(mask.dtype, np.int):\n"
     ]
    },
    {
     "name": "stdout",
     "output_type": "stream",
     "text": [
      "Thresh=5.333742736417071e-07, n=78, R2 Score: 0.8878345924263663\n"
     ]
    },
    {
     "name": "stderr",
     "output_type": "stream",
     "text": [
      "C:\\ProgramData\\Anaconda3\\lib\\site-packages\\sklearn\\utils\\__init__.py:54: FutureWarning: Conversion of the second argument of issubdtype from `int` to `np.signedinteger` is deprecated. In future, it will be treated as `np.int32 == np.dtype(int).type`.\n",
      "  if np.issubdtype(mask.dtype, np.int):\n"
     ]
    },
    {
     "name": "stdout",
     "output_type": "stream",
     "text": [
      "Thresh=6.467748288443406e-07, n=77, R2 Score: 0.8869223835633677\n"
     ]
    },
    {
     "name": "stderr",
     "output_type": "stream",
     "text": [
      "C:\\ProgramData\\Anaconda3\\lib\\site-packages\\sklearn\\utils\\__init__.py:54: FutureWarning: Conversion of the second argument of issubdtype from `int` to `np.signedinteger` is deprecated. In future, it will be treated as `np.int32 == np.dtype(int).type`.\n",
      "  if np.issubdtype(mask.dtype, np.int):\n"
     ]
    },
    {
     "name": "stdout",
     "output_type": "stream",
     "text": [
      "Thresh=6.779109770238399e-07, n=76, R2 Score: 0.8885665191174549\n"
     ]
    },
    {
     "name": "stderr",
     "output_type": "stream",
     "text": [
      "C:\\ProgramData\\Anaconda3\\lib\\site-packages\\sklearn\\utils\\__init__.py:54: FutureWarning: Conversion of the second argument of issubdtype from `int` to `np.signedinteger` is deprecated. In future, it will be treated as `np.int32 == np.dtype(int).type`.\n",
      "  if np.issubdtype(mask.dtype, np.int):\n"
     ]
    },
    {
     "name": "stdout",
     "output_type": "stream",
     "text": [
      "Thresh=9.257362403639824e-07, n=75, R2 Score: 0.8866395357745256\n"
     ]
    },
    {
     "name": "stderr",
     "output_type": "stream",
     "text": [
      "C:\\ProgramData\\Anaconda3\\lib\\site-packages\\sklearn\\utils\\__init__.py:54: FutureWarning: Conversion of the second argument of issubdtype from `int` to `np.signedinteger` is deprecated. In future, it will be treated as `np.int32 == np.dtype(int).type`.\n",
      "  if np.issubdtype(mask.dtype, np.int):\n"
     ]
    },
    {
     "name": "stdout",
     "output_type": "stream",
     "text": [
      "Thresh=9.720725700012526e-07, n=74, R2 Score: 0.8861687652243043\n"
     ]
    },
    {
     "name": "stderr",
     "output_type": "stream",
     "text": [
      "C:\\ProgramData\\Anaconda3\\lib\\site-packages\\sklearn\\utils\\__init__.py:54: FutureWarning: Conversion of the second argument of issubdtype from `int` to `np.signedinteger` is deprecated. In future, it will be treated as `np.int32 == np.dtype(int).type`.\n",
      "  if np.issubdtype(mask.dtype, np.int):\n"
     ]
    },
    {
     "name": "stdout",
     "output_type": "stream",
     "text": [
      "Thresh=1.889232658136259e-06, n=73, R2 Score: 0.8852950512656234\n"
     ]
    },
    {
     "name": "stderr",
     "output_type": "stream",
     "text": [
      "C:\\ProgramData\\Anaconda3\\lib\\site-packages\\sklearn\\utils\\__init__.py:54: FutureWarning: Conversion of the second argument of issubdtype from `int` to `np.signedinteger` is deprecated. In future, it will be treated as `np.int32 == np.dtype(int).type`.\n",
      "  if np.issubdtype(mask.dtype, np.int):\n"
     ]
    },
    {
     "name": "stdout",
     "output_type": "stream",
     "text": [
      "Thresh=2.135185903884232e-06, n=72, R2 Score: 0.8877662839331313\n"
     ]
    },
    {
     "name": "stderr",
     "output_type": "stream",
     "text": [
      "C:\\ProgramData\\Anaconda3\\lib\\site-packages\\sklearn\\utils\\__init__.py:54: FutureWarning: Conversion of the second argument of issubdtype from `int` to `np.signedinteger` is deprecated. In future, it will be treated as `np.int32 == np.dtype(int).type`.\n",
      "  if np.issubdtype(mask.dtype, np.int):\n"
     ]
    },
    {
     "name": "stdout",
     "output_type": "stream",
     "text": [
      "Thresh=2.520387142777514e-06, n=71, R2 Score: 0.8822217894786126\n"
     ]
    },
    {
     "name": "stderr",
     "output_type": "stream",
     "text": [
      "C:\\ProgramData\\Anaconda3\\lib\\site-packages\\sklearn\\utils\\__init__.py:54: FutureWarning: Conversion of the second argument of issubdtype from `int` to `np.signedinteger` is deprecated. In future, it will be treated as `np.int32 == np.dtype(int).type`.\n",
      "  if np.issubdtype(mask.dtype, np.int):\n"
     ]
    },
    {
     "name": "stdout",
     "output_type": "stream",
     "text": [
      "Thresh=2.862053948631689e-06, n=70, R2 Score: 0.8877600389483268\n"
     ]
    },
    {
     "name": "stderr",
     "output_type": "stream",
     "text": [
      "C:\\ProgramData\\Anaconda3\\lib\\site-packages\\sklearn\\utils\\__init__.py:54: FutureWarning: Conversion of the second argument of issubdtype from `int` to `np.signedinteger` is deprecated. In future, it will be treated as `np.int32 == np.dtype(int).type`.\n",
      "  if np.issubdtype(mask.dtype, np.int):\n"
     ]
    },
    {
     "name": "stdout",
     "output_type": "stream",
     "text": [
      "Thresh=3.4490922780492358e-06, n=69, R2 Score: 0.8853288949933491\n"
     ]
    },
    {
     "name": "stderr",
     "output_type": "stream",
     "text": [
      "C:\\ProgramData\\Anaconda3\\lib\\site-packages\\sklearn\\utils\\__init__.py:54: FutureWarning: Conversion of the second argument of issubdtype from `int` to `np.signedinteger` is deprecated. In future, it will be treated as `np.int32 == np.dtype(int).type`.\n",
      "  if np.issubdtype(mask.dtype, np.int):\n"
     ]
    },
    {
     "name": "stdout",
     "output_type": "stream",
     "text": [
      "Thresh=5.048423477898744e-06, n=68, R2 Score: 0.8861944479995955\n"
     ]
    },
    {
     "name": "stderr",
     "output_type": "stream",
     "text": [
      "C:\\ProgramData\\Anaconda3\\lib\\site-packages\\sklearn\\utils\\__init__.py:54: FutureWarning: Conversion of the second argument of issubdtype from `int` to `np.signedinteger` is deprecated. In future, it will be treated as `np.int32 == np.dtype(int).type`.\n",
      "  if np.issubdtype(mask.dtype, np.int):\n"
     ]
    },
    {
     "name": "stdout",
     "output_type": "stream",
     "text": [
      "Thresh=5.375210205810802e-06, n=67, R2 Score: 0.8870886373286061\n"
     ]
    },
    {
     "name": "stderr",
     "output_type": "stream",
     "text": [
      "C:\\ProgramData\\Anaconda3\\lib\\site-packages\\sklearn\\utils\\__init__.py:54: FutureWarning: Conversion of the second argument of issubdtype from `int` to `np.signedinteger` is deprecated. In future, it will be treated as `np.int32 == np.dtype(int).type`.\n",
      "  if np.issubdtype(mask.dtype, np.int):\n"
     ]
    },
    {
     "name": "stdout",
     "output_type": "stream",
     "text": [
      "Thresh=7.143325200618203e-06, n=66, R2 Score: 0.8882031730025699\n"
     ]
    },
    {
     "name": "stderr",
     "output_type": "stream",
     "text": [
      "C:\\ProgramData\\Anaconda3\\lib\\site-packages\\sklearn\\utils\\__init__.py:54: FutureWarning: Conversion of the second argument of issubdtype from `int` to `np.signedinteger` is deprecated. In future, it will be treated as `np.int32 == np.dtype(int).type`.\n",
      "  if np.issubdtype(mask.dtype, np.int):\n"
     ]
    },
    {
     "name": "stdout",
     "output_type": "stream",
     "text": [
      "Thresh=8.211976094040142e-06, n=65, R2 Score: 0.8863499811551513\n"
     ]
    },
    {
     "name": "stderr",
     "output_type": "stream",
     "text": [
      "C:\\ProgramData\\Anaconda3\\lib\\site-packages\\sklearn\\utils\\__init__.py:54: FutureWarning: Conversion of the second argument of issubdtype from `int` to `np.signedinteger` is deprecated. In future, it will be treated as `np.int32 == np.dtype(int).type`.\n",
      "  if np.issubdtype(mask.dtype, np.int):\n"
     ]
    },
    {
     "name": "stdout",
     "output_type": "stream",
     "text": [
      "Thresh=1.2972388023571677e-05, n=64, R2 Score: 0.8865009977866843\n"
     ]
    },
    {
     "name": "stderr",
     "output_type": "stream",
     "text": [
      "C:\\ProgramData\\Anaconda3\\lib\\site-packages\\sklearn\\utils\\__init__.py:54: FutureWarning: Conversion of the second argument of issubdtype from `int` to `np.signedinteger` is deprecated. In future, it will be treated as `np.int32 == np.dtype(int).type`.\n",
      "  if np.issubdtype(mask.dtype, np.int):\n"
     ]
    },
    {
     "name": "stdout",
     "output_type": "stream",
     "text": [
      "Thresh=1.451469749838325e-05, n=63, R2 Score: 0.887023960050213\n"
     ]
    },
    {
     "name": "stderr",
     "output_type": "stream",
     "text": [
      "C:\\ProgramData\\Anaconda3\\lib\\site-packages\\sklearn\\utils\\__init__.py:54: FutureWarning: Conversion of the second argument of issubdtype from `int` to `np.signedinteger` is deprecated. In future, it will be treated as `np.int32 == np.dtype(int).type`.\n",
      "  if np.issubdtype(mask.dtype, np.int):\n"
     ]
    },
    {
     "name": "stdout",
     "output_type": "stream",
     "text": [
      "Thresh=1.4714803538244825e-05, n=62, R2 Score: 0.8892330707278182\n"
     ]
    },
    {
     "name": "stderr",
     "output_type": "stream",
     "text": [
      "C:\\ProgramData\\Anaconda3\\lib\\site-packages\\sklearn\\utils\\__init__.py:54: FutureWarning: Conversion of the second argument of issubdtype from `int` to `np.signedinteger` is deprecated. In future, it will be treated as `np.int32 == np.dtype(int).type`.\n",
      "  if np.issubdtype(mask.dtype, np.int):\n"
     ]
    },
    {
     "name": "stdout",
     "output_type": "stream",
     "text": [
      "Thresh=1.511783422582164e-05, n=61, R2 Score: 0.8867747785497299\n"
     ]
    },
    {
     "name": "stderr",
     "output_type": "stream",
     "text": [
      "C:\\ProgramData\\Anaconda3\\lib\\site-packages\\sklearn\\utils\\__init__.py:54: FutureWarning: Conversion of the second argument of issubdtype from `int` to `np.signedinteger` is deprecated. In future, it will be treated as `np.int32 == np.dtype(int).type`.\n",
      "  if np.issubdtype(mask.dtype, np.int):\n"
     ]
    },
    {
     "name": "stdout",
     "output_type": "stream",
     "text": [
      "Thresh=1.6319364590876235e-05, n=60, R2 Score: 0.8880862303924089\n"
     ]
    },
    {
     "name": "stderr",
     "output_type": "stream",
     "text": [
      "C:\\ProgramData\\Anaconda3\\lib\\site-packages\\sklearn\\utils\\__init__.py:54: FutureWarning: Conversion of the second argument of issubdtype from `int` to `np.signedinteger` is deprecated. In future, it will be treated as `np.int32 == np.dtype(int).type`.\n",
      "  if np.issubdtype(mask.dtype, np.int):\n"
     ]
    },
    {
     "name": "stdout",
     "output_type": "stream",
     "text": [
      "Thresh=1.974231371711613e-05, n=59, R2 Score: 0.8861974135022033\n"
     ]
    },
    {
     "name": "stderr",
     "output_type": "stream",
     "text": [
      "C:\\ProgramData\\Anaconda3\\lib\\site-packages\\sklearn\\utils\\__init__.py:54: FutureWarning: Conversion of the second argument of issubdtype from `int` to `np.signedinteger` is deprecated. In future, it will be treated as `np.int32 == np.dtype(int).type`.\n",
      "  if np.issubdtype(mask.dtype, np.int):\n"
     ]
    },
    {
     "name": "stdout",
     "output_type": "stream",
     "text": [
      "Thresh=2.0694503995246554e-05, n=58, R2 Score: 0.8854856853256948\n"
     ]
    },
    {
     "name": "stderr",
     "output_type": "stream",
     "text": [
      "C:\\ProgramData\\Anaconda3\\lib\\site-packages\\sklearn\\utils\\__init__.py:54: FutureWarning: Conversion of the second argument of issubdtype from `int` to `np.signedinteger` is deprecated. In future, it will be treated as `np.int32 == np.dtype(int).type`.\n",
      "  if np.issubdtype(mask.dtype, np.int):\n"
     ]
    },
    {
     "name": "stdout",
     "output_type": "stream",
     "text": [
      "Thresh=2.1869801969379177e-05, n=57, R2 Score: 0.8862319971898414\n"
     ]
    },
    {
     "name": "stderr",
     "output_type": "stream",
     "text": [
      "C:\\ProgramData\\Anaconda3\\lib\\site-packages\\sklearn\\utils\\__init__.py:54: FutureWarning: Conversion of the second argument of issubdtype from `int` to `np.signedinteger` is deprecated. In future, it will be treated as `np.int32 == np.dtype(int).type`.\n",
      "  if np.issubdtype(mask.dtype, np.int):\n"
     ]
    },
    {
     "name": "stdout",
     "output_type": "stream",
     "text": [
      "Thresh=2.3156561043045423e-05, n=56, R2 Score: 0.8876101190430924\n"
     ]
    },
    {
     "name": "stderr",
     "output_type": "stream",
     "text": [
      "C:\\ProgramData\\Anaconda3\\lib\\site-packages\\sklearn\\utils\\__init__.py:54: FutureWarning: Conversion of the second argument of issubdtype from `int` to `np.signedinteger` is deprecated. In future, it will be treated as `np.int32 == np.dtype(int).type`.\n",
      "  if np.issubdtype(mask.dtype, np.int):\n"
     ]
    },
    {
     "name": "stdout",
     "output_type": "stream",
     "text": [
      "Thresh=2.669165624683624e-05, n=55, R2 Score: 0.8859819530320114\n"
     ]
    },
    {
     "name": "stderr",
     "output_type": "stream",
     "text": [
      "C:\\ProgramData\\Anaconda3\\lib\\site-packages\\sklearn\\utils\\__init__.py:54: FutureWarning: Conversion of the second argument of issubdtype from `int` to `np.signedinteger` is deprecated. In future, it will be treated as `np.int32 == np.dtype(int).type`.\n",
      "  if np.issubdtype(mask.dtype, np.int):\n"
     ]
    },
    {
     "name": "stdout",
     "output_type": "stream",
     "text": [
      "Thresh=3.5856117286730875e-05, n=54, R2 Score: 0.8856486312939441\n"
     ]
    },
    {
     "name": "stderr",
     "output_type": "stream",
     "text": [
      "C:\\ProgramData\\Anaconda3\\lib\\site-packages\\sklearn\\utils\\__init__.py:54: FutureWarning: Conversion of the second argument of issubdtype from `int` to `np.signedinteger` is deprecated. In future, it will be treated as `np.int32 == np.dtype(int).type`.\n",
      "  if np.issubdtype(mask.dtype, np.int):\n"
     ]
    },
    {
     "name": "stdout",
     "output_type": "stream",
     "text": [
      "Thresh=3.6400428990232576e-05, n=53, R2 Score: 0.8856850164316069\n"
     ]
    },
    {
     "name": "stderr",
     "output_type": "stream",
     "text": [
      "C:\\ProgramData\\Anaconda3\\lib\\site-packages\\sklearn\\utils\\__init__.py:54: FutureWarning: Conversion of the second argument of issubdtype from `int` to `np.signedinteger` is deprecated. In future, it will be treated as `np.int32 == np.dtype(int).type`.\n",
      "  if np.issubdtype(mask.dtype, np.int):\n"
     ]
    },
    {
     "name": "stdout",
     "output_type": "stream",
     "text": [
      "Thresh=3.677295757728131e-05, n=52, R2 Score: 0.8856362187181015\n"
     ]
    },
    {
     "name": "stderr",
     "output_type": "stream",
     "text": [
      "C:\\ProgramData\\Anaconda3\\lib\\site-packages\\sklearn\\utils\\__init__.py:54: FutureWarning: Conversion of the second argument of issubdtype from `int` to `np.signedinteger` is deprecated. In future, it will be treated as `np.int32 == np.dtype(int).type`.\n",
      "  if np.issubdtype(mask.dtype, np.int):\n"
     ]
    },
    {
     "name": "stdout",
     "output_type": "stream",
     "text": [
      "Thresh=4.082499856510732e-05, n=51, R2 Score: 0.8860542602031742\n"
     ]
    },
    {
     "name": "stderr",
     "output_type": "stream",
     "text": [
      "C:\\ProgramData\\Anaconda3\\lib\\site-packages\\sklearn\\utils\\__init__.py:54: FutureWarning: Conversion of the second argument of issubdtype from `int` to `np.signedinteger` is deprecated. In future, it will be treated as `np.int32 == np.dtype(int).type`.\n",
      "  if np.issubdtype(mask.dtype, np.int):\n"
     ]
    },
    {
     "name": "stdout",
     "output_type": "stream",
     "text": [
      "Thresh=4.3459530577066e-05, n=50, R2 Score: 0.8884230398837025\n"
     ]
    },
    {
     "name": "stderr",
     "output_type": "stream",
     "text": [
      "C:\\ProgramData\\Anaconda3\\lib\\site-packages\\sklearn\\utils\\__init__.py:54: FutureWarning: Conversion of the second argument of issubdtype from `int` to `np.signedinteger` is deprecated. In future, it will be treated as `np.int32 == np.dtype(int).type`.\n",
      "  if np.issubdtype(mask.dtype, np.int):\n"
     ]
    },
    {
     "name": "stdout",
     "output_type": "stream",
     "text": [
      "Thresh=4.5110840510762254e-05, n=49, R2 Score: 0.886008963456465\n"
     ]
    },
    {
     "name": "stderr",
     "output_type": "stream",
     "text": [
      "C:\\ProgramData\\Anaconda3\\lib\\site-packages\\sklearn\\utils\\__init__.py:54: FutureWarning: Conversion of the second argument of issubdtype from `int` to `np.signedinteger` is deprecated. In future, it will be treated as `np.int32 == np.dtype(int).type`.\n",
      "  if np.issubdtype(mask.dtype, np.int):\n"
     ]
    },
    {
     "name": "stdout",
     "output_type": "stream",
     "text": [
      "Thresh=4.842004124932994e-05, n=48, R2 Score: 0.8859973248182859\n"
     ]
    },
    {
     "name": "stderr",
     "output_type": "stream",
     "text": [
      "C:\\ProgramData\\Anaconda3\\lib\\site-packages\\sklearn\\utils\\__init__.py:54: FutureWarning: Conversion of the second argument of issubdtype from `int` to `np.signedinteger` is deprecated. In future, it will be treated as `np.int32 == np.dtype(int).type`.\n",
      "  if np.issubdtype(mask.dtype, np.int):\n"
     ]
    },
    {
     "name": "stdout",
     "output_type": "stream",
     "text": [
      "Thresh=5.597136033858775e-05, n=47, R2 Score: 0.8849392727509645\n"
     ]
    },
    {
     "name": "stderr",
     "output_type": "stream",
     "text": [
      "C:\\ProgramData\\Anaconda3\\lib\\site-packages\\sklearn\\utils\\__init__.py:54: FutureWarning: Conversion of the second argument of issubdtype from `int` to `np.signedinteger` is deprecated. In future, it will be treated as `np.int32 == np.dtype(int).type`.\n",
      "  if np.issubdtype(mask.dtype, np.int):\n"
     ]
    },
    {
     "name": "stdout",
     "output_type": "stream",
     "text": [
      "Thresh=7.020333421537409e-05, n=46, R2 Score: 0.8881707966103167\n"
     ]
    },
    {
     "name": "stderr",
     "output_type": "stream",
     "text": [
      "C:\\ProgramData\\Anaconda3\\lib\\site-packages\\sklearn\\utils\\__init__.py:54: FutureWarning: Conversion of the second argument of issubdtype from `int` to `np.signedinteger` is deprecated. In future, it will be treated as `np.int32 == np.dtype(int).type`.\n",
      "  if np.issubdtype(mask.dtype, np.int):\n"
     ]
    },
    {
     "name": "stdout",
     "output_type": "stream",
     "text": [
      "Thresh=7.581861364373074e-05, n=45, R2 Score: 0.8868490186773983\n"
     ]
    },
    {
     "name": "stderr",
     "output_type": "stream",
     "text": [
      "C:\\ProgramData\\Anaconda3\\lib\\site-packages\\sklearn\\utils\\__init__.py:54: FutureWarning: Conversion of the second argument of issubdtype from `int` to `np.signedinteger` is deprecated. In future, it will be treated as `np.int32 == np.dtype(int).type`.\n",
      "  if np.issubdtype(mask.dtype, np.int):\n"
     ]
    },
    {
     "name": "stdout",
     "output_type": "stream",
     "text": [
      "Thresh=0.00010378653568619157, n=44, R2 Score: 0.88372768718166\n"
     ]
    },
    {
     "name": "stderr",
     "output_type": "stream",
     "text": [
      "C:\\ProgramData\\Anaconda3\\lib\\site-packages\\sklearn\\utils\\__init__.py:54: FutureWarning: Conversion of the second argument of issubdtype from `int` to `np.signedinteger` is deprecated. In future, it will be treated as `np.int32 == np.dtype(int).type`.\n",
      "  if np.issubdtype(mask.dtype, np.int):\n"
     ]
    },
    {
     "name": "stdout",
     "output_type": "stream",
     "text": [
      "Thresh=0.00010921036305908424, n=43, R2 Score: 0.8869973561003371\n"
     ]
    },
    {
     "name": "stderr",
     "output_type": "stream",
     "text": [
      "C:\\ProgramData\\Anaconda3\\lib\\site-packages\\sklearn\\utils\\__init__.py:54: FutureWarning: Conversion of the second argument of issubdtype from `int` to `np.signedinteger` is deprecated. In future, it will be treated as `np.int32 == np.dtype(int).type`.\n",
      "  if np.issubdtype(mask.dtype, np.int):\n"
     ]
    },
    {
     "name": "stdout",
     "output_type": "stream",
     "text": [
      "Thresh=0.00011592771794520802, n=42, R2 Score: 0.8872101474294166\n"
     ]
    },
    {
     "name": "stderr",
     "output_type": "stream",
     "text": [
      "C:\\ProgramData\\Anaconda3\\lib\\site-packages\\sklearn\\utils\\__init__.py:54: FutureWarning: Conversion of the second argument of issubdtype from `int` to `np.signedinteger` is deprecated. In future, it will be treated as `np.int32 == np.dtype(int).type`.\n",
      "  if np.issubdtype(mask.dtype, np.int):\n"
     ]
    },
    {
     "name": "stdout",
     "output_type": "stream",
     "text": [
      "Thresh=0.00017161209600670616, n=41, R2 Score: 0.8849331315870661\n"
     ]
    },
    {
     "name": "stderr",
     "output_type": "stream",
     "text": [
      "C:\\ProgramData\\Anaconda3\\lib\\site-packages\\sklearn\\utils\\__init__.py:54: FutureWarning: Conversion of the second argument of issubdtype from `int` to `np.signedinteger` is deprecated. In future, it will be treated as `np.int32 == np.dtype(int).type`.\n",
      "  if np.issubdtype(mask.dtype, np.int):\n"
     ]
    },
    {
     "name": "stdout",
     "output_type": "stream",
     "text": [
      "Thresh=0.00017508243676195848, n=40, R2 Score: 0.8875366465609112\n"
     ]
    },
    {
     "name": "stderr",
     "output_type": "stream",
     "text": [
      "C:\\ProgramData\\Anaconda3\\lib\\site-packages\\sklearn\\utils\\__init__.py:54: FutureWarning: Conversion of the second argument of issubdtype from `int` to `np.signedinteger` is deprecated. In future, it will be treated as `np.int32 == np.dtype(int).type`.\n",
      "  if np.issubdtype(mask.dtype, np.int):\n"
     ]
    },
    {
     "name": "stdout",
     "output_type": "stream",
     "text": [
      "Thresh=0.00020915618225005514, n=39, R2 Score: 0.8855385440096716\n"
     ]
    },
    {
     "name": "stderr",
     "output_type": "stream",
     "text": [
      "C:\\ProgramData\\Anaconda3\\lib\\site-packages\\sklearn\\utils\\__init__.py:54: FutureWarning: Conversion of the second argument of issubdtype from `int` to `np.signedinteger` is deprecated. In future, it will be treated as `np.int32 == np.dtype(int).type`.\n",
      "  if np.issubdtype(mask.dtype, np.int):\n"
     ]
    },
    {
     "name": "stdout",
     "output_type": "stream",
     "text": [
      "Thresh=0.000231860190709584, n=38, R2 Score: 0.8852136776978816\n"
     ]
    },
    {
     "name": "stderr",
     "output_type": "stream",
     "text": [
      "C:\\ProgramData\\Anaconda3\\lib\\site-packages\\sklearn\\utils\\__init__.py:54: FutureWarning: Conversion of the second argument of issubdtype from `int` to `np.signedinteger` is deprecated. In future, it will be treated as `np.int32 == np.dtype(int).type`.\n",
      "  if np.issubdtype(mask.dtype, np.int):\n"
     ]
    },
    {
     "name": "stdout",
     "output_type": "stream",
     "text": [
      "Thresh=0.0003751111342345424, n=37, R2 Score: 0.8860948120198672\n"
     ]
    },
    {
     "name": "stderr",
     "output_type": "stream",
     "text": [
      "C:\\ProgramData\\Anaconda3\\lib\\site-packages\\sklearn\\utils\\__init__.py:54: FutureWarning: Conversion of the second argument of issubdtype from `int` to `np.signedinteger` is deprecated. In future, it will be treated as `np.int32 == np.dtype(int).type`.\n",
      "  if np.issubdtype(mask.dtype, np.int):\n"
     ]
    },
    {
     "name": "stdout",
     "output_type": "stream",
     "text": [
      "Thresh=0.000381846217268602, n=36, R2 Score: 0.8847526329642974\n"
     ]
    },
    {
     "name": "stderr",
     "output_type": "stream",
     "text": [
      "C:\\ProgramData\\Anaconda3\\lib\\site-packages\\sklearn\\utils\\__init__.py:54: FutureWarning: Conversion of the second argument of issubdtype from `int` to `np.signedinteger` is deprecated. In future, it will be treated as `np.int32 == np.dtype(int).type`.\n",
      "  if np.issubdtype(mask.dtype, np.int):\n"
     ]
    },
    {
     "name": "stdout",
     "output_type": "stream",
     "text": [
      "Thresh=0.000724916579293465, n=35, R2 Score: 0.8860584916916185\n"
     ]
    },
    {
     "name": "stderr",
     "output_type": "stream",
     "text": [
      "C:\\ProgramData\\Anaconda3\\lib\\site-packages\\sklearn\\utils\\__init__.py:54: FutureWarning: Conversion of the second argument of issubdtype from `int` to `np.signedinteger` is deprecated. In future, it will be treated as `np.int32 == np.dtype(int).type`.\n",
      "  if np.issubdtype(mask.dtype, np.int):\n"
     ]
    },
    {
     "name": "stdout",
     "output_type": "stream",
     "text": [
      "Thresh=0.0007668316406965546, n=34, R2 Score: 0.8882523406960315\n"
     ]
    },
    {
     "name": "stderr",
     "output_type": "stream",
     "text": [
      "C:\\ProgramData\\Anaconda3\\lib\\site-packages\\sklearn\\utils\\__init__.py:54: FutureWarning: Conversion of the second argument of issubdtype from `int` to `np.signedinteger` is deprecated. In future, it will be treated as `np.int32 == np.dtype(int).type`.\n",
      "  if np.issubdtype(mask.dtype, np.int):\n"
     ]
    },
    {
     "name": "stdout",
     "output_type": "stream",
     "text": [
      "Thresh=0.0008196810391733838, n=33, R2 Score: 0.886109054360527\n"
     ]
    },
    {
     "name": "stderr",
     "output_type": "stream",
     "text": [
      "C:\\ProgramData\\Anaconda3\\lib\\site-packages\\sklearn\\utils\\__init__.py:54: FutureWarning: Conversion of the second argument of issubdtype from `int` to `np.signedinteger` is deprecated. In future, it will be treated as `np.int32 == np.dtype(int).type`.\n",
      "  if np.issubdtype(mask.dtype, np.int):\n"
     ]
    },
    {
     "name": "stdout",
     "output_type": "stream",
     "text": [
      "Thresh=0.0008475645694624328, n=32, R2 Score: 0.8859133330760582\n"
     ]
    },
    {
     "name": "stderr",
     "output_type": "stream",
     "text": [
      "C:\\ProgramData\\Anaconda3\\lib\\site-packages\\sklearn\\utils\\__init__.py:54: FutureWarning: Conversion of the second argument of issubdtype from `int` to `np.signedinteger` is deprecated. In future, it will be treated as `np.int32 == np.dtype(int).type`.\n",
      "  if np.issubdtype(mask.dtype, np.int):\n"
     ]
    },
    {
     "name": "stdout",
     "output_type": "stream",
     "text": [
      "Thresh=0.0009153904860714344, n=31, R2 Score: 0.8862752099678178\n"
     ]
    },
    {
     "name": "stderr",
     "output_type": "stream",
     "text": [
      "C:\\ProgramData\\Anaconda3\\lib\\site-packages\\sklearn\\utils\\__init__.py:54: FutureWarning: Conversion of the second argument of issubdtype from `int` to `np.signedinteger` is deprecated. In future, it will be treated as `np.int32 == np.dtype(int).type`.\n",
      "  if np.issubdtype(mask.dtype, np.int):\n"
     ]
    },
    {
     "name": "stdout",
     "output_type": "stream",
     "text": [
      "Thresh=0.001227272504046019, n=30, R2 Score: 0.8864530860115775\n"
     ]
    },
    {
     "name": "stderr",
     "output_type": "stream",
     "text": [
      "C:\\ProgramData\\Anaconda3\\lib\\site-packages\\sklearn\\utils\\__init__.py:54: FutureWarning: Conversion of the second argument of issubdtype from `int` to `np.signedinteger` is deprecated. In future, it will be treated as `np.int32 == np.dtype(int).type`.\n",
      "  if np.issubdtype(mask.dtype, np.int):\n"
     ]
    },
    {
     "name": "stdout",
     "output_type": "stream",
     "text": [
      "Thresh=0.0013498045298241806, n=29, R2 Score: 0.888418038862118\n"
     ]
    },
    {
     "name": "stderr",
     "output_type": "stream",
     "text": [
      "C:\\ProgramData\\Anaconda3\\lib\\site-packages\\sklearn\\utils\\__init__.py:54: FutureWarning: Conversion of the second argument of issubdtype from `int` to `np.signedinteger` is deprecated. In future, it will be treated as `np.int32 == np.dtype(int).type`.\n",
      "  if np.issubdtype(mask.dtype, np.int):\n"
     ]
    },
    {
     "name": "stdout",
     "output_type": "stream",
     "text": [
      "Thresh=0.001637460182784339, n=28, R2 Score: 0.8855094961785887\n"
     ]
    },
    {
     "name": "stderr",
     "output_type": "stream",
     "text": [
      "C:\\ProgramData\\Anaconda3\\lib\\site-packages\\sklearn\\utils\\__init__.py:54: FutureWarning: Conversion of the second argument of issubdtype from `int` to `np.signedinteger` is deprecated. In future, it will be treated as `np.int32 == np.dtype(int).type`.\n",
      "  if np.issubdtype(mask.dtype, np.int):\n"
     ]
    },
    {
     "name": "stdout",
     "output_type": "stream",
     "text": [
      "Thresh=0.001705223008522721, n=27, R2 Score: 0.8902601942326127\n"
     ]
    },
    {
     "name": "stderr",
     "output_type": "stream",
     "text": [
      "C:\\ProgramData\\Anaconda3\\lib\\site-packages\\sklearn\\utils\\__init__.py:54: FutureWarning: Conversion of the second argument of issubdtype from `int` to `np.signedinteger` is deprecated. In future, it will be treated as `np.int32 == np.dtype(int).type`.\n",
      "  if np.issubdtype(mask.dtype, np.int):\n"
     ]
    },
    {
     "name": "stdout",
     "output_type": "stream",
     "text": [
      "Thresh=0.001911146834577454, n=26, R2 Score: 0.8868812943948335\n"
     ]
    },
    {
     "name": "stderr",
     "output_type": "stream",
     "text": [
      "C:\\ProgramData\\Anaconda3\\lib\\site-packages\\sklearn\\utils\\__init__.py:54: FutureWarning: Conversion of the second argument of issubdtype from `int` to `np.signedinteger` is deprecated. In future, it will be treated as `np.int32 == np.dtype(int).type`.\n",
      "  if np.issubdtype(mask.dtype, np.int):\n"
     ]
    },
    {
     "name": "stdout",
     "output_type": "stream",
     "text": [
      "Thresh=0.0027402216003396228, n=25, R2 Score: 0.8875825001652076\n"
     ]
    },
    {
     "name": "stderr",
     "output_type": "stream",
     "text": [
      "C:\\ProgramData\\Anaconda3\\lib\\site-packages\\sklearn\\utils\\__init__.py:54: FutureWarning: Conversion of the second argument of issubdtype from `int` to `np.signedinteger` is deprecated. In future, it will be treated as `np.int32 == np.dtype(int).type`.\n",
      "  if np.issubdtype(mask.dtype, np.int):\n"
     ]
    },
    {
     "name": "stdout",
     "output_type": "stream",
     "text": [
      "Thresh=0.0027757312658727123, n=24, R2 Score: 0.8872132368878942\n"
     ]
    },
    {
     "name": "stderr",
     "output_type": "stream",
     "text": [
      "C:\\ProgramData\\Anaconda3\\lib\\site-packages\\sklearn\\utils\\__init__.py:54: FutureWarning: Conversion of the second argument of issubdtype from `int` to `np.signedinteger` is deprecated. In future, it will be treated as `np.int32 == np.dtype(int).type`.\n",
      "  if np.issubdtype(mask.dtype, np.int):\n"
     ]
    },
    {
     "name": "stdout",
     "output_type": "stream",
     "text": [
      "Thresh=0.0028479231948011032, n=23, R2 Score: 0.8849831443197813\n"
     ]
    },
    {
     "name": "stderr",
     "output_type": "stream",
     "text": [
      "C:\\ProgramData\\Anaconda3\\lib\\site-packages\\sklearn\\utils\\__init__.py:54: FutureWarning: Conversion of the second argument of issubdtype from `int` to `np.signedinteger` is deprecated. In future, it will be treated as `np.int32 == np.dtype(int).type`.\n",
      "  if np.issubdtype(mask.dtype, np.int):\n"
     ]
    },
    {
     "name": "stdout",
     "output_type": "stream",
     "text": [
      "Thresh=0.0038132791355139782, n=22, R2 Score: 0.8866252135232289\n"
     ]
    },
    {
     "name": "stderr",
     "output_type": "stream",
     "text": [
      "C:\\ProgramData\\Anaconda3\\lib\\site-packages\\sklearn\\utils\\__init__.py:54: FutureWarning: Conversion of the second argument of issubdtype from `int` to `np.signedinteger` is deprecated. In future, it will be treated as `np.int32 == np.dtype(int).type`.\n",
      "  if np.issubdtype(mask.dtype, np.int):\n"
     ]
    },
    {
     "name": "stdout",
     "output_type": "stream",
     "text": [
      "Thresh=0.004189036991476578, n=21, R2 Score: 0.8852977795531913\n"
     ]
    },
    {
     "name": "stderr",
     "output_type": "stream",
     "text": [
      "C:\\ProgramData\\Anaconda3\\lib\\site-packages\\sklearn\\utils\\__init__.py:54: FutureWarning: Conversion of the second argument of issubdtype from `int` to `np.signedinteger` is deprecated. In future, it will be treated as `np.int32 == np.dtype(int).type`.\n",
      "  if np.issubdtype(mask.dtype, np.int):\n"
     ]
    },
    {
     "name": "stdout",
     "output_type": "stream",
     "text": [
      "Thresh=0.004375046976713737, n=20, R2 Score: 0.885754762057869\n"
     ]
    },
    {
     "name": "stderr",
     "output_type": "stream",
     "text": [
      "C:\\ProgramData\\Anaconda3\\lib\\site-packages\\sklearn\\utils\\__init__.py:54: FutureWarning: Conversion of the second argument of issubdtype from `int` to `np.signedinteger` is deprecated. In future, it will be treated as `np.int32 == np.dtype(int).type`.\n",
      "  if np.issubdtype(mask.dtype, np.int):\n"
     ]
    },
    {
     "name": "stdout",
     "output_type": "stream",
     "text": [
      "Thresh=0.004912694373083038, n=19, R2 Score: 0.8864315057351202\n"
     ]
    },
    {
     "name": "stderr",
     "output_type": "stream",
     "text": [
      "C:\\ProgramData\\Anaconda3\\lib\\site-packages\\sklearn\\utils\\__init__.py:54: FutureWarning: Conversion of the second argument of issubdtype from `int` to `np.signedinteger` is deprecated. In future, it will be treated as `np.int32 == np.dtype(int).type`.\n",
      "  if np.issubdtype(mask.dtype, np.int):\n"
     ]
    },
    {
     "name": "stdout",
     "output_type": "stream",
     "text": [
      "Thresh=0.005228407524321871, n=18, R2 Score: 0.8877034993413166\n"
     ]
    },
    {
     "name": "stderr",
     "output_type": "stream",
     "text": [
      "C:\\ProgramData\\Anaconda3\\lib\\site-packages\\sklearn\\utils\\__init__.py:54: FutureWarning: Conversion of the second argument of issubdtype from `int` to `np.signedinteger` is deprecated. In future, it will be treated as `np.int32 == np.dtype(int).type`.\n",
      "  if np.issubdtype(mask.dtype, np.int):\n"
     ]
    },
    {
     "name": "stdout",
     "output_type": "stream",
     "text": [
      "Thresh=0.006400586984253668, n=17, R2 Score: 0.8890842444027943\n"
     ]
    },
    {
     "name": "stderr",
     "output_type": "stream",
     "text": [
      "C:\\ProgramData\\Anaconda3\\lib\\site-packages\\sklearn\\utils\\__init__.py:54: FutureWarning: Conversion of the second argument of issubdtype from `int` to `np.signedinteger` is deprecated. In future, it will be treated as `np.int32 == np.dtype(int).type`.\n",
      "  if np.issubdtype(mask.dtype, np.int):\n"
     ]
    },
    {
     "name": "stdout",
     "output_type": "stream",
     "text": [
      "Thresh=0.009407238776477164, n=16, R2 Score: 0.88078259010093\n"
     ]
    },
    {
     "name": "stderr",
     "output_type": "stream",
     "text": [
      "C:\\ProgramData\\Anaconda3\\lib\\site-packages\\sklearn\\utils\\__init__.py:54: FutureWarning: Conversion of the second argument of issubdtype from `int` to `np.signedinteger` is deprecated. In future, it will be treated as `np.int32 == np.dtype(int).type`.\n",
      "  if np.issubdtype(mask.dtype, np.int):\n"
     ]
    },
    {
     "name": "stdout",
     "output_type": "stream",
     "text": [
      "Thresh=0.009867941242036321, n=15, R2 Score: 0.8825792215771573\n"
     ]
    },
    {
     "name": "stderr",
     "output_type": "stream",
     "text": [
      "C:\\ProgramData\\Anaconda3\\lib\\site-packages\\sklearn\\utils\\__init__.py:54: FutureWarning: Conversion of the second argument of issubdtype from `int` to `np.signedinteger` is deprecated. In future, it will be treated as `np.int32 == np.dtype(int).type`.\n",
      "  if np.issubdtype(mask.dtype, np.int):\n"
     ]
    },
    {
     "name": "stdout",
     "output_type": "stream",
     "text": [
      "Thresh=0.010450994048949955, n=14, R2 Score: 0.8833636413767898\n"
     ]
    },
    {
     "name": "stderr",
     "output_type": "stream",
     "text": [
      "C:\\ProgramData\\Anaconda3\\lib\\site-packages\\sklearn\\utils\\__init__.py:54: FutureWarning: Conversion of the second argument of issubdtype from `int` to `np.signedinteger` is deprecated. In future, it will be treated as `np.int32 == np.dtype(int).type`.\n",
      "  if np.issubdtype(mask.dtype, np.int):\n"
     ]
    },
    {
     "name": "stdout",
     "output_type": "stream",
     "text": [
      "Thresh=0.01614355799052228, n=13, R2 Score: 0.8813637015101216\n"
     ]
    },
    {
     "name": "stderr",
     "output_type": "stream",
     "text": [
      "C:\\ProgramData\\Anaconda3\\lib\\site-packages\\sklearn\\utils\\__init__.py:54: FutureWarning: Conversion of the second argument of issubdtype from `int` to `np.signedinteger` is deprecated. In future, it will be treated as `np.int32 == np.dtype(int).type`.\n",
      "  if np.issubdtype(mask.dtype, np.int):\n"
     ]
    },
    {
     "name": "stdout",
     "output_type": "stream",
     "text": [
      "Thresh=0.02052249253980415, n=12, R2 Score: 0.8813861985566404\n"
     ]
    },
    {
     "name": "stderr",
     "output_type": "stream",
     "text": [
      "C:\\ProgramData\\Anaconda3\\lib\\site-packages\\sklearn\\utils\\__init__.py:54: FutureWarning: Conversion of the second argument of issubdtype from `int` to `np.signedinteger` is deprecated. In future, it will be treated as `np.int32 == np.dtype(int).type`.\n",
      "  if np.issubdtype(mask.dtype, np.int):\n"
     ]
    },
    {
     "name": "stdout",
     "output_type": "stream",
     "text": [
      "Thresh=0.03175082147029737, n=11, R2 Score: 0.8866367074413571\n"
     ]
    },
    {
     "name": "stderr",
     "output_type": "stream",
     "text": [
      "C:\\ProgramData\\Anaconda3\\lib\\site-packages\\sklearn\\utils\\__init__.py:54: FutureWarning: Conversion of the second argument of issubdtype from `int` to `np.signedinteger` is deprecated. In future, it will be treated as `np.int32 == np.dtype(int).type`.\n",
      "  if np.issubdtype(mask.dtype, np.int):\n"
     ]
    },
    {
     "name": "stdout",
     "output_type": "stream",
     "text": [
      "Thresh=0.03859215203456051, n=10, R2 Score: 0.8886249803550537\n"
     ]
    },
    {
     "name": "stderr",
     "output_type": "stream",
     "text": [
      "C:\\ProgramData\\Anaconda3\\lib\\site-packages\\sklearn\\utils\\__init__.py:54: FutureWarning: Conversion of the second argument of issubdtype from `int` to `np.signedinteger` is deprecated. In future, it will be treated as `np.int32 == np.dtype(int).type`.\n",
      "  if np.issubdtype(mask.dtype, np.int):\n"
     ]
    },
    {
     "name": "stdout",
     "output_type": "stream",
     "text": [
      "Thresh=0.03922163949530888, n=9, R2 Score: 0.8809318738671581\n"
     ]
    },
    {
     "name": "stderr",
     "output_type": "stream",
     "text": [
      "C:\\ProgramData\\Anaconda3\\lib\\site-packages\\sklearn\\utils\\__init__.py:54: FutureWarning: Conversion of the second argument of issubdtype from `int` to `np.signedinteger` is deprecated. In future, it will be treated as `np.int32 == np.dtype(int).type`.\n",
      "  if np.issubdtype(mask.dtype, np.int):\n"
     ]
    },
    {
     "name": "stdout",
     "output_type": "stream",
     "text": [
      "Thresh=0.04379810988763143, n=8, R2 Score: 0.8666596868990647\n"
     ]
    },
    {
     "name": "stderr",
     "output_type": "stream",
     "text": [
      "C:\\ProgramData\\Anaconda3\\lib\\site-packages\\sklearn\\utils\\__init__.py:54: FutureWarning: Conversion of the second argument of issubdtype from `int` to `np.signedinteger` is deprecated. In future, it will be treated as `np.int32 == np.dtype(int).type`.\n",
      "  if np.issubdtype(mask.dtype, np.int):\n"
     ]
    },
    {
     "name": "stdout",
     "output_type": "stream",
     "text": [
      "Thresh=0.04687788191714325, n=7, R2 Score: 0.866757198640133\n"
     ]
    },
    {
     "name": "stderr",
     "output_type": "stream",
     "text": [
      "C:\\ProgramData\\Anaconda3\\lib\\site-packages\\sklearn\\utils\\__init__.py:54: FutureWarning: Conversion of the second argument of issubdtype from `int` to `np.signedinteger` is deprecated. In future, it will be treated as `np.int32 == np.dtype(int).type`.\n",
      "  if np.issubdtype(mask.dtype, np.int):\n"
     ]
    },
    {
     "name": "stdout",
     "output_type": "stream",
     "text": [
      "Thresh=0.06793975296100722, n=6, R2 Score: 0.8651341922134749\n"
     ]
    },
    {
     "name": "stderr",
     "output_type": "stream",
     "text": [
      "C:\\ProgramData\\Anaconda3\\lib\\site-packages\\sklearn\\utils\\__init__.py:54: FutureWarning: Conversion of the second argument of issubdtype from `int` to `np.signedinteger` is deprecated. In future, it will be treated as `np.int32 == np.dtype(int).type`.\n",
      "  if np.issubdtype(mask.dtype, np.int):\n"
     ]
    },
    {
     "name": "stdout",
     "output_type": "stream",
     "text": [
      "Thresh=0.0881566985096906, n=5, R2 Score: 0.8587098099170611\n"
     ]
    },
    {
     "name": "stderr",
     "output_type": "stream",
     "text": [
      "C:\\ProgramData\\Anaconda3\\lib\\site-packages\\sklearn\\utils\\__init__.py:54: FutureWarning: Conversion of the second argument of issubdtype from `int` to `np.signedinteger` is deprecated. In future, it will be treated as `np.int32 == np.dtype(int).type`.\n",
      "  if np.issubdtype(mask.dtype, np.int):\n"
     ]
    },
    {
     "name": "stdout",
     "output_type": "stream",
     "text": [
      "Thresh=0.09033011335563101, n=4, R2 Score: 0.835032411562043\n"
     ]
    },
    {
     "name": "stderr",
     "output_type": "stream",
     "text": [
      "C:\\ProgramData\\Anaconda3\\lib\\site-packages\\sklearn\\utils\\__init__.py:54: FutureWarning: Conversion of the second argument of issubdtype from `int` to `np.signedinteger` is deprecated. In future, it will be treated as `np.int32 == np.dtype(int).type`.\n",
      "  if np.issubdtype(mask.dtype, np.int):\n"
     ]
    },
    {
     "name": "stdout",
     "output_type": "stream",
     "text": [
      "Thresh=0.0987219307812886, n=3, R2 Score: 0.8001385133488064\n"
     ]
    },
    {
     "name": "stderr",
     "output_type": "stream",
     "text": [
      "C:\\ProgramData\\Anaconda3\\lib\\site-packages\\sklearn\\utils\\__init__.py:54: FutureWarning: Conversion of the second argument of issubdtype from `int` to `np.signedinteger` is deprecated. In future, it will be treated as `np.int32 == np.dtype(int).type`.\n",
      "  if np.issubdtype(mask.dtype, np.int):\n"
     ]
    },
    {
     "name": "stdout",
     "output_type": "stream",
     "text": [
      "Thresh=0.16516035862820333, n=2, R2 Score: 0.608847980474686\n"
     ]
    },
    {
     "name": "stderr",
     "output_type": "stream",
     "text": [
      "C:\\ProgramData\\Anaconda3\\lib\\site-packages\\sklearn\\utils\\__init__.py:54: FutureWarning: Conversion of the second argument of issubdtype from `int` to `np.signedinteger` is deprecated. In future, it will be treated as `np.int32 == np.dtype(int).type`.\n",
      "  if np.issubdtype(mask.dtype, np.int):\n"
     ]
    },
    {
     "name": "stdout",
     "output_type": "stream",
     "text": [
      "Thresh=0.17127764893078512, n=1, R2 Score: 0.24662343465817205\n",
      "\n",
      "\n",
      "------------------------------------------\n",
      "\n",
      "\n",
      "Table [REP_HIST_SYSSTAT] RFR R2 Score: 0.9999950261860986\n"
     ]
    },
    {
     "name": "stderr",
     "output_type": "stream",
     "text": [
      "C:\\ProgramData\\Anaconda3\\lib\\site-packages\\sklearn\\utils\\__init__.py:54: FutureWarning: Conversion of the second argument of issubdtype from `int` to `np.signedinteger` is deprecated. In future, it will be treated as `np.int32 == np.dtype(int).type`.\n",
      "  if np.issubdtype(mask.dtype, np.int):\n",
      "C:\\ProgramData\\Anaconda3\\lib\\site-packages\\sklearn\\utils\\__init__.py:54: FutureWarning: Conversion of the second argument of issubdtype from `int` to `np.signedinteger` is deprecated. In future, it will be treated as `np.int32 == np.dtype(int).type`.\n",
      "  if np.issubdtype(mask.dtype, np.int):\n"
     ]
    },
    {
     "name": "stdout",
     "output_type": "stream",
     "text": [
      "Thresh=0.0, n=321, R2 Score: 0.9999946171473885\n"
     ]
    },
    {
     "name": "stderr",
     "output_type": "stream",
     "text": [
      "C:\\ProgramData\\Anaconda3\\lib\\site-packages\\sklearn\\utils\\__init__.py:54: FutureWarning: Conversion of the second argument of issubdtype from `int` to `np.signedinteger` is deprecated. In future, it will be treated as `np.int32 == np.dtype(int).type`.\n",
      "  if np.issubdtype(mask.dtype, np.int):\n"
     ]
    },
    {
     "name": "stdout",
     "output_type": "stream",
     "text": [
      "Thresh=0.0, n=321, R2 Score: 0.9999949584163715\n"
     ]
    },
    {
     "name": "stderr",
     "output_type": "stream",
     "text": [
      "C:\\ProgramData\\Anaconda3\\lib\\site-packages\\sklearn\\utils\\__init__.py:54: FutureWarning: Conversion of the second argument of issubdtype from `int` to `np.signedinteger` is deprecated. In future, it will be treated as `np.int32 == np.dtype(int).type`.\n",
      "  if np.issubdtype(mask.dtype, np.int):\n"
     ]
    },
    {
     "name": "stdout",
     "output_type": "stream",
     "text": [
      "Thresh=0.0, n=321, R2 Score: 0.9999951199745603\n"
     ]
    },
    {
     "name": "stderr",
     "output_type": "stream",
     "text": [
      "C:\\ProgramData\\Anaconda3\\lib\\site-packages\\sklearn\\utils\\__init__.py:54: FutureWarning: Conversion of the second argument of issubdtype from `int` to `np.signedinteger` is deprecated. In future, it will be treated as `np.int32 == np.dtype(int).type`.\n",
      "  if np.issubdtype(mask.dtype, np.int):\n"
     ]
    },
    {
     "name": "stdout",
     "output_type": "stream",
     "text": [
      "Thresh=0.0, n=321, R2 Score: 0.9999949892758008\n"
     ]
    },
    {
     "name": "stderr",
     "output_type": "stream",
     "text": [
      "C:\\ProgramData\\Anaconda3\\lib\\site-packages\\sklearn\\utils\\__init__.py:54: FutureWarning: Conversion of the second argument of issubdtype from `int` to `np.signedinteger` is deprecated. In future, it will be treated as `np.int32 == np.dtype(int).type`.\n",
      "  if np.issubdtype(mask.dtype, np.int):\n"
     ]
    },
    {
     "name": "stdout",
     "output_type": "stream",
     "text": [
      "Thresh=0.0, n=321, R2 Score: 0.9999949499451556\n"
     ]
    },
    {
     "name": "stderr",
     "output_type": "stream",
     "text": [
      "C:\\ProgramData\\Anaconda3\\lib\\site-packages\\sklearn\\utils\\__init__.py:54: FutureWarning: Conversion of the second argument of issubdtype from `int` to `np.signedinteger` is deprecated. In future, it will be treated as `np.int32 == np.dtype(int).type`.\n",
      "  if np.issubdtype(mask.dtype, np.int):\n"
     ]
    },
    {
     "name": "stdout",
     "output_type": "stream",
     "text": [
      "Thresh=0.0, n=321, R2 Score: 0.9999949481298951\n"
     ]
    },
    {
     "name": "stderr",
     "output_type": "stream",
     "text": [
      "C:\\ProgramData\\Anaconda3\\lib\\site-packages\\sklearn\\utils\\__init__.py:54: FutureWarning: Conversion of the second argument of issubdtype from `int` to `np.signedinteger` is deprecated. In future, it will be treated as `np.int32 == np.dtype(int).type`.\n",
      "  if np.issubdtype(mask.dtype, np.int):\n"
     ]
    },
    {
     "name": "stdout",
     "output_type": "stream",
     "text": [
      "Thresh=0.0, n=321, R2 Score: 0.999994848290565\n"
     ]
    },
    {
     "name": "stderr",
     "output_type": "stream",
     "text": [
      "C:\\ProgramData\\Anaconda3\\lib\\site-packages\\sklearn\\utils\\__init__.py:54: FutureWarning: Conversion of the second argument of issubdtype from `int` to `np.signedinteger` is deprecated. In future, it will be treated as `np.int32 == np.dtype(int).type`.\n",
      "  if np.issubdtype(mask.dtype, np.int):\n"
     ]
    },
    {
     "name": "stdout",
     "output_type": "stream",
     "text": [
      "Thresh=0.0, n=321, R2 Score: 0.9999950431285304\n"
     ]
    },
    {
     "name": "stderr",
     "output_type": "stream",
     "text": [
      "C:\\ProgramData\\Anaconda3\\lib\\site-packages\\sklearn\\utils\\__init__.py:54: FutureWarning: Conversion of the second argument of issubdtype from `int` to `np.signedinteger` is deprecated. In future, it will be treated as `np.int32 == np.dtype(int).type`.\n",
      "  if np.issubdtype(mask.dtype, np.int):\n"
     ]
    },
    {
     "name": "stdout",
     "output_type": "stream",
     "text": [
      "Thresh=0.0, n=321, R2 Score: 0.9999949953266692\n"
     ]
    },
    {
     "name": "stderr",
     "output_type": "stream",
     "text": [
      "C:\\ProgramData\\Anaconda3\\lib\\site-packages\\sklearn\\utils\\__init__.py:54: FutureWarning: Conversion of the second argument of issubdtype from `int` to `np.signedinteger` is deprecated. In future, it will be treated as `np.int32 == np.dtype(int).type`.\n",
      "  if np.issubdtype(mask.dtype, np.int):\n"
     ]
    },
    {
     "name": "stdout",
     "output_type": "stream",
     "text": [
      "Thresh=0.0, n=321, R2 Score: 0.9999948864110364\n"
     ]
    },
    {
     "name": "stderr",
     "output_type": "stream",
     "text": [
      "C:\\ProgramData\\Anaconda3\\lib\\site-packages\\sklearn\\utils\\__init__.py:54: FutureWarning: Conversion of the second argument of issubdtype from `int` to `np.signedinteger` is deprecated. In future, it will be treated as `np.int32 == np.dtype(int).type`.\n",
      "  if np.issubdtype(mask.dtype, np.int):\n"
     ]
    },
    {
     "name": "stdout",
     "output_type": "stream",
     "text": [
      "Thresh=0.0, n=321, R2 Score: 0.9999952077121534\n"
     ]
    },
    {
     "name": "stderr",
     "output_type": "stream",
     "text": [
      "C:\\ProgramData\\Anaconda3\\lib\\site-packages\\sklearn\\utils\\__init__.py:54: FutureWarning: Conversion of the second argument of issubdtype from `int` to `np.signedinteger` is deprecated. In future, it will be treated as `np.int32 == np.dtype(int).type`.\n",
      "  if np.issubdtype(mask.dtype, np.int):\n"
     ]
    },
    {
     "name": "stdout",
     "output_type": "stream",
     "text": [
      "Thresh=0.0, n=321, R2 Score: 0.9999950776184808\n"
     ]
    },
    {
     "name": "stderr",
     "output_type": "stream",
     "text": [
      "C:\\ProgramData\\Anaconda3\\lib\\site-packages\\sklearn\\utils\\__init__.py:54: FutureWarning: Conversion of the second argument of issubdtype from `int` to `np.signedinteger` is deprecated. In future, it will be treated as `np.int32 == np.dtype(int).type`.\n",
      "  if np.issubdtype(mask.dtype, np.int):\n"
     ]
    },
    {
     "name": "stdout",
     "output_type": "stream",
     "text": [
      "Thresh=0.0, n=321, R2 Score: 0.999995173222203\n"
     ]
    },
    {
     "name": "stderr",
     "output_type": "stream",
     "text": [
      "C:\\ProgramData\\Anaconda3\\lib\\site-packages\\sklearn\\utils\\__init__.py:54: FutureWarning: Conversion of the second argument of issubdtype from `int` to `np.signedinteger` is deprecated. In future, it will be treated as `np.int32 == np.dtype(int).type`.\n",
      "  if np.issubdtype(mask.dtype, np.int):\n"
     ]
    },
    {
     "name": "stdout",
     "output_type": "stream",
     "text": [
      "Thresh=0.0, n=321, R2 Score: 0.9999941185558247\n"
     ]
    },
    {
     "name": "stderr",
     "output_type": "stream",
     "text": [
      "C:\\ProgramData\\Anaconda3\\lib\\site-packages\\sklearn\\utils\\__init__.py:54: FutureWarning: Conversion of the second argument of issubdtype from `int` to `np.signedinteger` is deprecated. In future, it will be treated as `np.int32 == np.dtype(int).type`.\n",
      "  if np.issubdtype(mask.dtype, np.int):\n"
     ]
    },
    {
     "name": "stdout",
     "output_type": "stream",
     "text": [
      "Thresh=0.0, n=321, R2 Score: 0.9999951187643865\n"
     ]
    },
    {
     "name": "stderr",
     "output_type": "stream",
     "text": [
      "C:\\ProgramData\\Anaconda3\\lib\\site-packages\\sklearn\\utils\\__init__.py:54: FutureWarning: Conversion of the second argument of issubdtype from `int` to `np.signedinteger` is deprecated. In future, it will be treated as `np.int32 == np.dtype(int).type`.\n",
      "  if np.issubdtype(mask.dtype, np.int):\n"
     ]
    },
    {
     "name": "stdout",
     "output_type": "stream",
     "text": [
      "Thresh=0.0, n=321, R2 Score: 0.9999951187643865\n"
     ]
    },
    {
     "name": "stderr",
     "output_type": "stream",
     "text": [
      "C:\\ProgramData\\Anaconda3\\lib\\site-packages\\sklearn\\utils\\__init__.py:54: FutureWarning: Conversion of the second argument of issubdtype from `int` to `np.signedinteger` is deprecated. In future, it will be treated as `np.int32 == np.dtype(int).type`.\n",
      "  if np.issubdtype(mask.dtype, np.int):\n"
     ]
    },
    {
     "name": "stdout",
     "output_type": "stream",
     "text": [
      "Thresh=0.0, n=321, R2 Score: 0.9999948367939148\n"
     ]
    },
    {
     "name": "stderr",
     "output_type": "stream",
     "text": [
      "C:\\ProgramData\\Anaconda3\\lib\\site-packages\\sklearn\\utils\\__init__.py:54: FutureWarning: Conversion of the second argument of issubdtype from `int` to `np.signedinteger` is deprecated. In future, it will be treated as `np.int32 == np.dtype(int).type`.\n",
      "  if np.issubdtype(mask.dtype, np.int):\n"
     ]
    },
    {
     "name": "stdout",
     "output_type": "stream",
     "text": [
      "Thresh=0.0, n=321, R2 Score: 0.9999950812490019\n"
     ]
    },
    {
     "name": "stderr",
     "output_type": "stream",
     "text": [
      "C:\\ProgramData\\Anaconda3\\lib\\site-packages\\sklearn\\utils\\__init__.py:54: FutureWarning: Conversion of the second argument of issubdtype from `int` to `np.signedinteger` is deprecated. In future, it will be treated as `np.int32 == np.dtype(int).type`.\n",
      "  if np.issubdtype(mask.dtype, np.int):\n"
     ]
    },
    {
     "name": "stdout",
     "output_type": "stream",
     "text": [
      "Thresh=0.0, n=321, R2 Score: 0.9999950140843616\n"
     ]
    },
    {
     "name": "stderr",
     "output_type": "stream",
     "text": [
      "C:\\ProgramData\\Anaconda3\\lib\\site-packages\\sklearn\\utils\\__init__.py:54: FutureWarning: Conversion of the second argument of issubdtype from `int` to `np.signedinteger` is deprecated. In future, it will be treated as `np.int32 == np.dtype(int).type`.\n",
      "  if np.issubdtype(mask.dtype, np.int):\n"
     ]
    },
    {
     "name": "stdout",
     "output_type": "stream",
     "text": [
      "Thresh=0.0, n=321, R2 Score: 0.9999952167884562\n"
     ]
    },
    {
     "name": "stderr",
     "output_type": "stream",
     "text": [
      "C:\\ProgramData\\Anaconda3\\lib\\site-packages\\sklearn\\utils\\__init__.py:54: FutureWarning: Conversion of the second argument of issubdtype from `int` to `np.signedinteger` is deprecated. In future, it will be treated as `np.int32 == np.dtype(int).type`.\n",
      "  if np.issubdtype(mask.dtype, np.int):\n"
     ]
    },
    {
     "name": "stdout",
     "output_type": "stream",
     "text": [
      "Thresh=0.0, n=321, R2 Score: 0.9999952216291509\n"
     ]
    },
    {
     "name": "stderr",
     "output_type": "stream",
     "text": [
      "C:\\ProgramData\\Anaconda3\\lib\\site-packages\\sklearn\\utils\\__init__.py:54: FutureWarning: Conversion of the second argument of issubdtype from `int` to `np.signedinteger` is deprecated. In future, it will be treated as `np.int32 == np.dtype(int).type`.\n",
      "  if np.issubdtype(mask.dtype, np.int):\n"
     ]
    },
    {
     "name": "stdout",
     "output_type": "stream",
     "text": [
      "Thresh=0.0, n=321, R2 Score: 0.9999951163440391\n"
     ]
    },
    {
     "name": "stderr",
     "output_type": "stream",
     "text": [
      "C:\\ProgramData\\Anaconda3\\lib\\site-packages\\sklearn\\utils\\__init__.py:54: FutureWarning: Conversion of the second argument of issubdtype from `int` to `np.signedinteger` is deprecated. In future, it will be treated as `np.int32 == np.dtype(int).type`.\n",
      "  if np.issubdtype(mask.dtype, np.int):\n"
     ]
    },
    {
     "name": "stdout",
     "output_type": "stream",
     "text": [
      "Thresh=0.0, n=321, R2 Score: 0.9999950709625255\n"
     ]
    },
    {
     "name": "stderr",
     "output_type": "stream",
     "text": [
      "C:\\ProgramData\\Anaconda3\\lib\\site-packages\\sklearn\\utils\\__init__.py:54: FutureWarning: Conversion of the second argument of issubdtype from `int` to `np.signedinteger` is deprecated. In future, it will be treated as `np.int32 == np.dtype(int).type`.\n",
      "  if np.issubdtype(mask.dtype, np.int):\n"
     ]
    },
    {
     "name": "stdout",
     "output_type": "stream",
     "text": [
      "Thresh=0.0, n=321, R2 Score: 0.9999951393373394\n"
     ]
    },
    {
     "name": "stderr",
     "output_type": "stream",
     "text": [
      "C:\\ProgramData\\Anaconda3\\lib\\site-packages\\sklearn\\utils\\__init__.py:54: FutureWarning: Conversion of the second argument of issubdtype from `int` to `np.signedinteger` is deprecated. In future, it will be treated as `np.int32 == np.dtype(int).type`.\n",
      "  if np.issubdtype(mask.dtype, np.int):\n"
     ]
    },
    {
     "name": "stdout",
     "output_type": "stream",
     "text": [
      "Thresh=0.0, n=321, R2 Score: 0.9999949620468925\n"
     ]
    },
    {
     "name": "stderr",
     "output_type": "stream",
     "text": [
      "C:\\ProgramData\\Anaconda3\\lib\\site-packages\\sklearn\\utils\\__init__.py:54: FutureWarning: Conversion of the second argument of issubdtype from `int` to `np.signedinteger` is deprecated. In future, it will be treated as `np.int32 == np.dtype(int).type`.\n",
      "  if np.issubdtype(mask.dtype, np.int):\n"
     ]
    },
    {
     "name": "stdout",
     "output_type": "stream",
     "text": [
      "Thresh=0.0, n=321, R2 Score: 0.9999950515997463\n"
     ]
    },
    {
     "name": "stderr",
     "output_type": "stream",
     "text": [
      "C:\\ProgramData\\Anaconda3\\lib\\site-packages\\sklearn\\utils\\__init__.py:54: FutureWarning: Conversion of the second argument of issubdtype from `int` to `np.signedinteger` is deprecated. In future, it will be treated as `np.int32 == np.dtype(int).type`.\n",
      "  if np.issubdtype(mask.dtype, np.int):\n"
     ]
    },
    {
     "name": "stdout",
     "output_type": "stream",
     "text": [
      "Thresh=0.0, n=321, R2 Score: 0.9999951054524758\n"
     ]
    },
    {
     "ename": "KeyboardInterrupt",
     "evalue": "",
     "output_type": "error",
     "traceback": [
      "\u001b[1;31m---------------------------------------------------------------------------\u001b[0m",
      "\u001b[1;31mKeyboardInterrupt\u001b[0m                         Traceback (most recent call last)",
      "\u001b[1;32m<ipython-input-208-9958bd48b354>\u001b[0m in \u001b[0;36m<module>\u001b[1;34m()\u001b[0m\n\u001b[0;32m     55\u001b[0m                                                                \u001b[0my_df\u001b[0m\u001b[1;33m=\u001b[0m\u001b[0mrep_hist_sysstat_df_pruned\u001b[0m\u001b[1;33m[\u001b[0m\u001b[1;34m'SNAP_ID'\u001b[0m\u001b[1;33m]\u001b[0m\u001b[1;33m,\u001b[0m\u001b[1;33m\u001b[0m\u001b[0m\n\u001b[0;32m     56\u001b[0m                                                                \u001b[0mtest_split\u001b[0m\u001b[1;33m=\u001b[0m\u001b[0mtest_split\u001b[0m\u001b[1;33m,\u001b[0m\u001b[1;33m\u001b[0m\u001b[0m\n\u001b[1;32m---> 57\u001b[1;33m                                                                table_name='REP_HIST_SYSSTAT')\n\u001b[0m",
      "\u001b[1;32m<ipython-input-208-9958bd48b354>\u001b[0m in \u001b[0;36mrfr_wrapper\u001b[1;34m(X_df, y_df, test_split, random_state, table_name)\u001b[0m\n\u001b[0;32m     30\u001b[0m         \u001b[1;31m# training model\u001b[0m\u001b[1;33m\u001b[0m\u001b[1;33m\u001b[0m\u001b[0m\n\u001b[0;32m     31\u001b[0m         \u001b[0mselection_model\u001b[0m \u001b[1;33m=\u001b[0m \u001b[0mRandomForestRegressor\u001b[0m\u001b[1;33m(\u001b[0m\u001b[0mn_estimators\u001b[0m\u001b[1;33m=\u001b[0m\u001b[0mfeature_count\u001b[0m\u001b[1;33m)\u001b[0m\u001b[1;33m\u001b[0m\u001b[0m\n\u001b[1;32m---> 32\u001b[1;33m         \u001b[0mselection_model\u001b[0m\u001b[1;33m.\u001b[0m\u001b[0mfit\u001b[0m\u001b[1;33m(\u001b[0m\u001b[0mselect_train_x\u001b[0m\u001b[1;33m,\u001b[0m \u001b[0my_train\u001b[0m\u001b[1;33m)\u001b[0m\u001b[1;33m\u001b[0m\u001b[0m\n\u001b[0m\u001b[0;32m     33\u001b[0m         \u001b[1;31m#\u001b[0m\u001b[1;33m\u001b[0m\u001b[1;33m\u001b[0m\u001b[0m\n\u001b[0;32m     34\u001b[0m         \u001b[1;31m# evaluating model\u001b[0m\u001b[1;33m\u001b[0m\u001b[1;33m\u001b[0m\u001b[0m\n",
      "\u001b[1;32mC:\\ProgramData\\Anaconda3\\lib\\site-packages\\sklearn\\ensemble\\forest.py\u001b[0m in \u001b[0;36mfit\u001b[1;34m(self, X, y, sample_weight)\u001b[0m\n\u001b[0;32m    312\u001b[0m             \u001b[1;32mfor\u001b[0m \u001b[0mi\u001b[0m \u001b[1;32min\u001b[0m \u001b[0mrange\u001b[0m\u001b[1;33m(\u001b[0m\u001b[0mn_more_estimators\u001b[0m\u001b[1;33m)\u001b[0m\u001b[1;33m:\u001b[0m\u001b[1;33m\u001b[0m\u001b[0m\n\u001b[0;32m    313\u001b[0m                 tree = self._make_estimator(append=False,\n\u001b[1;32m--> 314\u001b[1;33m                                             random_state=random_state)\n\u001b[0m\u001b[0;32m    315\u001b[0m                 \u001b[0mtrees\u001b[0m\u001b[1;33m.\u001b[0m\u001b[0mappend\u001b[0m\u001b[1;33m(\u001b[0m\u001b[0mtree\u001b[0m\u001b[1;33m)\u001b[0m\u001b[1;33m\u001b[0m\u001b[0m\n\u001b[0;32m    316\u001b[0m \u001b[1;33m\u001b[0m\u001b[0m\n",
      "\u001b[1;32mC:\\ProgramData\\Anaconda3\\lib\\site-packages\\sklearn\\ensemble\\base.py\u001b[0m in \u001b[0;36m_make_estimator\u001b[1;34m(self, append, random_state)\u001b[0m\n\u001b[0;32m    122\u001b[0m \u001b[1;33m\u001b[0m\u001b[0m\n\u001b[0;32m    123\u001b[0m         \u001b[1;32mif\u001b[0m \u001b[0mrandom_state\u001b[0m \u001b[1;32mis\u001b[0m \u001b[1;32mnot\u001b[0m \u001b[1;32mNone\u001b[0m\u001b[1;33m:\u001b[0m\u001b[1;33m\u001b[0m\u001b[0m\n\u001b[1;32m--> 124\u001b[1;33m             \u001b[0m_set_random_states\u001b[0m\u001b[1;33m(\u001b[0m\u001b[0mestimator\u001b[0m\u001b[1;33m,\u001b[0m \u001b[0mrandom_state\u001b[0m\u001b[1;33m)\u001b[0m\u001b[1;33m\u001b[0m\u001b[0m\n\u001b[0m\u001b[0;32m    125\u001b[0m \u001b[1;33m\u001b[0m\u001b[0m\n\u001b[0;32m    126\u001b[0m         \u001b[1;32mif\u001b[0m \u001b[0mappend\u001b[0m\u001b[1;33m:\u001b[0m\u001b[1;33m\u001b[0m\u001b[0m\n",
      "\u001b[1;32mC:\\ProgramData\\Anaconda3\\lib\\site-packages\\sklearn\\ensemble\\base.py\u001b[0m in \u001b[0;36m_set_random_states\u001b[1;34m(estimator, random_state)\u001b[0m\n\u001b[0;32m     45\u001b[0m     \u001b[0mrandom_state\u001b[0m \u001b[1;33m=\u001b[0m \u001b[0mcheck_random_state\u001b[0m\u001b[1;33m(\u001b[0m\u001b[0mrandom_state\u001b[0m\u001b[1;33m)\u001b[0m\u001b[1;33m\u001b[0m\u001b[0m\n\u001b[0;32m     46\u001b[0m     \u001b[0mto_set\u001b[0m \u001b[1;33m=\u001b[0m \u001b[1;33m{\u001b[0m\u001b[1;33m}\u001b[0m\u001b[1;33m\u001b[0m\u001b[0m\n\u001b[1;32m---> 47\u001b[1;33m     \u001b[1;32mfor\u001b[0m \u001b[0mkey\u001b[0m \u001b[1;32min\u001b[0m \u001b[0msorted\u001b[0m\u001b[1;33m(\u001b[0m\u001b[0mestimator\u001b[0m\u001b[1;33m.\u001b[0m\u001b[0mget_params\u001b[0m\u001b[1;33m(\u001b[0m\u001b[0mdeep\u001b[0m\u001b[1;33m=\u001b[0m\u001b[1;32mTrue\u001b[0m\u001b[1;33m)\u001b[0m\u001b[1;33m)\u001b[0m\u001b[1;33m:\u001b[0m\u001b[1;33m\u001b[0m\u001b[0m\n\u001b[0m\u001b[0;32m     48\u001b[0m         \u001b[1;32mif\u001b[0m \u001b[0mkey\u001b[0m \u001b[1;33m==\u001b[0m \u001b[1;34m'random_state'\u001b[0m \u001b[1;32mor\u001b[0m \u001b[0mkey\u001b[0m\u001b[1;33m.\u001b[0m\u001b[0mendswith\u001b[0m\u001b[1;33m(\u001b[0m\u001b[1;34m'__random_state'\u001b[0m\u001b[1;33m)\u001b[0m\u001b[1;33m:\u001b[0m\u001b[1;33m\u001b[0m\u001b[0m\n\u001b[0;32m     49\u001b[0m             \u001b[0mto_set\u001b[0m\u001b[1;33m[\u001b[0m\u001b[0mkey\u001b[0m\u001b[1;33m]\u001b[0m \u001b[1;33m=\u001b[0m \u001b[0mrandom_state\u001b[0m\u001b[1;33m.\u001b[0m\u001b[0mrandint\u001b[0m\u001b[1;33m(\u001b[0m\u001b[0mMAX_RAND_SEED\u001b[0m\u001b[1;33m)\u001b[0m\u001b[1;33m\u001b[0m\u001b[0m\n",
      "\u001b[1;32mC:\\ProgramData\\Anaconda3\\lib\\site-packages\\sklearn\\base.py\u001b[0m in \u001b[0;36mget_params\u001b[1;34m(self, deep)\u001b[0m\n\u001b[0;32m    233\u001b[0m         \"\"\"\n\u001b[0;32m    234\u001b[0m         \u001b[0mout\u001b[0m \u001b[1;33m=\u001b[0m \u001b[0mdict\u001b[0m\u001b[1;33m(\u001b[0m\u001b[1;33m)\u001b[0m\u001b[1;33m\u001b[0m\u001b[0m\n\u001b[1;32m--> 235\u001b[1;33m         \u001b[1;32mfor\u001b[0m \u001b[0mkey\u001b[0m \u001b[1;32min\u001b[0m \u001b[0mself\u001b[0m\u001b[1;33m.\u001b[0m\u001b[0m_get_param_names\u001b[0m\u001b[1;33m(\u001b[0m\u001b[1;33m)\u001b[0m\u001b[1;33m:\u001b[0m\u001b[1;33m\u001b[0m\u001b[0m\n\u001b[0m\u001b[0;32m    236\u001b[0m             \u001b[1;31m# We need deprecation warnings to always be on in order to\u001b[0m\u001b[1;33m\u001b[0m\u001b[1;33m\u001b[0m\u001b[0m\n\u001b[0;32m    237\u001b[0m             \u001b[1;31m# catch deprecated param values.\u001b[0m\u001b[1;33m\u001b[0m\u001b[1;33m\u001b[0m\u001b[0m\n",
      "\u001b[1;32mC:\\ProgramData\\Anaconda3\\lib\\site-packages\\sklearn\\base.py\u001b[0m in \u001b[0;36m_get_param_names\u001b[1;34m(cls)\u001b[0m\n\u001b[0;32m    203\u001b[0m         \u001b[1;31m# introspect the constructor arguments to find the model parameters\u001b[0m\u001b[1;33m\u001b[0m\u001b[1;33m\u001b[0m\u001b[0m\n\u001b[0;32m    204\u001b[0m         \u001b[1;31m# to represent\u001b[0m\u001b[1;33m\u001b[0m\u001b[1;33m\u001b[0m\u001b[0m\n\u001b[1;32m--> 205\u001b[1;33m         \u001b[0minit_signature\u001b[0m \u001b[1;33m=\u001b[0m \u001b[0msignature\u001b[0m\u001b[1;33m(\u001b[0m\u001b[0minit\u001b[0m\u001b[1;33m)\u001b[0m\u001b[1;33m\u001b[0m\u001b[0m\n\u001b[0m\u001b[0;32m    206\u001b[0m         \u001b[1;31m# Consider the constructor parameters excluding 'self'\u001b[0m\u001b[1;33m\u001b[0m\u001b[1;33m\u001b[0m\u001b[0m\n\u001b[0;32m    207\u001b[0m         parameters = [p for p in init_signature.parameters.values()\n",
      "\u001b[1;32mC:\\ProgramData\\Anaconda3\\lib\\inspect.py\u001b[0m in \u001b[0;36msignature\u001b[1;34m(obj, follow_wrapped)\u001b[0m\n\u001b[0;32m   3050\u001b[0m \u001b[1;32mdef\u001b[0m \u001b[0msignature\u001b[0m\u001b[1;33m(\u001b[0m\u001b[0mobj\u001b[0m\u001b[1;33m,\u001b[0m \u001b[1;33m*\u001b[0m\u001b[1;33m,\u001b[0m \u001b[0mfollow_wrapped\u001b[0m\u001b[1;33m=\u001b[0m\u001b[1;32mTrue\u001b[0m\u001b[1;33m)\u001b[0m\u001b[1;33m:\u001b[0m\u001b[1;33m\u001b[0m\u001b[0m\n\u001b[0;32m   3051\u001b[0m     \u001b[1;34m\"\"\"Get a signature object for the passed callable.\"\"\"\u001b[0m\u001b[1;33m\u001b[0m\u001b[0m\n\u001b[1;32m-> 3052\u001b[1;33m     \u001b[1;32mreturn\u001b[0m \u001b[0mSignature\u001b[0m\u001b[1;33m.\u001b[0m\u001b[0mfrom_callable\u001b[0m\u001b[1;33m(\u001b[0m\u001b[0mobj\u001b[0m\u001b[1;33m,\u001b[0m \u001b[0mfollow_wrapped\u001b[0m\u001b[1;33m=\u001b[0m\u001b[0mfollow_wrapped\u001b[0m\u001b[1;33m)\u001b[0m\u001b[1;33m\u001b[0m\u001b[0m\n\u001b[0m\u001b[0;32m   3053\u001b[0m \u001b[1;33m\u001b[0m\u001b[0m\n\u001b[0;32m   3054\u001b[0m \u001b[1;33m\u001b[0m\u001b[0m\n",
      "\u001b[1;32mC:\\ProgramData\\Anaconda3\\lib\\inspect.py\u001b[0m in \u001b[0;36mfrom_callable\u001b[1;34m(cls, obj, follow_wrapped)\u001b[0m\n\u001b[0;32m   2800\u001b[0m         \u001b[1;34m\"\"\"Constructs Signature for the given callable object.\"\"\"\u001b[0m\u001b[1;33m\u001b[0m\u001b[0m\n\u001b[0;32m   2801\u001b[0m         return _signature_from_callable(obj, sigcls=cls,\n\u001b[1;32m-> 2802\u001b[1;33m                                         follow_wrapper_chains=follow_wrapped)\n\u001b[0m\u001b[0;32m   2803\u001b[0m \u001b[1;33m\u001b[0m\u001b[0m\n\u001b[0;32m   2804\u001b[0m     \u001b[1;33m@\u001b[0m\u001b[0mproperty\u001b[0m\u001b[1;33m\u001b[0m\u001b[0m\n",
      "\u001b[1;32mC:\\ProgramData\\Anaconda3\\lib\\inspect.py\u001b[0m in \u001b[0;36m_signature_from_callable\u001b[1;34m(obj, follow_wrapper_chains, skip_bound_arg, sigcls)\u001b[0m\n\u001b[0;32m   2260\u001b[0m         \u001b[1;31m# If it's a pure Python function, or an object that is duck type\u001b[0m\u001b[1;33m\u001b[0m\u001b[1;33m\u001b[0m\u001b[0m\n\u001b[0;32m   2261\u001b[0m         \u001b[1;31m# of a Python function (Cython functions, for instance), then:\u001b[0m\u001b[1;33m\u001b[0m\u001b[1;33m\u001b[0m\u001b[0m\n\u001b[1;32m-> 2262\u001b[1;33m         \u001b[1;32mreturn\u001b[0m \u001b[0m_signature_from_function\u001b[0m\u001b[1;33m(\u001b[0m\u001b[0msigcls\u001b[0m\u001b[1;33m,\u001b[0m \u001b[0mobj\u001b[0m\u001b[1;33m)\u001b[0m\u001b[1;33m\u001b[0m\u001b[0m\n\u001b[0m\u001b[0;32m   2263\u001b[0m \u001b[1;33m\u001b[0m\u001b[0m\n\u001b[0;32m   2264\u001b[0m     \u001b[1;32mif\u001b[0m \u001b[0m_signature_is_builtin\u001b[0m\u001b[1;33m(\u001b[0m\u001b[0mobj\u001b[0m\u001b[1;33m)\u001b[0m\u001b[1;33m:\u001b[0m\u001b[1;33m\u001b[0m\u001b[0m\n",
      "\u001b[1;32mC:\\ProgramData\\Anaconda3\\lib\\inspect.py\u001b[0m in \u001b[0;36m_signature_from_function\u001b[1;34m(cls, func)\u001b[0m\n\u001b[0;32m   2171\u001b[0m     return cls(parameters,\n\u001b[0;32m   2172\u001b[0m                \u001b[0mreturn_annotation\u001b[0m\u001b[1;33m=\u001b[0m\u001b[0mannotations\u001b[0m\u001b[1;33m.\u001b[0m\u001b[0mget\u001b[0m\u001b[1;33m(\u001b[0m\u001b[1;34m'return'\u001b[0m\u001b[1;33m,\u001b[0m \u001b[0m_empty\u001b[0m\u001b[1;33m)\u001b[0m\u001b[1;33m,\u001b[0m\u001b[1;33m\u001b[0m\u001b[0m\n\u001b[1;32m-> 2173\u001b[1;33m                __validate_parameters__=is_duck_function)\n\u001b[0m\u001b[0;32m   2174\u001b[0m \u001b[1;33m\u001b[0m\u001b[0m\n\u001b[0;32m   2175\u001b[0m \u001b[1;33m\u001b[0m\u001b[0m\n",
      "\u001b[1;32mC:\\ProgramData\\Anaconda3\\lib\\inspect.py\u001b[0m in \u001b[0;36m__init__\u001b[1;34m(self, parameters, return_annotation, __validate_parameters__)\u001b[0m\n\u001b[0;32m   2773\u001b[0m             \u001b[1;32melse\u001b[0m\u001b[1;33m:\u001b[0m\u001b[1;33m\u001b[0m\u001b[0m\n\u001b[0;32m   2774\u001b[0m                 params = OrderedDict(((param.name, param)\n\u001b[1;32m-> 2775\u001b[1;33m                                                 for param in parameters))\n\u001b[0m\u001b[0;32m   2776\u001b[0m \u001b[1;33m\u001b[0m\u001b[0m\n\u001b[0;32m   2777\u001b[0m         \u001b[0mself\u001b[0m\u001b[1;33m.\u001b[0m\u001b[0m_parameters\u001b[0m \u001b[1;33m=\u001b[0m \u001b[0mtypes\u001b[0m\u001b[1;33m.\u001b[0m\u001b[0mMappingProxyType\u001b[0m\u001b[1;33m(\u001b[0m\u001b[0mparams\u001b[0m\u001b[1;33m)\u001b[0m\u001b[1;33m\u001b[0m\u001b[0m\n",
      "\u001b[1;32mC:\\ProgramData\\Anaconda3\\lib\\inspect.py\u001b[0m in \u001b[0;36m<genexpr>\u001b[1;34m(.0)\u001b[0m\n\u001b[0;32m   2773\u001b[0m             \u001b[1;32melse\u001b[0m\u001b[1;33m:\u001b[0m\u001b[1;33m\u001b[0m\u001b[0m\n\u001b[0;32m   2774\u001b[0m                 params = OrderedDict(((param.name, param)\n\u001b[1;32m-> 2775\u001b[1;33m                                                 for param in parameters))\n\u001b[0m\u001b[0;32m   2776\u001b[0m \u001b[1;33m\u001b[0m\u001b[0m\n\u001b[0;32m   2777\u001b[0m         \u001b[0mself\u001b[0m\u001b[1;33m.\u001b[0m\u001b[0m_parameters\u001b[0m \u001b[1;33m=\u001b[0m \u001b[0mtypes\u001b[0m\u001b[1;33m.\u001b[0m\u001b[0mMappingProxyType\u001b[0m\u001b[1;33m(\u001b[0m\u001b[0mparams\u001b[0m\u001b[1;33m)\u001b[0m\u001b[1;33m\u001b[0m\u001b[0m\n",
      "\u001b[1;31mKeyboardInterrupt\u001b[0m: "
     ]
    }
   ],
   "source": [
    "def rfr_wrapper(X_df=None, y_df=None, test_split=.4, random_state=42, table_name=None):\n",
    "    \"\"\"\n",
    "    Random Forest Regressor - Takes data matrix and target vector, and evaluates best combination of features \n",
    "    using an RFR model.\n",
    "    \"\"\"\n",
    "    X_df = np.array(X_df)\n",
    "    y_df = np.array(y_df)\n",
    "    feature_count = len(X_df[0])\n",
    "    #feature_count=100\n",
    "    val_op, optimum_features = 0, 0\n",
    "    val_op = 0\n",
    "    X_train, X_test, y_train, y_test = train_test_split(X_df, y_df, test_size=test_split)\n",
    "    model = RandomForestRegressor(n_estimators=feature_count)\n",
    "    model.fit(X_train, y_train)\n",
    "    #\n",
    "    # make predictions for test data and evaluate\n",
    "    pred_y = model.predict(X_test)\n",
    "    predictions = [round(value) for value in pred_y]\n",
    "    r2s = r2_score(y_test, predictions)\n",
    "    print(\"Table [\" + table_name + \"] RFR R2 Score: \" + str(r2s))\n",
    "    # \n",
    "    # fit model using each importance as a threshold\n",
    "    #print(type(model.feature_importances_))\n",
    "    thresholds = np.sort(model.feature_importances_)[:feature_count]\n",
    "    for thresh in thresholds:\n",
    "        # selecting features using threshold\n",
    "        selection = SelectFromModel(model, threshold=thresh, prefit=True)\n",
    "        select_train_x = selection.transform(X_train)\n",
    "        #\n",
    "        # training model\n",
    "        selection_model = RandomForestRegressor(n_estimators=feature_count)\n",
    "        selection_model.fit(select_train_x, y_train)\n",
    "        #\n",
    "        # evaluating model\n",
    "        select_test_x = selection.transform(X_test)\n",
    "        pred_y = selection_model.predict(select_test_x)\n",
    "        predictions = [round(value) for value in pred_y]\n",
    "        r2s = r2_score(y_test, predictions)\n",
    "        print(\"Thresh=\" + str(thresh) + \", n=\" + str(select_train_x.shape[1]) + \", R2 Score: \" + str(r2s))\n",
    "        if(r2s > val_op):\n",
    "            val_op = r2s\n",
    "            optimum_features = select_train_x.shape[1]\n",
    "    print(\"\\n\\n------------------------------------------\\n\\n\")\n",
    "    return val_op, optimum_features\n",
    "#\n",
    "rfr_rep_hist_snapshot_score, rfr_rep_hist_snapshot_count = rfr_wrapper(X_df=rep_hist_snapshot_df_pruned_norm,\n",
    "                                                                        y_df=rep_hist_snapshot_df_pruned['SNAP_ID'],\n",
    "                                                                        test_split=test_split,\n",
    "                                                                        table_name='REP_HIST_SNAPSHOT')\n",
    "rfr_hist_sysmetric_summary_score, rfr_hist_sysmetric_summary_count = rfr_wrapper(X_df=rep_hist_sysmetric_summary_df_pruned_norm,\n",
    "                                                                                 y_df=rep_hist_sysmetric_summary_df_pruned['SNAP_ID'],\n",
    "                                                                                 test_split=test_split,\n",
    "                                                                                 table_name='REP_HIST_SYSMETRIC_SUMMARY')\n",
    "rfr_hist_sysstat_score, rfr_hist_sysstat_count = rfr_wrapper(X_df=rep_hist_sysstat_df_pruned_norm,\n",
    "                                                               y_df=rep_hist_sysstat_df_pruned['SNAP_ID'],\n",
    "                                                               test_split=test_split,\n",
    "                                                               table_name='REP_HIST_SYSSTAT')"
   ]
  },
  {
   "cell_type": "markdown",
   "metadata": {},
   "source": [
    "### Gradient Boosting Wrapper (Feature Combination)  (Regression)\n",
    "\n",
    "https://machinelearningmastery.com/gentle-introduction-gradient-boosting-algorithm-machine-learning/"
   ]
  },
  {
   "cell_type": "code",
   "execution_count": null,
   "metadata": {
    "scrolled": true
   },
   "outputs": [],
   "source": [
    "def gradient_boosting_wrapper(X_df=None, y_df=None, test_split=.4, random_state=42, table_name=None):\n",
    "    \"\"\"\n",
    "    Gradient Boosting Regressor - Takes data matrix and target vector, and evaluates best combination of features \n",
    "    using a GBR model.\n",
    "    \"\"\"\n",
    "    X_df = np.array(X_df)\n",
    "    y_df = np.array(y_df)\n",
    "    #feature_count = len(X_df[0])\n",
    "    feature_count=100\n",
    "    val_op, optimum_features = 0, 0\n",
    "    X_train, X_test, y_train, y_test = train_test_split(X_df, y_df, test_size=test_split)\n",
    "    model = GradientBoostingRegressor(n_estimators=feature_count)\n",
    "    model.fit(X_train, y_train)\n",
    "    #\n",
    "    # make predictions for test data and evaluate\n",
    "    pred_y = model.predict(X_test)\n",
    "    predictions = [round(value) for value in pred_y]\n",
    "    r2s = r2_score(y_test, predictions)\n",
    "    print(\"Table [\" + table_name + \"] RFR R2 Score: \" + str(r2s))\n",
    "    # \n",
    "    # fit model using each importance as a threshold\n",
    "    #print(type(model.feature_importances_))\n",
    "    thresholds = np.sort(model.feature_importances_)[:feature_count]\n",
    "    for thresh in thresholds:\n",
    "        # selecting features using threshold\n",
    "        selection = SelectFromModel(model, threshold=thresh, prefit=True)\n",
    "        select_train_x = selection.transform(X_train)\n",
    "        #\n",
    "        # training model\n",
    "        selection_model = GradientBoostingRegressor(n_estimators=feature_count)\n",
    "        selection_model.fit(select_train_x, y_train)\n",
    "        #\n",
    "        # evaluating model\n",
    "        select_test_x = selection.transform(X_test)\n",
    "        pred_y = selection_model.predict(select_test_x)\n",
    "        predictions = [round(value) for value in pred_y]\n",
    "        r2s = r2_score(y_test, predictions)\n",
    "        print(\"Thresh=\" + str(thresh) + \", n=\" + str(select_train_x.shape[1]) + \", R2 Score: \" + str(r2s))\n",
    "        if(r2s > val_op):\n",
    "            val_op = r2s\n",
    "            optimum_features = select_train_x.shape[1]\n",
    "    print(\"\\n\\n------------------------------------------\\n\\n\")\n",
    "    return val_op, optimum_features\n",
    "#\n",
    "gbw_rep_hist_snapshot_score, gbw_rep_hist_snapshot_count = gradient_boosting_wrapper(X_df=rep_hist_snapshot_df_pruned_norm,\n",
    "                                                                                      y_df=rep_hist_snapshot_df_pruned['SNAP_ID'],\n",
    "                                                                                      test_split=test_split,\n",
    "                                                                                      table_name='REP_HIST_SNAPSHOT')\n",
    "gbw_hist_sysmetric_summary_score, gbw_hist_sysmetric_summary_count = gradient_boosting_wrapper(X_df=rep_hist_sysmetric_summary_df_pruned_norm,\n",
    "                                                                                              y_df=rep_hist_sysmetric_summary_df_pruned['SNAP_ID'],\n",
    "                                                                                              test_split=test_split,\n",
    "                                                                                              table_name='REP_HIST_SYSMETRIC_SUMMARY')\n",
    "gbw_hist_sysstat_score, gbw_hist_sysstat_count = gradient_boosting_wrapper(X_df=rep_hist_sysstat_df_pruned_norm,\n",
    "                                                                          y_df=rep_hist_sysstat_df_pruned['SNAP_ID'],\n",
    "                                                                          test_split=test_split,\n",
    "                                                                          table_name='REP_HIST_SYSSTAT')"
   ]
  },
  {
   "cell_type": "markdown",
   "metadata": {},
   "source": [
    "### Recursive Feature Elimination (Regression)"
   ]
  },
  {
   "cell_type": "code",
   "execution_count": null,
   "metadata": {},
   "outputs": [],
   "source": [
    "if rfr_rep_hist_snapshot_score > gbw_rep_hist_snapshot_score:\n",
    "    rep_hist_snapshot_op = rfr_rep_hist_snapshot_count\n",
    "    rep_hist_snapshot_model = 0\n",
    "else:\n",
    "    rep_hist_snapshot_op = gbw_rep_hist_snapshot_count\n",
    "    rep_hist_snapshot_model = 1\n",
    "#\n",
    "if rfr_hist_sysmetric_summary_score > gbw_hist_sysmetric_summary_score:\n",
    "    rep_hist_sysmetric_summary_op = rfr_hist_sysmetric_summary_count\n",
    "    rep_hist_sysmetric_summary_model = 0\n",
    "else:\n",
    "    rep_hist_sysmetric_summary_op = gbw_hist_sysmetric_summary_count\n",
    "    rep_hist_sysmetric_summary_model = 1\n",
    "#\n",
    "if rfr_hist_sysstat_score > gbw_hist_sysstat_score:\n",
    "    rep_hist_sysstat_op = rfr_hist_sysstat_count\n",
    "    rep_hist_sysstat_model = 0\n",
    "else:\n",
    "    rep_hist_sysstat_op = gbw_hist_sysstat_count\n",
    "    rep_hist_sysstat_model = 1\n",
    "#\n",
    "def rfe_selector(X_df=None, y_df=None, test_split=.4, random_state=42, table_name=None, optimum_feature_count=0, model=None):\n",
    "    \"\"\"\n",
    "    Recursive Feature Elimination Function\n",
    "    \"\"\"\n",
    "    X_df = np.array(X_df)\n",
    "    y_df = np.array(y_df)\n",
    "    #feature_count = len(X_df[0])\n",
    "    feature_count=100\n",
    "    X_train, X_test, y_train, y_test = train_test_split(X_df, y_df, test_size=test_split)\n",
    "    if model == 0:\n",
    "        model = RandomForestRegressor(n_estimators=feature_count)\n",
    "    elif model == 1:\n",
    "        model = GradientBoostingRegressor(n_estimators=feature_count)\n",
    "    #\n",
    "    # create the RFE model and select 4 attributes\n",
    "    rfe_model = RFE(model, optimum_feature_count, step=1)\n",
    "    rfe_model = rfe_model.fit(X_train, y_train)\n",
    "    # \n",
    "    # summarize the selection of the attributes\n",
    "    #     print(rfe_model.support_)\n",
    "    #     print(rfe_model.ranking_)\n",
    "    # \n",
    "    # evaluate the model on testing set\n",
    "    pred_y = rfe_model.predict(X_test)\n",
    "    predictions = [round(value) for value in pred_y]\n",
    "    r2s = r2_score(y_test, predictions)\n",
    "    print(\"Table [\" + table_name + \"] RFR R2 Score: \" + str(r2s) + \" with \" + str(optimum_feature_count) + \" features\")\n",
    "    print(\"\\n\\n------------------------------------------\\n\\n\")\n",
    "#\n",
    "rfe_selector(X_df=rep_hist_snapshot_df_pruned_norm,\n",
    "             y_df=rep_hist_snapshot_df_pruned['SNAP_ID'],\n",
    "             test_split=test_split,\n",
    "             table_name='REP_HIST_SNAPSHOT',\n",
    "             optimum_feature_count=rep_hist_snapshot_op,\n",
    "             model = rep_hist_snapshot_model)\n",
    "rfe_selector(X_df=rep_hist_sysmetric_summary_df_pruned_norm,\n",
    "             y_df=rep_hist_sysmetric_summary_df_pruned['SNAP_ID'],\n",
    "             test_split=test_split,\n",
    "             table_name='REP_HIST_SYSMETRIC_SUMMARY',\n",
    "             optimum_feature_count=rep_hist_sysmetric_summary_op,\n",
    "             model = rep_hist_sysmetric_summary_model)\n",
    "rfe_selector(X_df=rep_hist_sysstat_df_pruned_norm,\n",
    "             y_df=rep_hist_sysstat_df_pruned['SNAP_ID'],\n",
    "             test_split=test_split,\n",
    "             table_name='REP_HIST_SYSSTAT',\n",
    "             optimum_feature_count=rep_hist_sysstat_op,\n",
    "             model = rep_hist_sysstat_model)"
   ]
  }
 ],
 "metadata": {
  "kernelspec": {
   "display_name": "Python 3",
   "language": "python",
   "name": "python3"
  },
  "language_info": {
   "codemirror_mode": {
    "name": "ipython",
    "version": 3
   },
   "file_extension": ".py",
   "mimetype": "text/x-python",
   "name": "python",
   "nbconvert_exporter": "python",
   "pygments_lexer": "ipython3",
   "version": "3.6.6"
  }
 },
 "nbformat": 4,
 "nbformat_minor": 2
}
