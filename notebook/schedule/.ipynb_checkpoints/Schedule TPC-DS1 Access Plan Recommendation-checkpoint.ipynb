{
 "cells": [
  {
   "cell_type": "markdown",
   "metadata": {},
   "source": [
    "# Schedule Access Plan Recommendation\n",
    "\n",
    "This notebook is dedicated to model fitting in terms of database access plans."
   ]
  },
  {
   "cell_type": "code",
   "execution_count": 1,
   "metadata": {},
   "outputs": [
    {
     "name": "stdout",
     "output_type": "stream",
     "text": [
      "pandas: 0.23.4\n",
      "numpy: 1.15.2\n",
      "sklearn: 0.20.0\n"
     ]
    }
   ],
   "source": [
    "# pandas\n",
    "import pandas as pd\n",
    "print('pandas: %s' % pd.__version__)\n",
    "# numpy\n",
    "import numpy as np\n",
    "print('numpy: %s' % np.__version__)\n",
    "# sklearn\n",
    "import sklearn as sk\n",
    "from sklearn import preprocessing\n",
    "print('sklearn: %s' % sk.__version__)"
   ]
  },
  {
   "cell_type": "code",
   "execution_count": 2,
   "metadata": {},
   "outputs": [],
   "source": [
    "#\n",
    "# Experiment Config\n",
    "tpcds='TPCDS1' # Schema upon which to operate test"
   ]
  },
  {
   "cell_type": "markdown",
   "metadata": {},
   "source": [
    "### Read data from file into pandas dataframes"
   ]
  },
  {
   "cell_type": "code",
   "execution_count": 3,
   "metadata": {},
   "outputs": [
    {
     "name": "stderr",
     "output_type": "stream",
     "text": [
      "C:\\ProgramData\\Anaconda3\\lib\\site-packages\\IPython\\core\\interactiveshell.py:3018: DtypeWarning: Columns (14) have mixed types. Specify dtype option on import or set low_memory=False.\n",
      "  interactivity=interactivity, compiler=compiler, result=result)\n"
     ]
    },
    {
     "name": "stdout",
     "output_type": "stream",
     "text": [
      "------------------------------------------\n",
      "Index(['SNAP_ID', 'DBID', 'INSTANCE_NUMBER', 'SQL_ID', 'PLAN_HASH_VALUE',\n",
      "       'OPTIMIZER_COST', 'OPTIMIZER_MODE', 'OPTIMIZER_ENV_HASH_VALUE',\n",
      "       'SHARABLE_MEM', 'LOADED_VERSIONS', 'VERSION_COUNT', 'MODULE', 'ACTION',\n",
      "       'SQL_PROFILE', 'FORCE_MATCHING_SIGNATURE', 'PARSING_SCHEMA_ID',\n",
      "       'PARSING_SCHEMA_NAME', 'PARSING_USER_ID', 'FETCHES_TOTAL',\n",
      "       'FETCHES_DELTA', 'END_OF_FETCH_COUNT_TOTAL', 'END_OF_FETCH_COUNT_DELTA',\n",
      "       'SORTS_TOTAL', 'SORTS_DELTA', 'EXECUTIONS_TOTAL', 'EXECUTIONS_DELTA',\n",
      "       'PX_SERVERS_EXECS_TOTAL', 'PX_SERVERS_EXECS_DELTA', 'LOADS_TOTAL',\n",
      "       'LOADS_DELTA', 'INVALIDATIONS_TOTAL', 'INVALIDATIONS_DELTA',\n",
      "       'PARSE_CALLS_TOTAL', 'PARSE_CALLS_DELTA', 'DISK_READS_TOTAL',\n",
      "       'DISK_READS_DELTA', 'BUFFER_GETS_TOTAL', 'BUFFER_GETS_DELTA',\n",
      "       'ROWS_PROCESSED_TOTAL', 'ROWS_PROCESSED_DELTA', 'CPU_TIME_TOTAL',\n",
      "       'CPU_TIME_DELTA', 'ELAPSED_TIME_TOTAL', 'ELAPSED_TIME_DELTA',\n",
      "       'IOWAIT_TOTAL', 'IOWAIT_DELTA', 'CLWAIT_TOTAL', 'CLWAIT_DELTA',\n",
      "       'APWAIT_TOTAL', 'APWAIT_DELTA', 'CCWAIT_TOTAL', 'CCWAIT_DELTA',\n",
      "       'DIRECT_WRITES_TOTAL', 'DIRECT_WRITES_DELTA', 'PLSEXEC_TIME_TOTAL',\n",
      "       'PLSEXEC_TIME_DELTA', 'JAVEXEC_TIME_TOTAL', 'JAVEXEC_TIME_DELTA',\n",
      "       'IO_OFFLOAD_ELIG_BYTES_TOTAL', 'IO_OFFLOAD_ELIG_BYTES_DELTA',\n",
      "       'IO_INTERCONNECT_BYTES_TOTAL', 'IO_INTERCONNECT_BYTES_DELTA',\n",
      "       'PHYSICAL_READ_REQUESTS_TOTAL', 'PHYSICAL_READ_REQUESTS_DELTA',\n",
      "       'PHYSICAL_READ_BYTES_TOTAL', 'PHYSICAL_READ_BYTES_DELTA',\n",
      "       'PHYSICAL_WRITE_REQUESTS_TOTAL', 'PHYSICAL_WRITE_REQUESTS_DELTA',\n",
      "       'PHYSICAL_WRITE_BYTES_TOTAL', 'PHYSICAL_WRITE_BYTES_DELTA',\n",
      "       'OPTIMIZED_PHYSICAL_READS_TOTAL', 'OPTIMIZED_PHYSICAL_READS_DELTA',\n",
      "       'CELL_UNCOMPRESSED_BYTES_TOTAL', 'CELL_UNCOMPRESSED_BYTES_DELTA',\n",
      "       'IO_OFFLOAD_RETURN_BYTES_TOTAL', 'IO_OFFLOAD_RETURN_BYTES_DELTA',\n",
      "       'BIND_DATA', 'FLAG', 'CON_DBID', 'CON_ID', 'SQL_TEXT', 'COMMAND_TYPE',\n",
      "       'STARTUP_TIME', 'BEGIN_INTERVAL_TIME', 'END_INTERVAL_TIME',\n",
      "       'FLUSH_ELAPSED', 'SNAP_LEVEL', 'ERROR_COUNT', 'SNAP_FLAG',\n",
      "       'SNAP_TIMEZONE'],\n",
      "      dtype='object')\n",
      "Index(['DBID', 'SQL_ID', 'PLAN_HASH_VALUE', 'ID', 'OPERATION', 'OPTIONS',\n",
      "       'OBJECT_NODE', 'OBJECT#', 'OBJECT_OWNER', 'OBJECT_NAME', 'OBJECT_ALIAS',\n",
      "       'OBJECT_TYPE', 'OPTIMIZER', 'PARENT_ID', 'DEPTH', 'POSITION',\n",
      "       'SEARCH_COLUMNS', 'COST', 'CARDINALITY', 'BYTES', 'OTHER_TAG',\n",
      "       'PARTITION_START', 'PARTITION_STOP', 'PARTITION_ID', 'OTHER',\n",
      "       'DISTRIBUTION', 'CPU_COST', 'IO_COST', 'TEMP_SPACE',\n",
      "       'ACCESS_PREDICATES', 'FILTER_PREDICATES', 'PROJECTION', 'TIME',\n",
      "       'QBLOCK_NAME', 'REMARKS', 'TIMESTAMP', 'OTHER_XML', 'CON_DBID',\n",
      "       'CON_ID'],\n",
      "      dtype='object')\n"
     ]
    },
    {
     "name": "stderr",
     "output_type": "stream",
     "text": [
      "C:\\ProgramData\\Anaconda3\\lib\\site-packages\\IPython\\core\\interactiveshell.py:3018: DtypeWarning: Columns (6,20,21,22,25,26) have mixed types. Specify dtype option on import or set low_memory=False.\n",
      "  interactivity=interactivity, compiler=compiler, result=result)\n"
     ]
    }
   ],
   "source": [
    "#rep_hist_snapshot_path = 'C:/Users/gabriel.sammut/University/Data_ICS5200/Schedule/' + tpcds + '/rep_hist_snapshot.csv'\n",
    "# rep_vsql_plan_path = 'C:/Users/gabriel.sammut/University/Data_ICS5200/Schedule/' + tpcds + '/rep_vsql_plan.csv'\n",
    "rep_hist_snapshot_path = 'D:/Projects/Datagenerated_ICS5200/Schedule/' + tpcds + '/rep_hist_snapshot.csv'\n",
    "rep_vsql_plan_path = 'D:/Projects/Datagenerated_ICS5200/Schedule/' + tpcds + '/rep_vsql_plan.csv'\n",
    "#\n",
    "rep_hist_snapshot_df = pd.read_csv(rep_hist_snapshot_path)\n",
    "rep_vsql_plan_df = pd.read_csv(rep_vsql_plan_path)\n",
    "#\n",
    "def prettify_header(headers):\n",
    "    \"\"\"\n",
    "    Cleans header list from unwated character strings\n",
    "    \"\"\"\n",
    "    header_list = []\n",
    "    [header_list.append(header.replace(\"(\",\"\").replace(\")\",\"\").replace(\"'\",\"\").replace(\",\",\"\")) for header in headers]\n",
    "    return header_list\n",
    "#\n",
    "rep_hist_snapshot_df.columns = prettify_header(rep_hist_snapshot_df.columns.values)\n",
    "rep_vsql_plan_df.columns = prettify_header(rep_vsql_plan_df.columns.values)\n",
    "print('------------------------------------------')\n",
    "print(rep_hist_snapshot_df.columns)\n",
    "print(rep_vsql_plan_df.columns)"
   ]
  },
  {
   "cell_type": "markdown",
   "metadata": {},
   "source": [
    "### Dealing with empty values"
   ]
  },
  {
   "cell_type": "code",
   "execution_count": 4,
   "metadata": {},
   "outputs": [
    {
     "name": "stdout",
     "output_type": "stream",
     "text": [
      "N/A Columns\n",
      "\n",
      "\n",
      "REP_HIST_SNAPSHOT Features 90: ['OPTIMIZER_COST', 'OPTIMIZER_MODE', 'OPTIMIZER_ENV_HASH_VALUE', 'LOADED_VERSIONS', 'MODULE', 'ACTION', 'SQL_PROFILE', 'PARSING_SCHEMA_ID', 'PARSING_SCHEMA_NAME', 'PARSING_USER_ID', 'FETCHES_TOTAL', 'FETCHES_DELTA', 'END_OF_FETCH_COUNT_TOTAL', 'END_OF_FETCH_COUNT_DELTA', 'SORTS_TOTAL', 'SORTS_DELTA', 'EXECUTIONS_TOTAL', 'EXECUTIONS_DELTA', 'PX_SERVERS_EXECS_TOTAL', 'PX_SERVERS_EXECS_DELTA', 'LOADS_TOTAL', 'LOADS_DELTA', 'INVALIDATIONS_TOTAL', 'INVALIDATIONS_DELTA', 'PARSE_CALLS_TOTAL', 'DISK_READS_TOTAL', 'DISK_READS_DELTA', 'BUFFER_GETS_TOTAL', 'BUFFER_GETS_DELTA', 'ROWS_PROCESSED_TOTAL', 'ROWS_PROCESSED_DELTA', 'CPU_TIME_TOTAL', 'ELAPSED_TIME_TOTAL', 'IOWAIT_TOTAL', 'IOWAIT_DELTA', 'CLWAIT_TOTAL', 'CLWAIT_DELTA', 'APWAIT_TOTAL', 'APWAIT_DELTA', 'CCWAIT_TOTAL', 'CCWAIT_DELTA', 'DIRECT_WRITES_TOTAL', 'DIRECT_WRITES_DELTA', 'PLSEXEC_TIME_TOTAL', 'PLSEXEC_TIME_DELTA', 'JAVEXEC_TIME_TOTAL', 'JAVEXEC_TIME_DELTA', 'IO_OFFLOAD_ELIG_BYTES_TOTAL', 'IO_OFFLOAD_ELIG_BYTES_DELTA', 'IO_INTERCONNECT_BYTES_TOTAL', 'IO_INTERCONNECT_BYTES_DELTA', 'PHYSICAL_READ_REQUESTS_TOTAL', 'PHYSICAL_READ_REQUESTS_DELTA', 'PHYSICAL_READ_BYTES_TOTAL', 'PHYSICAL_READ_BYTES_DELTA', 'PHYSICAL_WRITE_REQUESTS_TOTAL', 'PHYSICAL_WRITE_REQUESTS_DELTA', 'PHYSICAL_WRITE_BYTES_TOTAL', 'PHYSICAL_WRITE_BYTES_DELTA', 'OPTIMIZED_PHYSICAL_READS_TOTAL', 'OPTIMIZED_PHYSICAL_READS_DELTA', 'CELL_UNCOMPRESSED_BYTES_TOTAL', 'CELL_UNCOMPRESSED_BYTES_DELTA', 'IO_OFFLOAD_RETURN_BYTES_TOTAL', 'IO_OFFLOAD_RETURN_BYTES_DELTA', 'BIND_DATA', 'FLAG']\n",
      "\n",
      "\n",
      "REP_VSQL_PLAN Features 39: ['OPTIONS', 'OBJECT_NODE', 'OBJECT#', 'OBJECT_OWNER', 'OBJECT_NAME', 'OBJECT_ALIAS', 'OBJECT_TYPE', 'OPTIMIZER', 'PARENT_ID', 'POSITION', 'COST', 'CARDINALITY', 'BYTES', 'OTHER_TAG', 'PARTITION_START', 'PARTITION_STOP', 'PARTITION_ID', 'OTHER', 'DISTRIBUTION', 'CPU_COST', 'IO_COST', 'TEMP_SPACE', 'ACCESS_PREDICATES', 'FILTER_PREDICATES', 'PROJECTION', 'TIME', 'QBLOCK_NAME', 'REMARKS', 'OTHER_XML']\n",
      "\n"
     ]
    }
   ],
   "source": [
    "def get_na_columns(df, headers):\n",
    "    \"\"\"\n",
    "    Return columns which consist of NAN values\n",
    "    \"\"\"\n",
    "    na_list = []\n",
    "    for head in headers:\n",
    "        if df[head].isnull().values.any():\n",
    "            na_list.append(head)\n",
    "    return na_list\n",
    "#\n",
    "print('N/A Columns\\n')\n",
    "print('\\nREP_HIST_SNAPSHOT Features ' + str(len(rep_hist_snapshot_df.columns)) + ': ' + str(get_na_columns(df=rep_hist_snapshot_df,headers=rep_hist_snapshot_df.columns)) + \"\\n\")\n",
    "print('\\nREP_VSQL_PLAN Features ' + str(len(rep_vsql_plan_df.columns)) + ': ' + str(get_na_columns(df=rep_vsql_plan_df,headers=rep_vsql_plan_df.columns)) + \"\\n\")\n",
    "#\n",
    "def fill_na(df):\n",
    "    \"\"\"\n",
    "    Replaces NA columns with 0s\n",
    "    \"\"\"\n",
    "    return df.fillna(0)\n",
    "#\n",
    "# Populating NaN values with amount '0'\n",
    "rep_hist_snapshot_df = fill_na(df=rep_hist_snapshot_df)\n",
    "rep_vsql_plan_df = fill_na(df=rep_vsql_plan_df)"
   ]
  },
  {
   "cell_type": "markdown",
   "metadata": {},
   "source": [
    "### Data Ordering\n",
    "\n",
    "Sorting of datasets in order of:\n",
    "\n",
    "* REP_VSQL_PLAN - TIMESTAMP, SQL_ID, ID"
   ]
  },
  {
   "cell_type": "code",
   "execution_count": 5,
   "metadata": {},
   "outputs": [],
   "source": [
    "rep_hist_snapshot_df.sort_values(by=['SNAP_ID'], ascending=True, inplace=True)\n",
    "rep_vsql_plan_df.sort_values(by=['TIMESTAMP','SQL_ID','ID'], ascending=True, inplace=True)"
   ]
  },
  {
   "cell_type": "markdown",
   "metadata": {},
   "source": [
    "### TPC-DS Filtering\n",
    "\n",
    "Exclude all queries but those pertaining to TPC-DS.\n",
    "This part also merges the field 'SQL_TEXT' from data matrix REP_HIST_SNAPSHOT with data matrix 'REP_VSQL_PLAN'."
   ]
  },
  {
   "cell_type": "code",
   "execution_count": 11,
   "metadata": {},
   "outputs": [
    {
     "name": "stdout",
     "output_type": "stream",
     "text": [
      "Unique TPCDS1 IDs: ['0ga8vk4nftz45' '54qdvyrqsg8m6' '8skndm0ag8dwu' '9nzkptun0hjwu'\n",
      " '8rv3y7yy1zny3' 'gu5x4z494njku' '785wb90xs3r0t' '2j5bk3tn2zt0g'\n",
      " 'cfsnf5tz2q74a' 'cjq93m442uprp' 'au8ztarrm6vvs' 'gkjkxbzzptg00'\n",
      " 'gh5w0gcyfaujs' '7m8xtjmn5zv0g' 'bcbpkhm3cq424' 'd134mqkq6kgbu'\n",
      " '3419gsthd5szh' '9ua42c6f2qs7s' '9x8gaksqvta15' '4g1u6kabran4u'\n",
      " 'd7w1dugmzb9n9' '4cgbvpjc134nu' 'd5wzutxy2w8np' '8k0qd372mh9td'\n",
      " 'bj5v9w48937nu' 'c277ysg385fby' 'gn7c56v4qdv0a' 'gw5vg9fmj44kf'\n",
      " '9kum9s57rptk4' '0cs8gqsjwxxkq' '36zntmzb9nzbx' 'b8cjbq1au6kz8'\n",
      " '53w22dn4kt7us' 'dqmnrkfw3n0hc' 'ct08q649zt7zq' '3uqub29v7bm7k'\n",
      " '731j23kzchb46' '18kgfax58817q' '3z4t7h53vpq5j' 'g2kvb6h17ds7m'\n",
      " '34727gtyphqg0' '0axwf3djk6qhw' '8hb1p1z9z4wfb' '3uvpfa36gkwa2'\n",
      " '6fn9107s176xp' 'fx86bvbgy3k69' '9tasj8t3m8c9h' '5d1xymjjs040y'\n",
      " '8pyv1un0240hy' '1z9kdprccj203' 'g04ur4j6jn9av' '0a08ug2qc1j82'\n",
      " '5q9kqvuctxkvq' '0vx9985zy097p' 'dswqy60bkb6x5' '1aqmps4rb3nsn'\n",
      " 'c71j8ycjcmgvk' '267gcwda3u6qf' '40tcb45hnv1wk' '2wtt22p5d7h8d'\n",
      " '846jscr96cytx' '6u93j5rud32dk' 'btyn4akvn7q06' '0nkr85xhdu4k1'\n",
      " '2wr5hmu538v0m' '4mmqayxa4hwb0' '6d0rbkgfab2xa' 'f4mjabdfzunkp'\n",
      " '8zrx3g9jq5ckd' 'cuvxgpyqq3dtt' '49dq0xrjy5fjq' 'bjysnk84b0gq6'\n",
      " '19ry84435qr7s' '193ncz0tf25hw' '3rz7xpr8mzz80' '9mvdubkgsb8kk'\n",
      " '7s64w7wcht44y' 'agb5cpzfwtq4h' 'd8bn4gpadpwz8' '6qg2pcar5d08w'\n",
      " '98vnaj0nn42wp' '396mj9bd8j16n' '5ry53w1yug897' '51unqf2gzkqfd'\n",
      " 'gdxhxvtrd1fk7' 'aa9rns4zjh1qc' '5202s5f28dyv0' '1y8wwnv35tjcq'\n",
      " 'cf0x2a0dspwh2' '4gg1xchywmt7x' '1r4kjczvthaqy' '11588h7f5237c'\n",
      " 'byyw00ky9dtdk' '64wct1dn3b771' '6qfs7dcjudu3c' '0pwjftjnst0qj'\n",
      " '2wpsfm651sjth' '599ya44qbwzq7' 'g6t2r249d3uh0' '80whkpurg74j8'\n",
      " '3ja745d9jkpc8' '6ng69n69napfj' 'f5ku2va79q96y' '6bah2baa89p3q'\n",
      " '9tdgmsytk4c4t' '4t4gcz971c3g5' 'agm13xcgfst01' 'a6gvsdjda6n05'\n",
      " '20v00cpx35r8x' 'fgszx9ckxyg4x' '7309p9gj220z9' '50a53agrkafss'\n",
      " '9bxp43zc6dxpy' 'ch0235uz12jtv' '3k1hx1grdqsxr' '5ana8d5m4d7rn'\n",
      " '83y8p7w5scqx7' '674tn8vctz1f1' '3vu2zb1fuxxb8' '24x3yjn39ycjs'\n",
      " 'bbzgq5r63zbxh' '3bmwxjakz3ufw' '0rdgvhw9f16d3' 'dxrhay2kz90nr'\n",
      " '38d3db26p680p' 'db453hyzt7xjz' '4ugtjwbzjnkd3' '4wf9hbusjxc2t'\n",
      " '6rz8cvnjqcsfk' '1a4wxw4cj8gah' 'cpb4uppzvqt9g' '1480t2vk3001h'\n",
      " '6tw0shbdv2fwz' 'a0r8q4hjqysv6' 'bb701tdcha9q0' 'cj8v9njmm5rnd'\n",
      " 'gxu3xsj4rx3nu' '1u8bb26dx1s1f' '1dg306xj3bd2r' '1wj0cn946b2d0'\n",
      " '5upkpzapa8v40' '603m11dtkkyj1' '1kt7v08snrqhh' '5tdf40pj47ufs'\n",
      " 'f8hg1m74n21mc' '0588hk71dmq7g' '1xct60yk194zg' '7uv1w7n13jr30'\n",
      " '2sxfsfak67huv' '41ncsfu26db1w' '6c5gnkc6ntfkz' 'fb99mv5kukxt0'\n",
      " 'd40x10vy0sjkq' '4uqj2vcmrf071' '4wgm7rywrufn9' '0hbvbmyk4rbpb'\n",
      " '3kjtgr2ukpv8m' 'g23t2xzhhufcf' 'gk5098kw0wd0p' '7kxzgmvu3ckw3'\n",
      " '1hzjstf7d8ydg' 'anfun8m6k4gkw' 'c8qkjbajmnzjw' 'ac717udu18a35'\n",
      " 'fv9zrr2b2b61w' '4wwvhsc0rcjf6' 'ckf9vsgfkxuc2' '4vym5a5jcq88d'\n",
      " '051krh823kq4p' '6pcbsb11yc14c' '9fu6mj9u5n47q' '76j881acw13d8'\n",
      " '2kujcd3399haf' '2znc7p3ndu0x5' '2r8rn43z5qk72' '5zarnth2r41mq'\n",
      " '6am7w0aj6p6gj' 'a82v9s8m1z3ar' 'at28rm30dv891' 'fnkamwfrzuxsq'\n",
      " '9uardadmwwbka' '7fhawa72pansj' '0dsa2f4561ab9' 'g1k45umvracwj'\n",
      " '5hdwcnry31fyg' '350d18utrk6cu' '8cx2kbtd2w4dn' '8u7f38a16kc75'\n",
      " '8qcbvp45njtth' '9rvukkn3sh0w5' 'cxz6c3gvs6z6f' 'drshf3mum6uh5'\n",
      " 'cfh4py33p5p6a' '10c4pwwmy69fy' '7tx0375fzw3y2' '19q52cgjgwa84'\n",
      " '58xd3u7n7r4s3' '84db5aurgd9ud' 'gwxn8anwds022' 'gzznry618b6gg'\n",
      " 'bva316gndrpx8' '73uccp6417jg1' 'bj66798kd0x2q' '93pcxcrqpp7rm'\n",
      " '6fyy4ad03zqrx' 'g3kwz0gutr9kq' '3utsn0n0pwxka' 'c1ymt7kqb7c50'\n",
      " '87w30q11bq433' 'ax4c12s7sbkzd' '3qhsxv58utnvb' 'avxs74zk9b6sg'\n",
      " '34askd5ryvr23' '3hauqzcxhcaky' 'g3pr0m7mgbdqa' 'cfk18fw3fynvs'\n",
      " 'g57n4ymtqd882' 'gchjnysns7zw4' '3726bqu4cgd5p' 'gdpzdd05jgjs0'\n",
      " 'bd8srnvk99sn1' 'a69j1c8pt60vc' '2fsccs54x37bx' 'an2xtyy930nn0'\n",
      " '9a8kbd4417q7f' '22xrvu87xq80w' 'fuczpzukp4up4' 'd2shau6p5ydnc'\n",
      " '9nw7nmp8j39qq' 'cws42h8dn8wta' 'd501dux25dzy1' 'd6vqfmt62hypx'\n",
      " '3x78pzy0n6u4u' '7vmtr42vtu2zq' '3r5ftvxuay76g' '3wb48nvtv9947'\n",
      " 'dpmsu77ty9z31' 'fnq0ssuuf84aw' '5dtmg8zxk161v' 'fqywn5pm31544'\n",
      " '4f8taagx0a2xd' '6gyddkh1gyc7d' 'cqr2bttvzq285' '1nbbmmcvv8r8w'\n",
      " 'cq7uqkpgzjtm4' '3t09x6g3nf5jd' '5964x2nj4an6n' 'a2c5gg8d40qqr'\n",
      " 'd7smdbm08hqta' '8x6qsrw9rpng5' '55u3mjpyxzv5g' '7hwu5bz3tc50s'\n",
      " '00fc14chrx44s' 'fgdxqp4bhxaf9' '0zhckhv9vtf1b' '843vf07r460pr'\n",
      " 'fjp4cu98kmunw' '72qas272yzqcu' 'g4zn03pmn7u5k' '1cys079p24085'\n",
      " 'g4xp7wqs1z4rw' '92u1frf88n6nn' '37cjbxuhw7k0y' 'buxckgmq40dtg'\n",
      " 'aw18kf73ks6d2' 'bgvm6q7ahtmbd' 'fjf6ncg1ddvkg' 'crkf9phc5h8z0'\n",
      " 'c2tt2wkx50j0a' '7vn4p2y2hj2ru' 'gazz6wjxp1drz' 'a38vp5fmzt05m'\n",
      " 'cjkx3z3uvm4cb' 'djbz0zb8nyhtr' '6yrzynjn79pyz' 'a2at5sz4kpp52'\n",
      " '917ys2tagrf6h' '54dt52msym9d2' 'bt9t9g7qvm1vd' '90wfdq7fmhbqz'\n",
      " 'a69pm68zxcdfc' '77tpcmx7rr293' '0th8uppmjd5v7' 'ccmx6vrhn6fps'\n",
      " '24pax8q7zyjct' '53bud2c5zp415' 'byhh3ythhp093' '7ct5j58jdbwf0'\n",
      " '187wjhtc5rd1a' '45psqdd4cmxwy' '59m2prh1k0nmn' '7qf9f1rak4548'\n",
      " 'az6mrgt2rncp6' '5f2prqrs5s19j' '47yrvskwust90' '44pum4m9f238g'\n",
      " 'ap4j109g8r2kq' 'cskzfqs98qh6p' 'dgbps07uhk00y' '8mq4qatx2jj8t'\n",
      " '3fvvb2ht8sykv' 'dy71rtqmdy6w0' '6dh6d58n4mvkm' '22b7qb06wqpwm'\n",
      " 'b64vq8yqrgy48' 'apf2qurdm245h' '7gz72t19abu6m' 'c9qbydfwz8nrx'\n",
      " '7wmfbpyk1m8wf' '5ydpm9p96ujpd' '0kgv07zrthbk9' '8pqnkmrtczb8w'\n",
      " '3j6kvdcy3ccqr' '6pan1a0v36k4n' '7t5k8tyg6n0p5' '04nt58g4m56qd'\n",
      " 'gwvgnstkw1nt7' '248suhpf1dbya' '5ng9stukgtr1u' '8f5tqp03jn028'\n",
      " 'crdk91kgqqy4r' '9ggawtdzd5q3d' 'f9kmwqszp146y' '15w6b5ntk2gva'\n",
      " '5zuqgqk2fzwwd' 'g88m1162kp0uu' 'ccavhyrs7ma7r' '2zv6kvh9qddbb'\n",
      " 'a96jrqjr4u1f9' '3cuvx4a8r1jty' 'a65x1dfn099g0' '4pa73zj5symud'\n",
      " '5b2uppj1zp48y' '7a189vvgn75wx' 'afmds1mshqh6r' '5km548518bdjm'\n",
      " '4yurnfpgbh5g0' 'd7mzj3kzbf8y2' '8xykwhf159b0n' '2jguhb9kvxxtr'\n",
      " 'gn9wnmtf3vbtq' '4p674vz40j32q' '1dr25663v4d1g' '1y3cqu8zfrjm5'\n",
      " 'fz64frzgrqqgh' '71q439ssx3mbx' 'b356v5uwr64fg' 'cgs77a7wfmd4y'\n",
      " 'bv6jb52skxpy4' '3k6s6rrq0tw1u' '4r1jj2nmjdxvv' 'gx85vt946ab8y'\n",
      " 'ag8mpuna7mzwf' 'fj8rz73m8jcd4' '2a1gwbru2n0qk' '4atx2g4bz9913'\n",
      " '9w2rfrktch7j9' '6a44zv9p7mpqp' '44qyhv7jwq310' '83b1gt21kudrg'\n",
      " 'a4hrn045uxz7s' '9ayvmcvr51d1c' '14y80sz3j1rhk' '6805rzw97jvyp'\n",
      " 'g1kmg6bcaczq7' '19ghd7muy8h1w' '6q40f9mk5ywcn' 'dk6bj2kc8qzgt'\n",
      " 'drdx92cdmgvaq' 'f1chknfhn70hb' '54fmxyadm4f6r' '1g68b1baf7w6z'\n",
      " '59zt6d3nxky6n' '4qfccma8qduhq' '3v6gcxh20y5vu' 'bftwc4vuhcjyg'\n",
      " 'c5tvvy9k1mhwc' 'avar4h6h0tyyg' '5vy84pvrcbxqb' 'arz96wcmgmryv'\n",
      " 'fqqbc4cvwrxtm' '2jmt8jgu1twmm' 'gfhp3ctyc68z7' '009gxqqa0ju8d'\n",
      " '6bh7mufk9799m' '7ku4yz76bh8k4' '2hbmj15x455sy' 'a1a7nghq1xpbq'\n",
      " 'g9wzv2mat2022' 'd4qrdavcu78rk' 'dqkkg1gwappjs' '6ht6h5fzx5uu2'\n",
      " '4q8dpsw705x0s' 'd7046s3puxyff' '8nknkdjga7k43' '412kust8qt2rp'\n",
      " '5j25j3gsjxstr' 'a3zrbhy7yjxsy' 'aw2dkhtptjpu9' '8hbbq6x5xgb4q'\n",
      " '7cktm092knrcx' '9qh4vv2zga1k7' 'cx3404kv3u04f' 'gcakghtp723kz'\n",
      " '07s56h5c8yda1' '554rnvyv9ttkg' 'cxkn04tpx4qzj' '3vs66bc40s906'\n",
      " '4jnu9httqssmg' '9shunhh5z0wfw' 'a837mp6ur7d0y' 'cxms262r37kyq'\n",
      " 'a6fy23us0jz84' 'dw8wf7ufd4qnk' '6n0xqn35by6mr' 'a0z9021d1frav'\n",
      " '5wy060hvc9r66' '6ntrg83pyxucz' '2u5cwvubw25nm' '89r7gnaxqb9xu'\n",
      " 'gnza5p8nwfdw5' '1qb9s3drm6zuz' '92mu7gt2cvcva' 'fg7mrapxx50z6'\n",
      " 'a8163dn31ympy' '738dwjm6h16bb' '4v69jmg5x7mvg' 'bzmbp4h0354rg'\n",
      " '78awag52y1dmf' '9uyph20302mmj' '7caa2r7rpwg0p' '9nmjb6pyyfh31'\n",
      " 'bhspk26s9x87c' 'bptvc77yuwy88' '4f09ma62p2b9v' 'f6d6ytdgvwqgm'\n",
      " '53u9r3qzfyxjp' 'dbj4appjasb2j' 'dhxgv3mtks79r' '8dyyz3s54vcsj'\n",
      " '3an3typnggmtx' '1kkhhb9zbfzx3' '8y6wg0b8xy5ws' '341n7zhasrkhr'\n",
      " '6ccr6xx4tq5yy' '89ppymxvkd97x' 'fsm1q0647gq9w' '0pr4msvxcx8a3'\n",
      " '9gvrk96fpn474' '21cradvwxtfbp' 'dp5j8d8cpzfhu' '5vg12vrnu4ac0'\n",
      " '4b5p3gjuvv4z1' '97cdhqybtj9zu' '3m7cv0pjrzfad']\n",
      "REP_VSQL_SHAPE before: (43410, 39)\n",
      "REP_VSQL_SHAPE after: (43410, 39)\n"
     ]
    },
    {
     "ename": "MemoryError",
     "evalue": "",
     "output_type": "error",
     "traceback": [
      "\u001b[1;31m---------------------------------------------------------------------------\u001b[0m",
      "\u001b[1;31mMemoryError\u001b[0m                               Traceback (most recent call last)",
      "\u001b[1;32m<ipython-input-11-24118f4f0713>\u001b[0m in \u001b[0;36m<module>\u001b[1;34m\u001b[0m\n\u001b[0;32m     11\u001b[0m \u001b[1;31m#\u001b[0m\u001b[1;33m\u001b[0m\u001b[1;33m\u001b[0m\u001b[0m\n\u001b[0;32m     12\u001b[0m \u001b[1;31m# Merging data matrixes\u001b[0m\u001b[1;33m\u001b[0m\u001b[1;33m\u001b[0m\u001b[0m\n\u001b[1;32m---> 13\u001b[1;33m \u001b[0mdf\u001b[0m \u001b[1;33m=\u001b[0m \u001b[0mpd\u001b[0m\u001b[1;33m.\u001b[0m\u001b[0mmerge\u001b[0m\u001b[1;33m(\u001b[0m\u001b[0mrep_hist_snapshot_df\u001b[0m\u001b[1;33m,\u001b[0m \u001b[0mrep_vsql_plan_df\u001b[0m\u001b[1;33m,\u001b[0m \u001b[0mhow\u001b[0m\u001b[1;33m=\u001b[0m\u001b[1;34m'right'\u001b[0m\u001b[1;33m,\u001b[0m \u001b[0mon\u001b[0m\u001b[1;33m=\u001b[0m\u001b[1;33m[\u001b[0m\u001b[1;34m'SQL_ID'\u001b[0m\u001b[1;33m,\u001b[0m\u001b[1;34m'PLAN_HASH_VALUE'\u001b[0m\u001b[1;33m]\u001b[0m\u001b[1;33m)\u001b[0m\u001b[1;33m\u001b[0m\u001b[0m\n\u001b[0m\u001b[0;32m     14\u001b[0m \u001b[0mprint\u001b[0m\u001b[1;33m(\u001b[0m\u001b[1;34m\"Merged Dataframe: \"\u001b[0m \u001b[1;33m+\u001b[0m \u001b[0mstr\u001b[0m\u001b[1;33m(\u001b[0m\u001b[0mdf\u001b[0m\u001b[1;33m.\u001b[0m\u001b[0mshape\u001b[0m\u001b[1;33m)\u001b[0m\u001b[1;33m)\u001b[0m\u001b[1;33m\u001b[0m\u001b[0m\n\u001b[0;32m     15\u001b[0m \u001b[1;31m# print(type(rep_vsql_plan_series))\u001b[0m\u001b[1;33m\u001b[0m\u001b[1;33m\u001b[0m\u001b[0m\n",
      "\u001b[1;32mC:\\ProgramData\\Anaconda3\\lib\\site-packages\\pandas\\core\\reshape\\merge.py\u001b[0m in \u001b[0;36mmerge\u001b[1;34m(left, right, how, on, left_on, right_on, left_index, right_index, sort, suffixes, copy, indicator, validate)\u001b[0m\n\u001b[0;32m     60\u001b[0m                          \u001b[0mcopy\u001b[0m\u001b[1;33m=\u001b[0m\u001b[0mcopy\u001b[0m\u001b[1;33m,\u001b[0m \u001b[0mindicator\u001b[0m\u001b[1;33m=\u001b[0m\u001b[0mindicator\u001b[0m\u001b[1;33m,\u001b[0m\u001b[1;33m\u001b[0m\u001b[0m\n\u001b[0;32m     61\u001b[0m                          validate=validate)\n\u001b[1;32m---> 62\u001b[1;33m     \u001b[1;32mreturn\u001b[0m \u001b[0mop\u001b[0m\u001b[1;33m.\u001b[0m\u001b[0mget_result\u001b[0m\u001b[1;33m(\u001b[0m\u001b[1;33m)\u001b[0m\u001b[1;33m\u001b[0m\u001b[0m\n\u001b[0m\u001b[0;32m     63\u001b[0m \u001b[1;33m\u001b[0m\u001b[0m\n\u001b[0;32m     64\u001b[0m \u001b[1;33m\u001b[0m\u001b[0m\n",
      "\u001b[1;32mC:\\ProgramData\\Anaconda3\\lib\\site-packages\\pandas\\core\\reshape\\merge.py\u001b[0m in \u001b[0;36mget_result\u001b[1;34m(self)\u001b[0m\n\u001b[0;32m    580\u001b[0m             \u001b[1;33m[\u001b[0m\u001b[1;33m(\u001b[0m\u001b[0mldata\u001b[0m\u001b[1;33m,\u001b[0m \u001b[0mlindexers\u001b[0m\u001b[1;33m)\u001b[0m\u001b[1;33m,\u001b[0m \u001b[1;33m(\u001b[0m\u001b[0mrdata\u001b[0m\u001b[1;33m,\u001b[0m \u001b[0mrindexers\u001b[0m\u001b[1;33m)\u001b[0m\u001b[1;33m]\u001b[0m\u001b[1;33m,\u001b[0m\u001b[1;33m\u001b[0m\u001b[0m\n\u001b[0;32m    581\u001b[0m             \u001b[0maxes\u001b[0m\u001b[1;33m=\u001b[0m\u001b[1;33m[\u001b[0m\u001b[0mllabels\u001b[0m\u001b[1;33m.\u001b[0m\u001b[0mappend\u001b[0m\u001b[1;33m(\u001b[0m\u001b[0mrlabels\u001b[0m\u001b[1;33m)\u001b[0m\u001b[1;33m,\u001b[0m \u001b[0mjoin_index\u001b[0m\u001b[1;33m]\u001b[0m\u001b[1;33m,\u001b[0m\u001b[1;33m\u001b[0m\u001b[0m\n\u001b[1;32m--> 582\u001b[1;33m             concat_axis=0, copy=self.copy)\n\u001b[0m\u001b[0;32m    583\u001b[0m \u001b[1;33m\u001b[0m\u001b[0m\n\u001b[0;32m    584\u001b[0m         \u001b[0mtyp\u001b[0m \u001b[1;33m=\u001b[0m \u001b[0mself\u001b[0m\u001b[1;33m.\u001b[0m\u001b[0mleft\u001b[0m\u001b[1;33m.\u001b[0m\u001b[0m_constructor\u001b[0m\u001b[1;33m\u001b[0m\u001b[0m\n",
      "\u001b[1;32mC:\\ProgramData\\Anaconda3\\lib\\site-packages\\pandas\\core\\internals.py\u001b[0m in \u001b[0;36mconcatenate_block_managers\u001b[1;34m(mgrs_indexers, axes, concat_axis, copy)\u001b[0m\n\u001b[0;32m   5419\u001b[0m         \u001b[1;32melse\u001b[0m\u001b[1;33m:\u001b[0m\u001b[1;33m\u001b[0m\u001b[0m\n\u001b[0;32m   5420\u001b[0m             b = make_block(\n\u001b[1;32m-> 5421\u001b[1;33m                 \u001b[0mconcatenate_join_units\u001b[0m\u001b[1;33m(\u001b[0m\u001b[0mjoin_units\u001b[0m\u001b[1;33m,\u001b[0m \u001b[0mconcat_axis\u001b[0m\u001b[1;33m,\u001b[0m \u001b[0mcopy\u001b[0m\u001b[1;33m=\u001b[0m\u001b[0mcopy\u001b[0m\u001b[1;33m)\u001b[0m\u001b[1;33m,\u001b[0m\u001b[1;33m\u001b[0m\u001b[0m\n\u001b[0m\u001b[0;32m   5422\u001b[0m                 placement=placement)\n\u001b[0;32m   5423\u001b[0m         \u001b[0mblocks\u001b[0m\u001b[1;33m.\u001b[0m\u001b[0mappend\u001b[0m\u001b[1;33m(\u001b[0m\u001b[0mb\u001b[0m\u001b[1;33m)\u001b[0m\u001b[1;33m\u001b[0m\u001b[0m\n",
      "\u001b[1;32mC:\\ProgramData\\Anaconda3\\lib\\site-packages\\pandas\\core\\internals.py\u001b[0m in \u001b[0;36mconcatenate_join_units\u001b[1;34m(join_units, concat_axis, copy)\u001b[0m\n\u001b[0;32m   5563\u001b[0m     to_concat = [ju.get_reindexed_values(empty_dtype=empty_dtype,\n\u001b[0;32m   5564\u001b[0m                                          upcasted_na=upcasted_na)\n\u001b[1;32m-> 5565\u001b[1;33m                  for ju in join_units]\n\u001b[0m\u001b[0;32m   5566\u001b[0m \u001b[1;33m\u001b[0m\u001b[0m\n\u001b[0;32m   5567\u001b[0m     \u001b[1;32mif\u001b[0m \u001b[0mlen\u001b[0m\u001b[1;33m(\u001b[0m\u001b[0mto_concat\u001b[0m\u001b[1;33m)\u001b[0m \u001b[1;33m==\u001b[0m \u001b[1;36m1\u001b[0m\u001b[1;33m:\u001b[0m\u001b[1;33m\u001b[0m\u001b[0m\n",
      "\u001b[1;32mC:\\ProgramData\\Anaconda3\\lib\\site-packages\\pandas\\core\\internals.py\u001b[0m in \u001b[0;36m<listcomp>\u001b[1;34m(.0)\u001b[0m\n\u001b[0;32m   5563\u001b[0m     to_concat = [ju.get_reindexed_values(empty_dtype=empty_dtype,\n\u001b[0;32m   5564\u001b[0m                                          upcasted_na=upcasted_na)\n\u001b[1;32m-> 5565\u001b[1;33m                  for ju in join_units]\n\u001b[0m\u001b[0;32m   5566\u001b[0m \u001b[1;33m\u001b[0m\u001b[0m\n\u001b[0;32m   5567\u001b[0m     \u001b[1;32mif\u001b[0m \u001b[0mlen\u001b[0m\u001b[1;33m(\u001b[0m\u001b[0mto_concat\u001b[0m\u001b[1;33m)\u001b[0m \u001b[1;33m==\u001b[0m \u001b[1;36m1\u001b[0m\u001b[1;33m:\u001b[0m\u001b[1;33m\u001b[0m\u001b[0m\n",
      "\u001b[1;32mC:\\ProgramData\\Anaconda3\\lib\\site-packages\\pandas\\core\\internals.py\u001b[0m in \u001b[0;36mget_reindexed_values\u001b[1;34m(self, empty_dtype, upcasted_na)\u001b[0m\n\u001b[0;32m   5873\u001b[0m             \u001b[1;32mfor\u001b[0m \u001b[0max\u001b[0m\u001b[1;33m,\u001b[0m \u001b[0mindexer\u001b[0m \u001b[1;32min\u001b[0m \u001b[0mself\u001b[0m\u001b[1;33m.\u001b[0m\u001b[0mindexers\u001b[0m\u001b[1;33m.\u001b[0m\u001b[0mitems\u001b[0m\u001b[1;33m(\u001b[0m\u001b[1;33m)\u001b[0m\u001b[1;33m:\u001b[0m\u001b[1;33m\u001b[0m\u001b[0m\n\u001b[0;32m   5874\u001b[0m                 values = algos.take_nd(values, indexer, axis=ax,\n\u001b[1;32m-> 5875\u001b[1;33m                                        fill_value=fill_value)\n\u001b[0m\u001b[0;32m   5876\u001b[0m \u001b[1;33m\u001b[0m\u001b[0m\n\u001b[0;32m   5877\u001b[0m         \u001b[1;32mreturn\u001b[0m \u001b[0mvalues\u001b[0m\u001b[1;33m\u001b[0m\u001b[0m\n",
      "\u001b[1;32mC:\\ProgramData\\Anaconda3\\lib\\site-packages\\pandas\\core\\algorithms.py\u001b[0m in \u001b[0;36mtake_nd\u001b[1;34m(arr, indexer, axis, out, fill_value, mask_info, allow_fill)\u001b[0m\n\u001b[0;32m   1653\u001b[0m             \u001b[0mout\u001b[0m \u001b[1;33m=\u001b[0m \u001b[0mnp\u001b[0m\u001b[1;33m.\u001b[0m\u001b[0mempty\u001b[0m\u001b[1;33m(\u001b[0m\u001b[0mout_shape\u001b[0m\u001b[1;33m,\u001b[0m \u001b[0mdtype\u001b[0m\u001b[1;33m=\u001b[0m\u001b[0mdtype\u001b[0m\u001b[1;33m,\u001b[0m \u001b[0morder\u001b[0m\u001b[1;33m=\u001b[0m\u001b[1;34m'F'\u001b[0m\u001b[1;33m)\u001b[0m\u001b[1;33m\u001b[0m\u001b[0m\n\u001b[0;32m   1654\u001b[0m         \u001b[1;32melse\u001b[0m\u001b[1;33m:\u001b[0m\u001b[1;33m\u001b[0m\u001b[0m\n\u001b[1;32m-> 1655\u001b[1;33m             \u001b[0mout\u001b[0m \u001b[1;33m=\u001b[0m \u001b[0mnp\u001b[0m\u001b[1;33m.\u001b[0m\u001b[0mempty\u001b[0m\u001b[1;33m(\u001b[0m\u001b[0mout_shape\u001b[0m\u001b[1;33m,\u001b[0m \u001b[0mdtype\u001b[0m\u001b[1;33m=\u001b[0m\u001b[0mdtype\u001b[0m\u001b[1;33m)\u001b[0m\u001b[1;33m\u001b[0m\u001b[0m\n\u001b[0m\u001b[0;32m   1656\u001b[0m \u001b[1;33m\u001b[0m\u001b[0m\n\u001b[0;32m   1657\u001b[0m     func = _get_take_nd_function(arr.ndim, arr.dtype, out.dtype, axis=axis,\n",
      "\u001b[1;31mMemoryError\u001b[0m: "
     ]
    }
   ],
   "source": [
    "#\n",
    "# Segregating those SQL_IDs which utilize TPC-DS owned objects\n",
    "rep_vsql_plan_series = rep_vsql_plan_df['SQL_ID'].loc[rep_vsql_plan_df['OBJECT_OWNER'] == tpcds]\n",
    "tpc_sql_ids = rep_vsql_plan_series.unique()\n",
    "print('Unique ' + tpcds + ' IDs: ' + str(tpc_sql_ids))\n",
    "#\n",
    "# Retrieves data matrix rows pertaining to SQL_IDs using TPC-DS owned objects\n",
    "print(\"REP_VSQL_SHAPE before: \" + str(rep_vsql_plan_df.shape))\n",
    "rep_vsql_plan_df = rep_vsql_plan_df.loc[rep_vsql_plan_df['SQL_ID'].isin(tpc_sql_ids)]\n",
    "print(\"REP_VSQL_SHAPE after: \" + str(rep_vsql_plan_df.shape))\n",
    "#\n",
    "# Merging data matrixes\n",
    "df = pd.merge(rep_hist_snapshot_df, rep_vsql_plan_df, how='right', on=['SQL_ID','PLAN_HASH_VALUE'])\n",
    "print(\"Merged Dataframe: \" + str(df.shape))\n",
    "# print(type(rep_vsql_plan_series))\n",
    "# print(rep_vsql_plan_series)"
   ]
  },
  {
   "cell_type": "markdown",
   "metadata": {},
   "source": [
    "### Label Encoding\n",
    "\n",
    "Converting labels/features into numerical representations"
   ]
  },
  {
   "cell_type": "code",
   "execution_count": null,
   "metadata": {},
   "outputs": [],
   "source": [
    "def encode(df, encoded_labels):\n",
    "    for col in df.columns:\n",
    "        if col in encoded_labels:\n",
    "            le = preprocessing.LabelEncoder()\n",
    "            df[col] = le.fit_transform(df[col].astype(str))\n",
    "    return df\n",
    "#\n",
    "#print(rep_vsql_plan_df.head())\n",
    "encoded_labels = ['OPERATION','OPTIONS','OBJECT_OWNER','OBJECT_NAME','OBJECT_ALIAS','OBJECT_TYPE','OPTIMIZER','OTHER_TAG','DISTRIBUTION','QBLOCK_NAME']\n",
    "rep_vsql_plan_df = encode(df=rep_vsql_plan_df, encoded_labels=encoded_labels)\n",
    "print('Encoded labels:\\n' + str(encoded_labels) + \"\\n\\n----------------------------------------------\\n\\n\")\n",
    "print(rep_vsql_plan_df.head())"
   ]
  },
  {
   "cell_type": "code",
   "execution_count": null,
   "metadata": {},
   "outputs": [],
   "source": [
    "# print('Before Matrix Merge:')\n",
    "# print(\"REP_HIST_SNAPSHOT: \" + str(rep_hist_snapshot_df.shape))\n",
    "# print(\"REP_VSQL_PLAN: \" + str(rep_vsql_plan_df.shape))\n",
    "# df = pd.merge(rep_hist_snapshot_df, rep_vsql_plan_df, how='right', on=['SQL_ID','PLAN_HASH_VALUE'])\n",
    "# print('------------------------------------------')\n",
    "# print('After Matrix Merge:')\n",
    "# print(\"Joined Matrix: \" + str(df.shape))\n",
    "# print(df.head())\n",
    "#\n",
    "#\n",
    "#\n",
    "#print(rep_hist_snapshot_df[['ACTION','MODULE']].head(100))\n",
    "#print(rep_hist_snapshot_df.loc[rep_hist_snapshot_df['PLAN_HASH_VALUE'] == 839894449])\n",
    "# print(rep_vsql_plan_df['TIMESTAMP'].min())\n",
    "# print(rep_vsql_plan_df['TIMESTAMP'].max())"
   ]
  }
 ],
 "metadata": {
  "kernelspec": {
   "display_name": "Python 3",
   "language": "python",
   "name": "python3"
  },
  "language_info": {
   "codemirror_mode": {
    "name": "ipython",
    "version": 3
   },
   "file_extension": ".py",
   "mimetype": "text/x-python",
   "name": "python",
   "nbconvert_exporter": "python",
   "pygments_lexer": "ipython3",
   "version": "3.6.6"
  }
 },
 "nbformat": 4,
 "nbformat_minor": 2
}
