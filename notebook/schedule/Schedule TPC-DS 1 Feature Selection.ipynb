{
 "cells": [
  {
   "cell_type": "markdown",
   "metadata": {},
   "source": [
    "# Schedule TPC-DS 1 Feature Selection\n",
    "\n",
    "This notebook is dedicated to dataset profiling. In this notebook, feature selection techniques will be implemented so as to categorize which features belay the most information to address the problem at hand - Workload Prediction. Due to the vast feature space which have been gathered during a workload's execution, manual techniques at determining which are most detrimental is not sufficient. \n",
    "\n",
    "Therefore the following work puts emphasis on automated techniques so as to determine out of the vast feature space which are most important to base future models upon. "
   ]
  },
  {
   "cell_type": "code",
   "execution_count": 110,
   "metadata": {},
   "outputs": [],
   "source": [
    "#\n",
    "# Module Import\n",
    "import pandas as pd\n",
    "import numpy as np\n",
    "import matplotlib.pyplot as plt\n",
    "from sklearn.feature_selection import SelectFromModel, SelectKBest, chi2, RFE\n",
    "from sklearn.preprocessing import RobustScaler, MinMaxScaler\n",
    "from sklearn.ensemble import RandomForestRegressor, GradientBoostingRegressor\n",
    "from sklearn.model_selection import train_test_split\n",
    "from sklearn import preprocessing\n",
    "from operator import itemgetter\n",
    "from sklearn.metrics import r2_score"
   ]
  },
  {
   "cell_type": "markdown",
   "metadata": {},
   "source": [
    "### Configuration Cell\n",
    "\n",
    "Tweak parametric changes from this cell to influence outcome of experiment"
   ]
  },
  {
   "cell_type": "code",
   "execution_count": 111,
   "metadata": {},
   "outputs": [],
   "source": [
    "tpcds='TPCDS1' # Schema upon which to operate test\n",
    "debug_mode=True # Determines whether to plot graphs or not, useful for development purposes \n",
    "low_quartile_limit = 0 # Lower Quartile threshold to detect outliers\n",
    "upper_quartile_limit = 1 # Upper Quartile threshold to detect outliers\n",
    "test_split=.3 # Denotes which Data Split to operate under when it comes to training / validation"
   ]
  },
  {
   "cell_type": "code",
   "execution_count": 112,
   "metadata": {},
   "outputs": [
    {
     "name": "stderr",
     "output_type": "stream",
     "text": [
      "C:\\ProgramData\\Anaconda3\\lib\\site-packages\\IPython\\core\\interactiveshell.py:2785: DtypeWarning: Columns (14) have mixed types. Specify dtype option on import or set low_memory=False.\n",
      "  interactivity=interactivity, compiler=compiler, result=result)\n",
      "C:\\ProgramData\\Anaconda3\\lib\\site-packages\\IPython\\core\\interactiveshell.py:2785: DtypeWarning: Columns (6,20,21,22,25,26) have mixed types. Specify dtype option on import or set low_memory=False.\n",
      "  interactivity=interactivity, compiler=compiler, result=result)\n"
     ]
    }
   ],
   "source": [
    "#\n",
    "# Open Data\n",
    "rep_hist_snapshot_path = 'C:/Users/gabriel.sammut/University/Data_ICS5200/Schedule/' + tpcds + '/rep_hist_snapshot.csv'\n",
    "rep_hist_sysmetric_summary_path = 'C:/Users/gabriel.sammut/University/Data_ICS5200/Schedule/' + tpcds + '/rep_hist_sysmetric_summary.csv'\n",
    "rep_hist_sysstat_path = 'C:/Users/gabriel.sammut/University/Data_ICS5200/Schedule/' + tpcds + '/rep_hist_sysstat.csv'\n",
    "rep_vsql_plan_path = 'C:/Users/gabriel.sammut/University/Data_ICS5200/Schedule/' + tpcds + '/rep_vsql_plan.csv'\n",
    "#\n",
    "rep_hist_snapshot_df = pd.read_csv(rep_hist_snapshot_path)\n",
    "rep_hist_sysmetric_summary_df = pd.read_csv(rep_hist_sysmetric_summary_path)\n",
    "rep_hist_sysstat_df = pd.read_csv(rep_hist_sysstat_path)\n",
    "rep_vsql_plan_df = pd.read_csv(rep_vsql_plan_path)\n",
    "#\n",
    "def prettify_header(headers):\n",
    "    \"\"\"\n",
    "    Cleans header list from unwated character strings\n",
    "    \"\"\"\n",
    "    header_list = []\n",
    "    [header_list.append(header.replace(\"(\",\"\").replace(\")\",\"\").replace(\"'\",\"\").replace(\",\",\"\")) for header in headers]\n",
    "    return header_list\n",
    "#\n",
    "rep_hist_snapshot_df.columns = prettify_header(rep_hist_snapshot_df.columns.values)\n",
    "rep_hist_sysmetric_summary_df.columns = prettify_header(rep_hist_sysmetric_summary_df.columns.values)\n",
    "rep_hist_sysstat_df.columns = prettify_header(rep_hist_sysstat_df.columns.values)\n",
    "rep_vsql_plan_df.columns = prettify_header(rep_vsql_plan_df.columns.values)"
   ]
  },
  {
   "cell_type": "markdown",
   "metadata": {},
   "source": [
    "# Dataset Description\n",
    "\n",
    "The correlation of resources consumed (y) per snapshot (X) define our feature space. Since the objective here is to attempt to predict what resources will be incurred ahead of time, the problem can be defined as a number of questions:\n",
    "\n",
    "* Q: What resources can I predict to be in usage at point N in time?\n",
    "* Q: What resources should I be predicting that accurately portray a schedule's workload?\n",
    "* Q: What knowledge/data do I have ahead of time which I can use to base my predictions off?\n",
    "\n",
    "Due to the vast feature space in the available metrics monitored and captured during a workload's execution, it is important to rank which attribute is most beneficial than others. Additionally, it is important to analyze such features individually, and considerate of other features in two types of analysis:\n",
    "\n",
    "* Univariate Analysis\n",
    "* Multivariate Analysis\n",
    "\n",
    "Furthermore, multiple types of feature ranking / analysis techniques ara available, amongst which will be considered:\n",
    "\n",
    "* Filter Methods\n",
    "* Wrapper Methods\n",
    "* Embedded Methods"
   ]
  },
  {
   "cell_type": "markdown",
   "metadata": {},
   "source": [
    "# Data Preprocessing\n",
    "\n",
    "We apply a number of preprocessing techniques to the presented dataframes, particularly to normalize and/or scale feature vectors into a more suitable representation for downstream estimators:\n",
    "\n",
    "Relative Links:\n",
    "* http://scikit-learn.org/stable/modules/preprocessing.html\n",
    "* https://machinelearningmastery.com/improve-model-accuracy-with-data-pre-processing/\n",
    "* https://machinelearningmastery.com/normalize-standardize-time-series-data-python/\n",
    "\n",
    "### Table Pivots\n",
    "\n",
    "To better handle the following table, a number of table pivots are made on tables:\n",
    "* rep_hist_sysmetric_summary\n",
    "* rep_hist_sysstat"
   ]
  },
  {
   "cell_type": "code",
   "execution_count": 113,
   "metadata": {
    "scrolled": true
   },
   "outputs": [
    {
     "name": "stdout",
     "output_type": "stream",
     "text": [
      "Index(['SNAP_ID', 'Active Parallel Sessions', 'Active Serial Sessions',\n",
      "       'Average Active Sessions',\n",
      "       'Average Synchronous Single-Block Read Latency',\n",
      "       'Background CPU Usage Per Sec', 'Background Checkpoints Per Sec',\n",
      "       'Background Time Per Sec', 'Branch Node Splits Per Sec',\n",
      "       'Branch Node Splits Per Txn',\n",
      "       ...\n",
      "       'User Commits Percentage', 'User Limit %',\n",
      "       'User Rollback Undo Records Applied Per Txn',\n",
      "       'User Rollback UndoRec Applied Per Sec', 'User Rollbacks Per Sec',\n",
      "       'User Rollbacks Percentage', 'User Transaction Per Sec',\n",
      "       'VM in bytes Per Sec', 'VM out bytes Per Sec',\n",
      "       'Workload Capture and Replay status'],\n",
      "      dtype='object', name='METRIC_NAME', length=162)\n",
      "REP_HIST_SYSMETRIC Shape: (4018, 162)\n",
      "Index(['SNAP_ID', 'ADG global flush', 'ADG parselock X get attempts',\n",
      "       'ADG parselock X get successes', 'BA au bytes allocated',\n",
      "       'BA bytes for file maps', 'BA bytes read from disk',\n",
      "       'BA bytes read from flash', 'BA count - borrowed from other node',\n",
      "       'BA count - cache denied',\n",
      "       ...\n",
      "       'user logouts cumulative', 'user rollbacks',\n",
      "       'very large tracked transactions', 'workarea executions - multipass',\n",
      "       'workarea executions - onepass', 'workarea executions - optimal',\n",
      "       'workarea memory allocated', 'write clones created for recovery',\n",
      "       'write clones created in background',\n",
      "       'write clones created in foreground'],\n",
      "      dtype='object', name='STAT_NAME', length=1179)\n",
      "REP_HIST_SYSSTAT_DF Shape: (4019, 1179)\n",
      "\n",
      "\n",
      "Table [REP_HIST_SNAPSHOT] - (329200, 90)\n",
      "Table [REP_HIST_SYSMETRIC_SUMMARY] - (4018, 162)\n",
      "Table [REP_HIST_SYSSTAT] - (4019, 1179)\n",
      "Table [REP_VSQL_PLAN] - (61384, 39)\n"
     ]
    }
   ],
   "source": [
    "#\n",
    "# Table REP_HIST_SYSMETRIC_SUMMARY\n",
    "rep_hist_sysmetric_summary_df = rep_hist_sysmetric_summary_df.pivot(index='SNAP_ID', columns='METRIC_NAME', values='AVERAGE')\n",
    "rep_hist_sysmetric_summary_df.reset_index(inplace=True)\n",
    "print(rep_hist_sysmetric_summary_df.columns)\n",
    "rep_hist_sysmetric_summary_df[['SNAP_ID']] = rep_hist_sysmetric_summary_df[['SNAP_ID']].astype(int)\n",
    "rep_hist_sysmetric_summary_df.sort_values(by=['SNAP_ID'],inplace=True,ascending=True)\n",
    "print(\"REP_HIST_SYSMETRIC Shape: \" + str(rep_hist_sysmetric_summary_df.shape))\n",
    "#\n",
    "# Table REP_HIST_SYSSTAT\n",
    "rep_hist_sysstat_df = rep_hist_sysstat_df.pivot(index='SNAP_ID', columns='STAT_NAME', values='VALUE')\n",
    "rep_hist_sysstat_df.reset_index(inplace=True)\n",
    "print(rep_hist_sysstat_df.columns)\n",
    "rep_hist_sysstat_df[['SNAP_ID']] = rep_hist_sysstat_df[['SNAP_ID']].astype(int)\n",
    "rep_hist_sysstat_df.sort_values(by=['SNAP_ID'],inplace=True,ascending=True)\n",
    "print(\"REP_HIST_SYSSTAT_DF Shape: \" + str(rep_hist_sysstat_df.shape))\n",
    "#\n",
    "# Refreshing columns with pivoted columns\n",
    "def convert_list_to_upper(col_list):\n",
    "    \"\"\"\n",
    "    Takes a string and converts elements to upper\n",
    "    \"\"\"\n",
    "    upper_col_list = []\n",
    "    for col in col_list:\n",
    "        upper_col_list.append(col.upper())\n",
    "    return upper_col_list\n",
    "#\n",
    "rep_hist_sysmetric_summary_df.rename(str.upper, inplace=True, axis='columns')\n",
    "rep_hist_sysstat_df.rename(str.upper, inplace=True, axis='columns')\n",
    "#\n",
    "rep_hist_snapshot_headers = rep_hist_snapshot_df.columns\n",
    "rep_hist_sysmetric_summary_headers = list(rep_hist_sysmetric_summary_df.columns)\n",
    "rep_hist_sysstat_headers = list(rep_hist_sysstat_df.columns)\n",
    "rep_vsql_plan_headers = rep_vsql_plan_df.columns\n",
    "#\n",
    "# DF Shape\n",
    "print('\\n\\nTable [REP_HIST_SNAPSHOT] - ' + str(rep_hist_snapshot_df.shape))\n",
    "print('Table [REP_HIST_SYSMETRIC_SUMMARY] - ' + str(rep_hist_sysmetric_summary_df.shape))\n",
    "print('Table [REP_HIST_SYSSTAT] - ' + str(rep_hist_sysstat_df.shape))\n",
    "print('Table [REP_VSQL_PLAN] - ' + str(rep_vsql_plan_df.shape))"
   ]
  },
  {
   "cell_type": "markdown",
   "metadata": {},
   "source": [
    "### Checking for NaN Values\n",
    "\n",
    "Checking dataframes for potential missing values/data:"
   ]
  },
  {
   "cell_type": "code",
   "execution_count": 114,
   "metadata": {
    "scrolled": true
   },
   "outputs": [
    {
     "name": "stdout",
     "output_type": "stream",
     "text": [
      "Table REP_HIST_SNAPSHOT: ['OPTIMIZER_COST', 'OPTIMIZER_MODE', 'OPTIMIZER_ENV_HASH_VALUE', 'LOADED_VERSIONS', 'MODULE', 'ACTION', 'SQL_PROFILE', 'PARSING_SCHEMA_ID', 'PARSING_SCHEMA_NAME', 'PARSING_USER_ID', 'FETCHES_TOTAL', 'FETCHES_DELTA', 'END_OF_FETCH_COUNT_TOTAL', 'END_OF_FETCH_COUNT_DELTA', 'SORTS_TOTAL', 'SORTS_DELTA', 'EXECUTIONS_TOTAL', 'EXECUTIONS_DELTA', 'PX_SERVERS_EXECS_TOTAL', 'PX_SERVERS_EXECS_DELTA', 'LOADS_TOTAL', 'LOADS_DELTA', 'INVALIDATIONS_TOTAL', 'INVALIDATIONS_DELTA', 'PARSE_CALLS_TOTAL', 'DISK_READS_TOTAL', 'DISK_READS_DELTA', 'BUFFER_GETS_TOTAL', 'BUFFER_GETS_DELTA', 'ROWS_PROCESSED_TOTAL', 'ROWS_PROCESSED_DELTA', 'CPU_TIME_TOTAL', 'ELAPSED_TIME_TOTAL', 'IOWAIT_TOTAL', 'IOWAIT_DELTA', 'CLWAIT_TOTAL', 'CLWAIT_DELTA', 'APWAIT_TOTAL', 'APWAIT_DELTA', 'CCWAIT_TOTAL', 'CCWAIT_DELTA', 'DIRECT_WRITES_TOTAL', 'DIRECT_WRITES_DELTA', 'PLSEXEC_TIME_TOTAL', 'PLSEXEC_TIME_DELTA', 'JAVEXEC_TIME_TOTAL', 'JAVEXEC_TIME_DELTA', 'IO_OFFLOAD_ELIG_BYTES_TOTAL', 'IO_OFFLOAD_ELIG_BYTES_DELTA', 'IO_INTERCONNECT_BYTES_TOTAL', 'IO_INTERCONNECT_BYTES_DELTA', 'PHYSICAL_READ_REQUESTS_TOTAL', 'PHYSICAL_READ_REQUESTS_DELTA', 'PHYSICAL_READ_BYTES_TOTAL', 'PHYSICAL_READ_BYTES_DELTA', 'PHYSICAL_WRITE_REQUESTS_TOTAL', 'PHYSICAL_WRITE_REQUESTS_DELTA', 'PHYSICAL_WRITE_BYTES_TOTAL', 'PHYSICAL_WRITE_BYTES_DELTA', 'OPTIMIZED_PHYSICAL_READS_TOTAL', 'OPTIMIZED_PHYSICAL_READS_DELTA', 'CELL_UNCOMPRESSED_BYTES_TOTAL', 'CELL_UNCOMPRESSED_BYTES_DELTA', 'IO_OFFLOAD_RETURN_BYTES_TOTAL', 'IO_OFFLOAD_RETURN_BYTES_DELTA', 'BIND_DATA', 'FLAG']\n",
      "\n",
      "\n",
      "Table REP_HIST_SYSMETRIC_SUMMARY: ['BACKGROUND CPU USAGE PER SEC', 'BACKGROUND TIME PER SEC', 'CELL PHYSICAL IO INTERCONNECT BYTES', 'HOST CPU USAGE PER SEC', 'RUN QUEUE PER SEC', 'TEMP SPACE USED', 'TOTAL PGA ALLOCATED', 'TOTAL PGA USED BY SQL WORKAREAS', 'VM IN BYTES PER SEC', 'VM OUT BYTES PER SEC', 'WORKLOAD CAPTURE AND REPLAY STATUS']\n",
      "\n",
      "\n",
      "Table REP_HIST_SYSSTAT: ['OS BLOCK INPUT OPERATIONS', 'OS BLOCK OUTPUT OPERATIONS', 'OS INTEGRAL SHARED TEXT SIZE', 'OS INTEGRAL UNSHARED DATA SIZE', 'OS INTEGRAL UNSHARED STACK SIZE', 'OS INVOLUNTARY CONTEXT SWITCHES', 'OS MAXIMUM RESIDENT SET SIZE', 'OS PAGE FAULTS', 'OS PAGE RECLAIMS', 'OS SIGNALS RECEIVED', 'OS SOCKET MESSAGES RECEIVED', 'OS SOCKET MESSAGES SENT', 'OS SWAPS', 'OS SYSTEM TIME USED', 'OS USER TIME USED', 'OS VOLUNTARY CONTEXT SWITCHES', 'BACKUP COMPRESSED DATA WRITTEN LOCALLY', 'BACKUP COMPRESSED DATA WRITTEN REMOTELY', 'BACKUP DATA COMPRESSED LOCALLY', 'BACKUP DATA COMPRESSED REMOTELY', 'BACKUP PIECE LOCAL PROCESSING TIME', 'BACKUP PIECE REMOTE PROCESSING TIME', 'BACKUP PIECES COMPRESSED LOCALLY', 'BACKUP PIECES COMPRESSED REMOTELY', 'CELL LOGICAL WRITE IO REQUESTS ELIGIBLE FOR OFFLOAD']\n",
      "\n",
      "\n",
      "Table REP_VSQL_PLAN: ['OPTIONS', 'OBJECT_NODE', 'OBJECT#', 'OBJECT_OWNER', 'OBJECT_NAME', 'OBJECT_ALIAS', 'OBJECT_TYPE', 'OPTIMIZER', 'PARENT_ID', 'POSITION', 'COST', 'CARDINALITY', 'BYTES', 'OTHER_TAG', 'PARTITION_START', 'PARTITION_STOP', 'PARTITION_ID', 'OTHER', 'DISTRIBUTION', 'CPU_COST', 'IO_COST', 'TEMP_SPACE', 'ACCESS_PREDICATES', 'FILTER_PREDICATES', 'PROJECTION', 'TIME', 'QBLOCK_NAME', 'REMARKS', 'OTHER_XML']\n",
      "\n",
      "\n"
     ]
    }
   ],
   "source": [
    "def get_na_columns(df, headers):\n",
    "    \"\"\"\n",
    "    Return columns which consist of NAN values\n",
    "    \"\"\"\n",
    "    na_list = []\n",
    "    for head in headers:\n",
    "        if df[head].isnull().values.any():\n",
    "            na_list.append(head)\n",
    "    return na_list\n",
    "#\n",
    "print(\"Table REP_HIST_SNAPSHOT: \" + str(get_na_columns(df=rep_hist_snapshot_df,headers=rep_hist_snapshot_headers)) + \"\\n\\n\")\n",
    "print(\"Table REP_HIST_SYSMETRIC_SUMMARY: \" + str(get_na_columns(df=rep_hist_sysmetric_summary_df,headers=rep_hist_sysmetric_summary_headers)) + \"\\n\\n\")\n",
    "print(\"Table REP_HIST_SYSSTAT: \" + str(get_na_columns(df=rep_hist_sysstat_df,headers=rep_hist_sysstat_headers)) + \"\\n\\n\")\n",
    "print(\"Table REP_VSQL_PLAN: \" + str(get_na_columns(df=rep_vsql_plan_df,headers=rep_vsql_plan_headers)) + \"\\n\\n\")\n",
    "#\n",
    "def fill_na(df):\n",
    "    \"\"\"\n",
    "    Replaces NA columns with 0s\n",
    "    \"\"\"\n",
    "    return df.fillna(0)\n",
    "#\n",
    "# Populating NaN values with amount '0'\n",
    "rep_hist_snapshot_df = fill_na(df=rep_hist_snapshot_df)\n",
    "rep_hist_sysmetric_summary_df = fill_na(df=rep_hist_sysmetric_summary_df)\n",
    "rep_hist_sysstat_df = fill_na(df=rep_hist_sysstat_df)\n",
    "rep_vsql_plan_df = fill_na(df=rep_vsql_plan_df)"
   ]
  },
  {
   "cell_type": "markdown",
   "metadata": {},
   "source": [
    "### Checking for Negative Values\n",
    "\n",
    "A function which retrieves a count per column for nay negative values it might contain"
   ]
  },
  {
   "cell_type": "code",
   "execution_count": 115,
   "metadata": {
    "scrolled": false
   },
   "outputs": [
    {
     "name": "stdout",
     "output_type": "stream",
     "text": [
      "---------------WITH NEGATIVE VALUES---------------\n",
      "Table REP_HIST_SNAPSHOT: [['IO_OFFLOAD_RETURN_BYTES_TOTAL', 6153], ['IO_OFFLOAD_RETURN_BYTES_DELTA', 162]]\n",
      "\n",
      "\n",
      "Table REP_HIST_SYSMETRIC_SUMMARY: []\n",
      "\n",
      "\n",
      "Table REP_HIST_SYSSTAT: []\n",
      "\n",
      "\n",
      "Table REP_VSQL_PLAN: []\n",
      "\n",
      "\n",
      "\n",
      "\n",
      "---------------WITHOUT NEGATIVE VALUES---------------\n",
      "Table REP_HIST_SNAPSHOT: []\n",
      "\n",
      "\n",
      "Table REP_HIST_SYSMETRIC_SUMMARY: []\n",
      "\n",
      "\n",
      "Table REP_HIST_SYSSTAT: []\n",
      "\n",
      "\n",
      "Table REP_VSQL_PLAN: []\n",
      "\n",
      "\n"
     ]
    }
   ],
   "source": [
    "def count_neg_df(df, headers):\n",
    "    \"\"\"\n",
    "    Return columns with respective negative value count\n",
    "    \"\"\"\n",
    "    neg_list = []\n",
    "    for head in headers:\n",
    "        count = 0\n",
    "        try:\n",
    "            count = sum(n < 0 for n in df[head].values.flatten())\n",
    "        except Exception:\n",
    "            pass\n",
    "            #print('Non numeric column [' + head + ']')\n",
    "        if count > 0:\n",
    "            neg_list.append([head,count])\n",
    "    return neg_list\n",
    "#\n",
    "def fill_neg(df, headers):\n",
    "    \"\"\"\n",
    "    Sets any data anomilies resulting in negative values to 0\n",
    "    \n",
    "    :param headers: list as follows eg: ['column_name', 'negative_count']\n",
    "    \"\"\"\n",
    "    for head in headers:\n",
    "        try:\n",
    "            df[df[head[0]] < 0] = 0\n",
    "        except Exception:\n",
    "            pass\n",
    "            #print('Non numeric column [' + head + ']')\n",
    "    return df\n",
    "#\n",
    "# Check For Negative Values within dataframes\n",
    "print('---------------WITH NEGATIVE VALUES---------------')\n",
    "print(\"Table REP_HIST_SNAPSHOT: \" + str(count_neg_df(df=rep_hist_snapshot_df,headers=rep_hist_snapshot_headers)) + \"\\n\\n\")\n",
    "print(\"Table REP_HIST_SYSMETRIC_SUMMARY: \" + str(count_neg_df(df=rep_hist_sysmetric_summary_df,headers=rep_hist_sysmetric_summary_headers)) + \"\\n\\n\")\n",
    "print(\"Table REP_HIST_SYSSTAT: \" + str(count_neg_df(df=rep_hist_sysstat_df,headers=rep_hist_sysstat_headers)) + \"\\n\\n\")\n",
    "print(\"Table REP_VSQL_PLAN: \" + str(count_neg_df(df=rep_vsql_plan_df,headers=rep_vsql_plan_headers)) + \"\\n\\n\")\n",
    "#\n",
    "# Replace Negative Values with a minimal threshold of 0\n",
    "rep_hist_snapshot_df = fill_neg(df=rep_hist_snapshot_df,headers=count_neg_df(df=rep_hist_snapshot_df,headers=rep_hist_snapshot_headers))\n",
    "rep_hist_sysmetric_summary_df = fill_neg(df=rep_hist_sysmetric_summary_df,headers=count_neg_df(df=rep_hist_sysmetric_summary_df,headers=rep_hist_sysmetric_summary_headers))\n",
    "rep_hist_sysstat_df = fill_neg(df=rep_hist_sysstat_df,headers=count_neg_df(df=rep_hist_sysstat_df,headers=rep_hist_sysstat_headers))\n",
    "rep_vsql_plan_df = fill_neg(df=rep_vsql_plan_df,headers=count_neg_df(df=rep_vsql_plan_df,headers=rep_vsql_plan_headers))\n",
    "#\n",
    "# Check For Negative Values within dataframes\n",
    "print('\\n\\n---------------WITHOUT NEGATIVE VALUES---------------')\n",
    "print(\"Table REP_HIST_SNAPSHOT: \" + str(count_neg_df(df=rep_hist_snapshot_df,headers=rep_hist_snapshot_headers)) + \"\\n\\n\")\n",
    "print(\"Table REP_HIST_SYSMETRIC_SUMMARY: \" + str(count_neg_df(df=rep_hist_sysmetric_summary_df,headers=rep_hist_sysmetric_summary_headers)) + \"\\n\\n\")\n",
    "print(\"Table REP_HIST_SYSSTAT: \" + str(count_neg_df(df=rep_hist_sysstat_df,headers=rep_hist_sysstat_headers)) + \"\\n\\n\")\n",
    "print(\"Table REP_VSQL_PLAN: \" + str(count_neg_df(df=rep_vsql_plan_df,headers=rep_vsql_plan_headers)) + \"\\n\\n\")"
   ]
  },
  {
   "cell_type": "markdown",
   "metadata": {},
   "source": [
    "### Feature Selection\n",
    "\n",
    "In this step, redundant features are dropped. Features are considered redundant if exhibit a standard devaition of 0 (meaning no change in value)."
   ]
  },
  {
   "cell_type": "code",
   "execution_count": 116,
   "metadata": {},
   "outputs": [
    {
     "name": "stdout",
     "output_type": "stream",
     "text": [
      "\n",
      "Shape before changes: [(329200, 90)]\n",
      "Shape after changes: [(329200, 77)]\n",
      "Dropped a total [13]\n",
      "\n",
      "Shape before changes: [(4018, 162)]\n",
      "Shape after changes: [(4018, 140)]\n",
      "Dropped a total [22]\n",
      "\n",
      "Shape before changes: [(4019, 1179)]\n",
      "Shape after changes: [(4019, 321)]\n",
      "Dropped a total [858]\n",
      "\n",
      "Shape before changes: [(61384, 39)]\n",
      "Shape after changes: [(61384, 31)]\n",
      "Dropped a total [8]\n"
     ]
    }
   ],
   "source": [
    "def drop_flatline_columns(df):\n",
    "    columns = df.columns\n",
    "    flatline_features = []\n",
    "    for i in range(len(columns)):\n",
    "        try:\n",
    "            std = df[columns[i]].std()\n",
    "            if std == 0:\n",
    "                flatline_features.append(columns[i])\n",
    "        except:\n",
    "            pass\n",
    "    #\n",
    "    #print('Features which are considered flatline:\\n')\n",
    "    #for col in flatline_features:\n",
    "    #    print(col)\n",
    "    print('\\nShape before changes: [' + str(df.shape) + ']')\n",
    "    df = df.drop(columns=flatline_features)\n",
    "    print('Shape after changes: [' + str(df.shape) + ']')\n",
    "    print('Dropped a total [' + str(len(flatline_features)) + ']')\n",
    "    return df\n",
    "#\n",
    "rep_hist_snapshot_df = drop_flatline_columns(df=rep_hist_snapshot_df)\n",
    "rep_hist_sysmetric_summary_df = drop_flatline_columns(df=rep_hist_sysmetric_summary_df)\n",
    "rep_hist_sysstat_df = drop_flatline_columns(df=rep_hist_sysstat_df)\n",
    "rep_vsql_plan_df = drop_flatline_columns(df=rep_vsql_plan_df)\n",
    "#\n",
    "rep_hist_snapshot_headers = rep_hist_snapshot_df.columns\n",
    "rep_hist_sysmetric_summary_headers = rep_hist_sysmetric_summary_df.columns\n",
    "rep_hist_sysstat_headers = rep_hist_sysstat_df.columns\n",
    "rep_vsql_plan_headers = rep_vsql_plan_df.columns"
   ]
  },
  {
   "cell_type": "markdown",
   "metadata": {},
   "source": [
    "## Visualizing Feature Distribution & Skewness\n",
    "\n",
    "In order to decide between a normalization strategy, it is important to understand the underlying data spread. Understanding of dataset mean, variance, skewness on a per column/feature basis helps determine whether a standardization or normalization strategy should be utilized on the datasets.\n",
    "\n",
    "### Plotting Data Distribution\n",
    "\n",
    "To better decide which normalization technique ought to be utilized for the technique at hand, a number of feature columns will be plotted as histograms to better convey the distribution spread."
   ]
  },
  {
   "cell_type": "code",
   "execution_count": 117,
   "metadata": {
    "scrolled": true
   },
   "outputs": [],
   "source": [
    "def plot_hist(df=None, tpc_type=None, table=None, feature_column=None, bin_size=10):\n",
    "    \"\"\"\n",
    "    Plots histogram distribution\n",
    "    \"\"\"\n",
    "    #\n",
    "    try:\n",
    "        df['SNAP_ID'] = df['SNAP_ID'].astype(float)\n",
    "        df[feature_column] = df[feature_column].astype(float)\n",
    "        #\n",
    "        max_val = df[feature_column].max()\n",
    "        start_snap, end_snap = int(df['SNAP_ID'].min()), int(df['SNAP_ID'].max())\n",
    "        #\n",
    "        df[feature_column].hist(bins=10,figsize=(12,8))\n",
    "        plt.ylabel(feature_column)\n",
    "        plt.xlabel('Bin Ranges Of ' + str(int(max_val/bin_size)))\n",
    "        plt.title(tpc_type + ' Table ' + table.upper() + '.' + str(feature_column) + \" between \" + str(start_snap) + \" - \" + str(end_snap))\n",
    "        plt.show()\n",
    "    except Exception:\n",
    "        print('Could not plot column: ' + feature_column)\n",
    "#\n",
    "def plot_scatter(df=None, tpc_type=None, table=None, feature_column=None):\n",
    "    \"\"\"\n",
    "    Plots scatter plots vs SNAP_ID\n",
    "    \"\"\"\n",
    "    #\n",
    "    try:\n",
    "        df['SNAP_ID'] = df['SNAP_ID'].astype(int)\n",
    "        df[feature_column] = df[feature_column].astype(int)\n",
    "        start_snap, end_snap = int(df['SNAP_ID'].min()), int(df['SNAP_ID'].max())\n",
    "        #\n",
    "        df.plot.scatter(x='SNAP_ID',\n",
    "                        y=feature_column,\n",
    "                        figsize=(12,8))\n",
    "        plt.ylabel(feature_column)\n",
    "        plt.xlabel('SNAP ID')\n",
    "        plt.title(tpc_type + ' Table ' + table.upper() + '.' + str(feature_column) + \" between \" + str(start_snap) + \" - \" + str(end_snap))\n",
    "        plt.show()\n",
    "    except Exception:\n",
    "        print('Could not plot column: ' + feature_column)\n",
    "#\n",
    "def plot_boxplot(df=None, tpc_type=None, table=None, feature_columns=None):\n",
    "    \"\"\"\n",
    "    Plots quartile plots to estimate mean and sigma (std dev)\n",
    "    \"\"\"\n",
    "    #\n",
    "    try:\n",
    "        for feature_column in feature_columns:\n",
    "            df[feature_column] = df[feature_column].astype(int)\n",
    "        df.boxplot(column=feature_columns, figsize=(12,8), grid=True)\n",
    "        plt.title(tpc_type + ' ' + str(feature_columns))\n",
    "        plt.show()\n",
    "    except Exception:\n",
    "        print('Could not plot column: ' + feature_column)\n",
    "#\n",
    "if debug_mode is False:\n",
    "    #\n",
    "    # Plotting Histograms of data distribution\n",
    "    for header in rep_hist_snapshot_headers:\n",
    "        print('REP_HIST_SNAPSHOT - ' + header + ' - OUTLIERS HISTOGRAM')\n",
    "        plot_hist(df=rep_hist_snapshot_df, tpc_type=tpcds, table='rep_hist_snapshot', feature_column=header, bin_size=10)\n",
    "    for header in rep_hist_sysmetric_summary_headers:\n",
    "        print('REP_HIST_SYSMETRIC_SUMMARY - ' + header + ' - OUTLIERS HISTOGRAM')\n",
    "        plot_hist(df=rep_hist_sysmetric_summary_df, tpc_type=tpcds, table='rep_hist_sysmetric_summary', feature_column=header, bin_size=10)\n",
    "    for header in rep_hist_sysstat_headers:\n",
    "        print('REP_HIST_SYSSTAT - ' + header + ' - OUTLIERS HISTOGRAM')\n",
    "        plot_hist(df=rep_hist_sysstat_df, tpc_type=tpcds, table='rep_hist_sysstat', feature_column=header, bin_size=10)\n",
    "    #\n",
    "    # Plotting Scatter Plots of data distribution\n",
    "    for header in rep_hist_snapshot_headers:\n",
    "        print('REP_HIST_SNAPSHOT - ' + header + ' - OUTLIERS SCATTER')\n",
    "        plot_scatter(df=rep_hist_snapshot_df, tpc_type=tpcds,table='rep_hist_snapshot',feature_column=header)\n",
    "    for header in rep_hist_sysmetric_summary_headers:\n",
    "        print('REP_HIST_SYSMETRIC_SUMMARY - ' + header + ' - OUTLIERS SCATTER')\n",
    "        plot_scatter(df=rep_hist_sysmetric_summary_df, tpc_type=tpcds,table='rep_hist_sysmetric_summary',feature_column=header)\n",
    "    for header in rep_hist_sysstat_headers:\n",
    "        print('REP_HIST_SYSSTAT - ' + header + ' - OUTLIERS SCATTER')\n",
    "        plot_scatter(df=rep_hist_sysstat_df, tpc_type=tpcds,table='rep_hist_sysstat',feature_column=header)\n",
    "    #\n",
    "    # Plotting Box Plots of data distribution\n",
    "    whisker_boxes_per_plot = 3\n",
    "    for i in range(whisker_boxes_per_plot, len(rep_hist_snapshot_headers), whisker_boxes_per_plot):\n",
    "        print('REP_HIST_SNAPSHOT - ' + header + ' - OUTLIERS WHISKER')\n",
    "        plot_boxplot(df=rep_hist_snapshot_df, tpc_type=tpcds,table='rep_hist_snapshot',feature_columns=rep_hist_snapshot_headers[i-whisker_boxes_per_plot:i])"
   ]
  },
  {
   "cell_type": "markdown",
   "metadata": {},
   "source": [
    "### Outlier Handling\n",
    "\n",
    "https://machinelearningmastery.com/how-to-identify-outliers-in-your-data/\n",
    "\n",
    "As can be appreciated from the previous plots, data is heavily skewed on particular (smallest) bins. This skew in the plotted histograms is a result of data point outliers - these need to be evaluated and removed if neccessary.\n",
    "\n",
    "Following the 3 Standard Deviation Rule, we can categorize our dataset into subsets consisting of the following ranges:\n",
    "* 0     - 68.27%\n",
    "* 68.28 - 95.45%\n",
    "* 95.46 - 99.73%\n",
    "* 99.74 - 100%\n",
    "\n",
    "It should be mentioned, that given the time series nature of the dataset, it is not a safe assumption to ignore outliers. By training respective models on outlier insensitive dataset, we would invite a potential problem, which risks blinding any models we train to future predicted spikes of activity."
   ]
  },
  {
   "cell_type": "code",
   "execution_count": 118,
   "metadata": {
    "scrolled": true
   },
   "outputs": [
    {
     "name": "stdout",
     "output_type": "stream",
     "text": [
      "could not convert string to float: \n",
      "'CLWAIT_TOTAL'\n",
      "'CLWAIT_DELTA'\n",
      "'JAVEXEC_TIME_TOTAL'\n",
      "'JAVEXEC_TIME_DELTA'\n",
      "'IO_OFFLOAD_ELIG_BYTES_TOTAL'\n",
      "'IO_OFFLOAD_ELIG_BYTES_DELTA'\n",
      "'OPTIMIZED_PHYSICAL_READS_TOTAL'\n",
      "'OPTIMIZED_PHYSICAL_READS_DELTA'\n",
      "'CELL_UNCOMPRESSED_BYTES_TOTAL'\n",
      "'CELL_UNCOMPRESSED_BYTES_DELTA'\n",
      "\n",
      "\n",
      "DATAFRAMES WITH OUTLIERS\n",
      "(329200, 77)\n",
      "(4018, 140)\n",
      "(4019, 321)\n",
      "(61384, 31)\n",
      "----------------------------\n",
      "could not convert string to float: \n",
      "'CLWAIT_TOTAL'\n",
      "'CLWAIT_DELTA'\n",
      "'JAVEXEC_TIME_TOTAL'\n",
      "'JAVEXEC_TIME_DELTA'\n",
      "'IO_OFFLOAD_ELIG_BYTES_TOTAL'\n",
      "'IO_OFFLOAD_ELIG_BYTES_DELTA'\n",
      "'OPTIMIZED_PHYSICAL_READS_TOTAL'\n",
      "'OPTIMIZED_PHYSICAL_READS_DELTA'\n",
      "'CELL_UNCOMPRESSED_BYTES_TOTAL'\n",
      "'CELL_UNCOMPRESSED_BYTES_DELTA'\n",
      "'FULL_PLAN_HASH_VALUE'\n",
      "'CHILD_NUMBER'\n",
      "'CON_ID'\n",
      "\n",
      "\n",
      "OUTLIERS\n",
      "0\n",
      "0\n",
      "0\n",
      "0\n",
      "----------------------------\n",
      "could not convert string to float: \n",
      "'CLWAIT_TOTAL'\n",
      "'CLWAIT_DELTA'\n",
      "'JAVEXEC_TIME_TOTAL'\n",
      "'JAVEXEC_TIME_DELTA'\n",
      "'IO_OFFLOAD_ELIG_BYTES_TOTAL'\n",
      "'IO_OFFLOAD_ELIG_BYTES_DELTA'\n",
      "'OPTIMIZED_PHYSICAL_READS_TOTAL'\n",
      "'OPTIMIZED_PHYSICAL_READS_DELTA'\n",
      "'CELL_UNCOMPRESSED_BYTES_TOTAL'\n",
      "'CELL_UNCOMPRESSED_BYTES_DELTA'\n",
      "'FULL_PLAN_HASH_VALUE'\n",
      "'CHILD_NUMBER'\n",
      "'CON_ID'\n",
      "\n",
      "\n",
      "DATAFRAMES WITHOUT OUTLIERS\n",
      "(329200, 77)\n",
      "(4018, 140)\n",
      "(4019, 321)\n",
      "(61384, 31)\n",
      "\n",
      "\n",
      "First 20 record sample before outliers:\n",
      "0     3un99a0zwp4vd\n",
      "1     gngtvs38t0060\n",
      "2     a6ygk0r9s5xuj\n",
      "3     g9pu3v9m3q9zm\n",
      "4     frjd8zfy2jfdq\n",
      "5     8swypbbr0m372\n",
      "6     0gx3b09qrx9f5\n",
      "7     616m6uhpa2usu\n",
      "8     bnznj24yxuzah\n",
      "9     bkq9pjcfvm9vn\n",
      "10    1p5grz1gs7fjq\n",
      "11    04kug40zbu4dm\n",
      "12    4b4wp0a8dvkf0\n",
      "13    cvn54b7yz0s8u\n",
      "14    gac15vmmrzgbv\n",
      "15    dcstr36r0vz0d\n",
      "16    6wm3n4d7bnddg\n",
      "17    7tchj0bmt6tn1\n",
      "18    7b15swu87j163\n",
      "19    3s5fm38sg5mfm\n",
      "Name: SQL_ID, dtype: object\n",
      "---------------------------------------\n",
      "First 20 record sample after outliers:\n",
      "0     3un99a0zwp4vd\n",
      "1     gngtvs38t0060\n",
      "2     a6ygk0r9s5xuj\n",
      "3     g9pu3v9m3q9zm\n",
      "4     frjd8zfy2jfdq\n",
      "5     8swypbbr0m372\n",
      "6     0gx3b09qrx9f5\n",
      "7     616m6uhpa2usu\n",
      "8     bnznj24yxuzah\n",
      "9     bkq9pjcfvm9vn\n",
      "10    1p5grz1gs7fjq\n",
      "11    04kug40zbu4dm\n",
      "12    4b4wp0a8dvkf0\n",
      "13    cvn54b7yz0s8u\n",
      "14    gac15vmmrzgbv\n",
      "15    dcstr36r0vz0d\n",
      "16    6wm3n4d7bnddg\n",
      "17    7tchj0bmt6tn1\n",
      "18    7b15swu87j163\n",
      "19    3s5fm38sg5mfm\n",
      "Name: SQL_ID, dtype: object\n",
      "---------------------------------------\n"
     ]
    }
   ],
   "source": [
    "def get_outliers(df=None, low_quartile_limit=.01, upper_quartile_limit=.99, headers=None):\n",
    "    \"\"\"\n",
    "    Detect and return which rows are considered outliers within the dataset, determined by :quartile_limit (99%)\n",
    "    \"\"\"\n",
    "    outlier_rows = [] # This list of lists consists of elements of the following notation [column,rowid]\n",
    "    for header in headers:\n",
    "        try:\n",
    "            df[header] = df[header].astype(float)\n",
    "            q = df[header].quantile(upper_quartile_limit)\n",
    "            series_row = (df[df[header] > q].index)\n",
    "            for id in list(np.array(series_row)):\n",
    "                outlier_rows.append([header,id])\n",
    "            q = df[header].quantile(low_quartile_limit)\n",
    "            series_row = (df[df[header] < q].index)\n",
    "            for id in list(np.array(series_row)):\n",
    "                outlier_rows.append([header,id])\n",
    "        except Exception as e:\n",
    "            print(str(e))\n",
    "    #\n",
    "    unique_ids = []\n",
    "    unique_outlier_rows = []\n",
    "    #\n",
    "    for col, rowid in outlier_rows:\n",
    "        if rowid not in unique_ids:\n",
    "            unique_outlier_rows.append([col,rowid])\n",
    "            unique_ids.append(rowid)\n",
    "    return unique_outlier_rows\n",
    "#\n",
    "def remove_outliers(df=None, low_quartile_limit=.01, upper_quartile_limit=.99, headers=None):\n",
    "    \"\"\"\n",
    "    Remove rows which are considered outliers within the dataset, determined by :quartile_limit (99%)\n",
    "    \"\"\"\n",
    "    length_before = len(df)\n",
    "    outliers_index = []\n",
    "    for header in headers:\n",
    "        try:\n",
    "            df[header] = df[header].astype(float)\n",
    "            q = df[header].quantile(upper_quartile_limit)\n",
    "            outliers_index.append(list(np.array(df[df[header] > q].index)))\n",
    "            q = df[header].quantile(low_quartile_limit)\n",
    "            outliers_index.append(list(np.array(df[df[header] < q].index)))\n",
    "        except Exception as e:\n",
    "            print(str(e))\n",
    "    #flat_outliers_index = [item for sublist in l for item in outliers_index]\n",
    "    flat_outliers_index = [item for sublist in outliers_index for item in sublist]\n",
    "    outliers_index = list(set(flat_outliers_index))\n",
    "    df = df.drop(outliers_index)\n",
    "    return df\n",
    "#\n",
    "# Defining which columns will be exposed to outliers\n",
    "# rep_hist_snapshot_header_outliers = rep_hist_snapshot_headers\n",
    "rep_hist_snapshot_header_outliers = ['PLAN_HASH_VALUE',\n",
    "                                    'OPTIMIZER_COST',\n",
    "                                    'OPTIMIZER_ENV_HASH_VALUE',\n",
    "                                    'SHARABLE_MEM',\n",
    "                                    'LOADED_VERSIONS',\n",
    "                                    'VERSION_COUNT',\n",
    "                                    'FORCE_MATCHING_SIGNATURE',\n",
    "                                    'PARSING_SCHEMA_ID',\n",
    "                                    'PARSING_USER_ID',\n",
    "                                    'FETCHES_TOTAL',\n",
    "                                    'FETCHES_DELTA',\n",
    "                                    'END_OF_FETCH_COUNT_TOTAL',\n",
    "                                    'END_OF_FETCH_COUNT_DELTA',\n",
    "                                    'SORTS_TOTAL',\n",
    "                                    'SORTS_DELTA',\n",
    "                                    'EXECUTIONS_TOTAL',\n",
    "                                    'EXECUTIONS_DELTA',\n",
    "                                    'PX_SERVERS_EXECS_TOTAL',\n",
    "                                    'PX_SERVERS_EXECS_DELTA',\n",
    "                                    'LOADS_TOTAL',\n",
    "                                    'LOADS_DELTA',\n",
    "                                    'INVALIDATIONS_TOTAL',\n",
    "                                    'INVALIDATIONS_DELTA',\n",
    "                                    'PARSE_CALLS_TOTAL',\n",
    "                                    'PARSE_CALLS_DELTA',\n",
    "                                    'DISK_READS_TOTAL',\n",
    "                                    'DISK_READS_DELTA',\n",
    "                                    'BUFFER_GETS_TOTAL',\n",
    "                                    'BUFFER_GETS_DELTA',\n",
    "                                    'ROWS_PROCESSED_TOTAL',\n",
    "                                    'ROWS_PROCESSED_DELTA',\n",
    "                                    'CPU_TIME_TOTAL',\n",
    "                                    'CPU_TIME_DELTA',\n",
    "                                    'ELAPSED_TIME_TOTAL',\n",
    "                                    'ELAPSED_TIME_DELTA',\n",
    "                                    'IOWAIT_TOTAL',\n",
    "                                    'IOWAIT_DELTA',\n",
    "                                    'CLWAIT_TOTAL',\n",
    "                                    'CLWAIT_DELTA',\n",
    "                                    'APWAIT_TOTAL',\n",
    "                                    'APWAIT_DELTA',\n",
    "                                    'CCWAIT_TOTAL',\n",
    "                                    'CCWAIT_DELTA',\n",
    "                                    'DIRECT_WRITES_TOTAL',\n",
    "                                    'DIRECT_WRITES_DELTA',\n",
    "                                    'PLSEXEC_TIME_TOTAL',\n",
    "                                    'PLSEXEC_TIME_DELTA',\n",
    "                                    'JAVEXEC_TIME_TOTAL',\n",
    "                                    'JAVEXEC_TIME_DELTA',\n",
    "                                    'IO_OFFLOAD_ELIG_BYTES_TOTAL',\n",
    "                                    'IO_OFFLOAD_ELIG_BYTES_DELTA',\n",
    "                                    'IO_INTERCONNECT_BYTES_TOTAL',\n",
    "                                    'IO_INTERCONNECT_BYTES_DELTA',\n",
    "                                    'PHYSICAL_READ_REQUESTS_TOTAL',\n",
    "                                    'PHYSICAL_READ_REQUESTS_DELTA',\n",
    "                                    'PHYSICAL_READ_BYTES_TOTAL',\n",
    "                                    'PHYSICAL_READ_BYTES_DELTA',\n",
    "                                    'PHYSICAL_WRITE_REQUESTS_TOTAL',\n",
    "                                    'PHYSICAL_WRITE_REQUESTS_DELTA',\n",
    "                                    'PHYSICAL_WRITE_BYTES_TOTAL',\n",
    "                                    'PHYSICAL_WRITE_BYTES_DELTA',\n",
    "                                    'OPTIMIZED_PHYSICAL_READS_TOTAL',\n",
    "                                    'OPTIMIZED_PHYSICAL_READS_DELTA',\n",
    "                                    'CELL_UNCOMPRESSED_BYTES_TOTAL',\n",
    "                                    'CELL_UNCOMPRESSED_BYTES_DELTA',\n",
    "                                    'IO_OFFLOAD_RETURN_BYTES_TOTAL',\n",
    "                                    'IO_OFFLOAD_RETURN_BYTES_DELTA']\n",
    "rep_hist_sysmetric_summary_header_outliers = rep_hist_sysmetric_summary_headers\n",
    "rep_hist_sysstat_header_outliers = rep_hist_sysstat_headers\n",
    "#rep_vsql_plan_headers_outliers = rep_vsql_plan_headers\n",
    "rep_vsql_plan_headers_outliers = ['PLAN_HASH_VALUE',\n",
    "                                  'FULL_PLAN_HASH_VALUE',\n",
    "                                  'CHILD_NUMBER',\n",
    "                                  'PARENT_ID',\n",
    "                                  'DEPTH',\n",
    "                                  'POSITION',\n",
    "                                  'SEARCH_COLUMNS',\n",
    "                                  'COST',\n",
    "                                  'CARDINALITY',\n",
    "                                  'BYTES',\n",
    "                                  'PARTITION_ID',\n",
    "                                  'IO_COST',\n",
    "                                  'TEMP_SPACE',\n",
    "                                  'TIME',\n",
    "                                  'CON_ID']\n",
    "#\n",
    "#Printing outliers to screen\n",
    "outliers = get_outliers(df=rep_hist_snapshot_df,\n",
    "                           headers=rep_hist_snapshot_header_outliers,\n",
    "                           upper_quartile_limit=upper_quartile_limit,\n",
    "                           low_quartile_limit=low_quartile_limit)\n",
    "for header, loc in outliers:\n",
    "    print(str(loc+2) + \" - \" + str(rep_hist_snapshot_df.iloc[loc]['SQL_ID']) + \" - \" + str(header) + \" - \" + str(rep_hist_snapshot_df.iloc[loc][header]))\n",
    "#\n",
    "# Printing dataframe before adjustments\n",
    "print('\\n\\nDATAFRAMES WITH OUTLIERS')\n",
    "print(rep_hist_snapshot_df.shape)\n",
    "print(rep_hist_sysmetric_summary_df.shape)\n",
    "print(rep_hist_sysstat_df.shape)\n",
    "print(rep_vsql_plan_df.shape)\n",
    "print('----------------------------')\n",
    "#\n",
    "#Printing outliers to screen\n",
    "rep_hist_snapshot_df_outliers = get_outliers(df=rep_hist_snapshot_df, \n",
    "                                             headers=rep_hist_snapshot_header_outliers,\n",
    "                                             upper_quartile_limit=upper_quartile_limit,\n",
    "                                             low_quartile_limit=low_quartile_limit)\n",
    "rep_hist_sysmetric_summary_df_outliers = get_outliers(df=rep_hist_sysmetric_summary_df, headers=rep_hist_sysmetric_summary_header_outliers,upper_quartile_limit=upper_quartile_limit,low_quartile_limit=low_quartile_limit)\n",
    "rep_hist_sysstat_df_outliers = get_outliers(df=rep_hist_sysstat_df, headers=rep_hist_sysstat_header_outliers,upper_quartile_limit= upper_quartile_limit,low_quartile_limit=low_quartile_limit)\n",
    "rep_vsql_plan_df_outliers = get_outliers(df=rep_vsql_plan_df, headers=rep_vsql_plan_headers_outliers,upper_quartile_limit=upper_quartile_limit,low_quartile_limit=low_quartile_limit)\n",
    "print('\\n\\nOUTLIERS')\n",
    "print(len(rep_hist_snapshot_df_outliers))\n",
    "print(len(rep_hist_sysmetric_summary_df_outliers))\n",
    "print(len(rep_hist_sysstat_df_outliers))\n",
    "print(len(rep_vsql_plan_df_outliers))\n",
    "print('----------------------------')\n",
    "#\n",
    "# Dropping Outliers\n",
    "rep_hist_snapshot_df_pruned = remove_outliers(df=rep_hist_snapshot_df, headers=rep_hist_snapshot_header_outliers,upper_quartile_limit=upper_quartile_limit,low_quartile_limit=low_quartile_limit)\n",
    "rep_hist_sysmetric_summary_df_pruned = remove_outliers(df=rep_hist_sysmetric_summary_df, headers=rep_hist_sysmetric_summary_header_outliers,upper_quartile_limit=upper_quartile_limit,low_quartile_limit=low_quartile_limit)\n",
    "rep_hist_sysstat_df_pruned = remove_outliers(df=rep_hist_sysstat_df, headers=rep_hist_sysstat_header_outliers,upper_quartile_limit=upper_quartile_limit,low_quartile_limit=low_quartile_limit)\n",
    "rep_vsql_plan_df_pruned = remove_outliers(df=rep_vsql_plan_df, headers=rep_vsql_plan_headers_outliers,upper_quartile_limit=upper_quartile_limit,low_quartile_limit=low_quartile_limit)\n",
    "print('\\n\\nDATAFRAMES WITHOUT OUTLIERS')\n",
    "print(rep_hist_snapshot_df_pruned.shape)\n",
    "print(rep_hist_sysmetric_summary_df_pruned.shape)\n",
    "print(rep_hist_sysstat_df_pruned.shape)\n",
    "print(rep_vsql_plan_df_pruned.shape)\n",
    "#\n",
    "print('\\n\\nFirst 20 record sample before outliers:')\n",
    "print(rep_hist_snapshot_df.iloc[0:20]['SQL_ID'])\n",
    "print('---------------------------------------')\n",
    "print('First 20 record sample after outliers:')\n",
    "print(rep_hist_snapshot_df_pruned.iloc[0:20]['SQL_ID'])\n",
    "print('---------------------------------------')"
   ]
  },
  {
   "cell_type": "markdown",
   "metadata": {},
   "source": [
    "### Plotting data distribution without outliers\n",
    "\n",
    "Plotting metrics against SNAP_ID, without outliers."
   ]
  },
  {
   "cell_type": "code",
   "execution_count": 119,
   "metadata": {
    "scrolled": true
   },
   "outputs": [],
   "source": [
    "if debug_mode is False:\n",
    "    #\n",
    "    # Plotting Histograms without Outliers\n",
    "    for header in rep_hist_snapshot_header_outliers:\n",
    "        print('REP_HIST_SNAPSHOT - ' + header + ' - STRIPPED HISTOGRAM')\n",
    "        plot_hist(df=rep_hist_snapshot_df_pruned, tpc_type=tpcds, table='rep_hist_snapshot', feature_column=header, bin_size=10)\n",
    "    for header in rep_hist_sysmetric_summary_header_outliers:\n",
    "        print('REP_HIST_SYSMETRIC - ' + header + ' - STRIPPED HISTOGRAM')\n",
    "        plot_hist(df=rep_hist_sysmetric_summary_df_pruned, tpc_type=tpcds, table='rep_hist_sysmetric_summary', feature_column=header, bin_size=10)\n",
    "    for header in rep_hist_sysstat_header_outliers:\n",
    "        print('REP_HIST_SYSSTAT - ' + header + ' - STRIPPED HISTOGRAM')\n",
    "        plot_hist(df=rep_hist_sysstat_df_pruned, tpc_type=tpcds, table='rep_hist_sysstat', feature_column=header, bin_size=10)\n",
    "    #\n",
    "    # Plotting Scatter Plots without Outliers\n",
    "    for header in rep_hist_snapshot_header_outliers:\n",
    "        print('REP_HIST_SNAPSHOT - ' + header + ' - STRIPPED SCATTER')\n",
    "        plot_scatter(df=rep_hist_snapshot_df_pruned, tpc_type=tpcds,table='rep_hist_snapshot',feature_column=header)\n",
    "    for header in rep_hist_sysmetric_summary_header_outliers:\n",
    "        print('REP_HIST_SYSMETRIC - ' + header + ' - STRIPPED SCATTER')\n",
    "        plot_scatter(df=rep_hist_sysmetric_summary_df_pruned, tpc_type=tpcds,table='rep_hist_sysmetric_summary',feature_column=header)\n",
    "    for header in rep_hist_sysstat_header_outliers:\n",
    "        print('REP_HIST_SYSSTAT - ' + header + ' - STRIPPED SCATTER')\n",
    "        plot_scatter(df=rep_hist_sysstat_df_pruned, tpc_type=tpcds,table='rep_hist_sysstat',feature_column=header)\n",
    "    #\n",
    "    # Plotting Box Plots without Outliers\n",
    "    whisker_boxes_per_plot = 3\n",
    "    for i in range(whisker_boxes_per_plot, len(rep_hist_snapshot_header_outliers), whisker_boxes_per_plot):\n",
    "        print('REP_HIST_SNAPSHOT - ' + header + ' - STRIPPED WHISKER')\n",
    "        plot_boxplot(df=rep_hist_snapshot_df, tpc_type=tpcds,table='rep_hist_snapshot',feature_columns=rep_hist_snapshot_headers[i-whisker_boxes_per_plot:i])"
   ]
  },
  {
   "cell_type": "markdown",
   "metadata": {},
   "source": [
    "### Dropping Redundant Columns\n",
    "\n",
    "Dropping redundant columns which are not detrimental to the task at hand (NB: This is only the first steps towards feature selection. This step ensures that specific columns which are SURELY not useful are dropped ahead of time)."
   ]
  },
  {
   "cell_type": "markdown",
   "metadata": {
    "scrolled": true
   },
   "source": [
    "http://benalexkeen.com/feature-scaling-with-scikit-learn/\n",
    "\n",
    "Based on the above plots, one can argue that the data distribution is uneven, and does not correlate to any particular pattern. A normalization approach (MinMaxScaling and/or RobustScaling) to the presented dataset is a more likely candidate than standardizing of the presented dataset. \n",
    "\n",
    "Reasons behind normalizing the dataset rather than standardizing, is due to the vast standard deviations from the mean for several feature columns."
   ]
  },
  {
   "cell_type": "code",
   "execution_count": 120,
   "metadata": {},
   "outputs": [
    {
     "name": "stdout",
     "output_type": "stream",
     "text": [
      "Before: (329200, 77)| After: (329200, 51)\n",
      "Before: (4018, 140)| After: (4018, 140)\n",
      "Before: (4019, 321)| After: (4019, 321)\n",
      "Before: (61384, 31)| After: (61384, 12)\n"
     ]
    }
   ],
   "source": [
    "retain_headers_rep_hist_snapshot = ['SNAP_ID',\n",
    "                                    'OPTIMIZER_COST',\n",
    "                                    'SHARABLE_MEM',\n",
    "                                    'FETCHES_TOTAL',\n",
    "                                    'FETCHES_DELTA',\n",
    "                                    'END_OF_FETCH_COUNT_TOTAL',\n",
    "                                    'END_OF_FETCH_COUNT_DELTA',\n",
    "                                    'SORTS_TOTAL',\n",
    "                                    'SORTS_DELTA',\n",
    "                                    'EXECUTIONS_TOTAL',\n",
    "                                    'EXECUTIONS_DELTA',\n",
    "                                    'PX_SERVERS_EXECS_TOTAL',\n",
    "                                    'PX_SERVERS_EXECS_DELTA',\n",
    "                                    'LOADS_TOTAL',\n",
    "                                    'LOADS_DELTA',\n",
    "                                    'INVALIDATIONS_TOTAL',\n",
    "                                    'INVALIDATIONS_DELTA',\n",
    "                                    'PARSE_CALLS_TOTAL',\n",
    "                                    'PARSE_CALLS_DELTA',\n",
    "                                    'DISK_READS_TOTAL',\n",
    "                                    'DISK_READS_DELTA',\n",
    "                                    'BUFFER_GETS_TOTAL',\n",
    "                                    'BUFFER_GETS_DELTA',\n",
    "                                    'ROWS_PROCESSED_TOTAL',\n",
    "                                    'ROWS_PROCESSED_DELTA',\n",
    "                                    'CPU_TIME_TOTAL',\n",
    "                                    'CPU_TIME_DELTA',\n",
    "                                    'ELAPSED_TIME_TOTAL',\n",
    "                                    'ELAPSED_TIME_DELTA',\n",
    "                                    'IOWAIT_TOTAL',\n",
    "                                    'IOWAIT_DELTA',\n",
    "                                    'APWAIT_TOTAL',\n",
    "                                    'APWAIT_DELTA',\n",
    "                                    'CCWAIT_TOTAL',\n",
    "                                    'CCWAIT_DELTA',\n",
    "                                    'DIRECT_WRITES_TOTAL',\n",
    "                                    'DIRECT_WRITES_DELTA',\n",
    "                                    'PLSEXEC_TIME_TOTAL',\n",
    "                                    'PLSEXEC_TIME_DELTA',\n",
    "                                    'IO_INTERCONNECT_BYTES_TOTAL',\n",
    "                                    'IO_INTERCONNECT_BYTES_DELTA',\n",
    "                                    'PHYSICAL_READ_REQUESTS_TOTAL',\n",
    "                                    'PHYSICAL_READ_REQUESTS_DELTA',\n",
    "                                    'PHYSICAL_READ_BYTES_TOTAL',\n",
    "                                    'PHYSICAL_READ_BYTES_DELTA',\n",
    "                                    'PHYSICAL_WRITE_REQUESTS_TOTAL',\n",
    "                                    'PHYSICAL_WRITE_REQUESTS_DELTA',\n",
    "                                    'PHYSICAL_WRITE_BYTES_TOTAL',\n",
    "                                    'PHYSICAL_WRITE_BYTES_DELTA',\n",
    "                                    'IO_OFFLOAD_RETURN_BYTES_TOTAL',\n",
    "                                    'IO_OFFLOAD_RETURN_BYTES_DELTA']\n",
    "\n",
    "retain_headers_rep_hist_sysmetric_summary = rep_hist_sysmetric_summary_headers\n",
    "retain_headers_rep_hist_sysstat = rep_hist_sysstat_headers\n",
    "#rep_vsql_plan_headers_outliers = rep_vsql_plan_headers\n",
    "retain_headers_rep_vsql_plan = [  'PLAN_HASH_VALUE',\n",
    "                                  'PARENT_ID',\n",
    "                                  'DEPTH',\n",
    "                                  'POSITION',\n",
    "                                  'SEARCH_COLUMNS',\n",
    "                                  'COST',\n",
    "                                  'CARDINALITY',\n",
    "                                  'BYTES',\n",
    "                                  'PARTITION_ID',\n",
    "                                  'IO_COST',\n",
    "                                  'TEMP_SPACE',\n",
    "                                  'TIME']\n",
    "#\n",
    "def retain_these_columns(dataframe, headers):\n",
    "    \"\"\"\n",
    "    Drops all columns from dataframe except those passed in the header\n",
    "    \"\"\"\n",
    "    dataframe.reset_index(inplace=True)\n",
    "    return dataframe[headers]\n",
    "#\n",
    "shape = rep_hist_snapshot_df_pruned.shape\n",
    "rep_hist_snapshot_df_pruned = retain_these_columns(dataframe=rep_hist_snapshot_df_pruned,headers=retain_headers_rep_hist_snapshot)\n",
    "print('Before: ' + str(shape) + '| After: ' + str(rep_hist_snapshot_df_pruned.shape))\n",
    "#\n",
    "shape = rep_hist_sysmetric_summary_df_pruned.shape\n",
    "rep_hist_sysmetric_summary_df_pruned = retain_these_columns(dataframe=rep_hist_sysmetric_summary_df_pruned,headers=retain_headers_rep_hist_sysmetric_summary)\n",
    "print('Before: ' + str(shape) + '| After: ' + str(rep_hist_sysmetric_summary_df_pruned.shape))\n",
    "#\n",
    "shape = rep_hist_sysstat_df_pruned.shape\n",
    "rep_hist_sysstat_df_pruned = retain_these_columns(dataframe=rep_hist_sysstat_df_pruned, headers=retain_headers_rep_hist_sysstat)\n",
    "print('Before: ' + str(shape) + '| After: ' + str(rep_hist_sysstat_df_pruned.shape))\n",
    "#\n",
    "shape = rep_vsql_plan_df_pruned.shape\n",
    "rep_vsql_plan_df_pruned = retain_these_columns(dataframe=rep_vsql_plan_df_pruned, headers=retain_headers_rep_vsql_plan)\n",
    "print('Before: ' + str(shape) + '| After: ' + str(rep_vsql_plan_df_pruned.shape))"
   ]
  },
  {
   "cell_type": "markdown",
   "metadata": {},
   "source": [
    "### Dataset Consolidation\n",
    "\n",
    "Grouping datasets on SNAP_ID"
   ]
  },
  {
   "cell_type": "code",
   "execution_count": 121,
   "metadata": {},
   "outputs": [
    {
     "name": "stdout",
     "output_type": "stream",
     "text": [
      "REP_HIST_SNAPSHOT shape after transformation: (4014, 51)\n",
      "REP_HIST_SYSMETRIC_SUMMARY shape after transformation: (4018, 140)\n",
      "REP_HIST_SYSSTAT shape after transformation: (4019, 321)\n"
     ]
    }
   ],
   "source": [
    "#\n",
    "rep_hist_snapshot_df_pruned = rep_hist_snapshot_df_pruned[rep_hist_snapshot_df_pruned['SNAP_ID'] > 0]\n",
    "rep_hist_sysmetric_summary_df_pruned = rep_hist_sysmetric_summary_df_pruned[rep_hist_sysmetric_summary_df_pruned['SNAP_ID'] > 0]\n",
    "rep_hist_sysstat_df_pruned = rep_hist_sysstat_df_pruned[rep_hist_sysstat_df_pruned['SNAP_ID'] > 0]\n",
    "#\n",
    "# Group By Values by SNAP_ID , sum all metrics (for table REP_HIST_SNAPSHOT)\n",
    "rep_hist_snapshot_df_pruned = rep_hist_snapshot_df_pruned.groupby(['SNAP_ID']).sum()\n",
    "rep_hist_snapshot_df_pruned.reset_index(inplace=True)\n",
    "rep_hist_sysmetric_summary_df_pruned = rep_hist_sysmetric_summary_df_pruned.groupby(['SNAP_ID']).sum()\n",
    "rep_hist_sysmetric_summary_df_pruned.reset_index(inplace=True)\n",
    "rep_hist_sysstat_df_pruned = rep_hist_sysstat_df_pruned.groupby(['SNAP_ID']).sum()\n",
    "rep_hist_sysstat_df_pruned.reset_index(inplace=True)\n",
    "#\n",
    "print(\"REP_HIST_SNAPSHOT shape after transformation: \" + str(rep_hist_snapshot_df_pruned.shape))\n",
    "print(\"REP_HIST_SYSMETRIC_SUMMARY shape after transformation: \" + str(rep_hist_sysmetric_summary_df_pruned.shape))\n",
    "print(\"REP_HIST_SYSSTAT shape after transformation: \" + str(rep_hist_sysstat_df_pruned.shape))\n",
    "# #\n",
    "# # Remove SNAP_ID from header column names\n",
    "# retain_headers_rep_hist_snapshot = retain_headers_rep_hist_snapshot[1:]\n",
    "# retain_headers_rep_hist_sysmetric_summary = retain_headers_rep_hist_sysmetric_summary[1:]\n",
    "# retain_headers_rep_hist_sysstat = retain_headers_rep_hist_sysstat[1:]"
   ]
  },
  {
   "cell_type": "markdown",
   "metadata": {},
   "source": [
    "### Normalization\n",
    "\n",
    "Relavent Sources:\n",
    "\n",
    "* http://jmlr.csail.mit.edu/papers/volume3/guyon03a/guyon03a.pdf\n",
    "* https://machinelearningmastery.com/rescaling-data-for-machine-learning-in-python-with-scikit-learn/\n",
    "\n",
    "https://machinelearningmastery.com/normalize-standardize-time-series-data-python/ recommends a normalization preprocessing technique for data distribution that can closely approximate minimum and maximum observable values per column:\n",
    "\n",
    "<i>\"Normalization requires that you know or are able to accurately estimate the minimum and maximum observable values. You may be able to estimate these values from your available data. If your time series is trending up or down, estimating these expected values may be difficult and normalization may not be the best method to use on your problem.\"</i>\n",
    "\n",
    "Normalization formula is stated as follows: $$y=(x-min)/(max-min)$$\n",
    "\n",
    "### Standardization\n",
    "\n",
    "https://machinelearningmastery.com/normalize-standardize-time-series-data-python/ recommends a standardization preprocessing technique for data distributions that observe a Gaussian spread, with a mean of 0 and a standard deviation of 1 (approximately close to these values):\n",
    "\n",
    "<i>\"Standardization assumes that your observations fit a Gaussian distribution (bell curve) with a well behaved mean and standard deviation. You can still standardize your time series data if this expectation is not met, but you may not get reliable results.\"</i>\n",
    "\n",
    "Standardization formula is stated as follows: $$y=(x-mean)/StandardDeviation$$\n",
    "Mean defined as: $$mean=sum(x)/count(x)$$\n",
    "Standard Deviation defined as: $$StandardDeviation=sqrt(sum((x-mean)^2)/count(x))$$"
   ]
  },
  {
   "cell_type": "code",
   "execution_count": 122,
   "metadata": {
    "scrolled": true
   },
   "outputs": [
    {
     "name": "stdout",
     "output_type": "stream",
     "text": [
      "------------------BEFORE------------------\n",
      "------------------REP_HIST_SNAPSHOT------------------\n",
      "(4014, 51)\n",
      "------------------REP_HIST_SYSMETRIC_SUMMARY------------------\n",
      "(4018, 140)\n",
      "------------------REP_HIST_SYSSTAT------------------\n",
      "(4019, 321)\n",
      "------------------REP_VSQL_PLAN------------------\n",
      "(61384, 12)\n",
      "\n",
      "\n",
      "\n",
      "\n",
      "------------------AFTER------------------\n",
      "------------------REP_HIST_SNAPSHOT------------------\n",
      "(4014, 51)\n",
      "------------------REP_HIST_SYSMETRIC_SUMMARY------------------\n",
      "(4018, 140)\n",
      "------------------REP_HIST_SYSSTAT------------------\n",
      "(4019, 321)\n",
      "------------------REP_VSQL_PLAN------------------\n",
      "(61384, 12)\n",
      "\n",
      "\n",
      "\n",
      "REP_HIST_SNAPSHOT\n",
      "[2.42648903e-07 9.00476536e-07 1.58691624e-03 1.97401802e-04\n",
      " 1.71207407e-06 3.30582733e-05 7.15337576e-07 5.70301806e-06\n",
      " 3.92728325e-07 3.82457521e-05 8.03601498e-07 2.75965714e-07\n",
      " 2.75965714e-07 1.64431280e-07 7.07341541e-09 1.23015920e-09\n",
      " 0.00000000e+00 3.00751372e-05 6.48293899e-07 3.55970143e-05\n",
      " 2.12194261e-05 1.59584340e-03 1.83353384e-04 1.76909605e-04\n",
      " 2.69179336e-06 5.05086085e-02 1.04109823e-02 2.01042444e-01\n",
      " 8.39931995e-02 1.43901382e-01 7.21903113e-02 9.77463999e-07\n",
      " 7.10109399e-07 3.05680476e-03 1.48722290e-03 6.47883846e-07\n",
      " 7.81151093e-08 5.61158063e-03 2.34234819e-04 6.58189418e-01\n",
      " 1.79921366e-01 3.95051276e-05 3.70800737e-06 6.52765223e-01\n",
      " 1.79396498e-01 2.20301010e-07 8.61111441e-09 5.42419509e-03\n",
      " 5.24867926e-04 0.00000000e+00 0.00000000e+00]\n",
      "\n",
      "\n",
      "REP_HIST_SYSMETRIC_SUMMARY\n",
      "[1.95908362e-06 0.00000000e+00 1.65533047e-09 6.15339043e-09\n",
      " 3.99578710e-09 3.39059138e-09 0.00000000e+00 4.02694641e-11\n",
      " 0.00000000e+00 0.00000000e+00 7.98632202e-08 2.13842621e-07\n",
      " 1.68907533e-07 6.61801289e-10 5.22735939e-10 3.14355612e-09\n",
      " 2.48299571e-09 8.80373078e-01 3.07737599e-08 2.43072212e-08\n",
      " 2.38350630e-05 1.88265635e-05 6.78685494e-08 7.50637408e-09\n",
      " 8.85601804e-08 1.47343130e-07 4.20064581e-07 3.31795747e-07\n",
      " 1.98789726e-09 4.66873234e-07 3.68768424e-07 2.20941271e-09\n",
      " 0.00000000e+00 2.87630219e-08 6.15339043e-07 5.40035018e-08\n",
      " 0.00000000e+00 0.00000000e+00 1.68400853e-07 1.33014516e-07\n",
      " 2.48175483e-09 1.96025977e-09 7.30738923e-10 5.77187600e-10\n",
      " 4.59772752e-08 2.45790241e-07 1.94141950e-07 1.16316817e-09\n",
      " 0.00000000e+00 0.00000000e+00 1.41460026e-08 1.11734807e-08\n",
      " 1.36813629e-07 3.43062746e-09 1.39667647e-08 3.89580359e-07\n",
      " 9.37551826e-10 7.40542581e-10 7.32198950e-08 9.54662875e-09\n",
      " 2.43019362e-05 1.91953320e-05 1.15005536e-07 3.50478933e-08\n",
      " 2.76832241e-08 4.06732042e-08 3.21264796e-08 8.27665237e-08\n",
      " 8.32614959e-07 2.33340104e-07 1.84307980e-07 6.42891345e-08\n",
      " 0.00000000e+00 0.00000000e+00 3.17113118e-10 1.24087742e-10\n",
      " 9.80129886e-11 1.41302870e-02 3.74414079e-07 1.44046645e-02\n",
      " 3.91400312e-07 8.27251611e-11 6.53419924e-11 8.72419549e-07\n",
      " 6.89096652e-07 1.72488855e-06 1.36243499e-06 1.62192495e-04\n",
      " 1.01614073e-08 2.60887363e-04 2.04882649e-08 2.17806641e-11\n",
      " 2.75750537e-11 2.19221677e-09 1.73156280e-09 1.97988886e-08\n",
      " 1.56385168e-08 5.03496353e-08 3.17113118e-10 2.19879342e-06\n",
      " 1.73675749e-06 8.27665237e-08 8.27892456e-05 6.53926107e-05\n",
      " 9.30658063e-09 7.35097415e-09 4.86036878e-07 8.07549112e-08\n",
      " 2.01161256e-09 4.14438827e-06 2.14558397e-10 1.05941150e-07\n",
      " 1.10355365e-08 9.30134765e-09 7.20499092e-08 2.60360971e-03\n",
      " 1.54558176e-07 1.22080622e-07 4.73845102e-01 0.00000000e+00\n",
      " 1.09252363e-07 8.62949913e-08 3.44833329e-10 6.14510072e-08\n",
      " 4.85382100e-08 2.90808353e-10 2.47453021e-11 1.74894778e-07\n",
      " 1.38143862e-07 6.09828739e-09 9.92701934e-10 7.84103909e-08\n",
      " 1.58018781e-15 0.00000000e+00 0.00000000e+00 5.51501074e-11\n",
      " 4.35613283e-09 1.04785204e-09 1.30115428e-04 0.00000000e+00]\n",
      "\n",
      "\n",
      "REP_HIST_SYSSTAT\n",
      "[4.97330223e-11 2.25968237e-07 4.16816094e-10 0.00000000e+00\n",
      " 7.97867212e-07 3.73747759e-09 2.00743447e-08 4.83298177e-07\n",
      " 1.99273034e-07 8.14503780e-09 1.18258614e-07 2.74324157e-08\n",
      " 1.38162202e-08 2.03067053e-09 5.69860173e-10 6.30329813e-14\n",
      " 5.69860173e-10 5.69860173e-10 5.69860173e-10 2.01705540e-12\n",
      " 6.30329813e-14 4.43752188e-11 1.70516947e-07 1.59716750e-07\n",
      " 1.19958067e-09 7.16046263e-09 2.06019097e-09 3.93869530e-06\n",
      " 6.35984821e-06 2.72848765e-10 4.77159669e-11 7.16748031e-10\n",
      " 6.34293094e-06 8.49295885e-09 3.91587375e-07 3.35755680e-11\n",
      " 1.23303353e-07 1.17897733e-06 7.09769943e-07 2.04539923e-09\n",
      " 8.00518863e-12 8.00518863e-12 8.00518863e-12 1.84896745e-12\n",
      " 1.88048394e-11 3.90170898e-07 2.77511359e-03 2.94908838e-08\n",
      " 1.60734102e-11 2.63898082e-11 5.25778478e-08 6.03717288e-09\n",
      " 6.10897277e-04 5.25778478e-08 5.73268156e-09 7.34408757e-03\n",
      " 1.34226578e-06 4.02467687e-09 5.08770267e-07 1.33819019e-10\n",
      " 6.82199653e-09 3.78653826e-09 8.69123287e-07 7.29275281e-06\n",
      " 5.67296832e-13 3.72683342e-08 3.87388034e-07 3.87388034e-07\n",
      " 3.35755680e-11 9.55146918e-07 6.56173335e-11 9.55154482e-07\n",
      " 7.49075209e-06 7.14373788e-13 7.77406770e-13 7.77406770e-13\n",
      " 5.34033697e-08 3.65948479e-10 2.19207698e-10 2.19207698e-10\n",
      " 4.36924246e-08 2.54611223e-10 2.41473269e-05 3.45102609e-04\n",
      " 2.24668238e-03 8.60178838e-05 1.48869547e-06 7.46816149e-07\n",
      " 1.20970971e-06 2.33845423e-06 1.21536000e-01 7.60516032e-09\n",
      " 1.25603406e-07 1.93721363e-10 7.52655819e-10 2.33333809e-07\n",
      " 2.20819514e-07 5.35223550e-09 5.35223550e-09 1.59788608e-10\n",
      " 4.52807927e-10 6.92719858e-09 1.37643020e-10 1.40484950e-05\n",
      " 1.40408175e-05 5.35223550e-09 5.35223550e-09 1.01705123e-07\n",
      " 6.28835931e-09 3.31109940e-08 6.28060692e-05 3.73231643e-06\n",
      " 1.83960322e-05 1.83852472e-05 5.90737527e-05 4.06777206e-05\n",
      " 3.99032018e-05 8.15415657e-10 4.27993943e-11 4.52038924e-09\n",
      " 3.87612747e-05 6.17346814e-05 5.48761711e-07 6.11859196e-05\n",
      " 3.95199559e-05 1.33350091e-05 1.09367328e-07 1.21973651e-08\n",
      " 1.21989691e-06 1.22017829e-06 2.79719360e-10 5.40318716e-10\n",
      " 5.64610513e-07 2.71041820e-12 4.42764083e-07 1.05587022e-06\n",
      " 2.15436112e-02 2.10109938e-13 2.49435759e-06 2.42271237e-06\n",
      " 3.78523558e-09 1.79408697e-06 9.46377181e-10 2.81373240e-07\n",
      " 2.89263690e-05 6.93362794e-13 4.47240013e-09 2.33053943e-10\n",
      " 1.86250484e-08 5.85486584e-05 5.13043735e-07 2.25866082e-09\n",
      " 8.55148077e-08 3.93655676e-09 7.76841574e-09 7.76786945e-09\n",
      " 9.85167236e-01 4.74323184e-09 1.76492348e-12 9.33308343e-10\n",
      " 5.26978458e-07 5.26978437e-07 7.14888558e-09 4.22378398e-07\n",
      " 4.25416301e-05 3.39241993e-06 2.33791072e-06 9.16759244e-08\n",
      " 2.18514335e-12 4.11815478e-11 6.74242790e-11 3.31177385e-09\n",
      " 5.00361269e-08 2.62421009e-09 9.75685417e-09 7.66407346e-07\n",
      " 4.82681605e-02 8.43314643e-07 4.94725562e-02 5.28031277e-08\n",
      " 5.89210943e-06 1.59931785e-06 1.00091309e-06 4.29279156e-06\n",
      " 1.16085741e-10 7.13166455e-07 4.63361551e-06 6.21276082e-02\n",
      " 5.13666814e-06 7.20634440e-02 4.38076489e-08 7.58393654e-06\n",
      " 1.03465153e-06 2.24607523e-11 6.46113923e-07 6.54928501e-06\n",
      " 2.02395205e-06 4.71948942e-10 1.09257168e-12 4.20219875e-14\n",
      " 3.13892061e-08 3.23360601e-05 2.93943803e-11 3.15164907e-13\n",
      " 9.99738655e-07 5.17109972e-08 7.00701622e-06 1.88793104e-05\n",
      " 6.22119385e-06 7.50126095e-09 3.96653945e-09 1.98488875e-05\n",
      " 6.37961006e-09 2.40229828e-08 2.00133498e-08 9.23614213e-03\n",
      " 6.96850460e-06 2.96674959e-07 4.35768011e-11 6.30176013e-08\n",
      " 6.30466959e-04 2.44511815e-03 4.72639973e-07 4.42911749e-11\n",
      " 6.08688490e-11 4.22320975e-11 7.40847640e-11 4.72997012e-07\n",
      " 1.17771679e-04 6.33255234e-04 6.38581694e-06 4.72863614e-07\n",
      " 7.00897610e-06 4.28294400e-09 1.12458235e-07 1.35523137e-07\n",
      " 1.66916524e-07 5.82722683e-08 4.84261384e-10 1.14593960e-10\n",
      " 5.76331559e-11 7.49104961e-10 6.33512979e-08 6.33512963e-04\n",
      " 6.39609369e-04 4.27996807e-06 4.78858702e-07 1.41251133e-07\n",
      " 5.76751779e-11 4.78858218e-07 1.41308808e-07 2.35289513e-09\n",
      " 8.87462355e-10 3.38277000e-12 2.56465932e-06 1.25876864e-09\n",
      " 1.83998483e-07 1.66617181e-11 1.71965256e-07 9.50974387e-07\n",
      " 6.36002781e-11 1.83998483e-07 1.61994762e-11 5.40822980e-11\n",
      " 2.89951714e-12 1.66617181e-11 1.51279155e-11 1.05054969e-13\n",
      " 1.34470360e-12 8.95034717e-08 1.65986851e-11 1.02323540e-11\n",
      " 1.78419056e-09 9.98307954e-09 2.85749515e-12 1.62209074e-08\n",
      " 7.09583912e-08 1.24540751e-04 3.51473484e-06 8.92025371e-06\n",
      " 4.51786544e-04 1.44228218e-02 3.08270380e-07 5.00208729e-10\n",
      " 7.35805002e-11 6.57433995e-11 3.44742293e-08 3.00500158e-04\n",
      " 2.41487756e-09 2.13996972e-10 1.51201435e-07 4.31845258e-09\n",
      " 1.75871033e-04 1.03456032e-09 2.22950102e-05 1.49160520e-03\n",
      " 1.49721936e-03 4.44149296e-09 7.52155757e-09 7.02044537e-09\n",
      " 1.93247565e-08 6.60948714e-08 1.29331071e-08 5.68124665e-09\n",
      " 0.00000000e+00 8.21193681e-10 2.09353542e-10 5.12668248e-12\n",
      " 1.28814201e-09 2.66682064e-03 1.82573555e-06 9.80856600e-07\n",
      " 4.72271734e-07 5.32649703e-10 5.32376560e-10 3.42689308e-11\n",
      " 1.32789481e-10 3.14475536e-08 0.00000000e+00 7.49252038e-11\n",
      " 9.12166871e-08]\n",
      "\n",
      "\n",
      "REP_VSQL_PLAN\n",
      "[1.00000000e+00 0.00000000e+00 0.00000000e+00 6.03957905e-08\n",
      " 0.00000000e+00 6.03957905e-08 0.00000000e+00 0.00000000e+00\n",
      " 0.00000000e+00 0.00000000e+00 0.00000000e+00 0.00000000e+00]\n"
     ]
    }
   ],
   "source": [
    "def robust_scaler(dataframe, headers):\n",
    "    \"\"\"\n",
    "    Normalize df using interquartile ranges as min-max, this way outliers do not play a heavy emphasis on the\n",
    "    normalization of values.\n",
    "    \"\"\"\n",
    "    return preprocessing.robust_scale(dataframe)\n",
    "#\n",
    "def minmax_scaler(dataframe, headers):\n",
    "    \"\"\"\n",
    "    Normalize df using min-max ranges for normalization method\n",
    "    \"\"\"\n",
    "    return preprocessing.minmax_scale(dataframe)\n",
    "#\n",
    "def normalize(dataframe, headers):\n",
    "    \"\"\"\n",
    "    The normalizer scales each value by dividing each value by its magnitude in n-dimensional space for n number of features. \n",
    "    \"\"\"\n",
    "    return preprocessing.normalize(dataframe)\n",
    "#\n",
    "print('------------------BEFORE------------------')\n",
    "print('------------------REP_HIST_SNAPSHOT------------------')\n",
    "print(rep_hist_snapshot_df_pruned.shape)\n",
    "print('------------------REP_HIST_SYSMETRIC_SUMMARY------------------')\n",
    "print(rep_hist_sysmetric_summary_df_pruned.shape)\n",
    "print('------------------REP_HIST_SYSSTAT------------------')\n",
    "print(rep_hist_sysstat_df_pruned.shape)\n",
    "print('------------------REP_VSQL_PLAN------------------')\n",
    "print(rep_vsql_plan_df_pruned.shape)\n",
    "print('\\n')\n",
    "#print(rep_hist_snapshot_df_pruned.head())\n",
    "#\n",
    "# ROBUST SCALER\n",
    "# rep_hist_snapshot_df_pruned_norm = robust_scaler(dataframe=rep_hist_snapshot_df_pruned, \n",
    "#                                                  headers=retain_headers_rep_hist_snapshot)\n",
    "# rep_hist_sysmetric_summary_df_pruned_norm = robust_scaler(dataframe=rep_hist_sysmetric_summary_df_pruned,\n",
    "#                                                           headers=retain_headers_rep_hist_sysmetric_summary)\n",
    "# rep_hist_sysstat_df_pruned_norm = robust_scaler(dataframe=rep_hist_sysstat_df_pruned,\n",
    "#                                                 headers=retain_headers_rep_hist_sysstat)\n",
    "# rep_vsql_plan_df_pruned_norm = robust_scaler(dataframe=rep_vsql_plan_df_pruned,\n",
    "#                                              headers=retain_headers_rep_vsql_plan)\n",
    "#\n",
    "# MINMAX SCALER\n",
    "# rep_hist_snapshot_df_pruned_norm = minmax_scaler(dataframe=rep_hist_snapshot_df_pruned,\n",
    "#                                                  headers=retain_headers_rep_hist_snapshot)\n",
    "# rep_hist_sysmetric_summary_df_pruned_norm = minmax_scaler(dataframe=rep_hist_sysmetric_summary_df_pruned,\n",
    "#                                                           headers=retain_headers_rep_hist_sysmetric_summary)\n",
    "# rep_hist_sysstat_df_pruned_norm = minmax_scaler(dataframe=rep_hist_sysstat_df_pruned,\n",
    "#                                                 headers=retain_headers_rep_hist_sysstat)\n",
    "# rep_vsql_plan_df_pruned_norm = minmax_scaler(dataframe=rep_vsql_plan_df_pruned,\n",
    "#                                              headers=retain_headers_rep_vsql_plan)\n",
    "#\n",
    "# NORMALIZER\n",
    "rep_hist_snapshot_df_pruned_norm = normalize(dataframe=rep_hist_snapshot_df_pruned, \n",
    "                                             headers=retain_headers_rep_hist_snapshot)\n",
    "rep_hist_sysmetric_summary_df_pruned_norm = normalize(dataframe=rep_hist_sysmetric_summary_df_pruned,\n",
    "                                                      headers=retain_headers_rep_hist_sysmetric_summary)\n",
    "rep_hist_sysstat_df_pruned_norm = normalize(dataframe=rep_hist_sysstat_df_pruned,\n",
    "                                            headers=retain_headers_rep_hist_sysstat)\n",
    "rep_vsql_plan_df_pruned_norm = normalize(dataframe=rep_vsql_plan_df_pruned,\n",
    "                                         headers=retain_headers_rep_vsql_plan)\n",
    "#\n",
    "print('\\n\\n------------------AFTER------------------')\n",
    "print('------------------REP_HIST_SNAPSHOT------------------')\n",
    "print(rep_hist_snapshot_df_pruned_norm.shape)\n",
    "print('------------------REP_HIST_SYSMETRIC_SUMMARY------------------')\n",
    "print(rep_hist_sysmetric_summary_df_pruned_norm.shape)\n",
    "print('------------------REP_HIST_SYSSTAT------------------')\n",
    "print(rep_hist_sysstat_df_pruned_norm.shape)\n",
    "print('------------------REP_VSQL_PLAN------------------')\n",
    "print(rep_vsql_plan_df_pruned_norm.shape)\n",
    "print('\\n\\n')\n",
    "print('REP_HIST_SNAPSHOT')\n",
    "print(rep_hist_snapshot_df_pruned_norm[0])\n",
    "print('\\n\\nREP_HIST_SYSMETRIC_SUMMARY')\n",
    "print(rep_hist_sysmetric_summary_df_pruned_norm[0])\n",
    "print('\\n\\nREP_HIST_SYSSTAT')\n",
    "print(rep_hist_sysstat_df_pruned_norm[0])\n",
    "print('\\n\\nREP_VSQL_PLAN')\n",
    "print(rep_vsql_plan_df_pruned_norm[0])"
   ]
  },
  {
   "cell_type": "markdown",
   "metadata": {},
   "source": [
    "# Filter Methods\n",
    "\n",
    "* https://machinelearningmastery.com/feature-selection-machine-learning-python/\n",
    "\n",
    "Filter methods allow for the univariate analysis of features. Particularly, the following statistical methods have been considered and dismissed as explained below:\n",
    "\n",
    "* Information Gain - Data at hand is continous by nature, whilst MI is usually applicable against discrete values / binned labels.\n",
    "* Pearson Correlation Coefficient - Applicable to data with linear distributions, which is not the case for the majority of the presented features.\n",
    "\n",
    "### Chi2\n",
    "\n",
    "Therefore, a likely candidate for a first univariate, filter test is a chi2 measure, between X labels 'SNAP_ID', and other output 'y' labels. NB: Due to chi2 requiring non-nagative values, a data normalization strategy was opted for (Refer to above cell).\n",
    "\n",
    "The following cell computes the chi2 value for each feature pertaining in the following tables, in relation to the SNAP_ID feature:\n",
    "* REP_HIST_SNAPSHOT\n",
    "* REP_HIST_SYSMETRIC_SUMMARY\n",
    "* REP_HIST_SYSSTAT"
   ]
  },
  {
   "cell_type": "code",
   "execution_count": 123,
   "metadata": {
    "scrolled": true
   },
   "outputs": [
    {
     "name": "stderr",
     "output_type": "stream",
     "text": [
      "C:\\ProgramData\\Anaconda3\\lib\\site-packages\\sklearn\\utils\\__init__.py:54: FutureWarning: Conversion of the second argument of issubdtype from `int` to `np.signedinteger` is deprecated. In future, it will be treated as `np.int32 == np.dtype(int).type`.\n",
      "  if np.issubdtype(mask.dtype, np.int):\n"
     ]
    },
    {
     "name": "stdout",
     "output_type": "stream",
     "text": [
      "\n",
      "\n",
      "Table [REP_HIST_SNAPSHOT]\n",
      "Original number of features: 51\n",
      "Reduced number of features: 30\n",
      "\n",
      "Feature [OPTIMIZER_COST] with score [2033.4581149295393]\n",
      "Feature [PHYSICAL_READ_BYTES_DELTA] with score [1102.7985107983545]\n",
      "Feature [IO_INTERCONNECT_BYTES_DELTA] with score [1050.5311535571172]\n",
      "Feature [ELAPSED_TIME_TOTAL] with score [671.0722163535955]\n",
      "Feature [CPU_TIME_TOTAL] with score [666.1036190219986]\n",
      "Feature [PHYSICAL_READ_BYTES_TOTAL] with score [410.3805798886898]\n",
      "Feature [IO_INTERCONNECT_BYTES_TOTAL] with score [400.2314322815469]\n",
      "Feature [ELAPSED_TIME_DELTA] with score [231.45272993539587]\n",
      "Feature [CPU_TIME_DELTA] with score [231.06922679099]\n",
      "Feature [IOWAIT_TOTAL] with score [222.34442729299704]\n",
      "Feature [PHYSICAL_WRITE_BYTES_TOTAL] with score [221.77214249374498]\n",
      "Feature [IOWAIT_DELTA] with score [146.41619566685657]\n",
      "Feature [PHYSICAL_WRITE_BYTES_DELTA] with score [100.15468272248049]\n",
      "Feature [PLSEXEC_TIME_TOTAL] with score [14.756813145246594]\n",
      "Feature [SHARABLE_MEM] with score [12.278401775506396]\n",
      "Feature [CCWAIT_DELTA] with score [11.855373466957786]\n",
      "Feature [BUFFER_GETS_TOTAL] with score [10.98965641619643]\n",
      "Feature [CCWAIT_TOTAL] with score [10.406404824592538]\n",
      "Feature [PLSEXEC_TIME_DELTA] with score [9.829592570828185]\n",
      "Feature [BUFFER_GETS_DELTA] with score [6.695728518927473]\n",
      "Feature [FETCHES_TOTAL] with score [2.266834860772673]\n",
      "Feature [ROWS_PROCESSED_TOTAL] with score [2.1104702036639296]\n",
      "Feature [IO_OFFLOAD_RETURN_BYTES_TOTAL] with score [0.8167652149553367]\n",
      "Feature [EXECUTIONS_TOTAL] with score [0.3954491850794847]\n",
      "Feature [END_OF_FETCH_COUNT_TOTAL] with score [0.32241949050620594]\n",
      "Feature [PARSE_CALLS_TOTAL] with score [0.3154528058262255]\n",
      "Feature [ROWS_PROCESSED_DELTA] with score [0.144264744898166]\n",
      "Feature [DISK_READS_DELTA] with score [0.1037947555935559]\n",
      "Feature [SORTS_TOTAL] with score [0.08789931538929988]\n"
     ]
    },
    {
     "data": {
      "image/png": "[encoded data removed]",
      "text/plain": [
       "<Figure size 1440x1080 with 1 Axes>"
      ]
     },
     "metadata": {
      "needs_background": "light"
     },
     "output_type": "display_data"
    },
    {
     "name": "stdout",
     "output_type": "stream",
     "text": [
      "\n",
      "\n",
      "Table [REP_HIST_SYSMETRIC_SUMMARY]\n",
      "Original number of features: 140\n",
      "Reduced number of features: 30\n",
      "\n",
      "Feature [TOTAL PGA ALLOCATED] with score [1536.0598394994063]\n",
      "Feature [CELL PHYSICAL IO INTERCONNECT BYTES] with score [971.007954616221]\n",
      "Feature [TOTAL PGA USED BY SQL WORKAREAS] with score [805.9516546154506]\n",
      "Feature [PHYSICAL READ BYTES PER SEC] with score [64.84773919349183]\n",
      "Feature [PHYSICAL READ TOTAL BYTES PER SEC] with score [64.1201063090792]\n",
      "Feature [TEMP SPACE USED] with score [42.75603829651253]\n",
      "Feature [VM IN BYTES PER SEC] with score [31.72922548131208]\n",
      "Feature [PHYSICAL WRITE BYTES PER SEC] with score [10.678487946311318]\n",
      "Feature [PHYSICAL WRITE TOTAL BYTES PER SEC] with score [10.0962860465259]\n",
      "Feature [CONSISTENT READ GETS PER TXN] with score [1.7058252011802983]\n",
      "Feature [LOGICAL READS PER TXN] with score [1.704648623503413]\n",
      "Feature [REDO GENERATED PER SEC] with score [0.6503466293380139]\n",
      "Feature [REDO GENERATED PER TXN] with score [0.4338460619401169]\n",
      "Feature [CONSISTENT READ GETS PER SEC] with score [0.4079806689964623]\n",
      "Feature [LOGICAL READS PER SEC] with score [0.40724479409099923]\n",
      "Feature [NETWORK TRAFFIC VOLUME PER SEC] with score [0.06971869230587874]\n",
      "Feature [ROWS PER SORT] with score [0.03831220872109322]\n",
      "Feature [PHYSICAL READS PER TXN] with score [0.031446091184209435]\n",
      "Feature [LOGICAL READS PER USER CALL] with score [0.02817332718892252]\n",
      "Feature [RESPONSE TIME PER TXN] with score [0.023859175438235205]\n",
      "Feature [CPU USAGE PER TXN] with score [0.023817549317482443]\n",
      "Feature [SNAP_ID] with score [0.016549894176623583]\n",
      "Feature [PHYSICAL READS DIRECT PER TXN] with score [0.013223250369260602]\n",
      "Feature [TOTAL INDEX SCANS PER TXN] with score [0.0120922727995508]\n",
      "Feature [PHYSICAL READS PER SEC] with score [0.007915991299802767]\n",
      "Feature [PHYSICAL READ IO REQUESTS PER SEC] with score [0.0056592311567114795]\n",
      "Feature [DB BLOCK CHANGES PER SEC] with score [0.0055423818548757334]\n",
      "Feature [PHYSICAL READ TOTAL IO REQUESTS PER SEC] with score [0.005541304761109607]\n",
      "Feature [I/O REQUESTS PER SECOND] with score [0.005482218574304511]\n"
     ]
    },
    {
     "data": {
      "image/png": "[encoded data removed]",
      "text/plain": [
       "<Figure size 1440x1080 with 1 Axes>"
      ]
     },
     "metadata": {
      "needs_background": "light"
     },
     "output_type": "display_data"
    },
    {
     "name": "stdout",
     "output_type": "stream",
     "text": [
      "\n",
      "\n",
      "Table [REP_HIST_SYSSTAT]\n",
      "Original number of features: 321\n",
      "Reduced number of features: 30\n",
      "\n",
      "Feature [PHYSICAL READ BYTES] with score [94.93551877765576]\n",
      "Feature [PHYSICAL READ TOTAL BYTES] with score [93.90896699983921]\n",
      "Feature [CELL PHYSICAL IO INTERCONNECT BYTES] with score [56.19645211006452]\n",
      "Feature [PHYSICAL WRITE TOTAL BYTES] with score [27.8939987555101]\n",
      "Feature [PHYSICAL WRITE BYTES] with score [22.877678955366257]\n",
      "Feature [FILE IO WAIT TIME] with score [11.659375666516341]\n",
      "Feature [REDO SIZE] with score [4.985163349202385]\n",
      "Feature [KTFB ALLOC SPACE (BLOCK)] with score [3.777423736813437]\n",
      "Feature [SESSION UGA MEMORY MAX] with score [3.0812858622184267]\n",
      "Feature [IMU REDO ALLOCATION SIZE] with score [1.5258748982672383]\n",
      "Feature [UNDO CHANGE VECTOR SIZE] with score [1.4332375857895272]\n",
      "Feature [REDO SYNCH TIME OVERHEAD (USEC)] with score [1.2621002638122805]\n",
      "Feature [BYTES RECEIVED VIA SQL*NET FROM CLIENT] with score [1.2098029146117923]\n",
      "Feature [TABLE SCAN DISK NON-IMC ROWS GOTTEN] with score [0.39192663181631376]\n",
      "Feature [TABLE SCAN ROWS GOTTEN] with score [0.3901769716004303]\n",
      "Feature [REDO WRITE TOTAL TIME] with score [0.3496860242437376]\n",
      "Feature [REDO SYNCH TIME (USEC)] with score [0.3469193986458821]\n",
      "Feature [REDO WRITE TIME (USEC)] with score [0.3464378738488529]\n",
      "Feature [REDO WRITE FINISH TIME] with score [0.3463083581768824]\n",
      "Feature [IMU UNDO ALLOCATION SIZE] with score [0.3309756797091054]\n",
      "Feature [LOGICAL READ BYTES FROM CACHE] with score [0.21318390058415504]\n",
      "Feature [BUFFER IS PINNED COUNT] with score [0.11790679793199774]\n",
      "Feature [TABLE FETCH BY ROWID] with score [0.06861918769253891]\n",
      "Feature [REDO WASTAGE] with score [0.062210602761556474]\n",
      "Feature [DB BLOCK GETS FROM CACHE] with score [0.03306668832763341]\n",
      "Feature [DB BLOCK GETS] with score [0.031722908640598305]\n",
      "Feature [INDEX FETCH BY KEY] with score [0.030515979298179823]\n",
      "Feature [DB BLOCK GETS FROM CACHE (FASTPATH)] with score [0.021533076223148418]\n",
      "Feature [DB BLOCK CHANGES] with score [0.020823751958295965]\n",
      "Feature [PROCESS LAST NON-IDLE TIME] with score [0.017810553408983344]\n"
     ]
    },
    {
     "data": {
      "image/png": "[encoded data removed]",
      "text/plain": [
       "<Figure size 1440x1080 with 1 Axes>"
      ]
     },
     "metadata": {
      "needs_background": "light"
     },
     "output_type": "display_data"
    }
   ],
   "source": [
    "top_n_features=30\n",
    "def chi2_test(top_n_features=30, X_df=None, y_df=None, table=None, headers=None):\n",
    "    \"\"\"\n",
    "    Carries out a chi squared test on passed X,y dataframes, selecting top N features ranked by highest scoring\n",
    "    \"\"\"\n",
    "    chi2_selector = SelectKBest(score_func=chi2, k=top_n_features)\n",
    "    X_kbest = chi2_selector.fit_transform(X_df, y_df)\n",
    "    print('\\n\\nTable [' + table.upper() + ']')\n",
    "    print('Original number of features: ' + str(X_df.shape[1]))\n",
    "    print('Reduced number of features: ' + str(X_kbest.shape[1]) + \"\\n\")\n",
    "    outcome = chi2_selector.get_support()\n",
    "    #\n",
    "    scoring_sheet = []\n",
    "    for i in range(0,len(headers)-1):\n",
    "        if outcome[i]:\n",
    "            scoring_sheet.append([headers[i],chi2_selector.scores_[i]])\n",
    "    #\n",
    "    scoring_sheet = sorted(scoring_sheet, key=itemgetter(1), reverse=True)\n",
    "    [print('Feature [' + str(row) + '] with score [' + str(score) + ']') for row, score in scoring_sheet[:top_n_features]]\n",
    "    #\n",
    "    scoring_sheet = pd.Series((v[1] for v in scoring_sheet[:top_n_features]) )\n",
    "    scoring_sheet[:top_n_features].plot.bar()\n",
    "    plt.ylabel('CHI2 RANKING')\n",
    "    plt.xlabel('FEATURES')\n",
    "    plt.title('Features Ranked By Chi2 Scoring')\n",
    "    plt.rcParams['figure.figsize'] = [20, 15]\n",
    "    plt.show()\n",
    "#\n",
    "chi2_test(top_n_features=top_n_features, X_df=rep_hist_snapshot_df_pruned_norm, y_df=rep_hist_snapshot_df_pruned['SNAP_ID'], table='REP_HIST_SNAPSHOT', headers=retain_headers_rep_hist_snapshot)\n",
    "chi2_test(top_n_features=top_n_features, X_df=rep_hist_sysmetric_summary_df_pruned_norm, y_df=rep_hist_sysmetric_summary_df_pruned['SNAP_ID'], table='REP_HIST_SYSMETRIC_SUMMARY', headers=retain_headers_rep_hist_sysmetric_summary)\n",
    "chi2_test(top_n_features=top_n_features, X_df=rep_hist_sysstat_df_pruned_norm, y_df=rep_hist_sysstat_df_pruned['SNAP_ID'], table='REP_HIST_SYSSTAT', headers=retain_headers_rep_hist_sysstat)"
   ]
  },
  {
   "cell_type": "markdown",
   "metadata": {},
   "source": [
    "### Random Forest Feature Importance\n",
    "\n",
    "Calculating MI (Mutual Information) scoring between data matrix X (feature vectors) and target column y ('SNAP_ID') "
   ]
  },
  {
   "cell_type": "code",
   "execution_count": 125,
   "metadata": {
    "scrolled": true
   },
   "outputs": [
    {
     "name": "stdout",
     "output_type": "stream",
     "text": [
      "                               importance\n",
      "feature                                  \n",
      "DISK_READS_TOTAL                    0.560\n",
      "PHYSICAL_READ_BYTES_TOTAL           0.115\n",
      "CCWAIT_TOTAL                        0.073\n",
      "PHYSICAL_WRITE_BYTES_TOTAL          0.032\n",
      "IO_INTERCONNECT_BYTES_DELTA         0.021\n",
      "BUFFER_GETS_TOTAL                   0.021\n",
      "IO_OFFLOAD_RETURN_BYTES_TOTAL       0.018\n",
      "CPU_TIME_DELTA                      0.017\n",
      "PHYSICAL_READ_REQUESTS_TOTAL        0.016\n",
      "IOWAIT_TOTAL                        0.014\n",
      "OPTIMIZER_COST                      0.014\n",
      "ELAPSED_TIME_DELTA                  0.013\n",
      "SORTS_TOTAL                         0.010\n",
      "BUFFER_GETS_DELTA                   0.010\n",
      "SHARABLE_MEM                        0.008\n",
      "PHYSICAL_WRITE_BYTES_DELTA          0.007\n",
      "CPU_TIME_TOTAL                      0.006\n",
      "PLSEXEC_TIME_TOTAL                  0.006\n",
      "FETCHES_TOTAL                       0.006\n",
      "EXECUTIONS_TOTAL                    0.005\n",
      "ROWS_PROCESSED_TOTAL                0.004\n",
      "PHYSICAL_WRITE_REQUESTS_TOTAL       0.003\n",
      "IO_INTERCONNECT_BYTES_TOTAL         0.003\n",
      "APWAIT_TOTAL                        0.003\n",
      "ELAPSED_TIME_TOTAL                  0.003\n",
      "ROWS_PROCESSED_DELTA                0.002\n",
      "END_OF_FETCH_COUNT_TOTAL            0.002\n",
      "PHYSICAL_READ_BYTES_DELTA           0.002\n",
      "LOADS_TOTAL                         0.001\n",
      "IOWAIT_DELTA                        0.001\n"
     ]
    },
    {
     "data": {
      "image/png": "[encoded data removed]",
      "text/plain": [
       "<Figure size 1440x1080 with 1 Axes>"
      ]
     },
     "metadata": {
      "needs_background": "light"
     },
     "output_type": "display_data"
    },
    {
     "name": "stdout",
     "output_type": "stream",
     "text": [
      "                                         importance\n",
      "feature                                            \n",
      "LOGICAL READS PER TXN                         0.215\n",
      "SNAP_ID                                       0.156\n",
      "REDO GENERATED PER SEC                        0.100\n",
      "TOTAL PGA USED BY SQL WORKAREAS               0.099\n",
      "LOGICAL READS PER SEC                         0.078\n",
      "CONSISTENT READ GETS PER TXN                  0.043\n",
      "PHYSICAL READ BYTES PER SEC                   0.042\n",
      "NETWORK TRAFFIC VOLUME PER SEC                0.040\n",
      "CONSISTENT READ GETS PER SEC                  0.038\n",
      "PHYSICAL READ TOTAL BYTES PER SEC             0.037\n",
      "TEMP SPACE USED                               0.036\n",
      "PHYSICAL WRITE BYTES PER SEC                  0.022\n",
      "REDO GENERATED PER TXN                        0.018\n",
      "PHYSICAL WRITE TOTAL BYTES PER SEC            0.010\n",
      "TOTAL PGA ALLOCATED                           0.010\n",
      "CELL PHYSICAL IO INTERCONNECT BYTES           0.008\n",
      "RECURSIVE CALLS PER TXN                       0.007\n",
      "RECURSIVE CALLS PER SEC                       0.005\n",
      "PHYSICAL READS DIRECT PER TXN                 0.004\n",
      "PHYSICAL READS DIRECT PER SEC                 0.004\n",
      "ROWS PER SORT                                 0.004\n",
      "VM IN BYTES PER SEC                           0.004\n",
      "PHYSICAL READS PER TXN                        0.003\n",
      "RESPONSE TIME PER TXN                         0.002\n",
      "LOGICAL READS PER USER CALL                   0.002\n",
      "VM OUT BYTES PER SEC                          0.002\n",
      "CPU USAGE PER TXN                             0.002\n",
      "PHYSICAL READS PER SEC                        0.001\n",
      "PHYSICAL READ TOTAL IO REQUESTS PER SEC       0.001\n",
      "TOTAL INDEX SCANS PER TXN                     0.001\n"
     ]
    },
    {
     "data": {
      "image/png": "[encoded data removed]",
      "text/plain": [
       "<Figure size 1440x1080 with 1 Axes>"
      ]
     },
     "metadata": {
      "needs_background": "light"
     },
     "output_type": "display_data"
    },
    {
     "name": "stdout",
     "output_type": "stream",
     "text": [
      "                                        importance\n",
      "feature                                           \n",
      "PHYSICAL WRITE BYTES                         0.121\n",
      "FILE IO WAIT TIME                            0.100\n",
      "PHYSICAL WRITE TOTAL BYTES                   0.100\n",
      "SESSION UGA MEMORY MAX                       0.090\n",
      "REDO SIZE                                    0.066\n",
      "TABLE SCAN DISK NON-IMC ROWS GOTTEN          0.057\n",
      "KTFB ALLOC SPACE (BLOCK)                     0.047\n",
      "IMU REDO ALLOCATION SIZE                     0.047\n",
      "TABLE SCAN ROWS GOTTEN                       0.046\n",
      "REDO SYNCH TIME OVERHEAD (USEC)              0.044\n",
      "BYTES RECEIVED VIA SQL*NET FROM CLIENT       0.043\n",
      "UNDO CHANGE VECTOR SIZE                      0.038\n",
      "BUFFER IS PINNED COUNT                       0.030\n",
      "REDO SYNCH TIME (USEC)                       0.023\n",
      "REDO WRITE FINISH TIME                       0.021\n",
      "REDO WRITE TIME (USEC)                       0.020\n",
      "REDO WRITE TOTAL TIME                        0.020\n",
      "IMU UNDO ALLOCATION SIZE                     0.018\n",
      "TABLE FETCH BY ROWID                         0.018\n",
      "PHYSICAL READ BYTES                          0.010\n",
      "SORTS (ROWS)                                 0.009\n",
      "PHYSICAL READ TOTAL BYTES                    0.009\n",
      "LOGICAL READ BYTES FROM CACHE                0.008\n",
      "CELL PHYSICAL IO INTERCONNECT BYTES          0.008\n",
      "BUFFER IS NOT PINNED COUNT                   0.001\n",
      "REDO WASTAGE                                 0.001\n",
      "NO WORK - CONSISTENT READ GETS               0.001\n",
      "CONSISTENT GETS PIN                          0.001\n",
      "CONSISTENT GETS PIN (FASTPATH)               0.001\n",
      "REDO WRITE SIZE COUNT (  16KB)               0.000\n"
     ]
    },
    {
     "data": {
      "image/png": "[encoded data removed]",
      "text/plain": [
       "<Figure size 1440x1080 with 1 Axes>"
      ]
     },
     "metadata": {
      "needs_background": "light"
     },
     "output_type": "display_data"
    }
   ],
   "source": [
    "def rfr_ranking(X_df=None, y_df=None, headers=None, top_n_features=30):\n",
    "    \"\"\"\n",
    "    Ranks features using a filter RFR method, and plots them in descending order (ranked by importance)\n",
    "    \"\"\"\n",
    "    X_df = np.array(X_df)\n",
    "    y_df = np.array(y_df)\n",
    "    rfr = RandomForestRegressor(n_estimators=2000)\n",
    "    rfr.fit(X_df, y_df)\n",
    "    importances = pd.DataFrame({'feature':headers,\n",
    "                                'importance':np.round(rfr.feature_importances_,3)})\n",
    "    importances = importances.sort_values('importance',ascending=False).set_index('feature')\n",
    "    print(importances[:top_n_features])\n",
    "    importances[:top_n_features].plot.bar()\n",
    "    plt.ylabel('FEATURE INFORMATION IMPORTANCE')\n",
    "    plt.xlabel('FEATURES')\n",
    "    plt.title('Features Ranked By RFC Scoring')\n",
    "    plt.rcParams['figure.figsize'] = [20, 15]\n",
    "    plt.show()\n",
    "#\n",
    "rfr_ranking(top_n_features=top_n_features,\n",
    "            X_df=rep_hist_snapshot_df_pruned_norm, \n",
    "            y_df=rep_hist_snapshot_df_pruned['SNAP_ID'], \n",
    "            headers=retain_headers_rep_hist_snapshot)\n",
    "rfr_ranking(top_n_features=top_n_features,\n",
    "            X_df=rep_hist_sysmetric_summary_df_pruned_norm, \n",
    "            y_df=rep_hist_sysmetric_summary_df_pruned['SNAP_ID'], \n",
    "            headers=retain_headers_rep_hist_sysmetric_summary)\n",
    "rfr_ranking(top_n_features=top_n_features,\n",
    "            X_df=rep_hist_sysstat_df_pruned_norm, \n",
    "            y_df=rep_hist_sysstat_df_pruned['SNAP_ID'], \n",
    "            headers=retain_headers_rep_hist_sysstat)"
   ]
  },
  {
   "cell_type": "markdown",
   "metadata": {},
   "source": [
    "### Wrapper Methods\n",
    "\n",
    "Use a number of machine learning models to evaluate features individually and rank by highest. The following machine learning models will be opted for:\n",
    "\n",
    "* Random Forest Classifier\n",
    "* Gradient Boosting\n",
    "\n",
    "In a 'Brute-Fore' approach, these machine learning heuristics will strip away 1 feature at a time in a method referred to as 'Recursive Feature Elimination', and compare accuracy with every variable elimination. This allows the respective classifier to establish an optimum feature configuration with the highest accuracy score.\n",
    "\n",
    "https://www.fabienplisson.com/choosing-right-features/\n",
    "\n",
    "### Random Forest Wrapper (Feature Combination)"
   ]
  },
  {
   "cell_type": "code",
   "execution_count": 126,
   "metadata": {
    "scrolled": true
   },
   "outputs": [
    {
     "name": "stdout",
     "output_type": "stream",
     "text": [
      "Table [REP_HIST_SNAPSHOT] RFR R2 Score: 0.9814284008112646\n"
     ]
    },
    {
     "name": "stderr",
     "output_type": "stream",
     "text": [
      "C:\\ProgramData\\Anaconda3\\lib\\site-packages\\sklearn\\utils\\__init__.py:54: FutureWarning: Conversion of the second argument of issubdtype from `int` to `np.signedinteger` is deprecated. In future, it will be treated as `np.int32 == np.dtype(int).type`.\n",
      "  if np.issubdtype(mask.dtype, np.int):\n",
      "C:\\ProgramData\\Anaconda3\\lib\\site-packages\\sklearn\\utils\\__init__.py:54: FutureWarning: Conversion of the second argument of issubdtype from `int` to `np.signedinteger` is deprecated. In future, it will be treated as `np.int32 == np.dtype(int).type`.\n",
      "  if np.issubdtype(mask.dtype, np.int):\n"
     ]
    },
    {
     "name": "stdout",
     "output_type": "stream",
     "text": [
      "Thresh=0.0, n=51, R2 Score: 0.9810100763877017\n"
     ]
    },
    {
     "name": "stderr",
     "output_type": "stream",
     "text": [
      "C:\\ProgramData\\Anaconda3\\lib\\site-packages\\sklearn\\utils\\__init__.py:54: FutureWarning: Conversion of the second argument of issubdtype from `int` to `np.signedinteger` is deprecated. In future, it will be treated as `np.int32 == np.dtype(int).type`.\n",
      "  if np.issubdtype(mask.dtype, np.int):\n"
     ]
    },
    {
     "name": "stdout",
     "output_type": "stream",
     "text": [
      "Thresh=0.0, n=51, R2 Score: 0.9811920767975656\n"
     ]
    },
    {
     "name": "stderr",
     "output_type": "stream",
     "text": [
      "C:\\ProgramData\\Anaconda3\\lib\\site-packages\\sklearn\\utils\\__init__.py:54: FutureWarning: Conversion of the second argument of issubdtype from `int` to `np.signedinteger` is deprecated. In future, it will be treated as `np.int32 == np.dtype(int).type`.\n",
      "  if np.issubdtype(mask.dtype, np.int):\n"
     ]
    },
    {
     "name": "stdout",
     "output_type": "stream",
     "text": [
      "Thresh=0.0, n=51, R2 Score: 0.9805737074273425\n"
     ]
    },
    {
     "name": "stderr",
     "output_type": "stream",
     "text": [
      "C:\\ProgramData\\Anaconda3\\lib\\site-packages\\sklearn\\utils\\__init__.py:54: FutureWarning: Conversion of the second argument of issubdtype from `int` to `np.signedinteger` is deprecated. In future, it will be treated as `np.int32 == np.dtype(int).type`.\n",
      "  if np.issubdtype(mask.dtype, np.int):\n"
     ]
    },
    {
     "name": "stdout",
     "output_type": "stream",
     "text": [
      "Thresh=2.662514377645946e-07, n=48, R2 Score: 0.9811210839916581\n"
     ]
    },
    {
     "name": "stderr",
     "output_type": "stream",
     "text": [
      "C:\\ProgramData\\Anaconda3\\lib\\site-packages\\sklearn\\utils\\__init__.py:54: FutureWarning: Conversion of the second argument of issubdtype from `int` to `np.signedinteger` is deprecated. In future, it will be treated as `np.int32 == np.dtype(int).type`.\n",
      "  if np.issubdtype(mask.dtype, np.int):\n"
     ]
    },
    {
     "name": "stdout",
     "output_type": "stream",
     "text": [
      "Thresh=9.862764245660793e-07, n=47, R2 Score: 0.9811994290598757\n"
     ]
    },
    {
     "name": "stderr",
     "output_type": "stream",
     "text": [
      "C:\\ProgramData\\Anaconda3\\lib\\site-packages\\sklearn\\utils\\__init__.py:54: FutureWarning: Conversion of the second argument of issubdtype from `int` to `np.signedinteger` is deprecated. In future, it will be treated as `np.int32 == np.dtype(int).type`.\n",
      "  if np.issubdtype(mask.dtype, np.int):\n"
     ]
    },
    {
     "name": "stdout",
     "output_type": "stream",
     "text": [
      "Thresh=3.4862667519361096e-06, n=46, R2 Score: 0.9815767245802434\n"
     ]
    },
    {
     "name": "stderr",
     "output_type": "stream",
     "text": [
      "C:\\ProgramData\\Anaconda3\\lib\\site-packages\\sklearn\\utils\\__init__.py:54: FutureWarning: Conversion of the second argument of issubdtype from `int` to `np.signedinteger` is deprecated. In future, it will be treated as `np.int32 == np.dtype(int).type`.\n",
      "  if np.issubdtype(mask.dtype, np.int):\n"
     ]
    },
    {
     "name": "stdout",
     "output_type": "stream",
     "text": [
      "Thresh=8.380057489157284e-06, n=45, R2 Score: 0.9816486262083046\n"
     ]
    },
    {
     "name": "stderr",
     "output_type": "stream",
     "text": [
      "C:\\ProgramData\\Anaconda3\\lib\\site-packages\\sklearn\\utils\\__init__.py:54: FutureWarning: Conversion of the second argument of issubdtype from `int` to `np.signedinteger` is deprecated. In future, it will be treated as `np.int32 == np.dtype(int).type`.\n",
      "  if np.issubdtype(mask.dtype, np.int):\n"
     ]
    },
    {
     "name": "stdout",
     "output_type": "stream",
     "text": [
      "Thresh=8.988868568527563e-06, n=44, R2 Score: 0.9806086529098096\n"
     ]
    },
    {
     "name": "stderr",
     "output_type": "stream",
     "text": [
      "C:\\ProgramData\\Anaconda3\\lib\\site-packages\\sklearn\\utils\\__init__.py:54: FutureWarning: Conversion of the second argument of issubdtype from `int` to `np.signedinteger` is deprecated. In future, it will be treated as `np.int32 == np.dtype(int).type`.\n",
      "  if np.issubdtype(mask.dtype, np.int):\n"
     ]
    },
    {
     "name": "stdout",
     "output_type": "stream",
     "text": [
      "Thresh=1.9030828834761717e-05, n=43, R2 Score: 0.981152352435358\n"
     ]
    },
    {
     "name": "stderr",
     "output_type": "stream",
     "text": [
      "C:\\ProgramData\\Anaconda3\\lib\\site-packages\\sklearn\\utils\\__init__.py:54: FutureWarning: Conversion of the second argument of issubdtype from `int` to `np.signedinteger` is deprecated. In future, it will be treated as `np.int32 == np.dtype(int).type`.\n",
      "  if np.issubdtype(mask.dtype, np.int):\n"
     ]
    },
    {
     "name": "stdout",
     "output_type": "stream",
     "text": [
      "Thresh=2.716122455803302e-05, n=42, R2 Score: 0.9819726473243143\n"
     ]
    },
    {
     "name": "stderr",
     "output_type": "stream",
     "text": [
      "C:\\ProgramData\\Anaconda3\\lib\\site-packages\\sklearn\\utils\\__init__.py:54: FutureWarning: Conversion of the second argument of issubdtype from `int` to `np.signedinteger` is deprecated. In future, it will be treated as `np.int32 == np.dtype(int).type`.\n",
      "  if np.issubdtype(mask.dtype, np.int):\n"
     ]
    },
    {
     "name": "stdout",
     "output_type": "stream",
     "text": [
      "Thresh=3.539582388406789e-05, n=41, R2 Score: 0.9812383577488926\n"
     ]
    },
    {
     "name": "stderr",
     "output_type": "stream",
     "text": [
      "C:\\ProgramData\\Anaconda3\\lib\\site-packages\\sklearn\\utils\\__init__.py:54: FutureWarning: Conversion of the second argument of issubdtype from `int` to `np.signedinteger` is deprecated. In future, it will be treated as `np.int32 == np.dtype(int).type`.\n",
      "  if np.issubdtype(mask.dtype, np.int):\n"
     ]
    },
    {
     "name": "stdout",
     "output_type": "stream",
     "text": [
      "Thresh=4.393554955568332e-05, n=40, R2 Score: 0.9801574711164645\n"
     ]
    },
    {
     "name": "stderr",
     "output_type": "stream",
     "text": [
      "C:\\ProgramData\\Anaconda3\\lib\\site-packages\\sklearn\\utils\\__init__.py:54: FutureWarning: Conversion of the second argument of issubdtype from `int` to `np.signedinteger` is deprecated. In future, it will be treated as `np.int32 == np.dtype(int).type`.\n",
      "  if np.issubdtype(mask.dtype, np.int):\n"
     ]
    },
    {
     "name": "stdout",
     "output_type": "stream",
     "text": [
      "Thresh=4.647058757468716e-05, n=39, R2 Score: 0.9822863821709411\n"
     ]
    },
    {
     "name": "stderr",
     "output_type": "stream",
     "text": [
      "C:\\ProgramData\\Anaconda3\\lib\\site-packages\\sklearn\\utils\\__init__.py:54: FutureWarning: Conversion of the second argument of issubdtype from `int` to `np.signedinteger` is deprecated. In future, it will be treated as `np.int32 == np.dtype(int).type`.\n",
      "  if np.issubdtype(mask.dtype, np.int):\n"
     ]
    },
    {
     "name": "stdout",
     "output_type": "stream",
     "text": [
      "Thresh=7.136597726174175e-05, n=38, R2 Score: 0.9811548471582208\n"
     ]
    },
    {
     "name": "stderr",
     "output_type": "stream",
     "text": [
      "C:\\ProgramData\\Anaconda3\\lib\\site-packages\\sklearn\\utils\\__init__.py:54: FutureWarning: Conversion of the second argument of issubdtype from `int` to `np.signedinteger` is deprecated. In future, it will be treated as `np.int32 == np.dtype(int).type`.\n",
      "  if np.issubdtype(mask.dtype, np.int):\n"
     ]
    },
    {
     "name": "stdout",
     "output_type": "stream",
     "text": [
      "Thresh=0.0005530306465337167, n=37, R2 Score: 0.9808282218008332\n"
     ]
    },
    {
     "name": "stderr",
     "output_type": "stream",
     "text": [
      "C:\\ProgramData\\Anaconda3\\lib\\site-packages\\sklearn\\utils\\__init__.py:54: FutureWarning: Conversion of the second argument of issubdtype from `int` to `np.signedinteger` is deprecated. In future, it will be treated as `np.int32 == np.dtype(int).type`.\n",
      "  if np.issubdtype(mask.dtype, np.int):\n"
     ]
    },
    {
     "name": "stdout",
     "output_type": "stream",
     "text": [
      "Thresh=0.0007455955624731079, n=36, R2 Score: 0.981714209646666\n"
     ]
    },
    {
     "name": "stderr",
     "output_type": "stream",
     "text": [
      "C:\\ProgramData\\Anaconda3\\lib\\site-packages\\sklearn\\utils\\__init__.py:54: FutureWarning: Conversion of the second argument of issubdtype from `int` to `np.signedinteger` is deprecated. In future, it will be treated as `np.int32 == np.dtype(int).type`.\n",
      "  if np.issubdtype(mask.dtype, np.int):\n"
     ]
    },
    {
     "name": "stdout",
     "output_type": "stream",
     "text": [
      "Thresh=0.0010617309315061288, n=35, R2 Score: 0.9814721785686835\n"
     ]
    },
    {
     "name": "stderr",
     "output_type": "stream",
     "text": [
      "C:\\ProgramData\\Anaconda3\\lib\\site-packages\\sklearn\\utils\\__init__.py:54: FutureWarning: Conversion of the second argument of issubdtype from `int` to `np.signedinteger` is deprecated. In future, it will be treated as `np.int32 == np.dtype(int).type`.\n",
      "  if np.issubdtype(mask.dtype, np.int):\n"
     ]
    },
    {
     "name": "stdout",
     "output_type": "stream",
     "text": [
      "Thresh=0.0010701950972074313, n=34, R2 Score: 0.9814617991178015\n"
     ]
    },
    {
     "name": "stderr",
     "output_type": "stream",
     "text": [
      "C:\\ProgramData\\Anaconda3\\lib\\site-packages\\sklearn\\utils\\__init__.py:54: FutureWarning: Conversion of the second argument of issubdtype from `int` to `np.signedinteger` is deprecated. In future, it will be treated as `np.int32 == np.dtype(int).type`.\n",
      "  if np.issubdtype(mask.dtype, np.int):\n"
     ]
    },
    {
     "name": "stdout",
     "output_type": "stream",
     "text": [
      "Thresh=0.0010802375112804125, n=33, R2 Score: 0.9811927720283609\n"
     ]
    },
    {
     "name": "stderr",
     "output_type": "stream",
     "text": [
      "C:\\ProgramData\\Anaconda3\\lib\\site-packages\\sklearn\\utils\\__init__.py:54: FutureWarning: Conversion of the second argument of issubdtype from `int` to `np.signedinteger` is deprecated. In future, it will be treated as `np.int32 == np.dtype(int).type`.\n",
      "  if np.issubdtype(mask.dtype, np.int):\n"
     ]
    },
    {
     "name": "stdout",
     "output_type": "stream",
     "text": [
      "Thresh=0.0010935631814048383, n=32, R2 Score: 0.9817035452056146\n"
     ]
    },
    {
     "name": "stderr",
     "output_type": "stream",
     "text": [
      "C:\\ProgramData\\Anaconda3\\lib\\site-packages\\sklearn\\utils\\__init__.py:54: FutureWarning: Conversion of the second argument of issubdtype from `int` to `np.signedinteger` is deprecated. In future, it will be treated as `np.int32 == np.dtype(int).type`.\n",
      "  if np.issubdtype(mask.dtype, np.int):\n"
     ]
    },
    {
     "name": "stdout",
     "output_type": "stream",
     "text": [
      "Thresh=0.0011062201509682713, n=31, R2 Score: 0.9813192895113226\n"
     ]
    },
    {
     "name": "stderr",
     "output_type": "stream",
     "text": [
      "C:\\ProgramData\\Anaconda3\\lib\\site-packages\\sklearn\\utils\\__init__.py:54: FutureWarning: Conversion of the second argument of issubdtype from `int` to `np.signedinteger` is deprecated. In future, it will be treated as `np.int32 == np.dtype(int).type`.\n",
      "  if np.issubdtype(mask.dtype, np.int):\n"
     ]
    },
    {
     "name": "stdout",
     "output_type": "stream",
     "text": [
      "Thresh=0.001309195261303278, n=30, R2 Score: 0.9817370191464853\n"
     ]
    },
    {
     "name": "stderr",
     "output_type": "stream",
     "text": [
      "C:\\ProgramData\\Anaconda3\\lib\\site-packages\\sklearn\\utils\\__init__.py:54: FutureWarning: Conversion of the second argument of issubdtype from `int` to `np.signedinteger` is deprecated. In future, it will be treated as `np.int32 == np.dtype(int).type`.\n",
      "  if np.issubdtype(mask.dtype, np.int):\n"
     ]
    },
    {
     "name": "stdout",
     "output_type": "stream",
     "text": [
      "Thresh=0.0014055603812604968, n=29, R2 Score: 0.9819408712229665\n"
     ]
    },
    {
     "name": "stderr",
     "output_type": "stream",
     "text": [
      "C:\\ProgramData\\Anaconda3\\lib\\site-packages\\sklearn\\utils\\__init__.py:54: FutureWarning: Conversion of the second argument of issubdtype from `int` to `np.signedinteger` is deprecated. In future, it will be treated as `np.int32 == np.dtype(int).type`.\n",
      "  if np.issubdtype(mask.dtype, np.int):\n"
     ]
    },
    {
     "name": "stdout",
     "output_type": "stream",
     "text": [
      "Thresh=0.0014426445176411121, n=28, R2 Score: 0.980979711925558\n"
     ]
    },
    {
     "name": "stderr",
     "output_type": "stream",
     "text": [
      "C:\\ProgramData\\Anaconda3\\lib\\site-packages\\sklearn\\utils\\__init__.py:54: FutureWarning: Conversion of the second argument of issubdtype from `int` to `np.signedinteger` is deprecated. In future, it will be treated as `np.int32 == np.dtype(int).type`.\n",
      "  if np.issubdtype(mask.dtype, np.int):\n"
     ]
    },
    {
     "name": "stdout",
     "output_type": "stream",
     "text": [
      "Thresh=0.0016360193790240733, n=27, R2 Score: 0.9816827584704158\n"
     ]
    },
    {
     "name": "stderr",
     "output_type": "stream",
     "text": [
      "C:\\ProgramData\\Anaconda3\\lib\\site-packages\\sklearn\\utils\\__init__.py:54: FutureWarning: Conversion of the second argument of issubdtype from `int` to `np.signedinteger` is deprecated. In future, it will be treated as `np.int32 == np.dtype(int).type`.\n",
      "  if np.issubdtype(mask.dtype, np.int):\n"
     ]
    },
    {
     "name": "stdout",
     "output_type": "stream",
     "text": [
      "Thresh=0.002024948983977605, n=26, R2 Score: 0.9816686408682251\n"
     ]
    },
    {
     "name": "stderr",
     "output_type": "stream",
     "text": [
      "C:\\ProgramData\\Anaconda3\\lib\\site-packages\\sklearn\\utils\\__init__.py:54: FutureWarning: Conversion of the second argument of issubdtype from `int` to `np.signedinteger` is deprecated. In future, it will be treated as `np.int32 == np.dtype(int).type`.\n",
      "  if np.issubdtype(mask.dtype, np.int):\n"
     ]
    },
    {
     "name": "stdout",
     "output_type": "stream",
     "text": [
      "Thresh=0.0022048325092407202, n=25, R2 Score: 0.9814793680659075\n"
     ]
    },
    {
     "name": "stderr",
     "output_type": "stream",
     "text": [
      "C:\\ProgramData\\Anaconda3\\lib\\site-packages\\sklearn\\utils\\__init__.py:54: FutureWarning: Conversion of the second argument of issubdtype from `int` to `np.signedinteger` is deprecated. In future, it will be treated as `np.int32 == np.dtype(int).type`.\n",
      "  if np.issubdtype(mask.dtype, np.int):\n"
     ]
    },
    {
     "name": "stdout",
     "output_type": "stream",
     "text": [
      "Thresh=0.002999954632741723, n=24, R2 Score: 0.9811629442674491\n"
     ]
    },
    {
     "name": "stderr",
     "output_type": "stream",
     "text": [
      "C:\\ProgramData\\Anaconda3\\lib\\site-packages\\sklearn\\utils\\__init__.py:54: FutureWarning: Conversion of the second argument of issubdtype from `int` to `np.signedinteger` is deprecated. In future, it will be treated as `np.int32 == np.dtype(int).type`.\n",
      "  if np.issubdtype(mask.dtype, np.int):\n"
     ]
    },
    {
     "name": "stdout",
     "output_type": "stream",
     "text": [
      "Thresh=0.003209523701573474, n=23, R2 Score: 0.9821399220319444\n"
     ]
    },
    {
     "name": "stderr",
     "output_type": "stream",
     "text": [
      "C:\\ProgramData\\Anaconda3\\lib\\site-packages\\sklearn\\utils\\__init__.py:54: FutureWarning: Conversion of the second argument of issubdtype from `int` to `np.signedinteger` is deprecated. In future, it will be treated as `np.int32 == np.dtype(int).type`.\n",
      "  if np.issubdtype(mask.dtype, np.int):\n"
     ]
    },
    {
     "name": "stdout",
     "output_type": "stream",
     "text": [
      "Thresh=0.003907877014670301, n=22, R2 Score: 0.9802744199486014\n"
     ]
    },
    {
     "name": "stderr",
     "output_type": "stream",
     "text": [
      "C:\\ProgramData\\Anaconda3\\lib\\site-packages\\sklearn\\utils\\__init__.py:54: FutureWarning: Conversion of the second argument of issubdtype from `int` to `np.signedinteger` is deprecated. In future, it will be treated as `np.int32 == np.dtype(int).type`.\n",
      "  if np.issubdtype(mask.dtype, np.int):\n"
     ]
    },
    {
     "name": "stdout",
     "output_type": "stream",
     "text": [
      "Thresh=0.004310548901161228, n=21, R2 Score: 0.9811007401711174\n"
     ]
    },
    {
     "name": "stderr",
     "output_type": "stream",
     "text": [
      "C:\\ProgramData\\Anaconda3\\lib\\site-packages\\sklearn\\utils\\__init__.py:54: FutureWarning: Conversion of the second argument of issubdtype from `int` to `np.signedinteger` is deprecated. In future, it will be treated as `np.int32 == np.dtype(int).type`.\n",
      "  if np.issubdtype(mask.dtype, np.int):\n"
     ]
    },
    {
     "name": "stdout",
     "output_type": "stream",
     "text": [
      "Thresh=0.005381522897271114, n=20, R2 Score: 0.9815369651237051\n"
     ]
    },
    {
     "name": "stderr",
     "output_type": "stream",
     "text": [
      "C:\\ProgramData\\Anaconda3\\lib\\site-packages\\sklearn\\utils\\__init__.py:54: FutureWarning: Conversion of the second argument of issubdtype from `int` to `np.signedinteger` is deprecated. In future, it will be treated as `np.int32 == np.dtype(int).type`.\n",
      "  if np.issubdtype(mask.dtype, np.int):\n"
     ]
    },
    {
     "name": "stdout",
     "output_type": "stream",
     "text": [
      "Thresh=0.005723668261957655, n=19, R2 Score: 0.9811491521954306\n"
     ]
    },
    {
     "name": "stderr",
     "output_type": "stream",
     "text": [
      "C:\\ProgramData\\Anaconda3\\lib\\site-packages\\sklearn\\utils\\__init__.py:54: FutureWarning: Conversion of the second argument of issubdtype from `int` to `np.signedinteger` is deprecated. In future, it will be treated as `np.int32 == np.dtype(int).type`.\n",
      "  if np.issubdtype(mask.dtype, np.int):\n"
     ]
    },
    {
     "name": "stdout",
     "output_type": "stream",
     "text": [
      "Thresh=0.00578066634610048, n=18, R2 Score: 0.979542603918429\n"
     ]
    },
    {
     "name": "stderr",
     "output_type": "stream",
     "text": [
      "C:\\ProgramData\\Anaconda3\\lib\\site-packages\\sklearn\\utils\\__init__.py:54: FutureWarning: Conversion of the second argument of issubdtype from `int` to `np.signedinteger` is deprecated. In future, it will be treated as `np.int32 == np.dtype(int).type`.\n",
      "  if np.issubdtype(mask.dtype, np.int):\n"
     ]
    },
    {
     "name": "stdout",
     "output_type": "stream",
     "text": [
      "Thresh=0.009189696641827897, n=17, R2 Score: 0.9803228834042617\n"
     ]
    },
    {
     "name": "stderr",
     "output_type": "stream",
     "text": [
      "C:\\ProgramData\\Anaconda3\\lib\\site-packages\\sklearn\\utils\\__init__.py:54: FutureWarning: Conversion of the second argument of issubdtype from `int` to `np.signedinteger` is deprecated. In future, it will be treated as `np.int32 == np.dtype(int).type`.\n",
      "  if np.issubdtype(mask.dtype, np.int):\n"
     ]
    },
    {
     "name": "stdout",
     "output_type": "stream",
     "text": [
      "Thresh=0.009679175213993167, n=16, R2 Score: 0.9795783009036357\n"
     ]
    },
    {
     "name": "stderr",
     "output_type": "stream",
     "text": [
      "C:\\ProgramData\\Anaconda3\\lib\\site-packages\\sklearn\\utils\\__init__.py:54: FutureWarning: Conversion of the second argument of issubdtype from `int` to `np.signedinteger` is deprecated. In future, it will be treated as `np.int32 == np.dtype(int).type`.\n",
      "  if np.issubdtype(mask.dtype, np.int):\n"
     ]
    },
    {
     "name": "stdout",
     "output_type": "stream",
     "text": [
      "Thresh=0.011531439998126366, n=15, R2 Score: 0.9805027152265097\n"
     ]
    },
    {
     "name": "stderr",
     "output_type": "stream",
     "text": [
      "C:\\ProgramData\\Anaconda3\\lib\\site-packages\\sklearn\\utils\\__init__.py:54: FutureWarning: Conversion of the second argument of issubdtype from `int` to `np.signedinteger` is deprecated. In future, it will be treated as `np.int32 == np.dtype(int).type`.\n",
      "  if np.issubdtype(mask.dtype, np.int):\n"
     ]
    },
    {
     "name": "stdout",
     "output_type": "stream",
     "text": [
      "Thresh=0.011884985638544374, n=14, R2 Score: 0.9776730847443545\n"
     ]
    },
    {
     "name": "stderr",
     "output_type": "stream",
     "text": [
      "C:\\ProgramData\\Anaconda3\\lib\\site-packages\\sklearn\\utils\\__init__.py:54: FutureWarning: Conversion of the second argument of issubdtype from `int` to `np.signedinteger` is deprecated. In future, it will be treated as `np.int32 == np.dtype(int).type`.\n",
      "  if np.issubdtype(mask.dtype, np.int):\n"
     ]
    },
    {
     "name": "stdout",
     "output_type": "stream",
     "text": [
      "Thresh=0.012384728652273701, n=13, R2 Score: 0.9771196314151324\n"
     ]
    },
    {
     "name": "stderr",
     "output_type": "stream",
     "text": [
      "C:\\ProgramData\\Anaconda3\\lib\\site-packages\\sklearn\\utils\\__init__.py:54: FutureWarning: Conversion of the second argument of issubdtype from `int` to `np.signedinteger` is deprecated. In future, it will be treated as `np.int32 == np.dtype(int).type`.\n",
      "  if np.issubdtype(mask.dtype, np.int):\n"
     ]
    },
    {
     "name": "stdout",
     "output_type": "stream",
     "text": [
      "Thresh=0.01340176459028727, n=12, R2 Score: 0.9778291843279122\n"
     ]
    },
    {
     "name": "stderr",
     "output_type": "stream",
     "text": [
      "C:\\ProgramData\\Anaconda3\\lib\\site-packages\\sklearn\\utils\\__init__.py:54: FutureWarning: Conversion of the second argument of issubdtype from `int` to `np.signedinteger` is deprecated. In future, it will be treated as `np.int32 == np.dtype(int).type`.\n",
      "  if np.issubdtype(mask.dtype, np.int):\n"
     ]
    },
    {
     "name": "stdout",
     "output_type": "stream",
     "text": [
      "Thresh=0.014642545005781788, n=11, R2 Score: 0.9755163051607463\n"
     ]
    },
    {
     "name": "stderr",
     "output_type": "stream",
     "text": [
      "C:\\ProgramData\\Anaconda3\\lib\\site-packages\\sklearn\\utils\\__init__.py:54: FutureWarning: Conversion of the second argument of issubdtype from `int` to `np.signedinteger` is deprecated. In future, it will be treated as `np.int32 == np.dtype(int).type`.\n",
      "  if np.issubdtype(mask.dtype, np.int):\n"
     ]
    },
    {
     "name": "stdout",
     "output_type": "stream",
     "text": [
      "Thresh=0.015908556318583383, n=10, R2 Score: 0.975122102643961\n"
     ]
    },
    {
     "name": "stderr",
     "output_type": "stream",
     "text": [
      "C:\\ProgramData\\Anaconda3\\lib\\site-packages\\sklearn\\utils\\__init__.py:54: FutureWarning: Conversion of the second argument of issubdtype from `int` to `np.signedinteger` is deprecated. In future, it will be treated as `np.int32 == np.dtype(int).type`.\n",
      "  if np.issubdtype(mask.dtype, np.int):\n"
     ]
    },
    {
     "name": "stdout",
     "output_type": "stream",
     "text": [
      "Thresh=0.018552784604973754, n=9, R2 Score: 0.9770698718895299\n"
     ]
    },
    {
     "name": "stderr",
     "output_type": "stream",
     "text": [
      "C:\\ProgramData\\Anaconda3\\lib\\site-packages\\sklearn\\utils\\__init__.py:54: FutureWarning: Conversion of the second argument of issubdtype from `int` to `np.signedinteger` is deprecated. In future, it will be treated as `np.int32 == np.dtype(int).type`.\n",
      "  if np.issubdtype(mask.dtype, np.int):\n"
     ]
    },
    {
     "name": "stdout",
     "output_type": "stream",
     "text": [
      "Thresh=0.020817638944150552, n=8, R2 Score: 0.9701806508362969\n"
     ]
    },
    {
     "name": "stderr",
     "output_type": "stream",
     "text": [
      "C:\\ProgramData\\Anaconda3\\lib\\site-packages\\sklearn\\utils\\__init__.py:54: FutureWarning: Conversion of the second argument of issubdtype from `int` to `np.signedinteger` is deprecated. In future, it will be treated as `np.int32 == np.dtype(int).type`.\n",
      "  if np.issubdtype(mask.dtype, np.int):\n"
     ]
    },
    {
     "name": "stdout",
     "output_type": "stream",
     "text": [
      "Thresh=0.02280806881434438, n=7, R2 Score: 0.9664873603686911\n"
     ]
    },
    {
     "name": "stderr",
     "output_type": "stream",
     "text": [
      "C:\\ProgramData\\Anaconda3\\lib\\site-packages\\sklearn\\utils\\__init__.py:54: FutureWarning: Conversion of the second argument of issubdtype from `int` to `np.signedinteger` is deprecated. In future, it will be treated as `np.int32 == np.dtype(int).type`.\n",
      "  if np.issubdtype(mask.dtype, np.int):\n"
     ]
    },
    {
     "name": "stdout",
     "output_type": "stream",
     "text": [
      "Thresh=0.024225628607920432, n=6, R2 Score: 0.9659246524223978\n"
     ]
    },
    {
     "name": "stderr",
     "output_type": "stream",
     "text": [
      "C:\\ProgramData\\Anaconda3\\lib\\site-packages\\sklearn\\utils\\__init__.py:54: FutureWarning: Conversion of the second argument of issubdtype from `int` to `np.signedinteger` is deprecated. In future, it will be treated as `np.int32 == np.dtype(int).type`.\n",
      "  if np.issubdtype(mask.dtype, np.int):\n"
     ]
    },
    {
     "name": "stdout",
     "output_type": "stream",
     "text": [
      "Thresh=0.029965963925025537, n=5, R2 Score: 0.9549739922949713\n"
     ]
    },
    {
     "name": "stderr",
     "output_type": "stream",
     "text": [
      "C:\\ProgramData\\Anaconda3\\lib\\site-packages\\sklearn\\utils\\__init__.py:54: FutureWarning: Conversion of the second argument of issubdtype from `int` to `np.signedinteger` is deprecated. In future, it will be treated as `np.int32 == np.dtype(int).type`.\n",
      "  if np.issubdtype(mask.dtype, np.int):\n"
     ]
    },
    {
     "name": "stdout",
     "output_type": "stream",
     "text": [
      "Thresh=0.03366166969577767, n=4, R2 Score: 0.9502826850115341\n"
     ]
    },
    {
     "name": "stderr",
     "output_type": "stream",
     "text": [
      "C:\\ProgramData\\Anaconda3\\lib\\site-packages\\sklearn\\utils\\__init__.py:54: FutureWarning: Conversion of the second argument of issubdtype from `int` to `np.signedinteger` is deprecated. In future, it will be treated as `np.int32 == np.dtype(int).type`.\n",
      "  if np.issubdtype(mask.dtype, np.int):\n"
     ]
    },
    {
     "name": "stdout",
     "output_type": "stream",
     "text": [
      "Thresh=0.05616374013566766, n=3, R2 Score: 0.9217969409921305\n"
     ]
    },
    {
     "name": "stderr",
     "output_type": "stream",
     "text": [
      "C:\\ProgramData\\Anaconda3\\lib\\site-packages\\sklearn\\utils\\__init__.py:54: FutureWarning: Conversion of the second argument of issubdtype from `int` to `np.signedinteger` is deprecated. In future, it will be treated as `np.int32 == np.dtype(int).type`.\n",
      "  if np.issubdtype(mask.dtype, np.int):\n"
     ]
    },
    {
     "name": "stdout",
     "output_type": "stream",
     "text": [
      "Thresh=0.08324736105661967, n=2, R2 Score: 0.83355146374394\n"
     ]
    },
    {
     "name": "stderr",
     "output_type": "stream",
     "text": [
      "C:\\ProgramData\\Anaconda3\\lib\\site-packages\\sklearn\\utils\\__init__.py:54: FutureWarning: Conversion of the second argument of issubdtype from `int` to `np.signedinteger` is deprecated. In future, it will be treated as `np.int32 == np.dtype(int).type`.\n",
      "  if np.issubdtype(mask.dtype, np.int):\n"
     ]
    },
    {
     "name": "stdout",
     "output_type": "stream",
     "text": [
      "Thresh=0.5636212485744643, n=1, R2 Score: 0.6835432177112233\n",
      "\n",
      "\n",
      "------------------------------------------\n",
      "\n",
      "\n",
      "Table [REP_HIST_SYSMETRIC_SUMMARY] RFR R2 Score: 0.8873312309340674\n"
     ]
    },
    {
     "name": "stderr",
     "output_type": "stream",
     "text": [
      "C:\\ProgramData\\Anaconda3\\lib\\site-packages\\sklearn\\utils\\__init__.py:54: FutureWarning: Conversion of the second argument of issubdtype from `int` to `np.signedinteger` is deprecated. In future, it will be treated as `np.int32 == np.dtype(int).type`.\n",
      "  if np.issubdtype(mask.dtype, np.int):\n",
      "C:\\ProgramData\\Anaconda3\\lib\\site-packages\\sklearn\\utils\\__init__.py:54: FutureWarning: Conversion of the second argument of issubdtype from `int` to `np.signedinteger` is deprecated. In future, it will be treated as `np.int32 == np.dtype(int).type`.\n",
      "  if np.issubdtype(mask.dtype, np.int):\n"
     ]
    },
    {
     "name": "stdout",
     "output_type": "stream",
     "text": [
      "Thresh=0.0, n=140, R2 Score: 0.880293332114079\n"
     ]
    },
    {
     "name": "stderr",
     "output_type": "stream",
     "text": [
      "C:\\ProgramData\\Anaconda3\\lib\\site-packages\\sklearn\\utils\\__init__.py:54: FutureWarning: Conversion of the second argument of issubdtype from `int` to `np.signedinteger` is deprecated. In future, it will be treated as `np.int32 == np.dtype(int).type`.\n",
      "  if np.issubdtype(mask.dtype, np.int):\n"
     ]
    },
    {
     "name": "stdout",
     "output_type": "stream",
     "text": [
      "Thresh=0.0, n=140, R2 Score: 0.8851156834720922\n"
     ]
    },
    {
     "name": "stderr",
     "output_type": "stream",
     "text": [
      "C:\\ProgramData\\Anaconda3\\lib\\site-packages\\sklearn\\utils\\__init__.py:54: FutureWarning: Conversion of the second argument of issubdtype from `int` to `np.signedinteger` is deprecated. In future, it will be treated as `np.int32 == np.dtype(int).type`.\n",
      "  if np.issubdtype(mask.dtype, np.int):\n"
     ]
    },
    {
     "name": "stdout",
     "output_type": "stream",
     "text": [
      "Thresh=0.0, n=140, R2 Score: 0.8838256764274572\n"
     ]
    },
    {
     "name": "stderr",
     "output_type": "stream",
     "text": [
      "C:\\ProgramData\\Anaconda3\\lib\\site-packages\\sklearn\\utils\\__init__.py:54: FutureWarning: Conversion of the second argument of issubdtype from `int` to `np.signedinteger` is deprecated. In future, it will be treated as `np.int32 == np.dtype(int).type`.\n",
      "  if np.issubdtype(mask.dtype, np.int):\n"
     ]
    },
    {
     "name": "stdout",
     "output_type": "stream",
     "text": [
      "Thresh=0.0, n=140, R2 Score: 0.8853245895548\n"
     ]
    },
    {
     "name": "stderr",
     "output_type": "stream",
     "text": [
      "C:\\ProgramData\\Anaconda3\\lib\\site-packages\\sklearn\\utils\\__init__.py:54: FutureWarning: Conversion of the second argument of issubdtype from `int` to `np.signedinteger` is deprecated. In future, it will be treated as `np.int32 == np.dtype(int).type`.\n",
      "  if np.issubdtype(mask.dtype, np.int):\n"
     ]
    },
    {
     "name": "stdout",
     "output_type": "stream",
     "text": [
      "Thresh=0.0, n=140, R2 Score: 0.8846026549061103\n"
     ]
    },
    {
     "name": "stderr",
     "output_type": "stream",
     "text": [
      "C:\\ProgramData\\Anaconda3\\lib\\site-packages\\sklearn\\utils\\__init__.py:54: FutureWarning: Conversion of the second argument of issubdtype from `int` to `np.signedinteger` is deprecated. In future, it will be treated as `np.int32 == np.dtype(int).type`.\n",
      "  if np.issubdtype(mask.dtype, np.int):\n"
     ]
    },
    {
     "name": "stdout",
     "output_type": "stream",
     "text": [
      "Thresh=0.0, n=140, R2 Score: 0.8837756888754796\n"
     ]
    },
    {
     "name": "stderr",
     "output_type": "stream",
     "text": [
      "C:\\ProgramData\\Anaconda3\\lib\\site-packages\\sklearn\\utils\\__init__.py:54: FutureWarning: Conversion of the second argument of issubdtype from `int` to `np.signedinteger` is deprecated. In future, it will be treated as `np.int32 == np.dtype(int).type`.\n",
      "  if np.issubdtype(mask.dtype, np.int):\n"
     ]
    },
    {
     "name": "stdout",
     "output_type": "stream",
     "text": [
      "Thresh=0.0, n=140, R2 Score: 0.8852107784771638\n"
     ]
    },
    {
     "name": "stderr",
     "output_type": "stream",
     "text": [
      "C:\\ProgramData\\Anaconda3\\lib\\site-packages\\sklearn\\utils\\__init__.py:54: FutureWarning: Conversion of the second argument of issubdtype from `int` to `np.signedinteger` is deprecated. In future, it will be treated as `np.int32 == np.dtype(int).type`.\n",
      "  if np.issubdtype(mask.dtype, np.int):\n"
     ]
    },
    {
     "name": "stdout",
     "output_type": "stream",
     "text": [
      "Thresh=0.0, n=140, R2 Score: 0.8846578276020605\n"
     ]
    },
    {
     "name": "stderr",
     "output_type": "stream",
     "text": [
      "C:\\ProgramData\\Anaconda3\\lib\\site-packages\\sklearn\\utils\\__init__.py:54: FutureWarning: Conversion of the second argument of issubdtype from `int` to `np.signedinteger` is deprecated. In future, it will be treated as `np.int32 == np.dtype(int).type`.\n",
      "  if np.issubdtype(mask.dtype, np.int):\n"
     ]
    },
    {
     "name": "stdout",
     "output_type": "stream",
     "text": [
      "Thresh=0.0, n=140, R2 Score: 0.886287415820135\n"
     ]
    },
    {
     "name": "stderr",
     "output_type": "stream",
     "text": [
      "C:\\ProgramData\\Anaconda3\\lib\\site-packages\\sklearn\\utils\\__init__.py:54: FutureWarning: Conversion of the second argument of issubdtype from `int` to `np.signedinteger` is deprecated. In future, it will be treated as `np.int32 == np.dtype(int).type`.\n",
      "  if np.issubdtype(mask.dtype, np.int):\n"
     ]
    },
    {
     "name": "stdout",
     "output_type": "stream",
     "text": [
      "Thresh=0.0, n=140, R2 Score: 0.8871812832191187\n"
     ]
    },
    {
     "name": "stderr",
     "output_type": "stream",
     "text": [
      "C:\\ProgramData\\Anaconda3\\lib\\site-packages\\sklearn\\utils\\__init__.py:54: FutureWarning: Conversion of the second argument of issubdtype from `int` to `np.signedinteger` is deprecated. In future, it will be treated as `np.int32 == np.dtype(int).type`.\n",
      "  if np.issubdtype(mask.dtype, np.int):\n"
     ]
    },
    {
     "name": "stdout",
     "output_type": "stream",
     "text": [
      "Thresh=0.0, n=140, R2 Score: 0.887119365291455\n"
     ]
    },
    {
     "name": "stderr",
     "output_type": "stream",
     "text": [
      "C:\\ProgramData\\Anaconda3\\lib\\site-packages\\sklearn\\utils\\__init__.py:54: FutureWarning: Conversion of the second argument of issubdtype from `int` to `np.signedinteger` is deprecated. In future, it will be treated as `np.int32 == np.dtype(int).type`.\n",
      "  if np.issubdtype(mask.dtype, np.int):\n"
     ]
    },
    {
     "name": "stdout",
     "output_type": "stream",
     "text": [
      "Thresh=0.0, n=140, R2 Score: 0.8857792642403318\n"
     ]
    },
    {
     "name": "stderr",
     "output_type": "stream",
     "text": [
      "C:\\ProgramData\\Anaconda3\\lib\\site-packages\\sklearn\\utils\\__init__.py:54: FutureWarning: Conversion of the second argument of issubdtype from `int` to `np.signedinteger` is deprecated. In future, it will be treated as `np.int32 == np.dtype(int).type`.\n",
      "  if np.issubdtype(mask.dtype, np.int):\n"
     ]
    },
    {
     "name": "stdout",
     "output_type": "stream",
     "text": [
      "Thresh=0.0, n=140, R2 Score: 0.8843463971100106\n"
     ]
    },
    {
     "name": "stderr",
     "output_type": "stream",
     "text": [
      "C:\\ProgramData\\Anaconda3\\lib\\site-packages\\sklearn\\utils\\__init__.py:54: FutureWarning: Conversion of the second argument of issubdtype from `int` to `np.signedinteger` is deprecated. In future, it will be treated as `np.int32 == np.dtype(int).type`.\n",
      "  if np.issubdtype(mask.dtype, np.int):\n"
     ]
    },
    {
     "name": "stdout",
     "output_type": "stream",
     "text": [
      "Thresh=0.0, n=140, R2 Score: 0.8823447584702034\n"
     ]
    },
    {
     "name": "stderr",
     "output_type": "stream",
     "text": [
      "C:\\ProgramData\\Anaconda3\\lib\\site-packages\\sklearn\\utils\\__init__.py:54: FutureWarning: Conversion of the second argument of issubdtype from `int` to `np.signedinteger` is deprecated. In future, it will be treated as `np.int32 == np.dtype(int).type`.\n",
      "  if np.issubdtype(mask.dtype, np.int):\n"
     ]
    },
    {
     "name": "stdout",
     "output_type": "stream",
     "text": [
      "Thresh=0.0, n=140, R2 Score: 0.8839000034648347\n"
     ]
    },
    {
     "name": "stderr",
     "output_type": "stream",
     "text": [
      "C:\\ProgramData\\Anaconda3\\lib\\site-packages\\sklearn\\utils\\__init__.py:54: FutureWarning: Conversion of the second argument of issubdtype from `int` to `np.signedinteger` is deprecated. In future, it will be treated as `np.int32 == np.dtype(int).type`.\n",
      "  if np.issubdtype(mask.dtype, np.int):\n"
     ]
    },
    {
     "name": "stdout",
     "output_type": "stream",
     "text": [
      "Thresh=0.0, n=140, R2 Score: 0.8864331234083462\n"
     ]
    },
    {
     "name": "stderr",
     "output_type": "stream",
     "text": [
      "C:\\ProgramData\\Anaconda3\\lib\\site-packages\\sklearn\\utils\\__init__.py:54: FutureWarning: Conversion of the second argument of issubdtype from `int` to `np.signedinteger` is deprecated. In future, it will be treated as `np.int32 == np.dtype(int).type`.\n",
      "  if np.issubdtype(mask.dtype, np.int):\n"
     ]
    },
    {
     "name": "stdout",
     "output_type": "stream",
     "text": [
      "Thresh=0.0, n=140, R2 Score: 0.8844698152403284\n"
     ]
    },
    {
     "name": "stderr",
     "output_type": "stream",
     "text": [
      "C:\\ProgramData\\Anaconda3\\lib\\site-packages\\sklearn\\utils\\__init__.py:54: FutureWarning: Conversion of the second argument of issubdtype from `int` to `np.signedinteger` is deprecated. In future, it will be treated as `np.int32 == np.dtype(int).type`.\n",
      "  if np.issubdtype(mask.dtype, np.int):\n"
     ]
    },
    {
     "name": "stdout",
     "output_type": "stream",
     "text": [
      "Thresh=0.0, n=140, R2 Score: 0.8838718558961498\n"
     ]
    },
    {
     "name": "stderr",
     "output_type": "stream",
     "text": [
      "C:\\ProgramData\\Anaconda3\\lib\\site-packages\\sklearn\\utils\\__init__.py:54: FutureWarning: Conversion of the second argument of issubdtype from `int` to `np.signedinteger` is deprecated. In future, it will be treated as `np.int32 == np.dtype(int).type`.\n",
      "  if np.issubdtype(mask.dtype, np.int):\n"
     ]
    },
    {
     "name": "stdout",
     "output_type": "stream",
     "text": [
      "Thresh=0.0, n=140, R2 Score: 0.8847578157793765\n"
     ]
    },
    {
     "name": "stderr",
     "output_type": "stream",
     "text": [
      "C:\\ProgramData\\Anaconda3\\lib\\site-packages\\sklearn\\utils\\__init__.py:54: FutureWarning: Conversion of the second argument of issubdtype from `int` to `np.signedinteger` is deprecated. In future, it will be treated as `np.int32 == np.dtype(int).type`.\n",
      "  if np.issubdtype(mask.dtype, np.int):\n"
     ]
    },
    {
     "name": "stdout",
     "output_type": "stream",
     "text": [
      "Thresh=0.0, n=140, R2 Score: 0.8856286242597933\n"
     ]
    },
    {
     "name": "stderr",
     "output_type": "stream",
     "text": [
      "C:\\ProgramData\\Anaconda3\\lib\\site-packages\\sklearn\\utils\\__init__.py:54: FutureWarning: Conversion of the second argument of issubdtype from `int` to `np.signedinteger` is deprecated. In future, it will be treated as `np.int32 == np.dtype(int).type`.\n",
      "  if np.issubdtype(mask.dtype, np.int):\n"
     ]
    },
    {
     "name": "stdout",
     "output_type": "stream",
     "text": [
      "Thresh=0.0, n=140, R2 Score: 0.8845716685504746\n"
     ]
    },
    {
     "name": "stderr",
     "output_type": "stream",
     "text": [
      "C:\\ProgramData\\Anaconda3\\lib\\site-packages\\sklearn\\utils\\__init__.py:54: FutureWarning: Conversion of the second argument of issubdtype from `int` to `np.signedinteger` is deprecated. In future, it will be treated as `np.int32 == np.dtype(int).type`.\n",
      "  if np.issubdtype(mask.dtype, np.int):\n"
     ]
    },
    {
     "name": "stdout",
     "output_type": "stream",
     "text": [
      "Thresh=0.0, n=140, R2 Score: 0.8846150864273\n"
     ]
    },
    {
     "name": "stderr",
     "output_type": "stream",
     "text": [
      "C:\\ProgramData\\Anaconda3\\lib\\site-packages\\sklearn\\utils\\__init__.py:54: FutureWarning: Conversion of the second argument of issubdtype from `int` to `np.signedinteger` is deprecated. In future, it will be treated as `np.int32 == np.dtype(int).type`.\n",
      "  if np.issubdtype(mask.dtype, np.int):\n"
     ]
    },
    {
     "name": "stdout",
     "output_type": "stream",
     "text": [
      "Thresh=0.0, n=140, R2 Score: 0.885341628501916\n"
     ]
    },
    {
     "name": "stderr",
     "output_type": "stream",
     "text": [
      "C:\\ProgramData\\Anaconda3\\lib\\site-packages\\sklearn\\utils\\__init__.py:54: FutureWarning: Conversion of the second argument of issubdtype from `int` to `np.signedinteger` is deprecated. In future, it will be treated as `np.int32 == np.dtype(int).type`.\n",
      "  if np.issubdtype(mask.dtype, np.int):\n"
     ]
    },
    {
     "name": "stdout",
     "output_type": "stream",
     "text": [
      "Thresh=0.0, n=140, R2 Score: 0.8839667193159702\n"
     ]
    },
    {
     "name": "stderr",
     "output_type": "stream",
     "text": [
      "C:\\ProgramData\\Anaconda3\\lib\\site-packages\\sklearn\\utils\\__init__.py:54: FutureWarning: Conversion of the second argument of issubdtype from `int` to `np.signedinteger` is deprecated. In future, it will be treated as `np.int32 == np.dtype(int).type`.\n",
      "  if np.issubdtype(mask.dtype, np.int):\n"
     ]
    },
    {
     "name": "stdout",
     "output_type": "stream",
     "text": [
      "Thresh=0.0, n=140, R2 Score: 0.8872831956706597\n"
     ]
    },
    {
     "name": "stderr",
     "output_type": "stream",
     "text": [
      "C:\\ProgramData\\Anaconda3\\lib\\site-packages\\sklearn\\utils\\__init__.py:54: FutureWarning: Conversion of the second argument of issubdtype from `int` to `np.signedinteger` is deprecated. In future, it will be treated as `np.int32 == np.dtype(int).type`.\n",
      "  if np.issubdtype(mask.dtype, np.int):\n"
     ]
    },
    {
     "name": "stdout",
     "output_type": "stream",
     "text": [
      "Thresh=0.0, n=140, R2 Score: 0.8858821559488627\n"
     ]
    },
    {
     "name": "stderr",
     "output_type": "stream",
     "text": [
      "C:\\ProgramData\\Anaconda3\\lib\\site-packages\\sklearn\\utils\\__init__.py:54: FutureWarning: Conversion of the second argument of issubdtype from `int` to `np.signedinteger` is deprecated. In future, it will be treated as `np.int32 == np.dtype(int).type`.\n",
      "  if np.issubdtype(mask.dtype, np.int):\n"
     ]
    },
    {
     "name": "stdout",
     "output_type": "stream",
     "text": [
      "Thresh=0.0, n=140, R2 Score: 0.8847639011176323\n"
     ]
    },
    {
     "name": "stderr",
     "output_type": "stream",
     "text": [
      "C:\\ProgramData\\Anaconda3\\lib\\site-packages\\sklearn\\utils\\__init__.py:54: FutureWarning: Conversion of the second argument of issubdtype from `int` to `np.signedinteger` is deprecated. In future, it will be treated as `np.int32 == np.dtype(int).type`.\n",
      "  if np.issubdtype(mask.dtype, np.int):\n"
     ]
    },
    {
     "name": "stdout",
     "output_type": "stream",
     "text": [
      "Thresh=0.0, n=140, R2 Score: 0.8850185322141042\n"
     ]
    },
    {
     "name": "stderr",
     "output_type": "stream",
     "text": [
      "C:\\ProgramData\\Anaconda3\\lib\\site-packages\\sklearn\\utils\\__init__.py:54: FutureWarning: Conversion of the second argument of issubdtype from `int` to `np.signedinteger` is deprecated. In future, it will be treated as `np.int32 == np.dtype(int).type`.\n",
      "  if np.issubdtype(mask.dtype, np.int):\n"
     ]
    },
    {
     "name": "stdout",
     "output_type": "stream",
     "text": [
      "Thresh=0.0, n=140, R2 Score: 0.8872351093588902\n"
     ]
    },
    {
     "name": "stderr",
     "output_type": "stream",
     "text": [
      "C:\\ProgramData\\Anaconda3\\lib\\site-packages\\sklearn\\utils\\__init__.py:54: FutureWarning: Conversion of the second argument of issubdtype from `int` to `np.signedinteger` is deprecated. In future, it will be treated as `np.int32 == np.dtype(int).type`.\n",
      "  if np.issubdtype(mask.dtype, np.int):\n"
     ]
    },
    {
     "name": "stdout",
     "output_type": "stream",
     "text": [
      "Thresh=0.0, n=140, R2 Score: 0.8849755034254025\n"
     ]
    },
    {
     "name": "stderr",
     "output_type": "stream",
     "text": [
      "C:\\ProgramData\\Anaconda3\\lib\\site-packages\\sklearn\\utils\\__init__.py:54: FutureWarning: Conversion of the second argument of issubdtype from `int` to `np.signedinteger` is deprecated. In future, it will be treated as `np.int32 == np.dtype(int).type`.\n",
      "  if np.issubdtype(mask.dtype, np.int):\n"
     ]
    },
    {
     "name": "stdout",
     "output_type": "stream",
     "text": [
      "Thresh=0.0, n=140, R2 Score: 0.8855455200168847\n"
     ]
    },
    {
     "name": "stderr",
     "output_type": "stream",
     "text": [
      "C:\\ProgramData\\Anaconda3\\lib\\site-packages\\sklearn\\utils\\__init__.py:54: FutureWarning: Conversion of the second argument of issubdtype from `int` to `np.signedinteger` is deprecated. In future, it will be treated as `np.int32 == np.dtype(int).type`.\n",
      "  if np.issubdtype(mask.dtype, np.int):\n"
     ]
    },
    {
     "name": "stdout",
     "output_type": "stream",
     "text": [
      "Thresh=0.0, n=140, R2 Score: 0.8830468932024508\n"
     ]
    },
    {
     "name": "stderr",
     "output_type": "stream",
     "text": [
      "C:\\ProgramData\\Anaconda3\\lib\\site-packages\\sklearn\\utils\\__init__.py:54: FutureWarning: Conversion of the second argument of issubdtype from `int` to `np.signedinteger` is deprecated. In future, it will be treated as `np.int32 == np.dtype(int).type`.\n",
      "  if np.issubdtype(mask.dtype, np.int):\n"
     ]
    },
    {
     "name": "stdout",
     "output_type": "stream",
     "text": [
      "Thresh=0.0, n=140, R2 Score: 0.8847701489390885\n"
     ]
    },
    {
     "name": "stderr",
     "output_type": "stream",
     "text": [
      "C:\\ProgramData\\Anaconda3\\lib\\site-packages\\sklearn\\utils\\__init__.py:54: FutureWarning: Conversion of the second argument of issubdtype from `int` to `np.signedinteger` is deprecated. In future, it will be treated as `np.int32 == np.dtype(int).type`.\n",
      "  if np.issubdtype(mask.dtype, np.int):\n"
     ]
    },
    {
     "name": "stdout",
     "output_type": "stream",
     "text": [
      "Thresh=0.0, n=140, R2 Score: 0.8832800298258838\n"
     ]
    },
    {
     "name": "stderr",
     "output_type": "stream",
     "text": [
      "C:\\ProgramData\\Anaconda3\\lib\\site-packages\\sklearn\\utils\\__init__.py:54: FutureWarning: Conversion of the second argument of issubdtype from `int` to `np.signedinteger` is deprecated. In future, it will be treated as `np.int32 == np.dtype(int).type`.\n",
      "  if np.issubdtype(mask.dtype, np.int):\n"
     ]
    },
    {
     "name": "stdout",
     "output_type": "stream",
     "text": [
      "Thresh=0.0, n=140, R2 Score: 0.8833987689380605\n"
     ]
    },
    {
     "name": "stderr",
     "output_type": "stream",
     "text": [
      "C:\\ProgramData\\Anaconda3\\lib\\site-packages\\sklearn\\utils\\__init__.py:54: FutureWarning: Conversion of the second argument of issubdtype from `int` to `np.signedinteger` is deprecated. In future, it will be treated as `np.int32 == np.dtype(int).type`.\n",
      "  if np.issubdtype(mask.dtype, np.int):\n"
     ]
    },
    {
     "name": "stdout",
     "output_type": "stream",
     "text": [
      "Thresh=0.0, n=140, R2 Score: 0.8863013227634899\n"
     ]
    },
    {
     "name": "stderr",
     "output_type": "stream",
     "text": [
      "C:\\ProgramData\\Anaconda3\\lib\\site-packages\\sklearn\\utils\\__init__.py:54: FutureWarning: Conversion of the second argument of issubdtype from `int` to `np.signedinteger` is deprecated. In future, it will be treated as `np.int32 == np.dtype(int).type`.\n",
      "  if np.issubdtype(mask.dtype, np.int):\n"
     ]
    },
    {
     "name": "stdout",
     "output_type": "stream",
     "text": [
      "Thresh=0.0, n=140, R2 Score: 0.8852080193754606\n"
     ]
    },
    {
     "name": "stderr",
     "output_type": "stream",
     "text": [
      "C:\\ProgramData\\Anaconda3\\lib\\site-packages\\sklearn\\utils\\__init__.py:54: FutureWarning: Conversion of the second argument of issubdtype from `int` to `np.signedinteger` is deprecated. In future, it will be treated as `np.int32 == np.dtype(int).type`.\n",
      "  if np.issubdtype(mask.dtype, np.int):\n"
     ]
    },
    {
     "name": "stdout",
     "output_type": "stream",
     "text": [
      "Thresh=0.0, n=140, R2 Score: 0.8818161109731221\n"
     ]
    },
    {
     "name": "stderr",
     "output_type": "stream",
     "text": [
      "C:\\ProgramData\\Anaconda3\\lib\\site-packages\\sklearn\\utils\\__init__.py:54: FutureWarning: Conversion of the second argument of issubdtype from `int` to `np.signedinteger` is deprecated. In future, it will be treated as `np.int32 == np.dtype(int).type`.\n",
      "  if np.issubdtype(mask.dtype, np.int):\n"
     ]
    },
    {
     "name": "stdout",
     "output_type": "stream",
     "text": [
      "Thresh=0.0, n=140, R2 Score: 0.887034177403826\n"
     ]
    },
    {
     "name": "stderr",
     "output_type": "stream",
     "text": [
      "C:\\ProgramData\\Anaconda3\\lib\\site-packages\\sklearn\\utils\\__init__.py:54: FutureWarning: Conversion of the second argument of issubdtype from `int` to `np.signedinteger` is deprecated. In future, it will be treated as `np.int32 == np.dtype(int).type`.\n",
      "  if np.issubdtype(mask.dtype, np.int):\n"
     ]
    },
    {
     "name": "stdout",
     "output_type": "stream",
     "text": [
      "Thresh=0.0, n=140, R2 Score: 0.8844289329729881\n"
     ]
    },
    {
     "name": "stderr",
     "output_type": "stream",
     "text": [
      "C:\\ProgramData\\Anaconda3\\lib\\site-packages\\sklearn\\utils\\__init__.py:54: FutureWarning: Conversion of the second argument of issubdtype from `int` to `np.signedinteger` is deprecated. In future, it will be treated as `np.int32 == np.dtype(int).type`.\n",
      "  if np.issubdtype(mask.dtype, np.int):\n"
     ]
    },
    {
     "name": "stdout",
     "output_type": "stream",
     "text": [
      "Thresh=0.0, n=140, R2 Score: 0.8817773490804209\n"
     ]
    },
    {
     "name": "stderr",
     "output_type": "stream",
     "text": [
      "C:\\ProgramData\\Anaconda3\\lib\\site-packages\\sklearn\\utils\\__init__.py:54: FutureWarning: Conversion of the second argument of issubdtype from `int` to `np.signedinteger` is deprecated. In future, it will be treated as `np.int32 == np.dtype(int).type`.\n",
      "  if np.issubdtype(mask.dtype, np.int):\n"
     ]
    },
    {
     "name": "stdout",
     "output_type": "stream",
     "text": [
      "Thresh=0.0, n=140, R2 Score: 0.8868815042043879\n"
     ]
    },
    {
     "name": "stderr",
     "output_type": "stream",
     "text": [
      "C:\\ProgramData\\Anaconda3\\lib\\site-packages\\sklearn\\utils\\__init__.py:54: FutureWarning: Conversion of the second argument of issubdtype from `int` to `np.signedinteger` is deprecated. In future, it will be treated as `np.int32 == np.dtype(int).type`.\n",
      "  if np.issubdtype(mask.dtype, np.int):\n"
     ]
    },
    {
     "name": "stdout",
     "output_type": "stream",
     "text": [
      "Thresh=0.0, n=140, R2 Score: 0.8867091033032635\n"
     ]
    },
    {
     "name": "stderr",
     "output_type": "stream",
     "text": [
      "C:\\ProgramData\\Anaconda3\\lib\\site-packages\\sklearn\\utils\\__init__.py:54: FutureWarning: Conversion of the second argument of issubdtype from `int` to `np.signedinteger` is deprecated. In future, it will be treated as `np.int32 == np.dtype(int).type`.\n",
      "  if np.issubdtype(mask.dtype, np.int):\n"
     ]
    },
    {
     "name": "stdout",
     "output_type": "stream",
     "text": [
      "Thresh=0.0, n=140, R2 Score: 0.8858844319587514\n"
     ]
    },
    {
     "name": "stderr",
     "output_type": "stream",
     "text": [
      "C:\\ProgramData\\Anaconda3\\lib\\site-packages\\sklearn\\utils\\__init__.py:54: FutureWarning: Conversion of the second argument of issubdtype from `int` to `np.signedinteger` is deprecated. In future, it will be treated as `np.int32 == np.dtype(int).type`.\n",
      "  if np.issubdtype(mask.dtype, np.int):\n"
     ]
    },
    {
     "name": "stdout",
     "output_type": "stream",
     "text": [
      "Thresh=0.0, n=140, R2 Score: 0.8834443775366578\n"
     ]
    },
    {
     "name": "stderr",
     "output_type": "stream",
     "text": [
      "C:\\ProgramData\\Anaconda3\\lib\\site-packages\\sklearn\\utils\\__init__.py:54: FutureWarning: Conversion of the second argument of issubdtype from `int` to `np.signedinteger` is deprecated. In future, it will be treated as `np.int32 == np.dtype(int).type`.\n",
      "  if np.issubdtype(mask.dtype, np.int):\n"
     ]
    },
    {
     "name": "stdout",
     "output_type": "stream",
     "text": [
      "Thresh=0.0, n=140, R2 Score: 0.8835832558501207\n"
     ]
    },
    {
     "name": "stderr",
     "output_type": "stream",
     "text": [
      "C:\\ProgramData\\Anaconda3\\lib\\site-packages\\sklearn\\utils\\__init__.py:54: FutureWarning: Conversion of the second argument of issubdtype from `int` to `np.signedinteger` is deprecated. In future, it will be treated as `np.int32 == np.dtype(int).type`.\n",
      "  if np.issubdtype(mask.dtype, np.int):\n"
     ]
    },
    {
     "name": "stdout",
     "output_type": "stream",
     "text": [
      "Thresh=0.0, n=140, R2 Score: 0.8846211954221136\n"
     ]
    },
    {
     "name": "stderr",
     "output_type": "stream",
     "text": [
      "C:\\ProgramData\\Anaconda3\\lib\\site-packages\\sklearn\\utils\\__init__.py:54: FutureWarning: Conversion of the second argument of issubdtype from `int` to `np.signedinteger` is deprecated. In future, it will be treated as `np.int32 == np.dtype(int).type`.\n",
      "  if np.issubdtype(mask.dtype, np.int):\n"
     ]
    },
    {
     "name": "stdout",
     "output_type": "stream",
     "text": [
      "Thresh=0.0, n=140, R2 Score: 0.8841512386001623\n"
     ]
    },
    {
     "name": "stderr",
     "output_type": "stream",
     "text": [
      "C:\\ProgramData\\Anaconda3\\lib\\site-packages\\sklearn\\utils\\__init__.py:54: FutureWarning: Conversion of the second argument of issubdtype from `int` to `np.signedinteger` is deprecated. In future, it will be treated as `np.int32 == np.dtype(int).type`.\n",
      "  if np.issubdtype(mask.dtype, np.int):\n"
     ]
    },
    {
     "name": "stdout",
     "output_type": "stream",
     "text": [
      "Thresh=0.0, n=140, R2 Score: 0.8869397485176224\n"
     ]
    },
    {
     "name": "stderr",
     "output_type": "stream",
     "text": [
      "C:\\ProgramData\\Anaconda3\\lib\\site-packages\\sklearn\\utils\\__init__.py:54: FutureWarning: Conversion of the second argument of issubdtype from `int` to `np.signedinteger` is deprecated. In future, it will be treated as `np.int32 == np.dtype(int).type`.\n",
      "  if np.issubdtype(mask.dtype, np.int):\n"
     ]
    },
    {
     "name": "stdout",
     "output_type": "stream",
     "text": [
      "Thresh=0.0, n=140, R2 Score: 0.8823840520129168\n"
     ]
    },
    {
     "name": "stderr",
     "output_type": "stream",
     "text": [
      "C:\\ProgramData\\Anaconda3\\lib\\site-packages\\sklearn\\utils\\__init__.py:54: FutureWarning: Conversion of the second argument of issubdtype from `int` to `np.signedinteger` is deprecated. In future, it will be treated as `np.int32 == np.dtype(int).type`.\n",
      "  if np.issubdtype(mask.dtype, np.int):\n"
     ]
    },
    {
     "name": "stdout",
     "output_type": "stream",
     "text": [
      "Thresh=0.0, n=140, R2 Score: 0.8852393481286452\n"
     ]
    },
    {
     "name": "stderr",
     "output_type": "stream",
     "text": [
      "C:\\ProgramData\\Anaconda3\\lib\\site-packages\\sklearn\\utils\\__init__.py:54: FutureWarning: Conversion of the second argument of issubdtype from `int` to `np.signedinteger` is deprecated. In future, it will be treated as `np.int32 == np.dtype(int).type`.\n",
      "  if np.issubdtype(mask.dtype, np.int):\n"
     ]
    },
    {
     "name": "stdout",
     "output_type": "stream",
     "text": [
      "Thresh=0.0, n=140, R2 Score: 0.8839821054167364\n"
     ]
    },
    {
     "name": "stderr",
     "output_type": "stream",
     "text": [
      "C:\\ProgramData\\Anaconda3\\lib\\site-packages\\sklearn\\utils\\__init__.py:54: FutureWarning: Conversion of the second argument of issubdtype from `int` to `np.signedinteger` is deprecated. In future, it will be treated as `np.int32 == np.dtype(int).type`.\n",
      "  if np.issubdtype(mask.dtype, np.int):\n"
     ]
    },
    {
     "name": "stdout",
     "output_type": "stream",
     "text": [
      "Thresh=0.0, n=140, R2 Score: 0.8843864445498727\n"
     ]
    },
    {
     "name": "stderr",
     "output_type": "stream",
     "text": [
      "C:\\ProgramData\\Anaconda3\\lib\\site-packages\\sklearn\\utils\\__init__.py:54: FutureWarning: Conversion of the second argument of issubdtype from `int` to `np.signedinteger` is deprecated. In future, it will be treated as `np.int32 == np.dtype(int).type`.\n",
      "  if np.issubdtype(mask.dtype, np.int):\n"
     ]
    },
    {
     "name": "stdout",
     "output_type": "stream",
     "text": [
      "Thresh=0.0, n=140, R2 Score: 0.883113373110548\n"
     ]
    },
    {
     "name": "stderr",
     "output_type": "stream",
     "text": [
      "C:\\ProgramData\\Anaconda3\\lib\\site-packages\\sklearn\\utils\\__init__.py:54: FutureWarning: Conversion of the second argument of issubdtype from `int` to `np.signedinteger` is deprecated. In future, it will be treated as `np.int32 == np.dtype(int).type`.\n",
      "  if np.issubdtype(mask.dtype, np.int):\n"
     ]
    },
    {
     "name": "stdout",
     "output_type": "stream",
     "text": [
      "Thresh=0.0, n=140, R2 Score: 0.8848574117558639\n"
     ]
    },
    {
     "name": "stderr",
     "output_type": "stream",
     "text": [
      "C:\\ProgramData\\Anaconda3\\lib\\site-packages\\sklearn\\utils\\__init__.py:54: FutureWarning: Conversion of the second argument of issubdtype from `int` to `np.signedinteger` is deprecated. In future, it will be treated as `np.int32 == np.dtype(int).type`.\n",
      "  if np.issubdtype(mask.dtype, np.int):\n"
     ]
    },
    {
     "name": "stdout",
     "output_type": "stream",
     "text": [
      "Thresh=0.0, n=140, R2 Score: 0.8852223427987431\n"
     ]
    },
    {
     "name": "stderr",
     "output_type": "stream",
     "text": [
      "C:\\ProgramData\\Anaconda3\\lib\\site-packages\\sklearn\\utils\\__init__.py:54: FutureWarning: Conversion of the second argument of issubdtype from `int` to `np.signedinteger` is deprecated. In future, it will be treated as `np.int32 == np.dtype(int).type`.\n",
      "  if np.issubdtype(mask.dtype, np.int):\n"
     ]
    },
    {
     "name": "stdout",
     "output_type": "stream",
     "text": [
      "Thresh=0.0, n=140, R2 Score: 0.8849351727293864\n"
     ]
    },
    {
     "name": "stderr",
     "output_type": "stream",
     "text": [
      "C:\\ProgramData\\Anaconda3\\lib\\site-packages\\sklearn\\utils\\__init__.py:54: FutureWarning: Conversion of the second argument of issubdtype from `int` to `np.signedinteger` is deprecated. In future, it will be treated as `np.int32 == np.dtype(int).type`.\n",
      "  if np.issubdtype(mask.dtype, np.int):\n"
     ]
    },
    {
     "name": "stdout",
     "output_type": "stream",
     "text": [
      "Thresh=0.0, n=140, R2 Score: 0.8881181271133601\n"
     ]
    },
    {
     "name": "stderr",
     "output_type": "stream",
     "text": [
      "C:\\ProgramData\\Anaconda3\\lib\\site-packages\\sklearn\\utils\\__init__.py:54: FutureWarning: Conversion of the second argument of issubdtype from `int` to `np.signedinteger` is deprecated. In future, it will be treated as `np.int32 == np.dtype(int).type`.\n",
      "  if np.issubdtype(mask.dtype, np.int):\n"
     ]
    },
    {
     "name": "stdout",
     "output_type": "stream",
     "text": [
      "Thresh=0.0, n=140, R2 Score: 0.8831229895013446\n"
     ]
    },
    {
     "name": "stderr",
     "output_type": "stream",
     "text": [
      "C:\\ProgramData\\Anaconda3\\lib\\site-packages\\sklearn\\utils\\__init__.py:54: FutureWarning: Conversion of the second argument of issubdtype from `int` to `np.signedinteger` is deprecated. In future, it will be treated as `np.int32 == np.dtype(int).type`.\n",
      "  if np.issubdtype(mask.dtype, np.int):\n"
     ]
    },
    {
     "name": "stdout",
     "output_type": "stream",
     "text": [
      "Thresh=0.0, n=140, R2 Score: 0.884129859297208\n"
     ]
    },
    {
     "name": "stderr",
     "output_type": "stream",
     "text": [
      "C:\\ProgramData\\Anaconda3\\lib\\site-packages\\sklearn\\utils\\__init__.py:54: FutureWarning: Conversion of the second argument of issubdtype from `int` to `np.signedinteger` is deprecated. In future, it will be treated as `np.int32 == np.dtype(int).type`.\n",
      "  if np.issubdtype(mask.dtype, np.int):\n"
     ]
    },
    {
     "name": "stdout",
     "output_type": "stream",
     "text": [
      "Thresh=7.0935659024307e-11, n=80, R2 Score: 0.8854654002355207\n"
     ]
    },
    {
     "name": "stderr",
     "output_type": "stream",
     "text": [
      "C:\\ProgramData\\Anaconda3\\lib\\site-packages\\sklearn\\utils\\__init__.py:54: FutureWarning: Conversion of the second argument of issubdtype from `int` to `np.signedinteger` is deprecated. In future, it will be treated as `np.int32 == np.dtype(int).type`.\n",
      "  if np.issubdtype(mask.dtype, np.int):\n"
     ]
    },
    {
     "name": "stdout",
     "output_type": "stream",
     "text": [
      "Thresh=1.1932930883122346e-09, n=79, R2 Score: 0.8836949316121336\n"
     ]
    },
    {
     "name": "stderr",
     "output_type": "stream",
     "text": [
      "C:\\ProgramData\\Anaconda3\\lib\\site-packages\\sklearn\\utils\\__init__.py:54: FutureWarning: Conversion of the second argument of issubdtype from `int` to `np.signedinteger` is deprecated. In future, it will be treated as `np.int32 == np.dtype(int).type`.\n",
      "  if np.issubdtype(mask.dtype, np.int):\n"
     ]
    },
    {
     "name": "stdout",
     "output_type": "stream",
     "text": [
      "Thresh=1.0656978341295927e-07, n=78, R2 Score: 0.8878380807806439\n"
     ]
    },
    {
     "name": "stderr",
     "output_type": "stream",
     "text": [
      "C:\\ProgramData\\Anaconda3\\lib\\site-packages\\sklearn\\utils\\__init__.py:54: FutureWarning: Conversion of the second argument of issubdtype from `int` to `np.signedinteger` is deprecated. In future, it will be treated as `np.int32 == np.dtype(int).type`.\n",
      "  if np.issubdtype(mask.dtype, np.int):\n"
     ]
    },
    {
     "name": "stdout",
     "output_type": "stream",
     "text": [
      "Thresh=1.314375777987843e-07, n=77, R2 Score: 0.8857405577537795\n"
     ]
    },
    {
     "name": "stderr",
     "output_type": "stream",
     "text": [
      "C:\\ProgramData\\Anaconda3\\lib\\site-packages\\sklearn\\utils\\__init__.py:54: FutureWarning: Conversion of the second argument of issubdtype from `int` to `np.signedinteger` is deprecated. In future, it will be treated as `np.int32 == np.dtype(int).type`.\n",
      "  if np.issubdtype(mask.dtype, np.int):\n"
     ]
    },
    {
     "name": "stdout",
     "output_type": "stream",
     "text": [
      "Thresh=1.8490741675235343e-07, n=76, R2 Score: 0.8862972943006917\n"
     ]
    },
    {
     "name": "stderr",
     "output_type": "stream",
     "text": [
      "C:\\ProgramData\\Anaconda3\\lib\\site-packages\\sklearn\\utils\\__init__.py:54: FutureWarning: Conversion of the second argument of issubdtype from `int` to `np.signedinteger` is deprecated. In future, it will be treated as `np.int32 == np.dtype(int).type`.\n",
      "  if np.issubdtype(mask.dtype, np.int):\n"
     ]
    },
    {
     "name": "stdout",
     "output_type": "stream",
     "text": [
      "Thresh=2.970250161357338e-07, n=75, R2 Score: 0.8826826581604074\n"
     ]
    },
    {
     "name": "stderr",
     "output_type": "stream",
     "text": [
      "C:\\ProgramData\\Anaconda3\\lib\\site-packages\\sklearn\\utils\\__init__.py:54: FutureWarning: Conversion of the second argument of issubdtype from `int` to `np.signedinteger` is deprecated. In future, it will be treated as `np.int32 == np.dtype(int).type`.\n",
      "  if np.issubdtype(mask.dtype, np.int):\n"
     ]
    },
    {
     "name": "stdout",
     "output_type": "stream",
     "text": [
      "Thresh=3.2055389974868687e-07, n=74, R2 Score: 0.8844180285448666\n"
     ]
    },
    {
     "name": "stderr",
     "output_type": "stream",
     "text": [
      "C:\\ProgramData\\Anaconda3\\lib\\site-packages\\sklearn\\utils\\__init__.py:54: FutureWarning: Conversion of the second argument of issubdtype from `int` to `np.signedinteger` is deprecated. In future, it will be treated as `np.int32 == np.dtype(int).type`.\n",
      "  if np.issubdtype(mask.dtype, np.int):\n"
     ]
    },
    {
     "name": "stdout",
     "output_type": "stream",
     "text": [
      "Thresh=6.122757632691301e-07, n=73, R2 Score: 0.8838659847119975\n"
     ]
    },
    {
     "name": "stderr",
     "output_type": "stream",
     "text": [
      "C:\\ProgramData\\Anaconda3\\lib\\site-packages\\sklearn\\utils\\__init__.py:54: FutureWarning: Conversion of the second argument of issubdtype from `int` to `np.signedinteger` is deprecated. In future, it will be treated as `np.int32 == np.dtype(int).type`.\n",
      "  if np.issubdtype(mask.dtype, np.int):\n"
     ]
    },
    {
     "name": "stdout",
     "output_type": "stream",
     "text": [
      "Thresh=7.550222948497117e-07, n=72, R2 Score: 0.8821667883173105\n"
     ]
    },
    {
     "name": "stderr",
     "output_type": "stream",
     "text": [
      "C:\\ProgramData\\Anaconda3\\lib\\site-packages\\sklearn\\utils\\__init__.py:54: FutureWarning: Conversion of the second argument of issubdtype from `int` to `np.signedinteger` is deprecated. In future, it will be treated as `np.int32 == np.dtype(int).type`.\n",
      "  if np.issubdtype(mask.dtype, np.int):\n"
     ]
    },
    {
     "name": "stdout",
     "output_type": "stream",
     "text": [
      "Thresh=1.2705702832318514e-06, n=71, R2 Score: 0.8843533876228775\n"
     ]
    },
    {
     "name": "stderr",
     "output_type": "stream",
     "text": [
      "C:\\ProgramData\\Anaconda3\\lib\\site-packages\\sklearn\\utils\\__init__.py:54: FutureWarning: Conversion of the second argument of issubdtype from `int` to `np.signedinteger` is deprecated. In future, it will be treated as `np.int32 == np.dtype(int).type`.\n",
      "  if np.issubdtype(mask.dtype, np.int):\n"
     ]
    },
    {
     "name": "stdout",
     "output_type": "stream",
     "text": [
      "Thresh=1.3304178734733442e-06, n=70, R2 Score: 0.8874571821837062\n"
     ]
    },
    {
     "name": "stderr",
     "output_type": "stream",
     "text": [
      "C:\\ProgramData\\Anaconda3\\lib\\site-packages\\sklearn\\utils\\__init__.py:54: FutureWarning: Conversion of the second argument of issubdtype from `int` to `np.signedinteger` is deprecated. In future, it will be treated as `np.int32 == np.dtype(int).type`.\n",
      "  if np.issubdtype(mask.dtype, np.int):\n"
     ]
    },
    {
     "name": "stdout",
     "output_type": "stream",
     "text": [
      "Thresh=1.4211855304925112e-06, n=69, R2 Score: 0.8876104411942234\n"
     ]
    },
    {
     "name": "stderr",
     "output_type": "stream",
     "text": [
      "C:\\ProgramData\\Anaconda3\\lib\\site-packages\\sklearn\\utils\\__init__.py:54: FutureWarning: Conversion of the second argument of issubdtype from `int` to `np.signedinteger` is deprecated. In future, it will be treated as `np.int32 == np.dtype(int).type`.\n",
      "  if np.issubdtype(mask.dtype, np.int):\n"
     ]
    },
    {
     "name": "stdout",
     "output_type": "stream",
     "text": [
      "Thresh=1.9665248950116437e-06, n=68, R2 Score: 0.8855416092143351\n"
     ]
    },
    {
     "name": "stderr",
     "output_type": "stream",
     "text": [
      "C:\\ProgramData\\Anaconda3\\lib\\site-packages\\sklearn\\utils\\__init__.py:54: FutureWarning: Conversion of the second argument of issubdtype from `int` to `np.signedinteger` is deprecated. In future, it will be treated as `np.int32 == np.dtype(int).type`.\n",
      "  if np.issubdtype(mask.dtype, np.int):\n"
     ]
    },
    {
     "name": "stdout",
     "output_type": "stream",
     "text": [
      "Thresh=3.498748964430554e-06, n=67, R2 Score: 0.8842168575340593\n"
     ]
    },
    {
     "name": "stderr",
     "output_type": "stream",
     "text": [
      "C:\\ProgramData\\Anaconda3\\lib\\site-packages\\sklearn\\utils\\__init__.py:54: FutureWarning: Conversion of the second argument of issubdtype from `int` to `np.signedinteger` is deprecated. In future, it will be treated as `np.int32 == np.dtype(int).type`.\n",
      "  if np.issubdtype(mask.dtype, np.int):\n"
     ]
    },
    {
     "name": "stdout",
     "output_type": "stream",
     "text": [
      "Thresh=3.933420020246217e-06, n=66, R2 Score: 0.8844931642630005\n"
     ]
    },
    {
     "name": "stderr",
     "output_type": "stream",
     "text": [
      "C:\\ProgramData\\Anaconda3\\lib\\site-packages\\sklearn\\utils\\__init__.py:54: FutureWarning: Conversion of the second argument of issubdtype from `int` to `np.signedinteger` is deprecated. In future, it will be treated as `np.int32 == np.dtype(int).type`.\n",
      "  if np.issubdtype(mask.dtype, np.int):\n"
     ]
    },
    {
     "name": "stdout",
     "output_type": "stream",
     "text": [
      "Thresh=4.515620128854161e-06, n=65, R2 Score: 0.8854478290158514\n"
     ]
    },
    {
     "name": "stderr",
     "output_type": "stream",
     "text": [
      "C:\\ProgramData\\Anaconda3\\lib\\site-packages\\sklearn\\utils\\__init__.py:54: FutureWarning: Conversion of the second argument of issubdtype from `int` to `np.signedinteger` is deprecated. In future, it will be treated as `np.int32 == np.dtype(int).type`.\n",
      "  if np.issubdtype(mask.dtype, np.int):\n"
     ]
    },
    {
     "name": "stdout",
     "output_type": "stream",
     "text": [
      "Thresh=5.012094129232943e-06, n=64, R2 Score: 0.8821702477776365\n"
     ]
    },
    {
     "name": "stderr",
     "output_type": "stream",
     "text": [
      "C:\\ProgramData\\Anaconda3\\lib\\site-packages\\sklearn\\utils\\__init__.py:54: FutureWarning: Conversion of the second argument of issubdtype from `int` to `np.signedinteger` is deprecated. In future, it will be treated as `np.int32 == np.dtype(int).type`.\n",
      "  if np.issubdtype(mask.dtype, np.int):\n"
     ]
    },
    {
     "name": "stdout",
     "output_type": "stream",
     "text": [
      "Thresh=1.465927250899566e-05, n=63, R2 Score: 0.8869336382777266\n"
     ]
    },
    {
     "name": "stderr",
     "output_type": "stream",
     "text": [
      "C:\\ProgramData\\Anaconda3\\lib\\site-packages\\sklearn\\utils\\__init__.py:54: FutureWarning: Conversion of the second argument of issubdtype from `int` to `np.signedinteger` is deprecated. In future, it will be treated as `np.int32 == np.dtype(int).type`.\n",
      "  if np.issubdtype(mask.dtype, np.int):\n"
     ]
    },
    {
     "name": "stdout",
     "output_type": "stream",
     "text": [
      "Thresh=1.4856327801148933e-05, n=62, R2 Score: 0.8864198844514821\n"
     ]
    },
    {
     "name": "stderr",
     "output_type": "stream",
     "text": [
      "C:\\ProgramData\\Anaconda3\\lib\\site-packages\\sklearn\\utils\\__init__.py:54: FutureWarning: Conversion of the second argument of issubdtype from `int` to `np.signedinteger` is deprecated. In future, it will be treated as `np.int32 == np.dtype(int).type`.\n",
      "  if np.issubdtype(mask.dtype, np.int):\n"
     ]
    },
    {
     "name": "stdout",
     "output_type": "stream",
     "text": [
      "Thresh=1.5022074908128645e-05, n=61, R2 Score: 0.884321381545087\n"
     ]
    },
    {
     "name": "stderr",
     "output_type": "stream",
     "text": [
      "C:\\ProgramData\\Anaconda3\\lib\\site-packages\\sklearn\\utils\\__init__.py:54: FutureWarning: Conversion of the second argument of issubdtype from `int` to `np.signedinteger` is deprecated. In future, it will be treated as `np.int32 == np.dtype(int).type`.\n",
      "  if np.issubdtype(mask.dtype, np.int):\n"
     ]
    },
    {
     "name": "stdout",
     "output_type": "stream",
     "text": [
      "Thresh=1.743251965626706e-05, n=60, R2 Score: 0.8848307813195913\n"
     ]
    },
    {
     "name": "stderr",
     "output_type": "stream",
     "text": [
      "C:\\ProgramData\\Anaconda3\\lib\\site-packages\\sklearn\\utils\\__init__.py:54: FutureWarning: Conversion of the second argument of issubdtype from `int` to `np.signedinteger` is deprecated. In future, it will be treated as `np.int32 == np.dtype(int).type`.\n",
      "  if np.issubdtype(mask.dtype, np.int):\n"
     ]
    },
    {
     "name": "stdout",
     "output_type": "stream",
     "text": [
      "Thresh=1.933362144458094e-05, n=59, R2 Score: 0.8827222125477989\n"
     ]
    },
    {
     "name": "stderr",
     "output_type": "stream",
     "text": [
      "C:\\ProgramData\\Anaconda3\\lib\\site-packages\\sklearn\\utils\\__init__.py:54: FutureWarning: Conversion of the second argument of issubdtype from `int` to `np.signedinteger` is deprecated. In future, it will be treated as `np.int32 == np.dtype(int).type`.\n",
      "  if np.issubdtype(mask.dtype, np.int):\n"
     ]
    },
    {
     "name": "stdout",
     "output_type": "stream",
     "text": [
      "Thresh=1.9983188854775705e-05, n=58, R2 Score: 0.8840112328649521\n"
     ]
    },
    {
     "name": "stderr",
     "output_type": "stream",
     "text": [
      "C:\\ProgramData\\Anaconda3\\lib\\site-packages\\sklearn\\utils\\__init__.py:54: FutureWarning: Conversion of the second argument of issubdtype from `int` to `np.signedinteger` is deprecated. In future, it will be treated as `np.int32 == np.dtype(int).type`.\n",
      "  if np.issubdtype(mask.dtype, np.int):\n"
     ]
    },
    {
     "name": "stdout",
     "output_type": "stream",
     "text": [
      "Thresh=2.019138589344512e-05, n=57, R2 Score: 0.8864071360569246\n"
     ]
    },
    {
     "name": "stderr",
     "output_type": "stream",
     "text": [
      "C:\\ProgramData\\Anaconda3\\lib\\site-packages\\sklearn\\utils\\__init__.py:54: FutureWarning: Conversion of the second argument of issubdtype from `int` to `np.signedinteger` is deprecated. In future, it will be treated as `np.int32 == np.dtype(int).type`.\n",
      "  if np.issubdtype(mask.dtype, np.int):\n"
     ]
    },
    {
     "name": "stdout",
     "output_type": "stream",
     "text": [
      "Thresh=2.2167763139559114e-05, n=56, R2 Score: 0.8858510382370763\n"
     ]
    },
    {
     "name": "stderr",
     "output_type": "stream",
     "text": [
      "C:\\ProgramData\\Anaconda3\\lib\\site-packages\\sklearn\\utils\\__init__.py:54: FutureWarning: Conversion of the second argument of issubdtype from `int` to `np.signedinteger` is deprecated. In future, it will be treated as `np.int32 == np.dtype(int).type`.\n",
      "  if np.issubdtype(mask.dtype, np.int):\n"
     ]
    },
    {
     "name": "stdout",
     "output_type": "stream",
     "text": [
      "Thresh=2.9801730313833542e-05, n=55, R2 Score: 0.8820888474294396\n"
     ]
    },
    {
     "name": "stderr",
     "output_type": "stream",
     "text": [
      "C:\\ProgramData\\Anaconda3\\lib\\site-packages\\sklearn\\utils\\__init__.py:54: FutureWarning: Conversion of the second argument of issubdtype from `int` to `np.signedinteger` is deprecated. In future, it will be treated as `np.int32 == np.dtype(int).type`.\n",
      "  if np.issubdtype(mask.dtype, np.int):\n"
     ]
    },
    {
     "name": "stdout",
     "output_type": "stream",
     "text": [
      "Thresh=3.296811339842347e-05, n=54, R2 Score: 0.8898104699541998\n"
     ]
    },
    {
     "name": "stderr",
     "output_type": "stream",
     "text": [
      "C:\\ProgramData\\Anaconda3\\lib\\site-packages\\sklearn\\utils\\__init__.py:54: FutureWarning: Conversion of the second argument of issubdtype from `int` to `np.signedinteger` is deprecated. In future, it will be treated as `np.int32 == np.dtype(int).type`.\n",
      "  if np.issubdtype(mask.dtype, np.int):\n"
     ]
    },
    {
     "name": "stdout",
     "output_type": "stream",
     "text": [
      "Thresh=3.838971648330607e-05, n=53, R2 Score: 0.8875982244496781\n"
     ]
    },
    {
     "name": "stderr",
     "output_type": "stream",
     "text": [
      "C:\\ProgramData\\Anaconda3\\lib\\site-packages\\sklearn\\utils\\__init__.py:54: FutureWarning: Conversion of the second argument of issubdtype from `int` to `np.signedinteger` is deprecated. In future, it will be treated as `np.int32 == np.dtype(int).type`.\n",
      "  if np.issubdtype(mask.dtype, np.int):\n"
     ]
    },
    {
     "name": "stdout",
     "output_type": "stream",
     "text": [
      "Thresh=4.140695618587084e-05, n=52, R2 Score: 0.8843065544861369\n"
     ]
    },
    {
     "name": "stderr",
     "output_type": "stream",
     "text": [
      "C:\\ProgramData\\Anaconda3\\lib\\site-packages\\sklearn\\utils\\__init__.py:54: FutureWarning: Conversion of the second argument of issubdtype from `int` to `np.signedinteger` is deprecated. In future, it will be treated as `np.int32 == np.dtype(int).type`.\n",
      "  if np.issubdtype(mask.dtype, np.int):\n"
     ]
    },
    {
     "name": "stdout",
     "output_type": "stream",
     "text": [
      "Thresh=4.649942112897841e-05, n=51, R2 Score: 0.8864906810588598\n"
     ]
    },
    {
     "name": "stderr",
     "output_type": "stream",
     "text": [
      "C:\\ProgramData\\Anaconda3\\lib\\site-packages\\sklearn\\utils\\__init__.py:54: FutureWarning: Conversion of the second argument of issubdtype from `int` to `np.signedinteger` is deprecated. In future, it will be treated as `np.int32 == np.dtype(int).type`.\n",
      "  if np.issubdtype(mask.dtype, np.int):\n"
     ]
    },
    {
     "name": "stdout",
     "output_type": "stream",
     "text": [
      "Thresh=4.869594240796503e-05, n=50, R2 Score: 0.8851802820612934\n"
     ]
    },
    {
     "name": "stderr",
     "output_type": "stream",
     "text": [
      "C:\\ProgramData\\Anaconda3\\lib\\site-packages\\sklearn\\utils\\__init__.py:54: FutureWarning: Conversion of the second argument of issubdtype from `int` to `np.signedinteger` is deprecated. In future, it will be treated as `np.int32 == np.dtype(int).type`.\n",
      "  if np.issubdtype(mask.dtype, np.int):\n"
     ]
    },
    {
     "name": "stdout",
     "output_type": "stream",
     "text": [
      "Thresh=5.686270599562352e-05, n=49, R2 Score: 0.883928911156078\n"
     ]
    },
    {
     "name": "stderr",
     "output_type": "stream",
     "text": [
      "C:\\ProgramData\\Anaconda3\\lib\\site-packages\\sklearn\\utils\\__init__.py:54: FutureWarning: Conversion of the second argument of issubdtype from `int` to `np.signedinteger` is deprecated. In future, it will be treated as `np.int32 == np.dtype(int).type`.\n",
      "  if np.issubdtype(mask.dtype, np.int):\n"
     ]
    },
    {
     "name": "stdout",
     "output_type": "stream",
     "text": [
      "Thresh=5.707080793560219e-05, n=48, R2 Score: 0.8839183273365705\n"
     ]
    },
    {
     "name": "stderr",
     "output_type": "stream",
     "text": [
      "C:\\ProgramData\\Anaconda3\\lib\\site-packages\\sklearn\\utils\\__init__.py:54: FutureWarning: Conversion of the second argument of issubdtype from `int` to `np.signedinteger` is deprecated. In future, it will be treated as `np.int32 == np.dtype(int).type`.\n",
      "  if np.issubdtype(mask.dtype, np.int):\n"
     ]
    },
    {
     "name": "stdout",
     "output_type": "stream",
     "text": [
      "Thresh=5.9821110895709894e-05, n=47, R2 Score: 0.8845966062977736\n"
     ]
    },
    {
     "name": "stderr",
     "output_type": "stream",
     "text": [
      "C:\\ProgramData\\Anaconda3\\lib\\site-packages\\sklearn\\utils\\__init__.py:54: FutureWarning: Conversion of the second argument of issubdtype from `int` to `np.signedinteger` is deprecated. In future, it will be treated as `np.int32 == np.dtype(int).type`.\n",
      "  if np.issubdtype(mask.dtype, np.int):\n"
     ]
    },
    {
     "name": "stdout",
     "output_type": "stream",
     "text": [
      "Thresh=6.157466681279631e-05, n=46, R2 Score: 0.8843455797136802\n"
     ]
    },
    {
     "name": "stderr",
     "output_type": "stream",
     "text": [
      "C:\\ProgramData\\Anaconda3\\lib\\site-packages\\sklearn\\utils\\__init__.py:54: FutureWarning: Conversion of the second argument of issubdtype from `int` to `np.signedinteger` is deprecated. In future, it will be treated as `np.int32 == np.dtype(int).type`.\n",
      "  if np.issubdtype(mask.dtype, np.int):\n"
     ]
    },
    {
     "name": "stdout",
     "output_type": "stream",
     "text": [
      "Thresh=7.083554285942582e-05, n=45, R2 Score: 0.884449478693546\n"
     ]
    },
    {
     "name": "stderr",
     "output_type": "stream",
     "text": [
      "C:\\ProgramData\\Anaconda3\\lib\\site-packages\\sklearn\\utils\\__init__.py:54: FutureWarning: Conversion of the second argument of issubdtype from `int` to `np.signedinteger` is deprecated. In future, it will be treated as `np.int32 == np.dtype(int).type`.\n",
      "  if np.issubdtype(mask.dtype, np.int):\n"
     ]
    },
    {
     "name": "stdout",
     "output_type": "stream",
     "text": [
      "Thresh=8.926549724186038e-05, n=44, R2 Score: 0.8868310572171538\n"
     ]
    },
    {
     "name": "stderr",
     "output_type": "stream",
     "text": [
      "C:\\ProgramData\\Anaconda3\\lib\\site-packages\\sklearn\\utils\\__init__.py:54: FutureWarning: Conversion of the second argument of issubdtype from `int` to `np.signedinteger` is deprecated. In future, it will be treated as `np.int32 == np.dtype(int).type`.\n",
      "  if np.issubdtype(mask.dtype, np.int):\n"
     ]
    },
    {
     "name": "stdout",
     "output_type": "stream",
     "text": [
      "Thresh=0.00016101978869569785, n=43, R2 Score: 0.8843430721185402\n"
     ]
    },
    {
     "name": "stderr",
     "output_type": "stream",
     "text": [
      "C:\\ProgramData\\Anaconda3\\lib\\site-packages\\sklearn\\utils\\__init__.py:54: FutureWarning: Conversion of the second argument of issubdtype from `int` to `np.signedinteger` is deprecated. In future, it will be treated as `np.int32 == np.dtype(int).type`.\n",
      "  if np.issubdtype(mask.dtype, np.int):\n"
     ]
    },
    {
     "name": "stdout",
     "output_type": "stream",
     "text": [
      "Thresh=0.00016417152555047983, n=42, R2 Score: 0.8830381465014285\n"
     ]
    },
    {
     "name": "stderr",
     "output_type": "stream",
     "text": [
      "C:\\ProgramData\\Anaconda3\\lib\\site-packages\\sklearn\\utils\\__init__.py:54: FutureWarning: Conversion of the second argument of issubdtype from `int` to `np.signedinteger` is deprecated. In future, it will be treated as `np.int32 == np.dtype(int).type`.\n",
      "  if np.issubdtype(mask.dtype, np.int):\n"
     ]
    },
    {
     "name": "stdout",
     "output_type": "stream",
     "text": [
      "Thresh=0.00017446653850675134, n=41, R2 Score: 0.8858149439325517\n",
      "\n",
      "\n",
      "------------------------------------------\n",
      "\n",
      "\n",
      "Table [REP_HIST_SYSSTAT] RFR R2 Score: 0.9999948426718025\n"
     ]
    },
    {
     "name": "stderr",
     "output_type": "stream",
     "text": [
      "C:\\ProgramData\\Anaconda3\\lib\\site-packages\\sklearn\\utils\\__init__.py:54: FutureWarning: Conversion of the second argument of issubdtype from `int` to `np.signedinteger` is deprecated. In future, it will be treated as `np.int32 == np.dtype(int).type`.\n",
      "  if np.issubdtype(mask.dtype, np.int):\n",
      "C:\\ProgramData\\Anaconda3\\lib\\site-packages\\sklearn\\utils\\__init__.py:54: FutureWarning: Conversion of the second argument of issubdtype from `int` to `np.signedinteger` is deprecated. In future, it will be treated as `np.int32 == np.dtype(int).type`.\n",
      "  if np.issubdtype(mask.dtype, np.int):\n"
     ]
    },
    {
     "name": "stdout",
     "output_type": "stream",
     "text": [
      "Thresh=0.0, n=321, R2 Score: 0.9999961111566323\n"
     ]
    },
    {
     "name": "stderr",
     "output_type": "stream",
     "text": [
      "C:\\ProgramData\\Anaconda3\\lib\\site-packages\\sklearn\\utils\\__init__.py:54: FutureWarning: Conversion of the second argument of issubdtype from `int` to `np.signedinteger` is deprecated. In future, it will be treated as `np.int32 == np.dtype(int).type`.\n",
      "  if np.issubdtype(mask.dtype, np.int):\n"
     ]
    },
    {
     "name": "stdout",
     "output_type": "stream",
     "text": [
      "Thresh=0.0, n=321, R2 Score: 0.9999963235852339\n"
     ]
    },
    {
     "name": "stderr",
     "output_type": "stream",
     "text": [
      "C:\\ProgramData\\Anaconda3\\lib\\site-packages\\sklearn\\utils\\__init__.py:54: FutureWarning: Conversion of the second argument of issubdtype from `int` to `np.signedinteger` is deprecated. In future, it will be treated as `np.int32 == np.dtype(int).type`.\n",
      "  if np.issubdtype(mask.dtype, np.int):\n"
     ]
    },
    {
     "name": "stdout",
     "output_type": "stream",
     "text": [
      "Thresh=0.0, n=321, R2 Score: 0.9999962560219824\n"
     ]
    },
    {
     "name": "stderr",
     "output_type": "stream",
     "text": [
      "C:\\ProgramData\\Anaconda3\\lib\\site-packages\\sklearn\\utils\\__init__.py:54: FutureWarning: Conversion of the second argument of issubdtype from `int` to `np.signedinteger` is deprecated. In future, it will be treated as `np.int32 == np.dtype(int).type`.\n",
      "  if np.issubdtype(mask.dtype, np.int):\n"
     ]
    },
    {
     "name": "stdout",
     "output_type": "stream",
     "text": [
      "Thresh=0.0, n=321, R2 Score: 0.9999960058553485\n"
     ]
    },
    {
     "name": "stderr",
     "output_type": "stream",
     "text": [
      "C:\\ProgramData\\Anaconda3\\lib\\site-packages\\sklearn\\utils\\__init__.py:54: FutureWarning: Conversion of the second argument of issubdtype from `int` to `np.signedinteger` is deprecated. In future, it will be treated as `np.int32 == np.dtype(int).type`.\n",
      "  if np.issubdtype(mask.dtype, np.int):\n"
     ]
    },
    {
     "name": "stdout",
     "output_type": "stream",
     "text": [
      "Thresh=0.0, n=321, R2 Score: 0.9999960661144647\n"
     ]
    },
    {
     "name": "stderr",
     "output_type": "stream",
     "text": [
      "C:\\ProgramData\\Anaconda3\\lib\\site-packages\\sklearn\\utils\\__init__.py:54: FutureWarning: Conversion of the second argument of issubdtype from `int` to `np.signedinteger` is deprecated. In future, it will be treated as `np.int32 == np.dtype(int).type`.\n",
      "  if np.issubdtype(mask.dtype, np.int):\n"
     ]
    },
    {
     "name": "stdout",
     "output_type": "stream",
     "text": [
      "Thresh=0.0, n=321, R2 Score: 0.9999956102146866\n"
     ]
    },
    {
     "name": "stderr",
     "output_type": "stream",
     "text": [
      "C:\\ProgramData\\Anaconda3\\lib\\site-packages\\sklearn\\utils\\__init__.py:54: FutureWarning: Conversion of the second argument of issubdtype from `int` to `np.signedinteger` is deprecated. In future, it will be treated as `np.int32 == np.dtype(int).type`.\n",
      "  if np.issubdtype(mask.dtype, np.int):\n"
     ]
    },
    {
     "name": "stdout",
     "output_type": "stream",
     "text": [
      "Thresh=0.0, n=321, R2 Score: 0.9999962359356104\n"
     ]
    },
    {
     "name": "stderr",
     "output_type": "stream",
     "text": [
      "C:\\ProgramData\\Anaconda3\\lib\\site-packages\\sklearn\\utils\\__init__.py:54: FutureWarning: Conversion of the second argument of issubdtype from `int` to `np.signedinteger` is deprecated. In future, it will be treated as `np.int32 == np.dtype(int).type`.\n",
      "  if np.issubdtype(mask.dtype, np.int):\n"
     ]
    },
    {
     "name": "stdout",
     "output_type": "stream",
     "text": [
      "Thresh=0.0, n=321, R2 Score: 0.999995595606416\n"
     ]
    },
    {
     "name": "stderr",
     "output_type": "stream",
     "text": [
      "C:\\ProgramData\\Anaconda3\\lib\\site-packages\\sklearn\\utils\\__init__.py:54: FutureWarning: Conversion of the second argument of issubdtype from `int` to `np.signedinteger` is deprecated. In future, it will be treated as `np.int32 == np.dtype(int).type`.\n",
      "  if np.issubdtype(mask.dtype, np.int):\n"
     ]
    },
    {
     "name": "stdout",
     "output_type": "stream",
     "text": [
      "Thresh=0.0, n=321, R2 Score: 0.9999918528457543\n"
     ]
    },
    {
     "name": "stderr",
     "output_type": "stream",
     "text": [
      "C:\\ProgramData\\Anaconda3\\lib\\site-packages\\sklearn\\utils\\__init__.py:54: FutureWarning: Conversion of the second argument of issubdtype from `int` to `np.signedinteger` is deprecated. In future, it will be treated as `np.int32 == np.dtype(int).type`.\n",
      "  if np.issubdtype(mask.dtype, np.int):\n"
     ]
    },
    {
     "name": "stdout",
     "output_type": "stream",
     "text": [
      "Thresh=0.0, n=321, R2 Score: 0.999995980290875\n"
     ]
    },
    {
     "name": "stderr",
     "output_type": "stream",
     "text": [
      "C:\\ProgramData\\Anaconda3\\lib\\site-packages\\sklearn\\utils\\__init__.py:54: FutureWarning: Conversion of the second argument of issubdtype from `int` to `np.signedinteger` is deprecated. In future, it will be treated as `np.int32 == np.dtype(int).type`.\n",
      "  if np.issubdtype(mask.dtype, np.int):\n"
     ]
    },
    {
     "name": "stdout",
     "output_type": "stream",
     "text": [
      "Thresh=0.0, n=321, R2 Score: 0.9999960168115515\n"
     ]
    },
    {
     "name": "stderr",
     "output_type": "stream",
     "text": [
      "C:\\ProgramData\\Anaconda3\\lib\\site-packages\\sklearn\\utils\\__init__.py:54: FutureWarning: Conversion of the second argument of issubdtype from `int` to `np.signedinteger` is deprecated. In future, it will be treated as `np.int32 == np.dtype(int).type`.\n",
      "  if np.issubdtype(mask.dtype, np.int):\n"
     ]
    },
    {
     "name": "stdout",
     "output_type": "stream",
     "text": [
      "Thresh=0.0, n=321, R2 Score: 0.9999949662334245\n"
     ]
    },
    {
     "name": "stderr",
     "output_type": "stream",
     "text": [
      "C:\\ProgramData\\Anaconda3\\lib\\site-packages\\sklearn\\utils\\__init__.py:54: FutureWarning: Conversion of the second argument of issubdtype from `int` to `np.signedinteger` is deprecated. In future, it will be treated as `np.int32 == np.dtype(int).type`.\n",
      "  if np.issubdtype(mask.dtype, np.int):\n"
     ]
    },
    {
     "name": "stdout",
     "output_type": "stream",
     "text": [
      "Thresh=0.0, n=321, R2 Score: 0.9999960588103294\n"
     ]
    },
    {
     "name": "stderr",
     "output_type": "stream",
     "text": [
      "C:\\ProgramData\\Anaconda3\\lib\\site-packages\\sklearn\\utils\\__init__.py:54: FutureWarning: Conversion of the second argument of issubdtype from `int` to `np.signedinteger` is deprecated. In future, it will be treated as `np.int32 == np.dtype(int).type`.\n",
      "  if np.issubdtype(mask.dtype, np.int):\n"
     ]
    },
    {
     "name": "stdout",
     "output_type": "stream",
     "text": [
      "Thresh=0.0, n=321, R2 Score: 0.9999960642884309\n"
     ]
    },
    {
     "name": "stderr",
     "output_type": "stream",
     "text": [
      "C:\\ProgramData\\Anaconda3\\lib\\site-packages\\sklearn\\utils\\__init__.py:54: FutureWarning: Conversion of the second argument of issubdtype from `int` to `np.signedinteger` is deprecated. In future, it will be treated as `np.int32 == np.dtype(int).type`.\n",
      "  if np.issubdtype(mask.dtype, np.int):\n"
     ]
    },
    {
     "name": "stdout",
     "output_type": "stream",
     "text": [
      "Thresh=0.0, n=321, R2 Score: 0.9999961507206986\n"
     ]
    },
    {
     "name": "stderr",
     "output_type": "stream",
     "text": [
      "C:\\ProgramData\\Anaconda3\\lib\\site-packages\\sklearn\\utils\\__init__.py:54: FutureWarning: Conversion of the second argument of issubdtype from `int` to `np.signedinteger` is deprecated. In future, it will be treated as `np.int32 == np.dtype(int).type`.\n",
      "  if np.issubdtype(mask.dtype, np.int):\n"
     ]
    },
    {
     "name": "stdout",
     "output_type": "stream",
     "text": [
      "Thresh=0.0, n=321, R2 Score: 0.9999947732825172\n"
     ]
    },
    {
     "name": "stderr",
     "output_type": "stream",
     "text": [
      "C:\\ProgramData\\Anaconda3\\lib\\site-packages\\sklearn\\utils\\__init__.py:54: FutureWarning: Conversion of the second argument of issubdtype from `int` to `np.signedinteger` is deprecated. In future, it will be treated as `np.int32 == np.dtype(int).type`.\n",
      "  if np.issubdtype(mask.dtype, np.int):\n"
     ]
    },
    {
     "name": "stdout",
     "output_type": "stream",
     "text": [
      "Thresh=0.0, n=321, R2 Score: 0.999996115417378\n"
     ]
    },
    {
     "name": "stderr",
     "output_type": "stream",
     "text": [
      "C:\\ProgramData\\Anaconda3\\lib\\site-packages\\sklearn\\utils\\__init__.py:54: FutureWarning: Conversion of the second argument of issubdtype from `int` to `np.signedinteger` is deprecated. In future, it will be treated as `np.int32 == np.dtype(int).type`.\n",
      "  if np.issubdtype(mask.dtype, np.int):\n"
     ]
    },
    {
     "name": "stdout",
     "output_type": "stream",
     "text": [
      "Thresh=0.0, n=321, R2 Score: 0.999996094722328\n"
     ]
    },
    {
     "name": "stderr",
     "output_type": "stream",
     "text": [
      "C:\\ProgramData\\Anaconda3\\lib\\site-packages\\sklearn\\utils\\__init__.py:54: FutureWarning: Conversion of the second argument of issubdtype from `int` to `np.signedinteger` is deprecated. In future, it will be treated as `np.int32 == np.dtype(int).type`.\n",
      "  if np.issubdtype(mask.dtype, np.int):\n"
     ]
    },
    {
     "name": "stdout",
     "output_type": "stream",
     "text": [
      "Thresh=0.0, n=321, R2 Score: 0.9999948420631245\n"
     ]
    },
    {
     "name": "stderr",
     "output_type": "stream",
     "text": [
      "C:\\ProgramData\\Anaconda3\\lib\\site-packages\\sklearn\\utils\\__init__.py:54: FutureWarning: Conversion of the second argument of issubdtype from `int` to `np.signedinteger` is deprecated. In future, it will be treated as `np.int32 == np.dtype(int).type`.\n",
      "  if np.issubdtype(mask.dtype, np.int):\n"
     ]
    },
    {
     "name": "stdout",
     "output_type": "stream",
     "text": [
      "Thresh=0.0, n=321, R2 Score: 0.999994826237498\n"
     ]
    },
    {
     "name": "stderr",
     "output_type": "stream",
     "text": [
      "C:\\ProgramData\\Anaconda3\\lib\\site-packages\\sklearn\\utils\\__init__.py:54: FutureWarning: Conversion of the second argument of issubdtype from `int` to `np.signedinteger` is deprecated. In future, it will be treated as `np.int32 == np.dtype(int).type`.\n",
      "  if np.issubdtype(mask.dtype, np.int):\n"
     ]
    },
    {
     "name": "stdout",
     "output_type": "stream",
     "text": [
      "Thresh=0.0, n=321, R2 Score: 0.9999962243707294\n"
     ]
    },
    {
     "name": "stderr",
     "output_type": "stream",
     "text": [
      "C:\\ProgramData\\Anaconda3\\lib\\site-packages\\sklearn\\utils\\__init__.py:54: FutureWarning: Conversion of the second argument of issubdtype from `int` to `np.signedinteger` is deprecated. In future, it will be treated as `np.int32 == np.dtype(int).type`.\n",
      "  if np.issubdtype(mask.dtype, np.int):\n"
     ]
    },
    {
     "name": "stdout",
     "output_type": "stream",
     "text": [
      "Thresh=0.0, n=321, R2 Score: 0.9999960588103294\n"
     ]
    },
    {
     "name": "stderr",
     "output_type": "stream",
     "text": [
      "C:\\ProgramData\\Anaconda3\\lib\\site-packages\\sklearn\\utils\\__init__.py:54: FutureWarning: Conversion of the second argument of issubdtype from `int` to `np.signedinteger` is deprecated. In future, it will be treated as `np.int32 == np.dtype(int).type`.\n",
      "  if np.issubdtype(mask.dtype, np.int):\n"
     ]
    },
    {
     "name": "stdout",
     "output_type": "stream",
     "text": [
      "Thresh=0.0, n=321, R2 Score: 0.9999943186000949\n"
     ]
    },
    {
     "name": "stderr",
     "output_type": "stream",
     "text": [
      "C:\\ProgramData\\Anaconda3\\lib\\site-packages\\sklearn\\utils\\__init__.py:54: FutureWarning: Conversion of the second argument of issubdtype from `int` to `np.signedinteger` is deprecated. In future, it will be treated as `np.int32 == np.dtype(int).type`.\n",
      "  if np.issubdtype(mask.dtype, np.int):\n"
     ]
    },
    {
     "name": "stdout",
     "output_type": "stream",
     "text": [
      "Thresh=0.0, n=321, R2 Score: 0.9999948816271907\n"
     ]
    },
    {
     "name": "stderr",
     "output_type": "stream",
     "text": [
      "C:\\ProgramData\\Anaconda3\\lib\\site-packages\\sklearn\\utils\\__init__.py:54: FutureWarning: Conversion of the second argument of issubdtype from `int` to `np.signedinteger` is deprecated. In future, it will be treated as `np.int32 == np.dtype(int).type`.\n",
      "  if np.issubdtype(mask.dtype, np.int):\n"
     ]
    },
    {
     "name": "stdout",
     "output_type": "stream",
     "text": [
      "Thresh=0.0, n=321, R2 Score: 0.999991824237891\n"
     ]
    },
    {
     "name": "stderr",
     "output_type": "stream",
     "text": [
      "C:\\ProgramData\\Anaconda3\\lib\\site-packages\\sklearn\\utils\\__init__.py:54: FutureWarning: Conversion of the second argument of issubdtype from `int` to `np.signedinteger` is deprecated. In future, it will be treated as `np.int32 == np.dtype(int).type`.\n",
      "  if np.issubdtype(mask.dtype, np.int):\n"
     ]
    },
    {
     "name": "stdout",
     "output_type": "stream",
     "text": [
      "Thresh=0.0, n=321, R2 Score: 0.9999960667231427\n"
     ]
    },
    {
     "name": "stderr",
     "output_type": "stream",
     "text": [
      "C:\\ProgramData\\Anaconda3\\lib\\site-packages\\sklearn\\utils\\__init__.py:54: FutureWarning: Conversion of the second argument of issubdtype from `int` to `np.signedinteger` is deprecated. In future, it will be treated as `np.int32 == np.dtype(int).type`.\n",
      "  if np.issubdtype(mask.dtype, np.int):\n"
     ]
    },
    {
     "name": "stdout",
     "output_type": "stream",
     "text": [
      "Thresh=0.0, n=321, R2 Score: 0.9999962444571016\n"
     ]
    },
    {
     "name": "stderr",
     "output_type": "stream",
     "text": [
      "C:\\ProgramData\\Anaconda3\\lib\\site-packages\\sklearn\\utils\\__init__.py:54: FutureWarning: Conversion of the second argument of issubdtype from `int` to `np.signedinteger` is deprecated. In future, it will be treated as `np.int32 == np.dtype(int).type`.\n",
      "  if np.issubdtype(mask.dtype, np.int):\n"
     ]
    },
    {
     "name": "stdout",
     "output_type": "stream",
     "text": [
      "Thresh=0.0, n=321, R2 Score: 0.9999960502888382\n"
     ]
    },
    {
     "name": "stderr",
     "output_type": "stream",
     "text": [
      "C:\\ProgramData\\Anaconda3\\lib\\site-packages\\sklearn\\utils\\__init__.py:54: FutureWarning: Conversion of the second argument of issubdtype from `int` to `np.signedinteger` is deprecated. In future, it will be treated as `np.int32 == np.dtype(int).type`.\n",
      "  if np.issubdtype(mask.dtype, np.int):\n"
     ]
    },
    {
     "name": "stdout",
     "output_type": "stream",
     "text": [
      "Thresh=0.0, n=321, R2 Score: 0.9999961312430045\n"
     ]
    },
    {
     "name": "stderr",
     "output_type": "stream",
     "text": [
      "C:\\ProgramData\\Anaconda3\\lib\\site-packages\\sklearn\\utils\\__init__.py:54: FutureWarning: Conversion of the second argument of issubdtype from `int` to `np.signedinteger` is deprecated. In future, it will be treated as `np.int32 == np.dtype(int).type`.\n",
      "  if np.issubdtype(mask.dtype, np.int):\n"
     ]
    },
    {
     "name": "stdout",
     "output_type": "stream",
     "text": [
      "Thresh=0.0, n=321, R2 Score: 0.9999960362892456\n"
     ]
    },
    {
     "name": "stderr",
     "output_type": "stream",
     "text": [
      "C:\\ProgramData\\Anaconda3\\lib\\site-packages\\sklearn\\utils\\__init__.py:54: FutureWarning: Conversion of the second argument of issubdtype from `int` to `np.signedinteger` is deprecated. In future, it will be treated as `np.int32 == np.dtype(int).type`.\n",
      "  if np.issubdtype(mask.dtype, np.int):\n"
     ]
    },
    {
     "name": "stdout",
     "output_type": "stream",
     "text": [
      "Thresh=0.0, n=321, R2 Score: 0.9999935985340902\n"
     ]
    },
    {
     "name": "stderr",
     "output_type": "stream",
     "text": [
      "C:\\ProgramData\\Anaconda3\\lib\\site-packages\\sklearn\\utils\\__init__.py:54: FutureWarning: Conversion of the second argument of issubdtype from `int` to `np.signedinteger` is deprecated. In future, it will be treated as `np.int32 == np.dtype(int).type`.\n",
      "  if np.issubdtype(mask.dtype, np.int):\n"
     ]
    },
    {
     "name": "stdout",
     "output_type": "stream",
     "text": [
      "Thresh=0.0, n=321, R2 Score: 0.9999960928962941\n"
     ]
    },
    {
     "name": "stderr",
     "output_type": "stream",
     "text": [
      "C:\\ProgramData\\Anaconda3\\lib\\site-packages\\sklearn\\utils\\__init__.py:54: FutureWarning: Conversion of the second argument of issubdtype from `int` to `np.signedinteger` is deprecated. In future, it will be treated as `np.int32 == np.dtype(int).type`.\n",
      "  if np.issubdtype(mask.dtype, np.int):\n"
     ]
    },
    {
     "name": "stdout",
     "output_type": "stream",
     "text": [
      "Thresh=0.0, n=321, R2 Score: 0.9999962195013059\n"
     ]
    },
    {
     "name": "stderr",
     "output_type": "stream",
     "text": [
      "C:\\ProgramData\\Anaconda3\\lib\\site-packages\\sklearn\\utils\\__init__.py:54: FutureWarning: Conversion of the second argument of issubdtype from `int` to `np.signedinteger` is deprecated. In future, it will be treated as `np.int32 == np.dtype(int).type`.\n",
      "  if np.issubdtype(mask.dtype, np.int):\n"
     ]
    },
    {
     "name": "stdout",
     "output_type": "stream",
     "text": [
      "Thresh=0.0, n=321, R2 Score: 0.9999961969802221\n"
     ]
    },
    {
     "name": "stderr",
     "output_type": "stream",
     "text": [
      "C:\\ProgramData\\Anaconda3\\lib\\site-packages\\sklearn\\utils\\__init__.py:54: FutureWarning: Conversion of the second argument of issubdtype from `int` to `np.signedinteger` is deprecated. In future, it will be treated as `np.int32 == np.dtype(int).type`.\n",
      "  if np.issubdtype(mask.dtype, np.int):\n"
     ]
    },
    {
     "name": "stdout",
     "output_type": "stream",
     "text": [
      "Thresh=0.0, n=321, R2 Score: 0.9999961549814441\n"
     ]
    },
    {
     "name": "stderr",
     "output_type": "stream",
     "text": [
      "C:\\ProgramData\\Anaconda3\\lib\\site-packages\\sklearn\\utils\\__init__.py:54: FutureWarning: Conversion of the second argument of issubdtype from `int` to `np.signedinteger` is deprecated. In future, it will be treated as `np.int32 == np.dtype(int).type`.\n",
      "  if np.issubdtype(mask.dtype, np.int):\n"
     ]
    },
    {
     "name": "stdout",
     "output_type": "stream",
     "text": [
      "Thresh=0.0, n=321, R2 Score: 0.9999961817632735\n"
     ]
    },
    {
     "name": "stderr",
     "output_type": "stream",
     "text": [
      "C:\\ProgramData\\Anaconda3\\lib\\site-packages\\sklearn\\utils\\__init__.py:54: FutureWarning: Conversion of the second argument of issubdtype from `int` to `np.signedinteger` is deprecated. In future, it will be treated as `np.int32 == np.dtype(int).type`.\n",
      "  if np.issubdtype(mask.dtype, np.int):\n"
     ]
    },
    {
     "name": "stdout",
     "output_type": "stream",
     "text": [
      "Thresh=0.0, n=321, R2 Score: 0.9999949297127481\n"
     ]
    },
    {
     "name": "stderr",
     "output_type": "stream",
     "text": [
      "C:\\ProgramData\\Anaconda3\\lib\\site-packages\\sklearn\\utils\\__init__.py:54: FutureWarning: Conversion of the second argument of issubdtype from `int` to `np.signedinteger` is deprecated. In future, it will be treated as `np.int32 == np.dtype(int).type`.\n",
      "  if np.issubdtype(mask.dtype, np.int):\n"
     ]
    },
    {
     "name": "stdout",
     "output_type": "stream",
     "text": [
      "Thresh=0.0, n=321, R2 Score: 0.9999962103711368\n"
     ]
    },
    {
     "name": "stderr",
     "output_type": "stream",
     "text": [
      "C:\\ProgramData\\Anaconda3\\lib\\site-packages\\sklearn\\utils\\__init__.py:54: FutureWarning: Conversion of the second argument of issubdtype from `int` to `np.signedinteger` is deprecated. In future, it will be treated as `np.int32 == np.dtype(int).type`.\n",
      "  if np.issubdtype(mask.dtype, np.int):\n"
     ]
    },
    {
     "name": "stdout",
     "output_type": "stream",
     "text": [
      "Thresh=0.0, n=321, R2 Score: 0.9999950246665069\n"
     ]
    },
    {
     "name": "stderr",
     "output_type": "stream",
     "text": [
      "C:\\ProgramData\\Anaconda3\\lib\\site-packages\\sklearn\\utils\\__init__.py:54: FutureWarning: Conversion of the second argument of issubdtype from `int` to `np.signedinteger` is deprecated. In future, it will be treated as `np.int32 == np.dtype(int).type`.\n",
      "  if np.issubdtype(mask.dtype, np.int):\n"
     ]
    },
    {
     "name": "stdout",
     "output_type": "stream",
     "text": [
      "Thresh=0.0, n=321, R2 Score: 0.9999959681173162\n"
     ]
    },
    {
     "name": "stderr",
     "output_type": "stream",
     "text": [
      "C:\\ProgramData\\Anaconda3\\lib\\site-packages\\sklearn\\utils\\__init__.py:54: FutureWarning: Conversion of the second argument of issubdtype from `int` to `np.signedinteger` is deprecated. In future, it will be treated as `np.int32 == np.dtype(int).type`.\n",
      "  if np.issubdtype(mask.dtype, np.int):\n"
     ]
    },
    {
     "name": "stdout",
     "output_type": "stream",
     "text": [
      "Thresh=0.0, n=321, R2 Score: 0.9999961592421898\n"
     ]
    },
    {
     "name": "stderr",
     "output_type": "stream",
     "text": [
      "C:\\ProgramData\\Anaconda3\\lib\\site-packages\\sklearn\\utils\\__init__.py:54: FutureWarning: Conversion of the second argument of issubdtype from `int` to `np.signedinteger` is deprecated. In future, it will be treated as `np.int32 == np.dtype(int).type`.\n",
      "  if np.issubdtype(mask.dtype, np.int):\n"
     ]
    },
    {
     "name": "stdout",
     "output_type": "stream",
     "text": [
      "Thresh=0.0, n=321, R2 Score: 0.9999943478166361\n"
     ]
    },
    {
     "name": "stderr",
     "output_type": "stream",
     "text": [
      "C:\\ProgramData\\Anaconda3\\lib\\site-packages\\sklearn\\utils\\__init__.py:54: FutureWarning: Conversion of the second argument of issubdtype from `int` to `np.signedinteger` is deprecated. In future, it will be treated as `np.int32 == np.dtype(int).type`.\n",
      "  if np.issubdtype(mask.dtype, np.int):\n"
     ]
    },
    {
     "name": "stdout",
     "output_type": "stream",
     "text": [
      "Thresh=0.0, n=321, R2 Score: 0.9999961835893074\n"
     ]
    },
    {
     "name": "stderr",
     "output_type": "stream",
     "text": [
      "C:\\ProgramData\\Anaconda3\\lib\\site-packages\\sklearn\\utils\\__init__.py:54: FutureWarning: Conversion of the second argument of issubdtype from `int` to `np.signedinteger` is deprecated. In future, it will be treated as `np.int32 == np.dtype(int).type`.\n",
      "  if np.issubdtype(mask.dtype, np.int):\n"
     ]
    },
    {
     "name": "stdout",
     "output_type": "stream",
     "text": [
      "Thresh=0.0, n=321, R2 Score: 0.9999961196781235\n"
     ]
    },
    {
     "name": "stderr",
     "output_type": "stream",
     "text": [
      "C:\\ProgramData\\Anaconda3\\lib\\site-packages\\sklearn\\utils\\__init__.py:54: FutureWarning: Conversion of the second argument of issubdtype from `int` to `np.signedinteger` is deprecated. In future, it will be treated as `np.int32 == np.dtype(int).type`.\n",
      "  if np.issubdtype(mask.dtype, np.int):\n"
     ]
    },
    {
     "name": "stdout",
     "output_type": "stream",
     "text": [
      "Thresh=0.0, n=321, R2 Score: 0.9999961336777162\n"
     ]
    },
    {
     "name": "stderr",
     "output_type": "stream",
     "text": [
      "C:\\ProgramData\\Anaconda3\\lib\\site-packages\\sklearn\\utils\\__init__.py:54: FutureWarning: Conversion of the second argument of issubdtype from `int` to `np.signedinteger` is deprecated. In future, it will be treated as `np.int32 == np.dtype(int).type`.\n",
      "  if np.issubdtype(mask.dtype, np.int):\n"
     ]
    },
    {
     "name": "stdout",
     "output_type": "stream",
     "text": [
      "Thresh=0.0, n=321, R2 Score: 0.9999959145536573\n"
     ]
    },
    {
     "name": "stderr",
     "output_type": "stream",
     "text": [
      "C:\\ProgramData\\Anaconda3\\lib\\site-packages\\sklearn\\utils\\__init__.py:54: FutureWarning: Conversion of the second argument of issubdtype from `int` to `np.signedinteger` is deprecated. In future, it will be treated as `np.int32 == np.dtype(int).type`.\n",
      "  if np.issubdtype(mask.dtype, np.int):\n"
     ]
    },
    {
     "name": "stdout",
     "output_type": "stream",
     "text": [
      "Thresh=0.0, n=321, R2 Score: 0.9999961805459177\n"
     ]
    },
    {
     "name": "stderr",
     "output_type": "stream",
     "text": [
      "C:\\ProgramData\\Anaconda3\\lib\\site-packages\\sklearn\\utils\\__init__.py:54: FutureWarning: Conversion of the second argument of issubdtype from `int` to `np.signedinteger` is deprecated. In future, it will be treated as `np.int32 == np.dtype(int).type`.\n",
      "  if np.issubdtype(mask.dtype, np.int):\n"
     ]
    },
    {
     "name": "stdout",
     "output_type": "stream",
     "text": [
      "Thresh=0.0, n=321, R2 Score: 0.9999960594190074\n"
     ]
    },
    {
     "name": "stderr",
     "output_type": "stream",
     "text": [
      "C:\\ProgramData\\Anaconda3\\lib\\site-packages\\sklearn\\utils\\__init__.py:54: FutureWarning: Conversion of the second argument of issubdtype from `int` to `np.signedinteger` is deprecated. In future, it will be treated as `np.int32 == np.dtype(int).type`.\n",
      "  if np.issubdtype(mask.dtype, np.int):\n"
     ]
    },
    {
     "name": "stdout",
     "output_type": "stream",
     "text": [
      "Thresh=0.0, n=321, R2 Score: 0.9999961866326971\n"
     ]
    },
    {
     "name": "stderr",
     "output_type": "stream",
     "text": [
      "C:\\ProgramData\\Anaconda3\\lib\\site-packages\\sklearn\\utils\\__init__.py:54: FutureWarning: Conversion of the second argument of issubdtype from `int` to `np.signedinteger` is deprecated. In future, it will be treated as `np.int32 == np.dtype(int).type`.\n",
      "  if np.issubdtype(mask.dtype, np.int):\n"
     ]
    },
    {
     "name": "stdout",
     "output_type": "stream",
     "text": [
      "Thresh=0.0, n=321, R2 Score: 0.9999961628942574\n"
     ]
    },
    {
     "name": "stderr",
     "output_type": "stream",
     "text": [
      "C:\\ProgramData\\Anaconda3\\lib\\site-packages\\sklearn\\utils\\__init__.py:54: FutureWarning: Conversion of the second argument of issubdtype from `int` to `np.signedinteger` is deprecated. In future, it will be treated as `np.int32 == np.dtype(int).type`.\n",
      "  if np.issubdtype(mask.dtype, np.int):\n"
     ]
    },
    {
     "name": "stdout",
     "output_type": "stream",
     "text": [
      "Thresh=0.0, n=321, R2 Score: 0.9999961695897147\n"
     ]
    },
    {
     "name": "stderr",
     "output_type": "stream",
     "text": [
      "C:\\ProgramData\\Anaconda3\\lib\\site-packages\\sklearn\\utils\\__init__.py:54: FutureWarning: Conversion of the second argument of issubdtype from `int` to `np.signedinteger` is deprecated. In future, it will be treated as `np.int32 == np.dtype(int).type`.\n",
      "  if np.issubdtype(mask.dtype, np.int):\n"
     ]
    },
    {
     "name": "stdout",
     "output_type": "stream",
     "text": [
      "Thresh=0.0, n=321, R2 Score: 0.9999961002004294\n"
     ]
    },
    {
     "name": "stderr",
     "output_type": "stream",
     "text": [
      "C:\\ProgramData\\Anaconda3\\lib\\site-packages\\sklearn\\utils\\__init__.py:54: FutureWarning: Conversion of the second argument of issubdtype from `int` to `np.signedinteger` is deprecated. In future, it will be treated as `np.int32 == np.dtype(int).type`.\n",
      "  if np.issubdtype(mask.dtype, np.int):\n"
     ]
    },
    {
     "name": "stdout",
     "output_type": "stream",
     "text": [
      "Thresh=0.0, n=321, R2 Score: 0.9999963114116751\n"
     ]
    },
    {
     "name": "stderr",
     "output_type": "stream",
     "text": [
      "C:\\ProgramData\\Anaconda3\\lib\\site-packages\\sklearn\\utils\\__init__.py:54: FutureWarning: Conversion of the second argument of issubdtype from `int` to `np.signedinteger` is deprecated. In future, it will be treated as `np.int32 == np.dtype(int).type`.\n",
      "  if np.issubdtype(mask.dtype, np.int):\n"
     ]
    },
    {
     "name": "stdout",
     "output_type": "stream",
     "text": [
      "Thresh=0.0, n=321, R2 Score: 0.9999959431615205\n"
     ]
    },
    {
     "name": "stderr",
     "output_type": "stream",
     "text": [
      "C:\\ProgramData\\Anaconda3\\lib\\site-packages\\sklearn\\utils\\__init__.py:54: FutureWarning: Conversion of the second argument of issubdtype from `int` to `np.signedinteger` is deprecated. In future, it will be treated as `np.int32 == np.dtype(int).type`.\n",
      "  if np.issubdtype(mask.dtype, np.int):\n"
     ]
    },
    {
     "name": "stdout",
     "output_type": "stream",
     "text": [
      "Thresh=0.0, n=321, R2 Score: 0.99999125390666\n"
     ]
    },
    {
     "name": "stderr",
     "output_type": "stream",
     "text": [
      "C:\\ProgramData\\Anaconda3\\lib\\site-packages\\sklearn\\utils\\__init__.py:54: FutureWarning: Conversion of the second argument of issubdtype from `int` to `np.signedinteger` is deprecated. In future, it will be treated as `np.int32 == np.dtype(int).type`.\n",
      "  if np.issubdtype(mask.dtype, np.int):\n"
     ]
    },
    {
     "name": "stdout",
     "output_type": "stream",
     "text": [
      "Thresh=0.0, n=321, R2 Score: 0.9999961032438192\n"
     ]
    },
    {
     "name": "stderr",
     "output_type": "stream",
     "text": [
      "C:\\ProgramData\\Anaconda3\\lib\\site-packages\\sklearn\\utils\\__init__.py:54: FutureWarning: Conversion of the second argument of issubdtype from `int` to `np.signedinteger` is deprecated. In future, it will be treated as `np.int32 == np.dtype(int).type`.\n",
      "  if np.issubdtype(mask.dtype, np.int):\n"
     ]
    },
    {
     "name": "stdout",
     "output_type": "stream",
     "text": [
      "Thresh=0.0, n=321, R2 Score: 0.9999960180289074\n"
     ]
    },
    {
     "name": "stderr",
     "output_type": "stream",
     "text": [
      "C:\\ProgramData\\Anaconda3\\lib\\site-packages\\sklearn\\utils\\__init__.py:54: FutureWarning: Conversion of the second argument of issubdtype from `int` to `np.signedinteger` is deprecated. In future, it will be treated as `np.int32 == np.dtype(int).type`.\n",
      "  if np.issubdtype(mask.dtype, np.int):\n"
     ]
    },
    {
     "name": "stdout",
     "output_type": "stream",
     "text": [
      "Thresh=0.0, n=321, R2 Score: 0.9999955883022807\n"
     ]
    },
    {
     "name": "stderr",
     "output_type": "stream",
     "text": [
      "C:\\ProgramData\\Anaconda3\\lib\\site-packages\\sklearn\\utils\\__init__.py:54: FutureWarning: Conversion of the second argument of issubdtype from `int` to `np.signedinteger` is deprecated. In future, it will be treated as `np.int32 == np.dtype(int).type`.\n",
      "  if np.issubdtype(mask.dtype, np.int):\n"
     ]
    },
    {
     "name": "stdout",
     "output_type": "stream",
     "text": [
      "Thresh=0.0, n=321, R2 Score: 0.9999947799779745\n"
     ]
    },
    {
     "name": "stderr",
     "output_type": "stream",
     "text": [
      "C:\\ProgramData\\Anaconda3\\lib\\site-packages\\sklearn\\utils\\__init__.py:54: FutureWarning: Conversion of the second argument of issubdtype from `int` to `np.signedinteger` is deprecated. In future, it will be treated as `np.int32 == np.dtype(int).type`.\n",
      "  if np.issubdtype(mask.dtype, np.int):\n"
     ]
    },
    {
     "name": "stdout",
     "output_type": "stream",
     "text": [
      "Thresh=0.0, n=321, R2 Score: 0.9999960265503985\n"
     ]
    },
    {
     "name": "stderr",
     "output_type": "stream",
     "text": [
      "C:\\ProgramData\\Anaconda3\\lib\\site-packages\\sklearn\\utils\\__init__.py:54: FutureWarning: Conversion of the second argument of issubdtype from `int` to `np.signedinteger` is deprecated. In future, it will be treated as `np.int32 == np.dtype(int).type`.\n",
      "  if np.issubdtype(mask.dtype, np.int):\n"
     ]
    },
    {
     "name": "stdout",
     "output_type": "stream",
     "text": [
      "Thresh=0.0, n=321, R2 Score: 0.9999960022032809\n"
     ]
    },
    {
     "name": "stderr",
     "output_type": "stream",
     "text": [
      "C:\\ProgramData\\Anaconda3\\lib\\site-packages\\sklearn\\utils\\__init__.py:54: FutureWarning: Conversion of the second argument of issubdtype from `int` to `np.signedinteger` is deprecated. In future, it will be treated as `np.int32 == np.dtype(int).type`.\n",
      "  if np.issubdtype(mask.dtype, np.int):\n"
     ]
    },
    {
     "name": "stdout",
     "output_type": "stream",
     "text": [
      "Thresh=0.0, n=321, R2 Score: 0.999996083766125\n"
     ]
    },
    {
     "name": "stderr",
     "output_type": "stream",
     "text": [
      "C:\\ProgramData\\Anaconda3\\lib\\site-packages\\sklearn\\utils\\__init__.py:54: FutureWarning: Conversion of the second argument of issubdtype from `int` to `np.signedinteger` is deprecated. In future, it will be treated as `np.int32 == np.dtype(int).type`.\n",
      "  if np.issubdtype(mask.dtype, np.int):\n"
     ]
    },
    {
     "name": "stdout",
     "output_type": "stream",
     "text": [
      "Thresh=0.0, n=321, R2 Score: 0.9999960241156868\n"
     ]
    },
    {
     "name": "stderr",
     "output_type": "stream",
     "text": [
      "C:\\ProgramData\\Anaconda3\\lib\\site-packages\\sklearn\\utils\\__init__.py:54: FutureWarning: Conversion of the second argument of issubdtype from `int` to `np.signedinteger` is deprecated. In future, it will be treated as `np.int32 == np.dtype(int).type`.\n",
      "  if np.issubdtype(mask.dtype, np.int):\n"
     ]
    },
    {
     "name": "stdout",
     "output_type": "stream",
     "text": [
      "Thresh=0.0, n=321, R2 Score: 0.9999962280227971\n"
     ]
    },
    {
     "name": "stderr",
     "output_type": "stream",
     "text": [
      "C:\\ProgramData\\Anaconda3\\lib\\site-packages\\sklearn\\utils\\__init__.py:54: FutureWarning: Conversion of the second argument of issubdtype from `int` to `np.signedinteger` is deprecated. In future, it will be treated as `np.int32 == np.dtype(int).type`.\n",
      "  if np.issubdtype(mask.dtype, np.int):\n"
     ]
    },
    {
     "name": "stdout",
     "output_type": "stream",
     "text": [
      "Thresh=0.0, n=321, R2 Score: 0.9999955237824188\n"
     ]
    },
    {
     "name": "stderr",
     "output_type": "stream",
     "text": [
      "C:\\ProgramData\\Anaconda3\\lib\\site-packages\\sklearn\\utils\\__init__.py:54: FutureWarning: Conversion of the second argument of issubdtype from `int` to `np.signedinteger` is deprecated. In future, it will be treated as `np.int32 == np.dtype(int).type`.\n",
      "  if np.issubdtype(mask.dtype, np.int):\n"
     ]
    },
    {
     "name": "stdout",
     "output_type": "stream",
     "text": [
      "Thresh=0.0, n=321, R2 Score: 0.9999960551582617\n"
     ]
    },
    {
     "name": "stderr",
     "output_type": "stream",
     "text": [
      "C:\\ProgramData\\Anaconda3\\lib\\site-packages\\sklearn\\utils\\__init__.py:54: FutureWarning: Conversion of the second argument of issubdtype from `int` to `np.signedinteger` is deprecated. In future, it will be treated as `np.int32 == np.dtype(int).type`.\n",
      "  if np.issubdtype(mask.dtype, np.int):\n"
     ]
    },
    {
     "name": "stdout",
     "output_type": "stream",
     "text": [
      "Thresh=0.0, n=321, R2 Score: 0.9999962048930353\n"
     ]
    },
    {
     "name": "stderr",
     "output_type": "stream",
     "text": [
      "C:\\ProgramData\\Anaconda3\\lib\\site-packages\\sklearn\\utils\\__init__.py:54: FutureWarning: Conversion of the second argument of issubdtype from `int` to `np.signedinteger` is deprecated. In future, it will be treated as `np.int32 == np.dtype(int).type`.\n",
      "  if np.issubdtype(mask.dtype, np.int):\n"
     ]
    },
    {
     "name": "stdout",
     "output_type": "stream",
     "text": [
      "Thresh=0.0, n=321, R2 Score: 0.999996167155003\n"
     ]
    },
    {
     "name": "stderr",
     "output_type": "stream",
     "text": [
      "C:\\ProgramData\\Anaconda3\\lib\\site-packages\\sklearn\\utils\\__init__.py:54: FutureWarning: Conversion of the second argument of issubdtype from `int` to `np.signedinteger` is deprecated. In future, it will be treated as `np.int32 == np.dtype(int).type`.\n",
      "  if np.issubdtype(mask.dtype, np.int):\n"
     ]
    },
    {
     "name": "stdout",
     "output_type": "stream",
     "text": [
      "Thresh=0.0, n=321, R2 Score: 0.9999961081132427\n"
     ]
    },
    {
     "name": "stderr",
     "output_type": "stream",
     "text": [
      "C:\\ProgramData\\Anaconda3\\lib\\site-packages\\sklearn\\utils\\__init__.py:54: FutureWarning: Conversion of the second argument of issubdtype from `int` to `np.signedinteger` is deprecated. In future, it will be treated as `np.int32 == np.dtype(int).type`.\n",
      "  if np.issubdtype(mask.dtype, np.int):\n"
     ]
    },
    {
     "name": "stdout",
     "output_type": "stream",
     "text": [
      "Thresh=0.0, n=321, R2 Score: 0.9999961300256486\n"
     ]
    },
    {
     "name": "stderr",
     "output_type": "stream",
     "text": [
      "C:\\ProgramData\\Anaconda3\\lib\\site-packages\\sklearn\\utils\\__init__.py:54: FutureWarning: Conversion of the second argument of issubdtype from `int` to `np.signedinteger` is deprecated. In future, it will be treated as `np.int32 == np.dtype(int).type`.\n",
      "  if np.issubdtype(mask.dtype, np.int):\n"
     ]
    },
    {
     "name": "stdout",
     "output_type": "stream",
     "text": [
      "Thresh=0.0, n=321, R2 Score: 0.9999960271590764\n"
     ]
    },
    {
     "name": "stderr",
     "output_type": "stream",
     "text": [
      "C:\\ProgramData\\Anaconda3\\lib\\site-packages\\sklearn\\utils\\__init__.py:54: FutureWarning: Conversion of the second argument of issubdtype from `int` to `np.signedinteger` is deprecated. In future, it will be treated as `np.int32 == np.dtype(int).type`.\n",
      "  if np.issubdtype(mask.dtype, np.int):\n"
     ]
    },
    {
     "name": "stdout",
     "output_type": "stream",
     "text": [
      "Thresh=0.0, n=321, R2 Score: 0.9999963065422516\n"
     ]
    },
    {
     "name": "stderr",
     "output_type": "stream",
     "text": [
      "C:\\ProgramData\\Anaconda3\\lib\\site-packages\\sklearn\\utils\\__init__.py:54: FutureWarning: Conversion of the second argument of issubdtype from `int` to `np.signedinteger` is deprecated. In future, it will be treated as `np.int32 == np.dtype(int).type`.\n",
      "  if np.issubdtype(mask.dtype, np.int):\n"
     ]
    },
    {
     "name": "stdout",
     "output_type": "stream",
     "text": [
      "Thresh=0.0, n=321, R2 Score: 0.9999961744591382\n"
     ]
    },
    {
     "name": "stderr",
     "output_type": "stream",
     "text": [
      "C:\\ProgramData\\Anaconda3\\lib\\site-packages\\sklearn\\utils\\__init__.py:54: FutureWarning: Conversion of the second argument of issubdtype from `int` to `np.signedinteger` is deprecated. In future, it will be treated as `np.int32 == np.dtype(int).type`.\n",
      "  if np.issubdtype(mask.dtype, np.int):\n"
     ]
    },
    {
     "name": "stdout",
     "output_type": "stream",
     "text": [
      "Thresh=0.0, n=321, R2 Score: 0.999996188458731\n"
     ]
    },
    {
     "name": "stderr",
     "output_type": "stream",
     "text": [
      "C:\\ProgramData\\Anaconda3\\lib\\site-packages\\sklearn\\utils\\__init__.py:54: FutureWarning: Conversion of the second argument of issubdtype from `int` to `np.signedinteger` is deprecated. In future, it will be treated as `np.int32 == np.dtype(int).type`.\n",
      "  if np.issubdtype(mask.dtype, np.int):\n"
     ]
    },
    {
     "name": "stdout",
     "output_type": "stream",
     "text": [
      "Thresh=0.0, n=321, R2 Score: 0.9999960594190074\n"
     ]
    },
    {
     "name": "stderr",
     "output_type": "stream",
     "text": [
      "C:\\ProgramData\\Anaconda3\\lib\\site-packages\\sklearn\\utils\\__init__.py:54: FutureWarning: Conversion of the second argument of issubdtype from `int` to `np.signedinteger` is deprecated. In future, it will be treated as `np.int32 == np.dtype(int).type`.\n",
      "  if np.issubdtype(mask.dtype, np.int):\n"
     ]
    },
    {
     "name": "stdout",
     "output_type": "stream",
     "text": [
      "Thresh=0.0, n=321, R2 Score: 0.9999960661144647\n"
     ]
    },
    {
     "name": "stderr",
     "output_type": "stream",
     "text": [
      "C:\\ProgramData\\Anaconda3\\lib\\site-packages\\sklearn\\utils\\__init__.py:54: FutureWarning: Conversion of the second argument of issubdtype from `int` to `np.signedinteger` is deprecated. In future, it will be treated as `np.int32 == np.dtype(int).type`.\n",
      "  if np.issubdtype(mask.dtype, np.int):\n"
     ]
    },
    {
     "name": "stdout",
     "output_type": "stream",
     "text": [
      "Thresh=0.0, n=321, R2 Score: 0.9999961635029353\n"
     ]
    },
    {
     "name": "stderr",
     "output_type": "stream",
     "text": [
      "C:\\ProgramData\\Anaconda3\\lib\\site-packages\\sklearn\\utils\\__init__.py:54: FutureWarning: Conversion of the second argument of issubdtype from `int` to `np.signedinteger` is deprecated. In future, it will be treated as `np.int32 == np.dtype(int).type`.\n",
      "  if np.issubdtype(mask.dtype, np.int):\n"
     ]
    },
    {
     "name": "stdout",
     "output_type": "stream",
     "text": [
      "Thresh=0.0, n=321, R2 Score: 0.9999960155941956\n"
     ]
    },
    {
     "name": "stderr",
     "output_type": "stream",
     "text": [
      "C:\\ProgramData\\Anaconda3\\lib\\site-packages\\sklearn\\utils\\__init__.py:54: FutureWarning: Conversion of the second argument of issubdtype from `int` to `np.signedinteger` is deprecated. In future, it will be treated as `np.int32 == np.dtype(int).type`.\n",
      "  if np.issubdtype(mask.dtype, np.int):\n"
     ]
    },
    {
     "name": "stdout",
     "output_type": "stream",
     "text": [
      "Thresh=0.0, n=321, R2 Score: 0.9999961056785309\n"
     ]
    },
    {
     "name": "stderr",
     "output_type": "stream",
     "text": [
      "C:\\ProgramData\\Anaconda3\\lib\\site-packages\\sklearn\\utils\\__init__.py:54: FutureWarning: Conversion of the second argument of issubdtype from `int` to `np.signedinteger` is deprecated. In future, it will be treated as `np.int32 == np.dtype(int).type`.\n",
      "  if np.issubdtype(mask.dtype, np.int):\n"
     ]
    },
    {
     "name": "stdout",
     "output_type": "stream",
     "text": [
      "Thresh=0.0, n=321, R2 Score: 0.9999948737143775\n"
     ]
    },
    {
     "name": "stderr",
     "output_type": "stream",
     "text": [
      "C:\\ProgramData\\Anaconda3\\lib\\site-packages\\sklearn\\utils\\__init__.py:54: FutureWarning: Conversion of the second argument of issubdtype from `int` to `np.signedinteger` is deprecated. In future, it will be treated as `np.int32 == np.dtype(int).type`.\n",
      "  if np.issubdtype(mask.dtype, np.int):\n"
     ]
    },
    {
     "name": "stdout",
     "output_type": "stream",
     "text": [
      "Thresh=0.0, n=321, R2 Score: 0.9999961300256486\n"
     ]
    },
    {
     "name": "stderr",
     "output_type": "stream",
     "text": [
      "C:\\ProgramData\\Anaconda3\\lib\\site-packages\\sklearn\\utils\\__init__.py:54: FutureWarning: Conversion of the second argument of issubdtype from `int` to `np.signedinteger` is deprecated. In future, it will be treated as `np.int32 == np.dtype(int).type`.\n",
      "  if np.issubdtype(mask.dtype, np.int):\n"
     ]
    },
    {
     "name": "stdout",
     "output_type": "stream",
     "text": [
      "Thresh=0.0, n=321, R2 Score: 0.9999961239388692\n"
     ]
    },
    {
     "name": "stderr",
     "output_type": "stream",
     "text": [
      "C:\\ProgramData\\Anaconda3\\lib\\site-packages\\sklearn\\utils\\__init__.py:54: FutureWarning: Conversion of the second argument of issubdtype from `int` to `np.signedinteger` is deprecated. In future, it will be treated as `np.int32 == np.dtype(int).type`.\n",
      "  if np.issubdtype(mask.dtype, np.int):\n"
     ]
    },
    {
     "name": "stdout",
     "output_type": "stream",
     "text": [
      "Thresh=0.0, n=321, R2 Score: 0.999996280977778\n"
     ]
    },
    {
     "name": "stderr",
     "output_type": "stream",
     "text": [
      "C:\\ProgramData\\Anaconda3\\lib\\site-packages\\sklearn\\utils\\__init__.py:54: FutureWarning: Conversion of the second argument of issubdtype from `int` to `np.signedinteger` is deprecated. In future, it will be treated as `np.int32 == np.dtype(int).type`.\n",
      "  if np.issubdtype(mask.dtype, np.int):\n"
     ]
    },
    {
     "name": "stdout",
     "output_type": "stream",
     "text": [
      "Thresh=0.0, n=321, R2 Score: 0.9999960995917515\n"
     ]
    },
    {
     "name": "stderr",
     "output_type": "stream",
     "text": [
      "C:\\ProgramData\\Anaconda3\\lib\\site-packages\\sklearn\\utils\\__init__.py:54: FutureWarning: Conversion of the second argument of issubdtype from `int` to `np.signedinteger` is deprecated. In future, it will be treated as `np.int32 == np.dtype(int).type`.\n",
      "  if np.issubdtype(mask.dtype, np.int):\n"
     ]
    },
    {
     "name": "stdout",
     "output_type": "stream",
     "text": [
      "Thresh=0.0, n=321, R2 Score: 0.9999961695897147\n"
     ]
    },
    {
     "name": "stderr",
     "output_type": "stream",
     "text": [
      "C:\\ProgramData\\Anaconda3\\lib\\site-packages\\sklearn\\utils\\__init__.py:54: FutureWarning: Conversion of the second argument of issubdtype from `int` to `np.signedinteger` is deprecated. In future, it will be treated as `np.int32 == np.dtype(int).type`.\n",
      "  if np.issubdtype(mask.dtype, np.int):\n"
     ]
    },
    {
     "name": "stdout",
     "output_type": "stream",
     "text": [
      "Thresh=0.0, n=321, R2 Score: 0.9999953247447321\n"
     ]
    },
    {
     "name": "stderr",
     "output_type": "stream",
     "text": [
      "C:\\ProgramData\\Anaconda3\\lib\\site-packages\\sklearn\\utils\\__init__.py:54: FutureWarning: Conversion of the second argument of issubdtype from `int` to `np.signedinteger` is deprecated. In future, it will be treated as `np.int32 == np.dtype(int).type`.\n",
      "  if np.issubdtype(mask.dtype, np.int):\n"
     ]
    },
    {
     "name": "stdout",
     "output_type": "stream",
     "text": [
      "Thresh=0.0, n=321, R2 Score: 0.9999948651928863\n"
     ]
    },
    {
     "name": "stderr",
     "output_type": "stream",
     "text": [
      "C:\\ProgramData\\Anaconda3\\lib\\site-packages\\sklearn\\utils\\__init__.py:54: FutureWarning: Conversion of the second argument of issubdtype from `int` to `np.signedinteger` is deprecated. In future, it will be treated as `np.int32 == np.dtype(int).type`.\n",
      "  if np.issubdtype(mask.dtype, np.int):\n"
     ]
    },
    {
     "name": "stdout",
     "output_type": "stream",
     "text": [
      "Thresh=0.0, n=321, R2 Score: 0.9999959942904676\n"
     ]
    },
    {
     "name": "stderr",
     "output_type": "stream",
     "text": [
      "C:\\ProgramData\\Anaconda3\\lib\\site-packages\\sklearn\\utils\\__init__.py:54: FutureWarning: Conversion of the second argument of issubdtype from `int` to `np.signedinteger` is deprecated. In future, it will be treated as `np.int32 == np.dtype(int).type`.\n",
      "  if np.issubdtype(mask.dtype, np.int):\n"
     ]
    },
    {
     "name": "stdout",
     "output_type": "stream",
     "text": [
      "Thresh=0.0, n=321, R2 Score: 0.9999937293998477\n"
     ]
    },
    {
     "name": "stderr",
     "output_type": "stream",
     "text": [
      "C:\\ProgramData\\Anaconda3\\lib\\site-packages\\sklearn\\utils\\__init__.py:54: FutureWarning: Conversion of the second argument of issubdtype from `int` to `np.signedinteger` is deprecated. In future, it will be treated as `np.int32 == np.dtype(int).type`.\n",
      "  if np.issubdtype(mask.dtype, np.int):\n"
     ]
    },
    {
     "name": "stdout",
     "output_type": "stream",
     "text": [
      "Thresh=0.0, n=321, R2 Score: 0.9999962079364251\n"
     ]
    },
    {
     "name": "stderr",
     "output_type": "stream",
     "text": [
      "C:\\ProgramData\\Anaconda3\\lib\\site-packages\\sklearn\\utils\\__init__.py:54: FutureWarning: Conversion of the second argument of issubdtype from `int` to `np.signedinteger` is deprecated. In future, it will be treated as `np.int32 == np.dtype(int).type`.\n",
      "  if np.issubdtype(mask.dtype, np.int):\n"
     ]
    },
    {
     "name": "stdout",
     "output_type": "stream",
     "text": [
      "Thresh=0.0, n=321, R2 Score: 0.9999928942937121\n"
     ]
    },
    {
     "name": "stderr",
     "output_type": "stream",
     "text": [
      "C:\\ProgramData\\Anaconda3\\lib\\site-packages\\sklearn\\utils\\__init__.py:54: FutureWarning: Conversion of the second argument of issubdtype from `int` to `np.signedinteger` is deprecated. In future, it will be treated as `np.int32 == np.dtype(int).type`.\n",
      "  if np.issubdtype(mask.dtype, np.int):\n"
     ]
    },
    {
     "name": "stdout",
     "output_type": "stream",
     "text": [
      "Thresh=0.0, n=321, R2 Score: 0.999996062462397\n"
     ]
    },
    {
     "name": "stderr",
     "output_type": "stream",
     "text": [
      "C:\\ProgramData\\Anaconda3\\lib\\site-packages\\sklearn\\utils\\__init__.py:54: FutureWarning: Conversion of the second argument of issubdtype from `int` to `np.signedinteger` is deprecated. In future, it will be treated as `np.int32 == np.dtype(int).type`.\n",
      "  if np.issubdtype(mask.dtype, np.int):\n"
     ]
    },
    {
     "name": "stdout",
     "output_type": "stream",
     "text": [
      "Thresh=0.0, n=321, R2 Score: 0.9999936782709006\n"
     ]
    },
    {
     "name": "stderr",
     "output_type": "stream",
     "text": [
      "C:\\ProgramData\\Anaconda3\\lib\\site-packages\\sklearn\\utils\\__init__.py:54: FutureWarning: Conversion of the second argument of issubdtype from `int` to `np.signedinteger` is deprecated. In future, it will be treated as `np.int32 == np.dtype(int).type`.\n",
      "  if np.issubdtype(mask.dtype, np.int):\n"
     ]
    },
    {
     "name": "stdout",
     "output_type": "stream",
     "text": [
      "Thresh=0.0, n=321, R2 Score: 0.9999929935082165\n"
     ]
    },
    {
     "name": "stderr",
     "output_type": "stream",
     "text": [
      "C:\\ProgramData\\Anaconda3\\lib\\site-packages\\sklearn\\utils\\__init__.py:54: FutureWarning: Conversion of the second argument of issubdtype from `int` to `np.signedinteger` is deprecated. In future, it will be treated as `np.int32 == np.dtype(int).type`.\n",
      "  if np.issubdtype(mask.dtype, np.int):\n"
     ]
    },
    {
     "name": "stdout",
     "output_type": "stream",
     "text": [
      "Thresh=0.0, n=321, R2 Score: 0.9999949449296966\n"
     ]
    },
    {
     "name": "stderr",
     "output_type": "stream",
     "text": [
      "C:\\ProgramData\\Anaconda3\\lib\\site-packages\\sklearn\\utils\\__init__.py:54: FutureWarning: Conversion of the second argument of issubdtype from `int` to `np.signedinteger` is deprecated. In future, it will be treated as `np.int32 == np.dtype(int).type`.\n",
      "  if np.issubdtype(mask.dtype, np.int):\n"
     ]
    },
    {
     "name": "stdout",
     "output_type": "stream",
     "text": [
      "Thresh=0.0, n=321, R2 Score: 0.9999959541177235\n"
     ]
    },
    {
     "name": "stderr",
     "output_type": "stream",
     "text": [
      "C:\\ProgramData\\Anaconda3\\lib\\site-packages\\sklearn\\utils\\__init__.py:54: FutureWarning: Conversion of the second argument of issubdtype from `int` to `np.signedinteger` is deprecated. In future, it will be treated as `np.int32 == np.dtype(int).type`.\n",
      "  if np.issubdtype(mask.dtype, np.int):\n"
     ]
    },
    {
     "name": "stdout",
     "output_type": "stream",
     "text": [
      "Thresh=0.0, n=321, R2 Score: 0.9999962785430663\n"
     ]
    },
    {
     "name": "stderr",
     "output_type": "stream",
     "text": [
      "C:\\ProgramData\\Anaconda3\\lib\\site-packages\\sklearn\\utils\\__init__.py:54: FutureWarning: Conversion of the second argument of issubdtype from `int` to `np.signedinteger` is deprecated. In future, it will be treated as `np.int32 == np.dtype(int).type`.\n",
      "  if np.issubdtype(mask.dtype, np.int):\n"
     ]
    },
    {
     "name": "stdout",
     "output_type": "stream",
     "text": [
      "Thresh=0.0, n=321, R2 Score: 0.9999962414137118\n"
     ]
    },
    {
     "name": "stderr",
     "output_type": "stream",
     "text": [
      "C:\\ProgramData\\Anaconda3\\lib\\site-packages\\sklearn\\utils\\__init__.py:54: FutureWarning: Conversion of the second argument of issubdtype from `int` to `np.signedinteger` is deprecated. In future, it will be treated as `np.int32 == np.dtype(int).type`.\n",
      "  if np.issubdtype(mask.dtype, np.int):\n"
     ]
    },
    {
     "name": "stdout",
     "output_type": "stream",
     "text": [
      "Thresh=0.0, n=321, R2 Score: 0.9999945803316097\n",
      "Thresh=0.0, n=321, R2 Score: 0.9999960575929735\n",
      "\n",
      "\n",
      "------------------------------------------\n",
      "\n",
      "\n"
     ]
    },
    {
     "name": "stderr",
     "output_type": "stream",
     "text": [
      "C:\\ProgramData\\Anaconda3\\lib\\site-packages\\sklearn\\utils\\__init__.py:54: FutureWarning: Conversion of the second argument of issubdtype from `int` to `np.signedinteger` is deprecated. In future, it will be treated as `np.int32 == np.dtype(int).type`.\n",
      "  if np.issubdtype(mask.dtype, np.int):\n"
     ]
    }
   ],
   "source": [
    "def rfr_wrapper(X_df=None, y_df=None, test_split=.4, random_state=42, table_name=None):\n",
    "    \"\"\"\n",
    "    Random Forest Regressor - Takes data matrix and target vector, and evaluates best combination of features \n",
    "    using an RFR model.\n",
    "    \"\"\"\n",
    "    X_df = np.array(X_df)\n",
    "    y_df = np.array(y_df)\n",
    "    #feature_count = len(X_df[0])\n",
    "    feature_count=100\n",
    "    val_op, optimum_features = 0, 0\n",
    "    val_op = 0\n",
    "    X_train, X_test, y_train, y_test = train_test_split(X_df, y_df, test_size=test_split)\n",
    "    model = RandomForestRegressor(n_estimators=feature_count)\n",
    "    model.fit(X_train, y_train)\n",
    "    #\n",
    "    # make predictions for test data and evaluate\n",
    "    pred_y = model.predict(X_test)\n",
    "    predictions = [round(value) for value in pred_y]\n",
    "    r2s = r2_score(y_test, predictions)\n",
    "    print(\"Table [\" + table_name + \"] RFR R2 Score: \" + str(r2s))\n",
    "    # \n",
    "    # fit model using each importance as a threshold\n",
    "    #print(type(model.feature_importances_))\n",
    "    thresholds = np.sort(model.feature_importances_)[:feature_count]\n",
    "    for thresh in thresholds:\n",
    "        # selecting features using threshold\n",
    "        selection = SelectFromModel(model, threshold=thresh, prefit=True)\n",
    "        select_train_x = selection.transform(X_train)\n",
    "        #\n",
    "        # training model\n",
    "        selection_model = RandomForestRegressor(n_estimators=feature_count)\n",
    "        selection_model.fit(select_train_x, y_train)\n",
    "        #\n",
    "        # evaluating model\n",
    "        select_test_x = selection.transform(X_test)\n",
    "        pred_y = selection_model.predict(select_test_x)\n",
    "        predictions = [round(value) for value in pred_y]\n",
    "        r2s = r2_score(y_test, predictions)\n",
    "        print(\"Thresh=\" + str(thresh) + \", n=\" + str(select_train_x.shape[1]) + \", R2 Score: \" + str(r2s))\n",
    "        if(r2s > val_op):\n",
    "            val_op = r2s\n",
    "            optimum_features = select_train_x.shape[1]\n",
    "    print(\"\\n\\n------------------------------------------\\n\\n\")\n",
    "    return val_op, optimum_features\n",
    "#\n",
    "rfr_rep_hist_snapshot_score, rfr_rep_hist_snapshot_count = rfr_wrapper(X_df=rep_hist_snapshot_df_pruned_norm,\n",
    "                                                                        y_df=rep_hist_snapshot_df_pruned['SNAP_ID'],\n",
    "                                                                        test_split=test_split,\n",
    "                                                                        table_name='REP_HIST_SNAPSHOT')\n",
    "rfr_hist_sysmetric_summary_score, rfr_hist_sysmetric_summary_count = rfr_wrapper(X_df=rep_hist_sysmetric_summary_df_pruned_norm,\n",
    "                                                                                 y_df=rep_hist_sysmetric_summary_df_pruned['SNAP_ID'],\n",
    "                                                                                 test_split=test_split,\n",
    "                                                                                 table_name='REP_HIST_SYSMETRIC_SUMMARY')\n",
    "rfr_hist_sysstat_score, rfr_hist_sysstat_count = rfr_wrapper(X_df=rep_hist_sysstat_df_pruned_norm,\n",
    "                                                               y_df=rep_hist_sysstat_df_pruned['SNAP_ID'],\n",
    "                                                               test_split=test_split,\n",
    "                                                               table_name='REP_HIST_SYSSTAT')"
   ]
  },
  {
   "cell_type": "markdown",
   "metadata": {},
   "source": [
    "### Gradient Boosting Wrapper (Feature Combination)\n",
    "\n",
    "https://machinelearningmastery.com/gentle-introduction-gradient-boosting-algorithm-machine-learning/"
   ]
  },
  {
   "cell_type": "code",
   "execution_count": 127,
   "metadata": {
    "scrolled": true
   },
   "outputs": [
    {
     "name": "stdout",
     "output_type": "stream",
     "text": [
      "Table [REP_HIST_SNAPSHOT] RFR R2 Score: 0.9648548056795971\n"
     ]
    },
    {
     "name": "stderr",
     "output_type": "stream",
     "text": [
      "C:\\ProgramData\\Anaconda3\\lib\\site-packages\\sklearn\\utils\\__init__.py:54: FutureWarning: Conversion of the second argument of issubdtype from `int` to `np.signedinteger` is deprecated. In future, it will be treated as `np.int32 == np.dtype(int).type`.\n",
      "  if np.issubdtype(mask.dtype, np.int):\n"
     ]
    },
    {
     "name": "stdout",
     "output_type": "stream",
     "text": [
      "Thresh=0.0, n=51, R2 Score: 0.9648311063917079\n",
      "Thresh=0.0, n=51, R2 Score: 0.9646483810873635\n",
      "Thresh=0.0, n=51, R2 Score: 0.9647802354314698\n",
      "Thresh=0.0, n=51, R2 Score: 0.9647700499360066\n",
      "Thresh=0.0, n=51, R2 Score: 0.9646137833193286\n",
      "Thresh=0.0, n=51, R2 Score: 0.9648558968939587\n",
      "Thresh=0.0, n=51, R2 Score: 0.9647190348882718\n",
      "Thresh=0.0, n=51, R2 Score: 0.964683245914121\n",
      "Thresh=0.0, n=51, R2 Score: 0.9647941013687695\n",
      "Thresh=0.0, n=51, R2 Score: 0.964580551898246\n",
      "Thresh=0.0, n=51, R2 Score: 0.9649123574553655\n",
      "Thresh=0.0, n=51, R2 Score: 0.9646308719722354\n",
      "Thresh=0.0, n=51, R2 Score: 0.9647696785380623\n",
      "Thresh=0.0, n=51, R2 Score: 0.9647103517533894\n",
      "Thresh=0.0, n=51, R2 Score: 0.9647520663258459\n",
      "Thresh=0.0, n=51, R2 Score: 0.9646330575062925\n",
      "Thresh=2.0749914606659363e-05, n=35, R2 Score: 0.9647460606099234\n",
      "Thresh=0.00018429886592413958, n=34, R2 Score: 0.9647541642894847\n",
      "Thresh=0.00030640901144326273, n=33, R2 Score: 0.9631273406804877\n",
      "Thresh=0.00048445442337007386, n=32, R2 Score: 0.9629397766447314\n",
      "Thresh=0.0009959577152827718, n=31, R2 Score: 0.962237392330384\n",
      "Thresh=0.0018522089530140702, n=30, R2 Score: 0.9628791648728564\n",
      "Thresh=0.0031005842855011505, n=29, R2 Score: 0.9632898011963276\n",
      "Thresh=0.003615238497841892, n=28, R2 Score: 0.9642699408666251\n",
      "Thresh=0.003838021434495315, n=27, R2 Score: 0.9635130324771425\n",
      "Thresh=0.004061435955336781, n=26, R2 Score: 0.9628069745526935\n",
      "Thresh=0.010387701740455797, n=25, R2 Score: 0.9640759922642005\n",
      "Thresh=0.014857416618616125, n=24, R2 Score: 0.9632707282350058\n",
      "Thresh=0.01535127877116111, n=23, R2 Score: 0.9633601736539771\n",
      "Thresh=0.016754141678615893, n=22, R2 Score: 0.9644850771628138\n",
      "Thresh=0.01704402748125031, n=21, R2 Score: 0.9619303300744386\n",
      "Thresh=0.017368674205962432, n=20, R2 Score: 0.9618182952139435\n",
      "Thresh=0.020735834184289082, n=19, R2 Score: 0.9633061607168153\n",
      "Thresh=0.024616579557049753, n=18, R2 Score: 0.9630024273788994\n",
      "Thresh=0.02582383879113361, n=17, R2 Score: 0.9624871549636803\n",
      "Thresh=0.02637157572016047, n=16, R2 Score: 0.962634036018929\n",
      "Thresh=0.02982341305450372, n=15, R2 Score: 0.9630313964185573\n",
      "Thresh=0.0355166911326205, n=14, R2 Score: 0.9618677880269599\n",
      "Thresh=0.03562954903507149, n=13, R2 Score: 0.9609551514857119\n",
      "Thresh=0.03714689544280565, n=12, R2 Score: 0.9611095176379925\n",
      "Thresh=0.03829709180751632, n=11, R2 Score: 0.959724592714514\n",
      "Thresh=0.0417572298397047, n=10, R2 Score: 0.9575329585394053\n",
      "Thresh=0.047986568279869954, n=9, R2 Score: 0.9565022497473329\n",
      "Thresh=0.04878511678175754, n=8, R2 Score: 0.9501746852105295\n",
      "Thresh=0.05087416134719236, n=7, R2 Score: 0.9546361620181683\n",
      "Thresh=0.05524714822700309, n=6, R2 Score: 0.9382026501165693\n",
      "Thresh=0.058651138246220896, n=5, R2 Score: 0.9179022676530074\n",
      "Thresh=0.06243088035399208, n=4, R2 Score: 0.9081614050885575\n",
      "Thresh=0.06345219142144588, n=3, R2 Score: 0.8206467573322606\n",
      "Thresh=0.07639698422606091, n=2, R2 Score: 0.808747469034313\n",
      "Thresh=0.11023451299872422, n=1, R2 Score: 0.7081535017191704\n",
      "\n",
      "\n",
      "------------------------------------------\n",
      "\n",
      "\n",
      "Table [REP_HIST_SYSMETRIC_SUMMARY] RFR R2 Score: 0.8232872559470543\n",
      "Thresh=0.0, n=140, R2 Score: 0.823362638524687\n",
      "Thresh=0.0, n=140, R2 Score: 0.8230265264733494\n",
      "Thresh=0.0, n=140, R2 Score: 0.823015848093792\n",
      "Thresh=0.0, n=140, R2 Score: 0.8233061297994184\n",
      "Thresh=0.0, n=140, R2 Score: 0.8231617463150582\n",
      "Thresh=0.0, n=140, R2 Score: 0.8231862562990173\n",
      "Thresh=0.0, n=140, R2 Score: 0.8233006453235009\n",
      "Thresh=0.0, n=140, R2 Score: 0.8231780493003791\n",
      "Thresh=0.0, n=140, R2 Score: 0.8228505743431809\n",
      "Thresh=0.0, n=140, R2 Score: 0.8232224801674992\n",
      "Thresh=0.0, n=140, R2 Score: 0.8225653973676558\n",
      "Thresh=0.0, n=140, R2 Score: 0.8235156178528424\n",
      "Thresh=0.0, n=140, R2 Score: 0.8231537601270862\n",
      "Thresh=0.0, n=140, R2 Score: 0.8230519542774681\n",
      "Thresh=0.0, n=140, R2 Score: 0.8232633847368084\n",
      "Thresh=0.0, n=140, R2 Score: 0.8232095269527808\n",
      "Thresh=0.0, n=140, R2 Score: 0.8232348734694566\n",
      "Thresh=0.0, n=140, R2 Score: 0.8229286606382302\n",
      "Thresh=0.0, n=140, R2 Score: 0.823305347256123\n",
      "Thresh=0.0, n=140, R2 Score: 0.8230556128190298\n",
      "Thresh=0.0, n=140, R2 Score: 0.8231373236847692\n",
      "Thresh=0.0, n=140, R2 Score: 0.8231186457715403\n",
      "Thresh=0.0, n=140, R2 Score: 0.823280880948999\n",
      "Thresh=0.0, n=140, R2 Score: 0.8233476318920966\n",
      "Thresh=0.0, n=140, R2 Score: 0.8231208399258809\n",
      "Thresh=0.0, n=140, R2 Score: 0.8231422719062115\n",
      "Thresh=0.0, n=140, R2 Score: 0.8234461037433025\n",
      "Thresh=0.0, n=140, R2 Score: 0.8233086266584912\n",
      "Thresh=0.0, n=140, R2 Score: 0.8229921194398828\n",
      "Thresh=0.0, n=140, R2 Score: 0.8231126438464513\n",
      "Thresh=0.0, n=140, R2 Score: 0.8233572717335751\n",
      "Thresh=0.0, n=140, R2 Score: 0.8234324905230761\n",
      "Thresh=0.0, n=140, R2 Score: 0.8231890121859872\n",
      "Thresh=0.0, n=140, R2 Score: 0.823311938211863\n",
      "Thresh=0.0, n=140, R2 Score: 0.8231065193835752\n",
      "Thresh=0.0, n=140, R2 Score: 0.8234216896057315\n",
      "Thresh=0.0, n=140, R2 Score: 0.8232958062941462\n",
      "Thresh=0.0, n=140, R2 Score: 0.8233906529680396\n",
      "Thresh=0.0, n=140, R2 Score: 0.8233579942212221\n",
      "Thresh=0.0, n=140, R2 Score: 0.8229199131387577\n",
      "Thresh=0.0, n=140, R2 Score: 0.8232479825862113\n",
      "Thresh=0.0, n=140, R2 Score: 0.8232240761918481\n",
      "Thresh=0.0, n=140, R2 Score: 0.8234224169463603\n",
      "Thresh=0.0, n=140, R2 Score: 0.8231332490000287\n",
      "Thresh=0.0, n=140, R2 Score: 0.8230872615390357\n",
      "Thresh=0.0, n=140, R2 Score: 0.8227909263453901\n",
      "Thresh=0.0, n=140, R2 Score: 0.8229071516168156\n",
      "Thresh=0.0, n=140, R2 Score: 0.8233341454560165\n",
      "Thresh=0.0, n=140, R2 Score: 0.8233500802213526\n",
      "Thresh=0.0, n=140, R2 Score: 0.822951360460024\n",
      "Thresh=0.0, n=140, R2 Score: 0.8229235000988396\n",
      "Thresh=0.0, n=140, R2 Score: 0.8231955873695367\n",
      "Thresh=0.0, n=140, R2 Score: 0.8234971989675105\n",
      "Thresh=0.0, n=140, R2 Score: 0.823013276620126\n",
      "Thresh=0.0, n=140, R2 Score: 0.8230363774195307\n",
      "Thresh=0.0, n=140, R2 Score: 0.8233023232419157\n",
      "Thresh=0.0, n=140, R2 Score: 0.8231938973186677\n",
      "Thresh=0.0, n=140, R2 Score: 0.8232403452062973\n",
      "Thresh=0.0, n=140, R2 Score: 0.8229285520527653\n",
      "Thresh=0.0, n=140, R2 Score: 0.8230962577538192\n",
      "Thresh=0.0, n=140, R2 Score: 0.8228564913410904\n",
      "Thresh=0.0, n=140, R2 Score: 0.8229435914429819\n",
      "Thresh=0.0, n=140, R2 Score: 0.8229958950596274\n",
      "Thresh=0.0, n=140, R2 Score: 0.8232453419575563\n",
      "Thresh=0.0, n=140, R2 Score: 0.8235508674852526\n",
      "Thresh=0.0, n=140, R2 Score: 0.823422559502697\n",
      "Thresh=0.0, n=140, R2 Score: 0.8231306629674177\n",
      "Thresh=0.0, n=140, R2 Score: 0.8230154107188183\n",
      "Thresh=0.0, n=140, R2 Score: 0.8231745066237549\n",
      "Thresh=0.0, n=140, R2 Score: 0.823258175667601\n",
      "Thresh=0.0, n=140, R2 Score: 0.8234420387645255\n",
      "Thresh=0.0, n=140, R2 Score: 0.8231944942354139\n",
      "Thresh=0.0, n=140, R2 Score: 0.8230443084048362\n",
      "Thresh=0.0, n=140, R2 Score: 0.8230183030958979\n",
      "Thresh=0.0, n=140, R2 Score: 0.823217326907581\n",
      "Thresh=0.0, n=140, R2 Score: 0.8230731763663413\n",
      "Thresh=0.0, n=140, R2 Score: 0.8233706453378311\n",
      "Thresh=0.0, n=140, R2 Score: 0.8230093159804549\n",
      "Thresh=0.0, n=140, R2 Score: 0.8231361340976356\n",
      "Thresh=0.0, n=140, R2 Score: 0.8229858615200105\n",
      "Thresh=0.0, n=140, R2 Score: 0.8235118652847608\n",
      "Thresh=0.0, n=140, R2 Score: 0.8233561967981337\n",
      "Thresh=0.0, n=140, R2 Score: 0.8233448098832514\n",
      "Thresh=0.0, n=140, R2 Score: 0.8229315809199543\n",
      "Thresh=0.0, n=140, R2 Score: 0.8234716747103809\n",
      "Thresh=0.0, n=140, R2 Score: 0.8232502088915555\n",
      "Thresh=0.0, n=140, R2 Score: 0.8235818847110178\n",
      "Thresh=0.0, n=140, R2 Score: 0.823440055108265\n",
      "Thresh=0.0, n=140, R2 Score: 0.8234519794908679\n",
      "Thresh=0.0, n=140, R2 Score: 0.8225640585513356\n",
      "Thresh=0.0, n=140, R2 Score: 0.8229539119151406\n",
      "Thresh=0.0, n=140, R2 Score: 0.8232984378234606\n",
      "Thresh=0.0, n=140, R2 Score: 0.8231734717254123\n",
      "Thresh=0.0, n=140, R2 Score: 0.8228673498875925\n",
      "Thresh=0.0, n=140, R2 Score: 0.8233928277104536\n",
      "Thresh=0.0, n=140, R2 Score: 0.8231639295501901\n",
      "Thresh=0.0, n=140, R2 Score: 0.8230511741606636\n",
      "Thresh=0.0, n=140, R2 Score: 0.8233590782560043\n",
      "Thresh=0.0, n=140, R2 Score: 0.8234192000261312\n",
      "Thresh=0.0, n=140, R2 Score: 0.823278687401281\n",
      "\n",
      "\n",
      "------------------------------------------\n",
      "\n",
      "\n",
      "Table [REP_HIST_SYSSTAT] RFR R2 Score: 0.9999385031196655\n",
      "Thresh=0.0, n=321, R2 Score: 0.9999376816669643\n",
      "Thresh=0.0, n=321, R2 Score: 0.9999383941263161\n",
      "Thresh=0.0, n=321, R2 Score: 0.9999378577805119\n",
      "Thresh=0.0, n=321, R2 Score: 0.9999374396647817\n",
      "Thresh=0.0, n=321, R2 Score: 0.9999380037207595\n"
     ]
    },
    {
     "name": "stdout",
     "output_type": "stream",
     "text": [
      "Thresh=0.0, n=321, R2 Score: 0.9999380505201637\n",
      "Thresh=0.0, n=321, R2 Score: 0.9999373971758488\n",
      "Thresh=0.0, n=321, R2 Score: 0.9999385776292433\n",
      "Thresh=0.0, n=321, R2 Score: 0.9999378017443831\n",
      "Thresh=0.0, n=321, R2 Score: 0.9999381786027438\n",
      "Thresh=0.0, n=321, R2 Score: 0.9999377801920258\n",
      "Thresh=0.0, n=321, R2 Score: 0.999937496316692\n",
      "Thresh=0.0, n=321, R2 Score: 0.9999376083889497\n",
      "Thresh=0.0, n=321, R2 Score: 0.999937496316692\n",
      "Thresh=0.0, n=321, R2 Score: 0.9999381909183765\n",
      "Thresh=0.0, n=321, R2 Score: 0.9999382020024459\n",
      "Thresh=0.0, n=321, R2 Score: 0.999938436615249\n",
      "Thresh=0.0, n=321, R2 Score: 0.9999379187428937\n",
      "Thresh=0.0, n=321, R2 Score: 0.9999383079168872\n",
      "Thresh=0.0, n=321, R2 Score: 0.9999377235401155\n",
      "Thresh=0.0, n=321, R2 Score: 0.999938382426465\n",
      "Thresh=0.0, n=321, R2 Score: 0.9999372758668668\n",
      "Thresh=0.0, n=321, R2 Score: 0.9999377937392219\n",
      "Thresh=0.0, n=321, R2 Score: 0.9999381939972847\n",
      "Thresh=0.0, n=321, R2 Score: 0.9999387241852725\n",
      "Thresh=0.0, n=321, R2 Score: 0.999937057880168\n",
      "Thresh=0.0, n=321, R2 Score: 0.9999376705828948\n",
      "Thresh=0.0, n=321, R2 Score: 0.9999375591264189\n",
      "Thresh=0.0, n=321, R2 Score: 0.9999375757525231\n",
      "Thresh=0.0, n=321, R2 Score: 0.9999379175113305\n",
      "Thresh=0.0, n=321, R2 Score: 0.9999376194730191\n",
      "Thresh=0.0, n=321, R2 Score: 0.9999378269914302\n",
      "Thresh=0.0, n=321, R2 Score: 0.9999374686065186\n",
      "Thresh=0.0, n=321, R2 Score: 0.9999375856050292\n",
      "Thresh=0.0, n=321, R2 Score: 0.9999385271351493\n",
      "Thresh=0.0, n=321, R2 Score: 0.9999376952141602\n",
      "Thresh=0.0, n=321, R2 Score: 0.9999376514936641\n",
      "Thresh=0.0, n=321, R2 Score: 0.9999377894287504\n",
      "Thresh=0.0, n=321, R2 Score: 0.9999373756234916\n",
      "Thresh=0.0, n=321, R2 Score: 0.9999375498896943\n",
      "Thresh=0.0, n=321, R2 Score: 0.9999380579095433\n",
      "Thresh=0.0, n=321, R2 Score: 0.9999376009995701\n",
      "Thresh=0.0, n=321, R2 Score: 0.9999376964457235\n",
      "Thresh=0.0, n=321, R2 Score: 0.9999377309294951\n",
      "Thresh=0.0, n=321, R2 Score: 0.9999384033630406\n",
      "Thresh=0.0, n=321, R2 Score: 0.9999375911470639\n",
      "Thresh=0.0, n=321, R2 Score: 0.9999380067996676\n",
      "Thresh=0.0, n=321, R2 Score: 0.9999378097495444\n",
      "Thresh=0.0, n=321, R2 Score: 0.9999381201034885\n",
      "Thresh=0.0, n=321, R2 Score: 0.9999383836580282\n",
      "Thresh=0.0, n=321, R2 Score: 0.999937921821802\n",
      "Thresh=0.0, n=321, R2 Score: 0.9999378873380304\n",
      "Thresh=0.0, n=321, R2 Score: 0.999937477843243\n",
      "Thresh=0.0, n=321, R2 Score: 0.9999382395651256\n",
      "Thresh=0.0, n=321, R2 Score: 0.9999381742922724\n",
      "Thresh=0.0, n=321, R2 Score: 0.9999379612318267\n",
      "Thresh=0.0, n=321, R2 Score: 0.9999381521241335\n",
      "Thresh=0.0, n=321, R2 Score: 0.9999383608741078\n",
      "Thresh=0.0, n=321, R2 Score: 0.9999377814235891\n",
      "Thresh=0.0, n=321, R2 Score: 0.9999383750370854\n",
      "Thresh=0.0, n=321, R2 Score: 0.9999379095061692\n",
      "Thresh=0.0, n=321, R2 Score: 0.9999377173822991\n",
      "Thresh=0.0, n=321, R2 Score: 0.9999380320467146\n",
      "Thresh=0.0, n=321, R2 Score: 0.9999375745209598\n",
      "Thresh=0.0, n=321, R2 Score: 0.9999379827841838\n",
      "Thresh=0.0, n=321, R2 Score: 0.9999376305570885\n",
      "Thresh=0.0, n=321, R2 Score: 0.999937199509944\n",
      "Thresh=0.0, n=321, R2 Score: 0.9999378510069139\n",
      "Thresh=0.0, n=321, R2 Score: 0.9999377734184279\n",
      "Thresh=0.0, n=321, R2 Score: 0.999938072072521\n",
      "Thresh=0.0, n=321, R2 Score: 0.999938259270138\n",
      "Thresh=0.0, n=321, R2 Score: 0.9999374840010594\n",
      "Thresh=0.0, n=321, R2 Score: 0.9999376878247807\n",
      "Thresh=0.0, n=321, R2 Score: 0.9999375000113819\n",
      "Thresh=0.0, n=321, R2 Score: 0.9999375665157985\n",
      "Thresh=0.0, n=321, R2 Score: 0.9999374532119777\n",
      "Thresh=0.0, n=321, R2 Score: 0.9999377087613562\n",
      "Thresh=0.0, n=321, R2 Score: 0.9999376502621009\n",
      "Thresh=0.0, n=321, R2 Score: 0.9999379329058714\n",
      "Thresh=0.0, n=321, R2 Score: 0.9999380616042332\n",
      "Thresh=0.0, n=321, R2 Score: 0.9999377654132666\n",
      "Thresh=0.0, n=321, R2 Score: 0.999938070225176\n",
      "Thresh=0.0, n=321, R2 Score: 0.9999378978063181\n",
      "Thresh=0.0, n=321, R2 Score: 0.9999379273638367\n",
      "Thresh=0.0, n=321, R2 Score: 0.9999373854759978\n",
      "Thresh=0.0, n=321, R2 Score: 0.9999382475702869\n",
      "Thresh=0.0, n=321, R2 Score: 0.9999373965600672\n",
      "Thresh=0.0, n=321, R2 Score: 0.9999379205902387\n",
      "Thresh=0.0, n=321, R2 Score: 0.9999380486728188\n",
      "Thresh=0.0, n=321, R2 Score: 0.9999382247863664\n",
      "Thresh=0.0, n=321, R2 Score: 0.9999381693660193\n",
      "Thresh=0.0, n=321, R2 Score: 0.9999380221942085\n",
      "Thresh=0.0, n=321, R2 Score: 0.9999382734331156\n",
      "Thresh=0.0, n=321, R2 Score: 0.9999375560475107\n",
      "Thresh=0.0, n=321, R2 Score: 0.9999377019877582\n",
      "Thresh=0.0, n=321, R2 Score: 0.9999375412687515\n",
      "Thresh=0.0, n=321, R2 Score: 0.9999378165231424\n",
      "Thresh=0.0, n=321, R2 Score: 0.9999379415268143\n",
      "Thresh=0.0, n=321, R2 Score: 0.9999373719288018\n",
      "Thresh=0.0, n=321, R2 Score: 0.999937562205327\n",
      "\n",
      "\n",
      "------------------------------------------\n",
      "\n",
      "\n"
     ]
    }
   ],
   "source": [
    "def gradient_boosting_wrapper(X_df=None, y_df=None, test_split=.4, random_state=42, table_name=None):\n",
    "    \"\"\"\n",
    "    Gradient Boosting Regressor - Takes data matrix and target vector, and evaluates best combination of features \n",
    "    using a GBR model.\n",
    "    \"\"\"\n",
    "    X_df = np.array(X_df)\n",
    "    y_df = np.array(y_df)\n",
    "    #feature_count = len(X_df[0])\n",
    "    feature_count=100\n",
    "    val_op, optimum_features = 0, 0\n",
    "    X_train, X_test, y_train, y_test = train_test_split(X_df, y_df, test_size=test_split)\n",
    "    model = GradientBoostingRegressor(n_estimators=feature_count)\n",
    "    model.fit(X_train, y_train)\n",
    "    #\n",
    "    # make predictions for test data and evaluate\n",
    "    pred_y = model.predict(X_test)\n",
    "    predictions = [round(value) for value in pred_y]\n",
    "    r2s = r2_score(y_test, predictions)\n",
    "    print(\"Table [\" + table_name + \"] RFR R2 Score: \" + str(r2s))\n",
    "    # \n",
    "    # fit model using each importance as a threshold\n",
    "    #print(type(model.feature_importances_))\n",
    "    thresholds = np.sort(model.feature_importances_)[:feature_count]\n",
    "    for thresh in thresholds:\n",
    "        # selecting features using threshold\n",
    "        selection = SelectFromModel(model, threshold=thresh, prefit=True)\n",
    "        select_train_x = selection.transform(X_train)\n",
    "        #\n",
    "        # training model\n",
    "        selection_model = GradientBoostingRegressor(n_estimators=feature_count)\n",
    "        selection_model.fit(select_train_x, y_train)\n",
    "        #\n",
    "        # evaluating model\n",
    "        select_test_x = selection.transform(X_test)\n",
    "        pred_y = selection_model.predict(select_test_x)\n",
    "        predictions = [round(value) for value in pred_y]\n",
    "        r2s = r2_score(y_test, predictions)\n",
    "        print(\"Thresh=\" + str(thresh) + \", n=\" + str(select_train_x.shape[1]) + \", R2 Score: \" + str(r2s))\n",
    "        if(r2s > val_op):\n",
    "            val_op = r2s\n",
    "            optimum_features = select_train_x.shape[1]\n",
    "    print(\"\\n\\n------------------------------------------\\n\\n\")\n",
    "    return val_op, optimum_features\n",
    "#\n",
    "gbw_rep_hist_snapshot_score, gbw_rep_hist_snapshot_count = gradient_boosting_wrapper(X_df=rep_hist_snapshot_df_pruned_norm,\n",
    "                                                                                      y_df=rep_hist_snapshot_df_pruned['SNAP_ID'],\n",
    "                                                                                      test_split=test_split,\n",
    "                                                                                      table_name='REP_HIST_SNAPSHOT')\n",
    "gbw_hist_sysmetric_summary_score, gbw_hist_sysmetric_summary_count = gradient_boosting_wrapper(X_df=rep_hist_sysmetric_summary_df_pruned_norm,\n",
    "                                                                                              y_df=rep_hist_sysmetric_summary_df_pruned['SNAP_ID'],\n",
    "                                                                                              test_split=test_split,\n",
    "                                                                                              table_name='REP_HIST_SYSMETRIC_SUMMARY')\n",
    "gbw_hist_sysstat_score, gbw_hist_sysstat_count = gradient_boosting_wrapper(X_df=rep_hist_sysstat_df_pruned_norm,\n",
    "                                                                          y_df=rep_hist_sysstat_df_pruned['SNAP_ID'],\n",
    "                                                                          test_split=test_split,\n",
    "                                                                          table_name='REP_HIST_SYSSTAT')"
   ]
  },
  {
   "cell_type": "markdown",
   "metadata": {},
   "source": [
    "### Recursive Feature Elimination"
   ]
  },
  {
   "cell_type": "code",
   "execution_count": 128,
   "metadata": {},
   "outputs": [
    {
     "name": "stderr",
     "output_type": "stream",
     "text": [
      "C:\\ProgramData\\Anaconda3\\lib\\site-packages\\sklearn\\utils\\__init__.py:54: FutureWarning: Conversion of the second argument of issubdtype from `int` to `np.signedinteger` is deprecated. In future, it will be treated as `np.int32 == np.dtype(int).type`.\n",
      "  if np.issubdtype(mask.dtype, np.int):\n"
     ]
    },
    {
     "name": "stdout",
     "output_type": "stream",
     "text": [
      "Table [REP_HIST_SNAPSHOT] RFR R2 Score: 0.9842431893716362 with 39 features\n",
      "\n",
      "\n",
      "------------------------------------------\n",
      "\n",
      "\n"
     ]
    },
    {
     "name": "stderr",
     "output_type": "stream",
     "text": [
      "C:\\ProgramData\\Anaconda3\\lib\\site-packages\\sklearn\\utils\\__init__.py:54: FutureWarning: Conversion of the second argument of issubdtype from `int` to `np.signedinteger` is deprecated. In future, it will be treated as `np.int32 == np.dtype(int).type`.\n",
      "  if np.issubdtype(mask.dtype, np.int):\n"
     ]
    },
    {
     "name": "stdout",
     "output_type": "stream",
     "text": [
      "Table [REP_HIST_SYSMETRIC_SUMMARY] RFR R2 Score: 0.885016798180603 with 54 features\n",
      "\n",
      "\n",
      "------------------------------------------\n",
      "\n",
      "\n",
      "Table [REP_HIST_SYSSTAT] RFR R2 Score: 0.9999957981749377 with 321 features\n",
      "\n",
      "\n",
      "------------------------------------------\n",
      "\n",
      "\n"
     ]
    },
    {
     "name": "stderr",
     "output_type": "stream",
     "text": [
      "C:\\ProgramData\\Anaconda3\\lib\\site-packages\\sklearn\\utils\\__init__.py:54: FutureWarning: Conversion of the second argument of issubdtype from `int` to `np.signedinteger` is deprecated. In future, it will be treated as `np.int32 == np.dtype(int).type`.\n",
      "  if np.issubdtype(mask.dtype, np.int):\n"
     ]
    }
   ],
   "source": [
    "if rfr_rep_hist_snapshot_score > gbw_rep_hist_snapshot_score:\n",
    "    rep_hist_snapshot_op = rfr_rep_hist_snapshot_count\n",
    "    rep_hist_snapshot_model = 0\n",
    "else:\n",
    "    rep_hist_snapshot_op = gbw_rep_hist_snapshot_count\n",
    "    rep_hist_snapshot_model = 1\n",
    "#\n",
    "if rfr_hist_sysmetric_summary_score > gbw_hist_sysmetric_summary_score:\n",
    "    rep_hist_sysmetric_summary_op = rfr_hist_sysmetric_summary_count\n",
    "    rep_hist_sysmetric_summary_model = 0\n",
    "else:\n",
    "    rep_hist_sysmetric_summary_op = gbw_hist_sysmetric_summary_count\n",
    "    rep_hist_sysmetric_summary_model = 1\n",
    "#\n",
    "if rfr_hist_sysstat_score > gbw_hist_sysstat_score:\n",
    "    rep_hist_sysstat_op = rfr_hist_sysstat_count\n",
    "    rep_hist_sysstat_model = 0\n",
    "else:\n",
    "    rep_hist_sysstat_op = gbw_hist_sysstat_count\n",
    "    rep_hist_sysstat_model = 1\n",
    "#\n",
    "def rfe_selector(X_df=None, y_df=None, test_split=.4, random_state=42, table_name=None, optimum_feature_count=0, model=None):\n",
    "    \"\"\"\n",
    "    Recursive Feature Elimination Function\n",
    "    \"\"\"\n",
    "    X_df = np.array(X_df)\n",
    "    y_df = np.array(y_df)\n",
    "    #feature_count = len(X_df[0])\n",
    "    feature_count=100\n",
    "    X_train, X_test, y_train, y_test = train_test_split(X_df, y_df, test_size=test_split)\n",
    "    if model == 0:\n",
    "        model = RandomForestRegressor(n_estimators=feature_count)\n",
    "    elif model == 1:\n",
    "        model = GradientBoostingRegressor(n_estimators=feature_count)\n",
    "    #\n",
    "    # create the RFE model and select 4 attributes\n",
    "    rfe_model = RFE(model, optimum_feature_count, step=1)\n",
    "    rfe_model = rfe_model.fit(X_train, y_train)\n",
    "    # \n",
    "    # summarize the selection of the attributes\n",
    "    #     print(rfe_model.support_)\n",
    "    #     print(rfe_model.ranking_)\n",
    "    # \n",
    "    # evaluate the model on testing set\n",
    "    pred_y = rfe_model.predict(X_test)\n",
    "    predictions = [round(value) for value in pred_y]\n",
    "    r2s = r2_score(y_test, predictions)\n",
    "    print(\"Table [\" + table_name + \"] RFR R2 Score: \" + str(r2s) + \" with \" + str(optimum_feature_count) + \" features\")\n",
    "    print(\"\\n\\n------------------------------------------\\n\\n\")\n",
    "#\n",
    "rfe_selector(X_df=rep_hist_snapshot_df_pruned_norm,\n",
    "             y_df=rep_hist_snapshot_df_pruned['SNAP_ID'],\n",
    "             test_split=test_split,\n",
    "             table_name='REP_HIST_SNAPSHOT',\n",
    "             optimum_feature_count=rep_hist_snapshot_op,\n",
    "             model = rep_hist_snapshot_model)\n",
    "rfe_selector(X_df=rep_hist_sysmetric_summary_df_pruned_norm,\n",
    "             y_df=rep_hist_sysmetric_summary_df_pruned['SNAP_ID'],\n",
    "             test_split=test_split,\n",
    "             table_name='REP_HIST_SYSMETRIC_SUMMARY',\n",
    "             optimum_feature_count=rep_hist_sysmetric_summary_op,\n",
    "             model = rep_hist_sysmetric_summary_model)\n",
    "rfe_selector(X_df=rep_hist_sysstat_df_pruned_norm,\n",
    "             y_df=rep_hist_sysstat_df_pruned['SNAP_ID'],\n",
    "             test_split=test_split,\n",
    "             table_name='REP_HIST_SYSSTAT',\n",
    "             optimum_feature_count=rep_hist_sysstat_op,\n",
    "             model = rep_hist_sysstat_model)"
   ]
  }
 ],
 "metadata": {
  "kernelspec": {
   "display_name": "Python 3",
   "language": "python",
   "name": "python3"
  },
  "language_info": {
   "codemirror_mode": {
    "name": "ipython",
    "version": 3
   },
   "file_extension": ".py",
   "mimetype": "text/x-python",
   "name": "python",
   "nbconvert_exporter": "python",
   "pygments_lexer": "ipython3",
   "version": "3.6.6"
  }
 },
 "nbformat": 4,
 "nbformat_minor": 2
}
