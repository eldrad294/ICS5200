{
 "cells": [
  {
   "cell_type": "markdown",
   "metadata": {},
   "source": [
    "# Schedule TPC-DS 1 Feature Selection\n",
    "\n",
    "This notebook is dedicated to dataset profiling. In this notebook, feature selection techniques will be implemented so as to categorize which features belay the most information to address the problem at hand - Workload Prediction. Due to the vast feature space which have been gathered during a workload's execution, manual techniques at determining which are most detrimental is not sufficient. \n",
    "\n",
    "Therefore the following work puts emphasis on automated techniques so as to determine out of the vast feature space which are most important to base future models upon. "
   ]
  },
  {
   "cell_type": "code",
   "execution_count": 82,
   "metadata": {},
   "outputs": [],
   "source": [
    "#\n",
    "# Module Import\n",
    "import pandas as pd\n",
    "import numpy as np\n",
    "import matplotlib.pyplot as plt\n",
    "from sklearn.feature_selection import SelectFromModel, SelectKBest, chi2, RFE\n",
    "from sklearn.preprocessing import RobustScaler, MinMaxScaler\n",
    "from sklearn.ensemble import RandomForestRegressor, GradientBoostingRegressor\n",
    "from sklearn.model_selection import train_test_split\n",
    "from sklearn import preprocessing\n",
    "from operator import itemgetter\n",
    "from sklearn.metrics import r2_score"
   ]
  },
  {
   "cell_type": "code",
   "execution_count": 83,
   "metadata": {},
   "outputs": [
    {
     "name": "stderr",
     "output_type": "stream",
     "text": [
      "C:\\ProgramData\\Anaconda3\\lib\\site-packages\\IPython\\core\\interactiveshell.py:2785: DtypeWarning: Columns (26,27,31) have mixed types. Specify dtype option on import or set low_memory=False.\n",
      "  interactivity=interactivity, compiler=compiler, result=result)\n"
     ]
    }
   ],
   "source": [
    "tpcds='TPCDS1' # Schema upon which to operate test\n",
    "debug_mode=True # Determines whether to plot graphs or not, useful for development purposes \n",
    "low_quartile_limit = 0 # Lower Quartile threshold to detect outliers\n",
    "upper_quartile_limit = 1 # Upper Quartile threshold to detect outliers\n",
    "test_split=.3 # Denotes which Data Split to operate under when it comes to training / validation\n",
    "#\n",
    "# Open Data\n",
    "rep_hist_snapshot_path = 'C:/Users/gabriel.sammut/University/Data_ICS5200/Schedule/' + tpcds + '/rep_hist_snapshot.csv'\n",
    "rep_hist_sysmetric_summary_path = 'C:/Users/gabriel.sammut/University/Data_ICS5200/Schedule/' + tpcds + '/rep_hist_sysmetric_summary.csv'\n",
    "rep_hist_sysstat_path = 'C:/Users/gabriel.sammut/University/Data_ICS5200/Schedule/' + tpcds + '/rep_hist_sysstat.csv'\n",
    "rep_vsql_plan_path = 'C:/Users/gabriel.sammut/University/Data_ICS5200/Schedule/' + tpcds + '/rep_vsql_plan.csv'\n",
    "#\n",
    "rep_hist_snapshot_df = pd.read_csv(rep_hist_snapshot_path)\n",
    "rep_hist_sysmetric_summary_df = pd.read_csv(rep_hist_sysmetric_summary_path)\n",
    "rep_hist_sysstat_df = pd.read_csv(rep_hist_sysstat_path)\n",
    "rep_vsql_plan_df = pd.read_csv(rep_vsql_plan_path)\n",
    "#\n",
    "def prettify_header(headers):\n",
    "    \"\"\"\n",
    "    Cleans header list from unwated character strings\n",
    "    \"\"\"\n",
    "    header_list = []\n",
    "    [header_list.append(header.replace(\"(\",\"\").replace(\")\",\"\").replace(\"'\",\"\").replace(\",\",\"\")) for header in headers]\n",
    "    return header_list\n",
    "#\n",
    "rep_hist_snapshot_df.columns = prettify_header(rep_hist_snapshot_df.columns.values)\n",
    "rep_hist_sysmetric_summary_df.columns = prettify_header(rep_hist_sysmetric_summary_df.columns.values)\n",
    "rep_hist_sysstat_df.columns = prettify_header(rep_hist_sysstat_df.columns.values)\n",
    "rep_vsql_plan_df.columns = prettify_header(rep_vsql_plan_df.columns.values)"
   ]
  },
  {
   "cell_type": "markdown",
   "metadata": {},
   "source": [
    "# Dataset Description\n",
    "\n",
    "The correlation of resources consumed (y) per snapshot (X) define our feature space. Since the objective here is to attempt to predict what resources will be incurred ahead of time, the problem can be defined as a number of questions:\n",
    "\n",
    "* Q: What resources can I predict to be in usage at point N in time?\n",
    "* Q: What resources should I be predicting that accurately portray a schedule's workload?\n",
    "* Q: What knowledge/data do I have ahead of time which I can use to base my predictions off?\n",
    "\n",
    "Due to the vast feature space in the available metrics monitored and captured during a workload's execution, it is important to rank which attribute is most beneficial than others. Additionally, it is important to analyze such features individually, and considerate of other features in two types of analysis:\n",
    "\n",
    "* Univariate Analysis\n",
    "* Multivariate Analysis\n",
    "\n",
    "Furthermore, multiple types of feature ranking / analysis techniques ara available, amongst which will be considered:\n",
    "\n",
    "* Filter Methods\n",
    "* Wrapper Methods\n",
    "* Embedded Methods"
   ]
  },
  {
   "cell_type": "markdown",
   "metadata": {},
   "source": [
    "# Data Preprocessing\n",
    "\n",
    "We apply a number of preprocessing techniques to the presented dataframes, particularly to normalize and/or scale feature vectors into a more suitable representation for downstream estimators:\n",
    "\n",
    "Relative Links:\n",
    "* http://scikit-learn.org/stable/modules/preprocessing.html\n",
    "* https://machinelearningmastery.com/improve-model-accuracy-with-data-pre-processing/\n",
    "* https://machinelearningmastery.com/normalize-standardize-time-series-data-python/\n",
    "\n",
    "### Table Pivots\n",
    "\n",
    "To better handle the following table, a number of table pivots are made on tables:\n",
    "* rep_hist_sysmetric_summary\n",
    "* rep_hist_sysstat"
   ]
  },
  {
   "cell_type": "code",
   "execution_count": 84,
   "metadata": {
    "scrolled": true
   },
   "outputs": [
    {
     "name": "stdout",
     "output_type": "stream",
     "text": [
      "Index(['SNAP_ID', 'Active Parallel Sessions', 'Active Serial Sessions',\n",
      "       'Average Active Sessions',\n",
      "       'Average Synchronous Single-Block Read Latency',\n",
      "       'Background CPU Usage Per Sec', 'Background Checkpoints Per Sec',\n",
      "       'Background Time Per Sec', 'Branch Node Splits Per Sec',\n",
      "       'Branch Node Splits Per Txn',\n",
      "       ...\n",
      "       'User Commits Percentage', 'User Limit %',\n",
      "       'User Rollback Undo Records Applied Per Txn',\n",
      "       'User Rollback UndoRec Applied Per Sec', 'User Rollbacks Per Sec',\n",
      "       'User Rollbacks Percentage', 'User Transaction Per Sec',\n",
      "       'VM in bytes Per Sec', 'VM out bytes Per Sec',\n",
      "       'Workload Capture and Replay status'],\n",
      "      dtype='object', name='METRIC_NAME', length=162)\n",
      "REP_HIST_SYSMETRIC Shape: (172, 162)\n",
      "Index(['SNAP_ID', 'ADG global flush', 'ADG parselock X get attempts',\n",
      "       'ADG parselock X get successes', 'BA au bytes allocated',\n",
      "       'BA bytes for file maps', 'BA bytes read from disk',\n",
      "       'BA bytes read from flash', 'BA count - borrowed from other node',\n",
      "       'BA count - cache denied',\n",
      "       ...\n",
      "       'user logouts cumulative', 'user rollbacks',\n",
      "       'very large tracked transactions', 'workarea executions - multipass',\n",
      "       'workarea executions - onepass', 'workarea executions - optimal',\n",
      "       'workarea memory allocated', 'write clones created for recovery',\n",
      "       'write clones created in background',\n",
      "       'write clones created in foreground'],\n",
      "      dtype='object', name='STAT_NAME', length=1179)\n",
      "REP_HIST_SYSSTAT_DF Shape: (172, 1179)\n",
      "\n",
      "\n",
      "Table [REP_HIST_SNAPSHOT] - (20536, 88)\n",
      "Table [REP_HIST_SYSMETRIC_SUMMARY] - (172, 162)\n",
      "Table [REP_HIST_SYSSTAT] - (172, 1179)\n",
      "Table [REP_VSQL_PLAN] - (215505, 42)\n"
     ]
    }
   ],
   "source": [
    "#\n",
    "# Table REP_HIST_SYSMETRIC_SUMMARY\n",
    "rep_hist_sysmetric_summary_df = rep_hist_sysmetric_summary_df.pivot(index='SNAP_ID', columns='METRIC_NAME', values='AVERAGE')\n",
    "rep_hist_sysmetric_summary_df.reset_index(inplace=True)\n",
    "print(rep_hist_sysmetric_summary_df.columns)\n",
    "rep_hist_sysmetric_summary_df[['SNAP_ID']] = rep_hist_sysmetric_summary_df[['SNAP_ID']].astype(int)\n",
    "rep_hist_sysmetric_summary_df.sort_values(by=['SNAP_ID'],inplace=True,ascending=True)\n",
    "print(\"REP_HIST_SYSMETRIC Shape: \" + str(rep_hist_sysmetric_summary_df.shape))\n",
    "#\n",
    "# Table REP_HIST_SYSSTAT\n",
    "rep_hist_sysstat_df = rep_hist_sysstat_df.pivot(index='SNAP_ID', columns='STAT_NAME', values='VALUE')\n",
    "rep_hist_sysstat_df.reset_index(inplace=True)\n",
    "print(rep_hist_sysstat_df.columns)\n",
    "rep_hist_sysstat_df[['SNAP_ID']] = rep_hist_sysstat_df[['SNAP_ID']].astype(int)\n",
    "rep_hist_sysstat_df.sort_values(by=['SNAP_ID'],inplace=True,ascending=True)\n",
    "print(\"REP_HIST_SYSSTAT_DF Shape: \" + str(rep_hist_sysstat_df.shape))\n",
    "#\n",
    "# Refreshing columns with pivoted columns\n",
    "def convert_list_to_upper(col_list):\n",
    "    \"\"\"\n",
    "    Takes a string and converts elements to upper\n",
    "    \"\"\"\n",
    "    upper_col_list = []\n",
    "    for col in col_list:\n",
    "        upper_col_list.append(col.upper())\n",
    "    return upper_col_list\n",
    "#\n",
    "rep_hist_sysmetric_summary_df.rename(str.upper, inplace=True, axis='columns')\n",
    "rep_hist_sysstat_df.rename(str.upper, inplace=True, axis='columns')\n",
    "#\n",
    "rep_hist_snapshot_headers = rep_hist_snapshot_df.columns\n",
    "rep_hist_sysmetric_summary_headers = list(rep_hist_sysmetric_summary_df.columns)\n",
    "rep_hist_sysstat_headers = list(rep_hist_sysstat_df.columns)\n",
    "rep_vsql_plan_headers = rep_vsql_plan_df.columns\n",
    "#\n",
    "# DF Shape\n",
    "print('\\n\\nTable [REP_HIST_SNAPSHOT] - ' + str(rep_hist_snapshot_df.shape))\n",
    "print('Table [REP_HIST_SYSMETRIC_SUMMARY] - ' + str(rep_hist_sysmetric_summary_df.shape))\n",
    "print('Table [REP_HIST_SYSSTAT] - ' + str(rep_hist_sysstat_df.shape))\n",
    "print('Table [REP_VSQL_PLAN] - ' + str(rep_vsql_plan_df.shape))"
   ]
  },
  {
   "cell_type": "markdown",
   "metadata": {},
   "source": [
    "### Checking for NaN Values\n",
    "\n",
    "Checking dataframes for potential missing values/data:"
   ]
  },
  {
   "cell_type": "code",
   "execution_count": 85,
   "metadata": {
    "scrolled": true
   },
   "outputs": [
    {
     "name": "stdout",
     "output_type": "stream",
     "text": [
      "Table REP_HIST_SNAPSHOT: ['OPTIMIZER_COST', 'MODULE', 'ACTION', 'SQL_PROFILE', 'BIND_DATA', 'FLAG']\n",
      "\n",
      "\n",
      "Table REP_HIST_SYSMETRIC_SUMMARY: ['ACTIVE PARALLEL SESSIONS', 'ACTIVE SERIAL SESSIONS', 'AVERAGE ACTIVE SESSIONS', 'AVERAGE SYNCHRONOUS SINGLE-BLOCK READ LATENCY', 'BACKGROUND CPU USAGE PER SEC', 'BACKGROUND TIME PER SEC', 'CAPTURED USER CALLS', 'CELL PHYSICAL IO INTERCONNECT BYTES', 'DDL STATEMENTS PARALLELIZED PER SEC', 'DML STATEMENTS PARALLELIZED PER SEC', 'HOST CPU USAGE PER SEC', 'I/O MEGABYTES PER SECOND', 'I/O REQUESTS PER SECOND', 'PX OPERATIONS NOT DOWNGRADED PER SEC', 'QUERIES PARALLELIZED PER SEC', 'REPLAYED USER CALLS', 'RUN QUEUE PER SEC', 'SESSION COUNT', 'TEMP SPACE USED', 'TOTAL PGA ALLOCATED', 'TOTAL PGA USED BY SQL WORKAREAS', 'VM IN BYTES PER SEC', 'VM OUT BYTES PER SEC', 'WORKLOAD CAPTURE AND REPLAY STATUS']\n",
      "\n",
      "\n",
      "Table REP_HIST_SYSSTAT: ['FORWARDED 2PC COMMANDS ACROSS RAC NODES', 'IM SPACE SMU CREATIONS COMMITTED', 'PARALLEL OPERATIONS DOWNGRADED TO SERIAL']\n",
      "\n",
      "\n",
      "Table REP_VSQL_PLAN: ['OPTIONS', 'OBJECT_NODE', 'OBJECT#', 'OBJECT_OWNER', 'OBJECT_NAME', 'OBJECT_ALIAS', 'OBJECT_TYPE', 'OPTIMIZER', 'PARENT_ID', 'POSITION', 'COST', 'CARDINALITY', 'BYTES', 'OTHER_TAG', 'PARTITION_START', 'PARTITION_STOP', 'PARTITION_ID', 'OTHER', 'DISTRIBUTION', 'CPU_COST', 'IO_COST', 'TEMP_SPACE', 'ACCESS_PREDICATES', 'FILTER_PREDICATES', 'PROJECTION', 'TIME', 'QBLOCK_NAME', 'REMARKS', 'OTHER_XML']\n",
      "\n",
      "\n"
     ]
    }
   ],
   "source": [
    "def get_na_columns(df, headers):\n",
    "    \"\"\"\n",
    "    Return columns which consist of NAN values\n",
    "    \"\"\"\n",
    "    na_list = []\n",
    "    for head in headers:\n",
    "        if df[head].isnull().values.any():\n",
    "            na_list.append(head)\n",
    "    return na_list\n",
    "#\n",
    "print(\"Table REP_HIST_SNAPSHOT: \" + str(get_na_columns(df=rep_hist_snapshot_df,headers=rep_hist_snapshot_headers)) + \"\\n\\n\")\n",
    "print(\"Table REP_HIST_SYSMETRIC_SUMMARY: \" + str(get_na_columns(df=rep_hist_sysmetric_summary_df,headers=rep_hist_sysmetric_summary_headers)) + \"\\n\\n\")\n",
    "print(\"Table REP_HIST_SYSSTAT: \" + str(get_na_columns(df=rep_hist_sysstat_df,headers=rep_hist_sysstat_headers)) + \"\\n\\n\")\n",
    "print(\"Table REP_VSQL_PLAN: \" + str(get_na_columns(df=rep_vsql_plan_df,headers=rep_vsql_plan_headers)) + \"\\n\\n\")\n",
    "#\n",
    "def fill_na(df):\n",
    "    \"\"\"\n",
    "    Replaces NA columns with 0s\n",
    "    \"\"\"\n",
    "    return df.fillna(0)\n",
    "#\n",
    "# Populating NaN values with amount '0'\n",
    "rep_hist_snapshot_df = fill_na(df=rep_hist_snapshot_df)\n",
    "rep_hist_sysmetric_summary_df = fill_na(df=rep_hist_sysmetric_summary_df)\n",
    "rep_hist_sysstat_df = fill_na(df=rep_hist_sysstat_df)\n",
    "rep_vsql_plan_df = fill_na(df=rep_vsql_plan_df)"
   ]
  },
  {
   "cell_type": "markdown",
   "metadata": {},
   "source": [
    "### Checking for Negative Values\n",
    "\n",
    "A function which retrieves a count per column for nay negative values it might contain"
   ]
  },
  {
   "cell_type": "code",
   "execution_count": 86,
   "metadata": {
    "scrolled": false
   },
   "outputs": [
    {
     "name": "stdout",
     "output_type": "stream",
     "text": [
      "---------------WITH NEGATIVE VALUES---------------\n",
      "Table REP_HIST_SNAPSHOT: [['IO_OFFLOAD_RETURN_BYTES_TOTAL', 11], ['IO_OFFLOAD_RETURN_BYTES_DELTA', 6]]\n",
      "\n",
      "\n",
      "Table REP_HIST_SYSMETRIC_SUMMARY: []\n",
      "\n",
      "\n",
      "Table REP_HIST_SYSSTAT: []\n",
      "\n",
      "\n",
      "Table REP_VSQL_PLAN: []\n",
      "\n",
      "\n",
      "\n",
      "\n",
      "---------------WITHOUT NEGATIVE VALUES---------------\n",
      "Table REP_HIST_SNAPSHOT: []\n",
      "\n",
      "\n",
      "Table REP_HIST_SYSMETRIC_SUMMARY: []\n",
      "\n",
      "\n",
      "Table REP_HIST_SYSSTAT: []\n",
      "\n",
      "\n",
      "Table REP_VSQL_PLAN: []\n",
      "\n",
      "\n"
     ]
    }
   ],
   "source": [
    "def count_neg_df(df, headers):\n",
    "    \"\"\"\n",
    "    Return columns with respective negative value count\n",
    "    \"\"\"\n",
    "    neg_list = []\n",
    "    for head in headers:\n",
    "        count = 0\n",
    "        try:\n",
    "            count = sum(n < 0 for n in df[head].values.flatten())\n",
    "        except Exception:\n",
    "            pass\n",
    "            #print('Non numeric column [' + head + ']')\n",
    "        if count > 0:\n",
    "            neg_list.append([head,count])\n",
    "    return neg_list\n",
    "#\n",
    "def fill_neg(df, headers):\n",
    "    \"\"\"\n",
    "    Sets any data anomilies resulting in negative values to 0\n",
    "    \n",
    "    :param headers: list as follows eg: ['column_name', 'negative_count']\n",
    "    \"\"\"\n",
    "    for head in headers:\n",
    "        try:\n",
    "            df[df[head[0]] < 0] = 0\n",
    "        except Exception:\n",
    "            pass\n",
    "            #print('Non numeric column [' + head + ']')\n",
    "    return df\n",
    "#\n",
    "# Check For Negative Values within dataframes\n",
    "print('---------------WITH NEGATIVE VALUES---------------')\n",
    "print(\"Table REP_HIST_SNAPSHOT: \" + str(count_neg_df(df=rep_hist_snapshot_df,headers=rep_hist_snapshot_headers)) + \"\\n\\n\")\n",
    "print(\"Table REP_HIST_SYSMETRIC_SUMMARY: \" + str(count_neg_df(df=rep_hist_sysmetric_summary_df,headers=rep_hist_sysmetric_summary_headers)) + \"\\n\\n\")\n",
    "print(\"Table REP_HIST_SYSSTAT: \" + str(count_neg_df(df=rep_hist_sysstat_df,headers=rep_hist_sysstat_headers)) + \"\\n\\n\")\n",
    "print(\"Table REP_VSQL_PLAN: \" + str(count_neg_df(df=rep_vsql_plan_df,headers=rep_vsql_plan_headers)) + \"\\n\\n\")\n",
    "#\n",
    "# Replace Negative Values with a minimal threshold of 0\n",
    "rep_hist_snapshot_df = fill_neg(df=rep_hist_snapshot_df,headers=count_neg_df(df=rep_hist_snapshot_df,headers=rep_hist_snapshot_headers))\n",
    "rep_hist_sysmetric_summary_df = fill_neg(df=rep_hist_sysmetric_summary_df,headers=count_neg_df(df=rep_hist_sysmetric_summary_df,headers=rep_hist_sysmetric_summary_headers))\n",
    "rep_hist_sysstat_df = fill_neg(df=rep_hist_sysstat_df,headers=count_neg_df(df=rep_hist_sysstat_df,headers=rep_hist_sysstat_headers))\n",
    "rep_vsql_plan_df = fill_neg(df=rep_vsql_plan_df,headers=count_neg_df(df=rep_vsql_plan_df,headers=rep_vsql_plan_headers))\n",
    "#\n",
    "# Check For Negative Values within dataframes\n",
    "print('\\n\\n---------------WITHOUT NEGATIVE VALUES---------------')\n",
    "print(\"Table REP_HIST_SNAPSHOT: \" + str(count_neg_df(df=rep_hist_snapshot_df,headers=rep_hist_snapshot_headers)) + \"\\n\\n\")\n",
    "print(\"Table REP_HIST_SYSMETRIC_SUMMARY: \" + str(count_neg_df(df=rep_hist_sysmetric_summary_df,headers=rep_hist_sysmetric_summary_headers)) + \"\\n\\n\")\n",
    "print(\"Table REP_HIST_SYSSTAT: \" + str(count_neg_df(df=rep_hist_sysstat_df,headers=rep_hist_sysstat_headers)) + \"\\n\\n\")\n",
    "print(\"Table REP_VSQL_PLAN: \" + str(count_neg_df(df=rep_vsql_plan_df,headers=rep_vsql_plan_headers)) + \"\\n\\n\")"
   ]
  },
  {
   "cell_type": "markdown",
   "metadata": {},
   "source": [
    "## Visualizing Feature Distribution & Skewness\n",
    "\n",
    "In order to decide between a normalization strategy, it is important to understand the underlying data spread. Understanding of dataset mean, variance, skewness on a per column/feature basis helps determine whether a standardization or normalization strategy should be utilized on the datasets.\n",
    "\n",
    "### Plotting Data Distribution\n",
    "\n",
    "To better decide which normalization technique ought to be utilized for the technique at hand, a number of feature columns will be plotted as histograms to better convey the distribution spread."
   ]
  },
  {
   "cell_type": "code",
   "execution_count": 87,
   "metadata": {
    "scrolled": true
   },
   "outputs": [],
   "source": [
    "def plot_hist(df=None, tpc_type=None, table=None, feature_column=None, bin_size=10):\n",
    "    \"\"\"\n",
    "    Plots histogram distribution\n",
    "    \"\"\"\n",
    "    #\n",
    "    try:\n",
    "        df['SNAP_ID'] = df['SNAP_ID'].astype(float)\n",
    "        df[feature_column] = df[feature_column].astype(float)\n",
    "        #\n",
    "        max_val = df[feature_column].max()\n",
    "        start_snap, end_snap = int(df['SNAP_ID'].min()), int(df['SNAP_ID'].max())\n",
    "        #\n",
    "        df[feature_column].hist(bins=10,figsize=(12,8))\n",
    "        plt.ylabel(feature_column)\n",
    "        plt.xlabel('Bin Ranges Of ' + str(int(max_val/bin_size)))\n",
    "        plt.title(tpc_type + ' Table ' + table.upper() + '.' + str(feature_column) + \" between \" + str(start_snap) + \" - \" + str(end_snap))\n",
    "        plt.show()\n",
    "    except Exception:\n",
    "        print('Could not plot column: ' + feature_column)\n",
    "#\n",
    "def plot_scatter(df=None, tpc_type=None, table=None, feature_column=None):\n",
    "    \"\"\"\n",
    "    Plots scatter plots vs SNAP_ID\n",
    "    \"\"\"\n",
    "    #\n",
    "    try:\n",
    "        df['SNAP_ID'] = df['SNAP_ID'].astype(int)\n",
    "        df[feature_column] = df[feature_column].astype(int)\n",
    "        start_snap, end_snap = int(df['SNAP_ID'].min()), int(df['SNAP_ID'].max())\n",
    "        #\n",
    "        df.plot.scatter(x='SNAP_ID',\n",
    "                        y=feature_column,\n",
    "                        figsize=(12,8))\n",
    "        plt.ylabel(feature_column)\n",
    "        plt.xlabel('SNAP ID')\n",
    "        plt.title(tpc_type + ' Table ' + table.upper() + '.' + str(feature_column) + \" between \" + str(start_snap) + \" - \" + str(end_snap))\n",
    "        plt.show()\n",
    "    except Exception:\n",
    "        print('Could not plot column: ' + feature_column)\n",
    "#\n",
    "def plot_boxplot(df=None, tpc_type=None, table=None, feature_columns=None):\n",
    "    \"\"\"\n",
    "    Plots quartile plots to estimate mean and sigma (std dev)\n",
    "    \"\"\"\n",
    "    #\n",
    "    try:\n",
    "        for feature_column in feature_columns:\n",
    "            df[feature_column] = df[feature_column].astype(int)\n",
    "        df.boxplot(column=feature_columns, figsize=(12,8), grid=True)\n",
    "        plt.title(tpc_type + ' ' + str(feature_columns))\n",
    "        plt.show()\n",
    "    except Exception:\n",
    "        print('Could not plot column: ' + feature_column)\n",
    "#\n",
    "if debug_mode is False:\n",
    "    #\n",
    "    # Plotting Histograms of data distribution\n",
    "    for header in rep_hist_snapshot_headers:\n",
    "        print('REP_HIST_SNAPSHOT - ' + header + ' - OUTLIERS HISTOGRAM')\n",
    "        plot_hist(df=rep_hist_snapshot_df, tpc_type=tpcds, table='rep_hist_snapshot', feature_column=header, bin_size=10)\n",
    "    for header in rep_hist_sysmetric_summary_headers:\n",
    "        print('REP_HIST_SYSMETRIC_SUMMARY - ' + header + ' - OUTLIERS HISTOGRAM')\n",
    "        plot_hist(df=rep_hist_sysmetric_summary_df, tpc_type=tpcds, table='rep_hist_sysmetric_summary', feature_column=header, bin_size=10)\n",
    "    for header in rep_hist_sysstat_headers:\n",
    "        print('REP_HIST_SYSSTAT - ' + header + ' - OUTLIERS HISTOGRAM')\n",
    "        plot_hist(df=rep_hist_sysstat_df, tpc_type=tpcds, table='rep_hist_sysstat', feature_column=header, bin_size=10)\n",
    "    #\n",
    "    # Plotting Scatter Plots of data distribution\n",
    "    for header in rep_hist_snapshot_headers:\n",
    "        print('REP_HIST_SNAPSHOT - ' + header + ' - OUTLIERS SCATTER')\n",
    "        plot_scatter(df=rep_hist_snapshot_df, tpc_type=tpcds,table='rep_hist_snapshot',feature_column=header)\n",
    "    for header in rep_hist_sysmetric_summary_headers:\n",
    "        print('REP_HIST_SYSMETRIC_SUMMARY - ' + header + ' - OUTLIERS SCATTER')\n",
    "        plot_scatter(df=rep_hist_sysmetric_summary_df, tpc_type=tpcds,table='rep_hist_sysmetric_summary',feature_column=header)\n",
    "    for header in rep_hist_sysstat_headers:\n",
    "        print('REP_HIST_SYSSTAT - ' + header + ' - OUTLIERS SCATTER')\n",
    "        plot_scatter(df=rep_hist_sysstat_df, tpc_type=tpcds,table='rep_hist_sysstat',feature_column=header)\n",
    "    #\n",
    "    # Plotting Box Plots of data distribution\n",
    "    whisker_boxes_per_plot = 3\n",
    "    for i in range(whisker_boxes_per_plot, len(rep_hist_snapshot_headers), whisker_boxes_per_plot):\n",
    "        print('REP_HIST_SNAPSHOT - ' + header + ' - OUTLIERS WHISKER')\n",
    "        plot_boxplot(df=rep_hist_snapshot_df, tpc_type=tpcds,table='rep_hist_snapshot',feature_columns=rep_hist_snapshot_headers[i-whisker_boxes_per_plot:i])"
   ]
  },
  {
   "cell_type": "markdown",
   "metadata": {},
   "source": [
    "### Outlier Handling\n",
    "\n",
    "https://machinelearningmastery.com/how-to-identify-outliers-in-your-data/\n",
    "\n",
    "As can be appreciated from the previous plots, data is heavily skewed on particular (smallest) bins. This skew in the plotted histograms is a result of data point outliers - these need to be evaluated and removed if neccessary.\n",
    "\n",
    "Following the 3 Standard Deviation Rule, we can categorize our dataset into subsets consisting of the following ranges:\n",
    "* 0     - 68.27%\n",
    "* 68.28 - 95.45%\n",
    "* 95.46 - 99.73%\n",
    "* 99.74 - 100%\n",
    "\n",
    "It should be mentioned, that given the time series nature of the dataset, it is not a safe assumption to ignore outliers. By training respective models on outlier insensitive dataset, we would invite a potential problem, which risks blinding any models we train to future predicted spikes of activity."
   ]
  },
  {
   "cell_type": "code",
   "execution_count": 88,
   "metadata": {
    "scrolled": true
   },
   "outputs": [
    {
     "name": "stdout",
     "output_type": "stream",
     "text": [
      "\n",
      "\n",
      "DATAFRAMES WITH OUTLIERS\n",
      "(20536, 88)\n",
      "(172, 162)\n",
      "(172, 1179)\n",
      "(215505, 42)\n",
      "----------------------------\n",
      "\n",
      "\n",
      "OUTLIERS\n",
      "0\n",
      "0\n",
      "0\n",
      "0\n",
      "----------------------------\n",
      "\n",
      "\n",
      "DATAFRAMES WITHOUT OUTLIERS\n",
      "(20536, 88)\n",
      "(172, 162)\n",
      "(172, 1179)\n",
      "(215505, 42)\n",
      "\n",
      "\n",
      "First 20 record sample before outliers:\n",
      "0     04kug40zbu4dm\n",
      "1     06g9mhm5ba7tt\n",
      "2     0kcbwucxmazcp\n",
      "3     0vcs754gpmxrc\n",
      "4     1p5grz1gs7fjq\n",
      "5     1vpham7m95msd\n",
      "6     1wz811srf8xh8\n",
      "7     2tkw12w5k68vd\n",
      "8     360qzju916m57\n",
      "9     38243c4tqrkxm\n",
      "10    3bfw7718musbv\n",
      "11    3kywng531fcxu\n",
      "12    3m8smr0v7v1m6\n",
      "13    3ru3r9twxsazy\n",
      "14    3un99a0zwp4vd\n",
      "15    3y6pgnk2ubw7g\n",
      "16    45bv8pz1znkhr\n",
      "17    45h233mys5n3s\n",
      "18    45zq5xs59sjsj\n",
      "19    4b4wp0a8dvkf0\n",
      "Name: SQL_ID, dtype: object\n",
      "---------------------------------------\n",
      "First 20 record sample after outliers:\n",
      "0     04kug40zbu4dm\n",
      "1     06g9mhm5ba7tt\n",
      "2     0kcbwucxmazcp\n",
      "3     0vcs754gpmxrc\n",
      "4     1p5grz1gs7fjq\n",
      "5     1vpham7m95msd\n",
      "6     1wz811srf8xh8\n",
      "7     2tkw12w5k68vd\n",
      "8     360qzju916m57\n",
      "9     38243c4tqrkxm\n",
      "10    3bfw7718musbv\n",
      "11    3kywng531fcxu\n",
      "12    3m8smr0v7v1m6\n",
      "13    3ru3r9twxsazy\n",
      "14    3un99a0zwp4vd\n",
      "15    3y6pgnk2ubw7g\n",
      "16    45bv8pz1znkhr\n",
      "17    45h233mys5n3s\n",
      "18    45zq5xs59sjsj\n",
      "19    4b4wp0a8dvkf0\n",
      "Name: SQL_ID, dtype: object\n",
      "---------------------------------------\n"
     ]
    }
   ],
   "source": [
    "def get_outliers(df=None, low_quartile_limit=.01, upper_quartile_limit=.99, headers=None):\n",
    "    \"\"\"\n",
    "    Detect and return which rows are considered outliers within the dataset, determined by :quartile_limit (99%)\n",
    "    \"\"\"\n",
    "    outlier_rows = [] # This list of lists consists of elements of the following notation [column,rowid]\n",
    "    for header in headers:\n",
    "        try:\n",
    "            df[header] = df[header].astype(float)\n",
    "            q = df[header].quantile(upper_quartile_limit)\n",
    "            series_row = (df[df[header] > q].index)\n",
    "            for id in list(np.array(series_row)):\n",
    "                outlier_rows.append([header,id])\n",
    "            q = df[header].quantile(low_quartile_limit)\n",
    "            series_row = (df[df[header] < q].index)\n",
    "            for id in list(np.array(series_row)):\n",
    "                outlier_rows.append([header,id])\n",
    "        except Exception as e:\n",
    "            print(str(e))\n",
    "    #\n",
    "    unique_ids = []\n",
    "    unique_outlier_rows = []\n",
    "    #\n",
    "    for col, rowid in outlier_rows:\n",
    "        if rowid not in unique_ids:\n",
    "            unique_outlier_rows.append([col,rowid])\n",
    "            unique_ids.append(rowid)\n",
    "    return unique_outlier_rows\n",
    "#\n",
    "def remove_outliers(df=None, low_quartile_limit=.01, upper_quartile_limit=.99, headers=None):\n",
    "    \"\"\"\n",
    "    Remove rows which are considered outliers within the dataset, determined by :quartile_limit (99%)\n",
    "    \"\"\"\n",
    "    length_before = len(df)\n",
    "    outliers_index = []\n",
    "    for header in headers:\n",
    "        try:\n",
    "            df[header] = df[header].astype(float)\n",
    "            q = df[header].quantile(upper_quartile_limit)\n",
    "            outliers_index.append(list(np.array(df[df[header] > q].index)))\n",
    "            q = df[header].quantile(low_quartile_limit)\n",
    "            outliers_index.append(list(np.array(df[df[header] < q].index)))\n",
    "        except Exception as e:\n",
    "            print(str(e))\n",
    "    #flat_outliers_index = [item for sublist in l for item in outliers_index]\n",
    "    flat_outliers_index = [item for sublist in outliers_index for item in sublist]\n",
    "    outliers_index = list(set(flat_outliers_index))\n",
    "    df = df.drop(outliers_index)\n",
    "    return df\n",
    "#\n",
    "# Defining which columns will be exposed to outliers\n",
    "# rep_hist_snapshot_header_outliers = rep_hist_snapshot_headers\n",
    "rep_hist_snapshot_header_outliers = ['PLAN_HASH_VALUE',\n",
    "                                    'OPTIMIZER_COST',\n",
    "                                    'OPTIMIZER_ENV_HASH_VALUE',\n",
    "                                    'SHARABLE_MEM',\n",
    "                                    'LOADED_VERSIONS',\n",
    "                                    'VERSION_COUNT',\n",
    "                                    'FORCE_MATCHING_SIGNATURE',\n",
    "                                    'PARSING_SCHEMA_ID',\n",
    "                                    'PARSING_USER_ID',\n",
    "                                    'FETCHES_TOTAL',\n",
    "                                    'FETCHES_DELTA',\n",
    "                                    'END_OF_FETCH_COUNT_TOTAL',\n",
    "                                    'END_OF_FETCH_COUNT_DELTA',\n",
    "                                    'SORTS_TOTAL',\n",
    "                                    'SORTS_DELTA',\n",
    "                                    'EXECUTIONS_TOTAL',\n",
    "                                    'EXECUTIONS_DELTA',\n",
    "                                    'PX_SERVERS_EXECS_TOTAL',\n",
    "                                    'PX_SERVERS_EXECS_DELTA',\n",
    "                                    'LOADS_TOTAL',\n",
    "                                    'LOADS_DELTA',\n",
    "                                    'INVALIDATIONS_TOTAL',\n",
    "                                    'INVALIDATIONS_DELTA',\n",
    "                                    'PARSE_CALLS_TOTAL',\n",
    "                                    'PARSE_CALLS_DELTA',\n",
    "                                    'DISK_READS_TOTAL',\n",
    "                                    'DISK_READS_DELTA',\n",
    "                                    'BUFFER_GETS_TOTAL',\n",
    "                                    'BUFFER_GETS_DELTA',\n",
    "                                    'ROWS_PROCESSED_TOTAL',\n",
    "                                    'ROWS_PROCESSED_DELTA',\n",
    "                                    'CPU_TIME_TOTAL',\n",
    "                                    'CPU_TIME_DELTA',\n",
    "                                    'ELAPSED_TIME_TOTAL',\n",
    "                                    'ELAPSED_TIME_DELTA',\n",
    "                                    'IOWAIT_TOTAL',\n",
    "                                    'IOWAIT_DELTA',\n",
    "                                    'CLWAIT_TOTAL',\n",
    "                                    'CLWAIT_DELTA',\n",
    "                                    'APWAIT_TOTAL',\n",
    "                                    'APWAIT_DELTA',\n",
    "                                    'CCWAIT_TOTAL',\n",
    "                                    'CCWAIT_DELTA',\n",
    "                                    'DIRECT_WRITES_TOTAL',\n",
    "                                    'DIRECT_WRITES_DELTA',\n",
    "                                    'PLSEXEC_TIME_TOTAL',\n",
    "                                    'PLSEXEC_TIME_DELTA',\n",
    "                                    'JAVEXEC_TIME_TOTAL',\n",
    "                                    'JAVEXEC_TIME_DELTA',\n",
    "                                    'IO_OFFLOAD_ELIG_BYTES_TOTAL',\n",
    "                                    'IO_OFFLOAD_ELIG_BYTES_DELTA',\n",
    "                                    'IO_INTERCONNECT_BYTES_TOTAL',\n",
    "                                    'IO_INTERCONNECT_BYTES_DELTA',\n",
    "                                    'PHYSICAL_READ_REQUESTS_TOTAL',\n",
    "                                    'PHYSICAL_READ_REQUESTS_DELTA',\n",
    "                                    'PHYSICAL_READ_BYTES_TOTAL',\n",
    "                                    'PHYSICAL_READ_BYTES_DELTA',\n",
    "                                    'PHYSICAL_WRITE_REQUESTS_TOTAL',\n",
    "                                    'PHYSICAL_WRITE_REQUESTS_DELTA',\n",
    "                                    'PHYSICAL_WRITE_BYTES_TOTAL',\n",
    "                                    'PHYSICAL_WRITE_BYTES_DELTA',\n",
    "                                    'OPTIMIZED_PHYSICAL_READS_TOTAL',\n",
    "                                    'OPTIMIZED_PHYSICAL_READS_DELTA',\n",
    "                                    'CELL_UNCOMPRESSED_BYTES_TOTAL',\n",
    "                                    'CELL_UNCOMPRESSED_BYTES_DELTA',\n",
    "                                    'IO_OFFLOAD_RETURN_BYTES_TOTAL',\n",
    "                                    'IO_OFFLOAD_RETURN_BYTES_DELTA']\n",
    "rep_hist_sysmetric_summary_header_outliers = rep_hist_sysmetric_summary_headers\n",
    "rep_hist_sysstat_header_outliers = rep_hist_sysstat_headers\n",
    "#rep_vsql_plan_headers_outliers = rep_vsql_plan_headers\n",
    "rep_vsql_plan_headers_outliers = ['PLAN_HASH_VALUE',\n",
    "                                  'FULL_PLAN_HASH_VALUE',\n",
    "                                  'CHILD_NUMBER',\n",
    "                                  'PARENT_ID',\n",
    "                                  'DEPTH',\n",
    "                                  'POSITION',\n",
    "                                  'SEARCH_COLUMNS',\n",
    "                                  'COST',\n",
    "                                  'CARDINALITY',\n",
    "                                  'BYTES',\n",
    "                                  'PARTITION_ID',\n",
    "                                  'IO_COST',\n",
    "                                  'TEMP_SPACE',\n",
    "                                  'TIME',\n",
    "                                  'CON_ID']\n",
    "#\n",
    "#Printing outliers to screen\n",
    "outliers = get_outliers(df=rep_hist_snapshot_df,\n",
    "                           headers=rep_hist_snapshot_header_outliers,\n",
    "                           upper_quartile_limit=upper_quartile_limit,\n",
    "                           low_quartile_limit=low_quartile_limit)\n",
    "for header, loc in outliers:\n",
    "    print(str(loc+2) + \" - \" + str(rep_hist_snapshot_df.iloc[loc]['SQL_ID']) + \" - \" + str(header) + \" - \" + str(rep_hist_snapshot_df.iloc[loc][header]))\n",
    "#\n",
    "# Printing dataframe before adjustments\n",
    "print('\\n\\nDATAFRAMES WITH OUTLIERS')\n",
    "print(rep_hist_snapshot_df.shape)\n",
    "print(rep_hist_sysmetric_summary_df.shape)\n",
    "print(rep_hist_sysstat_df.shape)\n",
    "print(rep_vsql_plan_df.shape)\n",
    "print('----------------------------')\n",
    "#\n",
    "#Printing outliers to screen\n",
    "rep_hist_snapshot_df_outliers = get_outliers(df=rep_hist_snapshot_df, \n",
    "                                             headers=rep_hist_snapshot_header_outliers,\n",
    "                                             upper_quartile_limit=upper_quartile_limit,\n",
    "                                             low_quartile_limit=low_quartile_limit)\n",
    "rep_hist_sysmetric_summary_df_outliers = get_outliers(df=rep_hist_sysmetric_summary_df, headers=rep_hist_sysmetric_summary_header_outliers,upper_quartile_limit=upper_quartile_limit,low_quartile_limit=low_quartile_limit)\n",
    "rep_hist_sysstat_df_outliers = get_outliers(df=rep_hist_sysstat_df, headers=rep_hist_sysstat_header_outliers,upper_quartile_limit= upper_quartile_limit,low_quartile_limit=low_quartile_limit)\n",
    "rep_vsql_plan_df_outliers = get_outliers(df=rep_vsql_plan_df, headers=rep_vsql_plan_headers_outliers,upper_quartile_limit=upper_quartile_limit,low_quartile_limit=low_quartile_limit)\n",
    "print('\\n\\nOUTLIERS')\n",
    "print(len(rep_hist_snapshot_df_outliers))\n",
    "print(len(rep_hist_sysmetric_summary_df_outliers))\n",
    "print(len(rep_hist_sysstat_df_outliers))\n",
    "print(len(rep_vsql_plan_df_outliers))\n",
    "print('----------------------------')\n",
    "#\n",
    "# Dropping Outliers\n",
    "rep_hist_snapshot_df_pruned = remove_outliers(df=rep_hist_snapshot_df, headers=rep_hist_snapshot_header_outliers,upper_quartile_limit=upper_quartile_limit,low_quartile_limit=low_quartile_limit)\n",
    "rep_hist_sysmetric_summary_df_pruned = remove_outliers(df=rep_hist_sysmetric_summary_df, headers=rep_hist_sysmetric_summary_header_outliers,upper_quartile_limit=upper_quartile_limit,low_quartile_limit=low_quartile_limit)\n",
    "rep_hist_sysstat_df_pruned = remove_outliers(df=rep_hist_sysstat_df, headers=rep_hist_sysstat_header_outliers,upper_quartile_limit=upper_quartile_limit,low_quartile_limit=low_quartile_limit)\n",
    "rep_vsql_plan_df_pruned = remove_outliers(df=rep_vsql_plan_df, headers=rep_vsql_plan_headers_outliers,upper_quartile_limit=upper_quartile_limit,low_quartile_limit=low_quartile_limit)\n",
    "print('\\n\\nDATAFRAMES WITHOUT OUTLIERS')\n",
    "print(rep_hist_snapshot_df_pruned.shape)\n",
    "print(rep_hist_sysmetric_summary_df_pruned.shape)\n",
    "print(rep_hist_sysstat_df_pruned.shape)\n",
    "print(rep_vsql_plan_df_pruned.shape)\n",
    "#\n",
    "print('\\n\\nFirst 20 record sample before outliers:')\n",
    "print(rep_hist_snapshot_df.iloc[0:20]['SQL_ID'])\n",
    "print('---------------------------------------')\n",
    "print('First 20 record sample after outliers:')\n",
    "print(rep_hist_snapshot_df_pruned.iloc[0:20]['SQL_ID'])\n",
    "print('---------------------------------------')"
   ]
  },
  {
   "cell_type": "markdown",
   "metadata": {},
   "source": [
    "### Plotting data distribution without outliers\n",
    "\n",
    "Plotting metrics against SNAP_ID, without outliers."
   ]
  },
  {
   "cell_type": "code",
   "execution_count": 89,
   "metadata": {
    "scrolled": true
   },
   "outputs": [],
   "source": [
    "if debug_mode is False:\n",
    "    #\n",
    "    # Plotting Histograms without Outliers\n",
    "    for header in rep_hist_snapshot_header_outliers:\n",
    "        print('REP_HIST_SNAPSHOT - ' + header + ' - STRIPPED HISTOGRAM')\n",
    "        plot_hist(df=rep_hist_snapshot_df_pruned, tpc_type=tpcds, table='rep_hist_snapshot', feature_column=header, bin_size=10)\n",
    "    for header in rep_hist_sysmetric_summary_header_outliers:\n",
    "        print('REP_HIST_SYSMETRIC - ' + header + ' - STRIPPED HISTOGRAM')\n",
    "        plot_hist(df=rep_hist_sysmetric_summary_df_pruned, tpc_type=tpcds, table='rep_hist_sysmetric_summary', feature_column=header, bin_size=10)\n",
    "    for header in rep_hist_sysstat_header_outliers:\n",
    "        print('REP_HIST_SYSSTAT - ' + header + ' - STRIPPED HISTOGRAM')\n",
    "        plot_hist(df=rep_hist_sysstat_df_pruned, tpc_type=tpcds, table='rep_hist_sysstat', feature_column=header, bin_size=10)\n",
    "    #\n",
    "    # Plotting Scatter Plots without Outliers\n",
    "    for header in rep_hist_snapshot_header_outliers:\n",
    "        print('REP_HIST_SNAPSHOT - ' + header + ' - STRIPPED SCATTER')\n",
    "        plot_scatter(df=rep_hist_snapshot_df_pruned, tpc_type=tpcds,table='rep_hist_snapshot',feature_column=header)\n",
    "    for header in rep_hist_sysmetric_summary_header_outliers:\n",
    "        print('REP_HIST_SYSMETRIC - ' + header + ' - STRIPPED SCATTER')\n",
    "        plot_scatter(df=rep_hist_sysmetric_summary_df_pruned, tpc_type=tpcds,table='rep_hist_sysmetric_summary',feature_column=header)\n",
    "    for header in rep_hist_sysstat_header_outliers:\n",
    "        print('REP_HIST_SYSSTAT - ' + header + ' - STRIPPED SCATTER')\n",
    "        plot_scatter(df=rep_hist_sysstat_df_pruned, tpc_type=tpcds,table='rep_hist_sysstat',feature_column=header)\n",
    "    #\n",
    "    # Plotting Box Plots without Outliers\n",
    "    whisker_boxes_per_plot = 3\n",
    "    for i in range(whisker_boxes_per_plot, len(rep_hist_snapshot_header_outliers), whisker_boxes_per_plot):\n",
    "        print('REP_HIST_SNAPSHOT - ' + header + ' - STRIPPED WHISKER')\n",
    "        plot_boxplot(df=rep_hist_snapshot_df, tpc_type=tpcds,table='rep_hist_snapshot',feature_columns=rep_hist_snapshot_headers[i-whisker_boxes_per_plot:i])"
   ]
  },
  {
   "cell_type": "markdown",
   "metadata": {},
   "source": [
    "### Dropping Redundant Columns\n",
    "\n",
    "Dropping redundant columns which are not detrimental to the task at hand (NB: This is only the first steps towards feature selection. This step ensures that specific columns which are SURELY not useful are dropped ahead of time)."
   ]
  },
  {
   "cell_type": "markdown",
   "metadata": {
    "scrolled": true
   },
   "source": [
    "http://benalexkeen.com/feature-scaling-with-scikit-learn/\n",
    "\n",
    "Based on the above plots, one can argue that the data distribution is uneven, and does not correlate to any particular pattern. A normalization approach (MinMaxScaling and/or RobustScaling) to the presented dataset is a more likely candidate than standardizing of the presented dataset. \n",
    "\n",
    "Reasons behind normalizing the dataset rather than standardizing, is due to the vast standard deviations from the mean for several feature columns."
   ]
  },
  {
   "cell_type": "code",
   "execution_count": 90,
   "metadata": {},
   "outputs": [
    {
     "name": "stdout",
     "output_type": "stream",
     "text": [
      "Before: (20536, 88)| After: (20536, 61)\n",
      "Before: (172, 162)| After: (172, 162)\n",
      "Before: (172, 1179)| After: (172, 1179)\n",
      "Before: (215505, 42)| After: (215505, 15)\n"
     ]
    }
   ],
   "source": [
    "retain_headers_rep_hist_snapshot = ['SNAP_ID',\n",
    "                                    'OPTIMIZER_COST',\n",
    "                                    'SHARABLE_MEM',\n",
    "                                    'FETCHES_TOTAL',\n",
    "                                    'FETCHES_DELTA',\n",
    "                                    'END_OF_FETCH_COUNT_TOTAL',\n",
    "                                    'END_OF_FETCH_COUNT_DELTA',\n",
    "                                    'SORTS_TOTAL',\n",
    "                                    'SORTS_DELTA',\n",
    "                                    'EXECUTIONS_TOTAL',\n",
    "                                    'EXECUTIONS_DELTA',\n",
    "                                    'PX_SERVERS_EXECS_TOTAL',\n",
    "                                    'PX_SERVERS_EXECS_DELTA',\n",
    "                                    'LOADS_TOTAL',\n",
    "                                    'LOADS_DELTA',\n",
    "                                    'INVALIDATIONS_TOTAL',\n",
    "                                    'INVALIDATIONS_DELTA',\n",
    "                                    'PARSE_CALLS_TOTAL',\n",
    "                                    'PARSE_CALLS_DELTA',\n",
    "                                    'DISK_READS_TOTAL',\n",
    "                                    'DISK_READS_DELTA',\n",
    "                                    'BUFFER_GETS_TOTAL',\n",
    "                                    'BUFFER_GETS_DELTA',\n",
    "                                    'ROWS_PROCESSED_TOTAL',\n",
    "                                    'ROWS_PROCESSED_DELTA',\n",
    "                                    'CPU_TIME_TOTAL',\n",
    "                                    'CPU_TIME_DELTA',\n",
    "                                    'ELAPSED_TIME_TOTAL',\n",
    "                                    'ELAPSED_TIME_DELTA',\n",
    "                                    'IOWAIT_TOTAL',\n",
    "                                    'IOWAIT_DELTA',\n",
    "                                    'CLWAIT_TOTAL',\n",
    "                                    'CLWAIT_DELTA',\n",
    "                                    'APWAIT_TOTAL',\n",
    "                                    'APWAIT_DELTA',\n",
    "                                    'CCWAIT_TOTAL',\n",
    "                                    'CCWAIT_DELTA',\n",
    "                                    'DIRECT_WRITES_TOTAL',\n",
    "                                    'DIRECT_WRITES_DELTA',\n",
    "                                    'PLSEXEC_TIME_TOTAL',\n",
    "                                    'PLSEXEC_TIME_DELTA',\n",
    "                                    'JAVEXEC_TIME_TOTAL',\n",
    "                                    'JAVEXEC_TIME_DELTA',\n",
    "                                    'IO_OFFLOAD_ELIG_BYTES_TOTAL',\n",
    "                                    'IO_OFFLOAD_ELIG_BYTES_DELTA',\n",
    "                                    'IO_INTERCONNECT_BYTES_TOTAL',\n",
    "                                    'IO_INTERCONNECT_BYTES_DELTA',\n",
    "                                    'PHYSICAL_READ_REQUESTS_TOTAL',\n",
    "                                    'PHYSICAL_READ_REQUESTS_DELTA',\n",
    "                                    'PHYSICAL_READ_BYTES_TOTAL',\n",
    "                                    'PHYSICAL_READ_BYTES_DELTA',\n",
    "                                    'PHYSICAL_WRITE_REQUESTS_TOTAL',\n",
    "                                    'PHYSICAL_WRITE_REQUESTS_DELTA',\n",
    "                                    'PHYSICAL_WRITE_BYTES_TOTAL',\n",
    "                                    'PHYSICAL_WRITE_BYTES_DELTA',\n",
    "                                    'OPTIMIZED_PHYSICAL_READS_TOTAL',\n",
    "                                    'OPTIMIZED_PHYSICAL_READS_DELTA',\n",
    "                                    'CELL_UNCOMPRESSED_BYTES_TOTAL',\n",
    "                                    'CELL_UNCOMPRESSED_BYTES_DELTA',\n",
    "                                    'IO_OFFLOAD_RETURN_BYTES_TOTAL',\n",
    "                                    'IO_OFFLOAD_RETURN_BYTES_DELTA']\n",
    "retain_headers_rep_hist_sysmetric_summary = rep_hist_sysmetric_summary_headers\n",
    "retain_headers_rep_hist_sysstat = rep_hist_sysstat_headers\n",
    "#rep_vsql_plan_headers_outliers = rep_vsql_plan_headers\n",
    "retain_headers_rep_vsql_plan = [  'PLAN_HASH_VALUE',\n",
    "                                  'FULL_PLAN_HASH_VALUE',\n",
    "                                  'CHILD_NUMBER',\n",
    "                                  'PARENT_ID',\n",
    "                                  'DEPTH',\n",
    "                                  'POSITION',\n",
    "                                  'SEARCH_COLUMNS',\n",
    "                                  'COST',\n",
    "                                  'CARDINALITY',\n",
    "                                  'BYTES',\n",
    "                                  'PARTITION_ID',\n",
    "                                  'IO_COST',\n",
    "                                  'TEMP_SPACE',\n",
    "                                  'TIME',\n",
    "                                  'CON_ID']\n",
    "#\n",
    "def retain_these_columns(dataframe, headers):\n",
    "    \"\"\"\n",
    "    Drops all columns from dataframe except those passed in the header\n",
    "    \"\"\"\n",
    "    dataframe.reset_index(inplace=True)\n",
    "    return dataframe[headers]\n",
    "#\n",
    "shape = rep_hist_snapshot_df_pruned.shape\n",
    "rep_hist_snapshot_df_pruned = retain_these_columns(dataframe=rep_hist_snapshot_df_pruned,headers=retain_headers_rep_hist_snapshot)\n",
    "print('Before: ' + str(shape) + '| After: ' + str(rep_hist_snapshot_df_pruned.shape))\n",
    "#\n",
    "shape = rep_hist_sysmetric_summary_df_pruned.shape\n",
    "rep_hist_sysmetric_summary_df_pruned = retain_these_columns(dataframe=rep_hist_sysmetric_summary_df_pruned,headers=retain_headers_rep_hist_sysmetric_summary)\n",
    "print('Before: ' + str(shape) + '| After: ' + str(rep_hist_sysmetric_summary_df_pruned.shape))\n",
    "#\n",
    "shape = rep_hist_sysstat_df_pruned.shape\n",
    "rep_hist_sysstat_df_pruned = retain_these_columns(dataframe=rep_hist_sysstat_df_pruned, headers=retain_headers_rep_hist_sysstat)\n",
    "print('Before: ' + str(shape) + '| After: ' + str(rep_hist_sysstat_df_pruned.shape))\n",
    "#\n",
    "shape = rep_vsql_plan_df_pruned.shape\n",
    "rep_vsql_plan_df_pruned = retain_these_columns(dataframe=rep_vsql_plan_df_pruned, headers=retain_headers_rep_vsql_plan)\n",
    "print('Before: ' + str(shape) + '| After: ' + str(rep_vsql_plan_df_pruned.shape))"
   ]
  },
  {
   "cell_type": "markdown",
   "metadata": {},
   "source": [
    "### Column Seperation (X,y)\n",
    "\n",
    "This section separates the dataset into feature vectors X and target labels y."
   ]
  },
  {
   "cell_type": "code",
   "execution_count": 91,
   "metadata": {},
   "outputs": [
    {
     "name": "stdout",
     "output_type": "stream",
     "text": [
      "REP_HIST_SNAPSHOT shape after transformation: (172, 60)\n",
      "REP_HIST_SYSMETRIC_SUMMARY shape after transformation: (172, 161)\n",
      "REP_HIST_SYSSTAT shape after transformation: (172, 1178)\n",
      "-------------------------------------------------\n",
      "Label 'SNAP_ID': (172,)\n"
     ]
    }
   ],
   "source": [
    "#\n",
    "rep_hist_snapshot_df_pruned = rep_hist_snapshot_df_pruned[rep_hist_snapshot_df_pruned['SNAP_ID'] > 0]\n",
    "rep_hist_sysmetric_summary_df_pruned = rep_hist_sysmetric_summary_df_pruned[rep_hist_sysmetric_summary_df_pruned['SNAP_ID'] > 0]\n",
    "rep_hist_sysstat_df_pruned = rep_hist_sysstat_df_pruned[rep_hist_sysstat_df_pruned['SNAP_ID'] > 0]\n",
    "#\n",
    "# Retrieve target column\n",
    "y_label_snap_id = rep_hist_snapshot_df_pruned['SNAP_ID'].unique()\n",
    "#\n",
    "# Group By Values by SNAP_ID , sum all metrics (for table REP_HIST_SNAPSHOT)\n",
    "rep_hist_snapshot_df_pruned = rep_hist_snapshot_df_pruned.groupby(['SNAP_ID']).sum()\n",
    "rep_hist_sysmetric_summary_df_pruned = rep_hist_sysmetric_summary_df_pruned.groupby(['SNAP_ID']).sum()\n",
    "rep_hist_sysstat_df_pruned = rep_hist_sysstat_df_pruned.groupby(['SNAP_ID']).sum()\n",
    "#\n",
    "print(\"REP_HIST_SNAPSHOT shape after transformation: \" + str(rep_hist_snapshot_df_pruned.shape))\n",
    "print(\"REP_HIST_SYSMETRIC_SUMMARY shape after transformation: \" + str(rep_hist_sysmetric_summary_df_pruned.shape))\n",
    "print(\"REP_HIST_SYSSTAT shape after transformation: \" + str(rep_hist_sysstat_df_pruned.shape))\n",
    "print('-------------------------------------------------')\n",
    "#\n",
    "print(\"Label 'SNAP_ID': \" + str(y_label_snap_id.shape))\n",
    "#\n",
    "# Remove SNAP_ID from header column names\n",
    "retain_headers_rep_hist_snapshot = retain_headers_rep_hist_snapshot[1:]\n",
    "retain_headers_rep_hist_sysmetric_summary = retain_headers_rep_hist_sysmetric_summary[1:]\n",
    "retain_headers_rep_hist_sysstat = retain_headers_rep_hist_sysstat[1:]"
   ]
  },
  {
   "cell_type": "markdown",
   "metadata": {},
   "source": [
    "### Normalization\n",
    "\n",
    "Relavent Sources:\n",
    "\n",
    "* http://jmlr.csail.mit.edu/papers/volume3/guyon03a/guyon03a.pdf\n",
    "* https://machinelearningmastery.com/rescaling-data-for-machine-learning-in-python-with-scikit-learn/\n",
    "\n",
    "https://machinelearningmastery.com/normalize-standardize-time-series-data-python/ recommends a normalization preprocessing technique for data distribution that can closely approximate minimum and maximum observable values per column:\n",
    "\n",
    "<i>\"Normalization requires that you know or are able to accurately estimate the minimum and maximum observable values. You may be able to estimate these values from your available data. If your time series is trending up or down, estimating these expected values may be difficult and normalization may not be the best method to use on your problem.\"</i>\n",
    "\n",
    "Normalization formula is stated as follows: $$y=(x-min)/(max-min)$$\n",
    "\n",
    "### Standardization\n",
    "\n",
    "https://machinelearningmastery.com/normalize-standardize-time-series-data-python/ recommends a standardization preprocessing technique for data distributions that observe a Gaussian spread, with a mean of 0 and a standard deviation of 1 (approximately close to these values):\n",
    "\n",
    "<i>\"Standardization assumes that your observations fit a Gaussian distribution (bell curve) with a well behaved mean and standard deviation. You can still standardize your time series data if this expectation is not met, but you may not get reliable results.\"</i>\n",
    "\n",
    "Standardization formula is stated as follows: $$y=(x-mean)/StandardDeviation$$\n",
    "Mean defined as: $$mean=sum(x)/count(x)$$\n",
    "Standard Deviation defined as: $$StandardDeviation=sqrt(sum((x-mean)^2)/count(x))$$"
   ]
  },
  {
   "cell_type": "code",
   "execution_count": 92,
   "metadata": {
    "scrolled": true
   },
   "outputs": [
    {
     "name": "stdout",
     "output_type": "stream",
     "text": [
      "------------------BEFORE------------------\n",
      "------------------REP_HIST_SNAPSHOT------------------\n",
      "(172, 60)\n",
      "------------------REP_HIST_SYSMETRIC_SUMMARY------------------\n",
      "(172, 161)\n",
      "------------------REP_HIST_SYSSTAT------------------\n",
      "(172, 1178)\n",
      "------------------REP_VSQL_PLAN------------------\n",
      "(215505, 15)\n",
      "\n",
      "\n",
      "         OPTIMIZER_COST  SHARABLE_MEM  FETCHES_TOTAL  FETCHES_DELTA  \\\n",
      "SNAP_ID                                                               \n",
      "932               680.0     7440480.0       102013.0         1666.0   \n",
      "933               911.0     7257615.0        34055.0          302.0   \n",
      "934              4750.0     7241183.0       442070.0          515.0   \n",
      "935              5363.0     9141814.0       465033.0         1051.0   \n",
      "936              4630.0     6024793.0        99650.0          710.0   \n",
      "\n",
      "         END_OF_FETCH_COUNT_TOTAL  END_OF_FETCH_COUNT_DELTA  SORTS_TOTAL  \\\n",
      "SNAP_ID                                                                    \n",
      "932                       60220.0                    3602.0      24658.0   \n",
      "933                       37060.0                    1082.0       8371.0   \n",
      "934                      116698.0                   52813.0      11813.0   \n",
      "935                      235102.0                   68031.0      19608.0   \n",
      "936                      170743.0                   78430.0      20263.0   \n",
      "\n",
      "         SORTS_DELTA  EXECUTIONS_TOTAL  EXECUTIONS_DELTA  \\\n",
      "SNAP_ID                                                    \n",
      "932            294.0           71691.0            3960.0   \n",
      "933            126.0           38056.0            1099.0   \n",
      "934            140.0          117788.0           52831.0   \n",
      "935            209.0          245173.0           68163.0   \n",
      "936            213.0          180926.0           78558.0   \n",
      "\n",
      "                     ...                PHYSICAL_WRITE_REQUESTS_TOTAL  \\\n",
      "SNAP_ID              ...                                                \n",
      "932                  ...                                       1743.0   \n",
      "933                  ...                                       1743.0   \n",
      "934                  ...                                       1777.0   \n",
      "935                  ...                                       1811.0   \n",
      "936                  ...                                       1845.0   \n",
      "\n",
      "         PHYSICAL_WRITE_REQUESTS_DELTA  PHYSICAL_WRITE_BYTES_TOTAL  \\\n",
      "SNAP_ID                                                              \n",
      "932                                0.0                  17735680.0   \n",
      "933                                0.0                  17735680.0   \n",
      "934                               34.0                  18014208.0   \n",
      "935                               34.0                  18292736.0   \n",
      "936                               34.0                  18571264.0   \n",
      "\n",
      "         PHYSICAL_WRITE_BYTES_DELTA  OPTIMIZED_PHYSICAL_READS_TOTAL  \\\n",
      "SNAP_ID                                                               \n",
      "932                             0.0                             0.0   \n",
      "933                             0.0                             0.0   \n",
      "934                        278528.0                             0.0   \n",
      "935                        278528.0                             0.0   \n",
      "936                        278528.0                             0.0   \n",
      "\n",
      "         OPTIMIZED_PHYSICAL_READS_DELTA  CELL_UNCOMPRESSED_BYTES_TOTAL  \\\n",
      "SNAP_ID                                                                  \n",
      "932                                 0.0                            0.0   \n",
      "933                                 0.0                            0.0   \n",
      "934                                 0.0                            0.0   \n",
      "935                                 0.0                            0.0   \n",
      "936                                 0.0                            0.0   \n",
      "\n",
      "         CELL_UNCOMPRESSED_BYTES_DELTA  IO_OFFLOAD_RETURN_BYTES_TOTAL  \\\n",
      "SNAP_ID                                                                 \n",
      "932                                0.0                            0.0   \n",
      "933                                0.0                            0.0   \n",
      "934                                0.0                            0.0   \n",
      "935                                0.0                            0.0   \n",
      "936                                0.0                            0.0   \n",
      "\n",
      "         IO_OFFLOAD_RETURN_BYTES_DELTA  \n",
      "SNAP_ID                                 \n",
      "932                                0.0  \n",
      "933                                0.0  \n",
      "934                                0.0  \n",
      "935                                0.0  \n",
      "936                                0.0  \n",
      "\n",
      "[5 rows x 60 columns]\n",
      "\n",
      "\n",
      "------------------AFTER------------------\n",
      "------------------REP_HIST_SNAPSHOT------------------\n",
      "(172, 60)\n",
      "------------------REP_HIST_SYSMETRIC_SUMMARY------------------\n",
      "(172, 161)\n",
      "------------------REP_HIST_SYSSTAT------------------\n",
      "(172, 1178)\n",
      "------------------REP_VSQL_PLAN------------------\n",
      "(215505, 15)\n",
      "\n",
      "\n",
      "\n",
      "REP_HIST_SNAPSHOT\n",
      "[7.52936618e-07 8.23854389e-03 1.12954887e-04 1.84469471e-06\n",
      " 6.66791811e-05 3.98834955e-06 2.73028105e-05 3.25534361e-07\n",
      " 7.93805575e-05 4.38474854e-06 0.00000000e+00 0.00000000e+00\n",
      " 4.22973218e-07 6.31138047e-08 1.55016362e-08 0.00000000e+00\n",
      " 4.52404181e-05 2.17797989e-06 1.77593388e-05 2.08164830e-07\n",
      " 1.98536099e-03 5.87157691e-05 1.31508131e-04 5.66141901e-06\n",
      " 1.02381977e-01 1.94081150e-03 1.55637328e-01 2.17450199e-03\n",
      " 4.42370282e-02 2.18213212e-04 0.00000000e+00 0.00000000e+00\n",
      " 2.39500280e-06 0.00000000e+00 5.60771691e-05 0.00000000e+00\n",
      " 2.30310024e-06 0.00000000e+00 9.36336255e-03 1.63883298e-04\n",
      " 0.00000000e+00 0.00000000e+00 0.00000000e+00 0.00000000e+00\n",
      " 7.03512228e-01 9.24301449e-03 5.01345061e-05 6.80964735e-07\n",
      " 6.83874224e-01 9.24301449e-03 1.92995371e-06 0.00000000e+00\n",
      " 1.96380043e-02 0.00000000e+00 0.00000000e+00 0.00000000e+00\n",
      " 0.00000000e+00 0.00000000e+00 0.00000000e+00 0.00000000e+00]\n",
      "\n",
      "\n",
      "REP_HIST_SYSMETRIC_SUMMARY\n",
      "[0.00000000e+00 1.99761445e-09 1.00537876e-10 4.12710076e-10\n",
      " 2.36652256e-09 0.00000000e+00 3.46547007e-11 0.00000000e+00\n",
      " 0.00000000e+00 1.99136686e-07 9.58550786e-09 5.13766104e-09\n",
      " 2.72870873e-09 1.46253915e-09 4.25944778e-09 2.28298795e-09\n",
      " 0.00000000e+00 3.56070142e-02 6.65538715e-09 3.56716867e-09\n",
      " 2.58285592e-06 1.38436465e-06 1.69797228e-07 4.38928957e-10\n",
      " 1.27847325e-07 2.99513704e-07 9.29557923e-07 4.98226448e-07\n",
      " 1.46460268e-07 8.75150133e-07 4.69064844e-07 1.37887828e-07\n",
      " 5.75690988e-09 0.00000000e+00 0.00000000e+00 1.90457068e-07\n",
      " 1.00537876e-08 9.30437690e-09 0.00000000e+00 0.00000000e+00\n",
      " 0.00000000e+00 0.00000000e+00 1.75735498e-07 9.41910886e-08\n",
      " 0.00000000e+00 0.00000000e+00 5.75690988e-09 3.08560090e-09\n",
      " 7.78462700e-08 4.03050246e-07 2.16027734e-07 6.35042159e-08\n",
      " 9.98308072e-11 5.35075300e-11 0.00000000e+00 0.00000000e+00\n",
      " 0.00000000e+00 0.00000000e+00 0.00000000e+00 0.00000000e+00\n",
      " 0.00000000e+00 0.00000000e+00 3.90005687e-08 2.09036084e-08\n",
      " 6.04974692e-08 1.51522588e-09 5.65707908e-10 6.47569170e-08\n",
      " 1.89678534e-09 1.01664307e-09 1.78626462e-07 2.11349835e-08\n",
      " 3.45800606e-06 1.85342950e-06 5.44840167e-07 9.65031137e-10\n",
      " 5.17239457e-10 0.00000000e+00 0.00000000e+00 1.99761445e-07\n",
      " 5.28161541e-06 3.74964512e-07 2.00974283e-07 1.99721564e-07\n",
      " 0.00000000e+00 0.00000000e+00 0.00000000e+00 0.00000000e+00\n",
      " 0.00000000e+00 0.00000000e+00 0.00000000e+00 0.00000000e+00\n",
      " 3.32769357e-11 1.78358433e-11 8.85965137e-05 1.04822348e-08\n",
      " 3.39597252e-04 2.68877641e-08 0.00000000e+00 0.00000000e+00\n",
      " 0.00000000e+00 0.00000000e+00 1.08150041e-08 5.79664908e-09\n",
      " 2.07179540e-05 1.83023147e-09 2.53556407e-04 3.78691529e-08\n",
      " 0.00000000e+00 0.00000000e+00 5.65707908e-10 3.03209337e-10\n",
      " 2.52904712e-09 1.35552409e-09 8.25680641e-08 0.00000000e+00\n",
      " 1.59193533e-06 8.53248909e-07 1.99761445e-07 1.95117715e-04\n",
      " 1.04579611e-04 3.26113970e-08 1.74791265e-08 0.00000000e+00\n",
      " 5.38865060e-09 1.94743287e-07 5.01815824e-09 2.51246760e-08\n",
      " 0.00000000e+00 1.25161524e-11 2.61687493e-07 2.72591139e-08\n",
      " 2.88426161e-08 1.68089311e-07 0.00000000e+00 4.18930115e-03\n",
      " 2.24985363e-07 1.20588137e-07 9.99356970e-01 0.00000000e+00\n",
      " 2.45983109e-07 1.31842554e-07 5.32172879e-09 4.92498649e-08\n",
      " 2.63970481e-08 7.75976218e-09 7.71492478e-09 1.26785125e-08\n",
      " 6.79545631e-09 1.57837227e-09 3.59390906e-09 1.92627108e-07\n",
      " 3.95339980e-15 0.00000000e+00 0.00000000e+00 1.33107743e-10\n",
      " 7.13433733e-09 3.72701680e-09 0.00000000e+00 0.00000000e+00\n",
      " 0.00000000e+00]\n",
      "\n",
      "\n",
      "REP_HIST_SYSSTAT\n",
      "[0.00000000e+00 0.00000000e+00 0.00000000e+00 ... 0.00000000e+00\n",
      " 3.83931863e-11 5.46751135e-10]\n",
      "\n",
      "\n",
      "REP_VSQL_PLAN\n",
      "[7.80644962e-01 6.24974754e-01 0.00000000e+00 0.00000000e+00\n",
      " 0.00000000e+00 3.89691156e-10 0.00000000e+00 3.89691156e-10\n",
      " 0.00000000e+00 0.00000000e+00 0.00000000e+00 0.00000000e+00\n",
      " 0.00000000e+00 0.00000000e+00 0.00000000e+00]\n"
     ]
    }
   ],
   "source": [
    "def robust_scaler(dataframe, headers):\n",
    "    \"\"\"\n",
    "    Normalize df using interquartile ranges as min-max, this way outliers do not play a heavy emphasis on the\n",
    "    normalization of values.\n",
    "    \"\"\"\n",
    "    return preprocessing.robust_scale(dataframe)\n",
    "#\n",
    "def minmax_scaler(dataframe, headers):\n",
    "    \"\"\"\n",
    "    Normalize df using min-max ranges for normalization method\n",
    "    \"\"\"\n",
    "    return preprocessing.minmax_scale(dataframe)\n",
    "#\n",
    "def normalize(dataframe, headers):\n",
    "    \"\"\"\n",
    "    The normalizer scales each value by dividing each value by its magnitude in n-dimensional space for n number of features. \n",
    "    \"\"\"\n",
    "    return preprocessing.normalize(dataframe)\n",
    "#\n",
    "print('------------------BEFORE------------------')\n",
    "print('------------------REP_HIST_SNAPSHOT------------------')\n",
    "print(rep_hist_snapshot_df_pruned.shape)\n",
    "print('------------------REP_HIST_SYSMETRIC_SUMMARY------------------')\n",
    "print(rep_hist_sysmetric_summary_df_pruned.shape)\n",
    "print('------------------REP_HIST_SYSSTAT------------------')\n",
    "print(rep_hist_sysstat_df_pruned.shape)\n",
    "print('------------------REP_VSQL_PLAN------------------')\n",
    "print(rep_vsql_plan_df_pruned.shape)\n",
    "print('\\n')\n",
    "print(rep_hist_snapshot_df_pruned.head())\n",
    "#\n",
    "# ROBUST SCALER\n",
    "# rep_hist_snapshot_df_pruned_norm = robust_scaler(dataframe=rep_hist_snapshot_df_pruned, \n",
    "#                                                  headers=retain_headers_rep_hist_snapshot)\n",
    "# rep_hist_sysmetric_summary_df_pruned_norm = robust_scaler(dataframe=rep_hist_sysmetric_summary_df_pruned,\n",
    "#                                                           headers=retain_headers_rep_hist_sysmetric_summary)\n",
    "# rep_hist_sysstat_df_pruned_norm = robust_scaler(dataframe=rep_hist_sysstat_df_pruned,\n",
    "#                                                 headers=retain_headers_rep_hist_sysstat)\n",
    "# rep_vsql_plan_df_pruned_norm = robust_scaler(dataframe=rep_vsql_plan_df_pruned,\n",
    "#                                              headers=retain_headers_rep_vsql_plan)\n",
    "#\n",
    "# MINMAX SCALER\n",
    "# rep_hist_snapshot_df_pruned_norm = minmax_scaler(dataframe=rep_hist_snapshot_df_pruned,\n",
    "#                                                  headers=retain_headers_rep_hist_snapshot)\n",
    "# rep_hist_sysmetric_summary_df_pruned_norm = minmax_scaler(dataframe=rep_hist_sysmetric_summary_df_pruned,\n",
    "#                                                           headers=retain_headers_rep_hist_sysmetric_summary)\n",
    "# rep_hist_sysstat_df_pruned_norm = minmax_scaler(dataframe=rep_hist_sysstat_df_pruned,\n",
    "#                                                 headers=retain_headers_rep_hist_sysstat)\n",
    "# rep_vsql_plan_df_pruned_norm = minmax_scaler(dataframe=rep_vsql_plan_df_pruned,\n",
    "#                                              headers=retain_headers_rep_vsql_plan)\n",
    "#\n",
    "# NORMALIZER\n",
    "rep_hist_snapshot_df_pruned_norm = normalize(dataframe=rep_hist_snapshot_df_pruned, \n",
    "                                             headers=retain_headers_rep_hist_snapshot)\n",
    "rep_hist_sysmetric_summary_df_pruned_norm = normalize(dataframe=rep_hist_sysmetric_summary_df_pruned,\n",
    "                                                      headers=retain_headers_rep_hist_sysmetric_summary)\n",
    "rep_hist_sysstat_df_pruned_norm = normalize(dataframe=rep_hist_sysstat_df_pruned,\n",
    "                                            headers=retain_headers_rep_hist_sysstat)\n",
    "rep_vsql_plan_df_pruned_norm = normalize(dataframe=rep_vsql_plan_df_pruned,\n",
    "                                         headers=retain_headers_rep_vsql_plan)\n",
    "#\n",
    "print('\\n\\n------------------AFTER------------------')\n",
    "print('------------------REP_HIST_SNAPSHOT------------------')\n",
    "print(rep_hist_snapshot_df_pruned_norm.shape)\n",
    "print('------------------REP_HIST_SYSMETRIC_SUMMARY------------------')\n",
    "print(rep_hist_sysmetric_summary_df_pruned_norm.shape)\n",
    "print('------------------REP_HIST_SYSSTAT------------------')\n",
    "print(rep_hist_sysstat_df_pruned_norm.shape)\n",
    "print('------------------REP_VSQL_PLAN------------------')\n",
    "print(rep_vsql_plan_df_pruned_norm.shape)\n",
    "print('\\n\\n')\n",
    "print('REP_HIST_SNAPSHOT')\n",
    "print(rep_hist_snapshot_df_pruned_norm[0])\n",
    "print('\\n\\nREP_HIST_SYSMETRIC_SUMMARY')\n",
    "print(rep_hist_sysmetric_summary_df_pruned_norm[0])\n",
    "print('\\n\\nREP_HIST_SYSSTAT')\n",
    "print(rep_hist_sysstat_df_pruned_norm[0])\n",
    "print('\\n\\nREP_VSQL_PLAN')\n",
    "print(rep_vsql_plan_df_pruned_norm[0])"
   ]
  },
  {
   "cell_type": "markdown",
   "metadata": {},
   "source": [
    "# Filter Methods\n",
    "\n",
    "* https://machinelearningmastery.com/feature-selection-machine-learning-python/\n",
    "\n",
    "Filter methods allow for the univariate analysis of features. Particularly, the following statistical methods have been considered and dismissed as explained below:\n",
    "\n",
    "* Information Gain - Data at hand is continous by nature, whilst MI is usually applicable against discrete values / binned labels.\n",
    "* Pearson Correlation Coefficient - Applicable to data with linear distributions, which is not the case for the majority of the presented features.\n",
    "\n",
    "### Chi2\n",
    "\n",
    "Therefore, a likely candidate for a first univariate, filter test is a chi2 measure, between X labels 'SNAP_ID', and other output 'y' labels. NB: Due to chi2 requiring non-nagative values, a data normalization strategy was opted for (Refer to above cell).\n",
    "\n",
    "The following cell computes the chi2 value for each feature pertaining in the following tables, in relation to the SNAP_ID feature:\n",
    "* REP_HIST_SNAPSHOT\n",
    "* REP_HIST_SYSMETRIC_SUMMARY\n",
    "* REP_HIST_SYSSTAT"
   ]
  },
  {
   "cell_type": "code",
   "execution_count": 93,
   "metadata": {
    "scrolled": true
   },
   "outputs": [
    {
     "name": "stdout",
     "output_type": "stream",
     "text": [
      "\n",
      "\n",
      "Table [REP_HIST_SNAPSHOT]\n",
      "Original number of features: 60\n",
      "Reduced number of features: 30\n",
      "\n",
      "Feature [OPTIMIZER_COST] with score [113.93658466555651]\n",
      "Feature [PHYSICAL_READ_BYTES_DELTA] with score [42.4811202924022]\n",
      "Feature [IO_INTERCONNECT_BYTES_DELTA] with score [41.38044677244474]\n",
      "Feature [IO_INTERCONNECT_BYTES_TOTAL] with score [37.66665951093154]\n",
      "Feature [PHYSICAL_READ_BYTES_TOTAL] with score [36.56321535159944]\n",
      "Feature [CPU_TIME_TOTAL] with score [22.29199836851845]\n",
      "Feature [ELAPSED_TIME_TOTAL] with score [22.176380818160688]\n",
      "Feature [PHYSICAL_WRITE_BYTES_TOTAL] with score [4.598396844681009]\n",
      "Feature [SHARABLE_MEM] with score [4.301828500985489]\n",
      "Feature [ELAPSED_TIME_DELTA] with score [2.852654870051126]\n",
      "Feature [IOWAIT_TOTAL] with score [2.6065708402422296]\n",
      "Feature [PHYSICAL_WRITE_BYTES_DELTA] with score [1.7653827024860982]\n",
      "Feature [CPU_TIME_DELTA] with score [1.7154856305278823]\n",
      "Feature [CCWAIT_TOTAL] with score [1.577003574378464]\n",
      "Feature [CCWAIT_DELTA] with score [1.2754259681894575]\n",
      "Feature [BUFFER_GETS_TOTAL] with score [0.7870109955711906]\n",
      "Feature [ROWS_PROCESSED_TOTAL] with score [0.6810601072837466]\n",
      "Feature [PLSEXEC_TIME_TOTAL] with score [0.40698294876354413]\n",
      "Feature [ROWS_PROCESSED_DELTA] with score [0.36303989242272733]\n",
      "Feature [BUFFER_GETS_DELTA] with score [0.34985484894934377]\n",
      "Feature [IOWAIT_DELTA] with score [0.28024592510383417]\n",
      "Feature [FETCHES_TOTAL] with score [0.057555039469745384]\n",
      "Feature [PLSEXEC_TIME_DELTA] with score [0.05724440237520793]\n",
      "Feature [APWAIT_TOTAL] with score [0.05650032765167215]\n",
      "Feature [IO_OFFLOAD_RETURN_BYTES_TOTAL] with score [0.024239166443864396]\n",
      "Feature [EXECUTIONS_TOTAL] with score [0.02064012776145018]\n",
      "Feature [END_OF_FETCH_COUNT_TOTAL] with score [0.019288476928083092]\n",
      "Feature [APWAIT_DELTA] with score [0.017051706873491723]\n",
      "Feature [PARSE_CALLS_TOTAL] with score [0.008025254505848053]\n"
     ]
    },
    {
     "name": "stderr",
     "output_type": "stream",
     "text": [
      "C:\\ProgramData\\Anaconda3\\lib\\site-packages\\sklearn\\utils\\__init__.py:54: FutureWarning: Conversion of the second argument of issubdtype from `int` to `np.signedinteger` is deprecated. In future, it will be treated as `np.int32 == np.dtype(int).type`.\n",
      "  if np.issubdtype(mask.dtype, np.int):\n"
     ]
    },
    {
     "data": {
      "image/png": "[encoded data removed]",
      "text/plain": [
       "<Figure size 1440x1080 with 1 Axes>"
      ]
     },
     "metadata": {
      "needs_background": "light"
     },
     "output_type": "display_data"
    },
    {
     "name": "stdout",
     "output_type": "stream",
     "text": [
      "\n",
      "\n",
      "Table [REP_HIST_SYSMETRIC_SUMMARY]\n",
      "Original number of features: 161\n",
      "Reduced number of features: 30\n",
      "\n",
      "Feature [PHYSICAL READ BYTES PER SEC] with score [48.897100387730134]\n",
      "Feature [PHYSICAL READ TOTAL BYTES PER SEC] with score [47.895649486248026]\n",
      "Feature [TOTAL PGA ALLOCATED] with score [44.09936028343496]\n",
      "Feature [TOTAL PGA USED BY SQL WORKAREAS] with score [30.66054208732538]\n",
      "Feature [CELL PHYSICAL IO INTERCONNECT BYTES] with score [30.421498610847657]\n",
      "Feature [TEMP SPACE USED] with score [2.0562320538040963]\n",
      "Feature [PHYSICAL WRITE TOTAL BYTES PER SEC] with score [1.0792315205248348]\n",
      "Feature [REDO GENERATED PER SEC] with score [0.8737549406599137]\n",
      "Feature [PHYSICAL WRITE BYTES PER SEC] with score [0.49318776084541305]\n",
      "Feature [NETWORK TRAFFIC VOLUME PER SEC] with score [0.24784236935656842]\n",
      "Feature [CONSISTENT READ GETS PER TXN] with score [0.08159314068458219]\n",
      "Feature [LOGICAL READS PER TXN] with score [0.08157387347204664]\n",
      "Feature [VM IN BYTES PER SEC] with score [0.06390812434589702]\n",
      "Feature [CONSISTENT READ GETS PER SEC] with score [0.026994438198704687]\n",
      "Feature [LOGICAL READS PER SEC] with score [0.02178395021338433]\n",
      "Feature [REDO GENERATED PER TXN] with score [0.012215904199290924]\n",
      "Feature [VM OUT BYTES PER SEC] with score [0.008156669605916466]\n",
      "Feature [PHYSICAL READS PER SEC] with score [0.005968865653865159]\n",
      "Feature [DB BLOCK GETS PER SEC] with score [0.00428511840787793]\n",
      "Feature [PHYSICAL READS DIRECT PER SEC] with score [0.0038914689807227594]\n",
      "Feature [DB BLOCK CHANGES PER SEC] with score [0.003185785201163347]\n",
      "Feature [PHYSICAL READ IO REQUESTS PER SEC] with score [0.0020262257291157257]\n",
      "Feature [TXNS PER LOGON] with score [0.0019481257780758125]\n",
      "Feature [PHYSICAL READ TOTAL IO REQUESTS PER SEC] with score [0.0018608452087788602]\n",
      "Feature [ROWS PER SORT] with score [0.0016790967848169288]\n",
      "Feature [LOGICAL READS PER USER CALL] with score [0.001219982143725703]\n",
      "Feature [PHYSICAL READS PER TXN] with score [0.0009522704578978674]\n",
      "Feature [PHYSICAL READS DIRECT PER TXN] with score [0.0007906334204991762]\n",
      "Feature [TOTAL INDEX SCANS PER TXN] with score [0.00043744369935560596]\n",
      "Feature [RECURSIVE CALLS PER SEC] with score [0.0003038917419823854]\n"
     ]
    },
    {
     "data": {
      "image/png": "[encoded data removed]",
      "text/plain": [
       "<Figure size 1440x1080 with 1 Axes>"
      ]
     },
     "metadata": {
      "needs_background": "light"
     },
     "output_type": "display_data"
    },
    {
     "name": "stdout",
     "output_type": "stream",
     "text": [
      "\n",
      "\n",
      "Table [REP_HIST_SYSSTAT]\n",
      "Original number of features: 1178\n",
      "Reduced number of features: 30\n",
      "\n",
      "Feature [CELL PHYSICAL IO INTERCONNECT BYTES] with score [0.18641142614616507]\n",
      "Feature [PHYSICAL READ TOTAL BYTES] with score [0.12018875718253332]\n",
      "Feature [PHYSICAL READ BYTES] with score [0.11603940649846418]\n",
      "Feature [SESSION UGA MEMORY MAX] with score [0.08070229107771794]\n",
      "Feature [PHYSICAL WRITE TOTAL BYTES] with score [0.07001122576433698]\n",
      "Feature [KTFB ALLOC SPACE (BLOCK)] with score [0.048235276379475035]\n",
      "Feature [REDO SIZE] with score [0.0387235704472016]\n",
      "Feature [PHYSICAL WRITE BYTES] with score [0.033654758094438075]\n",
      "Feature [IMU REDO ALLOCATION SIZE] with score [0.013137732620640967]\n",
      "Feature [UNDO CHANGE VECTOR SIZE] with score [0.011508185007253985]\n",
      "Feature [SESSION UGA MEMORY] with score [0.010549622699546122]\n",
      "Feature [BYTES RECEIVED VIA SQL*NET FROM CLIENT] with score [0.008878679227058255]\n",
      "Feature [PROCESS LAST NON-IDLE TIME] with score [0.0071308130670515585]\n",
      "Feature [SESSION CONNECT TIME] with score [0.007130778212219887]\n",
      "Feature [SESSION PGA MEMORY MAX] with score [0.0062666842735491805]\n",
      "Feature [SESSION PGA MEMORY] with score [0.004364450379179126]\n",
      "Feature [IMU UNDO ALLOCATION SIZE] with score [0.0033185663580004767]\n",
      "Feature [FILE IO WAIT TIME] with score [0.0028257164267702357]\n",
      "Feature [INDEX FETCH BY KEY] with score [0.00210135949957095]\n",
      "Feature [TEMP SPACE ALLOCATED (BYTES)] with score [0.0012314351905381164]\n",
      "Feature [TABLE SCAN ROWS GOTTEN] with score [0.0008515987589982453]\n",
      "Feature [TABLE SCAN DISK NON-IMC ROWS GOTTEN] with score [0.0008314471582712224]\n",
      "Feature [REDO SYNCH TIME (USEC)] with score [0.0007372341740653247]\n",
      "Feature [REDO WASTAGE] with score [0.0006917613448116899]\n",
      "Feature [SORTS (ROWS)] with score [0.0005493409498000915]\n",
      "Feature [REDO WRITE TOTAL TIME] with score [0.0003963777142681855]\n",
      "Feature [REDO WRITE TIME (USEC)] with score [0.0003700763693225089]\n",
      "Feature [REDO WRITE FINISH TIME] with score [0.0003688319831704696]\n",
      "Feature [REDO SYNCH TIME OVERHEAD (USEC)] with score [0.0003478965231869167]\n",
      "Feature [BYTES SENT VIA SQL*NET TO CLIENT] with score [0.00032597390418788116]\n"
     ]
    },
    {
     "data": {
      "image/png": "[encoded data removed]",
      "text/plain": [
       "<Figure size 1440x1080 with 1 Axes>"
      ]
     },
     "metadata": {
      "needs_background": "light"
     },
     "output_type": "display_data"
    }
   ],
   "source": [
    "top_n_features=30\n",
    "def chi2_test(top_n_features=30, X_df=None, y_df=None, table=None, headers=None):\n",
    "    \"\"\"\n",
    "    Carries out a chi squared test on passed X,y dataframes, selecting top N features ranked by highest scoring\n",
    "    \"\"\"\n",
    "    chi2_selector = SelectKBest(score_func=chi2, k=top_n_features)\n",
    "    X_kbest = chi2_selector.fit_transform(X_df, y_df)\n",
    "    print('\\n\\nTable [' + table.upper() + ']')\n",
    "    print('Original number of features: ' + str(X_df.shape[1]))\n",
    "    print('Reduced number of features: ' + str(X_kbest.shape[1]) + \"\\n\")\n",
    "    outcome = chi2_selector.get_support()\n",
    "    #\n",
    "    scoring_sheet = []\n",
    "    for i in range(0,len(headers)-1):\n",
    "        if outcome[i]:\n",
    "            scoring_sheet.append([headers[i],chi2_selector.scores_[i]])\n",
    "    #\n",
    "    scoring_sheet = sorted(scoring_sheet, key=itemgetter(1), reverse=True)\n",
    "    [print('Feature [' + str(row) + '] with score [' + str(score) + ']') for row, score in scoring_sheet[:top_n_features]]\n",
    "    #\n",
    "    scoring_sheet = pd.Series((v[1] for v in scoring_sheet[:top_n_features]) )\n",
    "    scoring_sheet[:top_n_features].plot.bar()\n",
    "    plt.ylabel('CHI2 RANKING')\n",
    "    plt.xlabel('FEATURES')\n",
    "    plt.title('Features Ranked By Chi2 Scoring')\n",
    "    plt.rcParams['figure.figsize'] = [20, 15]\n",
    "    plt.show()\n",
    "#\n",
    "chi2_test(top_n_features=top_n_features, X_df=rep_hist_snapshot_df_pruned_norm, y_df=y_label_snap_id, table='REP_HIST_SNAPSHOT', headers=retain_headers_rep_hist_snapshot)\n",
    "chi2_test(top_n_features=top_n_features, X_df=rep_hist_sysmetric_summary_df_pruned_norm, y_df=y_label_snap_id, table='REP_HIST_SYSMETRIC_SUMMARY', headers=retain_headers_rep_hist_sysmetric_summary)\n",
    "chi2_test(top_n_features=top_n_features, X_df=rep_hist_sysstat_df_pruned_norm, y_df=y_label_snap_id, table='REP_HIST_SYSSTAT', headers=retain_headers_rep_hist_sysstat)"
   ]
  },
  {
   "cell_type": "markdown",
   "metadata": {},
   "source": [
    "### Random Forest Feature Importance\n",
    "\n",
    "Calculating MI (Mutual Information) scoring between data matrix X (feature vectors) and target column y ('SNAP_ID') "
   ]
  },
  {
   "cell_type": "code",
   "execution_count": 94,
   "metadata": {
    "scrolled": true
   },
   "outputs": [
    {
     "name": "stdout",
     "output_type": "stream",
     "text": [
      "                              importance\n",
      "feature                                 \n",
      "IOWAIT_TOTAL                       0.293\n",
      "PLSEXEC_TIME_TOTAL                 0.280\n",
      "DISK_READS_TOTAL                   0.055\n",
      "IOWAIT_DELTA                       0.048\n",
      "CPU_TIME_DELTA                     0.037\n",
      "ELAPSED_TIME_DELTA                 0.024\n",
      "DISK_READS_DELTA                   0.024\n",
      "IO_INTERCONNECT_BYTES_DELTA        0.020\n",
      "SHARABLE_MEM                       0.019\n",
      "PHYSICAL_READ_REQUESTS_TOTAL       0.017\n",
      "PHYSICAL_READ_BYTES_DELTA          0.017\n",
      "OPTIMIZER_COST                     0.014\n",
      "PHYSICAL_WRITE_BYTES_DELTA         0.012\n",
      "ROWS_PROCESSED_TOTAL               0.012\n",
      "PHYSICAL_READ_BYTES_TOTAL          0.012\n",
      "PLSEXEC_TIME_DELTA                 0.010\n",
      "IO_INTERCONNECT_BYTES_TOTAL        0.009\n",
      "CPU_TIME_TOTAL                     0.008\n",
      "ELAPSED_TIME_TOTAL                 0.008\n",
      "BUFFER_GETS_TOTAL                  0.008\n",
      "PHYSICAL_READ_REQUESTS_DELTA       0.007\n",
      "FETCHES_TOTAL                      0.007\n",
      "CCWAIT_TOTAL                       0.007\n",
      "BUFFER_GETS_DELTA                  0.006\n",
      "SORTS_TOTAL                        0.006\n",
      "PHYSICAL_WRITE_BYTES_TOTAL         0.005\n",
      "APWAIT_TOTAL                       0.004\n",
      "APWAIT_DELTA                       0.003\n",
      "DIRECT_WRITES_TOTAL                0.003\n",
      "EXECUTIONS_DELTA                   0.002\n"
     ]
    },
    {
     "data": {
      "image/png": "[encoded data removed]",
      "text/plain": [
       "<Figure size 1440x1080 with 1 Axes>"
      ]
     },
     "metadata": {
      "needs_background": "light"
     },
     "output_type": "display_data"
    },
    {
     "name": "stdout",
     "output_type": "stream",
     "text": [
      "                                     importance\n",
      "feature                                        \n",
      "PHYSICAL READ BYTES PER SEC               0.098\n",
      "PHYSICAL READ TOTAL BYTES PER SEC         0.089\n",
      "TEMP SPACE USED                           0.071\n",
      "PHYSICAL WRITE BYTES PER SEC              0.066\n",
      "NETWORK TRAFFIC VOLUME PER SEC            0.057\n",
      "REDO GENERATED PER TXN                    0.051\n",
      "PHYSICAL WRITE TOTAL BYTES PER SEC        0.050\n",
      "VM IN BYTES PER SEC                       0.043\n",
      "VM OUT BYTES PER SEC                      0.042\n",
      "REDO GENERATED PER SEC                    0.039\n",
      "TXNS PER LOGON                            0.039\n",
      "TOTAL INDEX SCANS PER SEC                 0.038\n",
      "LOGICAL READS PER SEC                     0.037\n",
      "CELL PHYSICAL IO INTERCONNECT BYTES       0.035\n",
      "TOTAL PGA ALLOCATED                       0.032\n",
      "CONSISTENT READ GETS PER SEC              0.022\n",
      "TOTAL INDEX SCANS PER TXN                 0.018\n",
      "ROWS PER SORT                             0.017\n",
      "LOGICAL READS PER TXN                     0.016\n",
      "CONSISTENT READ GETS PER TXN              0.015\n",
      "TOTAL PGA USED BY SQL WORKAREAS           0.015\n",
      "DB BLOCK GETS PER SEC                     0.014\n",
      "LOGICAL READS PER USER CALL               0.011\n",
      "DB BLOCK CHANGES PER SEC                  0.011\n",
      "DB BLOCK GETS PER TXN                     0.009\n",
      "PHYSICAL READS PER TXN                    0.007\n",
      "PHYSICAL READS DIRECT PER TXN             0.006\n",
      "RESPONSE TIME PER TXN                     0.006\n",
      "RECURSIVE CALLS PER SEC                   0.005\n",
      "CPU USAGE PER TXN                         0.005\n"
     ]
    },
    {
     "data": {
      "image/png": "[encoded data removed]",
      "text/plain": [
       "<Figure size 1440x1080 with 1 Axes>"
      ]
     },
     "metadata": {
      "needs_background": "light"
     },
     "output_type": "display_data"
    },
    {
     "name": "stdout",
     "output_type": "stream",
     "text": [
      "                                        importance\n",
      "feature                                           \n",
      "PROCESS LAST NON-IDLE TIME                   0.227\n",
      "SESSION CONNECT TIME                         0.218\n",
      "TABLE FETCH BY ROWID                         0.075\n",
      "LOGICAL READ BYTES FROM CACHE                0.042\n",
      "INDEX FETCH BY KEY                           0.037\n",
      "CELL PHYSICAL IO INTERCONNECT BYTES          0.037\n",
      "CONSISTENT GETS EXAMINATION                  0.035\n",
      "SORTS (ROWS)                                 0.035\n",
      "CONSISTENT GETS EXAMINATION (FASTPATH)       0.034\n",
      "SESSION UGA MEMORY MAX                       0.031\n",
      "PHYSICAL READ BYTES                          0.030\n",
      "PHYSICAL READ TOTAL BYTES                    0.027\n",
      "PHYSICAL WRITE BYTES                         0.021\n",
      "TABLE SCAN ROWS GOTTEN                       0.020\n",
      "PHYSICAL WRITE TOTAL BYTES                   0.020\n",
      "TBS EXTENSION: BYTES EXTENDED                0.017\n",
      "REDO SYNCH TIME (USEC)                       0.017\n",
      "TABLE SCAN DISK NON-IMC ROWS GOTTEN          0.016\n",
      "BYTES SENT VIA SQL*NET TO CLIENT             0.012\n",
      "BUFFER IS PINNED COUNT                       0.011\n",
      "TABLE SCAN BLOCKS GOTTEN                     0.009\n",
      "IN CALL IDLE WAIT TIME                       0.006\n",
      "NO WORK - CONSISTENT READ GETS               0.003\n",
      "CONSISTENT GETS PIN (FASTPATH)               0.002\n",
      "CONSISTENT GETS PIN                          0.002\n",
      "REDO WRITE FINISH TIME                       0.001\n",
      "REDO WRITE GATHER TIME                       0.001\n",
      "BUFFER IS NOT PINNED COUNT                   0.001\n",
      "REDO BLOCKS WRITTEN (GROUP 0)                0.001\n",
      "KTFB ALLOC SPACE (BLOCK)                     0.001\n"
     ]
    },
    {
     "data": {
      "image/png": "[encoded data removed]",
      "text/plain": [
       "<Figure size 1440x1080 with 1 Axes>"
      ]
     },
     "metadata": {
      "needs_background": "light"
     },
     "output_type": "display_data"
    }
   ],
   "source": [
    "def rfr_ranking(X_df=None, y_df=None, headers=None, top_n_features=30):\n",
    "    \"\"\"\n",
    "    Ranks features using a filter RFR method, and plots them in descending order (ranked by importance)\n",
    "    \"\"\"\n",
    "    X_df = np.array(X_df)\n",
    "    y_df = np.array(y_df)\n",
    "    rfr = RandomForestRegressor(n_estimators=2000)\n",
    "    rfr.fit(X_df, y_df)\n",
    "    importances = pd.DataFrame({'feature':headers,\n",
    "                                'importance':np.round(rfr.feature_importances_,3)})\n",
    "    importances = importances.sort_values('importance',ascending=False).set_index('feature')\n",
    "    print(importances[:top_n_features])\n",
    "    importances[:top_n_features].plot.bar()\n",
    "    plt.ylabel('FEATURE INFORMATION IMPORTANCE')\n",
    "    plt.xlabel('FEATURES')\n",
    "    plt.title('Features Ranked By RFC Scoring')\n",
    "    plt.rcParams['figure.figsize'] = [20, 15]\n",
    "    plt.show()\n",
    "#\n",
    "rfr_ranking(top_n_features=top_n_features,\n",
    "            X_df=rep_hist_snapshot_df_pruned_norm, \n",
    "            y_df=y_label_snap_id, \n",
    "            headers=retain_headers_rep_hist_snapshot)\n",
    "rfr_ranking(top_n_features=top_n_features,\n",
    "            X_df=rep_hist_sysmetric_summary_df_pruned_norm, \n",
    "            y_df=y_label_snap_id, \n",
    "            headers=retain_headers_rep_hist_sysmetric_summary)\n",
    "rfr_ranking(top_n_features=top_n_features,\n",
    "            X_df=rep_hist_sysstat_df_pruned_norm, \n",
    "            y_df=y_label_snap_id, \n",
    "            headers=retain_headers_rep_hist_sysstat)"
   ]
  },
  {
   "cell_type": "markdown",
   "metadata": {},
   "source": [
    "### Wrapper Methods\n",
    "\n",
    "Use a number of machine learning models to evaluate features individually and rank by highest. The following machine learning models will be opted for:\n",
    "\n",
    "* Random Forest Classifier\n",
    "* Gradient Boosting\n",
    "\n",
    "In a 'Brute-Fore' approach, these machine learning heuristics will strip away 1 feature at a time in a method referred to as 'Recursive Feature Elimination', and compare accuracy with every variable elimination. This allows the respective classifier to establish an optimum feature configuration with the highest accuracy score.\n",
    "\n",
    "https://www.fabienplisson.com/choosing-right-features/\n",
    "\n",
    "### Random Forest Wrapper (Feature Combination)"
   ]
  },
  {
   "cell_type": "code",
   "execution_count": 95,
   "metadata": {
    "scrolled": true
   },
   "outputs": [
    {
     "name": "stdout",
     "output_type": "stream",
     "text": [
      "Table [REP_HIST_SNAPSHOT] RFR R2 Score: 0.6751663963245556\n"
     ]
    },
    {
     "name": "stderr",
     "output_type": "stream",
     "text": [
      "C:\\ProgramData\\Anaconda3\\lib\\site-packages\\sklearn\\utils\\__init__.py:54: FutureWarning: Conversion of the second argument of issubdtype from `int` to `np.signedinteger` is deprecated. In future, it will be treated as `np.int32 == np.dtype(int).type`.\n",
      "  if np.issubdtype(mask.dtype, np.int):\n",
      "C:\\ProgramData\\Anaconda3\\lib\\site-packages\\sklearn\\utils\\__init__.py:54: FutureWarning: Conversion of the second argument of issubdtype from `int` to `np.signedinteger` is deprecated. In future, it will be treated as `np.int32 == np.dtype(int).type`.\n",
      "  if np.issubdtype(mask.dtype, np.int):\n"
     ]
    },
    {
     "name": "stdout",
     "output_type": "stream",
     "text": [
      "Thresh=0.0, n=60, R2 Score: 0.6719857232180075\n"
     ]
    },
    {
     "name": "stderr",
     "output_type": "stream",
     "text": [
      "C:\\ProgramData\\Anaconda3\\lib\\site-packages\\sklearn\\utils\\__init__.py:54: FutureWarning: Conversion of the second argument of issubdtype from `int` to `np.signedinteger` is deprecated. In future, it will be treated as `np.int32 == np.dtype(int).type`.\n",
      "  if np.issubdtype(mask.dtype, np.int):\n"
     ]
    },
    {
     "name": "stdout",
     "output_type": "stream",
     "text": [
      "Thresh=0.0, n=60, R2 Score: 0.6961058276093299\n"
     ]
    },
    {
     "name": "stderr",
     "output_type": "stream",
     "text": [
      "C:\\ProgramData\\Anaconda3\\lib\\site-packages\\sklearn\\utils\\__init__.py:54: FutureWarning: Conversion of the second argument of issubdtype from `int` to `np.signedinteger` is deprecated. In future, it will be treated as `np.int32 == np.dtype(int).type`.\n",
      "  if np.issubdtype(mask.dtype, np.int):\n"
     ]
    },
    {
     "name": "stdout",
     "output_type": "stream",
     "text": [
      "Thresh=0.0, n=60, R2 Score: 0.6615380955833046\n"
     ]
    },
    {
     "name": "stderr",
     "output_type": "stream",
     "text": [
      "C:\\ProgramData\\Anaconda3\\lib\\site-packages\\sklearn\\utils\\__init__.py:54: FutureWarning: Conversion of the second argument of issubdtype from `int` to `np.signedinteger` is deprecated. In future, it will be treated as `np.int32 == np.dtype(int).type`.\n",
      "  if np.issubdtype(mask.dtype, np.int):\n"
     ]
    },
    {
     "name": "stdout",
     "output_type": "stream",
     "text": [
      "Thresh=0.0, n=60, R2 Score: 0.6645788779745183\n"
     ]
    },
    {
     "name": "stderr",
     "output_type": "stream",
     "text": [
      "C:\\ProgramData\\Anaconda3\\lib\\site-packages\\sklearn\\utils\\__init__.py:54: FutureWarning: Conversion of the second argument of issubdtype from `int` to `np.signedinteger` is deprecated. In future, it will be treated as `np.int32 == np.dtype(int).type`.\n",
      "  if np.issubdtype(mask.dtype, np.int):\n"
     ]
    },
    {
     "name": "stdout",
     "output_type": "stream",
     "text": [
      "Thresh=0.0, n=60, R2 Score: 0.6581512677383692\n"
     ]
    },
    {
     "name": "stderr",
     "output_type": "stream",
     "text": [
      "C:\\ProgramData\\Anaconda3\\lib\\site-packages\\sklearn\\utils\\__init__.py:54: FutureWarning: Conversion of the second argument of issubdtype from `int` to `np.signedinteger` is deprecated. In future, it will be treated as `np.int32 == np.dtype(int).type`.\n",
      "  if np.issubdtype(mask.dtype, np.int):\n"
     ]
    },
    {
     "name": "stdout",
     "output_type": "stream",
     "text": [
      "Thresh=0.0, n=60, R2 Score: 0.6580481903691755\n"
     ]
    },
    {
     "name": "stderr",
     "output_type": "stream",
     "text": [
      "C:\\ProgramData\\Anaconda3\\lib\\site-packages\\sklearn\\utils\\__init__.py:54: FutureWarning: Conversion of the second argument of issubdtype from `int` to `np.signedinteger` is deprecated. In future, it will be treated as `np.int32 == np.dtype(int).type`.\n",
      "  if np.issubdtype(mask.dtype, np.int):\n"
     ]
    },
    {
     "name": "stdout",
     "output_type": "stream",
     "text": [
      "Thresh=0.0, n=60, R2 Score: 0.674709910832412\n"
     ]
    },
    {
     "name": "stderr",
     "output_type": "stream",
     "text": [
      "C:\\ProgramData\\Anaconda3\\lib\\site-packages\\sklearn\\utils\\__init__.py:54: FutureWarning: Conversion of the second argument of issubdtype from `int` to `np.signedinteger` is deprecated. In future, it will be treated as `np.int32 == np.dtype(int).type`.\n",
      "  if np.issubdtype(mask.dtype, np.int):\n"
     ]
    },
    {
     "name": "stdout",
     "output_type": "stream",
     "text": [
      "Thresh=0.0, n=60, R2 Score: 0.6680614205194193\n"
     ]
    },
    {
     "name": "stderr",
     "output_type": "stream",
     "text": [
      "C:\\ProgramData\\Anaconda3\\lib\\site-packages\\sklearn\\utils\\__init__.py:54: FutureWarning: Conversion of the second argument of issubdtype from `int` to `np.signedinteger` is deprecated. In future, it will be treated as `np.int32 == np.dtype(int).type`.\n",
      "  if np.issubdtype(mask.dtype, np.int):\n"
     ]
    },
    {
     "name": "stdout",
     "output_type": "stream",
     "text": [
      "Thresh=0.0, n=60, R2 Score: 0.6784795974772098\n"
     ]
    },
    {
     "name": "stderr",
     "output_type": "stream",
     "text": [
      "C:\\ProgramData\\Anaconda3\\lib\\site-packages\\sklearn\\utils\\__init__.py:54: FutureWarning: Conversion of the second argument of issubdtype from `int` to `np.signedinteger` is deprecated. In future, it will be treated as `np.int32 == np.dtype(int).type`.\n",
      "  if np.issubdtype(mask.dtype, np.int):\n"
     ]
    },
    {
     "name": "stdout",
     "output_type": "stream",
     "text": [
      "Thresh=0.0, n=60, R2 Score: 0.6704542880185584\n"
     ]
    },
    {
     "name": "stderr",
     "output_type": "stream",
     "text": [
      "C:\\ProgramData\\Anaconda3\\lib\\site-packages\\sklearn\\utils\\__init__.py:54: FutureWarning: Conversion of the second argument of issubdtype from `int` to `np.signedinteger` is deprecated. In future, it will be treated as `np.int32 == np.dtype(int).type`.\n",
      "  if np.issubdtype(mask.dtype, np.int):\n"
     ]
    },
    {
     "name": "stdout",
     "output_type": "stream",
     "text": [
      "Thresh=0.0, n=60, R2 Score: 0.6667655907352701\n"
     ]
    },
    {
     "name": "stderr",
     "output_type": "stream",
     "text": [
      "C:\\ProgramData\\Anaconda3\\lib\\site-packages\\sklearn\\utils\\__init__.py:54: FutureWarning: Conversion of the second argument of issubdtype from `int` to `np.signedinteger` is deprecated. In future, it will be treated as `np.int32 == np.dtype(int).type`.\n",
      "  if np.issubdtype(mask.dtype, np.int):\n"
     ]
    },
    {
     "name": "stdout",
     "output_type": "stream",
     "text": [
      "Thresh=0.0, n=60, R2 Score: 0.679289491092303\n"
     ]
    },
    {
     "name": "stderr",
     "output_type": "stream",
     "text": [
      "C:\\ProgramData\\Anaconda3\\lib\\site-packages\\sklearn\\utils\\__init__.py:54: FutureWarning: Conversion of the second argument of issubdtype from `int` to `np.signedinteger` is deprecated. In future, it will be treated as `np.int32 == np.dtype(int).type`.\n",
      "  if np.issubdtype(mask.dtype, np.int):\n"
     ]
    },
    {
     "name": "stdout",
     "output_type": "stream",
     "text": [
      "Thresh=0.0, n=60, R2 Score: 0.6874988672816572\n"
     ]
    },
    {
     "name": "stderr",
     "output_type": "stream",
     "text": [
      "C:\\ProgramData\\Anaconda3\\lib\\site-packages\\sklearn\\utils\\__init__.py:54: FutureWarning: Conversion of the second argument of issubdtype from `int` to `np.signedinteger` is deprecated. In future, it will be treated as `np.int32 == np.dtype(int).type`.\n",
      "  if np.issubdtype(mask.dtype, np.int):\n"
     ]
    },
    {
     "name": "stdout",
     "output_type": "stream",
     "text": [
      "Thresh=4.2138487803057137e-07, n=47, R2 Score: 0.6876093073200791\n"
     ]
    },
    {
     "name": "stderr",
     "output_type": "stream",
     "text": [
      "C:\\ProgramData\\Anaconda3\\lib\\site-packages\\sklearn\\utils\\__init__.py:54: FutureWarning: Conversion of the second argument of issubdtype from `int` to `np.signedinteger` is deprecated. In future, it will be treated as `np.int32 == np.dtype(int).type`.\n",
      "  if np.issubdtype(mask.dtype, np.int):\n"
     ]
    },
    {
     "name": "stdout",
     "output_type": "stream",
     "text": [
      "Thresh=0.00015496885591131376, n=46, R2 Score: 0.672567374087029\n"
     ]
    },
    {
     "name": "stderr",
     "output_type": "stream",
     "text": [
      "C:\\ProgramData\\Anaconda3\\lib\\site-packages\\sklearn\\utils\\__init__.py:54: FutureWarning: Conversion of the second argument of issubdtype from `int` to `np.signedinteger` is deprecated. In future, it will be treated as `np.int32 == np.dtype(int).type`.\n",
      "  if np.issubdtype(mask.dtype, np.int):\n"
     ]
    },
    {
     "name": "stdout",
     "output_type": "stream",
     "text": [
      "Thresh=0.00023205688850495046, n=45, R2 Score: 0.6771690423546043\n"
     ]
    },
    {
     "name": "stderr",
     "output_type": "stream",
     "text": [
      "C:\\ProgramData\\Anaconda3\\lib\\site-packages\\sklearn\\utils\\__init__.py:54: FutureWarning: Conversion of the second argument of issubdtype from `int` to `np.signedinteger` is deprecated. In future, it will be treated as `np.int32 == np.dtype(int).type`.\n",
      "  if np.issubdtype(mask.dtype, np.int):\n"
     ]
    },
    {
     "name": "stdout",
     "output_type": "stream",
     "text": [
      "Thresh=0.0008818271481038837, n=44, R2 Score: 0.683508300560016\n"
     ]
    },
    {
     "name": "stderr",
     "output_type": "stream",
     "text": [
      "C:\\ProgramData\\Anaconda3\\lib\\site-packages\\sklearn\\utils\\__init__.py:54: FutureWarning: Conversion of the second argument of issubdtype from `int` to `np.signedinteger` is deprecated. In future, it will be treated as `np.int32 == np.dtype(int).type`.\n",
      "  if np.issubdtype(mask.dtype, np.int):\n"
     ]
    },
    {
     "name": "stdout",
     "output_type": "stream",
     "text": [
      "Thresh=0.0009161371961740577, n=43, R2 Score: 0.6814173024992297\n"
     ]
    },
    {
     "name": "stderr",
     "output_type": "stream",
     "text": [
      "C:\\ProgramData\\Anaconda3\\lib\\site-packages\\sklearn\\utils\\__init__.py:54: FutureWarning: Conversion of the second argument of issubdtype from `int` to `np.signedinteger` is deprecated. In future, it will be treated as `np.int32 == np.dtype(int).type`.\n",
      "  if np.issubdtype(mask.dtype, np.int):\n"
     ]
    },
    {
     "name": "stdout",
     "output_type": "stream",
     "text": [
      "Thresh=0.0009881881500894505, n=42, R2 Score: 0.6722286913025355\n"
     ]
    },
    {
     "name": "stderr",
     "output_type": "stream",
     "text": [
      "C:\\ProgramData\\Anaconda3\\lib\\site-packages\\sklearn\\utils\\__init__.py:54: FutureWarning: Conversion of the second argument of issubdtype from `int` to `np.signedinteger` is deprecated. In future, it will be treated as `np.int32 == np.dtype(int).type`.\n",
      "  if np.issubdtype(mask.dtype, np.int):\n"
     ]
    },
    {
     "name": "stdout",
     "output_type": "stream",
     "text": [
      "Thresh=0.0010549818676193188, n=41, R2 Score: 0.6758216738858582\n"
     ]
    },
    {
     "name": "stderr",
     "output_type": "stream",
     "text": [
      "C:\\ProgramData\\Anaconda3\\lib\\site-packages\\sklearn\\utils\\__init__.py:54: FutureWarning: Conversion of the second argument of issubdtype from `int` to `np.signedinteger` is deprecated. In future, it will be treated as `np.int32 == np.dtype(int).type`.\n",
      "  if np.issubdtype(mask.dtype, np.int):\n"
     ]
    },
    {
     "name": "stdout",
     "output_type": "stream",
     "text": [
      "Thresh=0.0012216671310819134, n=40, R2 Score: 0.6722507793102198\n"
     ]
    },
    {
     "name": "stderr",
     "output_type": "stream",
     "text": [
      "C:\\ProgramData\\Anaconda3\\lib\\site-packages\\sklearn\\utils\\__init__.py:54: FutureWarning: Conversion of the second argument of issubdtype from `int` to `np.signedinteger` is deprecated. In future, it will be treated as `np.int32 == np.dtype(int).type`.\n",
      "  if np.issubdtype(mask.dtype, np.int):\n"
     ]
    },
    {
     "name": "stdout",
     "output_type": "stream",
     "text": [
      "Thresh=0.0014683838606705758, n=39, R2 Score: 0.6990214446236657\n"
     ]
    },
    {
     "name": "stderr",
     "output_type": "stream",
     "text": [
      "C:\\ProgramData\\Anaconda3\\lib\\site-packages\\sklearn\\utils\\__init__.py:54: FutureWarning: Conversion of the second argument of issubdtype from `int` to `np.signedinteger` is deprecated. In future, it will be treated as `np.int32 == np.dtype(int).type`.\n",
      "  if np.issubdtype(mask.dtype, np.int):\n"
     ]
    },
    {
     "name": "stdout",
     "output_type": "stream",
     "text": [
      "Thresh=0.0014748185817733774, n=38, R2 Score: 0.6965770384399297\n"
     ]
    },
    {
     "name": "stderr",
     "output_type": "stream",
     "text": [
      "C:\\ProgramData\\Anaconda3\\lib\\site-packages\\sklearn\\utils\\__init__.py:54: FutureWarning: Conversion of the second argument of issubdtype from `int` to `np.signedinteger` is deprecated. In future, it will be treated as `np.int32 == np.dtype(int).type`.\n",
      "  if np.issubdtype(mask.dtype, np.int):\n"
     ]
    },
    {
     "name": "stdout",
     "output_type": "stream",
     "text": [
      "Thresh=0.0018476630257375911, n=37, R2 Score: 0.667428230965801\n"
     ]
    },
    {
     "name": "stderr",
     "output_type": "stream",
     "text": [
      "C:\\ProgramData\\Anaconda3\\lib\\site-packages\\sklearn\\utils\\__init__.py:54: FutureWarning: Conversion of the second argument of issubdtype from `int` to `np.signedinteger` is deprecated. In future, it will be treated as `np.int32 == np.dtype(int).type`.\n",
      "  if np.issubdtype(mask.dtype, np.int):\n"
     ]
    },
    {
     "name": "stdout",
     "output_type": "stream",
     "text": [
      "Thresh=0.0021300290213093374, n=36, R2 Score: 0.6766462928394077\n"
     ]
    },
    {
     "name": "stderr",
     "output_type": "stream",
     "text": [
      "C:\\ProgramData\\Anaconda3\\lib\\site-packages\\sklearn\\utils\\__init__.py:54: FutureWarning: Conversion of the second argument of issubdtype from `int` to `np.signedinteger` is deprecated. In future, it will be treated as `np.int32 == np.dtype(int).type`.\n",
      "  if np.issubdtype(mask.dtype, np.int):\n"
     ]
    },
    {
     "name": "stdout",
     "output_type": "stream",
     "text": [
      "Thresh=0.002188425961749063, n=35, R2 Score: 0.6691879089113217\n"
     ]
    },
    {
     "name": "stderr",
     "output_type": "stream",
     "text": [
      "C:\\ProgramData\\Anaconda3\\lib\\site-packages\\sklearn\\utils\\__init__.py:54: FutureWarning: Conversion of the second argument of issubdtype from `int` to `np.signedinteger` is deprecated. In future, it will be treated as `np.int32 == np.dtype(int).type`.\n",
      "  if np.issubdtype(mask.dtype, np.int):\n"
     ]
    },
    {
     "name": "stdout",
     "output_type": "stream",
     "text": [
      "Thresh=0.002352524168303896, n=34, R2 Score: 0.7089831360893126\n"
     ]
    },
    {
     "name": "stderr",
     "output_type": "stream",
     "text": [
      "C:\\ProgramData\\Anaconda3\\lib\\site-packages\\sklearn\\utils\\__init__.py:54: FutureWarning: Conversion of the second argument of issubdtype from `int` to `np.signedinteger` is deprecated. In future, it will be treated as `np.int32 == np.dtype(int).type`.\n",
      "  if np.issubdtype(mask.dtype, np.int):\n"
     ]
    },
    {
     "name": "stdout",
     "output_type": "stream",
     "text": [
      "Thresh=0.002722713617010543, n=33, R2 Score: 0.6558762029468801\n"
     ]
    },
    {
     "name": "stderr",
     "output_type": "stream",
     "text": [
      "C:\\ProgramData\\Anaconda3\\lib\\site-packages\\sklearn\\utils\\__init__.py:54: FutureWarning: Conversion of the second argument of issubdtype from `int` to `np.signedinteger` is deprecated. In future, it will be treated as `np.int32 == np.dtype(int).type`.\n",
      "  if np.issubdtype(mask.dtype, np.int):\n"
     ]
    },
    {
     "name": "stdout",
     "output_type": "stream",
     "text": [
      "Thresh=0.0027246594325198905, n=32, R2 Score: 0.6943314243253529\n"
     ]
    },
    {
     "name": "stderr",
     "output_type": "stream",
     "text": [
      "C:\\ProgramData\\Anaconda3\\lib\\site-packages\\sklearn\\utils\\__init__.py:54: FutureWarning: Conversion of the second argument of issubdtype from `int` to `np.signedinteger` is deprecated. In future, it will be treated as `np.int32 == np.dtype(int).type`.\n",
      "  if np.issubdtype(mask.dtype, np.int):\n"
     ]
    },
    {
     "name": "stdout",
     "output_type": "stream",
     "text": [
      "Thresh=0.00291996088748485, n=31, R2 Score: 0.6735539717635972\n"
     ]
    },
    {
     "name": "stderr",
     "output_type": "stream",
     "text": [
      "C:\\ProgramData\\Anaconda3\\lib\\site-packages\\sklearn\\utils\\__init__.py:54: FutureWarning: Conversion of the second argument of issubdtype from `int` to `np.signedinteger` is deprecated. In future, it will be treated as `np.int32 == np.dtype(int).type`.\n",
      "  if np.issubdtype(mask.dtype, np.int):\n"
     ]
    },
    {
     "name": "stdout",
     "output_type": "stream",
     "text": [
      "Thresh=0.0030185319553186567, n=30, R2 Score: 0.6726189127716258\n"
     ]
    },
    {
     "name": "stderr",
     "output_type": "stream",
     "text": [
      "C:\\ProgramData\\Anaconda3\\lib\\site-packages\\sklearn\\utils\\__init__.py:54: FutureWarning: Conversion of the second argument of issubdtype from `int` to `np.signedinteger` is deprecated. In future, it will be treated as `np.int32 == np.dtype(int).type`.\n",
      "  if np.issubdtype(mask.dtype, np.int):\n"
     ]
    },
    {
     "name": "stdout",
     "output_type": "stream",
     "text": [
      "Thresh=0.0037824238069848228, n=29, R2 Score: 0.6623185385214854\n"
     ]
    },
    {
     "name": "stderr",
     "output_type": "stream",
     "text": [
      "C:\\ProgramData\\Anaconda3\\lib\\site-packages\\sklearn\\utils\\__init__.py:54: FutureWarning: Conversion of the second argument of issubdtype from `int` to `np.signedinteger` is deprecated. In future, it will be treated as `np.int32 == np.dtype(int).type`.\n",
      "  if np.issubdtype(mask.dtype, np.int):\n"
     ]
    },
    {
     "name": "stdout",
     "output_type": "stream",
     "text": [
      "Thresh=0.0038728400771358635, n=28, R2 Score: 0.6823302734835166\n"
     ]
    },
    {
     "name": "stderr",
     "output_type": "stream",
     "text": [
      "C:\\ProgramData\\Anaconda3\\lib\\site-packages\\sklearn\\utils\\__init__.py:54: FutureWarning: Conversion of the second argument of issubdtype from `int` to `np.signedinteger` is deprecated. In future, it will be treated as `np.int32 == np.dtype(int).type`.\n",
      "  if np.issubdtype(mask.dtype, np.int):\n",
      "C:\\ProgramData\\Anaconda3\\lib\\site-packages\\sklearn\\utils\\__init__.py:54: FutureWarning: Conversion of the second argument of issubdtype from `int` to `np.signedinteger` is deprecated. In future, it will be treated as `np.int32 == np.dtype(int).type`.\n",
      "  if np.issubdtype(mask.dtype, np.int):\n"
     ]
    },
    {
     "name": "stdout",
     "output_type": "stream",
     "text": [
      "Thresh=0.00448813377251862, n=27, R2 Score: 0.6703585733185928\n",
      "Thresh=0.004980838892006964, n=26, R2 Score: 0.6690774688729\n"
     ]
    },
    {
     "name": "stderr",
     "output_type": "stream",
     "text": [
      "C:\\ProgramData\\Anaconda3\\lib\\site-packages\\sklearn\\utils\\__init__.py:54: FutureWarning: Conversion of the second argument of issubdtype from `int` to `np.signedinteger` is deprecated. In future, it will be treated as `np.int32 == np.dtype(int).type`.\n",
      "  if np.issubdtype(mask.dtype, np.int):\n"
     ]
    },
    {
     "name": "stdout",
     "output_type": "stream",
     "text": [
      "Thresh=0.005293502639718978, n=25, R2 Score: 0.6758658499012269\n"
     ]
    },
    {
     "name": "stderr",
     "output_type": "stream",
     "text": [
      "C:\\ProgramData\\Anaconda3\\lib\\site-packages\\sklearn\\utils\\__init__.py:54: FutureWarning: Conversion of the second argument of issubdtype from `int` to `np.signedinteger` is deprecated. In future, it will be treated as `np.int32 == np.dtype(int).type`.\n",
      "  if np.issubdtype(mask.dtype, np.int):\n",
      "C:\\ProgramData\\Anaconda3\\lib\\site-packages\\sklearn\\utils\\__init__.py:54: FutureWarning: Conversion of the second argument of issubdtype from `int` to `np.signedinteger` is deprecated. In future, it will be treated as `np.int32 == np.dtype(int).type`.\n",
      "  if np.issubdtype(mask.dtype, np.int):\n"
     ]
    },
    {
     "name": "stdout",
     "output_type": "stream",
     "text": [
      "Thresh=0.008493190105823743, n=24, R2 Score: 0.6731048489406818\n",
      "Thresh=0.009209301894867683, n=23, R2 Score: 0.6890965665041593\n",
      "Thresh=0.00970984749396894, n=22, R2 Score: 0.6724127580332384\n"
     ]
    },
    {
     "name": "stderr",
     "output_type": "stream",
     "text": [
      "C:\\ProgramData\\Anaconda3\\lib\\site-packages\\sklearn\\utils\\__init__.py:54: FutureWarning: Conversion of the second argument of issubdtype from `int` to `np.signedinteger` is deprecated. In future, it will be treated as `np.int32 == np.dtype(int).type`.\n",
      "  if np.issubdtype(mask.dtype, np.int):\n",
      "C:\\ProgramData\\Anaconda3\\lib\\site-packages\\sklearn\\utils\\__init__.py:54: FutureWarning: Conversion of the second argument of issubdtype from `int` to `np.signedinteger` is deprecated. In future, it will be treated as `np.int32 == np.dtype(int).type`.\n",
      "  if np.issubdtype(mask.dtype, np.int):\n"
     ]
    },
    {
     "name": "stdout",
     "output_type": "stream",
     "text": [
      "Thresh=0.009850049955441425, n=21, R2 Score: 0.6824112628450261\n"
     ]
    },
    {
     "name": "stderr",
     "output_type": "stream",
     "text": [
      "C:\\ProgramData\\Anaconda3\\lib\\site-packages\\sklearn\\utils\\__init__.py:54: FutureWarning: Conversion of the second argument of issubdtype from `int` to `np.signedinteger` is deprecated. In future, it will be treated as `np.int32 == np.dtype(int).type`.\n",
      "  if np.issubdtype(mask.dtype, np.int):\n"
     ]
    },
    {
     "name": "stdout",
     "output_type": "stream",
     "text": [
      "Thresh=0.009947287679562877, n=20, R2 Score: 0.6827720336372038\n"
     ]
    },
    {
     "name": "stderr",
     "output_type": "stream",
     "text": [
      "C:\\ProgramData\\Anaconda3\\lib\\site-packages\\sklearn\\utils\\__init__.py:54: FutureWarning: Conversion of the second argument of issubdtype from `int` to `np.signedinteger` is deprecated. In future, it will be treated as `np.int32 == np.dtype(int).type`.\n",
      "  if np.issubdtype(mask.dtype, np.int):\n",
      "C:\\ProgramData\\Anaconda3\\lib\\site-packages\\sklearn\\utils\\__init__.py:54: FutureWarning: Conversion of the second argument of issubdtype from `int` to `np.signedinteger` is deprecated. In future, it will be treated as `np.int32 == np.dtype(int).type`.\n",
      "  if np.issubdtype(mask.dtype, np.int):\n"
     ]
    },
    {
     "name": "stdout",
     "output_type": "stream",
     "text": [
      "Thresh=0.010122790037419928, n=19, R2 Score: 0.6791054243615999\n",
      "Thresh=0.014438019457148382, n=18, R2 Score: 0.7047716892908277\n"
     ]
    },
    {
     "name": "stderr",
     "output_type": "stream",
     "text": [
      "C:\\ProgramData\\Anaconda3\\lib\\site-packages\\sklearn\\utils\\__init__.py:54: FutureWarning: Conversion of the second argument of issubdtype from `int` to `np.signedinteger` is deprecated. In future, it will be treated as `np.int32 == np.dtype(int).type`.\n",
      "  if np.issubdtype(mask.dtype, np.int):\n",
      "C:\\ProgramData\\Anaconda3\\lib\\site-packages\\sklearn\\utils\\__init__.py:54: FutureWarning: Conversion of the second argument of issubdtype from `int` to `np.signedinteger` is deprecated. In future, it will be treated as `np.int32 == np.dtype(int).type`.\n",
      "  if np.issubdtype(mask.dtype, np.int):\n"
     ]
    },
    {
     "name": "stdout",
     "output_type": "stream",
     "text": [
      "Thresh=0.015699666809399083, n=17, R2 Score: 0.7079449997281475\n",
      "Thresh=0.01575811757318312, n=16, R2 Score: 0.6864239175743516\n"
     ]
    },
    {
     "name": "stderr",
     "output_type": "stream",
     "text": [
      "C:\\ProgramData\\Anaconda3\\lib\\site-packages\\sklearn\\utils\\__init__.py:54: FutureWarning: Conversion of the second argument of issubdtype from `int` to `np.signedinteger` is deprecated. In future, it will be treated as `np.int32 == np.dtype(int).type`.\n",
      "  if np.issubdtype(mask.dtype, np.int):\n",
      "C:\\ProgramData\\Anaconda3\\lib\\site-packages\\sklearn\\utils\\__init__.py:54: FutureWarning: Conversion of the second argument of issubdtype from `int` to `np.signedinteger` is deprecated. In future, it will be treated as `np.int32 == np.dtype(int).type`.\n",
      "  if np.issubdtype(mask.dtype, np.int):\n"
     ]
    },
    {
     "name": "stdout",
     "output_type": "stream",
     "text": [
      "Thresh=0.015871510842953906, n=15, R2 Score: 0.677397285100676\n",
      "Thresh=0.016176268001846413, n=14, R2 Score: 0.671043301556808\n"
     ]
    },
    {
     "name": "stderr",
     "output_type": "stream",
     "text": [
      "C:\\ProgramData\\Anaconda3\\lib\\site-packages\\sklearn\\utils\\__init__.py:54: FutureWarning: Conversion of the second argument of issubdtype from `int` to `np.signedinteger` is deprecated. In future, it will be treated as `np.int32 == np.dtype(int).type`.\n",
      "  if np.issubdtype(mask.dtype, np.int):\n"
     ]
    },
    {
     "name": "stdout",
     "output_type": "stream",
     "text": [
      "Thresh=0.017161723698974937, n=13, R2 Score: 0.7067890606593327\n",
      "Thresh=0.017302494034323893, n=12, R2 Score: 0.6854373198977834\n"
     ]
    },
    {
     "name": "stderr",
     "output_type": "stream",
     "text": [
      "C:\\ProgramData\\Anaconda3\\lib\\site-packages\\sklearn\\utils\\__init__.py:54: FutureWarning: Conversion of the second argument of issubdtype from `int` to `np.signedinteger` is deprecated. In future, it will be treated as `np.int32 == np.dtype(int).type`.\n",
      "  if np.issubdtype(mask.dtype, np.int):\n",
      "C:\\ProgramData\\Anaconda3\\lib\\site-packages\\sklearn\\utils\\__init__.py:54: FutureWarning: Conversion of the second argument of issubdtype from `int` to `np.signedinteger` is deprecated. In future, it will be treated as `np.int32 == np.dtype(int).type`.\n",
      "  if np.issubdtype(mask.dtype, np.int):\n"
     ]
    },
    {
     "name": "stdout",
     "output_type": "stream",
     "text": [
      "Thresh=0.020661611190998394, n=11, R2 Score: 0.6723464940101853\n",
      "Thresh=0.020804175994490925, n=10, R2 Score: 0.6786047628540877\n"
     ]
    },
    {
     "name": "stderr",
     "output_type": "stream",
     "text": [
      "C:\\ProgramData\\Anaconda3\\lib\\site-packages\\sklearn\\utils\\__init__.py:54: FutureWarning: Conversion of the second argument of issubdtype from `int` to `np.signedinteger` is deprecated. In future, it will be treated as `np.int32 == np.dtype(int).type`.\n",
      "  if np.issubdtype(mask.dtype, np.int):\n",
      "C:\\ProgramData\\Anaconda3\\lib\\site-packages\\sklearn\\utils\\__init__.py:54: FutureWarning: Conversion of the second argument of issubdtype from `int` to `np.signedinteger` is deprecated. In future, it will be treated as `np.int32 == np.dtype(int).type`.\n",
      "  if np.issubdtype(mask.dtype, np.int):\n"
     ]
    },
    {
     "name": "stdout",
     "output_type": "stream",
     "text": [
      "Thresh=0.02155801319367444, n=9, R2 Score: 0.6555227948239303\n",
      "Thresh=0.02171844164646868, n=8, R2 Score: 0.671647040433514\n"
     ]
    },
    {
     "name": "stderr",
     "output_type": "stream",
     "text": [
      "C:\\ProgramData\\Anaconda3\\lib\\site-packages\\sklearn\\utils\\__init__.py:54: FutureWarning: Conversion of the second argument of issubdtype from `int` to `np.signedinteger` is deprecated. In future, it will be treated as `np.int32 == np.dtype(int).type`.\n",
      "  if np.issubdtype(mask.dtype, np.int):\n",
      "C:\\ProgramData\\Anaconda3\\lib\\site-packages\\sklearn\\utils\\__init__.py:54: FutureWarning: Conversion of the second argument of issubdtype from `int` to `np.signedinteger` is deprecated. In future, it will be treated as `np.int32 == np.dtype(int).type`.\n",
      "  if np.issubdtype(mask.dtype, np.int):\n"
     ]
    },
    {
     "name": "stdout",
     "output_type": "stream",
     "text": [
      "Thresh=0.03347664715860395, n=7, R2 Score: 0.6632020588288599\n",
      "Thresh=0.0392444228245926, n=6, R2 Score: 0.6692615356036029\n"
     ]
    },
    {
     "name": "stderr",
     "output_type": "stream",
     "text": [
      "C:\\ProgramData\\Anaconda3\\lib\\site-packages\\sklearn\\utils\\__init__.py:54: FutureWarning: Conversion of the second argument of issubdtype from `int` to `np.signedinteger` is deprecated. In future, it will be treated as `np.int32 == np.dtype(int).type`.\n",
      "  if np.issubdtype(mask.dtype, np.int):\n",
      "C:\\ProgramData\\Anaconda3\\lib\\site-packages\\sklearn\\utils\\__init__.py:54: FutureWarning: Conversion of the second argument of issubdtype from `int` to `np.signedinteger` is deprecated. In future, it will be treated as `np.int32 == np.dtype(int).type`.\n",
      "  if np.issubdtype(mask.dtype, np.int):\n"
     ]
    },
    {
     "name": "stdout",
     "output_type": "stream",
     "text": [
      "Thresh=0.04434772128206409, n=5, R2 Score: 0.6845464369211809\n",
      "Thresh=0.08201491709727743, n=4, R2 Score: 0.6888756864273158\n"
     ]
    },
    {
     "name": "stderr",
     "output_type": "stream",
     "text": [
      "C:\\ProgramData\\Anaconda3\\lib\\site-packages\\sklearn\\utils\\__init__.py:54: FutureWarning: Conversion of the second argument of issubdtype from `int` to `np.signedinteger` is deprecated. In future, it will be treated as `np.int32 == np.dtype(int).type`.\n",
      "  if np.issubdtype(mask.dtype, np.int):\n",
      "C:\\ProgramData\\Anaconda3\\lib\\site-packages\\sklearn\\utils\\__init__.py:54: FutureWarning: Conversion of the second argument of issubdtype from `int` to `np.signedinteger` is deprecated. In future, it will be treated as `np.int32 == np.dtype(int).type`.\n",
      "  if np.issubdtype(mask.dtype, np.int):\n"
     ]
    },
    {
     "name": "stdout",
     "output_type": "stream",
     "text": [
      "Thresh=0.08564181415196692, n=3, R2 Score: 0.7619207278394984\n",
      "Thresh=0.1907977704384454, n=2, R2 Score: 0.6657863557279301\n"
     ]
    },
    {
     "name": "stderr",
     "output_type": "stream",
     "text": [
      "C:\\ProgramData\\Anaconda3\\lib\\site-packages\\sklearn\\utils\\__init__.py:54: FutureWarning: Conversion of the second argument of issubdtype from `int` to `np.signedinteger` is deprecated. In future, it will be treated as `np.int32 == np.dtype(int).type`.\n",
      "  if np.issubdtype(mask.dtype, np.int):\n",
      "C:\\ProgramData\\Anaconda3\\lib\\site-packages\\sklearn\\utils\\__init__.py:54: FutureWarning: Conversion of the second argument of issubdtype from `int` to `np.signedinteger` is deprecated. In future, it will be treated as `np.int32 == np.dtype(int).type`.\n",
      "  if np.issubdtype(mask.dtype, np.int):\n"
     ]
    },
    {
     "name": "stdout",
     "output_type": "stream",
     "text": [
      "Thresh=0.21927849911389705, n=1, R2 Score: 0.21621440998966956\n",
      "\n",
      "\n",
      "------------------------------------------\n",
      "\n",
      "\n",
      "Table [REP_HIST_SYSMETRIC_SUMMARY] RFR R2 Score: -0.09841517613596773\n"
     ]
    },
    {
     "name": "stderr",
     "output_type": "stream",
     "text": [
      "C:\\ProgramData\\Anaconda3\\lib\\site-packages\\sklearn\\utils\\__init__.py:54: FutureWarning: Conversion of the second argument of issubdtype from `int` to `np.signedinteger` is deprecated. In future, it will be treated as `np.int32 == np.dtype(int).type`.\n",
      "  if np.issubdtype(mask.dtype, np.int):\n",
      "C:\\ProgramData\\Anaconda3\\lib\\site-packages\\sklearn\\utils\\__init__.py:54: FutureWarning: Conversion of the second argument of issubdtype from `int` to `np.signedinteger` is deprecated. In future, it will be treated as `np.int32 == np.dtype(int).type`.\n",
      "  if np.issubdtype(mask.dtype, np.int):\n"
     ]
    },
    {
     "name": "stdout",
     "output_type": "stream",
     "text": [
      "Thresh=0.0, n=161, R2 Score: -0.07225956401904621\n"
     ]
    },
    {
     "name": "stderr",
     "output_type": "stream",
     "text": [
      "C:\\ProgramData\\Anaconda3\\lib\\site-packages\\sklearn\\utils\\__init__.py:54: FutureWarning: Conversion of the second argument of issubdtype from `int` to `np.signedinteger` is deprecated. In future, it will be treated as `np.int32 == np.dtype(int).type`.\n",
      "  if np.issubdtype(mask.dtype, np.int):\n"
     ]
    },
    {
     "name": "stdout",
     "output_type": "stream",
     "text": [
      "Thresh=0.0, n=161, R2 Score: -0.0804041357973897\n"
     ]
    },
    {
     "name": "stderr",
     "output_type": "stream",
     "text": [
      "C:\\ProgramData\\Anaconda3\\lib\\site-packages\\sklearn\\utils\\__init__.py:54: FutureWarning: Conversion of the second argument of issubdtype from `int` to `np.signedinteger` is deprecated. In future, it will be treated as `np.int32 == np.dtype(int).type`.\n",
      "  if np.issubdtype(mask.dtype, np.int):\n"
     ]
    },
    {
     "name": "stdout",
     "output_type": "stream",
     "text": [
      "Thresh=0.0, n=161, R2 Score: -0.055040596200138125\n"
     ]
    },
    {
     "name": "stderr",
     "output_type": "stream",
     "text": [
      "C:\\ProgramData\\Anaconda3\\lib\\site-packages\\sklearn\\utils\\__init__.py:54: FutureWarning: Conversion of the second argument of issubdtype from `int` to `np.signedinteger` is deprecated. In future, it will be treated as `np.int32 == np.dtype(int).type`.\n",
      "  if np.issubdtype(mask.dtype, np.int):\n"
     ]
    },
    {
     "name": "stdout",
     "output_type": "stream",
     "text": [
      "Thresh=0.0, n=161, R2 Score: -0.12290915785836432\n"
     ]
    },
    {
     "name": "stderr",
     "output_type": "stream",
     "text": [
      "C:\\ProgramData\\Anaconda3\\lib\\site-packages\\sklearn\\utils\\__init__.py:54: FutureWarning: Conversion of the second argument of issubdtype from `int` to `np.signedinteger` is deprecated. In future, it will be treated as `np.int32 == np.dtype(int).type`.\n",
      "  if np.issubdtype(mask.dtype, np.int):\n"
     ]
    },
    {
     "name": "stdout",
     "output_type": "stream",
     "text": [
      "Thresh=0.0, n=161, R2 Score: -0.063968631014242\n"
     ]
    },
    {
     "name": "stderr",
     "output_type": "stream",
     "text": [
      "C:\\ProgramData\\Anaconda3\\lib\\site-packages\\sklearn\\utils\\__init__.py:54: FutureWarning: Conversion of the second argument of issubdtype from `int` to `np.signedinteger` is deprecated. In future, it will be treated as `np.int32 == np.dtype(int).type`.\n",
      "  if np.issubdtype(mask.dtype, np.int):\n"
     ]
    },
    {
     "name": "stdout",
     "output_type": "stream",
     "text": [
      "Thresh=0.0, n=161, R2 Score: -0.07954318740644428\n"
     ]
    },
    {
     "name": "stderr",
     "output_type": "stream",
     "text": [
      "C:\\ProgramData\\Anaconda3\\lib\\site-packages\\sklearn\\utils\\__init__.py:54: FutureWarning: Conversion of the second argument of issubdtype from `int` to `np.signedinteger` is deprecated. In future, it will be treated as `np.int32 == np.dtype(int).type`.\n",
      "  if np.issubdtype(mask.dtype, np.int):\n"
     ]
    },
    {
     "name": "stdout",
     "output_type": "stream",
     "text": [
      "Thresh=0.0, n=161, R2 Score: -0.036237483341890364\n"
     ]
    },
    {
     "name": "stderr",
     "output_type": "stream",
     "text": [
      "C:\\ProgramData\\Anaconda3\\lib\\site-packages\\sklearn\\utils\\__init__.py:54: FutureWarning: Conversion of the second argument of issubdtype from `int` to `np.signedinteger` is deprecated. In future, it will be treated as `np.int32 == np.dtype(int).type`.\n",
      "  if np.issubdtype(mask.dtype, np.int):\n"
     ]
    },
    {
     "name": "stdout",
     "output_type": "stream",
     "text": [
      "Thresh=0.0, n=161, R2 Score: -0.05242331309166404\n"
     ]
    },
    {
     "name": "stderr",
     "output_type": "stream",
     "text": [
      "C:\\ProgramData\\Anaconda3\\lib\\site-packages\\sklearn\\utils\\__init__.py:54: FutureWarning: Conversion of the second argument of issubdtype from `int` to `np.signedinteger` is deprecated. In future, it will be treated as `np.int32 == np.dtype(int).type`.\n",
      "  if np.issubdtype(mask.dtype, np.int):\n"
     ]
    },
    {
     "name": "stdout",
     "output_type": "stream",
     "text": [
      "Thresh=0.0, n=161, R2 Score: -0.05776119311552552\n"
     ]
    },
    {
     "name": "stderr",
     "output_type": "stream",
     "text": [
      "C:\\ProgramData\\Anaconda3\\lib\\site-packages\\sklearn\\utils\\__init__.py:54: FutureWarning: Conversion of the second argument of issubdtype from `int` to `np.signedinteger` is deprecated. In future, it will be treated as `np.int32 == np.dtype(int).type`.\n",
      "  if np.issubdtype(mask.dtype, np.int):\n"
     ]
    },
    {
     "name": "stdout",
     "output_type": "stream",
     "text": [
      "Thresh=0.0, n=161, R2 Score: -0.034868575400287316\n"
     ]
    },
    {
     "name": "stderr",
     "output_type": "stream",
     "text": [
      "C:\\ProgramData\\Anaconda3\\lib\\site-packages\\sklearn\\utils\\__init__.py:54: FutureWarning: Conversion of the second argument of issubdtype from `int` to `np.signedinteger` is deprecated. In future, it will be treated as `np.int32 == np.dtype(int).type`.\n",
      "  if np.issubdtype(mask.dtype, np.int):\n"
     ]
    },
    {
     "name": "stdout",
     "output_type": "stream",
     "text": [
      "Thresh=0.0, n=161, R2 Score: -0.060085753771078165\n"
     ]
    },
    {
     "name": "stderr",
     "output_type": "stream",
     "text": [
      "C:\\ProgramData\\Anaconda3\\lib\\site-packages\\sklearn\\utils\\__init__.py:54: FutureWarning: Conversion of the second argument of issubdtype from `int` to `np.signedinteger` is deprecated. In future, it will be treated as `np.int32 == np.dtype(int).type`.\n",
      "  if np.issubdtype(mask.dtype, np.int):\n"
     ]
    },
    {
     "name": "stdout",
     "output_type": "stream",
     "text": [
      "Thresh=0.0, n=161, R2 Score: -0.048729844494508345\n"
     ]
    },
    {
     "name": "stderr",
     "output_type": "stream",
     "text": [
      "C:\\ProgramData\\Anaconda3\\lib\\site-packages\\sklearn\\utils\\__init__.py:54: FutureWarning: Conversion of the second argument of issubdtype from `int` to `np.signedinteger` is deprecated. In future, it will be treated as `np.int32 == np.dtype(int).type`.\n",
      "  if np.issubdtype(mask.dtype, np.int):\n"
     ]
    },
    {
     "name": "stdout",
     "output_type": "stream",
     "text": [
      "Thresh=0.0, n=161, R2 Score: -0.06306463520374916\n"
     ]
    },
    {
     "name": "stderr",
     "output_type": "stream",
     "text": [
      "C:\\ProgramData\\Anaconda3\\lib\\site-packages\\sklearn\\utils\\__init__.py:54: FutureWarning: Conversion of the second argument of issubdtype from `int` to `np.signedinteger` is deprecated. In future, it will be treated as `np.int32 == np.dtype(int).type`.\n",
      "  if np.issubdtype(mask.dtype, np.int):\n"
     ]
    },
    {
     "name": "stdout",
     "output_type": "stream",
     "text": [
      "Thresh=0.0, n=161, R2 Score: -0.1086776809560368\n"
     ]
    },
    {
     "name": "stderr",
     "output_type": "stream",
     "text": [
      "C:\\ProgramData\\Anaconda3\\lib\\site-packages\\sklearn\\utils\\__init__.py:54: FutureWarning: Conversion of the second argument of issubdtype from `int` to `np.signedinteger` is deprecated. In future, it will be treated as `np.int32 == np.dtype(int).type`.\n",
      "  if np.issubdtype(mask.dtype, np.int):\n"
     ]
    },
    {
     "name": "stdout",
     "output_type": "stream",
     "text": [
      "Thresh=0.0, n=161, R2 Score: -0.041627020269208614\n"
     ]
    },
    {
     "name": "stderr",
     "output_type": "stream",
     "text": [
      "C:\\ProgramData\\Anaconda3\\lib\\site-packages\\sklearn\\utils\\__init__.py:54: FutureWarning: Conversion of the second argument of issubdtype from `int` to `np.signedinteger` is deprecated. In future, it will be treated as `np.int32 == np.dtype(int).type`.\n",
      "  if np.issubdtype(mask.dtype, np.int):\n"
     ]
    },
    {
     "name": "stdout",
     "output_type": "stream",
     "text": [
      "Thresh=0.0, n=161, R2 Score: -0.05636645672219398\n"
     ]
    },
    {
     "name": "stderr",
     "output_type": "stream",
     "text": [
      "C:\\ProgramData\\Anaconda3\\lib\\site-packages\\sklearn\\utils\\__init__.py:54: FutureWarning: Conversion of the second argument of issubdtype from `int` to `np.signedinteger` is deprecated. In future, it will be treated as `np.int32 == np.dtype(int).type`.\n",
      "  if np.issubdtype(mask.dtype, np.int):\n"
     ]
    },
    {
     "name": "stdout",
     "output_type": "stream",
     "text": [
      "Thresh=0.0, n=161, R2 Score: -0.10673193759250021\n"
     ]
    },
    {
     "name": "stderr",
     "output_type": "stream",
     "text": [
      "C:\\ProgramData\\Anaconda3\\lib\\site-packages\\sklearn\\utils\\__init__.py:54: FutureWarning: Conversion of the second argument of issubdtype from `int` to `np.signedinteger` is deprecated. In future, it will be treated as `np.int32 == np.dtype(int).type`.\n",
      "  if np.issubdtype(mask.dtype, np.int):\n"
     ]
    },
    {
     "name": "stdout",
     "output_type": "stream",
     "text": [
      "Thresh=0.0, n=161, R2 Score: -0.13202660131847632\n"
     ]
    },
    {
     "name": "stderr",
     "output_type": "stream",
     "text": [
      "C:\\ProgramData\\Anaconda3\\lib\\site-packages\\sklearn\\utils\\__init__.py:54: FutureWarning: Conversion of the second argument of issubdtype from `int` to `np.signedinteger` is deprecated. In future, it will be treated as `np.int32 == np.dtype(int).type`.\n",
      "  if np.issubdtype(mask.dtype, np.int):\n"
     ]
    },
    {
     "name": "stdout",
     "output_type": "stream",
     "text": [
      "Thresh=0.0, n=161, R2 Score: -0.05844134234437237\n"
     ]
    },
    {
     "name": "stderr",
     "output_type": "stream",
     "text": [
      "C:\\ProgramData\\Anaconda3\\lib\\site-packages\\sklearn\\utils\\__init__.py:54: FutureWarning: Conversion of the second argument of issubdtype from `int` to `np.signedinteger` is deprecated. In future, it will be treated as `np.int32 == np.dtype(int).type`.\n",
      "  if np.issubdtype(mask.dtype, np.int):\n"
     ]
    },
    {
     "name": "stdout",
     "output_type": "stream",
     "text": [
      "Thresh=0.0, n=161, R2 Score: -0.02666373723457749\n"
     ]
    },
    {
     "name": "stderr",
     "output_type": "stream",
     "text": [
      "C:\\ProgramData\\Anaconda3\\lib\\site-packages\\sklearn\\utils\\__init__.py:54: FutureWarning: Conversion of the second argument of issubdtype from `int` to `np.signedinteger` is deprecated. In future, it will be treated as `np.int32 == np.dtype(int).type`.\n",
      "  if np.issubdtype(mask.dtype, np.int):\n"
     ]
    },
    {
     "name": "stdout",
     "output_type": "stream",
     "text": [
      "Thresh=0.0, n=161, R2 Score: -0.0333360872644044\n"
     ]
    },
    {
     "name": "stderr",
     "output_type": "stream",
     "text": [
      "C:\\ProgramData\\Anaconda3\\lib\\site-packages\\sklearn\\utils\\__init__.py:54: FutureWarning: Conversion of the second argument of issubdtype from `int` to `np.signedinteger` is deprecated. In future, it will be treated as `np.int32 == np.dtype(int).type`.\n",
      "  if np.issubdtype(mask.dtype, np.int):\n"
     ]
    },
    {
     "name": "stdout",
     "output_type": "stream",
     "text": [
      "Thresh=0.0, n=161, R2 Score: -0.07935377876043637\n"
     ]
    },
    {
     "name": "stderr",
     "output_type": "stream",
     "text": [
      "C:\\ProgramData\\Anaconda3\\lib\\site-packages\\sklearn\\utils\\__init__.py:54: FutureWarning: Conversion of the second argument of issubdtype from `int` to `np.signedinteger` is deprecated. In future, it will be treated as `np.int32 == np.dtype(int).type`.\n",
      "  if np.issubdtype(mask.dtype, np.int):\n"
     ]
    },
    {
     "name": "stdout",
     "output_type": "stream",
     "text": [
      "Thresh=0.0, n=161, R2 Score: -0.08335718877833243\n"
     ]
    },
    {
     "name": "stderr",
     "output_type": "stream",
     "text": [
      "C:\\ProgramData\\Anaconda3\\lib\\site-packages\\sklearn\\utils\\__init__.py:54: FutureWarning: Conversion of the second argument of issubdtype from `int` to `np.signedinteger` is deprecated. In future, it will be treated as `np.int32 == np.dtype(int).type`.\n",
      "  if np.issubdtype(mask.dtype, np.int):\n"
     ]
    },
    {
     "name": "stdout",
     "output_type": "stream",
     "text": [
      "Thresh=0.0, n=161, R2 Score: -0.021015915789975637\n"
     ]
    },
    {
     "name": "stderr",
     "output_type": "stream",
     "text": [
      "C:\\ProgramData\\Anaconda3\\lib\\site-packages\\sklearn\\utils\\__init__.py:54: FutureWarning: Conversion of the second argument of issubdtype from `int` to `np.signedinteger` is deprecated. In future, it will be treated as `np.int32 == np.dtype(int).type`.\n",
      "  if np.issubdtype(mask.dtype, np.int):\n"
     ]
    },
    {
     "name": "stdout",
     "output_type": "stream",
     "text": [
      "Thresh=0.0, n=161, R2 Score: -0.07240592524550693\n"
     ]
    },
    {
     "name": "stderr",
     "output_type": "stream",
     "text": [
      "C:\\ProgramData\\Anaconda3\\lib\\site-packages\\sklearn\\utils\\__init__.py:54: FutureWarning: Conversion of the second argument of issubdtype from `int` to `np.signedinteger` is deprecated. In future, it will be treated as `np.int32 == np.dtype(int).type`.\n",
      "  if np.issubdtype(mask.dtype, np.int):\n"
     ]
    },
    {
     "name": "stdout",
     "output_type": "stream",
     "text": [
      "Thresh=0.0, n=161, R2 Score: -0.10686107985114202\n"
     ]
    },
    {
     "name": "stderr",
     "output_type": "stream",
     "text": [
      "C:\\ProgramData\\Anaconda3\\lib\\site-packages\\sklearn\\utils\\__init__.py:54: FutureWarning: Conversion of the second argument of issubdtype from `int` to `np.signedinteger` is deprecated. In future, it will be treated as `np.int32 == np.dtype(int).type`.\n",
      "  if np.issubdtype(mask.dtype, np.int):\n"
     ]
    },
    {
     "name": "stdout",
     "output_type": "stream",
     "text": [
      "Thresh=0.0, n=161, R2 Score: -0.027076992462231386\n"
     ]
    },
    {
     "name": "stderr",
     "output_type": "stream",
     "text": [
      "C:\\ProgramData\\Anaconda3\\lib\\site-packages\\sklearn\\utils\\__init__.py:54: FutureWarning: Conversion of the second argument of issubdtype from `int` to `np.signedinteger` is deprecated. In future, it will be treated as `np.int32 == np.dtype(int).type`.\n",
      "  if np.issubdtype(mask.dtype, np.int):\n"
     ]
    },
    {
     "name": "stdout",
     "output_type": "stream",
     "text": [
      "Thresh=0.0, n=161, R2 Score: -0.06186791694033511\n"
     ]
    },
    {
     "name": "stderr",
     "output_type": "stream",
     "text": [
      "C:\\ProgramData\\Anaconda3\\lib\\site-packages\\sklearn\\utils\\__init__.py:54: FutureWarning: Conversion of the second argument of issubdtype from `int` to `np.signedinteger` is deprecated. In future, it will be treated as `np.int32 == np.dtype(int).type`.\n",
      "  if np.issubdtype(mask.dtype, np.int):\n"
     ]
    },
    {
     "name": "stdout",
     "output_type": "stream",
     "text": [
      "Thresh=0.0, n=161, R2 Score: -0.08009419437664933\n"
     ]
    },
    {
     "name": "stderr",
     "output_type": "stream",
     "text": [
      "C:\\ProgramData\\Anaconda3\\lib\\site-packages\\sklearn\\utils\\__init__.py:54: FutureWarning: Conversion of the second argument of issubdtype from `int` to `np.signedinteger` is deprecated. In future, it will be treated as `np.int32 == np.dtype(int).type`.\n",
      "  if np.issubdtype(mask.dtype, np.int):\n"
     ]
    },
    {
     "name": "stdout",
     "output_type": "stream",
     "text": [
      "Thresh=0.0, n=161, R2 Score: -0.07600468951965866\n"
     ]
    },
    {
     "name": "stderr",
     "output_type": "stream",
     "text": [
      "C:\\ProgramData\\Anaconda3\\lib\\site-packages\\sklearn\\utils\\__init__.py:54: FutureWarning: Conversion of the second argument of issubdtype from `int` to `np.signedinteger` is deprecated. In future, it will be treated as `np.int32 == np.dtype(int).type`.\n",
      "  if np.issubdtype(mask.dtype, np.int):\n"
     ]
    },
    {
     "name": "stdout",
     "output_type": "stream",
     "text": [
      "Thresh=0.0, n=161, R2 Score: -0.04756756416673191\n"
     ]
    },
    {
     "name": "stderr",
     "output_type": "stream",
     "text": [
      "C:\\ProgramData\\Anaconda3\\lib\\site-packages\\sklearn\\utils\\__init__.py:54: FutureWarning: Conversion of the second argument of issubdtype from `int` to `np.signedinteger` is deprecated. In future, it will be treated as `np.int32 == np.dtype(int).type`.\n",
      "  if np.issubdtype(mask.dtype, np.int):\n"
     ]
    },
    {
     "name": "stdout",
     "output_type": "stream",
     "text": [
      "Thresh=0.0, n=161, R2 Score: -0.05716713872577328\n"
     ]
    },
    {
     "name": "stderr",
     "output_type": "stream",
     "text": [
      "C:\\ProgramData\\Anaconda3\\lib\\site-packages\\sklearn\\utils\\__init__.py:54: FutureWarning: Conversion of the second argument of issubdtype from `int` to `np.signedinteger` is deprecated. In future, it will be treated as `np.int32 == np.dtype(int).type`.\n",
      "  if np.issubdtype(mask.dtype, np.int):\n"
     ]
    },
    {
     "name": "stdout",
     "output_type": "stream",
     "text": [
      "Thresh=0.0, n=161, R2 Score: -0.0724575821489637\n"
     ]
    },
    {
     "name": "stderr",
     "output_type": "stream",
     "text": [
      "C:\\ProgramData\\Anaconda3\\lib\\site-packages\\sklearn\\utils\\__init__.py:54: FutureWarning: Conversion of the second argument of issubdtype from `int` to `np.signedinteger` is deprecated. In future, it will be treated as `np.int32 == np.dtype(int).type`.\n",
      "  if np.issubdtype(mask.dtype, np.int):\n"
     ]
    },
    {
     "name": "stdout",
     "output_type": "stream",
     "text": [
      "Thresh=0.0, n=161, R2 Score: -0.06960784297493428\n"
     ]
    },
    {
     "name": "stderr",
     "output_type": "stream",
     "text": [
      "C:\\ProgramData\\Anaconda3\\lib\\site-packages\\sklearn\\utils\\__init__.py:54: FutureWarning: Conversion of the second argument of issubdtype from `int` to `np.signedinteger` is deprecated. In future, it will be treated as `np.int32 == np.dtype(int).type`.\n",
      "  if np.issubdtype(mask.dtype, np.int):\n"
     ]
    },
    {
     "name": "stdout",
     "output_type": "stream",
     "text": [
      "Thresh=0.0, n=161, R2 Score: -0.08925468525630853\n"
     ]
    },
    {
     "name": "stderr",
     "output_type": "stream",
     "text": [
      "C:\\ProgramData\\Anaconda3\\lib\\site-packages\\sklearn\\utils\\__init__.py:54: FutureWarning: Conversion of the second argument of issubdtype from `int` to `np.signedinteger` is deprecated. In future, it will be treated as `np.int32 == np.dtype(int).type`.\n",
      "  if np.issubdtype(mask.dtype, np.int):\n"
     ]
    },
    {
     "name": "stdout",
     "output_type": "stream",
     "text": [
      "Thresh=0.0, n=161, R2 Score: -0.07127808285336834\n"
     ]
    },
    {
     "name": "stderr",
     "output_type": "stream",
     "text": [
      "C:\\ProgramData\\Anaconda3\\lib\\site-packages\\sklearn\\utils\\__init__.py:54: FutureWarning: Conversion of the second argument of issubdtype from `int` to `np.signedinteger` is deprecated. In future, it will be treated as `np.int32 == np.dtype(int).type`.\n",
      "  if np.issubdtype(mask.dtype, np.int):\n"
     ]
    },
    {
     "name": "stdout",
     "output_type": "stream",
     "text": [
      "Thresh=0.0, n=161, R2 Score: 0.0027893072196648605\n"
     ]
    },
    {
     "name": "stderr",
     "output_type": "stream",
     "text": [
      "C:\\ProgramData\\Anaconda3\\lib\\site-packages\\sklearn\\utils\\__init__.py:54: FutureWarning: Conversion of the second argument of issubdtype from `int` to `np.signedinteger` is deprecated. In future, it will be treated as `np.int32 == np.dtype(int).type`.\n",
      "  if np.issubdtype(mask.dtype, np.int):\n"
     ]
    },
    {
     "name": "stdout",
     "output_type": "stream",
     "text": [
      "Thresh=0.0, n=161, R2 Score: -0.059388385574412395\n"
     ]
    },
    {
     "name": "stderr",
     "output_type": "stream",
     "text": [
      "C:\\ProgramData\\Anaconda3\\lib\\site-packages\\sklearn\\utils\\__init__.py:54: FutureWarning: Conversion of the second argument of issubdtype from `int` to `np.signedinteger` is deprecated. In future, it will be treated as `np.int32 == np.dtype(int).type`.\n",
      "  if np.issubdtype(mask.dtype, np.int):\n"
     ]
    },
    {
     "name": "stdout",
     "output_type": "stream",
     "text": [
      "Thresh=0.0, n=161, R2 Score: -0.08360686381170668\n"
     ]
    },
    {
     "name": "stderr",
     "output_type": "stream",
     "text": [
      "C:\\ProgramData\\Anaconda3\\lib\\site-packages\\sklearn\\utils\\__init__.py:54: FutureWarning: Conversion of the second argument of issubdtype from `int` to `np.signedinteger` is deprecated. In future, it will be treated as `np.int32 == np.dtype(int).type`.\n",
      "  if np.issubdtype(mask.dtype, np.int):\n"
     ]
    },
    {
     "name": "stdout",
     "output_type": "stream",
     "text": [
      "Thresh=0.0, n=161, R2 Score: -0.07591859468056428\n"
     ]
    },
    {
     "name": "stderr",
     "output_type": "stream",
     "text": [
      "C:\\ProgramData\\Anaconda3\\lib\\site-packages\\sklearn\\utils\\__init__.py:54: FutureWarning: Conversion of the second argument of issubdtype from `int` to `np.signedinteger` is deprecated. In future, it will be treated as `np.int32 == np.dtype(int).type`.\n",
      "  if np.issubdtype(mask.dtype, np.int):\n"
     ]
    },
    {
     "name": "stdout",
     "output_type": "stream",
     "text": [
      "Thresh=0.0, n=161, R2 Score: -0.012879953495541496\n"
     ]
    },
    {
     "name": "stderr",
     "output_type": "stream",
     "text": [
      "C:\\ProgramData\\Anaconda3\\lib\\site-packages\\sklearn\\utils\\__init__.py:54: FutureWarning: Conversion of the second argument of issubdtype from `int` to `np.signedinteger` is deprecated. In future, it will be treated as `np.int32 == np.dtype(int).type`.\n",
      "  if np.issubdtype(mask.dtype, np.int):\n"
     ]
    },
    {
     "name": "stdout",
     "output_type": "stream",
     "text": [
      "Thresh=0.0, n=161, R2 Score: -0.05077890166495824\n"
     ]
    },
    {
     "name": "stderr",
     "output_type": "stream",
     "text": [
      "C:\\ProgramData\\Anaconda3\\lib\\site-packages\\sklearn\\utils\\__init__.py:54: FutureWarning: Conversion of the second argument of issubdtype from `int` to `np.signedinteger` is deprecated. In future, it will be treated as `np.int32 == np.dtype(int).type`.\n",
      "  if np.issubdtype(mask.dtype, np.int):\n"
     ]
    },
    {
     "name": "stdout",
     "output_type": "stream",
     "text": [
      "Thresh=0.0, n=161, R2 Score: -0.0627374748151901\n"
     ]
    },
    {
     "name": "stderr",
     "output_type": "stream",
     "text": [
      "C:\\ProgramData\\Anaconda3\\lib\\site-packages\\sklearn\\utils\\__init__.py:54: FutureWarning: Conversion of the second argument of issubdtype from `int` to `np.signedinteger` is deprecated. In future, it will be treated as `np.int32 == np.dtype(int).type`.\n",
      "  if np.issubdtype(mask.dtype, np.int):\n"
     ]
    },
    {
     "name": "stdout",
     "output_type": "stream",
     "text": [
      "Thresh=0.0, n=161, R2 Score: -0.026147168200010285\n"
     ]
    },
    {
     "name": "stderr",
     "output_type": "stream",
     "text": [
      "C:\\ProgramData\\Anaconda3\\lib\\site-packages\\sklearn\\utils\\__init__.py:54: FutureWarning: Conversion of the second argument of issubdtype from `int` to `np.signedinteger` is deprecated. In future, it will be treated as `np.int32 == np.dtype(int).type`.\n",
      "  if np.issubdtype(mask.dtype, np.int):\n"
     ]
    },
    {
     "name": "stdout",
     "output_type": "stream",
     "text": [
      "Thresh=0.0, n=161, R2 Score: -0.09238853739934982\n"
     ]
    },
    {
     "name": "stderr",
     "output_type": "stream",
     "text": [
      "C:\\ProgramData\\Anaconda3\\lib\\site-packages\\sklearn\\utils\\__init__.py:54: FutureWarning: Conversion of the second argument of issubdtype from `int` to `np.signedinteger` is deprecated. In future, it will be treated as `np.int32 == np.dtype(int).type`.\n",
      "  if np.issubdtype(mask.dtype, np.int):\n"
     ]
    },
    {
     "name": "stdout",
     "output_type": "stream",
     "text": [
      "Thresh=0.0, n=161, R2 Score: -0.013878653629038284\n"
     ]
    },
    {
     "name": "stderr",
     "output_type": "stream",
     "text": [
      "C:\\ProgramData\\Anaconda3\\lib\\site-packages\\sklearn\\utils\\__init__.py:54: FutureWarning: Conversion of the second argument of issubdtype from `int` to `np.signedinteger` is deprecated. In future, it will be treated as `np.int32 == np.dtype(int).type`.\n",
      "  if np.issubdtype(mask.dtype, np.int):\n"
     ]
    },
    {
     "name": "stdout",
     "output_type": "stream",
     "text": [
      "Thresh=0.0, n=161, R2 Score: -0.10297820260797819\n"
     ]
    },
    {
     "name": "stderr",
     "output_type": "stream",
     "text": [
      "C:\\ProgramData\\Anaconda3\\lib\\site-packages\\sklearn\\utils\\__init__.py:54: FutureWarning: Conversion of the second argument of issubdtype from `int` to `np.signedinteger` is deprecated. In future, it will be treated as `np.int32 == np.dtype(int).type`.\n",
      "  if np.issubdtype(mask.dtype, np.int):\n"
     ]
    },
    {
     "name": "stdout",
     "output_type": "stream",
     "text": [
      "Thresh=0.0, n=161, R2 Score: -0.04868679707496093\n"
     ]
    },
    {
     "name": "stderr",
     "output_type": "stream",
     "text": [
      "C:\\ProgramData\\Anaconda3\\lib\\site-packages\\sklearn\\utils\\__init__.py:54: FutureWarning: Conversion of the second argument of issubdtype from `int` to `np.signedinteger` is deprecated. In future, it will be treated as `np.int32 == np.dtype(int).type`.\n",
      "  if np.issubdtype(mask.dtype, np.int):\n"
     ]
    },
    {
     "name": "stdout",
     "output_type": "stream",
     "text": [
      "Thresh=0.0, n=161, R2 Score: -0.09454951786062282\n"
     ]
    },
    {
     "name": "stderr",
     "output_type": "stream",
     "text": [
      "C:\\ProgramData\\Anaconda3\\lib\\site-packages\\sklearn\\utils\\__init__.py:54: FutureWarning: Conversion of the second argument of issubdtype from `int` to `np.signedinteger` is deprecated. In future, it will be treated as `np.int32 == np.dtype(int).type`.\n",
      "  if np.issubdtype(mask.dtype, np.int):\n"
     ]
    },
    {
     "name": "stdout",
     "output_type": "stream",
     "text": [
      "Thresh=0.0, n=161, R2 Score: -0.025725303488447038\n"
     ]
    },
    {
     "name": "stderr",
     "output_type": "stream",
     "text": [
      "C:\\ProgramData\\Anaconda3\\lib\\site-packages\\sklearn\\utils\\__init__.py:54: FutureWarning: Conversion of the second argument of issubdtype from `int` to `np.signedinteger` is deprecated. In future, it will be treated as `np.int32 == np.dtype(int).type`.\n",
      "  if np.issubdtype(mask.dtype, np.int):\n"
     ]
    },
    {
     "name": "stdout",
     "output_type": "stream",
     "text": [
      "Thresh=0.0, n=161, R2 Score: -0.0761940981656668\n"
     ]
    },
    {
     "name": "stderr",
     "output_type": "stream",
     "text": [
      "C:\\ProgramData\\Anaconda3\\lib\\site-packages\\sklearn\\utils\\__init__.py:54: FutureWarning: Conversion of the second argument of issubdtype from `int` to `np.signedinteger` is deprecated. In future, it will be treated as `np.int32 == np.dtype(int).type`.\n",
      "  if np.issubdtype(mask.dtype, np.int):\n"
     ]
    },
    {
     "name": "stdout",
     "output_type": "stream",
     "text": [
      "Thresh=0.0, n=161, R2 Score: -0.030288329960457716\n"
     ]
    },
    {
     "name": "stderr",
     "output_type": "stream",
     "text": [
      "C:\\ProgramData\\Anaconda3\\lib\\site-packages\\sklearn\\utils\\__init__.py:54: FutureWarning: Conversion of the second argument of issubdtype from `int` to `np.signedinteger` is deprecated. In future, it will be treated as `np.int32 == np.dtype(int).type`.\n",
      "  if np.issubdtype(mask.dtype, np.int):\n"
     ]
    },
    {
     "name": "stdout",
     "output_type": "stream",
     "text": [
      "Thresh=0.0, n=161, R2 Score: -0.07463578157805562\n"
     ]
    },
    {
     "name": "stderr",
     "output_type": "stream",
     "text": [
      "C:\\ProgramData\\Anaconda3\\lib\\site-packages\\sklearn\\utils\\__init__.py:54: FutureWarning: Conversion of the second argument of issubdtype from `int` to `np.signedinteger` is deprecated. In future, it will be treated as `np.int32 == np.dtype(int).type`.\n",
      "  if np.issubdtype(mask.dtype, np.int):\n"
     ]
    },
    {
     "name": "stdout",
     "output_type": "stream",
     "text": [
      "Thresh=0.0, n=161, R2 Score: -0.057907554341986245\n"
     ]
    },
    {
     "name": "stderr",
     "output_type": "stream",
     "text": [
      "C:\\ProgramData\\Anaconda3\\lib\\site-packages\\sklearn\\utils\\__init__.py:54: FutureWarning: Conversion of the second argument of issubdtype from `int` to `np.signedinteger` is deprecated. In future, it will be treated as `np.int32 == np.dtype(int).type`.\n",
      "  if np.issubdtype(mask.dtype, np.int):\n"
     ]
    },
    {
     "name": "stdout",
     "output_type": "stream",
     "text": [
      "Thresh=0.0, n=161, R2 Score: -0.07503181783789037\n"
     ]
    },
    {
     "name": "stderr",
     "output_type": "stream",
     "text": [
      "C:\\ProgramData\\Anaconda3\\lib\\site-packages\\sklearn\\utils\\__init__.py:54: FutureWarning: Conversion of the second argument of issubdtype from `int` to `np.signedinteger` is deprecated. In future, it will be treated as `np.int32 == np.dtype(int).type`.\n",
      "  if np.issubdtype(mask.dtype, np.int):\n"
     ]
    },
    {
     "name": "stdout",
     "output_type": "stream",
     "text": [
      "Thresh=0.0, n=161, R2 Score: -0.06861775232534706\n"
     ]
    },
    {
     "name": "stderr",
     "output_type": "stream",
     "text": [
      "C:\\ProgramData\\Anaconda3\\lib\\site-packages\\sklearn\\utils\\__init__.py:54: FutureWarning: Conversion of the second argument of issubdtype from `int` to `np.signedinteger` is deprecated. In future, it will be treated as `np.int32 == np.dtype(int).type`.\n",
      "  if np.issubdtype(mask.dtype, np.int):\n"
     ]
    },
    {
     "name": "stdout",
     "output_type": "stream",
     "text": [
      "Thresh=0.0, n=161, R2 Score: -0.05535914710478784\n"
     ]
    },
    {
     "name": "stderr",
     "output_type": "stream",
     "text": [
      "C:\\ProgramData\\Anaconda3\\lib\\site-packages\\sklearn\\utils\\__init__.py:54: FutureWarning: Conversion of the second argument of issubdtype from `int` to `np.signedinteger` is deprecated. In future, it will be treated as `np.int32 == np.dtype(int).type`.\n",
      "  if np.issubdtype(mask.dtype, np.int):\n"
     ]
    },
    {
     "name": "stdout",
     "output_type": "stream",
     "text": [
      "Thresh=0.0, n=161, R2 Score: -0.06264277049218592\n"
     ]
    },
    {
     "name": "stderr",
     "output_type": "stream",
     "text": [
      "C:\\ProgramData\\Anaconda3\\lib\\site-packages\\sklearn\\utils\\__init__.py:54: FutureWarning: Conversion of the second argument of issubdtype from `int` to `np.signedinteger` is deprecated. In future, it will be treated as `np.int32 == np.dtype(int).type`.\n",
      "  if np.issubdtype(mask.dtype, np.int):\n"
     ]
    },
    {
     "name": "stdout",
     "output_type": "stream",
     "text": [
      "Thresh=0.0, n=161, R2 Score: -0.04931528940035124\n"
     ]
    },
    {
     "name": "stderr",
     "output_type": "stream",
     "text": [
      "C:\\ProgramData\\Anaconda3\\lib\\site-packages\\sklearn\\utils\\__init__.py:54: FutureWarning: Conversion of the second argument of issubdtype from `int` to `np.signedinteger` is deprecated. In future, it will be treated as `np.int32 == np.dtype(int).type`.\n",
      "  if np.issubdtype(mask.dtype, np.int):\n"
     ]
    },
    {
     "name": "stdout",
     "output_type": "stream",
     "text": [
      "Thresh=0.0, n=161, R2 Score: -0.09322365733856675\n"
     ]
    },
    {
     "name": "stderr",
     "output_type": "stream",
     "text": [
      "C:\\ProgramData\\Anaconda3\\lib\\site-packages\\sklearn\\utils\\__init__.py:54: FutureWarning: Conversion of the second argument of issubdtype from `int` to `np.signedinteger` is deprecated. In future, it will be treated as `np.int32 == np.dtype(int).type`.\n",
      "  if np.issubdtype(mask.dtype, np.int):\n"
     ]
    },
    {
     "name": "stdout",
     "output_type": "stream",
     "text": [
      "Thresh=0.0, n=161, R2 Score: -0.07041713446242293\n"
     ]
    },
    {
     "name": "stderr",
     "output_type": "stream",
     "text": [
      "C:\\ProgramData\\Anaconda3\\lib\\site-packages\\sklearn\\utils\\__init__.py:54: FutureWarning: Conversion of the second argument of issubdtype from `int` to `np.signedinteger` is deprecated. In future, it will be treated as `np.int32 == np.dtype(int).type`.\n",
      "  if np.issubdtype(mask.dtype, np.int):\n"
     ]
    },
    {
     "name": "stdout",
     "output_type": "stream",
     "text": [
      "Thresh=0.0, n=161, R2 Score: -0.06631902012152291\n"
     ]
    },
    {
     "name": "stderr",
     "output_type": "stream",
     "text": [
      "C:\\ProgramData\\Anaconda3\\lib\\site-packages\\sklearn\\utils\\__init__.py:54: FutureWarning: Conversion of the second argument of issubdtype from `int` to `np.signedinteger` is deprecated. In future, it will be treated as `np.int32 == np.dtype(int).type`.\n",
      "  if np.issubdtype(mask.dtype, np.int):\n"
     ]
    },
    {
     "name": "stdout",
     "output_type": "stream",
     "text": [
      "Thresh=0.0, n=161, R2 Score: -0.07017606891295824\n"
     ]
    },
    {
     "name": "stderr",
     "output_type": "stream",
     "text": [
      "C:\\ProgramData\\Anaconda3\\lib\\site-packages\\sklearn\\utils\\__init__.py:54: FutureWarning: Conversion of the second argument of issubdtype from `int` to `np.signedinteger` is deprecated. In future, it will be treated as `np.int32 == np.dtype(int).type`.\n",
      "  if np.issubdtype(mask.dtype, np.int):\n"
     ]
    },
    {
     "name": "stdout",
     "output_type": "stream",
     "text": [
      "Thresh=0.0, n=161, R2 Score: -0.074076165123941\n"
     ]
    },
    {
     "name": "stderr",
     "output_type": "stream",
     "text": [
      "C:\\ProgramData\\Anaconda3\\lib\\site-packages\\sklearn\\utils\\__init__.py:54: FutureWarning: Conversion of the second argument of issubdtype from `int` to `np.signedinteger` is deprecated. In future, it will be treated as `np.int32 == np.dtype(int).type`.\n",
      "  if np.issubdtype(mask.dtype, np.int):\n"
     ]
    },
    {
     "name": "stdout",
     "output_type": "stream",
     "text": [
      "Thresh=0.0, n=161, R2 Score: -0.06014602015844428\n"
     ]
    },
    {
     "name": "stderr",
     "output_type": "stream",
     "text": [
      "C:\\ProgramData\\Anaconda3\\lib\\site-packages\\sklearn\\utils\\__init__.py:54: FutureWarning: Conversion of the second argument of issubdtype from `int` to `np.signedinteger` is deprecated. In future, it will be treated as `np.int32 == np.dtype(int).type`.\n",
      "  if np.issubdtype(mask.dtype, np.int):\n"
     ]
    },
    {
     "name": "stdout",
     "output_type": "stream",
     "text": [
      "Thresh=0.0, n=161, R2 Score: -0.03894947077336841\n"
     ]
    },
    {
     "name": "stderr",
     "output_type": "stream",
     "text": [
      "C:\\ProgramData\\Anaconda3\\lib\\site-packages\\sklearn\\utils\\__init__.py:54: FutureWarning: Conversion of the second argument of issubdtype from `int` to `np.signedinteger` is deprecated. In future, it will be treated as `np.int32 == np.dtype(int).type`.\n",
      "  if np.issubdtype(mask.dtype, np.int):\n"
     ]
    },
    {
     "name": "stdout",
     "output_type": "stream",
     "text": [
      "Thresh=0.0, n=161, R2 Score: -0.07743386384862805\n"
     ]
    },
    {
     "name": "stderr",
     "output_type": "stream",
     "text": [
      "C:\\ProgramData\\Anaconda3\\lib\\site-packages\\sklearn\\utils\\__init__.py:54: FutureWarning: Conversion of the second argument of issubdtype from `int` to `np.signedinteger` is deprecated. In future, it will be treated as `np.int32 == np.dtype(int).type`.\n",
      "  if np.issubdtype(mask.dtype, np.int):\n"
     ]
    },
    {
     "name": "stdout",
     "output_type": "stream",
     "text": [
      "Thresh=0.0, n=161, R2 Score: -0.07731333107389582\n"
     ]
    },
    {
     "name": "stderr",
     "output_type": "stream",
     "text": [
      "C:\\ProgramData\\Anaconda3\\lib\\site-packages\\sklearn\\utils\\__init__.py:54: FutureWarning: Conversion of the second argument of issubdtype from `int` to `np.signedinteger` is deprecated. In future, it will be treated as `np.int32 == np.dtype(int).type`.\n",
      "  if np.issubdtype(mask.dtype, np.int):\n"
     ]
    },
    {
     "name": "stdout",
     "output_type": "stream",
     "text": [
      "Thresh=0.0, n=161, R2 Score: -0.07210459330867591\n"
     ]
    },
    {
     "name": "stderr",
     "output_type": "stream",
     "text": [
      "C:\\ProgramData\\Anaconda3\\lib\\site-packages\\sklearn\\utils\\__init__.py:54: FutureWarning: Conversion of the second argument of issubdtype from `int` to `np.signedinteger` is deprecated. In future, it will be treated as `np.int32 == np.dtype(int).type`.\n",
      "  if np.issubdtype(mask.dtype, np.int):\n"
     ]
    },
    {
     "name": "stdout",
     "output_type": "stream",
     "text": [
      "Thresh=0.0, n=161, R2 Score: -0.06928068258637499\n"
     ]
    },
    {
     "name": "stderr",
     "output_type": "stream",
     "text": [
      "C:\\ProgramData\\Anaconda3\\lib\\site-packages\\sklearn\\utils\\__init__.py:54: FutureWarning: Conversion of the second argument of issubdtype from `int` to `np.signedinteger` is deprecated. In future, it will be treated as `np.int32 == np.dtype(int).type`.\n",
      "  if np.issubdtype(mask.dtype, np.int):\n"
     ]
    },
    {
     "name": "stdout",
     "output_type": "stream",
     "text": [
      "Thresh=0.0, n=161, R2 Score: -0.07113172162690762\n"
     ]
    },
    {
     "name": "stderr",
     "output_type": "stream",
     "text": [
      "C:\\ProgramData\\Anaconda3\\lib\\site-packages\\sklearn\\utils\\__init__.py:54: FutureWarning: Conversion of the second argument of issubdtype from `int` to `np.signedinteger` is deprecated. In future, it will be treated as `np.int32 == np.dtype(int).type`.\n",
      "  if np.issubdtype(mask.dtype, np.int):\n"
     ]
    },
    {
     "name": "stdout",
     "output_type": "stream",
     "text": [
      "Thresh=0.0, n=161, R2 Score: -0.05417964780919271\n"
     ]
    },
    {
     "name": "stderr",
     "output_type": "stream",
     "text": [
      "C:\\ProgramData\\Anaconda3\\lib\\site-packages\\sklearn\\utils\\__init__.py:54: FutureWarning: Conversion of the second argument of issubdtype from `int` to `np.signedinteger` is deprecated. In future, it will be treated as `np.int32 == np.dtype(int).type`.\n",
      "  if np.issubdtype(mask.dtype, np.int):\n"
     ]
    },
    {
     "name": "stdout",
     "output_type": "stream",
     "text": [
      "Thresh=0.0, n=161, R2 Score: -0.03471360468991702\n"
     ]
    },
    {
     "name": "stderr",
     "output_type": "stream",
     "text": [
      "C:\\ProgramData\\Anaconda3\\lib\\site-packages\\sklearn\\utils\\__init__.py:54: FutureWarning: Conversion of the second argument of issubdtype from `int` to `np.signedinteger` is deprecated. In future, it will be treated as `np.int32 == np.dtype(int).type`.\n",
      "  if np.issubdtype(mask.dtype, np.int):\n"
     ]
    },
    {
     "name": "stdout",
     "output_type": "stream",
     "text": [
      "Thresh=0.0, n=161, R2 Score: -0.09411043418124065\n"
     ]
    },
    {
     "name": "stderr",
     "output_type": "stream",
     "text": [
      "C:\\ProgramData\\Anaconda3\\lib\\site-packages\\sklearn\\utils\\__init__.py:54: FutureWarning: Conversion of the second argument of issubdtype from `int` to `np.signedinteger` is deprecated. In future, it will be treated as `np.int32 == np.dtype(int).type`.\n",
      "  if np.issubdtype(mask.dtype, np.int):\n"
     ]
    },
    {
     "name": "stdout",
     "output_type": "stream",
     "text": [
      "Thresh=0.0, n=161, R2 Score: -0.08603473827417263\n"
     ]
    },
    {
     "name": "stderr",
     "output_type": "stream",
     "text": [
      "C:\\ProgramData\\Anaconda3\\lib\\site-packages\\sklearn\\utils\\__init__.py:54: FutureWarning: Conversion of the second argument of issubdtype from `int` to `np.signedinteger` is deprecated. In future, it will be treated as `np.int32 == np.dtype(int).type`.\n",
      "  if np.issubdtype(mask.dtype, np.int):\n"
     ]
    },
    {
     "name": "stdout",
     "output_type": "stream",
     "text": [
      "Thresh=6.9020974007305e-08, n=86, R2 Score: -0.05535053762087849\n"
     ]
    },
    {
     "name": "stderr",
     "output_type": "stream",
     "text": [
      "C:\\ProgramData\\Anaconda3\\lib\\site-packages\\sklearn\\utils\\__init__.py:54: FutureWarning: Conversion of the second argument of issubdtype from `int` to `np.signedinteger` is deprecated. In future, it will be treated as `np.int32 == np.dtype(int).type`.\n",
      "  if np.issubdtype(mask.dtype, np.int):\n"
     ]
    },
    {
     "name": "stdout",
     "output_type": "stream",
     "text": [
      "Thresh=1.1579728631253964e-07, n=85, R2 Score: -0.054808140134582795\n"
     ]
    },
    {
     "name": "stderr",
     "output_type": "stream",
     "text": [
      "C:\\ProgramData\\Anaconda3\\lib\\site-packages\\sklearn\\utils\\__init__.py:54: FutureWarning: Conversion of the second argument of issubdtype from `int` to `np.signedinteger` is deprecated. In future, it will be treated as `np.int32 == np.dtype(int).type`.\n",
      "  if np.issubdtype(mask.dtype, np.int):\n"
     ]
    },
    {
     "name": "stdout",
     "output_type": "stream",
     "text": [
      "Thresh=1.3690870739085737e-07, n=84, R2 Score: 0.00018924307900969328\n"
     ]
    },
    {
     "name": "stderr",
     "output_type": "stream",
     "text": [
      "C:\\ProgramData\\Anaconda3\\lib\\site-packages\\sklearn\\utils\\__init__.py:54: FutureWarning: Conversion of the second argument of issubdtype from `int` to `np.signedinteger` is deprecated. In future, it will be treated as `np.int32 == np.dtype(int).type`.\n",
      "  if np.issubdtype(mask.dtype, np.int):\n"
     ]
    },
    {
     "name": "stdout",
     "output_type": "stream",
     "text": [
      "Thresh=1.4112265719645483e-06, n=83, R2 Score: -0.0424965781440636\n"
     ]
    },
    {
     "name": "stderr",
     "output_type": "stream",
     "text": [
      "C:\\ProgramData\\Anaconda3\\lib\\site-packages\\sklearn\\utils\\__init__.py:54: FutureWarning: Conversion of the second argument of issubdtype from `int` to `np.signedinteger` is deprecated. In future, it will be treated as `np.int32 == np.dtype(int).type`.\n",
      "  if np.issubdtype(mask.dtype, np.int):\n"
     ]
    },
    {
     "name": "stdout",
     "output_type": "stream",
     "text": [
      "Thresh=4.031789954895408e-06, n=82, R2 Score: -0.0930428581764684\n"
     ]
    },
    {
     "name": "stderr",
     "output_type": "stream",
     "text": [
      "C:\\ProgramData\\Anaconda3\\lib\\site-packages\\sklearn\\utils\\__init__.py:54: FutureWarning: Conversion of the second argument of issubdtype from `int` to `np.signedinteger` is deprecated. In future, it will be treated as `np.int32 == np.dtype(int).type`.\n",
      "  if np.issubdtype(mask.dtype, np.int):\n"
     ]
    },
    {
     "name": "stdout",
     "output_type": "stream",
     "text": [
      "Thresh=4.709891500966394e-06, n=81, R2 Score: -0.07793321391537633\n"
     ]
    },
    {
     "name": "stderr",
     "output_type": "stream",
     "text": [
      "C:\\ProgramData\\Anaconda3\\lib\\site-packages\\sklearn\\utils\\__init__.py:54: FutureWarning: Conversion of the second argument of issubdtype from `int` to `np.signedinteger` is deprecated. In future, it will be treated as `np.int32 == np.dtype(int).type`.\n",
      "  if np.issubdtype(mask.dtype, np.int):\n"
     ]
    },
    {
     "name": "stdout",
     "output_type": "stream",
     "text": [
      "Thresh=5.4863499828378364e-06, n=80, R2 Score: -0.06924624465073737\n"
     ]
    },
    {
     "name": "stderr",
     "output_type": "stream",
     "text": [
      "C:\\ProgramData\\Anaconda3\\lib\\site-packages\\sklearn\\utils\\__init__.py:54: FutureWarning: Conversion of the second argument of issubdtype from `int` to `np.signedinteger` is deprecated. In future, it will be treated as `np.int32 == np.dtype(int).type`.\n",
      "  if np.issubdtype(mask.dtype, np.int):\n"
     ]
    },
    {
     "name": "stdout",
     "output_type": "stream",
     "text": [
      "Thresh=6.690899354566522e-06, n=79, R2 Score: -0.08717979963413014\n"
     ]
    },
    {
     "name": "stderr",
     "output_type": "stream",
     "text": [
      "C:\\ProgramData\\Anaconda3\\lib\\site-packages\\sklearn\\utils\\__init__.py:54: FutureWarning: Conversion of the second argument of issubdtype from `int` to `np.signedinteger` is deprecated. In future, it will be treated as `np.int32 == np.dtype(int).type`.\n",
      "  if np.issubdtype(mask.dtype, np.int):\n"
     ]
    },
    {
     "name": "stdout",
     "output_type": "stream",
     "text": [
      "Thresh=9.405876873256164e-06, n=78, R2 Score: -0.08418369923364\n"
     ]
    },
    {
     "name": "stderr",
     "output_type": "stream",
     "text": [
      "C:\\ProgramData\\Anaconda3\\lib\\site-packages\\sklearn\\utils\\__init__.py:54: FutureWarning: Conversion of the second argument of issubdtype from `int` to `np.signedinteger` is deprecated. In future, it will be treated as `np.int32 == np.dtype(int).type`.\n",
      "  if np.issubdtype(mask.dtype, np.int):\n"
     ]
    },
    {
     "name": "stdout",
     "output_type": "stream",
     "text": [
      "Thresh=1.1419884659507352e-05, n=77, R2 Score: -0.02505376374350954\n"
     ]
    },
    {
     "name": "stderr",
     "output_type": "stream",
     "text": [
      "C:\\ProgramData\\Anaconda3\\lib\\site-packages\\sklearn\\utils\\__init__.py:54: FutureWarning: Conversion of the second argument of issubdtype from `int` to `np.signedinteger` is deprecated. In future, it will be treated as `np.int32 == np.dtype(int).type`.\n",
      "  if np.issubdtype(mask.dtype, np.int):\n"
     ]
    },
    {
     "name": "stdout",
     "output_type": "stream",
     "text": [
      "Thresh=1.1733275895976381e-05, n=76, R2 Score: -0.04974576359582383\n"
     ]
    },
    {
     "name": "stderr",
     "output_type": "stream",
     "text": [
      "C:\\ProgramData\\Anaconda3\\lib\\site-packages\\sklearn\\utils\\__init__.py:54: FutureWarning: Conversion of the second argument of issubdtype from `int` to `np.signedinteger` is deprecated. In future, it will be treated as `np.int32 == np.dtype(int).type`.\n",
      "  if np.issubdtype(mask.dtype, np.int):\n"
     ]
    },
    {
     "name": "stdout",
     "output_type": "stream",
     "text": [
      "Thresh=1.7538152287737437e-05, n=75, R2 Score: -0.10224639647567457\n"
     ]
    },
    {
     "name": "stderr",
     "output_type": "stream",
     "text": [
      "C:\\ProgramData\\Anaconda3\\lib\\site-packages\\sklearn\\utils\\__init__.py:54: FutureWarning: Conversion of the second argument of issubdtype from `int` to `np.signedinteger` is deprecated. In future, it will be treated as `np.int32 == np.dtype(int).type`.\n",
      "  if np.issubdtype(mask.dtype, np.int):\n"
     ]
    },
    {
     "name": "stdout",
     "output_type": "stream",
     "text": [
      "Thresh=1.9043530275104995e-05, n=74, R2 Score: -0.056745274014210034\n"
     ]
    },
    {
     "name": "stderr",
     "output_type": "stream",
     "text": [
      "C:\\ProgramData\\Anaconda3\\lib\\site-packages\\sklearn\\utils\\__init__.py:54: FutureWarning: Conversion of the second argument of issubdtype from `int` to `np.signedinteger` is deprecated. In future, it will be treated as `np.int32 == np.dtype(int).type`.\n",
      "  if np.issubdtype(mask.dtype, np.int):\n"
     ]
    },
    {
     "name": "stdout",
     "output_type": "stream",
     "text": [
      "Thresh=2.3276370941844263e-05, n=73, R2 Score: -0.04498471899389567\n"
     ]
    },
    {
     "name": "stderr",
     "output_type": "stream",
     "text": [
      "C:\\ProgramData\\Anaconda3\\lib\\site-packages\\sklearn\\utils\\__init__.py:54: FutureWarning: Conversion of the second argument of issubdtype from `int` to `np.signedinteger` is deprecated. In future, it will be treated as `np.int32 == np.dtype(int).type`.\n",
      "  if np.issubdtype(mask.dtype, np.int):\n"
     ]
    },
    {
     "name": "stdout",
     "output_type": "stream",
     "text": [
      "Thresh=2.406774496174945e-05, n=72, R2 Score: -0.031054574028399173\n"
     ]
    },
    {
     "name": "stderr",
     "output_type": "stream",
     "text": [
      "C:\\ProgramData\\Anaconda3\\lib\\site-packages\\sklearn\\utils\\__init__.py:54: FutureWarning: Conversion of the second argument of issubdtype from `int` to `np.signedinteger` is deprecated. In future, it will be treated as `np.int32 == np.dtype(int).type`.\n",
      "  if np.issubdtype(mask.dtype, np.int):\n"
     ]
    },
    {
     "name": "stdout",
     "output_type": "stream",
     "text": [
      "Thresh=2.472710545592242e-05, n=71, R2 Score: -0.04866957810714201\n"
     ]
    },
    {
     "name": "stderr",
     "output_type": "stream",
     "text": [
      "C:\\ProgramData\\Anaconda3\\lib\\site-packages\\sklearn\\utils\\__init__.py:54: FutureWarning: Conversion of the second argument of issubdtype from `int` to `np.signedinteger` is deprecated. In future, it will be treated as `np.int32 == np.dtype(int).type`.\n",
      "  if np.issubdtype(mask.dtype, np.int):\n"
     ]
    },
    {
     "name": "stdout",
     "output_type": "stream",
     "text": [
      "Thresh=2.6625370416436504e-05, n=70, R2 Score: -0.01393031053249505\n"
     ]
    },
    {
     "name": "stderr",
     "output_type": "stream",
     "text": [
      "C:\\ProgramData\\Anaconda3\\lib\\site-packages\\sklearn\\utils\\__init__.py:54: FutureWarning: Conversion of the second argument of issubdtype from `int` to `np.signedinteger` is deprecated. In future, it will be treated as `np.int32 == np.dtype(int).type`.\n",
      "  if np.issubdtype(mask.dtype, np.int):\n"
     ]
    },
    {
     "name": "stdout",
     "output_type": "stream",
     "text": [
      "Thresh=3.880804233402519e-05, n=69, R2 Score: -0.04500193796171459\n"
     ]
    },
    {
     "name": "stderr",
     "output_type": "stream",
     "text": [
      "C:\\ProgramData\\Anaconda3\\lib\\site-packages\\sklearn\\utils\\__init__.py:54: FutureWarning: Conversion of the second argument of issubdtype from `int` to `np.signedinteger` is deprecated. In future, it will be treated as `np.int32 == np.dtype(int).type`.\n",
      "  if np.issubdtype(mask.dtype, np.int):\n"
     ]
    },
    {
     "name": "stdout",
     "output_type": "stream",
     "text": [
      "Thresh=3.9095270435173046e-05, n=68, R2 Score: -0.06129969100231114\n"
     ]
    },
    {
     "name": "stderr",
     "output_type": "stream",
     "text": [
      "C:\\ProgramData\\Anaconda3\\lib\\site-packages\\sklearn\\utils\\__init__.py:54: FutureWarning: Conversion of the second argument of issubdtype from `int` to `np.signedinteger` is deprecated. In future, it will be treated as `np.int32 == np.dtype(int).type`.\n",
      "  if np.issubdtype(mask.dtype, np.int):\n"
     ]
    },
    {
     "name": "stdout",
     "output_type": "stream",
     "text": [
      "Thresh=4.686699259305959e-05, n=67, R2 Score: -0.06780846083785841\n"
     ]
    },
    {
     "name": "stderr",
     "output_type": "stream",
     "text": [
      "C:\\ProgramData\\Anaconda3\\lib\\site-packages\\sklearn\\utils\\__init__.py:54: FutureWarning: Conversion of the second argument of issubdtype from `int` to `np.signedinteger` is deprecated. In future, it will be treated as `np.int32 == np.dtype(int).type`.\n",
      "  if np.issubdtype(mask.dtype, np.int):\n"
     ]
    },
    {
     "name": "stdout",
     "output_type": "stream",
     "text": [
      "Thresh=4.9932669758093104e-05, n=66, R2 Score: -0.07262977182715269\n"
     ]
    },
    {
     "name": "stderr",
     "output_type": "stream",
     "text": [
      "C:\\ProgramData\\Anaconda3\\lib\\site-packages\\sklearn\\utils\\__init__.py:54: FutureWarning: Conversion of the second argument of issubdtype from `int` to `np.signedinteger` is deprecated. In future, it will be treated as `np.int32 == np.dtype(int).type`.\n",
      "  if np.issubdtype(mask.dtype, np.int):\n"
     ]
    },
    {
     "name": "stdout",
     "output_type": "stream",
     "text": [
      "Thresh=5.8683363608748004e-05, n=65, R2 Score: -0.06388253617514739\n"
     ]
    },
    {
     "name": "stderr",
     "output_type": "stream",
     "text": [
      "C:\\ProgramData\\Anaconda3\\lib\\site-packages\\sklearn\\utils\\__init__.py:54: FutureWarning: Conversion of the second argument of issubdtype from `int` to `np.signedinteger` is deprecated. In future, it will be treated as `np.int32 == np.dtype(int).type`.\n",
      "  if np.issubdtype(mask.dtype, np.int):\n"
     ]
    },
    {
     "name": "stdout",
     "output_type": "stream",
     "text": [
      "Thresh=6.859475564727202e-05, n=64, R2 Score: -0.09045140351972258\n"
     ]
    },
    {
     "name": "stderr",
     "output_type": "stream",
     "text": [
      "C:\\ProgramData\\Anaconda3\\lib\\site-packages\\sklearn\\utils\\__init__.py:54: FutureWarning: Conversion of the second argument of issubdtype from `int` to `np.signedinteger` is deprecated. In future, it will be treated as `np.int32 == np.dtype(int).type`.\n",
      "  if np.issubdtype(mask.dtype, np.int):\n"
     ]
    },
    {
     "name": "stdout",
     "output_type": "stream",
     "text": [
      "Thresh=8.921009475081433e-05, n=63, R2 Score: -0.043589982600564126\n"
     ]
    },
    {
     "name": "stderr",
     "output_type": "stream",
     "text": [
      "C:\\ProgramData\\Anaconda3\\lib\\site-packages\\sklearn\\utils\\__init__.py:54: FutureWarning: Conversion of the second argument of issubdtype from `int` to `np.signedinteger` is deprecated. In future, it will be treated as `np.int32 == np.dtype(int).type`.\n",
      "  if np.issubdtype(mask.dtype, np.int):\n"
     ]
    },
    {
     "name": "stdout",
     "output_type": "stream",
     "text": [
      "Thresh=0.0001535290022500799, n=62, R2 Score: -0.0821346420631901\n",
      "\n",
      "\n",
      "------------------------------------------\n",
      "\n",
      "\n",
      "Table [REP_HIST_SYSSTAT] RFR R2 Score: 0.9976158465415117\n"
     ]
    },
    {
     "name": "stderr",
     "output_type": "stream",
     "text": [
      "C:\\ProgramData\\Anaconda3\\lib\\site-packages\\sklearn\\utils\\__init__.py:54: FutureWarning: Conversion of the second argument of issubdtype from `int` to `np.signedinteger` is deprecated. In future, it will be treated as `np.int32 == np.dtype(int).type`.\n",
      "  if np.issubdtype(mask.dtype, np.int):\n",
      "C:\\ProgramData\\Anaconda3\\lib\\site-packages\\sklearn\\utils\\__init__.py:54: FutureWarning: Conversion of the second argument of issubdtype from `int` to `np.signedinteger` is deprecated. In future, it will be treated as `np.int32 == np.dtype(int).type`.\n",
      "  if np.issubdtype(mask.dtype, np.int):\n"
     ]
    },
    {
     "name": "stdout",
     "output_type": "stream",
     "text": [
      "Thresh=0.0, n=1178, R2 Score: 0.9977133398056134\n"
     ]
    },
    {
     "name": "stderr",
     "output_type": "stream",
     "text": [
      "C:\\ProgramData\\Anaconda3\\lib\\site-packages\\sklearn\\utils\\__init__.py:54: FutureWarning: Conversion of the second argument of issubdtype from `int` to `np.signedinteger` is deprecated. In future, it will be treated as `np.int32 == np.dtype(int).type`.\n",
      "  if np.issubdtype(mask.dtype, np.int):\n"
     ]
    },
    {
     "name": "stdout",
     "output_type": "stream",
     "text": [
      "Thresh=0.0, n=1178, R2 Score: 0.9968890785727531\n"
     ]
    },
    {
     "name": "stderr",
     "output_type": "stream",
     "text": [
      "C:\\ProgramData\\Anaconda3\\lib\\site-packages\\sklearn\\utils\\__init__.py:54: FutureWarning: Conversion of the second argument of issubdtype from `int` to `np.signedinteger` is deprecated. In future, it will be treated as `np.int32 == np.dtype(int).type`.\n",
      "  if np.issubdtype(mask.dtype, np.int):\n"
     ]
    },
    {
     "name": "stdout",
     "output_type": "stream",
     "text": [
      "Thresh=0.0, n=1178, R2 Score: 0.9971283802210029\n"
     ]
    },
    {
     "name": "stderr",
     "output_type": "stream",
     "text": [
      "C:\\ProgramData\\Anaconda3\\lib\\site-packages\\sklearn\\utils\\__init__.py:54: FutureWarning: Conversion of the second argument of issubdtype from `int` to `np.signedinteger` is deprecated. In future, it will be treated as `np.int32 == np.dtype(int).type`.\n",
      "  if np.issubdtype(mask.dtype, np.int):\n"
     ]
    },
    {
     "name": "stdout",
     "output_type": "stream",
     "text": [
      "Thresh=0.0, n=1178, R2 Score: 0.9965522836604016\n"
     ]
    },
    {
     "name": "stderr",
     "output_type": "stream",
     "text": [
      "C:\\ProgramData\\Anaconda3\\lib\\site-packages\\sklearn\\utils\\__init__.py:54: FutureWarning: Conversion of the second argument of issubdtype from `int` to `np.signedinteger` is deprecated. In future, it will be treated as `np.int32 == np.dtype(int).type`.\n",
      "  if np.issubdtype(mask.dtype, np.int):\n"
     ]
    },
    {
     "name": "stdout",
     "output_type": "stream",
     "text": [
      "Thresh=0.0, n=1178, R2 Score: 0.9963750231802166\n"
     ]
    },
    {
     "name": "stderr",
     "output_type": "stream",
     "text": [
      "C:\\ProgramData\\Anaconda3\\lib\\site-packages\\sklearn\\utils\\__init__.py:54: FutureWarning: Conversion of the second argument of issubdtype from `int` to `np.signedinteger` is deprecated. In future, it will be treated as `np.int32 == np.dtype(int).type`.\n",
      "  if np.issubdtype(mask.dtype, np.int):\n"
     ]
    },
    {
     "name": "stdout",
     "output_type": "stream",
     "text": [
      "Thresh=0.0, n=1178, R2 Score: 0.9970042978848734\n"
     ]
    },
    {
     "name": "stderr",
     "output_type": "stream",
     "text": [
      "C:\\ProgramData\\Anaconda3\\lib\\site-packages\\sklearn\\utils\\__init__.py:54: FutureWarning: Conversion of the second argument of issubdtype from `int` to `np.signedinteger` is deprecated. In future, it will be treated as `np.int32 == np.dtype(int).type`.\n",
      "  if np.issubdtype(mask.dtype, np.int):\n"
     ]
    },
    {
     "name": "stdout",
     "output_type": "stream",
     "text": [
      "Thresh=0.0, n=1178, R2 Score: 0.997695613757595\n"
     ]
    },
    {
     "name": "stderr",
     "output_type": "stream",
     "text": [
      "C:\\ProgramData\\Anaconda3\\lib\\site-packages\\sklearn\\utils\\__init__.py:54: FutureWarning: Conversion of the second argument of issubdtype from `int` to `np.signedinteger` is deprecated. In future, it will be treated as `np.int32 == np.dtype(int).type`.\n",
      "  if np.issubdtype(mask.dtype, np.int):\n"
     ]
    },
    {
     "name": "stdout",
     "output_type": "stream",
     "text": [
      "Thresh=0.0, n=1178, R2 Score: 0.9972701886051509\n"
     ]
    },
    {
     "name": "stderr",
     "output_type": "stream",
     "text": [
      "C:\\ProgramData\\Anaconda3\\lib\\site-packages\\sklearn\\utils\\__init__.py:54: FutureWarning: Conversion of the second argument of issubdtype from `int` to `np.signedinteger` is deprecated. In future, it will be treated as `np.int32 == np.dtype(int).type`.\n",
      "  if np.issubdtype(mask.dtype, np.int):\n"
     ]
    },
    {
     "name": "stdout",
     "output_type": "stream",
     "text": [
      "Thresh=0.0, n=1178, R2 Score: 0.9969688457888364\n"
     ]
    },
    {
     "name": "stderr",
     "output_type": "stream",
     "text": [
      "C:\\ProgramData\\Anaconda3\\lib\\site-packages\\sklearn\\utils\\__init__.py:54: FutureWarning: Conversion of the second argument of issubdtype from `int` to `np.signedinteger` is deprecated. In future, it will be treated as `np.int32 == np.dtype(int).type`.\n",
      "  if np.issubdtype(mask.dtype, np.int):\n"
     ]
    },
    {
     "name": "stdout",
     "output_type": "stream",
     "text": [
      "Thresh=0.0, n=1178, R2 Score: 0.9974119969892989\n"
     ]
    },
    {
     "name": "stderr",
     "output_type": "stream",
     "text": [
      "C:\\ProgramData\\Anaconda3\\lib\\site-packages\\sklearn\\utils\\__init__.py:54: FutureWarning: Conversion of the second argument of issubdtype from `int` to `np.signedinteger` is deprecated. In future, it will be treated as `np.int32 == np.dtype(int).type`.\n",
      "  if np.issubdtype(mask.dtype, np.int):\n"
     ]
    },
    {
     "name": "stdout",
     "output_type": "stream",
     "text": [
      "Thresh=0.0, n=1178, R2 Score: 0.997482901181373\n"
     ]
    },
    {
     "name": "stderr",
     "output_type": "stream",
     "text": [
      "C:\\ProgramData\\Anaconda3\\lib\\site-packages\\sklearn\\utils\\__init__.py:54: FutureWarning: Conversion of the second argument of issubdtype from `int` to `np.signedinteger` is deprecated. In future, it will be treated as `np.int32 == np.dtype(int).type`.\n",
      "  if np.issubdtype(mask.dtype, np.int):\n"
     ]
    },
    {
     "name": "stdout",
     "output_type": "stream",
     "text": [
      "Thresh=0.0, n=1178, R2 Score: 0.9973322297732157\n"
     ]
    },
    {
     "name": "stderr",
     "output_type": "stream",
     "text": [
      "C:\\ProgramData\\Anaconda3\\lib\\site-packages\\sklearn\\utils\\__init__.py:54: FutureWarning: Conversion of the second argument of issubdtype from `int` to `np.signedinteger` is deprecated. In future, it will be treated as `np.int32 == np.dtype(int).type`.\n",
      "  if np.issubdtype(mask.dtype, np.int):\n"
     ]
    },
    {
     "name": "stdout",
     "output_type": "stream",
     "text": [
      "Thresh=0.0, n=1178, R2 Score: 0.9972170104610955\n"
     ]
    },
    {
     "name": "stderr",
     "output_type": "stream",
     "text": [
      "C:\\ProgramData\\Anaconda3\\lib\\site-packages\\sklearn\\utils\\__init__.py:54: FutureWarning: Conversion of the second argument of issubdtype from `int` to `np.signedinteger` is deprecated. In future, it will be treated as `np.int32 == np.dtype(int).type`.\n",
      "  if np.issubdtype(mask.dtype, np.int):\n"
     ]
    },
    {
     "name": "stdout",
     "output_type": "stream",
     "text": [
      "Thresh=0.0, n=1178, R2 Score: 0.9976690246855672\n"
     ]
    },
    {
     "name": "stderr",
     "output_type": "stream",
     "text": [
      "C:\\ProgramData\\Anaconda3\\lib\\site-packages\\sklearn\\utils\\__init__.py:54: FutureWarning: Conversion of the second argument of issubdtype from `int` to `np.signedinteger` is deprecated. In future, it will be treated as `np.int32 == np.dtype(int).type`.\n",
      "  if np.issubdtype(mask.dtype, np.int):\n"
     ]
    },
    {
     "name": "stdout",
     "output_type": "stream",
     "text": [
      "Thresh=0.0, n=1178, R2 Score: 0.9973233667492064\n"
     ]
    },
    {
     "name": "stderr",
     "output_type": "stream",
     "text": [
      "C:\\ProgramData\\Anaconda3\\lib\\site-packages\\sklearn\\utils\\__init__.py:54: FutureWarning: Conversion of the second argument of issubdtype from `int` to `np.signedinteger` is deprecated. In future, it will be treated as `np.int32 == np.dtype(int).type`.\n",
      "  if np.issubdtype(mask.dtype, np.int):\n"
     ]
    },
    {
     "name": "stdout",
     "output_type": "stream",
     "text": [
      "Thresh=0.0, n=1178, R2 Score: 0.9969599827648271\n"
     ]
    },
    {
     "name": "stderr",
     "output_type": "stream",
     "text": [
      "C:\\ProgramData\\Anaconda3\\lib\\site-packages\\sklearn\\utils\\__init__.py:54: FutureWarning: Conversion of the second argument of issubdtype from `int` to `np.signedinteger` is deprecated. In future, it will be treated as `np.int32 == np.dtype(int).type`.\n",
      "  if np.issubdtype(mask.dtype, np.int):\n"
     ]
    },
    {
     "name": "stdout",
     "output_type": "stream",
     "text": [
      "Thresh=0.0, n=1178, R2 Score: 0.9968447634527069\n"
     ]
    },
    {
     "name": "stderr",
     "output_type": "stream",
     "text": [
      "C:\\ProgramData\\Anaconda3\\lib\\site-packages\\sklearn\\utils\\__init__.py:54: FutureWarning: Conversion of the second argument of issubdtype from `int` to `np.signedinteger` is deprecated. In future, it will be treated as `np.int32 == np.dtype(int).type`.\n",
      "  if np.issubdtype(mask.dtype, np.int):\n"
     ]
    },
    {
     "name": "stdout",
     "output_type": "stream",
     "text": [
      "Thresh=0.0, n=1178, R2 Score: 0.9969333936927994\n"
     ]
    },
    {
     "name": "stderr",
     "output_type": "stream",
     "text": [
      "C:\\ProgramData\\Anaconda3\\lib\\site-packages\\sklearn\\utils\\__init__.py:54: FutureWarning: Conversion of the second argument of issubdtype from `int` to `np.signedinteger` is deprecated. In future, it will be treated as `np.int32 == np.dtype(int).type`.\n",
      "  if np.issubdtype(mask.dtype, np.int):\n"
     ]
    },
    {
     "name": "stdout",
     "output_type": "stream",
     "text": [
      "Thresh=0.0, n=1178, R2 Score: 0.9973322297732157\n"
     ]
    },
    {
     "name": "stderr",
     "output_type": "stream",
     "text": [
      "C:\\ProgramData\\Anaconda3\\lib\\site-packages\\sklearn\\utils\\__init__.py:54: FutureWarning: Conversion of the second argument of issubdtype from `int` to `np.signedinteger` is deprecated. In future, it will be treated as `np.int32 == np.dtype(int).type`.\n",
      "  if np.issubdtype(mask.dtype, np.int):\n"
     ]
    },
    {
     "name": "stdout",
     "output_type": "stream",
     "text": [
      "Thresh=0.0, n=1178, R2 Score: 0.9973499558212342\n"
     ]
    },
    {
     "name": "stderr",
     "output_type": "stream",
     "text": [
      "C:\\ProgramData\\Anaconda3\\lib\\site-packages\\sklearn\\utils\\__init__.py:54: FutureWarning: Conversion of the second argument of issubdtype from `int` to `np.signedinteger` is deprecated. In future, it will be treated as `np.int32 == np.dtype(int).type`.\n",
      "  if np.issubdtype(mask.dtype, np.int):\n"
     ]
    },
    {
     "name": "stdout",
     "output_type": "stream",
     "text": [
      "Thresh=0.0, n=1178, R2 Score: 0.9969688457888364\n"
     ]
    },
    {
     "name": "stderr",
     "output_type": "stream",
     "text": [
      "C:\\ProgramData\\Anaconda3\\lib\\site-packages\\sklearn\\utils\\__init__.py:54: FutureWarning: Conversion of the second argument of issubdtype from `int` to `np.signedinteger` is deprecated. In future, it will be treated as `np.int32 == np.dtype(int).type`.\n",
      "  if np.issubdtype(mask.dtype, np.int):\n"
     ]
    },
    {
     "name": "stdout",
     "output_type": "stream",
     "text": [
      "Thresh=0.0, n=1178, R2 Score: 0.9965522836604016\n"
     ]
    },
    {
     "name": "stderr",
     "output_type": "stream",
     "text": [
      "C:\\ProgramData\\Anaconda3\\lib\\site-packages\\sklearn\\utils\\__init__.py:54: FutureWarning: Conversion of the second argument of issubdtype from `int` to `np.signedinteger` is deprecated. In future, it will be treated as `np.int32 == np.dtype(int).type`.\n",
      "  if np.issubdtype(mask.dtype, np.int):\n"
     ]
    },
    {
     "name": "stdout",
     "output_type": "stream",
     "text": [
      "Thresh=0.0, n=1178, R2 Score: 0.9966231878524756\n"
     ]
    },
    {
     "name": "stderr",
     "output_type": "stream",
     "text": [
      "C:\\ProgramData\\Anaconda3\\lib\\site-packages\\sklearn\\utils\\__init__.py:54: FutureWarning: Conversion of the second argument of issubdtype from `int` to `np.signedinteger` is deprecated. In future, it will be treated as `np.int32 == np.dtype(int).type`.\n",
      "  if np.issubdtype(mask.dtype, np.int):\n"
     ]
    },
    {
     "name": "stdout",
     "output_type": "stream",
     "text": [
      "Thresh=0.0, n=1178, R2 Score: 0.9971461062690214\n"
     ]
    },
    {
     "name": "stderr",
     "output_type": "stream",
     "text": [
      "C:\\ProgramData\\Anaconda3\\lib\\site-packages\\sklearn\\utils\\__init__.py:54: FutureWarning: Conversion of the second argument of issubdtype from `int` to `np.signedinteger` is deprecated. In future, it will be treated as `np.int32 == np.dtype(int).type`.\n",
      "  if np.issubdtype(mask.dtype, np.int):\n"
     ]
    },
    {
     "name": "stdout",
     "output_type": "stream",
     "text": [
      "Thresh=0.0, n=1178, R2 Score: 0.9973499558212342\n"
     ]
    },
    {
     "name": "stderr",
     "output_type": "stream",
     "text": [
      "C:\\ProgramData\\Anaconda3\\lib\\site-packages\\sklearn\\utils\\__init__.py:54: FutureWarning: Conversion of the second argument of issubdtype from `int` to `np.signedinteger` is deprecated. In future, it will be treated as `np.int32 == np.dtype(int).type`.\n",
      "  if np.issubdtype(mask.dtype, np.int):\n"
     ]
    },
    {
     "name": "stdout",
     "output_type": "stream",
     "text": [
      "Thresh=0.0, n=1178, R2 Score: 0.996880215548744\n"
     ]
    },
    {
     "name": "stderr",
     "output_type": "stream",
     "text": [
      "C:\\ProgramData\\Anaconda3\\lib\\site-packages\\sklearn\\utils\\__init__.py:54: FutureWarning: Conversion of the second argument of issubdtype from `int` to `np.signedinteger` is deprecated. In future, it will be treated as `np.int32 == np.dtype(int).type`.\n",
      "  if np.issubdtype(mask.dtype, np.int):\n"
     ]
    },
    {
     "name": "stdout",
     "output_type": "stream",
     "text": [
      "Thresh=0.0, n=1178, R2 Score: 0.9974917642053822\n"
     ]
    },
    {
     "name": "stderr",
     "output_type": "stream",
     "text": [
      "C:\\ProgramData\\Anaconda3\\lib\\site-packages\\sklearn\\utils\\__init__.py:54: FutureWarning: Conversion of the second argument of issubdtype from `int` to `np.signedinteger` is deprecated. In future, it will be treated as `np.int32 == np.dtype(int).type`.\n",
      "  if np.issubdtype(mask.dtype, np.int):\n"
     ]
    },
    {
     "name": "stdout",
     "output_type": "stream",
     "text": [
      "Thresh=0.0, n=1178, R2 Score: 0.9969954348608642\n"
     ]
    },
    {
     "name": "stderr",
     "output_type": "stream",
     "text": [
      "C:\\ProgramData\\Anaconda3\\lib\\site-packages\\sklearn\\utils\\__init__.py:54: FutureWarning: Conversion of the second argument of issubdtype from `int` to `np.signedinteger` is deprecated. In future, it will be treated as `np.int32 == np.dtype(int).type`.\n",
      "  if np.issubdtype(mask.dtype, np.int):\n"
     ]
    },
    {
     "name": "stdout",
     "output_type": "stream",
     "text": [
      "Thresh=0.0, n=1178, R2 Score: 0.99680931135667\n"
     ]
    },
    {
     "name": "stderr",
     "output_type": "stream",
     "text": [
      "C:\\ProgramData\\Anaconda3\\lib\\site-packages\\sklearn\\utils\\__init__.py:54: FutureWarning: Conversion of the second argument of issubdtype from `int` to `np.signedinteger` is deprecated. In future, it will be treated as `np.int32 == np.dtype(int).type`.\n",
      "  if np.issubdtype(mask.dtype, np.int):\n"
     ]
    },
    {
     "name": "stdout",
     "output_type": "stream",
     "text": [
      "Thresh=0.0, n=1178, R2 Score: 0.9970220239328919\n"
     ]
    },
    {
     "name": "stderr",
     "output_type": "stream",
     "text": [
      "C:\\ProgramData\\Anaconda3\\lib\\site-packages\\sklearn\\utils\\__init__.py:54: FutureWarning: Conversion of the second argument of issubdtype from `int` to `np.signedinteger` is deprecated. In future, it will be treated as `np.int32 == np.dtype(int).type`.\n",
      "  if np.issubdtype(mask.dtype, np.int):\n"
     ]
    },
    {
     "name": "stdout",
     "output_type": "stream",
     "text": [
      "Thresh=0.0, n=1178, R2 Score: 0.9974208600133082\n"
     ]
    },
    {
     "name": "stderr",
     "output_type": "stream",
     "text": [
      "C:\\ProgramData\\Anaconda3\\lib\\site-packages\\sklearn\\utils\\__init__.py:54: FutureWarning: Conversion of the second argument of issubdtype from `int` to `np.signedinteger` is deprecated. In future, it will be treated as `np.int32 == np.dtype(int).type`.\n",
      "  if np.issubdtype(mask.dtype, np.int):\n"
     ]
    },
    {
     "name": "stdout",
     "output_type": "stream",
     "text": [
      "Thresh=0.0, n=1178, R2 Score: 0.9966763659965312\n"
     ]
    },
    {
     "name": "stderr",
     "output_type": "stream",
     "text": [
      "C:\\ProgramData\\Anaconda3\\lib\\site-packages\\sklearn\\utils\\__init__.py:54: FutureWarning: Conversion of the second argument of issubdtype from `int` to `np.signedinteger` is deprecated. In future, it will be treated as `np.int32 == np.dtype(int).type`.\n",
      "  if np.issubdtype(mask.dtype, np.int):\n"
     ]
    },
    {
     "name": "stdout",
     "output_type": "stream",
     "text": [
      "Thresh=0.0, n=1178, R2 Score: 0.996951119740818\n"
     ]
    },
    {
     "name": "stderr",
     "output_type": "stream",
     "text": [
      "C:\\ProgramData\\Anaconda3\\lib\\site-packages\\sklearn\\utils\\__init__.py:54: FutureWarning: Conversion of the second argument of issubdtype from `int` to `np.signedinteger` is deprecated. In future, it will be treated as `np.int32 == np.dtype(int).type`.\n",
      "  if np.issubdtype(mask.dtype, np.int):\n"
     ]
    },
    {
     "name": "stdout",
     "output_type": "stream",
     "text": [
      "Thresh=0.0, n=1178, R2 Score: 0.9974119969892989\n"
     ]
    },
    {
     "name": "stderr",
     "output_type": "stream",
     "text": [
      "C:\\ProgramData\\Anaconda3\\lib\\site-packages\\sklearn\\utils\\__init__.py:54: FutureWarning: Conversion of the second argument of issubdtype from `int` to `np.signedinteger` is deprecated. In future, it will be treated as `np.int32 == np.dtype(int).type`.\n",
      "  if np.issubdtype(mask.dtype, np.int):\n"
     ]
    },
    {
     "name": "stdout",
     "output_type": "stream",
     "text": [
      "Thresh=0.0, n=1178, R2 Score: 0.9968979415967624\n"
     ]
    },
    {
     "name": "stderr",
     "output_type": "stream",
     "text": [
      "C:\\ProgramData\\Anaconda3\\lib\\site-packages\\sklearn\\utils\\__init__.py:54: FutureWarning: Conversion of the second argument of issubdtype from `int` to `np.signedinteger` is deprecated. In future, it will be treated as `np.int32 == np.dtype(int).type`.\n",
      "  if np.issubdtype(mask.dtype, np.int):\n"
     ]
    },
    {
     "name": "stdout",
     "output_type": "stream",
     "text": [
      "Thresh=0.0, n=1178, R2 Score: 0.9970840651009567\n"
     ]
    },
    {
     "name": "stderr",
     "output_type": "stream",
     "text": [
      "C:\\ProgramData\\Anaconda3\\lib\\site-packages\\sklearn\\utils\\__init__.py:54: FutureWarning: Conversion of the second argument of issubdtype from `int` to `np.signedinteger` is deprecated. In future, it will be treated as `np.int32 == np.dtype(int).type`.\n",
      "  if np.issubdtype(mask.dtype, np.int):\n"
     ]
    },
    {
     "name": "stdout",
     "output_type": "stream",
     "text": [
      "Thresh=0.0, n=1178, R2 Score: 0.9974208600133082\n"
     ]
    },
    {
     "name": "stderr",
     "output_type": "stream",
     "text": [
      "C:\\ProgramData\\Anaconda3\\lib\\site-packages\\sklearn\\utils\\__init__.py:54: FutureWarning: Conversion of the second argument of issubdtype from `int` to `np.signedinteger` is deprecated. In future, it will be treated as `np.int32 == np.dtype(int).type`.\n",
      "  if np.issubdtype(mask.dtype, np.int):\n"
     ]
    },
    {
     "name": "stdout",
     "output_type": "stream",
     "text": [
      "Thresh=0.0, n=1178, R2 Score: 0.9972790516291602\n"
     ]
    },
    {
     "name": "stderr",
     "output_type": "stream",
     "text": [
      "C:\\ProgramData\\Anaconda3\\lib\\site-packages\\sklearn\\utils\\__init__.py:54: FutureWarning: Conversion of the second argument of issubdtype from `int` to `np.signedinteger` is deprecated. In future, it will be treated as `np.int32 == np.dtype(int).type`.\n",
      "  if np.issubdtype(mask.dtype, np.int):\n"
     ]
    },
    {
     "name": "stdout",
     "output_type": "stream",
     "text": [
      "Thresh=0.0, n=1178, R2 Score: 0.996880215548744\n"
     ]
    },
    {
     "name": "stderr",
     "output_type": "stream",
     "text": [
      "C:\\ProgramData\\Anaconda3\\lib\\site-packages\\sklearn\\utils\\__init__.py:54: FutureWarning: Conversion of the second argument of issubdtype from `int` to `np.signedinteger` is deprecated. In future, it will be treated as `np.int32 == np.dtype(int).type`.\n",
      "  if np.issubdtype(mask.dtype, np.int):\n"
     ]
    },
    {
     "name": "stdout",
     "output_type": "stream",
     "text": [
      "Thresh=0.0, n=1178, R2 Score: 0.9968713525247347\n"
     ]
    },
    {
     "name": "stderr",
     "output_type": "stream",
     "text": [
      "C:\\ProgramData\\Anaconda3\\lib\\site-packages\\sklearn\\utils\\__init__.py:54: FutureWarning: Conversion of the second argument of issubdtype from `int` to `np.signedinteger` is deprecated. In future, it will be treated as `np.int32 == np.dtype(int).type`.\n",
      "  if np.issubdtype(mask.dtype, np.int):\n"
     ]
    },
    {
     "name": "stdout",
     "output_type": "stream",
     "text": [
      "Thresh=0.0, n=1178, R2 Score: 0.9969156676447809\n"
     ]
    },
    {
     "name": "stderr",
     "output_type": "stream",
     "text": [
      "C:\\ProgramData\\Anaconda3\\lib\\site-packages\\sklearn\\utils\\__init__.py:54: FutureWarning: Conversion of the second argument of issubdtype from `int` to `np.signedinteger` is deprecated. In future, it will be treated as `np.int32 == np.dtype(int).type`.\n",
      "  if np.issubdtype(mask.dtype, np.int):\n"
     ]
    },
    {
     "name": "stdout",
     "output_type": "stream",
     "text": [
      "Thresh=0.0, n=1178, R2 Score: 0.9972258734851047\n"
     ]
    },
    {
     "name": "stderr",
     "output_type": "stream",
     "text": [
      "C:\\ProgramData\\Anaconda3\\lib\\site-packages\\sklearn\\utils\\__init__.py:54: FutureWarning: Conversion of the second argument of issubdtype from `int` to `np.signedinteger` is deprecated. In future, it will be treated as `np.int32 == np.dtype(int).type`.\n",
      "  if np.issubdtype(mask.dtype, np.int):\n"
     ]
    },
    {
     "name": "stdout",
     "output_type": "stream",
     "text": [
      "Thresh=0.0, n=1178, R2 Score: 0.9968890785727531\n"
     ]
    },
    {
     "name": "stderr",
     "output_type": "stream",
     "text": [
      "C:\\ProgramData\\Anaconda3\\lib\\site-packages\\sklearn\\utils\\__init__.py:54: FutureWarning: Conversion of the second argument of issubdtype from `int` to `np.signedinteger` is deprecated. In future, it will be treated as `np.int32 == np.dtype(int).type`.\n",
      "  if np.issubdtype(mask.dtype, np.int):\n"
     ]
    },
    {
     "name": "stdout",
     "output_type": "stream",
     "text": [
      "Thresh=0.0, n=1178, R2 Score: 0.9971017911489751\n"
     ]
    },
    {
     "name": "stderr",
     "output_type": "stream",
     "text": [
      "C:\\ProgramData\\Anaconda3\\lib\\site-packages\\sklearn\\utils\\__init__.py:54: FutureWarning: Conversion of the second argument of issubdtype from `int` to `np.signedinteger` is deprecated. In future, it will be treated as `np.int32 == np.dtype(int).type`.\n",
      "  if np.issubdtype(mask.dtype, np.int):\n"
     ]
    },
    {
     "name": "stdout",
     "output_type": "stream",
     "text": [
      "Thresh=0.0, n=1178, R2 Score: 0.9971283802210029\n"
     ]
    },
    {
     "name": "stderr",
     "output_type": "stream",
     "text": [
      "C:\\ProgramData\\Anaconda3\\lib\\site-packages\\sklearn\\utils\\__init__.py:54: FutureWarning: Conversion of the second argument of issubdtype from `int` to `np.signedinteger` is deprecated. In future, it will be treated as `np.int32 == np.dtype(int).type`.\n",
      "  if np.issubdtype(mask.dtype, np.int):\n"
     ]
    },
    {
     "name": "stdout",
     "output_type": "stream",
     "text": [
      "Thresh=0.0, n=1178, R2 Score: 0.9973056407011879\n"
     ]
    },
    {
     "name": "stderr",
     "output_type": "stream",
     "text": [
      "C:\\ProgramData\\Anaconda3\\lib\\site-packages\\sklearn\\utils\\__init__.py:54: FutureWarning: Conversion of the second argument of issubdtype from `int` to `np.signedinteger` is deprecated. In future, it will be treated as `np.int32 == np.dtype(int).type`.\n",
      "  if np.issubdtype(mask.dtype, np.int):\n"
     ]
    },
    {
     "name": "stdout",
     "output_type": "stream",
     "text": [
      "Thresh=0.0, n=1178, R2 Score: 0.997553805373447\n"
     ]
    },
    {
     "name": "stderr",
     "output_type": "stream",
     "text": [
      "C:\\ProgramData\\Anaconda3\\lib\\site-packages\\sklearn\\utils\\__init__.py:54: FutureWarning: Conversion of the second argument of issubdtype from `int` to `np.signedinteger` is deprecated. In future, it will be treated as `np.int32 == np.dtype(int).type`.\n",
      "  if np.issubdtype(mask.dtype, np.int):\n"
     ]
    },
    {
     "name": "stdout",
     "output_type": "stream",
     "text": [
      "Thresh=0.0, n=1178, R2 Score: 0.9973410927972249\n"
     ]
    },
    {
     "name": "stderr",
     "output_type": "stream",
     "text": [
      "C:\\ProgramData\\Anaconda3\\lib\\site-packages\\sklearn\\utils\\__init__.py:54: FutureWarning: Conversion of the second argument of issubdtype from `int` to `np.signedinteger` is deprecated. In future, it will be treated as `np.int32 == np.dtype(int).type`.\n",
      "  if np.issubdtype(mask.dtype, np.int):\n"
     ]
    },
    {
     "name": "stdout",
     "output_type": "stream",
     "text": [
      "Thresh=0.0, n=1178, R2 Score: 0.9967029550685589\n"
     ]
    },
    {
     "name": "stderr",
     "output_type": "stream",
     "text": [
      "C:\\ProgramData\\Anaconda3\\lib\\site-packages\\sklearn\\utils\\__init__.py:54: FutureWarning: Conversion of the second argument of issubdtype from `int` to `np.signedinteger` is deprecated. In future, it will be treated as `np.int32 == np.dtype(int).type`.\n",
      "  if np.issubdtype(mask.dtype, np.int):\n"
     ]
    },
    {
     "name": "stdout",
     "output_type": "stream",
     "text": [
      "Thresh=0.0, n=1178, R2 Score: 0.9968270374046884\n"
     ]
    },
    {
     "name": "stderr",
     "output_type": "stream",
     "text": [
      "C:\\ProgramData\\Anaconda3\\lib\\site-packages\\sklearn\\utils\\__init__.py:54: FutureWarning: Conversion of the second argument of issubdtype from `int` to `np.signedinteger` is deprecated. In future, it will be treated as `np.int32 == np.dtype(int).type`.\n",
      "  if np.issubdtype(mask.dtype, np.int):\n"
     ]
    },
    {
     "name": "stdout",
     "output_type": "stream",
     "text": [
      "Thresh=0.0, n=1178, R2 Score: 0.9971017911489751\n"
     ]
    },
    {
     "name": "stderr",
     "output_type": "stream",
     "text": [
      "C:\\ProgramData\\Anaconda3\\lib\\site-packages\\sklearn\\utils\\__init__.py:54: FutureWarning: Conversion of the second argument of issubdtype from `int` to `np.signedinteger` is deprecated. In future, it will be treated as `np.int32 == np.dtype(int).type`.\n",
      "  if np.issubdtype(mask.dtype, np.int):\n"
     ]
    },
    {
     "name": "stdout",
     "output_type": "stream",
     "text": [
      "Thresh=0.0, n=1178, R2 Score: 0.9972435995331231\n"
     ]
    },
    {
     "name": "stderr",
     "output_type": "stream",
     "text": [
      "C:\\ProgramData\\Anaconda3\\lib\\site-packages\\sklearn\\utils\\__init__.py:54: FutureWarning: Conversion of the second argument of issubdtype from `int` to `np.signedinteger` is deprecated. In future, it will be treated as `np.int32 == np.dtype(int).type`.\n",
      "  if np.issubdtype(mask.dtype, np.int):\n"
     ]
    },
    {
     "name": "stdout",
     "output_type": "stream",
     "text": [
      "Thresh=0.0, n=1178, R2 Score: 0.9975715314214654\n"
     ]
    },
    {
     "name": "stderr",
     "output_type": "stream",
     "text": [
      "C:\\ProgramData\\Anaconda3\\lib\\site-packages\\sklearn\\utils\\__init__.py:54: FutureWarning: Conversion of the second argument of issubdtype from `int` to `np.signedinteger` is deprecated. In future, it will be treated as `np.int32 == np.dtype(int).type`.\n",
      "  if np.issubdtype(mask.dtype, np.int):\n"
     ]
    },
    {
     "name": "stdout",
     "output_type": "stream",
     "text": [
      "Thresh=0.0, n=1178, R2 Score: 0.9971904213890677\n"
     ]
    },
    {
     "name": "stderr",
     "output_type": "stream",
     "text": [
      "C:\\ProgramData\\Anaconda3\\lib\\site-packages\\sklearn\\utils\\__init__.py:54: FutureWarning: Conversion of the second argument of issubdtype from `int` to `np.signedinteger` is deprecated. In future, it will be treated as `np.int32 == np.dtype(int).type`.\n",
      "  if np.issubdtype(mask.dtype, np.int):\n"
     ]
    },
    {
     "name": "stdout",
     "output_type": "stream",
     "text": [
      "Thresh=0.0, n=1178, R2 Score: 0.9967827222846422\n"
     ]
    },
    {
     "name": "stderr",
     "output_type": "stream",
     "text": [
      "C:\\ProgramData\\Anaconda3\\lib\\site-packages\\sklearn\\utils\\__init__.py:54: FutureWarning: Conversion of the second argument of issubdtype from `int` to `np.signedinteger` is deprecated. In future, it will be treated as `np.int32 == np.dtype(int).type`.\n",
      "  if np.issubdtype(mask.dtype, np.int):\n"
     ]
    },
    {
     "name": "stdout",
     "output_type": "stream",
     "text": [
      "Thresh=0.0, n=1178, R2 Score: 0.9975272163014192\n"
     ]
    },
    {
     "name": "stderr",
     "output_type": "stream",
     "text": [
      "C:\\ProgramData\\Anaconda3\\lib\\site-packages\\sklearn\\utils\\__init__.py:54: FutureWarning: Conversion of the second argument of issubdtype from `int` to `np.signedinteger` is deprecated. In future, it will be treated as `np.int32 == np.dtype(int).type`.\n",
      "  if np.issubdtype(mask.dtype, np.int):\n"
     ]
    },
    {
     "name": "stdout",
     "output_type": "stream",
     "text": [
      "Thresh=0.0, n=1178, R2 Score: 0.9967384071645959\n"
     ]
    },
    {
     "name": "stderr",
     "output_type": "stream",
     "text": [
      "C:\\ProgramData\\Anaconda3\\lib\\site-packages\\sklearn\\utils\\__init__.py:54: FutureWarning: Conversion of the second argument of issubdtype from `int` to `np.signedinteger` is deprecated. In future, it will be treated as `np.int32 == np.dtype(int).type`.\n",
      "  if np.issubdtype(mask.dtype, np.int):\n"
     ]
    },
    {
     "name": "stdout",
     "output_type": "stream",
     "text": [
      "Thresh=0.0, n=1178, R2 Score: 0.9973676818692526\n"
     ]
    },
    {
     "name": "stderr",
     "output_type": "stream",
     "text": [
      "C:\\ProgramData\\Anaconda3\\lib\\site-packages\\sklearn\\utils\\__init__.py:54: FutureWarning: Conversion of the second argument of issubdtype from `int` to `np.signedinteger` is deprecated. In future, it will be treated as `np.int32 == np.dtype(int).type`.\n",
      "  if np.issubdtype(mask.dtype, np.int):\n"
     ]
    },
    {
     "name": "stdout",
     "output_type": "stream",
     "text": [
      "Thresh=0.0, n=1178, R2 Score: 0.9971372432450122\n"
     ]
    },
    {
     "name": "stderr",
     "output_type": "stream",
     "text": [
      "C:\\ProgramData\\Anaconda3\\lib\\site-packages\\sklearn\\utils\\__init__.py:54: FutureWarning: Conversion of the second argument of issubdtype from `int` to `np.signedinteger` is deprecated. In future, it will be treated as `np.int32 == np.dtype(int).type`.\n",
      "  if np.issubdtype(mask.dtype, np.int):\n"
     ]
    },
    {
     "name": "stdout",
     "output_type": "stream",
     "text": [
      "Thresh=0.0, n=1178, R2 Score: 0.9971372432450122\n"
     ]
    },
    {
     "name": "stderr",
     "output_type": "stream",
     "text": [
      "C:\\ProgramData\\Anaconda3\\lib\\site-packages\\sklearn\\utils\\__init__.py:54: FutureWarning: Conversion of the second argument of issubdtype from `int` to `np.signedinteger` is deprecated. In future, it will be treated as `np.int32 == np.dtype(int).type`.\n",
      "  if np.issubdtype(mask.dtype, np.int):\n"
     ]
    },
    {
     "name": "stdout",
     "output_type": "stream",
     "text": [
      "Thresh=0.0, n=1178, R2 Score: 0.9970308869569011\n"
     ]
    },
    {
     "name": "stderr",
     "output_type": "stream",
     "text": [
      "C:\\ProgramData\\Anaconda3\\lib\\site-packages\\sklearn\\utils\\__init__.py:54: FutureWarning: Conversion of the second argument of issubdtype from `int` to `np.signedinteger` is deprecated. In future, it will be treated as `np.int32 == np.dtype(int).type`.\n",
      "  if np.issubdtype(mask.dtype, np.int):\n"
     ]
    },
    {
     "name": "stdout",
     "output_type": "stream",
     "text": [
      "Thresh=0.0, n=1178, R2 Score: 0.9969954348608642\n"
     ]
    },
    {
     "name": "stderr",
     "output_type": "stream",
     "text": [
      "C:\\ProgramData\\Anaconda3\\lib\\site-packages\\sklearn\\utils\\__init__.py:54: FutureWarning: Conversion of the second argument of issubdtype from `int` to `np.signedinteger` is deprecated. In future, it will be treated as `np.int32 == np.dtype(int).type`.\n",
      "  if np.issubdtype(mask.dtype, np.int):\n"
     ]
    },
    {
     "name": "stdout",
     "output_type": "stream",
     "text": [
      "Thresh=0.0, n=1178, R2 Score: 0.9965345576123832\n"
     ]
    },
    {
     "name": "stderr",
     "output_type": "stream",
     "text": [
      "C:\\ProgramData\\Anaconda3\\lib\\site-packages\\sklearn\\utils\\__init__.py:54: FutureWarning: Conversion of the second argument of issubdtype from `int` to `np.signedinteger` is deprecated. In future, it will be treated as `np.int32 == np.dtype(int).type`.\n",
      "  if np.issubdtype(mask.dtype, np.int):\n"
     ]
    },
    {
     "name": "stdout",
     "output_type": "stream",
     "text": [
      "Thresh=0.0, n=1178, R2 Score: 0.9965877357564387\n"
     ]
    },
    {
     "name": "stderr",
     "output_type": "stream",
     "text": [
      "C:\\ProgramData\\Anaconda3\\lib\\site-packages\\sklearn\\utils\\__init__.py:54: FutureWarning: Conversion of the second argument of issubdtype from `int` to `np.signedinteger` is deprecated. In future, it will be treated as `np.int32 == np.dtype(int).type`.\n",
      "  if np.issubdtype(mask.dtype, np.int):\n"
     ]
    },
    {
     "name": "stdout",
     "output_type": "stream",
     "text": [
      "Thresh=0.0, n=1178, R2 Score: 0.9974119969892989\n"
     ]
    },
    {
     "name": "stderr",
     "output_type": "stream",
     "text": [
      "C:\\ProgramData\\Anaconda3\\lib\\site-packages\\sklearn\\utils\\__init__.py:54: FutureWarning: Conversion of the second argument of issubdtype from `int` to `np.signedinteger` is deprecated. In future, it will be treated as `np.int32 == np.dtype(int).type`.\n",
      "  if np.issubdtype(mask.dtype, np.int):\n"
     ]
    },
    {
     "name": "stdout",
     "output_type": "stream",
     "text": [
      "Thresh=0.0, n=1178, R2 Score: 0.996951119740818\n"
     ]
    },
    {
     "name": "stderr",
     "output_type": "stream",
     "text": [
      "C:\\ProgramData\\Anaconda3\\lib\\site-packages\\sklearn\\utils\\__init__.py:54: FutureWarning: Conversion of the second argument of issubdtype from `int` to `np.signedinteger` is deprecated. In future, it will be treated as `np.int32 == np.dtype(int).type`.\n",
      "  if np.issubdtype(mask.dtype, np.int):\n"
     ]
    },
    {
     "name": "stdout",
     "output_type": "stream",
     "text": [
      "Thresh=0.0, n=1178, R2 Score: 0.9972701886051509\n"
     ]
    },
    {
     "name": "stderr",
     "output_type": "stream",
     "text": [
      "C:\\ProgramData\\Anaconda3\\lib\\site-packages\\sklearn\\utils\\__init__.py:54: FutureWarning: Conversion of the second argument of issubdtype from `int` to `np.signedinteger` is deprecated. In future, it will be treated as `np.int32 == np.dtype(int).type`.\n",
      "  if np.issubdtype(mask.dtype, np.int):\n"
     ]
    },
    {
     "name": "stdout",
     "output_type": "stream",
     "text": [
      "Thresh=0.0, n=1178, R2 Score: 0.9970308869569011\n"
     ]
    },
    {
     "name": "stderr",
     "output_type": "stream",
     "text": [
      "C:\\ProgramData\\Anaconda3\\lib\\site-packages\\sklearn\\utils\\__init__.py:54: FutureWarning: Conversion of the second argument of issubdtype from `int` to `np.signedinteger` is deprecated. In future, it will be treated as `np.int32 == np.dtype(int).type`.\n",
      "  if np.issubdtype(mask.dtype, np.int):\n"
     ]
    },
    {
     "name": "stdout",
     "output_type": "stream",
     "text": [
      "Thresh=0.0, n=1178, R2 Score: 0.9967649962366236\n"
     ]
    },
    {
     "name": "stderr",
     "output_type": "stream",
     "text": [
      "C:\\ProgramData\\Anaconda3\\lib\\site-packages\\sklearn\\utils\\__init__.py:54: FutureWarning: Conversion of the second argument of issubdtype from `int` to `np.signedinteger` is deprecated. In future, it will be treated as `np.int32 == np.dtype(int).type`.\n",
      "  if np.issubdtype(mask.dtype, np.int):\n"
     ]
    },
    {
     "name": "stdout",
     "output_type": "stream",
     "text": [
      "Thresh=0.0, n=1178, R2 Score: 0.9972524625571324\n"
     ]
    },
    {
     "name": "stderr",
     "output_type": "stream",
     "text": [
      "C:\\ProgramData\\Anaconda3\\lib\\site-packages\\sklearn\\utils\\__init__.py:54: FutureWarning: Conversion of the second argument of issubdtype from `int` to `np.signedinteger` is deprecated. In future, it will be treated as `np.int32 == np.dtype(int).type`.\n",
      "  if np.issubdtype(mask.dtype, np.int):\n"
     ]
    },
    {
     "name": "stdout",
     "output_type": "stream",
     "text": [
      "Thresh=0.0, n=1178, R2 Score: 0.9975094902534006\n"
     ]
    },
    {
     "name": "stderr",
     "output_type": "stream",
     "text": [
      "C:\\ProgramData\\Anaconda3\\lib\\site-packages\\sklearn\\utils\\__init__.py:54: FutureWarning: Conversion of the second argument of issubdtype from `int` to `np.signedinteger` is deprecated. In future, it will be treated as `np.int32 == np.dtype(int).type`.\n",
      "  if np.issubdtype(mask.dtype, np.int):\n"
     ]
    },
    {
     "name": "stdout",
     "output_type": "stream",
     "text": [
      "Thresh=0.0, n=1178, R2 Score: 0.997624709565521\n"
     ]
    },
    {
     "name": "stderr",
     "output_type": "stream",
     "text": [
      "C:\\ProgramData\\Anaconda3\\lib\\site-packages\\sklearn\\utils\\__init__.py:54: FutureWarning: Conversion of the second argument of issubdtype from `int` to `np.signedinteger` is deprecated. In future, it will be treated as `np.int32 == np.dtype(int).type`.\n",
      "  if np.issubdtype(mask.dtype, np.int):\n"
     ]
    },
    {
     "name": "stdout",
     "output_type": "stream",
     "text": [
      "Thresh=0.0, n=1178, R2 Score: 0.9970752020769474\n"
     ]
    },
    {
     "name": "stderr",
     "output_type": "stream",
     "text": [
      "C:\\ProgramData\\Anaconda3\\lib\\site-packages\\sklearn\\utils\\__init__.py:54: FutureWarning: Conversion of the second argument of issubdtype from `int` to `np.signedinteger` is deprecated. In future, it will be treated as `np.int32 == np.dtype(int).type`.\n",
      "  if np.issubdtype(mask.dtype, np.int):\n"
     ]
    },
    {
     "name": "stdout",
     "output_type": "stream",
     "text": [
      "Thresh=0.0, n=1178, R2 Score: 0.9972258734851047\n"
     ]
    },
    {
     "name": "stderr",
     "output_type": "stream",
     "text": [
      "C:\\ProgramData\\Anaconda3\\lib\\site-packages\\sklearn\\utils\\__init__.py:54: FutureWarning: Conversion of the second argument of issubdtype from `int` to `np.signedinteger` is deprecated. In future, it will be treated as `np.int32 == np.dtype(int).type`.\n",
      "  if np.issubdtype(mask.dtype, np.int):\n"
     ]
    },
    {
     "name": "stdout",
     "output_type": "stream",
     "text": [
      "Thresh=0.0, n=1178, R2 Score: 0.9967738592606329\n"
     ]
    },
    {
     "name": "stderr",
     "output_type": "stream",
     "text": [
      "C:\\ProgramData\\Anaconda3\\lib\\site-packages\\sklearn\\utils\\__init__.py:54: FutureWarning: Conversion of the second argument of issubdtype from `int` to `np.signedinteger` is deprecated. In future, it will be treated as `np.int32 == np.dtype(int).type`.\n",
      "  if np.issubdtype(mask.dtype, np.int):\n"
     ]
    },
    {
     "name": "stdout",
     "output_type": "stream",
     "text": [
      "Thresh=0.0, n=1178, R2 Score: 0.9968713525247347\n"
     ]
    },
    {
     "name": "stderr",
     "output_type": "stream",
     "text": [
      "C:\\ProgramData\\Anaconda3\\lib\\site-packages\\sklearn\\utils\\__init__.py:54: FutureWarning: Conversion of the second argument of issubdtype from `int` to `np.signedinteger` is deprecated. In future, it will be treated as `np.int32 == np.dtype(int).type`.\n",
      "  if np.issubdtype(mask.dtype, np.int):\n"
     ]
    },
    {
     "name": "stdout",
     "output_type": "stream",
     "text": [
      "Thresh=0.0, n=1178, R2 Score: 0.9970486130049196\n"
     ]
    },
    {
     "name": "stderr",
     "output_type": "stream",
     "text": [
      "C:\\ProgramData\\Anaconda3\\lib\\site-packages\\sklearn\\utils\\__init__.py:54: FutureWarning: Conversion of the second argument of issubdtype from `int` to `np.signedinteger` is deprecated. In future, it will be treated as `np.int32 == np.dtype(int).type`.\n",
      "  if np.issubdtype(mask.dtype, np.int):\n"
     ]
    },
    {
     "name": "stdout",
     "output_type": "stream",
     "text": [
      "Thresh=0.0, n=1178, R2 Score: 0.9968270374046884\n"
     ]
    },
    {
     "name": "stderr",
     "output_type": "stream",
     "text": [
      "C:\\ProgramData\\Anaconda3\\lib\\site-packages\\sklearn\\utils\\__init__.py:54: FutureWarning: Conversion of the second argument of issubdtype from `int` to `np.signedinteger` is deprecated. In future, it will be treated as `np.int32 == np.dtype(int).type`.\n",
      "  if np.issubdtype(mask.dtype, np.int):\n"
     ]
    },
    {
     "name": "stdout",
     "output_type": "stream",
     "text": [
      "Thresh=0.0, n=1178, R2 Score: 0.9971106541729844\n"
     ]
    },
    {
     "name": "stderr",
     "output_type": "stream",
     "text": [
      "C:\\ProgramData\\Anaconda3\\lib\\site-packages\\sklearn\\utils\\__init__.py:54: FutureWarning: Conversion of the second argument of issubdtype from `int` to `np.signedinteger` is deprecated. In future, it will be treated as `np.int32 == np.dtype(int).type`.\n",
      "  if np.issubdtype(mask.dtype, np.int):\n"
     ]
    },
    {
     "name": "stdout",
     "output_type": "stream",
     "text": [
      "Thresh=0.0, n=1178, R2 Score: 0.996880215548744\n"
     ]
    },
    {
     "name": "stderr",
     "output_type": "stream",
     "text": [
      "C:\\ProgramData\\Anaconda3\\lib\\site-packages\\sklearn\\utils\\__init__.py:54: FutureWarning: Conversion of the second argument of issubdtype from `int` to `np.signedinteger` is deprecated. In future, it will be treated as `np.int32 == np.dtype(int).type`.\n",
      "  if np.issubdtype(mask.dtype, np.int):\n"
     ]
    },
    {
     "name": "stdout",
     "output_type": "stream",
     "text": [
      "Thresh=0.0, n=1178, R2 Score: 0.9975449423494377\n"
     ]
    },
    {
     "name": "stderr",
     "output_type": "stream",
     "text": [
      "C:\\ProgramData\\Anaconda3\\lib\\site-packages\\sklearn\\utils\\__init__.py:54: FutureWarning: Conversion of the second argument of issubdtype from `int` to `np.signedinteger` is deprecated. In future, it will be treated as `np.int32 == np.dtype(int).type`.\n",
      "  if np.issubdtype(mask.dtype, np.int):\n"
     ]
    },
    {
     "name": "stdout",
     "output_type": "stream",
     "text": [
      "Thresh=0.0, n=1178, R2 Score: 0.9969688457888364\n"
     ]
    },
    {
     "name": "stderr",
     "output_type": "stream",
     "text": [
      "C:\\ProgramData\\Anaconda3\\lib\\site-packages\\sklearn\\utils\\__init__.py:54: FutureWarning: Conversion of the second argument of issubdtype from `int` to `np.signedinteger` is deprecated. In future, it will be treated as `np.int32 == np.dtype(int).type`.\n",
      "  if np.issubdtype(mask.dtype, np.int):\n"
     ]
    },
    {
     "name": "stdout",
     "output_type": "stream",
     "text": [
      "Thresh=0.0, n=1178, R2 Score: 0.9971549692930307\n"
     ]
    },
    {
     "name": "stderr",
     "output_type": "stream",
     "text": [
      "C:\\ProgramData\\Anaconda3\\lib\\site-packages\\sklearn\\utils\\__init__.py:54: FutureWarning: Conversion of the second argument of issubdtype from `int` to `np.signedinteger` is deprecated. In future, it will be treated as `np.int32 == np.dtype(int).type`.\n",
      "  if np.issubdtype(mask.dtype, np.int):\n"
     ]
    },
    {
     "name": "stdout",
     "output_type": "stream",
     "text": [
      "Thresh=0.0, n=1178, R2 Score: 0.9967649962366236\n"
     ]
    },
    {
     "name": "stderr",
     "output_type": "stream",
     "text": [
      "C:\\ProgramData\\Anaconda3\\lib\\site-packages\\sklearn\\utils\\__init__.py:54: FutureWarning: Conversion of the second argument of issubdtype from `int` to `np.signedinteger` is deprecated. In future, it will be treated as `np.int32 == np.dtype(int).type`.\n",
      "  if np.issubdtype(mask.dtype, np.int):\n"
     ]
    },
    {
     "name": "stdout",
     "output_type": "stream",
     "text": [
      "Thresh=0.0, n=1178, R2 Score: 0.9969245306687902\n"
     ]
    },
    {
     "name": "stderr",
     "output_type": "stream",
     "text": [
      "C:\\ProgramData\\Anaconda3\\lib\\site-packages\\sklearn\\utils\\__init__.py:54: FutureWarning: Conversion of the second argument of issubdtype from `int` to `np.signedinteger` is deprecated. In future, it will be treated as `np.int32 == np.dtype(int).type`.\n",
      "  if np.issubdtype(mask.dtype, np.int):\n"
     ]
    },
    {
     "name": "stdout",
     "output_type": "stream",
     "text": [
      "Thresh=0.0, n=1178, R2 Score: 0.9966054618044572\n"
     ]
    },
    {
     "name": "stderr",
     "output_type": "stream",
     "text": [
      "C:\\ProgramData\\Anaconda3\\lib\\site-packages\\sklearn\\utils\\__init__.py:54: FutureWarning: Conversion of the second argument of issubdtype from `int` to `np.signedinteger` is deprecated. In future, it will be treated as `np.int32 == np.dtype(int).type`.\n",
      "  if np.issubdtype(mask.dtype, np.int):\n"
     ]
    },
    {
     "name": "stdout",
     "output_type": "stream",
     "text": [
      "Thresh=0.0, n=1178, R2 Score: 0.9975449423494377\n"
     ]
    },
    {
     "name": "stderr",
     "output_type": "stream",
     "text": [
      "C:\\ProgramData\\Anaconda3\\lib\\site-packages\\sklearn\\utils\\__init__.py:54: FutureWarning: Conversion of the second argument of issubdtype from `int` to `np.signedinteger` is deprecated. In future, it will be treated as `np.int32 == np.dtype(int).type`.\n",
      "  if np.issubdtype(mask.dtype, np.int):\n"
     ]
    },
    {
     "name": "stdout",
     "output_type": "stream",
     "text": [
      "Thresh=0.0, n=1178, R2 Score: 0.9973233667492064\n"
     ]
    },
    {
     "name": "stderr",
     "output_type": "stream",
     "text": [
      "C:\\ProgramData\\Anaconda3\\lib\\site-packages\\sklearn\\utils\\__init__.py:54: FutureWarning: Conversion of the second argument of issubdtype from `int` to `np.signedinteger` is deprecated. In future, it will be treated as `np.int32 == np.dtype(int).type`.\n",
      "  if np.issubdtype(mask.dtype, np.int):\n"
     ]
    },
    {
     "name": "stdout",
     "output_type": "stream",
     "text": [
      "Thresh=0.0, n=1178, R2 Score: 0.9971283802210029\n"
     ]
    },
    {
     "name": "stderr",
     "output_type": "stream",
     "text": [
      "C:\\ProgramData\\Anaconda3\\lib\\site-packages\\sklearn\\utils\\__init__.py:54: FutureWarning: Conversion of the second argument of issubdtype from `int` to `np.signedinteger` is deprecated. In future, it will be treated as `np.int32 == np.dtype(int).type`.\n",
      "  if np.issubdtype(mask.dtype, np.int):\n"
     ]
    },
    {
     "name": "stdout",
     "output_type": "stream",
     "text": [
      "Thresh=0.0, n=1178, R2 Score: 0.9968447634527069\n"
     ]
    },
    {
     "name": "stderr",
     "output_type": "stream",
     "text": [
      "C:\\ProgramData\\Anaconda3\\lib\\site-packages\\sklearn\\utils\\__init__.py:54: FutureWarning: Conversion of the second argument of issubdtype from `int` to `np.signedinteger` is deprecated. In future, it will be treated as `np.int32 == np.dtype(int).type`.\n",
      "  if np.issubdtype(mask.dtype, np.int):\n"
     ]
    },
    {
     "name": "stdout",
     "output_type": "stream",
     "text": [
      "Thresh=0.0, n=1178, R2 Score: 0.9972170104610955\n"
     ]
    },
    {
     "name": "stderr",
     "output_type": "stream",
     "text": [
      "C:\\ProgramData\\Anaconda3\\lib\\site-packages\\sklearn\\utils\\__init__.py:54: FutureWarning: Conversion of the second argument of issubdtype from `int` to `np.signedinteger` is deprecated. In future, it will be treated as `np.int32 == np.dtype(int).type`.\n",
      "  if np.issubdtype(mask.dtype, np.int):\n"
     ]
    },
    {
     "name": "stdout",
     "output_type": "stream",
     "text": [
      "Thresh=0.0, n=1178, R2 Score: 0.9973765448932619\n"
     ]
    },
    {
     "name": "stderr",
     "output_type": "stream",
     "text": [
      "C:\\ProgramData\\Anaconda3\\lib\\site-packages\\sklearn\\utils\\__init__.py:54: FutureWarning: Conversion of the second argument of issubdtype from `int` to `np.signedinteger` is deprecated. In future, it will be treated as `np.int32 == np.dtype(int).type`.\n",
      "  if np.issubdtype(mask.dtype, np.int):\n"
     ]
    },
    {
     "name": "stdout",
     "output_type": "stream",
     "text": [
      "Thresh=0.0, n=1178, R2 Score: 0.9972701886051509\n"
     ]
    },
    {
     "name": "stderr",
     "output_type": "stream",
     "text": [
      "C:\\ProgramData\\Anaconda3\\lib\\site-packages\\sklearn\\utils\\__init__.py:54: FutureWarning: Conversion of the second argument of issubdtype from `int` to `np.signedinteger` is deprecated. In future, it will be treated as `np.int32 == np.dtype(int).type`.\n",
      "  if np.issubdtype(mask.dtype, np.int):\n"
     ]
    },
    {
     "name": "stdout",
     "output_type": "stream",
     "text": [
      "Thresh=0.0, n=1178, R2 Score: 0.9969245306687902\n"
     ]
    },
    {
     "name": "stderr",
     "output_type": "stream",
     "text": [
      "C:\\ProgramData\\Anaconda3\\lib\\site-packages\\sklearn\\utils\\__init__.py:54: FutureWarning: Conversion of the second argument of issubdtype from `int` to `np.signedinteger` is deprecated. In future, it will be treated as `np.int32 == np.dtype(int).type`.\n",
      "  if np.issubdtype(mask.dtype, np.int):\n"
     ]
    },
    {
     "name": "stdout",
     "output_type": "stream",
     "text": [
      "Thresh=0.0, n=1178, R2 Score: 0.9966763659965312\n"
     ]
    },
    {
     "name": "stderr",
     "output_type": "stream",
     "text": [
      "C:\\ProgramData\\Anaconda3\\lib\\site-packages\\sklearn\\utils\\__init__.py:54: FutureWarning: Conversion of the second argument of issubdtype from `int` to `np.signedinteger` is deprecated. In future, it will be treated as `np.int32 == np.dtype(int).type`.\n",
      "  if np.issubdtype(mask.dtype, np.int):\n"
     ]
    },
    {
     "name": "stdout",
     "output_type": "stream",
     "text": [
      "Thresh=0.0, n=1178, R2 Score: 0.9969245306687902\n"
     ]
    },
    {
     "name": "stderr",
     "output_type": "stream",
     "text": [
      "C:\\ProgramData\\Anaconda3\\lib\\site-packages\\sklearn\\utils\\__init__.py:54: FutureWarning: Conversion of the second argument of issubdtype from `int` to `np.signedinteger` is deprecated. In future, it will be treated as `np.int32 == np.dtype(int).type`.\n",
      "  if np.issubdtype(mask.dtype, np.int):\n"
     ]
    },
    {
     "name": "stdout",
     "output_type": "stream",
     "text": [
      "Thresh=0.0, n=1178, R2 Score: 0.9972790516291602\n"
     ]
    },
    {
     "name": "stderr",
     "output_type": "stream",
     "text": [
      "C:\\ProgramData\\Anaconda3\\lib\\site-packages\\sklearn\\utils\\__init__.py:54: FutureWarning: Conversion of the second argument of issubdtype from `int` to `np.signedinteger` is deprecated. In future, it will be treated as `np.int32 == np.dtype(int).type`.\n",
      "  if np.issubdtype(mask.dtype, np.int):\n"
     ]
    },
    {
     "name": "stdout",
     "output_type": "stream",
     "text": [
      "Thresh=0.0, n=1178, R2 Score: 0.9966497769245034\n"
     ]
    },
    {
     "name": "stderr",
     "output_type": "stream",
     "text": [
      "C:\\ProgramData\\Anaconda3\\lib\\site-packages\\sklearn\\utils\\__init__.py:54: FutureWarning: Conversion of the second argument of issubdtype from `int` to `np.signedinteger` is deprecated. In future, it will be treated as `np.int32 == np.dtype(int).type`.\n",
      "  if np.issubdtype(mask.dtype, np.int):\n"
     ]
    },
    {
     "name": "stdout",
     "output_type": "stream",
     "text": [
      "Thresh=0.0, n=1178, R2 Score: 0.9964370643482814\n",
      "Thresh=0.0, n=1178, R2 Score: 0.9971638323170399\n",
      "\n",
      "\n",
      "------------------------------------------\n",
      "\n",
      "\n"
     ]
    },
    {
     "name": "stderr",
     "output_type": "stream",
     "text": [
      "C:\\ProgramData\\Anaconda3\\lib\\site-packages\\sklearn\\utils\\__init__.py:54: FutureWarning: Conversion of the second argument of issubdtype from `int` to `np.signedinteger` is deprecated. In future, it will be treated as `np.int32 == np.dtype(int).type`.\n",
      "  if np.issubdtype(mask.dtype, np.int):\n"
     ]
    }
   ],
   "source": [
    "def rfr_wrapper(X_df=None, y_df=None, test_split=.4, random_state=42, table_name=None):\n",
    "    \"\"\"\n",
    "    Random Forest Regressor - Takes data matrix and target vector, and evaluates best combination of features \n",
    "    using an RFR model.\n",
    "    \"\"\"\n",
    "    X_df = np.array(X_df)\n",
    "    y_df = np.array(y_df)\n",
    "    #feature_count = len(X_df[0])\n",
    "    feature_count=100\n",
    "    val_op, optimum_features = 0, 0\n",
    "    val_op = 0\n",
    "    X_train, X_test, y_train, y_test = train_test_split(X_df, y_df, test_size=test_split)\n",
    "    model = RandomForestRegressor(n_estimators=feature_count)\n",
    "    model.fit(X_train, y_train)\n",
    "    #\n",
    "    # make predictions for test data and evaluate\n",
    "    pred_y = model.predict(X_test)\n",
    "    predictions = [round(value) for value in pred_y]\n",
    "    r2s = r2_score(y_test, predictions)\n",
    "    print(\"Table [\" + table_name + \"] RFR R2 Score: \" + str(r2s))\n",
    "    # \n",
    "    # fit model using each importance as a threshold\n",
    "    #print(type(model.feature_importances_))\n",
    "    thresholds = np.sort(model.feature_importances_)[:feature_count]\n",
    "    for thresh in thresholds:\n",
    "        # selecting features using threshold\n",
    "        selection = SelectFromModel(model, threshold=thresh, prefit=True)\n",
    "        select_train_x = selection.transform(X_train)\n",
    "        #\n",
    "        # training model\n",
    "        selection_model = RandomForestRegressor(n_estimators=feature_count)\n",
    "        selection_model.fit(select_train_x, y_train)\n",
    "        #\n",
    "        # evaluating model\n",
    "        select_test_x = selection.transform(X_test)\n",
    "        pred_y = selection_model.predict(select_test_x)\n",
    "        predictions = [round(value) for value in pred_y]\n",
    "        r2s = r2_score(y_test, predictions)\n",
    "        print(\"Thresh=\" + str(thresh) + \", n=\" + str(select_train_x.shape[1]) + \", R2 Score: \" + str(r2s))\n",
    "        if(r2s > val_op):\n",
    "            val_op = r2s\n",
    "            optimum_features = select_train_x.shape[1]\n",
    "    print(\"\\n\\n------------------------------------------\\n\\n\")\n",
    "    return val_op, optimum_features\n",
    "#\n",
    "rfr_rep_hist_snapshot_score, rfr_rep_hist_snapshot_count = rfr_wrapper(X_df=rep_hist_snapshot_df_pruned_norm,\n",
    "                                                                        y_df=y_label_snap_id,\n",
    "                                                                        test_split=test_split,\n",
    "                                                                        table_name='REP_HIST_SNAPSHOT')\n",
    "rfr_hist_sysmetric_summary_score, rfr_hist_sysmetric_summary_count = rfr_wrapper(X_df=rep_hist_sysmetric_summary_df_pruned_norm,\n",
    "                                                                                 y_df=y_label_snap_id,\n",
    "                                                                                 test_split=test_split,\n",
    "                                                                                 table_name='REP_HIST_SYSMETRIC_SUMMARY')\n",
    "rfr_hist_sysstat_score, rfr_hist_sysstat_count = rfr_wrapper(X_df=rep_hist_sysstat_df_pruned_norm,\n",
    "                                                               y_df=y_label_snap_id,\n",
    "                                                               test_split=test_split,\n",
    "                                                               table_name='REP_HIST_SYSSTAT')"
   ]
  },
  {
   "cell_type": "markdown",
   "metadata": {},
   "source": [
    "### Gradient Boosting Wrapper (Feature Combination)\n",
    "\n",
    "https://machinelearningmastery.com/gentle-introduction-gradient-boosting-algorithm-machine-learning/"
   ]
  },
  {
   "cell_type": "code",
   "execution_count": 96,
   "metadata": {
    "scrolled": true
   },
   "outputs": [
    {
     "name": "stderr",
     "output_type": "stream",
     "text": [
      "C:\\ProgramData\\Anaconda3\\lib\\site-packages\\sklearn\\utils\\__init__.py:54: FutureWarning: Conversion of the second argument of issubdtype from `int` to `np.signedinteger` is deprecated. In future, it will be treated as `np.int32 == np.dtype(int).type`.\n",
      "  if np.issubdtype(mask.dtype, np.int):\n"
     ]
    },
    {
     "name": "stdout",
     "output_type": "stream",
     "text": [
      "Table [REP_HIST_SNAPSHOT] RFR R2 Score: 0.6954766571145242\n",
      "Thresh=0.0, n=60, R2 Score: 0.6872360708964416\n",
      "Thresh=0.0, n=60, R2 Score: 0.693492641395725\n",
      "Thresh=0.0, n=60, R2 Score: 0.6923668278250574\n",
      "Thresh=0.0, n=60, R2 Score: 0.6828896922752579\n",
      "Thresh=0.0, n=60, R2 Score: 0.6773990441232319\n",
      "Thresh=0.0, n=60, R2 Score: 0.6930127864311781\n",
      "Thresh=0.0, n=60, R2 Score: 0.6794753396429056\n",
      "Thresh=0.0, n=60, R2 Score: 0.6937787087784355\n",
      "Thresh=0.0, n=60, R2 Score: 0.6869407755336434\n",
      "Thresh=0.0, n=60, R2 Score: 0.6875775061596767\n",
      "Thresh=0.0, n=60, R2 Score: 0.6863225008677851\n",
      "Thresh=0.0, n=60, R2 Score: 0.6875590501995019\n",
      "Thresh=0.0, n=60, R2 Score: 0.6900782887633726\n",
      "Thresh=0.0, n=60, R2 Score: 0.6802781739105128\n",
      "Thresh=0.0, n=60, R2 Score: 0.6820038061868638\n",
      "Thresh=5.369928783420141e-07, n=45, R2 Score: 0.6841170136268873\n",
      "Thresh=5.783145923034019e-06, n=44, R2 Score: 0.6887125477104317\n",
      "Thresh=3.1740489733062715e-05, n=43, R2 Score: 0.687540594239327\n",
      "Thresh=0.0003109280674776213, n=42, R2 Score: 0.6910933665729908\n",
      "Thresh=0.00043206582686306427, n=41, R2 Score: 0.6887402316506941\n",
      "Thresh=0.0015667144712572273, n=40, R2 Score: 0.687392946557928\n",
      "Thresh=0.003008229364229752, n=39, R2 Score: 0.6971746054506129\n",
      "Thresh=0.003186316244032372, n=38, R2 Score: 0.69235759984497\n",
      "Thresh=0.003869891159142328, n=37, R2 Score: 0.6862302210669107\n",
      "Thresh=0.004137479186390761, n=36, R2 Score: 0.6823267854899242\n",
      "Thresh=0.004604174266050456, n=35, R2 Score: 0.7013087405297855\n",
      "Thresh=0.005132008550510695, n=34, R2 Score: 0.6923299159047076\n",
      "Thresh=0.005423945704831318, n=33, R2 Score: 0.6873468066574908\n",
      "Thresh=0.005748648846361875, n=32, R2 Score: 0.6909364909115044\n",
      "Thresh=0.00586965887381857, n=31, R2 Score: 0.6853351069984291\n",
      "Thresh=0.006077416514505428, n=30, R2 Score: 0.6619144935365098\n",
      "Thresh=0.006156422524853743, n=29, R2 Score: 0.6384661961343282\n",
      "Thresh=0.008425657464363688, n=28, R2 Score: 0.656995980149905\n",
      "Thresh=0.008444616736214739, n=27, R2 Score: 0.6556763789974013\n",
      "Thresh=0.009306827455728132, n=26, R2 Score: 0.6575312029949765\n",
      "Thresh=0.010249489812218616, n=25, R2 Score: 0.6510993008740318\n",
      "Thresh=0.012190371026534214, n=24, R2 Score: 0.6623574365807069\n",
      "Thresh=0.012215965088413836, n=23, R2 Score: 0.6495674561795168\n",
      "Thresh=0.013495189671839604, n=22, R2 Score: 0.6365190923358787\n",
      "Thresh=0.01603103054255372, n=21, R2 Score: 0.6479248757239529\n",
      "Thresh=0.016057598655030824, n=20, R2 Score: 0.6465591346710119\n",
      "Thresh=0.017697725637203048, n=19, R2 Score: 0.6429879063771731\n",
      "Thresh=0.01895581758162926, n=18, R2 Score: 0.6480171555248272\n",
      "Thresh=0.01931182963358882, n=17, R2 Score: 0.6551688400925921\n",
      "Thresh=0.019835072286913197, n=16, R2 Score: 0.6709025461416751\n",
      "Thresh=0.022791312911009127, n=15, R2 Score: 0.6520220988827756\n",
      "Thresh=0.0229544084246187, n=14, R2 Score: 0.6579649180590861\n",
      "Thresh=0.023537180323034455, n=13, R2 Score: 0.664064612896883\n",
      "Thresh=0.024469117287942356, n=12, R2 Score: 0.6626619599235923\n",
      "Thresh=0.03130029046858104, n=11, R2 Score: 0.6968423981674652\n",
      "Thresh=0.03206973377159736, n=10, R2 Score: 0.648644658170773\n",
      "Thresh=0.03219920555520133, n=9, R2 Score: 0.6254086043106025\n",
      "Thresh=0.03643226657992576, n=8, R2 Score: 0.6358177658492333\n",
      "Thresh=0.0472428453499026, n=7, R2 Score: 0.5320214458257233\n",
      "Thresh=0.054005688394582585, n=6, R2 Score: 0.5354542544182505\n",
      "Thresh=0.06185489079837264, n=5, R2 Score: 0.6641199807774076\n",
      "Thresh=0.06838877247707124, n=4, R2 Score: 0.6304932213387813\n",
      "Thresh=0.07228210292223877, n=3, R2 Score: 0.7209181982155926\n",
      "Thresh=0.10024219912587724, n=2, R2 Score: 0.4640481445016501\n",
      "Thresh=0.13245083378895342, n=1, R2 Score: 0.05424277679858669\n",
      "\n",
      "\n",
      "------------------------------------------\n",
      "\n",
      "\n",
      "Table [REP_HIST_SYSMETRIC_SUMMARY] RFR R2 Score: -0.42329956772577537\n",
      "Thresh=0.0, n=161, R2 Score: -0.3899265432475496\n",
      "Thresh=0.0, n=161, R2 Score: -0.39431550954210626\n",
      "Thresh=0.0, n=161, R2 Score: -0.36542429487620653\n",
      "Thresh=0.0, n=161, R2 Score: -0.4039965563495229\n",
      "Thresh=0.0, n=161, R2 Score: -0.421628384405925\n",
      "Thresh=0.0, n=161, R2 Score: -0.40041786075549957\n",
      "Thresh=0.0, n=161, R2 Score: -0.4081913952887435\n",
      "Thresh=0.0, n=161, R2 Score: -0.4000211657250301\n",
      "Thresh=0.0, n=161, R2 Score: -0.39551403495331217\n",
      "Thresh=0.0, n=161, R2 Score: -0.38477794817124256\n",
      "Thresh=0.0, n=161, R2 Score: -0.4172900600301517\n",
      "Thresh=0.0, n=161, R2 Score: -0.3715857283281805\n",
      "Thresh=0.0, n=161, R2 Score: -0.37775560209995174\n",
      "Thresh=0.0, n=161, R2 Score: -0.3802201754807413\n",
      "Thresh=0.0, n=161, R2 Score: -0.37886972431318533\n",
      "Thresh=0.0, n=161, R2 Score: -0.38041430283607736\n",
      "Thresh=0.0, n=161, R2 Score: -0.42889549975133545\n",
      "Thresh=0.0, n=161, R2 Score: -0.39943878365902163\n",
      "Thresh=0.0, n=161, R2 Score: -0.39331955180603373\n",
      "Thresh=0.0, n=161, R2 Score: -0.4062416814155847\n",
      "Thresh=0.0, n=161, R2 Score: -0.3982824598468018\n",
      "Thresh=0.0, n=161, R2 Score: -0.3969488893188404\n",
      "Thresh=0.0, n=161, R2 Score: -0.4343226253809507\n",
      "Thresh=0.0, n=161, R2 Score: -0.41691868595907366\n",
      "Thresh=0.0, n=161, R2 Score: -0.38336841476510597\n",
      "Thresh=0.0, n=161, R2 Score: -0.41017487044109124\n",
      "Thresh=0.0, n=161, R2 Score: -0.408849740232927\n",
      "Thresh=0.0, n=161, R2 Score: -0.3791820161456827\n",
      "Thresh=0.0, n=161, R2 Score: -0.4086218515984019\n",
      "Thresh=0.0, n=161, R2 Score: -0.4266081730862874\n",
      "Thresh=0.0, n=161, R2 Score: -0.4095671674156911\n",
      "Thresh=0.0, n=161, R2 Score: -0.404562057775937\n",
      "Thresh=0.0, n=161, R2 Score: -0.38683738620176533\n",
      "Thresh=0.0, n=161, R2 Score: -0.39932905950165765\n",
      "Thresh=0.0, n=161, R2 Score: -0.37540919319632327\n",
      "Thresh=0.0, n=161, R2 Score: -0.38376510979557565\n",
      "Thresh=0.0, n=161, R2 Score: -0.37561176087145665\n",
      "Thresh=0.0, n=161, R2 Score: -0.4013125346540054\n",
      "Thresh=0.0, n=161, R2 Score: -0.4168089618017097\n",
      "Thresh=0.0, n=161, R2 Score: -0.38330933252652555\n",
      "Thresh=0.0, n=161, R2 Score: -0.35957515325672995\n",
      "Thresh=0.0, n=161, R2 Score: -0.37374645019626995\n",
      "Thresh=0.0, n=161, R2 Score: -0.40469710289269245\n",
      "Thresh=0.0, n=161, R2 Score: -0.40960936901467715\n",
      "Thresh=0.0, n=161, R2 Score: -0.40738956490800726\n",
      "Thresh=0.0, n=161, R2 Score: -0.40397967570992854\n",
      "Thresh=0.0, n=161, R2 Score: -0.42165370536531666\n",
      "Thresh=0.0, n=161, R2 Score: -0.3798403610898662\n",
      "Thresh=0.0, n=161, R2 Score: -0.3789034855923743\n",
      "Thresh=0.0, n=161, R2 Score: -0.3892006757449882\n",
      "Thresh=0.0, n=161, R2 Score: -0.43276960653826135\n",
      "Thresh=0.0, n=161, R2 Score: -0.39831622112599074\n",
      "Thresh=0.0, n=161, R2 Score: -0.4104027590756163\n",
      "Thresh=0.0, n=161, R2 Score: -0.38590051070427345\n",
      "Thresh=0.0, n=161, R2 Score: -0.3851830835215093\n",
      "Thresh=0.0, n=161, R2 Score: -0.3893863627805272\n",
      "Thresh=0.0, n=161, R2 Score: -0.3966197168467487\n",
      "Thresh=0.0, n=161, R2 Score: -0.3974215472274849\n",
      "Thresh=0.0, n=161, R2 Score: -0.3886436146383714\n",
      "Thresh=0.0, n=161, R2 Score: -0.3805409076330357\n",
      "Thresh=0.0, n=161, R2 Score: -0.42673477788324576\n",
      "Thresh=0.0, n=161, R2 Score: -0.3854784947144121\n",
      "Thresh=0.0, n=161, R2 Score: -0.3921379070344224\n",
      "Thresh=0.0, n=161, R2 Score: -0.38551225599360106\n",
      "Thresh=0.0, n=161, R2 Score: -0.36810831657172405\n",
      "Thresh=0.0, n=161, R2 Score: -0.4235358966800977\n",
      "Thresh=0.0, n=161, R2 Score: -0.3874028876281794\n",
      "Thresh=0.0, n=161, R2 Score: -0.38118237193762483\n",
      "Thresh=0.0, n=161, R2 Score: -0.3586804793582241\n",
      "Thresh=0.0, n=161, R2 Score: -0.38227961351126405\n",
      "Thresh=0.0, n=161, R2 Score: -0.40889194183191324\n",
      "Thresh=0.0, n=161, R2 Score: -0.39690668771985416\n",
      "Thresh=0.0, n=161, R2 Score: -0.3714844444906138\n",
      "Thresh=0.0, n=161, R2 Score: -0.37506314008463715\n",
      "Thresh=0.0, n=161, R2 Score: -0.3908380977856498\n",
      "Thresh=0.0, n=161, R2 Score: -0.3923235940699614\n",
      "Thresh=0.0, n=161, R2 Score: -0.41582988470523174\n",
      "Thresh=0.0, n=161, R2 Score: -0.40797194697401573\n",
      "Thresh=0.0, n=161, R2 Score: -0.41129743297412213\n",
      "Thresh=0.0, n=161, R2 Score: -0.4150027333651036\n",
      "Thresh=0.0, n=161, R2 Score: -0.380363660917294\n",
      "Thresh=0.0, n=161, R2 Score: -0.42333332900496434\n",
      "Thresh=0.0, n=161, R2 Score: -0.3675681361047016\n",
      "Thresh=0.0, n=161, R2 Score: -0.4090101063090743\n",
      "Thresh=0.0, n=161, R2 Score: -0.4049587528064065\n",
      "Thresh=0.0, n=161, R2 Score: -0.42898834326910484\n",
      "Thresh=0.0, n=161, R2 Score: -0.4178893227357545\n",
      "Thresh=0.0, n=161, R2 Score: -0.3942648676233229\n",
      "Thresh=0.0, n=161, R2 Score: -0.38403520002908675\n",
      "Thresh=0.0, n=161, R2 Score: -0.37989944332844683\n",
      "Thresh=0.0, n=161, R2 Score: -0.394568719136023\n",
      "Thresh=0.0, n=161, R2 Score: -0.39035699955720804\n",
      "Thresh=0.0, n=161, R2 Score: -0.4102086317202802\n"
     ]
    },
    {
     "name": "stdout",
     "output_type": "stream",
     "text": [
      "Thresh=0.0, n=161, R2 Score: -0.3962061411766846\n",
      "Thresh=0.0, n=161, R2 Score: -0.3829970406940282\n",
      "Thresh=0.0, n=161, R2 Score: -0.41026771395886064\n",
      "Thresh=0.0, n=161, R2 Score: -0.3748943336886925\n",
      "Thresh=0.0, n=161, R2 Score: -0.41416714170517843\n",
      "Thresh=0.0, n=161, R2 Score: -0.41712125363420705\n",
      "Thresh=0.0, n=161, R2 Score: -0.39943034333922434\n",
      "\n",
      "\n",
      "------------------------------------------\n",
      "\n",
      "\n",
      "Table [REP_HIST_SYSSTAT] RFR R2 Score: 0.9988182196055173\n",
      "Thresh=0.0, n=1178, R2 Score: 0.9987530179285803\n",
      "Thresh=0.0, n=1178, R2 Score: 0.9988752710728371\n",
      "Thresh=0.0, n=1178, R2 Score: 0.9990871765228824\n",
      "Thresh=0.0, n=1178, R2 Score: 0.9987285672997289\n",
      "Thresh=0.0, n=1178, R2 Score: 0.9988997217016885\n",
      "Thresh=0.0, n=1178, R2 Score: 0.998801919186283\n",
      "Thresh=0.0, n=1178, R2 Score: 0.9988997217016885\n",
      "Thresh=0.0, n=1178, R2 Score: 0.9984759108015981\n",
      "Thresh=0.0, n=1178, R2 Score: 0.9989730735882426\n",
      "Thresh=0.0, n=1178, R2 Score: 0.9989160221209228\n",
      "Thresh=0.0, n=1178, R2 Score: 0.9990056744267111\n",
      "Thresh=0.0, n=1178, R2 Score: 0.9989160221209228\n",
      "Thresh=0.0, n=1178, R2 Score: 0.9988508204439858\n",
      "Thresh=0.0, n=1178, R2 Score: 0.9990545756844138\n",
      "Thresh=0.0, n=1178, R2 Score: 0.9986715158324091\n",
      "Thresh=0.0, n=1178, R2 Score: 0.9988997217016885\n",
      "Thresh=0.0, n=1178, R2 Score: 0.998801919186283\n",
      "Thresh=0.0, n=1178, R2 Score: 0.9988345200247516\n",
      "Thresh=0.0, n=1178, R2 Score: 0.9985574128977694\n",
      "Thresh=0.0, n=1178, R2 Score: 0.9989730735882426\n",
      "Thresh=0.0, n=1178, R2 Score: 0.9990138246363283\n",
      "Thresh=0.0, n=1178, R2 Score: 0.998997524217094\n",
      "Thresh=0.0, n=1178, R2 Score: 0.9988263698151344\n",
      "Thresh=0.0, n=1178, R2 Score: 0.998663365622792\n",
      "Thresh=0.0, n=1178, R2 Score: 0.9987856187670489\n",
      "Thresh=0.0, n=1178, R2 Score: 0.9990871765228824\n",
      "Thresh=0.0, n=1178, R2 Score: 0.9988345200247516\n",
      "Thresh=0.0, n=1178, R2 Score: 0.9990219748459453\n",
      "Thresh=0.0, n=1178, R2 Score: 0.9989893740074769\n",
      "Thresh=0.0, n=1178, R2 Score: 0.9990382752651796\n",
      "Thresh=0.0, n=1178, R2 Score: 0.9987367175093461\n",
      "Thresh=0.0, n=1178, R2 Score: 0.9988100693959002\n",
      "Thresh=0.0, n=1178, R2 Score: 0.9991605284094365\n",
      "Thresh=0.0, n=1178, R2 Score: 0.9990871765228824\n",
      "Thresh=0.0, n=1178, R2 Score: 0.9985574128977694\n",
      "Thresh=0.0, n=1178, R2 Score: 0.9990219748459453\n",
      "Thresh=0.0, n=1178, R2 Score: 0.9991686786190536\n",
      "Thresh=0.0, n=1178, R2 Score: 0.9987041166708777\n",
      "Thresh=0.0, n=1178, R2 Score: 0.9989323225401571\n",
      "Thresh=0.0, n=1178, R2 Score: 0.9989241723305399\n",
      "Thresh=0.0, n=1178, R2 Score: 0.9991279275709679\n",
      "Thresh=0.0, n=1178, R2 Score: 0.9988182196055173\n",
      "Thresh=0.0, n=1178, R2 Score: 0.998858970653603\n",
      "Thresh=0.0, n=1178, R2 Score: 0.9988752710728371\n",
      "Thresh=0.0, n=1178, R2 Score: 0.999062725894031\n",
      "Thresh=0.0, n=1178, R2 Score: 0.9988997217016885\n",
      "Thresh=0.0, n=1178, R2 Score: 0.9988345200247516\n",
      "Thresh=0.0, n=1178, R2 Score: 0.9989160221209228\n",
      "Thresh=0.0, n=1178, R2 Score: 0.9988834212824543\n",
      "Thresh=0.0, n=1178, R2 Score: 0.9987367175093461\n",
      "Thresh=0.0, n=1178, R2 Score: 0.9991523781998193\n",
      "Thresh=0.0, n=1178, R2 Score: 0.9988834212824543\n",
      "Thresh=0.0, n=1178, R2 Score: 0.998858970653603\n",
      "Thresh=0.0, n=1178, R2 Score: 0.9989323225401571\n",
      "Thresh=0.0, n=1178, R2 Score: 0.9987367175093461\n",
      "Thresh=0.0, n=1178, R2 Score: 0.9986715158324091\n",
      "Thresh=0.0, n=1178, R2 Score: 0.9984759108015981\n",
      "Thresh=0.0, n=1178, R2 Score: 0.9989160221209228\n",
      "Thresh=0.0, n=1178, R2 Score: 0.9989486229593912\n",
      "Thresh=0.0, n=1178, R2 Score: 0.998598163945855\n",
      "Thresh=0.0, n=1178, R2 Score: 0.9990708761036481\n",
      "Thresh=0.0, n=1178, R2 Score: 0.999062725894031\n",
      "Thresh=0.0, n=1178, R2 Score: 0.9988345200247516\n",
      "Thresh=0.0, n=1178, R2 Score: 0.9989241723305399\n",
      "Thresh=0.0, n=1178, R2 Score: 0.9988263698151344\n",
      "Thresh=0.0, n=1178, R2 Score: 0.9988508204439858\n",
      "Thresh=0.0, n=1178, R2 Score: 0.998801919186283\n",
      "Thresh=0.0, n=1178, R2 Score: 0.9988834212824543\n",
      "Thresh=0.0, n=1178, R2 Score: 0.9987774685574317\n",
      "Thresh=0.0, n=1178, R2 Score: 0.9990871765228824\n",
      "Thresh=0.0, n=1178, R2 Score: 0.9987530179285803\n",
      "Thresh=0.0, n=1178, R2 Score: 0.9987856187670489\n",
      "Thresh=0.0, n=1178, R2 Score: 0.9985737133170036\n",
      "Thresh=0.0, n=1178, R2 Score: 0.998858970653603\n",
      "Thresh=0.0, n=1178, R2 Score: 0.9990790263132652\n",
      "Thresh=0.0, n=1178, R2 Score: 0.9988263698151344\n",
      "Thresh=0.0, n=1178, R2 Score: 0.9985900137362379\n",
      "Thresh=0.0, n=1178, R2 Score: 0.998997524217094\n",
      "Thresh=0.0, n=1178, R2 Score: 0.9986470652035577\n",
      "Thresh=0.0, n=1178, R2 Score: 0.998858970653603\n",
      "Thresh=0.0, n=1178, R2 Score: 0.9990790263132652\n",
      "Thresh=0.0, n=1178, R2 Score: 0.9990301250555624\n",
      "Thresh=0.0, n=1178, R2 Score: 0.9989404727497742\n",
      "Thresh=0.0, n=1178, R2 Score: 0.9990790263132652\n",
      "Thresh=0.0, n=1178, R2 Score: 0.9987693183478146\n",
      "Thresh=0.0, n=1178, R2 Score: 0.9989160221209228\n",
      "Thresh=0.0, n=1178, R2 Score: 0.998663365622792\n",
      "Thresh=0.0, n=1178, R2 Score: 0.9990464254747967\n",
      "Thresh=0.0, n=1178, R2 Score: 0.9991523781998193\n",
      "Thresh=0.0, n=1178, R2 Score: 0.9989893740074769\n",
      "Thresh=0.0, n=1178, R2 Score: 0.9991686786190536\n",
      "Thresh=0.0, n=1178, R2 Score: 0.9986226145747064\n",
      "Thresh=0.0, n=1178, R2 Score: 0.9989893740074769\n",
      "Thresh=0.0, n=1178, R2 Score: 0.9989486229593912\n",
      "Thresh=0.0, n=1178, R2 Score: 0.9987448677189632\n",
      "Thresh=0.0, n=1178, R2 Score: 0.9988508204439858\n",
      "Thresh=0.0, n=1178, R2 Score: 0.998663365622792\n",
      "Thresh=0.0, n=1178, R2 Score: 0.9991931292479049\n",
      "Thresh=0.0, n=1178, R2 Score: 0.9989078719113057\n",
      "Thresh=0.0, n=1178, R2 Score: 0.9991116271517337\n",
      "\n",
      "\n",
      "------------------------------------------\n",
      "\n",
      "\n"
     ]
    }
   ],
   "source": [
    "def gradient_boosting_wrapper(X_df=None, y_df=None, test_split=.4, random_state=42, table_name=None):\n",
    "    \"\"\"\n",
    "    Gradient Boosting Regressor - Takes data matrix and target vector, and evaluates best combination of features \n",
    "    using a GBR model.\n",
    "    \"\"\"\n",
    "    X_df = np.array(X_df)\n",
    "    y_df = np.array(y_df)\n",
    "    #feature_count = len(X_df[0])\n",
    "    feature_count=100\n",
    "    val_op, optimum_features = 0, 0\n",
    "    X_train, X_test, y_train, y_test = train_test_split(X_df, y_df, test_size=test_split)\n",
    "    model = GradientBoostingRegressor(n_estimators=feature_count)\n",
    "    model.fit(X_train, y_train)\n",
    "    #\n",
    "    # make predictions for test data and evaluate\n",
    "    pred_y = model.predict(X_test)\n",
    "    predictions = [round(value) for value in pred_y]\n",
    "    r2s = r2_score(y_test, predictions)\n",
    "    print(\"Table [\" + table_name + \"] RFR R2 Score: \" + str(r2s))\n",
    "    # \n",
    "    # fit model using each importance as a threshold\n",
    "    #print(type(model.feature_importances_))\n",
    "    thresholds = np.sort(model.feature_importances_)[:feature_count]\n",
    "    for thresh in thresholds:\n",
    "        # selecting features using threshold\n",
    "        selection = SelectFromModel(model, threshold=thresh, prefit=True)\n",
    "        select_train_x = selection.transform(X_train)\n",
    "        #\n",
    "        # training model\n",
    "        selection_model = GradientBoostingRegressor(n_estimators=feature_count)\n",
    "        selection_model.fit(select_train_x, y_train)\n",
    "        #\n",
    "        # evaluating model\n",
    "        select_test_x = selection.transform(X_test)\n",
    "        pred_y = selection_model.predict(select_test_x)\n",
    "        predictions = [round(value) for value in pred_y]\n",
    "        r2s = r2_score(y_test, predictions)\n",
    "        print(\"Thresh=\" + str(thresh) + \", n=\" + str(select_train_x.shape[1]) + \", R2 Score: \" + str(r2s))\n",
    "        if(r2s > val_op):\n",
    "            val_op = r2s\n",
    "            optimum_features = select_train_x.shape[1]\n",
    "    print(\"\\n\\n------------------------------------------\\n\\n\")\n",
    "    return val_op, optimum_features\n",
    "#\n",
    "gbw_rep_hist_snapshot_score, gbw_rep_hist_snapshot_count = gradient_boosting_wrapper(X_df=rep_hist_snapshot_df_pruned_norm,\n",
    "                                                                                      y_df=y_label_snap_id,\n",
    "                                                                                      test_split=test_split,\n",
    "                                                                                      table_name='REP_HIST_SNAPSHOT')\n",
    "gbw_hist_sysmetric_summary_score, gbw_hist_sysmetric_summary_count = gradient_boosting_wrapper(X_df=rep_hist_sysmetric_summary_df_pruned_norm,\n",
    "                                                                                              y_df=y_label_snap_id,\n",
    "                                                                                              test_split=test_split,\n",
    "                                                                                              table_name='REP_HIST_SYSMETRIC_SUMMARY')\n",
    "gbw_hist_sysstat_score, gbw_hist_sysstat_count = gradient_boosting_wrapper(X_df=rep_hist_sysstat_df_pruned_norm,\n",
    "                                                                          y_df=y_label_snap_id,\n",
    "                                                                          test_split=test_split,\n",
    "                                                                          table_name='REP_HIST_SYSSTAT')"
   ]
  },
  {
   "cell_type": "markdown",
   "metadata": {},
   "source": [
    "### Recursive Feature Elimination"
   ]
  },
  {
   "cell_type": "code",
   "execution_count": 97,
   "metadata": {},
   "outputs": [
    {
     "name": "stderr",
     "output_type": "stream",
     "text": [
      "C:\\ProgramData\\Anaconda3\\lib\\site-packages\\sklearn\\utils\\__init__.py:54: FutureWarning: Conversion of the second argument of issubdtype from `int` to `np.signedinteger` is deprecated. In future, it will be treated as `np.int32 == np.dtype(int).type`.\n",
      "  if np.issubdtype(mask.dtype, np.int):\n"
     ]
    },
    {
     "name": "stdout",
     "output_type": "stream",
     "text": [
      "Table [REP_HIST_SNAPSHOT] RFR R2 Score: 0.6816219815847964 with 3 features\n",
      "\n",
      "\n",
      "------------------------------------------\n",
      "\n",
      "\n",
      "Table [REP_HIST_SYSMETRIC_SUMMARY] RFR R2 Score: -0.21888071185809665 with 161 features\n",
      "\n",
      "\n",
      "------------------------------------------\n",
      "\n",
      "\n",
      "Table [REP_HIST_SYSSTAT] RFR R2 Score: 0.9984970364800329 with 1178 features\n",
      "\n",
      "\n",
      "------------------------------------------\n",
      "\n",
      "\n"
     ]
    },
    {
     "name": "stderr",
     "output_type": "stream",
     "text": [
      "C:\\ProgramData\\Anaconda3\\lib\\site-packages\\sklearn\\utils\\__init__.py:54: FutureWarning: Conversion of the second argument of issubdtype from `int` to `np.signedinteger` is deprecated. In future, it will be treated as `np.int32 == np.dtype(int).type`.\n",
      "  if np.issubdtype(mask.dtype, np.int):\n",
      "C:\\ProgramData\\Anaconda3\\lib\\site-packages\\sklearn\\utils\\__init__.py:54: FutureWarning: Conversion of the second argument of issubdtype from `int` to `np.signedinteger` is deprecated. In future, it will be treated as `np.int32 == np.dtype(int).type`.\n",
      "  if np.issubdtype(mask.dtype, np.int):\n"
     ]
    }
   ],
   "source": [
    "if rfr_rep_hist_snapshot_score > gbw_rep_hist_snapshot_score:\n",
    "    rep_hist_snapshot_op = rfr_rep_hist_snapshot_count\n",
    "    rep_hist_snapshot_model = 0\n",
    "else:\n",
    "    rep_hist_snapshot_op = gbw_rep_hist_snapshot_count\n",
    "    rep_hist_snapshot_model = 1\n",
    "#\n",
    "if rfr_hist_sysmetric_summary_score > gbw_hist_sysmetric_summary_score:\n",
    "    rep_hist_sysmetric_summary_op = rfr_hist_sysmetric_summary_count\n",
    "    rep_hist_sysmetric_summary_model = 0\n",
    "else:\n",
    "    rep_hist_sysmetric_summary_op = gbw_hist_sysmetric_summary_count\n",
    "    rep_hist_sysmetric_summary_model = 1\n",
    "#\n",
    "if rfr_hist_sysstat_score > gbw_hist_sysstat_score:\n",
    "    rep_hist_sysstat_op = rfr_hist_sysstat_count\n",
    "    rep_hist_sysstat_model = 0\n",
    "else:\n",
    "    rep_hist_sysstat_op = gbw_hist_sysstat_count\n",
    "    rep_hist_sysstat_model = 1\n",
    "#\n",
    "def rfe_selector(X_df=None, y_df=None, test_split=.4, random_state=42, table_name=None, optimum_feature_count=0, model=None):\n",
    "    \"\"\"\n",
    "    Recursive Feature Elimination Function\n",
    "    \"\"\"\n",
    "    X_df = np.array(X_df)\n",
    "    y_df = np.array(y_df)\n",
    "    #feature_count = len(X_df[0])\n",
    "    feature_count=100\n",
    "    X_train, X_test, y_train, y_test = train_test_split(X_df, y_df, test_size=test_split)\n",
    "    if model == 0:\n",
    "        model = RandomForestRegressor(n_estimators=feature_count)\n",
    "    elif model == 1:\n",
    "        model = GradientBoostingRegressor(n_estimators=feature_count)\n",
    "    #\n",
    "    # create the RFE model and select 4 attributes\n",
    "    rfe_model = RFE(model, optimum_feature_count, step=1)\n",
    "    rfe_model = rfe_model.fit(X_train, y_train)\n",
    "    # \n",
    "    # summarize the selection of the attributes\n",
    "    #     print(rfe_model.support_)\n",
    "    #     print(rfe_model.ranking_)\n",
    "    # \n",
    "    # evaluate the model on testing set\n",
    "    pred_y = rfe_model.predict(X_test)\n",
    "    predictions = [round(value) for value in pred_y]\n",
    "    r2s = r2_score(y_test, predictions)\n",
    "    print(\"Table [\" + table_name + \"] RFR R2 Score: \" + str(r2s) + \" with \" + str(optimum_feature_count) + \" features\")\n",
    "    print(\"\\n\\n------------------------------------------\\n\\n\")\n",
    "#\n",
    "rfe_selector(X_df=rep_hist_snapshot_df_pruned_norm,\n",
    "             y_df=y_label_snap_id,\n",
    "             test_split=test_split,\n",
    "             table_name='REP_HIST_SNAPSHOT',\n",
    "             optimum_feature_count=rep_hist_snapshot_op,\n",
    "             model = rep_hist_snapshot_model)\n",
    "rfe_selector(X_df=rep_hist_sysmetric_summary_df_pruned_norm,\n",
    "             y_df=y_label_snap_id,\n",
    "             test_split=test_split,\n",
    "             table_name='REP_HIST_SYSMETRIC_SUMMARY',\n",
    "             optimum_feature_count=rep_hist_sysmetric_summary_op,\n",
    "             model = rep_hist_sysmetric_summary_model)\n",
    "rfe_selector(X_df=rep_hist_sysstat_df_pruned_norm,\n",
    "             y_df=y_label_snap_id,\n",
    "             test_split=test_split,\n",
    "             table_name='REP_HIST_SYSSTAT',\n",
    "             optimum_feature_count=rep_hist_sysstat_op,\n",
    "             model = rep_hist_sysstat_model)"
   ]
  }
 ],
 "metadata": {
  "kernelspec": {
   "display_name": "Python 3",
   "language": "python",
   "name": "python3"
  },
  "language_info": {
   "codemirror_mode": {
    "name": "ipython",
    "version": 3
   },
   "file_extension": ".py",
   "mimetype": "text/x-python",
   "name": "python",
   "nbconvert_exporter": "python",
   "pygments_lexer": "ipython3",
   "version": "3.6.6"
  }
 },
 "nbformat": 4,
 "nbformat_minor": 2
}
