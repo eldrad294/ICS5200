{
 "cells": [
  {
   "cell_type": "markdown",
   "metadata": {},
   "source": [
    "# Schedule Access Plan Recommendation\n",
    "\n",
    "This notebook is dedicated to model fitting in terms of database access plans."
   ]
  },
  {
   "cell_type": "code",
   "execution_count": 1,
   "metadata": {},
   "outputs": [
    {
     "name": "stdout",
     "output_type": "stream",
     "text": [
      "pandas: 0.23.4\n",
      "numpy: 1.15.2\n",
      "sklearn: 0.19.0\n"
     ]
    }
   ],
   "source": [
    "# pandas\n",
    "import pandas as pd\n",
    "print('pandas: %s' % pd.__version__)\n",
    "# numpy\n",
    "import numpy as np\n",
    "print('numpy: %s' % np.__version__)\n",
    "# sklearn\n",
    "import sklearn as sk\n",
    "from sklearn import preprocessing\n",
    "print('sklearn: %s' % sk.__version__)"
   ]
  },
  {
   "cell_type": "code",
   "execution_count": 2,
   "metadata": {},
   "outputs": [],
   "source": [
    "#\n",
    "# Experiment Config\n",
    "tpcds='TPCDS1' # Schema upon which to operate test\n",
    "y_labels = ['COST',\n",
    "            'CARDINALITY',\n",
    "            'BYTES',\n",
    "            'CPU_COST',\n",
    "            'IO_COST',\n",
    "            'TEMP_SPACE',\n",
    "            'TIME']"
   ]
  },
  {
   "cell_type": "markdown",
   "metadata": {},
   "source": [
    "### Read data from file into pandas dataframes"
   ]
  },
  {
   "cell_type": "code",
   "execution_count": 3,
   "metadata": {},
   "outputs": [
    {
     "name": "stdout",
     "output_type": "stream",
     "text": [
      "     ('SQL_ID',) ('PLAN_HASH_VALUE',) ('ID',)    ('OPERATION',) ('OPTIONS',)  \\\n",
      "0  dxv968j0352kb            103598129       0  SELECT STATEMENT          NaN   \n",
      "1  dxv968j0352kb            103598129       1              SORT     GROUP BY   \n",
      "2  dxv968j0352kb            103598129       2    PX COORDINATOR          NaN   \n",
      "3  dxv968j0352kb            103598129       3           PX SEND  QC (RANDOM)   \n",
      "4  dxv968j0352kb            103598129       4              SORT     GROUP BY   \n",
      "\n",
      "  ('OBJECT_NODE',) ('OBJECT_OWNER',) ('OBJECT_NAME',) ('OBJECT_ALIAS',)  \\\n",
      "0              NaN               NaN              NaN               NaN   \n",
      "1              NaN               NaN              NaN               NaN   \n",
      "2              NaN               NaN              NaN               NaN   \n",
      "3           :Q1001               SYS         :TQ10001               NaN   \n",
      "4           :Q1001               NaN              NaN               NaN   \n",
      "\n",
      "  ('OBJECT_TYPE',)         ...          ('SEARCH_COLUMNS',) ('COST',)  \\\n",
      "0              NaN         ...                            0       880   \n",
      "1              NaN         ...                            0       NaN   \n",
      "2              NaN         ...                            0       NaN   \n",
      "3              NaN         ...                            0       NaN   \n",
      "4              NaN         ...                            0       NaN   \n",
      "\n",
      "  ('CARDINALITY',) ('BYTES',) ('CPU_COST',) ('IO_COST',) ('TEMP_SPACE',)  \\\n",
      "0              NaN        NaN           NaN          NaN             NaN   \n",
      "1                1         17           NaN          NaN             NaN   \n",
      "2              NaN        NaN           NaN          NaN             NaN   \n",
      "3                1         17           NaN          NaN             NaN   \n",
      "4                1         17           NaN          NaN             NaN   \n",
      "\n",
      "  ('TIME',) ('QBLOCK_NAME',)       ('TIMESTAMP',)  \n",
      "0       NaN              NaN  2018-10-07 15:52:33  \n",
      "1       NaN            SEL$1  2018-10-07 15:52:33  \n",
      "2       NaN              NaN  2018-10-07 15:52:33  \n",
      "3       NaN              NaN  2018-10-07 15:52:33  \n",
      "4       NaN              NaN  2018-10-07 15:52:33  \n",
      "\n",
      "[5 rows x 22 columns]\n",
      "------------------------------------------\n",
      "Index(['SQL_ID', 'PLAN_HASH_VALUE', 'ID', 'OPERATION', 'OPTIONS',\n",
      "       'OBJECT_NODE', 'OBJECT_OWNER', 'OBJECT_NAME', 'OBJECT_ALIAS',\n",
      "       'OBJECT_TYPE', 'OPTIMIZER', 'DEPTH', 'SEARCH_COLUMNS', 'COST',\n",
      "       'CARDINALITY', 'BYTES', 'CPU_COST', 'IO_COST', 'TEMP_SPACE', 'TIME',\n",
      "       'QBLOCK_NAME', 'TIMESTAMP'],\n",
      "      dtype='object')\n"
     ]
    }
   ],
   "source": [
    "rep_vsql_plan_path = 'C:/Users/gabriel.sammut/University/Data_ICS5200/Schedule/' + tpcds + '/v2/rep_vsql_plan.csv'\n",
    "#rep_vsql_plan_path = 'D:/Projects/Datagenerated_ICS5200/Schedule/' + tpcds + '/v2/rep_vsql_plan.csv'\n",
    "#\n",
    "rep_vsql_plan_df = pd.read_csv(rep_vsql_plan_path,dtype=str)\n",
    "print(rep_vsql_plan_df.head())\n",
    "#\n",
    "def prettify_header(headers):\n",
    "    \"\"\"\n",
    "    Cleans header list from unwated character strings\n",
    "    \"\"\"\n",
    "    header_list = []\n",
    "    [header_list.append(header.replace(\"(\",\"\").replace(\")\",\"\").replace(\"'\",\"\").replace(\",\",\"\")) for header in headers]\n",
    "    return header_list\n",
    "#\n",
    "rep_vsql_plan_df.columns = prettify_header(rep_vsql_plan_df.columns.values)\n",
    "print('------------------------------------------')\n",
    "print(rep_vsql_plan_df.columns)"
   ]
  },
  {
   "cell_type": "markdown",
   "metadata": {},
   "source": [
    "### Dealing with empty values"
   ]
  },
  {
   "cell_type": "code",
   "execution_count": 4,
   "metadata": {},
   "outputs": [
    {
     "name": "stdout",
     "output_type": "stream",
     "text": [
      "N/A Columns\n",
      "\n",
      "\n",
      "REP_VSQL_PLAN Features 22: ['OPTIONS', 'OBJECT_NODE', 'OBJECT_OWNER', 'OBJECT_NAME', 'OBJECT_ALIAS', 'OBJECT_TYPE', 'OPTIMIZER', 'COST', 'CARDINALITY', 'BYTES', 'CPU_COST', 'IO_COST', 'TEMP_SPACE', 'TIME', 'QBLOCK_NAME']\n",
      "\n"
     ]
    }
   ],
   "source": [
    "def get_na_columns(df, headers):\n",
    "    \"\"\"\n",
    "    Return columns which consist of NAN values\n",
    "    \"\"\"\n",
    "    na_list = []\n",
    "    for head in headers:\n",
    "        if df[head].isnull().values.any():\n",
    "            na_list.append(head)\n",
    "    return na_list\n",
    "#\n",
    "print('N/A Columns\\n')\n",
    "print('\\nREP_VSQL_PLAN Features ' + str(len(rep_vsql_plan_df.columns)) + ': ' + str(get_na_columns(df=rep_vsql_plan_df,headers=rep_vsql_plan_df.columns)) + \"\\n\")\n",
    "#\n",
    "def fill_na(df):\n",
    "    \"\"\"\n",
    "    Replaces NA columns with 0s\n",
    "    \"\"\"\n",
    "    return df.fillna(0)\n",
    "#\n",
    "# Populating NaN values with amount '0'\n",
    "df = fill_na(df=rep_vsql_plan_df)"
   ]
  },
  {
   "cell_type": "markdown",
   "metadata": {},
   "source": [
    "### Feature Selection\n",
    "\n",
    "In this step, redundant features are dropped. Features are considered redundant if exhibit a standard devaition of 0 (meaning no change in value)."
   ]
  },
  {
   "cell_type": "code",
   "execution_count": 5,
   "metadata": {},
   "outputs": [
    {
     "name": "stdout",
     "output_type": "stream",
     "text": [
      "\n",
      "Shape before changes: [(98794, 22)]\n",
      "Shape after changes: [(98794, 22)]\n",
      "Dropped a total [0]\n",
      "\n",
      "After flatline column drop:\n",
      "(98794, 22)\n",
      "Index(['SQL_ID', 'PLAN_HASH_VALUE', 'ID', 'OPERATION', 'OPTIONS',\n",
      "       'OBJECT_NODE', 'OBJECT_OWNER', 'OBJECT_NAME', 'OBJECT_ALIAS',\n",
      "       'OBJECT_TYPE', 'OPTIMIZER', 'DEPTH', 'SEARCH_COLUMNS', 'COST',\n",
      "       'CARDINALITY', 'BYTES', 'CPU_COST', 'IO_COST', 'TEMP_SPACE', 'TIME',\n",
      "       'QBLOCK_NAME', 'TIMESTAMP'],\n",
      "      dtype='object')\n",
      "          SQL_ID PLAN_HASH_VALUE ID         OPERATION      OPTIONS  \\\n",
      "0  dxv968j0352kb       103598129  0  SELECT STATEMENT            0   \n",
      "1  dxv968j0352kb       103598129  1              SORT     GROUP BY   \n",
      "2  dxv968j0352kb       103598129  2    PX COORDINATOR            0   \n",
      "3  dxv968j0352kb       103598129  3           PX SEND  QC (RANDOM)   \n",
      "4  dxv968j0352kb       103598129  4              SORT     GROUP BY   \n",
      "\n",
      "  OBJECT_NODE OBJECT_OWNER OBJECT_NAME OBJECT_ALIAS OBJECT_TYPE  \\\n",
      "0           0            0           0            0           0   \n",
      "1           0            0           0            0           0   \n",
      "2           0            0           0            0           0   \n",
      "3      :Q1001          SYS    :TQ10001            0           0   \n",
      "4      :Q1001            0           0            0           0   \n",
      "\n",
      "          ...          SEARCH_COLUMNS COST CARDINALITY BYTES CPU_COST IO_COST  \\\n",
      "0         ...                       0  880           0     0        0       0   \n",
      "1         ...                       0    0           1    17        0       0   \n",
      "2         ...                       0    0           0     0        0       0   \n",
      "3         ...                       0    0           1    17        0       0   \n",
      "4         ...                       0    0           1    17        0       0   \n",
      "\n",
      "  TEMP_SPACE TIME QBLOCK_NAME            TIMESTAMP  \n",
      "0          0    0           0  2018-10-07 15:52:33  \n",
      "1          0    0       SEL$1  2018-10-07 15:52:33  \n",
      "2          0    0           0  2018-10-07 15:52:33  \n",
      "3          0    0           0  2018-10-07 15:52:33  \n",
      "4          0    0           0  2018-10-07 15:52:33  \n",
      "\n",
      "[5 rows x 22 columns]\n"
     ]
    }
   ],
   "source": [
    "def drop_flatline_columns(df):\n",
    "    columns = df.columns\n",
    "    flatline_features = []\n",
    "    for i in range(len(columns)):\n",
    "        try:\n",
    "            std = df[columns[i]].std()\n",
    "            if std == 0:\n",
    "                flatline_features.append(columns[i])\n",
    "        except:\n",
    "            pass\n",
    "    #\n",
    "    #print('Features which are considered flatline:\\n')\n",
    "    #for col in flatline_features:\n",
    "    #    print(col)\n",
    "    print('\\nShape before changes: [' + str(df.shape) + ']')\n",
    "    df = df.drop(columns=flatline_features)\n",
    "    print('Shape after changes: [' + str(df.shape) + ']')\n",
    "    print('Dropped a total [' + str(len(flatline_features)) + ']')\n",
    "    return df\n",
    "#\n",
    "df = drop_flatline_columns(df=df)\n",
    "print('\\nAfter flatline column drop:')\n",
    "print(df.shape)\n",
    "print(df.columns)\n",
    "print(df.head())"
   ]
  },
  {
   "cell_type": "markdown",
   "metadata": {},
   "source": [
    "### Floating point precision conversion\n",
    "\n",
    "Each column is converted into a column of type values which are floating point for higher precision."
   ]
  },
  {
   "cell_type": "code",
   "execution_count": 6,
   "metadata": {},
   "outputs": [
    {
     "name": "stdout",
     "output_type": "stream",
     "text": [
      "(98794, 22)\n",
      "(98794, 22)\n"
     ]
    }
   ],
   "source": [
    "print(df.shape)\n",
    "df[y_labels] = df[y_labels].astype(float)\n",
    "df[y_labels] = np.round(df[y_labels], 3) # rounds to 3 dp\n",
    "print(df.shape)"
   ]
  },
  {
   "cell_type": "markdown",
   "metadata": {},
   "source": [
    "### Label Encoding\n",
    "\n",
    "Converting labels/features into numerical representations"
   ]
  },
  {
   "cell_type": "code",
   "execution_count": 7,
   "metadata": {
    "scrolled": true
   },
   "outputs": [
    {
     "name": "stdout",
     "output_type": "stream",
     "text": [
      "Encoded labels:\n",
      "['OPERATION', 'OPTIONS', 'OBJECT_OWNER', 'OBJECT_NAME', 'OBJECT_ALIAS', 'OBJECT_TYPE', 'OPTIMIZER', 'QBLOCK_NAME']\n",
      "\n",
      "----------------------------------------------\n",
      "\n",
      "\n",
      "          SQL_ID PLAN_HASH_VALUE ID  OPERATION  OPTIONS OBJECT_NODE  \\\n",
      "0  dxv968j0352kb       103598129  0         28        0           0   \n",
      "1  dxv968j0352kb       103598129  1         30       14           0   \n",
      "2  dxv968j0352kb       103598129  2         24        0           0   \n",
      "3  dxv968j0352kb       103598129  3         26       26      :Q1001   \n",
      "4  dxv968j0352kb       103598129  4         30       14      :Q1001   \n",
      "\n",
      "   OBJECT_OWNER  OBJECT_NAME  OBJECT_ALIAS  OBJECT_TYPE         ...           \\\n",
      "0             0            0             0            0         ...            \n",
      "1             0            0             0            0         ...            \n",
      "2             0            0             0            0         ...            \n",
      "3             1           11             0            0         ...            \n",
      "4             0            0             0            0         ...            \n",
      "\n",
      "   SEARCH_COLUMNS   COST CARDINALITY  BYTES  CPU_COST  IO_COST  TEMP_SPACE  \\\n",
      "0               0  880.0         0.0    0.0       0.0      0.0         0.0   \n",
      "1               0    0.0         1.0   17.0       0.0      0.0         0.0   \n",
      "2               0    0.0         0.0    0.0       0.0      0.0         0.0   \n",
      "3               0    0.0         1.0   17.0       0.0      0.0         0.0   \n",
      "4               0    0.0         1.0   17.0       0.0      0.0         0.0   \n",
      "\n",
      "   TIME  QBLOCK_NAME            TIMESTAMP  \n",
      "0   0.0            0  2018-10-07 15:52:33  \n",
      "1   0.0            9  2018-10-07 15:52:33  \n",
      "2   0.0            0  2018-10-07 15:52:33  \n",
      "3   0.0            0  2018-10-07 15:52:33  \n",
      "4   0.0            0  2018-10-07 15:52:33  \n",
      "\n",
      "[5 rows x 22 columns]\n"
     ]
    }
   ],
   "source": [
    "def encode(df, encoded_labels):\n",
    "    for col in df.columns:\n",
    "        if col in encoded_labels:\n",
    "            le = preprocessing.LabelEncoder()\n",
    "            df[col] = le.fit_transform(df[col].astype(str))\n",
    "    return df\n",
    "#\n",
    "# Determine labels used for encoding\n",
    "encoded_labels = ['OPERATION','OPTIONS','OBJECT_OWNER','OBJECT_NAME','OBJECT_ALIAS','OBJECT_TYPE','OPTIMIZER','QBLOCK_NAME']\n",
    "df = encode(df=df, encoded_labels=encoded_labels)\n",
    "print('Encoded labels:\\n' + str(encoded_labels) + \"\\n\\n----------------------------------------------\\n\\n\")\n",
    "print(df.head())"
   ]
  },
  {
   "cell_type": "markdown",
   "metadata": {},
   "source": [
    "### Data Ordering\n",
    "\n",
    "Sorting of datasets in order of \n",
    "* TIMESTAMP\n",
    "* PLAN_HASH_VALUE\n",
    "* ID"
   ]
  },
  {
   "cell_type": "code",
   "execution_count": 8,
   "metadata": {},
   "outputs": [
    {
     "name": "stdout",
     "output_type": "stream",
     "text": [
      "              SQL_ID PLAN_HASH_VALUE ID  OPERATION  OPTIONS OBJECT_NODE  \\\n",
      "0      dxv968j0352kb       103598129  0         28        0           0   \n",
      "50644  dxv968j0352kb       103598129  0         28        0           0   \n",
      "1      dxv968j0352kb       103598129  1         30       14           0   \n",
      "50645  dxv968j0352kb       103598129  1         30       14           0   \n",
      "2      dxv968j0352kb       103598129  2         24        0           0   \n",
      "\n",
      "       OBJECT_OWNER  OBJECT_NAME  OBJECT_ALIAS  OBJECT_TYPE  \\\n",
      "0                 0            0             0            0   \n",
      "50644             0            0             0            0   \n",
      "1                 0            0             0            0   \n",
      "50645             0            0             0            0   \n",
      "2                 0            0             0            0   \n",
      "\n",
      "              ...           SEARCH_COLUMNS   COST CARDINALITY  BYTES  \\\n",
      "0             ...                        0  880.0         0.0    0.0   \n",
      "50644         ...                        0  880.0         0.0    0.0   \n",
      "1             ...                        0    0.0         1.0   17.0   \n",
      "50645         ...                        0    0.0         1.0   17.0   \n",
      "2             ...                        0    0.0         0.0    0.0   \n",
      "\n",
      "       CPU_COST  IO_COST  TEMP_SPACE  TIME  QBLOCK_NAME            TIMESTAMP  \n",
      "0           0.0      0.0         0.0   0.0            0  2018-10-07 15:52:33  \n",
      "50644       0.0      0.0         0.0   0.0            0  2018-10-07 15:52:33  \n",
      "1           0.0      0.0         0.0   0.0            9  2018-10-07 15:52:33  \n",
      "50645       0.0      0.0         0.0   0.0            9  2018-10-07 15:52:33  \n",
      "2           0.0      0.0         0.0   0.0            0  2018-10-07 15:52:33  \n",
      "\n",
      "[5 rows x 22 columns]\n"
     ]
    }
   ],
   "source": [
    "df.sort_values(by=['TIMESTAMP','PLAN_HASH_VALUE','ID'], ascending=True, inplace=True)\n",
    "print(df.head())"
   ]
  },
  {
   "cell_type": "markdown",
   "metadata": {},
   "source": [
    "### Access Plan Resource Aggregation\n",
    "\n",
    "This method attempts to tackle the problem of access plan anomolies by aggregating resources per explain plan. Notable resources which are being considered are as follows:\n",
    "\n",
    "* COST\n",
    "* CARDINALITY\n",
    "* BYTES\n",
    "* PARTITION_DELTA (Partition End - Partition Start)\n",
    "* CPU_COST\n",
    "* IO_COST\n",
    "* TEMP_SPACE\n",
    "* TIME\n",
    "\n",
    "The reasoning behind these fields in particular is mainly because these columns can be aggregated together."
   ]
  },
  {
   "cell_type": "code",
   "execution_count": 9,
   "metadata": {
    "scrolled": true
   },
   "outputs": [
    {
     "name": "stdout",
     "output_type": "stream",
     "text": [
      "Index(['SQL_ID', 'PLAN_HASH_VALUE', 'OPERATION', 'OPTIONS', 'OBJECT_OWNER',\n",
      "       'OBJECT_NAME', 'OBJECT_ALIAS', 'OBJECT_TYPE', 'OPTIMIZER', 'COST',\n",
      "       'CARDINALITY', 'BYTES', 'CPU_COST', 'IO_COST', 'TEMP_SPACE', 'TIME',\n",
      "       'QBLOCK_NAME'],\n",
      "      dtype='object')\n",
      "(270, 17)\n"
     ]
    }
   ],
   "source": [
    "print(df_aggregate.shape)\n",
    "df_aggregate = df.groupby(['SQL_ID','PLAN_HASH_VALUE']).sum()\n",
    "df_aggregate.reset_index(inplace=True)\n",
    "print(df_aggregate.columns)\n",
    "print(df_aggregate.shape)"
   ]
  }
 ],
 "metadata": {
  "kernelspec": {
   "display_name": "Python 3",
   "language": "python",
   "name": "python3"
  },
  "language_info": {
   "codemirror_mode": {
    "name": "ipython",
    "version": 3
   },
   "file_extension": ".py",
   "mimetype": "text/x-python",
   "name": "python",
   "nbconvert_exporter": "python",
   "pygments_lexer": "ipython3",
   "version": "3.6.6"
  }
 },
 "nbformat": 4,
 "nbformat_minor": 2
}
