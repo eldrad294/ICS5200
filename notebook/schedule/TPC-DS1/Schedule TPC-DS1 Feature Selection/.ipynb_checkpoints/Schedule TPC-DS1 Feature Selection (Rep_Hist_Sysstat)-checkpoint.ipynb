{
 "cells": [
  {
   "cell_type": "markdown",
   "metadata": {},
   "source": [
    "# Schedule TPC-DS 1 Feature Selection (REP_HIST_SYSSTAT)\n",
    "\n",
    "This notebook is dedicated to dataset profiling. In this notebook, feature selection techniques will be implemented so as to categorize which features belay the most information to address the problem at hand - Workload Prediction. Due to the vast feature space which have been gathered during a workload's execution, manual techniques at determining which are most detrimental is not sufficient. \n",
    "\n",
    "Therefore the following work puts emphasis on automated techniques so as to determine out of the vast feature space which are most important to base future models upon. "
   ]
  },
  {
   "cell_type": "code",
   "execution_count": 118,
   "metadata": {},
   "outputs": [],
   "source": [
    "# Module Import\n",
    "import pandas as pd\n",
    "import numpy as np\n",
    "import matplotlib.pyplot as plt\n",
    "from sklearn.feature_selection import SelectFromModel, SelectKBest, chi2, RFE\n",
    "from sklearn.preprocessing import RobustScaler, MinMaxScaler\n",
    "from sklearn.ensemble import RandomForestRegressor, GradientBoostingRegressor\n",
    "from sklearn.model_selection import train_test_split\n",
    "from sklearn import preprocessing\n",
    "from operator import itemgetter\n",
    "from sklearn.metrics import r2_score"
   ]
  },
  {
   "cell_type": "markdown",
   "metadata": {},
   "source": [
    "### Configuration Cell\n",
    "\n",
    "Tweak parametric changes from this cell to influence outcome of experiment\n",
    "\n",
    "* tpcds - Schema upon which to operate test\n",
    "* debug_mode - Determines whether to plot graphs or not, useful for development purposes\n",
    "* low_quartile_limit - Lower Quartile threshold to detect outliers\n",
    "* upper_quartile_limit - Upper Quartile threshold to detect outliers\n",
    "* test_split - Denotes which Data Split to operate under when it comes to training / validation\n",
    "* nrows - Number of rows to read from csv file\n",
    "* top_n_features - Number of top features to focus on\n",
    "* parallel_degree - Number of parallel threads to train models with"
   ]
  },
  {
   "cell_type": "code",
   "execution_count": 119,
   "metadata": {},
   "outputs": [],
   "source": [
    "# Experiment Config\n",
    "tpcds='TPCDS1'\n",
    "debug_mode=True \n",
    "low_quartile_limit = 0\n",
    "upper_quartile_limit = 1\n",
    "test_split=.3\n",
    "nrows=10000\n",
    "top_n_features=30\n",
    "parallel_degree=4"
   ]
  },
  {
   "cell_type": "markdown",
   "metadata": {},
   "source": [
    "### Read data from file into Pandas Dataframes"
   ]
  },
  {
   "cell_type": "code",
   "execution_count": 120,
   "metadata": {},
   "outputs": [],
   "source": [
    "# Root path\n",
    "root_dir = 'C:/Users/gabriel.sammut/University/Data_ICS5200/Schedule/' + tpcds\n",
    "#root_dir = 'D:/Projects/Datagenerated_ICS5200/Schedule/' + tpcds\n",
    "\n",
    "# Open Data\n",
    "rep_hist_sysstat_path = root_dir + '/rep_hist_sysstat.csv'\n",
    "\n",
    "rep_hist_sysstat_df = pd.read_csv(rep_hist_sysstat_path,nrows=nrows)\n",
    "\n",
    "def prettify_header(headers):\n",
    "    \"\"\"\n",
    "    Cleans header list from unwated character strings\n",
    "    \"\"\"\n",
    "    header_list = []\n",
    "    [header_list.append(header.replace(\"(\",\"\").replace(\")\",\"\").replace(\"'\",\"\").replace(\",\",\"\")) for header in headers]\n",
    "    return header_list\n",
    "\n",
    "rep_hist_sysstat_df.columns = prettify_header(rep_hist_sysstat_df.columns.values)"
   ]
  },
  {
   "cell_type": "markdown",
   "metadata": {},
   "source": [
    "# Dataset Description\n",
    "\n",
    "The correlation of resources consumed (y) per snapshot (X) define our feature space. Since the objective here is to attempt to predict what resources will be incurred ahead of time, the problem can be defined as a number of questions:\n",
    "\n",
    "* Q: What resources can I predict to be in usage at point N in time?\n",
    "* Q: What resources should I be predicting that accurately portray a schedule's workload?\n",
    "* Q: What knowledge/data do I have ahead of time which I can use to base my predictions off?\n",
    "\n",
    "Due to the vast feature space in the available metrics monitored and captured during a workload's execution, it is important to rank which attribute is most beneficial than others. Additionally, it is important to analyze such features individually, and considerate of other features in two types of analysis:\n",
    "\n",
    "* Univariate Analysis\n",
    "* Multivariate Analysis\n",
    "\n",
    "Furthermore, multiple types of feature ranking / analysis techniques ara available, amongst which will be considered:\n",
    "\n",
    "* Filter Methods\n",
    "* Wrapper Methods\n",
    "* Embedded Methods"
   ]
  },
  {
   "cell_type": "markdown",
   "metadata": {},
   "source": [
    "# Data Preprocessing\n",
    "\n",
    "We apply a number of preprocessing techniques to the presented dataframes, particularly to normalize and/or scale feature vectors into a more suitable representation for downstream estimators:\n",
    "\n",
    "Relative Links:\n",
    "* http://scikit-learn.org/stable/modules/preprocessing.html\n",
    "* https://machinelearningmastery.com/improve-model-accuracy-with-data-pre-processing/\n",
    "* https://machinelearningmastery.com/normalize-standardize-time-series-data-python/\n",
    "\n",
    "### Table Pivots\n",
    "\n",
    "To better handle the following table, a number of table pivots are made on tables:\n",
    "* rep_hist_sysstat"
   ]
  },
  {
   "cell_type": "code",
   "execution_count": 121,
   "metadata": {
    "scrolled": true
   },
   "outputs": [
    {
     "name": "stdout",
     "output_type": "stream",
     "text": [
      "Index(['SNAP_ID', 'ADG global flush', 'ADG parselock X get attempts',\n",
      "       'ADG parselock X get successes', 'BA au bytes allocated',\n",
      "       'BA bytes for file maps', 'BA bytes read from disk',\n",
      "       'BA bytes read from flash', 'BA count - borrowed from other node',\n",
      "       'BA count - cache denied',\n",
      "       ...\n",
      "       'user logouts cumulative', 'user rollbacks',\n",
      "       'very large tracked transactions', 'workarea executions - multipass',\n",
      "       'workarea executions - onepass', 'workarea executions - optimal',\n",
      "       'workarea memory allocated', 'write clones created for recovery',\n",
      "       'write clones created in background',\n",
      "       'write clones created in foreground'],\n",
      "      dtype='object', name='STAT_NAME', length=1179)\n",
      "REP_HIST_SYSSTAT_DF Shape: (9, 1179)\n",
      "Table [REP_HIST_SYSSTAT] - (9, 1179)\n"
     ]
    }
   ],
   "source": [
    "# Table REP_HIST_SYSSTAT\n",
    "rep_hist_sysstat_df = rep_hist_sysstat_df.pivot(index='SNAP_ID', columns='STAT_NAME', values='VALUE')\n",
    "rep_hist_sysstat_df.reset_index(inplace=True)\n",
    "print(rep_hist_sysstat_df.columns)\n",
    "rep_hist_sysstat_df[['SNAP_ID']] = rep_hist_sysstat_df[['SNAP_ID']].astype(int)\n",
    "rep_hist_sysstat_df.sort_values(by=['SNAP_ID'],inplace=True,ascending=True)\n",
    "print(\"REP_HIST_SYSSTAT_DF Shape: \" + str(rep_hist_sysstat_df.shape))\n",
    "\n",
    "# Refreshing columns with pivoted columns\n",
    "def convert_list_to_upper(col_list):\n",
    "    \"\"\"\n",
    "    Takes a string and converts elements to upper\n",
    "    \"\"\"\n",
    "    upper_col_list = []\n",
    "    for col in col_list:\n",
    "        upper_col_list.append(col.upper())\n",
    "    return upper_col_list\n",
    "\n",
    "rep_hist_sysstat_df.rename(str.upper, inplace=True, axis='columns')\n",
    "\n",
    "# DF Shape\n",
    "print('Table [REP_HIST_SYSSTAT] - ' + str(rep_hist_sysstat_df.shape))"
   ]
  },
  {
   "cell_type": "markdown",
   "metadata": {},
   "source": [
    "### Checking for NaN Values\n",
    "\n",
    "Checking dataframes for potential missing values/data:"
   ]
  },
  {
   "cell_type": "code",
   "execution_count": 122,
   "metadata": {
    "scrolled": true
   },
   "outputs": [
    {
     "name": "stdout",
     "output_type": "stream",
     "text": [
      "Table REP_HIST_SYSSTAT: ['CCURSOR + SQL AREA EVICTED', 'CLI FLSTASK CREATE', 'CLI BYTES FLS TO EXT', 'CLI BYTES FLS TO TABLE', 'CLUSTERWIDE GLOBAL TRANSACTIONS', 'CLUSTERWIDE GLOBAL TRANSACTIONS SPANNING RAC NODES', 'DDL STATEMENTS PARALLELIZED', 'DFO TREES PARALLELIZED', 'DML STATEMENTS PARALLELIZED', 'DX/BB ENQUEUE LOCK BACKGROUND GET TIME', 'DX/BB ENQUEUE LOCK BACKGROUND GETS', 'DX/BB ENQUEUE LOCK FOREGROUND REQUESTS', 'DX/BB ENQUEUE LOCK FOREGROUND WAIT TIME', 'EHCC ANALYZE CUS DECOMPRESSED', 'EHCC ANALYZER CALLS', 'EHCC ARCHIVE CUS COMPRESSED', 'EHCC ARCHIVE CUS DECOMPRESSED', 'EHCC ATTEMPTED BLOCK COMPRESSIONS', 'EHCC BLOCK COMPRESSIONS', 'EHCC CU ROW PIECES COMPRESSED', 'EHCC CUS COMPRESSED', 'EHCC CUS DECOMPRESSED', 'EHCC CUS ALL ROWS PASS MINMAX', 'EHCC CUS NO ROWS PASS MINMAX', 'EHCC CUS SOME ROWS PASS MINMAX', 'EHCC CHECK CUS DECOMPRESSED', 'EHCC COLUMNS DECOMPRESSED', 'EHCC COMPRESSED LENGTH COMPRESSED', 'EHCC COMPRESSED LENGTH DECOMPRESSED', 'EHCC CONVENTIONAL DMLS', 'EHCC DML CUS DECOMPRESSED', 'EHCC DECOMPRESSED LENGTH COMPRESSED', 'EHCC DECOMPRESSED LENGTH DECOMPRESSED', 'EHCC DUMP CUS DECOMPRESSED', 'EHCC NORMAL SCAN CUS DECOMPRESSED', 'EHCC PIECES BUFFERED FOR DECOMPRESSION', 'EHCC PREDS ALL ROWS PASS MINMAX', 'EHCC PREDS NO ROWS PASS MINMAX', 'EHCC PREDS SOME ROWS PASS MINMAX', 'EHCC QUERY HIGH CUS COMPRESSED', 'EHCC QUERY HIGH CUS DECOMPRESSED', 'EHCC QUERY LOW CUS COMPRESSED', 'EHCC QUERY LOW CUS DECOMPRESSED', 'EHCC ROWID CUS DECOMPRESSED', 'EHCC ROWS COMPRESSED', 'EHCC ROWS NOT COMPRESSED', 'EHCC TOTAL COLUMNS FOR DECOMPRESSION', 'EHCC TOTAL PIECES FOR DECOMPRESSION', 'EHCC TOTAL ROWS FOR DECOMPRESSION', 'EHCC TURBO SCAN CUS DECOMPRESSED', 'EHCC USED ON PILLAR TABLESPACE', 'EHCC USED ON ZFS TABLESPACE', 'FORWARDED 2PC COMMANDS ACROSS RAC NODES', 'GTX PROCESSES SPAWNED BY AUTOTUNE', 'GTX PROCESSES STOPPED BY AUTOTUNE', 'HSC COMPRESSED SEGMENT BLOCK CHANGES', 'HSC HEAP SEGMENT BLOCK CHANGES', 'HSC IDL COMPRESSED BLOCKS', 'HSC OLTP COMPRESSED BLOCKS', 'HSC OLTP COMPRESSION SKIPPED ROWS', 'HSC OLTP COMPRESSION WIDE COMPRESSED ROW PIECES', 'HSC OLTP DROP COLUMN', 'HSC OLTP NON COMPRESSIBLE BLOCKS', 'HSC OLTP SPACE SAVING', 'HSC OLTP COMPRESSION BLOCK CHECKED', 'HSC OLTP INLINE COMPRESSION', 'HSC OLTP NEGATIVE COMPRESSION', 'HSC OLTP POSITIVE COMPRESSION', 'HSC OLTP RECURSIVE COMPRESSION', 'HEAP SEGMENT ARRAY INSERTS', 'HEAP SEGMENT ARRAY UPDATES', 'HEATMAP BLKLEVEL FLUSH TASK CREATE', 'HEATMAP BLKLEVEL FLUSHED', 'HEATMAP BLKLEVEL FLUSHED TO BF', 'HEATMAP BLKLEVEL FLUSHED TO SYSAUX', 'HEATMAP BLKLEVEL NOT TRACKED - MEMORY', 'HEATMAP BLKLEVEL NOT UPDATED - REPEAT', 'HEATMAP BLKLEVEL RANGES FLUSHED', 'HEATMAP BLKLEVEL RANGES SKIPPED', 'HEATMAP BLKLEVEL TRACKED', 'HEATMAP BLKLEVEL FLUSH TASK COUNT', 'HEATMAP SEGLEVEL - FLUSH', 'HEATMAP SEGLEVEL - FULL TABLE SCAN', 'HEATMAP SEGLEVEL - INDEXLOOKUP', 'HEATMAP SEGLEVEL - SEGMENTS FLUSHED', 'HEATMAP SEGLEVEL - TABLELOOKUP', 'HEATMAP SEGLEVEL - WRITE', 'IM FETCHES BY ROWID FROM IMCU', 'IM FETCHES BY ROWID FROM DISK', 'IM FETCHES BY ROWID FROM FETCH LIST', 'IM FETCHES BY ROWID FROM JOURNAL', 'IM FETCHES BY ROWID ROW INVALID IN IMCU', 'IM POPULATE (FASTSTART) CUS ACCUMULATED WRITE TIME (MS)', 'IM POPULATE (FASTSTART) CUS BYTES READ', 'IM POPULATE (FASTSTART) CUS BYTES WRITTEN', 'IM POPULATE (FASTSTART) CUS READ', 'IM POPULATE (FASTSTART) CUS READ ATTEMPTS', 'IM POPULATE (FASTSTART) CUS VERIFIED', 'IM POPULATE (FASTSTART) CUS WALL CLOCK WRITE TIME (MS)', 'IM POPULATE (FASTSTART) CUS WRITE REQUESTS', 'IM POPULATE (FASTSTART) CUS WRITES', 'IM POPULATE (FASTSTART) ACCUMULATED TIME (MS)', 'IM POPULATE (FASTSTART) NUMBER OF INCOMPATIBLE SAVEPOINTS', 'IM POPULATE (FASTSTART) NUMBER OF INVALID SAVEPOINTS', 'IM POPULATE (FASTSTART) NUMBER OF SAVEPOINTS UPDATED', 'IM POPULATE CUS', 'IM POPULATE CUS CHAIN PIECES', 'IM POPULATE CUS COLUMNS', 'IM POPULATE CUS EMPTY', 'IM POPULATE CUS MEMCOMPRESS FOR CAPACITY HIGH', 'IM POPULATE CUS MEMCOMPRESS FOR CAPACITY LOW', 'IM POPULATE CUS MEMCOMPRESS FOR DML', 'IM POPULATE CUS MEMCOMPRESS FOR QUERY HIGH', 'IM POPULATE CUS MEMCOMPRESS FOR QUERY LOW', 'IM POPULATE CUS NO MEMCOMPRESS', 'IM POPULATE CUS REQUESTED', 'IM POPULATE CUS RESUBMITTED', 'IM POPULATE ACCUMULATED TIME (MS)', 'IM POPULATE BLOCKS INVALID', 'IM POPULATE BYTES FROM STORAGE', 'IM POPULATE BYTES IN-MEMORY DATA', 'IM POPULATE BYTES UNCOMPRESSED DATA', 'IM POPULATE ROWS', 'IM POPULATE SEGMENTS', 'IM POPULATE SEGMENTS REQUESTED', 'IM POPULATE TRANSACTIONS ACTIVE', 'IM POPULATE TRANSACTIONS CHECK', 'IM POPULATE UNDO RECORDS APPLIED', 'IM POPULATE UNDO SEGHEADER ROLLBACK', 'IM PREPOPULATE CUS', 'IM PREPOPULATE CUS CHAIN PIECES', 'IM PREPOPULATE CUS COLUMNS', 'IM PREPOPULATE CUS EMPTY', 'IM PREPOPULATE CUS MEMCOMPRESS FOR CAPACITY HIGH', 'IM PREPOPULATE CUS MEMCOMPRESS FOR CAPACITY LOW', 'IM PREPOPULATE CUS MEMCOMPRESS FOR DML', 'IM PREPOPULATE CUS MEMCOMPRESS FOR QUERY HIGH', 'IM PREPOPULATE CUS MEMCOMPRESS FOR QUERY LOW', 'IM PREPOPULATE CUS NO MEMCOMPRESS', 'IM PREPOPULATE CUS REQUESTED', 'IM PREPOPULATE CUS RESUBMITTED', 'IM PREPOPULATE ACCUMULATED TIME (MS)', 'IM PREPOPULATE BYTES FROM STORAGE', 'IM PREPOPULATE BYTES IN-MEMORY DATA', 'IM PREPOPULATE BYTES UNCOMPRESSED DATA', 'IM PREPOPULATE ROWS', 'IM PREPOPULATE SEGMENTS', 'IM PREPOPULATE SEGMENTS REQUESTED', 'IM RAC CUS INVALID', 'IM RAC BLOCKS INVALID', 'IM REPOPULATE (SCAN) CUS', 'IM REPOPULATE (SCAN) CUS REQUESTED', 'IM REPOPULATE (SCAN) CUS RESUBMITTED', 'IM REPOPULATE (TRICKLE) CUS', 'IM REPOPULATE (TRICKLE) CUS CHAIN PIECES', 'IM REPOPULATE (TRICKLE) CUS COLUMNS', 'IM REPOPULATE (TRICKLE) CUS EMPTY', 'IM REPOPULATE (TRICKLE) CUS MEMCOMPRESS FOR CAPACITY HIGH', 'IM REPOPULATE (TRICKLE) CUS MEMCOMPRESS FOR CAPACITY LOW', 'IM REPOPULATE (TRICKLE) CUS MEMCOMPRESS FOR DML', 'IM REPOPULATE (TRICKLE) CUS MEMCOMPRESS FOR QUERY HIGH', 'IM REPOPULATE (TRICKLE) CUS MEMCOMPRESS FOR QUERY LOW', 'IM REPOPULATE (TRICKLE) CUS NO MEMCOMPRESS', 'IM REPOPULATE (TRICKLE) CUS REQUESTED', 'IM REPOPULATE (TRICKLE) CUS RESUBMITTED', 'IM REPOPULATE (TRICKLE) ACCUMULATED TIME (MS)', 'IM REPOPULATE (TRICKLE) BYTES FROM STORAGE', 'IM REPOPULATE (TRICKLE) BYTES IN-MEMORY DATA', 'IM REPOPULATE (TRICKLE) BYTES UNCOMPRESSED DATA', 'IM REPOPULATE (TRICKLE) ROWS', 'IM REPOPULATE CUS', 'IM REPOPULATE CUS CHAIN PIECES', 'IM REPOPULATE CUS COLUMNS', 'IM REPOPULATE CUS EMPTY', 'IM REPOPULATE CUS MEMCOMPRESS FOR CAPACITY HIGH', 'IM REPOPULATE CUS MEMCOMPRESS FOR CAPACITY LOW', 'IM REPOPULATE CUS MEMCOMPRESS FOR DML', 'IM REPOPULATE CUS MEMCOMPRESS FOR QUERY HIGH', 'IM REPOPULATE CUS MEMCOMPRESS FOR QUERY LOW', 'IM REPOPULATE CUS NO MEMCOMPRESS', 'IM REPOPULATE CUS REQUESTED', 'IM REPOPULATE CUS RESUBMITTED', 'IM REPOPULATE ACCUMULATED TIME (MS)', 'IM REPOPULATE BLOCKS INVALID', 'IM REPOPULATE BYTES FROM STORAGE', 'IM REPOPULATE BYTES IN-MEMORY DATA', 'IM REPOPULATE BYTES UNCOMPRESSED DATA', 'IM REPOPULATE ROWS', 'IM REPOPULATE SEGMENTS', 'IM REPOPULATE SEGMENTS REQUESTED', 'IM REPOPULATE TRANSACTIONS ACTIVE', 'IM REPOPULATE TRANSACTIONS CHECK', 'IM REPOPULATE UNDO RECORDS APPLIED', 'IM REPOPULATE UNDO SEGHEADER ROLLBACK', 'IM SCAN CUS CLEANOUT', 'IM SCAN CUS COLUMN NOT IN MEMORY', 'IM SCAN CUS COLUMNS ACCESSED', 'IM SCAN CUS COLUMNS DECOMPRESSED', 'IM SCAN CUS COLUMNS THEORETICAL MAX', 'IM SCAN CUS FAILED TO REGET PIN', 'IM SCAN CUS INVALID', 'IM SCAN CUS INVALID (ALL ROWS ARE INVALID)', 'IM SCAN CUS INVALID OR MISSING REVERT TO ON DISK EXTENT', 'IM SCAN CUS MEMCOMPRESS FOR CAPACITY HIGH', 'IM SCAN CUS MEMCOMPRESS FOR CAPACITY LOW', 'IM SCAN CUS MEMCOMPRESS FOR DML', 'IM SCAN CUS MEMCOMPRESS FOR QUERY HIGH', 'IM SCAN CUS MEMCOMPRESS FOR QUERY LOW', 'IM SCAN CUS NO CLEANOUT', 'IM SCAN CUS NO MEMCOMPRESS', 'IM SCAN CUS NO ROLLBACK', 'IM SCAN CUS OPTIMIZED READ', 'IM SCAN CUS PREDICATES APPLIED', 'IM SCAN CUS PREDICATES OPTIMIZED', 'IM SCAN CUS PREDICATES RECEIVED', 'IM SCAN CUS PRUNED', 'IM SCAN CUS ROLLBACK', 'IM SCAN CUS SPLIT PIECES', 'IM SCAN CUS UNDO RECORDS APPLIED', 'IM SCAN BLOCKS CACHE', 'IM SCAN BYTES IN-MEMORY', 'IM SCAN BYTES UNCOMPRESSED', 'IM SCAN FETCHES JOURNAL', 'IM SCAN FOUND INVALID SMU', 'IM SCAN INVALID ALL BLOCKS', 'IM SCAN JOURNAL', 'IM SCAN JOURNAL CLEANOUT', 'IM SCAN JOURNAL NO CLEANOUT', 'IM SCAN ROWS', 'IM SCAN ROWS CACHE', 'IM SCAN ROWS DISCONTINUOUS', 'IM SCAN ROWS EXCLUDED', 'IM SCAN ROWS JOURNAL', 'IM SCAN ROWS JOURNAL TOTAL', 'IM SCAN ROWS OPTIMIZED', 'IM SCAN ROWS PROJECTED', 'IM SCAN ROWS RANGE EXCLUDED', 'IM SCAN ROWS VALID', 'IM SCAN SEGMENTS DISK', 'IM SCAN SEGMENTS MINMAX ELIGIBLE', 'IM SPACE CU BYTES ALLOCATED', 'IM SPACE CU BYTES FREED', 'IM SPACE CU CREATIONS COMMITTED', 'IM SPACE CU CREATIONS INITIATED', 'IM SPACE CU EXTENTS ALLOCATED', 'IM SPACE CU EXTENTS FREED', 'IM SPACE SMU BYTES ALLOCATED', 'IM SPACE SMU BYTES FREED', 'IM SPACE SMU CREATIONS COMMITTED', 'IM SPACE SMU CREATIONS INITIATED', 'IM SPACE SMU EXTENTS ALLOCATED', 'IM SPACE SMU EXTENTS FREED', 'IM SPACE PRIVATE JOURNAL BYTES ALLOCATED', 'IM SPACE PRIVATE JOURNAL BYTES FREED', 'IM SPACE PRIVATE JOURNAL EXTENTS ALLOCATED', 'IM SPACE PRIVATE JOURNAL EXTENTS FREED', 'IM SPACE PRIVATE JOURNAL SEGMENTS ALLOCATED', 'IM SPACE PRIVATE JOURNAL SEGMENTS FREED', 'IM SPACE SEGMENTS ALLOCATED', 'IM SPACE SEGMENTS FREED', 'IM SPACE SHARED JOURNAL BYTES ALLOCATED', 'IM SPACE SHARED JOURNAL BYTES FREED', 'IM SPACE SHARED JOURNAL EXTENTS ALLOCATED', 'IM SPACE SHARED JOURNAL EXTENTS FREED', 'IM SPACE SHARED JOURNAL SEGMENTS ALLOCATED', 'IM SPACE SHARED JOURNAL SEGMENTS FREED', 'IM TRANSACTIONS', 'IM TRANSACTIONS CU CLEANOUT', 'IM TRANSACTIONS CUS INVALID', 'IM TRANSACTIONS BLOCKS INVALIDATED', 'IM TRANSACTIONS DOWNGRADE MODE', 'IM TRANSACTIONS FOUND INVALID CU', 'IM TRANSACTIONS JOURNAL CLEANOUT', 'IM TRANSACTIONS ROWS INVALIDATED', 'IM TRANSACTIONS ROWS JOURNALED', 'IM ZZZZ SPARE1', 'IM ZZZZ SPARE10', 'IM ZZZZ SPARE2', 'IM ZZZZ SPARE3', 'IM ZZZZ SPARE4', 'IM ZZZZ SPARE5', 'IM ZZZZ SPARE6', 'IM ZZZZ SPARE7', 'IM ZZZZ SPARE8', 'IM ZZZZ SPARE9', 'KTFB ALLOC MYINST', 'KTFB ALLOC REQ', 'KTFB ALLOC SEARCH FFB', 'KTFB ALLOC SPACE (BLOCK)', 'KTFB ALLOC STEAL', 'KTFB ALLOC TIME (MS)', 'KTFB APPLY REQ', 'KTFB APPLY TIME (MS)', 'KTFB COMMIT REQ', 'KTFB COMMIT TIME (MS)', 'KTFB FREE REQ', 'KTFB FREE SPACE (BLOCK)', 'KTFB FREE TIME (MS)', 'LOB TABLE ID LOOKUP CACHE MISSES', 'NO. OF DECRYPT OPS', 'NO. OF ENCRYPT OPS', 'NO. OF NAMESPACES CREATED', 'NO. OF PRINCIPAL CACHE MISSES', 'NO. OF PRINCIPAL INVALIDATIONS', 'NO. OF ROLES ENABLED OR DISABLED', 'NO. OF USER CALLBACKS EXECUTED', 'NO. OF XS SESSIONS ATTACHED', 'NO. OF XS SESSIONS CREATED', 'NUMBER OF FORMAT_PRESERVING REDACTIONS', 'NUMBER OF FULL REDACTIONS', 'NUMBER OF NONE REDACTIONS', 'NUMBER OF PARTIAL REDACTIONS', 'NUMBER OF RANDOM REDACTIONS', 'NUMBER OF REGEXP REDACTIONS', 'OLAP AGGREGATE FUNCTION CALC', 'OLAP AGGREGATE FUNCTION LOGICAL NA', 'OLAP AGGREGATE FUNCTION PRECOMPUTE', 'OLAP CUSTOM MEMBER LIMIT', 'OLAP ENGINE CALLS', 'OLAP FAST LIMIT', 'OLAP FULL LIMIT', 'OLAP GID LIMIT', 'OLAP INHIER LIMIT', 'OLAP IMPORT ROWS LOADED', 'OLAP IMPORT ROWS PUSHED', 'OLAP LIMIT TIME', 'OLAP PAGING MANAGER CACHE CHANGED PAGE', 'OLAP PAGING MANAGER CACHE HIT', 'OLAP PAGING MANAGER CACHE MISS', 'OLAP PAGING MANAGER CACHE WRITE', 'OLAP PAGING MANAGER NEW PAGE', 'OLAP PAGING MANAGER POOL SIZE', 'OLAP PERM LOB READ', 'OLAP ROW ID LIMIT', 'OLAP ROW LOAD TIME', 'OLAP ROW SOURCE ROWS PROCESSED', 'OLAP SESSION CACHE HIT', 'OLAP SESSION CACHE MISS', 'OLAP TEMP SEGMENT READ', 'OLAP TEMP SEGMENTS', 'OLAP UNIQUE KEY ATTRIBUTE LIMIT', 'OS BLOCK INPUT OPERATIONS', 'OS BLOCK OUTPUT OPERATIONS', 'OS INTEGRAL SHARED TEXT SIZE', 'OS INTEGRAL UNSHARED DATA SIZE', 'OS INTEGRAL UNSHARED STACK SIZE', 'OS INVOLUNTARY CONTEXT SWITCHES', 'OS MAXIMUM RESIDENT SET SIZE', 'OS PAGE FAULTS', 'OS PAGE RECLAIMS', 'OS SIGNALS RECEIVED', 'OS SOCKET MESSAGES RECEIVED', 'OS SOCKET MESSAGES SENT', 'OS SWAPS', 'OS SYSTEM TIME USED', 'OS USER TIME USED', 'OS VOLUNTARY CONTEXT SWITCHES', 'OTC COMMIT OPTIMIZATION ATTEMPTS', 'OTC COMMIT OPTIMIZATION FAILURE - SETUP', 'OTC COMMIT OPTIMIZATION HITS', \"PX LOCAL MESSAGES RECV'D\", 'PX LOCAL MESSAGES SENT', \"PX REMOTE MESSAGES RECV'D\", 'PX REMOTE MESSAGES SENT', 'PARALLEL OPERATIONS DOWNGRADED 1 TO 25 PCT', 'PARALLEL OPERATIONS DOWNGRADED 25 TO 50 PCT', 'PARALLEL OPERATIONS DOWNGRADED 50 TO 75 PCT', 'PARALLEL OPERATIONS DOWNGRADED 75 TO 99 PCT', 'PARALLEL OPERATIONS DOWNGRADED TO SERIAL', 'PARALLEL OPERATIONS NOT DOWNGRADED', 'SMON POSTED FOR DROPPING TEMP SEGMENT', 'SMON POSTED FOR INSTANCE RECOVERY', 'SMON POSTED FOR TXN RECOVERY FOR OTHER INSTANCES', 'SMON POSTED FOR UNDO SEGMENT RECOVERY', 'SMON POSTED FOR UNDO SEGMENT SHRINK', 'SQL*NET ROUNDTRIPS TO/FROM CLIENT', 'SQL*NET ROUNDTRIPS TO/FROM DBLINK', 'SECUREFILES COPY FROM DBFS LINK', 'SECUREFILES DBFS LINK OPERATIONS', 'SECUREFILES DBFS LINK OVERWRITES', 'SECUREFILES DBFS LINK STREAMING READS', 'SECUREFILES GET DBFS LINK REFERENCE', 'SECUREFILES IMPLICIT COPY FROM DBFS LINK', 'SECUREFILES MOVE TO DBFS LINK', 'SECUREFILES PUT DBFS LINK REFERENCE', 'TBS EXTENSION: BYTES EXTENDED', 'TBS EXTENSION: FILES EXTENDED', 'TBS EXTENSION: TASKS CREATED', 'TBS EXTENSION: TASKS EXECUTED', 'WORKLOAD CAPTURE: DBTIME', 'WORKLOAD CAPTURE: ERRORS', 'WORKLOAD CAPTURE: SIZE (IN BYTES) OF RECORDING', 'WORKLOAD CAPTURE: UNREPLAYABLE USER CALLS', 'WORKLOAD CAPTURE: UNSUPPORTED USER CALLS', 'WORKLOAD CAPTURE: USER CALLS', 'WORKLOAD CAPTURE: USER CALLS FLUSHED', 'WORKLOAD CAPTURE: USER LOGINS', 'WORKLOAD CAPTURE: USER TXNS', 'WORKLOAD REPLAY: DBTIME', 'WORKLOAD REPLAY: DEADLOCKS RESOLVED', 'WORKLOAD REPLAY: NETWORK TIME', 'WORKLOAD REPLAY: THINK TIME', 'WORKLOAD REPLAY: TIME GAIN', 'WORKLOAD REPLAY: TIME LOSS', 'WORKLOAD REPLAY: USER CALLS', 'BACKUP COMPRESSED DATA WRITTEN LOCALLY', 'BACKUP COMPRESSED DATA WRITTEN REMOTELY', 'BACKUP DATA COMPRESSED LOCALLY', 'BACKUP DATA COMPRESSED REMOTELY', 'BACKUP PIECE LOCAL PROCESSING TIME', 'BACKUP PIECE REMOTE PROCESSING TIME', 'BACKUP PIECES COMPRESSED LOCALLY', 'BACKUP PIECES COMPRESSED REMOTELY', 'BRANCH NODE SPLITS', 'BUFFER IS NOT PINNED COUNT', 'BUFFER IS PINNED COUNT', 'BYTES RECEIVED VIA SQL*NET FROM CLIENT', 'BYTES RECEIVED VIA SQL*NET FROM DBLINK', 'BYTES SENT VIA SQL*NET TO CLIENT', 'BYTES SENT VIA SQL*NET TO DBLINK', 'BYTES VIA SQL*NET VECTOR FROM CLIENT', 'BYTES VIA SQL*NET VECTOR FROM DBLINK', 'BYTES VIA SQL*NET VECTOR TO CLIENT', 'BYTES VIA SQL*NET VECTOR TO DBLINK', 'CELL CUS PROCESSED FOR COMPRESSED', 'CELL CUS PROCESSED FOR UNCOMPRESSED', 'CELL CUS SENT COMPRESSED', 'CELL CUS SENT HEAD PIECE', 'CELL CUS SENT UNCOMPRESSED', 'CELL IO UNCOMPRESSED BYTES', 'CELL BLOCKS HELPED BY COMMIT CACHE', 'CELL BLOCKS HELPED BY MINSCN OPTIMIZATION', 'CELL BLOCKS PROCESSED BY CACHE LAYER', 'CELL BLOCKS PROCESSED BY DATA LAYER', 'CELL BLOCKS PROCESSED BY INDEX LAYER', 'CELL BLOCKS PROCESSED BY TXN LAYER', 'CELL COMMIT CACHE QUERIES', 'CELL FLASH CACHE READ HITS', 'CELL INDEX SCANS', 'CELL LOGICAL WRITE IO REQUESTS', 'CELL LOGICAL WRITE IO REQUESTS ELIGIBLE FOR OFFLOAD', 'CELL PHYSICAL WRITE IO BYTES ELIGIBLE FOR OFFLOAD', 'CELL PHYSICAL WRITE IO HOST NETWORK BYTES WRITTEN DURING OFFLOA', 'CELL SCANS', 'CELL SIMULATED PHYSICAL IO BYTES ELIGIBLE FOR PREDICATE OFFLOAD', 'CELL SIMULATED PHYSICAL IO BYTES RETURNED BY PREDICATE OFFLOAD', 'CELL TRANSACTIONS FOUND IN COMMIT CACHE', 'CHAINED ROWS PROCESSED BY CELL', 'CHAINED ROWS REJECTED BY CELL', 'CHAINED ROWS SKIPPED BY CELL', 'CLUSTER KEY SCAN BLOCK GETS', 'CLUSTER KEY SCANS', 'CURSOR AUTHENTICATIONS', 'CURSOR RELOAD FAILURES', 'ERROR COUNT CLEARED BY CELL', 'EXECUTE COUNT', 'FAILED PROBES ON INDEX BLOCK RECLAMATION', 'FILTERED BLOCKS FAILED BLOCK CHECK', 'FRAME SIGNATURE MISMATCH', 'HEAP BLOCK COMPRESS', 'INDEX CMPH GENCU, UNCOMP SENTINALS', 'INDEX CMPH LD, CU FIT', 'INDEX CMPH LD, CU FIT, ADD ROWS', 'INDEX CMPH LD, CU NEGATIVE COMP', 'INDEX CMPH LD, CU OVER-EST', 'INDEX CMPH LD, CU UNDER-EST', 'INDEX CMPH LD, LF BLKS FLUSHED', 'INDEX CMPH LD, LF BLKS W/ UND CU', 'INDEX CMPH LD, LF BLKS W/O CU', 'INDEX CMPH LD, LF BLKS W/O UNC R', 'INDEX CMPH LD, RETRY IN OVER-EST', 'INDEX CMPH LD, ROWS COMPRESSED', 'INDEX CMPH LD, ROWS UNCOMPRESSED', 'INDEX CMPH SP, LEAF BLOCK 90_10 SPLITS FAILED', 'INDEX CMPH SP, LEAF BLOCK SPLITS AVOIDED', 'INDEX CMPL CO, PREFIX MISMATCH', 'INDEX CMPL RO, BLOCKS NOT COMPRESSED', 'INDEX CMPL RO, PREFIX CHANGE AT BLOCK', 'INDEX CMPL RO, PREFIX NO CHANGE AT BLOCK', 'INDEX CMPL RO, REORG AVOID LOAD NEW BLOCK', 'INDEX CMPL RO, REORG AVOID SPLIT', 'INDEX CRX UPGRADE (FOUND)', 'INDEX CRX UPGRADE (POSITIONED)', 'INDEX CRX UPGRADE (PREFETCH)', 'INDEX FAST FULL SCANS (DIRECT READ)', 'INDEX FAST FULL SCANS (FULL)', 'INDEX FAST FULL SCANS (ROWID RANGES)', 'INDEX FETCH BY KEY', 'INDEX RECLAMATION/EXTENSION SWITCH', 'INDEX SCANS KDIIXS1', 'JAVA CALL HEAP COLLECTED BYTES', 'JAVA CALL HEAP COLLECTED COUNT', 'JAVA CALL HEAP GC COUNT', 'JAVA CALL HEAP LIVE OBJECT COUNT', 'JAVA CALL HEAP LIVE OBJECT COUNT MAX', 'JAVA CALL HEAP LIVE SIZE', 'JAVA CALL HEAP LIVE SIZE MAX', 'JAVA CALL HEAP OBJECT COUNT', 'JAVA CALL HEAP OBJECT COUNT MAX', 'JAVA CALL HEAP TOTAL SIZE', 'JAVA CALL HEAP TOTAL SIZE MAX', 'JAVA CALL HEAP USED SIZE', 'JAVA CALL HEAP USED SIZE MAX', 'JAVA SESSION HEAP COLLECTED BYTES', 'JAVA SESSION HEAP COLLECTED COUNT', 'JAVA SESSION HEAP GC COUNT', 'JAVA SESSION HEAP LIVE OBJECT COUNT', 'JAVA SESSION HEAP LIVE OBJECT COUNT MAX', 'JAVA SESSION HEAP LIVE SIZE', 'JAVA SESSION HEAP LIVE SIZE MAX', 'JAVA SESSION HEAP OBJECT COUNT', 'JAVA SESSION HEAP OBJECT COUNT MAX', 'JAVA SESSION HEAP USED SIZE', 'JAVA SESSION HEAP USED SIZE MAX', 'LEAF NODE 90-10 SPLITS', 'LEAF NODE SPLITS', 'LOB READS', 'LOB WRITES', 'LOB WRITES UNALIGNED', 'NO BUFFER TO KEEP PINNED COUNT', 'PARSE COUNT (DESCRIBE)', 'PARSE COUNT (FAILURES)', 'PARSE COUNT (HARD)', 'PARSE COUNT (TOTAL)', 'PARSE TIME CPU', 'PARSE TIME ELAPSED', 'QUERIES PARALLELIZED', 'QUEUE FLUSH', 'QUEUE OCP PAGES', 'QUEUE POSITION UPDATE', 'QUEUE QNO PAGES', 'QUEUE SINGLE ROW', 'QUEUE SPLITS', 'QUEUE UPDATE WITHOUT CP UPDATE', 'RECURSIVE ABORTS ON INDEX BLOCK RECLAMATION', 'ROOT NODE SPLITS', 'ROWS FETCHED VIA CALLBACK', 'SAGE SEND BLOCK BY CELL', 'SECUREFILE ADD DEDUPD LOB TO SET', 'SECUREFILE ALLOCATION BYTES', 'SECUREFILE ALLOCATION CHUNKS', 'SECUREFILE BYTES CLEARTEXT', 'SECUREFILE BYTES DEDUPLICATED', 'SECUREFILE BYTES ENCRYPTED', 'SECUREFILE BYTES NON-TRANSFORMED', 'SECUREFILE COMPRESSED BYTES', 'SECUREFILE CREATE DEDUP SET', 'SECUREFILE DEDUP CALLBACK OPER FINAL', 'SECUREFILE DEDUP FITS INLINE', 'SECUREFILE DEDUP FLUSH TOO LOW', 'SECUREFILE DEDUP HASH COLLISION', 'SECUREFILE DEDUP PREFIX HASH MATCH', 'SECUREFILE DEDUP WAPP CACHE MISS', 'SECUREFILE DESTROY DEDUP SET', 'SECUREFILE DIRECT READ BYTES', 'SECUREFILE DIRECT READ OPS', 'SECUREFILE DIRECT WRITE BYTES', 'SECUREFILE DIRECT WRITE OPS', 'SECUREFILE INODE IOREAP TIME', 'SECUREFILE INODE READ TIME', 'SECUREFILE INODE WRITE TIME', 'SECUREFILE NUMBER OF FLUSHES', 'SECUREFILE NUMBER OF NON-TRANSFORMED FLUSHES', 'SECUREFILE REJECT DEDUPLICATION', 'SECUREFILE RMV FROM DEDUP SET', 'SECUREFILE UNCOMPRESSED BYTES', 'SEGMENT CFS ALLOCATIONS', 'SEGMENT CHUNKS ALLOCATION FROM DISEPNSER', 'SEGMENT DISPENSER ALLOCATIONS', 'SEGMENT DISPENSER LOAD EMPTY', 'SEGMENT DISPENSER LOAD TASKS', 'SEGMENT PREALLOC BYTES', 'SEGMENT PREALLOC OPS', 'SEGMENT PREALLOC TASKS', 'SEGMENT PREALLOC TIME (MS)', 'SEGMENT PREALLOC UFS2CFS BYTES', 'SEGMENT TOTAL CHUNK ALLOCATION', 'SESSION CURSOR CACHE COUNT', 'SESSION CURSOR CACHE HITS', 'SESSION LOGICAL READS - IM', 'SORTS (DISK)', 'SORTS (MEMORY)', 'SORTS (ROWS)', 'SQL AREA EVICTED', 'SQL AREA PURGED', 'TABLE FETCH BY ROWID', 'TABLE FETCH CONTINUED ROW', 'TABLE SCAN BLOCKS GOTTEN', 'TABLE SCAN DISK IMC FALLBACK', 'TABLE SCAN DISK NON-IMC ROWS GOTTEN', 'TABLE SCAN ROWS GOTTEN', 'TABLE SCANS (IM)', 'TABLE SCANS (CACHE PARTITIONS)', 'TABLE SCANS (DIRECT READ)', 'TABLE SCANS (LONG TABLES)', 'TABLE SCANS (ROWID RANGES)', 'TABLE SCANS (SHORT TABLES)', 'TOTAL NUMBER OF TIMES SMON POSTED', 'WORKAREA EXECUTIONS - MULTIPASS', 'WORKAREA EXECUTIONS - ONEPASS', 'WORKAREA EXECUTIONS - OPTIMAL', 'WORKAREA MEMORY ALLOCATED']\n",
      "\n",
      "\n"
     ]
    }
   ],
   "source": [
    "def get_na_columns(df):\n",
    "    \"\"\"\n",
    "    Return columns which consist of NAN values\n",
    "    \"\"\"\n",
    "    na_list = []\n",
    "    for head in df.columns:\n",
    "        if df[head].isnull().values.any():\n",
    "            na_list.append(head)\n",
    "    return na_list\n",
    "\n",
    "print(\"Table REP_HIST_SYSSTAT: \" + str(get_na_columns(df=rep_hist_sysstat_df)) + \"\\n\\n\")\n",
    "\n",
    "def fill_na(df):\n",
    "    \"\"\"\n",
    "    Replaces NA columns with 0s\n",
    "    \"\"\"\n",
    "    return df.fillna(0)\n",
    "\n",
    "# Populating NaN values with amount '0'\n",
    "rep_hist_sysstat_df = fill_na(df=rep_hist_sysstat_df)"
   ]
  },
  {
   "cell_type": "markdown",
   "metadata": {},
   "source": [
    "### Label Encoding\n",
    "\n",
    "Since this experiment deals with prediction of upcoming SQL_IDs, respectice SQL_ID strings need to labelled as a numeric representation. Label Encoder will be used here to convert SQL_ID's into a numeric format, which are in turn used for training. Evaluation (achieved predictions) is done so also in numeric format, at which point the label encoder is eventually used to decode back the labels into the original, respetive SQL_ID representation.\n",
    "\n",
    "This section of the experiment additionally converts the targetted label into a binarized version of the previous achieved categorical numeric values.\n",
    "\n",
    "* https://machinelearningmastery.com/why-one-hot-encode-data-in-machine-learning/\n",
    "* https://scikit-learn.org/stable/modules/generated/sklearn.preprocessing.OneHotEncoder.html\n",
    "* https://scikit-learn.org/stable/modules/generated/sklearn.preprocessing.LabelBinarizer.html"
   ]
  },
  {
   "cell_type": "code",
   "execution_count": 123,
   "metadata": {},
   "outputs": [
    {
     "name": "stdout",
     "output_type": "stream",
     "text": [
      "----------BEFORE----------\n",
      "(9, 1179)\n",
      "STAT_NAME  SNAP_ID  ADG GLOBAL FLUSH  ADG PARSELOCK X GET ATTEMPTS  \\\n",
      "0            43414               0.0                           0.0   \n",
      "1            43415               0.0                           0.0   \n",
      "2            43416               0.0                           0.0   \n",
      "3            43417               0.0                           0.0   \n",
      "4            43418               0.0                           0.0   \n",
      "5            43419               0.0                           0.0   \n",
      "6            43420               0.0                           0.0   \n",
      "7            43421               0.0                           0.0   \n",
      "8            43422               0.0                           0.0   \n",
      "\n",
      "STAT_NAME  ADG PARSELOCK X GET SUCCESSES  BA AU BYTES ALLOCATED  \\\n",
      "0                                    0.0                    0.0   \n",
      "1                                    0.0                    0.0   \n",
      "2                                    0.0                    0.0   \n",
      "3                                    0.0                    0.0   \n",
      "4                                    0.0                    0.0   \n",
      "5                                    0.0                    0.0   \n",
      "6                                    0.0                    0.0   \n",
      "7                                    0.0                    0.0   \n",
      "8                                    0.0                    0.0   \n",
      "\n",
      "STAT_NAME  BA BYTES FOR FILE MAPS  BA BYTES READ FROM DISK  \\\n",
      "0                             0.0                      0.0   \n",
      "1                             0.0                      0.0   \n",
      "2                             0.0                      0.0   \n",
      "3                             0.0                      0.0   \n",
      "4                             0.0                      0.0   \n",
      "5                             0.0                      0.0   \n",
      "6                             0.0                      0.0   \n",
      "7                             0.0                      0.0   \n",
      "8                             0.0                      0.0   \n",
      "\n",
      "STAT_NAME  BA BYTES READ FROM FLASH  BA COUNT - BORROWED FROM OTHER NODE  \\\n",
      "0                               0.0                                  0.0   \n",
      "1                               0.0                                  0.0   \n",
      "2                               0.0                                  0.0   \n",
      "3                               0.0                                  0.0   \n",
      "4                               0.0                                  0.0   \n",
      "5                               0.0                                  0.0   \n",
      "6                               0.0                                  0.0   \n",
      "7                               0.0                                  0.0   \n",
      "8                               0.0                                  0.0   \n",
      "\n",
      "STAT_NAME  BA COUNT - CACHE DENIED                 ...                  \\\n",
      "0                              0.0                 ...                   \n",
      "1                              0.0                 ...                   \n",
      "2                              0.0                 ...                   \n",
      "3                              0.0                 ...                   \n",
      "4                              0.0                 ...                   \n",
      "5                              0.0                 ...                   \n",
      "6                              0.0                 ...                   \n",
      "7                              0.0                 ...                   \n",
      "8                              0.0                 ...                   \n",
      "\n",
      "STAT_NAME  USER LOGOUTS CUMULATIVE  USER ROLLBACKS  \\\n",
      "0                        9824348.0        565424.0   \n",
      "1                        9824401.0        565424.0   \n",
      "2                        9825032.0        565425.0   \n",
      "3                        9825794.0        565425.0   \n",
      "4                        9826506.0        565437.0   \n",
      "5                        9826554.0        565485.0   \n",
      "6                        9826605.0        565538.0   \n",
      "7                        9827249.0        565552.0   \n",
      "8                        9828000.0        565552.0   \n",
      "\n",
      "STAT_NAME  VERY LARGE TRACKED TRANSACTIONS  WORKAREA EXECUTIONS - MULTIPASS  \\\n",
      "0                                      0.0                             10.0   \n",
      "1                                      0.0                             10.0   \n",
      "2                                      0.0                             10.0   \n",
      "3                                      0.0                             10.0   \n",
      "4                                      0.0                             10.0   \n",
      "5                                      0.0                             10.0   \n",
      "6                                      0.0                             10.0   \n",
      "7                                      0.0                             10.0   \n",
      "8                                      0.0                              0.0   \n",
      "\n",
      "STAT_NAME  WORKAREA EXECUTIONS - ONEPASS  WORKAREA EXECUTIONS - OPTIMAL  \\\n",
      "0                               240397.0                    200167436.0   \n",
      "1                               240399.0                    200168755.0   \n",
      "2                               240409.0                    200179918.0   \n",
      "3                               240429.0                    200193197.0   \n",
      "4                               240441.0                    200205150.0   \n",
      "5                               240441.0                    200206187.0   \n",
      "6                               240441.0                    200206829.0   \n",
      "7                               240453.0                    200217711.0   \n",
      "8                                    0.0                            0.0   \n",
      "\n",
      "STAT_NAME  WORKAREA MEMORY ALLOCATED  WRITE CLONES CREATED FOR RECOVERY  \\\n",
      "0                           159860.0                                0.0   \n",
      "1                            17009.0                                0.0   \n",
      "2                           560402.0                                0.0   \n",
      "3                           537399.0                                0.0   \n",
      "4                                0.0                                0.0   \n",
      "5                                0.0                                0.0   \n",
      "6                            26810.0                                0.0   \n",
      "7                           335446.0                                0.0   \n",
      "8                                0.0                                0.0   \n",
      "\n",
      "STAT_NAME  WRITE CLONES CREATED IN BACKGROUND  \\\n",
      "0                                      5268.0   \n",
      "1                                      5268.0   \n",
      "2                                      5268.0   \n",
      "3                                      5268.0   \n",
      "4                                      5268.0   \n",
      "5                                      5268.0   \n",
      "6                                      5268.0   \n",
      "7                                      5268.0   \n",
      "8                                      5268.0   \n",
      "\n",
      "STAT_NAME  WRITE CLONES CREATED IN FOREGROUND  \n",
      "0                                   4362747.0  \n",
      "1                                   4362747.0  \n",
      "2                                   4362748.0  \n",
      "3                                   4362749.0  \n",
      "4                                   4362749.0  \n",
      "5                                   4362749.0  \n",
      "6                                   4362749.0  \n",
      "7                                   4362749.0  \n",
      "8                                   4362749.0  \n",
      "\n",
      "[9 rows x 1179 columns]\n",
      "----------AFTER----------\n",
      "(9, 1179)\n",
      "STAT_NAME  SNAP_ID  ADG GLOBAL FLUSH  ADG PARSELOCK X GET ATTEMPTS  \\\n",
      "0            43414               0.0                           0.0   \n",
      "1            43415               0.0                           0.0   \n",
      "2            43416               0.0                           0.0   \n",
      "3            43417               0.0                           0.0   \n",
      "4            43418               0.0                           0.0   \n",
      "5            43419               0.0                           0.0   \n",
      "6            43420               0.0                           0.0   \n",
      "7            43421               0.0                           0.0   \n",
      "8            43422               0.0                           0.0   \n",
      "\n",
      "STAT_NAME  ADG PARSELOCK X GET SUCCESSES  BA AU BYTES ALLOCATED  \\\n",
      "0                                    0.0                    0.0   \n",
      "1                                    0.0                    0.0   \n",
      "2                                    0.0                    0.0   \n",
      "3                                    0.0                    0.0   \n",
      "4                                    0.0                    0.0   \n",
      "5                                    0.0                    0.0   \n",
      "6                                    0.0                    0.0   \n",
      "7                                    0.0                    0.0   \n",
      "8                                    0.0                    0.0   \n",
      "\n",
      "STAT_NAME  BA BYTES FOR FILE MAPS  BA BYTES READ FROM DISK  \\\n",
      "0                             0.0                      0.0   \n",
      "1                             0.0                      0.0   \n",
      "2                             0.0                      0.0   \n",
      "3                             0.0                      0.0   \n",
      "4                             0.0                      0.0   \n",
      "5                             0.0                      0.0   \n",
      "6                             0.0                      0.0   \n",
      "7                             0.0                      0.0   \n",
      "8                             0.0                      0.0   \n",
      "\n",
      "STAT_NAME  BA BYTES READ FROM FLASH  BA COUNT - BORROWED FROM OTHER NODE  \\\n",
      "0                               0.0                                  0.0   \n",
      "1                               0.0                                  0.0   \n",
      "2                               0.0                                  0.0   \n",
      "3                               0.0                                  0.0   \n",
      "4                               0.0                                  0.0   \n",
      "5                               0.0                                  0.0   \n",
      "6                               0.0                                  0.0   \n",
      "7                               0.0                                  0.0   \n",
      "8                               0.0                                  0.0   \n",
      "\n",
      "STAT_NAME  BA COUNT - CACHE DENIED                 ...                  \\\n",
      "0                              0.0                 ...                   \n",
      "1                              0.0                 ...                   \n",
      "2                              0.0                 ...                   \n",
      "3                              0.0                 ...                   \n",
      "4                              0.0                 ...                   \n",
      "5                              0.0                 ...                   \n",
      "6                              0.0                 ...                   \n",
      "7                              0.0                 ...                   \n",
      "8                              0.0                 ...                   \n",
      "\n",
      "STAT_NAME  USER LOGOUTS CUMULATIVE  USER ROLLBACKS  \\\n",
      "0                        9824348.0        565424.0   \n",
      "1                        9824401.0        565424.0   \n",
      "2                        9825032.0        565425.0   \n",
      "3                        9825794.0        565425.0   \n",
      "4                        9826506.0        565437.0   \n",
      "5                        9826554.0        565485.0   \n",
      "6                        9826605.0        565538.0   \n",
      "7                        9827249.0        565552.0   \n",
      "8                        9828000.0        565552.0   \n",
      "\n",
      "STAT_NAME  VERY LARGE TRACKED TRANSACTIONS  WORKAREA EXECUTIONS - MULTIPASS  \\\n",
      "0                                      0.0                             10.0   \n",
      "1                                      0.0                             10.0   \n",
      "2                                      0.0                             10.0   \n",
      "3                                      0.0                             10.0   \n",
      "4                                      0.0                             10.0   \n",
      "5                                      0.0                             10.0   \n",
      "6                                      0.0                             10.0   \n",
      "7                                      0.0                             10.0   \n",
      "8                                      0.0                              0.0   \n",
      "\n",
      "STAT_NAME  WORKAREA EXECUTIONS - ONEPASS  WORKAREA EXECUTIONS - OPTIMAL  \\\n",
      "0                               240397.0                    200167436.0   \n",
      "1                               240399.0                    200168755.0   \n",
      "2                               240409.0                    200179918.0   \n",
      "3                               240429.0                    200193197.0   \n",
      "4                               240441.0                    200205150.0   \n",
      "5                               240441.0                    200206187.0   \n",
      "6                               240441.0                    200206829.0   \n",
      "7                               240453.0                    200217711.0   \n",
      "8                                    0.0                            0.0   \n",
      "\n",
      "STAT_NAME  WORKAREA MEMORY ALLOCATED  WRITE CLONES CREATED FOR RECOVERY  \\\n",
      "0                           159860.0                                0.0   \n",
      "1                            17009.0                                0.0   \n",
      "2                           560402.0                                0.0   \n",
      "3                           537399.0                                0.0   \n",
      "4                                0.0                                0.0   \n",
      "5                                0.0                                0.0   \n",
      "6                            26810.0                                0.0   \n",
      "7                           335446.0                                0.0   \n",
      "8                                0.0                                0.0   \n",
      "\n",
      "STAT_NAME  WRITE CLONES CREATED IN BACKGROUND  \\\n",
      "0                                      5268.0   \n",
      "1                                      5268.0   \n",
      "2                                      5268.0   \n",
      "3                                      5268.0   \n",
      "4                                      5268.0   \n",
      "5                                      5268.0   \n",
      "6                                      5268.0   \n",
      "7                                      5268.0   \n",
      "8                                      5268.0   \n",
      "\n",
      "STAT_NAME  WRITE CLONES CREATED IN FOREGROUND  \n",
      "0                                   4362747.0  \n",
      "1                                   4362747.0  \n",
      "2                                   4362748.0  \n",
      "3                                   4362749.0  \n",
      "4                                   4362749.0  \n",
      "5                                   4362749.0  \n",
      "6                                   4362749.0  \n",
      "7                                   4362749.0  \n",
      "8                                   4362749.0  \n",
      "\n",
      "[9 rows x 1179 columns]\n"
     ]
    }
   ],
   "source": [
    "class LabelEncoder:\n",
    "    \"\"\"\n",
    "    Scikit Label Encoder was acting up with the following error whilst using the transform function, even though I tripled \n",
    "    checked that the passed data was exactly the same as the one used for training:\n",
    "    \n",
    "    * https://stackoverflow.com/questions/46288517/getting-valueerror-y-contains-new-labels-when-using-scikit-learns-labelencoder\n",
    "    \n",
    "    So I have rebuilt a similar functionality to categorize my data into numeric digits, as the LabelEncoder is supposed to do.\n",
    "    \"\"\"\n",
    "    #\n",
    "    def __init__(self):\n",
    "        self.__class_map = {}\n",
    "        self.__integer_counter = 0\n",
    "    #\n",
    "    def fit(self, X):\n",
    "        \"\"\"\n",
    "        :param - X: python list\n",
    "        \"\"\"\n",
    "        for val in X:\n",
    "            if val not in self.__class_map:\n",
    "                self.__class_map[val] = self.__integer_counter\n",
    "                self.__integer_counter += 1\n",
    "    #\n",
    "    def transform(self, X):\n",
    "        \"\"\"\n",
    "        param - X: python list\n",
    "        \"\"\"\n",
    "        encoded_map = []\n",
    "        for val in X:\n",
    "            if val in self.__class_map:\n",
    "                value = self.__class_map[val]\n",
    "                encoded_map.append(value)\n",
    "            else:\n",
    "                raise ValueError('Label Mismatch - Encountered a label which was not trained on.')\n",
    "        return encoded_map\n",
    "    #\n",
    "    def get_class_map(self):\n",
    "        \"\"\"\n",
    "        Returns original classes as a list\n",
    "        \"\"\"\n",
    "        class_map = []\n",
    "        for key, value in self.__class_map.items():\n",
    "            class_map.append(key)\n",
    "        return class_map\n",
    "    #\n",
    "    def get_encoded_map(self):\n",
    "        \"\"\"\n",
    "        Returns class encodings as a list\n",
    "        \"\"\"\n",
    "        encoded_map = []\n",
    "        for key, value in self.__class_map.items():\n",
    "            encoded_map.append(value)\n",
    "        return encoded_map\n",
    "\n",
    "print('-'*10 + 'BEFORE' + '-'*10)\n",
    "print(rep_hist_sysstat_df.shape)\n",
    "print(rep_hist_sysstat_df.head(10))\n",
    "\n",
    "for col in rep_hist_sysstat_df.columns:\n",
    "    first_ten_vals = rep_hist_sysstat_df[col].iloc[0:nrows]\n",
    "    try:\n",
    "        for val in first_ten_vals:\n",
    "            val = int(val)\n",
    "        continue  # If value is type casted successfully, then move on to the next value since it doesn't require label encoding\n",
    "    except ValueError:\n",
    "        le = LabelEncoder()  # Encode column with labels\n",
    "        val_list = rep_hist_sysstat_df[col].tolist()\n",
    "        le.fit(val_list)\n",
    "        transformed_map = le.transform(val_list)\n",
    "        rep_hist_sysstat_df[col] = pd.DataFrame(transformed_map, columns=[col])\n",
    "\n",
    "print('-'*10 + 'AFTER' + '-'*10)\n",
    "print(rep_hist_sysstat_df.shape)\n",
    "print(rep_hist_sysstat_df.head(10))"
   ]
  },
  {
   "cell_type": "markdown",
   "metadata": {},
   "source": [
    "### Checking for Negative Values\n",
    "\n",
    "A function which retrieves a count per column for nay negative values it might contain"
   ]
  },
  {
   "cell_type": "code",
   "execution_count": 124,
   "metadata": {
    "scrolled": false
   },
   "outputs": [
    {
     "name": "stdout",
     "output_type": "stream",
     "text": [
      "---------------WITH NEGATIVE VALUES---------------\n",
      "Table REP_HIST_SYSSTAT: []\n",
      "\n",
      "\n",
      "\n",
      "\n",
      "---------------WITHOUT NEGATIVE VALUES---------------\n",
      "Table REP_HIST_SYSSTAT: []\n",
      "\n",
      "\n"
     ]
    }
   ],
   "source": [
    "class NegativeHandler:\n",
    "    \"\"\"\n",
    "    This class contains logic pertaining to handling of negative values.\n",
    "    \"\"\"\n",
    "\n",
    "    def __init__(self, df):\n",
    "        \"\"\"\n",
    "        Class constructor.\n",
    "        :param df:      (Pandas) Data matrix containing data.\n",
    "        :return: None\n",
    "        \"\"\"\n",
    "        self.__df = df\n",
    "        self.__headers = df.columns\n",
    "\n",
    "    def count_neg_df(self):\n",
    "        \"\"\"\n",
    "        Return columns with respective negative value count.\n",
    "        :return: (List) Retrieves list of row positions denoting negative occurance.\n",
    "        \"\"\"\n",
    "        neg_list = []\n",
    "        for head in self.__headers:\n",
    "            count = 0\n",
    "            try:\n",
    "                count = sum(n < 0 for n in self.__df[head].values.flatten())\n",
    "            except Exception:\n",
    "                pass\n",
    "                #print('Non numeric column [' + head + ']')\n",
    "            if count > 0:\n",
    "                neg_list.append([head,count])\n",
    "        return neg_list\n",
    "\n",
    "    def fill_neg(self):\n",
    "        \"\"\"\n",
    "        Sets any data anomilies resulting in negative values to 0\n",
    "        :return: (Pandas) Dataframe with ammended negative values.\n",
    "        \"\"\"\n",
    "        headers = self.count_neg_df()\n",
    "        df = self.__df\n",
    "        for head in headers:\n",
    "            try:\n",
    "                df[df[head] < 0] = 0\n",
    "            except Exception:\n",
    "                pass\n",
    "                #print('Non numeric column [' + head + ']')\n",
    "        return df\n",
    "\n",
    "nh = NegativeHandler(df=rep_hist_sysstat_df)\n",
    "\n",
    "# Check For Negative Values within dataframes\n",
    "print('---------------WITH NEGATIVE VALUES---------------')\n",
    "print(\"Table REP_HIST_SYSSTAT: \" + str(nh.count_neg_df()) + \"\\n\\n\")\n",
    "\n",
    "# Replace Negative Values with a minimal threshold of 0\n",
    "rep_hist_sysstat_df = nh.fill_neg()\n",
    "\n",
    "# Check For Negative Values within dataframes\n",
    "print('\\n\\n---------------WITHOUT NEGATIVE VALUES---------------')\n",
    "print(\"Table REP_HIST_SYSSTAT: \" + str(nh.count_neg_df()) + \"\\n\\n\")"
   ]
  },
  {
   "cell_type": "markdown",
   "metadata": {},
   "source": [
    "### Redundant Feature Removal\n",
    "\n",
    "In this step, redundant features are dropped. Features are considered redundant if exhibit a standard devaition of 0 (meaning no change in value)."
   ]
  },
  {
   "cell_type": "code",
   "execution_count": 125,
   "metadata": {},
   "outputs": [
    {
     "name": "stdout",
     "output_type": "stream",
     "text": [
      "Dropping feature [ADG GLOBAL FLUSH]\n",
      "Dropping feature [ADG PARSELOCK X GET ATTEMPTS]\n",
      "Dropping feature [ADG PARSELOCK X GET SUCCESSES]\n",
      "Dropping feature [BA AU BYTES ALLOCATED]\n",
      "Dropping feature [BA BYTES FOR FILE MAPS]\n",
      "Dropping feature [BA BYTES READ FROM DISK]\n",
      "Dropping feature [BA BYTES READ FROM FLASH]\n",
      "Dropping feature [BA COUNT - BORROWED FROM OTHER NODE]\n",
      "Dropping feature [BA COUNT - CACHE DENIED]\n",
      "Dropping feature [BA COUNT - CACHE MISS]\n",
      "Dropping feature [BA COUNT - SEARCHED IN PB]\n",
      "Dropping feature [BA COUNT - SHORT CIRCUIT IN IDN]\n",
      "Dropping feature [BA COUNT - TOTAL ALLOCATION REQUESTS]\n",
      "Dropping feature [BA COUNT - UNABLE TO SHORT CIRCUIT IN IDN]\n",
      "Dropping feature [BA COUNT WHEN 10% OF BUCKETS IN PB]\n",
      "Dropping feature [BA COUNT WHEN 25% OF BUCKETS IN PB]\n",
      "Dropping feature [BA COUNT WHEN 50% OF BUCKETS IN PB]\n",
      "Dropping feature [BA COUNT WHEN 75% OF BUCKETS IN PB]\n",
      "Dropping feature [BA COUNT WHEN 90% OF BUCKETS IN PB]\n",
      "Dropping feature [BA FILE BYTES ALLOCATED]\n",
      "Dropping feature [BA FILE BYTES DELETED]\n",
      "Dropping feature [BA FILES CREATED COUNT]\n",
      "Dropping feature [BA FILES DELETED COUNT]\n",
      "Dropping feature [BA FLASH BYTES REQUESTED]\n",
      "Dropping feature [BA NON-FLASH BYTES REQUESTED]\n",
      "Dropping feature [BA SPARE STATISTIC 1]\n",
      "Dropping feature [BA SPARE STATISTIC 10]\n",
      "Dropping feature [BA SPARE STATISTIC 11]\n",
      "Dropping feature [BA SPARE STATISTIC 12]\n",
      "Dropping feature [BA SPARE STATISTIC 2]\n",
      "Dropping feature [BA SPARE STATISTIC 3]\n",
      "Dropping feature [BA SPARE STATISTIC 4]\n",
      "Dropping feature [BA SPARE STATISTIC 5]\n",
      "Dropping feature [BA SPARE STATISTIC 6]\n",
      "Dropping feature [BA SPARE STATISTIC 7]\n",
      "Dropping feature [BA SPARE STATISTIC 8]\n",
      "Dropping feature [BA SPARE STATISTIC 9]\n",
      "Dropping feature [BATCHED IO ZERO BLOCK COUNT]\n",
      "Dropping feature [CLI BG FLS DONE]\n",
      "Dropping feature [CLI BUF WRT]\n",
      "Dropping feature [CLI CLIENT FLUSH]\n",
      "Dropping feature [CLI IMM WRT]\n",
      "Dropping feature [CLI PRVTZ LOB ]\n",
      "Dropping feature [CLI SGA ALLOC]\n",
      "Dropping feature [CLI THRU WRT]\n",
      "Dropping feature [CLI BYTES FLS TO EXT]\n",
      "Dropping feature [CLUSTERWIDE GLOBAL TRANSACTIONS]\n",
      "Dropping feature [CLUSTERWIDE GLOBAL TRANSACTIONS SPANNING RAC NODES]\n",
      "Dropping feature [DBWR FUSION WRITES]\n",
      "Dropping feature [DBWR LRU SCANS]\n",
      "Dropping feature [DBWR PARALLEL QUERY CHECKPOINT BUFFERS WRITTEN]\n",
      "Dropping feature [DBWR REVISITED BEING-WRITTEN BUFFER]\n",
      "Dropping feature [DBWR TABLESPACE CHECKPOINT BUFFERS WRITTEN]\n",
      "Dropping feature [DBWR THREAD CHECKPOINT BUFFERS WRITTEN]\n",
      "Dropping feature [DML STATEMENTS PARALLELIZED]\n",
      "Dropping feature [DX/BB ENQUEUE LOCK BACKGROUND GET TIME]\n",
      "Dropping feature [DX/BB ENQUEUE LOCK BACKGROUND GETS]\n",
      "Dropping feature [DX/BB ENQUEUE LOCK FOREGROUND REQUESTS]\n",
      "Dropping feature [DX/BB ENQUEUE LOCK FOREGROUND WAIT TIME]\n",
      "Dropping feature [EHCC ANALYZE CUS DECOMPRESSED]\n",
      "Dropping feature [EHCC ANALYZER CALLS]\n",
      "Dropping feature [EHCC ARCHIVE CUS COMPRESSED]\n",
      "Dropping feature [EHCC ARCHIVE CUS DECOMPRESSED]\n",
      "Dropping feature [EHCC ATTEMPTED BLOCK COMPRESSIONS]\n",
      "Dropping feature [EHCC BLOCK COMPRESSIONS]\n",
      "Dropping feature [EHCC CU ROW PIECES COMPRESSED]\n",
      "Dropping feature [EHCC CUS COMPRESSED]\n",
      "Dropping feature [EHCC CUS DECOMPRESSED]\n",
      "Dropping feature [EHCC CUS ALL ROWS PASS MINMAX]\n",
      "Dropping feature [EHCC CUS NO ROWS PASS MINMAX]\n",
      "Dropping feature [EHCC CUS SOME ROWS PASS MINMAX]\n",
      "Dropping feature [EHCC CHECK CUS DECOMPRESSED]\n",
      "Dropping feature [EHCC COLUMNS DECOMPRESSED]\n",
      "Dropping feature [EHCC COMPRESSED LENGTH COMPRESSED]\n",
      "Dropping feature [EHCC COMPRESSED LENGTH DECOMPRESSED]\n",
      "Dropping feature [EHCC CONVENTIONAL DMLS]\n",
      "Dropping feature [EHCC DML CUS DECOMPRESSED]\n",
      "Dropping feature [EHCC DECOMPRESSED LENGTH COMPRESSED]\n",
      "Dropping feature [EHCC DECOMPRESSED LENGTH DECOMPRESSED]\n",
      "Dropping feature [EHCC DUMP CUS DECOMPRESSED]\n",
      "Dropping feature [EHCC NORMAL SCAN CUS DECOMPRESSED]\n",
      "Dropping feature [EHCC PIECES BUFFERED FOR DECOMPRESSION]\n",
      "Dropping feature [EHCC PREDS ALL ROWS PASS MINMAX]\n",
      "Dropping feature [EHCC PREDS NO ROWS PASS MINMAX]\n",
      "Dropping feature [EHCC PREDS SOME ROWS PASS MINMAX]\n",
      "Dropping feature [EHCC QUERY HIGH CUS COMPRESSED]\n",
      "Dropping feature [EHCC QUERY HIGH CUS DECOMPRESSED]\n",
      "Dropping feature [EHCC QUERY LOW CUS COMPRESSED]\n",
      "Dropping feature [EHCC QUERY LOW CUS DECOMPRESSED]\n",
      "Dropping feature [EHCC ROWID CUS DECOMPRESSED]\n",
      "Dropping feature [EHCC ROWS COMPRESSED]\n",
      "Dropping feature [EHCC ROWS NOT COMPRESSED]\n",
      "Dropping feature [EHCC TOTAL COLUMNS FOR DECOMPRESSION]\n",
      "Dropping feature [EHCC TOTAL PIECES FOR DECOMPRESSION]\n",
      "Dropping feature [EHCC TOTAL ROWS FOR DECOMPRESSION]\n",
      "Dropping feature [EHCC TURBO SCAN CUS DECOMPRESSED]\n",
      "Dropping feature [EHCC USED ON PILLAR TABLESPACE]\n",
      "Dropping feature [EHCC USED ON ZFS TABLESPACE]\n",
      "Dropping feature [FORWARDED 2PC COMMANDS ACROSS RAC NODES]\n",
      "Dropping feature [GTX PROCESSES SPAWNED BY AUTOTUNE]\n",
      "Dropping feature [GTX PROCESSES STOPPED BY AUTOTUNE]\n",
      "Dropping feature [HSC COMPRESSED SEGMENT BLOCK CHANGES]\n",
      "Dropping feature [HSC OLTP COMPRESSED BLOCKS]\n",
      "Dropping feature [HSC OLTP COMPRESSION SKIPPED ROWS]\n",
      "Dropping feature [HSC OLTP COMPRESSION WIDE COMPRESSED ROW PIECES]\n",
      "Dropping feature [HSC OLTP DROP COLUMN]\n",
      "Dropping feature [HSC OLTP NON COMPRESSIBLE BLOCKS]\n",
      "Dropping feature [HSC OLTP SPACE SAVING]\n",
      "Dropping feature [HSC OLTP COMPRESSION BLOCK CHECKED]\n",
      "Dropping feature [HSC OLTP INLINE COMPRESSION]\n",
      "Dropping feature [HSC OLTP NEGATIVE COMPRESSION]\n",
      "Dropping feature [HSC OLTP POSITIVE COMPRESSION]\n",
      "Dropping feature [HSC OLTP RECURSIVE COMPRESSION]\n",
      "Dropping feature [HEATMAP BLKLEVEL FLUSH TASK CREATE]\n",
      "Dropping feature [HEATMAP BLKLEVEL FLUSHED TO SYSAUX]\n",
      "Dropping feature [HEATMAP BLKLEVEL NOT TRACKED - MEMORY]\n",
      "Dropping feature [HEATMAP BLKLEVEL NOT UPDATED - REPEAT]\n",
      "Dropping feature [HEATMAP BLKLEVEL RANGES SKIPPED]\n",
      "Dropping feature [HEATMAP BLKLEVEL TRACKED]\n",
      "Dropping feature [HEATMAP SEGLEVEL - FLUSH]\n",
      "Dropping feature [HEATMAP SEGLEVEL - FULL TABLE SCAN]\n",
      "Dropping feature [HEATMAP SEGLEVEL - INDEXLOOKUP]\n",
      "Dropping feature [HEATMAP SEGLEVEL - SEGMENTS FLUSHED]\n",
      "Dropping feature [HEATMAP SEGLEVEL - TABLELOOKUP]\n",
      "Dropping feature [HEATMAP SEGLEVEL - WRITE]\n",
      "Dropping feature [IM FETCHES BY ROWID FROM IMCU]\n",
      "Dropping feature [IM FETCHES BY ROWID FROM DISK]\n",
      "Dropping feature [IM FETCHES BY ROWID FROM FETCH LIST]\n",
      "Dropping feature [IM FETCHES BY ROWID FROM JOURNAL]\n",
      "Dropping feature [IM FETCHES BY ROWID ROW INVALID IN IMCU]\n",
      "Dropping feature [IM POPULATE (FASTSTART) CUS ACCUMULATED WRITE TIME (MS)]\n",
      "Dropping feature [IM POPULATE (FASTSTART) CUS BYTES READ]\n",
      "Dropping feature [IM POPULATE (FASTSTART) CUS BYTES WRITTEN]\n",
      "Dropping feature [IM POPULATE (FASTSTART) CUS READ]\n",
      "Dropping feature [IM POPULATE (FASTSTART) CUS READ ATTEMPTS]\n",
      "Dropping feature [IM POPULATE (FASTSTART) CUS VERIFIED]\n",
      "Dropping feature [IM POPULATE (FASTSTART) CUS WALL CLOCK WRITE TIME (MS)]\n",
      "Dropping feature [IM POPULATE (FASTSTART) CUS WRITE REQUESTS]\n",
      "Dropping feature [IM POPULATE (FASTSTART) CUS WRITES]\n",
      "Dropping feature [IM POPULATE (FASTSTART) ACCUMULATED TIME (MS)]\n",
      "Dropping feature [IM POPULATE (FASTSTART) NUMBER OF INCOMPATIBLE SAVEPOINTS]\n",
      "Dropping feature [IM POPULATE (FASTSTART) NUMBER OF INVALID SAVEPOINTS]\n",
      "Dropping feature [IM POPULATE (FASTSTART) NUMBER OF SAVEPOINTS UPDATED]\n",
      "Dropping feature [IM POPULATE CUS]\n",
      "Dropping feature [IM POPULATE CUS CHAIN PIECES]\n",
      "Dropping feature [IM POPULATE CUS COLUMNS]\n",
      "Dropping feature [IM POPULATE CUS EMPTY]\n",
      "Dropping feature [IM POPULATE CUS MEMCOMPRESS FOR CAPACITY HIGH]\n",
      "Dropping feature [IM POPULATE CUS MEMCOMPRESS FOR CAPACITY LOW]\n",
      "Dropping feature [IM POPULATE CUS MEMCOMPRESS FOR DML]\n",
      "Dropping feature [IM POPULATE CUS MEMCOMPRESS FOR QUERY HIGH]\n",
      "Dropping feature [IM POPULATE CUS MEMCOMPRESS FOR QUERY LOW]\n",
      "Dropping feature [IM POPULATE CUS NO MEMCOMPRESS]\n",
      "Dropping feature [IM POPULATE CUS REQUESTED]\n",
      "Dropping feature [IM POPULATE CUS RESUBMITTED]\n",
      "Dropping feature [IM POPULATE ACCUMULATED TIME (MS)]\n",
      "Dropping feature [IM POPULATE BLOCKS INVALID]\n",
      "Dropping feature [IM POPULATE BYTES FROM STORAGE]\n",
      "Dropping feature [IM POPULATE BYTES IN-MEMORY DATA]\n",
      "Dropping feature [IM POPULATE BYTES UNCOMPRESSED DATA]\n",
      "Dropping feature [IM POPULATE ROWS]\n",
      "Dropping feature [IM POPULATE SEGMENTS]\n",
      "Dropping feature [IM POPULATE SEGMENTS REQUESTED]\n",
      "Dropping feature [IM POPULATE TRANSACTIONS ACTIVE]\n",
      "Dropping feature [IM POPULATE TRANSACTIONS CHECK]\n",
      "Dropping feature [IM POPULATE UNDO RECORDS APPLIED]\n",
      "Dropping feature [IM POPULATE UNDO SEGHEADER ROLLBACK]\n",
      "Dropping feature [IM PREPOPULATE CUS]\n",
      "Dropping feature [IM PREPOPULATE CUS CHAIN PIECES]\n",
      "Dropping feature [IM PREPOPULATE CUS COLUMNS]\n",
      "Dropping feature [IM PREPOPULATE CUS EMPTY]\n",
      "Dropping feature [IM PREPOPULATE CUS MEMCOMPRESS FOR CAPACITY HIGH]\n",
      "Dropping feature [IM PREPOPULATE CUS MEMCOMPRESS FOR CAPACITY LOW]\n",
      "Dropping feature [IM PREPOPULATE CUS MEMCOMPRESS FOR DML]\n",
      "Dropping feature [IM PREPOPULATE CUS MEMCOMPRESS FOR QUERY HIGH]\n",
      "Dropping feature [IM PREPOPULATE CUS MEMCOMPRESS FOR QUERY LOW]\n",
      "Dropping feature [IM PREPOPULATE CUS NO MEMCOMPRESS]\n",
      "Dropping feature [IM PREPOPULATE CUS REQUESTED]\n",
      "Dropping feature [IM PREPOPULATE CUS RESUBMITTED]\n",
      "Dropping feature [IM PREPOPULATE ACCUMULATED TIME (MS)]\n",
      "Dropping feature [IM PREPOPULATE BYTES FROM STORAGE]\n",
      "Dropping feature [IM PREPOPULATE BYTES IN-MEMORY DATA]\n",
      "Dropping feature [IM PREPOPULATE BYTES UNCOMPRESSED DATA]\n",
      "Dropping feature [IM PREPOPULATE ROWS]\n",
      "Dropping feature [IM PREPOPULATE SEGMENTS]\n",
      "Dropping feature [IM PREPOPULATE SEGMENTS REQUESTED]\n",
      "Dropping feature [IM RAC CUS INVALID]\n",
      "Dropping feature [IM RAC BLOCKS INVALID]\n",
      "Dropping feature [IM REPOPULATE (SCAN) CUS]\n",
      "Dropping feature [IM REPOPULATE (SCAN) CUS REQUESTED]\n",
      "Dropping feature [IM REPOPULATE (SCAN) CUS RESUBMITTED]\n",
      "Dropping feature [IM REPOPULATE (TRICKLE) CUS]\n",
      "Dropping feature [IM REPOPULATE (TRICKLE) CUS CHAIN PIECES]\n",
      "Dropping feature [IM REPOPULATE (TRICKLE) CUS COLUMNS]\n",
      "Dropping feature [IM REPOPULATE (TRICKLE) CUS EMPTY]\n",
      "Dropping feature [IM REPOPULATE (TRICKLE) CUS MEMCOMPRESS FOR CAPACITY HIGH]\n",
      "Dropping feature [IM REPOPULATE (TRICKLE) CUS MEMCOMPRESS FOR CAPACITY LOW]\n",
      "Dropping feature [IM REPOPULATE (TRICKLE) CUS MEMCOMPRESS FOR DML]\n",
      "Dropping feature [IM REPOPULATE (TRICKLE) CUS MEMCOMPRESS FOR QUERY HIGH]\n",
      "Dropping feature [IM REPOPULATE (TRICKLE) CUS MEMCOMPRESS FOR QUERY LOW]\n",
      "Dropping feature [IM REPOPULATE (TRICKLE) CUS NO MEMCOMPRESS]\n",
      "Dropping feature [IM REPOPULATE (TRICKLE) CUS REQUESTED]\n",
      "Dropping feature [IM REPOPULATE (TRICKLE) CUS RESUBMITTED]\n",
      "Dropping feature [IM REPOPULATE (TRICKLE) ACCUMULATED TIME (MS)]\n",
      "Dropping feature [IM REPOPULATE (TRICKLE) BYTES FROM STORAGE]\n",
      "Dropping feature [IM REPOPULATE (TRICKLE) BYTES IN-MEMORY DATA]\n",
      "Dropping feature [IM REPOPULATE (TRICKLE) BYTES UNCOMPRESSED DATA]\n",
      "Dropping feature [IM REPOPULATE (TRICKLE) ROWS]\n",
      "Dropping feature [IM REPOPULATE CUS]\n",
      "Dropping feature [IM REPOPULATE CUS CHAIN PIECES]\n",
      "Dropping feature [IM REPOPULATE CUS COLUMNS]\n",
      "Dropping feature [IM REPOPULATE CUS EMPTY]\n",
      "Dropping feature [IM REPOPULATE CUS MEMCOMPRESS FOR CAPACITY HIGH]\n",
      "Dropping feature [IM REPOPULATE CUS MEMCOMPRESS FOR CAPACITY LOW]\n",
      "Dropping feature [IM REPOPULATE CUS MEMCOMPRESS FOR DML]\n",
      "Dropping feature [IM REPOPULATE CUS MEMCOMPRESS FOR QUERY HIGH]\n",
      "Dropping feature [IM REPOPULATE CUS MEMCOMPRESS FOR QUERY LOW]\n",
      "Dropping feature [IM REPOPULATE CUS NO MEMCOMPRESS]\n",
      "Dropping feature [IM REPOPULATE CUS REQUESTED]\n",
      "Dropping feature [IM REPOPULATE CUS RESUBMITTED]\n",
      "Dropping feature [IM REPOPULATE ACCUMULATED TIME (MS)]\n",
      "Dropping feature [IM REPOPULATE BLOCKS INVALID]\n",
      "Dropping feature [IM REPOPULATE BYTES FROM STORAGE]\n",
      "Dropping feature [IM REPOPULATE BYTES IN-MEMORY DATA]\n",
      "Dropping feature [IM REPOPULATE BYTES UNCOMPRESSED DATA]\n",
      "Dropping feature [IM REPOPULATE ROWS]\n",
      "Dropping feature [IM REPOPULATE SEGMENTS]\n",
      "Dropping feature [IM REPOPULATE SEGMENTS REQUESTED]\n",
      "Dropping feature [IM REPOPULATE TRANSACTIONS ACTIVE]\n",
      "Dropping feature [IM REPOPULATE TRANSACTIONS CHECK]\n",
      "Dropping feature [IM REPOPULATE UNDO RECORDS APPLIED]\n",
      "Dropping feature [IM REPOPULATE UNDO SEGHEADER ROLLBACK]\n",
      "Dropping feature [IM SCAN CUS CLEANOUT]\n",
      "Dropping feature [IM SCAN CUS COLUMN NOT IN MEMORY]\n",
      "Dropping feature [IM SCAN CUS COLUMNS ACCESSED]\n",
      "Dropping feature [IM SCAN CUS COLUMNS DECOMPRESSED]\n",
      "Dropping feature [IM SCAN CUS COLUMNS THEORETICAL MAX]\n",
      "Dropping feature [IM SCAN CUS FAILED TO REGET PIN]\n",
      "Dropping feature [IM SCAN CUS INVALID]\n",
      "Dropping feature [IM SCAN CUS INVALID (ALL ROWS ARE INVALID)]\n",
      "Dropping feature [IM SCAN CUS INVALID OR MISSING REVERT TO ON DISK EXTENT]\n",
      "Dropping feature [IM SCAN CUS MEMCOMPRESS FOR CAPACITY HIGH]\n",
      "Dropping feature [IM SCAN CUS MEMCOMPRESS FOR CAPACITY LOW]\n",
      "Dropping feature [IM SCAN CUS MEMCOMPRESS FOR DML]\n",
      "Dropping feature [IM SCAN CUS MEMCOMPRESS FOR QUERY HIGH]\n",
      "Dropping feature [IM SCAN CUS MEMCOMPRESS FOR QUERY LOW]\n",
      "Dropping feature [IM SCAN CUS NO CLEANOUT]\n",
      "Dropping feature [IM SCAN CUS NO MEMCOMPRESS]\n",
      "Dropping feature [IM SCAN CUS NO ROLLBACK]\n",
      "Dropping feature [IM SCAN CUS OPTIMIZED READ]\n",
      "Dropping feature [IM SCAN CUS PREDICATES APPLIED]\n",
      "Dropping feature [IM SCAN CUS PREDICATES OPTIMIZED]\n",
      "Dropping feature [IM SCAN CUS PREDICATES RECEIVED]\n",
      "Dropping feature [IM SCAN CUS PRUNED]\n",
      "Dropping feature [IM SCAN CUS ROLLBACK]\n",
      "Dropping feature [IM SCAN CUS SPLIT PIECES]\n",
      "Dropping feature [IM SCAN CUS UNDO RECORDS APPLIED]\n",
      "Dropping feature [IM SCAN BLOCKS CACHE]\n",
      "Dropping feature [IM SCAN BYTES IN-MEMORY]\n",
      "Dropping feature [IM SCAN BYTES UNCOMPRESSED]\n",
      "Dropping feature [IM SCAN FETCHES JOURNAL]\n",
      "Dropping feature [IM SCAN FOUND INVALID SMU]\n",
      "Dropping feature [IM SCAN INVALID ALL BLOCKS]\n",
      "Dropping feature [IM SCAN JOURNAL]\n",
      "Dropping feature [IM SCAN JOURNAL CLEANOUT]\n",
      "Dropping feature [IM SCAN JOURNAL NO CLEANOUT]\n",
      "Dropping feature [IM SCAN ROWS]\n",
      "Dropping feature [IM SCAN ROWS CACHE]\n",
      "Dropping feature [IM SCAN ROWS DISCONTINUOUS]\n",
      "Dropping feature [IM SCAN ROWS EXCLUDED]\n",
      "Dropping feature [IM SCAN ROWS JOURNAL]\n",
      "Dropping feature [IM SCAN ROWS JOURNAL TOTAL]\n",
      "Dropping feature [IM SCAN ROWS OPTIMIZED]\n",
      "Dropping feature [IM SCAN ROWS PROJECTED]\n",
      "Dropping feature [IM SCAN ROWS RANGE EXCLUDED]\n",
      "Dropping feature [IM SCAN ROWS VALID]\n",
      "Dropping feature [IM SCAN SEGMENTS DISK]\n",
      "Dropping feature [IM SCAN SEGMENTS MINMAX ELIGIBLE]\n",
      "Dropping feature [IM SPACE CU BYTES ALLOCATED]\n",
      "Dropping feature [IM SPACE CU BYTES FREED]\n",
      "Dropping feature [IM SPACE CU CREATIONS COMMITTED]\n",
      "Dropping feature [IM SPACE CU CREATIONS INITIATED]\n",
      "Dropping feature [IM SPACE CU EXTENTS ALLOCATED]\n",
      "Dropping feature [IM SPACE CU EXTENTS FREED]\n",
      "Dropping feature [IM SPACE SMU BYTES ALLOCATED]\n",
      "Dropping feature [IM SPACE SMU BYTES FREED]\n",
      "Dropping feature [IM SPACE SMU CREATIONS COMMITTED]\n",
      "Dropping feature [IM SPACE SMU CREATIONS INITIATED]\n",
      "Dropping feature [IM SPACE SMU EXTENTS ALLOCATED]\n",
      "Dropping feature [IM SPACE SMU EXTENTS FREED]\n",
      "Dropping feature [IM SPACE PRIVATE JOURNAL BYTES ALLOCATED]\n",
      "Dropping feature [IM SPACE PRIVATE JOURNAL BYTES FREED]\n",
      "Dropping feature [IM SPACE PRIVATE JOURNAL EXTENTS ALLOCATED]\n",
      "Dropping feature [IM SPACE PRIVATE JOURNAL EXTENTS FREED]\n",
      "Dropping feature [IM SPACE PRIVATE JOURNAL SEGMENTS ALLOCATED]\n",
      "Dropping feature [IM SPACE PRIVATE JOURNAL SEGMENTS FREED]\n",
      "Dropping feature [IM SPACE SEGMENTS ALLOCATED]\n",
      "Dropping feature [IM SPACE SEGMENTS FREED]\n",
      "Dropping feature [IM SPACE SHARED JOURNAL BYTES ALLOCATED]\n",
      "Dropping feature [IM SPACE SHARED JOURNAL BYTES FREED]\n",
      "Dropping feature [IM SPACE SHARED JOURNAL EXTENTS ALLOCATED]\n",
      "Dropping feature [IM SPACE SHARED JOURNAL EXTENTS FREED]\n",
      "Dropping feature [IM SPACE SHARED JOURNAL SEGMENTS ALLOCATED]\n",
      "Dropping feature [IM SPACE SHARED JOURNAL SEGMENTS FREED]\n",
      "Dropping feature [IM TRANSACTIONS]\n",
      "Dropping feature [IM TRANSACTIONS CU CLEANOUT]\n",
      "Dropping feature [IM TRANSACTIONS CUS INVALID]\n",
      "Dropping feature [IM TRANSACTIONS BLOCKS INVALIDATED]\n",
      "Dropping feature [IM TRANSACTIONS DOWNGRADE MODE]\n",
      "Dropping feature [IM TRANSACTIONS FOUND INVALID CU]\n",
      "Dropping feature [IM TRANSACTIONS JOURNAL CLEANOUT]\n",
      "Dropping feature [IM TRANSACTIONS ROWS INVALIDATED]\n",
      "Dropping feature [IM TRANSACTIONS ROWS JOURNALED]\n",
      "Dropping feature [IM ZZZZ SPARE1]\n",
      "Dropping feature [IM ZZZZ SPARE10]\n",
      "Dropping feature [IM ZZZZ SPARE2]\n",
      "Dropping feature [IM ZZZZ SPARE3]\n",
      "Dropping feature [IM ZZZZ SPARE4]\n",
      "Dropping feature [IM ZZZZ SPARE5]\n",
      "Dropping feature [IM ZZZZ SPARE6]\n",
      "Dropping feature [IM ZZZZ SPARE7]\n",
      "Dropping feature [IM ZZZZ SPARE8]\n",
      "Dropping feature [IM ZZZZ SPARE9]\n",
      "Dropping feature [IMU CR ROLLBACKS]\n",
      "Dropping feature [IMU BIND FLUSHES]\n",
      "Dropping feature [IMU CONTENTION]\n",
      "Dropping feature [IMU MBU FLUSH]\n",
      "Dropping feature [IMU POOL NOT ALLOCATED]\n",
      "Dropping feature [IMU RECURSIVE-TRANSACTION FLUSH]\n",
      "Dropping feature [IMU UNDO RETENTION FLUSH]\n",
      "Dropping feature [IMU- FAILED TO GET A PRIVATE STRAND]\n",
      "Dropping feature [IPC CPU USED BY THIS SESSION]\n",
      "Dropping feature [KTFB ALLOC MYINST]\n",
      "Dropping feature [KTFB ALLOC SEARCH FFB]\n",
      "Dropping feature [KTFB ALLOC STEAL]\n",
      "Dropping feature [MISSES FOR WRITING MAPPING]\n",
      "Dropping feature [NO. OF DECRYPT OPS]\n",
      "Dropping feature [NO. OF ENCRYPT OPS]\n",
      "Dropping feature [NO. OF NAMESPACES CREATED]\n",
      "Dropping feature [NO. OF PRINCIPAL CACHE MISSES]\n",
      "Dropping feature [NO. OF PRINCIPAL INVALIDATIONS]\n",
      "Dropping feature [NO. OF ROLES ENABLED OR DISABLED]\n",
      "Dropping feature [NO. OF USER CALLBACKS EXECUTED]\n",
      "Dropping feature [NO. OF XS SESSIONS ATTACHED]\n",
      "Dropping feature [NO. OF XS SESSIONS CREATED]\n",
      "Dropping feature [NUMBER OF FORMAT_PRESERVING REDACTIONS]\n",
      "Dropping feature [NUMBER OF FULL REDACTIONS]\n",
      "Dropping feature [NUMBER OF NONE REDACTIONS]\n",
      "Dropping feature [NUMBER OF PARTIAL REDACTIONS]\n",
      "Dropping feature [NUMBER OF RANDOM REDACTIONS]\n",
      "Dropping feature [NUMBER OF REGEXP REDACTIONS]\n",
      "Dropping feature [OLAP AGGREGATE FUNCTION CALC]\n",
      "Dropping feature [OLAP AGGREGATE FUNCTION LOGICAL NA]\n",
      "Dropping feature [OLAP AGGREGATE FUNCTION PRECOMPUTE]\n",
      "Dropping feature [OLAP CUSTOM MEMBER LIMIT]\n",
      "Dropping feature [OLAP ENGINE CALLS]\n",
      "Dropping feature [OLAP FAST LIMIT]\n",
      "Dropping feature [OLAP FULL LIMIT]\n",
      "Dropping feature [OLAP GID LIMIT]\n",
      "Dropping feature [OLAP INHIER LIMIT]\n",
      "Dropping feature [OLAP IMPORT ROWS LOADED]\n",
      "Dropping feature [OLAP IMPORT ROWS PUSHED]\n",
      "Dropping feature [OLAP LIMIT TIME]\n",
      "Dropping feature [OLAP PAGING MANAGER CACHE CHANGED PAGE]\n",
      "Dropping feature [OLAP PAGING MANAGER CACHE HIT]\n",
      "Dropping feature [OLAP PAGING MANAGER CACHE MISS]\n",
      "Dropping feature [OLAP PAGING MANAGER CACHE WRITE]\n",
      "Dropping feature [OLAP PAGING MANAGER NEW PAGE]\n",
      "Dropping feature [OLAP PAGING MANAGER POOL SIZE]\n",
      "Dropping feature [OLAP PERM LOB READ]\n",
      "Dropping feature [OLAP ROW ID LIMIT]\n",
      "Dropping feature [OLAP ROW LOAD TIME]\n",
      "Dropping feature [OLAP ROW SOURCE ROWS PROCESSED]\n",
      "Dropping feature [OLAP SESSION CACHE HIT]\n",
      "Dropping feature [OLAP SESSION CACHE MISS]\n",
      "Dropping feature [OLAP TEMP SEGMENT READ]\n",
      "Dropping feature [OLAP TEMP SEGMENTS]\n",
      "Dropping feature [OLAP UNIQUE KEY ATTRIBUTE LIMIT]\n",
      "Dropping feature [OS BLOCK INPUT OPERATIONS]\n",
      "Dropping feature [OS BLOCK OUTPUT OPERATIONS]\n",
      "Dropping feature [OS CPU QT WAIT TIME]\n",
      "Dropping feature [OS INTEGRAL SHARED TEXT SIZE]\n",
      "Dropping feature [OS INTEGRAL UNSHARED DATA SIZE]\n",
      "Dropping feature [OS INTEGRAL UNSHARED STACK SIZE]\n",
      "Dropping feature [OS INVOLUNTARY CONTEXT SWITCHES]\n",
      "Dropping feature [OS MAXIMUM RESIDENT SET SIZE]\n",
      "Dropping feature [OS PAGE FAULTS]\n",
      "Dropping feature [OS PAGE RECLAIMS]\n",
      "Dropping feature [OS SIGNALS RECEIVED]\n",
      "Dropping feature [OS SOCKET MESSAGES RECEIVED]\n",
      "Dropping feature [OS SOCKET MESSAGES SENT]\n",
      "Dropping feature [OS SWAPS]\n",
      "Dropping feature [OS SYSTEM TIME USED]\n",
      "Dropping feature [OS USER TIME USED]\n",
      "Dropping feature [OS VOLUNTARY CONTEXT SWITCHES]\n",
      "Dropping feature [OTC COMMIT OPTIMIZATION ATTEMPTS]\n",
      "Dropping feature [OTC COMMIT OPTIMIZATION FAILURE - SETUP]\n",
      "Dropping feature [OTC COMMIT OPTIMIZATION HITS]\n",
      "Dropping feature [PX REMOTE MESSAGES RECV'D]\n",
      "Dropping feature [PX REMOTE MESSAGES SENT]\n",
      "Dropping feature [PARALLEL OPERATIONS DOWNGRADED 1 TO 25 PCT]\n",
      "Dropping feature [PARALLEL OPERATIONS DOWNGRADED 25 TO 50 PCT]\n",
      "Dropping feature [PARALLEL OPERATIONS DOWNGRADED 50 TO 75 PCT]\n",
      "Dropping feature [PARALLEL OPERATIONS DOWNGRADED 75 TO 99 PCT]\n",
      "Dropping feature [ROWCR - RESUME]\n",
      "Dropping feature [ROWCR - ROW CONTENTION]\n",
      "Dropping feature [ROWCR ATTEMPTS]\n",
      "Dropping feature [ROWCR HITS]\n",
      "Dropping feature [SCN INCREMENTS DUE TO ANOTHER DATABASE]\n",
      "Dropping feature [SMON POSTED FOR DROPPING TEMP SEGMENT]\n",
      "Dropping feature [SMON POSTED FOR INSTANCE RECOVERY]\n",
      "Dropping feature [SMON POSTED FOR TXN RECOVERY FOR OTHER INSTANCES]\n",
      "Dropping feature [SMON POSTED FOR UNDO SEGMENT RECOVERY]\n",
      "Dropping feature [SQL*NET ROUNDTRIPS TO/FROM DBLINK]\n",
      "Dropping feature [SECUREFILES COPY FROM DBFS LINK]\n",
      "Dropping feature [SECUREFILES DBFS LINK OPERATIONS]\n",
      "Dropping feature [SECUREFILES DBFS LINK OVERWRITES]\n",
      "Dropping feature [SECUREFILES DBFS LINK STREAMING READS]\n",
      "Dropping feature [SECUREFILES GET DBFS LINK REFERENCE]\n",
      "Dropping feature [SECUREFILES IMPLICIT COPY FROM DBFS LINK]\n",
      "Dropping feature [SECUREFILES MOVE TO DBFS LINK]\n",
      "Dropping feature [SECUREFILES PUT DBFS LINK REFERENCE]\n",
      "Dropping feature [STREAMING NO-STALL REAP]\n",
      "Dropping feature [STREAMING STALL REAP]\n",
      "Dropping feature [WORKLOAD CAPTURE: DBTIME]\n",
      "Dropping feature [WORKLOAD CAPTURE: ERRORS]\n",
      "Dropping feature [WORKLOAD CAPTURE: SIZE (IN BYTES) OF RECORDING]\n",
      "Dropping feature [WORKLOAD CAPTURE: UNREPLAYABLE USER CALLS]\n",
      "Dropping feature [WORKLOAD CAPTURE: UNSUPPORTED USER CALLS]\n",
      "Dropping feature [WORKLOAD CAPTURE: USER CALLS]\n",
      "Dropping feature [WORKLOAD CAPTURE: USER CALLS FLUSHED]\n",
      "Dropping feature [WORKLOAD CAPTURE: USER LOGINS]\n",
      "Dropping feature [WORKLOAD CAPTURE: USER TXNS]\n",
      "Dropping feature [WORKLOAD REPLAY: DBTIME]\n",
      "Dropping feature [WORKLOAD REPLAY: DEADLOCKS RESOLVED]\n",
      "Dropping feature [WORKLOAD REPLAY: NETWORK TIME]\n",
      "Dropping feature [WORKLOAD REPLAY: THINK TIME]\n",
      "Dropping feature [WORKLOAD REPLAY: TIME GAIN]\n",
      "Dropping feature [WORKLOAD REPLAY: TIME LOSS]\n",
      "Dropping feature [WORKLOAD REPLAY: USER CALLS]\n",
      "Dropping feature [AUTO EXTENDS ON UNDO TABLESPACE]\n",
      "Dropping feature [BACKUP COMPRESSED DATA WRITTEN LOCALLY]\n",
      "Dropping feature [BACKUP COMPRESSED DATA WRITTEN REMOTELY]\n",
      "Dropping feature [BACKUP DATA COMPRESSED LOCALLY]\n",
      "Dropping feature [BACKUP DATA COMPRESSED REMOTELY]\n",
      "Dropping feature [BACKUP PIECE LOCAL PROCESSING TIME]\n",
      "Dropping feature [BACKUP PIECE REMOTE PROCESSING TIME]\n",
      "Dropping feature [BACKUP PIECES COMPRESSED LOCALLY]\n",
      "Dropping feature [BACKUP PIECES COMPRESSED REMOTELY]\n",
      "Dropping feature [BLOCKS DECRYPTED]\n",
      "Dropping feature [BLOCKS ENCRYPTED]\n",
      "Dropping feature [BYTES RECEIVED VIA SQL*NET FROM DBLINK]\n",
      "Dropping feature [BYTES SENT VIA SQL*NET TO DBLINK]\n",
      "Dropping feature [BYTES VIA SQL*NET VECTOR FROM CLIENT]\n",
      "Dropping feature [BYTES VIA SQL*NET VECTOR FROM DBLINK]\n",
      "Dropping feature [BYTES VIA SQL*NET VECTOR TO DBLINK]\n",
      "Dropping feature [CALLS TO KCMGRS]\n",
      "Dropping feature [CELL CUS PROCESSED FOR COMPRESSED]\n",
      "Dropping feature [CELL CUS PROCESSED FOR UNCOMPRESSED]\n",
      "Dropping feature [CELL CUS SENT COMPRESSED]\n",
      "Dropping feature [CELL CUS SENT HEAD PIECE]\n",
      "Dropping feature [CELL CUS SENT UNCOMPRESSED]\n",
      "Dropping feature [CELL IO UNCOMPRESSED BYTES]\n",
      "Dropping feature [CELL XT GRANULE BYTES REQUESTED FOR PREDICATE OFFLOAD]\n",
      "Dropping feature [CELL XT GRANULE PREDICATE OFFLOAD RETRIES]\n",
      "Dropping feature [CELL XT GRANULES REQUESTED FOR PREDICATE OFFLOAD]\n",
      "Dropping feature [CELL BLOCKS HELPED BY COMMIT CACHE]\n",
      "Dropping feature [CELL BLOCKS HELPED BY MINSCN OPTIMIZATION]\n",
      "Dropping feature [CELL BLOCKS PROCESSED BY CACHE LAYER]\n",
      "Dropping feature [CELL BLOCKS PROCESSED BY DATA LAYER]\n",
      "Dropping feature [CELL BLOCKS PROCESSED BY INDEX LAYER]\n",
      "Dropping feature [CELL BLOCKS PROCESSED BY TXN LAYER]\n",
      "Dropping feature [CELL COMMIT CACHE QUERIES]\n",
      "Dropping feature [CELL FLASH CACHE READ HITS]\n",
      "Dropping feature [CELL INDEX SCANS]\n",
      "Dropping feature [CELL INTERCONNECT BYTES RETURNED BY XT SMART SCAN]\n",
      "Dropping feature [CELL LOGICAL WRITE IO REQUESTS]\n",
      "Dropping feature [CELL LOGICAL WRITE IO REQUESTS ELIGIBLE FOR OFFLOAD]\n",
      "Dropping feature [CELL NUM BLOCK IOS DUE TO A FILE INSTANT RESTORE IN PROGRESS]\n",
      "Dropping feature [CELL NUM BYTES IN BLOCK IO DURING PREDICATE OFFLOAD]\n",
      "Dropping feature [CELL NUM BYTES IN PASSTHRU DURING PREDICATE OFFLOAD]\n",
      "Dropping feature [CELL NUM BYTES OF IO REISSUED DUE TO RELOCATION]\n",
      "Dropping feature [CELL NUM FAST RESPONSE SESSIONS]\n",
      "Dropping feature [CELL NUM FAST RESPONSE SESSIONS CONTINUING TO SMART SCAN]\n",
      "Dropping feature [CELL NUM SMART IO SESSIONS IN RDBMS BLOCK IO DUE TO BIG PAYLOAD]\n",
      "Dropping feature [CELL NUM SMART IO SESSIONS IN RDBMS BLOCK IO DUE TO NO CELL MEM]\n",
      "Dropping feature [CELL NUM SMART IO SESSIONS IN RDBMS BLOCK IO DUE TO OPEN FAIL]\n",
      "Dropping feature [CELL NUM SMART IO SESSIONS IN RDBMS BLOCK IO DUE TO USER]\n",
      "Dropping feature [CELL NUM SMART IO SESSIONS USING PASSTHRU MODE DUE TO CELLSRV]\n",
      "Dropping feature [CELL NUM SMART IO SESSIONS USING PASSTHRU MODE DUE TO TIMEZONE]\n",
      "Dropping feature [CELL NUM SMART IO SESSIONS USING PASSTHRU MODE DUE TO USER]\n",
      "Dropping feature [CELL NUM SMART FILE CREATION SESSIONS USING RDBMS BLOCK IO MODE]\n",
      "Dropping feature [CELL NUM SMARTIO AUTOMEM BUFFER ALLOCATION ATTEMPTS]\n",
      "Dropping feature [CELL NUM SMARTIO AUTOMEM BUFFER ALLOCATION FAILURES]\n",
      "Dropping feature [CELL NUM SMARTIO PERMANENT CELL FAILURES]\n",
      "Dropping feature [CELL NUM SMARTIO TRANSIENT CELL FAILURES]\n",
      "Dropping feature [CELL OVERWRITES IN FLASH CACHE]\n",
      "Dropping feature [CELL PARTIAL WRITES IN FLASH CACHE]\n",
      "Dropping feature [CELL PHYSICAL IO BYTES ELIGIBLE FOR PREDICATE OFFLOAD]\n",
      "Dropping feature [CELL PHYSICAL IO BYTES SAVED BY COLUMNAR CACHE]\n",
      "Dropping feature [CELL PHYSICAL IO BYTES SAVED BY STORAGE INDEX]\n",
      "Dropping feature [CELL PHYSICAL IO BYTES SAVED DURING OPTIMIZED RMAN FILE RESTORE]\n",
      "Dropping feature [CELL PHYSICAL IO BYTES SAVED DURING OPTIMIZED FILE CREATION]\n",
      "Dropping feature [CELL PHYSICAL IO BYTES SENT DIRECTLY TO DB NODE TO BALANCE CPU ]\n",
      "Dropping feature [CELL PHYSICAL IO INTERCONNECT BYTES RETURNED BY SMART SCAN]\n",
      "Dropping feature [CELL PHYSICAL WRITE IO BYTES ELIGIBLE FOR OFFLOAD]\n",
      "Dropping feature [CELL PHYSICAL WRITE IO HOST NETWORK BYTES WRITTEN DURING OFFLOA]\n",
      "Dropping feature [CELL PHYSICAL WRITE BYTES SAVED BY SMART FILE INITIALIZATION]\n",
      "Dropping feature [CELL SCANS]\n",
      "Dropping feature [CELL SIMULATED PHYSICAL IO BYTES ELIGIBLE FOR PREDICATE OFFLOAD]\n",
      "Dropping feature [CELL SIMULATED PHYSICAL IO BYTES RETURNED BY PREDICATE OFFLOAD]\n",
      "Dropping feature [CELL SMART IO SESSION CACHE HARD MISSES]\n",
      "Dropping feature [CELL SMART IO SESSION CACHE HITS]\n",
      "Dropping feature [CELL SMART IO SESSION CACHE HWM]\n",
      "Dropping feature [CELL SMART IO SESSION CACHE LOOKUPS]\n",
      "Dropping feature [CELL SMART IO SESSION CACHE SOFT MISSES]\n",
      "Dropping feature [CELL STATISTICS SPARE1]\n",
      "Dropping feature [CELL STATISTICS SPARE2]\n",
      "Dropping feature [CELL STATISTICS SPARE3]\n",
      "Dropping feature [CELL STATISTICS SPARE4]\n",
      "Dropping feature [CELL STATISTICS SPARE5]\n",
      "Dropping feature [CELL STATISTICS SPARE6]\n",
      "Dropping feature [CELL TRANSACTIONS FOUND IN COMMIT CACHE]\n",
      "Dropping feature [CELL WRITES TO FLASH CACHE]\n",
      "Dropping feature [CHAINED ROWS PROCESSED BY CELL]\n",
      "Dropping feature [CHAINED ROWS REJECTED BY CELL]\n",
      "Dropping feature [CHAINED ROWS SKIPPED BY CELL]\n",
      "Dropping feature [CHECKPOINT CLONES CREATED FOR ADG RECOVERY]\n",
      "Dropping feature [CLUSTER WAIT TIME]\n",
      "Dropping feature [COLD RECYCLE READS]\n",
      "Dropping feature [COMMIT BATCH PERFORMED]\n",
      "Dropping feature [COMMIT BATCH REQUESTED]\n",
      "Dropping feature [COMMIT CLEANOUT FAILURES: BLOCK LOST]\n",
      "Dropping feature [COMMIT CLEANOUT FAILURES: BUFFER BEING WRITTEN]\n",
      "Dropping feature [COMMIT CLEANOUT FAILURES: CANNOT PIN]\n",
      "Dropping feature [COMMIT CLEANOUT FAILURES: HOT BACKUP IN PROGRESS]\n",
      "Dropping feature [COMMIT CLEANOUT FAILURES: WRITE DISABLED]\n",
      "Dropping feature [COMMIT NOWAIT PERFORMED]\n",
      "Dropping feature [COMMIT NOWAIT REQUESTED]\n",
      "Dropping feature [COMMIT WAIT PERFORMED]\n",
      "Dropping feature [COMMIT WAIT REQUESTED]\n",
      "Dropping feature [COMMIT WAIT/NOWAIT PERFORMED]\n",
      "Dropping feature [COMMIT WAIT/NOWAIT REQUESTED]\n",
      "Dropping feature [CURRENT BLOCKS CONVERTED FOR CR]\n",
      "Dropping feature [CVMAP UNAVAILABLE]\n",
      "Dropping feature [DATA WAREHOUSING COOLING ACTION]\n",
      "Dropping feature [DATA WAREHOUSING EVICTED OBJECTS]\n",
      "Dropping feature [DATA WAREHOUSING EVICTED OBJECTS - COOLING]\n",
      "Dropping feature [DATA WAREHOUSING EVICTED OBJECTS - REPLACE]\n",
      "Dropping feature [DATA WAREHOUSING SCANNED BLOCKS]\n",
      "Dropping feature [DATA WAREHOUSING SCANNED BLOCKS - DISK]\n",
      "Dropping feature [DATA WAREHOUSING SCANNED BLOCKS - FLASH]\n",
      "Dropping feature [DATA WAREHOUSING SCANNED BLOCKS - MEMORY]\n",
      "Dropping feature [DATA WAREHOUSING SCANNED BLOCKS - OFFLOAD]\n",
      "Dropping feature [DATA WAREHOUSING SCANNED OBJECTS]\n",
      "Dropping feature [DB CORRUPT BLOCKS DETECTED]\n",
      "Dropping feature [DB CORRUPT BLOCKS RECOVERED]\n",
      "Dropping feature [DEFERRED CUR CLEANOUTS (INDEX BLOCKS)]\n",
      "Dropping feature [DOUBLING UP WITH IMU SEGMENT]\n",
      "Dropping feature [DROP SEGMENT CALLS IN SPACE PRESSURE]\n",
      "Dropping feature [ENQUEUE DEADLOCKS]\n",
      "Dropping feature [ERROR COUNT CLEARED BY CELL]\n",
      "Dropping feature [EXCHANGE DEADLOCKS]\n",
      "Dropping feature [FBDA WOKEN UP]\n",
      "Dropping feature [FILTERED BLOCKS FAILED BLOCK CHECK]\n",
      "Dropping feature [FLASH CACHE EVICTION: AGED OUT]\n",
      "Dropping feature [FLASH CACHE EVICTION: BUFFER PINNED]\n",
      "Dropping feature [FLASH CACHE EVICTION: INVALIDATED]\n",
      "Dropping feature [FLASH CACHE INSERT SKIP: DBWR OVERLOADED]\n",
      "Dropping feature [FLASH CACHE INSERT SKIP: CORRUPT]\n",
      "Dropping feature [FLASH CACHE INSERT SKIP: EXISTS]\n",
      "Dropping feature [FLASH CACHE INSERT SKIP: MODIFICATION]\n",
      "Dropping feature [FLASH CACHE INSERT SKIP: NOT CURRENT]\n",
      "Dropping feature [FLASH CACHE INSERT SKIP: NOT USEFUL]\n",
      "Dropping feature [FLASH CACHE INSERTS]\n",
      "Dropping feature [FLASHBACK CACHE READ OPTIMIZATIONS FOR BLOCK NEW]\n",
      "Dropping feature [FLASHBACK DIRECT READ OPTIMIZATIONS FOR BLOCK NEW]\n",
      "Dropping feature [FLASHBACK LOG WRITE BYTES]\n",
      "Dropping feature [FLASHBACK LOG WRITES]\n",
      "Dropping feature [FLASHBACK SECUREFILE CACHE READ OPTIMIZATIONS FOR BLOCK NEW]\n",
      "Dropping feature [FLASHBACK SECUREFILE DIRECT READ OPTIMIZATIONS FOR BLOCK NEW]\n",
      "Dropping feature [FOREGROUND PROPAGATED TRACKED TRANSACTIONS]\n",
      "Dropping feature [GC CPU USED BY THIS SESSION]\n",
      "Dropping feature [GC IM BLOCKS INVALIDATED]\n",
      "Dropping feature [GC IM EXPANDS]\n",
      "Dropping feature [GC IM GRANTS]\n",
      "Dropping feature [GC IM SHRINKS]\n",
      "Dropping feature [GC BLOCKS COMPRESSED]\n",
      "Dropping feature [GC BLOCKS CORRUPT]\n",
      "Dropping feature [GC BLOCKS LOST]\n",
      "Dropping feature [GC CLAIM BLOCKS LOST]\n",
      "Dropping feature [GC CLEANOUT APPLIED]\n",
      "Dropping feature [GC CLEANOUT NO SPACE]\n",
      "Dropping feature [GC CLEANOUT SAVED]\n",
      "Dropping feature [GC CLUSTER FLASH CACHE READS FAILURE]\n",
      "Dropping feature [GC CLUSTER FLASH CACHE READS RECEIVED]\n",
      "Dropping feature [GC CLUSTER FLASH CACHE READS SERVED]\n",
      "Dropping feature [GC CLUSTER FLASH CACHE RECEIVED READ TIME]\n",
      "Dropping feature [GC CR BLOCK BUILD TIME]\n",
      "Dropping feature [GC CR BLOCK FLUSH TIME]\n",
      "Dropping feature [GC CR BLOCK RECEIVE TIME]\n",
      "Dropping feature [GC CR BLOCK SEND TIME]\n",
      "Dropping feature [GC CR BLOCKS FLUSHED]\n",
      "Dropping feature [GC CR BLOCKS RECEIVED]\n",
      "Dropping feature [GC CR BLOCKS RECEIVED WITH BPS]\n",
      "Dropping feature [GC CR BLOCKS SERVED]\n",
      "Dropping feature [GC CR BLOCKS SERVED WITH BPS]\n",
      "Dropping feature [GC CURRENT BLOCK FLUSH TIME]\n",
      "Dropping feature [GC CURRENT BLOCK PIN TIME]\n",
      "Dropping feature [GC CURRENT BLOCK RECEIVE TIME]\n",
      "Dropping feature [GC CURRENT BLOCK SEND TIME]\n",
      "Dropping feature [GC CURRENT BLOCKS FLUSHED]\n",
      "Dropping feature [GC CURRENT BLOCKS PINNED]\n",
      "Dropping feature [GC CURRENT BLOCKS RECEIVED]\n",
      "Dropping feature [GC CURRENT BLOCKS RECEIVED WITH BPS]\n",
      "Dropping feature [GC CURRENT BLOCKS SERVED]\n",
      "Dropping feature [GC CURRENT BLOCKS SERVED WITH BPS]\n",
      "Dropping feature [GC FLASH CACHE READS SERVED]\n",
      "Dropping feature [GC FLASH CACHE SERVED READ TIME]\n",
      "Dropping feature [GC FORCE CR READ CR]\n",
      "Dropping feature [GC FORCE CR READ CURRENT]\n",
      "Dropping feature [GC KA GRANT RECEIVE TIME]\n",
      "Dropping feature [GC KA GRANTS RECEIVED]\n",
      "Dropping feature [GC KBYTES SAVED]\n",
      "Dropping feature [GC KBYTES SENT]\n",
      "Dropping feature [GC LOCAL GRANTS]\n",
      "Dropping feature [GC READ TIME WAITED]\n",
      "Dropping feature [GC READ WAIT FAILURES]\n",
      "Dropping feature [GC READ WAIT TIMEOUTS]\n",
      "Dropping feature [GC READ WAITS]\n",
      "Dropping feature [GC READER BYPASS GRANTS]\n",
      "Dropping feature [GC READER BYPASS WAITS]\n",
      "Dropping feature [GC REMOTE GRANTS]\n",
      "Dropping feature [GCS MESSAGES SENT]\n",
      "Dropping feature [GES MESSAGES SENT]\n",
      "Dropping feature [GLOBAL ENQUEUE CPU USED BY THIS SESSION]\n",
      "Dropping feature [GLOBAL ENQUEUE GET TIME]\n",
      "Dropping feature [GLOBAL ENQUEUE GETS ASYNC]\n",
      "Dropping feature [GLOBAL ENQUEUE GETS SYNC]\n",
      "Dropping feature [GLOBAL ENQUEUE RELEASES]\n",
      "Dropping feature [GLOBAL UNDO SEGMENT HINTS HELPED]\n",
      "Dropping feature [GLOBAL UNDO SEGMENT HINTS WERE STALE]\n",
      "Dropping feature [IMMEDIATE CR CLEANOUTS (INDEX BLOCKS)]\n",
      "Dropping feature [INDEX CMPH GENCU, UNCOMP SENTINALS]\n",
      "Dropping feature [INDEX CMPH LD, CU FIT]\n",
      "Dropping feature [INDEX CMPH LD, CU FIT, ADD ROWS]\n",
      "Dropping feature [INDEX CMPH LD, CU NEGATIVE COMP]\n",
      "Dropping feature [INDEX CMPH LD, CU OVER-EST]\n",
      "Dropping feature [INDEX CMPH LD, CU UNDER-EST]\n",
      "Dropping feature [INDEX CMPH LD, LF BLKS FLUSHED]\n",
      "Dropping feature [INDEX CMPH LD, LF BLKS W/ UND CU]\n",
      "Dropping feature [INDEX CMPH LD, LF BLKS W/O CU]\n",
      "Dropping feature [INDEX CMPH LD, LF BLKS W/O UNC R]\n",
      "Dropping feature [INDEX CMPH LD, RETRY IN OVER-EST]\n",
      "Dropping feature [INDEX CMPH LD, ROWS COMPRESSED]\n",
      "Dropping feature [INDEX CMPH LD, ROWS UNCOMPRESSED]\n",
      "Dropping feature [INDEX CMPH SP, LEAF BLOCK 90_10 SPLITS FAILED]\n",
      "Dropping feature [INDEX CMPH SP, LEAF BLOCK SPLITS AVOIDED]\n",
      "Dropping feature [INDEX CMPL CO, PREFIX MISMATCH]\n",
      "Dropping feature [INDEX CMPL RO, BLOCKS NOT COMPRESSED]\n",
      "Dropping feature [INDEX CMPL RO, PREFIX CHANGE AT BLOCK]\n",
      "Dropping feature [INDEX CMPL RO, PREFIX NO CHANGE AT BLOCK]\n",
      "Dropping feature [INDEX CMPL RO, REORG AVOID LOAD NEW BLOCK]\n",
      "Dropping feature [INDEX CMPL RO, REORG AVOID SPLIT]\n",
      "Dropping feature [INDEX CRX UPGRADE (FOUND)]\n",
      "Dropping feature [INDEX CRX UPGRADE (PREFETCH)]\n",
      "Dropping feature [INDEX RECLAMATION/EXTENSION SWITCH]\n",
      "Dropping feature [JAVA CALL HEAP COLLECTED BYTES]\n",
      "Dropping feature [JAVA CALL HEAP COLLECTED COUNT]\n",
      "Dropping feature [JAVA CALL HEAP GC COUNT]\n",
      "Dropping feature [JAVA CALL HEAP LIVE OBJECT COUNT]\n",
      "Dropping feature [JAVA CALL HEAP LIVE OBJECT COUNT MAX]\n",
      "Dropping feature [JAVA CALL HEAP LIVE SIZE]\n",
      "Dropping feature [JAVA CALL HEAP LIVE SIZE MAX]\n",
      "Dropping feature [JAVA CALL HEAP OBJECT COUNT]\n",
      "Dropping feature [JAVA CALL HEAP OBJECT COUNT MAX]\n",
      "Dropping feature [JAVA CALL HEAP TOTAL SIZE]\n",
      "Dropping feature [JAVA CALL HEAP TOTAL SIZE MAX]\n",
      "Dropping feature [JAVA CALL HEAP USED SIZE]\n",
      "Dropping feature [JAVA CALL HEAP USED SIZE MAX]\n",
      "Dropping feature [JAVA SESSION HEAP COLLECTED BYTES]\n",
      "Dropping feature [JAVA SESSION HEAP COLLECTED COUNT]\n",
      "Dropping feature [JAVA SESSION HEAP GC COUNT]\n",
      "Dropping feature [JAVA SESSION HEAP LIVE OBJECT COUNT]\n",
      "Dropping feature [JAVA SESSION HEAP LIVE OBJECT COUNT MAX]\n",
      "Dropping feature [JAVA SESSION HEAP LIVE SIZE]\n",
      "Dropping feature [JAVA SESSION HEAP LIVE SIZE MAX]\n",
      "Dropping feature [JAVA SESSION HEAP OBJECT COUNT]\n",
      "Dropping feature [JAVA SESSION HEAP OBJECT COUNT MAX]\n",
      "Dropping feature [JAVA SESSION HEAP USED SIZE]\n",
      "Dropping feature [JAVA SESSION HEAP USED SIZE MAX]\n",
      "Dropping feature [KA GRANTS RECEIVED]\n",
      "Dropping feature [KA LOCAL MESSAGE WAITS]\n",
      "Dropping feature [KA LOCAL MESSAGES RECEIVED]\n",
      "Dropping feature [KA MESSAGES SENT]\n",
      "Dropping feature [KA WAIT CALLS ATTEMPTED]\n",
      "Dropping feature [KA WAIT CALLS FOR INVALID KGA]\n",
      "Dropping feature [KA WAIT CALLS OTHER]\n",
      "Dropping feature [KA WAIT CALLS SUPPRESSED]\n",
      "Dropping feature [KA WAIT DUE TO TIMEOUT]\n",
      "Dropping feature [KA WAIT DUE TO TRIGGER]\n",
      "Dropping feature [LARGE TRACKED TRANSACTIONS]\n",
      "Dropping feature [LOCAL UNDO SEGMENT HINTS HELPED]\n",
      "Dropping feature [LOCAL UNDO SEGMENT HINTS WERE STALE]\n",
      "Dropping feature [MAX CF ENQ HOLD TIME]\n",
      "Dropping feature [NUMBER OF MAP MISSES]\n",
      "Dropping feature [NUMBER OF MAP OPERATIONS]\n",
      "Dropping feature [PHYSICAL READ FLASH CACHE HITS]\n",
      "Dropping feature [PHYSICAL READ PARTIAL REQUESTS]\n",
      "Dropping feature [PHYSICAL READ REQUESTS OPTIMIZED]\n",
      "Dropping feature [PHYSICAL READ SNAP IO REQUESTS BASE]\n",
      "Dropping feature [PHYSICAL READ SNAP IO REQUESTS COPY]\n",
      "Dropping feature [PHYSICAL READ SNAP IO REQUESTS NO DATA]\n",
      "Dropping feature [PHYSICAL READ SNAP BYTES BASE]\n",
      "Dropping feature [PHYSICAL READ SNAP BYTES COPY]\n",
      "Dropping feature [PHYSICAL READ TOTAL BYTES OPTIMIZED]\n",
      "Dropping feature [PHYSICAL READS CACHE FOR SECUREFILE FLASHBACK BLOCK NEW]\n",
      "Dropping feature [PHYSICAL READS DIRECT FOR SECUREFILE FLASHBACK BLOCK NEW]\n",
      "Dropping feature [PHYSICAL READS FOR FLASHBACK NEW]\n",
      "Dropping feature [PHYSICAL READS PREFETCH WARMUP]\n",
      "Dropping feature [PHYSICAL READS RETRY CORRUPT]\n",
      "Dropping feature [PHYSICAL WRITE REQUESTS OPTIMIZED]\n",
      "Dropping feature [PHYSICAL WRITE SNAP IO REQUESTS NEW ALLOCATIONS]\n",
      "Dropping feature [PHYSICAL WRITE TOTAL BYTES OPTIMIZED]\n",
      "Dropping feature [PREFETCH CLIENTS - 16K]\n",
      "Dropping feature [PREFETCH CLIENTS - 2K]\n",
      "Dropping feature [PREFETCH CLIENTS - 32K]\n",
      "Dropping feature [PREFETCH CLIENTS - 4K]\n",
      "Dropping feature [PREFETCH CLIENTS - 8K]\n",
      "Dropping feature [PREFETCH CLIENTS - KEEP]\n",
      "Dropping feature [PREFETCH CLIENTS - RECYCLE]\n",
      "Dropping feature [PREFETCH WARMUP BLOCKS AGED OUT BEFORE USE]\n",
      "Dropping feature [PREFETCH WARMUP BLOCKS FLUSHED OUT BEFORE USE]\n",
      "Dropping feature [QUEUE FLUSH]\n",
      "Dropping feature [QUEUE OCP PAGES]\n",
      "Dropping feature [QUEUE POSITION UPDATE]\n",
      "Dropping feature [QUEUE QNO PAGES]\n",
      "Dropping feature [QUEUE SINGLE ROW]\n",
      "Dropping feature [QUEUE SPLITS]\n",
      "Dropping feature [QUEUE UPDATE WITHOUT CP UPDATE]\n",
      "Dropping feature [READ-ONLY VIOLATION COUNT]\n",
      "Dropping feature [RECIEVE BUFFER UNAVAILABLE]\n",
      "Dropping feature [RECOVERY ARRAY READ TIME]\n",
      "Dropping feature [RECOVERY ARRAY READS]\n",
      "Dropping feature [RECOVERY BLOCK GETS FROM CACHE]\n",
      "Dropping feature [RECOVERY BLOCKS READ]\n",
      "Dropping feature [RECOVERY BLOCKS READ FOR LOST WRITE DETECTION]\n",
      "Dropping feature [RECOVERY BLOCKS SKIPPED LOST WRITE CHECKS]\n",
      "Dropping feature [RECOVERY MARKER]\n",
      "Dropping feature [RECURSIVE SYSTEM API INVOCATIONS]\n",
      "Dropping feature [REDO KB READ]\n",
      "Dropping feature [REDO KB READ (MEMORY)]\n",
      "Dropping feature [REDO KB READ (MEMORY) FOR TRANSPORT]\n",
      "Dropping feature [REDO KB READ FOR TRANSPORT]\n",
      "Dropping feature [REDO BLOCKS CHECKSUMMED BY LGWR]\n",
      "Dropping feature [REDO BLOCKS READ FOR RECOVERY]\n",
      "Dropping feature [REDO BLOCKS WRITTEN (GROUP 1)]\n",
      "Dropping feature [REDO BLOCKS WRITTEN (GROUP 2)]\n",
      "Dropping feature [REDO BLOCKS WRITTEN (GROUP 3)]\n",
      "Dropping feature [REDO BLOCKS WRITTEN (GROUP 4)]\n",
      "Dropping feature [REDO BLOCKS WRITTEN (GROUP 5)]\n",
      "Dropping feature [REDO BLOCKS WRITTEN (GROUP 6)]\n",
      "Dropping feature [REDO BLOCKS WRITTEN (GROUP 7)]\n",
      "Dropping feature [REDO BUFFER ALLOCATION RETRIES]\n",
      "Dropping feature [REDO ENTRIES FOR LOST WRITE DETECTION]\n",
      "Dropping feature [REDO K-BYTES READ FOR RECOVERY]\n",
      "Dropping feature [REDO K-BYTES READ FOR TERMINAL RECOVERY]\n",
      "Dropping feature [REDO LOG SPACE REQUESTS]\n",
      "Dropping feature [REDO LOG SPACE WAIT TIME]\n",
      "Dropping feature [REDO NON-DURABLE RECORDS SKIPPED]\n",
      "Dropping feature [REDO SIZE FOR LOST WRITE DETECTION]\n",
      "Dropping feature [REDO SYNCH LONG WAITS]\n",
      "Dropping feature [REDO SYNCH POLL WRITES]\n",
      "Dropping feature [REDO SYNCH POLLS]\n",
      "Dropping feature [REDO WRITE BROADCAST ACK COUNT]\n",
      "Dropping feature [REDO WRITE BROADCAST ACK TIME]\n",
      "Dropping feature [REDO WRITE BROADCAST LGWR POST COUNT]\n",
      "Dropping feature [REDO WRITE INFO FIND FAIL]\n",
      "Dropping feature [REDO WRITE ISSUE TIME]\n",
      "Dropping feature [REDO WRITE SIZE COUNT (  64KB)]\n",
      "Dropping feature [REDO WRITES (GROUP 1)]\n",
      "Dropping feature [REDO WRITES (GROUP 2)]\n",
      "Dropping feature [REDO WRITES (GROUP 3)]\n",
      "Dropping feature [REDO WRITES (GROUP 4)]\n",
      "Dropping feature [REDO WRITES (GROUP 5)]\n",
      "Dropping feature [REDO WRITES (GROUP 6)]\n",
      "Dropping feature [REDO WRITES (GROUP 7)]\n",
      "Dropping feature [REMOTE ORADEBUG REQUESTS]\n",
      "Dropping feature [SAGE SEND BLOCK BY CELL]\n",
      "Dropping feature [SCHEDULER WAIT TIME]\n",
      "Dropping feature [SECUREFILE ADD DEDUPD LOB TO SET]\n",
      "Dropping feature [SECUREFILE BYTES CLEARTEXT]\n",
      "Dropping feature [SECUREFILE BYTES DEDUPLICATED]\n",
      "Dropping feature [SECUREFILE BYTES ENCRYPTED]\n",
      "Dropping feature [SECUREFILE COMPRESSED BYTES]\n",
      "Dropping feature [SECUREFILE CREATE DEDUP SET]\n",
      "Dropping feature [SECUREFILE DEDUP CALLBACK OPER FINAL]\n",
      "Dropping feature [SECUREFILE DEDUP FITS INLINE]\n",
      "Dropping feature [SECUREFILE DEDUP FLUSH TOO LOW]\n",
      "Dropping feature [SECUREFILE DEDUP HASH COLLISION]\n",
      "Dropping feature [SECUREFILE DEDUP PREFIX HASH MATCH]\n",
      "Dropping feature [SECUREFILE DEDUP WAPP CACHE MISS]\n",
      "Dropping feature [SECUREFILE DESTROY DEDUP SET]\n",
      "Dropping feature [SECUREFILE INODE IOREAP TIME]\n",
      "Dropping feature [SECUREFILE INODE READ TIME]\n",
      "Dropping feature [SECUREFILE INODE WRITE TIME]\n",
      "Dropping feature [SECUREFILE NUMBER OF FLUSHES]\n",
      "Dropping feature [SECUREFILE REJECT DEDUPLICATION]\n",
      "Dropping feature [SECUREFILE RMV FROM DEDUP SET]\n",
      "Dropping feature [SECUREFILE UNCOMPRESSED BYTES]\n",
      "Dropping feature [SERIALIZABLE ABORTS]\n",
      "Dropping feature [SESSION CONNECT TIME]\n",
      "Dropping feature [SESSION LOGICAL READS - IM]\n",
      "Dropping feature [SESSION LOGICAL READS IN LOCAL NUMA GROUP]\n",
      "Dropping feature [SESSION LOGICAL READS IN REMOTE NUMA GROUP]\n",
      "Dropping feature [SESSION STORED PROCEDURE SPACE]\n",
      "Dropping feature [SHARED IO POOL BUFFER GET FAILURE]\n",
      "Dropping feature [SLAVE PROPAGATED TRACKED TRANSACTIONS]\n",
      "Dropping feature [SPACE WAS FOUND BY TUNE DOWN]\n",
      "Dropping feature [SPACE WAS NOT FOUND BY TUNE DOWN]\n",
      "Dropping feature [SPARE STATISTIC 1]\n",
      "Dropping feature [SPARE STATISTIC 10]\n",
      "Dropping feature [SPARE STATISTIC 11]\n",
      "Dropping feature [SPARE STATISTIC 12]\n",
      "Dropping feature [SPARE STATISTIC 13]\n",
      "Dropping feature [SPARE STATISTIC 14]\n",
      "Dropping feature [SPARE STATISTIC 15]\n",
      "Dropping feature [SPARE STATISTIC 16]\n",
      "Dropping feature [SPARE STATISTIC 17]\n",
      "Dropping feature [SPARE STATISTIC 18]\n",
      "Dropping feature [SPARE STATISTIC 19]\n",
      "Dropping feature [SPARE STATISTIC 2]\n",
      "Dropping feature [SPARE STATISTIC 20]\n",
      "Dropping feature [SPARE STATISTIC 21]\n",
      "Dropping feature [SPARE STATISTIC 22]\n",
      "Dropping feature [SPARE STATISTIC 23]\n",
      "Dropping feature [SPARE STATISTIC 24]\n",
      "Dropping feature [SPARE STATISTIC 25]\n",
      "Dropping feature [SPARE STATISTIC 26]\n",
      "Dropping feature [SPARE STATISTIC 27]\n",
      "Dropping feature [SPARE STATISTIC 28]\n",
      "Dropping feature [SPARE STATISTIC 29]\n",
      "Dropping feature [SPARE STATISTIC 3]\n",
      "Dropping feature [SPARE STATISTIC 30]\n",
      "Dropping feature [SPARE STATISTIC 31]\n",
      "Dropping feature [SPARE STATISTIC 32]\n",
      "Dropping feature [SPARE STATISTIC 33]\n",
      "Dropping feature [SPARE STATISTIC 34]\n",
      "Dropping feature [SPARE STATISTIC 35]\n",
      "Dropping feature [SPARE STATISTIC 36]\n",
      "Dropping feature [SPARE STATISTIC 37]\n",
      "Dropping feature [SPARE STATISTIC 38]\n",
      "Dropping feature [SPARE STATISTIC 39]\n",
      "Dropping feature [SPARE STATISTIC 4]\n",
      "Dropping feature [SPARE STATISTIC 40]\n",
      "Dropping feature [SPARE STATISTIC 5]\n",
      "Dropping feature [SPARE STATISTIC 6]\n",
      "Dropping feature [SPARE STATISTIC 7]\n",
      "Dropping feature [SPARE STATISTIC 8]\n",
      "Dropping feature [SPARE STATISTIC 9]\n",
      "Dropping feature [STEPS OF TUNE DOWN RET. IN SPACE PRESSURE]\n",
      "Dropping feature [TABLE SCAN DISK IMC FALLBACK]\n",
      "Dropping feature [TABLE SCANS (IM)]\n",
      "Dropping feature [TABLE SCANS (CACHE PARTITIONS)]\n",
      "Dropping feature [TOTAL NUMBER OF UNDO SEGMENTS DROPPED]\n",
      "Dropping feature [TRACKED ROWS]\n",
      "Dropping feature [TRACKED TRANSACTIONS]\n",
      "Dropping feature [TRANSACTION LOCK BACKGROUND GET TIME]\n",
      "Dropping feature [TRANSACTION LOCK BACKGROUND GETS]\n",
      "Dropping feature [TRANSACTION LOCK FOREGROUND REQUESTS]\n",
      "Dropping feature [TRANSACTION LOCK FOREGROUND WAIT TIME]\n",
      "Dropping feature [TRANSACTION TABLES CONSISTENT READ ROLLBACKS]\n",
      "Dropping feature [TRANSACTION TABLES CONSISTENT READS - UNDO RECORDS APPLIED]\n",
      "Dropping feature [TUNE DOWN RETENTIONS IN SPACE PRESSURE]\n",
      "Dropping feature [UNDO SEGMENT HEADER WAS PINNED]\n",
      "Dropping feature [VERY LARGE TRACKED TRANSACTIONS]\n",
      "Dropping feature [WRITE CLONES CREATED FOR RECOVERY]\n",
      "Dropping feature [WRITE CLONES CREATED IN BACKGROUND]\n",
      "\n",
      "Shape before changes: [(9, 1179)]\n"
     ]
    },
    {
     "name": "stdout",
     "output_type": "stream",
     "text": [
      "Shape after changes: [(9, 301)]\n",
      "Dropped a total [878]\n"
     ]
    }
   ],
   "source": [
    "class DropFlatline:\n",
    "\n",
    "    @staticmethod\n",
    "    def drop_flatline_columns(df):\n",
    "        \"\"\"\n",
    "        This function removes columns with a flat standard deviation of 0.\n",
    "        \"\"\"\n",
    "        columns = df.columns\n",
    "        flatline_features = []\n",
    "        for i in range(len(columns)):\n",
    "            try:\n",
    "                std = df[columns[i]].std()\n",
    "                if std == 0:\n",
    "                    flatline_features.append(columns[i])\n",
    "                    print('Dropping feature [' + columns[i]  + ']')\n",
    "            except:\n",
    "                pass\n",
    "        #\n",
    "        #print('Features which are considered flatline:\\n')\n",
    "        #for col in flatline_features:\n",
    "        #    print(col)\n",
    "        print('\\nShape before changes: [' + str(df.shape) + ']')\n",
    "        df = df.drop(columns=flatline_features)\n",
    "        print('Shape after changes: [' + str(df.shape) + ']')\n",
    "        print('Dropped a total [' + str(len(flatline_features)) + ']')\n",
    "        return df\n",
    "\n",
    "rep_hist_sysstat_df = DropFlatline.drop_flatline_columns(df=rep_hist_sysstat_df)"
   ]
  },
  {
   "cell_type": "markdown",
   "metadata": {},
   "source": [
    "## Visualizing Feature Distribution & Skewness\n",
    "\n",
    "In order to decide between a normalization strategy, it is important to understand the underlying data spread. Understanding of dataset mean, variance, skewness on a per column/feature basis helps determine whether a standardization or normalization strategy should be utilized on the datasets.\n",
    "\n",
    "### Plotting Data Distribution\n",
    "\n",
    "To better decide which normalization technique ought to be utilized for the technique at hand, a number of feature columns will be plotted as histograms to better convey the distribution spread."
   ]
  },
  {
   "cell_type": "code",
   "execution_count": 126,
   "metadata": {
    "scrolled": true
   },
   "outputs": [],
   "source": [
    "class Visualizer:\n",
    "    \"\"\"\n",
    "    This class contains a number of methods dedicated to plotting the underlying data.\n",
    "    \"\"\"\n",
    "    def __init__(self, df=None, tpc_type=None, table=None):\n",
    "        \"\"\"\n",
    "        Constructor method.\n",
    "        :param df:             (Pandas) Data matrix.\n",
    "        :param tpc_type:       (String) TPC type, used for plot title purposes.\n",
    "        :param table:          (String) Denotes which table is being access, used for plot title/label purposes.\n",
    "        :return: None\n",
    "        \"\"\"\n",
    "        self.__df = df\n",
    "        self.__tpc_type = tpc_type\n",
    "        self.__table = table\n",
    "        \n",
    "    def plot_hist(self, bin_size=10, feature_column=None):\n",
    "        \"\"\"\n",
    "        Plots histogram distribution, split into a number of buckets.\n",
    "        :param bin_size: (Integer) Denotes number of histogram buckets to split data into.\n",
    "        :param feature_column: (String) Denotes which column to plot.\n",
    "        :return: None\n",
    "        \"\"\"\n",
    "        df = self.__df\n",
    "\n",
    "        try:\n",
    "            df['SNAP_ID'] = df['SNAP_ID'].astype(float)\n",
    "            df[feature_column] = df[feature_column].astype(float)\n",
    "\n",
    "            max_val = df[feature_column].max()\n",
    "            start_snap, end_snap = int(df['SNAP_ID'].min()), int(df['SNAP_ID'].max())\n",
    "\n",
    "            df[feature_column].hist(bins=10,figsize=(12,8))\n",
    "            plt.ylabel(feature_column)\n",
    "            plt.xlabel('Bin Ranges Of ' + str(int(max_val/bin_size)))\n",
    "            plt.title(self.__tpc_type + ' Table ' + self.__table.upper() + '.' + str(feature_column) + \" between \" + str(start_snap) + \" - \" + str(end_snap))\n",
    "            plt.show()\n",
    "        except Exception:\n",
    "            print('Could not plot column: ' + feature_column)\n",
    "\n",
    "    def plot_scatter(self, feature_column=None):\n",
    "        \"\"\"\n",
    "        Plots scatter plots vs SNAP_ID.\n",
    "        :param feature_column: (String) Denotes which column to plot.\n",
    "        :return: None\n",
    "        \"\"\"\n",
    "        df = self.__df\n",
    "\n",
    "        try:\n",
    "            df['SNAP_ID'] = df['SNAP_ID'].astype(int)\n",
    "            df[feature_column] = df[feature_column].astype(int)\n",
    "            start_snap, end_snap = int(df['SNAP_ID'].min()), int(df['SNAP_ID'].max())\n",
    "\n",
    "            df.plot.scatter(x='SNAP_ID',\n",
    "                            y=feature_column,\n",
    "                            figsize=(12,8))\n",
    "            plt.ylabel(feature_column)\n",
    "            plt.xlabel('SNAP ID')\n",
    "            plt.title(self.__tpc_type + ' Table ' + self.__table.upper() + '.' + str(feature_column) + \" between \" + str(start_snap) + \" - \" + str(end_snap))\n",
    "            plt.show()\n",
    "        except Exception:\n",
    "            print('Could not plot column: ' + feature_column)\n",
    "\n",
    "    def plot_boxplot(self, feature_columns=None):\n",
    "        \"\"\"\n",
    "        Plots quartile plots to estimate mean and sigma (std dev).\n",
    "        :param feature_colums: (List) List of feature columns. Overrides parameter used in class constructor.\n",
    "        :return: None\n",
    "        \"\"\"\n",
    "        df = self.__df\n",
    "\n",
    "        try:\n",
    "            for feature_column in feature_columns:\n",
    "                df[feature_column] = df[feature_column].astype(int)\n",
    "            df.boxplot(column=feature_columns, figsize=(12,8), grid=True)\n",
    "            plt.title(self.__tpc_type + ' ' + str(feature_columns))\n",
    "            plt.show()\n",
    "        except Exception:\n",
    "            print('Could not plot column: ' + feature_column)\n",
    "            \n",
    "vis = Visualizer(df=rep_hist_sysstat_df, \n",
    "                 tpc_type=tpcds, \n",
    "                 table='rep_hist_sysstat')\n",
    "\n",
    "if debug_mode is False:\n",
    "    \n",
    "    # Plotting Histograms of data distribution\n",
    "    for header in rep_hist_sysstat_df.columns:\n",
    "        print('REP_HIST_SYSSTAT - ' + header + ' - OUTLIERS HISTOGRAM')\n",
    "        vis.plot_hist(bin_size=10, feature_column=header)\n",
    "    \n",
    "    # Plotting Scatter Plots of data distribution\n",
    "    for header in rep_hist_sysstat_df.columns:\n",
    "        print('REP_HIST_SYSSTAT - ' + header + ' - OUTLIERS SCATTER')\n",
    "        vis.plot_scatter(feature_column=header)"
   ]
  },
  {
   "cell_type": "markdown",
   "metadata": {},
   "source": [
    "### Outlier Handling\n",
    "\n",
    "https://machinelearningmastery.com/how-to-identify-outliers-in-your-data/\n",
    "\n",
    "As can be appreciated from the previous plots, data is heavily skewed on particular (smallest) bins. This skew in the plotted histograms is a result of data point outliers - these need to be evaluated and removed if neccessary.\n",
    "\n",
    "Following the 3 Standard Deviation Rule, we can categorize our dataset into subsets consisting of the following ranges:\n",
    "* 0     - 68.27%\n",
    "* 68.28 - 95.45%\n",
    "* 95.46 - 99.73%\n",
    "* 99.74 - 100%\n",
    "\n",
    "It should be mentioned, that given the time series nature of the dataset, it is not a safe assumption to ignore outliers. By training respective models on outlier insensitive dataset, we would invite a potential problem, which risks blinding any models we train to future predicted spikes of activity."
   ]
  },
  {
   "cell_type": "code",
   "execution_count": 127,
   "metadata": {
    "scrolled": true
   },
   "outputs": [
    {
     "name": "stdout",
     "output_type": "stream",
     "text": [
      "\n",
      "\n",
      "DATAFRAMES WITH OUTLIERS\n",
      "(9, 301)\n",
      "----------------------------\n",
      "\n",
      "\n",
      "OUTLIERS\n",
      "0\n",
      "----------------------------\n",
      "\n",
      "\n",
      "DATAFRAMES WITHOUT OUTLIERS\n",
      "(9, 301)\n"
     ]
    }
   ],
   "source": [
    "class OutlierHandling:\n",
    "    \"\"\"\n",
    "    This class handles outlier detection and removal methods.\n",
    "    \"\"\"\n",
    "    def __init__(self, df, low_quartile_limit=.01,upper_quartile_limit=.99):\n",
    "        \"\"\"\n",
    "        Constructor method.\n",
    "        :param df:                   (Pandas) Dataframe consisting of input features to be pruned of outliers.\n",
    "        :param low_quartile_limit:   (Float) Lower percentage threshold for removal of outliers.\n",
    "        :param upper_quartile_limit: (Float) Upper percentage threshold for removal of outliers.\n",
    "        :return: None\n",
    "        \"\"\"\n",
    "        self.__df = df\n",
    "        self.__low_quartile_limit = low_quartile_limit\n",
    "        self.__upper_quartile_limit = upper_quartile_limit\n",
    "        self.__headers= df.columns\n",
    "        \n",
    "    def get_outliers(self):\n",
    "        \"\"\"\n",
    "        Detect and return which rows are considered outliers within the dataset, determined by :quartile_limit (99%)\n",
    "        :return: (List) A list denoting row positions of detected outliers.\n",
    "        \"\"\"\n",
    "        outlier_rows = [] # This list of lists consists of elements of the following notation [column,rowid]\n",
    "        df = self.__df\n",
    "        for header in self.__headers:\n",
    "            try:\n",
    "                df[header] = df[header].astype(float)\n",
    "                q = df[header].quantile(self.__upper_quartile_limit)\n",
    "                series_row = (df[df[header] > q].index)\n",
    "                for id in list(np.array(series_row)):\n",
    "                    outlier_rows.append([header,id])\n",
    "                q = df[header].quantile(self.__low_quartile_limit)\n",
    "                series_row = (df[df[header] < q].index)\n",
    "                for id in list(np.array(series_row)):\n",
    "                    outlier_rows.append([header,id])\n",
    "            except Exception as e:\n",
    "                print(str(e))\n",
    "\n",
    "        unique_ids = []\n",
    "        unique_outlier_rows = []\n",
    "\n",
    "        for col, rowid in outlier_rows:\n",
    "            if rowid not in unique_ids:\n",
    "                unique_outlier_rows.append([col,rowid])\n",
    "                unique_ids.append(rowid)\n",
    "        return unique_outlier_rows\n",
    "\n",
    "    def remove_outliers(self):\n",
    "        \"\"\"\n",
    "        Remove rows which are considered outliers within the dataset, determined by :quartile_limit (99%).\n",
    "        :return: (Pandas) Dataframe with pruned outliers.\n",
    "        \"\"\"\n",
    "        df = self.__df\n",
    "        length_before = len(df)\n",
    "        outliers_index = []\n",
    "        for header in self.__headers:\n",
    "            try:\n",
    "                df[header] = df[header].astype(float)\n",
    "                q = df[header].quantile(self.__upper_quartile_limit)\n",
    "                outliers_index.append(list(np.array(df[df[header] > q].index)))\n",
    "                q = df[header].quantile(self.__low_quartile_limit)\n",
    "                outliers_index.append(list(np.array(df[df[header] < q].index)))\n",
    "            except Exception as e:\n",
    "                print(str(e))\n",
    "        #flat_outliers_index = [item for sublist in l for item in outliers_index]\n",
    "        flat_outliers_index = [item for sublist in outliers_index for item in sublist]\n",
    "        outliers_index = list(set(flat_outliers_index))\n",
    "        df = df.drop(outliers_index)\n",
    "        return df\n",
    "    \n",
    "oh = OutlierHandling(df=rep_hist_sysstat_df,\n",
    "                     upper_quartile_limit=upper_quartile_limit,\n",
    "                     low_quartile_limit=low_quartile_limit)\n",
    "\n",
    "#Printing outliers to screen\n",
    "outliers = oh.get_outliers()\n",
    "\n",
    "# Printing dataframe before adjustments\n",
    "print('\\n\\nDATAFRAMES WITH OUTLIERS')\n",
    "print(rep_hist_sysstat_df.shape)\n",
    "print('----------------------------')\n",
    "\n",
    "rep_hist_sysstat_df_outliers = oh.get_outliers()\n",
    "print('\\n\\nOUTLIERS')\n",
    "print(len(rep_hist_sysstat_df_outliers))\n",
    "print('----------------------------')\n",
    "\n",
    "# Dropping Outliers\n",
    "rep_hist_sysstat_df_pruned = oh.remove_outliers()\n",
    "print('\\n\\nDATAFRAMES WITHOUT OUTLIERS')\n",
    "print(rep_hist_sysstat_df_pruned.shape)"
   ]
  },
  {
   "cell_type": "markdown",
   "metadata": {},
   "source": [
    "### Plotting data distribution without outliers\n",
    "\n",
    "Plotting metrics against SNAP_ID, without outliers."
   ]
  },
  {
   "cell_type": "code",
   "execution_count": 128,
   "metadata": {
    "scrolled": true
   },
   "outputs": [],
   "source": [
    "if debug_mode is False:\n",
    "    \n",
    "    # Plotting Histograms without Outliers\n",
    "    for header in rep_hist_sysstat_df_pruned.columns:\n",
    "        print('REP_HIST_SYSSTAT - ' + header + ' - STRIPPED HISTOGRAM')\n",
    "        plot_hist(df=rep_hist_sysstat_df_pruned, tpc_type=tpcds, table='rep_hist_sysstat', feature_column=header, bin_size=10)\n",
    "    \n",
    "    # Plotting Scatter Plots without Outliers\n",
    "    for header in rep_hist_sysstat_df_pruned.columns:\n",
    "        print('REP_HIST_SYSSTAT - ' + header + ' - STRIPPED SCATTER')\n",
    "        plot_scatter(df=rep_hist_sysstat_df_pruned, tpc_type=tpcds,table='rep_hist_sysstat',feature_column=header)"
   ]
  },
  {
   "cell_type": "markdown",
   "metadata": {},
   "source": [
    "### Dropping Redundant Columns\n",
    "\n",
    "Dropping redundant columns which are not detrimental to the task at hand (NB: This is only the first steps towards feature selection. This step ensures that specific columns which are SURELY not useful are dropped ahead of time)."
   ]
  },
  {
   "cell_type": "markdown",
   "metadata": {
    "scrolled": true
   },
   "source": [
    "http://benalexkeen.com/feature-scaling-with-scikit-learn/\n",
    "\n",
    "Based on the above plots, one can argue that the data distribution is uneven, and does not correlate to any particular pattern. A normalization approach (MinMaxScaling and/or RobustScaling) to the presented dataset is a more likely candidate than standardizing of the presented dataset. \n",
    "\n",
    "Reasons behind normalizing the dataset rather than standardizing, is due to the vast standard deviations from the mean for several feature columns."
   ]
  },
  {
   "cell_type": "code",
   "execution_count": 129,
   "metadata": {},
   "outputs": [
    {
     "name": "stdout",
     "output_type": "stream",
     "text": [
      "----------Before----------\n",
      "Index(['SNAP_ID', 'BATCHED IO (BOUND) VECTOR COUNT',\n",
      "       'BATCHED IO (FULL) VECTOR COUNT', 'BATCHED IO (SPACE) VECTOR COUNT',\n",
      "       'BATCHED IO BLOCK MISS COUNT', 'BATCHED IO BUFFER DEFRAG COUNT',\n",
      "       'BATCHED IO DOUBLE MISS COUNT', 'BATCHED IO SAME UNIT COUNT',\n",
      "       'BATCHED IO SINGLE BLOCK COUNT', 'BATCHED IO SLOW JUMP COUNT',\n",
      "       ...\n",
      "       'USER CALLS', 'USER COMMITS', 'USER LOGONS CUMULATIVE',\n",
      "       'USER LOGOUTS CUMULATIVE', 'USER ROLLBACKS',\n",
      "       'WORKAREA EXECUTIONS - MULTIPASS', 'WORKAREA EXECUTIONS - ONEPASS',\n",
      "       'WORKAREA EXECUTIONS - OPTIMAL', 'WORKAREA MEMORY ALLOCATED',\n",
      "       'WRITE CLONES CREATED IN FOREGROUND'],\n",
      "      dtype='object', name='STAT_NAME', length=301)\n",
      "----------After----------\n",
      "Index(['SNAP_ID', 'BATCHED IO (BOUND) VECTOR COUNT',\n",
      "       'BATCHED IO (FULL) VECTOR COUNT', 'BATCHED IO (SPACE) VECTOR COUNT',\n",
      "       'BATCHED IO BLOCK MISS COUNT', 'BATCHED IO BUFFER DEFRAG COUNT',\n",
      "       'BATCHED IO DOUBLE MISS COUNT', 'BATCHED IO SAME UNIT COUNT',\n",
      "       'BATCHED IO SINGLE BLOCK COUNT', 'BATCHED IO SLOW JUMP COUNT',\n",
      "       ...\n",
      "       'USER CALLS', 'USER COMMITS', 'USER LOGONS CUMULATIVE',\n",
      "       'USER LOGOUTS CUMULATIVE', 'USER ROLLBACKS',\n",
      "       'WORKAREA EXECUTIONS - MULTIPASS', 'WORKAREA EXECUTIONS - ONEPASS',\n",
      "       'WORKAREA EXECUTIONS - OPTIMAL', 'WORKAREA MEMORY ALLOCATED',\n",
      "       'WRITE CLONES CREATED IN FOREGROUND'],\n",
      "      dtype='object', name='STAT_NAME', length=301)\n"
     ]
    }
   ],
   "source": [
    "class NonNumericStrip:\n",
    "    \"\"\"\n",
    "    This class contains a method dedicated to feature removing if they contain non-numeric data\n",
    "    \"\"\"\n",
    "    @staticmethod\n",
    "    def remove_non_numeric_columns(df):\n",
    "        \"\"\"\n",
    "        Accepts data matrix, and returns another matrix with stripped columns containing non-numeric data.\n",
    "        :param df: (Pandas) Data matrix\n",
    "        :return: (Pandas) Data matrix\n",
    "        \"\"\"\n",
    "        print('-'*10 + 'Before' + '-'*10)\n",
    "        print(df.columns)\n",
    "        col_list = []\n",
    "        for col in df.columns:\n",
    "            try:\n",
    "                df[col] = df[col].astype(float)\n",
    "                col_list.append(col)\n",
    "            except ValueError:\n",
    "                print('Column ' + str(col) + ' contains non numeric data')\n",
    "        df = df[col_list]\n",
    "        print('-'*10 + 'After' + '-'*10)\n",
    "        print(df.columns)\n",
    "        return df\n",
    "rep_hist_sysstat_df_pruned = NonNumericStrip.remove_non_numeric_columns(df=rep_hist_sysstat_df_pruned)"
   ]
  },
  {
   "cell_type": "markdown",
   "metadata": {},
   "source": [
    "### Dataset Consolidation\n",
    "\n",
    "Grouping datasets on SNAP_ID"
   ]
  },
  {
   "cell_type": "code",
   "execution_count": 130,
   "metadata": {},
   "outputs": [
    {
     "name": "stdout",
     "output_type": "stream",
     "text": [
      "REP_HIST_SYSSTAT shape after transformation: (9, 301)\n"
     ]
    }
   ],
   "source": [
    "rep_hist_sysstat_df_pruned = rep_hist_sysstat_df_pruned[rep_hist_sysstat_df_pruned['SNAP_ID'] > 0]\n",
    "\n",
    "# Group By Values by SNAP_ID , sum all metrics (for table REP_HIST_SNAPSHOT)\n",
    "rep_hist_sysstat_df_pruned = rep_hist_sysstat_df_pruned.groupby(['SNAP_ID']).sum()\n",
    "rep_hist_sysstat_df_pruned.reset_index(inplace=True)\n",
    "\n",
    "print(\"REP_HIST_SYSSTAT shape after transformation: \" + str(rep_hist_sysstat_df_pruned.shape))"
   ]
  },
  {
   "cell_type": "markdown",
   "metadata": {},
   "source": [
    "### Normalization\n",
    "\n",
    "Relavent Sources:\n",
    "\n",
    "* http://jmlr.csail.mit.edu/papers/volume3/guyon03a/guyon03a.pdf\n",
    "* https://machinelearningmastery.com/rescaling-data-for-machine-learning-in-python-with-scikit-learn/\n",
    "\n",
    "https://machinelearningmastery.com/normalize-standardize-time-series-data-python/ recommends a normalization preprocessing technique for data distribution that can closely approximate minimum and maximum observable values per column:\n",
    "\n",
    "<i>\"Normalization requires that you know or are able to accurately estimate the minimum and maximum observable values. You may be able to estimate these values from your available data. If your time series is trending up or down, estimating these expected values may be difficult and normalization may not be the best method to use on your problem.\"</i>\n",
    "\n",
    "Normalization formula is stated as follows: $$y=(x-min)/(max-min)$$\n",
    "\n",
    "### Standardization\n",
    "\n",
    "https://machinelearningmastery.com/normalize-standardize-time-series-data-python/ recommends a standardization preprocessing technique for data distributions that observe a Gaussian spread, with a mean of 0 and a standard deviation of 1 (approximately close to these values):\n",
    "\n",
    "<i>\"Standardization assumes that your observations fit a Gaussian distribution (bell curve) with a well behaved mean and standard deviation. You can still standardize your time series data if this expectation is not met, but you may not get reliable results.\"</i>\n",
    "\n",
    "Standardization formula is stated as follows: $$y=(x-mean)/StandardDeviation$$\n",
    "Mean defined as: $$mean=sum(x)/count(x)$$\n",
    "Standard Deviation defined as: $$StandardDeviation=sqrt(sum((x-mean)^2)/count(x))$$"
   ]
  },
  {
   "cell_type": "code",
   "execution_count": 131,
   "metadata": {
    "scrolled": true
   },
   "outputs": [
    {
     "name": "stdout",
     "output_type": "stream",
     "text": [
      "------------------BEFORE------------------\n",
      "------------------REP_HIST_SYSSTAT------------------\n",
      "(9, 301)\n",
      "\n",
      "\n",
      "\n",
      "\n",
      "------------------AFTER------------------\n",
      "------------------REP_HIST_SYSSTAT------------------\n",
      "(9, 301)\n",
      "\n",
      "\n",
      "\n",
      "\n",
      "\n",
      "REP_HIST_SYSSTAT\n",
      "STAT_NAME       SNAP_ID  BATCHED IO (BOUND) VECTOR COUNT  \\\n",
      "0          6.577301e-12                         0.000006   \n",
      "1          6.577419e-12                         0.000006   \n",
      "2          6.577176e-12                         0.000006   \n",
      "3          6.576853e-12                         0.000006   \n",
      "4          6.576659e-12                         0.000006   \n",
      "\n",
      "STAT_NAME  BATCHED IO (FULL) VECTOR COUNT  BATCHED IO (SPACE) VECTOR COUNT  \\\n",
      "0                            4.352173e-09                     2.523869e-12   \n",
      "1                            4.352168e-09                     2.523856e-12   \n",
      "2                            4.352100e-09                     2.523856e-12   \n",
      "3                            4.352066e-09                     2.523674e-12   \n",
      "4                            4.352034e-09                     2.523542e-12   \n",
      "\n",
      "STAT_NAME  BATCHED IO BLOCK MISS COUNT  BATCHED IO BUFFER DEFRAG COUNT  \\\n",
      "0                             0.000019                    2.704481e-08   \n",
      "1                             0.000019                    2.704475e-08   \n",
      "2                             0.000019                    2.704429e-08   \n",
      "3                             0.000019                    2.704377e-08   \n",
      "4                             0.000019                    2.704305e-08   \n",
      "\n",
      "STAT_NAME  BATCHED IO DOUBLE MISS COUNT  BATCHED IO SAME UNIT COUNT  \\\n",
      "0                          4.810423e-07                    0.000012   \n",
      "1                          4.810430e-07                    0.000012   \n",
      "2                          4.810461e-07                    0.000012   \n",
      "3                          4.810560e-07                    0.000012   \n",
      "4                          4.810521e-07                    0.000012   \n",
      "\n",
      "STAT_NAME  BATCHED IO SINGLE BLOCK COUNT  BATCHED IO SLOW JUMP COUNT  \\\n",
      "0                               0.000005                4.015363e-07   \n",
      "1                               0.000005                4.015368e-07   \n",
      "2                               0.000005                4.015473e-07   \n",
      "3                               0.000005                4.015642e-07   \n",
      "4                               0.000005                4.015649e-07   \n",
      "\n",
      "STAT_NAME                 ...                    USER CALLS  USER COMMITS  \\\n",
      "0                         ...                  7.580654e-08  3.675905e-09   \n",
      "1                         ...                  7.580647e-08  3.675889e-09   \n",
      "2                         ...                  7.580495e-08  3.675672e-09   \n",
      "3                         ...                  7.580284e-08  3.675411e-09   \n",
      "4                         ...                  7.580205e-08  3.675221e-09   \n",
      "\n",
      "STAT_NAME  USER LOGONS CUMULATIVE  USER LOGOUTS CUMULATIVE  USER ROLLBACKS  \\\n",
      "0                    1.488409e-09             1.488407e-09    8.566277e-11   \n",
      "1                    1.488409e-09             1.488407e-09    8.566234e-11   \n",
      "2                    1.488418e-09             1.488414e-09    8.565735e-11   \n",
      "3                    1.488426e-09             1.488422e-09    8.565118e-11   \n",
      "4                    1.488453e-09             1.488451e-09    8.564849e-11   \n",
      "\n",
      "STAT_NAME  WORKAREA EXECUTIONS - MULTIPASS  WORKAREA EXECUTIONS - ONEPASS  \\\n",
      "0                             1.515018e-15                   3.642059e-11   \n",
      "1                             1.515011e-15                   3.642070e-11   \n",
      "2                             1.514920e-15                   3.642004e-11   \n",
      "3                             1.514811e-15                   3.642044e-11   \n",
      "4                             1.514731e-15                   3.642034e-11   \n",
      "\n",
      "STAT_NAME  WORKAREA EXECUTIONS - OPTIMAL  WORKAREA MEMORY ALLOCATED  \\\n",
      "0                           3.032573e-08               2.421908e-11   \n",
      "1                           3.032578e-08               2.576882e-12   \n",
      "2                           3.032565e-08               8.489641e-11   \n",
      "3                           3.032548e-08               8.140577e-11   \n",
      "4                           3.032569e-08               0.000000e+00   \n",
      "\n",
      "STAT_NAME  WRITE CLONES CREATED IN FOREGROUND  \n",
      "0                                6.609642e-10  \n",
      "1                                6.609608e-10  \n",
      "2                                6.609213e-10  \n",
      "3                                6.608738e-10  \n",
      "4                                6.608391e-10  \n",
      "\n",
      "[5 rows x 301 columns]\n"
     ]
    }
   ],
   "source": [
    "class Normalizer:\n",
    "\n",
    "    @staticmethod\n",
    "    def robust_scaler(dataframe):\n",
    "        \"\"\"\n",
    "        Normalize df using interquartile ranges as min-max, this way outliers do not play a heavy emphasis on the\n",
    "        normalization of values.\n",
    "        :param dataframe: (Pandas) Pandas data matrix\n",
    "        :return: (Pandas) Normalized data matrix\n",
    "        \"\"\"\n",
    "        headers = dataframe.columns\n",
    "        X = preprocessing.robust_scale(dataframe.values)\n",
    "        return pd.DataFrame(X, columns=headers)\n",
    "\n",
    "    @staticmethod\n",
    "    def minmax_scaler(dataframe):\n",
    "        \"\"\"\n",
    "        Normalize df using min-max ranges for normalization method\n",
    "        :param dataframe: (Pandas) Pandas data matrix\n",
    "        :return: (Pandas) Normalized data matrix\n",
    "        \"\"\"\n",
    "        headers = dataframe.columns\n",
    "        X = preprocessing.minmax_scale(dataframe.values)\n",
    "        return pd.DataFrame(X, columns=headers)\n",
    "\n",
    "    @staticmethod\n",
    "    def normalize(dataframe):\n",
    "        \"\"\"\n",
    "        The normalizer scales each value by dividing each value by its magnitude in n-dimensional space for n number of features.\n",
    "        :param dataframe: (Pandas) Pandas data matrix\n",
    "        :return: (Pandas) Normalized data matrix\n",
    "        \"\"\"\n",
    "        headers = dataframe.columns\n",
    "        X = preprocessing.normalize(dataframe.values)\n",
    "        return pd.DataFrame(X, columns=headers)\n",
    "\n",
    "print('------------------BEFORE------------------')\n",
    "print('------------------REP_HIST_SYSSTAT------------------')\n",
    "print(rep_hist_sysstat_df_pruned.shape)\n",
    "print('\\n')\n",
    "#print(rep_hist_snapshot_df_pruned.head())\n",
    "#\n",
    "# ROBUST SCALER\n",
    "# rep_hist_sysstat_df_pruned_norm = Normalizer.robust_scaler(dataframe=rep_hist_sysstat_df_pruned)\n",
    "#\n",
    "# MINMAX SCALER\n",
    "# rep_hist_sysstat_df_pruned_norm = Normalizer.minmax_scaler(dataframe=rep_hist_sysstat_df_prunedt)\n",
    "#\n",
    "# NORMALIZER\n",
    "rep_hist_sysstat_df_pruned_norm = Normalizer.normalize(dataframe=rep_hist_sysstat_df_pruned)\n",
    "\n",
    "print('\\n\\n------------------AFTER------------------')\n",
    "print('------------------REP_HIST_SYSSTAT------------------')\n",
    "print(rep_hist_sysstat_df_pruned_norm.shape)\n",
    "print('\\n\\n')\n",
    "print('\\n\\nREP_HIST_SYSSTAT')\n",
    "print(rep_hist_sysstat_df_pruned_norm.head())"
   ]
  },
  {
   "cell_type": "markdown",
   "metadata": {},
   "source": [
    "# Filter Methods\n",
    "\n",
    "* https://machinelearningmastery.com/feature-selection-machine-learning-python/\n",
    "\n",
    "Filter methods allow for the univariate analysis of features. Particularly, the following statistical methods have been considered and dismissed as explained below:\n",
    "\n",
    "* Information Gain - Data at hand is continous by nature, whilst MI is usually applicable against discrete values / binned labels.\n",
    "* Pearson Correlation Coefficient - Applicable to data with linear distributions, which is not the case for the majority of the presented features."
   ]
  },
  {
   "cell_type": "code",
   "execution_count": 132,
   "metadata": {},
   "outputs": [],
   "source": [
    "class FeatureImportance:\n",
    "    \"\"\"\n",
    "    This class is dedicated to containing methods related to feature ranking. Features are ranked exclusively, or mutually with\n",
    "    repsect to other features.\n",
    "    \"\"\"\n",
    "    @staticmethod\n",
    "    def chi2_test(top_n_features=30, X_df=None, y_df=None, table=None):\n",
    "        \"\"\"\n",
    "        Carries out a chi squared test on passed X,y dataframes, selecting top N features ranked by highest scoring.\n",
    "        :param top_n_features: (Integer) Denotes number of top features to plot.\n",
    "        :param x_df:           (Pandas) Pandas feature matrix.\n",
    "        :param y_df:           (Pandas) Pandas label matrix.\n",
    "        :param table:          (String) Denotes which table is being operated on.\n",
    "        :return: None\n",
    "        \"\"\"\n",
    "        headers = X_df.columns\n",
    "        X_df = X_df.values\n",
    "        y_df = y_df.values\n",
    "        chi2_selector = SelectKBest(score_func=chi2, k=top_n_features)\n",
    "        X_kbest = chi2_selector.fit_transform(X_df, y_df)\n",
    "        print('\\n\\nTable [' + table.upper() + ']')\n",
    "        print('Original number of features: ' + str(X_df.shape[1]))\n",
    "        print('Reduced number of features: ' + str(X_kbest.shape[1]) + \"\\n\")\n",
    "        outcome = chi2_selector.get_support()\n",
    "\n",
    "        scoring_sheet = []\n",
    "        for i in range(0,len(headers)-1):\n",
    "            if outcome[i]:\n",
    "                scoring_sheet.append([headers[i],chi2_selector.scores_[i]])\n",
    "\n",
    "        scoring_sheet = sorted(scoring_sheet, key=itemgetter(1), reverse=True)\n",
    "        [print('Feature [' + str(row) + '] with score [' + str(score) + ']') for row, score in scoring_sheet[:top_n_features]]\n",
    "\n",
    "        scoring_sheet = pd.Series((v[1] for v in scoring_sheet[:top_n_features]) )\n",
    "        scoring_sheet[:top_n_features].plot.bar()\n",
    "        \n",
    "        FeatureImportance.__plot_metrics(ylabel='CHI2 RANKING',\n",
    "                                         xlabel='FEATURES',\n",
    "                                         title='Features Ranked By Chi2 Scoring')\n",
    "      \n",
    "    @staticmethod\n",
    "    def rfr_ranking(X_df=None, y_df=None, top_n_features=30, parallel_degree=1):\n",
    "        \"\"\"\n",
    "        Ranks features using a filter RFR method, and plots them in descending order (ranked by importance)\n",
    "        :param x_df:           (Pandas) Pandas feature matrix.\n",
    "        :param y_df:           (Pandas) Pandas label matrix.\n",
    "        :param top_n_features: (Integer) Denotes number of top features to plot.\n",
    "        :param parallel_degree:(Integer) Denotes model training parallel degree.\n",
    "        :return: None\n",
    "        \"\"\"\n",
    "        headers = X_df.columns\n",
    "        X_df = X_df.values\n",
    "        y_df = y_df.values\n",
    "        rfr = RandomForestRegressor(n_estimators=500,\n",
    "                                    n_jobs=parallel_degree)\n",
    "        rfr.fit(X_df, y_df)\n",
    "        importances = pd.DataFrame({'feature':headers,\n",
    "                                    'importance':np.round(rfr.feature_importances_,3)})\n",
    "        importances = importances.sort_values('importance',ascending=False).set_index('feature')\n",
    "        print(importances[:top_n_features])\n",
    "        importances[:top_n_features].plot.bar()\n",
    "        \n",
    "        FeatureImportance.__plot_metrics(ylabel='RANDOM FOREST RANKING',\n",
    "                                         xlabel='FEATURES',\n",
    "                                         title='Features Ranked By Random Forest Scoring')\n",
    "        \n",
    "    @staticmethod\n",
    "    def __plot_metrics(ylabel, xlabel, title):\n",
    "        \"\"\"\n",
    "        Private method used to plot metrics for statistical feature evaluation\n",
    "        :param ylabel: (String) ylabel title name.\n",
    "        :param xlabel: (String) xlabel title name.\n",
    "        :param title:  (String) plot title name.\n",
    "        :return: None\n",
    "        \"\"\"\n",
    "        plt.ylabel(ylabel)\n",
    "        plt.xlabel(xlabel)\n",
    "        plt.title(title)\n",
    "        plt.rcParams['figure.figsize'] = [20, 15]\n",
    "        plt.show()"
   ]
  },
  {
   "cell_type": "markdown",
   "metadata": {},
   "source": [
    "### Chi2\n",
    "\n",
    "Therefore, a likely candidate for a first univariate, filter test is a chi2 measure, between X labels 'SNAP_ID', and other output 'y' labels. NB: Due to chi2 requiring non-nagative values, a data normalization strategy was opted for (Refer to above cell).\n",
    "\n",
    "The following cell computes the chi2 value for each feature pertaining in the following tables, in relation to the SNAP_ID feature:\n",
    "* REP_HIST_SYSSTAT"
   ]
  },
  {
   "cell_type": "code",
   "execution_count": 133,
   "metadata": {
    "scrolled": true
   },
   "outputs": [],
   "source": [
    "# FeatureImportance.chi2_test(top_n_features=top_n_features, \n",
    "#                             X_df=rep_hist_sysstat_df_pruned_norm, \n",
    "#                             y_df=rep_hist_sysstat_df_pruned['SNAP_ID'], \n",
    "#                             table='REP_HIST_SYSSTAT')"
   ]
  },
  {
   "cell_type": "markdown",
   "metadata": {},
   "source": [
    "### Random Forest Feature Importance\n",
    "\n",
    "Calculating MI (Mutual Information) scoring between data matrix X (feature vectors) and target column y ('SNAP_ID') "
   ]
  },
  {
   "cell_type": "code",
   "execution_count": 134,
   "metadata": {
    "scrolled": true
   },
   "outputs": [
    {
     "name": "stdout",
     "output_type": "stream",
     "text": [
      "                                        importance\n",
      "feature                                           \n",
      "SESSION UGA MEMORY MAX                       0.362\n",
      "PHYSICAL WRITE TOTAL BYTES                   0.121\n",
      "PHYSICAL WRITE BYTES                         0.111\n",
      "LOGICAL READ BYTES FROM CACHE                0.086\n",
      "FILE IO WAIT TIME                            0.078\n",
      "PHYSICAL READ BYTES                          0.075\n",
      "CELL PHYSICAL IO INTERCONNECT BYTES          0.055\n",
      "PHYSICAL READ TOTAL BYTES                    0.050\n",
      "SESSION PGA MEMORY MAX                       0.008\n",
      "TABLE FETCH BY ROWID                         0.006\n",
      "PX LOCAL MESSAGES RECV'D                     0.003\n",
      "PX LOCAL MESSAGES SENT                       0.003\n",
      "KTFB ALLOC SPACE (BLOCK)                     0.003\n",
      "TBS EXTENSION: BYTES EXTENDED                0.003\n",
      "SESSION UGA MEMORY                           0.003\n",
      "TABLE SCAN DISK NON-IMC ROWS GOTTEN          0.003\n",
      "BYTES SENT VIA SQL*NET TO CLIENT             0.003\n",
      "BYTES VIA SQL*NET VECTOR TO CLIENT           0.003\n",
      "NO BUFFER TO KEEP PINNED COUNT               0.003\n",
      "BUFFER IS PINNED COUNT                       0.002\n",
      "SECUREFILE DIRECT WRITE BYTES                0.002\n",
      "SECUREFILE DIRECT READ BYTES                 0.002\n",
      "SECUREFILE BYTES NON-TRANSFORMED             0.002\n",
      "TABLE SCAN BLOCKS GOTTEN                     0.002\n",
      "BYTES RECEIVED VIA SQL*NET FROM CLIENT       0.002\n",
      "INDEX SCANS KDIIXS1                          0.001\n",
      "SORTS (ROWS)                                 0.001\n",
      "SEGMENT PREALLOC BYTES                       0.001\n",
      "SESSION PGA MEMORY                           0.001\n",
      "SECUREFILE ALLOCATION BYTES                  0.001\n"
     ]
    },
    {
     "data": {
      "image/png": "[encoded data removed]",
      "text/plain": [
       "<Figure size 1440x1080 with 1 Axes>"
      ]
     },
     "metadata": {
      "needs_background": "light"
     },
     "output_type": "display_data"
    }
   ],
   "source": [
    "FeatureImportance.rfr_ranking(top_n_features=top_n_features,\n",
    "                              X_df=rep_hist_sysstat_df_pruned_norm, \n",
    "                              y_df=rep_hist_sysstat_df_pruned['SNAP_ID'], \n",
    "                              parallel_degree=parallel_degree)"
   ]
  },
  {
   "cell_type": "markdown",
   "metadata": {},
   "source": [
    "### Wrapper Methods\n",
    "\n",
    "Use a number of machine learning models to evaluate features together and rank by highest. The following machine learning models will be opted for:\n",
    "\n",
    "* Random Forest Classifier\n",
    "* Gradient Boosting\n",
    "\n",
    "In a 'Brute-Fore' approach, these machine learning heuristics will strip away 1 feature at a time in a method referred to as 'Recursive Feature Elimination', and compare accuracy with every variable elimination. This allows the respective classifier to establish an optimum feature configuration with the highest accuracy score.\n",
    "\n",
    "https://www.fabienplisson.com/choosing-right-features/"
   ]
  },
  {
   "cell_type": "code",
   "execution_count": 135,
   "metadata": {},
   "outputs": [],
   "source": [
    "class EnsembleWrappers:\n",
    "    \"\"\"\n",
    "    This class contains wrapper methods, which utilize ensemble methods to gauge feature pairings. Features are combined together\n",
    "    and then stripped one at a time. Each feature combination is evaluated per feature count, so as to establish the optimum\n",
    "    feature count cut off.\n",
    "    \"\"\"\n",
    "    @staticmethod\n",
    "    def rfr_wrapper(X_df=None, y_df=None, test_split=.4, table_name=None, top_n_features=10, parallel_degree=1):\n",
    "        \"\"\"\n",
    "        Random Forest Regressor - Takes data matrix and target vector, and evaluates best combination of features \n",
    "        using an RFR model.\n",
    "        :param x_df:           (Pandas) Pandas feature matrix.\n",
    "        :param y_df:           (Pandas) Pandas label matrix.\n",
    "        :param test_split:     (Float) Denotes training/testing data split.\n",
    "        :param table_name:     (String) Denotes which table is being operated on.\n",
    "        :param top_n_features: (Integer) Denotes number of top features to plot.\n",
    "        :param parallel_degree:(Integer) Denotes model training parallel degree.\n",
    "        :return: Model Scoring, for best feature combination count\n",
    "        :return: Recommended feature count, as per best achieved score\n",
    "        \"\"\"\n",
    "        X_df = X_df.values\n",
    "        y_df = y_df.values\n",
    "\n",
    "        val_op, optimum_features = 0, 0\n",
    "        val_op = 0\n",
    "        X_train, X_test, y_train, y_test = train_test_split(X_df, y_df, test_size=test_split)\n",
    "        model = RandomForestRegressor(n_estimators=500, \n",
    "                                      n_jobs=parallel_degree)\n",
    "        model.fit(X_train, y_train)\n",
    "\n",
    "        # make predictions for test data and evaluate\n",
    "        pred_y = model.predict(X_test)\n",
    "        predictions = [round(value) for value in pred_y]\n",
    "        r2s = r2_score(y_test, predictions)\n",
    "        print(\"Table [\" + table_name + \"] RFR R2 Score: \" + str(r2s))\n",
    "\n",
    "        # fit model using each importance as a threshold\n",
    "        print('Feature Importance\\n' + str('-'*60))\n",
    "        print(model.feature_importances_)\n",
    "        print(str('-'*60))\n",
    "        thresholds = np.sort(model.feature_importances_)\n",
    "        feature_counts, feature_score = [],[]\n",
    "        for thresh in thresholds:\n",
    "            # selecting features using threshold\n",
    "            selection = SelectFromModel(model, threshold=thresh, prefit=True)\n",
    "            select_train_x = selection.transform(X_train)\n",
    "\n",
    "            # training model\n",
    "            selection_model = RandomForestRegressor(n_estimators=500,\n",
    "                                                    n_jobs=parallel_degree)\n",
    "            selection_model.fit(select_train_x, y_train)\n",
    "\n",
    "            # evaluating model\n",
    "            select_test_x = selection.transform(X_test)\n",
    "            pred_y = selection_model.predict(select_test_x)\n",
    "            predictions = [round(value) for value in pred_y]\n",
    "            r2s = r2_score(y_test, predictions)\n",
    "            print(\"Thresh=\" + str(thresh) + \", n=\" + str(select_train_x.shape[1]) + \", R2 Score: \" + str(r2s))\n",
    "            if(r2s > val_op):\n",
    "                val_op = r2s\n",
    "                optimum_features = select_train_x.shape[1]\n",
    "\n",
    "            # Add/Keep track of '[no of features','r2 score']\n",
    "            feature_counts.append(select_train_x.shape[1])\n",
    "            feature_score.append(r2s)\n",
    "\n",
    "        # Plot feature count performance\n",
    "        EnsembleWrappers.__plot_metrics(feature_counts=feature_counts,\n",
    "                                        feature_score=feature_score,\n",
    "                                        xlabel='Featuers',\n",
    "                                        ylabel='R2 Score',\n",
    "                                        title='Feature Pairing Performance')\n",
    "\n",
    "        return val_op, optimum_features\n",
    "\n",
    "    @staticmethod\n",
    "    def gradient_boosting_wrapper(X_df=None, y_df=None, test_split=.4, table_name=None, top_n_features=10):\n",
    "        \"\"\"\n",
    "        Gradient Boosting Regressor - Takes data matrix and target vector, and evaluates best combination of features \n",
    "        using a GBR model.\n",
    "        :param x_df:           (Pandas) Pandas feature matrix.\n",
    "        :param y_df:           (Pandas) Pandas label matrix.\n",
    "        :param test_split:     (Float) Denotes training/testing data split.\n",
    "        :param table_name:     (String) Denotes which table is being operated on.\n",
    "        :param top_n_features: (Integer) Denotes number of top features to plot.\n",
    "        :param parallel_degree:(Integer) Denotes model training parallel degree.\n",
    "        :return: Model Scoring, for best feature combination count\n",
    "        :return: Recommended feature count, as per best achieved score\n",
    "        \"\"\"\n",
    "        X_df = X_df.values\n",
    "        y_df = y_df.values\n",
    "        val_op, optimum_features = 0, 0\n",
    "        X_train, X_test, y_train, y_test = train_test_split(X_df, y_df, test_size=test_split)\n",
    "        model = GradientBoostingRegressor(n_estimators=500)\n",
    "        model.fit(X_train, y_train)\n",
    "\n",
    "        # make predictions for test data and evaluate\n",
    "        pred_y = model.predict(X_test)\n",
    "        predictions = [round(value) for value in pred_y]\n",
    "        r2s = r2_score(y_test, predictions)\n",
    "        print(\"Table [\" + table_name + \"] RFR R2 Score: \" + str(r2s))\n",
    "        #\n",
    "        # fit model using each importance as a threshold\n",
    "        print('Feature Importance\\n' + str('-'*60))\n",
    "        print(model.feature_importances_)\n",
    "        print(str('-'*60))\n",
    "        thresholds = np.sort(model.feature_importances_)\n",
    "        feature_counts, feature_score = [],[]\n",
    "        for thresh in thresholds:\n",
    "            # selecting features using threshold\n",
    "            selection = SelectFromModel(model, threshold=thresh, prefit=True)\n",
    "            select_train_x = selection.transform(X_train)\n",
    "\n",
    "            # training model\n",
    "            selection_model = GradientBoostingRegressor(n_estimators=500)\n",
    "            selection_model.fit(select_train_x, y_train)\n",
    "\n",
    "            # evaluating model\n",
    "            select_test_x = selection.transform(X_test)\n",
    "            pred_y = selection_model.predict(select_test_x)\n",
    "            predictions = [round(value) for value in pred_y]\n",
    "            r2s = r2_score(y_test, predictions)\n",
    "            print(\"Thresh=\" + str(thresh) + \", n=\" + str(select_train_x.shape[1]) + \", R2 Score: \" + str(r2s))\n",
    "            if(r2s > val_op):\n",
    "                val_op = r2s\n",
    "                optimum_features = select_train_x.shape[1]\n",
    "\n",
    "            # Add/Keep track of '[no of features','r2 score']\n",
    "            feature_counts.append(select_train_x.shape[1])\n",
    "            feature_score.append(r2s)\n",
    "\n",
    "        # Plot feature count performance\n",
    "        EnsembleWrappers.__plot_metrics(feature_counts=feature_counts,\n",
    "                                        feature_score=feature_score,\n",
    "                                        xlabel='Featuers',\n",
    "                                        ylabel='R2 Score',\n",
    "                                        title='Feature Pairing Performance')\n",
    "\n",
    "        return val_op, optimum_features\n",
    "    \n",
    "    @staticmethod\n",
    "    def __plot_metrics(feature_counts, feature_score, ylabel, xlabel, title):\n",
    "        \"\"\"\n",
    "        Private method used to plot metrics for statistical feature evaluation\n",
    "        :param feature_counts: (List) List of feature combination counts per achieved score.\n",
    "        :param feature_score:  (List) List of feature scores per combination.\n",
    "        :param ylabel:         (String) ylabel title name.\n",
    "        :param xlabel:         (String) xlabel title name.\n",
    "        :param title:          (String) plot title name.\n",
    "        :return: None\n",
    "        \"\"\"\n",
    "        plt.ylabel(ylabel)\n",
    "        plt.xlabel(xlabel)\n",
    "        plt.title(title)\n",
    "        plt.rcParams['figure.figsize'] = [20, 15]\n",
    "        plt.plot(feature_counts, feature_score)\n",
    "        plt.show()"
   ]
  },
  {
   "cell_type": "markdown",
   "metadata": {},
   "source": [
    "### Random Forest Wrapper (Feature Combination)  (Regression)\n",
    "\n",
    "Utilizes an ensemble Random Forest method to gauge different feature combination/counts."
   ]
  },
  {
   "cell_type": "code",
   "execution_count": 136,
   "metadata": {
    "scrolled": true
   },
   "outputs": [
    {
     "name": "stdout",
     "output_type": "stream",
     "text": [
      "Table [REP_HIST_SYSSTAT] RFR R2 Score: 0.7631578947368421\n",
      "Feature Importance\n",
      "------------------------------------------------------------\n",
      "[0.         0.         0.         0.         0.         0.\n",
      " 0.         0.         0.         0.         0.         0.\n",
      " 0.         0.         0.         0.         0.         0.\n",
      " 0.         0.         0.         0.         0.         0.\n",
      " 0.         0.         0.         0.         0.         0.\n",
      " 0.         0.         0.         0.         0.         0.\n",
      " 0.         0.         0.         0.         0.         0.\n",
      " 0.         0.         0.         0.         0.         0.0055108\n",
      " 0.         0.         0.         0.         0.         0.\n",
      " 0.         0.         0.         0.         0.00501733 0.00170026\n",
      " 0.         0.         0.         0.         0.         0.00125604\n",
      " 0.         0.         0.         0.         0.         0.\n",
      " 0.         0.         0.         0.00266584 0.00595699 0.00234637\n",
      " 0.00406694 0.00228603 0.         0.         0.         0.06934704\n",
      " 0.         0.         0.         0.         0.         0.\n",
      " 0.         0.         0.         0.         0.         0.\n",
      " 0.         0.         0.         0.         0.         0.\n",
      " 0.         0.         0.         0.         0.         0.\n",
      " 0.         0.         0.         0.         0.         0.\n",
      " 0.         0.         0.         0.         0.         0.\n",
      " 0.         0.         0.         0.         0.         0.\n",
      " 0.10183003 0.         0.         0.         0.         0.\n",
      " 0.         0.         0.         0.         0.         0.\n",
      " 0.         0.00368928 0.00501819 0.         0.         0.\n",
      " 0.         0.         0.07651363 0.         0.         0.\n",
      " 0.         0.         0.00798165 0.         0.         0.\n",
      " 0.         0.         0.         0.         0.         0.\n",
      " 0.         0.         0.         0.07316858 0.         0.0603008\n",
      " 0.         0.         0.         0.         0.         0.\n",
      " 0.         0.         0.19051193 0.         0.18674645 0.\n",
      " 0.         0.         0.         0.         0.         0.\n",
      " 0.         0.         0.         0.         0.         0.\n",
      " 0.         0.         0.         0.         0.         0.\n",
      " 0.         0.         0.         0.         0.         0.\n",
      " 0.         0.         0.         0.         0.         0.\n",
      " 0.         0.         0.         0.         0.         0.\n",
      " 0.         0.         0.         0.         0.         0.\n",
      " 0.         0.         0.         0.         0.         0.\n",
      " 0.         0.         0.         0.         0.         0.\n",
      " 0.         0.         0.         0.00566891 0.00347845 0.\n",
      " 0.00326842 0.0004593  0.         0.00209446 0.         0.\n",
      " 0.         0.         0.         0.         0.         0.0057318\n",
      " 0.         0.         0.         0.         0.         0.\n",
      " 0.         0.         0.0063082  0.01943052 0.00321886 0.12242133\n",
      " 0.         0.         0.         0.         0.         0.00252119\n",
      " 0.         0.         0.         0.         0.00729415 0.\n",
      " 0.00516078 0.0061244  0.00090506 0.         0.         0.\n",
      " 0.         0.         0.         0.         0.         0.\n",
      " 0.         0.         0.         0.         0.         0.\n",
      " 0.         0.         0.         0.         0.         0.\n",
      " 0.        ]\n",
      "------------------------------------------------------------\n"
     ]
    },
    {
     "name": "stderr",
     "output_type": "stream",
     "text": [
      "C:\\ProgramData\\Anaconda3\\lib\\site-packages\\sklearn\\utils\\__init__.py:93: FutureWarning: Conversion of the second argument of issubdtype from `int` to `np.signedinteger` is deprecated. In future, it will be treated as `np.int32 == np.dtype(int).type`.\n",
      "  if np.issubdtype(mask.dtype, np.int):\n",
      "C:\\ProgramData\\Anaconda3\\lib\\site-packages\\sklearn\\utils\\__init__.py:93: FutureWarning: Conversion of the second argument of issubdtype from `int` to `np.signedinteger` is deprecated. In future, it will be treated as `np.int32 == np.dtype(int).type`.\n",
      "  if np.issubdtype(mask.dtype, np.int):\n"
     ]
    },
    {
     "name": "stdout",
     "output_type": "stream",
     "text": [
      "Thresh=0.0, n=301, R2 Score: 0.8421052631578947\n"
     ]
    },
    {
     "name": "stderr",
     "output_type": "stream",
     "text": [
      "C:\\ProgramData\\Anaconda3\\lib\\site-packages\\sklearn\\utils\\__init__.py:93: FutureWarning: Conversion of the second argument of issubdtype from `int` to `np.signedinteger` is deprecated. In future, it will be treated as `np.int32 == np.dtype(int).type`.\n",
      "  if np.issubdtype(mask.dtype, np.int):\n"
     ]
    },
    {
     "name": "stdout",
     "output_type": "stream",
     "text": [
      "Thresh=0.0, n=301, R2 Score: 0.8421052631578947\n"
     ]
    },
    {
     "name": "stderr",
     "output_type": "stream",
     "text": [
      "C:\\ProgramData\\Anaconda3\\lib\\site-packages\\sklearn\\utils\\__init__.py:93: FutureWarning: Conversion of the second argument of issubdtype from `int` to `np.signedinteger` is deprecated. In future, it will be treated as `np.int32 == np.dtype(int).type`.\n",
      "  if np.issubdtype(mask.dtype, np.int):\n"
     ]
    },
    {
     "name": "stdout",
     "output_type": "stream",
     "text": [
      "Thresh=0.0, n=301, R2 Score: 0.8421052631578947\n"
     ]
    },
    {
     "name": "stderr",
     "output_type": "stream",
     "text": [
      "C:\\ProgramData\\Anaconda3\\lib\\site-packages\\sklearn\\utils\\__init__.py:93: FutureWarning: Conversion of the second argument of issubdtype from `int` to `np.signedinteger` is deprecated. In future, it will be treated as `np.int32 == np.dtype(int).type`.\n",
      "  if np.issubdtype(mask.dtype, np.int):\n"
     ]
    },
    {
     "name": "stdout",
     "output_type": "stream",
     "text": [
      "Thresh=0.0, n=301, R2 Score: 0.8421052631578947\n"
     ]
    },
    {
     "name": "stderr",
     "output_type": "stream",
     "text": [
      "C:\\ProgramData\\Anaconda3\\lib\\site-packages\\sklearn\\utils\\__init__.py:93: FutureWarning: Conversion of the second argument of issubdtype from `int` to `np.signedinteger` is deprecated. In future, it will be treated as `np.int32 == np.dtype(int).type`.\n",
      "  if np.issubdtype(mask.dtype, np.int):\n"
     ]
    },
    {
     "name": "stdout",
     "output_type": "stream",
     "text": [
      "Thresh=0.0, n=301, R2 Score: 0.8421052631578947\n"
     ]
    },
    {
     "name": "stderr",
     "output_type": "stream",
     "text": [
      "C:\\ProgramData\\Anaconda3\\lib\\site-packages\\sklearn\\utils\\__init__.py:93: FutureWarning: Conversion of the second argument of issubdtype from `int` to `np.signedinteger` is deprecated. In future, it will be treated as `np.int32 == np.dtype(int).type`.\n",
      "  if np.issubdtype(mask.dtype, np.int):\n"
     ]
    },
    {
     "name": "stdout",
     "output_type": "stream",
     "text": [
      "Thresh=0.0, n=301, R2 Score: 0.7631578947368421\n"
     ]
    },
    {
     "name": "stderr",
     "output_type": "stream",
     "text": [
      "C:\\ProgramData\\Anaconda3\\lib\\site-packages\\sklearn\\utils\\__init__.py:93: FutureWarning: Conversion of the second argument of issubdtype from `int` to `np.signedinteger` is deprecated. In future, it will be treated as `np.int32 == np.dtype(int).type`.\n",
      "  if np.issubdtype(mask.dtype, np.int):\n"
     ]
    },
    {
     "name": "stdout",
     "output_type": "stream",
     "text": [
      "Thresh=0.0, n=301, R2 Score: 0.8421052631578947\n"
     ]
    },
    {
     "name": "stderr",
     "output_type": "stream",
     "text": [
      "C:\\ProgramData\\Anaconda3\\lib\\site-packages\\sklearn\\utils\\__init__.py:93: FutureWarning: Conversion of the second argument of issubdtype from `int` to `np.signedinteger` is deprecated. In future, it will be treated as `np.int32 == np.dtype(int).type`.\n",
      "  if np.issubdtype(mask.dtype, np.int):\n"
     ]
    },
    {
     "name": "stdout",
     "output_type": "stream",
     "text": [
      "Thresh=0.0, n=301, R2 Score: 0.8421052631578947\n"
     ]
    },
    {
     "name": "stderr",
     "output_type": "stream",
     "text": [
      "C:\\ProgramData\\Anaconda3\\lib\\site-packages\\sklearn\\utils\\__init__.py:93: FutureWarning: Conversion of the second argument of issubdtype from `int` to `np.signedinteger` is deprecated. In future, it will be treated as `np.int32 == np.dtype(int).type`.\n",
      "  if np.issubdtype(mask.dtype, np.int):\n"
     ]
    },
    {
     "name": "stdout",
     "output_type": "stream",
     "text": [
      "Thresh=0.0, n=301, R2 Score: 0.8421052631578947\n"
     ]
    },
    {
     "name": "stderr",
     "output_type": "stream",
     "text": [
      "C:\\ProgramData\\Anaconda3\\lib\\site-packages\\sklearn\\utils\\__init__.py:93: FutureWarning: Conversion of the second argument of issubdtype from `int` to `np.signedinteger` is deprecated. In future, it will be treated as `np.int32 == np.dtype(int).type`.\n",
      "  if np.issubdtype(mask.dtype, np.int):\n"
     ]
    },
    {
     "name": "stdout",
     "output_type": "stream",
     "text": [
      "Thresh=0.0, n=301, R2 Score: 0.8421052631578947\n"
     ]
    },
    {
     "name": "stderr",
     "output_type": "stream",
     "text": [
      "C:\\ProgramData\\Anaconda3\\lib\\site-packages\\sklearn\\utils\\__init__.py:93: FutureWarning: Conversion of the second argument of issubdtype from `int` to `np.signedinteger` is deprecated. In future, it will be treated as `np.int32 == np.dtype(int).type`.\n",
      "  if np.issubdtype(mask.dtype, np.int):\n"
     ]
    },
    {
     "name": "stdout",
     "output_type": "stream",
     "text": [
      "Thresh=0.0, n=301, R2 Score: 0.7631578947368421\n"
     ]
    },
    {
     "name": "stderr",
     "output_type": "stream",
     "text": [
      "C:\\ProgramData\\Anaconda3\\lib\\site-packages\\sklearn\\utils\\__init__.py:93: FutureWarning: Conversion of the second argument of issubdtype from `int` to `np.signedinteger` is deprecated. In future, it will be treated as `np.int32 == np.dtype(int).type`.\n",
      "  if np.issubdtype(mask.dtype, np.int):\n"
     ]
    },
    {
     "name": "stdout",
     "output_type": "stream",
     "text": [
      "Thresh=0.0, n=301, R2 Score: 0.8421052631578947\n"
     ]
    },
    {
     "name": "stderr",
     "output_type": "stream",
     "text": [
      "C:\\ProgramData\\Anaconda3\\lib\\site-packages\\sklearn\\utils\\__init__.py:93: FutureWarning: Conversion of the second argument of issubdtype from `int` to `np.signedinteger` is deprecated. In future, it will be treated as `np.int32 == np.dtype(int).type`.\n",
      "  if np.issubdtype(mask.dtype, np.int):\n"
     ]
    },
    {
     "name": "stdout",
     "output_type": "stream",
     "text": [
      "Thresh=0.0, n=301, R2 Score: 0.7631578947368421\n"
     ]
    },
    {
     "name": "stderr",
     "output_type": "stream",
     "text": [
      "C:\\ProgramData\\Anaconda3\\lib\\site-packages\\sklearn\\utils\\__init__.py:93: FutureWarning: Conversion of the second argument of issubdtype from `int` to `np.signedinteger` is deprecated. In future, it will be treated as `np.int32 == np.dtype(int).type`.\n",
      "  if np.issubdtype(mask.dtype, np.int):\n"
     ]
    },
    {
     "name": "stdout",
     "output_type": "stream",
     "text": [
      "Thresh=0.0, n=301, R2 Score: 0.8421052631578947\n"
     ]
    },
    {
     "name": "stderr",
     "output_type": "stream",
     "text": [
      "C:\\ProgramData\\Anaconda3\\lib\\site-packages\\sklearn\\utils\\__init__.py:93: FutureWarning: Conversion of the second argument of issubdtype from `int` to `np.signedinteger` is deprecated. In future, it will be treated as `np.int32 == np.dtype(int).type`.\n",
      "  if np.issubdtype(mask.dtype, np.int):\n"
     ]
    },
    {
     "name": "stdout",
     "output_type": "stream",
     "text": [
      "Thresh=0.0, n=301, R2 Score: 0.7631578947368421\n"
     ]
    },
    {
     "name": "stderr",
     "output_type": "stream",
     "text": [
      "C:\\ProgramData\\Anaconda3\\lib\\site-packages\\sklearn\\utils\\__init__.py:93: FutureWarning: Conversion of the second argument of issubdtype from `int` to `np.signedinteger` is deprecated. In future, it will be treated as `np.int32 == np.dtype(int).type`.\n",
      "  if np.issubdtype(mask.dtype, np.int):\n"
     ]
    },
    {
     "name": "stdout",
     "output_type": "stream",
     "text": [
      "Thresh=0.0, n=301, R2 Score: 0.8421052631578947\n"
     ]
    },
    {
     "name": "stderr",
     "output_type": "stream",
     "text": [
      "C:\\ProgramData\\Anaconda3\\lib\\site-packages\\sklearn\\utils\\__init__.py:93: FutureWarning: Conversion of the second argument of issubdtype from `int` to `np.signedinteger` is deprecated. In future, it will be treated as `np.int32 == np.dtype(int).type`.\n",
      "  if np.issubdtype(mask.dtype, np.int):\n"
     ]
    },
    {
     "name": "stdout",
     "output_type": "stream",
     "text": [
      "Thresh=0.0, n=301, R2 Score: 0.8421052631578947\n"
     ]
    },
    {
     "name": "stderr",
     "output_type": "stream",
     "text": [
      "C:\\ProgramData\\Anaconda3\\lib\\site-packages\\sklearn\\utils\\__init__.py:93: FutureWarning: Conversion of the second argument of issubdtype from `int` to `np.signedinteger` is deprecated. In future, it will be treated as `np.int32 == np.dtype(int).type`.\n",
      "  if np.issubdtype(mask.dtype, np.int):\n"
     ]
    },
    {
     "name": "stdout",
     "output_type": "stream",
     "text": [
      "Thresh=0.0, n=301, R2 Score: 0.8421052631578947\n"
     ]
    },
    {
     "name": "stderr",
     "output_type": "stream",
     "text": [
      "C:\\ProgramData\\Anaconda3\\lib\\site-packages\\sklearn\\utils\\__init__.py:93: FutureWarning: Conversion of the second argument of issubdtype from `int` to `np.signedinteger` is deprecated. In future, it will be treated as `np.int32 == np.dtype(int).type`.\n",
      "  if np.issubdtype(mask.dtype, np.int):\n"
     ]
    },
    {
     "name": "stdout",
     "output_type": "stream",
     "text": [
      "Thresh=0.0, n=301, R2 Score: 0.7631578947368421\n"
     ]
    },
    {
     "name": "stderr",
     "output_type": "stream",
     "text": [
      "C:\\ProgramData\\Anaconda3\\lib\\site-packages\\sklearn\\utils\\__init__.py:93: FutureWarning: Conversion of the second argument of issubdtype from `int` to `np.signedinteger` is deprecated. In future, it will be treated as `np.int32 == np.dtype(int).type`.\n",
      "  if np.issubdtype(mask.dtype, np.int):\n"
     ]
    },
    {
     "name": "stdout",
     "output_type": "stream",
     "text": [
      "Thresh=0.0, n=301, R2 Score: 0.7631578947368421\n"
     ]
    },
    {
     "name": "stderr",
     "output_type": "stream",
     "text": [
      "C:\\ProgramData\\Anaconda3\\lib\\site-packages\\sklearn\\utils\\__init__.py:93: FutureWarning: Conversion of the second argument of issubdtype from `int` to `np.signedinteger` is deprecated. In future, it will be treated as `np.int32 == np.dtype(int).type`.\n",
      "  if np.issubdtype(mask.dtype, np.int):\n"
     ]
    },
    {
     "name": "stdout",
     "output_type": "stream",
     "text": [
      "Thresh=0.0, n=301, R2 Score: 0.8421052631578947\n"
     ]
    },
    {
     "name": "stderr",
     "output_type": "stream",
     "text": [
      "C:\\ProgramData\\Anaconda3\\lib\\site-packages\\sklearn\\utils\\__init__.py:93: FutureWarning: Conversion of the second argument of issubdtype from `int` to `np.signedinteger` is deprecated. In future, it will be treated as `np.int32 == np.dtype(int).type`.\n",
      "  if np.issubdtype(mask.dtype, np.int):\n"
     ]
    },
    {
     "name": "stdout",
     "output_type": "stream",
     "text": [
      "Thresh=0.0, n=301, R2 Score: 0.8421052631578947\n"
     ]
    },
    {
     "name": "stderr",
     "output_type": "stream",
     "text": [
      "C:\\ProgramData\\Anaconda3\\lib\\site-packages\\sklearn\\utils\\__init__.py:93: FutureWarning: Conversion of the second argument of issubdtype from `int` to `np.signedinteger` is deprecated. In future, it will be treated as `np.int32 == np.dtype(int).type`.\n",
      "  if np.issubdtype(mask.dtype, np.int):\n"
     ]
    },
    {
     "name": "stdout",
     "output_type": "stream",
     "text": [
      "Thresh=0.0, n=301, R2 Score: 0.8421052631578947\n"
     ]
    },
    {
     "name": "stderr",
     "output_type": "stream",
     "text": [
      "C:\\ProgramData\\Anaconda3\\lib\\site-packages\\sklearn\\utils\\__init__.py:93: FutureWarning: Conversion of the second argument of issubdtype from `int` to `np.signedinteger` is deprecated. In future, it will be treated as `np.int32 == np.dtype(int).type`.\n",
      "  if np.issubdtype(mask.dtype, np.int):\n"
     ]
    },
    {
     "name": "stdout",
     "output_type": "stream",
     "text": [
      "Thresh=0.0, n=301, R2 Score: 0.7631578947368421\n"
     ]
    },
    {
     "name": "stderr",
     "output_type": "stream",
     "text": [
      "C:\\ProgramData\\Anaconda3\\lib\\site-packages\\sklearn\\utils\\__init__.py:93: FutureWarning: Conversion of the second argument of issubdtype from `int` to `np.signedinteger` is deprecated. In future, it will be treated as `np.int32 == np.dtype(int).type`.\n",
      "  if np.issubdtype(mask.dtype, np.int):\n"
     ]
    },
    {
     "name": "stdout",
     "output_type": "stream",
     "text": [
      "Thresh=0.0, n=301, R2 Score: 0.8421052631578947\n"
     ]
    },
    {
     "name": "stderr",
     "output_type": "stream",
     "text": [
      "C:\\ProgramData\\Anaconda3\\lib\\site-packages\\sklearn\\utils\\__init__.py:93: FutureWarning: Conversion of the second argument of issubdtype from `int` to `np.signedinteger` is deprecated. In future, it will be treated as `np.int32 == np.dtype(int).type`.\n",
      "  if np.issubdtype(mask.dtype, np.int):\n"
     ]
    },
    {
     "name": "stdout",
     "output_type": "stream",
     "text": [
      "Thresh=0.0, n=301, R2 Score: 0.8421052631578947\n"
     ]
    },
    {
     "name": "stderr",
     "output_type": "stream",
     "text": [
      "C:\\ProgramData\\Anaconda3\\lib\\site-packages\\sklearn\\utils\\__init__.py:93: FutureWarning: Conversion of the second argument of issubdtype from `int` to `np.signedinteger` is deprecated. In future, it will be treated as `np.int32 == np.dtype(int).type`.\n",
      "  if np.issubdtype(mask.dtype, np.int):\n"
     ]
    },
    {
     "name": "stdout",
     "output_type": "stream",
     "text": [
      "Thresh=0.0, n=301, R2 Score: 0.8421052631578947\n"
     ]
    },
    {
     "name": "stderr",
     "output_type": "stream",
     "text": [
      "C:\\ProgramData\\Anaconda3\\lib\\site-packages\\sklearn\\utils\\__init__.py:93: FutureWarning: Conversion of the second argument of issubdtype from `int` to `np.signedinteger` is deprecated. In future, it will be treated as `np.int32 == np.dtype(int).type`.\n",
      "  if np.issubdtype(mask.dtype, np.int):\n"
     ]
    },
    {
     "name": "stdout",
     "output_type": "stream",
     "text": [
      "Thresh=0.0, n=301, R2 Score: 0.7631578947368421\n"
     ]
    },
    {
     "name": "stderr",
     "output_type": "stream",
     "text": [
      "C:\\ProgramData\\Anaconda3\\lib\\site-packages\\sklearn\\utils\\__init__.py:93: FutureWarning: Conversion of the second argument of issubdtype from `int` to `np.signedinteger` is deprecated. In future, it will be treated as `np.int32 == np.dtype(int).type`.\n",
      "  if np.issubdtype(mask.dtype, np.int):\n"
     ]
    },
    {
     "name": "stdout",
     "output_type": "stream",
     "text": [
      "Thresh=0.0, n=301, R2 Score: 0.7631578947368421\n"
     ]
    },
    {
     "name": "stderr",
     "output_type": "stream",
     "text": [
      "C:\\ProgramData\\Anaconda3\\lib\\site-packages\\sklearn\\utils\\__init__.py:93: FutureWarning: Conversion of the second argument of issubdtype from `int` to `np.signedinteger` is deprecated. In future, it will be treated as `np.int32 == np.dtype(int).type`.\n",
      "  if np.issubdtype(mask.dtype, np.int):\n"
     ]
    },
    {
     "name": "stdout",
     "output_type": "stream",
     "text": [
      "Thresh=0.0, n=301, R2 Score: 0.8421052631578947\n"
     ]
    },
    {
     "name": "stderr",
     "output_type": "stream",
     "text": [
      "C:\\ProgramData\\Anaconda3\\lib\\site-packages\\sklearn\\utils\\__init__.py:93: FutureWarning: Conversion of the second argument of issubdtype from `int` to `np.signedinteger` is deprecated. In future, it will be treated as `np.int32 == np.dtype(int).type`.\n",
      "  if np.issubdtype(mask.dtype, np.int):\n"
     ]
    },
    {
     "name": "stdout",
     "output_type": "stream",
     "text": [
      "Thresh=0.0, n=301, R2 Score: 0.8421052631578947\n"
     ]
    },
    {
     "name": "stderr",
     "output_type": "stream",
     "text": [
      "C:\\ProgramData\\Anaconda3\\lib\\site-packages\\sklearn\\utils\\__init__.py:93: FutureWarning: Conversion of the second argument of issubdtype from `int` to `np.signedinteger` is deprecated. In future, it will be treated as `np.int32 == np.dtype(int).type`.\n",
      "  if np.issubdtype(mask.dtype, np.int):\n"
     ]
    },
    {
     "name": "stdout",
     "output_type": "stream",
     "text": [
      "Thresh=0.0, n=301, R2 Score: 0.8421052631578947\n"
     ]
    },
    {
     "name": "stderr",
     "output_type": "stream",
     "text": [
      "C:\\ProgramData\\Anaconda3\\lib\\site-packages\\sklearn\\utils\\__init__.py:93: FutureWarning: Conversion of the second argument of issubdtype from `int` to `np.signedinteger` is deprecated. In future, it will be treated as `np.int32 == np.dtype(int).type`.\n",
      "  if np.issubdtype(mask.dtype, np.int):\n"
     ]
    },
    {
     "name": "stdout",
     "output_type": "stream",
     "text": [
      "Thresh=0.0, n=301, R2 Score: 0.8421052631578947\n"
     ]
    },
    {
     "name": "stderr",
     "output_type": "stream",
     "text": [
      "C:\\ProgramData\\Anaconda3\\lib\\site-packages\\sklearn\\utils\\__init__.py:93: FutureWarning: Conversion of the second argument of issubdtype from `int` to `np.signedinteger` is deprecated. In future, it will be treated as `np.int32 == np.dtype(int).type`.\n",
      "  if np.issubdtype(mask.dtype, np.int):\n"
     ]
    },
    {
     "name": "stdout",
     "output_type": "stream",
     "text": [
      "Thresh=0.0, n=301, R2 Score: 0.8421052631578947\n"
     ]
    },
    {
     "name": "stderr",
     "output_type": "stream",
     "text": [
      "C:\\ProgramData\\Anaconda3\\lib\\site-packages\\sklearn\\utils\\__init__.py:93: FutureWarning: Conversion of the second argument of issubdtype from `int` to `np.signedinteger` is deprecated. In future, it will be treated as `np.int32 == np.dtype(int).type`.\n",
      "  if np.issubdtype(mask.dtype, np.int):\n"
     ]
    },
    {
     "name": "stdout",
     "output_type": "stream",
     "text": [
      "Thresh=0.0, n=301, R2 Score: 0.8421052631578947\n"
     ]
    },
    {
     "name": "stderr",
     "output_type": "stream",
     "text": [
      "C:\\ProgramData\\Anaconda3\\lib\\site-packages\\sklearn\\utils\\__init__.py:93: FutureWarning: Conversion of the second argument of issubdtype from `int` to `np.signedinteger` is deprecated. In future, it will be treated as `np.int32 == np.dtype(int).type`.\n",
      "  if np.issubdtype(mask.dtype, np.int):\n"
     ]
    },
    {
     "name": "stdout",
     "output_type": "stream",
     "text": [
      "Thresh=0.0, n=301, R2 Score: 0.7631578947368421\n"
     ]
    },
    {
     "name": "stderr",
     "output_type": "stream",
     "text": [
      "C:\\ProgramData\\Anaconda3\\lib\\site-packages\\sklearn\\utils\\__init__.py:93: FutureWarning: Conversion of the second argument of issubdtype from `int` to `np.signedinteger` is deprecated. In future, it will be treated as `np.int32 == np.dtype(int).type`.\n",
      "  if np.issubdtype(mask.dtype, np.int):\n"
     ]
    },
    {
     "name": "stdout",
     "output_type": "stream",
     "text": [
      "Thresh=0.0, n=301, R2 Score: 0.8421052631578947\n"
     ]
    },
    {
     "name": "stderr",
     "output_type": "stream",
     "text": [
      "C:\\ProgramData\\Anaconda3\\lib\\site-packages\\sklearn\\utils\\__init__.py:93: FutureWarning: Conversion of the second argument of issubdtype from `int` to `np.signedinteger` is deprecated. In future, it will be treated as `np.int32 == np.dtype(int).type`.\n",
      "  if np.issubdtype(mask.dtype, np.int):\n"
     ]
    },
    {
     "name": "stdout",
     "output_type": "stream",
     "text": [
      "Thresh=0.0, n=301, R2 Score: 0.7631578947368421\n"
     ]
    },
    {
     "name": "stderr",
     "output_type": "stream",
     "text": [
      "C:\\ProgramData\\Anaconda3\\lib\\site-packages\\sklearn\\utils\\__init__.py:93: FutureWarning: Conversion of the second argument of issubdtype from `int` to `np.signedinteger` is deprecated. In future, it will be treated as `np.int32 == np.dtype(int).type`.\n",
      "  if np.issubdtype(mask.dtype, np.int):\n"
     ]
    },
    {
     "name": "stdout",
     "output_type": "stream",
     "text": [
      "Thresh=0.0, n=301, R2 Score: 0.8421052631578947\n"
     ]
    },
    {
     "name": "stderr",
     "output_type": "stream",
     "text": [
      "C:\\ProgramData\\Anaconda3\\lib\\site-packages\\sklearn\\utils\\__init__.py:93: FutureWarning: Conversion of the second argument of issubdtype from `int` to `np.signedinteger` is deprecated. In future, it will be treated as `np.int32 == np.dtype(int).type`.\n",
      "  if np.issubdtype(mask.dtype, np.int):\n"
     ]
    },
    {
     "name": "stdout",
     "output_type": "stream",
     "text": [
      "Thresh=0.0, n=301, R2 Score: 0.8421052631578947\n"
     ]
    },
    {
     "name": "stderr",
     "output_type": "stream",
     "text": [
      "C:\\ProgramData\\Anaconda3\\lib\\site-packages\\sklearn\\utils\\__init__.py:93: FutureWarning: Conversion of the second argument of issubdtype from `int` to `np.signedinteger` is deprecated. In future, it will be treated as `np.int32 == np.dtype(int).type`.\n",
      "  if np.issubdtype(mask.dtype, np.int):\n"
     ]
    },
    {
     "name": "stdout",
     "output_type": "stream",
     "text": [
      "Thresh=0.0, n=301, R2 Score: 0.8421052631578947\n"
     ]
    },
    {
     "name": "stderr",
     "output_type": "stream",
     "text": [
      "C:\\ProgramData\\Anaconda3\\lib\\site-packages\\sklearn\\utils\\__init__.py:93: FutureWarning: Conversion of the second argument of issubdtype from `int` to `np.signedinteger` is deprecated. In future, it will be treated as `np.int32 == np.dtype(int).type`.\n",
      "  if np.issubdtype(mask.dtype, np.int):\n"
     ]
    },
    {
     "name": "stdout",
     "output_type": "stream",
     "text": [
      "Thresh=0.0, n=301, R2 Score: 0.8421052631578947\n"
     ]
    },
    {
     "name": "stderr",
     "output_type": "stream",
     "text": [
      "C:\\ProgramData\\Anaconda3\\lib\\site-packages\\sklearn\\utils\\__init__.py:93: FutureWarning: Conversion of the second argument of issubdtype from `int` to `np.signedinteger` is deprecated. In future, it will be treated as `np.int32 == np.dtype(int).type`.\n",
      "  if np.issubdtype(mask.dtype, np.int):\n"
     ]
    },
    {
     "name": "stdout",
     "output_type": "stream",
     "text": [
      "Thresh=0.0, n=301, R2 Score: 0.8421052631578947\n"
     ]
    },
    {
     "name": "stderr",
     "output_type": "stream",
     "text": [
      "C:\\ProgramData\\Anaconda3\\lib\\site-packages\\sklearn\\utils\\__init__.py:93: FutureWarning: Conversion of the second argument of issubdtype from `int` to `np.signedinteger` is deprecated. In future, it will be treated as `np.int32 == np.dtype(int).type`.\n",
      "  if np.issubdtype(mask.dtype, np.int):\n"
     ]
    },
    {
     "name": "stdout",
     "output_type": "stream",
     "text": [
      "Thresh=0.0, n=301, R2 Score: 0.8421052631578947\n"
     ]
    },
    {
     "name": "stderr",
     "output_type": "stream",
     "text": [
      "C:\\ProgramData\\Anaconda3\\lib\\site-packages\\sklearn\\utils\\__init__.py:93: FutureWarning: Conversion of the second argument of issubdtype from `int` to `np.signedinteger` is deprecated. In future, it will be treated as `np.int32 == np.dtype(int).type`.\n",
      "  if np.issubdtype(mask.dtype, np.int):\n"
     ]
    },
    {
     "name": "stdout",
     "output_type": "stream",
     "text": [
      "Thresh=0.0, n=301, R2 Score: 0.8421052631578947\n"
     ]
    },
    {
     "name": "stderr",
     "output_type": "stream",
     "text": [
      "C:\\ProgramData\\Anaconda3\\lib\\site-packages\\sklearn\\utils\\__init__.py:93: FutureWarning: Conversion of the second argument of issubdtype from `int` to `np.signedinteger` is deprecated. In future, it will be treated as `np.int32 == np.dtype(int).type`.\n",
      "  if np.issubdtype(mask.dtype, np.int):\n"
     ]
    },
    {
     "name": "stdout",
     "output_type": "stream",
     "text": [
      "Thresh=0.0, n=301, R2 Score: 0.8421052631578947\n"
     ]
    },
    {
     "name": "stderr",
     "output_type": "stream",
     "text": [
      "C:\\ProgramData\\Anaconda3\\lib\\site-packages\\sklearn\\utils\\__init__.py:93: FutureWarning: Conversion of the second argument of issubdtype from `int` to `np.signedinteger` is deprecated. In future, it will be treated as `np.int32 == np.dtype(int).type`.\n",
      "  if np.issubdtype(mask.dtype, np.int):\n"
     ]
    },
    {
     "name": "stdout",
     "output_type": "stream",
     "text": [
      "Thresh=0.0, n=301, R2 Score: 0.8421052631578947\n"
     ]
    },
    {
     "name": "stderr",
     "output_type": "stream",
     "text": [
      "C:\\ProgramData\\Anaconda3\\lib\\site-packages\\sklearn\\utils\\__init__.py:93: FutureWarning: Conversion of the second argument of issubdtype from `int` to `np.signedinteger` is deprecated. In future, it will be treated as `np.int32 == np.dtype(int).type`.\n",
      "  if np.issubdtype(mask.dtype, np.int):\n"
     ]
    },
    {
     "name": "stdout",
     "output_type": "stream",
     "text": [
      "Thresh=0.0, n=301, R2 Score: 0.8421052631578947\n"
     ]
    },
    {
     "name": "stderr",
     "output_type": "stream",
     "text": [
      "C:\\ProgramData\\Anaconda3\\lib\\site-packages\\sklearn\\utils\\__init__.py:93: FutureWarning: Conversion of the second argument of issubdtype from `int` to `np.signedinteger` is deprecated. In future, it will be treated as `np.int32 == np.dtype(int).type`.\n",
      "  if np.issubdtype(mask.dtype, np.int):\n"
     ]
    },
    {
     "name": "stdout",
     "output_type": "stream",
     "text": [
      "Thresh=0.0, n=301, R2 Score: 0.8421052631578947\n"
     ]
    },
    {
     "name": "stderr",
     "output_type": "stream",
     "text": [
      "C:\\ProgramData\\Anaconda3\\lib\\site-packages\\sklearn\\utils\\__init__.py:93: FutureWarning: Conversion of the second argument of issubdtype from `int` to `np.signedinteger` is deprecated. In future, it will be treated as `np.int32 == np.dtype(int).type`.\n",
      "  if np.issubdtype(mask.dtype, np.int):\n"
     ]
    },
    {
     "name": "stdout",
     "output_type": "stream",
     "text": [
      "Thresh=0.0, n=301, R2 Score: 0.8421052631578947\n"
     ]
    },
    {
     "name": "stderr",
     "output_type": "stream",
     "text": [
      "C:\\ProgramData\\Anaconda3\\lib\\site-packages\\sklearn\\utils\\__init__.py:93: FutureWarning: Conversion of the second argument of issubdtype from `int` to `np.signedinteger` is deprecated. In future, it will be treated as `np.int32 == np.dtype(int).type`.\n",
      "  if np.issubdtype(mask.dtype, np.int):\n"
     ]
    },
    {
     "name": "stdout",
     "output_type": "stream",
     "text": [
      "Thresh=0.0, n=301, R2 Score: 0.8421052631578947\n"
     ]
    },
    {
     "name": "stderr",
     "output_type": "stream",
     "text": [
      "C:\\ProgramData\\Anaconda3\\lib\\site-packages\\sklearn\\utils\\__init__.py:93: FutureWarning: Conversion of the second argument of issubdtype from `int` to `np.signedinteger` is deprecated. In future, it will be treated as `np.int32 == np.dtype(int).type`.\n",
      "  if np.issubdtype(mask.dtype, np.int):\n"
     ]
    },
    {
     "name": "stdout",
     "output_type": "stream",
     "text": [
      "Thresh=0.0, n=301, R2 Score: 0.7631578947368421\n"
     ]
    },
    {
     "name": "stderr",
     "output_type": "stream",
     "text": [
      "C:\\ProgramData\\Anaconda3\\lib\\site-packages\\sklearn\\utils\\__init__.py:93: FutureWarning: Conversion of the second argument of issubdtype from `int` to `np.signedinteger` is deprecated. In future, it will be treated as `np.int32 == np.dtype(int).type`.\n",
      "  if np.issubdtype(mask.dtype, np.int):\n"
     ]
    },
    {
     "name": "stdout",
     "output_type": "stream",
     "text": [
      "Thresh=0.0, n=301, R2 Score: 0.8421052631578947\n"
     ]
    },
    {
     "name": "stderr",
     "output_type": "stream",
     "text": [
      "C:\\ProgramData\\Anaconda3\\lib\\site-packages\\sklearn\\utils\\__init__.py:93: FutureWarning: Conversion of the second argument of issubdtype from `int` to `np.signedinteger` is deprecated. In future, it will be treated as `np.int32 == np.dtype(int).type`.\n",
      "  if np.issubdtype(mask.dtype, np.int):\n"
     ]
    },
    {
     "name": "stdout",
     "output_type": "stream",
     "text": [
      "Thresh=0.0, n=301, R2 Score: 0.8421052631578947\n"
     ]
    },
    {
     "name": "stderr",
     "output_type": "stream",
     "text": [
      "C:\\ProgramData\\Anaconda3\\lib\\site-packages\\sklearn\\utils\\__init__.py:93: FutureWarning: Conversion of the second argument of issubdtype from `int` to `np.signedinteger` is deprecated. In future, it will be treated as `np.int32 == np.dtype(int).type`.\n",
      "  if np.issubdtype(mask.dtype, np.int):\n"
     ]
    },
    {
     "name": "stdout",
     "output_type": "stream",
     "text": [
      "Thresh=0.0, n=301, R2 Score: 0.8421052631578947\n"
     ]
    },
    {
     "name": "stderr",
     "output_type": "stream",
     "text": [
      "C:\\ProgramData\\Anaconda3\\lib\\site-packages\\sklearn\\utils\\__init__.py:93: FutureWarning: Conversion of the second argument of issubdtype from `int` to `np.signedinteger` is deprecated. In future, it will be treated as `np.int32 == np.dtype(int).type`.\n",
      "  if np.issubdtype(mask.dtype, np.int):\n"
     ]
    },
    {
     "name": "stdout",
     "output_type": "stream",
     "text": [
      "Thresh=0.0, n=301, R2 Score: 0.7631578947368421\n"
     ]
    },
    {
     "name": "stderr",
     "output_type": "stream",
     "text": [
      "C:\\ProgramData\\Anaconda3\\lib\\site-packages\\sklearn\\utils\\__init__.py:93: FutureWarning: Conversion of the second argument of issubdtype from `int` to `np.signedinteger` is deprecated. In future, it will be treated as `np.int32 == np.dtype(int).type`.\n",
      "  if np.issubdtype(mask.dtype, np.int):\n"
     ]
    },
    {
     "name": "stdout",
     "output_type": "stream",
     "text": [
      "Thresh=0.0, n=301, R2 Score: 0.8421052631578947\n"
     ]
    },
    {
     "name": "stderr",
     "output_type": "stream",
     "text": [
      "C:\\ProgramData\\Anaconda3\\lib\\site-packages\\sklearn\\utils\\__init__.py:93: FutureWarning: Conversion of the second argument of issubdtype from `int` to `np.signedinteger` is deprecated. In future, it will be treated as `np.int32 == np.dtype(int).type`.\n",
      "  if np.issubdtype(mask.dtype, np.int):\n"
     ]
    },
    {
     "name": "stdout",
     "output_type": "stream",
     "text": [
      "Thresh=0.0, n=301, R2 Score: 0.8421052631578947\n"
     ]
    },
    {
     "name": "stderr",
     "output_type": "stream",
     "text": [
      "C:\\ProgramData\\Anaconda3\\lib\\site-packages\\sklearn\\utils\\__init__.py:93: FutureWarning: Conversion of the second argument of issubdtype from `int` to `np.signedinteger` is deprecated. In future, it will be treated as `np.int32 == np.dtype(int).type`.\n",
      "  if np.issubdtype(mask.dtype, np.int):\n"
     ]
    },
    {
     "name": "stdout",
     "output_type": "stream",
     "text": [
      "Thresh=0.0, n=301, R2 Score: 0.7631578947368421\n"
     ]
    },
    {
     "name": "stderr",
     "output_type": "stream",
     "text": [
      "C:\\ProgramData\\Anaconda3\\lib\\site-packages\\sklearn\\utils\\__init__.py:93: FutureWarning: Conversion of the second argument of issubdtype from `int` to `np.signedinteger` is deprecated. In future, it will be treated as `np.int32 == np.dtype(int).type`.\n",
      "  if np.issubdtype(mask.dtype, np.int):\n"
     ]
    },
    {
     "name": "stdout",
     "output_type": "stream",
     "text": [
      "Thresh=0.0, n=301, R2 Score: 0.8421052631578947\n"
     ]
    },
    {
     "name": "stderr",
     "output_type": "stream",
     "text": [
      "C:\\ProgramData\\Anaconda3\\lib\\site-packages\\sklearn\\utils\\__init__.py:93: FutureWarning: Conversion of the second argument of issubdtype from `int` to `np.signedinteger` is deprecated. In future, it will be treated as `np.int32 == np.dtype(int).type`.\n",
      "  if np.issubdtype(mask.dtype, np.int):\n"
     ]
    },
    {
     "name": "stdout",
     "output_type": "stream",
     "text": [
      "Thresh=0.0, n=301, R2 Score: 0.8421052631578947\n"
     ]
    },
    {
     "name": "stderr",
     "output_type": "stream",
     "text": [
      "C:\\ProgramData\\Anaconda3\\lib\\site-packages\\sklearn\\utils\\__init__.py:93: FutureWarning: Conversion of the second argument of issubdtype from `int` to `np.signedinteger` is deprecated. In future, it will be treated as `np.int32 == np.dtype(int).type`.\n",
      "  if np.issubdtype(mask.dtype, np.int):\n"
     ]
    },
    {
     "name": "stdout",
     "output_type": "stream",
     "text": [
      "Thresh=0.0, n=301, R2 Score: 0.8421052631578947\n"
     ]
    },
    {
     "name": "stderr",
     "output_type": "stream",
     "text": [
      "C:\\ProgramData\\Anaconda3\\lib\\site-packages\\sklearn\\utils\\__init__.py:93: FutureWarning: Conversion of the second argument of issubdtype from `int` to `np.signedinteger` is deprecated. In future, it will be treated as `np.int32 == np.dtype(int).type`.\n",
      "  if np.issubdtype(mask.dtype, np.int):\n"
     ]
    },
    {
     "name": "stdout",
     "output_type": "stream",
     "text": [
      "Thresh=0.0, n=301, R2 Score: 0.7631578947368421\n"
     ]
    },
    {
     "name": "stderr",
     "output_type": "stream",
     "text": [
      "C:\\ProgramData\\Anaconda3\\lib\\site-packages\\sklearn\\utils\\__init__.py:93: FutureWarning: Conversion of the second argument of issubdtype from `int` to `np.signedinteger` is deprecated. In future, it will be treated as `np.int32 == np.dtype(int).type`.\n",
      "  if np.issubdtype(mask.dtype, np.int):\n"
     ]
    },
    {
     "name": "stdout",
     "output_type": "stream",
     "text": [
      "Thresh=0.0, n=301, R2 Score: 0.8421052631578947\n"
     ]
    },
    {
     "name": "stderr",
     "output_type": "stream",
     "text": [
      "C:\\ProgramData\\Anaconda3\\lib\\site-packages\\sklearn\\utils\\__init__.py:93: FutureWarning: Conversion of the second argument of issubdtype from `int` to `np.signedinteger` is deprecated. In future, it will be treated as `np.int32 == np.dtype(int).type`.\n",
      "  if np.issubdtype(mask.dtype, np.int):\n"
     ]
    },
    {
     "name": "stdout",
     "output_type": "stream",
     "text": [
      "Thresh=0.0, n=301, R2 Score: 0.8421052631578947\n"
     ]
    },
    {
     "name": "stderr",
     "output_type": "stream",
     "text": [
      "C:\\ProgramData\\Anaconda3\\lib\\site-packages\\sklearn\\utils\\__init__.py:93: FutureWarning: Conversion of the second argument of issubdtype from `int` to `np.signedinteger` is deprecated. In future, it will be treated as `np.int32 == np.dtype(int).type`.\n",
      "  if np.issubdtype(mask.dtype, np.int):\n"
     ]
    },
    {
     "name": "stdout",
     "output_type": "stream",
     "text": [
      "Thresh=0.0, n=301, R2 Score: 0.8421052631578947\n"
     ]
    },
    {
     "name": "stderr",
     "output_type": "stream",
     "text": [
      "C:\\ProgramData\\Anaconda3\\lib\\site-packages\\sklearn\\utils\\__init__.py:93: FutureWarning: Conversion of the second argument of issubdtype from `int` to `np.signedinteger` is deprecated. In future, it will be treated as `np.int32 == np.dtype(int).type`.\n",
      "  if np.issubdtype(mask.dtype, np.int):\n"
     ]
    },
    {
     "name": "stdout",
     "output_type": "stream",
     "text": [
      "Thresh=0.0, n=301, R2 Score: 0.8421052631578947\n"
     ]
    },
    {
     "name": "stderr",
     "output_type": "stream",
     "text": [
      "C:\\ProgramData\\Anaconda3\\lib\\site-packages\\sklearn\\utils\\__init__.py:93: FutureWarning: Conversion of the second argument of issubdtype from `int` to `np.signedinteger` is deprecated. In future, it will be treated as `np.int32 == np.dtype(int).type`.\n",
      "  if np.issubdtype(mask.dtype, np.int):\n"
     ]
    },
    {
     "name": "stdout",
     "output_type": "stream",
     "text": [
      "Thresh=0.0, n=301, R2 Score: 0.8421052631578947\n"
     ]
    },
    {
     "name": "stderr",
     "output_type": "stream",
     "text": [
      "C:\\ProgramData\\Anaconda3\\lib\\site-packages\\sklearn\\utils\\__init__.py:93: FutureWarning: Conversion of the second argument of issubdtype from `int` to `np.signedinteger` is deprecated. In future, it will be treated as `np.int32 == np.dtype(int).type`.\n",
      "  if np.issubdtype(mask.dtype, np.int):\n"
     ]
    },
    {
     "name": "stdout",
     "output_type": "stream",
     "text": [
      "Thresh=0.0, n=301, R2 Score: 0.8421052631578947\n"
     ]
    },
    {
     "name": "stderr",
     "output_type": "stream",
     "text": [
      "C:\\ProgramData\\Anaconda3\\lib\\site-packages\\sklearn\\utils\\__init__.py:93: FutureWarning: Conversion of the second argument of issubdtype from `int` to `np.signedinteger` is deprecated. In future, it will be treated as `np.int32 == np.dtype(int).type`.\n",
      "  if np.issubdtype(mask.dtype, np.int):\n"
     ]
    },
    {
     "name": "stdout",
     "output_type": "stream",
     "text": [
      "Thresh=0.0, n=301, R2 Score: 0.7631578947368421\n"
     ]
    },
    {
     "name": "stderr",
     "output_type": "stream",
     "text": [
      "C:\\ProgramData\\Anaconda3\\lib\\site-packages\\sklearn\\utils\\__init__.py:93: FutureWarning: Conversion of the second argument of issubdtype from `int` to `np.signedinteger` is deprecated. In future, it will be treated as `np.int32 == np.dtype(int).type`.\n",
      "  if np.issubdtype(mask.dtype, np.int):\n"
     ]
    },
    {
     "name": "stdout",
     "output_type": "stream",
     "text": [
      "Thresh=0.0, n=301, R2 Score: 0.8421052631578947\n"
     ]
    },
    {
     "name": "stderr",
     "output_type": "stream",
     "text": [
      "C:\\ProgramData\\Anaconda3\\lib\\site-packages\\sklearn\\utils\\__init__.py:93: FutureWarning: Conversion of the second argument of issubdtype from `int` to `np.signedinteger` is deprecated. In future, it will be treated as `np.int32 == np.dtype(int).type`.\n",
      "  if np.issubdtype(mask.dtype, np.int):\n"
     ]
    },
    {
     "name": "stdout",
     "output_type": "stream",
     "text": [
      "Thresh=0.0, n=301, R2 Score: 0.8421052631578947\n"
     ]
    },
    {
     "name": "stderr",
     "output_type": "stream",
     "text": [
      "C:\\ProgramData\\Anaconda3\\lib\\site-packages\\sklearn\\utils\\__init__.py:93: FutureWarning: Conversion of the second argument of issubdtype from `int` to `np.signedinteger` is deprecated. In future, it will be treated as `np.int32 == np.dtype(int).type`.\n",
      "  if np.issubdtype(mask.dtype, np.int):\n"
     ]
    },
    {
     "name": "stdout",
     "output_type": "stream",
     "text": [
      "Thresh=0.0, n=301, R2 Score: 0.8421052631578947\n"
     ]
    },
    {
     "name": "stderr",
     "output_type": "stream",
     "text": [
      "C:\\ProgramData\\Anaconda3\\lib\\site-packages\\sklearn\\utils\\__init__.py:93: FutureWarning: Conversion of the second argument of issubdtype from `int` to `np.signedinteger` is deprecated. In future, it will be treated as `np.int32 == np.dtype(int).type`.\n",
      "  if np.issubdtype(mask.dtype, np.int):\n"
     ]
    },
    {
     "name": "stdout",
     "output_type": "stream",
     "text": [
      "Thresh=0.0, n=301, R2 Score: 0.8421052631578947\n"
     ]
    },
    {
     "name": "stderr",
     "output_type": "stream",
     "text": [
      "C:\\ProgramData\\Anaconda3\\lib\\site-packages\\sklearn\\utils\\__init__.py:93: FutureWarning: Conversion of the second argument of issubdtype from `int` to `np.signedinteger` is deprecated. In future, it will be treated as `np.int32 == np.dtype(int).type`.\n",
      "  if np.issubdtype(mask.dtype, np.int):\n"
     ]
    },
    {
     "name": "stdout",
     "output_type": "stream",
     "text": [
      "Thresh=0.0, n=301, R2 Score: 0.8421052631578947\n"
     ]
    },
    {
     "name": "stderr",
     "output_type": "stream",
     "text": [
      "C:\\ProgramData\\Anaconda3\\lib\\site-packages\\sklearn\\utils\\__init__.py:93: FutureWarning: Conversion of the second argument of issubdtype from `int` to `np.signedinteger` is deprecated. In future, it will be treated as `np.int32 == np.dtype(int).type`.\n",
      "  if np.issubdtype(mask.dtype, np.int):\n"
     ]
    },
    {
     "name": "stdout",
     "output_type": "stream",
     "text": [
      "Thresh=0.0, n=301, R2 Score: 0.8421052631578947\n"
     ]
    },
    {
     "name": "stderr",
     "output_type": "stream",
     "text": [
      "C:\\ProgramData\\Anaconda3\\lib\\site-packages\\sklearn\\utils\\__init__.py:93: FutureWarning: Conversion of the second argument of issubdtype from `int` to `np.signedinteger` is deprecated. In future, it will be treated as `np.int32 == np.dtype(int).type`.\n",
      "  if np.issubdtype(mask.dtype, np.int):\n"
     ]
    },
    {
     "name": "stdout",
     "output_type": "stream",
     "text": [
      "Thresh=0.0, n=301, R2 Score: 0.7631578947368421\n"
     ]
    },
    {
     "name": "stderr",
     "output_type": "stream",
     "text": [
      "C:\\ProgramData\\Anaconda3\\lib\\site-packages\\sklearn\\utils\\__init__.py:93: FutureWarning: Conversion of the second argument of issubdtype from `int` to `np.signedinteger` is deprecated. In future, it will be treated as `np.int32 == np.dtype(int).type`.\n",
      "  if np.issubdtype(mask.dtype, np.int):\n"
     ]
    },
    {
     "name": "stdout",
     "output_type": "stream",
     "text": [
      "Thresh=0.0, n=301, R2 Score: 0.7631578947368421\n"
     ]
    },
    {
     "name": "stderr",
     "output_type": "stream",
     "text": [
      "C:\\ProgramData\\Anaconda3\\lib\\site-packages\\sklearn\\utils\\__init__.py:93: FutureWarning: Conversion of the second argument of issubdtype from `int` to `np.signedinteger` is deprecated. In future, it will be treated as `np.int32 == np.dtype(int).type`.\n",
      "  if np.issubdtype(mask.dtype, np.int):\n"
     ]
    },
    {
     "name": "stdout",
     "output_type": "stream",
     "text": [
      "Thresh=0.0, n=301, R2 Score: 0.8421052631578947\n"
     ]
    },
    {
     "name": "stderr",
     "output_type": "stream",
     "text": [
      "C:\\ProgramData\\Anaconda3\\lib\\site-packages\\sklearn\\utils\\__init__.py:93: FutureWarning: Conversion of the second argument of issubdtype from `int` to `np.signedinteger` is deprecated. In future, it will be treated as `np.int32 == np.dtype(int).type`.\n",
      "  if np.issubdtype(mask.dtype, np.int):\n"
     ]
    },
    {
     "name": "stdout",
     "output_type": "stream",
     "text": [
      "Thresh=0.0, n=301, R2 Score: 0.8421052631578947\n"
     ]
    },
    {
     "name": "stderr",
     "output_type": "stream",
     "text": [
      "C:\\ProgramData\\Anaconda3\\lib\\site-packages\\sklearn\\utils\\__init__.py:93: FutureWarning: Conversion of the second argument of issubdtype from `int` to `np.signedinteger` is deprecated. In future, it will be treated as `np.int32 == np.dtype(int).type`.\n",
      "  if np.issubdtype(mask.dtype, np.int):\n"
     ]
    },
    {
     "name": "stdout",
     "output_type": "stream",
     "text": [
      "Thresh=0.0, n=301, R2 Score: 0.8421052631578947\n"
     ]
    },
    {
     "name": "stderr",
     "output_type": "stream",
     "text": [
      "C:\\ProgramData\\Anaconda3\\lib\\site-packages\\sklearn\\utils\\__init__.py:93: FutureWarning: Conversion of the second argument of issubdtype from `int` to `np.signedinteger` is deprecated. In future, it will be treated as `np.int32 == np.dtype(int).type`.\n",
      "  if np.issubdtype(mask.dtype, np.int):\n"
     ]
    },
    {
     "name": "stdout",
     "output_type": "stream",
     "text": [
      "Thresh=0.0, n=301, R2 Score: 0.8421052631578947\n"
     ]
    },
    {
     "name": "stderr",
     "output_type": "stream",
     "text": [
      "C:\\ProgramData\\Anaconda3\\lib\\site-packages\\sklearn\\utils\\__init__.py:93: FutureWarning: Conversion of the second argument of issubdtype from `int` to `np.signedinteger` is deprecated. In future, it will be treated as `np.int32 == np.dtype(int).type`.\n",
      "  if np.issubdtype(mask.dtype, np.int):\n"
     ]
    },
    {
     "name": "stdout",
     "output_type": "stream",
     "text": [
      "Thresh=0.0, n=301, R2 Score: 0.8421052631578947\n"
     ]
    },
    {
     "name": "stderr",
     "output_type": "stream",
     "text": [
      "C:\\ProgramData\\Anaconda3\\lib\\site-packages\\sklearn\\utils\\__init__.py:93: FutureWarning: Conversion of the second argument of issubdtype from `int` to `np.signedinteger` is deprecated. In future, it will be treated as `np.int32 == np.dtype(int).type`.\n",
      "  if np.issubdtype(mask.dtype, np.int):\n"
     ]
    },
    {
     "name": "stdout",
     "output_type": "stream",
     "text": [
      "Thresh=0.0, n=301, R2 Score: 0.8421052631578947\n"
     ]
    },
    {
     "name": "stderr",
     "output_type": "stream",
     "text": [
      "C:\\ProgramData\\Anaconda3\\lib\\site-packages\\sklearn\\utils\\__init__.py:93: FutureWarning: Conversion of the second argument of issubdtype from `int` to `np.signedinteger` is deprecated. In future, it will be treated as `np.int32 == np.dtype(int).type`.\n",
      "  if np.issubdtype(mask.dtype, np.int):\n"
     ]
    },
    {
     "name": "stdout",
     "output_type": "stream",
     "text": [
      "Thresh=0.0, n=301, R2 Score: 0.8421052631578947\n"
     ]
    },
    {
     "name": "stderr",
     "output_type": "stream",
     "text": [
      "C:\\ProgramData\\Anaconda3\\lib\\site-packages\\sklearn\\utils\\__init__.py:93: FutureWarning: Conversion of the second argument of issubdtype from `int` to `np.signedinteger` is deprecated. In future, it will be treated as `np.int32 == np.dtype(int).type`.\n",
      "  if np.issubdtype(mask.dtype, np.int):\n"
     ]
    },
    {
     "name": "stdout",
     "output_type": "stream",
     "text": [
      "Thresh=0.0, n=301, R2 Score: 0.8421052631578947\n"
     ]
    },
    {
     "name": "stderr",
     "output_type": "stream",
     "text": [
      "C:\\ProgramData\\Anaconda3\\lib\\site-packages\\sklearn\\utils\\__init__.py:93: FutureWarning: Conversion of the second argument of issubdtype from `int` to `np.signedinteger` is deprecated. In future, it will be treated as `np.int32 == np.dtype(int).type`.\n",
      "  if np.issubdtype(mask.dtype, np.int):\n"
     ]
    },
    {
     "name": "stdout",
     "output_type": "stream",
     "text": [
      "Thresh=0.0, n=301, R2 Score: 0.7631578947368421\n"
     ]
    },
    {
     "name": "stderr",
     "output_type": "stream",
     "text": [
      "C:\\ProgramData\\Anaconda3\\lib\\site-packages\\sklearn\\utils\\__init__.py:93: FutureWarning: Conversion of the second argument of issubdtype from `int` to `np.signedinteger` is deprecated. In future, it will be treated as `np.int32 == np.dtype(int).type`.\n",
      "  if np.issubdtype(mask.dtype, np.int):\n"
     ]
    },
    {
     "name": "stdout",
     "output_type": "stream",
     "text": [
      "Thresh=0.0, n=301, R2 Score: 0.8421052631578947\n"
     ]
    },
    {
     "name": "stderr",
     "output_type": "stream",
     "text": [
      "C:\\ProgramData\\Anaconda3\\lib\\site-packages\\sklearn\\utils\\__init__.py:93: FutureWarning: Conversion of the second argument of issubdtype from `int` to `np.signedinteger` is deprecated. In future, it will be treated as `np.int32 == np.dtype(int).type`.\n",
      "  if np.issubdtype(mask.dtype, np.int):\n"
     ]
    },
    {
     "name": "stdout",
     "output_type": "stream",
     "text": [
      "Thresh=0.0, n=301, R2 Score: 0.8421052631578947\n"
     ]
    },
    {
     "name": "stderr",
     "output_type": "stream",
     "text": [
      "C:\\ProgramData\\Anaconda3\\lib\\site-packages\\sklearn\\utils\\__init__.py:93: FutureWarning: Conversion of the second argument of issubdtype from `int` to `np.signedinteger` is deprecated. In future, it will be treated as `np.int32 == np.dtype(int).type`.\n",
      "  if np.issubdtype(mask.dtype, np.int):\n"
     ]
    },
    {
     "name": "stdout",
     "output_type": "stream",
     "text": [
      "Thresh=0.0, n=301, R2 Score: 0.8421052631578947\n"
     ]
    },
    {
     "name": "stderr",
     "output_type": "stream",
     "text": [
      "C:\\ProgramData\\Anaconda3\\lib\\site-packages\\sklearn\\utils\\__init__.py:93: FutureWarning: Conversion of the second argument of issubdtype from `int` to `np.signedinteger` is deprecated. In future, it will be treated as `np.int32 == np.dtype(int).type`.\n",
      "  if np.issubdtype(mask.dtype, np.int):\n"
     ]
    },
    {
     "name": "stdout",
     "output_type": "stream",
     "text": [
      "Thresh=0.0, n=301, R2 Score: 0.8421052631578947\n"
     ]
    },
    {
     "name": "stderr",
     "output_type": "stream",
     "text": [
      "C:\\ProgramData\\Anaconda3\\lib\\site-packages\\sklearn\\utils\\__init__.py:93: FutureWarning: Conversion of the second argument of issubdtype from `int` to `np.signedinteger` is deprecated. In future, it will be treated as `np.int32 == np.dtype(int).type`.\n",
      "  if np.issubdtype(mask.dtype, np.int):\n"
     ]
    },
    {
     "name": "stdout",
     "output_type": "stream",
     "text": [
      "Thresh=0.0, n=301, R2 Score: 0.8421052631578947\n"
     ]
    },
    {
     "name": "stderr",
     "output_type": "stream",
     "text": [
      "C:\\ProgramData\\Anaconda3\\lib\\site-packages\\sklearn\\utils\\__init__.py:93: FutureWarning: Conversion of the second argument of issubdtype from `int` to `np.signedinteger` is deprecated. In future, it will be treated as `np.int32 == np.dtype(int).type`.\n",
      "  if np.issubdtype(mask.dtype, np.int):\n"
     ]
    },
    {
     "name": "stdout",
     "output_type": "stream",
     "text": [
      "Thresh=0.0, n=301, R2 Score: 0.8421052631578947\n"
     ]
    },
    {
     "name": "stderr",
     "output_type": "stream",
     "text": [
      "C:\\ProgramData\\Anaconda3\\lib\\site-packages\\sklearn\\utils\\__init__.py:93: FutureWarning: Conversion of the second argument of issubdtype from `int` to `np.signedinteger` is deprecated. In future, it will be treated as `np.int32 == np.dtype(int).type`.\n",
      "  if np.issubdtype(mask.dtype, np.int):\n"
     ]
    },
    {
     "name": "stdout",
     "output_type": "stream",
     "text": [
      "Thresh=0.0, n=301, R2 Score: 0.7631578947368421\n"
     ]
    },
    {
     "name": "stderr",
     "output_type": "stream",
     "text": [
      "C:\\ProgramData\\Anaconda3\\lib\\site-packages\\sklearn\\utils\\__init__.py:93: FutureWarning: Conversion of the second argument of issubdtype from `int` to `np.signedinteger` is deprecated. In future, it will be treated as `np.int32 == np.dtype(int).type`.\n",
      "  if np.issubdtype(mask.dtype, np.int):\n"
     ]
    },
    {
     "name": "stdout",
     "output_type": "stream",
     "text": [
      "Thresh=0.0, n=301, R2 Score: 0.8421052631578947\n"
     ]
    },
    {
     "name": "stderr",
     "output_type": "stream",
     "text": [
      "C:\\ProgramData\\Anaconda3\\lib\\site-packages\\sklearn\\utils\\__init__.py:93: FutureWarning: Conversion of the second argument of issubdtype from `int` to `np.signedinteger` is deprecated. In future, it will be treated as `np.int32 == np.dtype(int).type`.\n",
      "  if np.issubdtype(mask.dtype, np.int):\n"
     ]
    },
    {
     "name": "stdout",
     "output_type": "stream",
     "text": [
      "Thresh=0.0, n=301, R2 Score: 0.8421052631578947\n"
     ]
    },
    {
     "name": "stderr",
     "output_type": "stream",
     "text": [
      "C:\\ProgramData\\Anaconda3\\lib\\site-packages\\sklearn\\utils\\__init__.py:93: FutureWarning: Conversion of the second argument of issubdtype from `int` to `np.signedinteger` is deprecated. In future, it will be treated as `np.int32 == np.dtype(int).type`.\n",
      "  if np.issubdtype(mask.dtype, np.int):\n"
     ]
    },
    {
     "name": "stdout",
     "output_type": "stream",
     "text": [
      "Thresh=0.0, n=301, R2 Score: 0.7631578947368421\n"
     ]
    },
    {
     "name": "stderr",
     "output_type": "stream",
     "text": [
      "C:\\ProgramData\\Anaconda3\\lib\\site-packages\\sklearn\\utils\\__init__.py:93: FutureWarning: Conversion of the second argument of issubdtype from `int` to `np.signedinteger` is deprecated. In future, it will be treated as `np.int32 == np.dtype(int).type`.\n",
      "  if np.issubdtype(mask.dtype, np.int):\n"
     ]
    },
    {
     "name": "stdout",
     "output_type": "stream",
     "text": [
      "Thresh=0.0, n=301, R2 Score: 0.8421052631578947\n"
     ]
    },
    {
     "name": "stderr",
     "output_type": "stream",
     "text": [
      "C:\\ProgramData\\Anaconda3\\lib\\site-packages\\sklearn\\utils\\__init__.py:93: FutureWarning: Conversion of the second argument of issubdtype from `int` to `np.signedinteger` is deprecated. In future, it will be treated as `np.int32 == np.dtype(int).type`.\n",
      "  if np.issubdtype(mask.dtype, np.int):\n"
     ]
    },
    {
     "name": "stdout",
     "output_type": "stream",
     "text": [
      "Thresh=0.0, n=301, R2 Score: 0.7631578947368421\n"
     ]
    },
    {
     "name": "stderr",
     "output_type": "stream",
     "text": [
      "C:\\ProgramData\\Anaconda3\\lib\\site-packages\\sklearn\\utils\\__init__.py:93: FutureWarning: Conversion of the second argument of issubdtype from `int` to `np.signedinteger` is deprecated. In future, it will be treated as `np.int32 == np.dtype(int).type`.\n",
      "  if np.issubdtype(mask.dtype, np.int):\n"
     ]
    },
    {
     "name": "stdout",
     "output_type": "stream",
     "text": [
      "Thresh=0.0, n=301, R2 Score: 0.8421052631578947\n"
     ]
    },
    {
     "name": "stderr",
     "output_type": "stream",
     "text": [
      "C:\\ProgramData\\Anaconda3\\lib\\site-packages\\sklearn\\utils\\__init__.py:93: FutureWarning: Conversion of the second argument of issubdtype from `int` to `np.signedinteger` is deprecated. In future, it will be treated as `np.int32 == np.dtype(int).type`.\n",
      "  if np.issubdtype(mask.dtype, np.int):\n"
     ]
    },
    {
     "name": "stdout",
     "output_type": "stream",
     "text": [
      "Thresh=0.0, n=301, R2 Score: 0.8421052631578947\n"
     ]
    },
    {
     "name": "stderr",
     "output_type": "stream",
     "text": [
      "C:\\ProgramData\\Anaconda3\\lib\\site-packages\\sklearn\\utils\\__init__.py:93: FutureWarning: Conversion of the second argument of issubdtype from `int` to `np.signedinteger` is deprecated. In future, it will be treated as `np.int32 == np.dtype(int).type`.\n",
      "  if np.issubdtype(mask.dtype, np.int):\n"
     ]
    },
    {
     "name": "stdout",
     "output_type": "stream",
     "text": [
      "Thresh=0.0, n=301, R2 Score: 0.8421052631578947\n"
     ]
    },
    {
     "name": "stderr",
     "output_type": "stream",
     "text": [
      "C:\\ProgramData\\Anaconda3\\lib\\site-packages\\sklearn\\utils\\__init__.py:93: FutureWarning: Conversion of the second argument of issubdtype from `int` to `np.signedinteger` is deprecated. In future, it will be treated as `np.int32 == np.dtype(int).type`.\n",
      "  if np.issubdtype(mask.dtype, np.int):\n"
     ]
    },
    {
     "name": "stdout",
     "output_type": "stream",
     "text": [
      "Thresh=0.0, n=301, R2 Score: 0.8421052631578947\n"
     ]
    },
    {
     "name": "stderr",
     "output_type": "stream",
     "text": [
      "C:\\ProgramData\\Anaconda3\\lib\\site-packages\\sklearn\\utils\\__init__.py:93: FutureWarning: Conversion of the second argument of issubdtype from `int` to `np.signedinteger` is deprecated. In future, it will be treated as `np.int32 == np.dtype(int).type`.\n",
      "  if np.issubdtype(mask.dtype, np.int):\n"
     ]
    },
    {
     "name": "stdout",
     "output_type": "stream",
     "text": [
      "Thresh=0.0, n=301, R2 Score: 0.8421052631578947\n"
     ]
    },
    {
     "name": "stderr",
     "output_type": "stream",
     "text": [
      "C:\\ProgramData\\Anaconda3\\lib\\site-packages\\sklearn\\utils\\__init__.py:93: FutureWarning: Conversion of the second argument of issubdtype from `int` to `np.signedinteger` is deprecated. In future, it will be treated as `np.int32 == np.dtype(int).type`.\n",
      "  if np.issubdtype(mask.dtype, np.int):\n"
     ]
    },
    {
     "name": "stdout",
     "output_type": "stream",
     "text": [
      "Thresh=0.0, n=301, R2 Score: 0.8421052631578947\n"
     ]
    },
    {
     "name": "stderr",
     "output_type": "stream",
     "text": [
      "C:\\ProgramData\\Anaconda3\\lib\\site-packages\\sklearn\\utils\\__init__.py:93: FutureWarning: Conversion of the second argument of issubdtype from `int` to `np.signedinteger` is deprecated. In future, it will be treated as `np.int32 == np.dtype(int).type`.\n",
      "  if np.issubdtype(mask.dtype, np.int):\n"
     ]
    },
    {
     "name": "stdout",
     "output_type": "stream",
     "text": [
      "Thresh=0.0, n=301, R2 Score: 0.8421052631578947\n"
     ]
    },
    {
     "name": "stderr",
     "output_type": "stream",
     "text": [
      "C:\\ProgramData\\Anaconda3\\lib\\site-packages\\sklearn\\utils\\__init__.py:93: FutureWarning: Conversion of the second argument of issubdtype from `int` to `np.signedinteger` is deprecated. In future, it will be treated as `np.int32 == np.dtype(int).type`.\n",
      "  if np.issubdtype(mask.dtype, np.int):\n"
     ]
    },
    {
     "name": "stdout",
     "output_type": "stream",
     "text": [
      "Thresh=0.0, n=301, R2 Score: 0.8421052631578947\n"
     ]
    },
    {
     "name": "stderr",
     "output_type": "stream",
     "text": [
      "C:\\ProgramData\\Anaconda3\\lib\\site-packages\\sklearn\\utils\\__init__.py:93: FutureWarning: Conversion of the second argument of issubdtype from `int` to `np.signedinteger` is deprecated. In future, it will be treated as `np.int32 == np.dtype(int).type`.\n",
      "  if np.issubdtype(mask.dtype, np.int):\n"
     ]
    },
    {
     "name": "stdout",
     "output_type": "stream",
     "text": [
      "Thresh=0.0, n=301, R2 Score: 0.8421052631578947\n"
     ]
    },
    {
     "name": "stderr",
     "output_type": "stream",
     "text": [
      "C:\\ProgramData\\Anaconda3\\lib\\site-packages\\sklearn\\utils\\__init__.py:93: FutureWarning: Conversion of the second argument of issubdtype from `int` to `np.signedinteger` is deprecated. In future, it will be treated as `np.int32 == np.dtype(int).type`.\n",
      "  if np.issubdtype(mask.dtype, np.int):\n"
     ]
    },
    {
     "name": "stdout",
     "output_type": "stream",
     "text": [
      "Thresh=0.0, n=301, R2 Score: 0.8421052631578947\n"
     ]
    },
    {
     "name": "stderr",
     "output_type": "stream",
     "text": [
      "C:\\ProgramData\\Anaconda3\\lib\\site-packages\\sklearn\\utils\\__init__.py:93: FutureWarning: Conversion of the second argument of issubdtype from `int` to `np.signedinteger` is deprecated. In future, it will be treated as `np.int32 == np.dtype(int).type`.\n",
      "  if np.issubdtype(mask.dtype, np.int):\n"
     ]
    },
    {
     "name": "stdout",
     "output_type": "stream",
     "text": [
      "Thresh=0.0, n=301, R2 Score: 0.8421052631578947\n"
     ]
    },
    {
     "name": "stderr",
     "output_type": "stream",
     "text": [
      "C:\\ProgramData\\Anaconda3\\lib\\site-packages\\sklearn\\utils\\__init__.py:93: FutureWarning: Conversion of the second argument of issubdtype from `int` to `np.signedinteger` is deprecated. In future, it will be treated as `np.int32 == np.dtype(int).type`.\n",
      "  if np.issubdtype(mask.dtype, np.int):\n"
     ]
    },
    {
     "name": "stdout",
     "output_type": "stream",
     "text": [
      "Thresh=0.0, n=301, R2 Score: 0.8421052631578947\n"
     ]
    },
    {
     "name": "stderr",
     "output_type": "stream",
     "text": [
      "C:\\ProgramData\\Anaconda3\\lib\\site-packages\\sklearn\\utils\\__init__.py:93: FutureWarning: Conversion of the second argument of issubdtype from `int` to `np.signedinteger` is deprecated. In future, it will be treated as `np.int32 == np.dtype(int).type`.\n",
      "  if np.issubdtype(mask.dtype, np.int):\n"
     ]
    },
    {
     "name": "stdout",
     "output_type": "stream",
     "text": [
      "Thresh=0.0, n=301, R2 Score: 0.7631578947368421\n"
     ]
    },
    {
     "name": "stderr",
     "output_type": "stream",
     "text": [
      "C:\\ProgramData\\Anaconda3\\lib\\site-packages\\sklearn\\utils\\__init__.py:93: FutureWarning: Conversion of the second argument of issubdtype from `int` to `np.signedinteger` is deprecated. In future, it will be treated as `np.int32 == np.dtype(int).type`.\n",
      "  if np.issubdtype(mask.dtype, np.int):\n"
     ]
    },
    {
     "name": "stdout",
     "output_type": "stream",
     "text": [
      "Thresh=0.0, n=301, R2 Score: 0.8421052631578947\n"
     ]
    },
    {
     "name": "stderr",
     "output_type": "stream",
     "text": [
      "C:\\ProgramData\\Anaconda3\\lib\\site-packages\\sklearn\\utils\\__init__.py:93: FutureWarning: Conversion of the second argument of issubdtype from `int` to `np.signedinteger` is deprecated. In future, it will be treated as `np.int32 == np.dtype(int).type`.\n",
      "  if np.issubdtype(mask.dtype, np.int):\n"
     ]
    },
    {
     "name": "stdout",
     "output_type": "stream",
     "text": [
      "Thresh=0.0, n=301, R2 Score: 0.8421052631578947\n"
     ]
    },
    {
     "name": "stderr",
     "output_type": "stream",
     "text": [
      "C:\\ProgramData\\Anaconda3\\lib\\site-packages\\sklearn\\utils\\__init__.py:93: FutureWarning: Conversion of the second argument of issubdtype from `int` to `np.signedinteger` is deprecated. In future, it will be treated as `np.int32 == np.dtype(int).type`.\n",
      "  if np.issubdtype(mask.dtype, np.int):\n"
     ]
    },
    {
     "name": "stdout",
     "output_type": "stream",
     "text": [
      "Thresh=0.0, n=301, R2 Score: 0.7631578947368421\n"
     ]
    },
    {
     "name": "stderr",
     "output_type": "stream",
     "text": [
      "C:\\ProgramData\\Anaconda3\\lib\\site-packages\\sklearn\\utils\\__init__.py:93: FutureWarning: Conversion of the second argument of issubdtype from `int` to `np.signedinteger` is deprecated. In future, it will be treated as `np.int32 == np.dtype(int).type`.\n",
      "  if np.issubdtype(mask.dtype, np.int):\n"
     ]
    },
    {
     "name": "stdout",
     "output_type": "stream",
     "text": [
      "Thresh=0.0, n=301, R2 Score: 0.8421052631578947\n"
     ]
    },
    {
     "name": "stderr",
     "output_type": "stream",
     "text": [
      "C:\\ProgramData\\Anaconda3\\lib\\site-packages\\sklearn\\utils\\__init__.py:93: FutureWarning: Conversion of the second argument of issubdtype from `int` to `np.signedinteger` is deprecated. In future, it will be treated as `np.int32 == np.dtype(int).type`.\n",
      "  if np.issubdtype(mask.dtype, np.int):\n"
     ]
    },
    {
     "name": "stdout",
     "output_type": "stream",
     "text": [
      "Thresh=0.0, n=301, R2 Score: 0.8421052631578947\n"
     ]
    },
    {
     "name": "stderr",
     "output_type": "stream",
     "text": [
      "C:\\ProgramData\\Anaconda3\\lib\\site-packages\\sklearn\\utils\\__init__.py:93: FutureWarning: Conversion of the second argument of issubdtype from `int` to `np.signedinteger` is deprecated. In future, it will be treated as `np.int32 == np.dtype(int).type`.\n",
      "  if np.issubdtype(mask.dtype, np.int):\n"
     ]
    },
    {
     "name": "stdout",
     "output_type": "stream",
     "text": [
      "Thresh=0.0, n=301, R2 Score: 0.8421052631578947\n"
     ]
    },
    {
     "name": "stderr",
     "output_type": "stream",
     "text": [
      "C:\\ProgramData\\Anaconda3\\lib\\site-packages\\sklearn\\utils\\__init__.py:93: FutureWarning: Conversion of the second argument of issubdtype from `int` to `np.signedinteger` is deprecated. In future, it will be treated as `np.int32 == np.dtype(int).type`.\n",
      "  if np.issubdtype(mask.dtype, np.int):\n"
     ]
    },
    {
     "name": "stdout",
     "output_type": "stream",
     "text": [
      "Thresh=0.0, n=301, R2 Score: 0.7631578947368421\n"
     ]
    },
    {
     "name": "stderr",
     "output_type": "stream",
     "text": [
      "C:\\ProgramData\\Anaconda3\\lib\\site-packages\\sklearn\\utils\\__init__.py:93: FutureWarning: Conversion of the second argument of issubdtype from `int` to `np.signedinteger` is deprecated. In future, it will be treated as `np.int32 == np.dtype(int).type`.\n",
      "  if np.issubdtype(mask.dtype, np.int):\n"
     ]
    },
    {
     "name": "stdout",
     "output_type": "stream",
     "text": [
      "Thresh=0.0, n=301, R2 Score: 0.7631578947368421\n"
     ]
    },
    {
     "name": "stderr",
     "output_type": "stream",
     "text": [
      "C:\\ProgramData\\Anaconda3\\lib\\site-packages\\sklearn\\utils\\__init__.py:93: FutureWarning: Conversion of the second argument of issubdtype from `int` to `np.signedinteger` is deprecated. In future, it will be treated as `np.int32 == np.dtype(int).type`.\n",
      "  if np.issubdtype(mask.dtype, np.int):\n"
     ]
    },
    {
     "name": "stdout",
     "output_type": "stream",
     "text": [
      "Thresh=0.0, n=301, R2 Score: 0.8421052631578947\n"
     ]
    },
    {
     "name": "stderr",
     "output_type": "stream",
     "text": [
      "C:\\ProgramData\\Anaconda3\\lib\\site-packages\\sklearn\\utils\\__init__.py:93: FutureWarning: Conversion of the second argument of issubdtype from `int` to `np.signedinteger` is deprecated. In future, it will be treated as `np.int32 == np.dtype(int).type`.\n",
      "  if np.issubdtype(mask.dtype, np.int):\n"
     ]
    },
    {
     "name": "stdout",
     "output_type": "stream",
     "text": [
      "Thresh=0.0, n=301, R2 Score: 0.7631578947368421\n"
     ]
    },
    {
     "name": "stderr",
     "output_type": "stream",
     "text": [
      "C:\\ProgramData\\Anaconda3\\lib\\site-packages\\sklearn\\utils\\__init__.py:93: FutureWarning: Conversion of the second argument of issubdtype from `int` to `np.signedinteger` is deprecated. In future, it will be treated as `np.int32 == np.dtype(int).type`.\n",
      "  if np.issubdtype(mask.dtype, np.int):\n"
     ]
    },
    {
     "name": "stdout",
     "output_type": "stream",
     "text": [
      "Thresh=0.0, n=301, R2 Score: 0.7631578947368421\n"
     ]
    },
    {
     "name": "stderr",
     "output_type": "stream",
     "text": [
      "C:\\ProgramData\\Anaconda3\\lib\\site-packages\\sklearn\\utils\\__init__.py:93: FutureWarning: Conversion of the second argument of issubdtype from `int` to `np.signedinteger` is deprecated. In future, it will be treated as `np.int32 == np.dtype(int).type`.\n",
      "  if np.issubdtype(mask.dtype, np.int):\n"
     ]
    },
    {
     "name": "stdout",
     "output_type": "stream",
     "text": [
      "Thresh=0.0, n=301, R2 Score: 0.7631578947368421\n"
     ]
    },
    {
     "name": "stderr",
     "output_type": "stream",
     "text": [
      "C:\\ProgramData\\Anaconda3\\lib\\site-packages\\sklearn\\utils\\__init__.py:93: FutureWarning: Conversion of the second argument of issubdtype from `int` to `np.signedinteger` is deprecated. In future, it will be treated as `np.int32 == np.dtype(int).type`.\n",
      "  if np.issubdtype(mask.dtype, np.int):\n"
     ]
    },
    {
     "name": "stdout",
     "output_type": "stream",
     "text": [
      "Thresh=0.0, n=301, R2 Score: 0.8421052631578947\n"
     ]
    },
    {
     "name": "stderr",
     "output_type": "stream",
     "text": [
      "C:\\ProgramData\\Anaconda3\\lib\\site-packages\\sklearn\\utils\\__init__.py:93: FutureWarning: Conversion of the second argument of issubdtype from `int` to `np.signedinteger` is deprecated. In future, it will be treated as `np.int32 == np.dtype(int).type`.\n",
      "  if np.issubdtype(mask.dtype, np.int):\n"
     ]
    },
    {
     "name": "stdout",
     "output_type": "stream",
     "text": [
      "Thresh=0.0, n=301, R2 Score: 0.8421052631578947\n"
     ]
    },
    {
     "name": "stderr",
     "output_type": "stream",
     "text": [
      "C:\\ProgramData\\Anaconda3\\lib\\site-packages\\sklearn\\utils\\__init__.py:93: FutureWarning: Conversion of the second argument of issubdtype from `int` to `np.signedinteger` is deprecated. In future, it will be treated as `np.int32 == np.dtype(int).type`.\n",
      "  if np.issubdtype(mask.dtype, np.int):\n"
     ]
    },
    {
     "name": "stdout",
     "output_type": "stream",
     "text": [
      "Thresh=0.0, n=301, R2 Score: 0.7631578947368421\n"
     ]
    },
    {
     "name": "stderr",
     "output_type": "stream",
     "text": [
      "C:\\ProgramData\\Anaconda3\\lib\\site-packages\\sklearn\\utils\\__init__.py:93: FutureWarning: Conversion of the second argument of issubdtype from `int` to `np.signedinteger` is deprecated. In future, it will be treated as `np.int32 == np.dtype(int).type`.\n",
      "  if np.issubdtype(mask.dtype, np.int):\n"
     ]
    },
    {
     "name": "stdout",
     "output_type": "stream",
     "text": [
      "Thresh=0.0, n=301, R2 Score: 0.7631578947368421\n"
     ]
    },
    {
     "name": "stderr",
     "output_type": "stream",
     "text": [
      "C:\\ProgramData\\Anaconda3\\lib\\site-packages\\sklearn\\utils\\__init__.py:93: FutureWarning: Conversion of the second argument of issubdtype from `int` to `np.signedinteger` is deprecated. In future, it will be treated as `np.int32 == np.dtype(int).type`.\n",
      "  if np.issubdtype(mask.dtype, np.int):\n"
     ]
    },
    {
     "name": "stdout",
     "output_type": "stream",
     "text": [
      "Thresh=0.0, n=301, R2 Score: 0.8421052631578947\n"
     ]
    },
    {
     "name": "stderr",
     "output_type": "stream",
     "text": [
      "C:\\ProgramData\\Anaconda3\\lib\\site-packages\\sklearn\\utils\\__init__.py:93: FutureWarning: Conversion of the second argument of issubdtype from `int` to `np.signedinteger` is deprecated. In future, it will be treated as `np.int32 == np.dtype(int).type`.\n",
      "  if np.issubdtype(mask.dtype, np.int):\n"
     ]
    },
    {
     "name": "stdout",
     "output_type": "stream",
     "text": [
      "Thresh=0.0, n=301, R2 Score: 0.7631578947368421\n"
     ]
    },
    {
     "name": "stderr",
     "output_type": "stream",
     "text": [
      "C:\\ProgramData\\Anaconda3\\lib\\site-packages\\sklearn\\utils\\__init__.py:93: FutureWarning: Conversion of the second argument of issubdtype from `int` to `np.signedinteger` is deprecated. In future, it will be treated as `np.int32 == np.dtype(int).type`.\n",
      "  if np.issubdtype(mask.dtype, np.int):\n"
     ]
    },
    {
     "name": "stdout",
     "output_type": "stream",
     "text": [
      "Thresh=0.0, n=301, R2 Score: 0.8421052631578947\n"
     ]
    },
    {
     "name": "stderr",
     "output_type": "stream",
     "text": [
      "C:\\ProgramData\\Anaconda3\\lib\\site-packages\\sklearn\\utils\\__init__.py:93: FutureWarning: Conversion of the second argument of issubdtype from `int` to `np.signedinteger` is deprecated. In future, it will be treated as `np.int32 == np.dtype(int).type`.\n",
      "  if np.issubdtype(mask.dtype, np.int):\n"
     ]
    },
    {
     "name": "stdout",
     "output_type": "stream",
     "text": [
      "Thresh=0.0, n=301, R2 Score: 0.8421052631578947\n"
     ]
    },
    {
     "name": "stderr",
     "output_type": "stream",
     "text": [
      "C:\\ProgramData\\Anaconda3\\lib\\site-packages\\sklearn\\utils\\__init__.py:93: FutureWarning: Conversion of the second argument of issubdtype from `int` to `np.signedinteger` is deprecated. In future, it will be treated as `np.int32 == np.dtype(int).type`.\n",
      "  if np.issubdtype(mask.dtype, np.int):\n"
     ]
    },
    {
     "name": "stdout",
     "output_type": "stream",
     "text": [
      "Thresh=0.0, n=301, R2 Score: 0.8421052631578947\n"
     ]
    },
    {
     "name": "stderr",
     "output_type": "stream",
     "text": [
      "C:\\ProgramData\\Anaconda3\\lib\\site-packages\\sklearn\\utils\\__init__.py:93: FutureWarning: Conversion of the second argument of issubdtype from `int` to `np.signedinteger` is deprecated. In future, it will be treated as `np.int32 == np.dtype(int).type`.\n",
      "  if np.issubdtype(mask.dtype, np.int):\n"
     ]
    },
    {
     "name": "stdout",
     "output_type": "stream",
     "text": [
      "Thresh=0.0, n=301, R2 Score: 0.7631578947368421\n"
     ]
    },
    {
     "name": "stderr",
     "output_type": "stream",
     "text": [
      "C:\\ProgramData\\Anaconda3\\lib\\site-packages\\sklearn\\utils\\__init__.py:93: FutureWarning: Conversion of the second argument of issubdtype from `int` to `np.signedinteger` is deprecated. In future, it will be treated as `np.int32 == np.dtype(int).type`.\n",
      "  if np.issubdtype(mask.dtype, np.int):\n"
     ]
    },
    {
     "name": "stdout",
     "output_type": "stream",
     "text": [
      "Thresh=0.0, n=301, R2 Score: 0.8421052631578947\n"
     ]
    },
    {
     "name": "stderr",
     "output_type": "stream",
     "text": [
      "C:\\ProgramData\\Anaconda3\\lib\\site-packages\\sklearn\\utils\\__init__.py:93: FutureWarning: Conversion of the second argument of issubdtype from `int` to `np.signedinteger` is deprecated. In future, it will be treated as `np.int32 == np.dtype(int).type`.\n",
      "  if np.issubdtype(mask.dtype, np.int):\n"
     ]
    },
    {
     "name": "stdout",
     "output_type": "stream",
     "text": [
      "Thresh=0.0, n=301, R2 Score: 0.8421052631578947\n"
     ]
    },
    {
     "name": "stderr",
     "output_type": "stream",
     "text": [
      "C:\\ProgramData\\Anaconda3\\lib\\site-packages\\sklearn\\utils\\__init__.py:93: FutureWarning: Conversion of the second argument of issubdtype from `int` to `np.signedinteger` is deprecated. In future, it will be treated as `np.int32 == np.dtype(int).type`.\n",
      "  if np.issubdtype(mask.dtype, np.int):\n"
     ]
    },
    {
     "name": "stdout",
     "output_type": "stream",
     "text": [
      "Thresh=0.0, n=301, R2 Score: 0.8421052631578947\n"
     ]
    },
    {
     "name": "stderr",
     "output_type": "stream",
     "text": [
      "C:\\ProgramData\\Anaconda3\\lib\\site-packages\\sklearn\\utils\\__init__.py:93: FutureWarning: Conversion of the second argument of issubdtype from `int` to `np.signedinteger` is deprecated. In future, it will be treated as `np.int32 == np.dtype(int).type`.\n",
      "  if np.issubdtype(mask.dtype, np.int):\n"
     ]
    },
    {
     "name": "stdout",
     "output_type": "stream",
     "text": [
      "Thresh=0.0, n=301, R2 Score: 0.8421052631578947\n"
     ]
    },
    {
     "name": "stderr",
     "output_type": "stream",
     "text": [
      "C:\\ProgramData\\Anaconda3\\lib\\site-packages\\sklearn\\utils\\__init__.py:93: FutureWarning: Conversion of the second argument of issubdtype from `int` to `np.signedinteger` is deprecated. In future, it will be treated as `np.int32 == np.dtype(int).type`.\n",
      "  if np.issubdtype(mask.dtype, np.int):\n"
     ]
    },
    {
     "name": "stdout",
     "output_type": "stream",
     "text": [
      "Thresh=0.0, n=301, R2 Score: 0.8421052631578947\n"
     ]
    },
    {
     "name": "stderr",
     "output_type": "stream",
     "text": [
      "C:\\ProgramData\\Anaconda3\\lib\\site-packages\\sklearn\\utils\\__init__.py:93: FutureWarning: Conversion of the second argument of issubdtype from `int` to `np.signedinteger` is deprecated. In future, it will be treated as `np.int32 == np.dtype(int).type`.\n",
      "  if np.issubdtype(mask.dtype, np.int):\n"
     ]
    },
    {
     "name": "stdout",
     "output_type": "stream",
     "text": [
      "Thresh=0.0, n=301, R2 Score: 0.8421052631578947\n"
     ]
    },
    {
     "name": "stderr",
     "output_type": "stream",
     "text": [
      "C:\\ProgramData\\Anaconda3\\lib\\site-packages\\sklearn\\utils\\__init__.py:93: FutureWarning: Conversion of the second argument of issubdtype from `int` to `np.signedinteger` is deprecated. In future, it will be treated as `np.int32 == np.dtype(int).type`.\n",
      "  if np.issubdtype(mask.dtype, np.int):\n"
     ]
    },
    {
     "name": "stdout",
     "output_type": "stream",
     "text": [
      "Thresh=0.0, n=301, R2 Score: 0.8421052631578947\n"
     ]
    },
    {
     "name": "stderr",
     "output_type": "stream",
     "text": [
      "C:\\ProgramData\\Anaconda3\\lib\\site-packages\\sklearn\\utils\\__init__.py:93: FutureWarning: Conversion of the second argument of issubdtype from `int` to `np.signedinteger` is deprecated. In future, it will be treated as `np.int32 == np.dtype(int).type`.\n",
      "  if np.issubdtype(mask.dtype, np.int):\n"
     ]
    },
    {
     "name": "stdout",
     "output_type": "stream",
     "text": [
      "Thresh=0.0, n=301, R2 Score: 0.8421052631578947\n"
     ]
    },
    {
     "name": "stderr",
     "output_type": "stream",
     "text": [
      "C:\\ProgramData\\Anaconda3\\lib\\site-packages\\sklearn\\utils\\__init__.py:93: FutureWarning: Conversion of the second argument of issubdtype from `int` to `np.signedinteger` is deprecated. In future, it will be treated as `np.int32 == np.dtype(int).type`.\n",
      "  if np.issubdtype(mask.dtype, np.int):\n"
     ]
    },
    {
     "name": "stdout",
     "output_type": "stream",
     "text": [
      "Thresh=0.0, n=301, R2 Score: 0.8421052631578947\n"
     ]
    },
    {
     "name": "stderr",
     "output_type": "stream",
     "text": [
      "C:\\ProgramData\\Anaconda3\\lib\\site-packages\\sklearn\\utils\\__init__.py:93: FutureWarning: Conversion of the second argument of issubdtype from `int` to `np.signedinteger` is deprecated. In future, it will be treated as `np.int32 == np.dtype(int).type`.\n",
      "  if np.issubdtype(mask.dtype, np.int):\n"
     ]
    },
    {
     "name": "stdout",
     "output_type": "stream",
     "text": [
      "Thresh=0.0, n=301, R2 Score: 0.8421052631578947\n"
     ]
    },
    {
     "name": "stderr",
     "output_type": "stream",
     "text": [
      "C:\\ProgramData\\Anaconda3\\lib\\site-packages\\sklearn\\utils\\__init__.py:93: FutureWarning: Conversion of the second argument of issubdtype from `int` to `np.signedinteger` is deprecated. In future, it will be treated as `np.int32 == np.dtype(int).type`.\n",
      "  if np.issubdtype(mask.dtype, np.int):\n"
     ]
    },
    {
     "name": "stdout",
     "output_type": "stream",
     "text": [
      "Thresh=0.0, n=301, R2 Score: 0.7631578947368421\n"
     ]
    },
    {
     "name": "stderr",
     "output_type": "stream",
     "text": [
      "C:\\ProgramData\\Anaconda3\\lib\\site-packages\\sklearn\\utils\\__init__.py:93: FutureWarning: Conversion of the second argument of issubdtype from `int` to `np.signedinteger` is deprecated. In future, it will be treated as `np.int32 == np.dtype(int).type`.\n",
      "  if np.issubdtype(mask.dtype, np.int):\n"
     ]
    },
    {
     "name": "stdout",
     "output_type": "stream",
     "text": [
      "Thresh=0.0, n=301, R2 Score: 0.8421052631578947\n"
     ]
    },
    {
     "name": "stderr",
     "output_type": "stream",
     "text": [
      "C:\\ProgramData\\Anaconda3\\lib\\site-packages\\sklearn\\utils\\__init__.py:93: FutureWarning: Conversion of the second argument of issubdtype from `int` to `np.signedinteger` is deprecated. In future, it will be treated as `np.int32 == np.dtype(int).type`.\n",
      "  if np.issubdtype(mask.dtype, np.int):\n"
     ]
    },
    {
     "name": "stdout",
     "output_type": "stream",
     "text": [
      "Thresh=0.0, n=301, R2 Score: 0.7631578947368421\n"
     ]
    },
    {
     "name": "stderr",
     "output_type": "stream",
     "text": [
      "C:\\ProgramData\\Anaconda3\\lib\\site-packages\\sklearn\\utils\\__init__.py:93: FutureWarning: Conversion of the second argument of issubdtype from `int` to `np.signedinteger` is deprecated. In future, it will be treated as `np.int32 == np.dtype(int).type`.\n",
      "  if np.issubdtype(mask.dtype, np.int):\n"
     ]
    },
    {
     "name": "stdout",
     "output_type": "stream",
     "text": [
      "Thresh=0.0, n=301, R2 Score: 0.8421052631578947\n"
     ]
    },
    {
     "name": "stderr",
     "output_type": "stream",
     "text": [
      "C:\\ProgramData\\Anaconda3\\lib\\site-packages\\sklearn\\utils\\__init__.py:93: FutureWarning: Conversion of the second argument of issubdtype from `int` to `np.signedinteger` is deprecated. In future, it will be treated as `np.int32 == np.dtype(int).type`.\n",
      "  if np.issubdtype(mask.dtype, np.int):\n"
     ]
    },
    {
     "name": "stdout",
     "output_type": "stream",
     "text": [
      "Thresh=0.0, n=301, R2 Score: 0.8421052631578947\n"
     ]
    },
    {
     "name": "stderr",
     "output_type": "stream",
     "text": [
      "C:\\ProgramData\\Anaconda3\\lib\\site-packages\\sklearn\\utils\\__init__.py:93: FutureWarning: Conversion of the second argument of issubdtype from `int` to `np.signedinteger` is deprecated. In future, it will be treated as `np.int32 == np.dtype(int).type`.\n",
      "  if np.issubdtype(mask.dtype, np.int):\n"
     ]
    },
    {
     "name": "stdout",
     "output_type": "stream",
     "text": [
      "Thresh=0.0, n=301, R2 Score: 0.7631578947368421\n"
     ]
    },
    {
     "name": "stderr",
     "output_type": "stream",
     "text": [
      "C:\\ProgramData\\Anaconda3\\lib\\site-packages\\sklearn\\utils\\__init__.py:93: FutureWarning: Conversion of the second argument of issubdtype from `int` to `np.signedinteger` is deprecated. In future, it will be treated as `np.int32 == np.dtype(int).type`.\n",
      "  if np.issubdtype(mask.dtype, np.int):\n"
     ]
    },
    {
     "name": "stdout",
     "output_type": "stream",
     "text": [
      "Thresh=0.0, n=301, R2 Score: 0.8421052631578947\n"
     ]
    },
    {
     "name": "stderr",
     "output_type": "stream",
     "text": [
      "C:\\ProgramData\\Anaconda3\\lib\\site-packages\\sklearn\\utils\\__init__.py:93: FutureWarning: Conversion of the second argument of issubdtype from `int` to `np.signedinteger` is deprecated. In future, it will be treated as `np.int32 == np.dtype(int).type`.\n",
      "  if np.issubdtype(mask.dtype, np.int):\n"
     ]
    },
    {
     "name": "stdout",
     "output_type": "stream",
     "text": [
      "Thresh=0.0, n=301, R2 Score: 0.8421052631578947\n"
     ]
    },
    {
     "name": "stderr",
     "output_type": "stream",
     "text": [
      "C:\\ProgramData\\Anaconda3\\lib\\site-packages\\sklearn\\utils\\__init__.py:93: FutureWarning: Conversion of the second argument of issubdtype from `int` to `np.signedinteger` is deprecated. In future, it will be treated as `np.int32 == np.dtype(int).type`.\n",
      "  if np.issubdtype(mask.dtype, np.int):\n"
     ]
    },
    {
     "name": "stdout",
     "output_type": "stream",
     "text": [
      "Thresh=0.0, n=301, R2 Score: 0.7631578947368421\n"
     ]
    },
    {
     "name": "stderr",
     "output_type": "stream",
     "text": [
      "C:\\ProgramData\\Anaconda3\\lib\\site-packages\\sklearn\\utils\\__init__.py:93: FutureWarning: Conversion of the second argument of issubdtype from `int` to `np.signedinteger` is deprecated. In future, it will be treated as `np.int32 == np.dtype(int).type`.\n",
      "  if np.issubdtype(mask.dtype, np.int):\n"
     ]
    },
    {
     "name": "stdout",
     "output_type": "stream",
     "text": [
      "Thresh=0.0, n=301, R2 Score: 0.8421052631578947\n"
     ]
    },
    {
     "name": "stderr",
     "output_type": "stream",
     "text": [
      "C:\\ProgramData\\Anaconda3\\lib\\site-packages\\sklearn\\utils\\__init__.py:93: FutureWarning: Conversion of the second argument of issubdtype from `int` to `np.signedinteger` is deprecated. In future, it will be treated as `np.int32 == np.dtype(int).type`.\n",
      "  if np.issubdtype(mask.dtype, np.int):\n"
     ]
    },
    {
     "name": "stdout",
     "output_type": "stream",
     "text": [
      "Thresh=0.0, n=301, R2 Score: 0.7631578947368421\n"
     ]
    },
    {
     "name": "stderr",
     "output_type": "stream",
     "text": [
      "C:\\ProgramData\\Anaconda3\\lib\\site-packages\\sklearn\\utils\\__init__.py:93: FutureWarning: Conversion of the second argument of issubdtype from `int` to `np.signedinteger` is deprecated. In future, it will be treated as `np.int32 == np.dtype(int).type`.\n",
      "  if np.issubdtype(mask.dtype, np.int):\n"
     ]
    },
    {
     "name": "stdout",
     "output_type": "stream",
     "text": [
      "Thresh=0.0, n=301, R2 Score: 0.8421052631578947\n"
     ]
    },
    {
     "name": "stderr",
     "output_type": "stream",
     "text": [
      "C:\\ProgramData\\Anaconda3\\lib\\site-packages\\sklearn\\utils\\__init__.py:93: FutureWarning: Conversion of the second argument of issubdtype from `int` to `np.signedinteger` is deprecated. In future, it will be treated as `np.int32 == np.dtype(int).type`.\n",
      "  if np.issubdtype(mask.dtype, np.int):\n"
     ]
    },
    {
     "name": "stdout",
     "output_type": "stream",
     "text": [
      "Thresh=0.0, n=301, R2 Score: 0.8421052631578947\n"
     ]
    },
    {
     "name": "stderr",
     "output_type": "stream",
     "text": [
      "C:\\ProgramData\\Anaconda3\\lib\\site-packages\\sklearn\\utils\\__init__.py:93: FutureWarning: Conversion of the second argument of issubdtype from `int` to `np.signedinteger` is deprecated. In future, it will be treated as `np.int32 == np.dtype(int).type`.\n",
      "  if np.issubdtype(mask.dtype, np.int):\n"
     ]
    },
    {
     "name": "stdout",
     "output_type": "stream",
     "text": [
      "Thresh=0.0, n=301, R2 Score: 0.7631578947368421\n"
     ]
    },
    {
     "name": "stderr",
     "output_type": "stream",
     "text": [
      "C:\\ProgramData\\Anaconda3\\lib\\site-packages\\sklearn\\utils\\__init__.py:93: FutureWarning: Conversion of the second argument of issubdtype from `int` to `np.signedinteger` is deprecated. In future, it will be treated as `np.int32 == np.dtype(int).type`.\n",
      "  if np.issubdtype(mask.dtype, np.int):\n"
     ]
    },
    {
     "name": "stdout",
     "output_type": "stream",
     "text": [
      "Thresh=0.0, n=301, R2 Score: 0.8421052631578947\n"
     ]
    },
    {
     "name": "stderr",
     "output_type": "stream",
     "text": [
      "C:\\ProgramData\\Anaconda3\\lib\\site-packages\\sklearn\\utils\\__init__.py:93: FutureWarning: Conversion of the second argument of issubdtype from `int` to `np.signedinteger` is deprecated. In future, it will be treated as `np.int32 == np.dtype(int).type`.\n",
      "  if np.issubdtype(mask.dtype, np.int):\n"
     ]
    },
    {
     "name": "stdout",
     "output_type": "stream",
     "text": [
      "Thresh=0.0, n=301, R2 Score: 0.7631578947368421\n"
     ]
    },
    {
     "name": "stderr",
     "output_type": "stream",
     "text": [
      "C:\\ProgramData\\Anaconda3\\lib\\site-packages\\sklearn\\utils\\__init__.py:93: FutureWarning: Conversion of the second argument of issubdtype from `int` to `np.signedinteger` is deprecated. In future, it will be treated as `np.int32 == np.dtype(int).type`.\n",
      "  if np.issubdtype(mask.dtype, np.int):\n"
     ]
    },
    {
     "name": "stdout",
     "output_type": "stream",
     "text": [
      "Thresh=0.0, n=301, R2 Score: 0.8421052631578947\n"
     ]
    },
    {
     "name": "stderr",
     "output_type": "stream",
     "text": [
      "C:\\ProgramData\\Anaconda3\\lib\\site-packages\\sklearn\\utils\\__init__.py:93: FutureWarning: Conversion of the second argument of issubdtype from `int` to `np.signedinteger` is deprecated. In future, it will be treated as `np.int32 == np.dtype(int).type`.\n",
      "  if np.issubdtype(mask.dtype, np.int):\n"
     ]
    },
    {
     "name": "stdout",
     "output_type": "stream",
     "text": [
      "Thresh=0.0, n=301, R2 Score: 0.8421052631578947\n"
     ]
    },
    {
     "name": "stderr",
     "output_type": "stream",
     "text": [
      "C:\\ProgramData\\Anaconda3\\lib\\site-packages\\sklearn\\utils\\__init__.py:93: FutureWarning: Conversion of the second argument of issubdtype from `int` to `np.signedinteger` is deprecated. In future, it will be treated as `np.int32 == np.dtype(int).type`.\n",
      "  if np.issubdtype(mask.dtype, np.int):\n"
     ]
    },
    {
     "name": "stdout",
     "output_type": "stream",
     "text": [
      "Thresh=0.0, n=301, R2 Score: 0.8421052631578947\n"
     ]
    },
    {
     "name": "stderr",
     "output_type": "stream",
     "text": [
      "C:\\ProgramData\\Anaconda3\\lib\\site-packages\\sklearn\\utils\\__init__.py:93: FutureWarning: Conversion of the second argument of issubdtype from `int` to `np.signedinteger` is deprecated. In future, it will be treated as `np.int32 == np.dtype(int).type`.\n",
      "  if np.issubdtype(mask.dtype, np.int):\n"
     ]
    },
    {
     "name": "stdout",
     "output_type": "stream",
     "text": [
      "Thresh=0.0, n=301, R2 Score: 0.7631578947368421\n"
     ]
    },
    {
     "name": "stderr",
     "output_type": "stream",
     "text": [
      "C:\\ProgramData\\Anaconda3\\lib\\site-packages\\sklearn\\utils\\__init__.py:93: FutureWarning: Conversion of the second argument of issubdtype from `int` to `np.signedinteger` is deprecated. In future, it will be treated as `np.int32 == np.dtype(int).type`.\n",
      "  if np.issubdtype(mask.dtype, np.int):\n"
     ]
    },
    {
     "name": "stdout",
     "output_type": "stream",
     "text": [
      "Thresh=0.0, n=301, R2 Score: 0.8421052631578947\n"
     ]
    },
    {
     "name": "stderr",
     "output_type": "stream",
     "text": [
      "C:\\ProgramData\\Anaconda3\\lib\\site-packages\\sklearn\\utils\\__init__.py:93: FutureWarning: Conversion of the second argument of issubdtype from `int` to `np.signedinteger` is deprecated. In future, it will be treated as `np.int32 == np.dtype(int).type`.\n",
      "  if np.issubdtype(mask.dtype, np.int):\n"
     ]
    },
    {
     "name": "stdout",
     "output_type": "stream",
     "text": [
      "Thresh=0.0, n=301, R2 Score: 0.8421052631578947\n"
     ]
    },
    {
     "name": "stderr",
     "output_type": "stream",
     "text": [
      "C:\\ProgramData\\Anaconda3\\lib\\site-packages\\sklearn\\utils\\__init__.py:93: FutureWarning: Conversion of the second argument of issubdtype from `int` to `np.signedinteger` is deprecated. In future, it will be treated as `np.int32 == np.dtype(int).type`.\n",
      "  if np.issubdtype(mask.dtype, np.int):\n"
     ]
    },
    {
     "name": "stdout",
     "output_type": "stream",
     "text": [
      "Thresh=0.0, n=301, R2 Score: 0.8421052631578947\n"
     ]
    },
    {
     "name": "stderr",
     "output_type": "stream",
     "text": [
      "C:\\ProgramData\\Anaconda3\\lib\\site-packages\\sklearn\\utils\\__init__.py:93: FutureWarning: Conversion of the second argument of issubdtype from `int` to `np.signedinteger` is deprecated. In future, it will be treated as `np.int32 == np.dtype(int).type`.\n",
      "  if np.issubdtype(mask.dtype, np.int):\n"
     ]
    },
    {
     "name": "stdout",
     "output_type": "stream",
     "text": [
      "Thresh=0.0, n=301, R2 Score: 0.8421052631578947\n"
     ]
    },
    {
     "name": "stderr",
     "output_type": "stream",
     "text": [
      "C:\\ProgramData\\Anaconda3\\lib\\site-packages\\sklearn\\utils\\__init__.py:93: FutureWarning: Conversion of the second argument of issubdtype from `int` to `np.signedinteger` is deprecated. In future, it will be treated as `np.int32 == np.dtype(int).type`.\n",
      "  if np.issubdtype(mask.dtype, np.int):\n"
     ]
    },
    {
     "name": "stdout",
     "output_type": "stream",
     "text": [
      "Thresh=0.0, n=301, R2 Score: 0.8421052631578947\n"
     ]
    },
    {
     "name": "stderr",
     "output_type": "stream",
     "text": [
      "C:\\ProgramData\\Anaconda3\\lib\\site-packages\\sklearn\\utils\\__init__.py:93: FutureWarning: Conversion of the second argument of issubdtype from `int` to `np.signedinteger` is deprecated. In future, it will be treated as `np.int32 == np.dtype(int).type`.\n",
      "  if np.issubdtype(mask.dtype, np.int):\n"
     ]
    },
    {
     "name": "stdout",
     "output_type": "stream",
     "text": [
      "Thresh=0.0, n=301, R2 Score: 0.8421052631578947\n"
     ]
    },
    {
     "name": "stderr",
     "output_type": "stream",
     "text": [
      "C:\\ProgramData\\Anaconda3\\lib\\site-packages\\sklearn\\utils\\__init__.py:93: FutureWarning: Conversion of the second argument of issubdtype from `int` to `np.signedinteger` is deprecated. In future, it will be treated as `np.int32 == np.dtype(int).type`.\n",
      "  if np.issubdtype(mask.dtype, np.int):\n"
     ]
    },
    {
     "name": "stdout",
     "output_type": "stream",
     "text": [
      "Thresh=0.0, n=301, R2 Score: 0.7631578947368421\n"
     ]
    },
    {
     "name": "stderr",
     "output_type": "stream",
     "text": [
      "C:\\ProgramData\\Anaconda3\\lib\\site-packages\\sklearn\\utils\\__init__.py:93: FutureWarning: Conversion of the second argument of issubdtype from `int` to `np.signedinteger` is deprecated. In future, it will be treated as `np.int32 == np.dtype(int).type`.\n",
      "  if np.issubdtype(mask.dtype, np.int):\n"
     ]
    },
    {
     "name": "stdout",
     "output_type": "stream",
     "text": [
      "Thresh=0.0, n=301, R2 Score: 0.8421052631578947\n"
     ]
    },
    {
     "name": "stderr",
     "output_type": "stream",
     "text": [
      "C:\\ProgramData\\Anaconda3\\lib\\site-packages\\sklearn\\utils\\__init__.py:93: FutureWarning: Conversion of the second argument of issubdtype from `int` to `np.signedinteger` is deprecated. In future, it will be treated as `np.int32 == np.dtype(int).type`.\n",
      "  if np.issubdtype(mask.dtype, np.int):\n"
     ]
    },
    {
     "name": "stdout",
     "output_type": "stream",
     "text": [
      "Thresh=0.0, n=301, R2 Score: 0.8421052631578947\n"
     ]
    },
    {
     "name": "stderr",
     "output_type": "stream",
     "text": [
      "C:\\ProgramData\\Anaconda3\\lib\\site-packages\\sklearn\\utils\\__init__.py:93: FutureWarning: Conversion of the second argument of issubdtype from `int` to `np.signedinteger` is deprecated. In future, it will be treated as `np.int32 == np.dtype(int).type`.\n",
      "  if np.issubdtype(mask.dtype, np.int):\n"
     ]
    },
    {
     "name": "stdout",
     "output_type": "stream",
     "text": [
      "Thresh=0.0, n=301, R2 Score: 0.8421052631578947\n"
     ]
    },
    {
     "name": "stderr",
     "output_type": "stream",
     "text": [
      "C:\\ProgramData\\Anaconda3\\lib\\site-packages\\sklearn\\utils\\__init__.py:93: FutureWarning: Conversion of the second argument of issubdtype from `int` to `np.signedinteger` is deprecated. In future, it will be treated as `np.int32 == np.dtype(int).type`.\n",
      "  if np.issubdtype(mask.dtype, np.int):\n"
     ]
    },
    {
     "name": "stdout",
     "output_type": "stream",
     "text": [
      "Thresh=0.0, n=301, R2 Score: 0.8421052631578947\n"
     ]
    },
    {
     "name": "stderr",
     "output_type": "stream",
     "text": [
      "C:\\ProgramData\\Anaconda3\\lib\\site-packages\\sklearn\\utils\\__init__.py:93: FutureWarning: Conversion of the second argument of issubdtype from `int` to `np.signedinteger` is deprecated. In future, it will be treated as `np.int32 == np.dtype(int).type`.\n",
      "  if np.issubdtype(mask.dtype, np.int):\n"
     ]
    },
    {
     "name": "stdout",
     "output_type": "stream",
     "text": [
      "Thresh=0.0, n=301, R2 Score: 0.7631578947368421\n"
     ]
    },
    {
     "name": "stderr",
     "output_type": "stream",
     "text": [
      "C:\\ProgramData\\Anaconda3\\lib\\site-packages\\sklearn\\utils\\__init__.py:93: FutureWarning: Conversion of the second argument of issubdtype from `int` to `np.signedinteger` is deprecated. In future, it will be treated as `np.int32 == np.dtype(int).type`.\n",
      "  if np.issubdtype(mask.dtype, np.int):\n"
     ]
    },
    {
     "name": "stdout",
     "output_type": "stream",
     "text": [
      "Thresh=0.0, n=301, R2 Score: 0.7631578947368421\n"
     ]
    },
    {
     "name": "stderr",
     "output_type": "stream",
     "text": [
      "C:\\ProgramData\\Anaconda3\\lib\\site-packages\\sklearn\\utils\\__init__.py:93: FutureWarning: Conversion of the second argument of issubdtype from `int` to `np.signedinteger` is deprecated. In future, it will be treated as `np.int32 == np.dtype(int).type`.\n",
      "  if np.issubdtype(mask.dtype, np.int):\n"
     ]
    },
    {
     "name": "stdout",
     "output_type": "stream",
     "text": [
      "Thresh=0.0, n=301, R2 Score: 0.7631578947368421\n"
     ]
    },
    {
     "name": "stderr",
     "output_type": "stream",
     "text": [
      "C:\\ProgramData\\Anaconda3\\lib\\site-packages\\sklearn\\utils\\__init__.py:93: FutureWarning: Conversion of the second argument of issubdtype from `int` to `np.signedinteger` is deprecated. In future, it will be treated as `np.int32 == np.dtype(int).type`.\n",
      "  if np.issubdtype(mask.dtype, np.int):\n"
     ]
    },
    {
     "name": "stdout",
     "output_type": "stream",
     "text": [
      "Thresh=0.0, n=301, R2 Score: 0.8421052631578947\n"
     ]
    },
    {
     "name": "stderr",
     "output_type": "stream",
     "text": [
      "C:\\ProgramData\\Anaconda3\\lib\\site-packages\\sklearn\\utils\\__init__.py:93: FutureWarning: Conversion of the second argument of issubdtype from `int` to `np.signedinteger` is deprecated. In future, it will be treated as `np.int32 == np.dtype(int).type`.\n",
      "  if np.issubdtype(mask.dtype, np.int):\n"
     ]
    },
    {
     "name": "stdout",
     "output_type": "stream",
     "text": [
      "Thresh=0.0, n=301, R2 Score: 0.8421052631578947\n"
     ]
    },
    {
     "name": "stderr",
     "output_type": "stream",
     "text": [
      "C:\\ProgramData\\Anaconda3\\lib\\site-packages\\sklearn\\utils\\__init__.py:93: FutureWarning: Conversion of the second argument of issubdtype from `int` to `np.signedinteger` is deprecated. In future, it will be treated as `np.int32 == np.dtype(int).type`.\n",
      "  if np.issubdtype(mask.dtype, np.int):\n"
     ]
    },
    {
     "name": "stdout",
     "output_type": "stream",
     "text": [
      "Thresh=0.0, n=301, R2 Score: 0.7631578947368421\n"
     ]
    },
    {
     "name": "stderr",
     "output_type": "stream",
     "text": [
      "C:\\ProgramData\\Anaconda3\\lib\\site-packages\\sklearn\\utils\\__init__.py:93: FutureWarning: Conversion of the second argument of issubdtype from `int` to `np.signedinteger` is deprecated. In future, it will be treated as `np.int32 == np.dtype(int).type`.\n",
      "  if np.issubdtype(mask.dtype, np.int):\n"
     ]
    },
    {
     "name": "stdout",
     "output_type": "stream",
     "text": [
      "Thresh=0.0, n=301, R2 Score: 0.8421052631578947\n"
     ]
    },
    {
     "name": "stderr",
     "output_type": "stream",
     "text": [
      "C:\\ProgramData\\Anaconda3\\lib\\site-packages\\sklearn\\utils\\__init__.py:93: FutureWarning: Conversion of the second argument of issubdtype from `int` to `np.signedinteger` is deprecated. In future, it will be treated as `np.int32 == np.dtype(int).type`.\n",
      "  if np.issubdtype(mask.dtype, np.int):\n"
     ]
    },
    {
     "name": "stdout",
     "output_type": "stream",
     "text": [
      "Thresh=0.0, n=301, R2 Score: 0.7631578947368421\n"
     ]
    },
    {
     "name": "stderr",
     "output_type": "stream",
     "text": [
      "C:\\ProgramData\\Anaconda3\\lib\\site-packages\\sklearn\\utils\\__init__.py:93: FutureWarning: Conversion of the second argument of issubdtype from `int` to `np.signedinteger` is deprecated. In future, it will be treated as `np.int32 == np.dtype(int).type`.\n",
      "  if np.issubdtype(mask.dtype, np.int):\n"
     ]
    },
    {
     "name": "stdout",
     "output_type": "stream",
     "text": [
      "Thresh=0.0, n=301, R2 Score: 0.8421052631578947\n"
     ]
    },
    {
     "name": "stderr",
     "output_type": "stream",
     "text": [
      "C:\\ProgramData\\Anaconda3\\lib\\site-packages\\sklearn\\utils\\__init__.py:93: FutureWarning: Conversion of the second argument of issubdtype from `int` to `np.signedinteger` is deprecated. In future, it will be treated as `np.int32 == np.dtype(int).type`.\n",
      "  if np.issubdtype(mask.dtype, np.int):\n"
     ]
    },
    {
     "name": "stdout",
     "output_type": "stream",
     "text": [
      "Thresh=0.0, n=301, R2 Score: 0.8421052631578947\n"
     ]
    },
    {
     "name": "stderr",
     "output_type": "stream",
     "text": [
      "C:\\ProgramData\\Anaconda3\\lib\\site-packages\\sklearn\\utils\\__init__.py:93: FutureWarning: Conversion of the second argument of issubdtype from `int` to `np.signedinteger` is deprecated. In future, it will be treated as `np.int32 == np.dtype(int).type`.\n",
      "  if np.issubdtype(mask.dtype, np.int):\n"
     ]
    },
    {
     "name": "stdout",
     "output_type": "stream",
     "text": [
      "Thresh=0.0, n=301, R2 Score: 0.8421052631578947\n"
     ]
    },
    {
     "name": "stderr",
     "output_type": "stream",
     "text": [
      "C:\\ProgramData\\Anaconda3\\lib\\site-packages\\sklearn\\utils\\__init__.py:93: FutureWarning: Conversion of the second argument of issubdtype from `int` to `np.signedinteger` is deprecated. In future, it will be treated as `np.int32 == np.dtype(int).type`.\n",
      "  if np.issubdtype(mask.dtype, np.int):\n"
     ]
    },
    {
     "name": "stdout",
     "output_type": "stream",
     "text": [
      "Thresh=0.0, n=301, R2 Score: 0.7631578947368421\n"
     ]
    },
    {
     "name": "stderr",
     "output_type": "stream",
     "text": [
      "C:\\ProgramData\\Anaconda3\\lib\\site-packages\\sklearn\\utils\\__init__.py:93: FutureWarning: Conversion of the second argument of issubdtype from `int` to `np.signedinteger` is deprecated. In future, it will be treated as `np.int32 == np.dtype(int).type`.\n",
      "  if np.issubdtype(mask.dtype, np.int):\n"
     ]
    },
    {
     "name": "stdout",
     "output_type": "stream",
     "text": [
      "Thresh=0.0, n=301, R2 Score: 0.7631578947368421\n"
     ]
    },
    {
     "name": "stderr",
     "output_type": "stream",
     "text": [
      "C:\\ProgramData\\Anaconda3\\lib\\site-packages\\sklearn\\utils\\__init__.py:93: FutureWarning: Conversion of the second argument of issubdtype from `int` to `np.signedinteger` is deprecated. In future, it will be treated as `np.int32 == np.dtype(int).type`.\n",
      "  if np.issubdtype(mask.dtype, np.int):\n"
     ]
    },
    {
     "name": "stdout",
     "output_type": "stream",
     "text": [
      "Thresh=0.0, n=301, R2 Score: 0.7631578947368421\n"
     ]
    },
    {
     "name": "stderr",
     "output_type": "stream",
     "text": [
      "C:\\ProgramData\\Anaconda3\\lib\\site-packages\\sklearn\\utils\\__init__.py:93: FutureWarning: Conversion of the second argument of issubdtype from `int` to `np.signedinteger` is deprecated. In future, it will be treated as `np.int32 == np.dtype(int).type`.\n",
      "  if np.issubdtype(mask.dtype, np.int):\n"
     ]
    },
    {
     "name": "stdout",
     "output_type": "stream",
     "text": [
      "Thresh=0.0, n=301, R2 Score: 0.8421052631578947\n"
     ]
    },
    {
     "name": "stderr",
     "output_type": "stream",
     "text": [
      "C:\\ProgramData\\Anaconda3\\lib\\site-packages\\sklearn\\utils\\__init__.py:93: FutureWarning: Conversion of the second argument of issubdtype from `int` to `np.signedinteger` is deprecated. In future, it will be treated as `np.int32 == np.dtype(int).type`.\n",
      "  if np.issubdtype(mask.dtype, np.int):\n"
     ]
    },
    {
     "name": "stdout",
     "output_type": "stream",
     "text": [
      "Thresh=0.0, n=301, R2 Score: 0.7631578947368421\n"
     ]
    },
    {
     "name": "stderr",
     "output_type": "stream",
     "text": [
      "C:\\ProgramData\\Anaconda3\\lib\\site-packages\\sklearn\\utils\\__init__.py:93: FutureWarning: Conversion of the second argument of issubdtype from `int` to `np.signedinteger` is deprecated. In future, it will be treated as `np.int32 == np.dtype(int).type`.\n",
      "  if np.issubdtype(mask.dtype, np.int):\n"
     ]
    },
    {
     "name": "stdout",
     "output_type": "stream",
     "text": [
      "Thresh=0.0, n=301, R2 Score: 0.8421052631578947\n"
     ]
    },
    {
     "name": "stderr",
     "output_type": "stream",
     "text": [
      "C:\\ProgramData\\Anaconda3\\lib\\site-packages\\sklearn\\utils\\__init__.py:93: FutureWarning: Conversion of the second argument of issubdtype from `int` to `np.signedinteger` is deprecated. In future, it will be treated as `np.int32 == np.dtype(int).type`.\n",
      "  if np.issubdtype(mask.dtype, np.int):\n"
     ]
    },
    {
     "name": "stdout",
     "output_type": "stream",
     "text": [
      "Thresh=0.0, n=301, R2 Score: 0.8421052631578947\n"
     ]
    },
    {
     "name": "stderr",
     "output_type": "stream",
     "text": [
      "C:\\ProgramData\\Anaconda3\\lib\\site-packages\\sklearn\\utils\\__init__.py:93: FutureWarning: Conversion of the second argument of issubdtype from `int` to `np.signedinteger` is deprecated. In future, it will be treated as `np.int32 == np.dtype(int).type`.\n",
      "  if np.issubdtype(mask.dtype, np.int):\n"
     ]
    },
    {
     "name": "stdout",
     "output_type": "stream",
     "text": [
      "Thresh=0.0, n=301, R2 Score: 0.8421052631578947\n"
     ]
    },
    {
     "name": "stderr",
     "output_type": "stream",
     "text": [
      "C:\\ProgramData\\Anaconda3\\lib\\site-packages\\sklearn\\utils\\__init__.py:93: FutureWarning: Conversion of the second argument of issubdtype from `int` to `np.signedinteger` is deprecated. In future, it will be treated as `np.int32 == np.dtype(int).type`.\n",
      "  if np.issubdtype(mask.dtype, np.int):\n"
     ]
    },
    {
     "name": "stdout",
     "output_type": "stream",
     "text": [
      "Thresh=0.0, n=301, R2 Score: 0.8421052631578947\n"
     ]
    },
    {
     "name": "stderr",
     "output_type": "stream",
     "text": [
      "C:\\ProgramData\\Anaconda3\\lib\\site-packages\\sklearn\\utils\\__init__.py:93: FutureWarning: Conversion of the second argument of issubdtype from `int` to `np.signedinteger` is deprecated. In future, it will be treated as `np.int32 == np.dtype(int).type`.\n",
      "  if np.issubdtype(mask.dtype, np.int):\n"
     ]
    },
    {
     "name": "stdout",
     "output_type": "stream",
     "text": [
      "Thresh=0.0, n=301, R2 Score: 0.8421052631578947\n"
     ]
    },
    {
     "name": "stderr",
     "output_type": "stream",
     "text": [
      "C:\\ProgramData\\Anaconda3\\lib\\site-packages\\sklearn\\utils\\__init__.py:93: FutureWarning: Conversion of the second argument of issubdtype from `int` to `np.signedinteger` is deprecated. In future, it will be treated as `np.int32 == np.dtype(int).type`.\n",
      "  if np.issubdtype(mask.dtype, np.int):\n"
     ]
    },
    {
     "name": "stdout",
     "output_type": "stream",
     "text": [
      "Thresh=0.0, n=301, R2 Score: 0.7631578947368421\n"
     ]
    },
    {
     "name": "stderr",
     "output_type": "stream",
     "text": [
      "C:\\ProgramData\\Anaconda3\\lib\\site-packages\\sklearn\\utils\\__init__.py:93: FutureWarning: Conversion of the second argument of issubdtype from `int` to `np.signedinteger` is deprecated. In future, it will be treated as `np.int32 == np.dtype(int).type`.\n",
      "  if np.issubdtype(mask.dtype, np.int):\n"
     ]
    },
    {
     "name": "stdout",
     "output_type": "stream",
     "text": [
      "Thresh=0.0, n=301, R2 Score: 0.8421052631578947\n"
     ]
    },
    {
     "name": "stderr",
     "output_type": "stream",
     "text": [
      "C:\\ProgramData\\Anaconda3\\lib\\site-packages\\sklearn\\utils\\__init__.py:93: FutureWarning: Conversion of the second argument of issubdtype from `int` to `np.signedinteger` is deprecated. In future, it will be treated as `np.int32 == np.dtype(int).type`.\n",
      "  if np.issubdtype(mask.dtype, np.int):\n"
     ]
    },
    {
     "name": "stdout",
     "output_type": "stream",
     "text": [
      "Thresh=0.0, n=301, R2 Score: 0.8421052631578947\n"
     ]
    },
    {
     "name": "stderr",
     "output_type": "stream",
     "text": [
      "C:\\ProgramData\\Anaconda3\\lib\\site-packages\\sklearn\\utils\\__init__.py:93: FutureWarning: Conversion of the second argument of issubdtype from `int` to `np.signedinteger` is deprecated. In future, it will be treated as `np.int32 == np.dtype(int).type`.\n",
      "  if np.issubdtype(mask.dtype, np.int):\n"
     ]
    },
    {
     "name": "stdout",
     "output_type": "stream",
     "text": [
      "Thresh=0.0, n=301, R2 Score: 0.8421052631578947\n"
     ]
    },
    {
     "name": "stderr",
     "output_type": "stream",
     "text": [
      "C:\\ProgramData\\Anaconda3\\lib\\site-packages\\sklearn\\utils\\__init__.py:93: FutureWarning: Conversion of the second argument of issubdtype from `int` to `np.signedinteger` is deprecated. In future, it will be treated as `np.int32 == np.dtype(int).type`.\n",
      "  if np.issubdtype(mask.dtype, np.int):\n"
     ]
    },
    {
     "name": "stdout",
     "output_type": "stream",
     "text": [
      "Thresh=0.0, n=301, R2 Score: 0.8421052631578947\n"
     ]
    },
    {
     "name": "stderr",
     "output_type": "stream",
     "text": [
      "C:\\ProgramData\\Anaconda3\\lib\\site-packages\\sklearn\\utils\\__init__.py:93: FutureWarning: Conversion of the second argument of issubdtype from `int` to `np.signedinteger` is deprecated. In future, it will be treated as `np.int32 == np.dtype(int).type`.\n",
      "  if np.issubdtype(mask.dtype, np.int):\n"
     ]
    },
    {
     "name": "stdout",
     "output_type": "stream",
     "text": [
      "Thresh=0.0, n=301, R2 Score: 0.8421052631578947\n"
     ]
    },
    {
     "name": "stderr",
     "output_type": "stream",
     "text": [
      "C:\\ProgramData\\Anaconda3\\lib\\site-packages\\sklearn\\utils\\__init__.py:93: FutureWarning: Conversion of the second argument of issubdtype from `int` to `np.signedinteger` is deprecated. In future, it will be treated as `np.int32 == np.dtype(int).type`.\n",
      "  if np.issubdtype(mask.dtype, np.int):\n"
     ]
    },
    {
     "name": "stdout",
     "output_type": "stream",
     "text": [
      "Thresh=0.0, n=301, R2 Score: 0.8421052631578947\n"
     ]
    },
    {
     "name": "stderr",
     "output_type": "stream",
     "text": [
      "C:\\ProgramData\\Anaconda3\\lib\\site-packages\\sklearn\\utils\\__init__.py:93: FutureWarning: Conversion of the second argument of issubdtype from `int` to `np.signedinteger` is deprecated. In future, it will be treated as `np.int32 == np.dtype(int).type`.\n",
      "  if np.issubdtype(mask.dtype, np.int):\n"
     ]
    },
    {
     "name": "stdout",
     "output_type": "stream",
     "text": [
      "Thresh=0.0, n=301, R2 Score: 0.8421052631578947\n"
     ]
    },
    {
     "name": "stderr",
     "output_type": "stream",
     "text": [
      "C:\\ProgramData\\Anaconda3\\lib\\site-packages\\sklearn\\utils\\__init__.py:93: FutureWarning: Conversion of the second argument of issubdtype from `int` to `np.signedinteger` is deprecated. In future, it will be treated as `np.int32 == np.dtype(int).type`.\n",
      "  if np.issubdtype(mask.dtype, np.int):\n"
     ]
    },
    {
     "name": "stdout",
     "output_type": "stream",
     "text": [
      "Thresh=0.0, n=301, R2 Score: 0.8421052631578947\n"
     ]
    },
    {
     "name": "stderr",
     "output_type": "stream",
     "text": [
      "C:\\ProgramData\\Anaconda3\\lib\\site-packages\\sklearn\\utils\\__init__.py:93: FutureWarning: Conversion of the second argument of issubdtype from `int` to `np.signedinteger` is deprecated. In future, it will be treated as `np.int32 == np.dtype(int).type`.\n",
      "  if np.issubdtype(mask.dtype, np.int):\n"
     ]
    },
    {
     "name": "stdout",
     "output_type": "stream",
     "text": [
      "Thresh=0.0, n=301, R2 Score: 0.8421052631578947\n"
     ]
    },
    {
     "name": "stderr",
     "output_type": "stream",
     "text": [
      "C:\\ProgramData\\Anaconda3\\lib\\site-packages\\sklearn\\utils\\__init__.py:93: FutureWarning: Conversion of the second argument of issubdtype from `int` to `np.signedinteger` is deprecated. In future, it will be treated as `np.int32 == np.dtype(int).type`.\n",
      "  if np.issubdtype(mask.dtype, np.int):\n"
     ]
    },
    {
     "name": "stdout",
     "output_type": "stream",
     "text": [
      "Thresh=0.0, n=301, R2 Score: 0.8421052631578947\n"
     ]
    },
    {
     "name": "stderr",
     "output_type": "stream",
     "text": [
      "C:\\ProgramData\\Anaconda3\\lib\\site-packages\\sklearn\\utils\\__init__.py:93: FutureWarning: Conversion of the second argument of issubdtype from `int` to `np.signedinteger` is deprecated. In future, it will be treated as `np.int32 == np.dtype(int).type`.\n",
      "  if np.issubdtype(mask.dtype, np.int):\n"
     ]
    },
    {
     "name": "stdout",
     "output_type": "stream",
     "text": [
      "Thresh=0.0, n=301, R2 Score: 0.8421052631578947\n"
     ]
    },
    {
     "name": "stderr",
     "output_type": "stream",
     "text": [
      "C:\\ProgramData\\Anaconda3\\lib\\site-packages\\sklearn\\utils\\__init__.py:93: FutureWarning: Conversion of the second argument of issubdtype from `int` to `np.signedinteger` is deprecated. In future, it will be treated as `np.int32 == np.dtype(int).type`.\n",
      "  if np.issubdtype(mask.dtype, np.int):\n"
     ]
    },
    {
     "name": "stdout",
     "output_type": "stream",
     "text": [
      "Thresh=0.0, n=301, R2 Score: 0.8421052631578947\n"
     ]
    },
    {
     "name": "stderr",
     "output_type": "stream",
     "text": [
      "C:\\ProgramData\\Anaconda3\\lib\\site-packages\\sklearn\\utils\\__init__.py:93: FutureWarning: Conversion of the second argument of issubdtype from `int` to `np.signedinteger` is deprecated. In future, it will be treated as `np.int32 == np.dtype(int).type`.\n",
      "  if np.issubdtype(mask.dtype, np.int):\n"
     ]
    },
    {
     "name": "stdout",
     "output_type": "stream",
     "text": [
      "Thresh=0.0, n=301, R2 Score: 0.8421052631578947\n"
     ]
    },
    {
     "name": "stderr",
     "output_type": "stream",
     "text": [
      "C:\\ProgramData\\Anaconda3\\lib\\site-packages\\sklearn\\utils\\__init__.py:93: FutureWarning: Conversion of the second argument of issubdtype from `int` to `np.signedinteger` is deprecated. In future, it will be treated as `np.int32 == np.dtype(int).type`.\n",
      "  if np.issubdtype(mask.dtype, np.int):\n"
     ]
    },
    {
     "name": "stdout",
     "output_type": "stream",
     "text": [
      "Thresh=0.0, n=301, R2 Score: 0.8421052631578947\n"
     ]
    },
    {
     "name": "stderr",
     "output_type": "stream",
     "text": [
      "C:\\ProgramData\\Anaconda3\\lib\\site-packages\\sklearn\\utils\\__init__.py:93: FutureWarning: Conversion of the second argument of issubdtype from `int` to `np.signedinteger` is deprecated. In future, it will be treated as `np.int32 == np.dtype(int).type`.\n",
      "  if np.issubdtype(mask.dtype, np.int):\n"
     ]
    },
    {
     "name": "stdout",
     "output_type": "stream",
     "text": [
      "Thresh=0.0, n=301, R2 Score: 0.8421052631578947\n"
     ]
    },
    {
     "name": "stderr",
     "output_type": "stream",
     "text": [
      "C:\\ProgramData\\Anaconda3\\lib\\site-packages\\sklearn\\utils\\__init__.py:93: FutureWarning: Conversion of the second argument of issubdtype from `int` to `np.signedinteger` is deprecated. In future, it will be treated as `np.int32 == np.dtype(int).type`.\n",
      "  if np.issubdtype(mask.dtype, np.int):\n"
     ]
    },
    {
     "name": "stdout",
     "output_type": "stream",
     "text": [
      "Thresh=0.0, n=301, R2 Score: 0.7631578947368421\n"
     ]
    },
    {
     "name": "stderr",
     "output_type": "stream",
     "text": [
      "C:\\ProgramData\\Anaconda3\\lib\\site-packages\\sklearn\\utils\\__init__.py:93: FutureWarning: Conversion of the second argument of issubdtype from `int` to `np.signedinteger` is deprecated. In future, it will be treated as `np.int32 == np.dtype(int).type`.\n",
      "  if np.issubdtype(mask.dtype, np.int):\n"
     ]
    },
    {
     "name": "stdout",
     "output_type": "stream",
     "text": [
      "Thresh=0.0, n=301, R2 Score: 0.8421052631578947\n"
     ]
    },
    {
     "name": "stderr",
     "output_type": "stream",
     "text": [
      "C:\\ProgramData\\Anaconda3\\lib\\site-packages\\sklearn\\utils\\__init__.py:93: FutureWarning: Conversion of the second argument of issubdtype from `int` to `np.signedinteger` is deprecated. In future, it will be treated as `np.int32 == np.dtype(int).type`.\n",
      "  if np.issubdtype(mask.dtype, np.int):\n"
     ]
    },
    {
     "name": "stdout",
     "output_type": "stream",
     "text": [
      "Thresh=0.0, n=301, R2 Score: 0.8421052631578947\n"
     ]
    },
    {
     "name": "stderr",
     "output_type": "stream",
     "text": [
      "C:\\ProgramData\\Anaconda3\\lib\\site-packages\\sklearn\\utils\\__init__.py:93: FutureWarning: Conversion of the second argument of issubdtype from `int` to `np.signedinteger` is deprecated. In future, it will be treated as `np.int32 == np.dtype(int).type`.\n",
      "  if np.issubdtype(mask.dtype, np.int):\n"
     ]
    },
    {
     "name": "stdout",
     "output_type": "stream",
     "text": [
      "Thresh=0.0, n=301, R2 Score: 0.7631578947368421\n"
     ]
    },
    {
     "name": "stderr",
     "output_type": "stream",
     "text": [
      "C:\\ProgramData\\Anaconda3\\lib\\site-packages\\sklearn\\utils\\__init__.py:93: FutureWarning: Conversion of the second argument of issubdtype from `int` to `np.signedinteger` is deprecated. In future, it will be treated as `np.int32 == np.dtype(int).type`.\n",
      "  if np.issubdtype(mask.dtype, np.int):\n"
     ]
    },
    {
     "name": "stdout",
     "output_type": "stream",
     "text": [
      "Thresh=0.0, n=301, R2 Score: 0.8421052631578947\n"
     ]
    },
    {
     "name": "stderr",
     "output_type": "stream",
     "text": [
      "C:\\ProgramData\\Anaconda3\\lib\\site-packages\\sklearn\\utils\\__init__.py:93: FutureWarning: Conversion of the second argument of issubdtype from `int` to `np.signedinteger` is deprecated. In future, it will be treated as `np.int32 == np.dtype(int).type`.\n",
      "  if np.issubdtype(mask.dtype, np.int):\n"
     ]
    },
    {
     "name": "stdout",
     "output_type": "stream",
     "text": [
      "Thresh=0.0, n=301, R2 Score: 0.8421052631578947\n"
     ]
    },
    {
     "name": "stderr",
     "output_type": "stream",
     "text": [
      "C:\\ProgramData\\Anaconda3\\lib\\site-packages\\sklearn\\utils\\__init__.py:93: FutureWarning: Conversion of the second argument of issubdtype from `int` to `np.signedinteger` is deprecated. In future, it will be treated as `np.int32 == np.dtype(int).type`.\n",
      "  if np.issubdtype(mask.dtype, np.int):\n"
     ]
    },
    {
     "name": "stdout",
     "output_type": "stream",
     "text": [
      "Thresh=0.0, n=301, R2 Score: 0.8421052631578947\n"
     ]
    },
    {
     "name": "stderr",
     "output_type": "stream",
     "text": [
      "C:\\ProgramData\\Anaconda3\\lib\\site-packages\\sklearn\\utils\\__init__.py:93: FutureWarning: Conversion of the second argument of issubdtype from `int` to `np.signedinteger` is deprecated. In future, it will be treated as `np.int32 == np.dtype(int).type`.\n",
      "  if np.issubdtype(mask.dtype, np.int):\n"
     ]
    },
    {
     "name": "stdout",
     "output_type": "stream",
     "text": [
      "Thresh=0.0, n=301, R2 Score: 0.7631578947368421\n"
     ]
    },
    {
     "name": "stderr",
     "output_type": "stream",
     "text": [
      "C:\\ProgramData\\Anaconda3\\lib\\site-packages\\sklearn\\utils\\__init__.py:93: FutureWarning: Conversion of the second argument of issubdtype from `int` to `np.signedinteger` is deprecated. In future, it will be treated as `np.int32 == np.dtype(int).type`.\n",
      "  if np.issubdtype(mask.dtype, np.int):\n"
     ]
    },
    {
     "name": "stdout",
     "output_type": "stream",
     "text": [
      "Thresh=0.0, n=301, R2 Score: 0.7631578947368421\n"
     ]
    },
    {
     "name": "stderr",
     "output_type": "stream",
     "text": [
      "C:\\ProgramData\\Anaconda3\\lib\\site-packages\\sklearn\\utils\\__init__.py:93: FutureWarning: Conversion of the second argument of issubdtype from `int` to `np.signedinteger` is deprecated. In future, it will be treated as `np.int32 == np.dtype(int).type`.\n",
      "  if np.issubdtype(mask.dtype, np.int):\n"
     ]
    },
    {
     "name": "stdout",
     "output_type": "stream",
     "text": [
      "Thresh=0.0, n=301, R2 Score: 0.8421052631578947\n"
     ]
    },
    {
     "name": "stderr",
     "output_type": "stream",
     "text": [
      "C:\\ProgramData\\Anaconda3\\lib\\site-packages\\sklearn\\utils\\__init__.py:93: FutureWarning: Conversion of the second argument of issubdtype from `int` to `np.signedinteger` is deprecated. In future, it will be treated as `np.int32 == np.dtype(int).type`.\n",
      "  if np.issubdtype(mask.dtype, np.int):\n"
     ]
    },
    {
     "name": "stdout",
     "output_type": "stream",
     "text": [
      "Thresh=0.0, n=301, R2 Score: 0.7631578947368421\n"
     ]
    },
    {
     "name": "stderr",
     "output_type": "stream",
     "text": [
      "C:\\ProgramData\\Anaconda3\\lib\\site-packages\\sklearn\\utils\\__init__.py:93: FutureWarning: Conversion of the second argument of issubdtype from `int` to `np.signedinteger` is deprecated. In future, it will be treated as `np.int32 == np.dtype(int).type`.\n",
      "  if np.issubdtype(mask.dtype, np.int):\n"
     ]
    },
    {
     "name": "stdout",
     "output_type": "stream",
     "text": [
      "Thresh=0.0, n=301, R2 Score: 0.8421052631578947\n"
     ]
    },
    {
     "name": "stderr",
     "output_type": "stream",
     "text": [
      "C:\\ProgramData\\Anaconda3\\lib\\site-packages\\sklearn\\utils\\__init__.py:93: FutureWarning: Conversion of the second argument of issubdtype from `int` to `np.signedinteger` is deprecated. In future, it will be treated as `np.int32 == np.dtype(int).type`.\n",
      "  if np.issubdtype(mask.dtype, np.int):\n"
     ]
    },
    {
     "name": "stdout",
     "output_type": "stream",
     "text": [
      "Thresh=0.0, n=301, R2 Score: 0.8421052631578947\n"
     ]
    },
    {
     "name": "stderr",
     "output_type": "stream",
     "text": [
      "C:\\ProgramData\\Anaconda3\\lib\\site-packages\\sklearn\\utils\\__init__.py:93: FutureWarning: Conversion of the second argument of issubdtype from `int` to `np.signedinteger` is deprecated. In future, it will be treated as `np.int32 == np.dtype(int).type`.\n",
      "  if np.issubdtype(mask.dtype, np.int):\n"
     ]
    },
    {
     "name": "stdout",
     "output_type": "stream",
     "text": [
      "Thresh=0.0, n=301, R2 Score: 0.7631578947368421\n"
     ]
    },
    {
     "name": "stderr",
     "output_type": "stream",
     "text": [
      "C:\\ProgramData\\Anaconda3\\lib\\site-packages\\sklearn\\utils\\__init__.py:93: FutureWarning: Conversion of the second argument of issubdtype from `int` to `np.signedinteger` is deprecated. In future, it will be treated as `np.int32 == np.dtype(int).type`.\n",
      "  if np.issubdtype(mask.dtype, np.int):\n"
     ]
    },
    {
     "name": "stdout",
     "output_type": "stream",
     "text": [
      "Thresh=0.0, n=301, R2 Score: 0.8421052631578947\n"
     ]
    },
    {
     "name": "stderr",
     "output_type": "stream",
     "text": [
      "C:\\ProgramData\\Anaconda3\\lib\\site-packages\\sklearn\\utils\\__init__.py:93: FutureWarning: Conversion of the second argument of issubdtype from `int` to `np.signedinteger` is deprecated. In future, it will be treated as `np.int32 == np.dtype(int).type`.\n",
      "  if np.issubdtype(mask.dtype, np.int):\n"
     ]
    },
    {
     "name": "stdout",
     "output_type": "stream",
     "text": [
      "Thresh=0.0, n=301, R2 Score: 0.8421052631578947\n"
     ]
    },
    {
     "name": "stderr",
     "output_type": "stream",
     "text": [
      "C:\\ProgramData\\Anaconda3\\lib\\site-packages\\sklearn\\utils\\__init__.py:93: FutureWarning: Conversion of the second argument of issubdtype from `int` to `np.signedinteger` is deprecated. In future, it will be treated as `np.int32 == np.dtype(int).type`.\n",
      "  if np.issubdtype(mask.dtype, np.int):\n"
     ]
    },
    {
     "name": "stdout",
     "output_type": "stream",
     "text": [
      "Thresh=0.0, n=301, R2 Score: 0.8421052631578947\n"
     ]
    },
    {
     "name": "stderr",
     "output_type": "stream",
     "text": [
      "C:\\ProgramData\\Anaconda3\\lib\\site-packages\\sklearn\\utils\\__init__.py:93: FutureWarning: Conversion of the second argument of issubdtype from `int` to `np.signedinteger` is deprecated. In future, it will be treated as `np.int32 == np.dtype(int).type`.\n",
      "  if np.issubdtype(mask.dtype, np.int):\n"
     ]
    },
    {
     "name": "stdout",
     "output_type": "stream",
     "text": [
      "Thresh=0.0, n=301, R2 Score: 0.7631578947368421\n"
     ]
    },
    {
     "name": "stderr",
     "output_type": "stream",
     "text": [
      "C:\\ProgramData\\Anaconda3\\lib\\site-packages\\sklearn\\utils\\__init__.py:93: FutureWarning: Conversion of the second argument of issubdtype from `int` to `np.signedinteger` is deprecated. In future, it will be treated as `np.int32 == np.dtype(int).type`.\n",
      "  if np.issubdtype(mask.dtype, np.int):\n"
     ]
    },
    {
     "name": "stdout",
     "output_type": "stream",
     "text": [
      "Thresh=0.0, n=301, R2 Score: 0.8421052631578947\n"
     ]
    },
    {
     "name": "stderr",
     "output_type": "stream",
     "text": [
      "C:\\ProgramData\\Anaconda3\\lib\\site-packages\\sklearn\\utils\\__init__.py:93: FutureWarning: Conversion of the second argument of issubdtype from `int` to `np.signedinteger` is deprecated. In future, it will be treated as `np.int32 == np.dtype(int).type`.\n",
      "  if np.issubdtype(mask.dtype, np.int):\n"
     ]
    },
    {
     "name": "stdout",
     "output_type": "stream",
     "text": [
      "Thresh=0.0, n=301, R2 Score: 0.8421052631578947\n"
     ]
    },
    {
     "name": "stderr",
     "output_type": "stream",
     "text": [
      "C:\\ProgramData\\Anaconda3\\lib\\site-packages\\sklearn\\utils\\__init__.py:93: FutureWarning: Conversion of the second argument of issubdtype from `int` to `np.signedinteger` is deprecated. In future, it will be treated as `np.int32 == np.dtype(int).type`.\n",
      "  if np.issubdtype(mask.dtype, np.int):\n"
     ]
    },
    {
     "name": "stdout",
     "output_type": "stream",
     "text": [
      "Thresh=0.0, n=301, R2 Score: 0.8421052631578947\n"
     ]
    },
    {
     "name": "stderr",
     "output_type": "stream",
     "text": [
      "C:\\ProgramData\\Anaconda3\\lib\\site-packages\\sklearn\\utils\\__init__.py:93: FutureWarning: Conversion of the second argument of issubdtype from `int` to `np.signedinteger` is deprecated. In future, it will be treated as `np.int32 == np.dtype(int).type`.\n",
      "  if np.issubdtype(mask.dtype, np.int):\n"
     ]
    },
    {
     "name": "stdout",
     "output_type": "stream",
     "text": [
      "Thresh=0.0, n=301, R2 Score: 0.8421052631578947\n"
     ]
    },
    {
     "name": "stderr",
     "output_type": "stream",
     "text": [
      "C:\\ProgramData\\Anaconda3\\lib\\site-packages\\sklearn\\utils\\__init__.py:93: FutureWarning: Conversion of the second argument of issubdtype from `int` to `np.signedinteger` is deprecated. In future, it will be treated as `np.int32 == np.dtype(int).type`.\n",
      "  if np.issubdtype(mask.dtype, np.int):\n"
     ]
    },
    {
     "name": "stdout",
     "output_type": "stream",
     "text": [
      "Thresh=0.0, n=301, R2 Score: 0.7631578947368421\n"
     ]
    },
    {
     "name": "stderr",
     "output_type": "stream",
     "text": [
      "C:\\ProgramData\\Anaconda3\\lib\\site-packages\\sklearn\\utils\\__init__.py:93: FutureWarning: Conversion of the second argument of issubdtype from `int` to `np.signedinteger` is deprecated. In future, it will be treated as `np.int32 == np.dtype(int).type`.\n",
      "  if np.issubdtype(mask.dtype, np.int):\n"
     ]
    },
    {
     "name": "stdout",
     "output_type": "stream",
     "text": [
      "Thresh=0.0, n=301, R2 Score: 0.7631578947368421\n"
     ]
    },
    {
     "name": "stderr",
     "output_type": "stream",
     "text": [
      "C:\\ProgramData\\Anaconda3\\lib\\site-packages\\sklearn\\utils\\__init__.py:93: FutureWarning: Conversion of the second argument of issubdtype from `int` to `np.signedinteger` is deprecated. In future, it will be treated as `np.int32 == np.dtype(int).type`.\n",
      "  if np.issubdtype(mask.dtype, np.int):\n"
     ]
    },
    {
     "name": "stdout",
     "output_type": "stream",
     "text": [
      "Thresh=0.0, n=301, R2 Score: 0.7631578947368421\n"
     ]
    },
    {
     "name": "stderr",
     "output_type": "stream",
     "text": [
      "C:\\ProgramData\\Anaconda3\\lib\\site-packages\\sklearn\\utils\\__init__.py:93: FutureWarning: Conversion of the second argument of issubdtype from `int` to `np.signedinteger` is deprecated. In future, it will be treated as `np.int32 == np.dtype(int).type`.\n",
      "  if np.issubdtype(mask.dtype, np.int):\n"
     ]
    },
    {
     "name": "stdout",
     "output_type": "stream",
     "text": [
      "Thresh=0.0, n=301, R2 Score: 0.8421052631578947\n"
     ]
    },
    {
     "name": "stderr",
     "output_type": "stream",
     "text": [
      "C:\\ProgramData\\Anaconda3\\lib\\site-packages\\sklearn\\utils\\__init__.py:93: FutureWarning: Conversion of the second argument of issubdtype from `int` to `np.signedinteger` is deprecated. In future, it will be treated as `np.int32 == np.dtype(int).type`.\n",
      "  if np.issubdtype(mask.dtype, np.int):\n"
     ]
    },
    {
     "name": "stdout",
     "output_type": "stream",
     "text": [
      "Thresh=0.0, n=301, R2 Score: 0.8421052631578947\n"
     ]
    },
    {
     "name": "stderr",
     "output_type": "stream",
     "text": [
      "C:\\ProgramData\\Anaconda3\\lib\\site-packages\\sklearn\\utils\\__init__.py:93: FutureWarning: Conversion of the second argument of issubdtype from `int` to `np.signedinteger` is deprecated. In future, it will be treated as `np.int32 == np.dtype(int).type`.\n",
      "  if np.issubdtype(mask.dtype, np.int):\n"
     ]
    },
    {
     "name": "stdout",
     "output_type": "stream",
     "text": [
      "Thresh=0.0, n=301, R2 Score: 0.8421052631578947\n"
     ]
    },
    {
     "name": "stderr",
     "output_type": "stream",
     "text": [
      "C:\\ProgramData\\Anaconda3\\lib\\site-packages\\sklearn\\utils\\__init__.py:93: FutureWarning: Conversion of the second argument of issubdtype from `int` to `np.signedinteger` is deprecated. In future, it will be treated as `np.int32 == np.dtype(int).type`.\n",
      "  if np.issubdtype(mask.dtype, np.int):\n"
     ]
    },
    {
     "name": "stdout",
     "output_type": "stream",
     "text": [
      "Thresh=0.0, n=301, R2 Score: 0.8421052631578947\n"
     ]
    },
    {
     "name": "stderr",
     "output_type": "stream",
     "text": [
      "C:\\ProgramData\\Anaconda3\\lib\\site-packages\\sklearn\\utils\\__init__.py:93: FutureWarning: Conversion of the second argument of issubdtype from `int` to `np.signedinteger` is deprecated. In future, it will be treated as `np.int32 == np.dtype(int).type`.\n",
      "  if np.issubdtype(mask.dtype, np.int):\n"
     ]
    },
    {
     "name": "stdout",
     "output_type": "stream",
     "text": [
      "Thresh=0.0, n=301, R2 Score: 0.7631578947368421\n"
     ]
    },
    {
     "name": "stderr",
     "output_type": "stream",
     "text": [
      "C:\\ProgramData\\Anaconda3\\lib\\site-packages\\sklearn\\utils\\__init__.py:93: FutureWarning: Conversion of the second argument of issubdtype from `int` to `np.signedinteger` is deprecated. In future, it will be treated as `np.int32 == np.dtype(int).type`.\n",
      "  if np.issubdtype(mask.dtype, np.int):\n"
     ]
    },
    {
     "name": "stdout",
     "output_type": "stream",
     "text": [
      "Thresh=0.0, n=301, R2 Score: 0.8421052631578947\n"
     ]
    },
    {
     "name": "stderr",
     "output_type": "stream",
     "text": [
      "C:\\ProgramData\\Anaconda3\\lib\\site-packages\\sklearn\\utils\\__init__.py:93: FutureWarning: Conversion of the second argument of issubdtype from `int` to `np.signedinteger` is deprecated. In future, it will be treated as `np.int32 == np.dtype(int).type`.\n",
      "  if np.issubdtype(mask.dtype, np.int):\n"
     ]
    },
    {
     "name": "stdout",
     "output_type": "stream",
     "text": [
      "Thresh=0.0, n=301, R2 Score: 0.7631578947368421\n"
     ]
    },
    {
     "name": "stderr",
     "output_type": "stream",
     "text": [
      "C:\\ProgramData\\Anaconda3\\lib\\site-packages\\sklearn\\utils\\__init__.py:93: FutureWarning: Conversion of the second argument of issubdtype from `int` to `np.signedinteger` is deprecated. In future, it will be treated as `np.int32 == np.dtype(int).type`.\n",
      "  if np.issubdtype(mask.dtype, np.int):\n"
     ]
    },
    {
     "name": "stdout",
     "output_type": "stream",
     "text": [
      "Thresh=0.0, n=301, R2 Score: 0.8421052631578947\n"
     ]
    },
    {
     "name": "stderr",
     "output_type": "stream",
     "text": [
      "C:\\ProgramData\\Anaconda3\\lib\\site-packages\\sklearn\\utils\\__init__.py:93: FutureWarning: Conversion of the second argument of issubdtype from `int` to `np.signedinteger` is deprecated. In future, it will be treated as `np.int32 == np.dtype(int).type`.\n",
      "  if np.issubdtype(mask.dtype, np.int):\n"
     ]
    },
    {
     "name": "stdout",
     "output_type": "stream",
     "text": [
      "Thresh=0.0, n=301, R2 Score: 0.8421052631578947\n"
     ]
    },
    {
     "name": "stderr",
     "output_type": "stream",
     "text": [
      "C:\\ProgramData\\Anaconda3\\lib\\site-packages\\sklearn\\utils\\__init__.py:93: FutureWarning: Conversion of the second argument of issubdtype from `int` to `np.signedinteger` is deprecated. In future, it will be treated as `np.int32 == np.dtype(int).type`.\n",
      "  if np.issubdtype(mask.dtype, np.int):\n"
     ]
    },
    {
     "name": "stdout",
     "output_type": "stream",
     "text": [
      "Thresh=0.0, n=301, R2 Score: 0.8421052631578947\n"
     ]
    },
    {
     "name": "stderr",
     "output_type": "stream",
     "text": [
      "C:\\ProgramData\\Anaconda3\\lib\\site-packages\\sklearn\\utils\\__init__.py:93: FutureWarning: Conversion of the second argument of issubdtype from `int` to `np.signedinteger` is deprecated. In future, it will be treated as `np.int32 == np.dtype(int).type`.\n",
      "  if np.issubdtype(mask.dtype, np.int):\n"
     ]
    },
    {
     "name": "stdout",
     "output_type": "stream",
     "text": [
      "Thresh=0.0, n=301, R2 Score: 0.8421052631578947\n"
     ]
    },
    {
     "name": "stderr",
     "output_type": "stream",
     "text": [
      "C:\\ProgramData\\Anaconda3\\lib\\site-packages\\sklearn\\utils\\__init__.py:93: FutureWarning: Conversion of the second argument of issubdtype from `int` to `np.signedinteger` is deprecated. In future, it will be treated as `np.int32 == np.dtype(int).type`.\n",
      "  if np.issubdtype(mask.dtype, np.int):\n"
     ]
    },
    {
     "name": "stdout",
     "output_type": "stream",
     "text": [
      "Thresh=0.0, n=301, R2 Score: 0.8421052631578947\n"
     ]
    },
    {
     "name": "stderr",
     "output_type": "stream",
     "text": [
      "C:\\ProgramData\\Anaconda3\\lib\\site-packages\\sklearn\\utils\\__init__.py:93: FutureWarning: Conversion of the second argument of issubdtype from `int` to `np.signedinteger` is deprecated. In future, it will be treated as `np.int32 == np.dtype(int).type`.\n",
      "  if np.issubdtype(mask.dtype, np.int):\n"
     ]
    },
    {
     "name": "stdout",
     "output_type": "stream",
     "text": [
      "Thresh=0.0, n=301, R2 Score: 0.8421052631578947\n"
     ]
    },
    {
     "name": "stderr",
     "output_type": "stream",
     "text": [
      "C:\\ProgramData\\Anaconda3\\lib\\site-packages\\sklearn\\utils\\__init__.py:93: FutureWarning: Conversion of the second argument of issubdtype from `int` to `np.signedinteger` is deprecated. In future, it will be treated as `np.int32 == np.dtype(int).type`.\n",
      "  if np.issubdtype(mask.dtype, np.int):\n"
     ]
    },
    {
     "name": "stdout",
     "output_type": "stream",
     "text": [
      "Thresh=0.0, n=301, R2 Score: 0.8421052631578947\n"
     ]
    },
    {
     "name": "stderr",
     "output_type": "stream",
     "text": [
      "C:\\ProgramData\\Anaconda3\\lib\\site-packages\\sklearn\\utils\\__init__.py:93: FutureWarning: Conversion of the second argument of issubdtype from `int` to `np.signedinteger` is deprecated. In future, it will be treated as `np.int32 == np.dtype(int).type`.\n",
      "  if np.issubdtype(mask.dtype, np.int):\n"
     ]
    },
    {
     "name": "stdout",
     "output_type": "stream",
     "text": [
      "Thresh=0.0, n=301, R2 Score: 0.7631578947368421\n"
     ]
    },
    {
     "name": "stderr",
     "output_type": "stream",
     "text": [
      "C:\\ProgramData\\Anaconda3\\lib\\site-packages\\sklearn\\utils\\__init__.py:93: FutureWarning: Conversion of the second argument of issubdtype from `int` to `np.signedinteger` is deprecated. In future, it will be treated as `np.int32 == np.dtype(int).type`.\n",
      "  if np.issubdtype(mask.dtype, np.int):\n"
     ]
    },
    {
     "name": "stdout",
     "output_type": "stream",
     "text": [
      "Thresh=0.0, n=301, R2 Score: 0.8421052631578947\n"
     ]
    },
    {
     "name": "stderr",
     "output_type": "stream",
     "text": [
      "C:\\ProgramData\\Anaconda3\\lib\\site-packages\\sklearn\\utils\\__init__.py:93: FutureWarning: Conversion of the second argument of issubdtype from `int` to `np.signedinteger` is deprecated. In future, it will be treated as `np.int32 == np.dtype(int).type`.\n",
      "  if np.issubdtype(mask.dtype, np.int):\n"
     ]
    },
    {
     "name": "stdout",
     "output_type": "stream",
     "text": [
      "Thresh=0.0, n=301, R2 Score: 0.8421052631578947\n"
     ]
    },
    {
     "name": "stderr",
     "output_type": "stream",
     "text": [
      "C:\\ProgramData\\Anaconda3\\lib\\site-packages\\sklearn\\utils\\__init__.py:93: FutureWarning: Conversion of the second argument of issubdtype from `int` to `np.signedinteger` is deprecated. In future, it will be treated as `np.int32 == np.dtype(int).type`.\n",
      "  if np.issubdtype(mask.dtype, np.int):\n"
     ]
    },
    {
     "name": "stdout",
     "output_type": "stream",
     "text": [
      "Thresh=0.0, n=301, R2 Score: 0.8421052631578947\n"
     ]
    },
    {
     "name": "stderr",
     "output_type": "stream",
     "text": [
      "C:\\ProgramData\\Anaconda3\\lib\\site-packages\\sklearn\\utils\\__init__.py:93: FutureWarning: Conversion of the second argument of issubdtype from `int` to `np.signedinteger` is deprecated. In future, it will be treated as `np.int32 == np.dtype(int).type`.\n",
      "  if np.issubdtype(mask.dtype, np.int):\n"
     ]
    },
    {
     "name": "stdout",
     "output_type": "stream",
     "text": [
      "Thresh=0.0, n=301, R2 Score: 0.7631578947368421\n"
     ]
    },
    {
     "name": "stderr",
     "output_type": "stream",
     "text": [
      "C:\\ProgramData\\Anaconda3\\lib\\site-packages\\sklearn\\utils\\__init__.py:93: FutureWarning: Conversion of the second argument of issubdtype from `int` to `np.signedinteger` is deprecated. In future, it will be treated as `np.int32 == np.dtype(int).type`.\n",
      "  if np.issubdtype(mask.dtype, np.int):\n"
     ]
    },
    {
     "name": "stdout",
     "output_type": "stream",
     "text": [
      "Thresh=0.0, n=301, R2 Score: 0.8421052631578947\n"
     ]
    },
    {
     "name": "stderr",
     "output_type": "stream",
     "text": [
      "C:\\ProgramData\\Anaconda3\\lib\\site-packages\\sklearn\\utils\\__init__.py:93: FutureWarning: Conversion of the second argument of issubdtype from `int` to `np.signedinteger` is deprecated. In future, it will be treated as `np.int32 == np.dtype(int).type`.\n",
      "  if np.issubdtype(mask.dtype, np.int):\n"
     ]
    },
    {
     "name": "stdout",
     "output_type": "stream",
     "text": [
      "Thresh=0.0, n=301, R2 Score: 0.8421052631578947\n"
     ]
    },
    {
     "name": "stderr",
     "output_type": "stream",
     "text": [
      "C:\\ProgramData\\Anaconda3\\lib\\site-packages\\sklearn\\utils\\__init__.py:93: FutureWarning: Conversion of the second argument of issubdtype from `int` to `np.signedinteger` is deprecated. In future, it will be treated as `np.int32 == np.dtype(int).type`.\n",
      "  if np.issubdtype(mask.dtype, np.int):\n"
     ]
    },
    {
     "name": "stdout",
     "output_type": "stream",
     "text": [
      "Thresh=0.0, n=301, R2 Score: 0.8421052631578947\n"
     ]
    },
    {
     "name": "stderr",
     "output_type": "stream",
     "text": [
      "C:\\ProgramData\\Anaconda3\\lib\\site-packages\\sklearn\\utils\\__init__.py:93: FutureWarning: Conversion of the second argument of issubdtype from `int` to `np.signedinteger` is deprecated. In future, it will be treated as `np.int32 == np.dtype(int).type`.\n",
      "  if np.issubdtype(mask.dtype, np.int):\n"
     ]
    },
    {
     "name": "stdout",
     "output_type": "stream",
     "text": [
      "Thresh=0.0, n=301, R2 Score: 0.8421052631578947\n"
     ]
    },
    {
     "name": "stderr",
     "output_type": "stream",
     "text": [
      "C:\\ProgramData\\Anaconda3\\lib\\site-packages\\sklearn\\utils\\__init__.py:93: FutureWarning: Conversion of the second argument of issubdtype from `int` to `np.signedinteger` is deprecated. In future, it will be treated as `np.int32 == np.dtype(int).type`.\n",
      "  if np.issubdtype(mask.dtype, np.int):\n"
     ]
    },
    {
     "name": "stdout",
     "output_type": "stream",
     "text": [
      "Thresh=0.0, n=301, R2 Score: 0.8421052631578947\n"
     ]
    },
    {
     "name": "stderr",
     "output_type": "stream",
     "text": [
      "C:\\ProgramData\\Anaconda3\\lib\\site-packages\\sklearn\\utils\\__init__.py:93: FutureWarning: Conversion of the second argument of issubdtype from `int` to `np.signedinteger` is deprecated. In future, it will be treated as `np.int32 == np.dtype(int).type`.\n",
      "  if np.issubdtype(mask.dtype, np.int):\n"
     ]
    },
    {
     "name": "stdout",
     "output_type": "stream",
     "text": [
      "Thresh=0.0, n=301, R2 Score: 0.8421052631578947\n"
     ]
    },
    {
     "name": "stderr",
     "output_type": "stream",
     "text": [
      "C:\\ProgramData\\Anaconda3\\lib\\site-packages\\sklearn\\utils\\__init__.py:93: FutureWarning: Conversion of the second argument of issubdtype from `int` to `np.signedinteger` is deprecated. In future, it will be treated as `np.int32 == np.dtype(int).type`.\n",
      "  if np.issubdtype(mask.dtype, np.int):\n"
     ]
    },
    {
     "name": "stdout",
     "output_type": "stream",
     "text": [
      "Thresh=0.0, n=301, R2 Score: 0.8421052631578947\n"
     ]
    },
    {
     "name": "stderr",
     "output_type": "stream",
     "text": [
      "C:\\ProgramData\\Anaconda3\\lib\\site-packages\\sklearn\\utils\\__init__.py:93: FutureWarning: Conversion of the second argument of issubdtype from `int` to `np.signedinteger` is deprecated. In future, it will be treated as `np.int32 == np.dtype(int).type`.\n",
      "  if np.issubdtype(mask.dtype, np.int):\n"
     ]
    },
    {
     "name": "stdout",
     "output_type": "stream",
     "text": [
      "Thresh=0.0, n=301, R2 Score: 0.7631578947368421\n"
     ]
    },
    {
     "name": "stderr",
     "output_type": "stream",
     "text": [
      "C:\\ProgramData\\Anaconda3\\lib\\site-packages\\sklearn\\utils\\__init__.py:93: FutureWarning: Conversion of the second argument of issubdtype from `int` to `np.signedinteger` is deprecated. In future, it will be treated as `np.int32 == np.dtype(int).type`.\n",
      "  if np.issubdtype(mask.dtype, np.int):\n"
     ]
    },
    {
     "name": "stdout",
     "output_type": "stream",
     "text": [
      "Thresh=0.0, n=301, R2 Score: 0.8421052631578947\n"
     ]
    },
    {
     "name": "stderr",
     "output_type": "stream",
     "text": [
      "C:\\ProgramData\\Anaconda3\\lib\\site-packages\\sklearn\\utils\\__init__.py:93: FutureWarning: Conversion of the second argument of issubdtype from `int` to `np.signedinteger` is deprecated. In future, it will be treated as `np.int32 == np.dtype(int).type`.\n",
      "  if np.issubdtype(mask.dtype, np.int):\n"
     ]
    },
    {
     "name": "stdout",
     "output_type": "stream",
     "text": [
      "Thresh=0.0, n=301, R2 Score: 0.8421052631578947\n"
     ]
    },
    {
     "name": "stderr",
     "output_type": "stream",
     "text": [
      "C:\\ProgramData\\Anaconda3\\lib\\site-packages\\sklearn\\utils\\__init__.py:93: FutureWarning: Conversion of the second argument of issubdtype from `int` to `np.signedinteger` is deprecated. In future, it will be treated as `np.int32 == np.dtype(int).type`.\n",
      "  if np.issubdtype(mask.dtype, np.int):\n"
     ]
    },
    {
     "name": "stdout",
     "output_type": "stream",
     "text": [
      "Thresh=0.0, n=301, R2 Score: 0.7631578947368421\n"
     ]
    },
    {
     "name": "stderr",
     "output_type": "stream",
     "text": [
      "C:\\ProgramData\\Anaconda3\\lib\\site-packages\\sklearn\\utils\\__init__.py:93: FutureWarning: Conversion of the second argument of issubdtype from `int` to `np.signedinteger` is deprecated. In future, it will be treated as `np.int32 == np.dtype(int).type`.\n",
      "  if np.issubdtype(mask.dtype, np.int):\n"
     ]
    },
    {
     "name": "stdout",
     "output_type": "stream",
     "text": [
      "Thresh=0.0004593021200031634, n=34, R2 Score: 0.8421052631578947\n"
     ]
    },
    {
     "name": "stderr",
     "output_type": "stream",
     "text": [
      "C:\\ProgramData\\Anaconda3\\lib\\site-packages\\sklearn\\utils\\__init__.py:93: FutureWarning: Conversion of the second argument of issubdtype from `int` to `np.signedinteger` is deprecated. In future, it will be treated as `np.int32 == np.dtype(int).type`.\n",
      "  if np.issubdtype(mask.dtype, np.int):\n"
     ]
    },
    {
     "name": "stdout",
     "output_type": "stream",
     "text": [
      "Thresh=0.000905055613171375, n=33, R2 Score: 0.8421052631578947\n"
     ]
    },
    {
     "name": "stderr",
     "output_type": "stream",
     "text": [
      "C:\\ProgramData\\Anaconda3\\lib\\site-packages\\sklearn\\utils\\__init__.py:93: FutureWarning: Conversion of the second argument of issubdtype from `int` to `np.signedinteger` is deprecated. In future, it will be treated as `np.int32 == np.dtype(int).type`.\n",
      "  if np.issubdtype(mask.dtype, np.int):\n"
     ]
    },
    {
     "name": "stdout",
     "output_type": "stream",
     "text": [
      "Thresh=0.001256036095842431, n=32, R2 Score: 0.7631578947368421\n"
     ]
    },
    {
     "name": "stderr",
     "output_type": "stream",
     "text": [
      "C:\\ProgramData\\Anaconda3\\lib\\site-packages\\sklearn\\utils\\__init__.py:93: FutureWarning: Conversion of the second argument of issubdtype from `int` to `np.signedinteger` is deprecated. In future, it will be treated as `np.int32 == np.dtype(int).type`.\n",
      "  if np.issubdtype(mask.dtype, np.int):\n"
     ]
    },
    {
     "name": "stdout",
     "output_type": "stream",
     "text": [
      "Thresh=0.0017002607450273847, n=31, R2 Score: 0.8421052631578947\n"
     ]
    },
    {
     "name": "stderr",
     "output_type": "stream",
     "text": [
      "C:\\ProgramData\\Anaconda3\\lib\\site-packages\\sklearn\\utils\\__init__.py:93: FutureWarning: Conversion of the second argument of issubdtype from `int` to `np.signedinteger` is deprecated. In future, it will be treated as `np.int32 == np.dtype(int).type`.\n",
      "  if np.issubdtype(mask.dtype, np.int):\n"
     ]
    },
    {
     "name": "stdout",
     "output_type": "stream",
     "text": [
      "Thresh=0.0020944629149564735, n=30, R2 Score: 0.8421052631578947\n"
     ]
    },
    {
     "name": "stderr",
     "output_type": "stream",
     "text": [
      "C:\\ProgramData\\Anaconda3\\lib\\site-packages\\sklearn\\utils\\__init__.py:93: FutureWarning: Conversion of the second argument of issubdtype from `int` to `np.signedinteger` is deprecated. In future, it will be treated as `np.int32 == np.dtype(int).type`.\n",
      "  if np.issubdtype(mask.dtype, np.int):\n"
     ]
    },
    {
     "name": "stdout",
     "output_type": "stream",
     "text": [
      "Thresh=0.002286026799010298, n=29, R2 Score: 0.8421052631578947\n"
     ]
    },
    {
     "name": "stderr",
     "output_type": "stream",
     "text": [
      "C:\\ProgramData\\Anaconda3\\lib\\site-packages\\sklearn\\utils\\__init__.py:93: FutureWarning: Conversion of the second argument of issubdtype from `int` to `np.signedinteger` is deprecated. In future, it will be treated as `np.int32 == np.dtype(int).type`.\n",
      "  if np.issubdtype(mask.dtype, np.int):\n"
     ]
    },
    {
     "name": "stdout",
     "output_type": "stream",
     "text": [
      "Thresh=0.0023463726172887546, n=28, R2 Score: 0.7631578947368421\n"
     ]
    },
    {
     "name": "stderr",
     "output_type": "stream",
     "text": [
      "C:\\ProgramData\\Anaconda3\\lib\\site-packages\\sklearn\\utils\\__init__.py:93: FutureWarning: Conversion of the second argument of issubdtype from `int` to `np.signedinteger` is deprecated. In future, it will be treated as `np.int32 == np.dtype(int).type`.\n",
      "  if np.issubdtype(mask.dtype, np.int):\n"
     ]
    },
    {
     "name": "stdout",
     "output_type": "stream",
     "text": [
      "Thresh=0.0025211864325399035, n=27, R2 Score: 0.8421052631578947\n"
     ]
    },
    {
     "name": "stderr",
     "output_type": "stream",
     "text": [
      "C:\\ProgramData\\Anaconda3\\lib\\site-packages\\sklearn\\utils\\__init__.py:93: FutureWarning: Conversion of the second argument of issubdtype from `int` to `np.signedinteger` is deprecated. In future, it will be treated as `np.int32 == np.dtype(int).type`.\n",
      "  if np.issubdtype(mask.dtype, np.int):\n"
     ]
    },
    {
     "name": "stdout",
     "output_type": "stream",
     "text": [
      "Thresh=0.002665840790041434, n=26, R2 Score: 0.7631578947368421\n"
     ]
    },
    {
     "name": "stderr",
     "output_type": "stream",
     "text": [
      "C:\\ProgramData\\Anaconda3\\lib\\site-packages\\sklearn\\utils\\__init__.py:93: FutureWarning: Conversion of the second argument of issubdtype from `int` to `np.signedinteger` is deprecated. In future, it will be treated as `np.int32 == np.dtype(int).type`.\n",
      "  if np.issubdtype(mask.dtype, np.int):\n"
     ]
    },
    {
     "name": "stdout",
     "output_type": "stream",
     "text": [
      "Thresh=0.0032188581317043074, n=25, R2 Score: 0.8421052631578947\n"
     ]
    },
    {
     "name": "stderr",
     "output_type": "stream",
     "text": [
      "C:\\ProgramData\\Anaconda3\\lib\\site-packages\\sklearn\\utils\\__init__.py:93: FutureWarning: Conversion of the second argument of issubdtype from `int` to `np.signedinteger` is deprecated. In future, it will be treated as `np.int32 == np.dtype(int).type`.\n",
      "  if np.issubdtype(mask.dtype, np.int):\n"
     ]
    },
    {
     "name": "stdout",
     "output_type": "stream",
     "text": [
      "Thresh=0.00326842475085536, n=24, R2 Score: 0.8421052631578947\n"
     ]
    },
    {
     "name": "stderr",
     "output_type": "stream",
     "text": [
      "C:\\ProgramData\\Anaconda3\\lib\\site-packages\\sklearn\\utils\\__init__.py:93: FutureWarning: Conversion of the second argument of issubdtype from `int` to `np.signedinteger` is deprecated. In future, it will be treated as `np.int32 == np.dtype(int).type`.\n",
      "  if np.issubdtype(mask.dtype, np.int):\n"
     ]
    },
    {
     "name": "stdout",
     "output_type": "stream",
     "text": [
      "Thresh=0.0034784453463233096, n=23, R2 Score: 0.8421052631578947\n"
     ]
    },
    {
     "name": "stderr",
     "output_type": "stream",
     "text": [
      "C:\\ProgramData\\Anaconda3\\lib\\site-packages\\sklearn\\utils\\__init__.py:93: FutureWarning: Conversion of the second argument of issubdtype from `int` to `np.signedinteger` is deprecated. In future, it will be treated as `np.int32 == np.dtype(int).type`.\n",
      "  if np.issubdtype(mask.dtype, np.int):\n"
     ]
    },
    {
     "name": "stdout",
     "output_type": "stream",
     "text": [
      "Thresh=0.003689276385798715, n=22, R2 Score: 0.8421052631578947\n"
     ]
    },
    {
     "name": "stderr",
     "output_type": "stream",
     "text": [
      "C:\\ProgramData\\Anaconda3\\lib\\site-packages\\sklearn\\utils\\__init__.py:93: FutureWarning: Conversion of the second argument of issubdtype from `int` to `np.signedinteger` is deprecated. In future, it will be treated as `np.int32 == np.dtype(int).type`.\n",
      "  if np.issubdtype(mask.dtype, np.int):\n"
     ]
    },
    {
     "name": "stdout",
     "output_type": "stream",
     "text": [
      "Thresh=0.00406694489425265, n=21, R2 Score: 0.8421052631578947\n"
     ]
    },
    {
     "name": "stderr",
     "output_type": "stream",
     "text": [
      "C:\\ProgramData\\Anaconda3\\lib\\site-packages\\sklearn\\utils\\__init__.py:93: FutureWarning: Conversion of the second argument of issubdtype from `int` to `np.signedinteger` is deprecated. In future, it will be treated as `np.int32 == np.dtype(int).type`.\n",
      "  if np.issubdtype(mask.dtype, np.int):\n"
     ]
    },
    {
     "name": "stdout",
     "output_type": "stream",
     "text": [
      "Thresh=0.005017332923273071, n=20, R2 Score: 0.7631578947368421\n"
     ]
    },
    {
     "name": "stderr",
     "output_type": "stream",
     "text": [
      "C:\\ProgramData\\Anaconda3\\lib\\site-packages\\sklearn\\utils\\__init__.py:93: FutureWarning: Conversion of the second argument of issubdtype from `int` to `np.signedinteger` is deprecated. In future, it will be treated as `np.int32 == np.dtype(int).type`.\n",
      "  if np.issubdtype(mask.dtype, np.int):\n"
     ]
    },
    {
     "name": "stdout",
     "output_type": "stream",
     "text": [
      "Thresh=0.005018190453821359, n=19, R2 Score: 0.7631578947368421\n"
     ]
    },
    {
     "name": "stderr",
     "output_type": "stream",
     "text": [
      "C:\\ProgramData\\Anaconda3\\lib\\site-packages\\sklearn\\utils\\__init__.py:93: FutureWarning: Conversion of the second argument of issubdtype from `int` to `np.signedinteger` is deprecated. In future, it will be treated as `np.int32 == np.dtype(int).type`.\n",
      "  if np.issubdtype(mask.dtype, np.int):\n"
     ]
    },
    {
     "name": "stdout",
     "output_type": "stream",
     "text": [
      "Thresh=0.00516077772889334, n=18, R2 Score: 0.8421052631578947\n"
     ]
    },
    {
     "name": "stderr",
     "output_type": "stream",
     "text": [
      "C:\\ProgramData\\Anaconda3\\lib\\site-packages\\sklearn\\utils\\__init__.py:93: FutureWarning: Conversion of the second argument of issubdtype from `int` to `np.signedinteger` is deprecated. In future, it will be treated as `np.int32 == np.dtype(int).type`.\n",
      "  if np.issubdtype(mask.dtype, np.int):\n"
     ]
    },
    {
     "name": "stdout",
     "output_type": "stream",
     "text": [
      "Thresh=0.005510800471754975, n=17, R2 Score: 0.7631578947368421\n"
     ]
    },
    {
     "name": "stderr",
     "output_type": "stream",
     "text": [
      "C:\\ProgramData\\Anaconda3\\lib\\site-packages\\sklearn\\utils\\__init__.py:93: FutureWarning: Conversion of the second argument of issubdtype from `int` to `np.signedinteger` is deprecated. In future, it will be treated as `np.int32 == np.dtype(int).type`.\n",
      "  if np.issubdtype(mask.dtype, np.int):\n"
     ]
    },
    {
     "name": "stdout",
     "output_type": "stream",
     "text": [
      "Thresh=0.005668911371002437, n=16, R2 Score: 0.7631578947368421\n"
     ]
    },
    {
     "name": "stderr",
     "output_type": "stream",
     "text": [
      "C:\\ProgramData\\Anaconda3\\lib\\site-packages\\sklearn\\utils\\__init__.py:93: FutureWarning: Conversion of the second argument of issubdtype from `int` to `np.signedinteger` is deprecated. In future, it will be treated as `np.int32 == np.dtype(int).type`.\n",
      "  if np.issubdtype(mask.dtype, np.int):\n"
     ]
    },
    {
     "name": "stdout",
     "output_type": "stream",
     "text": [
      "Thresh=0.005731796659217648, n=15, R2 Score: 0.8421052631578947\n"
     ]
    },
    {
     "name": "stderr",
     "output_type": "stream",
     "text": [
      "C:\\ProgramData\\Anaconda3\\lib\\site-packages\\sklearn\\utils\\__init__.py:93: FutureWarning: Conversion of the second argument of issubdtype from `int` to `np.signedinteger` is deprecated. In future, it will be treated as `np.int32 == np.dtype(int).type`.\n",
      "  if np.issubdtype(mask.dtype, np.int):\n"
     ]
    },
    {
     "name": "stdout",
     "output_type": "stream",
     "text": [
      "Thresh=0.005956988707343945, n=14, R2 Score: 0.8421052631578947\n"
     ]
    },
    {
     "name": "stderr",
     "output_type": "stream",
     "text": [
      "C:\\ProgramData\\Anaconda3\\lib\\site-packages\\sklearn\\utils\\__init__.py:93: FutureWarning: Conversion of the second argument of issubdtype from `int` to `np.signedinteger` is deprecated. In future, it will be treated as `np.int32 == np.dtype(int).type`.\n",
      "  if np.issubdtype(mask.dtype, np.int):\n"
     ]
    },
    {
     "name": "stdout",
     "output_type": "stream",
     "text": [
      "Thresh=0.00612439835404586, n=13, R2 Score: 0.7631578947368421\n"
     ]
    },
    {
     "name": "stderr",
     "output_type": "stream",
     "text": [
      "C:\\ProgramData\\Anaconda3\\lib\\site-packages\\sklearn\\utils\\__init__.py:93: FutureWarning: Conversion of the second argument of issubdtype from `int` to `np.signedinteger` is deprecated. In future, it will be treated as `np.int32 == np.dtype(int).type`.\n",
      "  if np.issubdtype(mask.dtype, np.int):\n"
     ]
    },
    {
     "name": "stdout",
     "output_type": "stream",
     "text": [
      "Thresh=0.006308203353942181, n=12, R2 Score: 0.7631578947368421\n"
     ]
    },
    {
     "name": "stderr",
     "output_type": "stream",
     "text": [
      "C:\\ProgramData\\Anaconda3\\lib\\site-packages\\sklearn\\utils\\__init__.py:93: FutureWarning: Conversion of the second argument of issubdtype from `int` to `np.signedinteger` is deprecated. In future, it will be treated as `np.int32 == np.dtype(int).type`.\n",
      "  if np.issubdtype(mask.dtype, np.int):\n"
     ]
    },
    {
     "name": "stdout",
     "output_type": "stream",
     "text": [
      "Thresh=0.007294153791270869, n=11, R2 Score: 0.8421052631578947\n"
     ]
    },
    {
     "name": "stderr",
     "output_type": "stream",
     "text": [
      "C:\\ProgramData\\Anaconda3\\lib\\site-packages\\sklearn\\utils\\__init__.py:93: FutureWarning: Conversion of the second argument of issubdtype from `int` to `np.signedinteger` is deprecated. In future, it will be treated as `np.int32 == np.dtype(int).type`.\n",
      "  if np.issubdtype(mask.dtype, np.int):\n"
     ]
    },
    {
     "name": "stdout",
     "output_type": "stream",
     "text": [
      "Thresh=0.00798165443505298, n=10, R2 Score: 0.8421052631578947\n"
     ]
    },
    {
     "name": "stderr",
     "output_type": "stream",
     "text": [
      "C:\\ProgramData\\Anaconda3\\lib\\site-packages\\sklearn\\utils\\__init__.py:93: FutureWarning: Conversion of the second argument of issubdtype from `int` to `np.signedinteger` is deprecated. In future, it will be treated as `np.int32 == np.dtype(int).type`.\n",
      "  if np.issubdtype(mask.dtype, np.int):\n"
     ]
    },
    {
     "name": "stdout",
     "output_type": "stream",
     "text": [
      "Thresh=0.01943051751484001, n=9, R2 Score: 0.8421052631578947\n"
     ]
    },
    {
     "name": "stderr",
     "output_type": "stream",
     "text": [
      "C:\\ProgramData\\Anaconda3\\lib\\site-packages\\sklearn\\utils\\__init__.py:93: FutureWarning: Conversion of the second argument of issubdtype from `int` to `np.signedinteger` is deprecated. In future, it will be treated as `np.int32 == np.dtype(int).type`.\n",
      "  if np.issubdtype(mask.dtype, np.int):\n"
     ]
    },
    {
     "name": "stdout",
     "output_type": "stream",
     "text": [
      "Thresh=0.060300801427772166, n=8, R2 Score: 0.8421052631578947\n"
     ]
    },
    {
     "name": "stderr",
     "output_type": "stream",
     "text": [
      "C:\\ProgramData\\Anaconda3\\lib\\site-packages\\sklearn\\utils\\__init__.py:93: FutureWarning: Conversion of the second argument of issubdtype from `int` to `np.signedinteger` is deprecated. In future, it will be treated as `np.int32 == np.dtype(int).type`.\n",
      "  if np.issubdtype(mask.dtype, np.int):\n"
     ]
    },
    {
     "name": "stdout",
     "output_type": "stream",
     "text": [
      "Thresh=0.06934704391644507, n=7, R2 Score: 0.8421052631578947\n"
     ]
    },
    {
     "name": "stderr",
     "output_type": "stream",
     "text": [
      "C:\\ProgramData\\Anaconda3\\lib\\site-packages\\sklearn\\utils\\__init__.py:93: FutureWarning: Conversion of the second argument of issubdtype from `int` to `np.signedinteger` is deprecated. In future, it will be treated as `np.int32 == np.dtype(int).type`.\n",
      "  if np.issubdtype(mask.dtype, np.int):\n"
     ]
    },
    {
     "name": "stdout",
     "output_type": "stream",
     "text": [
      "Thresh=0.07316857616114766, n=6, R2 Score: 0.8421052631578947\n"
     ]
    },
    {
     "name": "stderr",
     "output_type": "stream",
     "text": [
      "C:\\ProgramData\\Anaconda3\\lib\\site-packages\\sklearn\\utils\\__init__.py:93: FutureWarning: Conversion of the second argument of issubdtype from `int` to `np.signedinteger` is deprecated. In future, it will be treated as `np.int32 == np.dtype(int).type`.\n",
      "  if np.issubdtype(mask.dtype, np.int):\n"
     ]
    },
    {
     "name": "stdout",
     "output_type": "stream",
     "text": [
      "Thresh=0.07651362790923284, n=5, R2 Score: 0.8421052631578947\n"
     ]
    },
    {
     "name": "stderr",
     "output_type": "stream",
     "text": [
      "C:\\ProgramData\\Anaconda3\\lib\\site-packages\\sklearn\\utils\\__init__.py:93: FutureWarning: Conversion of the second argument of issubdtype from `int` to `np.signedinteger` is deprecated. In future, it will be treated as `np.int32 == np.dtype(int).type`.\n",
      "  if np.issubdtype(mask.dtype, np.int):\n"
     ]
    },
    {
     "name": "stdout",
     "output_type": "stream",
     "text": [
      "Thresh=0.10183002715151264, n=4, R2 Score: 0.8421052631578947\n"
     ]
    },
    {
     "name": "stderr",
     "output_type": "stream",
     "text": [
      "C:\\ProgramData\\Anaconda3\\lib\\site-packages\\sklearn\\utils\\__init__.py:93: FutureWarning: Conversion of the second argument of issubdtype from `int` to `np.signedinteger` is deprecated. In future, it will be treated as `np.int32 == np.dtype(int).type`.\n",
      "  if np.issubdtype(mask.dtype, np.int):\n"
     ]
    },
    {
     "name": "stdout",
     "output_type": "stream",
     "text": [
      "Thresh=0.12242132758558909, n=3, R2 Score: 0.605263157894737\n"
     ]
    },
    {
     "name": "stderr",
     "output_type": "stream",
     "text": [
      "C:\\ProgramData\\Anaconda3\\lib\\site-packages\\sklearn\\utils\\__init__.py:93: FutureWarning: Conversion of the second argument of issubdtype from `int` to `np.signedinteger` is deprecated. In future, it will be treated as `np.int32 == np.dtype(int).type`.\n",
      "  if np.issubdtype(mask.dtype, np.int):\n"
     ]
    },
    {
     "name": "stdout",
     "output_type": "stream",
     "text": [
      "Thresh=0.18674644527634604, n=2, R2 Score: 0.605263157894737\n"
     ]
    },
    {
     "name": "stderr",
     "output_type": "stream",
     "text": [
      "C:\\ProgramData\\Anaconda3\\lib\\site-packages\\sklearn\\utils\\__init__.py:93: FutureWarning: Conversion of the second argument of issubdtype from `int` to `np.signedinteger` is deprecated. In future, it will be treated as `np.int32 == np.dtype(int).type`.\n",
      "  if np.issubdtype(mask.dtype, np.int):\n"
     ]
    },
    {
     "name": "stdout",
     "output_type": "stream",
     "text": [
      "Thresh=0.19051193117068024, n=1, R2 Score: 0.605263157894737\n"
     ]
    },
    {
     "data": {
      "image/png": "[encoded data removed]",
      "text/plain": [
       "<Figure size 1440x1080 with 1 Axes>"
      ]
     },
     "metadata": {
      "needs_background": "light"
     },
     "output_type": "display_data"
    }
   ],
   "source": [
    "rfr_hist_sysstat_score, rfr_hist_sysstat_count = EnsembleWrappers.rfr_wrapper(X_df=rep_hist_sysstat_df_pruned_norm,\n",
    "                                                                              y_df=rep_hist_sysstat_df_pruned['SNAP_ID'],\n",
    "                                                                              test_split=test_split,\n",
    "                                                                              table_name='REP_HIST_SYSSTAT',\n",
    "                                                                              top_n_features=top_n_features,\n",
    "                                                                              parallel_degree=parallel_degree)"
   ]
  },
  {
   "cell_type": "markdown",
   "metadata": {},
   "source": [
    "### Gradient Boosting Wrapper (Feature Combination)  (Regression)\n",
    "\n",
    "Utilizes an ensemble Gradient Boosting method to gauge different feature combination/counts.\n",
    "\n",
    "https://machinelearningmastery.com/gentle-introduction-gradient-boosting-algorithm-machine-learning/"
   ]
  },
  {
   "cell_type": "code",
   "execution_count": 137,
   "metadata": {
    "scrolled": true
   },
   "outputs": [
    {
     "name": "stdout",
     "output_type": "stream",
     "text": [
      "Table [REP_HIST_SYSSTAT] RFR R2 Score: -1.951612903225807\n",
      "Feature Importance\n",
      "------------------------------------------------------------\n",
      "[0.         0.         0.         0.         0.         0.\n",
      " 0.         0.         0.         0.         0.         0.\n",
      " 0.         0.         0.         0.         0.         0.\n",
      " 0.         0.         0.         0.         0.         0.\n",
      " 0.         0.         0.         0.         0.         0.\n",
      " 0.         0.         0.         0.         0.         0.\n",
      " 0.         0.         0.         0.         0.         0.\n",
      " 0.         0.         0.         0.         0.         0.\n",
      " 0.         0.         0.         0.         0.         0.\n",
      " 0.         0.         0.         0.         0.         0.\n",
      " 0.         0.         0.         0.         0.         0.\n",
      " 0.         0.         0.         0.         0.         0.\n",
      " 0.         0.         0.         0.         0.         0.\n",
      " 0.         0.         0.         0.         0.         0.02988822\n",
      " 0.         0.         0.         0.         0.         0.\n",
      " 0.         0.         0.         0.         0.         0.\n",
      " 0.         0.         0.         0.         0.         0.\n",
      " 0.         0.         0.         0.         0.         0.\n",
      " 0.         0.         0.         0.         0.         0.\n",
      " 0.         0.         0.         0.         0.         0.\n",
      " 0.         0.         0.         0.         0.         0.\n",
      " 0.02067081 0.         0.         0.         0.         0.\n",
      " 0.         0.         0.         0.         0.         0.\n",
      " 0.         0.         0.         0.         0.         0.\n",
      " 0.         0.         0.03419422 0.         0.         0.\n",
      " 0.         0.         0.         0.         0.         0.\n",
      " 0.         0.         0.         0.         0.         0.\n",
      " 0.         0.         0.         0.02603901 0.         0.02804096\n",
      " 0.         0.         0.         0.         0.         0.\n",
      " 0.         0.         0.0128528  0.         0.02134503 0.\n",
      " 0.         0.         0.         0.         0.         0.\n",
      " 0.         0.         0.         0.         0.         0.\n",
      " 0.         0.         0.         0.         0.         0.\n",
      " 0.         0.         0.         0.         0.         0.\n",
      " 0.         0.         0.         0.         0.         0.\n",
      " 0.         0.         0.         0.         0.         0.\n",
      " 0.         0.         0.         0.         0.         0.\n",
      " 0.         0.         0.         0.         0.         0.\n",
      " 0.         0.         0.         0.         0.         0.\n",
      " 0.         0.         0.         0.         0.         0.\n",
      " 0.         0.         0.         0.         0.         0.\n",
      " 0.         0.         0.         0.         0.         0.\n",
      " 0.         0.         0.         0.         0.         0.\n",
      " 0.         0.         0.         0.0003354  0.0002236  0.00240994\n",
      " 0.         0.         0.         0.         0.         0.\n",
      " 0.         0.         0.         0.         0.         0.\n",
      " 0.         0.         0.         0.         0.         0.\n",
      " 0.         0.         0.         0.         0.         0.\n",
      " 0.         0.         0.         0.         0.         0.\n",
      " 0.         0.         0.         0.         0.         0.\n",
      " 0.        ]\n",
      "------------------------------------------------------------\n",
      "Thresh=0.0, n=301, R2 Score: -1.951612903225807\n"
     ]
    },
    {
     "name": "stderr",
     "output_type": "stream",
     "text": [
      "C:\\ProgramData\\Anaconda3\\lib\\site-packages\\sklearn\\utils\\__init__.py:93: FutureWarning: Conversion of the second argument of issubdtype from `int` to `np.signedinteger` is deprecated. In future, it will be treated as `np.int32 == np.dtype(int).type`.\n",
      "  if np.issubdtype(mask.dtype, np.int):\n"
     ]
    },
    {
     "name": "stdout",
     "output_type": "stream",
     "text": [
      "Thresh=0.0, n=301, R2 Score: -1.951612903225807\n",
      "Thresh=0.0, n=301, R2 Score: -1.951612903225807\n",
      "Thresh=0.0, n=301, R2 Score: -1.951612903225807\n",
      "Thresh=0.0, n=301, R2 Score: -1.951612903225807\n",
      "Thresh=0.0, n=301, R2 Score: -2.0000000000000004\n",
      "Thresh=0.0, n=301, R2 Score: -1.951612903225807\n",
      "Thresh=0.0, n=301, R2 Score: -3.112903225806452\n",
      "Thresh=0.0, n=301, R2 Score: -1.951612903225807\n",
      "Thresh=0.0, n=301, R2 Score: -2.483870967741936\n",
      "Thresh=0.0, n=301, R2 Score: -1.951612903225807\n",
      "Thresh=0.0, n=301, R2 Score: -1.951612903225807\n",
      "Thresh=0.0, n=301, R2 Score: -1.951612903225807\n",
      "Thresh=0.0, n=301, R2 Score: -1.4193548387096775\n",
      "Thresh=0.0, n=301, R2 Score: -1.951612903225807\n",
      "Thresh=0.0, n=301, R2 Score: -1.951612903225807\n",
      "Thresh=0.0, n=301, R2 Score: -1.951612903225807\n",
      "Thresh=0.0, n=301, R2 Score: -1.951612903225807\n",
      "Thresh=0.0, n=301, R2 Score: -2.0000000000000004\n",
      "Thresh=0.0, n=301, R2 Score: -1.951612903225807\n",
      "Thresh=0.0, n=301, R2 Score: -1.951612903225807\n",
      "Thresh=0.0, n=301, R2 Score: -1.4193548387096775\n",
      "Thresh=0.0, n=301, R2 Score: -1.951612903225807\n",
      "Thresh=0.0, n=301, R2 Score: -1.951612903225807\n",
      "Thresh=0.0, n=301, R2 Score: -1.951612903225807\n",
      "Thresh=0.0, n=301, R2 Score: -1.951612903225807\n",
      "Thresh=0.0, n=301, R2 Score: -1.951612903225807\n",
      "Thresh=0.0, n=301, R2 Score: -1.951612903225807\n",
      "Thresh=0.0, n=301, R2 Score: -1.951612903225807\n",
      "Thresh=0.0, n=301, R2 Score: -1.951612903225807\n",
      "Thresh=0.0, n=301, R2 Score: -1.951612903225807\n",
      "Thresh=0.0, n=301, R2 Score: -1.951612903225807\n",
      "Thresh=0.0, n=301, R2 Score: -1.4193548387096775\n",
      "Thresh=0.0, n=301, R2 Score: -2.6290322580645165\n",
      "Thresh=0.0, n=301, R2 Score: -2.483870967741936\n",
      "Thresh=0.0, n=301, R2 Score: -1.951612903225807\n",
      "Thresh=0.0, n=301, R2 Score: -1.951612903225807\n",
      "Thresh=0.0, n=301, R2 Score: -1.951612903225807\n",
      "Thresh=0.0, n=301, R2 Score: -1.951612903225807\n",
      "Thresh=0.0, n=301, R2 Score: -1.951612903225807\n",
      "Thresh=0.0, n=301, R2 Score: -2.580645161290323\n",
      "Thresh=0.0, n=301, R2 Score: -3.112903225806452\n",
      "Thresh=0.0, n=301, R2 Score: -2.580645161290323\n",
      "Thresh=0.0, n=301, R2 Score: -1.951612903225807\n",
      "Thresh=0.0, n=301, R2 Score: -1.4193548387096775\n",
      "Thresh=0.0, n=301, R2 Score: -1.4193548387096775\n",
      "Thresh=0.0, n=301, R2 Score: -1.951612903225807\n",
      "Thresh=0.0, n=301, R2 Score: -1.951612903225807\n",
      "Thresh=0.0, n=301, R2 Score: -1.951612903225807\n",
      "Thresh=0.0, n=301, R2 Score: -2.580645161290323\n",
      "Thresh=0.0, n=301, R2 Score: -1.4193548387096775\n",
      "Thresh=0.0, n=301, R2 Score: -1.951612903225807\n",
      "Thresh=0.0, n=301, R2 Score: -1.4193548387096775\n",
      "Thresh=0.0, n=301, R2 Score: -1.951612903225807\n",
      "Thresh=0.0, n=301, R2 Score: -1.951612903225807\n",
      "Thresh=0.0, n=301, R2 Score: -2.580645161290323\n",
      "Thresh=0.0, n=301, R2 Score: -1.951612903225807\n",
      "Thresh=0.0, n=301, R2 Score: -1.951612903225807\n",
      "Thresh=0.0, n=301, R2 Score: -1.951612903225807\n",
      "Thresh=0.0, n=301, R2 Score: -1.951612903225807\n",
      "Thresh=0.0, n=301, R2 Score: -1.951612903225807\n",
      "Thresh=0.0, n=301, R2 Score: -1.951612903225807\n",
      "Thresh=0.0, n=301, R2 Score: -1.951612903225807\n",
      "Thresh=0.0, n=301, R2 Score: -1.4193548387096775\n",
      "Thresh=0.0, n=301, R2 Score: -1.951612903225807\n",
      "Thresh=0.0, n=301, R2 Score: -1.4193548387096775\n",
      "Thresh=0.0, n=301, R2 Score: -1.951612903225807\n",
      "Thresh=0.0, n=301, R2 Score: -2.580645161290323\n",
      "Thresh=0.0, n=301, R2 Score: -1.951612903225807\n",
      "Thresh=0.0, n=301, R2 Score: -1.951612903225807\n",
      "Thresh=0.0, n=301, R2 Score: -1.951612903225807\n",
      "Thresh=0.0, n=301, R2 Score: -1.951612903225807\n",
      "Thresh=0.0, n=301, R2 Score: -1.951612903225807\n",
      "Thresh=0.0, n=301, R2 Score: -1.951612903225807\n",
      "Thresh=0.0, n=301, R2 Score: -1.951612903225807\n",
      "Thresh=0.0, n=301, R2 Score: -1.951612903225807\n",
      "Thresh=0.0, n=301, R2 Score: -1.951612903225807\n",
      "Thresh=0.0, n=301, R2 Score: -1.951612903225807\n",
      "Thresh=0.0, n=301, R2 Score: -2.6290322580645165\n",
      "Thresh=0.0, n=301, R2 Score: -1.951612903225807\n",
      "Thresh=0.0, n=301, R2 Score: -1.951612903225807\n",
      "Thresh=0.0, n=301, R2 Score: -1.951612903225807\n",
      "Thresh=0.0, n=301, R2 Score: -2.580645161290323\n",
      "Thresh=0.0, n=301, R2 Score: -1.951612903225807\n",
      "Thresh=0.0, n=301, R2 Score: -1.951612903225807\n",
      "Thresh=0.0, n=301, R2 Score: -1.951612903225807\n",
      "Thresh=0.0, n=301, R2 Score: -1.951612903225807\n",
      "Thresh=0.0, n=301, R2 Score: -1.951612903225807\n",
      "Thresh=0.0, n=301, R2 Score: -1.951612903225807\n",
      "Thresh=0.0, n=301, R2 Score: -1.951612903225807\n",
      "Thresh=0.0, n=301, R2 Score: -1.951612903225807\n",
      "Thresh=0.0, n=301, R2 Score: -1.951612903225807\n",
      "Thresh=0.0, n=301, R2 Score: -1.951612903225807\n",
      "Thresh=0.0, n=301, R2 Score: -1.951612903225807\n",
      "Thresh=0.0, n=301, R2 Score: -1.951612903225807\n",
      "Thresh=0.0, n=301, R2 Score: -1.951612903225807\n",
      "Thresh=0.0, n=301, R2 Score: -1.951612903225807\n",
      "Thresh=0.0, n=301, R2 Score: -1.951612903225807\n",
      "Thresh=0.0, n=301, R2 Score: -2.6290322580645165\n",
      "Thresh=0.0, n=301, R2 Score: -1.951612903225807\n",
      "Thresh=0.0, n=301, R2 Score: -0.9838709677419357\n",
      "Thresh=0.0, n=301, R2 Score: -1.951612903225807\n",
      "Thresh=0.0, n=301, R2 Score: -1.951612903225807\n",
      "Thresh=0.0, n=301, R2 Score: -1.951612903225807\n",
      "Thresh=0.0, n=301, R2 Score: -1.951612903225807\n",
      "Thresh=0.0, n=301, R2 Score: -2.580645161290323\n",
      "Thresh=0.0, n=301, R2 Score: -1.951612903225807\n",
      "Thresh=0.0, n=301, R2 Score: -1.951612903225807\n",
      "Thresh=0.0, n=301, R2 Score: -1.951612903225807\n",
      "Thresh=0.0, n=301, R2 Score: -2.483870967741936\n",
      "Thresh=0.0, n=301, R2 Score: -1.951612903225807\n",
      "Thresh=0.0, n=301, R2 Score: -1.4193548387096775\n",
      "Thresh=0.0, n=301, R2 Score: -1.951612903225807\n",
      "Thresh=0.0, n=301, R2 Score: -3.161290322580646\n",
      "Thresh=0.0, n=301, R2 Score: -1.951612903225807\n",
      "Thresh=0.0, n=301, R2 Score: -1.951612903225807\n",
      "Thresh=0.0, n=301, R2 Score: -1.951612903225807\n",
      "Thresh=0.0, n=301, R2 Score: -1.951612903225807\n",
      "Thresh=0.0, n=301, R2 Score: -1.951612903225807\n",
      "Thresh=0.0, n=301, R2 Score: -1.951612903225807\n",
      "Thresh=0.0, n=301, R2 Score: -1.951612903225807\n",
      "Thresh=0.0, n=301, R2 Score: -2.580645161290323\n",
      "Thresh=0.0, n=301, R2 Score: -1.951612903225807\n",
      "Thresh=0.0, n=301, R2 Score: -1.4193548387096775\n",
      "Thresh=0.0, n=301, R2 Score: -1.951612903225807\n",
      "Thresh=0.0, n=301, R2 Score: -1.951612903225807\n",
      "Thresh=0.0, n=301, R2 Score: -2.580645161290323\n",
      "Thresh=0.0, n=301, R2 Score: -1.951612903225807\n",
      "Thresh=0.0, n=301, R2 Score: -1.951612903225807\n",
      "Thresh=0.0, n=301, R2 Score: -1.951612903225807\n",
      "Thresh=0.0, n=301, R2 Score: -1.951612903225807\n",
      "Thresh=0.0, n=301, R2 Score: -1.951612903225807\n",
      "Thresh=0.0, n=301, R2 Score: -3.112903225806452\n",
      "Thresh=0.0, n=301, R2 Score: -1.951612903225807\n",
      "Thresh=0.0, n=301, R2 Score: -1.951612903225807\n",
      "Thresh=0.0, n=301, R2 Score: -2.580645161290323\n",
      "Thresh=0.0, n=301, R2 Score: -1.951612903225807\n",
      "Thresh=0.0, n=301, R2 Score: -1.951612903225807\n",
      "Thresh=0.0, n=301, R2 Score: -1.951612903225807\n",
      "Thresh=0.0, n=301, R2 Score: -1.951612903225807\n",
      "Thresh=0.0, n=301, R2 Score: -1.4193548387096775\n",
      "Thresh=0.0, n=301, R2 Score: -1.951612903225807\n",
      "Thresh=0.0, n=301, R2 Score: -1.951612903225807\n",
      "Thresh=0.0, n=301, R2 Score: -1.951612903225807\n",
      "Thresh=0.0, n=301, R2 Score: -1.951612903225807\n",
      "Thresh=0.0, n=301, R2 Score: -1.951612903225807\n",
      "Thresh=0.0, n=301, R2 Score: -1.951612903225807\n",
      "Thresh=0.0, n=301, R2 Score: -1.4193548387096775\n",
      "Thresh=0.0, n=301, R2 Score: -0.9838709677419357\n",
      "Thresh=0.0, n=301, R2 Score: -1.951612903225807\n",
      "Thresh=0.0, n=301, R2 Score: -1.951612903225807\n",
      "Thresh=0.0, n=301, R2 Score: -1.951612903225807\n",
      "Thresh=0.0, n=301, R2 Score: -1.951612903225807\n",
      "Thresh=0.0, n=301, R2 Score: -1.951612903225807\n",
      "Thresh=0.0, n=301, R2 Score: -1.951612903225807\n",
      "Thresh=0.0, n=301, R2 Score: -1.4193548387096775\n",
      "Thresh=0.0, n=301, R2 Score: -1.951612903225807\n",
      "Thresh=0.0, n=301, R2 Score: -1.951612903225807\n",
      "Thresh=0.0, n=301, R2 Score: -1.951612903225807\n",
      "Thresh=0.0, n=301, R2 Score: -1.951612903225807\n",
      "Thresh=0.0, n=301, R2 Score: -1.951612903225807\n",
      "Thresh=0.0, n=301, R2 Score: -1.951612903225807\n",
      "Thresh=0.0, n=301, R2 Score: -1.4193548387096775\n",
      "Thresh=0.0, n=301, R2 Score: -1.951612903225807\n",
      "Thresh=0.0, n=301, R2 Score: -1.951612903225807\n",
      "Thresh=0.0, n=301, R2 Score: -1.951612903225807\n",
      "Thresh=0.0, n=301, R2 Score: -1.951612903225807\n",
      "Thresh=0.0, n=301, R2 Score: -2.580645161290323\n",
      "Thresh=0.0, n=301, R2 Score: -1.951612903225807\n",
      "Thresh=0.0, n=301, R2 Score: -1.951612903225807\n",
      "Thresh=0.0, n=301, R2 Score: -1.951612903225807\n",
      "Thresh=0.0, n=301, R2 Score: -1.951612903225807\n",
      "Thresh=0.0, n=301, R2 Score: -1.951612903225807\n"
     ]
    },
    {
     "name": "stdout",
     "output_type": "stream",
     "text": [
      "Thresh=0.0, n=301, R2 Score: -1.951612903225807\n",
      "Thresh=0.0, n=301, R2 Score: -1.951612903225807\n",
      "Thresh=0.0, n=301, R2 Score: -1.4193548387096775\n",
      "Thresh=0.0, n=301, R2 Score: -1.951612903225807\n",
      "Thresh=0.0, n=301, R2 Score: -2.580645161290323\n",
      "Thresh=0.0, n=301, R2 Score: -1.4193548387096775\n",
      "Thresh=0.0, n=301, R2 Score: -1.951612903225807\n",
      "Thresh=0.0, n=301, R2 Score: -1.951612903225807\n",
      "Thresh=0.0, n=301, R2 Score: -1.951612903225807\n",
      "Thresh=0.0, n=301, R2 Score: -1.951612903225807\n",
      "Thresh=0.0, n=301, R2 Score: -1.951612903225807\n",
      "Thresh=0.0, n=301, R2 Score: -1.951612903225807\n",
      "Thresh=0.0, n=301, R2 Score: -1.951612903225807\n",
      "Thresh=0.0, n=301, R2 Score: -1.951612903225807\n",
      "Thresh=0.0, n=301, R2 Score: -1.951612903225807\n",
      "Thresh=0.0, n=301, R2 Score: -1.951612903225807\n",
      "Thresh=0.0, n=301, R2 Score: -1.951612903225807\n",
      "Thresh=0.0, n=301, R2 Score: -3.112903225806452\n",
      "Thresh=0.0, n=301, R2 Score: -1.951612903225807\n",
      "Thresh=0.0, n=301, R2 Score: -1.951612903225807\n",
      "Thresh=0.0, n=301, R2 Score: -1.951612903225807\n",
      "Thresh=0.0, n=301, R2 Score: -1.951612903225807\n",
      "Thresh=0.0, n=301, R2 Score: -2.580645161290323\n",
      "Thresh=0.0, n=301, R2 Score: -1.951612903225807\n",
      "Thresh=0.0, n=301, R2 Score: -1.951612903225807\n",
      "Thresh=0.0, n=301, R2 Score: -1.951612903225807\n",
      "Thresh=0.0, n=301, R2 Score: -2.580645161290323\n",
      "Thresh=0.0, n=301, R2 Score: -2.6290322580645165\n",
      "Thresh=0.0, n=301, R2 Score: -2.580645161290323\n",
      "Thresh=0.0, n=301, R2 Score: -1.951612903225807\n",
      "Thresh=0.0, n=301, R2 Score: -1.951612903225807\n",
      "Thresh=0.0, n=301, R2 Score: -1.951612903225807\n",
      "Thresh=0.0, n=301, R2 Score: -1.951612903225807\n",
      "Thresh=0.0, n=301, R2 Score: -1.951612903225807\n",
      "Thresh=0.0, n=301, R2 Score: -1.951612903225807\n",
      "Thresh=0.0, n=301, R2 Score: -1.951612903225807\n",
      "Thresh=0.0, n=301, R2 Score: -1.951612903225807\n",
      "Thresh=0.0, n=301, R2 Score: -1.951612903225807\n",
      "Thresh=0.0, n=301, R2 Score: -1.951612903225807\n",
      "Thresh=0.0, n=301, R2 Score: -1.951612903225807\n",
      "Thresh=0.0, n=301, R2 Score: -1.951612903225807\n",
      "Thresh=0.0, n=301, R2 Score: -1.951612903225807\n",
      "Thresh=0.0, n=301, R2 Score: -2.580645161290323\n",
      "Thresh=0.0, n=301, R2 Score: -2.483870967741936\n",
      "Thresh=0.0, n=301, R2 Score: -1.951612903225807\n",
      "Thresh=0.0, n=301, R2 Score: -1.951612903225807\n",
      "Thresh=0.0, n=301, R2 Score: -1.951612903225807\n",
      "Thresh=0.0, n=301, R2 Score: -2.580645161290323\n",
      "Thresh=0.0, n=301, R2 Score: -1.951612903225807\n",
      "Thresh=0.0, n=301, R2 Score: -1.951612903225807\n",
      "Thresh=0.0, n=301, R2 Score: -1.951612903225807\n",
      "Thresh=0.0, n=301, R2 Score: -1.4193548387096775\n",
      "Thresh=0.0, n=301, R2 Score: -1.951612903225807\n",
      "Thresh=0.0, n=301, R2 Score: -1.951612903225807\n",
      "Thresh=0.0, n=301, R2 Score: -1.951612903225807\n",
      "Thresh=0.0, n=301, R2 Score: -1.951612903225807\n",
      "Thresh=0.0, n=301, R2 Score: -1.951612903225807\n",
      "Thresh=0.0, n=301, R2 Score: -1.951612903225807\n",
      "Thresh=0.0, n=301, R2 Score: -1.951612903225807\n",
      "Thresh=0.0, n=301, R2 Score: -1.951612903225807\n",
      "Thresh=0.0, n=301, R2 Score: -2.483870967741936\n",
      "Thresh=0.0, n=301, R2 Score: -1.951612903225807\n",
      "Thresh=0.0, n=301, R2 Score: -1.951612903225807\n",
      "Thresh=0.0, n=301, R2 Score: -1.951612903225807\n",
      "Thresh=0.0, n=301, R2 Score: -1.4193548387096775\n",
      "Thresh=0.0, n=301, R2 Score: -1.951612903225807\n",
      "Thresh=0.0, n=301, R2 Score: -1.951612903225807\n",
      "Thresh=0.0, n=301, R2 Score: -1.951612903225807\n",
      "Thresh=0.0, n=301, R2 Score: -2.580645161290323\n",
      "Thresh=0.0, n=301, R2 Score: -1.951612903225807\n",
      "Thresh=0.0, n=301, R2 Score: -1.951612903225807\n",
      "Thresh=0.0, n=301, R2 Score: -1.951612903225807\n",
      "Thresh=0.0, n=301, R2 Score: -1.951612903225807\n",
      "Thresh=0.0, n=301, R2 Score: -1.951612903225807\n",
      "Thresh=0.0, n=301, R2 Score: -2.580645161290323\n",
      "Thresh=0.0, n=301, R2 Score: -3.112903225806452\n",
      "Thresh=0.0, n=301, R2 Score: -1.951612903225807\n",
      "Thresh=0.0, n=301, R2 Score: -1.951612903225807\n",
      "Thresh=0.0, n=301, R2 Score: -1.951612903225807\n",
      "Thresh=0.0, n=301, R2 Score: -1.951612903225807\n",
      "Thresh=0.0, n=301, R2 Score: -0.9838709677419357\n",
      "Thresh=0.0, n=301, R2 Score: -1.951612903225807\n",
      "Thresh=0.0, n=301, R2 Score: -1.4193548387096775\n",
      "Thresh=0.0, n=301, R2 Score: -2.580645161290323\n",
      "Thresh=0.0, n=301, R2 Score: -1.4193548387096775\n",
      "Thresh=0.0, n=301, R2 Score: -1.951612903225807\n",
      "Thresh=0.0, n=301, R2 Score: -1.951612903225807\n",
      "Thresh=0.0, n=301, R2 Score: -1.4193548387096775\n",
      "Thresh=0.0, n=301, R2 Score: -1.951612903225807\n",
      "Thresh=0.0, n=301, R2 Score: -1.4193548387096775\n",
      "Thresh=0.0, n=301, R2 Score: -1.951612903225807\n",
      "Thresh=0.0, n=301, R2 Score: -1.951612903225807\n",
      "Thresh=0.0, n=301, R2 Score: -2.580645161290323\n",
      "Thresh=0.0, n=301, R2 Score: -1.951612903225807\n",
      "Thresh=0.0, n=301, R2 Score: -1.951612903225807\n",
      "Thresh=0.0, n=301, R2 Score: -3.112903225806452\n",
      "Thresh=0.0, n=301, R2 Score: -1.951612903225807\n",
      "Thresh=0.0, n=301, R2 Score: -2.0000000000000004\n",
      "Thresh=0.0, n=301, R2 Score: -1.951612903225807\n",
      "Thresh=0.0, n=301, R2 Score: -1.951612903225807\n",
      "Thresh=0.0, n=301, R2 Score: -1.951612903225807\n",
      "Thresh=0.0, n=301, R2 Score: -2.483870967741936\n",
      "Thresh=0.0, n=301, R2 Score: -1.951612903225807\n",
      "Thresh=0.0, n=301, R2 Score: -1.951612903225807\n",
      "Thresh=0.0, n=301, R2 Score: -1.4193548387096775\n",
      "Thresh=0.0, n=301, R2 Score: -1.951612903225807\n",
      "Thresh=0.0, n=301, R2 Score: -1.951612903225807\n",
      "Thresh=0.0, n=301, R2 Score: -1.951612903225807\n",
      "Thresh=0.0, n=301, R2 Score: -2.580645161290323\n",
      "Thresh=0.0, n=301, R2 Score: -1.951612903225807\n",
      "Thresh=0.0, n=301, R2 Score: -2.580645161290323\n",
      "Thresh=0.0, n=301, R2 Score: -1.951612903225807\n",
      "Thresh=0.0, n=301, R2 Score: -1.4193548387096775\n",
      "Thresh=0.0, n=301, R2 Score: -1.951612903225807\n",
      "Thresh=0.0, n=301, R2 Score: -1.951612903225807\n",
      "Thresh=0.0, n=301, R2 Score: -1.951612903225807\n",
      "Thresh=0.0, n=301, R2 Score: -1.951612903225807\n",
      "Thresh=0.0, n=301, R2 Score: -1.951612903225807\n",
      "Thresh=0.00022360248439583507, n=10, R2 Score: -1.951612903225807\n",
      "Thresh=0.0003354037284230193, n=9, R2 Score: -1.951612903225807\n",
      "Thresh=0.0024099378887101034, n=8, R2 Score: -1.951612903225807\n",
      "Thresh=0.012852796428519194, n=7, R2 Score: -3.112903225806452\n",
      "Thresh=0.020670807458946085, n=6, R2 Score: -1.951612903225807\n",
      "Thresh=0.02134502648544659, n=5, R2 Score: -3.112903225806452\n",
      "Thresh=0.02603901381007304, n=4, R2 Score: -3.112903225806452\n",
      "Thresh=0.028040964813582796, n=3, R2 Score: -3.112903225806452\n",
      "Thresh=0.029888223798247463, n=2, R2 Score: -2.483870967741936\n",
      "Thresh=0.03419422310365587, n=1, R2 Score: -1.5645161290322585\n"
     ]
    },
    {
     "data": {
      "image/png": "[encoded data removed]",
      "text/plain": [
       "<Figure size 1440x1080 with 1 Axes>"
      ]
     },
     "metadata": {
      "needs_background": "light"
     },
     "output_type": "display_data"
    }
   ],
   "source": [
    "gbw_hist_sysstat_score, gbw_hist_sysstat_count = EnsembleWrappers.gradient_boosting_wrapper(X_df=rep_hist_sysstat_df_pruned_norm,\n",
    "                                                                                            y_df=rep_hist_sysstat_df_pruned['SNAP_ID'],\n",
    "                                                                                            test_split=test_split,\n",
    "                                                                                            table_name='REP_HIST_SYSSTAT',\n",
    "                                                                                            top_n_features=top_n_features)"
   ]
  },
  {
   "cell_type": "markdown",
   "metadata": {},
   "source": [
    "### Recursive Feature Elimination (Regression)\n",
    "\n",
    "Implements a recursive solution, where in features are eliminated based on an ensemble evaluator."
   ]
  },
  {
   "cell_type": "code",
   "execution_count": 138,
   "metadata": {},
   "outputs": [],
   "source": [
    "class FeatureEliminator:\n",
    "    \"\"\"\n",
    "    This class is dedicated to housing logic pertaining to feature selection - retaining only labels which are considered\n",
    "    important.\n",
    "    \"\"\"\n",
    "    def __init__(self, X_df, y_df):\n",
    "        \"\"\"\n",
    "        Class constructor.\n",
    "        :param X_df: (Pandas) Pandas feature matrix.\n",
    "        :param y_df: (Pandas) Pandas label matrix.\n",
    "        :return: None\n",
    "        \"\"\"\n",
    "        self.__X_df = X_df\n",
    "        self.__y_df = y_df\n",
    "    \n",
    "    def rfe_selector(self, test_split=.4, optimum_feature_count=0, model=None, parallel_degree=1):\n",
    "        \"\"\"\n",
    "        Recursive Feature Elimination Function. Isolates and eliminated features one by one, up till the desired amount, starting\n",
    "        by features which are considered less important.\n",
    "        :param test_split:            (Float) Denotes training/testing data split.\n",
    "        :param optimum_feature_count: (Integer) Denotes the best estimated number of features to retain before a performance drop\n",
    "                                                is estimated.\n",
    "        :param parallel_degree:       (Integer) Denotes model training parallel degree.\n",
    "        :return: (List) This list is composed of boolean values, which correspond to the input feature column headers. True List \n",
    "                        values denote columns which have been retained. False values denote eliminated feature headers.\n",
    "        :return: (List) This list denotes feature rankings, which correspond to the input feature column headers. Values of '1',\n",
    "                        denote that features have been retained.\n",
    "        \"\"\"\n",
    "        X_df = self.__X_df.values\n",
    "        y_df = self.__y_df.values\n",
    "        \n",
    "        X_train, X_test, y_train, y_test = train_test_split(X_df, y_df, test_size=test_split)\n",
    "        print(X_train.shape)\n",
    "        print(X_test.shape)\n",
    "        print(y_train.shape)\n",
    "        print(y_test.shape)\n",
    "        if model == 0:\n",
    "            model = RandomForestRegressor(n_estimators=500,\n",
    "                                          n_jobs=parallel_degree)\n",
    "        elif model == 1:\n",
    "            model = GradientBoostingRegressor(n_estimators=500)\n",
    "\n",
    "        # create the RFE model and select N attributes\n",
    "        rfe_model = RFE(model, optimum_feature_count, step=1)\n",
    "        rfe_model = rfe_model.fit(X_train, y_train)\n",
    "\n",
    "        # summarize the selection of the attributes\n",
    "        print(rfe_model.support_)\n",
    "        print(rfe_model.ranking_)\n",
    "\n",
    "        # evaluate the model on testing set\n",
    "        pred_y = rfe_model.predict(X_test)\n",
    "        predictions = [round(value) for value in pred_y]\n",
    "        r2s = r2_score(y_test, predictions)\n",
    "        \n",
    "        return rfe_model.support_, rfe_model.ranking_\n",
    "    \n",
    "    def get_selected_features(self, column_mask):\n",
    "        \"\"\"\n",
    "        Retrieves features which have not been eliminated from the RFE function.\n",
    "        :param column_mask: (List) This list is composed of boolean values, which correspond to the input feature column headers. \n",
    "                                   True list values denote columns which have been retained. False values denote eliminated \n",
    "                                   feature headers. \n",
    "        :return: (Pandas) Pandas data matrix.\n",
    "        \"\"\"\n",
    "        recommended_columns = []\n",
    "        for i in range(len(self.__X_df.columns)):\n",
    "            if (column_mask[i]):\n",
    "                recommended_columns.append(self.__X_df.columns[i])\n",
    "                \n",
    "        return self.__X_df[recommended_columns]"
   ]
  },
  {
   "cell_type": "code",
   "execution_count": 139,
   "metadata": {},
   "outputs": [
    {
     "name": "stdout",
     "output_type": "stream",
     "text": [
      "(6, 301)\n",
      "(3, 301)\n",
      "(6,)\n",
      "(3,)\n",
      "[ True  True  True  True  True  True  True  True  True  True  True  True\n",
      "  True  True  True  True  True  True  True  True  True  True  True  True\n",
      "  True  True  True  True  True  True  True  True  True  True  True  True\n",
      "  True  True  True  True  True  True  True  True  True  True  True  True\n",
      "  True  True  True  True  True  True  True  True  True  True  True  True\n",
      "  True  True  True  True  True  True  True  True  True  True  True  True\n",
      "  True  True  True  True  True  True  True  True  True  True  True  True\n",
      "  True  True  True  True  True  True  True  True  True  True  True  True\n",
      "  True  True  True  True  True  True  True  True  True  True  True  True\n",
      "  True  True  True  True  True  True  True  True  True  True  True  True\n",
      "  True  True  True  True  True  True  True  True  True  True  True  True\n",
      "  True  True  True  True  True  True  True  True  True  True  True  True\n",
      "  True  True  True  True  True  True  True  True  True  True  True  True\n",
      "  True  True  True  True  True  True  True  True  True  True  True  True\n",
      "  True  True  True  True  True  True  True  True  True  True  True  True\n",
      "  True  True  True  True  True  True  True  True  True  True  True  True\n",
      "  True  True  True  True  True  True  True  True  True  True  True  True\n",
      "  True  True  True  True  True  True  True  True  True  True  True  True\n",
      "  True  True  True  True  True  True  True  True  True  True  True  True\n",
      "  True  True  True  True  True  True  True  True  True  True  True  True\n",
      "  True  True  True  True  True  True  True  True  True  True  True  True\n",
      "  True  True  True  True  True  True  True  True  True  True  True  True\n",
      "  True  True  True  True  True  True  True  True  True  True  True  True\n",
      "  True  True  True  True  True  True  True  True  True  True  True  True\n",
      "  True  True  True  True  True  True  True  True  True  True  True  True\n",
      "  True]\n",
      "[1 1 1 1 1 1 1 1 1 1 1 1 1 1 1 1 1 1 1 1 1 1 1 1 1 1 1 1 1 1 1 1 1 1 1 1 1\n",
      " 1 1 1 1 1 1 1 1 1 1 1 1 1 1 1 1 1 1 1 1 1 1 1 1 1 1 1 1 1 1 1 1 1 1 1 1 1\n",
      " 1 1 1 1 1 1 1 1 1 1 1 1 1 1 1 1 1 1 1 1 1 1 1 1 1 1 1 1 1 1 1 1 1 1 1 1 1\n",
      " 1 1 1 1 1 1 1 1 1 1 1 1 1 1 1 1 1 1 1 1 1 1 1 1 1 1 1 1 1 1 1 1 1 1 1 1 1\n",
      " 1 1 1 1 1 1 1 1 1 1 1 1 1 1 1 1 1 1 1 1 1 1 1 1 1 1 1 1 1 1 1 1 1 1 1 1 1\n",
      " 1 1 1 1 1 1 1 1 1 1 1 1 1 1 1 1 1 1 1 1 1 1 1 1 1 1 1 1 1 1 1 1 1 1 1 1 1\n",
      " 1 1 1 1 1 1 1 1 1 1 1 1 1 1 1 1 1 1 1 1 1 1 1 1 1 1 1 1 1 1 1 1 1 1 1 1 1\n",
      " 1 1 1 1 1 1 1 1 1 1 1 1 1 1 1 1 1 1 1 1 1 1 1 1 1 1 1 1 1 1 1 1 1 1 1 1 1\n",
      " 1 1 1 1 1]\n",
      "Index(['SNAP_ID', 'BATCHED IO (BOUND) VECTOR COUNT',\n",
      "       'BATCHED IO (FULL) VECTOR COUNT', 'BATCHED IO (SPACE) VECTOR COUNT',\n",
      "       'BATCHED IO BLOCK MISS COUNT', 'BATCHED IO BUFFER DEFRAG COUNT',\n",
      "       'BATCHED IO DOUBLE MISS COUNT', 'BATCHED IO SAME UNIT COUNT',\n",
      "       'BATCHED IO SINGLE BLOCK COUNT', 'BATCHED IO SLOW JUMP COUNT',\n",
      "       ...\n",
      "       'USER CALLS', 'USER COMMITS', 'USER LOGONS CUMULATIVE',\n",
      "       'USER LOGOUTS CUMULATIVE', 'USER ROLLBACKS',\n",
      "       'WORKAREA EXECUTIONS - MULTIPASS', 'WORKAREA EXECUTIONS - ONEPASS',\n",
      "       'WORKAREA EXECUTIONS - OPTIMAL', 'WORKAREA MEMORY ALLOCATED',\n",
      "       'WRITE CLONES CREATED IN FOREGROUND'],\n",
      "      dtype='object', name='STAT_NAME', length=301)\n",
      "Index(['SNAP_ID', 'BATCHED IO (BOUND) VECTOR COUNT',\n",
      "       'BATCHED IO (FULL) VECTOR COUNT', 'BATCHED IO (SPACE) VECTOR COUNT',\n",
      "       'BATCHED IO BLOCK MISS COUNT', 'BATCHED IO BUFFER DEFRAG COUNT',\n",
      "       'BATCHED IO DOUBLE MISS COUNT', 'BATCHED IO SAME UNIT COUNT',\n",
      "       'BATCHED IO SINGLE BLOCK COUNT', 'BATCHED IO SLOW JUMP COUNT',\n",
      "       ...\n",
      "       'USER CALLS', 'USER COMMITS', 'USER LOGONS CUMULATIVE',\n",
      "       'USER LOGOUTS CUMULATIVE', 'USER ROLLBACKS',\n",
      "       'WORKAREA EXECUTIONS - MULTIPASS', 'WORKAREA EXECUTIONS - ONEPASS',\n",
      "       'WORKAREA EXECUTIONS - OPTIMAL', 'WORKAREA MEMORY ALLOCATED',\n",
      "       'WRITE CLONES CREATED IN FOREGROUND'],\n",
      "      dtype='object', name='STAT_NAME', length=301)\n"
     ]
    },
    {
     "name": "stderr",
     "output_type": "stream",
     "text": [
      "C:\\ProgramData\\Anaconda3\\lib\\site-packages\\sklearn\\utils\\__init__.py:93: FutureWarning: Conversion of the second argument of issubdtype from `int` to `np.signedinteger` is deprecated. In future, it will be treated as `np.int32 == np.dtype(int).type`.\n",
      "  if np.issubdtype(mask.dtype, np.int):\n"
     ]
    }
   ],
   "source": [
    "if rfr_hist_sysstat_score > gbw_hist_sysstat_score:\n",
    "    rep_hist_sysstat_op = rfr_hist_sysstat_count\n",
    "    rep_hist_sysstat_model = 0\n",
    "else:\n",
    "    rep_hist_sysstat_op = gbw_hist_sysstat_count\n",
    "    rep_hist_sysstat_model = 1\n",
    "\n",
    "fe = FeatureEliminator(X_df=rep_hist_sysstat_df_pruned_norm,\n",
    "                       y_df=rep_hist_sysstat_df_pruned['SNAP_ID'])\n",
    "column_mask, column_rankings = fe.rfe_selector(test_split=test_split,\n",
    "                                               optimum_feature_count=rep_hist_sysstat_op,\n",
    "                                               model = rep_hist_sysstat_model,\n",
    "                                               parallel_degree=parallel_degree)\n",
    "print(rep_hist_sysstat_df_pruned_norm.columns)\n",
    "rep_hist_sysstat_df_pruned_norm = fe.get_selected_features(column_mask=column_mask)\n",
    "print(rep_hist_sysstat_df_pruned_norm.columns)"
   ]
  }
 ],
 "metadata": {
  "kernelspec": {
   "display_name": "Python 3",
   "language": "python",
   "name": "python3"
  },
  "language_info": {
   "codemirror_mode": {
    "name": "ipython",
    "version": 3
   },
   "file_extension": ".py",
   "mimetype": "text/x-python",
   "name": "python",
   "nbconvert_exporter": "python",
   "pygments_lexer": "ipython3",
   "version": "3.6.6"
  }
 },
 "nbformat": 4,
 "nbformat_minor": 2
}
