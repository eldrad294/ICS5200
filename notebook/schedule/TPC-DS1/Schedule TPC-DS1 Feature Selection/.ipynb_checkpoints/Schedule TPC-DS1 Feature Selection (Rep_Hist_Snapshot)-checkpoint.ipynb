{
 "cells": [
  {
   "cell_type": "markdown",
   "metadata": {},
   "source": [
    "# Schedule TPC-DS 1 Feature Selection (REP_HIST_SNAPSHOT)\n",
    "\n",
    "This notebook is dedicated to dataset profiling. In this notebook, feature selection techniques will be implemented so as to categorize which features belay the most information to address the problem at hand - Workload Prediction. Due to the vast feature space which have been gathered during a workload's execution, manual techniques at determining which are most detrimental is not sufficient. \n",
    "\n",
    "Therefore the following work puts emphasis on automated techniques so as to determine out of the vast feature space which are most important to base future models upon. "
   ]
  },
  {
   "cell_type": "code",
   "execution_count": 46,
   "metadata": {},
   "outputs": [],
   "source": [
    "# Module Import\n",
    "import pandas as pd\n",
    "import numpy as np\n",
    "import matplotlib.pyplot as plt\n",
    "from sklearn.feature_selection import SelectFromModel, SelectKBest, chi2, RFE\n",
    "from sklearn.preprocessing import RobustScaler, MinMaxScaler\n",
    "from sklearn.ensemble import RandomForestRegressor, GradientBoostingRegressor\n",
    "from sklearn.model_selection import train_test_split\n",
    "from sklearn import preprocessing\n",
    "from operator import itemgetter\n",
    "from sklearn.metrics import r2_score"
   ]
  },
  {
   "cell_type": "markdown",
   "metadata": {},
   "source": [
    "### Configuration Cell\n",
    "\n",
    "Tweak parametric changes from this cell to influence outcome of experiment\n",
    "* tpcds - Schema upon which to operate test\n",
    "* debug_mode - Determines whether to plot graphs or not, useful for development purposes\n",
    "* low_quartile_limit - Lower Quartile threshold to detect outliers\n",
    "* upper_quartile_limit - Upper Quartile threshold to detect outliers\n",
    "* test_split - Denotes which Data Split to operate under when it comes to training / validation\n",
    "* nrows - Number of rows to read from csv file\n",
    "* top_n_features - Number of top features to focus on\n",
    "* parallel_degree - Number of parallel threads to train models with"
   ]
  },
  {
   "cell_type": "code",
   "execution_count": 47,
   "metadata": {},
   "outputs": [],
   "source": [
    "# Experiment Config\n",
    "tpcds='TPCDS1' \n",
    "debug_mode=True\n",
    "low_quartile_limit = 0  \n",
    "upper_quartile_limit = 1\n",
    "test_split=.3 # \n",
    "nrows=None\n",
    "top_n_features=30\n",
    "parallel_degree=2"
   ]
  },
  {
   "cell_type": "markdown",
   "metadata": {},
   "source": [
    "### Read data from file into Pandas Dataframes"
   ]
  },
  {
   "cell_type": "code",
   "execution_count": 48,
   "metadata": {},
   "outputs": [
    {
     "name": "stderr",
     "output_type": "stream",
     "text": [
      "C:\\ProgramData\\Anaconda3\\lib\\site-packages\\IPython\\core\\interactiveshell.py:2785: DtypeWarning: Columns (14) have mixed types. Specify dtype option on import or set low_memory=False.\n",
      "  interactivity=interactivity, compiler=compiler, result=result)\n"
     ]
    }
   ],
   "source": [
    "# Root path\n",
    "root_dir = 'C:/Users/gabriel.sammut/University/Data_ICS5200/Schedule/' + tpcds\n",
    "#root_dir = 'D:/Projects/Datagenerated_ICS5200/Schedule/' + tpcds\n",
    "\n",
    "# Open Data\n",
    "rep_hist_snapshot_path = root_dir + '/rep_hist_snapshot.csv'\n",
    "\n",
    "rep_hist_snapshot_df = pd.read_csv(rep_hist_snapshot_path,nrows=nrows)\n",
    "\n",
    "def prettify_header(headers):\n",
    "    \"\"\"\n",
    "    Cleans header list from unwated character strings\n",
    "    \"\"\"\n",
    "    header_list = []\n",
    "    [header_list.append(header.replace(\"(\",\"\").replace(\")\",\"\").replace(\"'\",\"\").replace(\",\",\"\")) for header in headers]\n",
    "    return header_list\n",
    "\n",
    "rep_hist_snapshot_df.columns = prettify_header(rep_hist_snapshot_df.columns.values)"
   ]
  },
  {
   "cell_type": "markdown",
   "metadata": {},
   "source": [
    "# Dataset Description\n",
    "\n",
    "The correlation of resources consumed (y) per snapshot (X) define our feature space. Since the objective here is to attempt to predict what resources will be incurred ahead of time, the problem can be defined as a number of questions:\n",
    "\n",
    "* Q: What resources can I predict to be in usage at point N in time?\n",
    "* Q: What resources should I be predicting that accurately portray a schedule's workload?\n",
    "* Q: What knowledge/data do I have ahead of time which I can use to base my predictions off?\n",
    "\n",
    "Due to the vast feature space in the available metrics monitored and captured during a workload's execution, it is important to rank which attribute is most beneficial than others. Additionally, it is important to analyze such features individually, and considerate of other features in two types of analysis:\n",
    "\n",
    "* Univariate Analysis\n",
    "* Multivariate Analysis\n",
    "\n",
    "Furthermore, multiple types of feature ranking / analysis techniques ara available, amongst which will be considered:\n",
    "\n",
    "* Filter Methods\n",
    "* Wrapper Methods\n",
    "* Embedded Methods"
   ]
  },
  {
   "cell_type": "markdown",
   "metadata": {},
   "source": [
    "# Data Preprocessing\n",
    "\n",
    "We apply a number of preprocessing techniques to the presented dataframes, particularly to normalize and/or scale feature vectors into a more suitable representation for downstream estimators:\n",
    "\n",
    "Relative Links:\n",
    "* http://scikit-learn.org/stable/modules/preprocessing.html\n",
    "* https://machinelearningmastery.com/improve-model-accuracy-with-data-pre-processing/\n",
    "* https://machinelearningmastery.com/normalize-standardize-time-series-data-python/"
   ]
  },
  {
   "cell_type": "code",
   "execution_count": 49,
   "metadata": {
    "scrolled": true
   },
   "outputs": [
    {
     "name": "stdout",
     "output_type": "stream",
     "text": [
      "\n",
      "\n",
      "Table [REP_HIST_SNAPSHOT] - (1589392, 90)\n"
     ]
    }
   ],
   "source": [
    "rep_hist_snapshot_headers = rep_hist_snapshot_df.columns\n",
    "print('\\n\\nTable [REP_HIST_SNAPSHOT] - ' + str(rep_hist_snapshot_df.shape))"
   ]
  },
  {
   "cell_type": "markdown",
   "metadata": {},
   "source": [
    "### Checking for NaN Values\n",
    "\n",
    "Checking dataframes for potential missing values/data:"
   ]
  },
  {
   "cell_type": "code",
   "execution_count": 50,
   "metadata": {
    "scrolled": true
   },
   "outputs": [
    {
     "name": "stdout",
     "output_type": "stream",
     "text": [
      "Table REP_HIST_SNAPSHOT: ['OPTIMIZER_COST', 'OPTIMIZER_MODE', 'OPTIMIZER_ENV_HASH_VALUE', 'LOADED_VERSIONS', 'MODULE', 'ACTION', 'SQL_PROFILE', 'PARSING_SCHEMA_ID', 'PARSING_SCHEMA_NAME', 'PARSING_USER_ID', 'FETCHES_TOTAL', 'FETCHES_DELTA', 'END_OF_FETCH_COUNT_TOTAL', 'END_OF_FETCH_COUNT_DELTA', 'SORTS_TOTAL', 'SORTS_DELTA', 'EXECUTIONS_TOTAL', 'EXECUTIONS_DELTA', 'PX_SERVERS_EXECS_TOTAL', 'PX_SERVERS_EXECS_DELTA', 'LOADS_TOTAL', 'LOADS_DELTA', 'INVALIDATIONS_TOTAL', 'INVALIDATIONS_DELTA', 'PARSE_CALLS_TOTAL', 'DISK_READS_TOTAL', 'DISK_READS_DELTA', 'BUFFER_GETS_TOTAL', 'BUFFER_GETS_DELTA', 'ROWS_PROCESSED_TOTAL', 'ROWS_PROCESSED_DELTA', 'CPU_TIME_TOTAL', 'ELAPSED_TIME_TOTAL', 'IOWAIT_TOTAL', 'IOWAIT_DELTA', 'CLWAIT_TOTAL', 'CLWAIT_DELTA', 'APWAIT_TOTAL', 'APWAIT_DELTA', 'CCWAIT_TOTAL', 'CCWAIT_DELTA', 'DIRECT_WRITES_TOTAL', 'DIRECT_WRITES_DELTA', 'PLSEXEC_TIME_TOTAL', 'PLSEXEC_TIME_DELTA', 'JAVEXEC_TIME_TOTAL', 'JAVEXEC_TIME_DELTA', 'IO_OFFLOAD_ELIG_BYTES_TOTAL', 'IO_OFFLOAD_ELIG_BYTES_DELTA', 'IO_INTERCONNECT_BYTES_TOTAL', 'IO_INTERCONNECT_BYTES_DELTA', 'PHYSICAL_READ_REQUESTS_TOTAL', 'PHYSICAL_READ_REQUESTS_DELTA', 'PHYSICAL_READ_BYTES_TOTAL', 'PHYSICAL_READ_BYTES_DELTA', 'PHYSICAL_WRITE_REQUESTS_TOTAL', 'PHYSICAL_WRITE_REQUESTS_DELTA', 'PHYSICAL_WRITE_BYTES_TOTAL', 'PHYSICAL_WRITE_BYTES_DELTA', 'OPTIMIZED_PHYSICAL_READS_TOTAL', 'OPTIMIZED_PHYSICAL_READS_DELTA', 'CELL_UNCOMPRESSED_BYTES_TOTAL', 'CELL_UNCOMPRESSED_BYTES_DELTA', 'IO_OFFLOAD_RETURN_BYTES_TOTAL', 'IO_OFFLOAD_RETURN_BYTES_DELTA', 'BIND_DATA', 'FLAG']\n",
      "\n",
      "\n"
     ]
    }
   ],
   "source": [
    "def get_na_columns(df, headers):\n",
    "    \"\"\"\n",
    "    Return columns which consist of NAN values\n",
    "    \"\"\"\n",
    "    na_list = []\n",
    "    for head in headers:\n",
    "        if df[head].isnull().values.any():\n",
    "            na_list.append(head)\n",
    "    return na_list\n",
    "\n",
    "print(\"Table REP_HIST_SNAPSHOT: \" + str(get_na_columns(df=rep_hist_snapshot_df,headers=rep_hist_snapshot_headers)) + \"\\n\\n\")\n",
    "\n",
    "def fill_na(df):\n",
    "    \"\"\"\n",
    "    Replaces NA columns with 0s\n",
    "    \"\"\"\n",
    "    return df.fillna(0)\n",
    "\n",
    "# Populating NaN values with amount '0'\n",
    "rep_hist_snapshot_df = fill_na(df=rep_hist_snapshot_df)"
   ]
  },
  {
   "cell_type": "markdown",
   "metadata": {},
   "source": [
    "### Checking for Negative Values\n",
    "\n",
    "A function which retrieves a count per column for nay negative values it might contain"
   ]
  },
  {
   "cell_type": "code",
   "execution_count": 51,
   "metadata": {
    "scrolled": false
   },
   "outputs": [
    {
     "name": "stdout",
     "output_type": "stream",
     "text": [
      "---------------WITH NEGATIVE VALUES---------------\n",
      "Table REP_HIST_SNAPSHOT: [['IO_OFFLOAD_RETURN_BYTES_TOTAL', 43241], ['IO_OFFLOAD_RETURN_BYTES_DELTA', 970]]\n",
      "\n",
      "\n",
      "\n",
      "\n",
      "---------------WITHOUT NEGATIVE VALUES---------------\n",
      "Table REP_HIST_SNAPSHOT: []\n",
      "\n",
      "\n"
     ]
    }
   ],
   "source": [
    "class NegativeHandler:\n",
    "    \"\"\"\n",
    "    This class contains logic pertaining to handling of negative values.\n",
    "    \"\"\"\n",
    "\n",
    "    def __init__(self, df, headers):\n",
    "        \"\"\"\n",
    "        Class constructor.\n",
    "        :param df:      (Pandas) Data matrix containing data.\n",
    "        :param headers: (List) List of headers which will be evaluated for negative values.\n",
    "        :return: None\n",
    "        \"\"\"\n",
    "        self.__df = df\n",
    "        self.__headers = headers\n",
    "\n",
    "    def count_neg_df(self):\n",
    "        \"\"\"\n",
    "        Return columns with respective negative value count.\n",
    "        :return: (List) Retrieves list of row positions denoting negative occurance.\n",
    "        \"\"\"\n",
    "        neg_list = []\n",
    "        for head in self.__headers:\n",
    "            count = 0\n",
    "            try:\n",
    "                count = sum(n < 0 for n in self.__df[head].values.flatten())\n",
    "            except Exception:\n",
    "                pass\n",
    "                #print('Non numeric column [' + head + ']')\n",
    "            if count > 0:\n",
    "                neg_list.append([head,count])\n",
    "        return neg_list\n",
    "\n",
    "    def fill_neg(self):\n",
    "        \"\"\"\n",
    "        Sets any data anomilies resulting in negative values to 0\n",
    "        :return: (Pandas) Dataframe with ammended negative values.\n",
    "        \"\"\"\n",
    "        headers = self.count_neg_df()\n",
    "        df = self.__df\n",
    "        for head in headers:\n",
    "            try:\n",
    "                df[df[head[0]] < 0] = 0\n",
    "            except Exception:\n",
    "                pass\n",
    "                #print('Non numeric column [' + head + ']')\n",
    "        return df\n",
    "\n",
    "nh = NegativeHandler(df=rep_hist_snapshot_df,\n",
    "                     headers=rep_hist_snapshot_headers)\n",
    "    \n",
    "# Check For Negative Values within dataframes\n",
    "print('---------------WITH NEGATIVE VALUES---------------')\n",
    "print(\"Table REP_HIST_SNAPSHOT: \" + str(nh.count_neg_df()) + \"\\n\\n\")\n",
    "\n",
    "# Replace Negative Values with a minimal threshold of 0\n",
    "rep_hist_snapshot_df = nh.fill_neg()\n",
    "\n",
    "# Check For Negative Values within dataframes\n",
    "print('\\n\\n---------------WITHOUT NEGATIVE VALUES---------------')\n",
    "print(\"Table REP_HIST_SNAPSHOT: \" + str(nh.count_neg_df()) + \"\\n\\n\")"
   ]
  },
  {
   "cell_type": "markdown",
   "metadata": {},
   "source": [
    "### Redundant Feature Removal\n",
    "\n",
    "In this step, redundant features are dropped. Features are considered redundant if exhibit a standard devaition of 0 (meaning no change in value)."
   ]
  },
  {
   "cell_type": "code",
   "execution_count": 52,
   "metadata": {},
   "outputs": [
    {
     "name": "stdout",
     "output_type": "stream",
     "text": [
      "\n",
      "Shape before changes: [(1589392, 90)]\n",
      "Shape after changes: [(1589392, 77)]\n",
      "Dropped a total [13]\n"
     ]
    }
   ],
   "source": [
    "class DropFlatline:\n",
    "\n",
    "    @staticmethod\n",
    "    def drop_flatline_columns(df):\n",
    "        \"\"\"\n",
    "        This function removes columns with a flat standard deviation of 0.\n",
    "        \"\"\"\n",
    "        columns = df.columns\n",
    "        flatline_features = []\n",
    "        for i in range(len(columns)):\n",
    "            try:\n",
    "                std = df[columns[i]].std()\n",
    "                if std == 0:\n",
    "                    flatline_features.append(columns[i])\n",
    "            except:\n",
    "                pass\n",
    "        #\n",
    "        #print('Features which are considered flatline:\\n')\n",
    "        #for col in flatline_features:\n",
    "        #    print(col)\n",
    "        print('\\nShape before changes: [' + str(df.shape) + ']')\n",
    "        df = df.drop(columns=flatline_features)\n",
    "        print('Shape after changes: [' + str(df.shape) + ']')\n",
    "        print('Dropped a total [' + str(len(flatline_features)) + ']')\n",
    "        return df\n",
    "\n",
    "rep_hist_snapshot_df = DropFlatline.drop_flatline_columns(df=rep_hist_snapshot_df)\n",
    "rep_hist_snapshot_headers = rep_hist_snapshot_df.columns"
   ]
  },
  {
   "cell_type": "markdown",
   "metadata": {},
   "source": [
    "## Visualizing Feature Distribution & Skewness\n",
    "\n",
    "In order to decide between a normalization strategy, it is important to understand the underlying data spread. Understanding of dataset mean, variance, skewness on a per column/feature basis helps determine whether a standardization or normalization strategy should be utilized on the datasets.\n",
    "\n",
    "### Plotting Data Distribution\n",
    "\n",
    "To better decide which normalization technique ought to be utilized for the technique at hand, a number of feature columns will be plotted as histograms to better convey the distribution spread."
   ]
  },
  {
   "cell_type": "code",
   "execution_count": 53,
   "metadata": {
    "scrolled": true
   },
   "outputs": [],
   "source": [
    "class Visualizer:\n",
    "    \"\"\"\n",
    "    This class contains a number of methods dedicated to plotting the underlying data.\n",
    "    \"\"\"\n",
    "    def __init__(self, df=None, tpc_type=None, table=None):\n",
    "        \"\"\"\n",
    "        Constructor method.\n",
    "        :param df:             (Pandas) Data matrix.\n",
    "        :param tpc_type:       (String) TPC type, used for plot title purposes.\n",
    "        :param table:          (String) Denotes which table is being access, used for plot title/label purposes.\n",
    "        :return: None\n",
    "        \"\"\"\n",
    "        self.__df = df\n",
    "        self.__tpc_type = tpc_type\n",
    "        self.__table = table\n",
    "        \n",
    "    def plot_hist(self, bin_size=10, feature_column=None):\n",
    "        \"\"\"\n",
    "        Plots histogram distribution, split into a number of buckets.\n",
    "        :param bin_size: (Integer) Denotes number of histogram buckets to split data into.\n",
    "        :param feature_column: (String) Denotes which column to plot.\n",
    "        :return: None\n",
    "        \"\"\"\n",
    "        df = self.__df\n",
    "\n",
    "        try:\n",
    "            df['SNAP_ID'] = df['SNAP_ID'].astype(float)\n",
    "            df[feature_column] = df[feature_column].astype(float)\n",
    "\n",
    "            max_val = df[feature_column].max()\n",
    "            start_snap, end_snap = int(df['SNAP_ID'].min()), int(df['SNAP_ID'].max())\n",
    "\n",
    "            df[feature_column].hist(bins=10,figsize=(12,8))\n",
    "            plt.ylabel(feature_column)\n",
    "            plt.xlabel('Bin Ranges Of ' + str(int(max_val/bin_size)))\n",
    "            plt.title(self.__tpc_type + ' Table ' + self.__table.upper() + '.' + str(feature_column) + \" between \" + str(start_snap) + \" - \" + str(end_snap))\n",
    "            plt.show()\n",
    "        except Exception:\n",
    "            print('Could not plot column: ' + feature_column)\n",
    "\n",
    "    def plot_scatter(self, feature_column=None):\n",
    "        \"\"\"\n",
    "        Plots scatter plots vs SNAP_ID.\n",
    "        :param feature_column: (String) Denotes which column to plot.\n",
    "        :return: None\n",
    "        \"\"\"\n",
    "        df = self.__df\n",
    "\n",
    "        try:\n",
    "            df['SNAP_ID'] = df['SNAP_ID'].astype(int)\n",
    "            df[feature_column] = df[feature_column].astype(int)\n",
    "            start_snap, end_snap = int(df['SNAP_ID'].min()), int(df['SNAP_ID'].max())\n",
    "\n",
    "            df.plot.scatter(x='SNAP_ID',\n",
    "                            y=feature_column,\n",
    "                            figsize=(12,8))\n",
    "            plt.ylabel(feature_column)\n",
    "            plt.xlabel('SNAP ID')\n",
    "            plt.title(self.__tpc_type + ' Table ' + self.__table.upper() + '.' + str(feature_column) + \" between \" + str(start_snap) + \" - \" + str(end_snap))\n",
    "            plt.show()\n",
    "        except Exception:\n",
    "            print('Could not plot column: ' + feature_column)\n",
    "\n",
    "    def plot_boxplot(self, feature_columns=None):\n",
    "        \"\"\"\n",
    "        Plots quartile plots to estimate mean and sigma (std dev).\n",
    "        :param feature_colums: (List) List of feature columns. Overrides parameter used in class constructor.\n",
    "        :return: None\n",
    "        \"\"\"\n",
    "        df = self.__df\n",
    "\n",
    "        try:\n",
    "            for feature_column in feature_columns:\n",
    "                df[feature_column] = df[feature_column].astype(int)\n",
    "            df.boxplot(column=feature_columns, figsize=(12,8), grid=True)\n",
    "            plt.title(self.__tpc_type + ' ' + str(feature_columns))\n",
    "            plt.show()\n",
    "        except Exception:\n",
    "            print('Could not plot column: ' + feature_column)\n",
    "\n",
    "vis = Visualizer(df=rep_hist_snapshot_df, \n",
    "                 tpc_type=tpcds, \n",
    "                 table='rep_hist_snapshot')\n",
    "\n",
    "if debug_mode is False:\n",
    "    \n",
    "    # Plotting Histograms of data distribution\n",
    "    for header in rep_hist_snapshot_headers:\n",
    "        print('REP_HIST_SNAPSHOT - ' + header + ' - OUTLIERS HISTOGRAM')\n",
    "        vis.plot_hist(bin_size=10, feature_column=header)\n",
    "    \n",
    "    # Plotting Scatter Plots of data distribution\n",
    "    for header in rep_hist_snapshot_headers:\n",
    "        print('REP_HIST_SNAPSHOT - ' + header + ' - OUTLIERS SCATTER')\n",
    "        vis.plot_scatter(feature_column=header)\n",
    "    \n",
    "    # Plotting Box Plots of data distribution\n",
    "    whisker_boxes_per_plot = 3\n",
    "    for i in range(whisker_boxes_per_plot, len(rep_hist_snapshot_headers), whisker_boxes_per_plot):\n",
    "        print('REP_HIST_SNAPSHOT - ' + header + ' - OUTLIERS WHISKER')\n",
    "        vis.plot_boxplot(feature_columns=rep_hist_snapshot_headers[i-whisker_boxes_per_plot:i])"
   ]
  },
  {
   "cell_type": "markdown",
   "metadata": {},
   "source": [
    "### Outlier Handling\n",
    "\n",
    "https://machinelearningmastery.com/how-to-identify-outliers-in-your-data/\n",
    "\n",
    "As can be appreciated from the previous plots, data is heavily skewed on particular (smallest) bins. This skew in the plotted histograms is a result of data point outliers - these need to be evaluated and removed if neccessary.\n",
    "\n",
    "Following the 3 Standard Deviation Rule, we can categorize our dataset into subsets consisting of the following ranges:\n",
    "* 0     - 68.27%\n",
    "* 68.28 - 95.45%\n",
    "* 95.46 - 99.73%\n",
    "* 99.74 - 100%\n",
    "\n",
    "It should be mentioned, that given the time series nature of the dataset, it is not a safe assumption to ignore outliers. By training respective models on outlier insensitive dataset, we would invite a potential problem, which risks blinding any models we train to future predicted spikes of activity."
   ]
  },
  {
   "cell_type": "code",
   "execution_count": 54,
   "metadata": {
    "scrolled": true
   },
   "outputs": [
    {
     "name": "stdout",
     "output_type": "stream",
     "text": [
      "could not convert string to float: \n",
      "'CLWAIT_TOTAL'\n",
      "'CLWAIT_DELTA'\n",
      "'JAVEXEC_TIME_TOTAL'\n",
      "'JAVEXEC_TIME_DELTA'\n",
      "'IO_OFFLOAD_ELIG_BYTES_TOTAL'\n",
      "'IO_OFFLOAD_ELIG_BYTES_DELTA'\n",
      "'OPTIMIZED_PHYSICAL_READS_TOTAL'\n",
      "'OPTIMIZED_PHYSICAL_READS_DELTA'\n",
      "'CELL_UNCOMPRESSED_BYTES_TOTAL'\n",
      "'CELL_UNCOMPRESSED_BYTES_DELTA'\n",
      "\n",
      "\n",
      "DATAFRAMES WITH OUTLIERS\n",
      "(1589392, 77)\n",
      "----------------------------\n",
      "could not convert string to float: \n",
      "'CLWAIT_TOTAL'\n",
      "'CLWAIT_DELTA'\n",
      "'JAVEXEC_TIME_TOTAL'\n",
      "'JAVEXEC_TIME_DELTA'\n",
      "'IO_OFFLOAD_ELIG_BYTES_TOTAL'\n",
      "'IO_OFFLOAD_ELIG_BYTES_DELTA'\n",
      "'OPTIMIZED_PHYSICAL_READS_TOTAL'\n",
      "'OPTIMIZED_PHYSICAL_READS_DELTA'\n",
      "'CELL_UNCOMPRESSED_BYTES_TOTAL'\n",
      "'CELL_UNCOMPRESSED_BYTES_DELTA'\n",
      "\n",
      "\n",
      "OUTLIERS\n",
      "0\n",
      "----------------------------\n",
      "could not convert string to float: \n",
      "'CLWAIT_TOTAL'\n",
      "'CLWAIT_DELTA'\n",
      "'JAVEXEC_TIME_TOTAL'\n",
      "'JAVEXEC_TIME_DELTA'\n",
      "'IO_OFFLOAD_ELIG_BYTES_TOTAL'\n",
      "'IO_OFFLOAD_ELIG_BYTES_DELTA'\n",
      "'OPTIMIZED_PHYSICAL_READS_TOTAL'\n",
      "'OPTIMIZED_PHYSICAL_READS_DELTA'\n",
      "'CELL_UNCOMPRESSED_BYTES_TOTAL'\n",
      "'CELL_UNCOMPRESSED_BYTES_DELTA'\n",
      "\n",
      "\n",
      "DATAFRAMES WITHOUT OUTLIERS\n",
      "(1589392, 77)\n",
      "\n",
      "\n",
      "First 20 record sample before outliers:\n",
      "0                 0\n",
      "1     06dymzb481vnd\n",
      "2     0aq14dznn91rg\n",
      "3                 0\n",
      "4     0ga8vk4nftz45\n",
      "5     13a9r2xkx1bxb\n",
      "6     13ys8ux8xvrbm\n",
      "7                 0\n",
      "8     1jhyrdp21f2q6\n",
      "9     1pv23p59mjs0v\n",
      "10                0\n",
      "11    1u97hwfu7dcmz\n",
      "12                0\n",
      "13                0\n",
      "14    2hnpu9m861609\n",
      "15    2pz0tqbv91m11\n",
      "16    2wuhkcaz4uhs5\n",
      "17    33vw5865cwyyn\n",
      "18    38243c4tqrkxm\n",
      "19    39nyc1pykjg41\n",
      "Name: SQL_ID, dtype: object\n",
      "---------------------------------------\n",
      "First 20 record sample after outliers:\n",
      "0                 0\n",
      "1     06dymzb481vnd\n",
      "2     0aq14dznn91rg\n",
      "3                 0\n",
      "4     0ga8vk4nftz45\n",
      "5     13a9r2xkx1bxb\n",
      "6     13ys8ux8xvrbm\n",
      "7                 0\n",
      "8     1jhyrdp21f2q6\n",
      "9     1pv23p59mjs0v\n",
      "10                0\n",
      "11    1u97hwfu7dcmz\n",
      "12                0\n",
      "13                0\n",
      "14    2hnpu9m861609\n",
      "15    2pz0tqbv91m11\n",
      "16    2wuhkcaz4uhs5\n",
      "17    33vw5865cwyyn\n",
      "18    38243c4tqrkxm\n",
      "19    39nyc1pykjg41\n",
      "Name: SQL_ID, dtype: object\n",
      "---------------------------------------\n"
     ]
    }
   ],
   "source": [
    "class OutlierHandling:\n",
    "    \"\"\"\n",
    "    This class handles outlier detection and removal methods.\n",
    "    \"\"\"\n",
    "    def __init__(self, df, low_quartile_limit=.01,upper_quartile_limit=.99, headers=None):\n",
    "        \"\"\"\n",
    "        Constructor method.\n",
    "        :param df:                   (Pandas) Dataframe consisting of input features to be pruned of outliers.\n",
    "        :param low_quartile_limit:   (Float) Lower percentage threshold for removal of outliers.\n",
    "        :param upper_quartile_limit: (Float) Upper percentage threshold for removal of outliers.\n",
    "        :param headers:              (List) List of column headers to analyze and prune outliers.\n",
    "        :return: None\n",
    "        \"\"\"\n",
    "        self.__df = df\n",
    "        self.__low_quartile_limit = low_quartile_limit\n",
    "        self.__upper_quartile_limit = upper_quartile_limit\n",
    "        self.__headers= headers\n",
    "        \n",
    "    def get_outliers(self):\n",
    "        \"\"\"\n",
    "        Detect and return which rows are considered outliers within the dataset, determined by :quartile_limit (99%)\n",
    "        :return: (List) A list denoting row positions of detected outliers.\n",
    "        \"\"\"\n",
    "        outlier_rows = [] # This list of lists consists of elements of the following notation [column,rowid]\n",
    "        df = self.__df\n",
    "        for header in self.__headers:\n",
    "            try:\n",
    "                df[header] = df[header].astype(float)\n",
    "                q = df[header].quantile(self.__upper_quartile_limit)\n",
    "                series_row = (df[df[header] > q].index)\n",
    "                for id in list(np.array(series_row)):\n",
    "                    outlier_rows.append([header,id])\n",
    "                q = df[header].quantile(self.__low_quartile_limit)\n",
    "                series_row = (df[df[header] < q].index)\n",
    "                for id in list(np.array(series_row)):\n",
    "                    outlier_rows.append([header,id])\n",
    "            except Exception as e:\n",
    "                print(str(e))\n",
    "\n",
    "        unique_ids = []\n",
    "        unique_outlier_rows = []\n",
    "\n",
    "        for col, rowid in outlier_rows:\n",
    "            if rowid not in unique_ids:\n",
    "                unique_outlier_rows.append([col,rowid])\n",
    "                unique_ids.append(rowid)\n",
    "        return unique_outlier_rows\n",
    "\n",
    "    def remove_outliers(self):\n",
    "        \"\"\"\n",
    "        Remove rows which are considered outliers within the dataset, determined by :quartile_limit (99%).\n",
    "        :return: (Pandas) Dataframe with pruned outliers.\n",
    "        \"\"\"\n",
    "        df = self.__df\n",
    "        length_before = len(df)\n",
    "        outliers_index = []\n",
    "        for header in self.__headers:\n",
    "            try:\n",
    "                df[header] = df[header].astype(float)\n",
    "                q = df[header].quantile(self.__upper_quartile_limit)\n",
    "                outliers_index.append(list(np.array(df[df[header] > q].index)))\n",
    "                q = df[header].quantile(self.__low_quartile_limit)\n",
    "                outliers_index.append(list(np.array(df[df[header] < q].index)))\n",
    "            except Exception as e:\n",
    "                print(str(e))\n",
    "        #flat_outliers_index = [item for sublist in l for item in outliers_index]\n",
    "        flat_outliers_index = [item for sublist in outliers_index for item in sublist]\n",
    "        outliers_index = list(set(flat_outliers_index))\n",
    "        df = df.drop(outliers_index)\n",
    "        return df\n",
    "\n",
    "# Defining which columns will be exposed to outliers\n",
    "rep_hist_snapshot_header_outliers = ['PLAN_HASH_VALUE',\n",
    "                                    'OPTIMIZER_COST',\n",
    "                                    'OPTIMIZER_ENV_HASH_VALUE',\n",
    "                                    'SHARABLE_MEM',\n",
    "                                    'LOADED_VERSIONS',\n",
    "                                    'VERSION_COUNT',\n",
    "                                    'FORCE_MATCHING_SIGNATURE',\n",
    "                                    'PARSING_SCHEMA_ID',\n",
    "                                    'PARSING_USER_ID',\n",
    "                                    'FETCHES_TOTAL',\n",
    "                                    'FETCHES_DELTA',\n",
    "                                    'END_OF_FETCH_COUNT_TOTAL',\n",
    "                                    'END_OF_FETCH_COUNT_DELTA',\n",
    "                                    'SORTS_TOTAL',\n",
    "                                    'SORTS_DELTA',\n",
    "                                    'EXECUTIONS_TOTAL',\n",
    "                                    'EXECUTIONS_DELTA',\n",
    "                                    'PX_SERVERS_EXECS_TOTAL',\n",
    "                                    'PX_SERVERS_EXECS_DELTA',\n",
    "                                    'LOADS_TOTAL',\n",
    "                                    'LOADS_DELTA',\n",
    "                                    'INVALIDATIONS_TOTAL',\n",
    "                                    'INVALIDATIONS_DELTA',\n",
    "                                    'PARSE_CALLS_TOTAL',\n",
    "                                    'PARSE_CALLS_DELTA',\n",
    "                                    'DISK_READS_TOTAL',\n",
    "                                    'DISK_READS_DELTA',\n",
    "                                    'BUFFER_GETS_TOTAL',\n",
    "                                    'BUFFER_GETS_DELTA',\n",
    "                                    'ROWS_PROCESSED_TOTAL',\n",
    "                                    'ROWS_PROCESSED_DELTA',\n",
    "                                    'CPU_TIME_TOTAL',\n",
    "                                    'CPU_TIME_DELTA',\n",
    "                                    'ELAPSED_TIME_TOTAL',\n",
    "                                    'ELAPSED_TIME_DELTA',\n",
    "                                    'IOWAIT_TOTAL',\n",
    "                                    'IOWAIT_DELTA',\n",
    "                                    'CLWAIT_TOTAL',\n",
    "                                    'CLWAIT_DELTA',\n",
    "                                    'APWAIT_TOTAL',\n",
    "                                    'APWAIT_DELTA',\n",
    "                                    'CCWAIT_TOTAL',\n",
    "                                    'CCWAIT_DELTA',\n",
    "                                    'DIRECT_WRITES_TOTAL',\n",
    "                                    'DIRECT_WRITES_DELTA',\n",
    "                                    'PLSEXEC_TIME_TOTAL',\n",
    "                                    'PLSEXEC_TIME_DELTA',\n",
    "                                    'JAVEXEC_TIME_TOTAL',\n",
    "                                    'JAVEXEC_TIME_DELTA',\n",
    "                                    'IO_OFFLOAD_ELIG_BYTES_TOTAL',\n",
    "                                    'IO_OFFLOAD_ELIG_BYTES_DELTA',\n",
    "                                    'IO_INTERCONNECT_BYTES_TOTAL',\n",
    "                                    'IO_INTERCONNECT_BYTES_DELTA',\n",
    "                                    'PHYSICAL_READ_REQUESTS_TOTAL',\n",
    "                                    'PHYSICAL_READ_REQUESTS_DELTA',\n",
    "                                    'PHYSICAL_READ_BYTES_TOTAL',\n",
    "                                    'PHYSICAL_READ_BYTES_DELTA',\n",
    "                                    'PHYSICAL_WRITE_REQUESTS_TOTAL',\n",
    "                                    'PHYSICAL_WRITE_REQUESTS_DELTA',\n",
    "                                    'PHYSICAL_WRITE_BYTES_TOTAL',\n",
    "                                    'PHYSICAL_WRITE_BYTES_DELTA',\n",
    "                                    'OPTIMIZED_PHYSICAL_READS_TOTAL',\n",
    "                                    'OPTIMIZED_PHYSICAL_READS_DELTA',\n",
    "                                    'CELL_UNCOMPRESSED_BYTES_TOTAL',\n",
    "                                    'CELL_UNCOMPRESSED_BYTES_DELTA',\n",
    "                                    'IO_OFFLOAD_RETURN_BYTES_TOTAL',\n",
    "                                    'IO_OFFLOAD_RETURN_BYTES_DELTA']\n",
    "\n",
    "#Printing outliers to screen\n",
    "oh = OutlierHandling(df=rep_hist_snapshot_df,\n",
    "                     headers=rep_hist_snapshot_header_outliers,\n",
    "                     upper_quartile_limit=upper_quartile_limit,\n",
    "                     low_quartile_limit=low_quartile_limit)\n",
    "outliers = oh.get_outliers()\n",
    "for header, loc in outliers:\n",
    "    print(str(loc+2) + \" - \" + str(rep_hist_snapshot_df.iloc[loc]['SQL_ID']) + \" - \" + str(header) + \" - \" + str(rep_hist_snapshot_df.iloc[loc][header]))\n",
    "\n",
    "# Printing dataframe before adjustments\n",
    "print('\\n\\nDATAFRAMES WITH OUTLIERS')\n",
    "print(rep_hist_snapshot_df.shape)\n",
    "print('----------------------------')\n",
    "\n",
    "#Printing outlier length to screen\n",
    "rep_hist_snapshot_df_outliers = oh.get_outliers()\n",
    "print('\\n\\nOUTLIERS')\n",
    "print(len(rep_hist_snapshot_df_outliers))\n",
    "print('----------------------------')\n",
    "\n",
    "# Dropping Outliers\n",
    "rep_hist_snapshot_df_pruned = oh.remove_outliers()\n",
    "print('\\n\\nDATAFRAMES WITHOUT OUTLIERS')\n",
    "print(rep_hist_snapshot_df_pruned.shape)\n",
    "\n",
    "print('\\n\\nFirst 20 record sample before outliers:')\n",
    "print(rep_hist_snapshot_df.iloc[0:20]['SQL_ID'])\n",
    "print('---------------------------------------')\n",
    "print('First 20 record sample after outliers:')\n",
    "print(rep_hist_snapshot_df_pruned.iloc[0:20]['SQL_ID'])\n",
    "print('---------------------------------------')"
   ]
  },
  {
   "cell_type": "markdown",
   "metadata": {},
   "source": [
    "### Plotting data distribution without outliers\n",
    "\n",
    "Plotting metrics against SNAP_ID, without outliers."
   ]
  },
  {
   "cell_type": "code",
   "execution_count": 55,
   "metadata": {
    "scrolled": true
   },
   "outputs": [],
   "source": [
    "if debug_mode is False:\n",
    "    \n",
    "    # Plotting Histograms without Outliers\n",
    "    for header in rep_hist_snapshot_header_outliers:\n",
    "        print('REP_HIST_SNAPSHOT - ' + header + ' - STRIPPED HISTOGRAM')\n",
    "        plot_hist(df=rep_hist_snapshot_df_pruned, tpc_type=tpcds, table='rep_hist_snapshot', feature_column=header, bin_size=10)\n",
    "    \n",
    "    # Plotting Scatter Plots without Outliers\n",
    "    for header in rep_hist_snapshot_header_outliers:\n",
    "        print('REP_HIST_SNAPSHOT - ' + header + ' - STRIPPED SCATTER')\n",
    "        plot_scatter(df=rep_hist_snapshot_df_pruned, tpc_type=tpcds,table='rep_hist_snapshot',feature_column=header)\n",
    "    \n",
    "    # Plotting Box Plots without Outliers\n",
    "    whisker_boxes_per_plot = 3\n",
    "    for i in range(whisker_boxes_per_plot, len(rep_hist_snapshot_header_outliers), whisker_boxes_per_plot):\n",
    "        print('REP_HIST_SNAPSHOT - ' + header + ' - STRIPPED WHISKER')\n",
    "        plot_boxplot(df=rep_hist_snapshot_df, tpc_type=tpcds,table='rep_hist_snapshot',feature_columns=rep_hist_snapshot_headers[i-whisker_boxes_per_plot:i])"
   ]
  },
  {
   "cell_type": "markdown",
   "metadata": {},
   "source": [
    "### Dropping Redundant Columns\n",
    "\n",
    "Dropping redundant columns which are not detrimental to the task at hand (NB: This is only the first steps towards feature selection. This step ensures that specific columns which are SURELY not useful are dropped ahead of time)."
   ]
  },
  {
   "cell_type": "markdown",
   "metadata": {
    "scrolled": true
   },
   "source": [
    "http://benalexkeen.com/feature-scaling-with-scikit-learn/\n",
    "\n",
    "Based on the above plots, one can argue that the data distribution is uneven, and does not correlate to any particular pattern. A normalization approach (MinMaxScaling and/or RobustScaling) to the presented dataset is a more likely candidate than standardizing of the presented dataset. \n",
    "\n",
    "Reasons behind normalizing the dataset rather than standardizing, is due to the vast standard deviations from the mean for several feature columns."
   ]
  },
  {
   "cell_type": "code",
   "execution_count": 56,
   "metadata": {},
   "outputs": [
    {
     "name": "stdout",
     "output_type": "stream",
     "text": [
      "Before: (1589392, 77)| After: (1589392, 51)\n"
     ]
    }
   ],
   "source": [
    "retain_headers_rep_hist_snapshot = ['SNAP_ID',\n",
    "                                    'OPTIMIZER_COST',\n",
    "                                    'SHARABLE_MEM',\n",
    "                                    'FETCHES_TOTAL',\n",
    "                                    'FETCHES_DELTA',\n",
    "                                    'END_OF_FETCH_COUNT_TOTAL',\n",
    "                                    'END_OF_FETCH_COUNT_DELTA',\n",
    "                                    'SORTS_TOTAL',\n",
    "                                    'SORTS_DELTA',\n",
    "                                    'EXECUTIONS_TOTAL',\n",
    "                                    'EXECUTIONS_DELTA',\n",
    "                                    'PX_SERVERS_EXECS_TOTAL',\n",
    "                                    'PX_SERVERS_EXECS_DELTA',\n",
    "                                    'LOADS_TOTAL',\n",
    "                                    'LOADS_DELTA',\n",
    "                                    'INVALIDATIONS_TOTAL',\n",
    "                                    'INVALIDATIONS_DELTA',\n",
    "                                    'PARSE_CALLS_TOTAL',\n",
    "                                    'PARSE_CALLS_DELTA',\n",
    "                                    'DISK_READS_TOTAL',\n",
    "                                    'DISK_READS_DELTA',\n",
    "                                    'BUFFER_GETS_TOTAL',\n",
    "                                    'BUFFER_GETS_DELTA',\n",
    "                                    'ROWS_PROCESSED_TOTAL',\n",
    "                                    'ROWS_PROCESSED_DELTA',\n",
    "                                    'CPU_TIME_TOTAL',\n",
    "                                    'CPU_TIME_DELTA',\n",
    "                                    'ELAPSED_TIME_TOTAL',\n",
    "                                    'ELAPSED_TIME_DELTA',\n",
    "                                    'IOWAIT_TOTAL',\n",
    "                                    'IOWAIT_DELTA',\n",
    "                                    'APWAIT_TOTAL',\n",
    "                                    'APWAIT_DELTA',\n",
    "                                    'CCWAIT_TOTAL',\n",
    "                                    'CCWAIT_DELTA',\n",
    "                                    'DIRECT_WRITES_TOTAL',\n",
    "                                    'DIRECT_WRITES_DELTA',\n",
    "                                    'PLSEXEC_TIME_TOTAL',\n",
    "                                    'PLSEXEC_TIME_DELTA',\n",
    "                                    'IO_INTERCONNECT_BYTES_TOTAL',\n",
    "                                    'IO_INTERCONNECT_BYTES_DELTA',\n",
    "                                    'PHYSICAL_READ_REQUESTS_TOTAL',\n",
    "                                    'PHYSICAL_READ_REQUESTS_DELTA',\n",
    "                                    'PHYSICAL_READ_BYTES_TOTAL',\n",
    "                                    'PHYSICAL_READ_BYTES_DELTA',\n",
    "                                    'PHYSICAL_WRITE_REQUESTS_TOTAL',\n",
    "                                    'PHYSICAL_WRITE_REQUESTS_DELTA',\n",
    "                                    'PHYSICAL_WRITE_BYTES_TOTAL',\n",
    "                                    'PHYSICAL_WRITE_BYTES_DELTA',\n",
    "                                    'IO_OFFLOAD_RETURN_BYTES_TOTAL',\n",
    "                                    'IO_OFFLOAD_RETURN_BYTES_DELTA']\n",
    "\n",
    "def retain_these_columns(dataframe, headers):\n",
    "    \"\"\"\n",
    "    Drops all columns from dataframe except those passed in the header.\n",
    "    :param dataframe: (Pandas) Pandas data matrix.\n",
    "    :param headers:   (List) List of header columns to retain.\n",
    "    :return: (Pandas) Dataframe with parameter defined columns.\n",
    "    \"\"\"\n",
    "    dataframe.reset_index(inplace=True)\n",
    "    return dataframe[headers]\n",
    "\n",
    "shape = rep_hist_snapshot_df_pruned.shape\n",
    "rep_hist_snapshot_df_pruned = retain_these_columns(dataframe=rep_hist_snapshot_df_pruned,headers=retain_headers_rep_hist_snapshot)\n",
    "print('Before: ' + str(shape) + '| After: ' + str(rep_hist_snapshot_df_pruned.shape))"
   ]
  },
  {
   "cell_type": "markdown",
   "metadata": {},
   "source": [
    "### Dataset Consolidation\n",
    "\n",
    "Grouping datasets on SNAP_ID"
   ]
  },
  {
   "cell_type": "code",
   "execution_count": 57,
   "metadata": {},
   "outputs": [
    {
     "name": "stdout",
     "output_type": "stream",
     "text": [
      "REP_HIST_SNAPSHOT shape after transformation: (19831, 51)\n"
     ]
    }
   ],
   "source": [
    "rep_hist_snapshot_df_pruned = rep_hist_snapshot_df_pruned[rep_hist_snapshot_df_pruned['SNAP_ID'] > 0]\n",
    "\n",
    "# Group By Values by SNAP_ID , sum all metrics (for table REP_HIST_SNAPSHOT)\n",
    "rep_hist_snapshot_df_pruned = rep_hist_snapshot_df_pruned.groupby(['SNAP_ID']).sum()\n",
    "rep_hist_snapshot_df_pruned.reset_index(inplace=True)\n",
    "\n",
    "print(\"REP_HIST_SNAPSHOT shape after transformation: \" + str(rep_hist_snapshot_df_pruned.shape))"
   ]
  },
  {
   "cell_type": "markdown",
   "metadata": {},
   "source": [
    "### Normalization\n",
    "\n",
    "Relavent Sources:\n",
    "\n",
    "* http://jmlr.csail.mit.edu/papers/volume3/guyon03a/guyon03a.pdf\n",
    "* https://machinelearningmastery.com/rescaling-data-for-machine-learning-in-python-with-scikit-learn/\n",
    "\n",
    "https://machinelearningmastery.com/normalize-standardize-time-series-data-python/ recommends a normalization preprocessing technique for data distribution that can closely approximate minimum and maximum observable values per column:\n",
    "\n",
    "<i>\"Normalization requires that you know or are able to accurately estimate the minimum and maximum observable values. You may be able to estimate these values from your available data. If your time series is trending up or down, estimating these expected values may be difficult and normalization may not be the best method to use on your problem.\"</i>\n",
    "\n",
    "Normalization formula is stated as follows: $$y=(x-min)/(max-min)$$\n",
    "\n",
    "### Standardization\n",
    "\n",
    "https://machinelearningmastery.com/normalize-standardize-time-series-data-python/ recommends a standardization preprocessing technique for data distributions that observe a Gaussian spread, with a mean of 0 and a standard deviation of 1 (approximately close to these values):\n",
    "\n",
    "<i>\"Standardization assumes that your observations fit a Gaussian distribution (bell curve) with a well behaved mean and standard deviation. You can still standardize your time series data if this expectation is not met, but you may not get reliable results.\"</i>\n",
    "\n",
    "Standardization formula is stated as follows: $$y=(x-mean)/StandardDeviation$$\n",
    "Mean defined as: $$mean=sum(x)/count(x)$$\n",
    "Standard Deviation defined as: $$StandardDeviation=sqrt(sum((x-mean)^2)/count(x))$$"
   ]
  },
  {
   "cell_type": "code",
   "execution_count": 58,
   "metadata": {
    "scrolled": true
   },
   "outputs": [
    {
     "name": "stdout",
     "output_type": "stream",
     "text": [
      "------------------BEFORE------------------\n",
      "------------------REP_HIST_SNAPSHOT------------------\n",
      "(19831, 51)\n",
      "\n",
      "\n",
      "\n",
      "\n",
      "------------------AFTER------------------\n",
      "------------------REP_HIST_SNAPSHOT------------------\n",
      "(19831, 51)\n",
      "\n",
      "\n",
      "\n",
      "REP_HIST_SNAPSHOT\n",
      "[1.75352469e-08 6.69917197e-08 9.76724196e-05 2.86695935e-05\n",
      " 3.38434224e-09 1.75373674e-06 3.29588646e-10 8.84048840e-08\n",
      " 1.42700574e-09 1.76143967e-06 4.18044423e-10 7.03437494e-08\n",
      " 1.49809349e-09 2.99376354e-09 0.00000000e+00 7.39151008e-11\n",
      " 0.00000000e+00 1.83127530e-06 1.91573401e-09 8.59288396e-05\n",
      " 1.42710268e-07 3.46039699e-04 9.55284822e-07 2.74477555e-05\n",
      " 3.52005521e-09 1.73643778e-02 7.59586615e-05 1.88801667e-02\n",
      " 1.05428716e-04 4.95793691e-04 5.04240659e-06 0.00000000e+00\n",
      " 0.00000000e+00 4.64236656e-04 1.22066980e-05 7.01300014e-07\n",
      " 5.61835548e-10 7.45785596e-07 6.88282878e-07 7.09731194e-01\n",
      " 2.61875887e-04 2.05134039e-05 9.10125119e-09 7.03981456e-01\n",
      " 2.60294275e-04 9.56776453e-09 3.63516889e-12 5.74504972e-03\n",
      " 1.58161190e-06 4.68858591e-06 0.00000000e+00]\n"
     ]
    }
   ],
   "source": [
    "class Normalizer:\n",
    "\n",
    "    @staticmethod\n",
    "    def robust_scaler(dataframe):\n",
    "        \"\"\"\n",
    "        Normalize df using interquartile ranges as min-max, this way outliers do not play a heavy emphasis on the\n",
    "        normalization of values.\n",
    "        :param dataframe: (Pandas) Pandas data matrix\n",
    "        :return: (Pandas) Normalized data matrix\n",
    "        \"\"\"\n",
    "        return preprocessing.robust_scale(dataframe)\n",
    "\n",
    "    @staticmethod\n",
    "    def minmax_scaler(dataframe):\n",
    "        \"\"\"\n",
    "        Normalize df using min-max ranges for normalization method\n",
    "        :param dataframe: (Pandas) Pandas data matrix\n",
    "        :return: (Pandas) Normalized data matrix\n",
    "        \"\"\"\n",
    "        return preprocessing.minmax_scale(dataframe)\n",
    "\n",
    "    @staticmethod\n",
    "    def normalize(dataframe):\n",
    "        \"\"\"\n",
    "        The normalizer scales each value by dividing each value by its magnitude in n-dimensional space for n number of features.\n",
    "        :param dataframe: (Pandas) Pandas data matrix\n",
    "        :return: (Pandas) Normalized data matrix\n",
    "        \"\"\"\n",
    "        return preprocessing.normalize(dataframe)\n",
    "\n",
    "print('------------------BEFORE------------------')\n",
    "print('------------------REP_HIST_SNAPSHOT------------------')\n",
    "print(rep_hist_snapshot_df_pruned.shape)\n",
    "print('\\n')\n",
    "#print(rep_hist_snapshot_df_pruned.head())\n",
    "#\n",
    "# ROBUST SCALER\n",
    "# rep_hist_snapshot_df_pruned_norm = robust_scaler(dataframe=rep_hist_snapshot_df_pruned\n",
    "#\n",
    "# MINMAX SCALER\n",
    "# rep_hist_snapshot_df_pruned_norm = minmax_scaler(dataframe=rep_hist_snapshot_df_pruned)\n",
    "#\n",
    "# NORMALIZER\n",
    "rep_hist_snapshot_df_pruned_norm = Normalizer.normalize(dataframe=rep_hist_snapshot_df_pruned)\n",
    "\n",
    "print('\\n\\n------------------AFTER------------------')\n",
    "print('------------------REP_HIST_SNAPSHOT------------------')\n",
    "print(rep_hist_snapshot_df_pruned_norm.shape)\n",
    "print('\\n\\n')\n",
    "print('REP_HIST_SNAPSHOT')\n",
    "print(rep_hist_snapshot_df_pruned_norm[0])"
   ]
  },
  {
   "cell_type": "markdown",
   "metadata": {},
   "source": [
    "# Filter Methods\n",
    "\n",
    "* https://machinelearningmastery.com/feature-selection-machine-learning-python/\n",
    "\n",
    "Filter methods allow for the univariate analysis of features. Particularly, the following statistical methods have been considered and dismissed as explained below:\n",
    "\n",
    "* Information Gain - Data at hand is continous by nature, whilst MI is usually applicable against discrete values / binned labels.\n",
    "* Pearson Correlation Coefficient - Applicable to data with linear distributions, which is not the case for the majority of the presented features."
   ]
  },
  {
   "cell_type": "code",
   "execution_count": 59,
   "metadata": {},
   "outputs": [],
   "source": [
    "class FeatureImportance:\n",
    "    \"\"\"\n",
    "    This class is dedicated to containing methods related to feature ranking. Features are ranked exclusively, or mutually with\n",
    "    repsect to other features.\n",
    "    \"\"\"\n",
    "    @staticmethod\n",
    "    def chi2_test(top_n_features=30, X_df=None, y_df=None, table=None, headers=None):\n",
    "        \"\"\"\n",
    "        Carries out a chi squared test on passed X,y dataframes, selecting top N features ranked by highest scoring.\n",
    "        :param top_n_features: (Integer) Denotes number of top features to plot.\n",
    "        :param x_df:           (Pandas) Pandas feature matrix.\n",
    "        :param y_df:           (Pandas) Pandas label matrix.\n",
    "        :param table:          (String) Denotes which table is being operated on.\n",
    "        :param headers:        (String) Denotes table features/columns.\n",
    "        :return: None\n",
    "        \"\"\"\n",
    "        chi2_selector = SelectKBest(score_func=chi2, k=top_n_features)\n",
    "        X_kbest = chi2_selector.fit_transform(X_df, y_df)\n",
    "        print('\\n\\nTable [' + table.upper() + ']')\n",
    "        print('Original number of features: ' + str(X_df.shape[1]))\n",
    "        print('Reduced number of features: ' + str(X_kbest.shape[1]) + \"\\n\")\n",
    "        outcome = chi2_selector.get_support()\n",
    "\n",
    "        scoring_sheet = []\n",
    "        for i in range(0,len(headers)-1):\n",
    "            if outcome[i]:\n",
    "                scoring_sheet.append([headers[i],chi2_selector.scores_[i]])\n",
    "\n",
    "        scoring_sheet = sorted(scoring_sheet, key=itemgetter(1), reverse=True)\n",
    "        [print('Feature [' + str(row) + '] with score [' + str(score) + ']') for row, score in scoring_sheet[:top_n_features]]\n",
    "\n",
    "        scoring_sheet = pd.Series((v[1] for v in scoring_sheet[:top_n_features]) )\n",
    "        scoring_sheet[:top_n_features].plot.bar()\n",
    "        \n",
    "        FeatureImportance.__plot_metrics(ylabel='CHI2 RANKING',\n",
    "                                         xlabel='FEATURES',\n",
    "                                         title='Features Ranked By Chi2 Scoring')\n",
    "      \n",
    "    @staticmethod\n",
    "    def rfr_ranking(X_df=None, y_df=None, headers=None, top_n_features=30, parallel_degree=1):\n",
    "        \"\"\"\n",
    "        Ranks features using a filter RFR method, and plots them in descending order (ranked by importance)\n",
    "        :param x_df:           (Pandas) Pandas feature matrix.\n",
    "        :param y_df:           (Pandas) Pandas label matrix.\n",
    "        :param headers:        (String) Denotes table features/columns.\n",
    "        :param top_n_features: (Integer) Denotes number of top features to plot.\n",
    "        :param parallel_degree:(Integer) Denotes model training parallel degree.\n",
    "        :return: None\n",
    "        \"\"\"\n",
    "        X_df = np.array(X_df)\n",
    "        y_df = np.array(y_df)\n",
    "        rfr = RandomForestRegressor(n_estimators=2000,\n",
    "                                    n_jobs=parallel_degree)\n",
    "        rfr.fit(X_df, y_df)\n",
    "        importances = pd.DataFrame({'feature':headers,\n",
    "                                    'importance':np.round(rfr.feature_importances_,3)})\n",
    "        importances = importances.sort_values('importance',ascending=False).set_index('feature')\n",
    "        print(importances[:top_n_features])\n",
    "        importances[:top_n_features].plot.bar()\n",
    "        \n",
    "        FeatureImportance.__plot_metrics(ylabel='CHI2 RANKING',\n",
    "                                         xlabel='FEATURES',\n",
    "                                         title='Features Ranked By Chi2 Scoring')\n",
    "        \n",
    "    @staticmethod\n",
    "    def __plot_metrics(ylabel, xlabel, title):\n",
    "        \"\"\"\n",
    "        Private method used to plot metrics for statistical feature evaluation\n",
    "        :param ylabel: (String) ylabel title name.\n",
    "        :param xlabel: (String) xlabel title name.\n",
    "        :param title:  (String) plot title name.\n",
    "        :return: None\n",
    "        \"\"\"\n",
    "        plt.ylabel(ylabel)\n",
    "        plt.xlabel(xlabel)\n",
    "        plt.title(title)\n",
    "        plt.rcParams['figure.figsize'] = [20, 15]\n",
    "        plt.show()"
   ]
  },
  {
   "cell_type": "markdown",
   "metadata": {},
   "source": [
    "### Chi2\n",
    "\n",
    "Therefore, a likely candidate for a first univariate, filter test is a chi2 measure, between X labels 'SNAP_ID', and other output 'y' labels. NB: Due to chi2 requiring non-nagative values, a data normalization strategy was opted for (Refer to above cell).\n",
    "\n",
    "The following cell computes the chi2 value for each feature pertaining in the following tables, in relation to the SNAP_ID feature:\n",
    "* REP_HIST_SNAPSHOT"
   ]
  },
  {
   "cell_type": "code",
   "execution_count": 60,
   "metadata": {
    "scrolled": true
   },
   "outputs": [
    {
     "name": "stderr",
     "output_type": "stream",
     "text": [
      "C:\\ProgramData\\Anaconda3\\lib\\site-packages\\sklearn\\utils\\__init__.py:93: FutureWarning: Conversion of the second argument of issubdtype from `int` to `np.signedinteger` is deprecated. In future, it will be treated as `np.int32 == np.dtype(int).type`.\n",
      "  if np.issubdtype(mask.dtype, np.int):\n"
     ]
    },
    {
     "name": "stdout",
     "output_type": "stream",
     "text": [
      "\n",
      "\n",
      "Table [REP_HIST_SNAPSHOT]\n",
      "Original number of features: 51\n",
      "Reduced number of features: 30\n",
      "\n",
      "Feature [OPTIMIZER_COST] with score [7517.5414079997445]\n",
      "Feature [ELAPSED_TIME_TOTAL] with score [2454.5698177007457]\n",
      "Feature [CPU_TIME_TOTAL] with score [2299.3538675606665]\n",
      "Feature [PHYSICAL_READ_BYTES_TOTAL] with score [593.7449858408672]\n",
      "Feature [IO_INTERCONNECT_BYTES_TOTAL] with score [507.6519256737589]\n",
      "Feature [PHYSICAL_WRITE_BYTES_TOTAL] with score [349.0697486114145]\n",
      "Feature [IOWAIT_TOTAL] with score [275.8251434002972]\n",
      "Feature [IO_INTERCONNECT_BYTES_DELTA] with score [259.4005635147608]\n",
      "Feature [PHYSICAL_READ_BYTES_DELTA] with score [241.10890303589488]\n",
      "Feature [IOWAIT_DELTA] with score [103.53261085538442]\n",
      "Feature [CCWAIT_TOTAL] with score [64.75230610079294]\n",
      "Feature [PHYSICAL_WRITE_BYTES_DELTA] with score [54.56916601923265]\n",
      "Feature [PLSEXEC_TIME_TOTAL] with score [44.12345944202231]\n",
      "Feature [ELAPSED_TIME_DELTA] with score [34.29611701271249]\n",
      "Feature [CPU_TIME_DELTA] with score [21.963198034756132]\n",
      "Feature [SHARABLE_MEM] with score [17.105538748458205]\n",
      "Feature [BUFFER_GETS_TOTAL] with score [5.240597463452539]\n",
      "Feature [CCWAIT_DELTA] with score [4.387601629429521]\n",
      "Feature [IO_OFFLOAD_RETURN_BYTES_TOTAL] with score [4.374967857401091]\n",
      "Feature [FETCHES_TOTAL] with score [4.285794731353767]\n",
      "Feature [ROWS_PROCESSED_TOTAL] with score [3.8866185416252756]\n",
      "Feature [PLSEXEC_TIME_DELTA] with score [3.4112393678820507]\n",
      "Feature [BUFFER_GETS_DELTA] with score [1.7644818516702978]\n",
      "Feature [EXECUTIONS_TOTAL] with score [0.4738788859761492]\n",
      "Feature [PARSE_CALLS_TOTAL] with score [0.46778994875716007]\n",
      "Feature [PHYSICAL_READ_REQUESTS_TOTAL] with score [0.24558547943890977]\n",
      "Feature [SORTS_TOTAL] with score [0.24485821407586691]\n",
      "Feature [END_OF_FETCH_COUNT_TOTAL] with score [0.21791908929721684]\n",
      "Feature [APWAIT_TOTAL] with score [0.20684687601705312]\n"
     ]
    },
    {
     "data": {
      "image/png": "[encoded data removed]",
      "text/plain": [
       "<Figure size 1440x1080 with 1 Axes>"
      ]
     },
     "metadata": {
      "needs_background": "light"
     },
     "output_type": "display_data"
    }
   ],
   "source": [
    "FeatureImportance.chi2_test(top_n_features=top_n_features, \n",
    "                            X_df=rep_hist_snapshot_df_pruned_norm, \n",
    "                            y_df=rep_hist_snapshot_df_pruned['SNAP_ID'], \n",
    "                            table='REP_HIST_SNAPSHOT', \n",
    "                            headers=retain_headers_rep_hist_snapshot)"
   ]
  },
  {
   "cell_type": "markdown",
   "metadata": {},
   "source": [
    "### Random Forest Feature Importance\n",
    "\n",
    "Calculating MI (Mutual Information) scoring between data matrix X (feature vectors) and target column y ('SNAP_ID') "
   ]
  },
  {
   "cell_type": "code",
   "execution_count": 61,
   "metadata": {
    "scrolled": true
   },
   "outputs": [
    {
     "name": "stdout",
     "output_type": "stream",
     "text": [
      "                               importance\n",
      "feature                                  \n",
      "PLSEXEC_TIME_TOTAL                  0.280\n",
      "IOWAIT_TOTAL                        0.228\n",
      "SORTS_TOTAL                         0.100\n",
      "FETCHES_TOTAL                       0.076\n",
      "PHYSICAL_READ_BYTES_TOTAL           0.058\n",
      "BUFFER_GETS_TOTAL                   0.038\n",
      "OPTIMIZER_COST                      0.034\n",
      "IO_INTERCONNECT_BYTES_TOTAL         0.022\n",
      "SHARABLE_MEM                        0.021\n",
      "ROWS_PROCESSED_TOTAL                0.016\n",
      "PHYSICAL_WRITE_BYTES_TOTAL          0.016\n",
      "DISK_READS_TOTAL                    0.013\n",
      "END_OF_FETCH_COUNT_TOTAL            0.013\n",
      "PHYSICAL_READ_REQUESTS_TOTAL        0.012\n",
      "EXECUTIONS_TOTAL                    0.011\n",
      "PARSE_CALLS_TOTAL                   0.010\n",
      "CCWAIT_TOTAL                        0.009\n",
      "IO_OFFLOAD_RETURN_BYTES_TOTAL       0.009\n",
      "ELAPSED_TIME_TOTAL                  0.006\n",
      "CPU_TIME_TOTAL                      0.004\n",
      "LOADS_TOTAL                         0.003\n",
      "CCWAIT_DELTA                        0.003\n",
      "IOWAIT_DELTA                        0.002\n",
      "CPU_TIME_DELTA                      0.002\n",
      "IO_INTERCONNECT_BYTES_DELTA         0.002\n",
      "BUFFER_GETS_DELTA                   0.002\n",
      "PHYSICAL_READ_BYTES_DELTA           0.002\n",
      "PHYSICAL_WRITE_BYTES_DELTA          0.002\n",
      "ROWS_PROCESSED_DELTA                0.001\n",
      "ELAPSED_TIME_DELTA                  0.001\n"
     ]
    },
    {
     "data": {
      "image/png": "[encoded data removed]",
      "text/plain": [
       "<Figure size 1440x1080 with 1 Axes>"
      ]
     },
     "metadata": {
      "needs_background": "light"
     },
     "output_type": "display_data"
    }
   ],
   "source": [
    "FeatureImportance.rfr_ranking(top_n_features=top_n_features,\n",
    "                              X_df=rep_hist_snapshot_df_pruned_norm, \n",
    "                              y_df=rep_hist_snapshot_df_pruned['SNAP_ID'], \n",
    "                              headers=retain_headers_rep_hist_snapshot,\n",
    "                              parallel_degree=parallel_degree)"
   ]
  },
  {
   "cell_type": "markdown",
   "metadata": {},
   "source": [
    "### Wrapper Methods\n",
    "\n",
    "Use a number of machine learning models to evaluate features together and rank by highest. The following machine learning models will be opted for:\n",
    "\n",
    "* Random Forest Classifier\n",
    "* Gradient Boosting\n",
    "\n",
    "In a 'Brute-Fore' approach, these machine learning heuristics will strip away 1 feature at a time in a method referred to as 'Recursive Feature Elimination', and compare accuracy with every variable elimination. This allows the respective classifier to establish an optimum feature configuration with the highest accuracy score.\n",
    "\n",
    "https://www.fabienplisson.com/choosing-right-features/"
   ]
  },
  {
   "cell_type": "code",
   "execution_count": 66,
   "metadata": {},
   "outputs": [],
   "source": [
    "class EnsembleWrappers:\n",
    "    \"\"\"\n",
    "    This class contains wrapper methods, which utilize ensemble methods to gauge feature pairings. Features are combined together\n",
    "    and then stripped one at a time. Each feature combination is evaluated per feature count, so as to establish the optimum\n",
    "    feature count cut off.\n",
    "    \"\"\"\n",
    "    @staticmethod\n",
    "    def rfr_wrapper(X_df=None, y_df=None, test_split=.4, table_name=None, top_n_features=10, parallel_degree=1):\n",
    "        \"\"\"\n",
    "        Random Forest Regressor - Takes data matrix and target vector, and evaluates best combination of features \n",
    "        using an RFR model.\n",
    "        :param x_df:           (Pandas) Pandas feature matrix.\n",
    "        :param y_df:           (Pandas) Pandas label matrix.\n",
    "        :param test_split:     (Float) Denotes training/testing data split.\n",
    "        :param table_name:     (String) Denotes which table is being operated on.\n",
    "        :param top_n_features: (Integer) Denotes number of top features to plot.\n",
    "        :param parallel_degree:(Integer) Denotes model training parallel degree.\n",
    "        :return: Model Scoring, for best feature combination count\n",
    "        :return: Recommended feature count, as per best achieved score\n",
    "        \"\"\"\n",
    "        X_df = np.array(X_df)\n",
    "        y_df = np.array(y_df)\n",
    "        #feature_count = len(X_df[0])\n",
    "        #print(len(X_df[0]))\n",
    "        val_op, optimum_features = 0, 0\n",
    "        val_op = 0\n",
    "        X_train, X_test, y_train, y_test = train_test_split(X_df, y_df, test_size=test_split)\n",
    "        model = RandomForestRegressor(n_estimators=top_n_features, \n",
    "                                      n_jobs=parallel_degree)\n",
    "        model.fit(X_train, y_train)\n",
    "\n",
    "        # make predictions for test data and evaluate\n",
    "        pred_y = model.predict(X_test)\n",
    "        predictions = [round(value) for value in pred_y]\n",
    "        r2s = r2_score(y_test, predictions)\n",
    "        print(\"Table [\" + table_name + \"] RFR R2 Score: \" + str(r2s))\n",
    "\n",
    "        # fit model using each importance as a threshold\n",
    "        print('Feature Importance\\n' + str('-'*60))\n",
    "        print(model.feature_importances_)\n",
    "        print(str('-'*60))\n",
    "        thresholds = np.sort(model.feature_importances_)\n",
    "        feature_counts, feature_score = [],[]\n",
    "        for thresh in thresholds:\n",
    "            # selecting features using threshold\n",
    "            selection = SelectFromModel(model, threshold=thresh, prefit=True)\n",
    "            select_train_x = selection.transform(X_train)\n",
    "\n",
    "            # training model\n",
    "            selection_model = RandomForestRegressor(n_estimators=top_n_features,\n",
    "                                                    n_jobs=parallel_degree)\n",
    "            selection_model.fit(select_train_x, y_train)\n",
    "\n",
    "            # evaluating model\n",
    "            select_test_x = selection.transform(X_test)\n",
    "            pred_y = selection_model.predict(select_test_x)\n",
    "            predictions = [round(value) for value in pred_y]\n",
    "            r2s = r2_score(y_test, predictions)\n",
    "            print(\"Thresh=\" + str(thresh) + \", n=\" + str(select_train_x.shape[1]) + \", R2 Score: \" + str(r2s))\n",
    "            if(r2s > val_op):\n",
    "                val_op = r2s\n",
    "                optimum_features = select_train_x.shape[1]\n",
    "\n",
    "            # Add/Keep track of '[no of features','r2 score']\n",
    "            feature_counts.append(select_train_x.shape[1])\n",
    "            feature_score.append(r2s)\n",
    "\n",
    "        # Plot feature count performance\n",
    "        EnsembleWrappers.__plot_metrics(feature_counts=feature_counts,\n",
    "                                        feature_score=feature_score,\n",
    "                                        xlabel='Featuers',\n",
    "                                        ylabel='R2 Score',\n",
    "                                        title='Feature Pairing Performance')\n",
    "\n",
    "        return val_op, optimum_features\n",
    "\n",
    "    @staticmethod\n",
    "    def gradient_boosting_wrapper(X_df=None, y_df=None, test_split=.4, table_name=None, top_n_features=10):\n",
    "        \"\"\"\n",
    "        Gradient Boosting Regressor - Takes data matrix and target vector, and evaluates best combination of features \n",
    "        using a GBR model.\n",
    "        :param x_df:           (Pandas) Pandas feature matrix.\n",
    "        :param y_df:           (Pandas) Pandas label matrix.\n",
    "        :param test_split:     (Float) Denotes training/testing data split.\n",
    "        :param table_name:     (String) Denotes which table is being operated on.\n",
    "        :param top_n_features: (Integer) Denotes number of top features to plot.\n",
    "        :param parallel_degree:(Integer) Denotes model training parallel degree.\n",
    "        :return: Model Scoring, for best feature combination count\n",
    "        :return: Recommended feature count, as per best achieved score\n",
    "        \"\"\"\n",
    "        X_df = np.array(X_df)\n",
    "        y_df = np.array(y_df)\n",
    "        #feature_count = len(X_df[0])\n",
    "        val_op, optimum_features = 0, 0\n",
    "        X_train, X_test, y_train, y_test = train_test_split(X_df, y_df, test_size=test_split)\n",
    "        model = GradientBoostingRegressor(n_estimators=top_n_features)\n",
    "        model.fit(X_train, y_train)\n",
    "\n",
    "        # make predictions for test data and evaluate\n",
    "        pred_y = model.predict(X_test)\n",
    "        predictions = [round(value) for value in pred_y]\n",
    "        r2s = r2_score(y_test, predictions)\n",
    "        print(\"Table [\" + table_name + \"] RFR R2 Score: \" + str(r2s))\n",
    "        #\n",
    "        # fit model using each importance as a threshold\n",
    "        print('Feature Importance\\n' + str('-'*60))\n",
    "        print(model.feature_importances_)\n",
    "        print(str('-'*60))\n",
    "        thresholds = np.sort(model.feature_importances_)\n",
    "        feature_counts, feature_score = [],[]\n",
    "        for thresh in thresholds:\n",
    "            # selecting features using threshold\n",
    "            selection = SelectFromModel(model, threshold=thresh, prefit=True)\n",
    "            select_train_x = selection.transform(X_train)\n",
    "\n",
    "            # training model\n",
    "            selection_model = GradientBoostingRegressor(n_estimators=top_n_features)\n",
    "            selection_model.fit(select_train_x, y_train)\n",
    "\n",
    "            # evaluating model\n",
    "            select_test_x = selection.transform(X_test)\n",
    "            pred_y = selection_model.predict(select_test_x)\n",
    "            predictions = [round(value) for value in pred_y]\n",
    "            r2s = r2_score(y_test, predictions)\n",
    "            print(\"Thresh=\" + str(thresh) + \", n=\" + str(select_train_x.shape[1]) + \", R2 Score: \" + str(r2s))\n",
    "            if(r2s > val_op):\n",
    "                val_op = r2s\n",
    "                optimum_features = select_train_x.shape[1]\n",
    "\n",
    "            # Add/Keep track of '[no of features','r2 score']\n",
    "            feature_counts.append(select_train_x.shape[1])\n",
    "            feature_score.append(r2s)\n",
    "\n",
    "        # Plot feature count performance\n",
    "        EnsembleWrappers.__plot_metrics(feature_counts=feature_counts,\n",
    "                                        feature_score=feature_score,\n",
    "                                        xlabel='Featuers',\n",
    "                                        ylabel='R2 Score',\n",
    "                                        title='Feature Pairing Performance')\n",
    "\n",
    "        return val_op, optimum_features\n",
    "    \n",
    "    @staticmethod\n",
    "    def __plot_metrics(feature_counts, feature_score, ylabel, xlabel, title):\n",
    "        \"\"\"\n",
    "        Private method used to plot metrics for statistical feature evaluation\n",
    "        :param feature_counts: (List) List of feature combination counts per achieved score.\n",
    "        :param feature_score:  (List) List of feature scores per combination.\n",
    "        :param ylabel:         (String) ylabel title name.\n",
    "        :param xlabel:         (String) xlabel title name.\n",
    "        :param title:          (String) plot title name.\n",
    "        :return: None\n",
    "        \"\"\"\n",
    "        plt.ylabel(ylabel)\n",
    "        plt.xlabel(xlabel)\n",
    "        plt.title(title)\n",
    "        plt.rcParams['figure.figsize'] = [20, 15]\n",
    "        plt.plot(feature_counts, feature_score)\n",
    "        plt.show()"
   ]
  },
  {
   "cell_type": "markdown",
   "metadata": {},
   "source": [
    "### Random Forest Wrapper (Feature Combination)  (Regression)\n",
    "\n",
    "Utilizes an ensemble Random Forest method to gauge different feature combination/counts."
   ]
  },
  {
   "cell_type": "code",
   "execution_count": 64,
   "metadata": {
    "scrolled": true
   },
   "outputs": [
    {
     "name": "stdout",
     "output_type": "stream",
     "text": [
      "Table [REP_HIST_SNAPSHOT] RFR R2 Score: 0.9579259771344444\n",
      "Feature Importance\n",
      "------------------------------------------------------------\n",
      "[8.03869969e-05 1.99187183e-02 1.82790667e-02 1.28306296e-01\n",
      " 4.91127094e-06 1.31187499e-02 1.29365735e-08 8.34398970e-02\n",
      " 8.35907092e-07 1.39992969e-02 0.00000000e+00 1.09472163e-04\n",
      " 4.99026217e-05 3.05792582e-03 7.35642874e-09 0.00000000e+00\n",
      " 0.00000000e+00 1.28800791e-02 1.65008494e-06 1.55445369e-02\n",
      " 2.64825690e-04 3.43268237e-02 1.57051118e-03 9.81426229e-03\n",
      " 9.62038604e-04 3.61012197e-03 1.47228227e-03 8.37141483e-03\n",
      " 1.44977700e-03 2.23277055e-01 1.73050469e-03 1.01831966e-03\n",
      " 9.73278720e-05 1.26696162e-02 2.40972885e-03 1.08080707e-03\n",
      " 2.33184155e-05 2.79538816e-01 1.12374327e-03 2.85022413e-02\n",
      " 2.17109109e-03 1.13910705e-02 6.20941831e-05 4.05964519e-02\n",
      " 2.04843052e-03 4.81966334e-04 0.00000000e+00 1.08711365e-02\n",
      " 2.80482661e-03 7.05071471e-03 4.16936169e-04]\n",
      "------------------------------------------------------------\n"
     ]
    },
    {
     "name": "stderr",
     "output_type": "stream",
     "text": [
      "C:\\ProgramData\\Anaconda3\\lib\\site-packages\\sklearn\\utils\\__init__.py:93: FutureWarning: Conversion of the second argument of issubdtype from `int` to `np.signedinteger` is deprecated. In future, it will be treated as `np.int32 == np.dtype(int).type`.\n",
      "  if np.issubdtype(mask.dtype, np.int):\n",
      "C:\\ProgramData\\Anaconda3\\lib\\site-packages\\sklearn\\utils\\__init__.py:93: FutureWarning: Conversion of the second argument of issubdtype from `int` to `np.signedinteger` is deprecated. In future, it will be treated as `np.int32 == np.dtype(int).type`.\n",
      "  if np.issubdtype(mask.dtype, np.int):\n"
     ]
    },
    {
     "name": "stdout",
     "output_type": "stream",
     "text": [
      "Thresh=0.0, n=51, R2 Score: 0.9598501157990131\n"
     ]
    },
    {
     "name": "stderr",
     "output_type": "stream",
     "text": [
      "C:\\ProgramData\\Anaconda3\\lib\\site-packages\\sklearn\\utils\\__init__.py:93: FutureWarning: Conversion of the second argument of issubdtype from `int` to `np.signedinteger` is deprecated. In future, it will be treated as `np.int32 == np.dtype(int).type`.\n",
      "  if np.issubdtype(mask.dtype, np.int):\n"
     ]
    },
    {
     "name": "stdout",
     "output_type": "stream",
     "text": [
      "Thresh=0.0, n=51, R2 Score: 0.9579473342963158\n"
     ]
    },
    {
     "name": "stderr",
     "output_type": "stream",
     "text": [
      "C:\\ProgramData\\Anaconda3\\lib\\site-packages\\sklearn\\utils\\__init__.py:93: FutureWarning: Conversion of the second argument of issubdtype from `int` to `np.signedinteger` is deprecated. In future, it will be treated as `np.int32 == np.dtype(int).type`.\n",
      "  if np.issubdtype(mask.dtype, np.int):\n"
     ]
    },
    {
     "name": "stdout",
     "output_type": "stream",
     "text": [
      "Thresh=0.0, n=51, R2 Score: 0.9593302003642078\n"
     ]
    },
    {
     "name": "stderr",
     "output_type": "stream",
     "text": [
      "C:\\ProgramData\\Anaconda3\\lib\\site-packages\\sklearn\\utils\\__init__.py:93: FutureWarning: Conversion of the second argument of issubdtype from `int` to `np.signedinteger` is deprecated. In future, it will be treated as `np.int32 == np.dtype(int).type`.\n",
      "  if np.issubdtype(mask.dtype, np.int):\n"
     ]
    },
    {
     "name": "stdout",
     "output_type": "stream",
     "text": [
      "Thresh=0.0, n=51, R2 Score: 0.9576099080301593\n"
     ]
    },
    {
     "name": "stderr",
     "output_type": "stream",
     "text": [
      "C:\\ProgramData\\Anaconda3\\lib\\site-packages\\sklearn\\utils\\__init__.py:93: FutureWarning: Conversion of the second argument of issubdtype from `int` to `np.signedinteger` is deprecated. In future, it will be treated as `np.int32 == np.dtype(int).type`.\n",
      "  if np.issubdtype(mask.dtype, np.int):\n"
     ]
    },
    {
     "name": "stdout",
     "output_type": "stream",
     "text": [
      "Thresh=7.356428740040572e-09, n=47, R2 Score: 0.9583100431620293\n"
     ]
    },
    {
     "name": "stderr",
     "output_type": "stream",
     "text": [
      "C:\\ProgramData\\Anaconda3\\lib\\site-packages\\sklearn\\utils\\__init__.py:93: FutureWarning: Conversion of the second argument of issubdtype from `int` to `np.signedinteger` is deprecated. In future, it will be treated as `np.int32 == np.dtype(int).type`.\n",
      "  if np.issubdtype(mask.dtype, np.int):\n"
     ]
    },
    {
     "name": "stdout",
     "output_type": "stream",
     "text": [
      "Thresh=1.2936573532243002e-08, n=46, R2 Score: 0.9575948383110323\n"
     ]
    },
    {
     "name": "stderr",
     "output_type": "stream",
     "text": [
      "C:\\ProgramData\\Anaconda3\\lib\\site-packages\\sklearn\\utils\\__init__.py:93: FutureWarning: Conversion of the second argument of issubdtype from `int` to `np.signedinteger` is deprecated. In future, it will be treated as `np.int32 == np.dtype(int).type`.\n",
      "  if np.issubdtype(mask.dtype, np.int):\n"
     ]
    },
    {
     "name": "stdout",
     "output_type": "stream",
     "text": [
      "Thresh=8.359070924591134e-07, n=45, R2 Score: 0.9577400283309141\n"
     ]
    },
    {
     "name": "stderr",
     "output_type": "stream",
     "text": [
      "C:\\ProgramData\\Anaconda3\\lib\\site-packages\\sklearn\\utils\\__init__.py:93: FutureWarning: Conversion of the second argument of issubdtype from `int` to `np.signedinteger` is deprecated. In future, it will be treated as `np.int32 == np.dtype(int).type`.\n",
      "  if np.issubdtype(mask.dtype, np.int):\n"
     ]
    },
    {
     "name": "stdout",
     "output_type": "stream",
     "text": [
      "Thresh=1.6500849358817448e-06, n=44, R2 Score: 0.9572278167081618\n"
     ]
    },
    {
     "name": "stderr",
     "output_type": "stream",
     "text": [
      "C:\\ProgramData\\Anaconda3\\lib\\site-packages\\sklearn\\utils\\__init__.py:93: FutureWarning: Conversion of the second argument of issubdtype from `int` to `np.signedinteger` is deprecated. In future, it will be treated as `np.int32 == np.dtype(int).type`.\n",
      "  if np.issubdtype(mask.dtype, np.int):\n"
     ]
    },
    {
     "name": "stdout",
     "output_type": "stream",
     "text": [
      "Thresh=4.911270935217341e-06, n=43, R2 Score: 0.9597890336239138\n"
     ]
    },
    {
     "name": "stderr",
     "output_type": "stream",
     "text": [
      "C:\\ProgramData\\Anaconda3\\lib\\site-packages\\sklearn\\utils\\__init__.py:93: FutureWarning: Conversion of the second argument of issubdtype from `int` to `np.signedinteger` is deprecated. In future, it will be treated as `np.int32 == np.dtype(int).type`.\n",
      "  if np.issubdtype(mask.dtype, np.int):\n"
     ]
    },
    {
     "name": "stdout",
     "output_type": "stream",
     "text": [
      "Thresh=2.3318415485505507e-05, n=42, R2 Score: 0.9572838779384328\n"
     ]
    },
    {
     "name": "stderr",
     "output_type": "stream",
     "text": [
      "C:\\ProgramData\\Anaconda3\\lib\\site-packages\\sklearn\\utils\\__init__.py:93: FutureWarning: Conversion of the second argument of issubdtype from `int` to `np.signedinteger` is deprecated. In future, it will be treated as `np.int32 == np.dtype(int).type`.\n",
      "  if np.issubdtype(mask.dtype, np.int):\n"
     ]
    },
    {
     "name": "stdout",
     "output_type": "stream",
     "text": [
      "Thresh=4.990262172220798e-05, n=41, R2 Score: 0.9586662503069109\n"
     ]
    },
    {
     "name": "stderr",
     "output_type": "stream",
     "text": [
      "C:\\ProgramData\\Anaconda3\\lib\\site-packages\\sklearn\\utils\\__init__.py:93: FutureWarning: Conversion of the second argument of issubdtype from `int` to `np.signedinteger` is deprecated. In future, it will be treated as `np.int32 == np.dtype(int).type`.\n",
      "  if np.issubdtype(mask.dtype, np.int):\n"
     ]
    },
    {
     "name": "stdout",
     "output_type": "stream",
     "text": [
      "Thresh=6.209418309057408e-05, n=40, R2 Score: 0.9587026571784596\n"
     ]
    },
    {
     "name": "stderr",
     "output_type": "stream",
     "text": [
      "C:\\ProgramData\\Anaconda3\\lib\\site-packages\\sklearn\\utils\\__init__.py:93: FutureWarning: Conversion of the second argument of issubdtype from `int` to `np.signedinteger` is deprecated. In future, it will be treated as `np.int32 == np.dtype(int).type`.\n",
      "  if np.issubdtype(mask.dtype, np.int):\n"
     ]
    },
    {
     "name": "stdout",
     "output_type": "stream",
     "text": [
      "Thresh=8.038699688775816e-05, n=39, R2 Score: 0.9573610113953973\n"
     ]
    },
    {
     "name": "stderr",
     "output_type": "stream",
     "text": [
      "C:\\ProgramData\\Anaconda3\\lib\\site-packages\\sklearn\\utils\\__init__.py:93: FutureWarning: Conversion of the second argument of issubdtype from `int` to `np.signedinteger` is deprecated. In future, it will be treated as `np.int32 == np.dtype(int).type`.\n",
      "  if np.issubdtype(mask.dtype, np.int):\n"
     ]
    },
    {
     "name": "stdout",
     "output_type": "stream",
     "text": [
      "Thresh=9.732787197741829e-05, n=38, R2 Score: 0.9573523537842291\n"
     ]
    },
    {
     "name": "stderr",
     "output_type": "stream",
     "text": [
      "C:\\ProgramData\\Anaconda3\\lib\\site-packages\\sklearn\\utils\\__init__.py:93: FutureWarning: Conversion of the second argument of issubdtype from `int` to `np.signedinteger` is deprecated. In future, it will be treated as `np.int32 == np.dtype(int).type`.\n",
      "  if np.issubdtype(mask.dtype, np.int):\n"
     ]
    },
    {
     "name": "stdout",
     "output_type": "stream",
     "text": [
      "Thresh=0.0001094721632493913, n=37, R2 Score: 0.9555788319764676\n"
     ]
    },
    {
     "name": "stderr",
     "output_type": "stream",
     "text": [
      "C:\\ProgramData\\Anaconda3\\lib\\site-packages\\sklearn\\utils\\__init__.py:93: FutureWarning: Conversion of the second argument of issubdtype from `int` to `np.signedinteger` is deprecated. In future, it will be treated as `np.int32 == np.dtype(int).type`.\n",
      "  if np.issubdtype(mask.dtype, np.int):\n"
     ]
    },
    {
     "name": "stdout",
     "output_type": "stream",
     "text": [
      "Thresh=0.0002648256903122408, n=36, R2 Score: 0.9569914043332676\n"
     ]
    },
    {
     "name": "stderr",
     "output_type": "stream",
     "text": [
      "C:\\ProgramData\\Anaconda3\\lib\\site-packages\\sklearn\\utils\\__init__.py:93: FutureWarning: Conversion of the second argument of issubdtype from `int` to `np.signedinteger` is deprecated. In future, it will be treated as `np.int32 == np.dtype(int).type`.\n",
      "  if np.issubdtype(mask.dtype, np.int):\n"
     ]
    },
    {
     "name": "stdout",
     "output_type": "stream",
     "text": [
      "Thresh=0.00041693616892778617, n=35, R2 Score: 0.9598527159584662\n"
     ]
    },
    {
     "name": "stderr",
     "output_type": "stream",
     "text": [
      "C:\\ProgramData\\Anaconda3\\lib\\site-packages\\sklearn\\utils\\__init__.py:93: FutureWarning: Conversion of the second argument of issubdtype from `int` to `np.signedinteger` is deprecated. In future, it will be treated as `np.int32 == np.dtype(int).type`.\n",
      "  if np.issubdtype(mask.dtype, np.int):\n"
     ]
    },
    {
     "name": "stdout",
     "output_type": "stream",
     "text": [
      "Thresh=0.00048196633411573905, n=34, R2 Score: 0.9582453161776853\n"
     ]
    },
    {
     "name": "stderr",
     "output_type": "stream",
     "text": [
      "C:\\ProgramData\\Anaconda3\\lib\\site-packages\\sklearn\\utils\\__init__.py:93: FutureWarning: Conversion of the second argument of issubdtype from `int` to `np.signedinteger` is deprecated. In future, it will be treated as `np.int32 == np.dtype(int).type`.\n",
      "  if np.issubdtype(mask.dtype, np.int):\n"
     ]
    },
    {
     "name": "stdout",
     "output_type": "stream",
     "text": [
      "Thresh=0.0009620386037687572, n=33, R2 Score: 0.9572649216087507\n"
     ]
    },
    {
     "name": "stderr",
     "output_type": "stream",
     "text": [
      "C:\\ProgramData\\Anaconda3\\lib\\site-packages\\sklearn\\utils\\__init__.py:93: FutureWarning: Conversion of the second argument of issubdtype from `int` to `np.signedinteger` is deprecated. In future, it will be treated as `np.int32 == np.dtype(int).type`.\n",
      "  if np.issubdtype(mask.dtype, np.int):\n"
     ]
    },
    {
     "name": "stdout",
     "output_type": "stream",
     "text": [
      "Thresh=0.0010183196573045187, n=32, R2 Score: 0.9588123947345798\n"
     ]
    },
    {
     "name": "stderr",
     "output_type": "stream",
     "text": [
      "C:\\ProgramData\\Anaconda3\\lib\\site-packages\\sklearn\\utils\\__init__.py:93: FutureWarning: Conversion of the second argument of issubdtype from `int` to `np.signedinteger` is deprecated. In future, it will be treated as `np.int32 == np.dtype(int).type`.\n",
      "  if np.issubdtype(mask.dtype, np.int):\n"
     ]
    },
    {
     "name": "stdout",
     "output_type": "stream",
     "text": [
      "Thresh=0.0010808070740600903, n=31, R2 Score: 0.9571338572118269\n"
     ]
    },
    {
     "name": "stderr",
     "output_type": "stream",
     "text": [
      "C:\\ProgramData\\Anaconda3\\lib\\site-packages\\sklearn\\utils\\__init__.py:93: FutureWarning: Conversion of the second argument of issubdtype from `int` to `np.signedinteger` is deprecated. In future, it will be treated as `np.int32 == np.dtype(int).type`.\n",
      "  if np.issubdtype(mask.dtype, np.int):\n"
     ]
    },
    {
     "name": "stdout",
     "output_type": "stream",
     "text": [
      "Thresh=0.001123743271306907, n=30, R2 Score: 0.9582428778942712\n"
     ]
    },
    {
     "name": "stderr",
     "output_type": "stream",
     "text": [
      "C:\\ProgramData\\Anaconda3\\lib\\site-packages\\sklearn\\utils\\__init__.py:93: FutureWarning: Conversion of the second argument of issubdtype from `int` to `np.signedinteger` is deprecated. In future, it will be treated as `np.int32 == np.dtype(int).type`.\n",
      "  if np.issubdtype(mask.dtype, np.int):\n"
     ]
    },
    {
     "name": "stdout",
     "output_type": "stream",
     "text": [
      "Thresh=0.0014497770022492602, n=29, R2 Score: 0.9574726439415441\n"
     ]
    },
    {
     "name": "stderr",
     "output_type": "stream",
     "text": [
      "C:\\ProgramData\\Anaconda3\\lib\\site-packages\\sklearn\\utils\\__init__.py:93: FutureWarning: Conversion of the second argument of issubdtype from `int` to `np.signedinteger` is deprecated. In future, it will be treated as `np.int32 == np.dtype(int).type`.\n",
      "  if np.issubdtype(mask.dtype, np.int):\n"
     ]
    },
    {
     "name": "stdout",
     "output_type": "stream",
     "text": [
      "Thresh=0.0014722822696282994, n=28, R2 Score: 0.9574748605149356\n"
     ]
    },
    {
     "name": "stderr",
     "output_type": "stream",
     "text": [
      "C:\\ProgramData\\Anaconda3\\lib\\site-packages\\sklearn\\utils\\__init__.py:93: FutureWarning: Conversion of the second argument of issubdtype from `int` to `np.signedinteger` is deprecated. In future, it will be treated as `np.int32 == np.dtype(int).type`.\n",
      "  if np.issubdtype(mask.dtype, np.int):\n"
     ]
    },
    {
     "name": "stdout",
     "output_type": "stream",
     "text": [
      "Thresh=0.0015705111807702958, n=27, R2 Score: 0.9582338076802703\n"
     ]
    },
    {
     "name": "stderr",
     "output_type": "stream",
     "text": [
      "C:\\ProgramData\\Anaconda3\\lib\\site-packages\\sklearn\\utils\\__init__.py:93: FutureWarning: Conversion of the second argument of issubdtype from `int` to `np.signedinteger` is deprecated. In future, it will be treated as `np.int32 == np.dtype(int).type`.\n",
      "  if np.issubdtype(mask.dtype, np.int):\n"
     ]
    },
    {
     "name": "stdout",
     "output_type": "stream",
     "text": [
      "Thresh=0.001730504692231487, n=26, R2 Score: 0.9584017389461464\n"
     ]
    },
    {
     "name": "stderr",
     "output_type": "stream",
     "text": [
      "C:\\ProgramData\\Anaconda3\\lib\\site-packages\\sklearn\\utils\\__init__.py:93: FutureWarning: Conversion of the second argument of issubdtype from `int` to `np.signedinteger` is deprecated. In future, it will be treated as `np.int32 == np.dtype(int).type`.\n",
      "  if np.issubdtype(mask.dtype, np.int):\n"
     ]
    },
    {
     "name": "stdout",
     "output_type": "stream",
     "text": [
      "Thresh=0.0020484305191173094, n=25, R2 Score: 0.9598233793533488\n"
     ]
    },
    {
     "name": "stderr",
     "output_type": "stream",
     "text": [
      "C:\\ProgramData\\Anaconda3\\lib\\site-packages\\sklearn\\utils\\__init__.py:93: FutureWarning: Conversion of the second argument of issubdtype from `int` to `np.signedinteger` is deprecated. In future, it will be treated as `np.int32 == np.dtype(int).type`.\n",
      "  if np.issubdtype(mask.dtype, np.int):\n"
     ]
    },
    {
     "name": "stdout",
     "output_type": "stream",
     "text": [
      "Thresh=0.0021710910860403237, n=24, R2 Score: 0.9581330294984844\n"
     ]
    },
    {
     "name": "stderr",
     "output_type": "stream",
     "text": [
      "C:\\ProgramData\\Anaconda3\\lib\\site-packages\\sklearn\\utils\\__init__.py:93: FutureWarning: Conversion of the second argument of issubdtype from `int` to `np.signedinteger` is deprecated. In future, it will be treated as `np.int32 == np.dtype(int).type`.\n",
      "  if np.issubdtype(mask.dtype, np.int):\n"
     ]
    },
    {
     "name": "stdout",
     "output_type": "stream",
     "text": [
      "Thresh=0.0024097288503525547, n=23, R2 Score: 0.9589405045971257\n"
     ]
    },
    {
     "name": "stderr",
     "output_type": "stream",
     "text": [
      "C:\\ProgramData\\Anaconda3\\lib\\site-packages\\sklearn\\utils\\__init__.py:93: FutureWarning: Conversion of the second argument of issubdtype from `int` to `np.signedinteger` is deprecated. In future, it will be treated as `np.int32 == np.dtype(int).type`.\n",
      "  if np.issubdtype(mask.dtype, np.int):\n"
     ]
    },
    {
     "name": "stdout",
     "output_type": "stream",
     "text": [
      "Thresh=0.002804826607408831, n=22, R2 Score: 0.9598552799403023\n"
     ]
    },
    {
     "name": "stderr",
     "output_type": "stream",
     "text": [
      "C:\\ProgramData\\Anaconda3\\lib\\site-packages\\sklearn\\utils\\__init__.py:93: FutureWarning: Conversion of the second argument of issubdtype from `int` to `np.signedinteger` is deprecated. In future, it will be treated as `np.int32 == np.dtype(int).type`.\n",
      "  if np.issubdtype(mask.dtype, np.int):\n"
     ]
    },
    {
     "name": "stdout",
     "output_type": "stream",
     "text": [
      "Thresh=0.003057925821948111, n=21, R2 Score: 0.9576757926164111\n"
     ]
    },
    {
     "name": "stderr",
     "output_type": "stream",
     "text": [
      "C:\\ProgramData\\Anaconda3\\lib\\site-packages\\sklearn\\utils\\__init__.py:93: FutureWarning: Conversion of the second argument of issubdtype from `int` to `np.signedinteger` is deprecated. In future, it will be treated as `np.int32 == np.dtype(int).type`.\n",
      "  if np.issubdtype(mask.dtype, np.int):\n"
     ]
    },
    {
     "name": "stdout",
     "output_type": "stream",
     "text": [
      "Thresh=0.003610121974961309, n=20, R2 Score: 0.9589812917019201\n"
     ]
    },
    {
     "name": "stderr",
     "output_type": "stream",
     "text": [
      "C:\\ProgramData\\Anaconda3\\lib\\site-packages\\sklearn\\utils\\__init__.py:93: FutureWarning: Conversion of the second argument of issubdtype from `int` to `np.signedinteger` is deprecated. In future, it will be treated as `np.int32 == np.dtype(int).type`.\n",
      "  if np.issubdtype(mask.dtype, np.int):\n"
     ]
    },
    {
     "name": "stdout",
     "output_type": "stream",
     "text": [
      "Thresh=0.0070507147140883904, n=19, R2 Score: 0.958042811922696\n"
     ]
    },
    {
     "name": "stderr",
     "output_type": "stream",
     "text": [
      "C:\\ProgramData\\Anaconda3\\lib\\site-packages\\sklearn\\utils\\__init__.py:93: FutureWarning: Conversion of the second argument of issubdtype from `int` to `np.signedinteger` is deprecated. In future, it will be treated as `np.int32 == np.dtype(int).type`.\n",
      "  if np.issubdtype(mask.dtype, np.int):\n"
     ]
    },
    {
     "name": "stdout",
     "output_type": "stream",
     "text": [
      "Thresh=0.008371414833154104, n=18, R2 Score: 0.9578991206781157\n"
     ]
    },
    {
     "name": "stderr",
     "output_type": "stream",
     "text": [
      "C:\\ProgramData\\Anaconda3\\lib\\site-packages\\sklearn\\utils\\__init__.py:93: FutureWarning: Conversion of the second argument of issubdtype from `int` to `np.signedinteger` is deprecated. In future, it will be treated as `np.int32 == np.dtype(int).type`.\n",
      "  if np.issubdtype(mask.dtype, np.int):\n"
     ]
    },
    {
     "name": "stdout",
     "output_type": "stream",
     "text": [
      "Thresh=0.009814262293344537, n=17, R2 Score: 0.9575651450599789\n"
     ]
    },
    {
     "name": "stderr",
     "output_type": "stream",
     "text": [
      "C:\\ProgramData\\Anaconda3\\lib\\site-packages\\sklearn\\utils\\__init__.py:93: FutureWarning: Conversion of the second argument of issubdtype from `int` to `np.signedinteger` is deprecated. In future, it will be treated as `np.int32 == np.dtype(int).type`.\n",
      "  if np.issubdtype(mask.dtype, np.int):\n"
     ]
    },
    {
     "name": "stdout",
     "output_type": "stream",
     "text": [
      "Thresh=0.010871136468734128, n=16, R2 Score: 0.957187928601551\n"
     ]
    },
    {
     "name": "stderr",
     "output_type": "stream",
     "text": [
      "C:\\ProgramData\\Anaconda3\\lib\\site-packages\\sklearn\\utils\\__init__.py:93: FutureWarning: Conversion of the second argument of issubdtype from `int` to `np.signedinteger` is deprecated. In future, it will be treated as `np.int32 == np.dtype(int).type`.\n",
      "  if np.issubdtype(mask.dtype, np.int):\n"
     ]
    },
    {
     "name": "stdout",
     "output_type": "stream",
     "text": [
      "Thresh=0.011391070451885364, n=15, R2 Score: 0.9572953606977211\n"
     ]
    },
    {
     "name": "stderr",
     "output_type": "stream",
     "text": [
      "C:\\ProgramData\\Anaconda3\\lib\\site-packages\\sklearn\\utils\\__init__.py:93: FutureWarning: Conversion of the second argument of issubdtype from `int` to `np.signedinteger` is deprecated. In future, it will be treated as `np.int32 == np.dtype(int).type`.\n",
      "  if np.issubdtype(mask.dtype, np.int):\n"
     ]
    },
    {
     "name": "stdout",
     "output_type": "stream",
     "text": [
      "Thresh=0.012669616191779672, n=14, R2 Score: 0.9563473942041173\n"
     ]
    },
    {
     "name": "stderr",
     "output_type": "stream",
     "text": [
      "C:\\ProgramData\\Anaconda3\\lib\\site-packages\\sklearn\\utils\\__init__.py:93: FutureWarning: Conversion of the second argument of issubdtype from `int` to `np.signedinteger` is deprecated. In future, it will be treated as `np.int32 == np.dtype(int).type`.\n",
      "  if np.issubdtype(mask.dtype, np.int):\n"
     ]
    },
    {
     "name": "stdout",
     "output_type": "stream",
     "text": [
      "Thresh=0.012880079113179944, n=13, R2 Score: 0.9545400447336706\n"
     ]
    },
    {
     "name": "stderr",
     "output_type": "stream",
     "text": [
      "C:\\ProgramData\\Anaconda3\\lib\\site-packages\\sklearn\\utils\\__init__.py:93: FutureWarning: Conversion of the second argument of issubdtype from `int` to `np.signedinteger` is deprecated. In future, it will be treated as `np.int32 == np.dtype(int).type`.\n",
      "  if np.issubdtype(mask.dtype, np.int):\n"
     ]
    },
    {
     "name": "stdout",
     "output_type": "stream",
     "text": [
      "Thresh=0.013118749878842458, n=12, R2 Score: 0.9554064324756633\n"
     ]
    },
    {
     "name": "stderr",
     "output_type": "stream",
     "text": [
      "C:\\ProgramData\\Anaconda3\\lib\\site-packages\\sklearn\\utils\\__init__.py:93: FutureWarning: Conversion of the second argument of issubdtype from `int` to `np.signedinteger` is deprecated. In future, it will be treated as `np.int32 == np.dtype(int).type`.\n",
      "  if np.issubdtype(mask.dtype, np.int):\n"
     ]
    },
    {
     "name": "stdout",
     "output_type": "stream",
     "text": [
      "Thresh=0.013999296881433912, n=11, R2 Score: 0.9553744478919859\n"
     ]
    },
    {
     "name": "stderr",
     "output_type": "stream",
     "text": [
      "C:\\ProgramData\\Anaconda3\\lib\\site-packages\\sklearn\\utils\\__init__.py:93: FutureWarning: Conversion of the second argument of issubdtype from `int` to `np.signedinteger` is deprecated. In future, it will be treated as `np.int32 == np.dtype(int).type`.\n",
      "  if np.issubdtype(mask.dtype, np.int):\n"
     ]
    },
    {
     "name": "stdout",
     "output_type": "stream",
     "text": [
      "Thresh=0.01554453686836695, n=10, R2 Score: 0.9507370782305828\n"
     ]
    },
    {
     "name": "stderr",
     "output_type": "stream",
     "text": [
      "C:\\ProgramData\\Anaconda3\\lib\\site-packages\\sklearn\\utils\\__init__.py:93: FutureWarning: Conversion of the second argument of issubdtype from `int` to `np.signedinteger` is deprecated. In future, it will be treated as `np.int32 == np.dtype(int).type`.\n",
      "  if np.issubdtype(mask.dtype, np.int):\n"
     ]
    },
    {
     "name": "stdout",
     "output_type": "stream",
     "text": [
      "Thresh=0.01827906669082972, n=9, R2 Score: 0.9520020346058571\n"
     ]
    },
    {
     "name": "stderr",
     "output_type": "stream",
     "text": [
      "C:\\ProgramData\\Anaconda3\\lib\\site-packages\\sklearn\\utils\\__init__.py:93: FutureWarning: Conversion of the second argument of issubdtype from `int` to `np.signedinteger` is deprecated. In future, it will be treated as `np.int32 == np.dtype(int).type`.\n",
      "  if np.issubdtype(mask.dtype, np.int):\n"
     ]
    },
    {
     "name": "stdout",
     "output_type": "stream",
     "text": [
      "Thresh=0.019918718347808114, n=8, R2 Score: 0.9469821670296197\n"
     ]
    },
    {
     "name": "stderr",
     "output_type": "stream",
     "text": [
      "C:\\ProgramData\\Anaconda3\\lib\\site-packages\\sklearn\\utils\\__init__.py:93: FutureWarning: Conversion of the second argument of issubdtype from `int` to `np.signedinteger` is deprecated. In future, it will be treated as `np.int32 == np.dtype(int).type`.\n",
      "  if np.issubdtype(mask.dtype, np.int):\n"
     ]
    },
    {
     "name": "stdout",
     "output_type": "stream",
     "text": [
      "Thresh=0.028502241273978535, n=7, R2 Score: 0.9475320551061156\n"
     ]
    },
    {
     "name": "stderr",
     "output_type": "stream",
     "text": [
      "C:\\ProgramData\\Anaconda3\\lib\\site-packages\\sklearn\\utils\\__init__.py:93: FutureWarning: Conversion of the second argument of issubdtype from `int` to `np.signedinteger` is deprecated. In future, it will be treated as `np.int32 == np.dtype(int).type`.\n",
      "  if np.issubdtype(mask.dtype, np.int):\n"
     ]
    },
    {
     "name": "stdout",
     "output_type": "stream",
     "text": [
      "Thresh=0.03432682370211651, n=6, R2 Score: 0.9455349680029358\n"
     ]
    },
    {
     "name": "stderr",
     "output_type": "stream",
     "text": [
      "C:\\ProgramData\\Anaconda3\\lib\\site-packages\\sklearn\\utils\\__init__.py:93: FutureWarning: Conversion of the second argument of issubdtype from `int` to `np.signedinteger` is deprecated. In future, it will be treated as `np.int32 == np.dtype(int).type`.\n",
      "  if np.issubdtype(mask.dtype, np.int):\n"
     ]
    },
    {
     "name": "stdout",
     "output_type": "stream",
     "text": [
      "Thresh=0.040596451875189225, n=5, R2 Score: 0.9424968033421983\n"
     ]
    },
    {
     "name": "stderr",
     "output_type": "stream",
     "text": [
      "C:\\ProgramData\\Anaconda3\\lib\\site-packages\\sklearn\\utils\\__init__.py:93: FutureWarning: Conversion of the second argument of issubdtype from `int` to `np.signedinteger` is deprecated. In future, it will be treated as `np.int32 == np.dtype(int).type`.\n",
      "  if np.issubdtype(mask.dtype, np.int):\n"
     ]
    },
    {
     "name": "stdout",
     "output_type": "stream",
     "text": [
      "Thresh=0.08343989695079553, n=4, R2 Score: 0.9102518743308914\n"
     ]
    },
    {
     "name": "stderr",
     "output_type": "stream",
     "text": [
      "C:\\ProgramData\\Anaconda3\\lib\\site-packages\\sklearn\\utils\\__init__.py:93: FutureWarning: Conversion of the second argument of issubdtype from `int` to `np.signedinteger` is deprecated. In future, it will be treated as `np.int32 == np.dtype(int).type`.\n",
      "  if np.issubdtype(mask.dtype, np.int):\n"
     ]
    },
    {
     "name": "stdout",
     "output_type": "stream",
     "text": [
      "Thresh=0.1283062961142982, n=3, R2 Score: 0.8691318172390106\n"
     ]
    },
    {
     "name": "stderr",
     "output_type": "stream",
     "text": [
      "C:\\ProgramData\\Anaconda3\\lib\\site-packages\\sklearn\\utils\\__init__.py:93: FutureWarning: Conversion of the second argument of issubdtype from `int` to `np.signedinteger` is deprecated. In future, it will be treated as `np.int32 == np.dtype(int).type`.\n",
      "  if np.issubdtype(mask.dtype, np.int):\n"
     ]
    },
    {
     "name": "stdout",
     "output_type": "stream",
     "text": [
      "Thresh=0.22327705472875778, n=2, R2 Score: 0.6764907178548357\n"
     ]
    },
    {
     "name": "stderr",
     "output_type": "stream",
     "text": [
      "C:\\ProgramData\\Anaconda3\\lib\\site-packages\\sklearn\\utils\\__init__.py:93: FutureWarning: Conversion of the second argument of issubdtype from `int` to `np.signedinteger` is deprecated. In future, it will be treated as `np.int32 == np.dtype(int).type`.\n",
      "  if np.issubdtype(mask.dtype, np.int):\n"
     ]
    },
    {
     "name": "stdout",
     "output_type": "stream",
     "text": [
      "Thresh=0.2795388160085344, n=1, R2 Score: 0.044337887854852265\n"
     ]
    },
    {
     "data": {
      "image/png": "[encoded data removed]",
      "text/plain": [
       "<Figure size 1440x1080 with 1 Axes>"
      ]
     },
     "metadata": {
      "needs_background": "light"
     },
     "output_type": "display_data"
    }
   ],
   "source": [
    "rfr_rep_hist_snapshot_score, rfr_rep_hist_snapshot_count = EnsembleWrappers.rfr_wrapper(X_df=rep_hist_snapshot_df_pruned_norm,\n",
    "                                                                                        y_df=rep_hist_snapshot_df_pruned['SNAP_ID'],\n",
    "                                                                                        test_split=test_split,\n",
    "                                                                                        table_name='REP_HIST_SNAPSHOT',\n",
    "                                                                                        top_n_features=top_n_features,\n",
    "                                                                                        parallel_degree=parallel_degree)"
   ]
  },
  {
   "cell_type": "markdown",
   "metadata": {},
   "source": [
    "### Gradient Boosting Wrapper (Feature Combination)  (Regression)\n",
    "\n",
    "Utilizes an ensemble Gradient Boosting method to gauge different feature combination/counts.\n",
    "\n",
    "https://machinelearningmastery.com/gentle-introduction-gradient-boosting-algorithm-machine-learning/"
   ]
  },
  {
   "cell_type": "code",
   "execution_count": 67,
   "metadata": {
    "scrolled": true
   },
   "outputs": [
    {
     "name": "stdout",
     "output_type": "stream",
     "text": [
      "Table [REP_HIST_SNAPSHOT] RFR R2 Score: 0.5458093561879931\n",
      "Feature Importance\n",
      "------------------------------------------------------------\n",
      "[0.00000000e+00 7.04786137e-03 1.92207770e-02 3.69759577e-02\n",
      " 0.00000000e+00 1.01987295e-02 0.00000000e+00 1.57717885e-02\n",
      " 0.00000000e+00 3.70205853e-03 0.00000000e+00 0.00000000e+00\n",
      " 0.00000000e+00 2.27266611e-04 0.00000000e+00 0.00000000e+00\n",
      " 0.00000000e+00 3.70676275e-03 0.00000000e+00 7.57467205e-03\n",
      " 0.00000000e+00 4.15212011e-02 6.10943289e-04 2.09837304e-03\n",
      " 0.00000000e+00 1.17909900e-03 1.62982385e-04 3.27733220e-02\n",
      " 4.37237759e-03 2.71518193e-01 0.00000000e+00 0.00000000e+00\n",
      " 0.00000000e+00 3.27331473e-03 0.00000000e+00 0.00000000e+00\n",
      " 0.00000000e+00 3.99052816e-01 0.00000000e+00 3.83803307e-02\n",
      " 0.00000000e+00 5.11738577e-03 0.00000000e+00 3.68687345e-02\n",
      " 0.00000000e+00 6.15932229e-04 0.00000000e+00 1.13947468e-02\n",
      " 0.00000000e+00 4.66343736e-02 0.00000000e+00]\n",
      "------------------------------------------------------------\n"
     ]
    },
    {
     "name": "stderr",
     "output_type": "stream",
     "text": [
      "C:\\ProgramData\\Anaconda3\\lib\\site-packages\\sklearn\\utils\\__init__.py:93: FutureWarning: Conversion of the second argument of issubdtype from `int` to `np.signedinteger` is deprecated. In future, it will be treated as `np.int32 == np.dtype(int).type`.\n",
      "  if np.issubdtype(mask.dtype, np.int):\n"
     ]
    },
    {
     "name": "stdout",
     "output_type": "stream",
     "text": [
      "Thresh=0.0, n=51, R2 Score: 0.5459063381806601\n",
      "Thresh=0.0, n=51, R2 Score: 0.5459063381806601\n",
      "Thresh=0.0, n=51, R2 Score: 0.5458093561879931\n",
      "Thresh=0.0, n=51, R2 Score: 0.5459063381806601\n",
      "Thresh=0.0, n=51, R2 Score: 0.5458093561879931\n",
      "Thresh=0.0, n=51, R2 Score: 0.5459063381806601\n",
      "Thresh=0.0, n=51, R2 Score: 0.5459063381806601\n",
      "Thresh=0.0, n=51, R2 Score: 0.5458093561879931\n",
      "Thresh=0.0, n=51, R2 Score: 0.5459063381806601\n",
      "Thresh=0.0, n=51, R2 Score: 0.5459063381806601\n",
      "Thresh=0.0, n=51, R2 Score: 0.5459063381806601\n",
      "Thresh=0.0, n=51, R2 Score: 0.5459063381806601\n",
      "Thresh=0.0, n=51, R2 Score: 0.5459063381806601\n",
      "Thresh=0.0, n=51, R2 Score: 0.5459063381806601\n",
      "Thresh=0.0, n=51, R2 Score: 0.5459063381806601\n",
      "Thresh=0.0, n=51, R2 Score: 0.5458093561879931\n",
      "Thresh=0.0, n=51, R2 Score: 0.5458093561879931\n",
      "Thresh=0.0, n=51, R2 Score: 0.5458093561879931\n",
      "Thresh=0.0, n=51, R2 Score: 0.5458093561879931\n",
      "Thresh=0.0, n=51, R2 Score: 0.5458093561879931\n",
      "Thresh=0.0, n=51, R2 Score: 0.5458093561879931\n",
      "Thresh=0.0, n=51, R2 Score: 0.5459063381806601\n",
      "Thresh=0.0, n=51, R2 Score: 0.5458093561879931\n",
      "Thresh=0.0, n=51, R2 Score: 0.5459063381806601\n",
      "Thresh=0.0, n=51, R2 Score: 0.5458093561879931\n",
      "Thresh=0.0, n=51, R2 Score: 0.5459063381806601\n",
      "Thresh=0.00016298238532051502, n=25, R2 Score: 0.5459063381806601\n",
      "Thresh=0.00022726661061891578, n=24, R2 Score: 0.5457962366800566\n",
      "Thresh=0.0006109432890274607, n=23, R2 Score: 0.5457939450703218\n",
      "Thresh=0.0006159322293055597, n=22, R2 Score: 0.5459372053116827\n",
      "Thresh=0.0011790990042467185, n=21, R2 Score: 0.5658218841034048\n",
      "Thresh=0.0020983730424191434, n=20, R2 Score: 0.5658182028120513\n",
      "Thresh=0.0032733147324591075, n=19, R2 Score: 0.5634578759490498\n",
      "Thresh=0.0037020585334997325, n=18, R2 Score: 0.5292447528028527\n",
      "Thresh=0.0037067627523750583, n=17, R2 Score: 0.5288640349198664\n",
      "Thresh=0.004372377594530318, n=16, R2 Score: 0.5288457318832289\n",
      "Thresh=0.0051173857692867475, n=15, R2 Score: 0.5192074546433152\n",
      "Thresh=0.0070478613698572645, n=14, R2 Score: 0.5364106689054702\n",
      "Thresh=0.007574672050661927, n=13, R2 Score: 0.5363252243511216\n",
      "Thresh=0.010198729514430408, n=12, R2 Score: 0.5223893983692375\n",
      "Thresh=0.011394746797176687, n=11, R2 Score: 0.5234922763632789\n",
      "Thresh=0.01577178848433033, n=10, R2 Score: 0.555026763701116\n",
      "Thresh=0.019220777040633026, n=9, R2 Score: 0.5431371594278881\n",
      "Thresh=0.0327733219539056, n=8, R2 Score: 0.5236851211888144\n",
      "Thresh=0.03686873454098193, n=7, R2 Score: 0.5423439952523332\n",
      "Thresh=0.036975957653379514, n=6, R2 Score: 0.5300256715079892\n",
      "Thresh=0.038380330655247305, n=5, R2 Score: 0.5155997732183649\n",
      "Thresh=0.04152120111186386, n=4, R2 Score: 0.511764333528133\n",
      "Thresh=0.046634373584185984, n=3, R2 Score: 0.47769357412507163\n",
      "Thresh=0.2715181933585547, n=2, R2 Score: 0.48571640389098025\n",
      "Thresh=0.3990528159417022, n=1, R2 Score: 0.1385686826729241\n"
     ]
    },
    {
     "data": {
      "image/png": "[encoded data removed]",
      "text/plain": [
       "<Figure size 1440x1080 with 1 Axes>"
      ]
     },
     "metadata": {
      "needs_background": "light"
     },
     "output_type": "display_data"
    }
   ],
   "source": [
    "gbw_rep_hist_snapshot_score, gbw_rep_hist_snapshot_count = EnsembleWrappers.gradient_boosting_wrapper(X_df=rep_hist_snapshot_df_pruned_norm,\n",
    "                                                                                                      y_df=rep_hist_snapshot_df_pruned['SNAP_ID'],\n",
    "                                                                                                      test_split=test_split,\n",
    "                                                                                                      table_name='REP_HIST_SNAPSHOT',\n",
    "                                                                                                      top_n_features=top_n_features)"
   ]
  },
  {
   "cell_type": "markdown",
   "metadata": {},
   "source": [
    "### Recursive Feature Elimination (Regression)\n",
    "\n",
    "Implements a recursive solution, where in features are eliminated based on an ensemble evaluator."
   ]
  },
  {
   "cell_type": "code",
   "execution_count": 68,
   "metadata": {},
   "outputs": [],
   "source": [
    "class FeatureEliminator:\n",
    "    \"\"\"\n",
    "    This class is dedicated to housing logic pertaining to feature selection - retaining only labels which are considered\n",
    "    important.\n",
    "    \"\"\"\n",
    "    def __init__(self, X_df, y_df):\n",
    "        \"\"\"\n",
    "        Class constructor.\n",
    "        :param X_df: (Pandas) Pandas feature matrix.\n",
    "        :param y_df: (Pandas) Pandas label matrix.\n",
    "        :return: None\n",
    "        \"\"\"\n",
    "        self.__X_df = X_df\n",
    "        self.__y_df = y_df\n",
    "    \n",
    "    def rfe_selector(self, test_split=.4, optimum_feature_count=0, model=None, parallel_degree=1):\n",
    "        \"\"\"\n",
    "        Recursive Feature Elimination Function. Isolates and eliminated features one by one, up till the desired amount, starting\n",
    "        by features which are considered less important.\n",
    "        :param test_split:            (Float) Denotes training/testing data split.\n",
    "        :param optimum_feature_count: (Integer) Denotes the best estimated number of features to retain before a performance drop\n",
    "                                                is estimated.\n",
    "        :param parallel_degree:       (Integer) Denotes model training parallel degree.\n",
    "        :return: (List) This list is composed of boolean values, which correspond to the input feature column headers. True List \n",
    "                        values denote columns which have been retained. False values denote eliminated feature headers.\n",
    "        :return: (List) This list denotes feature rankings, which correspond to the input feature column headers. Values of '1',\n",
    "                        denote that features have been retained.\n",
    "        \"\"\"\n",
    "        X_df = np.array(self.__X_df)\n",
    "        y_df = np.array(self.__y_df)\n",
    "        \n",
    "        X_train, X_test, y_train, y_test = train_test_split(X_df, y_df, test_size=test_split)\n",
    "        if model == 0:\n",
    "            model = RandomForestRegressor(n_estimators=2000,\n",
    "                                          n_jobs=parallel_degree)\n",
    "        elif model == 1:\n",
    "            model = GradientBoostingRegressor(n_estimators=2000)\n",
    "\n",
    "        # create the RFE model and select N attributes\n",
    "        rfe_model = RFE(model, optimum_feature_count, step=1)\n",
    "        rfe_model = rfe_model.fit(X_train, y_train)\n",
    "\n",
    "        # summarize the selection of the attributes\n",
    "        print(rfe_model.support_)\n",
    "        print(rfe_model.ranking_)\n",
    "\n",
    "        # evaluate the model on testing set\n",
    "        pred_y = rfe_model.predict(X_test)\n",
    "        predictions = [round(value) for value in pred_y]\n",
    "        r2s = r2_score(y_test, predictions)\n",
    "        \n",
    "        return rfe_model.support_, rfe_model.ranking_\n",
    "    \n",
    "    def get_selected_features(self, column_mask):\n",
    "        \"\"\"\n",
    "        Retrieves features which have not been eliminated from the RFE function.\n",
    "        :param column_mask: (List) This list is composed of boolean values, which correspond to the input feature column headers. \n",
    "                                   True list values denote columns which have been retained. False values denote eliminated \n",
    "                                   feature headers. \n",
    "        :return: (Pandas) Pandas data matrix.\n",
    "        \"\"\"\n",
    "        recommended_columns = []\n",
    "        for i in range(len(self.__X_df.columns)):\n",
    "            if (column_mask[i]):\n",
    "                recommended_columns.append(self.__X_df.columns[i])\n",
    "                \n",
    "        return self.__X_df[recommended_columns]"
   ]
  },
  {
   "cell_type": "code",
   "execution_count": 69,
   "metadata": {},
   "outputs": [
    {
     "ename": "KeyboardInterrupt",
     "evalue": "",
     "output_type": "error",
     "traceback": [
      "\u001b[1;31m---------------------------------------------------------------------------\u001b[0m",
      "\u001b[1;31mKeyboardInterrupt\u001b[0m                         Traceback (most recent call last)",
      "\u001b[1;32m<ipython-input-69-ff808edc08be>\u001b[0m in \u001b[0;36m<module>\u001b[1;34m()\u001b[0m\n\u001b[0;32m     11\u001b[0m                                                \u001b[0moptimum_feature_count\u001b[0m\u001b[1;33m=\u001b[0m\u001b[0mrep_hist_snapshot_op\u001b[0m\u001b[1;33m,\u001b[0m\u001b[1;33m\u001b[0m\u001b[0m\n\u001b[0;32m     12\u001b[0m                                                \u001b[0mmodel\u001b[0m \u001b[1;33m=\u001b[0m \u001b[0mrep_hist_snapshot_model\u001b[0m\u001b[1;33m,\u001b[0m\u001b[1;33m\u001b[0m\u001b[0m\n\u001b[1;32m---> 13\u001b[1;33m                                                parallel_degree=parallel_degree)\n\u001b[0m\u001b[0;32m     14\u001b[0m \u001b[0mprint\u001b[0m\u001b[1;33m(\u001b[0m\u001b[0mrep_hist_snapshot_df_pruned_norm\u001b[0m\u001b[1;33m.\u001b[0m\u001b[0mcolumns\u001b[0m\u001b[1;33m)\u001b[0m\u001b[1;33m\u001b[0m\u001b[0m\n\u001b[0;32m     15\u001b[0m \u001b[0mrep_hist_snapshot_df_pruned_norm\u001b[0m \u001b[1;33m=\u001b[0m \u001b[0mfe\u001b[0m\u001b[1;33m.\u001b[0m\u001b[0mget_selected_features\u001b[0m\u001b[1;33m(\u001b[0m\u001b[0mcolumn_mask\u001b[0m\u001b[1;33m=\u001b[0m\u001b[0mcolumn_mask\u001b[0m\u001b[1;33m)\u001b[0m\u001b[1;33m\u001b[0m\u001b[0m\n",
      "\u001b[1;32m<ipython-input-68-d93aed55892d>\u001b[0m in \u001b[0;36mrfe_selector\u001b[1;34m(self, test_split, optimum_feature_count, model, parallel_degree)\u001b[0m\n\u001b[0;32m     39\u001b[0m         \u001b[1;31m# create the RFE model and select N attributes\u001b[0m\u001b[1;33m\u001b[0m\u001b[1;33m\u001b[0m\u001b[0m\n\u001b[0;32m     40\u001b[0m         \u001b[0mrfe_model\u001b[0m \u001b[1;33m=\u001b[0m \u001b[0mRFE\u001b[0m\u001b[1;33m(\u001b[0m\u001b[0mmodel\u001b[0m\u001b[1;33m,\u001b[0m \u001b[0moptimum_feature_count\u001b[0m\u001b[1;33m,\u001b[0m \u001b[0mstep\u001b[0m\u001b[1;33m=\u001b[0m\u001b[1;36m1\u001b[0m\u001b[1;33m)\u001b[0m\u001b[1;33m\u001b[0m\u001b[0m\n\u001b[1;32m---> 41\u001b[1;33m         \u001b[0mrfe_model\u001b[0m \u001b[1;33m=\u001b[0m \u001b[0mrfe_model\u001b[0m\u001b[1;33m.\u001b[0m\u001b[0mfit\u001b[0m\u001b[1;33m(\u001b[0m\u001b[0mX_train\u001b[0m\u001b[1;33m,\u001b[0m \u001b[0my_train\u001b[0m\u001b[1;33m)\u001b[0m\u001b[1;33m\u001b[0m\u001b[0m\n\u001b[0m\u001b[0;32m     42\u001b[0m \u001b[1;33m\u001b[0m\u001b[0m\n\u001b[0;32m     43\u001b[0m         \u001b[1;31m# summarize the selection of the attributes\u001b[0m\u001b[1;33m\u001b[0m\u001b[1;33m\u001b[0m\u001b[0m\n",
      "\u001b[1;32mC:\\ProgramData\\Anaconda3\\lib\\site-packages\\sklearn\\feature_selection\\rfe.py\u001b[0m in \u001b[0;36mfit\u001b[1;34m(self, X, y)\u001b[0m\n\u001b[0;32m    132\u001b[0m             \u001b[0mThe\u001b[0m \u001b[0mtarget\u001b[0m \u001b[0mvalues\u001b[0m\u001b[1;33m.\u001b[0m\u001b[1;33m\u001b[0m\u001b[0m\n\u001b[0;32m    133\u001b[0m         \"\"\"\n\u001b[1;32m--> 134\u001b[1;33m         \u001b[1;32mreturn\u001b[0m \u001b[0mself\u001b[0m\u001b[1;33m.\u001b[0m\u001b[0m_fit\u001b[0m\u001b[1;33m(\u001b[0m\u001b[0mX\u001b[0m\u001b[1;33m,\u001b[0m \u001b[0my\u001b[0m\u001b[1;33m)\u001b[0m\u001b[1;33m\u001b[0m\u001b[0m\n\u001b[0m\u001b[0;32m    135\u001b[0m \u001b[1;33m\u001b[0m\u001b[0m\n\u001b[0;32m    136\u001b[0m     \u001b[1;32mdef\u001b[0m \u001b[0m_fit\u001b[0m\u001b[1;33m(\u001b[0m\u001b[0mself\u001b[0m\u001b[1;33m,\u001b[0m \u001b[0mX\u001b[0m\u001b[1;33m,\u001b[0m \u001b[0my\u001b[0m\u001b[1;33m,\u001b[0m \u001b[0mstep_score\u001b[0m\u001b[1;33m=\u001b[0m\u001b[1;32mNone\u001b[0m\u001b[1;33m)\u001b[0m\u001b[1;33m:\u001b[0m\u001b[1;33m\u001b[0m\u001b[0m\n",
      "\u001b[1;32mC:\\ProgramData\\Anaconda3\\lib\\site-packages\\sklearn\\feature_selection\\rfe.py\u001b[0m in \u001b[0;36m_fit\u001b[1;34m(self, X, y, step_score)\u001b[0m\n\u001b[0;32m    171\u001b[0m                 \u001b[0mprint\u001b[0m\u001b[1;33m(\u001b[0m\u001b[1;34m\"Fitting estimator with %d features.\"\u001b[0m \u001b[1;33m%\u001b[0m \u001b[0mnp\u001b[0m\u001b[1;33m.\u001b[0m\u001b[0msum\u001b[0m\u001b[1;33m(\u001b[0m\u001b[0msupport_\u001b[0m\u001b[1;33m)\u001b[0m\u001b[1;33m)\u001b[0m\u001b[1;33m\u001b[0m\u001b[0m\n\u001b[0;32m    172\u001b[0m \u001b[1;33m\u001b[0m\u001b[0m\n\u001b[1;32m--> 173\u001b[1;33m             \u001b[0mestimator\u001b[0m\u001b[1;33m.\u001b[0m\u001b[0mfit\u001b[0m\u001b[1;33m(\u001b[0m\u001b[0mX\u001b[0m\u001b[1;33m[\u001b[0m\u001b[1;33m:\u001b[0m\u001b[1;33m,\u001b[0m \u001b[0mfeatures\u001b[0m\u001b[1;33m]\u001b[0m\u001b[1;33m,\u001b[0m \u001b[0my\u001b[0m\u001b[1;33m)\u001b[0m\u001b[1;33m\u001b[0m\u001b[0m\n\u001b[0m\u001b[0;32m    174\u001b[0m \u001b[1;33m\u001b[0m\u001b[0m\n\u001b[0;32m    175\u001b[0m             \u001b[1;31m# Get coefs\u001b[0m\u001b[1;33m\u001b[0m\u001b[1;33m\u001b[0m\u001b[0m\n",
      "\u001b[1;32mC:\\ProgramData\\Anaconda3\\lib\\site-packages\\sklearn\\ensemble\\forest.py\u001b[0m in \u001b[0;36mfit\u001b[1;34m(self, X, y, sample_weight)\u001b[0m\n\u001b[0;32m    325\u001b[0m                     \u001b[0mt\u001b[0m\u001b[1;33m,\u001b[0m \u001b[0mself\u001b[0m\u001b[1;33m,\u001b[0m \u001b[0mX\u001b[0m\u001b[1;33m,\u001b[0m \u001b[0my\u001b[0m\u001b[1;33m,\u001b[0m \u001b[0msample_weight\u001b[0m\u001b[1;33m,\u001b[0m \u001b[0mi\u001b[0m\u001b[1;33m,\u001b[0m \u001b[0mlen\u001b[0m\u001b[1;33m(\u001b[0m\u001b[0mtrees\u001b[0m\u001b[1;33m)\u001b[0m\u001b[1;33m,\u001b[0m\u001b[1;33m\u001b[0m\u001b[0m\n\u001b[0;32m    326\u001b[0m                     verbose=self.verbose, class_weight=self.class_weight)\n\u001b[1;32m--> 327\u001b[1;33m                 for i, t in enumerate(trees))\n\u001b[0m\u001b[0;32m    328\u001b[0m \u001b[1;33m\u001b[0m\u001b[0m\n\u001b[0;32m    329\u001b[0m             \u001b[1;31m# Collect newly grown trees\u001b[0m\u001b[1;33m\u001b[0m\u001b[1;33m\u001b[0m\u001b[0m\n",
      "\u001b[1;32mC:\\ProgramData\\Anaconda3\\lib\\site-packages\\sklearn\\externals\\joblib\\parallel.py\u001b[0m in \u001b[0;36m__call__\u001b[1;34m(self, iterable)\u001b[0m\n\u001b[0;32m    787\u001b[0m                 \u001b[1;31m# consumption.\u001b[0m\u001b[1;33m\u001b[0m\u001b[1;33m\u001b[0m\u001b[0m\n\u001b[0;32m    788\u001b[0m                 \u001b[0mself\u001b[0m\u001b[1;33m.\u001b[0m\u001b[0m_iterating\u001b[0m \u001b[1;33m=\u001b[0m \u001b[1;32mFalse\u001b[0m\u001b[1;33m\u001b[0m\u001b[0m\n\u001b[1;32m--> 789\u001b[1;33m             \u001b[0mself\u001b[0m\u001b[1;33m.\u001b[0m\u001b[0mretrieve\u001b[0m\u001b[1;33m(\u001b[0m\u001b[1;33m)\u001b[0m\u001b[1;33m\u001b[0m\u001b[0m\n\u001b[0m\u001b[0;32m    790\u001b[0m             \u001b[1;31m# Make sure that we get a last message telling us we are done\u001b[0m\u001b[1;33m\u001b[0m\u001b[1;33m\u001b[0m\u001b[0m\n\u001b[0;32m    791\u001b[0m             \u001b[0melapsed_time\u001b[0m \u001b[1;33m=\u001b[0m \u001b[0mtime\u001b[0m\u001b[1;33m.\u001b[0m\u001b[0mtime\u001b[0m\u001b[1;33m(\u001b[0m\u001b[1;33m)\u001b[0m \u001b[1;33m-\u001b[0m \u001b[0mself\u001b[0m\u001b[1;33m.\u001b[0m\u001b[0m_start_time\u001b[0m\u001b[1;33m\u001b[0m\u001b[0m\n",
      "\u001b[1;32mC:\\ProgramData\\Anaconda3\\lib\\site-packages\\sklearn\\externals\\joblib\\parallel.py\u001b[0m in \u001b[0;36mretrieve\u001b[1;34m(self)\u001b[0m\n\u001b[0;32m    697\u001b[0m             \u001b[1;32mtry\u001b[0m\u001b[1;33m:\u001b[0m\u001b[1;33m\u001b[0m\u001b[0m\n\u001b[0;32m    698\u001b[0m                 \u001b[1;32mif\u001b[0m \u001b[0mgetattr\u001b[0m\u001b[1;33m(\u001b[0m\u001b[0mself\u001b[0m\u001b[1;33m.\u001b[0m\u001b[0m_backend\u001b[0m\u001b[1;33m,\u001b[0m \u001b[1;34m'supports_timeout'\u001b[0m\u001b[1;33m,\u001b[0m \u001b[1;32mFalse\u001b[0m\u001b[1;33m)\u001b[0m\u001b[1;33m:\u001b[0m\u001b[1;33m\u001b[0m\u001b[0m\n\u001b[1;32m--> 699\u001b[1;33m                     \u001b[0mself\u001b[0m\u001b[1;33m.\u001b[0m\u001b[0m_output\u001b[0m\u001b[1;33m.\u001b[0m\u001b[0mextend\u001b[0m\u001b[1;33m(\u001b[0m\u001b[0mjob\u001b[0m\u001b[1;33m.\u001b[0m\u001b[0mget\u001b[0m\u001b[1;33m(\u001b[0m\u001b[0mtimeout\u001b[0m\u001b[1;33m=\u001b[0m\u001b[0mself\u001b[0m\u001b[1;33m.\u001b[0m\u001b[0mtimeout\u001b[0m\u001b[1;33m)\u001b[0m\u001b[1;33m)\u001b[0m\u001b[1;33m\u001b[0m\u001b[0m\n\u001b[0m\u001b[0;32m    700\u001b[0m                 \u001b[1;32melse\u001b[0m\u001b[1;33m:\u001b[0m\u001b[1;33m\u001b[0m\u001b[0m\n\u001b[0;32m    701\u001b[0m                     \u001b[0mself\u001b[0m\u001b[1;33m.\u001b[0m\u001b[0m_output\u001b[0m\u001b[1;33m.\u001b[0m\u001b[0mextend\u001b[0m\u001b[1;33m(\u001b[0m\u001b[0mjob\u001b[0m\u001b[1;33m.\u001b[0m\u001b[0mget\u001b[0m\u001b[1;33m(\u001b[0m\u001b[1;33m)\u001b[0m\u001b[1;33m)\u001b[0m\u001b[1;33m\u001b[0m\u001b[0m\n",
      "\u001b[1;32mC:\\ProgramData\\Anaconda3\\lib\\multiprocessing\\pool.py\u001b[0m in \u001b[0;36mget\u001b[1;34m(self, timeout)\u001b[0m\n\u001b[0;32m    636\u001b[0m \u001b[1;33m\u001b[0m\u001b[0m\n\u001b[0;32m    637\u001b[0m     \u001b[1;32mdef\u001b[0m \u001b[0mget\u001b[0m\u001b[1;33m(\u001b[0m\u001b[0mself\u001b[0m\u001b[1;33m,\u001b[0m \u001b[0mtimeout\u001b[0m\u001b[1;33m=\u001b[0m\u001b[1;32mNone\u001b[0m\u001b[1;33m)\u001b[0m\u001b[1;33m:\u001b[0m\u001b[1;33m\u001b[0m\u001b[0m\n\u001b[1;32m--> 638\u001b[1;33m         \u001b[0mself\u001b[0m\u001b[1;33m.\u001b[0m\u001b[0mwait\u001b[0m\u001b[1;33m(\u001b[0m\u001b[0mtimeout\u001b[0m\u001b[1;33m)\u001b[0m\u001b[1;33m\u001b[0m\u001b[0m\n\u001b[0m\u001b[0;32m    639\u001b[0m         \u001b[1;32mif\u001b[0m \u001b[1;32mnot\u001b[0m \u001b[0mself\u001b[0m\u001b[1;33m.\u001b[0m\u001b[0mready\u001b[0m\u001b[1;33m(\u001b[0m\u001b[1;33m)\u001b[0m\u001b[1;33m:\u001b[0m\u001b[1;33m\u001b[0m\u001b[0m\n\u001b[0;32m    640\u001b[0m             \u001b[1;32mraise\u001b[0m \u001b[0mTimeoutError\u001b[0m\u001b[1;33m\u001b[0m\u001b[0m\n",
      "\u001b[1;32mC:\\ProgramData\\Anaconda3\\lib\\multiprocessing\\pool.py\u001b[0m in \u001b[0;36mwait\u001b[1;34m(self, timeout)\u001b[0m\n\u001b[0;32m    633\u001b[0m \u001b[1;33m\u001b[0m\u001b[0m\n\u001b[0;32m    634\u001b[0m     \u001b[1;32mdef\u001b[0m \u001b[0mwait\u001b[0m\u001b[1;33m(\u001b[0m\u001b[0mself\u001b[0m\u001b[1;33m,\u001b[0m \u001b[0mtimeout\u001b[0m\u001b[1;33m=\u001b[0m\u001b[1;32mNone\u001b[0m\u001b[1;33m)\u001b[0m\u001b[1;33m:\u001b[0m\u001b[1;33m\u001b[0m\u001b[0m\n\u001b[1;32m--> 635\u001b[1;33m         \u001b[0mself\u001b[0m\u001b[1;33m.\u001b[0m\u001b[0m_event\u001b[0m\u001b[1;33m.\u001b[0m\u001b[0mwait\u001b[0m\u001b[1;33m(\u001b[0m\u001b[0mtimeout\u001b[0m\u001b[1;33m)\u001b[0m\u001b[1;33m\u001b[0m\u001b[0m\n\u001b[0m\u001b[0;32m    636\u001b[0m \u001b[1;33m\u001b[0m\u001b[0m\n\u001b[0;32m    637\u001b[0m     \u001b[1;32mdef\u001b[0m \u001b[0mget\u001b[0m\u001b[1;33m(\u001b[0m\u001b[0mself\u001b[0m\u001b[1;33m,\u001b[0m \u001b[0mtimeout\u001b[0m\u001b[1;33m=\u001b[0m\u001b[1;32mNone\u001b[0m\u001b[1;33m)\u001b[0m\u001b[1;33m:\u001b[0m\u001b[1;33m\u001b[0m\u001b[0m\n",
      "\u001b[1;32mC:\\ProgramData\\Anaconda3\\lib\\threading.py\u001b[0m in \u001b[0;36mwait\u001b[1;34m(self, timeout)\u001b[0m\n\u001b[0;32m    549\u001b[0m             \u001b[0msignaled\u001b[0m \u001b[1;33m=\u001b[0m \u001b[0mself\u001b[0m\u001b[1;33m.\u001b[0m\u001b[0m_flag\u001b[0m\u001b[1;33m\u001b[0m\u001b[0m\n\u001b[0;32m    550\u001b[0m             \u001b[1;32mif\u001b[0m \u001b[1;32mnot\u001b[0m \u001b[0msignaled\u001b[0m\u001b[1;33m:\u001b[0m\u001b[1;33m\u001b[0m\u001b[0m\n\u001b[1;32m--> 551\u001b[1;33m                 \u001b[0msignaled\u001b[0m \u001b[1;33m=\u001b[0m \u001b[0mself\u001b[0m\u001b[1;33m.\u001b[0m\u001b[0m_cond\u001b[0m\u001b[1;33m.\u001b[0m\u001b[0mwait\u001b[0m\u001b[1;33m(\u001b[0m\u001b[0mtimeout\u001b[0m\u001b[1;33m)\u001b[0m\u001b[1;33m\u001b[0m\u001b[0m\n\u001b[0m\u001b[0;32m    552\u001b[0m             \u001b[1;32mreturn\u001b[0m \u001b[0msignaled\u001b[0m\u001b[1;33m\u001b[0m\u001b[0m\n\u001b[0;32m    553\u001b[0m \u001b[1;33m\u001b[0m\u001b[0m\n",
      "\u001b[1;32mC:\\ProgramData\\Anaconda3\\lib\\threading.py\u001b[0m in \u001b[0;36mwait\u001b[1;34m(self, timeout)\u001b[0m\n\u001b[0;32m    293\u001b[0m         \u001b[1;32mtry\u001b[0m\u001b[1;33m:\u001b[0m    \u001b[1;31m# restore state no matter what (e.g., KeyboardInterrupt)\u001b[0m\u001b[1;33m\u001b[0m\u001b[0m\n\u001b[0;32m    294\u001b[0m             \u001b[1;32mif\u001b[0m \u001b[0mtimeout\u001b[0m \u001b[1;32mis\u001b[0m \u001b[1;32mNone\u001b[0m\u001b[1;33m:\u001b[0m\u001b[1;33m\u001b[0m\u001b[0m\n\u001b[1;32m--> 295\u001b[1;33m                 \u001b[0mwaiter\u001b[0m\u001b[1;33m.\u001b[0m\u001b[0macquire\u001b[0m\u001b[1;33m(\u001b[0m\u001b[1;33m)\u001b[0m\u001b[1;33m\u001b[0m\u001b[0m\n\u001b[0m\u001b[0;32m    296\u001b[0m                 \u001b[0mgotit\u001b[0m \u001b[1;33m=\u001b[0m \u001b[1;32mTrue\u001b[0m\u001b[1;33m\u001b[0m\u001b[0m\n\u001b[0;32m    297\u001b[0m             \u001b[1;32melse\u001b[0m\u001b[1;33m:\u001b[0m\u001b[1;33m\u001b[0m\u001b[0m\n",
      "\u001b[1;31mKeyboardInterrupt\u001b[0m: "
     ]
    }
   ],
   "source": [
    "if rfr_rep_hist_snapshot_score > gbw_rep_hist_snapshot_score:\n",
    "    rep_hist_snapshot_op = rfr_rep_hist_snapshot_count\n",
    "    rep_hist_snapshot_model = 0\n",
    "else:\n",
    "    rep_hist_snapshot_op = gbw_rep_hist_snapshot_count\n",
    "    rep_hist_snapshot_model = 1\n",
    "\n",
    "fe = FeatureEliminator(X_df=rep_hist_snapshot_df_pruned_norm,\n",
    "                       y_df=rep_hist_snapshot_df_pruned['SNAP_ID'])\n",
    "column_mask, column_rankings = fe.rfe_selector(test_split=test_split,\n",
    "                                               optimum_feature_count=rep_hist_snapshot_op,\n",
    "                                               model = rep_hist_snapshot_model,\n",
    "                                               parallel_degree=parallel_degree)\n",
    "print(rep_hist_snapshot_df_pruned_norm.columns)\n",
    "rep_hist_snapshot_df_pruned_norm = fe.get_selected_features(column_mask=column_mask)\n",
    "print(rep_hist_snapshot_df_pruned_norm.columns)"
   ]
  }
 ],
 "metadata": {
  "kernelspec": {
   "display_name": "Python 3",
   "language": "python",
   "name": "python3"
  },
  "language_info": {
   "codemirror_mode": {
    "name": "ipython",
    "version": 3
   },
   "file_extension": ".py",
   "mimetype": "text/x-python",
   "name": "python",
   "nbconvert_exporter": "python",
   "pygments_lexer": "ipython3",
   "version": "3.6.6"
  }
 },
 "nbformat": 4,
 "nbformat_minor": 2
}
