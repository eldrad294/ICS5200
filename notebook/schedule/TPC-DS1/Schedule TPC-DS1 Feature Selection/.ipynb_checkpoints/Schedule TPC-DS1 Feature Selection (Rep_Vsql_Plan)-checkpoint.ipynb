{
 "cells": [
  {
   "cell_type": "markdown",
   "metadata": {},
   "source": [
    "# Schedule TPC-DS 1 Feature Selection (REP_VSQL_PLAN)\n",
    "\n",
    "This notebook is dedicated to dataset profiling. In this notebook, feature selection techniques will be implemented so as to categorize which features belay the most information to address the problem at hand - Workload Prediction. Due to the vast feature space which have been gathered during a workload's execution, manual techniques at determining which are most detrimental is not sufficient. \n",
    "\n",
    "Therefore the following work puts emphasis on automated techniques so as to determine out of the vast feature space which are most important to base future models upon. "
   ]
  },
  {
   "cell_type": "code",
   "execution_count": 48,
   "metadata": {},
   "outputs": [],
   "source": [
    "# Module Import\n",
    "import pandas as pd\n",
    "import numpy as np\n",
    "import matplotlib.pyplot as plt\n",
    "from sklearn.feature_selection import SelectFromModel, SelectKBest, chi2, RFE\n",
    "from sklearn.preprocessing import RobustScaler, MinMaxScaler\n",
    "from sklearn.ensemble import RandomForestRegressor, GradientBoostingRegressor\n",
    "from sklearn.model_selection import train_test_split\n",
    "from sklearn import preprocessing\n",
    "from operator import itemgetter\n",
    "from sklearn.metrics import r2_score"
   ]
  },
  {
   "cell_type": "markdown",
   "metadata": {},
   "source": [
    "### Configuration Cell\n",
    "\n",
    "Tweak parametric changes from this cell to influence outcome of experiment\n",
    "* tpcds - Schema upon which to operate test\n",
    "* debug_mode - Determines whether to plot graphs or not, useful for development purposes\n",
    "* low_quartile_limit - Lower Quartile threshold to detect outliers\n",
    "* upper_quartile_limit - Upper Quartile threshold to detect outliers\n",
    "* test_split - Denotes which Data Split to operate under when it comes to training / validation\n",
    "* nrows - Number of rows to read from csv file\n",
    "* top_n_features - Number of top features to focus on\n",
    "* parallel_degree - Number of parallel threads to train models with"
   ]
  },
  {
   "cell_type": "code",
   "execution_count": 49,
   "metadata": {},
   "outputs": [],
   "source": [
    "# Experiment Config\n",
    "tpcds='TPCDS1'\n",
    "debug_mode=True\n",
    "low_quartile_limit = 0\n",
    "upper_quartile_limit = 1\n",
    "test_split=.3\n",
    "nrows=10000\n",
    "top_n_features=6\n",
    "parallel_degree=4"
   ]
  },
  {
   "cell_type": "markdown",
   "metadata": {},
   "source": [
    "### Read data from file into Pandas Dataframes"
   ]
  },
  {
   "cell_type": "code",
   "execution_count": 50,
   "metadata": {},
   "outputs": [
    {
     "name": "stdout",
     "output_type": "stream",
     "text": [
      "Index(['DBID', 'SQL_ID', 'PLAN_HASH_VALUE', 'ID', 'OPERATION', 'OPTIONS',\n",
      "       'OBJECT_NODE', 'OBJECT#', 'OBJECT_OWNER', 'OBJECT_NAME', 'OBJECT_ALIAS',\n",
      "       'OBJECT_TYPE', 'OPTIMIZER', 'PARENT_ID', 'DEPTH', 'POSITION',\n",
      "       'SEARCH_COLUMNS', 'COST', 'CARDINALITY', 'BYTES', 'OTHER_TAG',\n",
      "       'PARTITION_START', 'PARTITION_STOP', 'PARTITION_ID', 'OTHER',\n",
      "       'DISTRIBUTION', 'CPU_COST', 'IO_COST', 'TEMP_SPACE',\n",
      "       'ACCESS_PREDICATES', 'FILTER_PREDICATES', 'PROJECTION', 'TIME',\n",
      "       'QBLOCK_NAME', 'REMARKS', 'TIMESTAMP', 'OTHER_XML', 'CON_DBID',\n",
      "       'CON_ID'],\n",
      "      dtype='object')\n",
      "Table [REP_VSQL_PLAN] - (10000, 39)\n"
     ]
    }
   ],
   "source": [
    "# Root path\n",
    "root_dir = 'C:/Users/gabriel.sammut/University/Data_ICS5200/Schedule/' + tpcds\n",
    "#root_dir = 'D:/Projects/Datagenerated_ICS5200/Schedule/' + tpcds\n",
    "\n",
    "# Open Data\n",
    "rep_vsql_plan_path = root_dir + '/rep_vsql_plan.csv'\n",
    "\n",
    "rep_vsql_plan_df = pd.read_csv(rep_vsql_plan_path,nrows=nrows)\n",
    "\n",
    "def prettify_header(headers):\n",
    "    \"\"\"\n",
    "    Cleans header list from unwated character strings\n",
    "    \"\"\"\n",
    "    header_list = []\n",
    "    [header_list.append(header.replace(\"(\",\"\").replace(\")\",\"\").replace(\"'\",\"\").replace(\",\",\"\")) for header in headers]\n",
    "    return header_list\n",
    "\n",
    "rep_vsql_plan_df.columns = prettify_header(rep_vsql_plan_df.columns.values)\n",
    "print(rep_vsql_plan_df.columns)\n",
    "print('Table [REP_VSQL_PLAN] - ' + str(rep_vsql_plan_df.shape))"
   ]
  },
  {
   "cell_type": "markdown",
   "metadata": {},
   "source": [
    "# Dataset Description\n",
    "\n",
    "The correlation of resources consumed (y) per snapshot (X) define our feature space. Since the objective here is to attempt to predict what resources will be incurred ahead of time, the problem can be defined as a number of questions:\n",
    "\n",
    "* Q: What resources can I predict to be in usage at point N in time?\n",
    "* Q: What resources should I be predicting that accurately portray a schedule's workload?\n",
    "* Q: What knowledge/data do I have ahead of time which I can use to base my predictions off?\n",
    "\n",
    "Due to the vast feature space in the available metrics monitored and captured during a workload's execution, it is important to rank which attribute is most beneficial than others. Additionally, it is important to analyze such features individually, and considerate of other features in two types of analysis:\n",
    "\n",
    "* Univariate Analysis\n",
    "* Multivariate Analysis\n",
    "\n",
    "Furthermore, multiple types of feature ranking / analysis techniques ara available, amongst which will be considered:\n",
    "\n",
    "* Filter Methods\n",
    "* Wrapper Methods\n",
    "* Embedded Methods"
   ]
  },
  {
   "cell_type": "markdown",
   "metadata": {},
   "source": [
    "# Data Preprocessing\n",
    "\n",
    "We apply a number of preprocessing techniques to the presented dataframes, particularly to normalize and/or scale feature vectors into a more suitable representation for downstream estimators:\n",
    "\n",
    "Relative Links:\n",
    "* http://scikit-learn.org/stable/modules/preprocessing.html\n",
    "* https://machinelearningmastery.com/improve-model-accuracy-with-data-pre-processing/\n",
    "* https://machinelearningmastery.com/normalize-standardize-time-series-data-python/"
   ]
  },
  {
   "cell_type": "markdown",
   "metadata": {},
   "source": [
    "### Checking for NaN Values\n",
    "\n",
    "Checking dataframes for potential missing values/data:"
   ]
  },
  {
   "cell_type": "code",
   "execution_count": 51,
   "metadata": {
    "scrolled": true
   },
   "outputs": [
    {
     "name": "stdout",
     "output_type": "stream",
     "text": [
      "Table REP_VSQL_PLAN: ['OPTIONS', 'OBJECT_NODE', 'OBJECT#', 'OBJECT_OWNER', 'OBJECT_NAME', 'OBJECT_ALIAS', 'OBJECT_TYPE', 'OPTIMIZER', 'PARENT_ID', 'COST', 'CARDINALITY', 'OTHER_TAG', 'PARTITION_START', 'PARTITION_STOP', 'PARTITION_ID', 'OTHER', 'DISTRIBUTION', 'IO_COST', 'ACCESS_PREDICATES', 'FILTER_PREDICATES', 'PROJECTION', 'TIME', 'QBLOCK_NAME', 'REMARKS', 'OTHER_XML']\n",
      "\n",
      "\n"
     ]
    }
   ],
   "source": [
    "def get_na_columns(df):\n",
    "    \"\"\"\n",
    "    Return columns which consist of NAN values\n",
    "    \"\"\"\n",
    "    na_list = []\n",
    "    for head in df.columns:\n",
    "        if df[head].isnull().values.any():\n",
    "            na_list.append(head)\n",
    "    return na_list\n",
    "\n",
    "print(\"Table REP_VSQL_PLAN: \" + str(get_na_columns(df=rep_vsql_plan_df)) + \"\\n\\n\")\n",
    "\n",
    "def fill_na(df):\n",
    "    \"\"\"\n",
    "    Replaces NA columns with 0s\n",
    "    \"\"\"\n",
    "    return df.fillna(0)\n",
    "\n",
    "# Populating NaN values with amount '0'\n",
    "rep_vsql_plan_df = fill_na(df=rep_vsql_plan_df)"
   ]
  },
  {
   "cell_type": "markdown",
   "metadata": {},
   "source": [
    "### Label Encoding\n",
    "\n",
    "Since this experiment deals with prediction of upcoming SQL_IDs, respectice SQL_ID strings need to labelled as a numeric representation. Label Encoder will be used here to convert SQL_ID's into a numeric format, which are in turn used for training. Evaluation (achieved predictions) is done so also in numeric format, at which point the label encoder is eventually used to decode back the labels into the original, respetive SQL_ID representation.\n",
    "\n",
    "This section of the experiment additionally converts the targetted label into a binarized version of the previous achieved categorical numeric values.\n",
    "\n",
    "* https://machinelearningmastery.com/why-one-hot-encode-data-in-machine-learning/\n",
    "* https://scikit-learn.org/stable/modules/generated/sklearn.preprocessing.OneHotEncoder.html\n",
    "* https://scikit-learn.org/stable/modules/generated/sklearn.preprocessing.LabelBinarizer.html"
   ]
  },
  {
   "cell_type": "code",
   "execution_count": 52,
   "metadata": {},
   "outputs": [
    {
     "name": "stdout",
     "output_type": "stream",
     "text": [
      "----------BEFORE----------\n",
      "(10000, 39)\n",
      "         DBID         SQL_ID  PLAN_HASH_VALUE  ID         OPERATION  \\\n",
      "0  2634225673  dxv968j0352kb        103598129   0  SELECT STATEMENT   \n",
      "1  2634225673  dxv968j0352kb        103598129   1              SORT   \n",
      "2  2634225673  dxv968j0352kb        103598129   2    PX COORDINATOR   \n",
      "3  2634225673  dxv968j0352kb        103598129   3           PX SEND   \n",
      "4  2634225673  dxv968j0352kb        103598129   4              SORT   \n",
      "5  2634225673  dxv968j0352kb        103598129   5        PX RECEIVE   \n",
      "6  2634225673  dxv968j0352kb        103598129   6           PX SEND   \n",
      "7  2634225673  dxv968j0352kb        103598129   7              SORT   \n",
      "8  2634225673  dxv968j0352kb        103598129   8          PX BLOCK   \n",
      "9  2634225673  dxv968j0352kb        103598129   9             INDEX   \n",
      "\n",
      "          OPTIONS OBJECT_NODE   OBJECT# OBJECT_OWNER            OBJECT_NAME  \\\n",
      "0               0           0       0.0            0                      0   \n",
      "1        GROUP BY           0       0.0            0                      0   \n",
      "2               0           0       0.0            0                      0   \n",
      "3     QC (RANDOM)      :Q1001       0.0          SYS               :TQ10001   \n",
      "4        GROUP BY      :Q1001       0.0            0                      0   \n",
      "5               0      :Q1001       0.0            0                      0   \n",
      "6            HASH      :Q1000       0.0          SYS               :TQ10000   \n",
      "7        GROUP BY      :Q1000       0.0            0                      0   \n",
      "8        ITERATOR      :Q1000       0.0            0                      0   \n",
      "9  FAST FULL SCAN      :Q1000  114628.0       TPCDS1  CS_SOLD_TIME_SK_INDEX   \n",
      "\n",
      "   ...   ACCESS_PREDICATES FILTER_PREDICATES PROJECTION  TIME  QBLOCK_NAME  \\\n",
      "0  ...                 0.0               0.0        0.0   0.0            0   \n",
      "1  ...                 0.0               0.0        0.0   0.0        SEL$1   \n",
      "2  ...                 0.0               0.0        0.0   0.0            0   \n",
      "3  ...                 0.0               0.0        0.0   0.0            0   \n",
      "4  ...                 0.0               0.0        0.0   0.0            0   \n",
      "5  ...                 0.0               0.0        0.0   0.0            0   \n",
      "6  ...                 0.0               0.0        0.0   0.0            0   \n",
      "7  ...                 0.0               0.0        0.0   0.0            0   \n",
      "8  ...                 0.0               0.0        0.0   1.0            0   \n",
      "9  ...                 0.0               0.0        0.0   1.0        SEL$1   \n",
      "\n",
      "   REMARKS            TIMESTAMP  \\\n",
      "0      0.0  2018-10-07 15:52:33   \n",
      "1      0.0  2018-10-07 15:52:33   \n",
      "2      0.0  2018-10-07 15:52:33   \n",
      "3      0.0  2018-10-07 15:52:33   \n",
      "4      0.0  2018-10-07 15:52:33   \n",
      "5      0.0  2018-10-07 15:52:33   \n",
      "6      0.0  2018-10-07 15:52:33   \n",
      "7      0.0  2018-10-07 15:52:33   \n",
      "8      0.0  2018-10-07 15:52:33   \n",
      "9      0.0  2018-10-07 15:52:33   \n",
      "\n",
      "                                           OTHER_XML    CON_DBID CON_ID  \n",
      "0                                                  0  2634225673      0  \n",
      "1  <other_xml><info type=\"db_version\">12.1.0.2</i...  2634225673      0  \n",
      "2                                                  0  2634225673      0  \n",
      "3                                                  0  2634225673      0  \n",
      "4                                                  0  2634225673      0  \n",
      "5                                                  0  2634225673      0  \n",
      "6                                                  0  2634225673      0  \n",
      "7                                                  0  2634225673      0  \n",
      "8                                                  0  2634225673      0  \n",
      "9                                                  0  2634225673      0  \n",
      "\n",
      "[10 rows x 39 columns]\n",
      "----------AFTER----------\n",
      "(10000, 39)\n",
      "         DBID  SQL_ID  PLAN_HASH_VALUE  ID  OPERATION  OPTIONS  OBJECT_NODE  \\\n",
      "0  2634225673       0        103598129   0          0        0            0   \n",
      "1  2634225673       0        103598129   1          1        1            0   \n",
      "2  2634225673       0        103598129   2          2        0            0   \n",
      "3  2634225673       0        103598129   3          3        2            1   \n",
      "4  2634225673       0        103598129   4          1        1            1   \n",
      "5  2634225673       0        103598129   5          4        0            1   \n",
      "6  2634225673       0        103598129   6          3        3            2   \n",
      "7  2634225673       0        103598129   7          1        1            2   \n",
      "8  2634225673       0        103598129   8          5        4            2   \n",
      "9  2634225673       0        103598129   9          6        5            2   \n",
      "\n",
      "    OBJECT#  OBJECT_OWNER  OBJECT_NAME   ...    ACCESS_PREDICATES  \\\n",
      "0       0.0             0            0   ...                  0.0   \n",
      "1       0.0             0            0   ...                  0.0   \n",
      "2       0.0             0            0   ...                  0.0   \n",
      "3       0.0             1            1   ...                  0.0   \n",
      "4       0.0             0            0   ...                  0.0   \n",
      "5       0.0             0            0   ...                  0.0   \n",
      "6       0.0             1            2   ...                  0.0   \n",
      "7       0.0             0            0   ...                  0.0   \n",
      "8       0.0             0            0   ...                  0.0   \n",
      "9  114628.0             2            3   ...                  0.0   \n",
      "\n",
      "   FILTER_PREDICATES  PROJECTION  TIME  QBLOCK_NAME  REMARKS  TIMESTAMP  \\\n",
      "0                0.0         0.0   0.0            0      0.0          0   \n",
      "1                0.0         0.0   0.0            1      0.0          0   \n",
      "2                0.0         0.0   0.0            0      0.0          0   \n",
      "3                0.0         0.0   0.0            0      0.0          0   \n",
      "4                0.0         0.0   0.0            0      0.0          0   \n",
      "5                0.0         0.0   0.0            0      0.0          0   \n",
      "6                0.0         0.0   0.0            0      0.0          0   \n",
      "7                0.0         0.0   0.0            0      0.0          0   \n",
      "8                0.0         0.0   1.0            0      0.0          0   \n",
      "9                0.0         0.0   1.0            1      0.0          0   \n",
      "\n",
      "   OTHER_XML    CON_DBID  CON_ID  \n",
      "0          0  2634225673       0  \n",
      "1          1  2634225673       0  \n",
      "2          0  2634225673       0  \n",
      "3          0  2634225673       0  \n",
      "4          0  2634225673       0  \n",
      "5          0  2634225673       0  \n",
      "6          0  2634225673       0  \n",
      "7          0  2634225673       0  \n",
      "8          0  2634225673       0  \n",
      "9          0  2634225673       0  \n",
      "\n",
      "[10 rows x 39 columns]\n"
     ]
    }
   ],
   "source": [
    "class LabelEncoder:\n",
    "    \"\"\"\n",
    "    Scikit Label Encoder was acting up with the following error whilst using the transform function, even though I tripled \n",
    "    checked that the passed data was exactly the same as the one used for training:\n",
    "    \n",
    "    * https://stackoverflow.com/questions/46288517/getting-valueerror-y-contains-new-labels-when-using-scikit-learns-labelencoder\n",
    "    \n",
    "    So I have rebuilt a similar functionality to categorize my data into numeric digits, as the LabelEncoder is supposed to do.\n",
    "    \"\"\"\n",
    "    #\n",
    "    def __init__(self):\n",
    "        self.__class_map = {}\n",
    "        self.__integer_counter = 0\n",
    "    #\n",
    "    def fit(self, X):\n",
    "        \"\"\"\n",
    "        :param - X: python list\n",
    "        \"\"\"\n",
    "        for val in X:\n",
    "            if val not in self.__class_map:\n",
    "                self.__class_map[val] = self.__integer_counter\n",
    "                self.__integer_counter += 1\n",
    "    #\n",
    "    def transform(self, X):\n",
    "        \"\"\"\n",
    "        param - X: python list\n",
    "        \"\"\"\n",
    "        encoded_map = []\n",
    "        for val in X:\n",
    "            if val in self.__class_map:\n",
    "                value = self.__class_map[val]\n",
    "                encoded_map.append(value)\n",
    "            else:\n",
    "                raise ValueError('Label Mismatch - Encountered a label which was not trained on.')\n",
    "        return encoded_map\n",
    "    #\n",
    "    def get_class_map(self):\n",
    "        \"\"\"\n",
    "        Returns original classes as a list\n",
    "        \"\"\"\n",
    "        class_map = []\n",
    "        for key, value in self.__class_map.items():\n",
    "            class_map.append(key)\n",
    "        return class_map\n",
    "    #\n",
    "    def get_encoded_map(self):\n",
    "        \"\"\"\n",
    "        Returns class encodings as a list\n",
    "        \"\"\"\n",
    "        encoded_map = []\n",
    "        for key, value in self.__class_map.items():\n",
    "            encoded_map.append(value)\n",
    "        return encoded_map\n",
    "\n",
    "print('-'*10 + 'BEFORE' + '-'*10)\n",
    "print(rep_vsql_plan_df.shape)\n",
    "print(rep_vsql_plan_df.head(10))\n",
    "\n",
    "for col in rep_vsql_plan_df.columns:\n",
    "    first_ten_vals = rep_vsql_plan_df[col].iloc[0:nrows]\n",
    "    try:\n",
    "        for val in first_ten_vals:\n",
    "            val = int(val)\n",
    "        continue  # If value is type casted successfully, then move on to the next value since it doesn't require label encoding\n",
    "    except ValueError:\n",
    "        le = LabelEncoder()  # Encode column with labels\n",
    "        val_list = rep_vsql_plan_df[col].tolist()\n",
    "        le.fit(val_list)\n",
    "        transformed_map = le.transform(val_list)\n",
    "        rep_vsql_plan_df[col] = pd.DataFrame(transformed_map, columns=[col])\n",
    "\n",
    "print('-'*10 + 'AFTER' + '-'*10)\n",
    "print(rep_vsql_plan_df.shape)\n",
    "print(rep_vsql_plan_df.head(10))"
   ]
  },
  {
   "cell_type": "markdown",
   "metadata": {},
   "source": [
    "### Checking for Negative Values\n",
    "\n",
    "A function which retrieves a count per column for nay negative values it might contain"
   ]
  },
  {
   "cell_type": "code",
   "execution_count": 53,
   "metadata": {
    "scrolled": false
   },
   "outputs": [
    {
     "name": "stdout",
     "output_type": "stream",
     "text": [
      "\n",
      "\n",
      "---------------WITH NEGATIVE VALUES---------------\n",
      "Table REP_VSQL_PLAN: (10000, 39)\n",
      "\n",
      "\n",
      "\n",
      "\n",
      "---------------WITHOUT NEGATIVE VALUES---------------\n",
      "Table REP_VSQL_PLAN: (10000, 39)\n",
      "\n",
      "\n"
     ]
    }
   ],
   "source": [
    "class NegativeHandler:\n",
    "    \"\"\"\n",
    "    This class contains logic pertaining to handling of negative values.\n",
    "    \"\"\"\n",
    "\n",
    "    def __init__(self, df):\n",
    "        \"\"\"\n",
    "        Class constructor.\n",
    "        :param df:      (Pandas) Data matrix containing data.\n",
    "        :param headers: (List) List of headers which will be evaluated for negative values.\n",
    "        :return: None\n",
    "        \"\"\"\n",
    "        self.__df = df\n",
    "\n",
    "    def fill_neg(self):\n",
    "        \"\"\"\n",
    "        Sets any data anomilies resulting in negative values to 0\n",
    "        :return: (Pandas) Dataframe with ammended negative values.\n",
    "        \"\"\"\n",
    "        df = self.__df\n",
    "        for head in df.columns:\n",
    "            try:\n",
    "                df[df[head] < 0] = 0\n",
    "            except Exception:\n",
    "                pass\n",
    "                #print('Non numeric column [' + head + ']')\n",
    "        return df\n",
    "\n",
    "nh = NegativeHandler(df=rep_vsql_plan_df)\n",
    "\n",
    "# Check For Negative Values within dataframes\n",
    "print('\\n\\n---------------WITH NEGATIVE VALUES---------------')\n",
    "print(\"Table REP_VSQL_PLAN: \" + str(rep_vsql_plan_df.shape) + \"\\n\\n\")\n",
    "\n",
    "# Replace Negative Values with a minimal threshold of 0\n",
    "rep_vsql_plan_df = nh.fill_neg()\n",
    "\n",
    "# Check For Negative Values within dataframes\n",
    "print('\\n\\n---------------WITHOUT NEGATIVE VALUES---------------')\n",
    "print(\"Table REP_VSQL_PLAN: \" + str(rep_vsql_plan_df.shape) + \"\\n\\n\")"
   ]
  },
  {
   "cell_type": "markdown",
   "metadata": {},
   "source": [
    "### Redundant Feature Removal\n",
    "\n",
    "In this step, redundant features are dropped. Features are considered redundant if exhibit a standard devaition of 0 (meaning no change in value)."
   ]
  },
  {
   "cell_type": "code",
   "execution_count": 54,
   "metadata": {},
   "outputs": [
    {
     "name": "stdout",
     "output_type": "stream",
     "text": [
      "Dropping feature [DBID]\n",
      "Dropping feature [PARTITION_START]\n",
      "Dropping feature [PARTITION_STOP]\n",
      "Dropping feature [PARTITION_ID]\n",
      "Dropping feature [OTHER]\n",
      "Dropping feature [ACCESS_PREDICATES]\n",
      "Dropping feature [FILTER_PREDICATES]\n",
      "Dropping feature [PROJECTION]\n",
      "Dropping feature [REMARKS]\n",
      "Dropping feature [CON_DBID]\n",
      "Dropping feature [CON_ID]\n",
      "\n",
      "Shape before changes: [(10000, 39)]\n",
      "Shape after changes: [(10000, 28)]\n",
      "Dropped a total [11]\n"
     ]
    }
   ],
   "source": [
    "class DropFlatline:\n",
    "\n",
    "    @staticmethod\n",
    "    def drop_flatline_columns(df):\n",
    "        \"\"\"\n",
    "        This function removes columns with a flat standard deviation of 0.\n",
    "        \"\"\"\n",
    "        columns = df.columns\n",
    "        flatline_features = []\n",
    "        for i in range(len(columns)):\n",
    "            try:\n",
    "                std = df[columns[i]].std()\n",
    "                if std == 0:\n",
    "                    flatline_features.append(columns[i])\n",
    "                    print('Dropping feature [' + columns[i]  + ']')\n",
    "            except:\n",
    "                pass\n",
    "\n",
    "        print('\\nShape before changes: [' + str(df.shape) + ']')\n",
    "        df = df.drop(columns=flatline_features)\n",
    "        print('Shape after changes: [' + str(df.shape) + ']')\n",
    "        print('Dropped a total [' + str(len(flatline_features)) + ']')\n",
    "        return df\n",
    "\n",
    "rep_vsql_plan_df = DropFlatline.drop_flatline_columns(df=rep_vsql_plan_df)"
   ]
  },
  {
   "cell_type": "markdown",
   "metadata": {},
   "source": [
    "## Visualizing Feature Distribution & Skewness\n",
    "\n",
    "In order to decide between a normalization strategy, it is important to understand the underlying data spread. Understanding of dataset mean, variance, skewness on a per column/feature basis helps determine whether a standardization or normalization strategy should be utilized on the datasets.\n",
    "\n",
    "### Plotting Data Distribution\n",
    "\n",
    "To better decide which normalization technique ought to be utilized for the technique at hand, a number of feature columns will be plotted as histograms to better convey the distribution spread."
   ]
  },
  {
   "cell_type": "code",
   "execution_count": 55,
   "metadata": {},
   "outputs": [],
   "source": [
    "class Visualizer:\n",
    "    \"\"\"\n",
    "    This class contains a number of methods dedicated to plotting the underlying data.\n",
    "    \"\"\"\n",
    "    def __init__(self, df=None, tpc_type=None, table=None):\n",
    "        \"\"\"\n",
    "        Constructor method.\n",
    "        :param df:             (Pandas) Data matrix.\n",
    "        :param tpc_type:       (String) TPC type, used for plot title purposes.\n",
    "        :param table:          (String) Denotes which table is being access, used for plot title/label purposes.\n",
    "        :return: None\n",
    "        \"\"\"\n",
    "        self.__df = df\n",
    "        self.__tpc_type = tpc_type\n",
    "        self.__table = table\n",
    "        \n",
    "    def plot_hist(self, bin_size=10, feature_column=None):\n",
    "        \"\"\"\n",
    "        Plots histogram distribution, split into a number of buckets.\n",
    "        :param bin_size: (Integer) Denotes number of histogram buckets to split data into.\n",
    "        :param feature_column: (String) Denotes which column to plot.\n",
    "        :return: None\n",
    "        \"\"\"\n",
    "        df = self.__df\n",
    "\n",
    "        try:\n",
    "            df['SNAP_ID'] = df['SNAP_ID'].astype(float)\n",
    "            df[feature_column] = df[feature_column].astype(float)\n",
    "\n",
    "            max_val = df[feature_column].max()\n",
    "            start_snap, end_snap = int(df['SNAP_ID'].min()), int(df['SNAP_ID'].max())\n",
    "\n",
    "            df[feature_column].hist(bins=10,figsize=(12,8))\n",
    "            plt.ylabel(feature_column)\n",
    "            plt.xlabel('Bin Ranges Of ' + str(int(max_val/bin_size)))\n",
    "            plt.title(self.__tpc_type + ' Table ' + self.__table.upper() + '.' + str(feature_column) + \" between \" + str(start_snap) + \" - \" + str(end_snap))\n",
    "            plt.show()\n",
    "        except Exception:\n",
    "            print('Could not plot column: ' + feature_column)\n",
    "\n",
    "    def plot_scatter(self, feature_column=None):\n",
    "        \"\"\"\n",
    "        Plots scatter plots vs SNAP_ID.\n",
    "        :param feature_column: (String) Denotes which column to plot.\n",
    "        :return: None\n",
    "        \"\"\"\n",
    "        df = self.__df\n",
    "\n",
    "        try:\n",
    "            df['SNAP_ID'] = df['SNAP_ID'].astype(int)\n",
    "            df[feature_column] = df[feature_column].astype(int)\n",
    "            start_snap, end_snap = int(df['SNAP_ID'].min()), int(df['SNAP_ID'].max())\n",
    "\n",
    "            df.plot.scatter(x='SNAP_ID',\n",
    "                            y=feature_column,\n",
    "                            figsize=(12,8))\n",
    "            plt.ylabel(feature_column)\n",
    "            plt.xlabel('SNAP ID')\n",
    "            plt.title(self.__tpc_type + ' Table ' + self.__table.upper() + '.' + str(feature_column) + \" between \" + str(start_snap) + \" - \" + str(end_snap))\n",
    "            plt.show()\n",
    "        except Exception:\n",
    "            print('Could not plot column: ' + feature_column)\n",
    "\n",
    "    def plot_boxplot(self, feature_columns=None):\n",
    "        \"\"\"\n",
    "        Plots quartile plots to estimate mean and sigma (std dev).\n",
    "        :param feature_colums: (List) List of feature columns. Overrides parameter used in class constructor.\n",
    "        :return: None\n",
    "        \"\"\"\n",
    "        df = self.__df\n",
    "\n",
    "        try:\n",
    "            for feature_column in feature_columns:\n",
    "                df[feature_column] = df[feature_column].astype(int)\n",
    "            df.boxplot(column=feature_columns, figsize=(12,8), grid=True)\n",
    "            plt.title(self.__tpc_type + ' ' + str(feature_columns))\n",
    "            plt.show()\n",
    "        except Exception:\n",
    "            print('Could not plot column: ' + feature_column)\n",
    "            \n",
    "vis = Visualizer(df=rep_vsql_plan_df, \n",
    "                 tpc_type=tpcds, \n",
    "                 table='rep_vsql_plan')\n",
    "\n",
    "if debug_mode is False:\n",
    "    \n",
    "    # Plotting Histograms of data distribution\n",
    "    for header in rep_vsql_plan_df.columns:\n",
    "        print('REP_VSQL_PLAN - ' + header + ' - OUTLIERS HISTOGRAM')\n",
    "        vis.plot_hist(bin_size=10, feature_column=header)\n",
    "    \n",
    "    # Plotting Scatter Plots of data distribution\n",
    "    for header in rep_vsql_plan_df.columns:\n",
    "        print('REP_VSQL_PLAN - ' + header + ' - OUTLIERS SCATTER')\n",
    "        vis.plot_scatter(feature_column=header)"
   ]
  },
  {
   "cell_type": "markdown",
   "metadata": {},
   "source": [
    "### Outlier Handling\n",
    "\n",
    "https://machinelearningmastery.com/how-to-identify-outliers-in-your-data/\n",
    "\n",
    "As can be appreciated from the previous plots, data is heavily skewed on particular (smallest) bins. This skew in the plotted histograms is a result of data point outliers - these need to be evaluated and removed if neccessary.\n",
    "\n",
    "Following the 3 Standard Deviation Rule, we can categorize our dataset into subsets consisting of the following ranges:\n",
    "* 0     - 68.27%\n",
    "* 68.28 - 95.45%\n",
    "* 95.46 - 99.73%\n",
    "* 99.74 - 100%\n",
    "\n",
    "It should be mentioned, that given the time series nature of the dataset, it is not a safe assumption to ignore outliers. By training respective models on outlier insensitive dataset, we would invite a potential problem, which risks blinding any models we train to future predicted spikes of activity."
   ]
  },
  {
   "cell_type": "code",
   "execution_count": 56,
   "metadata": {
    "scrolled": true
   },
   "outputs": [
    {
     "name": "stdout",
     "output_type": "stream",
     "text": [
      "\n",
      "\n",
      "DATAFRAMES WITH OUTLIERS\n",
      "(10000, 28)\n",
      "----------------------------\n",
      "\n",
      "\n",
      "OUTLIERS\n",
      "0\n",
      "----------------------------\n",
      "\n",
      "\n",
      "DATAFRAMES WITHOUT OUTLIERS\n",
      "(10000, 28)\n"
     ]
    }
   ],
   "source": [
    "class OutlierHandling:\n",
    "    \"\"\"\n",
    "    This class handles outlier detection and removal methods.\n",
    "    \"\"\"\n",
    "    def __init__(self, df, low_quartile_limit=.01,upper_quartile_limit=.99, headers=None):\n",
    "        \"\"\"\n",
    "        Constructor method.\n",
    "        :param df:                   (Pandas) Dataframe consisting of input features to be pruned of outliers.\n",
    "        :param low_quartile_limit:   (Float) Lower percentage threshold for removal of outliers.\n",
    "        :param upper_quartile_limit: (Float) Upper percentage threshold for removal of outliers.\n",
    "        :param headers:              (List) List of column headers to analyze and prune outliers.\n",
    "        :return: None\n",
    "        \"\"\"\n",
    "        self.__df = df\n",
    "        self.__low_quartile_limit = low_quartile_limit\n",
    "        self.__upper_quartile_limit = upper_quartile_limit\n",
    "        self.__headers= ['COST', 'CARDINALITY', 'BYTES', 'CPU_COST', 'IO_COST', 'TEMP_SPACE', 'TIME']\n",
    "        \n",
    "    def get_outliers(self):\n",
    "        \"\"\"\n",
    "        Detect and return which rows are considered outliers within the dataset, determined by :quartile_limit (99%)\n",
    "        :return: (List) A list denoting row positions of detected outliers.\n",
    "        \"\"\"\n",
    "        outlier_rows = [] # This list of lists consists of elements of the following notation [column,rowid]\n",
    "        df = self.__df\n",
    "        for header in self.__headers:\n",
    "            try:\n",
    "                df[header] = df[header].astype(float)\n",
    "                q = df[header].quantile(self.__upper_quartile_limit)\n",
    "                series_row = (df[df[header] > q].index)\n",
    "                for id in list(np.array(series_row)):\n",
    "                    outlier_rows.append([header,id])\n",
    "                q = df[header].quantile(self.__low_quartile_limit)\n",
    "                series_row = (df[df[header] < q].index)\n",
    "                for id in list(np.array(series_row)):\n",
    "                    outlier_rows.append([header,id])\n",
    "            except Exception as e:\n",
    "                print(header + ' - ' + str(e))\n",
    "\n",
    "        unique_ids = []\n",
    "        unique_outlier_rows = []\n",
    "\n",
    "        for col, rowid in outlier_rows:\n",
    "            if rowid not in unique_ids:\n",
    "                unique_outlier_rows.append([col,rowid])\n",
    "                unique_ids.append(rowid)\n",
    "        return unique_outlier_rows\n",
    "\n",
    "    def remove_outliers(self):\n",
    "        \"\"\"\n",
    "        Remove rows which are considered outliers within the dataset, determined by :quartile_limit (99%).\n",
    "        :return: (Pandas) Dataframe with pruned outliers.\n",
    "        \"\"\"\n",
    "        df = self.__df\n",
    "        length_before = len(df)\n",
    "        outliers_index = []\n",
    "        for header in self.__headers:\n",
    "            try:\n",
    "                df[header] = df[header].astype(float)\n",
    "                q = df[header].quantile(self.__upper_quartile_limit)\n",
    "                outliers_index.append(list(np.array(df[df[header] > q].index)))\n",
    "                q = df[header].quantile(self.__low_quartile_limit)\n",
    "                outliers_index.append(list(np.array(df[df[header] < q].index)))\n",
    "            except Exception as e:\n",
    "                print(header + ' - ' + str(e))\n",
    "        #flat_outliers_index = [item for sublist in l for item in outliers_index]\n",
    "        flat_outliers_index = [item for sublist in outliers_index for item in sublist]\n",
    "        outliers_index = list(set(flat_outliers_index))\n",
    "        df = df.drop(outliers_index)\n",
    "        return df\n",
    "\n",
    "# Defining which columns will be exposed to outliers\n",
    "oh = OutlierHandling(df=rep_vsql_plan_df, \n",
    "                     upper_quartile_limit=upper_quartile_limit,\n",
    "                     low_quartile_limit=low_quartile_limit)\n",
    "\n",
    "# Printing dataframe before adjustments\n",
    "print('\\n\\nDATAFRAMES WITH OUTLIERS')\n",
    "print(rep_vsql_plan_df.shape)\n",
    "print('----------------------------')\n",
    "\n",
    "#Printing outliers to screen\n",
    "rep_vsql_plan_df_outliers = oh.get_outliers()\n",
    "print('\\n\\nOUTLIERS')\n",
    "print(len(rep_vsql_plan_df_outliers))\n",
    "print('----------------------------')\n",
    "\n",
    "# Dropping Outliers\n",
    "rep_vsql_plan_df_pruned = oh.remove_outliers()\n",
    "print('\\n\\nDATAFRAMES WITHOUT OUTLIERS')\n",
    "print(rep_vsql_plan_df_pruned.shape)"
   ]
  },
  {
   "cell_type": "markdown",
   "metadata": {},
   "source": [
    "### Dropping Redundant Columns\n",
    "\n",
    "Dropping redundant columns which are not detrimental to the task at hand (NB: This is only the first steps towards feature selection. This step ensures that specific columns which are SURELY not useful are dropped ahead of time)."
   ]
  },
  {
   "cell_type": "markdown",
   "metadata": {
    "scrolled": true
   },
   "source": [
    "http://benalexkeen.com/feature-scaling-with-scikit-learn/\n",
    "\n",
    "Based on the above plots, one can argue that the data distribution is uneven, and does not correlate to any particular pattern. A normalization approach (MinMaxScaling and/or RobustScaling) to the presented dataset is a more likely candidate than standardizing of the presented dataset. \n",
    "\n",
    "Reasons behind normalizing the dataset rather than standardizing, is due to the vast standard deviations from the mean for several feature columns."
   ]
  },
  {
   "cell_type": "code",
   "execution_count": 57,
   "metadata": {},
   "outputs": [
    {
     "name": "stdout",
     "output_type": "stream",
     "text": [
      "----------Before----------\n",
      "Index(['SQL_ID', 'PLAN_HASH_VALUE', 'ID', 'OPERATION', 'OPTIONS',\n",
      "       'OBJECT_NODE', 'OBJECT#', 'OBJECT_OWNER', 'OBJECT_NAME', 'OBJECT_ALIAS',\n",
      "       'OBJECT_TYPE', 'OPTIMIZER', 'PARENT_ID', 'DEPTH', 'POSITION',\n",
      "       'SEARCH_COLUMNS', 'COST', 'CARDINALITY', 'BYTES', 'OTHER_TAG',\n",
      "       'DISTRIBUTION', 'CPU_COST', 'IO_COST', 'TEMP_SPACE', 'TIME',\n",
      "       'QBLOCK_NAME', 'TIMESTAMP', 'OTHER_XML'],\n",
      "      dtype='object')\n",
      "----------After----------\n",
      "Index(['SQL_ID', 'PLAN_HASH_VALUE', 'ID', 'OPERATION', 'OPTIONS',\n",
      "       'OBJECT_NODE', 'OBJECT#', 'OBJECT_OWNER', 'OBJECT_NAME', 'OBJECT_ALIAS',\n",
      "       'OBJECT_TYPE', 'OPTIMIZER', 'PARENT_ID', 'DEPTH', 'POSITION',\n",
      "       'SEARCH_COLUMNS', 'COST', 'CARDINALITY', 'BYTES', 'OTHER_TAG',\n",
      "       'DISTRIBUTION', 'CPU_COST', 'IO_COST', 'TEMP_SPACE', 'TIME',\n",
      "       'QBLOCK_NAME', 'TIMESTAMP', 'OTHER_XML'],\n",
      "      dtype='object')\n"
     ]
    }
   ],
   "source": [
    "class NonNumericStrip:\n",
    "    \"\"\"\n",
    "    This class contains a method dedicated to feature removing if they contain non-numeric data\n",
    "    \"\"\"\n",
    "    @staticmethod\n",
    "    def remove_non_numeric_columns(df):\n",
    "        \"\"\"\n",
    "        Accepts data matrix, and returns another matrix with stripped columns containing non-numeric data.\n",
    "        :param df: (Pandas) Data matrix\n",
    "        :return: (Pandas) Data matrix\n",
    "        \"\"\"\n",
    "        print('-'*10 + 'Before' + '-'*10)\n",
    "        print(df.columns)\n",
    "        col_list = []\n",
    "        for col in df.columns:\n",
    "            try:\n",
    "                df[col] = df[col].astype(float)\n",
    "                col_list.append(col)\n",
    "            except ValueError:\n",
    "                print('Column ' + str(col) + ' contains non numeric data')\n",
    "        df = df[col_list]\n",
    "        print('-'*10 + 'After' + '-'*10)\n",
    "        print(df.columns)\n",
    "        return df\n",
    "rep_vsql_plan_df_pruned = NonNumericStrip.remove_non_numeric_columns(df=rep_vsql_plan_df_pruned)"
   ]
  },
  {
   "cell_type": "markdown",
   "metadata": {},
   "source": [
    "### Manually drop columns which are considered useless"
   ]
  },
  {
   "cell_type": "code",
   "execution_count": 58,
   "metadata": {},
   "outputs": [],
   "source": [
    "headers = ['OPERATION', 'OPTIONS',\n",
    "       'OBJECT_NODE', 'OBJECT#', 'OBJECT_OWNER', 'OBJECT_NAME', 'OBJECT_ALIAS',\n",
    "       'OBJECT_TYPE', 'OPTIMIZER', 'PARENT_ID', 'DEPTH', 'POSITION',\n",
    "       'SEARCH_COLUMNS', 'COST', 'CARDINALITY', 'BYTES', 'DISTRIBUTION', \n",
    "       'CPU_COST', 'IO_COST', 'TEMP_SPACE', 'TIME',\n",
    "       'QBLOCK_NAME', 'TIMESTAMP']\n",
    "rep_vsql_plan_df_pruned = rep_vsql_plan_df_pruned[headers]"
   ]
  },
  {
   "cell_type": "markdown",
   "metadata": {},
   "source": [
    "### Normalization\n",
    "\n",
    "Relavent Sources:\n",
    "\n",
    "* http://jmlr.csail.mit.edu/papers/volume3/guyon03a/guyon03a.pdf\n",
    "* https://machinelearningmastery.com/rescaling-data-for-machine-learning-in-python-with-scikit-learn/\n",
    "\n",
    "https://machinelearningmastery.com/normalize-standardize-time-series-data-python/ recommends a normalization preprocessing technique for data distribution that can closely approximate minimum and maximum observable values per column:\n",
    "\n",
    "<i>\"Normalization requires that you know or are able to accurately estimate the minimum and maximum observable values. You may be able to estimate these values from your available data. If your time series is trending up or down, estimating these expected values may be difficult and normalization may not be the best method to use on your problem.\"</i>\n",
    "\n",
    "Normalization formula is stated as follows: $$y=(x-min)/(max-min)$$\n",
    "\n",
    "### Standardization\n",
    "\n",
    "https://machinelearningmastery.com/normalize-standardize-time-series-data-python/ recommends a standardization preprocessing technique for data distributions that observe a Gaussian spread, with a mean of 0 and a standard deviation of 1 (approximately close to these values):\n",
    "\n",
    "<i>\"Standardization assumes that your observations fit a Gaussian distribution (bell curve) with a well behaved mean and standard deviation. You can still standardize your time series data if this expectation is not met, but you may not get reliable results.\"</i>\n",
    "\n",
    "Standardization formula is stated as follows: $$y=(x-mean)/StandardDeviation$$\n",
    "Mean defined as: $$mean=sum(x)/count(x)$$\n",
    "Standard Deviation defined as: $$StandardDeviation=sqrt(sum((x-mean)^2)/count(x))$$"
   ]
  },
  {
   "cell_type": "code",
   "execution_count": 59,
   "metadata": {
    "scrolled": true
   },
   "outputs": [
    {
     "name": "stdout",
     "output_type": "stream",
     "text": [
      "------------------BEFORE------------------\n",
      "------------------REP_VSQL_PLAN------------------\n",
      "(10000, 23)\n",
      "\n",
      "\n",
      "------------------AFTER------------------\n",
      "------------------REP_VSQL_PLAN------------------\n",
      "(10000, 23)\n",
      "\n",
      "\n",
      "\n",
      "\n",
      "\n",
      "REP_VSQL_PLAN\n",
      "   OPERATION   OPTIONS  OBJECT_NODE  OBJECT#  OBJECT_OWNER  OBJECT_NAME  \\\n",
      "0   0.000000  0.000000     0.000000      0.0      0.000000     0.000000   \n",
      "1   0.353553  0.353553     0.000000      0.0      0.000000     0.000000   \n",
      "2   0.603023  0.000000     0.000000      0.0      0.000000     0.000000   \n",
      "3   0.514496  0.342997     0.171499      0.0      0.171499     0.171499   \n",
      "4   0.176777  0.176777     0.176777      0.0      0.000000     0.000000   \n",
      "\n",
      "   OBJECT_ALIAS  OBJECT_TYPE  OPTIMIZER  PARENT_ID    ...          COST  \\\n",
      "0           0.0          0.0   0.000000   0.000000    ...      0.707107   \n",
      "1           0.0          0.0   0.353553   0.000000    ...      0.000000   \n",
      "2           0.0          0.0   0.301511   0.301511    ...      0.000000   \n",
      "3           0.0          0.0   0.171499   0.342997    ...      0.000000   \n",
      "4           0.0          0.0   0.176777   0.530330    ...      0.000000   \n",
      "\n",
      "   CARDINALITY     BYTES  DISTRIBUTION  CPU_COST  IO_COST  TEMP_SPACE  TIME  \\\n",
      "0     0.000000  0.000000      0.000000       0.0      0.0         0.0   0.0   \n",
      "1     0.353553  0.353553      0.000000       0.0      0.0         0.0   0.0   \n",
      "2     0.000000  0.000000      0.000000       0.0      0.0         0.0   0.0   \n",
      "3     0.171499  0.171499      0.171499       0.0      0.0         0.0   0.0   \n",
      "4     0.176777  0.176777      0.000000       0.0      0.0         0.0   0.0   \n",
      "\n",
      "   QBLOCK_NAME  TIMESTAMP  \n",
      "0     0.000000        0.0  \n",
      "1     0.353553        0.0  \n",
      "2     0.000000        0.0  \n",
      "3     0.000000        0.0  \n",
      "4     0.000000        0.0  \n",
      "\n",
      "[5 rows x 23 columns]\n"
     ]
    }
   ],
   "source": [
    "class Normalizer:\n",
    "\n",
    "    @staticmethod\n",
    "    def robust_scaler(dataframe):\n",
    "        \"\"\"\n",
    "        Normalize df using interquartile ranges as min-max, this way outliers do not play a heavy emphasis on the\n",
    "        normalization of values.\n",
    "        :param dataframe: (Pandas) Pandas data matrix\n",
    "        :return: (Pandas) Normalized data matrix\n",
    "        \"\"\"\n",
    "        headers = dataframe.columns\n",
    "        X = preprocessing.robust_scale(dataframe.values)\n",
    "        return pd.DataFrame(X, columns=headers)\n",
    "\n",
    "    @staticmethod\n",
    "    def minmax_scaler(dataframe):\n",
    "        \"\"\"\n",
    "        Normalize df using min-max ranges for normalization method\n",
    "        :param dataframe: (Pandas) Pandas data matrix\n",
    "        :return: (Pandas) Normalized data matrix\n",
    "        \"\"\"\n",
    "        headers = dataframe.columns\n",
    "        X = preprocessing.minmax_scale(dataframe.values)\n",
    "        return pd.DataFrame(X, columns=headers)\n",
    "\n",
    "    @staticmethod\n",
    "    def normalize(dataframe):\n",
    "        \"\"\"\n",
    "        The normalizer scales each value by dividing each value by its magnitude in n-dimensional space for n number of features.\n",
    "        :param dataframe: (Pandas) Pandas data matrix\n",
    "        :return: (Pandas) Normalized data matrix\n",
    "        \"\"\"\n",
    "        headers = dataframe.columns\n",
    "        X = preprocessing.normalize(dataframe.values)\n",
    "        return pd.DataFrame(X, columns=headers)\n",
    "\n",
    "print('------------------BEFORE------------------')\n",
    "print('------------------REP_VSQL_PLAN------------------')\n",
    "print(rep_vsql_plan_df_pruned.shape)\n",
    "\n",
    "# ROBUST SCALER\n",
    "# rep_vsql_plan_df_pruned_norm = Normalizer.robust_scaler(dataframe=rep_vsql_plan_df_pruned)\n",
    "\n",
    "# MINMAX SCALER\n",
    "# rep_vsql_plan_df_pruned_norm = Normalizer.minmax_scaler(dataframe=rep_vsql_plan_df_pruned)\n",
    "\n",
    "# NORMALIZER\n",
    "rep_vsql_plan_df_pruned_norm = Normalizer.normalize(dataframe=rep_vsql_plan_df_pruned)\n",
    "\n",
    "print('\\n\\n------------------AFTER------------------')\n",
    "print('------------------REP_VSQL_PLAN------------------')\n",
    "print(rep_vsql_plan_df_pruned_norm.shape)\n",
    "print('\\n\\n')\n",
    "print('\\n\\nREP_VSQL_PLAN')\n",
    "print(rep_vsql_plan_df_pruned_norm.head())"
   ]
  },
  {
   "cell_type": "markdown",
   "metadata": {},
   "source": [
    "# Filter Methods\n",
    "\n",
    "* https://machinelearningmastery.com/feature-selection-machine-learning-python/\n",
    "\n",
    "Filter methods allow for the univariate analysis of features. Particularly, the following statistical methods have been considered and dismissed as explained below:\n",
    "\n",
    "* Information Gain - Data at hand is continous by nature, whilst MI is usually applicable against discrete values / binned labels.\n",
    "* Pearson Correlation Coefficient - Applicable to data with linear distributions, which is not the case for the majority of the presented features."
   ]
  },
  {
   "cell_type": "code",
   "execution_count": 60,
   "metadata": {},
   "outputs": [],
   "source": [
    "class FeatureImportance:\n",
    "    \"\"\"\n",
    "    This class is dedicated to containing methods related to feature ranking. Features are ranked exclusively, or mutually with\n",
    "    repsect to other features.\n",
    "    \"\"\"\n",
    "    @staticmethod\n",
    "    def chi2_test(top_n_features=30, X_df=None, y_df=None, table=None):\n",
    "        \"\"\"\n",
    "        Carries out a chi squared test on passed X,y dataframes, selecting top N features ranked by highest scoring.\n",
    "        :param top_n_features: (Integer) Denotes number of top features to plot.\n",
    "        :param x_df:           (Pandas) Pandas feature matrix.\n",
    "        :param y_df:           (Pandas) Pandas label matrix.\n",
    "        :param table:          (String) Denotes which table is being operated on.\n",
    "        :return: None\n",
    "        \"\"\"\n",
    "        headers = X_df.columns\n",
    "        X_df = X_df.values\n",
    "        y_df = y_df.values\n",
    "        chi2_selector = SelectKBest(score_func=chi2, k=top_n_features)\n",
    "        X_kbest = chi2_selector.fit_transform(X_df, y_df)\n",
    "        print('\\n\\nTable [' + table.upper() + ']')\n",
    "        print('Original number of features: ' + str(X_df.shape[1]))\n",
    "        print('Reduced number of features: ' + str(X_kbest.shape[1]) + \"\\n\")\n",
    "        outcome = chi2_selector.get_support()\n",
    "\n",
    "        scoring_sheet = []\n",
    "        for i in range(0,len(headers)-1):\n",
    "            if outcome[i]:\n",
    "                scoring_sheet.append([headers[i],chi2_selector.scores_[i]])\n",
    "\n",
    "        scoring_sheet = sorted(scoring_sheet, key=itemgetter(1), reverse=True)\n",
    "        [print('Feature [' + str(row) + '] with score [' + str(score) + ']') for row, score in scoring_sheet[:top_n_features]]\n",
    "\n",
    "        scoring_sheet = pd.Series((v[1] for v in scoring_sheet[:top_n_features]) )\n",
    "        scoring_sheet[:top_n_features].plot.bar()\n",
    "        \n",
    "        FeatureImportance.__plot_metrics(ylabel='CHI2 RANKING',\n",
    "                                         xlabel='FEATURES',\n",
    "                                         title='Features Ranked By Chi2 Scoring')\n",
    "      \n",
    "    @staticmethod\n",
    "    def rfr_ranking(X_df=None, y_df=None, top_n_features=30, parallel_degree=1):\n",
    "        \"\"\"\n",
    "        Ranks features using a filter RFR method, and plots them in descending order (ranked by importance)\n",
    "        :param x_df:           (Pandas) Pandas feature matrix.\n",
    "        :param y_df:           (Pandas) Pandas label matrix.\n",
    "        :param top_n_features: (Integer) Denotes number of top features to plot.\n",
    "        :param parallel_degree:(Integer) Denotes model training parallel degree.\n",
    "        :return: None\n",
    "        \"\"\"\n",
    "        headers = X_df.columns\n",
    "        X_df = X_df.values\n",
    "        y_df = y_df.values\n",
    "        rfr = RandomForestRegressor(n_estimators=100,\n",
    "                                    n_jobs=parallel_degree)\n",
    "        rfr.fit(X_df, y_df)\n",
    "        importances = pd.DataFrame({'feature':headers,\n",
    "                                    'importance':np.round(rfr.feature_importances_,3)})\n",
    "        importances = importances.sort_values('importance',ascending=False).set_index('feature')\n",
    "        print(importances[:top_n_features])\n",
    "        importances[:top_n_features].plot.bar()\n",
    "        \n",
    "        FeatureImportance.__plot_metrics(ylabel='RANDOM FOREST RANKING',\n",
    "                                         xlabel='FEATURES',\n",
    "                                         title='Features Ranked By Random Forest Scoring')\n",
    "        \n",
    "    @staticmethod\n",
    "    def __plot_metrics(ylabel, xlabel, title):\n",
    "        \"\"\"\n",
    "        Private method used to plot metrics for statistical feature evaluation\n",
    "        :param ylabel: (String) ylabel title name.\n",
    "        :param xlabel: (String) xlabel title name.\n",
    "        :param title:  (String) plot title name.\n",
    "        :return: None\n",
    "        \"\"\"\n",
    "        plt.ylabel(ylabel)\n",
    "        plt.xlabel(xlabel)\n",
    "        plt.title(title)\n",
    "        plt.rcParams['figure.figsize'] = [20, 15]\n",
    "        plt.show()"
   ]
  },
  {
   "cell_type": "markdown",
   "metadata": {},
   "source": [
    "### Chi2\n",
    "\n",
    "Therefore, a likely candidate for a first univariate, filter test is a chi2 measure, between X labels 'SNAP_ID', and other output 'y' labels. NB: Due to chi2 requiring non-nagative values, a data normalization strategy was opted for (Refer to above cell).\n",
    "\n",
    "The following cell computes the chi2 value for each feature pertaining in the following tables, in relation to the SNAP_ID feature:\n",
    "* REP_VSQL_PLAN"
   ]
  },
  {
   "cell_type": "code",
   "execution_count": 61,
   "metadata": {},
   "outputs": [],
   "source": [
    "# FeatureImportance.chi2_test(top_n_features=top_n_features, \n",
    "#                             X_df=rep_vsql_plan_df_pruned_norm, \n",
    "#                             y_df=rep_vsql_plan_df_pruned['SNAP_ID'], \n",
    "#                             table='REP_VSQL_PLAN')"
   ]
  },
  {
   "cell_type": "markdown",
   "metadata": {},
   "source": [
    "### Random Forest Feature Importance\n",
    "\n",
    "Calculating MI (Mutual Information) scoring between data matrix X (feature vectors) and target column y ('COST') "
   ]
  },
  {
   "cell_type": "code",
   "execution_count": 62,
   "metadata": {
    "scrolled": true
   },
   "outputs": [
    {
     "name": "stdout",
     "output_type": "stream",
     "text": [
      "             importance\n",
      "feature                \n",
      "COST              0.443\n",
      "IO_COST           0.221\n",
      "TIMESTAMP         0.194\n",
      "BYTES             0.066\n",
      "POSITION          0.035\n",
      "CARDINALITY       0.033\n"
     ]
    },
    {
     "data": {
      "image/png": "[encoded data removed]",
      "text/plain": [
       "<Figure size 1440x1080 with 1 Axes>"
      ]
     },
     "metadata": {
      "needs_background": "light"
     },
     "output_type": "display_data"
    }
   ],
   "source": [
    "FeatureImportance.rfr_ranking(top_n_features=top_n_features,\n",
    "                              X_df=rep_vsql_plan_df_pruned_norm, \n",
    "                              y_df=rep_vsql_plan_df_pruned['COST'],\n",
    "                              parallel_degree=parallel_degree)"
   ]
  },
  {
   "cell_type": "markdown",
   "metadata": {},
   "source": [
    "### Wrapper Methods\n",
    "\n",
    "Use a number of machine learning models to evaluate features together and rank by highest. The following machine learning models will be opted for:\n",
    "\n",
    "* Random Forest Classifier\n",
    "* Gradient Boosting\n",
    "\n",
    "In a 'Brute-Fore' approach, these machine learning heuristics will strip away 1 feature at a time in a method referred to as 'Recursive Feature Elimination', and compare accuracy with every variable elimination. This allows the respective classifier to establish an optimum feature configuration with the highest accuracy score.\n",
    "\n",
    "https://www.fabienplisson.com/choosing-right-features/"
   ]
  },
  {
   "cell_type": "code",
   "execution_count": 63,
   "metadata": {},
   "outputs": [],
   "source": [
    "class EnsembleWrappers:\n",
    "    \"\"\"\n",
    "    This class contains wrapper methods, which utilize ensemble methods to gauge feature pairings. Features are combined together\n",
    "    and then stripped one at a time. Each feature combination is evaluated per feature count, so as to establish the optimum\n",
    "    feature count cut off.\n",
    "    \"\"\"\n",
    "    @staticmethod\n",
    "    def rfr_wrapper(X_df=None, y_df=None, test_split=.4, table_name=None, top_n_features=10, parallel_degree=1):\n",
    "        \"\"\"\n",
    "        Random Forest Regressor - Takes data matrix and target vector, and evaluates best combination of features \n",
    "        using an RFR model.\n",
    "        :param x_df:           (Pandas) Pandas feature matrix.\n",
    "        :param y_df:           (Pandas) Pandas label matrix.\n",
    "        :param test_split:     (Float) Denotes training/testing data split.\n",
    "        :param table_name:     (String) Denotes which table is being operated on.\n",
    "        :param top_n_features: (Integer) Denotes number of top features to plot.\n",
    "        :param parallel_degree:(Integer) Denotes model training parallel degree.\n",
    "        :return: Model Scoring, for best feature combination count\n",
    "        :return: Recommended feature count, as per best achieved score\n",
    "        \"\"\"\n",
    "        X_df = X_df.values\n",
    "        y_df = y_df.values\n",
    "        \n",
    "        val_op, optimum_features = 0, 0\n",
    "        val_op = 0\n",
    "        X_train, X_test, y_train, y_test = train_test_split(X_df, y_df, test_size=test_split)\n",
    "        model = RandomForestRegressor(n_estimators=100, \n",
    "                                      n_jobs=parallel_degree)\n",
    "        model.fit(X_train, y_train)\n",
    "\n",
    "        # make predictions for test data and evaluate\n",
    "        pred_y = model.predict(X_test)\n",
    "        predictions = [round(value) for value in pred_y]\n",
    "        r2s = r2_score(y_test, predictions)\n",
    "        print(\"Table [\" + table_name + \"] RFR R2 Score: \" + str(r2s))\n",
    "\n",
    "        # fit model using each importance as a threshold\n",
    "        print('Feature Importance\\n' + str('-'*60))\n",
    "        print(model.feature_importances_)\n",
    "        print(str('-'*60))\n",
    "        thresholds = np.sort(model.feature_importances_)\n",
    "        feature_counts, feature_score = [],[]\n",
    "        for thresh in thresholds:\n",
    "            # selecting features using threshold\n",
    "            selection = SelectFromModel(model, threshold=thresh, prefit=True)\n",
    "            select_train_x = selection.transform(X_train)\n",
    "\n",
    "            # training model\n",
    "            selection_model = RandomForestRegressor(n_estimators=100,\n",
    "                                                    n_jobs=parallel_degree)\n",
    "            selection_model.fit(select_train_x, y_train)\n",
    "\n",
    "            # evaluating model\n",
    "            select_test_x = selection.transform(X_test)\n",
    "            pred_y = selection_model.predict(select_test_x)\n",
    "            predictions = [round(value) for value in pred_y]\n",
    "            r2s = r2_score(y_test, predictions)\n",
    "            print(\"Thresh=\" + str(thresh) + \", n=\" + str(select_train_x.shape[1]) + \", R2 Score: \" + str(r2s))\n",
    "            if(r2s > val_op):\n",
    "                val_op = r2s\n",
    "                optimum_features = select_train_x.shape[1]\n",
    "\n",
    "            # Add/Keep track of '[no of features','r2 score']\n",
    "            feature_counts.append(select_train_x.shape[1])\n",
    "            feature_score.append(r2s)\n",
    "\n",
    "        # Plot feature count performance\n",
    "        EnsembleWrappers.__plot_metrics(feature_counts=feature_counts,\n",
    "                                        feature_score=feature_score,\n",
    "                                        xlabel='Featuers',\n",
    "                                        ylabel='R2 Score',\n",
    "                                        title='Feature Pairing Performance')\n",
    "\n",
    "        return val_op, optimum_features\n",
    "\n",
    "    @staticmethod\n",
    "    def gradient_boosting_wrapper(X_df=None, y_df=None, test_split=.4, table_name=None, top_n_features=10):\n",
    "        \"\"\"\n",
    "        Gradient Boosting Regressor - Takes data matrix and target vector, and evaluates best combination of features \n",
    "        using a GBR model.\n",
    "        :param x_df:           (Pandas) Pandas feature matrix.\n",
    "        :param y_df:           (Pandas) Pandas label matrix.\n",
    "        :param test_split:     (Float) Denotes training/testing data split.\n",
    "        :param table_name:     (String) Denotes which table is being operated on.\n",
    "        :param top_n_features: (Integer) Denotes number of top features to plot.\n",
    "        :param parallel_degree:(Integer) Denotes model training parallel degree.\n",
    "        :return: Model Scoring, for best feature combination count\n",
    "        :return: Recommended feature count, as per best achieved score\n",
    "        \"\"\"\n",
    "        X_df = X_df.values\n",
    "        y_df = y_df.values\n",
    "        \n",
    "        val_op, optimum_features = 0, 0\n",
    "        X_train, X_test, y_train, y_test = train_test_split(X_df, y_df, test_size=test_split)\n",
    "        model = GradientBoostingRegressor(n_estimators=100)\n",
    "        model.fit(X_train, y_train)\n",
    "\n",
    "        # make predictions for test data and evaluate\n",
    "        pred_y = model.predict(X_test)\n",
    "        predictions = [round(value) for value in pred_y]\n",
    "        r2s = r2_score(y_test, predictions)\n",
    "        print(\"Table [\" + table_name + \"] RFR R2 Score: \" + str(r2s))\n",
    "        #\n",
    "        # fit model using each importance as a threshold\n",
    "        print('Feature Importance\\n' + str('-'*60))\n",
    "        print(model.feature_importances_)\n",
    "        print(str('-'*60))\n",
    "        thresholds = np.sort(model.feature_importances_)\n",
    "        feature_counts, feature_score = [],[]\n",
    "        for thresh in thresholds:\n",
    "            # selecting features using threshold\n",
    "            selection = SelectFromModel(model, threshold=thresh, prefit=True)\n",
    "            select_train_x = selection.transform(X_train)\n",
    "\n",
    "            # training model\n",
    "            selection_model = GradientBoostingRegressor(n_estimators=100)\n",
    "            selection_model.fit(select_train_x, y_train)\n",
    "\n",
    "            # evaluating model\n",
    "            select_test_x = selection.transform(X_test)\n",
    "            pred_y = selection_model.predict(select_test_x)\n",
    "            predictions = [round(value) for value in pred_y]\n",
    "            r2s = r2_score(y_test, predictions)\n",
    "            print(\"Thresh=\" + str(thresh) + \", n=\" + str(select_train_x.shape[1]) + \", R2 Score: \" + str(r2s))\n",
    "            if(r2s > val_op):\n",
    "                val_op = r2s\n",
    "                optimum_features = select_train_x.shape[1]\n",
    "\n",
    "            # Add/Keep track of '[no of features','r2 score']\n",
    "            feature_counts.append(select_train_x.shape[1])\n",
    "            feature_score.append(r2s)\n",
    "\n",
    "        # Plot feature count performance\n",
    "        EnsembleWrappers.__plot_metrics(feature_counts=feature_counts,\n",
    "                                        feature_score=feature_score,\n",
    "                                        xlabel='Featuers',\n",
    "                                        ylabel='R2 Score',\n",
    "                                        title='Feature Pairing Performance')\n",
    "\n",
    "        return val_op, optimum_features\n",
    "    \n",
    "    @staticmethod\n",
    "    def __plot_metrics(feature_counts, feature_score, ylabel, xlabel, title):\n",
    "        \"\"\"\n",
    "        Private method used to plot metrics for statistical feature evaluation\n",
    "        :param feature_counts: (List) List of feature combination counts per achieved score.\n",
    "        :param feature_score:  (List) List of feature scores per combination.\n",
    "        :param ylabel:         (String) ylabel title name.\n",
    "        :param xlabel:         (String) xlabel title name.\n",
    "        :param title:          (String) plot title name.\n",
    "        :return: None\n",
    "        \"\"\"\n",
    "        plt.ylabel(ylabel)\n",
    "        plt.xlabel(xlabel)\n",
    "        plt.title(title)\n",
    "        plt.rcParams['figure.figsize'] = [20, 15]\n",
    "        plt.plot(feature_counts, feature_score)\n",
    "        plt.show()"
   ]
  },
  {
   "cell_type": "markdown",
   "metadata": {},
   "source": [
    "### Random Forest Wrapper (Feature Combination)  (Regression)\n",
    "\n",
    "Utilizes an ensemble Random Forest method to gauge different feature combination/counts."
   ]
  },
  {
   "cell_type": "code",
   "execution_count": 64,
   "metadata": {
    "scrolled": true
   },
   "outputs": [
    {
     "name": "stdout",
     "output_type": "stream",
     "text": [
      "Table [REP_VSQL_PLAN] RFR R2 Score: -0.4470410491081924\n",
      "Feature Importance\n",
      "------------------------------------------------------------\n",
      "[5.25022481e-03 4.88973233e-17 7.53716506e-17 4.90324783e-09\n",
      " 2.26333453e-19 3.57147996e-20 6.07159337e-17 2.32821442e-18\n",
      " 3.10494320e-14 6.59062003e-03 7.80218693e-15 1.16174091e-01\n",
      " 1.48171796e-26 3.43529286e-01 1.56476253e-02 1.11510430e-02\n",
      " 0.00000000e+00 7.24725490e-16 6.55774167e-02 2.05696646e-16\n",
      " 5.70859982e-16 1.07502065e-16 4.36079689e-01]\n",
      "------------------------------------------------------------\n"
     ]
    },
    {
     "name": "stderr",
     "output_type": "stream",
     "text": [
      "C:\\ProgramData\\Anaconda3\\lib\\site-packages\\sklearn\\utils\\__init__.py:93: FutureWarning: Conversion of the second argument of issubdtype from `int` to `np.signedinteger` is deprecated. In future, it will be treated as `np.int32 == np.dtype(int).type`.\n",
      "  if np.issubdtype(mask.dtype, np.int):\n",
      "C:\\ProgramData\\Anaconda3\\lib\\site-packages\\sklearn\\utils\\__init__.py:93: FutureWarning: Conversion of the second argument of issubdtype from `int` to `np.signedinteger` is deprecated. In future, it will be treated as `np.int32 == np.dtype(int).type`.\n",
      "  if np.issubdtype(mask.dtype, np.int):\n"
     ]
    },
    {
     "name": "stdout",
     "output_type": "stream",
     "text": [
      "Thresh=0.0, n=23, R2 Score: -0.2937734282962816\n"
     ]
    },
    {
     "name": "stderr",
     "output_type": "stream",
     "text": [
      "C:\\ProgramData\\Anaconda3\\lib\\site-packages\\sklearn\\utils\\__init__.py:93: FutureWarning: Conversion of the second argument of issubdtype from `int` to `np.signedinteger` is deprecated. In future, it will be treated as `np.int32 == np.dtype(int).type`.\n",
      "  if np.issubdtype(mask.dtype, np.int):\n"
     ]
    },
    {
     "name": "stdout",
     "output_type": "stream",
     "text": [
      "Thresh=1.4817179601042457e-26, n=22, R2 Score: -0.6563195340825425\n"
     ]
    },
    {
     "name": "stderr",
     "output_type": "stream",
     "text": [
      "C:\\ProgramData\\Anaconda3\\lib\\site-packages\\sklearn\\utils\\__init__.py:93: FutureWarning: Conversion of the second argument of issubdtype from `int` to `np.signedinteger` is deprecated. In future, it will be treated as `np.int32 == np.dtype(int).type`.\n",
      "  if np.issubdtype(mask.dtype, np.int):\n"
     ]
    },
    {
     "name": "stdout",
     "output_type": "stream",
     "text": [
      "Thresh=3.5714799578049494e-20, n=21, R2 Score: -0.3862450420571124\n"
     ]
    },
    {
     "name": "stderr",
     "output_type": "stream",
     "text": [
      "C:\\ProgramData\\Anaconda3\\lib\\site-packages\\sklearn\\utils\\__init__.py:93: FutureWarning: Conversion of the second argument of issubdtype from `int` to `np.signedinteger` is deprecated. In future, it will be treated as `np.int32 == np.dtype(int).type`.\n",
      "  if np.issubdtype(mask.dtype, np.int):\n"
     ]
    },
    {
     "name": "stdout",
     "output_type": "stream",
     "text": [
      "Thresh=2.2633345278587023e-19, n=20, R2 Score: -0.30702929595899087\n"
     ]
    },
    {
     "name": "stderr",
     "output_type": "stream",
     "text": [
      "C:\\ProgramData\\Anaconda3\\lib\\site-packages\\sklearn\\utils\\__init__.py:93: FutureWarning: Conversion of the second argument of issubdtype from `int` to `np.signedinteger` is deprecated. In future, it will be treated as `np.int32 == np.dtype(int).type`.\n",
      "  if np.issubdtype(mask.dtype, np.int):\n"
     ]
    },
    {
     "name": "stdout",
     "output_type": "stream",
     "text": [
      "Thresh=2.3282144243173664e-18, n=19, R2 Score: -0.4675513682969432\n"
     ]
    },
    {
     "name": "stderr",
     "output_type": "stream",
     "text": [
      "C:\\ProgramData\\Anaconda3\\lib\\site-packages\\sklearn\\utils\\__init__.py:93: FutureWarning: Conversion of the second argument of issubdtype from `int` to `np.signedinteger` is deprecated. In future, it will be treated as `np.int32 == np.dtype(int).type`.\n",
      "  if np.issubdtype(mask.dtype, np.int):\n"
     ]
    },
    {
     "name": "stdout",
     "output_type": "stream",
     "text": [
      "Thresh=4.8897323295025685e-17, n=18, R2 Score: -0.30744081016981806\n"
     ]
    },
    {
     "name": "stderr",
     "output_type": "stream",
     "text": [
      "C:\\ProgramData\\Anaconda3\\lib\\site-packages\\sklearn\\utils\\__init__.py:93: FutureWarning: Conversion of the second argument of issubdtype from `int` to `np.signedinteger` is deprecated. In future, it will be treated as `np.int32 == np.dtype(int).type`.\n",
      "  if np.issubdtype(mask.dtype, np.int):\n"
     ]
    },
    {
     "name": "stdout",
     "output_type": "stream",
     "text": [
      "Thresh=6.071593374930174e-17, n=17, R2 Score: 0.5509432758921127\n"
     ]
    },
    {
     "name": "stderr",
     "output_type": "stream",
     "text": [
      "C:\\ProgramData\\Anaconda3\\lib\\site-packages\\sklearn\\utils\\__init__.py:93: FutureWarning: Conversion of the second argument of issubdtype from `int` to `np.signedinteger` is deprecated. In future, it will be treated as `np.int32 == np.dtype(int).type`.\n",
      "  if np.issubdtype(mask.dtype, np.int):\n"
     ]
    },
    {
     "name": "stdout",
     "output_type": "stream",
     "text": [
      "Thresh=7.537165060001202e-17, n=16, R2 Score: -0.7079590913776852\n"
     ]
    },
    {
     "name": "stderr",
     "output_type": "stream",
     "text": [
      "C:\\ProgramData\\Anaconda3\\lib\\site-packages\\sklearn\\utils\\__init__.py:93: FutureWarning: Conversion of the second argument of issubdtype from `int` to `np.signedinteger` is deprecated. In future, it will be treated as `np.int32 == np.dtype(int).type`.\n",
      "  if np.issubdtype(mask.dtype, np.int):\n"
     ]
    },
    {
     "name": "stdout",
     "output_type": "stream",
     "text": [
      "Thresh=1.0750206457595451e-16, n=15, R2 Score: 0.05977046344891568\n"
     ]
    },
    {
     "name": "stderr",
     "output_type": "stream",
     "text": [
      "C:\\ProgramData\\Anaconda3\\lib\\site-packages\\sklearn\\utils\\__init__.py:93: FutureWarning: Conversion of the second argument of issubdtype from `int` to `np.signedinteger` is deprecated. In future, it will be treated as `np.int32 == np.dtype(int).type`.\n",
      "  if np.issubdtype(mask.dtype, np.int):\n"
     ]
    },
    {
     "name": "stdout",
     "output_type": "stream",
     "text": [
      "Thresh=2.0569664582461039e-16, n=14, R2 Score: -0.4264472090467437\n"
     ]
    },
    {
     "name": "stderr",
     "output_type": "stream",
     "text": [
      "C:\\ProgramData\\Anaconda3\\lib\\site-packages\\sklearn\\utils\\__init__.py:93: FutureWarning: Conversion of the second argument of issubdtype from `int` to `np.signedinteger` is deprecated. In future, it will be treated as `np.int32 == np.dtype(int).type`.\n",
      "  if np.issubdtype(mask.dtype, np.int):\n"
     ]
    },
    {
     "name": "stdout",
     "output_type": "stream",
     "text": [
      "Thresh=5.708599821673387e-16, n=13, R2 Score: -0.2008639458111381\n"
     ]
    },
    {
     "name": "stderr",
     "output_type": "stream",
     "text": [
      "C:\\ProgramData\\Anaconda3\\lib\\site-packages\\sklearn\\utils\\__init__.py:93: FutureWarning: Conversion of the second argument of issubdtype from `int` to `np.signedinteger` is deprecated. In future, it will be treated as `np.int32 == np.dtype(int).type`.\n",
      "  if np.issubdtype(mask.dtype, np.int):\n"
     ]
    },
    {
     "name": "stdout",
     "output_type": "stream",
     "text": [
      "Thresh=7.247254897557299e-16, n=12, R2 Score: -0.2974760954417923\n"
     ]
    },
    {
     "name": "stderr",
     "output_type": "stream",
     "text": [
      "C:\\ProgramData\\Anaconda3\\lib\\site-packages\\sklearn\\utils\\__init__.py:93: FutureWarning: Conversion of the second argument of issubdtype from `int` to `np.signedinteger` is deprecated. In future, it will be treated as `np.int32 == np.dtype(int).type`.\n",
      "  if np.issubdtype(mask.dtype, np.int):\n"
     ]
    },
    {
     "name": "stdout",
     "output_type": "stream",
     "text": [
      "Thresh=7.802186927455221e-15, n=11, R2 Score: -0.40236484308190335\n"
     ]
    },
    {
     "name": "stderr",
     "output_type": "stream",
     "text": [
      "C:\\ProgramData\\Anaconda3\\lib\\site-packages\\sklearn\\utils\\__init__.py:93: FutureWarning: Conversion of the second argument of issubdtype from `int` to `np.signedinteger` is deprecated. In future, it will be treated as `np.int32 == np.dtype(int).type`.\n",
      "  if np.issubdtype(mask.dtype, np.int):\n"
     ]
    },
    {
     "name": "stdout",
     "output_type": "stream",
     "text": [
      "Thresh=3.1049431979036267e-14, n=10, R2 Score: -0.6739501564101156\n"
     ]
    },
    {
     "name": "stderr",
     "output_type": "stream",
     "text": [
      "C:\\ProgramData\\Anaconda3\\lib\\site-packages\\sklearn\\utils\\__init__.py:93: FutureWarning: Conversion of the second argument of issubdtype from `int` to `np.signedinteger` is deprecated. In future, it will be treated as `np.int32 == np.dtype(int).type`.\n",
      "  if np.issubdtype(mask.dtype, np.int):\n"
     ]
    },
    {
     "name": "stdout",
     "output_type": "stream",
     "text": [
      "Thresh=4.903247827814388e-09, n=9, R2 Score: -0.7204159689447664\n"
     ]
    },
    {
     "name": "stderr",
     "output_type": "stream",
     "text": [
      "C:\\ProgramData\\Anaconda3\\lib\\site-packages\\sklearn\\utils\\__init__.py:93: FutureWarning: Conversion of the second argument of issubdtype from `int` to `np.signedinteger` is deprecated. In future, it will be treated as `np.int32 == np.dtype(int).type`.\n",
      "  if np.issubdtype(mask.dtype, np.int):\n"
     ]
    },
    {
     "name": "stdout",
     "output_type": "stream",
     "text": [
      "Thresh=0.005250224810819906, n=8, R2 Score: -1.431721481905968\n"
     ]
    },
    {
     "name": "stderr",
     "output_type": "stream",
     "text": [
      "C:\\ProgramData\\Anaconda3\\lib\\site-packages\\sklearn\\utils\\__init__.py:93: FutureWarning: Conversion of the second argument of issubdtype from `int` to `np.signedinteger` is deprecated. In future, it will be treated as `np.int32 == np.dtype(int).type`.\n",
      "  if np.issubdtype(mask.dtype, np.int):\n"
     ]
    },
    {
     "name": "stdout",
     "output_type": "stream",
     "text": [
      "Thresh=0.006590620028212834, n=7, R2 Score: -1.2958062687537764\n"
     ]
    },
    {
     "name": "stderr",
     "output_type": "stream",
     "text": [
      "C:\\ProgramData\\Anaconda3\\lib\\site-packages\\sklearn\\utils\\__init__.py:93: FutureWarning: Conversion of the second argument of issubdtype from `int` to `np.signedinteger` is deprecated. In future, it will be treated as `np.int32 == np.dtype(int).type`.\n",
      "  if np.issubdtype(mask.dtype, np.int):\n"
     ]
    },
    {
     "name": "stdout",
     "output_type": "stream",
     "text": [
      "Thresh=0.011151042982902488, n=6, R2 Score: -0.016495726482057993\n"
     ]
    },
    {
     "name": "stderr",
     "output_type": "stream",
     "text": [
      "C:\\ProgramData\\Anaconda3\\lib\\site-packages\\sklearn\\utils\\__init__.py:93: FutureWarning: Conversion of the second argument of issubdtype from `int` to `np.signedinteger` is deprecated. In future, it will be treated as `np.int32 == np.dtype(int).type`.\n",
      "  if np.issubdtype(mask.dtype, np.int):\n"
     ]
    },
    {
     "name": "stdout",
     "output_type": "stream",
     "text": [
      "Thresh=0.01564762531616989, n=5, R2 Score: -0.40347768049386645\n"
     ]
    },
    {
     "name": "stderr",
     "output_type": "stream",
     "text": [
      "C:\\ProgramData\\Anaconda3\\lib\\site-packages\\sklearn\\utils\\__init__.py:93: FutureWarning: Conversion of the second argument of issubdtype from `int` to `np.signedinteger` is deprecated. In future, it will be treated as `np.int32 == np.dtype(int).type`.\n",
      "  if np.issubdtype(mask.dtype, np.int):\n"
     ]
    },
    {
     "name": "stdout",
     "output_type": "stream",
     "text": [
      "Thresh=0.0655774167418647, n=4, R2 Score: -0.4292012917192807\n"
     ]
    },
    {
     "name": "stderr",
     "output_type": "stream",
     "text": [
      "C:\\ProgramData\\Anaconda3\\lib\\site-packages\\sklearn\\utils\\__init__.py:93: FutureWarning: Conversion of the second argument of issubdtype from `int` to `np.signedinteger` is deprecated. In future, it will be treated as `np.int32 == np.dtype(int).type`.\n",
      "  if np.issubdtype(mask.dtype, np.int):\n"
     ]
    },
    {
     "name": "stdout",
     "output_type": "stream",
     "text": [
      "Thresh=0.11617409116260831, n=3, R2 Score: -0.2887494854507482\n"
     ]
    },
    {
     "name": "stderr",
     "output_type": "stream",
     "text": [
      "C:\\ProgramData\\Anaconda3\\lib\\site-packages\\sklearn\\utils\\__init__.py:93: FutureWarning: Conversion of the second argument of issubdtype from `int` to `np.signedinteger` is deprecated. In future, it will be treated as `np.int32 == np.dtype(int).type`.\n",
      "  if np.issubdtype(mask.dtype, np.int):\n"
     ]
    },
    {
     "name": "stdout",
     "output_type": "stream",
     "text": [
      "Thresh=0.3435292855289733, n=2, R2 Score: -0.3180586671710133\n"
     ]
    },
    {
     "name": "stderr",
     "output_type": "stream",
     "text": [
      "C:\\ProgramData\\Anaconda3\\lib\\site-packages\\sklearn\\utils\\__init__.py:93: FutureWarning: Conversion of the second argument of issubdtype from `int` to `np.signedinteger` is deprecated. In future, it will be treated as `np.int32 == np.dtype(int).type`.\n",
      "  if np.issubdtype(mask.dtype, np.int):\n"
     ]
    },
    {
     "name": "stdout",
     "output_type": "stream",
     "text": [
      "Thresh=0.4360796885251601, n=1, R2 Score: 0.00888846990880654\n"
     ]
    },
    {
     "data": {
      "image/png": "[encoded data removed]",
      "text/plain": [
       "<Figure size 1440x1080 with 1 Axes>"
      ]
     },
     "metadata": {
      "needs_background": "light"
     },
     "output_type": "display_data"
    }
   ],
   "source": [
    "rfr_rep_vsql_plan_score, rfr_rep_vsql_plan_count = EnsembleWrappers.rfr_wrapper(X_df=rep_vsql_plan_df_pruned_norm,\n",
    "                                                                                y_df=rep_vsql_plan_df_pruned['COST'],\n",
    "                                                                                test_split=test_split,\n",
    "                                                                                table_name='REP_VSQL_PLAN',\n",
    "                                                                                top_n_features=top_n_features,\n",
    "                                                                                parallel_degree=parallel_degree)"
   ]
  },
  {
   "cell_type": "markdown",
   "metadata": {},
   "source": [
    "### Gradient Boosting Wrapper (Feature Combination)  (Regression)\n",
    "\n",
    "Utilizes an ensemble Gradient Boosting method to gauge different feature combination/counts.\n",
    "\n",
    "https://machinelearningmastery.com/gentle-introduction-gradient-boosting-algorithm-machine-learning/"
   ]
  },
  {
   "cell_type": "code",
   "execution_count": 65,
   "metadata": {
    "scrolled": true
   },
   "outputs": [
    {
     "name": "stdout",
     "output_type": "stream",
     "text": [
      "Table [REP_VSQL_PLAN] RFR R2 Score: 0.06466155260567286\n",
      "Feature Importance\n",
      "------------------------------------------------------------\n",
      "[0.00000000e+00 0.00000000e+00 0.00000000e+00 0.00000000e+00\n",
      " 0.00000000e+00 0.00000000e+00 0.00000000e+00 0.00000000e+00\n",
      " 0.00000000e+00 0.00000000e+00 4.10465693e-15 1.09651175e-01\n",
      " 0.00000000e+00 3.39257334e-02 6.27550390e-02 1.61727972e-01\n",
      " 0.00000000e+00 0.00000000e+00 1.42951488e-14 0.00000000e+00\n",
      " 0.00000000e+00 0.00000000e+00 6.31940081e-01]\n",
      "------------------------------------------------------------\n",
      "Thresh=0.0, n=23, R2 Score: 0.06466155260567286\n",
      "Thresh=0.0, n=23, R2 Score: 0.06466155260567286\n",
      "Thresh=0.0, n=23, R2 Score: 0.06466155260567286\n"
     ]
    },
    {
     "name": "stderr",
     "output_type": "stream",
     "text": [
      "C:\\ProgramData\\Anaconda3\\lib\\site-packages\\sklearn\\utils\\__init__.py:93: FutureWarning: Conversion of the second argument of issubdtype from `int` to `np.signedinteger` is deprecated. In future, it will be treated as `np.int32 == np.dtype(int).type`.\n",
      "  if np.issubdtype(mask.dtype, np.int):\n"
     ]
    },
    {
     "name": "stdout",
     "output_type": "stream",
     "text": [
      "Thresh=0.0, n=23, R2 Score: 0.06466155260567286\n",
      "Thresh=0.0, n=23, R2 Score: 0.06466155260567286\n",
      "Thresh=0.0, n=23, R2 Score: 0.06466155260567286\n",
      "Thresh=0.0, n=23, R2 Score: 0.06466155260567286\n",
      "Thresh=0.0, n=23, R2 Score: 0.06466155260567286\n",
      "Thresh=0.0, n=23, R2 Score: 0.06466155260567286\n",
      "Thresh=0.0, n=23, R2 Score: 0.06466155260567286\n",
      "Thresh=0.0, n=23, R2 Score: 0.06466155260567286\n",
      "Thresh=0.0, n=23, R2 Score: 0.06466155260567286\n",
      "Thresh=0.0, n=23, R2 Score: 0.06466155260567286\n",
      "Thresh=0.0, n=23, R2 Score: 0.06466155260567286\n",
      "Thresh=0.0, n=23, R2 Score: 0.06466155260567286\n",
      "Thresh=0.0, n=23, R2 Score: 0.06466155260567286\n",
      "Thresh=4.104656932635636e-15, n=7, R2 Score: 0.06466155260567286\n",
      "Thresh=1.4295148801602945e-14, n=6, R2 Score: 0.06466155260535811\n",
      "Thresh=0.03392573340849107, n=5, R2 Score: 0.06466155261653539\n",
      "Thresh=0.06275503896141614, n=4, R2 Score: 0.06468462915240614\n",
      "Thresh=0.1096511748535806, n=3, R2 Score: -0.014150915315624069\n",
      "Thresh=0.16172797171693218, n=2, R2 Score: 0.014721468279372374\n",
      "Thresh=0.6319400810595617, n=1, R2 Score: 0.012708067714014226\n"
     ]
    },
    {
     "data": {
      "image/png": "[encoded data removed]",
      "text/plain": [
       "<Figure size 1440x1080 with 1 Axes>"
      ]
     },
     "metadata": {
      "needs_background": "light"
     },
     "output_type": "display_data"
    }
   ],
   "source": [
    "gbw_rep_vsql_plan_score, gbw_rep_vsql_plan_count = EnsembleWrappers.gradient_boosting_wrapper(X_df=rep_vsql_plan_df_pruned_norm,\n",
    "                                                                                              y_df=rep_vsql_plan_df_pruned['COST'],\n",
    "                                                                                              test_split=test_split,\n",
    "                                                                                              table_name='REP_VSQL_PLAN',\n",
    "                                                                                              top_n_features=top_n_features)"
   ]
  },
  {
   "cell_type": "markdown",
   "metadata": {},
   "source": [
    "### Recursive Feature Elimination (Regression)\n",
    "\n",
    "Implements a recursive solution, where in features are eliminated based on an ensemble evaluator."
   ]
  },
  {
   "cell_type": "code",
   "execution_count": 66,
   "metadata": {},
   "outputs": [],
   "source": [
    "class FeatureEliminator:\n",
    "    \"\"\"\n",
    "    This class is dedicated to housing logic pertaining to feature selection - retaining only labels which are considered\n",
    "    important.\n",
    "    \"\"\"\n",
    "    def __init__(self, X_df, y_df):\n",
    "        \"\"\"\n",
    "        Class constructor.\n",
    "        :param X_df: (Pandas) Pandas feature matrix.\n",
    "        :param y_df: (Pandas) Pandas label matrix.\n",
    "        :return: None\n",
    "        \"\"\"\n",
    "        self.__X_df = X_df\n",
    "        self.__y_df = y_df\n",
    "    \n",
    "    def rfe_selector(self, test_split=.4, optimum_feature_count=0, model=None, parallel_degree=1):\n",
    "        \"\"\"\n",
    "        Recursive Feature Elimination Function. Isolates and eliminated features one by one, up till the desired amount, starting\n",
    "        by features which are considered less important.\n",
    "        :param test_split:            (Float) Denotes training/testing data split.\n",
    "        :param optimum_feature_count: (Integer) Denotes the best estimated number of features to retain before a performance drop\n",
    "                                                is estimated.\n",
    "        :param parallel_degree:       (Integer) Denotes model training parallel degree.\n",
    "        :return: (List) This list is composed of boolean values, which correspond to the input feature column headers. True List \n",
    "                        values denote columns which have been retained. False values denote eliminated feature headers.\n",
    "        :return: (List) This list denotes feature rankings, which correspond to the input feature column headers. Values of '1',\n",
    "                        denote that features have been retained.\n",
    "        \"\"\"\n",
    "        X_df = self.__X_df.values\n",
    "        y_df = self.__y_df.values\n",
    "        \n",
    "        X_train, X_test, y_train, y_test = train_test_split(X_df, y_df, test_size=test_split)\n",
    "        if model == 0:\n",
    "            model = RandomForestRegressor(n_estimators=100,\n",
    "                                          n_jobs=parallel_degree)\n",
    "        elif model == 1:\n",
    "            model = GradientBoostingRegressor(n_estimators=100)\n",
    "\n",
    "        # create the RFE model and select N attributes\n",
    "        rfe_model = RFE(model, optimum_feature_count, step=1)\n",
    "        rfe_model = rfe_model.fit(X_train, y_train)\n",
    "\n",
    "        # summarize the selection of the attributes\n",
    "        print(rfe_model.support_)\n",
    "        print(rfe_model.ranking_)\n",
    "\n",
    "        # evaluate the model on testing set\n",
    "        pred_y = rfe_model.predict(X_test)\n",
    "        predictions = [round(value) for value in pred_y]\n",
    "        r2s = r2_score(y_test, predictions)\n",
    "        \n",
    "        return rfe_model.support_, rfe_model.ranking_\n",
    "    \n",
    "    def get_selected_features(self, column_mask):\n",
    "        \"\"\"\n",
    "        Retrieves features which have not been eliminated from the RFE function.\n",
    "        :param column_mask: (List) This list is composed of boolean values, which correspond to the input feature column headers. \n",
    "                                   True list values denote columns which have been retained. False values denote eliminated \n",
    "                                   feature headers. \n",
    "        :return: (Pandas) Pandas data matrix.\n",
    "        \"\"\"\n",
    "        recommended_columns = []\n",
    "        for i in range(len(self.__X_df.columns)):\n",
    "            if (column_mask[i]):\n",
    "                recommended_columns.append(self.__X_df.columns[i])\n",
    "                \n",
    "        return self.__X_df[recommended_columns]"
   ]
  },
  {
   "cell_type": "code",
   "execution_count": 67,
   "metadata": {},
   "outputs": [
    {
     "ename": "KeyboardInterrupt",
     "evalue": "",
     "output_type": "error",
     "traceback": [
      "\u001b[1;31m---------------------------------------------------------------------------\u001b[0m",
      "\u001b[1;31mKeyboardInterrupt\u001b[0m                         Traceback (most recent call last)",
      "\u001b[1;32m<ipython-input-67-109c1fe88d24>\u001b[0m in \u001b[0;36m<module>\u001b[1;34m()\u001b[0m\n\u001b[0;32m     11\u001b[0m                                                \u001b[0moptimum_feature_count\u001b[0m\u001b[1;33m=\u001b[0m\u001b[0mrep_vsql_plan_op\u001b[0m\u001b[1;33m,\u001b[0m\u001b[1;33m\u001b[0m\u001b[0m\n\u001b[0;32m     12\u001b[0m                                                \u001b[0mmodel\u001b[0m \u001b[1;33m=\u001b[0m \u001b[0mrep_vsql_plan_model\u001b[0m\u001b[1;33m,\u001b[0m\u001b[1;33m\u001b[0m\u001b[0m\n\u001b[1;32m---> 13\u001b[1;33m                                                parallel_degree=parallel_degree)\n\u001b[0m\u001b[0;32m     14\u001b[0m \u001b[0mprint\u001b[0m\u001b[1;33m(\u001b[0m\u001b[0mrep_vsql_plan_df_pruned_norm\u001b[0m\u001b[1;33m.\u001b[0m\u001b[0mcolumns\u001b[0m\u001b[1;33m)\u001b[0m\u001b[1;33m\u001b[0m\u001b[0m\n\u001b[0;32m     15\u001b[0m \u001b[0mrep_vsql_plan_df_pruned_norm\u001b[0m \u001b[1;33m=\u001b[0m \u001b[0mfe\u001b[0m\u001b[1;33m.\u001b[0m\u001b[0mget_selected_features\u001b[0m\u001b[1;33m(\u001b[0m\u001b[0mcolumn_mask\u001b[0m\u001b[1;33m=\u001b[0m\u001b[0mcolumn_mask\u001b[0m\u001b[1;33m)\u001b[0m\u001b[1;33m\u001b[0m\u001b[0m\n",
      "\u001b[1;32m<ipython-input-66-94852bdcffca>\u001b[0m in \u001b[0;36mrfe_selector\u001b[1;34m(self, test_split, optimum_feature_count, model, parallel_degree)\u001b[0m\n\u001b[0;32m     39\u001b[0m         \u001b[1;31m# create the RFE model and select N attributes\u001b[0m\u001b[1;33m\u001b[0m\u001b[1;33m\u001b[0m\u001b[0m\n\u001b[0;32m     40\u001b[0m         \u001b[0mrfe_model\u001b[0m \u001b[1;33m=\u001b[0m \u001b[0mRFE\u001b[0m\u001b[1;33m(\u001b[0m\u001b[0mmodel\u001b[0m\u001b[1;33m,\u001b[0m \u001b[0moptimum_feature_count\u001b[0m\u001b[1;33m,\u001b[0m \u001b[0mstep\u001b[0m\u001b[1;33m=\u001b[0m\u001b[1;36m1\u001b[0m\u001b[1;33m)\u001b[0m\u001b[1;33m\u001b[0m\u001b[0m\n\u001b[1;32m---> 41\u001b[1;33m         \u001b[0mrfe_model\u001b[0m \u001b[1;33m=\u001b[0m \u001b[0mrfe_model\u001b[0m\u001b[1;33m.\u001b[0m\u001b[0mfit\u001b[0m\u001b[1;33m(\u001b[0m\u001b[0mX_train\u001b[0m\u001b[1;33m,\u001b[0m \u001b[0my_train\u001b[0m\u001b[1;33m)\u001b[0m\u001b[1;33m\u001b[0m\u001b[0m\n\u001b[0m\u001b[0;32m     42\u001b[0m \u001b[1;33m\u001b[0m\u001b[0m\n\u001b[0;32m     43\u001b[0m         \u001b[1;31m# summarize the selection of the attributes\u001b[0m\u001b[1;33m\u001b[0m\u001b[1;33m\u001b[0m\u001b[0m\n",
      "\u001b[1;32mC:\\ProgramData\\Anaconda3\\lib\\site-packages\\sklearn\\feature_selection\\rfe.py\u001b[0m in \u001b[0;36mfit\u001b[1;34m(self, X, y)\u001b[0m\n\u001b[0;32m    132\u001b[0m             \u001b[0mThe\u001b[0m \u001b[0mtarget\u001b[0m \u001b[0mvalues\u001b[0m\u001b[1;33m.\u001b[0m\u001b[1;33m\u001b[0m\u001b[0m\n\u001b[0;32m    133\u001b[0m         \"\"\"\n\u001b[1;32m--> 134\u001b[1;33m         \u001b[1;32mreturn\u001b[0m \u001b[0mself\u001b[0m\u001b[1;33m.\u001b[0m\u001b[0m_fit\u001b[0m\u001b[1;33m(\u001b[0m\u001b[0mX\u001b[0m\u001b[1;33m,\u001b[0m \u001b[0my\u001b[0m\u001b[1;33m)\u001b[0m\u001b[1;33m\u001b[0m\u001b[0m\n\u001b[0m\u001b[0;32m    135\u001b[0m \u001b[1;33m\u001b[0m\u001b[0m\n\u001b[0;32m    136\u001b[0m     \u001b[1;32mdef\u001b[0m \u001b[0m_fit\u001b[0m\u001b[1;33m(\u001b[0m\u001b[0mself\u001b[0m\u001b[1;33m,\u001b[0m \u001b[0mX\u001b[0m\u001b[1;33m,\u001b[0m \u001b[0my\u001b[0m\u001b[1;33m,\u001b[0m \u001b[0mstep_score\u001b[0m\u001b[1;33m=\u001b[0m\u001b[1;32mNone\u001b[0m\u001b[1;33m)\u001b[0m\u001b[1;33m:\u001b[0m\u001b[1;33m\u001b[0m\u001b[0m\n",
      "\u001b[1;32mC:\\ProgramData\\Anaconda3\\lib\\site-packages\\sklearn\\feature_selection\\rfe.py\u001b[0m in \u001b[0;36m_fit\u001b[1;34m(self, X, y, step_score)\u001b[0m\n\u001b[0;32m    171\u001b[0m                 \u001b[0mprint\u001b[0m\u001b[1;33m(\u001b[0m\u001b[1;34m\"Fitting estimator with %d features.\"\u001b[0m \u001b[1;33m%\u001b[0m \u001b[0mnp\u001b[0m\u001b[1;33m.\u001b[0m\u001b[0msum\u001b[0m\u001b[1;33m(\u001b[0m\u001b[0msupport_\u001b[0m\u001b[1;33m)\u001b[0m\u001b[1;33m)\u001b[0m\u001b[1;33m\u001b[0m\u001b[0m\n\u001b[0;32m    172\u001b[0m \u001b[1;33m\u001b[0m\u001b[0m\n\u001b[1;32m--> 173\u001b[1;33m             \u001b[0mestimator\u001b[0m\u001b[1;33m.\u001b[0m\u001b[0mfit\u001b[0m\u001b[1;33m(\u001b[0m\u001b[0mX\u001b[0m\u001b[1;33m[\u001b[0m\u001b[1;33m:\u001b[0m\u001b[1;33m,\u001b[0m \u001b[0mfeatures\u001b[0m\u001b[1;33m]\u001b[0m\u001b[1;33m,\u001b[0m \u001b[0my\u001b[0m\u001b[1;33m)\u001b[0m\u001b[1;33m\u001b[0m\u001b[0m\n\u001b[0m\u001b[0;32m    174\u001b[0m \u001b[1;33m\u001b[0m\u001b[0m\n\u001b[0;32m    175\u001b[0m             \u001b[1;31m# Get coefs\u001b[0m\u001b[1;33m\u001b[0m\u001b[1;33m\u001b[0m\u001b[0m\n",
      "\u001b[1;32mC:\\ProgramData\\Anaconda3\\lib\\site-packages\\sklearn\\ensemble\\forest.py\u001b[0m in \u001b[0;36mfit\u001b[1;34m(self, X, y, sample_weight)\u001b[0m\n\u001b[0;32m    325\u001b[0m                     \u001b[0mt\u001b[0m\u001b[1;33m,\u001b[0m \u001b[0mself\u001b[0m\u001b[1;33m,\u001b[0m \u001b[0mX\u001b[0m\u001b[1;33m,\u001b[0m \u001b[0my\u001b[0m\u001b[1;33m,\u001b[0m \u001b[0msample_weight\u001b[0m\u001b[1;33m,\u001b[0m \u001b[0mi\u001b[0m\u001b[1;33m,\u001b[0m \u001b[0mlen\u001b[0m\u001b[1;33m(\u001b[0m\u001b[0mtrees\u001b[0m\u001b[1;33m)\u001b[0m\u001b[1;33m,\u001b[0m\u001b[1;33m\u001b[0m\u001b[0m\n\u001b[0;32m    326\u001b[0m                     verbose=self.verbose, class_weight=self.class_weight)\n\u001b[1;32m--> 327\u001b[1;33m                 for i, t in enumerate(trees))\n\u001b[0m\u001b[0;32m    328\u001b[0m \u001b[1;33m\u001b[0m\u001b[0m\n\u001b[0;32m    329\u001b[0m             \u001b[1;31m# Collect newly grown trees\u001b[0m\u001b[1;33m\u001b[0m\u001b[1;33m\u001b[0m\u001b[0m\n",
      "\u001b[1;32mC:\\ProgramData\\Anaconda3\\lib\\site-packages\\sklearn\\externals\\joblib\\parallel.py\u001b[0m in \u001b[0;36m__call__\u001b[1;34m(self, iterable)\u001b[0m\n\u001b[0;32m    787\u001b[0m                 \u001b[1;31m# consumption.\u001b[0m\u001b[1;33m\u001b[0m\u001b[1;33m\u001b[0m\u001b[0m\n\u001b[0;32m    788\u001b[0m                 \u001b[0mself\u001b[0m\u001b[1;33m.\u001b[0m\u001b[0m_iterating\u001b[0m \u001b[1;33m=\u001b[0m \u001b[1;32mFalse\u001b[0m\u001b[1;33m\u001b[0m\u001b[0m\n\u001b[1;32m--> 789\u001b[1;33m             \u001b[0mself\u001b[0m\u001b[1;33m.\u001b[0m\u001b[0mretrieve\u001b[0m\u001b[1;33m(\u001b[0m\u001b[1;33m)\u001b[0m\u001b[1;33m\u001b[0m\u001b[0m\n\u001b[0m\u001b[0;32m    790\u001b[0m             \u001b[1;31m# Make sure that we get a last message telling us we are done\u001b[0m\u001b[1;33m\u001b[0m\u001b[1;33m\u001b[0m\u001b[0m\n\u001b[0;32m    791\u001b[0m             \u001b[0melapsed_time\u001b[0m \u001b[1;33m=\u001b[0m \u001b[0mtime\u001b[0m\u001b[1;33m.\u001b[0m\u001b[0mtime\u001b[0m\u001b[1;33m(\u001b[0m\u001b[1;33m)\u001b[0m \u001b[1;33m-\u001b[0m \u001b[0mself\u001b[0m\u001b[1;33m.\u001b[0m\u001b[0m_start_time\u001b[0m\u001b[1;33m\u001b[0m\u001b[0m\n",
      "\u001b[1;32mC:\\ProgramData\\Anaconda3\\lib\\site-packages\\sklearn\\externals\\joblib\\parallel.py\u001b[0m in \u001b[0;36mretrieve\u001b[1;34m(self)\u001b[0m\n\u001b[0;32m    697\u001b[0m             \u001b[1;32mtry\u001b[0m\u001b[1;33m:\u001b[0m\u001b[1;33m\u001b[0m\u001b[0m\n\u001b[0;32m    698\u001b[0m                 \u001b[1;32mif\u001b[0m \u001b[0mgetattr\u001b[0m\u001b[1;33m(\u001b[0m\u001b[0mself\u001b[0m\u001b[1;33m.\u001b[0m\u001b[0m_backend\u001b[0m\u001b[1;33m,\u001b[0m \u001b[1;34m'supports_timeout'\u001b[0m\u001b[1;33m,\u001b[0m \u001b[1;32mFalse\u001b[0m\u001b[1;33m)\u001b[0m\u001b[1;33m:\u001b[0m\u001b[1;33m\u001b[0m\u001b[0m\n\u001b[1;32m--> 699\u001b[1;33m                     \u001b[0mself\u001b[0m\u001b[1;33m.\u001b[0m\u001b[0m_output\u001b[0m\u001b[1;33m.\u001b[0m\u001b[0mextend\u001b[0m\u001b[1;33m(\u001b[0m\u001b[0mjob\u001b[0m\u001b[1;33m.\u001b[0m\u001b[0mget\u001b[0m\u001b[1;33m(\u001b[0m\u001b[0mtimeout\u001b[0m\u001b[1;33m=\u001b[0m\u001b[0mself\u001b[0m\u001b[1;33m.\u001b[0m\u001b[0mtimeout\u001b[0m\u001b[1;33m)\u001b[0m\u001b[1;33m)\u001b[0m\u001b[1;33m\u001b[0m\u001b[0m\n\u001b[0m\u001b[0;32m    700\u001b[0m                 \u001b[1;32melse\u001b[0m\u001b[1;33m:\u001b[0m\u001b[1;33m\u001b[0m\u001b[0m\n\u001b[0;32m    701\u001b[0m                     \u001b[0mself\u001b[0m\u001b[1;33m.\u001b[0m\u001b[0m_output\u001b[0m\u001b[1;33m.\u001b[0m\u001b[0mextend\u001b[0m\u001b[1;33m(\u001b[0m\u001b[0mjob\u001b[0m\u001b[1;33m.\u001b[0m\u001b[0mget\u001b[0m\u001b[1;33m(\u001b[0m\u001b[1;33m)\u001b[0m\u001b[1;33m)\u001b[0m\u001b[1;33m\u001b[0m\u001b[0m\n",
      "\u001b[1;32mC:\\ProgramData\\Anaconda3\\lib\\multiprocessing\\pool.py\u001b[0m in \u001b[0;36mget\u001b[1;34m(self, timeout)\u001b[0m\n\u001b[0;32m    636\u001b[0m \u001b[1;33m\u001b[0m\u001b[0m\n\u001b[0;32m    637\u001b[0m     \u001b[1;32mdef\u001b[0m \u001b[0mget\u001b[0m\u001b[1;33m(\u001b[0m\u001b[0mself\u001b[0m\u001b[1;33m,\u001b[0m \u001b[0mtimeout\u001b[0m\u001b[1;33m=\u001b[0m\u001b[1;32mNone\u001b[0m\u001b[1;33m)\u001b[0m\u001b[1;33m:\u001b[0m\u001b[1;33m\u001b[0m\u001b[0m\n\u001b[1;32m--> 638\u001b[1;33m         \u001b[0mself\u001b[0m\u001b[1;33m.\u001b[0m\u001b[0mwait\u001b[0m\u001b[1;33m(\u001b[0m\u001b[0mtimeout\u001b[0m\u001b[1;33m)\u001b[0m\u001b[1;33m\u001b[0m\u001b[0m\n\u001b[0m\u001b[0;32m    639\u001b[0m         \u001b[1;32mif\u001b[0m \u001b[1;32mnot\u001b[0m \u001b[0mself\u001b[0m\u001b[1;33m.\u001b[0m\u001b[0mready\u001b[0m\u001b[1;33m(\u001b[0m\u001b[1;33m)\u001b[0m\u001b[1;33m:\u001b[0m\u001b[1;33m\u001b[0m\u001b[0m\n\u001b[0;32m    640\u001b[0m             \u001b[1;32mraise\u001b[0m \u001b[0mTimeoutError\u001b[0m\u001b[1;33m\u001b[0m\u001b[0m\n",
      "\u001b[1;32mC:\\ProgramData\\Anaconda3\\lib\\multiprocessing\\pool.py\u001b[0m in \u001b[0;36mwait\u001b[1;34m(self, timeout)\u001b[0m\n\u001b[0;32m    633\u001b[0m \u001b[1;33m\u001b[0m\u001b[0m\n\u001b[0;32m    634\u001b[0m     \u001b[1;32mdef\u001b[0m \u001b[0mwait\u001b[0m\u001b[1;33m(\u001b[0m\u001b[0mself\u001b[0m\u001b[1;33m,\u001b[0m \u001b[0mtimeout\u001b[0m\u001b[1;33m=\u001b[0m\u001b[1;32mNone\u001b[0m\u001b[1;33m)\u001b[0m\u001b[1;33m:\u001b[0m\u001b[1;33m\u001b[0m\u001b[0m\n\u001b[1;32m--> 635\u001b[1;33m         \u001b[0mself\u001b[0m\u001b[1;33m.\u001b[0m\u001b[0m_event\u001b[0m\u001b[1;33m.\u001b[0m\u001b[0mwait\u001b[0m\u001b[1;33m(\u001b[0m\u001b[0mtimeout\u001b[0m\u001b[1;33m)\u001b[0m\u001b[1;33m\u001b[0m\u001b[0m\n\u001b[0m\u001b[0;32m    636\u001b[0m \u001b[1;33m\u001b[0m\u001b[0m\n\u001b[0;32m    637\u001b[0m     \u001b[1;32mdef\u001b[0m \u001b[0mget\u001b[0m\u001b[1;33m(\u001b[0m\u001b[0mself\u001b[0m\u001b[1;33m,\u001b[0m \u001b[0mtimeout\u001b[0m\u001b[1;33m=\u001b[0m\u001b[1;32mNone\u001b[0m\u001b[1;33m)\u001b[0m\u001b[1;33m:\u001b[0m\u001b[1;33m\u001b[0m\u001b[0m\n",
      "\u001b[1;32mC:\\ProgramData\\Anaconda3\\lib\\threading.py\u001b[0m in \u001b[0;36mwait\u001b[1;34m(self, timeout)\u001b[0m\n\u001b[0;32m    549\u001b[0m             \u001b[0msignaled\u001b[0m \u001b[1;33m=\u001b[0m \u001b[0mself\u001b[0m\u001b[1;33m.\u001b[0m\u001b[0m_flag\u001b[0m\u001b[1;33m\u001b[0m\u001b[0m\n\u001b[0;32m    550\u001b[0m             \u001b[1;32mif\u001b[0m \u001b[1;32mnot\u001b[0m \u001b[0msignaled\u001b[0m\u001b[1;33m:\u001b[0m\u001b[1;33m\u001b[0m\u001b[0m\n\u001b[1;32m--> 551\u001b[1;33m                 \u001b[0msignaled\u001b[0m \u001b[1;33m=\u001b[0m \u001b[0mself\u001b[0m\u001b[1;33m.\u001b[0m\u001b[0m_cond\u001b[0m\u001b[1;33m.\u001b[0m\u001b[0mwait\u001b[0m\u001b[1;33m(\u001b[0m\u001b[0mtimeout\u001b[0m\u001b[1;33m)\u001b[0m\u001b[1;33m\u001b[0m\u001b[0m\n\u001b[0m\u001b[0;32m    552\u001b[0m             \u001b[1;32mreturn\u001b[0m \u001b[0msignaled\u001b[0m\u001b[1;33m\u001b[0m\u001b[0m\n\u001b[0;32m    553\u001b[0m \u001b[1;33m\u001b[0m\u001b[0m\n",
      "\u001b[1;32mC:\\ProgramData\\Anaconda3\\lib\\threading.py\u001b[0m in \u001b[0;36mwait\u001b[1;34m(self, timeout)\u001b[0m\n\u001b[0;32m    293\u001b[0m         \u001b[1;32mtry\u001b[0m\u001b[1;33m:\u001b[0m    \u001b[1;31m# restore state no matter what (e.g., KeyboardInterrupt)\u001b[0m\u001b[1;33m\u001b[0m\u001b[0m\n\u001b[0;32m    294\u001b[0m             \u001b[1;32mif\u001b[0m \u001b[0mtimeout\u001b[0m \u001b[1;32mis\u001b[0m \u001b[1;32mNone\u001b[0m\u001b[1;33m:\u001b[0m\u001b[1;33m\u001b[0m\u001b[0m\n\u001b[1;32m--> 295\u001b[1;33m                 \u001b[0mwaiter\u001b[0m\u001b[1;33m.\u001b[0m\u001b[0macquire\u001b[0m\u001b[1;33m(\u001b[0m\u001b[1;33m)\u001b[0m\u001b[1;33m\u001b[0m\u001b[0m\n\u001b[0m\u001b[0;32m    296\u001b[0m                 \u001b[0mgotit\u001b[0m \u001b[1;33m=\u001b[0m \u001b[1;32mTrue\u001b[0m\u001b[1;33m\u001b[0m\u001b[0m\n\u001b[0;32m    297\u001b[0m             \u001b[1;32melse\u001b[0m\u001b[1;33m:\u001b[0m\u001b[1;33m\u001b[0m\u001b[0m\n",
      "\u001b[1;31mKeyboardInterrupt\u001b[0m: "
     ]
    }
   ],
   "source": [
    "if rfr_rep_vsql_plan_score > gbw_rep_vsql_plan_score:\n",
    "    rep_vsql_plan_op = rfr_rep_vsql_plan_count\n",
    "    rep_vsql_plan_model = 0\n",
    "else:\n",
    "    rep_vsql_plan_op = gbw_rep_vsql_plan_count\n",
    "    rep_vsql_plan_model = 1\n",
    "    \n",
    "fe = FeatureEliminator(X_df=rep_vsql_plan_df_pruned_norm,\n",
    "                       y_df=rep_vsql_plan_df_pruned['COST'])\n",
    "column_mask, column_rankings = fe.rfe_selector(test_split=test_split,\n",
    "                                               optimum_feature_count=rep_vsql_plan_op,\n",
    "                                               model = rep_vsql_plan_model,\n",
    "                                               parallel_degree=parallel_degree)\n",
    "print(rep_vsql_plan_df_pruned_norm.columns)\n",
    "rep_vsql_plan_df_pruned_norm = fe.get_selected_features(column_mask=column_mask)\n",
    "print(rep_vsql_plan_df_pruned_norm.columns)"
   ]
  }
 ],
 "metadata": {
  "kernelspec": {
   "display_name": "Python 3",
   "language": "python",
   "name": "python3"
  },
  "language_info": {
   "codemirror_mode": {
    "name": "ipython",
    "version": 3
   },
   "file_extension": ".py",
   "mimetype": "text/x-python",
   "name": "python",
   "nbconvert_exporter": "python",
   "pygments_lexer": "ipython3",
   "version": "3.6.6"
  }
 },
 "nbformat": 4,
 "nbformat_minor": 2
}
