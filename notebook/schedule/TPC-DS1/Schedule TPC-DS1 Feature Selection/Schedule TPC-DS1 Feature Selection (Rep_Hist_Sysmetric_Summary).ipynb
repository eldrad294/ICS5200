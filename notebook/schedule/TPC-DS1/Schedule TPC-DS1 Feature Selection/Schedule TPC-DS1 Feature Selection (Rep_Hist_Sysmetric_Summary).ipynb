{
 "cells": [
  {
   "cell_type": "markdown",
   "metadata": {},
   "source": [
    "# Schedule TPC-DS 1 Feature Selection (REP_HIST_SYSMETRIC_SUMMARY)\n",
    "\n",
    "This notebook is dedicated to dataset profiling. In this notebook, feature selection techniques will be implemented so as to categorize which features belay the most information to address the problem at hand - Workload Prediction. Due to the vast feature space which have been gathered during a workload's execution, manual techniques at determining which are most detrimental is not sufficient. \n",
    "\n",
    "Therefore the following work puts emphasis on automated techniques so as to determine out of the vast feature space which are most important to base future models upon. "
   ]
  },
  {
   "cell_type": "code",
   "execution_count": 130,
   "metadata": {},
   "outputs": [],
   "source": [
    "# Module Import\n",
    "import pandas as pd\n",
    "import numpy as np\n",
    "import matplotlib.pyplot as plt\n",
    "from sklearn.feature_selection import SelectFromModel, SelectKBest, chi2, RFE\n",
    "from sklearn.preprocessing import RobustScaler, MinMaxScaler\n",
    "from sklearn.ensemble import RandomForestRegressor, GradientBoostingRegressor\n",
    "from sklearn.model_selection import train_test_split\n",
    "from sklearn import preprocessing\n",
    "from operator import itemgetter\n",
    "from sklearn.metrics import r2_score"
   ]
  },
  {
   "cell_type": "markdown",
   "metadata": {},
   "source": [
    "### Configuration Cell\n",
    "\n",
    "Tweak parametric changes from this cell to influence outcome of experiment\n",
    "* tpcds - Schema upon which to operate test\n",
    "* debug_mode - Determines whether to plot graphs or not, useful for development purposes\n",
    "* low_quartile_limit - Lower Quartile threshold to detect outliers\n",
    "* upper_quartile_limit - Upper Quartile threshold to detect outliers\n",
    "* test_split - Denotes which Data Split to operate under when it comes to training / validation\n",
    "* nrows - Number of rows to read from csv file\n",
    "* top_n_features - Number of top features to focus on\n",
    "* parallel_degree - Number of parallel threads to train models with"
   ]
  },
  {
   "cell_type": "code",
   "execution_count": 131,
   "metadata": {},
   "outputs": [],
   "source": [
    "# Experiment Config\n",
    "tpcds='TPCDS1'\n",
    "debug_mode=True\n",
    "low_quartile_limit = 0\n",
    "upper_quartile_limit = 1\n",
    "test_split=.3\n",
    "nrows=1000\n",
    "top_n_features=30\n",
    "parallel_degree=4"
   ]
  },
  {
   "cell_type": "markdown",
   "metadata": {},
   "source": [
    "### Read data from file into Pandas Dataframes"
   ]
  },
  {
   "cell_type": "code",
   "execution_count": 132,
   "metadata": {},
   "outputs": [],
   "source": [
    "# Root path\n",
    "root_dir = 'C:/Users/gabriel.sammut/University/Data_ICS5200/Schedule/' + tpcds\n",
    "#root_dir = 'D:/Projects/Datagenerated_ICS5200/Schedule/' + tpcds\n",
    "\n",
    "# Open Data\n",
    "rep_hist_sysmetric_summary_path = root_dir + '/rep_hist_sysmetric_summary.csv'\n",
    "\n",
    "rep_hist_sysmetric_summary_df = pd.read_csv(rep_hist_sysmetric_summary_path,nrows=nrows)\n",
    "\n",
    "def prettify_header(headers):\n",
    "    \"\"\"\n",
    "    Cleans header list from unwated character strings\n",
    "    \"\"\"\n",
    "    header_list = []\n",
    "    [header_list.append(header.replace(\"(\",\"\").replace(\")\",\"\").replace(\"'\",\"\").replace(\",\",\"\")) for header in headers]\n",
    "    return header_list\n",
    "\n",
    "rep_hist_sysmetric_summary_df.columns = prettify_header(rep_hist_sysmetric_summary_df.columns.values)"
   ]
  },
  {
   "cell_type": "markdown",
   "metadata": {},
   "source": [
    "# Dataset Description\n",
    "\n",
    "The correlation of resources consumed (y) per snapshot (X) define our feature space. Since the objective here is to attempt to predict what resources will be incurred ahead of time, the problem can be defined as a number of questions:\n",
    "\n",
    "* Q: What resources can I predict to be in usage at point N in time?\n",
    "* Q: What resources should I be predicting that accurately portray a schedule's workload?\n",
    "* Q: What knowledge/data do I have ahead of time which I can use to base my predictions off?\n",
    "\n",
    "Due to the vast feature space in the available metrics monitored and captured during a workload's execution, it is important to rank which attribute is most beneficial than others. Additionally, it is important to analyze such features individually, and considerate of other features in two types of analysis:\n",
    "\n",
    "* Univariate Analysis\n",
    "* Multivariate Analysis\n",
    "\n",
    "Furthermore, multiple types of feature ranking / analysis techniques ara available, amongst which will be considered:\n",
    "\n",
    "* Filter Methods\n",
    "* Wrapper Methods\n",
    "* Embedded Methods"
   ]
  },
  {
   "cell_type": "markdown",
   "metadata": {},
   "source": [
    "# Data Preprocessing\n",
    "\n",
    "We apply a number of preprocessing techniques to the presented dataframes, particularly to normalize and/or scale feature vectors into a more suitable representation for downstream estimators:\n",
    "\n",
    "Relative Links:\n",
    "* http://scikit-learn.org/stable/modules/preprocessing.html\n",
    "* https://machinelearningmastery.com/improve-model-accuracy-with-data-pre-processing/\n",
    "* https://machinelearningmastery.com/normalize-standardize-time-series-data-python/\n",
    "\n",
    "### Table Pivots\n",
    "\n",
    "To better handle the following table, a number of table pivots are made on tables:\n",
    "* rep_hist_sysmetric_summary"
   ]
  },
  {
   "cell_type": "code",
   "execution_count": 133,
   "metadata": {
    "scrolled": true
   },
   "outputs": [
    {
     "name": "stdout",
     "output_type": "stream",
     "text": [
      "Index(['SNAP_ID', 'Active Parallel Sessions', 'Active Serial Sessions',\n",
      "       'Average Active Sessions',\n",
      "       'Average Synchronous Single-Block Read Latency',\n",
      "       'Background CPU Usage Per Sec', 'Background Checkpoints Per Sec',\n",
      "       'Background Time Per Sec', 'Branch Node Splits Per Sec',\n",
      "       'Branch Node Splits Per Txn',\n",
      "       ...\n",
      "       'User Commits Percentage', 'User Limit %',\n",
      "       'User Rollback Undo Records Applied Per Txn',\n",
      "       'User Rollback UndoRec Applied Per Sec', 'User Rollbacks Per Sec',\n",
      "       'User Rollbacks Percentage', 'User Transaction Per Sec',\n",
      "       'VM in bytes Per Sec', 'VM out bytes Per Sec',\n",
      "       'Workload Capture and Replay status'],\n",
      "      dtype='object', name='METRIC_NAME', length=162)\n",
      "REP_HIST_SYSMETRIC Shape: (7, 162)\n",
      "Table [REP_HIST_SYSMETRIC_SUMMARY] - (7, 162)\n"
     ]
    }
   ],
   "source": [
    "# Table REP_HIST_SYSMETRIC_SUMMARY\n",
    "rep_hist_sysmetric_summary_df = rep_hist_sysmetric_summary_df.pivot(index='SNAP_ID', columns='METRIC_NAME', values='AVERAGE')\n",
    "rep_hist_sysmetric_summary_df.reset_index(inplace=True)\n",
    "print(rep_hist_sysmetric_summary_df.columns)\n",
    "rep_hist_sysmetric_summary_df[['SNAP_ID']] = rep_hist_sysmetric_summary_df[['SNAP_ID']].astype(int)\n",
    "rep_hist_sysmetric_summary_df.sort_values(by=['SNAP_ID'],inplace=True,ascending=True)\n",
    "print(\"REP_HIST_SYSMETRIC Shape: \" + str(rep_hist_sysmetric_summary_df.shape))\n",
    "\n",
    "# Refreshing columns with pivoted columns\n",
    "def convert_list_to_upper(col_list):\n",
    "    \"\"\"\n",
    "    Takes a string and converts elements to upper\n",
    "    \"\"\"\n",
    "    upper_col_list = []\n",
    "    for col in col_list:\n",
    "        upper_col_list.append(col.upper())\n",
    "    return upper_col_list\n",
    "\n",
    "rep_hist_sysmetric_summary_df.rename(str.upper, inplace=True, axis='columns')\n",
    "\n",
    "# DF Shape\n",
    "print('Table [REP_HIST_SYSMETRIC_SUMMARY] - ' + str(rep_hist_sysmetric_summary_df.shape))"
   ]
  },
  {
   "cell_type": "markdown",
   "metadata": {},
   "source": [
    "### Checking for NaN Values\n",
    "\n",
    "Checking dataframes for potential missing values/data:"
   ]
  },
  {
   "cell_type": "code",
   "execution_count": 134,
   "metadata": {
    "scrolled": true
   },
   "outputs": [
    {
     "name": "stdout",
     "output_type": "stream",
     "text": [
      "Table REP_HIST_SYSMETRIC_SUMMARY: ['ACTIVE PARALLEL SESSIONS', 'ACTIVE SERIAL SESSIONS', 'AVERAGE ACTIVE SESSIONS', 'AVERAGE SYNCHRONOUS SINGLE-BLOCK READ LATENCY', 'BACKGROUND CPU USAGE PER SEC', 'BACKGROUND TIME PER SEC', 'BRANCH NODE SPLITS PER SEC', 'BRANCH NODE SPLITS PER TXN', 'CPU USAGE PER SEC', 'CPU USAGE PER TXN', 'CR BLOCKS CREATED PER SEC', 'CR BLOCKS CREATED PER TXN', 'CR UNDO RECORDS APPLIED PER SEC', 'CR UNDO RECORDS APPLIED PER TXN', 'CAPTURED USER CALLS', 'CELL PHYSICAL IO INTERCONNECT BYTES', 'CONSISTENT READ CHANGES PER SEC', 'CONSISTENT READ CHANGES PER TXN', 'CONSISTENT READ GETS PER SEC', 'CONSISTENT READ GETS PER TXN', 'CURRENT LOGONS COUNT', 'CURRENT OS LOAD', 'CURRENT OPEN CURSORS COUNT', 'CURSOR CACHE HIT RATIO', 'DB BLOCK CHANGES PER SEC', 'DB BLOCK CHANGES PER TXN', 'DB BLOCK CHANGES PER USER CALL', 'DB BLOCK GETS PER SEC', 'DB BLOCK GETS PER TXN', 'DB BLOCK GETS PER USER CALL', 'DDL STATEMENTS PARALLELIZED PER SEC', 'DML STATEMENTS PARALLELIZED PER SEC', 'DATABASE CPU TIME RATIO', 'DATABASE TIME PER SEC', 'DATABASE WAIT TIME RATIO', 'DISK SORT PER SEC', 'DISK SORT PER TXN', 'ENQUEUE DEADLOCKS PER SEC', 'ENQUEUE DEADLOCKS PER TXN', 'ENQUEUE REQUESTS PER SEC', 'ENQUEUE REQUESTS PER TXN', 'ENQUEUE TIMEOUTS PER SEC', 'ENQUEUE TIMEOUTS PER TXN', 'ENQUEUE WAITS PER SEC', 'ENQUEUE WAITS PER TXN', 'EXECUTE WITHOUT PARSE RATIO', 'EXECUTIONS PER SEC', 'EXECUTIONS PER TXN', 'EXECUTIONS PER USER CALL', 'FULL INDEX SCANS PER SEC', 'FULL INDEX SCANS PER TXN', 'GC CR BLOCK RECEIVED PER SECOND', 'GC CR BLOCK RECEIVED PER TXN', 'GC CURRENT BLOCK RECEIVED PER SECOND', 'GC CURRENT BLOCK RECEIVED PER TXN', 'GLOBAL CACHE AVERAGE CR GET TIME', 'GLOBAL CACHE AVERAGE CURRENT GET TIME', 'GLOBAL CACHE BLOCKS CORRUPTED', 'GLOBAL CACHE BLOCKS LOST', 'HARD PARSE COUNT PER SEC', 'HARD PARSE COUNT PER TXN', 'HOST CPU USAGE PER SEC', 'HOST CPU UTILIZATION (%)', 'I/O MEGABYTES PER SECOND', 'I/O REQUESTS PER SECOND', 'LEAF NODE SPLITS PER SEC', 'LEAF NODE SPLITS PER TXN', 'LIBRARY CACHE HIT RATIO', 'LIBRARY CACHE MISS RATIO', 'LOGICAL READS PER USER CALL', 'LONG TABLE SCANS PER SEC', 'LONG TABLE SCANS PER TXN', 'NETWORK TRAFFIC VOLUME PER SEC', 'PGA CACHE HIT %', 'PQ QC SESSION COUNT', 'PQ SLAVE SESSION COUNT', 'PX DOWNGRADED 1 TO 25% PER SEC', 'PX DOWNGRADED 25 TO 50% PER SEC', 'PX DOWNGRADED 50 TO 75% PER SEC', 'PX DOWNGRADED 75 TO 99% PER SEC', 'PX DOWNGRADED TO SERIAL PER SEC', 'PX OPERATIONS NOT DOWNGRADED PER SEC', 'PARSE FAILURE COUNT PER SEC', 'PARSE FAILURE COUNT PER TXN', 'PHYSICAL READ BYTES PER SEC', 'PHYSICAL READ IO REQUESTS PER SEC', 'PHYSICAL READ TOTAL BYTES PER SEC', 'PHYSICAL READ TOTAL IO REQUESTS PER SEC', 'PHYSICAL WRITE BYTES PER SEC', 'PHYSICAL WRITE IO REQUESTS PER SEC', 'PHYSICAL WRITE TOTAL BYTES PER SEC', 'PHYSICAL WRITE TOTAL IO REQUESTS PER SEC', 'PROCESS LIMIT %', 'QUERIES PARALLELIZED PER SEC', 'REDO WRITES PER SEC', 'REDO WRITES PER TXN', 'REPLAYED USER CALLS', 'RESPONSE TIME PER TXN', 'ROW CACHE HIT RATIO', 'ROW CACHE MISS RATIO', 'ROWS PER SORT', 'RUN QUEUE PER SEC', 'SQL SERVICE RESPONSE TIME', 'SESSION COUNT', 'SESSION LIMIT %', 'SHARED POOL FREE %', 'SOFT PARSE RATIO', 'STREAMS POOL USAGE PERCENTAGE', 'TEMP SPACE USED', 'TOTAL INDEX SCANS PER SEC', 'TOTAL INDEX SCANS PER TXN', 'TOTAL PGA ALLOCATED', 'TOTAL PGA USED BY SQL WORKAREAS', 'TOTAL PARSE COUNT PER SEC', 'TOTAL PARSE COUNT PER TXN', 'TOTAL SORTS PER USER CALL', 'TOTAL TABLE SCANS PER SEC', 'TOTAL TABLE SCANS PER TXN', 'TOTAL TABLE SCANS PER USER CALL', 'TXNS PER LOGON', 'USER CALLS RATIO', 'USER LIMIT %', 'USER ROLLBACK UNDO RECORDS APPLIED PER TXN', 'USER ROLLBACK UNDOREC APPLIED PER SEC', 'VM IN BYTES PER SEC', 'VM OUT BYTES PER SEC', 'WORKLOAD CAPTURE AND REPLAY STATUS']\n",
      "\n",
      "\n"
     ]
    }
   ],
   "source": [
    "def get_na_columns(df):\n",
    "    \"\"\"\n",
    "    Return columns which consist of NAN values\n",
    "    \"\"\"\n",
    "    na_list = []\n",
    "    for head in df.columns:\n",
    "        if df[head].isnull().values.any():\n",
    "            na_list.append(head)\n",
    "    return na_list\n",
    "\n",
    "print(\"Table REP_HIST_SYSMETRIC_SUMMARY: \" + str(get_na_columns(df=rep_hist_sysmetric_summary_df)) + \"\\n\\n\")\n",
    "\n",
    "def fill_na(df):\n",
    "    \"\"\"\n",
    "    Replaces NA columns with 0s\n",
    "    \"\"\"\n",
    "    return df.fillna(0)\n",
    "\n",
    "# Populating NaN values with amount '0'\n",
    "rep_hist_sysmetric_summary_df = fill_na(df=rep_hist_sysmetric_summary_df)"
   ]
  },
  {
   "cell_type": "markdown",
   "metadata": {},
   "source": [
    "### Label Encoding\n",
    "\n",
    "Since this experiment deals with prediction of upcoming SQL_IDs, respectice SQL_ID strings need to labelled as a numeric representation. Label Encoder will be used here to convert SQL_ID's into a numeric format, which are in turn used for training. Evaluation (achieved predictions) is done so also in numeric format, at which point the label encoder is eventually used to decode back the labels into the original, respetive SQL_ID representation.\n",
    "\n",
    "This section of the experiment additionally converts the targetted label into a binarized version of the previous achieved categorical numeric values.\n",
    "\n",
    "* https://machinelearningmastery.com/why-one-hot-encode-data-in-machine-learning/\n",
    "* https://scikit-learn.org/stable/modules/generated/sklearn.preprocessing.OneHotEncoder.html\n",
    "* https://scikit-learn.org/stable/modules/generated/sklearn.preprocessing.LabelBinarizer.html"
   ]
  },
  {
   "cell_type": "code",
   "execution_count": 135,
   "metadata": {},
   "outputs": [
    {
     "name": "stdout",
     "output_type": "stream",
     "text": [
      "----------BEFORE----------\n",
      "(7, 162)\n",
      "METRIC_NAME  SNAP_ID  ACTIVE PARALLEL SESSIONS  ACTIVE SERIAL SESSIONS  \\\n",
      "0              43414                       0.0                     2.0   \n",
      "1              43415                       0.0                     3.0   \n",
      "2              43416                       0.0                    23.0   \n",
      "3              43417                       0.0                    22.0   \n",
      "4              43418                       0.0                    22.0   \n",
      "5              43419                       0.0                     2.0   \n",
      "6              43420                       0.0                     0.0   \n",
      "\n",
      "METRIC_NAME  AVERAGE ACTIVE SESSIONS  \\\n",
      "0                           7.640410   \n",
      "1                           0.960081   \n",
      "2                           3.676004   \n",
      "3                          20.395810   \n",
      "4                          20.477538   \n",
      "5                           7.170230   \n",
      "6                           0.000000   \n",
      "\n",
      "METRIC_NAME  AVERAGE SYNCHRONOUS SINGLE-BLOCK READ LATENCY  \\\n",
      "0                                                 0.330940   \n",
      "1                                                 0.006406   \n",
      "2                                                 0.001472   \n",
      "3                                                 0.000209   \n",
      "4                                                 0.000214   \n",
      "5                                                 0.000735   \n",
      "6                                                 0.000000   \n",
      "\n",
      "METRIC_NAME  BACKGROUND CPU USAGE PER SEC  BACKGROUND CHECKPOINTS PER SEC  \\\n",
      "0                                4.023343                        0.000000   \n",
      "1                                0.851814                        0.016658   \n",
      "2                                1.016509                        0.000000   \n",
      "3                               10.115031                        0.000000   \n",
      "4                                7.208609                        0.000000   \n",
      "5                                6.706732                        0.016658   \n",
      "6                                0.000000                        0.000000   \n",
      "\n",
      "METRIC_NAME  BACKGROUND TIME PER SEC  BRANCH NODE SPLITS PER SEC  \\\n",
      "0                           0.048707                    0.016658   \n",
      "1                           0.014922                    0.000000   \n",
      "2                           0.014460                    0.000000   \n",
      "3                           0.114077                    0.016658   \n",
      "4                           0.080651                    0.033311   \n",
      "5                           0.073914                    0.016658   \n",
      "6                           0.000000                    0.000000   \n",
      "\n",
      "METRIC_NAME  BRANCH NODE SPLITS PER TXN                 ...                  \\\n",
      "0                              0.003937                 ...                   \n",
      "1                              0.000000                 ...                   \n",
      "2                              0.000000                 ...                   \n",
      "3                              0.045455                 ...                   \n",
      "4                              0.100000                 ...                   \n",
      "5                              0.014286                 ...                   \n",
      "6                              0.000000                 ...                   \n",
      "\n",
      "METRIC_NAME  USER COMMITS PERCENTAGE  USER LIMIT %  \\\n",
      "0                          91.338583      0.000002   \n",
      "1                         100.000000      0.000002   \n",
      "2                          95.238095      0.000002   \n",
      "3                         100.000000      0.000002   \n",
      "4                         100.000000      0.000002   \n",
      "5                          57.142857      0.000002   \n",
      "6                          49.000000      0.000000   \n",
      "\n",
      "METRIC_NAME  USER ROLLBACK UNDO RECORDS APPLIED PER TXN  \\\n",
      "0                                              0.000000   \n",
      "1                                              0.000000   \n",
      "2                                              0.000000   \n",
      "3                                              0.000000   \n",
      "4                                              0.100000   \n",
      "5                                              0.028571   \n",
      "6                                              0.000000   \n",
      "\n",
      "METRIC_NAME  USER ROLLBACK UNDOREC APPLIED PER SEC  USER ROLLBACKS PER SEC  \\\n",
      "0                                         0.000000                0.366483   \n",
      "1                                         0.000000                0.000000   \n",
      "2                                         0.000000                0.016661   \n",
      "3                                         0.000000                0.000000   \n",
      "4                                         0.033311                0.000000   \n",
      "5                                         0.033317                0.499750   \n",
      "6                                         0.000000                0.849717   \n",
      "\n",
      "METRIC_NAME  USER ROLLBACKS PERCENTAGE  USER TRANSACTION PER SEC  \\\n",
      "0                             8.661417                  4.231218   \n",
      "1                             0.000000                  0.366483   \n",
      "2                             4.761905                  0.349883   \n",
      "3                             0.000000                  0.366483   \n",
      "4                             0.000000                  0.333111   \n",
      "5                            42.857143                  1.166084   \n",
      "6                            51.000000                  1.666111   \n",
      "\n",
      "METRIC_NAME  VM IN BYTES PER SEC  VM OUT BYTES PER SEC  \\\n",
      "0                    2933.999667                   0.0   \n",
      "1                    2729.302016                   0.0   \n",
      "2                    2047.317561                   0.0   \n",
      "3                    2661.069465                   0.0   \n",
      "4                    3138.174550                   0.0   \n",
      "5                    5867.999334                   0.0   \n",
      "6                       0.000000                   0.0   \n",
      "\n",
      "METRIC_NAME  WORKLOAD CAPTURE AND REPLAY STATUS  \n",
      "0                                           0.0  \n",
      "1                                           0.0  \n",
      "2                                           0.0  \n",
      "3                                           0.0  \n",
      "4                                           0.0  \n",
      "5                                           0.0  \n",
      "6                                           0.0  \n",
      "\n",
      "[7 rows x 162 columns]\n",
      "----------AFTER----------\n",
      "(7, 162)\n",
      "METRIC_NAME  SNAP_ID  ACTIVE PARALLEL SESSIONS  ACTIVE SERIAL SESSIONS  \\\n",
      "0              43414                       0.0                     2.0   \n",
      "1              43415                       0.0                     3.0   \n",
      "2              43416                       0.0                    23.0   \n",
      "3              43417                       0.0                    22.0   \n",
      "4              43418                       0.0                    22.0   \n",
      "5              43419                       0.0                     2.0   \n",
      "6              43420                       0.0                     0.0   \n",
      "\n",
      "METRIC_NAME  AVERAGE ACTIVE SESSIONS  \\\n",
      "0                           7.640410   \n",
      "1                           0.960081   \n",
      "2                           3.676004   \n",
      "3                          20.395810   \n",
      "4                          20.477538   \n",
      "5                           7.170230   \n",
      "6                           0.000000   \n",
      "\n",
      "METRIC_NAME  AVERAGE SYNCHRONOUS SINGLE-BLOCK READ LATENCY  \\\n",
      "0                                                 0.330940   \n",
      "1                                                 0.006406   \n",
      "2                                                 0.001472   \n",
      "3                                                 0.000209   \n",
      "4                                                 0.000214   \n",
      "5                                                 0.000735   \n",
      "6                                                 0.000000   \n",
      "\n",
      "METRIC_NAME  BACKGROUND CPU USAGE PER SEC  BACKGROUND CHECKPOINTS PER SEC  \\\n",
      "0                                4.023343                        0.000000   \n",
      "1                                0.851814                        0.016658   \n",
      "2                                1.016509                        0.000000   \n",
      "3                               10.115031                        0.000000   \n",
      "4                                7.208609                        0.000000   \n",
      "5                                6.706732                        0.016658   \n",
      "6                                0.000000                        0.000000   \n",
      "\n",
      "METRIC_NAME  BACKGROUND TIME PER SEC  BRANCH NODE SPLITS PER SEC  \\\n",
      "0                           0.048707                    0.016658   \n",
      "1                           0.014922                    0.000000   \n",
      "2                           0.014460                    0.000000   \n",
      "3                           0.114077                    0.016658   \n",
      "4                           0.080651                    0.033311   \n",
      "5                           0.073914                    0.016658   \n",
      "6                           0.000000                    0.000000   \n",
      "\n",
      "METRIC_NAME  BRANCH NODE SPLITS PER TXN                 ...                  \\\n",
      "0                              0.003937                 ...                   \n",
      "1                              0.000000                 ...                   \n",
      "2                              0.000000                 ...                   \n",
      "3                              0.045455                 ...                   \n",
      "4                              0.100000                 ...                   \n",
      "5                              0.014286                 ...                   \n",
      "6                              0.000000                 ...                   \n",
      "\n",
      "METRIC_NAME  USER COMMITS PERCENTAGE  USER LIMIT %  \\\n",
      "0                          91.338583      0.000002   \n",
      "1                         100.000000      0.000002   \n",
      "2                          95.238095      0.000002   \n",
      "3                         100.000000      0.000002   \n",
      "4                         100.000000      0.000002   \n",
      "5                          57.142857      0.000002   \n",
      "6                          49.000000      0.000000   \n",
      "\n",
      "METRIC_NAME  USER ROLLBACK UNDO RECORDS APPLIED PER TXN  \\\n",
      "0                                              0.000000   \n",
      "1                                              0.000000   \n",
      "2                                              0.000000   \n",
      "3                                              0.000000   \n",
      "4                                              0.100000   \n",
      "5                                              0.028571   \n",
      "6                                              0.000000   \n",
      "\n",
      "METRIC_NAME  USER ROLLBACK UNDOREC APPLIED PER SEC  USER ROLLBACKS PER SEC  \\\n",
      "0                                         0.000000                0.366483   \n",
      "1                                         0.000000                0.000000   \n",
      "2                                         0.000000                0.016661   \n",
      "3                                         0.000000                0.000000   \n",
      "4                                         0.033311                0.000000   \n",
      "5                                         0.033317                0.499750   \n",
      "6                                         0.000000                0.849717   \n",
      "\n",
      "METRIC_NAME  USER ROLLBACKS PERCENTAGE  USER TRANSACTION PER SEC  \\\n",
      "0                             8.661417                  4.231218   \n",
      "1                             0.000000                  0.366483   \n",
      "2                             4.761905                  0.349883   \n",
      "3                             0.000000                  0.366483   \n",
      "4                             0.000000                  0.333111   \n",
      "5                            42.857143                  1.166084   \n",
      "6                            51.000000                  1.666111   \n",
      "\n",
      "METRIC_NAME  VM IN BYTES PER SEC  VM OUT BYTES PER SEC  \\\n",
      "0                    2933.999667                   0.0   \n",
      "1                    2729.302016                   0.0   \n",
      "2                    2047.317561                   0.0   \n",
      "3                    2661.069465                   0.0   \n",
      "4                    3138.174550                   0.0   \n",
      "5                    5867.999334                   0.0   \n",
      "6                       0.000000                   0.0   \n",
      "\n",
      "METRIC_NAME  WORKLOAD CAPTURE AND REPLAY STATUS  \n",
      "0                                           0.0  \n",
      "1                                           0.0  \n",
      "2                                           0.0  \n",
      "3                                           0.0  \n",
      "4                                           0.0  \n",
      "5                                           0.0  \n",
      "6                                           0.0  \n",
      "\n",
      "[7 rows x 162 columns]\n"
     ]
    }
   ],
   "source": [
    "class LabelEncoder:\n",
    "    \"\"\"\n",
    "    Scikit Label Encoder was acting up with the following error whilst using the transform function, even though I tripled \n",
    "    checked that the passed data was exactly the same as the one used for training:\n",
    "    \n",
    "    * https://stackoverflow.com/questions/46288517/getting-valueerror-y-contains-new-labels-when-using-scikit-learns-labelencoder\n",
    "    \n",
    "    So I have rebuilt a similar functionality to categorize my data into numeric digits, as the LabelEncoder is supposed to do.\n",
    "    \"\"\"\n",
    "    #\n",
    "    def __init__(self):\n",
    "        self.__class_map = {}\n",
    "        self.__integer_counter = 0\n",
    "    #\n",
    "    def fit(self, X):\n",
    "        \"\"\"\n",
    "        :param - X: python list\n",
    "        \"\"\"\n",
    "        for val in X:\n",
    "            if val not in self.__class_map:\n",
    "                self.__class_map[val] = self.__integer_counter\n",
    "                self.__integer_counter += 1\n",
    "    #\n",
    "    def transform(self, X):\n",
    "        \"\"\"\n",
    "        param - X: python list\n",
    "        \"\"\"\n",
    "        encoded_map = []\n",
    "        for val in X:\n",
    "            if val in self.__class_map:\n",
    "                value = self.__class_map[val]\n",
    "                encoded_map.append(value)\n",
    "            else:\n",
    "                raise ValueError('Label Mismatch - Encountered a label which was not trained on.')\n",
    "        return encoded_map\n",
    "    #\n",
    "    def get_class_map(self):\n",
    "        \"\"\"\n",
    "        Returns original classes as a list\n",
    "        \"\"\"\n",
    "        class_map = []\n",
    "        for key, value in self.__class_map.items():\n",
    "            class_map.append(key)\n",
    "        return class_map\n",
    "    #\n",
    "    def get_encoded_map(self):\n",
    "        \"\"\"\n",
    "        Returns class encodings as a list\n",
    "        \"\"\"\n",
    "        encoded_map = []\n",
    "        for key, value in self.__class_map.items():\n",
    "            encoded_map.append(value)\n",
    "        return encoded_map\n",
    "\n",
    "print('-'*10 + 'BEFORE' + '-'*10)\n",
    "print(rep_hist_sysmetric_summary_df.shape)\n",
    "print(rep_hist_sysmetric_summary_df.head(10))\n",
    "\n",
    "for col in rep_hist_sysmetric_summary_df.columns:\n",
    "    first_ten_vals = rep_hist_sysmetric_summary_df[col].iloc[0:nrows]\n",
    "    try:\n",
    "        for val in first_ten_vals:\n",
    "            val = int(val)\n",
    "        continue  # If value is type casted successfully, then move on to the next value since it doesn't require label encoding\n",
    "    except ValueError:\n",
    "        le = LabelEncoder()  # Encode column with labels\n",
    "        val_list = rep_hist_sysmetric_summary_df[col].tolist()\n",
    "        le.fit(val_list)\n",
    "        transformed_map = le.transform(val_list)\n",
    "        rep_hist_sysmetric_summary_df[col] = pd.DataFrame(transformed_map, columns=[col])\n",
    "\n",
    "print('-'*10 + 'AFTER' + '-'*10)\n",
    "print(rep_hist_sysmetric_summary_df.shape)\n",
    "print(rep_hist_sysmetric_summary_df.head(10))"
   ]
  },
  {
   "cell_type": "markdown",
   "metadata": {},
   "source": [
    "### Checking for Negative Values\n",
    "\n",
    "A function which retrieves a count per column for nay negative values it might contain"
   ]
  },
  {
   "cell_type": "code",
   "execution_count": 136,
   "metadata": {
    "scrolled": false
   },
   "outputs": [
    {
     "name": "stdout",
     "output_type": "stream",
     "text": [
      "---------------WITH NEGATIVE VALUES---------------\n",
      "Table REP_HIST_SYSMETRIC_SUMMARY: []\n",
      "\n",
      "\n",
      "\n",
      "\n",
      "---------------WITHOUT NEGATIVE VALUES---------------\n",
      "Table REP_HIST_SYSMETRIC_SUMMARY: []\n",
      "\n",
      "\n"
     ]
    }
   ],
   "source": [
    "class NegativeHandler:\n",
    "    \"\"\"\n",
    "    This class contains logic pertaining to handling of negative values.\n",
    "    \"\"\"\n",
    "\n",
    "    def __init__(self, df):\n",
    "        \"\"\"\n",
    "        Class constructor.\n",
    "        :param df:      (Pandas) Data matrix containing data.\n",
    "        :return: None\n",
    "        \"\"\"\n",
    "        self.__df = df\n",
    "        self.__headers = df.columns\n",
    "\n",
    "    def count_neg_df(self):\n",
    "        \"\"\"\n",
    "        Return columns with respective negative value count.\n",
    "        :return: (List) Retrieves list of row positions denoting negative occurance.\n",
    "        \"\"\"\n",
    "        neg_list = []\n",
    "        for head in self.__headers:\n",
    "            count = 0\n",
    "            try:\n",
    "                count = sum(n < 0 for n in self.__df[head].values.flatten())\n",
    "            except Exception:\n",
    "                pass\n",
    "                #print('Non numeric column [' + head + ']')\n",
    "            if count > 0:\n",
    "                neg_list.append([head,count])\n",
    "        return neg_list\n",
    "\n",
    "    def fill_neg(self):\n",
    "        \"\"\"\n",
    "        Sets any data anomilies resulting in negative values to 0\n",
    "        :return: (Pandas) Dataframe with ammended negative values.\n",
    "        \"\"\"\n",
    "        headers = self.count_neg_df()\n",
    "        df = self.__df\n",
    "        for head in headers:\n",
    "            try:\n",
    "                df[df[head] < 0] = 0\n",
    "            except Exception:\n",
    "                pass\n",
    "                #print('Non numeric column [' + head + ']')\n",
    "        return df\n",
    "\n",
    "nh = NegativeHandler(df=rep_hist_sysmetric_summary_df)\n",
    "\n",
    "# Check For Negative Values within dataframes\n",
    "print('---------------WITH NEGATIVE VALUES---------------')\n",
    "print(\"Table REP_HIST_SYSMETRIC_SUMMARY: \" + str(nh.count_neg_df()) + \"\\n\\n\")\n",
    "\n",
    "# Replace Negative Values with a minimal threshold of 0\n",
    "rep_hist_sysmetric_summary_df = nh.fill_neg()\n",
    "\n",
    "# Check For Negative Values within dataframes\n",
    "print('\\n\\n---------------WITHOUT NEGATIVE VALUES---------------')\n",
    "print(\"Table REP_HIST_SYSMETRIC_SUMMARY: \" + str(nh.count_neg_df()) + \"\\n\\n\")"
   ]
  },
  {
   "cell_type": "markdown",
   "metadata": {},
   "source": [
    "### Redundant Feature Removal\n",
    "\n",
    "In this step, redundant features are dropped. Features are considered redundant if exhibit a standard devaition of 0 (meaning no change in value)."
   ]
  },
  {
   "cell_type": "code",
   "execution_count": 137,
   "metadata": {},
   "outputs": [
    {
     "name": "stdout",
     "output_type": "stream",
     "text": [
      "Dropping feature [ACTIVE PARALLEL SESSIONS]\n",
      "Dropping feature [CAPTURED USER CALLS]\n",
      "Dropping feature [DDL STATEMENTS PARALLELIZED PER SEC]\n",
      "Dropping feature [DML STATEMENTS PARALLELIZED PER SEC]\n",
      "Dropping feature [ENQUEUE DEADLOCKS PER SEC]\n",
      "Dropping feature [ENQUEUE DEADLOCKS PER TXN]\n",
      "Dropping feature [GC CR BLOCK RECEIVED PER SECOND]\n",
      "Dropping feature [GC CR BLOCK RECEIVED PER TXN]\n",
      "Dropping feature [GC CURRENT BLOCK RECEIVED PER SECOND]\n",
      "Dropping feature [GC CURRENT BLOCK RECEIVED PER TXN]\n",
      "Dropping feature [GLOBAL CACHE AVERAGE CR GET TIME]\n",
      "Dropping feature [GLOBAL CACHE AVERAGE CURRENT GET TIME]\n",
      "Dropping feature [GLOBAL CACHE BLOCKS CORRUPTED]\n",
      "Dropping feature [GLOBAL CACHE BLOCKS LOST]\n",
      "Dropping feature [PQ QC SESSION COUNT]\n",
      "Dropping feature [PQ SLAVE SESSION COUNT]\n",
      "Dropping feature [PX DOWNGRADED 1 TO 25% PER SEC]\n",
      "Dropping feature [PX DOWNGRADED 25 TO 50% PER SEC]\n",
      "Dropping feature [PX DOWNGRADED 50 TO 75% PER SEC]\n",
      "Dropping feature [PX DOWNGRADED 75 TO 99% PER SEC]\n",
      "Dropping feature [PX DOWNGRADED TO SERIAL PER SEC]\n",
      "Dropping feature [REDO ALLOCATION HIT RATIO]\n",
      "Dropping feature [REPLAYED USER CALLS]\n",
      "Dropping feature [RUN QUEUE PER SEC]\n",
      "Dropping feature [STREAMS POOL USAGE PERCENTAGE]\n",
      "Dropping feature [VM OUT BYTES PER SEC]\n",
      "Dropping feature [WORKLOAD CAPTURE AND REPLAY STATUS]\n",
      "\n",
      "Shape before changes: [(7, 162)]\n",
      "Shape after changes: [(7, 135)]\n",
      "Dropped a total [27]\n"
     ]
    }
   ],
   "source": [
    "class DropFlatline:\n",
    "\n",
    "    @staticmethod\n",
    "    def drop_flatline_columns(df):\n",
    "        \"\"\"\n",
    "        This function removes columns with a flat standard deviation of 0.\n",
    "        \"\"\"\n",
    "        columns = df.columns\n",
    "        flatline_features = []\n",
    "        for i in range(len(columns)):\n",
    "            try:\n",
    "                std = df[columns[i]].std()\n",
    "                if std == 0:\n",
    "                    flatline_features.append(columns[i])\n",
    "                    print('Dropping feature [' + columns[i]  + ']')\n",
    "            except:\n",
    "                pass\n",
    "        #\n",
    "        #print('Features which are considered flatline:\\n')\n",
    "        #for col in flatline_features:\n",
    "        #    print(col)\n",
    "        print('\\nShape before changes: [' + str(df.shape) + ']')\n",
    "        df = df.drop(columns=flatline_features)\n",
    "        print('Shape after changes: [' + str(df.shape) + ']')\n",
    "        print('Dropped a total [' + str(len(flatline_features)) + ']')\n",
    "        return df\n",
    "\n",
    "rep_hist_sysmetric_summary_df = DropFlatline.drop_flatline_columns(df=rep_hist_sysmetric_summary_df)\n",
    "\n",
    "rep_hist_sysmetric_summary_headers = rep_hist_sysmetric_summary_df.columns"
   ]
  },
  {
   "cell_type": "markdown",
   "metadata": {},
   "source": [
    "## Visualizing Feature Distribution & Skewness\n",
    "\n",
    "In order to decide between a normalization strategy, it is important to understand the underlying data spread. Understanding of dataset mean, variance, skewness on a per column/feature basis helps determine whether a standardization or normalization strategy should be utilized on the datasets.\n",
    "\n",
    "### Plotting Data Distribution\n",
    "\n",
    "To better decide which normalization technique ought to be utilized for the technique at hand, a number of feature columns will be plotted as histograms to better convey the distribution spread."
   ]
  },
  {
   "cell_type": "code",
   "execution_count": 138,
   "metadata": {
    "scrolled": true
   },
   "outputs": [],
   "source": [
    "class Visualizer:\n",
    "    \"\"\"\n",
    "    This class contains a number of methods dedicated to plotting the underlying data.\n",
    "    \"\"\"\n",
    "    def __init__(self, df=None, tpc_type=None, table=None):\n",
    "        \"\"\"\n",
    "        Constructor method.\n",
    "        :param df:             (Pandas) Data matrix.\n",
    "        :param tpc_type:       (String) TPC type, used for plot title purposes.\n",
    "        :param table:          (String) Denotes which table is being access, used for plot title/label purposes.\n",
    "        :return: None\n",
    "        \"\"\"\n",
    "        self.__df = df\n",
    "        self.__tpc_type = tpc_type\n",
    "        self.__table = table\n",
    "        \n",
    "    def plot_hist(self, bin_size=10, feature_column=None):\n",
    "        \"\"\"\n",
    "        Plots histogram distribution, split into a number of buckets.\n",
    "        :param bin_size: (Integer) Denotes number of histogram buckets to split data into.\n",
    "        :param feature_column: (String) Denotes which column to plot.\n",
    "        :return: None\n",
    "        \"\"\"\n",
    "        df = self.__df\n",
    "\n",
    "        try:\n",
    "            df['SNAP_ID'] = df['SNAP_ID'].astype(float)\n",
    "            df[feature_column] = df[feature_column].astype(float)\n",
    "\n",
    "            max_val = df[feature_column].max()\n",
    "            start_snap, end_snap = int(df['SNAP_ID'].min()), int(df['SNAP_ID'].max())\n",
    "\n",
    "            df[feature_column].hist(bins=10,figsize=(12,8))\n",
    "            plt.ylabel(feature_column)\n",
    "            plt.xlabel('Bin Ranges Of ' + str(int(max_val/bin_size)))\n",
    "            plt.title(self.__tpc_type + ' Table ' + self.__table.upper() + '.' + str(feature_column) + \" between \" + str(start_snap) + \" - \" + str(end_snap))\n",
    "            plt.show()\n",
    "        except Exception:\n",
    "            print('Could not plot column: ' + feature_column)\n",
    "\n",
    "    def plot_scatter(self, feature_column=None):\n",
    "        \"\"\"\n",
    "        Plots scatter plots vs SNAP_ID.\n",
    "        :param feature_column: (String) Denotes which column to plot.\n",
    "        :return: None\n",
    "        \"\"\"\n",
    "        df = self.__df\n",
    "\n",
    "        try:\n",
    "            df['SNAP_ID'] = df['SNAP_ID'].astype(int)\n",
    "            df[feature_column] = df[feature_column].astype(int)\n",
    "            start_snap, end_snap = int(df['SNAP_ID'].min()), int(df['SNAP_ID'].max())\n",
    "\n",
    "            df.plot.scatter(x='SNAP_ID',\n",
    "                            y=feature_column,\n",
    "                            figsize=(12,8))\n",
    "            plt.ylabel(feature_column)\n",
    "            plt.xlabel('SNAP ID')\n",
    "            plt.title(self.__tpc_type + ' Table ' + self.__table.upper() + '.' + str(feature_column) + \" between \" + str(start_snap) + \" - \" + str(end_snap))\n",
    "            plt.show()\n",
    "        except Exception:\n",
    "            print('Could not plot column: ' + feature_column)\n",
    "\n",
    "    def plot_boxplot(self, feature_columns=None):\n",
    "        \"\"\"\n",
    "        Plots quartile plots to estimate mean and sigma (std dev).\n",
    "        :param feature_colums: (List) List of feature columns. Overrides parameter used in class constructor.\n",
    "        :return: None\n",
    "        \"\"\"\n",
    "        df = self.__df\n",
    "\n",
    "        try:\n",
    "            for feature_column in feature_columns:\n",
    "                df[feature_column] = df[feature_column].astype(int)\n",
    "            df.boxplot(column=feature_columns, figsize=(12,8), grid=True)\n",
    "            plt.title(self.__tpc_type + ' ' + str(feature_columns))\n",
    "            plt.show()\n",
    "        except Exception:\n",
    "            print('Could not plot column: ' + feature_column)\n",
    "            \n",
    "vis = Visualizer(df=rep_hist_sysmetric_summary_df, \n",
    "                 tpc_type=tpcds, \n",
    "                 table='rep_hist_sysmetric_summary')\n",
    "\n",
    "if debug_mode is False:\n",
    "    \n",
    "    # Plotting Histograms of data distribution\n",
    "    for header in rep_hist_sysmetric_summary_df.columns:\n",
    "        print('REP_HIST_SYSMETRIC_SUMMARY - ' + header + ' - OUTLIERS HISTOGRAM')\n",
    "        vis.plot_hist(bin_size=10, feature_column=header)\n",
    "    \n",
    "    # Plotting Scatter Plots of data distribution\n",
    "    for header in rep_hist_sysmetric_summary_df.columns:\n",
    "        print('REP_HIST_SYSMETRIC_SUMMARY - ' + header + ' - OUTLIERS SCATTER')\n",
    "        vis.plot_scatter(feature_column=header)"
   ]
  },
  {
   "cell_type": "markdown",
   "metadata": {},
   "source": [
    "### Outlier Handling\n",
    "\n",
    "https://machinelearningmastery.com/how-to-identify-outliers-in-your-data/\n",
    "\n",
    "As can be appreciated from the previous plots, data is heavily skewed on particular (smallest) bins. This skew in the plotted histograms is a result of data point outliers - these need to be evaluated and removed if neccessary.\n",
    "\n",
    "Following the 3 Standard Deviation Rule, we can categorize our dataset into subsets consisting of the following ranges:\n",
    "* 0     - 68.27%\n",
    "* 68.28 - 95.45%\n",
    "* 95.46 - 99.73%\n",
    "* 99.74 - 100%\n",
    "\n",
    "It should be mentioned, that given the time series nature of the dataset, it is not a safe assumption to ignore outliers. By training respective models on outlier insensitive dataset, we would invite a potential problem, which risks blinding any models we train to future predicted spikes of activity."
   ]
  },
  {
   "cell_type": "code",
   "execution_count": 139,
   "metadata": {
    "scrolled": true
   },
   "outputs": [
    {
     "name": "stdout",
     "output_type": "stream",
     "text": [
      "\n",
      "\n",
      "DATAFRAMES WITH OUTLIERS\n",
      "(7, 135)\n",
      "----------------------------\n",
      "\n",
      "\n",
      "OUTLIERS\n",
      "0\n",
      "----------------------------\n",
      "\n",
      "\n",
      "DATAFRAMES WITHOUT OUTLIERS\n",
      "(7, 135)\n"
     ]
    }
   ],
   "source": [
    "class OutlierHandling:\n",
    "    \"\"\"\n",
    "    This class handles outlier detection and removal methods.\n",
    "    \"\"\"\n",
    "    def __init__(self, df, low_quartile_limit=.01,upper_quartile_limit=.99):\n",
    "        \"\"\"\n",
    "        Constructor method.\n",
    "        :param df:                   (Pandas) Dataframe consisting of input features to be pruned of outliers.\n",
    "        :param low_quartile_limit:   (Float) Lower percentage threshold for removal of outliers.\n",
    "        :param upper_quartile_limit: (Float) Upper percentage threshold for removal of outliers.\n",
    "        :return: None\n",
    "        \"\"\"\n",
    "        self.__df = df\n",
    "        self.__low_quartile_limit = low_quartile_limit\n",
    "        self.__upper_quartile_limit = upper_quartile_limit\n",
    "        self.__headers= df.columns\n",
    "        \n",
    "    def get_outliers(self):\n",
    "        \"\"\"\n",
    "        Detect and return which rows are considered outliers within the dataset, determined by :quartile_limit (99%)\n",
    "        :return: (List) A list denoting row positions of detected outliers.\n",
    "        \"\"\"\n",
    "        outlier_rows = [] # This list of lists consists of elements of the following notation [column,rowid]\n",
    "        df = self.__df\n",
    "        for header in self.__headers:\n",
    "            try:\n",
    "                df[header] = df[header].astype(float)\n",
    "                q = df[header].quantile(self.__upper_quartile_limit)\n",
    "                series_row = (df[df[header] > q].index)\n",
    "                for id in list(np.array(series_row)):\n",
    "                    outlier_rows.append([header,id])\n",
    "                q = df[header].quantile(self.__low_quartile_limit)\n",
    "                series_row = (df[df[header] < q].index)\n",
    "                for id in list(np.array(series_row)):\n",
    "                    outlier_rows.append([header,id])\n",
    "            except Exception as e:\n",
    "                print(str(e))\n",
    "\n",
    "        unique_ids = []\n",
    "        unique_outlier_rows = []\n",
    "\n",
    "        for col, rowid in outlier_rows:\n",
    "            if rowid not in unique_ids:\n",
    "                unique_outlier_rows.append([col,rowid])\n",
    "                unique_ids.append(rowid)\n",
    "        return unique_outlier_rows\n",
    "\n",
    "    def remove_outliers(self):\n",
    "        \"\"\"\n",
    "        Remove rows which are considered outliers within the dataset, determined by :quartile_limit (99%).\n",
    "        :return: (Pandas) Dataframe with pruned outliers.\n",
    "        \"\"\"\n",
    "        df = self.__df\n",
    "        length_before = len(df)\n",
    "        outliers_index = []\n",
    "        for header in self.__headers:\n",
    "            try:\n",
    "                df[header] = df[header].astype(float)\n",
    "                q = df[header].quantile(self.__upper_quartile_limit)\n",
    "                outliers_index.append(list(np.array(df[df[header] > q].index)))\n",
    "                q = df[header].quantile(self.__low_quartile_limit)\n",
    "                outliers_index.append(list(np.array(df[df[header] < q].index)))\n",
    "            except Exception as e:\n",
    "                print(str(e))\n",
    "        #flat_outliers_index = [item for sublist in l for item in outliers_index]\n",
    "        flat_outliers_index = [item for sublist in outliers_index for item in sublist]\n",
    "        outliers_index = list(set(flat_outliers_index))\n",
    "        df = df.drop(outliers_index)\n",
    "        return df\n",
    "\n",
    "oh = OutlierHandling(df=rep_hist_sysmetric_summary_df, \n",
    "                     upper_quartile_limit=upper_quartile_limit,\n",
    "                     low_quartile_limit=low_quartile_limit)    \n",
    "\n",
    "# Defining which columns will be exposed to outliers\n",
    "rep_hist_sysmetric_summary_header_outliers = rep_hist_sysmetric_summary_headers\n",
    "\n",
    "# Printing dataframe before adjustments\n",
    "print('\\n\\nDATAFRAMES WITH OUTLIERS')\n",
    "print(rep_hist_sysmetric_summary_df.shape)\n",
    "print('----------------------------')\n",
    "\n",
    "#Printing outliers to screen\n",
    "rep_hist_sysmetric_summary_df_outliers = oh.get_outliers()\n",
    "print('\\n\\nOUTLIERS')\n",
    "print(len(rep_hist_sysmetric_summary_df_outliers))\n",
    "print('----------------------------')\n",
    "\n",
    "# Dropping Outliers\n",
    "rep_hist_sysmetric_summary_df_pruned = oh.remove_outliers()\n",
    "print('\\n\\nDATAFRAMES WITHOUT OUTLIERS')\n",
    "print(rep_hist_sysmetric_summary_df_pruned.shape)"
   ]
  },
  {
   "cell_type": "markdown",
   "metadata": {},
   "source": [
    "### Plotting data distribution without outliers\n",
    "\n",
    "Plotting metrics against SNAP_ID, without outliers."
   ]
  },
  {
   "cell_type": "code",
   "execution_count": 140,
   "metadata": {
    "scrolled": true
   },
   "outputs": [],
   "source": [
    "if debug_mode is False:\n",
    "    \n",
    "    # Plotting Histograms without Outliers\n",
    "    for header in rep_hist_sysmetric_summary_df_pruned.columns:\n",
    "        print('REP_HIST_SYSMETRIC - ' + header + ' - STRIPPED HISTOGRAM')\n",
    "        plot_hist(df=rep_hist_sysmetric_summary_df_pruned, tpc_type=tpcds, table='rep_hist_sysmetric_summary', feature_column=header, bin_size=10)\n",
    "    \n",
    "    # Plotting Scatter Plots without Outliers\n",
    "    for header in rep_hist_sysmetric_summary_df_pruned.columns:\n",
    "        print('REP_HIST_SYSMETRIC - ' + header + ' - STRIPPED SCATTER')\n",
    "        plot_scatter(df=rep_hist_sysmetric_summary_df_pruned, tpc_type=tpcds,table='rep_hist_sysmetric_summary',feature_column=header)"
   ]
  },
  {
   "cell_type": "markdown",
   "metadata": {},
   "source": [
    "### Dropping Redundant Columns\n",
    "\n",
    "Dropping redundant columns which are not detrimental to the task at hand (NB: This is only the first steps towards feature selection. This step ensures that specific columns which are SURELY not useful are dropped ahead of time)."
   ]
  },
  {
   "cell_type": "markdown",
   "metadata": {
    "scrolled": true
   },
   "source": [
    "http://benalexkeen.com/feature-scaling-with-scikit-learn/\n",
    "\n",
    "Based on the above plots, one can argue that the data distribution is uneven, and does not correlate to any particular pattern. A normalization approach (MinMaxScaling and/or RobustScaling) to the presented dataset is a more likely candidate than standardizing of the presented dataset. \n",
    "\n",
    "Reasons behind normalizing the dataset rather than standardizing, is due to the vast standard deviations from the mean for several feature columns."
   ]
  },
  {
   "cell_type": "code",
   "execution_count": 141,
   "metadata": {},
   "outputs": [
    {
     "name": "stdout",
     "output_type": "stream",
     "text": [
      "----------Before----------\n",
      "Index(['SNAP_ID', 'ACTIVE SERIAL SESSIONS', 'AVERAGE ACTIVE SESSIONS',\n",
      "       'AVERAGE SYNCHRONOUS SINGLE-BLOCK READ LATENCY',\n",
      "       'BACKGROUND CPU USAGE PER SEC', 'BACKGROUND CHECKPOINTS PER SEC',\n",
      "       'BACKGROUND TIME PER SEC', 'BRANCH NODE SPLITS PER SEC',\n",
      "       'BRANCH NODE SPLITS PER TXN', 'BUFFER CACHE HIT RATIO',\n",
      "       ...\n",
      "       'USER CALLS RATIO', 'USER COMMITS PER SEC', 'USER COMMITS PERCENTAGE',\n",
      "       'USER LIMIT %', 'USER ROLLBACK UNDO RECORDS APPLIED PER TXN',\n",
      "       'USER ROLLBACK UNDOREC APPLIED PER SEC', 'USER ROLLBACKS PER SEC',\n",
      "       'USER ROLLBACKS PERCENTAGE', 'USER TRANSACTION PER SEC',\n",
      "       'VM IN BYTES PER SEC'],\n",
      "      dtype='object', name='METRIC_NAME', length=135)\n",
      "----------After----------\n",
      "Index(['SNAP_ID', 'ACTIVE SERIAL SESSIONS', 'AVERAGE ACTIVE SESSIONS',\n",
      "       'AVERAGE SYNCHRONOUS SINGLE-BLOCK READ LATENCY',\n",
      "       'BACKGROUND CPU USAGE PER SEC', 'BACKGROUND CHECKPOINTS PER SEC',\n",
      "       'BACKGROUND TIME PER SEC', 'BRANCH NODE SPLITS PER SEC',\n",
      "       'BRANCH NODE SPLITS PER TXN', 'BUFFER CACHE HIT RATIO',\n",
      "       ...\n",
      "       'USER CALLS RATIO', 'USER COMMITS PER SEC', 'USER COMMITS PERCENTAGE',\n",
      "       'USER LIMIT %', 'USER ROLLBACK UNDO RECORDS APPLIED PER TXN',\n",
      "       'USER ROLLBACK UNDOREC APPLIED PER SEC', 'USER ROLLBACKS PER SEC',\n",
      "       'USER ROLLBACKS PERCENTAGE', 'USER TRANSACTION PER SEC',\n",
      "       'VM IN BYTES PER SEC'],\n",
      "      dtype='object', name='METRIC_NAME', length=135)\n"
     ]
    }
   ],
   "source": [
    "class NonNumericStrip:\n",
    "    \"\"\"\n",
    "    This class contains a method dedicated to feature removing if they contain non-numeric data\n",
    "    \"\"\"\n",
    "    @staticmethod\n",
    "    def remove_non_numeric_columns(df):\n",
    "        \"\"\"\n",
    "        Accepts data matrix, and returns another matrix with stripped columns containing non-numeric data.\n",
    "        :param df: (Pandas) Data matrix\n",
    "        :return: (Pandas) Data matrix\n",
    "        \"\"\"\n",
    "        print('-'*10 + 'Before' + '-'*10)\n",
    "        print(df.columns)\n",
    "        col_list = []\n",
    "        for col in df.columns:\n",
    "            try:\n",
    "                df[col] = df[col].astype(float)\n",
    "                col_list.append(col)\n",
    "            except ValueError:\n",
    "                print('Column ' + str(col) + ' contains non numeric data')\n",
    "        df = df[col_list]\n",
    "        print('-'*10 + 'After' + '-'*10)\n",
    "        print(df.columns)\n",
    "        return df\n",
    "rep_hist_sysmetric_summary_df_pruned = NonNumericStrip.remove_non_numeric_columns(df=rep_hist_sysmetric_summary_df_pruned)"
   ]
  },
  {
   "cell_type": "markdown",
   "metadata": {},
   "source": [
    "### Dataset Consolidation\n",
    "\n",
    "Grouping datasets on SNAP_ID"
   ]
  },
  {
   "cell_type": "code",
   "execution_count": 142,
   "metadata": {},
   "outputs": [
    {
     "name": "stdout",
     "output_type": "stream",
     "text": [
      "REP_HIST_SYSMETRIC_SUMMARY shape after transformation: (7, 135)\n"
     ]
    }
   ],
   "source": [
    "rep_hist_sysmetric_summary_df_pruned = rep_hist_sysmetric_summary_df_pruned[rep_hist_sysmetric_summary_df_pruned['SNAP_ID'] > 0]\n",
    "\n",
    "# Group By Values by SNAP_ID , sum all metrics (for table REP_HIST_SNAPSHOT)\n",
    "rep_hist_sysmetric_summary_df_pruned = rep_hist_sysmetric_summary_df_pruned.groupby(['SNAP_ID']).sum()\n",
    "rep_hist_sysmetric_summary_df_pruned.reset_index(inplace=True)\n",
    "\n",
    "print(\"REP_HIST_SYSMETRIC_SUMMARY shape after transformation: \" + str(rep_hist_sysmetric_summary_df_pruned.shape))"
   ]
  },
  {
   "cell_type": "markdown",
   "metadata": {},
   "source": [
    "### Normalization\n",
    "\n",
    "Relavent Sources:\n",
    "\n",
    "* http://jmlr.csail.mit.edu/papers/volume3/guyon03a/guyon03a.pdf\n",
    "* https://machinelearningmastery.com/rescaling-data-for-machine-learning-in-python-with-scikit-learn/\n",
    "\n",
    "https://machinelearningmastery.com/normalize-standardize-time-series-data-python/ recommends a normalization preprocessing technique for data distribution that can closely approximate minimum and maximum observable values per column:\n",
    "\n",
    "<i>\"Normalization requires that you know or are able to accurately estimate the minimum and maximum observable values. You may be able to estimate these values from your available data. If your time series is trending up or down, estimating these expected values may be difficult and normalization may not be the best method to use on your problem.\"</i>\n",
    "\n",
    "Normalization formula is stated as follows: $$y=(x-min)/(max-min)$$\n",
    "\n",
    "### Standardization\n",
    "\n",
    "https://machinelearningmastery.com/normalize-standardize-time-series-data-python/ recommends a standardization preprocessing technique for data distributions that observe a Gaussian spread, with a mean of 0 and a standard deviation of 1 (approximately close to these values):\n",
    "\n",
    "<i>\"Standardization assumes that your observations fit a Gaussian distribution (bell curve) with a well behaved mean and standard deviation. You can still standardize your time series data if this expectation is not met, but you may not get reliable results.\"</i>\n",
    "\n",
    "Standardization formula is stated as follows: $$y=(x-mean)/StandardDeviation$$\n",
    "Mean defined as: $$mean=sum(x)/count(x)$$\n",
    "Standard Deviation defined as: $$StandardDeviation=sqrt(sum((x-mean)^2)/count(x))$$"
   ]
  },
  {
   "cell_type": "code",
   "execution_count": 143,
   "metadata": {
    "scrolled": true
   },
   "outputs": [
    {
     "name": "stdout",
     "output_type": "stream",
     "text": [
      "------------------BEFORE------------------\n",
      "------------------REP_HIST_SYSMETRIC_SUMMARY------------------\n",
      "(7, 135)\n",
      "\n",
      "\n",
      "\n",
      "\n",
      "------------------AFTER------------------\n",
      "------------------REP_HIST_SYSMETRIC_SUMMARY------------------\n",
      "(7, 135)\n",
      "\n",
      "\n",
      "\n",
      "\n",
      "\n",
      "REP_HIST_SYSMETRIC_SUMMARY\n",
      "METRIC_NAME       SNAP_ID  ACTIVE SERIAL SESSIONS  AVERAGE ACTIVE SESSIONS  \\\n",
      "0            8.881036e-06            4.091323e-10             1.562969e-09   \n",
      "1            8.136971e-06            5.622691e-10             1.799412e-10   \n",
      "2            2.551875e-06            1.351878e-09             2.160655e-10   \n",
      "3            6.144914e-07            3.113714e-10             2.886669e-10   \n",
      "4            6.215631e-07            3.149474e-10             2.931522e-10   \n",
      "\n",
      "METRIC_NAME  AVERAGE SYNCHRONOUS SINGLE-BLOCK READ LATENCY  \\\n",
      "0                                             6.769923e-11   \n",
      "1                                             1.200639e-12   \n",
      "2                                             8.649498e-14   \n",
      "3                                             2.953156e-15   \n",
      "4                                             3.060181e-15   \n",
      "\n",
      "METRIC_NAME  BACKGROUND CPU USAGE PER SEC  BACKGROUND CHECKPOINTS PER SEC  \\\n",
      "0                            8.230399e-10                    0.000000e+00   \n",
      "1                            1.596496e-10                    3.122156e-12   \n",
      "2                            5.974767e-11                    0.000000e+00   \n",
      "3                            1.431605e-10                    0.000000e+00   \n",
      "4                            1.031970e-10                    0.000000e+00   \n",
      "\n",
      "METRIC_NAME  BACKGROUND TIME PER SEC  BRANCH NODE SPLITS PER SEC  \\\n",
      "0                       9.963715e-12                3.407732e-12   \n",
      "1                       2.796724e-12                0.000000e+00   \n",
      "2                       8.498978e-13                0.000000e+00   \n",
      "3                       1.614560e-12                2.357695e-13   \n",
      "4                       1.154587e-12                4.768752e-13   \n",
      "\n",
      "METRIC_NAME  BRANCH NODE SPLITS PER TXN  BUFFER CACHE HIT RATIO  \\\n",
      "0                          8.053786e-13            1.979348e-08   \n",
      "1                          0.000000e+00            1.768142e-08   \n",
      "2                          0.000000e+00            5.602614e-09   \n",
      "3                          6.433293e-13            1.328741e-09   \n",
      "4                          1.431579e-12            1.339397e-09   \n",
      "\n",
      "METRIC_NAME         ...           USER CALLS RATIO  USER COMMITS PER SEC  \\\n",
      "0                   ...               1.724685e-09          7.905939e-10   \n",
      "1                   ...               3.073429e-09          6.868743e-11   \n",
      "2                   ...               1.137808e-09          1.958590e-11   \n",
      "3                   ...               2.852267e-10          5.186930e-12   \n",
      "4                   ...               2.809026e-10          4.768752e-12   \n",
      "\n",
      "METRIC_NAME  USER COMMITS PERCENTAGE  USER LIMIT %  \\\n",
      "0                       1.868478e-08  4.000859e-16   \n",
      "1                       1.874230e-08  3.752853e-16   \n",
      "2                       5.597837e-09  1.423256e-16   \n",
      "3                       1.415324e-09  3.394168e-17   \n",
      "4                       1.431579e-09  3.433150e-17   \n",
      "\n",
      "METRIC_NAME  USER ROLLBACK UNDO RECORDS APPLIED PER TXN  \\\n",
      "0                                          0.000000e+00   \n",
      "1                                          0.000000e+00   \n",
      "2                                          0.000000e+00   \n",
      "3                                          0.000000e+00   \n",
      "4                                          1.431579e-12   \n",
      "\n",
      "METRIC_NAME  USER ROLLBACK UNDOREC APPLIED PER SEC  USER ROLLBACKS PER SEC  \\\n",
      "0                                     0.000000e+00            7.497011e-11   \n",
      "1                                     0.000000e+00            0.000000e+00   \n",
      "2                                     0.000000e+00            9.792950e-13   \n",
      "3                                     0.000000e+00            0.000000e+00   \n",
      "4                                     4.768752e-13            0.000000e+00   \n",
      "\n",
      "METRIC_NAME  USER ROLLBACKS PERCENTAGE  USER TRANSACTION PER SEC  \\\n",
      "0                         1.771833e-09              8.655640e-10   \n",
      "1                         0.000000e+00              6.868743e-11   \n",
      "2                         2.798918e-10              2.056520e-11   \n",
      "3                         0.000000e+00              5.186930e-12   \n",
      "4                         0.000000e+00              4.768752e-12   \n",
      "\n",
      "METRIC_NAME  VM IN BYTES PER SEC  \n",
      "0                   6.001971e-07  \n",
      "1                   5.115341e-07  \n",
      "2                   1.203358e-07  \n",
      "3                   3.766277e-08  \n",
      "4                   4.492546e-08  \n",
      "\n",
      "[5 rows x 135 columns]\n"
     ]
    }
   ],
   "source": [
    "class Normalizer:\n",
    "\n",
    "    @staticmethod\n",
    "    def robust_scaler(dataframe):\n",
    "        \"\"\"\n",
    "        Normalize df using interquartile ranges as min-max, this way outliers do not play a heavy emphasis on the\n",
    "        normalization of values.\n",
    "        :param dataframe: (Pandas) Pandas data matrix\n",
    "        :return: (Pandas) Normalized data matrix\n",
    "        \"\"\"\n",
    "        headers = dataframe.columns\n",
    "        X = preprocessing.robust_scale(dataframe.values)\n",
    "        return pd.DataFrame(X, columns=headers)\n",
    "\n",
    "    @staticmethod\n",
    "    def minmax_scaler(dataframe):\n",
    "        \"\"\"\n",
    "        Normalize df using min-max ranges for normalization method\n",
    "        :param dataframe: (Pandas) Pandas data matrix\n",
    "        :return: (Pandas) Normalized data matrix\n",
    "        \"\"\"\n",
    "        headers = dataframe.columns\n",
    "        X = preprocessing.minmax_scale(dataframe.values)\n",
    "        return pd.DataFrame(X, columns=headers)\n",
    "\n",
    "    @staticmethod\n",
    "    def normalize(dataframe):\n",
    "        \"\"\"\n",
    "        The normalizer scales each value by dividing each value by its magnitude in n-dimensional space for n number of features.\n",
    "        :param dataframe: (Pandas) Pandas data matrix\n",
    "        :return: (Pandas) Normalized data matrix\n",
    "        \"\"\"\n",
    "        headers = dataframe.columns\n",
    "        X = preprocessing.normalize(dataframe.values)\n",
    "        return pd.DataFrame(X, columns=headers)\n",
    "\n",
    "print('------------------BEFORE------------------')\n",
    "print('------------------REP_HIST_SYSMETRIC_SUMMARY------------------')\n",
    "print(rep_hist_sysmetric_summary_df_pruned.shape)\n",
    "print('\\n')\n",
    "#print(rep_hist_snapshot_df_pruned.head())\n",
    "#\n",
    "# ROBUST SCALER\n",
    "# rep_hist_sysmetric_summary_df_pruned_norm = robust_scaler(dataframe=rep_hist_sysmetric_summary_df_pruned,\n",
    "#                                                           headers=retain_headers_rep_hist_sysmetric_summary)\n",
    "#\n",
    "# MINMAX SCALER\n",
    "# rep_hist_sysmetric_summary_df_pruned_norm = minmax_scaler(dataframe=rep_hist_sysmetric_summary_df_pruned,\n",
    "#                                                           headers=retain_headers_rep_hist_sysmetric_summary)\n",
    "#\n",
    "# NORMALIZER\n",
    "rep_hist_sysmetric_summary_df_pruned_norm = Normalizer.normalize(dataframe=rep_hist_sysmetric_summary_df_pruned)\n",
    "\n",
    "print('\\n\\n------------------AFTER------------------')\n",
    "print('------------------REP_HIST_SYSMETRIC_SUMMARY------------------')\n",
    "print(rep_hist_sysmetric_summary_df_pruned_norm.shape)\n",
    "print('\\n\\n')\n",
    "print('\\n\\nREP_HIST_SYSMETRIC_SUMMARY')\n",
    "print(rep_hist_sysmetric_summary_df_pruned_norm.head())"
   ]
  },
  {
   "cell_type": "markdown",
   "metadata": {},
   "source": [
    "# Filter Methods\n",
    "\n",
    "* https://machinelearningmastery.com/feature-selection-machine-learning-python/\n",
    "\n",
    "Filter methods allow for the univariate analysis of features. Particularly, the following statistical methods have been considered and dismissed as explained below:\n",
    "\n",
    "* Information Gain - Data at hand is continous by nature, whilst MI is usually applicable against discrete values / binned labels.\n",
    "* Pearson Correlation Coefficient - Applicable to data with linear distributions, which is not the case for the majority of the presented features."
   ]
  },
  {
   "cell_type": "code",
   "execution_count": 144,
   "metadata": {},
   "outputs": [],
   "source": [
    "class FeatureImportance:\n",
    "    \"\"\"\n",
    "    This class is dedicated to containing methods related to feature ranking. Features are ranked exclusively, or mutually with\n",
    "    repsect to other features.\n",
    "    \"\"\"\n",
    "    @staticmethod\n",
    "    def chi2_test(top_n_features=30, X_df=None, y_df=None, table=None):\n",
    "        \"\"\"\n",
    "        Carries out a chi squared test on passed X,y dataframes, selecting top N features ranked by highest scoring.\n",
    "        :param top_n_features: (Integer) Denotes number of top features to plot.\n",
    "        :param x_df:           (Pandas) Pandas feature matrix.\n",
    "        :param y_df:           (Pandas) Pandas label matrix.\n",
    "        :param table:          (String) Denotes which table is being operated on.\n",
    "        :return: None\n",
    "        \"\"\"\n",
    "        headers = X_df.columns\n",
    "        X_df = X_df.values\n",
    "        y_df = y_df.values\n",
    "        chi2_selector = SelectKBest(score_func=chi2, k=top_n_features)\n",
    "        X_kbest = chi2_selector.fit_transform(X_df, y_df)\n",
    "        print('\\n\\nTable [' + table.upper() + ']')\n",
    "        print('Original number of features: ' + str(X_df.shape[1]))\n",
    "        print('Reduced number of features: ' + str(X_kbest.shape[1]) + \"\\n\")\n",
    "        outcome = chi2_selector.get_support()\n",
    "\n",
    "        scoring_sheet = []\n",
    "        for i in range(0,len(headers)-1):\n",
    "            if outcome[i]:\n",
    "                scoring_sheet.append([headers[i],chi2_selector.scores_[i]])\n",
    "\n",
    "        scoring_sheet = sorted(scoring_sheet, key=itemgetter(1), reverse=True)\n",
    "        [print('Feature [' + str(row) + '] with score [' + str(score) + ']') for row, score in scoring_sheet[:top_n_features]]\n",
    "\n",
    "        scoring_sheet = pd.Series((v[1] for v in scoring_sheet[:top_n_features]) )\n",
    "        scoring_sheet[:top_n_features].plot.bar()\n",
    "        \n",
    "        FeatureImportance.__plot_metrics(ylabel='CHI2 RANKING',\n",
    "                                         xlabel='FEATURES',\n",
    "                                         title='Features Ranked By Chi2 Scoring')\n",
    "      \n",
    "    @staticmethod\n",
    "    def rfr_ranking(X_df=None, y_df=None, top_n_features=30, parallel_degree=1):\n",
    "        \"\"\"\n",
    "        Ranks features using a filter RFR method, and plots them in descending order (ranked by importance)\n",
    "        :param x_df:           (Pandas) Pandas feature matrix.\n",
    "        :param y_df:           (Pandas) Pandas label matrix.\n",
    "        :param top_n_features: (Integer) Denotes number of top features to plot.\n",
    "        :param parallel_degree:(Integer) Denotes model training parallel degree.\n",
    "        :return: None\n",
    "        \"\"\"\n",
    "        headers = X_df.columns\n",
    "        X_df = X_df.values\n",
    "        y_df = y_df.values\n",
    "        rfr = RandomForestRegressor(n_estimators=500,\n",
    "                                    n_jobs=parallel_degree)\n",
    "        rfr.fit(X_df, y_df)\n",
    "        importances = pd.DataFrame({'feature':headers,\n",
    "                                    'importance':np.round(rfr.feature_importances_,3)})\n",
    "        importances = importances.sort_values('importance',ascending=False).set_index('feature')\n",
    "        print(importances[:top_n_features])\n",
    "        importances[:top_n_features].plot.bar()\n",
    "        \n",
    "        FeatureImportance.__plot_metrics(ylabel='RANDOM FOREST RANKING',\n",
    "                                         xlabel='FEATURES',\n",
    "                                         title='Features Ranked By Random Forest Scoring')\n",
    "        \n",
    "    @staticmethod\n",
    "    def __plot_metrics(ylabel, xlabel, title):\n",
    "        \"\"\"\n",
    "        Private method used to plot metrics for statistical feature evaluation\n",
    "        :param ylabel: (String) ylabel title name.\n",
    "        :param xlabel: (String) xlabel title name.\n",
    "        :param title:  (String) plot title name.\n",
    "        :return: None\n",
    "        \"\"\"\n",
    "        plt.ylabel(ylabel)\n",
    "        plt.xlabel(xlabel)\n",
    "        plt.title(title)\n",
    "        plt.rcParams['figure.figsize'] = [20, 15]\n",
    "        plt.show()"
   ]
  },
  {
   "cell_type": "markdown",
   "metadata": {},
   "source": [
    "### Chi2\n",
    "\n",
    "Therefore, a likely candidate for a first univariate, filter test is a chi2 measure, between X labels 'SNAP_ID', and other output 'y' labels. NB: Due to chi2 requiring non-nagative values, a data normalization strategy was opted for (Refer to above cell).\n",
    "\n",
    "The following cell computes the chi2 value for each feature pertaining in the following tables, in relation to the SNAP_ID feature:\n",
    "* REP_HIST_SYSMETRIC_SUMMARY"
   ]
  },
  {
   "cell_type": "code",
   "execution_count": 145,
   "metadata": {
    "scrolled": true
   },
   "outputs": [],
   "source": [
    "# FeatureImportance.chi2_test(top_n_features=top_n_features, \n",
    "#                             X_df=rep_hist_sysmetric_summary_df_pruned_norm, \n",
    "#                             y_df=rep_hist_sysmetric_summary_df_pruned_norm['SNAP_ID'], \n",
    "#                             table='REP_HIST_SYSMETRIC_SUMMARY')"
   ]
  },
  {
   "cell_type": "markdown",
   "metadata": {},
   "source": [
    "### Random Forest Feature Importance\n",
    "\n",
    "Calculating MI (Mutual Information) scoring between data matrix X (feature vectors) and target column y ('SNAP_ID') "
   ]
  },
  {
   "cell_type": "code",
   "execution_count": 146,
   "metadata": {
    "scrolled": true
   },
   "outputs": [
    {
     "name": "stdout",
     "output_type": "stream",
     "text": [
      "                                         importance\n",
      "feature                                            \n",
      "PHYSICAL READS DIRECT PER SEC                 0.030\n",
      "REDO GENERATED PER SEC                        0.022\n",
      "BUFFER CACHE HIT RATIO                        0.022\n",
      "OPEN CURSORS PER TXN                          0.022\n",
      "CELL PHYSICAL IO INTERCONNECT BYTES           0.020\n",
      "SNAP_ID                                       0.018\n",
      "PHYSICAL READS PER SEC                        0.018\n",
      "USER TRANSACTION PER SEC                      0.018\n",
      "USER COMMITS PERCENTAGE                       0.018\n",
      "USER CALLS PER SEC                            0.018\n",
      "OPEN CURSORS PER SEC                          0.018\n",
      "REDO GENERATED PER TXN                        0.018\n",
      "LOGICAL READS PER TXN                         0.016\n",
      "PHYSICAL READ TOTAL IO REQUESTS PER SEC       0.016\n",
      "LOGICAL READS PER SEC                         0.016\n",
      "PHYSICAL WRITES DIRECT LOBS  PER TXN          0.016\n",
      "PHYSICAL READS DIRECT LOBS PER SEC            0.014\n",
      "PHYSICAL READ TOTAL BYTES PER SEC             0.014\n",
      "PHYSICAL READ BYTES PER SEC                   0.014\n",
      "USER ROLLBACKS PER SEC                        0.014\n",
      "I/O REQUESTS PER SECOND                       0.012\n",
      "PHYSICAL WRITES PER SEC                       0.012\n",
      "PHYSICAL READS DIRECT LOBS PER TXN            0.012\n",
      "PHYSICAL WRITES PER TXN                       0.012\n",
      "PHYSICAL READ IO REQUESTS PER SEC             0.012\n",
      "RECURSIVE CALLS PER TXN                       0.012\n",
      "TEMP SPACE USED                               0.012\n",
      "PHYSICAL READS PER TXN                        0.012\n",
      "NETWORK TRAFFIC VOLUME PER SEC                0.012\n",
      "CONSISTENT READ GETS PER TXN                  0.012\n"
     ]
    },
    {
     "data": {
      "image/png": "[encoded data removed]",
      "text/plain": [
       "<Figure size 1440x1080 with 1 Axes>"
      ]
     },
     "metadata": {
      "needs_background": "light"
     },
     "output_type": "display_data"
    }
   ],
   "source": [
    "FeatureImportance.rfr_ranking(top_n_features=top_n_features,\n",
    "                              X_df=rep_hist_sysmetric_summary_df_pruned_norm, \n",
    "                              y_df=rep_hist_sysmetric_summary_df_pruned_norm['SNAP_ID'], \n",
    "                              parallel_degree=parallel_degree)"
   ]
  },
  {
   "cell_type": "markdown",
   "metadata": {},
   "source": [
    "### Wrapper Methods\n",
    "\n",
    "Use a number of machine learning models to evaluate features together and rank by highest. The following machine learning models will be opted for:\n",
    "\n",
    "* Random Forest Classifier\n",
    "* Gradient Boosting\n",
    "\n",
    "In a 'Brute-Fore' approach, these machine learning heuristics will strip away 1 feature at a time in a method referred to as 'Recursive Feature Elimination', and compare accuracy with every variable elimination. This allows the respective classifier to establish an optimum feature configuration with the highest accuracy score.\n",
    "\n",
    "https://www.fabienplisson.com/choosing-right-features/"
   ]
  },
  {
   "cell_type": "code",
   "execution_count": 147,
   "metadata": {},
   "outputs": [],
   "source": [
    "class EnsembleWrappers:\n",
    "    \"\"\"\n",
    "    This class contains wrapper methods, which utilize ensemble methods to gauge feature pairings. Features are combined together\n",
    "    and then stripped one at a time. Each feature combination is evaluated per feature count, so as to establish the optimum\n",
    "    feature count cut off.\n",
    "    \"\"\"\n",
    "    @staticmethod\n",
    "    def rfr_wrapper(X_df=None, y_df=None, test_split=.4, table_name=None, top_n_features=10, parallel_degree=1):\n",
    "        \"\"\"\n",
    "        Random Forest Regressor - Takes data matrix and target vector, and evaluates best combination of features \n",
    "        using an RFR model.\n",
    "        :param x_df:           (Pandas) Pandas feature matrix.\n",
    "        :param y_df:           (Pandas) Pandas label matrix.\n",
    "        :param test_split:     (Float) Denotes training/testing data split.\n",
    "        :param table_name:     (String) Denotes which table is being operated on.\n",
    "        :param top_n_features: (Integer) Denotes number of top features to plot.\n",
    "        :param parallel_degree:(Integer) Denotes model training parallel degree.\n",
    "        :return: Model Scoring, for best feature combination count\n",
    "        :return: Recommended feature count, as per best achieved score\n",
    "        \"\"\"\n",
    "        X_df = X_df.values\n",
    "        y_df = y_df.values\n",
    "        val_op, optimum_features = 0, 0\n",
    "        val_op = 0\n",
    "        X_train, X_test, y_train, y_test = train_test_split(X_df, y_df, test_size=test_split)\n",
    "        model = RandomForestRegressor(n_estimators=500, \n",
    "                                      n_jobs=parallel_degree)\n",
    "        model.fit(X_train, y_train)\n",
    "\n",
    "        # make predictions for test data and evaluate\n",
    "        pred_y = model.predict(X_test)\n",
    "        predictions = [round(value) for value in pred_y]\n",
    "        r2s = r2_score(y_test, predictions)\n",
    "        print(\"Table [\" + table_name + \"] RFR R2 Score: \" + str(r2s))\n",
    "\n",
    "        # fit model using each importance as a threshold\n",
    "        print('Feature Importance\\n' + str('-'*60))\n",
    "        print(model.feature_importances_)\n",
    "        print(str('-'*60))\n",
    "        thresholds = np.sort(model.feature_importances_)\n",
    "        feature_counts, feature_score = [],[]\n",
    "        for thresh in thresholds:\n",
    "            # selecting features using threshold\n",
    "            selection = SelectFromModel(model, threshold=thresh, prefit=True)\n",
    "            select_train_x = selection.transform(X_train)\n",
    "\n",
    "            # training model\n",
    "            selection_model = RandomForestRegressor(n_estimators=500,\n",
    "                                                    n_jobs=parallel_degree)\n",
    "            selection_model.fit(select_train_x, y_train)\n",
    "\n",
    "            # evaluating model\n",
    "            select_test_x = selection.transform(X_test)\n",
    "            pred_y = selection_model.predict(select_test_x)\n",
    "            predictions = [round(value) for value in pred_y]\n",
    "            r2s = r2_score(y_test, predictions)\n",
    "            print(\"Thresh=\" + str(thresh) + \", n=\" + str(select_train_x.shape[1]) + \", R2 Score: \" + str(r2s))\n",
    "            if(r2s > val_op):\n",
    "                val_op = r2s\n",
    "                optimum_features = select_train_x.shape[1]\n",
    "\n",
    "            # Add/Keep track of '[no of features','r2 score']\n",
    "            feature_counts.append(select_train_x.shape[1])\n",
    "            feature_score.append(r2s)\n",
    "\n",
    "        # Plot feature count performance\n",
    "        EnsembleWrappers.__plot_metrics(feature_counts=feature_counts,\n",
    "                                        feature_score=feature_score,\n",
    "                                        xlabel='Featuers',\n",
    "                                        ylabel='R2 Score',\n",
    "                                        title='Feature Pairing Performance')\n",
    "\n",
    "        return val_op, optimum_features\n",
    "\n",
    "    @staticmethod\n",
    "    def gradient_boosting_wrapper(X_df=None, y_df=None, test_split=.4, table_name=None, top_n_features=10):\n",
    "        \"\"\"\n",
    "        Gradient Boosting Regressor - Takes data matrix and target vector, and evaluates best combination of features \n",
    "        using a GBR model.\n",
    "        :param x_df:           (Pandas) Pandas feature matrix.\n",
    "        :param y_df:           (Pandas) Pandas label matrix.\n",
    "        :param test_split:     (Float) Denotes training/testing data split.\n",
    "        :param table_name:     (String) Denotes which table is being operated on.\n",
    "        :param top_n_features: (Integer) Denotes number of top features to plot.\n",
    "        :return: Model Scoring, for best feature combination count\n",
    "        :return: Recommended feature count, as per best achieved score\n",
    "        \"\"\"\n",
    "        X_df = X_df.values\n",
    "        y_df = y_df.values\n",
    "        val_op, optimum_features = 0, 0\n",
    "        X_train, X_test, y_train, y_test = train_test_split(X_df, y_df, test_size=test_split)\n",
    "        model = GradientBoostingRegressor(n_estimators=500)\n",
    "        model.fit(X_train, y_train)\n",
    "\n",
    "        # make predictions for test data and evaluate\n",
    "        pred_y = model.predict(X_test)\n",
    "        predictions = [round(value) for value in pred_y]\n",
    "        r2s = r2_score(y_test, predictions)\n",
    "        print(\"Table [\" + table_name + \"] RFR R2 Score: \" + str(r2s))\n",
    "        #\n",
    "        # fit model using each importance as a threshold\n",
    "        print('Feature Importance\\n' + str('-'*60))\n",
    "        print(model.feature_importances_)\n",
    "        print(str('-'*60))\n",
    "        thresholds = np.sort(model.feature_importances_)\n",
    "        feature_counts, feature_score = [],[]\n",
    "        for thresh in thresholds:\n",
    "            # selecting features using threshold\n",
    "            selection = SelectFromModel(model, threshold=thresh, prefit=True)\n",
    "            select_train_x = selection.transform(X_train)\n",
    "\n",
    "            # training model\n",
    "            selection_model = GradientBoostingRegressor(n_estimators=500)\n",
    "            selection_model.fit(select_train_x, y_train)\n",
    "\n",
    "            # evaluating model\n",
    "            select_test_x = selection.transform(X_test)\n",
    "            pred_y = selection_model.predict(select_test_x)\n",
    "            predictions = [round(value) for value in pred_y]\n",
    "            r2s = r2_score(y_test, predictions)\n",
    "            print(\"Thresh=\" + str(thresh) + \", n=\" + str(select_train_x.shape[1]) + \", R2 Score: \" + str(r2s))\n",
    "            if(r2s > val_op):\n",
    "                val_op = r2s\n",
    "                optimum_features = select_train_x.shape[1]\n",
    "\n",
    "            # Add/Keep track of '[no of features','r2 score']\n",
    "            feature_counts.append(select_train_x.shape[1])\n",
    "            feature_score.append(r2s)\n",
    "\n",
    "        # Plot feature count performance\n",
    "        EnsembleWrappers.__plot_metrics(feature_counts=feature_counts,\n",
    "                                        feature_score=feature_score,\n",
    "                                        xlabel='Featuers',\n",
    "                                        ylabel='R2 Score',\n",
    "                                        title='Feature Pairing Performance')\n",
    "\n",
    "        return val_op, optimum_features\n",
    "    \n",
    "    @staticmethod\n",
    "    def __plot_metrics(feature_counts, feature_score, ylabel, xlabel, title):\n",
    "        \"\"\"\n",
    "        Private method used to plot metrics for statistical feature evaluation\n",
    "        :param feature_counts: (List) List of feature combination counts per achieved score.\n",
    "        :param feature_score:  (List) List of feature scores per combination.\n",
    "        :param ylabel:         (String) ylabel title name.\n",
    "        :param xlabel:         (String) xlabel title name.\n",
    "        :param title:          (String) plot title name.\n",
    "        :return: None\n",
    "        \"\"\"\n",
    "        plt.ylabel(ylabel)\n",
    "        plt.xlabel(xlabel)\n",
    "        plt.title(title)\n",
    "        plt.rcParams['figure.figsize'] = [20, 15]\n",
    "        plt.plot(feature_counts, feature_score)\n",
    "        plt.show()"
   ]
  },
  {
   "cell_type": "markdown",
   "metadata": {},
   "source": [
    "### Random Forest Wrapper (Feature Combination)  (Regression)\n",
    "\n",
    "Utilizes an ensemble Random Forest method to gauge different feature combination/counts."
   ]
  },
  {
   "cell_type": "code",
   "execution_count": 148,
   "metadata": {
    "scrolled": true
   },
   "outputs": [
    {
     "name": "stdout",
     "output_type": "stream",
     "text": [
      "Table [REP_HIST_SYSMETRIC_SUMMARY] RFR R2 Score: 0.1428571428571429\n",
      "Feature Importance\n",
      "------------------------------------------------------------\n",
      "[0.03394777 0.         0.         0.         0.         0.\n",
      " 0.         0.         0.         0.00787303 0.         0.\n",
      " 0.         0.         0.         0.         0.0313572  0.\n",
      " 0.         0.02693069 0.01831701 0.         0.         0.\n",
      " 0.         0.01203671 0.         0.         0.0131832  0.01908091\n",
      " 0.         0.00224806 0.         0.00500124 0.         0.\n",
      " 0.         0.00718978 0.         0.         0.         0.\n",
      " 0.         0.         0.01512991 0.         0.         0.\n",
      " 0.         0.         0.         0.002      0.         0.\n",
      " 0.01200423 0.         0.         0.         0.         0.05499399\n",
      " 0.00681985 0.00268878 0.00428033 0.00957551 0.         0.\n",
      " 0.00434425 0.01527406 0.01547774 0.00604881 0.         0.\n",
      " 0.         0.         0.05668309 0.02265124 0.04855549 0.01281281\n",
      " 0.00996988 0.00216052 0.01198303 0.03241966 0.00439225 0.02278114\n",
      " 0.02860357 0.         0.01833189 0.         0.00400277 0.00969594\n",
      " 0.00408791 0.00447212 0.01136382 0.01330513 0.         0.\n",
      " 0.00969744 0.018399   0.02966963 0.02032319 0.         0.\n",
      " 0.         0.         0.         0.06257261 0.         0.\n",
      " 0.         0.         0.         0.04945873 0.0033859  0.0139971\n",
      " 0.05592661 0.02374862 0.         0.         0.         0.\n",
      " 0.         0.         0.         0.00631932 0.00066711 0.\n",
      " 0.00420727 0.00224608 0.         0.         0.         0.00245322\n",
      " 0.00439658 0.00553357 0.02692272]\n",
      "------------------------------------------------------------\n"
     ]
    },
    {
     "name": "stderr",
     "output_type": "stream",
     "text": [
      "C:\\ProgramData\\Anaconda3\\lib\\site-packages\\sklearn\\utils\\__init__.py:93: FutureWarning: Conversion of the second argument of issubdtype from `int` to `np.signedinteger` is deprecated. In future, it will be treated as `np.int32 == np.dtype(int).type`.\n",
      "  if np.issubdtype(mask.dtype, np.int):\n",
      "C:\\ProgramData\\Anaconda3\\lib\\site-packages\\sklearn\\utils\\__init__.py:93: FutureWarning: Conversion of the second argument of issubdtype from `int` to `np.signedinteger` is deprecated. In future, it will be treated as `np.int32 == np.dtype(int).type`.\n",
      "  if np.issubdtype(mask.dtype, np.int):\n"
     ]
    },
    {
     "name": "stdout",
     "output_type": "stream",
     "text": [
      "Thresh=0.0, n=135, R2 Score: -0.0714285714285714\n"
     ]
    },
    {
     "name": "stderr",
     "output_type": "stream",
     "text": [
      "C:\\ProgramData\\Anaconda3\\lib\\site-packages\\sklearn\\utils\\__init__.py:93: FutureWarning: Conversion of the second argument of issubdtype from `int` to `np.signedinteger` is deprecated. In future, it will be treated as `np.int32 == np.dtype(int).type`.\n",
      "  if np.issubdtype(mask.dtype, np.int):\n"
     ]
    },
    {
     "name": "stdout",
     "output_type": "stream",
     "text": [
      "Thresh=0.0, n=135, R2 Score: -0.2857142857142856\n"
     ]
    },
    {
     "name": "stderr",
     "output_type": "stream",
     "text": [
      "C:\\ProgramData\\Anaconda3\\lib\\site-packages\\sklearn\\utils\\__init__.py:93: FutureWarning: Conversion of the second argument of issubdtype from `int` to `np.signedinteger` is deprecated. In future, it will be treated as `np.int32 == np.dtype(int).type`.\n",
      "  if np.issubdtype(mask.dtype, np.int):\n"
     ]
    },
    {
     "name": "stdout",
     "output_type": "stream",
     "text": [
      "Thresh=0.0, n=135, R2 Score: 0.1428571428571429\n"
     ]
    },
    {
     "name": "stderr",
     "output_type": "stream",
     "text": [
      "C:\\ProgramData\\Anaconda3\\lib\\site-packages\\sklearn\\utils\\__init__.py:93: FutureWarning: Conversion of the second argument of issubdtype from `int` to `np.signedinteger` is deprecated. In future, it will be treated as `np.int32 == np.dtype(int).type`.\n",
      "  if np.issubdtype(mask.dtype, np.int):\n"
     ]
    },
    {
     "name": "stdout",
     "output_type": "stream",
     "text": [
      "Thresh=0.0, n=135, R2 Score: -0.0714285714285714\n"
     ]
    },
    {
     "name": "stderr",
     "output_type": "stream",
     "text": [
      "C:\\ProgramData\\Anaconda3\\lib\\site-packages\\sklearn\\utils\\__init__.py:93: FutureWarning: Conversion of the second argument of issubdtype from `int` to `np.signedinteger` is deprecated. In future, it will be treated as `np.int32 == np.dtype(int).type`.\n",
      "  if np.issubdtype(mask.dtype, np.int):\n"
     ]
    },
    {
     "name": "stdout",
     "output_type": "stream",
     "text": [
      "Thresh=0.0, n=135, R2 Score: -0.0714285714285714\n"
     ]
    },
    {
     "name": "stderr",
     "output_type": "stream",
     "text": [
      "C:\\ProgramData\\Anaconda3\\lib\\site-packages\\sklearn\\utils\\__init__.py:93: FutureWarning: Conversion of the second argument of issubdtype from `int` to `np.signedinteger` is deprecated. In future, it will be treated as `np.int32 == np.dtype(int).type`.\n",
      "  if np.issubdtype(mask.dtype, np.int):\n"
     ]
    },
    {
     "name": "stdout",
     "output_type": "stream",
     "text": [
      "Thresh=0.0, n=135, R2 Score: -0.0714285714285714\n"
     ]
    },
    {
     "name": "stderr",
     "output_type": "stream",
     "text": [
      "C:\\ProgramData\\Anaconda3\\lib\\site-packages\\sklearn\\utils\\__init__.py:93: FutureWarning: Conversion of the second argument of issubdtype from `int` to `np.signedinteger` is deprecated. In future, it will be treated as `np.int32 == np.dtype(int).type`.\n",
      "  if np.issubdtype(mask.dtype, np.int):\n"
     ]
    },
    {
     "name": "stdout",
     "output_type": "stream",
     "text": [
      "Thresh=0.0, n=135, R2 Score: -0.0714285714285714\n"
     ]
    },
    {
     "name": "stderr",
     "output_type": "stream",
     "text": [
      "C:\\ProgramData\\Anaconda3\\lib\\site-packages\\sklearn\\utils\\__init__.py:93: FutureWarning: Conversion of the second argument of issubdtype from `int` to `np.signedinteger` is deprecated. In future, it will be treated as `np.int32 == np.dtype(int).type`.\n",
      "  if np.issubdtype(mask.dtype, np.int):\n"
     ]
    },
    {
     "name": "stdout",
     "output_type": "stream",
     "text": [
      "Thresh=0.0, n=135, R2 Score: -0.0714285714285714\n"
     ]
    },
    {
     "name": "stderr",
     "output_type": "stream",
     "text": [
      "C:\\ProgramData\\Anaconda3\\lib\\site-packages\\sklearn\\utils\\__init__.py:93: FutureWarning: Conversion of the second argument of issubdtype from `int` to `np.signedinteger` is deprecated. In future, it will be treated as `np.int32 == np.dtype(int).type`.\n",
      "  if np.issubdtype(mask.dtype, np.int):\n"
     ]
    },
    {
     "name": "stdout",
     "output_type": "stream",
     "text": [
      "Thresh=0.0, n=135, R2 Score: -0.0714285714285714\n"
     ]
    },
    {
     "name": "stderr",
     "output_type": "stream",
     "text": [
      "C:\\ProgramData\\Anaconda3\\lib\\site-packages\\sklearn\\utils\\__init__.py:93: FutureWarning: Conversion of the second argument of issubdtype from `int` to `np.signedinteger` is deprecated. In future, it will be treated as `np.int32 == np.dtype(int).type`.\n",
      "  if np.issubdtype(mask.dtype, np.int):\n"
     ]
    },
    {
     "name": "stdout",
     "output_type": "stream",
     "text": [
      "Thresh=0.0, n=135, R2 Score: -0.0714285714285714\n"
     ]
    },
    {
     "name": "stderr",
     "output_type": "stream",
     "text": [
      "C:\\ProgramData\\Anaconda3\\lib\\site-packages\\sklearn\\utils\\__init__.py:93: FutureWarning: Conversion of the second argument of issubdtype from `int` to `np.signedinteger` is deprecated. In future, it will be treated as `np.int32 == np.dtype(int).type`.\n",
      "  if np.issubdtype(mask.dtype, np.int):\n"
     ]
    },
    {
     "name": "stdout",
     "output_type": "stream",
     "text": [
      "Thresh=0.0, n=135, R2 Score: 0.1428571428571429\n"
     ]
    },
    {
     "name": "stderr",
     "output_type": "stream",
     "text": [
      "C:\\ProgramData\\Anaconda3\\lib\\site-packages\\sklearn\\utils\\__init__.py:93: FutureWarning: Conversion of the second argument of issubdtype from `int` to `np.signedinteger` is deprecated. In future, it will be treated as `np.int32 == np.dtype(int).type`.\n",
      "  if np.issubdtype(mask.dtype, np.int):\n"
     ]
    },
    {
     "name": "stdout",
     "output_type": "stream",
     "text": [
      "Thresh=0.0, n=135, R2 Score: -0.0714285714285714\n"
     ]
    },
    {
     "name": "stderr",
     "output_type": "stream",
     "text": [
      "C:\\ProgramData\\Anaconda3\\lib\\site-packages\\sklearn\\utils\\__init__.py:93: FutureWarning: Conversion of the second argument of issubdtype from `int` to `np.signedinteger` is deprecated. In future, it will be treated as `np.int32 == np.dtype(int).type`.\n",
      "  if np.issubdtype(mask.dtype, np.int):\n"
     ]
    },
    {
     "name": "stdout",
     "output_type": "stream",
     "text": [
      "Thresh=0.0, n=135, R2 Score: -0.0714285714285714\n"
     ]
    },
    {
     "name": "stderr",
     "output_type": "stream",
     "text": [
      "C:\\ProgramData\\Anaconda3\\lib\\site-packages\\sklearn\\utils\\__init__.py:93: FutureWarning: Conversion of the second argument of issubdtype from `int` to `np.signedinteger` is deprecated. In future, it will be treated as `np.int32 == np.dtype(int).type`.\n",
      "  if np.issubdtype(mask.dtype, np.int):\n"
     ]
    },
    {
     "name": "stdout",
     "output_type": "stream",
     "text": [
      "Thresh=0.0, n=135, R2 Score: -0.2857142857142856\n"
     ]
    },
    {
     "name": "stderr",
     "output_type": "stream",
     "text": [
      "C:\\ProgramData\\Anaconda3\\lib\\site-packages\\sklearn\\utils\\__init__.py:93: FutureWarning: Conversion of the second argument of issubdtype from `int` to `np.signedinteger` is deprecated. In future, it will be treated as `np.int32 == np.dtype(int).type`.\n",
      "  if np.issubdtype(mask.dtype, np.int):\n"
     ]
    },
    {
     "name": "stdout",
     "output_type": "stream",
     "text": [
      "Thresh=0.0, n=135, R2 Score: -0.0714285714285714\n"
     ]
    },
    {
     "name": "stderr",
     "output_type": "stream",
     "text": [
      "C:\\ProgramData\\Anaconda3\\lib\\site-packages\\sklearn\\utils\\__init__.py:93: FutureWarning: Conversion of the second argument of issubdtype from `int` to `np.signedinteger` is deprecated. In future, it will be treated as `np.int32 == np.dtype(int).type`.\n",
      "  if np.issubdtype(mask.dtype, np.int):\n"
     ]
    },
    {
     "name": "stdout",
     "output_type": "stream",
     "text": [
      "Thresh=0.0, n=135, R2 Score: -0.0714285714285714\n"
     ]
    },
    {
     "name": "stderr",
     "output_type": "stream",
     "text": [
      "C:\\ProgramData\\Anaconda3\\lib\\site-packages\\sklearn\\utils\\__init__.py:93: FutureWarning: Conversion of the second argument of issubdtype from `int` to `np.signedinteger` is deprecated. In future, it will be treated as `np.int32 == np.dtype(int).type`.\n",
      "  if np.issubdtype(mask.dtype, np.int):\n"
     ]
    },
    {
     "name": "stdout",
     "output_type": "stream",
     "text": [
      "Thresh=0.0, n=135, R2 Score: -0.0714285714285714\n"
     ]
    },
    {
     "name": "stderr",
     "output_type": "stream",
     "text": [
      "C:\\ProgramData\\Anaconda3\\lib\\site-packages\\sklearn\\utils\\__init__.py:93: FutureWarning: Conversion of the second argument of issubdtype from `int` to `np.signedinteger` is deprecated. In future, it will be treated as `np.int32 == np.dtype(int).type`.\n",
      "  if np.issubdtype(mask.dtype, np.int):\n"
     ]
    },
    {
     "name": "stdout",
     "output_type": "stream",
     "text": [
      "Thresh=0.0, n=135, R2 Score: -0.0714285714285714\n"
     ]
    },
    {
     "name": "stderr",
     "output_type": "stream",
     "text": [
      "C:\\ProgramData\\Anaconda3\\lib\\site-packages\\sklearn\\utils\\__init__.py:93: FutureWarning: Conversion of the second argument of issubdtype from `int` to `np.signedinteger` is deprecated. In future, it will be treated as `np.int32 == np.dtype(int).type`.\n",
      "  if np.issubdtype(mask.dtype, np.int):\n"
     ]
    },
    {
     "name": "stdout",
     "output_type": "stream",
     "text": [
      "Thresh=0.0, n=135, R2 Score: -0.0714285714285714\n"
     ]
    },
    {
     "name": "stderr",
     "output_type": "stream",
     "text": [
      "C:\\ProgramData\\Anaconda3\\lib\\site-packages\\sklearn\\utils\\__init__.py:93: FutureWarning: Conversion of the second argument of issubdtype from `int` to `np.signedinteger` is deprecated. In future, it will be treated as `np.int32 == np.dtype(int).type`.\n",
      "  if np.issubdtype(mask.dtype, np.int):\n"
     ]
    },
    {
     "name": "stdout",
     "output_type": "stream",
     "text": [
      "Thresh=0.0, n=135, R2 Score: -0.0714285714285714\n"
     ]
    },
    {
     "name": "stderr",
     "output_type": "stream",
     "text": [
      "C:\\ProgramData\\Anaconda3\\lib\\site-packages\\sklearn\\utils\\__init__.py:93: FutureWarning: Conversion of the second argument of issubdtype from `int` to `np.signedinteger` is deprecated. In future, it will be treated as `np.int32 == np.dtype(int).type`.\n",
      "  if np.issubdtype(mask.dtype, np.int):\n"
     ]
    },
    {
     "name": "stdout",
     "output_type": "stream",
     "text": [
      "Thresh=0.0, n=135, R2 Score: -0.0714285714285714\n"
     ]
    },
    {
     "name": "stderr",
     "output_type": "stream",
     "text": [
      "C:\\ProgramData\\Anaconda3\\lib\\site-packages\\sklearn\\utils\\__init__.py:93: FutureWarning: Conversion of the second argument of issubdtype from `int` to `np.signedinteger` is deprecated. In future, it will be treated as `np.int32 == np.dtype(int).type`.\n",
      "  if np.issubdtype(mask.dtype, np.int):\n"
     ]
    },
    {
     "name": "stdout",
     "output_type": "stream",
     "text": [
      "Thresh=0.0, n=135, R2 Score: -0.0714285714285714\n"
     ]
    },
    {
     "name": "stderr",
     "output_type": "stream",
     "text": [
      "C:\\ProgramData\\Anaconda3\\lib\\site-packages\\sklearn\\utils\\__init__.py:93: FutureWarning: Conversion of the second argument of issubdtype from `int` to `np.signedinteger` is deprecated. In future, it will be treated as `np.int32 == np.dtype(int).type`.\n",
      "  if np.issubdtype(mask.dtype, np.int):\n"
     ]
    },
    {
     "name": "stdout",
     "output_type": "stream",
     "text": [
      "Thresh=0.0, n=135, R2 Score: -0.0714285714285714\n"
     ]
    },
    {
     "name": "stderr",
     "output_type": "stream",
     "text": [
      "C:\\ProgramData\\Anaconda3\\lib\\site-packages\\sklearn\\utils\\__init__.py:93: FutureWarning: Conversion of the second argument of issubdtype from `int` to `np.signedinteger` is deprecated. In future, it will be treated as `np.int32 == np.dtype(int).type`.\n",
      "  if np.issubdtype(mask.dtype, np.int):\n"
     ]
    },
    {
     "name": "stdout",
     "output_type": "stream",
     "text": [
      "Thresh=0.0, n=135, R2 Score: 0.1428571428571429\n"
     ]
    },
    {
     "name": "stderr",
     "output_type": "stream",
     "text": [
      "C:\\ProgramData\\Anaconda3\\lib\\site-packages\\sklearn\\utils\\__init__.py:93: FutureWarning: Conversion of the second argument of issubdtype from `int` to `np.signedinteger` is deprecated. In future, it will be treated as `np.int32 == np.dtype(int).type`.\n",
      "  if np.issubdtype(mask.dtype, np.int):\n"
     ]
    },
    {
     "name": "stdout",
     "output_type": "stream",
     "text": [
      "Thresh=0.0, n=135, R2 Score: -0.0714285714285714\n"
     ]
    },
    {
     "name": "stderr",
     "output_type": "stream",
     "text": [
      "C:\\ProgramData\\Anaconda3\\lib\\site-packages\\sklearn\\utils\\__init__.py:93: FutureWarning: Conversion of the second argument of issubdtype from `int` to `np.signedinteger` is deprecated. In future, it will be treated as `np.int32 == np.dtype(int).type`.\n",
      "  if np.issubdtype(mask.dtype, np.int):\n"
     ]
    },
    {
     "name": "stdout",
     "output_type": "stream",
     "text": [
      "Thresh=0.0, n=135, R2 Score: -0.0714285714285714\n"
     ]
    },
    {
     "name": "stderr",
     "output_type": "stream",
     "text": [
      "C:\\ProgramData\\Anaconda3\\lib\\site-packages\\sklearn\\utils\\__init__.py:93: FutureWarning: Conversion of the second argument of issubdtype from `int` to `np.signedinteger` is deprecated. In future, it will be treated as `np.int32 == np.dtype(int).type`.\n",
      "  if np.issubdtype(mask.dtype, np.int):\n"
     ]
    },
    {
     "name": "stdout",
     "output_type": "stream",
     "text": [
      "Thresh=0.0, n=135, R2 Score: -0.0714285714285714\n"
     ]
    },
    {
     "name": "stderr",
     "output_type": "stream",
     "text": [
      "C:\\ProgramData\\Anaconda3\\lib\\site-packages\\sklearn\\utils\\__init__.py:93: FutureWarning: Conversion of the second argument of issubdtype from `int` to `np.signedinteger` is deprecated. In future, it will be treated as `np.int32 == np.dtype(int).type`.\n",
      "  if np.issubdtype(mask.dtype, np.int):\n"
     ]
    },
    {
     "name": "stdout",
     "output_type": "stream",
     "text": [
      "Thresh=0.0, n=135, R2 Score: -0.0714285714285714\n"
     ]
    },
    {
     "name": "stderr",
     "output_type": "stream",
     "text": [
      "C:\\ProgramData\\Anaconda3\\lib\\site-packages\\sklearn\\utils\\__init__.py:93: FutureWarning: Conversion of the second argument of issubdtype from `int` to `np.signedinteger` is deprecated. In future, it will be treated as `np.int32 == np.dtype(int).type`.\n",
      "  if np.issubdtype(mask.dtype, np.int):\n"
     ]
    },
    {
     "name": "stdout",
     "output_type": "stream",
     "text": [
      "Thresh=0.0, n=135, R2 Score: -0.0714285714285714\n"
     ]
    },
    {
     "name": "stderr",
     "output_type": "stream",
     "text": [
      "C:\\ProgramData\\Anaconda3\\lib\\site-packages\\sklearn\\utils\\__init__.py:93: FutureWarning: Conversion of the second argument of issubdtype from `int` to `np.signedinteger` is deprecated. In future, it will be treated as `np.int32 == np.dtype(int).type`.\n",
      "  if np.issubdtype(mask.dtype, np.int):\n"
     ]
    },
    {
     "name": "stdout",
     "output_type": "stream",
     "text": [
      "Thresh=0.0, n=135, R2 Score: -0.0714285714285714\n"
     ]
    },
    {
     "name": "stderr",
     "output_type": "stream",
     "text": [
      "C:\\ProgramData\\Anaconda3\\lib\\site-packages\\sklearn\\utils\\__init__.py:93: FutureWarning: Conversion of the second argument of issubdtype from `int` to `np.signedinteger` is deprecated. In future, it will be treated as `np.int32 == np.dtype(int).type`.\n",
      "  if np.issubdtype(mask.dtype, np.int):\n"
     ]
    },
    {
     "name": "stdout",
     "output_type": "stream",
     "text": [
      "Thresh=0.0, n=135, R2 Score: -0.0714285714285714\n"
     ]
    },
    {
     "name": "stderr",
     "output_type": "stream",
     "text": [
      "C:\\ProgramData\\Anaconda3\\lib\\site-packages\\sklearn\\utils\\__init__.py:93: FutureWarning: Conversion of the second argument of issubdtype from `int` to `np.signedinteger` is deprecated. In future, it will be treated as `np.int32 == np.dtype(int).type`.\n",
      "  if np.issubdtype(mask.dtype, np.int):\n"
     ]
    },
    {
     "name": "stdout",
     "output_type": "stream",
     "text": [
      "Thresh=0.0, n=135, R2 Score: -0.0714285714285714\n"
     ]
    },
    {
     "name": "stderr",
     "output_type": "stream",
     "text": [
      "C:\\ProgramData\\Anaconda3\\lib\\site-packages\\sklearn\\utils\\__init__.py:93: FutureWarning: Conversion of the second argument of issubdtype from `int` to `np.signedinteger` is deprecated. In future, it will be treated as `np.int32 == np.dtype(int).type`.\n",
      "  if np.issubdtype(mask.dtype, np.int):\n"
     ]
    },
    {
     "name": "stdout",
     "output_type": "stream",
     "text": [
      "Thresh=0.0, n=135, R2 Score: -0.0714285714285714\n"
     ]
    },
    {
     "name": "stderr",
     "output_type": "stream",
     "text": [
      "C:\\ProgramData\\Anaconda3\\lib\\site-packages\\sklearn\\utils\\__init__.py:93: FutureWarning: Conversion of the second argument of issubdtype from `int` to `np.signedinteger` is deprecated. In future, it will be treated as `np.int32 == np.dtype(int).type`.\n",
      "  if np.issubdtype(mask.dtype, np.int):\n"
     ]
    },
    {
     "name": "stdout",
     "output_type": "stream",
     "text": [
      "Thresh=0.0, n=135, R2 Score: -0.0714285714285714\n"
     ]
    },
    {
     "name": "stderr",
     "output_type": "stream",
     "text": [
      "C:\\ProgramData\\Anaconda3\\lib\\site-packages\\sklearn\\utils\\__init__.py:93: FutureWarning: Conversion of the second argument of issubdtype from `int` to `np.signedinteger` is deprecated. In future, it will be treated as `np.int32 == np.dtype(int).type`.\n",
      "  if np.issubdtype(mask.dtype, np.int):\n"
     ]
    },
    {
     "name": "stdout",
     "output_type": "stream",
     "text": [
      "Thresh=0.0, n=135, R2 Score: -0.0714285714285714\n"
     ]
    },
    {
     "name": "stderr",
     "output_type": "stream",
     "text": [
      "C:\\ProgramData\\Anaconda3\\lib\\site-packages\\sklearn\\utils\\__init__.py:93: FutureWarning: Conversion of the second argument of issubdtype from `int` to `np.signedinteger` is deprecated. In future, it will be treated as `np.int32 == np.dtype(int).type`.\n",
      "  if np.issubdtype(mask.dtype, np.int):\n"
     ]
    },
    {
     "name": "stdout",
     "output_type": "stream",
     "text": [
      "Thresh=0.0, n=135, R2 Score: 0.1428571428571429\n"
     ]
    },
    {
     "name": "stderr",
     "output_type": "stream",
     "text": [
      "C:\\ProgramData\\Anaconda3\\lib\\site-packages\\sklearn\\utils\\__init__.py:93: FutureWarning: Conversion of the second argument of issubdtype from `int` to `np.signedinteger` is deprecated. In future, it will be treated as `np.int32 == np.dtype(int).type`.\n",
      "  if np.issubdtype(mask.dtype, np.int):\n"
     ]
    },
    {
     "name": "stdout",
     "output_type": "stream",
     "text": [
      "Thresh=0.0, n=135, R2 Score: -0.0714285714285714\n"
     ]
    },
    {
     "name": "stderr",
     "output_type": "stream",
     "text": [
      "C:\\ProgramData\\Anaconda3\\lib\\site-packages\\sklearn\\utils\\__init__.py:93: FutureWarning: Conversion of the second argument of issubdtype from `int` to `np.signedinteger` is deprecated. In future, it will be treated as `np.int32 == np.dtype(int).type`.\n",
      "  if np.issubdtype(mask.dtype, np.int):\n"
     ]
    },
    {
     "name": "stdout",
     "output_type": "stream",
     "text": [
      "Thresh=0.0, n=135, R2 Score: -0.0714285714285714\n"
     ]
    },
    {
     "name": "stderr",
     "output_type": "stream",
     "text": [
      "C:\\ProgramData\\Anaconda3\\lib\\site-packages\\sklearn\\utils\\__init__.py:93: FutureWarning: Conversion of the second argument of issubdtype from `int` to `np.signedinteger` is deprecated. In future, it will be treated as `np.int32 == np.dtype(int).type`.\n",
      "  if np.issubdtype(mask.dtype, np.int):\n"
     ]
    },
    {
     "name": "stdout",
     "output_type": "stream",
     "text": [
      "Thresh=0.0, n=135, R2 Score: -0.0714285714285714\n"
     ]
    },
    {
     "name": "stderr",
     "output_type": "stream",
     "text": [
      "C:\\ProgramData\\Anaconda3\\lib\\site-packages\\sklearn\\utils\\__init__.py:93: FutureWarning: Conversion of the second argument of issubdtype from `int` to `np.signedinteger` is deprecated. In future, it will be treated as `np.int32 == np.dtype(int).type`.\n",
      "  if np.issubdtype(mask.dtype, np.int):\n"
     ]
    },
    {
     "name": "stdout",
     "output_type": "stream",
     "text": [
      "Thresh=0.0, n=135, R2 Score: -0.0714285714285714\n"
     ]
    },
    {
     "name": "stderr",
     "output_type": "stream",
     "text": [
      "C:\\ProgramData\\Anaconda3\\lib\\site-packages\\sklearn\\utils\\__init__.py:93: FutureWarning: Conversion of the second argument of issubdtype from `int` to `np.signedinteger` is deprecated. In future, it will be treated as `np.int32 == np.dtype(int).type`.\n",
      "  if np.issubdtype(mask.dtype, np.int):\n"
     ]
    },
    {
     "name": "stdout",
     "output_type": "stream",
     "text": [
      "Thresh=0.0, n=135, R2 Score: -0.0714285714285714\n"
     ]
    },
    {
     "name": "stderr",
     "output_type": "stream",
     "text": [
      "C:\\ProgramData\\Anaconda3\\lib\\site-packages\\sklearn\\utils\\__init__.py:93: FutureWarning: Conversion of the second argument of issubdtype from `int` to `np.signedinteger` is deprecated. In future, it will be treated as `np.int32 == np.dtype(int).type`.\n",
      "  if np.issubdtype(mask.dtype, np.int):\n"
     ]
    },
    {
     "name": "stdout",
     "output_type": "stream",
     "text": [
      "Thresh=0.0, n=135, R2 Score: -0.0714285714285714\n"
     ]
    },
    {
     "name": "stderr",
     "output_type": "stream",
     "text": [
      "C:\\ProgramData\\Anaconda3\\lib\\site-packages\\sklearn\\utils\\__init__.py:93: FutureWarning: Conversion of the second argument of issubdtype from `int` to `np.signedinteger` is deprecated. In future, it will be treated as `np.int32 == np.dtype(int).type`.\n",
      "  if np.issubdtype(mask.dtype, np.int):\n"
     ]
    },
    {
     "name": "stdout",
     "output_type": "stream",
     "text": [
      "Thresh=0.0, n=135, R2 Score: -0.0714285714285714\n"
     ]
    },
    {
     "name": "stderr",
     "output_type": "stream",
     "text": [
      "C:\\ProgramData\\Anaconda3\\lib\\site-packages\\sklearn\\utils\\__init__.py:93: FutureWarning: Conversion of the second argument of issubdtype from `int` to `np.signedinteger` is deprecated. In future, it will be treated as `np.int32 == np.dtype(int).type`.\n",
      "  if np.issubdtype(mask.dtype, np.int):\n"
     ]
    },
    {
     "name": "stdout",
     "output_type": "stream",
     "text": [
      "Thresh=0.0, n=135, R2 Score: 0.1428571428571429\n"
     ]
    },
    {
     "name": "stderr",
     "output_type": "stream",
     "text": [
      "C:\\ProgramData\\Anaconda3\\lib\\site-packages\\sklearn\\utils\\__init__.py:93: FutureWarning: Conversion of the second argument of issubdtype from `int` to `np.signedinteger` is deprecated. In future, it will be treated as `np.int32 == np.dtype(int).type`.\n",
      "  if np.issubdtype(mask.dtype, np.int):\n"
     ]
    },
    {
     "name": "stdout",
     "output_type": "stream",
     "text": [
      "Thresh=0.0, n=135, R2 Score: -0.0714285714285714\n"
     ]
    },
    {
     "name": "stderr",
     "output_type": "stream",
     "text": [
      "C:\\ProgramData\\Anaconda3\\lib\\site-packages\\sklearn\\utils\\__init__.py:93: FutureWarning: Conversion of the second argument of issubdtype from `int` to `np.signedinteger` is deprecated. In future, it will be treated as `np.int32 == np.dtype(int).type`.\n",
      "  if np.issubdtype(mask.dtype, np.int):\n"
     ]
    },
    {
     "name": "stdout",
     "output_type": "stream",
     "text": [
      "Thresh=0.0, n=135, R2 Score: -0.0714285714285714\n"
     ]
    },
    {
     "name": "stderr",
     "output_type": "stream",
     "text": [
      "C:\\ProgramData\\Anaconda3\\lib\\site-packages\\sklearn\\utils\\__init__.py:93: FutureWarning: Conversion of the second argument of issubdtype from `int` to `np.signedinteger` is deprecated. In future, it will be treated as `np.int32 == np.dtype(int).type`.\n",
      "  if np.issubdtype(mask.dtype, np.int):\n"
     ]
    },
    {
     "name": "stdout",
     "output_type": "stream",
     "text": [
      "Thresh=0.0, n=135, R2 Score: -0.0714285714285714\n"
     ]
    },
    {
     "name": "stderr",
     "output_type": "stream",
     "text": [
      "C:\\ProgramData\\Anaconda3\\lib\\site-packages\\sklearn\\utils\\__init__.py:93: FutureWarning: Conversion of the second argument of issubdtype from `int` to `np.signedinteger` is deprecated. In future, it will be treated as `np.int32 == np.dtype(int).type`.\n",
      "  if np.issubdtype(mask.dtype, np.int):\n"
     ]
    },
    {
     "name": "stdout",
     "output_type": "stream",
     "text": [
      "Thresh=0.0, n=135, R2 Score: -0.0714285714285714\n"
     ]
    },
    {
     "name": "stderr",
     "output_type": "stream",
     "text": [
      "C:\\ProgramData\\Anaconda3\\lib\\site-packages\\sklearn\\utils\\__init__.py:93: FutureWarning: Conversion of the second argument of issubdtype from `int` to `np.signedinteger` is deprecated. In future, it will be treated as `np.int32 == np.dtype(int).type`.\n",
      "  if np.issubdtype(mask.dtype, np.int):\n"
     ]
    },
    {
     "name": "stdout",
     "output_type": "stream",
     "text": [
      "Thresh=0.0, n=135, R2 Score: -0.0714285714285714\n"
     ]
    },
    {
     "name": "stderr",
     "output_type": "stream",
     "text": [
      "C:\\ProgramData\\Anaconda3\\lib\\site-packages\\sklearn\\utils\\__init__.py:93: FutureWarning: Conversion of the second argument of issubdtype from `int` to `np.signedinteger` is deprecated. In future, it will be treated as `np.int32 == np.dtype(int).type`.\n",
      "  if np.issubdtype(mask.dtype, np.int):\n"
     ]
    },
    {
     "name": "stdout",
     "output_type": "stream",
     "text": [
      "Thresh=0.0, n=135, R2 Score: -0.0714285714285714\n"
     ]
    },
    {
     "name": "stderr",
     "output_type": "stream",
     "text": [
      "C:\\ProgramData\\Anaconda3\\lib\\site-packages\\sklearn\\utils\\__init__.py:93: FutureWarning: Conversion of the second argument of issubdtype from `int` to `np.signedinteger` is deprecated. In future, it will be treated as `np.int32 == np.dtype(int).type`.\n",
      "  if np.issubdtype(mask.dtype, np.int):\n"
     ]
    },
    {
     "name": "stdout",
     "output_type": "stream",
     "text": [
      "Thresh=0.0, n=135, R2 Score: -0.0714285714285714\n"
     ]
    },
    {
     "name": "stderr",
     "output_type": "stream",
     "text": [
      "C:\\ProgramData\\Anaconda3\\lib\\site-packages\\sklearn\\utils\\__init__.py:93: FutureWarning: Conversion of the second argument of issubdtype from `int` to `np.signedinteger` is deprecated. In future, it will be treated as `np.int32 == np.dtype(int).type`.\n",
      "  if np.issubdtype(mask.dtype, np.int):\n"
     ]
    },
    {
     "name": "stdout",
     "output_type": "stream",
     "text": [
      "Thresh=0.0, n=135, R2 Score: -0.0714285714285714\n"
     ]
    },
    {
     "name": "stderr",
     "output_type": "stream",
     "text": [
      "C:\\ProgramData\\Anaconda3\\lib\\site-packages\\sklearn\\utils\\__init__.py:93: FutureWarning: Conversion of the second argument of issubdtype from `int` to `np.signedinteger` is deprecated. In future, it will be treated as `np.int32 == np.dtype(int).type`.\n",
      "  if np.issubdtype(mask.dtype, np.int):\n"
     ]
    },
    {
     "name": "stdout",
     "output_type": "stream",
     "text": [
      "Thresh=0.0, n=135, R2 Score: -0.0714285714285714\n"
     ]
    },
    {
     "name": "stderr",
     "output_type": "stream",
     "text": [
      "C:\\ProgramData\\Anaconda3\\lib\\site-packages\\sklearn\\utils\\__init__.py:93: FutureWarning: Conversion of the second argument of issubdtype from `int` to `np.signedinteger` is deprecated. In future, it will be treated as `np.int32 == np.dtype(int).type`.\n",
      "  if np.issubdtype(mask.dtype, np.int):\n"
     ]
    },
    {
     "name": "stdout",
     "output_type": "stream",
     "text": [
      "Thresh=0.0, n=135, R2 Score: -0.0714285714285714\n"
     ]
    },
    {
     "name": "stderr",
     "output_type": "stream",
     "text": [
      "C:\\ProgramData\\Anaconda3\\lib\\site-packages\\sklearn\\utils\\__init__.py:93: FutureWarning: Conversion of the second argument of issubdtype from `int` to `np.signedinteger` is deprecated. In future, it will be treated as `np.int32 == np.dtype(int).type`.\n",
      "  if np.issubdtype(mask.dtype, np.int):\n"
     ]
    },
    {
     "name": "stdout",
     "output_type": "stream",
     "text": [
      "Thresh=0.0, n=135, R2 Score: -0.0714285714285714\n"
     ]
    },
    {
     "name": "stderr",
     "output_type": "stream",
     "text": [
      "C:\\ProgramData\\Anaconda3\\lib\\site-packages\\sklearn\\utils\\__init__.py:93: FutureWarning: Conversion of the second argument of issubdtype from `int` to `np.signedinteger` is deprecated. In future, it will be treated as `np.int32 == np.dtype(int).type`.\n",
      "  if np.issubdtype(mask.dtype, np.int):\n"
     ]
    },
    {
     "name": "stdout",
     "output_type": "stream",
     "text": [
      "Thresh=0.0, n=135, R2 Score: -0.0714285714285714\n"
     ]
    },
    {
     "name": "stderr",
     "output_type": "stream",
     "text": [
      "C:\\ProgramData\\Anaconda3\\lib\\site-packages\\sklearn\\utils\\__init__.py:93: FutureWarning: Conversion of the second argument of issubdtype from `int` to `np.signedinteger` is deprecated. In future, it will be treated as `np.int32 == np.dtype(int).type`.\n",
      "  if np.issubdtype(mask.dtype, np.int):\n"
     ]
    },
    {
     "name": "stdout",
     "output_type": "stream",
     "text": [
      "Thresh=0.0, n=135, R2 Score: -0.0714285714285714\n"
     ]
    },
    {
     "name": "stderr",
     "output_type": "stream",
     "text": [
      "C:\\ProgramData\\Anaconda3\\lib\\site-packages\\sklearn\\utils\\__init__.py:93: FutureWarning: Conversion of the second argument of issubdtype from `int` to `np.signedinteger` is deprecated. In future, it will be treated as `np.int32 == np.dtype(int).type`.\n",
      "  if np.issubdtype(mask.dtype, np.int):\n"
     ]
    },
    {
     "name": "stdout",
     "output_type": "stream",
     "text": [
      "Thresh=0.0, n=135, R2 Score: -0.0714285714285714\n"
     ]
    },
    {
     "name": "stderr",
     "output_type": "stream",
     "text": [
      "C:\\ProgramData\\Anaconda3\\lib\\site-packages\\sklearn\\utils\\__init__.py:93: FutureWarning: Conversion of the second argument of issubdtype from `int` to `np.signedinteger` is deprecated. In future, it will be treated as `np.int32 == np.dtype(int).type`.\n",
      "  if np.issubdtype(mask.dtype, np.int):\n"
     ]
    },
    {
     "name": "stdout",
     "output_type": "stream",
     "text": [
      "Thresh=0.0, n=135, R2 Score: -0.2857142857142856\n"
     ]
    },
    {
     "name": "stderr",
     "output_type": "stream",
     "text": [
      "C:\\ProgramData\\Anaconda3\\lib\\site-packages\\sklearn\\utils\\__init__.py:93: FutureWarning: Conversion of the second argument of issubdtype from `int` to `np.signedinteger` is deprecated. In future, it will be treated as `np.int32 == np.dtype(int).type`.\n",
      "  if np.issubdtype(mask.dtype, np.int):\n"
     ]
    },
    {
     "name": "stdout",
     "output_type": "stream",
     "text": [
      "Thresh=0.0, n=135, R2 Score: -0.0714285714285714\n"
     ]
    },
    {
     "name": "stderr",
     "output_type": "stream",
     "text": [
      "C:\\ProgramData\\Anaconda3\\lib\\site-packages\\sklearn\\utils\\__init__.py:93: FutureWarning: Conversion of the second argument of issubdtype from `int` to `np.signedinteger` is deprecated. In future, it will be treated as `np.int32 == np.dtype(int).type`.\n",
      "  if np.issubdtype(mask.dtype, np.int):\n"
     ]
    },
    {
     "name": "stdout",
     "output_type": "stream",
     "text": [
      "Thresh=0.0, n=135, R2 Score: -0.0714285714285714\n"
     ]
    },
    {
     "name": "stderr",
     "output_type": "stream",
     "text": [
      "C:\\ProgramData\\Anaconda3\\lib\\site-packages\\sklearn\\utils\\__init__.py:93: FutureWarning: Conversion of the second argument of issubdtype from `int` to `np.signedinteger` is deprecated. In future, it will be treated as `np.int32 == np.dtype(int).type`.\n",
      "  if np.issubdtype(mask.dtype, np.int):\n"
     ]
    },
    {
     "name": "stdout",
     "output_type": "stream",
     "text": [
      "Thresh=0.0, n=135, R2 Score: -0.0714285714285714\n"
     ]
    },
    {
     "name": "stderr",
     "output_type": "stream",
     "text": [
      "C:\\ProgramData\\Anaconda3\\lib\\site-packages\\sklearn\\utils\\__init__.py:93: FutureWarning: Conversion of the second argument of issubdtype from `int` to `np.signedinteger` is deprecated. In future, it will be treated as `np.int32 == np.dtype(int).type`.\n",
      "  if np.issubdtype(mask.dtype, np.int):\n"
     ]
    },
    {
     "name": "stdout",
     "output_type": "stream",
     "text": [
      "Thresh=0.0, n=135, R2 Score: -0.0714285714285714\n"
     ]
    },
    {
     "name": "stderr",
     "output_type": "stream",
     "text": [
      "C:\\ProgramData\\Anaconda3\\lib\\site-packages\\sklearn\\utils\\__init__.py:93: FutureWarning: Conversion of the second argument of issubdtype from `int` to `np.signedinteger` is deprecated. In future, it will be treated as `np.int32 == np.dtype(int).type`.\n",
      "  if np.issubdtype(mask.dtype, np.int):\n"
     ]
    },
    {
     "name": "stdout",
     "output_type": "stream",
     "text": [
      "Thresh=0.0, n=135, R2 Score: -0.2857142857142856\n"
     ]
    },
    {
     "name": "stderr",
     "output_type": "stream",
     "text": [
      "C:\\ProgramData\\Anaconda3\\lib\\site-packages\\sklearn\\utils\\__init__.py:93: FutureWarning: Conversion of the second argument of issubdtype from `int` to `np.signedinteger` is deprecated. In future, it will be treated as `np.int32 == np.dtype(int).type`.\n",
      "  if np.issubdtype(mask.dtype, np.int):\n"
     ]
    },
    {
     "name": "stdout",
     "output_type": "stream",
     "text": [
      "Thresh=0.0, n=135, R2 Score: -0.0714285714285714\n"
     ]
    },
    {
     "name": "stderr",
     "output_type": "stream",
     "text": [
      "C:\\ProgramData\\Anaconda3\\lib\\site-packages\\sklearn\\utils\\__init__.py:93: FutureWarning: Conversion of the second argument of issubdtype from `int` to `np.signedinteger` is deprecated. In future, it will be treated as `np.int32 == np.dtype(int).type`.\n",
      "  if np.issubdtype(mask.dtype, np.int):\n"
     ]
    },
    {
     "name": "stdout",
     "output_type": "stream",
     "text": [
      "Thresh=0.0, n=135, R2 Score: -0.0714285714285714\n"
     ]
    },
    {
     "name": "stderr",
     "output_type": "stream",
     "text": [
      "C:\\ProgramData\\Anaconda3\\lib\\site-packages\\sklearn\\utils\\__init__.py:93: FutureWarning: Conversion of the second argument of issubdtype from `int` to `np.signedinteger` is deprecated. In future, it will be treated as `np.int32 == np.dtype(int).type`.\n",
      "  if np.issubdtype(mask.dtype, np.int):\n"
     ]
    },
    {
     "name": "stdout",
     "output_type": "stream",
     "text": [
      "Thresh=0.0, n=135, R2 Score: -0.0714285714285714\n"
     ]
    },
    {
     "name": "stderr",
     "output_type": "stream",
     "text": [
      "C:\\ProgramData\\Anaconda3\\lib\\site-packages\\sklearn\\utils\\__init__.py:93: FutureWarning: Conversion of the second argument of issubdtype from `int` to `np.signedinteger` is deprecated. In future, it will be treated as `np.int32 == np.dtype(int).type`.\n",
      "  if np.issubdtype(mask.dtype, np.int):\n"
     ]
    },
    {
     "name": "stdout",
     "output_type": "stream",
     "text": [
      "Thresh=0.0, n=135, R2 Score: -0.0714285714285714\n"
     ]
    },
    {
     "name": "stderr",
     "output_type": "stream",
     "text": [
      "C:\\ProgramData\\Anaconda3\\lib\\site-packages\\sklearn\\utils\\__init__.py:93: FutureWarning: Conversion of the second argument of issubdtype from `int` to `np.signedinteger` is deprecated. In future, it will be treated as `np.int32 == np.dtype(int).type`.\n",
      "  if np.issubdtype(mask.dtype, np.int):\n"
     ]
    },
    {
     "name": "stdout",
     "output_type": "stream",
     "text": [
      "Thresh=0.0, n=135, R2 Score: -0.0714285714285714\n"
     ]
    },
    {
     "name": "stderr",
     "output_type": "stream",
     "text": [
      "C:\\ProgramData\\Anaconda3\\lib\\site-packages\\sklearn\\utils\\__init__.py:93: FutureWarning: Conversion of the second argument of issubdtype from `int` to `np.signedinteger` is deprecated. In future, it will be treated as `np.int32 == np.dtype(int).type`.\n",
      "  if np.issubdtype(mask.dtype, np.int):\n"
     ]
    },
    {
     "name": "stdout",
     "output_type": "stream",
     "text": [
      "Thresh=0.0, n=135, R2 Score: -0.0714285714285714\n"
     ]
    },
    {
     "name": "stderr",
     "output_type": "stream",
     "text": [
      "C:\\ProgramData\\Anaconda3\\lib\\site-packages\\sklearn\\utils\\__init__.py:93: FutureWarning: Conversion of the second argument of issubdtype from `int` to `np.signedinteger` is deprecated. In future, it will be treated as `np.int32 == np.dtype(int).type`.\n",
      "  if np.issubdtype(mask.dtype, np.int):\n"
     ]
    },
    {
     "name": "stdout",
     "output_type": "stream",
     "text": [
      "Thresh=0.0, n=135, R2 Score: -0.0714285714285714\n"
     ]
    },
    {
     "name": "stderr",
     "output_type": "stream",
     "text": [
      "C:\\ProgramData\\Anaconda3\\lib\\site-packages\\sklearn\\utils\\__init__.py:93: FutureWarning: Conversion of the second argument of issubdtype from `int` to `np.signedinteger` is deprecated. In future, it will be treated as `np.int32 == np.dtype(int).type`.\n",
      "  if np.issubdtype(mask.dtype, np.int):\n"
     ]
    },
    {
     "name": "stdout",
     "output_type": "stream",
     "text": [
      "Thresh=0.0, n=135, R2 Score: 0.1428571428571429\n"
     ]
    },
    {
     "name": "stderr",
     "output_type": "stream",
     "text": [
      "C:\\ProgramData\\Anaconda3\\lib\\site-packages\\sklearn\\utils\\__init__.py:93: FutureWarning: Conversion of the second argument of issubdtype from `int` to `np.signedinteger` is deprecated. In future, it will be treated as `np.int32 == np.dtype(int).type`.\n",
      "  if np.issubdtype(mask.dtype, np.int):\n"
     ]
    },
    {
     "name": "stdout",
     "output_type": "stream",
     "text": [
      "Thresh=0.0, n=135, R2 Score: -0.0714285714285714\n"
     ]
    },
    {
     "name": "stderr",
     "output_type": "stream",
     "text": [
      "C:\\ProgramData\\Anaconda3\\lib\\site-packages\\sklearn\\utils\\__init__.py:93: FutureWarning: Conversion of the second argument of issubdtype from `int` to `np.signedinteger` is deprecated. In future, it will be treated as `np.int32 == np.dtype(int).type`.\n",
      "  if np.issubdtype(mask.dtype, np.int):\n"
     ]
    },
    {
     "name": "stdout",
     "output_type": "stream",
     "text": [
      "Thresh=0.0, n=135, R2 Score: -0.0714285714285714\n"
     ]
    },
    {
     "name": "stderr",
     "output_type": "stream",
     "text": [
      "C:\\ProgramData\\Anaconda3\\lib\\site-packages\\sklearn\\utils\\__init__.py:93: FutureWarning: Conversion of the second argument of issubdtype from `int` to `np.signedinteger` is deprecated. In future, it will be treated as `np.int32 == np.dtype(int).type`.\n",
      "  if np.issubdtype(mask.dtype, np.int):\n"
     ]
    },
    {
     "name": "stdout",
     "output_type": "stream",
     "text": [
      "Thresh=0.0, n=135, R2 Score: -0.0714285714285714\n"
     ]
    },
    {
     "name": "stderr",
     "output_type": "stream",
     "text": [
      "C:\\ProgramData\\Anaconda3\\lib\\site-packages\\sklearn\\utils\\__init__.py:93: FutureWarning: Conversion of the second argument of issubdtype from `int` to `np.signedinteger` is deprecated. In future, it will be treated as `np.int32 == np.dtype(int).type`.\n",
      "  if np.issubdtype(mask.dtype, np.int):\n"
     ]
    },
    {
     "name": "stdout",
     "output_type": "stream",
     "text": [
      "Thresh=0.0, n=135, R2 Score: -0.0714285714285714\n"
     ]
    },
    {
     "name": "stderr",
     "output_type": "stream",
     "text": [
      "C:\\ProgramData\\Anaconda3\\lib\\site-packages\\sklearn\\utils\\__init__.py:93: FutureWarning: Conversion of the second argument of issubdtype from `int` to `np.signedinteger` is deprecated. In future, it will be treated as `np.int32 == np.dtype(int).type`.\n",
      "  if np.issubdtype(mask.dtype, np.int):\n"
     ]
    },
    {
     "name": "stdout",
     "output_type": "stream",
     "text": [
      "Thresh=0.0006671086084890618, n=59, R2 Score: -0.0714285714285714\n"
     ]
    },
    {
     "name": "stderr",
     "output_type": "stream",
     "text": [
      "C:\\ProgramData\\Anaconda3\\lib\\site-packages\\sklearn\\utils\\__init__.py:93: FutureWarning: Conversion of the second argument of issubdtype from `int` to `np.signedinteger` is deprecated. In future, it will be treated as `np.int32 == np.dtype(int).type`.\n",
      "  if np.issubdtype(mask.dtype, np.int):\n"
     ]
    },
    {
     "name": "stdout",
     "output_type": "stream",
     "text": [
      "Thresh=0.002, n=58, R2 Score: -0.0714285714285714\n"
     ]
    },
    {
     "name": "stderr",
     "output_type": "stream",
     "text": [
      "C:\\ProgramData\\Anaconda3\\lib\\site-packages\\sklearn\\utils\\__init__.py:93: FutureWarning: Conversion of the second argument of issubdtype from `int` to `np.signedinteger` is deprecated. In future, it will be treated as `np.int32 == np.dtype(int).type`.\n",
      "  if np.issubdtype(mask.dtype, np.int):\n"
     ]
    },
    {
     "name": "stdout",
     "output_type": "stream",
     "text": [
      "Thresh=0.002160520211241369, n=57, R2 Score: -0.0714285714285714\n"
     ]
    },
    {
     "name": "stderr",
     "output_type": "stream",
     "text": [
      "C:\\ProgramData\\Anaconda3\\lib\\site-packages\\sklearn\\utils\\__init__.py:93: FutureWarning: Conversion of the second argument of issubdtype from `int` to `np.signedinteger` is deprecated. In future, it will be treated as `np.int32 == np.dtype(int).type`.\n",
      "  if np.issubdtype(mask.dtype, np.int):\n"
     ]
    },
    {
     "name": "stdout",
     "output_type": "stream",
     "text": [
      "Thresh=0.002246079022980629, n=56, R2 Score: -0.0714285714285714\n"
     ]
    },
    {
     "name": "stderr",
     "output_type": "stream",
     "text": [
      "C:\\ProgramData\\Anaconda3\\lib\\site-packages\\sklearn\\utils\\__init__.py:93: FutureWarning: Conversion of the second argument of issubdtype from `int` to `np.signedinteger` is deprecated. In future, it will be treated as `np.int32 == np.dtype(int).type`.\n",
      "  if np.issubdtype(mask.dtype, np.int):\n"
     ]
    },
    {
     "name": "stdout",
     "output_type": "stream",
     "text": [
      "Thresh=0.002248062399930732, n=55, R2 Score: -0.0714285714285714\n"
     ]
    },
    {
     "name": "stderr",
     "output_type": "stream",
     "text": [
      "C:\\ProgramData\\Anaconda3\\lib\\site-packages\\sklearn\\utils\\__init__.py:93: FutureWarning: Conversion of the second argument of issubdtype from `int` to `np.signedinteger` is deprecated. In future, it will be treated as `np.int32 == np.dtype(int).type`.\n",
      "  if np.issubdtype(mask.dtype, np.int):\n"
     ]
    },
    {
     "name": "stdout",
     "output_type": "stream",
     "text": [
      "Thresh=0.002453217473438742, n=54, R2 Score: -0.0714285714285714\n"
     ]
    },
    {
     "name": "stderr",
     "output_type": "stream",
     "text": [
      "C:\\ProgramData\\Anaconda3\\lib\\site-packages\\sklearn\\utils\\__init__.py:93: FutureWarning: Conversion of the second argument of issubdtype from `int` to `np.signedinteger` is deprecated. In future, it will be treated as `np.int32 == np.dtype(int).type`.\n",
      "  if np.issubdtype(mask.dtype, np.int):\n"
     ]
    },
    {
     "name": "stdout",
     "output_type": "stream",
     "text": [
      "Thresh=0.0026887783969944527, n=53, R2 Score: -0.0714285714285714\n"
     ]
    },
    {
     "name": "stderr",
     "output_type": "stream",
     "text": [
      "C:\\ProgramData\\Anaconda3\\lib\\site-packages\\sklearn\\utils\\__init__.py:93: FutureWarning: Conversion of the second argument of issubdtype from `int` to `np.signedinteger` is deprecated. In future, it will be treated as `np.int32 == np.dtype(int).type`.\n",
      "  if np.issubdtype(mask.dtype, np.int):\n"
     ]
    },
    {
     "name": "stdout",
     "output_type": "stream",
     "text": [
      "Thresh=0.0033859036583117883, n=52, R2 Score: -0.0714285714285714\n"
     ]
    },
    {
     "name": "stderr",
     "output_type": "stream",
     "text": [
      "C:\\ProgramData\\Anaconda3\\lib\\site-packages\\sklearn\\utils\\__init__.py:93: FutureWarning: Conversion of the second argument of issubdtype from `int` to `np.signedinteger` is deprecated. In future, it will be treated as `np.int32 == np.dtype(int).type`.\n",
      "  if np.issubdtype(mask.dtype, np.int):\n"
     ]
    },
    {
     "name": "stdout",
     "output_type": "stream",
     "text": [
      "Thresh=0.004002772147948778, n=51, R2 Score: -0.0714285714285714\n"
     ]
    },
    {
     "name": "stderr",
     "output_type": "stream",
     "text": [
      "C:\\ProgramData\\Anaconda3\\lib\\site-packages\\sklearn\\utils\\__init__.py:93: FutureWarning: Conversion of the second argument of issubdtype from `int` to `np.signedinteger` is deprecated. In future, it will be treated as `np.int32 == np.dtype(int).type`.\n",
      "  if np.issubdtype(mask.dtype, np.int):\n"
     ]
    },
    {
     "name": "stdout",
     "output_type": "stream",
     "text": [
      "Thresh=0.004087912087912087, n=50, R2 Score: -0.0714285714285714\n"
     ]
    },
    {
     "name": "stderr",
     "output_type": "stream",
     "text": [
      "C:\\ProgramData\\Anaconda3\\lib\\site-packages\\sklearn\\utils\\__init__.py:93: FutureWarning: Conversion of the second argument of issubdtype from `int` to `np.signedinteger` is deprecated. In future, it will be treated as `np.int32 == np.dtype(int).type`.\n",
      "  if np.issubdtype(mask.dtype, np.int):\n"
     ]
    },
    {
     "name": "stdout",
     "output_type": "stream",
     "text": [
      "Thresh=0.00420726716268483, n=49, R2 Score: -0.0714285714285714\n"
     ]
    },
    {
     "name": "stderr",
     "output_type": "stream",
     "text": [
      "C:\\ProgramData\\Anaconda3\\lib\\site-packages\\sklearn\\utils\\__init__.py:93: FutureWarning: Conversion of the second argument of issubdtype from `int` to `np.signedinteger` is deprecated. In future, it will be treated as `np.int32 == np.dtype(int).type`.\n",
      "  if np.issubdtype(mask.dtype, np.int):\n"
     ]
    },
    {
     "name": "stdout",
     "output_type": "stream",
     "text": [
      "Thresh=0.004280332226327293, n=48, R2 Score: -0.0714285714285714\n"
     ]
    },
    {
     "name": "stderr",
     "output_type": "stream",
     "text": [
      "C:\\ProgramData\\Anaconda3\\lib\\site-packages\\sklearn\\utils\\__init__.py:93: FutureWarning: Conversion of the second argument of issubdtype from `int` to `np.signedinteger` is deprecated. In future, it will be treated as `np.int32 == np.dtype(int).type`.\n",
      "  if np.issubdtype(mask.dtype, np.int):\n"
     ]
    },
    {
     "name": "stdout",
     "output_type": "stream",
     "text": [
      "Thresh=0.0043442467977851664, n=47, R2 Score: -0.0714285714285714\n"
     ]
    },
    {
     "name": "stderr",
     "output_type": "stream",
     "text": [
      "C:\\ProgramData\\Anaconda3\\lib\\site-packages\\sklearn\\utils\\__init__.py:93: FutureWarning: Conversion of the second argument of issubdtype from `int` to `np.signedinteger` is deprecated. In future, it will be treated as `np.int32 == np.dtype(int).type`.\n",
      "  if np.issubdtype(mask.dtype, np.int):\n"
     ]
    },
    {
     "name": "stdout",
     "output_type": "stream",
     "text": [
      "Thresh=0.004392248626678671, n=46, R2 Score: -0.0714285714285714\n"
     ]
    },
    {
     "name": "stderr",
     "output_type": "stream",
     "text": [
      "C:\\ProgramData\\Anaconda3\\lib\\site-packages\\sklearn\\utils\\__init__.py:93: FutureWarning: Conversion of the second argument of issubdtype from `int` to `np.signedinteger` is deprecated. In future, it will be treated as `np.int32 == np.dtype(int).type`.\n",
      "  if np.issubdtype(mask.dtype, np.int):\n"
     ]
    },
    {
     "name": "stdout",
     "output_type": "stream",
     "text": [
      "Thresh=0.0043965804473016035, n=45, R2 Score: -0.0714285714285714\n"
     ]
    },
    {
     "name": "stderr",
     "output_type": "stream",
     "text": [
      "C:\\ProgramData\\Anaconda3\\lib\\site-packages\\sklearn\\utils\\__init__.py:93: FutureWarning: Conversion of the second argument of issubdtype from `int` to `np.signedinteger` is deprecated. In future, it will be treated as `np.int32 == np.dtype(int).type`.\n",
      "  if np.issubdtype(mask.dtype, np.int):\n"
     ]
    },
    {
     "name": "stdout",
     "output_type": "stream",
     "text": [
      "Thresh=0.004472120224871574, n=44, R2 Score: -0.0714285714285714\n"
     ]
    },
    {
     "name": "stderr",
     "output_type": "stream",
     "text": [
      "C:\\ProgramData\\Anaconda3\\lib\\site-packages\\sklearn\\utils\\__init__.py:93: FutureWarning: Conversion of the second argument of issubdtype from `int` to `np.signedinteger` is deprecated. In future, it will be treated as `np.int32 == np.dtype(int).type`.\n",
      "  if np.issubdtype(mask.dtype, np.int):\n"
     ]
    },
    {
     "name": "stdout",
     "output_type": "stream",
     "text": [
      "Thresh=0.0050012444323546, n=43, R2 Score: 0.5714285714285714\n"
     ]
    },
    {
     "name": "stderr",
     "output_type": "stream",
     "text": [
      "C:\\ProgramData\\Anaconda3\\lib\\site-packages\\sklearn\\utils\\__init__.py:93: FutureWarning: Conversion of the second argument of issubdtype from `int` to `np.signedinteger` is deprecated. In future, it will be treated as `np.int32 == np.dtype(int).type`.\n",
      "  if np.issubdtype(mask.dtype, np.int):\n"
     ]
    },
    {
     "name": "stdout",
     "output_type": "stream",
     "text": [
      "Thresh=0.005533565080329853, n=42, R2 Score: -0.0714285714285714\n"
     ]
    },
    {
     "name": "stderr",
     "output_type": "stream",
     "text": [
      "C:\\ProgramData\\Anaconda3\\lib\\site-packages\\sklearn\\utils\\__init__.py:93: FutureWarning: Conversion of the second argument of issubdtype from `int` to `np.signedinteger` is deprecated. In future, it will be treated as `np.int32 == np.dtype(int).type`.\n",
      "  if np.issubdtype(mask.dtype, np.int):\n"
     ]
    },
    {
     "name": "stdout",
     "output_type": "stream",
     "text": [
      "Thresh=0.00604880710615581, n=41, R2 Score: -0.0714285714285714\n"
     ]
    },
    {
     "name": "stderr",
     "output_type": "stream",
     "text": [
      "C:\\ProgramData\\Anaconda3\\lib\\site-packages\\sklearn\\utils\\__init__.py:93: FutureWarning: Conversion of the second argument of issubdtype from `int` to `np.signedinteger` is deprecated. In future, it will be treated as `np.int32 == np.dtype(int).type`.\n",
      "  if np.issubdtype(mask.dtype, np.int):\n"
     ]
    },
    {
     "name": "stdout",
     "output_type": "stream",
     "text": [
      "Thresh=0.006319316874286425, n=40, R2 Score: -0.0714285714285714\n"
     ]
    },
    {
     "name": "stderr",
     "output_type": "stream",
     "text": [
      "C:\\ProgramData\\Anaconda3\\lib\\site-packages\\sklearn\\utils\\__init__.py:93: FutureWarning: Conversion of the second argument of issubdtype from `int` to `np.signedinteger` is deprecated. In future, it will be treated as `np.int32 == np.dtype(int).type`.\n",
      "  if np.issubdtype(mask.dtype, np.int):\n"
     ]
    },
    {
     "name": "stdout",
     "output_type": "stream",
     "text": [
      "Thresh=0.0068198466560845635, n=39, R2 Score: -0.0714285714285714\n"
     ]
    },
    {
     "name": "stderr",
     "output_type": "stream",
     "text": [
      "C:\\ProgramData\\Anaconda3\\lib\\site-packages\\sklearn\\utils\\__init__.py:93: FutureWarning: Conversion of the second argument of issubdtype from `int` to `np.signedinteger` is deprecated. In future, it will be treated as `np.int32 == np.dtype(int).type`.\n",
      "  if np.issubdtype(mask.dtype, np.int):\n"
     ]
    },
    {
     "name": "stdout",
     "output_type": "stream",
     "text": [
      "Thresh=0.007189776804621724, n=38, R2 Score: -0.2857142857142856\n"
     ]
    },
    {
     "name": "stderr",
     "output_type": "stream",
     "text": [
      "C:\\ProgramData\\Anaconda3\\lib\\site-packages\\sklearn\\utils\\__init__.py:93: FutureWarning: Conversion of the second argument of issubdtype from `int` to `np.signedinteger` is deprecated. In future, it will be treated as `np.int32 == np.dtype(int).type`.\n",
      "  if np.issubdtype(mask.dtype, np.int):\n"
     ]
    },
    {
     "name": "stdout",
     "output_type": "stream",
     "text": [
      "Thresh=0.007873030334507166, n=37, R2 Score: -0.0714285714285714\n"
     ]
    },
    {
     "name": "stderr",
     "output_type": "stream",
     "text": [
      "C:\\ProgramData\\Anaconda3\\lib\\site-packages\\sklearn\\utils\\__init__.py:93: FutureWarning: Conversion of the second argument of issubdtype from `int` to `np.signedinteger` is deprecated. In future, it will be treated as `np.int32 == np.dtype(int).type`.\n",
      "  if np.issubdtype(mask.dtype, np.int):\n"
     ]
    },
    {
     "name": "stdout",
     "output_type": "stream",
     "text": [
      "Thresh=0.009575507194353973, n=36, R2 Score: 0.1428571428571429\n"
     ]
    },
    {
     "name": "stderr",
     "output_type": "stream",
     "text": [
      "C:\\ProgramData\\Anaconda3\\lib\\site-packages\\sklearn\\utils\\__init__.py:93: FutureWarning: Conversion of the second argument of issubdtype from `int` to `np.signedinteger` is deprecated. In future, it will be treated as `np.int32 == np.dtype(int).type`.\n",
      "  if np.issubdtype(mask.dtype, np.int):\n"
     ]
    },
    {
     "name": "stdout",
     "output_type": "stream",
     "text": [
      "Thresh=0.00969593985471821, n=35, R2 Score: -0.0714285714285714\n"
     ]
    },
    {
     "name": "stderr",
     "output_type": "stream",
     "text": [
      "C:\\ProgramData\\Anaconda3\\lib\\site-packages\\sklearn\\utils\\__init__.py:93: FutureWarning: Conversion of the second argument of issubdtype from `int` to `np.signedinteger` is deprecated. In future, it will be treated as `np.int32 == np.dtype(int).type`.\n",
      "  if np.issubdtype(mask.dtype, np.int):\n"
     ]
    },
    {
     "name": "stdout",
     "output_type": "stream",
     "text": [
      "Thresh=0.009697440082588677, n=34, R2 Score: -0.0714285714285714\n"
     ]
    },
    {
     "name": "stderr",
     "output_type": "stream",
     "text": [
      "C:\\ProgramData\\Anaconda3\\lib\\site-packages\\sklearn\\utils\\__init__.py:93: FutureWarning: Conversion of the second argument of issubdtype from `int` to `np.signedinteger` is deprecated. In future, it will be treated as `np.int32 == np.dtype(int).type`.\n",
      "  if np.issubdtype(mask.dtype, np.int):\n"
     ]
    },
    {
     "name": "stdout",
     "output_type": "stream",
     "text": [
      "Thresh=0.009969881676273905, n=33, R2 Score: -0.0714285714285714\n"
     ]
    },
    {
     "name": "stderr",
     "output_type": "stream",
     "text": [
      "C:\\ProgramData\\Anaconda3\\lib\\site-packages\\sklearn\\utils\\__init__.py:93: FutureWarning: Conversion of the second argument of issubdtype from `int` to `np.signedinteger` is deprecated. In future, it will be treated as `np.int32 == np.dtype(int).type`.\n",
      "  if np.issubdtype(mask.dtype, np.int):\n"
     ]
    },
    {
     "name": "stdout",
     "output_type": "stream",
     "text": [
      "Thresh=0.011363820582739622, n=32, R2 Score: 0.3571428571428572\n"
     ]
    },
    {
     "name": "stderr",
     "output_type": "stream",
     "text": [
      "C:\\ProgramData\\Anaconda3\\lib\\site-packages\\sklearn\\utils\\__init__.py:93: FutureWarning: Conversion of the second argument of issubdtype from `int` to `np.signedinteger` is deprecated. In future, it will be treated as `np.int32 == np.dtype(int).type`.\n",
      "  if np.issubdtype(mask.dtype, np.int):\n"
     ]
    },
    {
     "name": "stdout",
     "output_type": "stream",
     "text": [
      "Thresh=0.011983034555012336, n=31, R2 Score: 0.1428571428571429\n"
     ]
    },
    {
     "name": "stderr",
     "output_type": "stream",
     "text": [
      "C:\\ProgramData\\Anaconda3\\lib\\site-packages\\sklearn\\utils\\__init__.py:93: FutureWarning: Conversion of the second argument of issubdtype from `int` to `np.signedinteger` is deprecated. In future, it will be treated as `np.int32 == np.dtype(int).type`.\n",
      "  if np.issubdtype(mask.dtype, np.int):\n"
     ]
    },
    {
     "name": "stdout",
     "output_type": "stream",
     "text": [
      "Thresh=0.012004233411788858, n=30, R2 Score: -0.0714285714285714\n"
     ]
    },
    {
     "name": "stderr",
     "output_type": "stream",
     "text": [
      "C:\\ProgramData\\Anaconda3\\lib\\site-packages\\sklearn\\utils\\__init__.py:93: FutureWarning: Conversion of the second argument of issubdtype from `int` to `np.signedinteger` is deprecated. In future, it will be treated as `np.int32 == np.dtype(int).type`.\n",
      "  if np.issubdtype(mask.dtype, np.int):\n"
     ]
    },
    {
     "name": "stdout",
     "output_type": "stream",
     "text": [
      "Thresh=0.012036709302030952, n=29, R2 Score: -0.0714285714285714\n"
     ]
    },
    {
     "name": "stderr",
     "output_type": "stream",
     "text": [
      "C:\\ProgramData\\Anaconda3\\lib\\site-packages\\sklearn\\utils\\__init__.py:93: FutureWarning: Conversion of the second argument of issubdtype from `int` to `np.signedinteger` is deprecated. In future, it will be treated as `np.int32 == np.dtype(int).type`.\n",
      "  if np.issubdtype(mask.dtype, np.int):\n"
     ]
    },
    {
     "name": "stdout",
     "output_type": "stream",
     "text": [
      "Thresh=0.012812809596959816, n=28, R2 Score: 0.5714285714285714\n"
     ]
    },
    {
     "name": "stderr",
     "output_type": "stream",
     "text": [
      "C:\\ProgramData\\Anaconda3\\lib\\site-packages\\sklearn\\utils\\__init__.py:93: FutureWarning: Conversion of the second argument of issubdtype from `int` to `np.signedinteger` is deprecated. In future, it will be treated as `np.int32 == np.dtype(int).type`.\n",
      "  if np.issubdtype(mask.dtype, np.int):\n"
     ]
    },
    {
     "name": "stdout",
     "output_type": "stream",
     "text": [
      "Thresh=0.013183203331005729, n=27, R2 Score: -0.0714285714285714\n"
     ]
    },
    {
     "name": "stderr",
     "output_type": "stream",
     "text": [
      "C:\\ProgramData\\Anaconda3\\lib\\site-packages\\sklearn\\utils\\__init__.py:93: FutureWarning: Conversion of the second argument of issubdtype from `int` to `np.signedinteger` is deprecated. In future, it will be treated as `np.int32 == np.dtype(int).type`.\n",
      "  if np.issubdtype(mask.dtype, np.int):\n"
     ]
    },
    {
     "name": "stdout",
     "output_type": "stream",
     "text": [
      "Thresh=0.013305125096827708, n=26, R2 Score: -0.0714285714285714\n"
     ]
    },
    {
     "name": "stderr",
     "output_type": "stream",
     "text": [
      "C:\\ProgramData\\Anaconda3\\lib\\site-packages\\sklearn\\utils\\__init__.py:93: FutureWarning: Conversion of the second argument of issubdtype from `int` to `np.signedinteger` is deprecated. In future, it will be treated as `np.int32 == np.dtype(int).type`.\n",
      "  if np.issubdtype(mask.dtype, np.int):\n"
     ]
    },
    {
     "name": "stdout",
     "output_type": "stream",
     "text": [
      "Thresh=0.01399709560240524, n=25, R2 Score: 0.5714285714285714\n"
     ]
    },
    {
     "name": "stderr",
     "output_type": "stream",
     "text": [
      "C:\\ProgramData\\Anaconda3\\lib\\site-packages\\sklearn\\utils\\__init__.py:93: FutureWarning: Conversion of the second argument of issubdtype from `int` to `np.signedinteger` is deprecated. In future, it will be treated as `np.int32 == np.dtype(int).type`.\n",
      "  if np.issubdtype(mask.dtype, np.int):\n"
     ]
    },
    {
     "name": "stdout",
     "output_type": "stream",
     "text": [
      "Thresh=0.01512991096471085, n=24, R2 Score: 0.5714285714285714\n"
     ]
    },
    {
     "name": "stderr",
     "output_type": "stream",
     "text": [
      "C:\\ProgramData\\Anaconda3\\lib\\site-packages\\sklearn\\utils\\__init__.py:93: FutureWarning: Conversion of the second argument of issubdtype from `int` to `np.signedinteger` is deprecated. In future, it will be treated as `np.int32 == np.dtype(int).type`.\n",
      "  if np.issubdtype(mask.dtype, np.int):\n"
     ]
    },
    {
     "name": "stdout",
     "output_type": "stream",
     "text": [
      "Thresh=0.01527406322006255, n=23, R2 Score: 0.3571428571428572\n"
     ]
    },
    {
     "name": "stderr",
     "output_type": "stream",
     "text": [
      "C:\\ProgramData\\Anaconda3\\lib\\site-packages\\sklearn\\utils\\__init__.py:93: FutureWarning: Conversion of the second argument of issubdtype from `int` to `np.signedinteger` is deprecated. In future, it will be treated as `np.int32 == np.dtype(int).type`.\n",
      "  if np.issubdtype(mask.dtype, np.int):\n"
     ]
    },
    {
     "name": "stdout",
     "output_type": "stream",
     "text": [
      "Thresh=0.015477742311095232, n=22, R2 Score: 0.5714285714285714\n"
     ]
    },
    {
     "name": "stderr",
     "output_type": "stream",
     "text": [
      "C:\\ProgramData\\Anaconda3\\lib\\site-packages\\sklearn\\utils\\__init__.py:93: FutureWarning: Conversion of the second argument of issubdtype from `int` to `np.signedinteger` is deprecated. In future, it will be treated as `np.int32 == np.dtype(int).type`.\n",
      "  if np.issubdtype(mask.dtype, np.int):\n"
     ]
    },
    {
     "name": "stdout",
     "output_type": "stream",
     "text": [
      "Thresh=0.01831701063966846, n=21, R2 Score: 0.5714285714285714\n"
     ]
    },
    {
     "name": "stderr",
     "output_type": "stream",
     "text": [
      "C:\\ProgramData\\Anaconda3\\lib\\site-packages\\sklearn\\utils\\__init__.py:93: FutureWarning: Conversion of the second argument of issubdtype from `int` to `np.signedinteger` is deprecated. In future, it will be treated as `np.int32 == np.dtype(int).type`.\n",
      "  if np.issubdtype(mask.dtype, np.int):\n"
     ]
    },
    {
     "name": "stdout",
     "output_type": "stream",
     "text": [
      "Thresh=0.018331891853248863, n=20, R2 Score: 0.3571428571428572\n"
     ]
    },
    {
     "name": "stderr",
     "output_type": "stream",
     "text": [
      "C:\\ProgramData\\Anaconda3\\lib\\site-packages\\sklearn\\utils\\__init__.py:93: FutureWarning: Conversion of the second argument of issubdtype from `int` to `np.signedinteger` is deprecated. In future, it will be treated as `np.int32 == np.dtype(int).type`.\n",
      "  if np.issubdtype(mask.dtype, np.int):\n"
     ]
    },
    {
     "name": "stdout",
     "output_type": "stream",
     "text": [
      "Thresh=0.018398999150735236, n=19, R2 Score: 0.5714285714285714\n"
     ]
    },
    {
     "name": "stderr",
     "output_type": "stream",
     "text": [
      "C:\\ProgramData\\Anaconda3\\lib\\site-packages\\sklearn\\utils\\__init__.py:93: FutureWarning: Conversion of the second argument of issubdtype from `int` to `np.signedinteger` is deprecated. In future, it will be treated as `np.int32 == np.dtype(int).type`.\n",
      "  if np.issubdtype(mask.dtype, np.int):\n"
     ]
    },
    {
     "name": "stdout",
     "output_type": "stream",
     "text": [
      "Thresh=0.019080914376674342, n=18, R2 Score: 0.5714285714285714\n"
     ]
    },
    {
     "name": "stderr",
     "output_type": "stream",
     "text": [
      "C:\\ProgramData\\Anaconda3\\lib\\site-packages\\sklearn\\utils\\__init__.py:93: FutureWarning: Conversion of the second argument of issubdtype from `int` to `np.signedinteger` is deprecated. In future, it will be treated as `np.int32 == np.dtype(int).type`.\n",
      "  if np.issubdtype(mask.dtype, np.int):\n"
     ]
    },
    {
     "name": "stdout",
     "output_type": "stream",
     "text": [
      "Thresh=0.020323185370000257, n=17, R2 Score: 0.5714285714285714\n"
     ]
    },
    {
     "name": "stderr",
     "output_type": "stream",
     "text": [
      "C:\\ProgramData\\Anaconda3\\lib\\site-packages\\sklearn\\utils\\__init__.py:93: FutureWarning: Conversion of the second argument of issubdtype from `int` to `np.signedinteger` is deprecated. In future, it will be treated as `np.int32 == np.dtype(int).type`.\n",
      "  if np.issubdtype(mask.dtype, np.int):\n"
     ]
    },
    {
     "name": "stdout",
     "output_type": "stream",
     "text": [
      "Thresh=0.022651235983250192, n=16, R2 Score: 0.7857142857142857\n"
     ]
    },
    {
     "name": "stderr",
     "output_type": "stream",
     "text": [
      "C:\\ProgramData\\Anaconda3\\lib\\site-packages\\sklearn\\utils\\__init__.py:93: FutureWarning: Conversion of the second argument of issubdtype from `int` to `np.signedinteger` is deprecated. In future, it will be treated as `np.int32 == np.dtype(int).type`.\n",
      "  if np.issubdtype(mask.dtype, np.int):\n"
     ]
    },
    {
     "name": "stdout",
     "output_type": "stream",
     "text": [
      "Thresh=0.022781144883696883, n=15, R2 Score: 0.7857142857142857\n"
     ]
    },
    {
     "name": "stderr",
     "output_type": "stream",
     "text": [
      "C:\\ProgramData\\Anaconda3\\lib\\site-packages\\sklearn\\utils\\__init__.py:93: FutureWarning: Conversion of the second argument of issubdtype from `int` to `np.signedinteger` is deprecated. In future, it will be treated as `np.int32 == np.dtype(int).type`.\n",
      "  if np.issubdtype(mask.dtype, np.int):\n"
     ]
    },
    {
     "name": "stdout",
     "output_type": "stream",
     "text": [
      "Thresh=0.02374861842707793, n=14, R2 Score: 0.7857142857142857\n"
     ]
    },
    {
     "name": "stderr",
     "output_type": "stream",
     "text": [
      "C:\\ProgramData\\Anaconda3\\lib\\site-packages\\sklearn\\utils\\__init__.py:93: FutureWarning: Conversion of the second argument of issubdtype from `int` to `np.signedinteger` is deprecated. In future, it will be treated as `np.int32 == np.dtype(int).type`.\n",
      "  if np.issubdtype(mask.dtype, np.int):\n"
     ]
    },
    {
     "name": "stdout",
     "output_type": "stream",
     "text": [
      "Thresh=0.026922715868708376, n=13, R2 Score: 0.5714285714285714\n"
     ]
    },
    {
     "name": "stderr",
     "output_type": "stream",
     "text": [
      "C:\\ProgramData\\Anaconda3\\lib\\site-packages\\sklearn\\utils\\__init__.py:93: FutureWarning: Conversion of the second argument of issubdtype from `int` to `np.signedinteger` is deprecated. In future, it will be treated as `np.int32 == np.dtype(int).type`.\n",
      "  if np.issubdtype(mask.dtype, np.int):\n"
     ]
    },
    {
     "name": "stdout",
     "output_type": "stream",
     "text": [
      "Thresh=0.026930690070824815, n=12, R2 Score: 0.1428571428571429\n"
     ]
    },
    {
     "name": "stderr",
     "output_type": "stream",
     "text": [
      "C:\\ProgramData\\Anaconda3\\lib\\site-packages\\sklearn\\utils\\__init__.py:93: FutureWarning: Conversion of the second argument of issubdtype from `int` to `np.signedinteger` is deprecated. In future, it will be treated as `np.int32 == np.dtype(int).type`.\n",
      "  if np.issubdtype(mask.dtype, np.int):\n"
     ]
    },
    {
     "name": "stdout",
     "output_type": "stream",
     "text": [
      "Thresh=0.02860357487116107, n=11, R2 Score: 0.5714285714285714\n"
     ]
    },
    {
     "name": "stderr",
     "output_type": "stream",
     "text": [
      "C:\\ProgramData\\Anaconda3\\lib\\site-packages\\sklearn\\utils\\__init__.py:93: FutureWarning: Conversion of the second argument of issubdtype from `int` to `np.signedinteger` is deprecated. In future, it will be treated as `np.int32 == np.dtype(int).type`.\n",
      "  if np.issubdtype(mask.dtype, np.int):\n"
     ]
    },
    {
     "name": "stdout",
     "output_type": "stream",
     "text": [
      "Thresh=0.02966962750392061, n=10, R2 Score: 0.5714285714285714\n"
     ]
    },
    {
     "name": "stderr",
     "output_type": "stream",
     "text": [
      "C:\\ProgramData\\Anaconda3\\lib\\site-packages\\sklearn\\utils\\__init__.py:93: FutureWarning: Conversion of the second argument of issubdtype from `int` to `np.signedinteger` is deprecated. In future, it will be treated as `np.int32 == np.dtype(int).type`.\n",
      "  if np.issubdtype(mask.dtype, np.int):\n"
     ]
    },
    {
     "name": "stdout",
     "output_type": "stream",
     "text": [
      "Thresh=0.03135719574418832, n=9, R2 Score: 0.5714285714285714\n"
     ]
    },
    {
     "name": "stderr",
     "output_type": "stream",
     "text": [
      "C:\\ProgramData\\Anaconda3\\lib\\site-packages\\sklearn\\utils\\__init__.py:93: FutureWarning: Conversion of the second argument of issubdtype from `int` to `np.signedinteger` is deprecated. In future, it will be treated as `np.int32 == np.dtype(int).type`.\n",
      "  if np.issubdtype(mask.dtype, np.int):\n"
     ]
    },
    {
     "name": "stdout",
     "output_type": "stream",
     "text": [
      "Thresh=0.03241965557920288, n=8, R2 Score: 0.7857142857142857\n"
     ]
    },
    {
     "name": "stderr",
     "output_type": "stream",
     "text": [
      "C:\\ProgramData\\Anaconda3\\lib\\site-packages\\sklearn\\utils\\__init__.py:93: FutureWarning: Conversion of the second argument of issubdtype from `int` to `np.signedinteger` is deprecated. In future, it will be treated as `np.int32 == np.dtype(int).type`.\n",
      "  if np.issubdtype(mask.dtype, np.int):\n"
     ]
    },
    {
     "name": "stdout",
     "output_type": "stream",
     "text": [
      "Thresh=0.03394777003866445, n=7, R2 Score: 0.3571428571428572\n"
     ]
    },
    {
     "name": "stderr",
     "output_type": "stream",
     "text": [
      "C:\\ProgramData\\Anaconda3\\lib\\site-packages\\sklearn\\utils\\__init__.py:93: FutureWarning: Conversion of the second argument of issubdtype from `int` to `np.signedinteger` is deprecated. In future, it will be treated as `np.int32 == np.dtype(int).type`.\n",
      "  if np.issubdtype(mask.dtype, np.int):\n"
     ]
    },
    {
     "name": "stdout",
     "output_type": "stream",
     "text": [
      "Thresh=0.04855548504211529, n=6, R2 Score: 0.7857142857142857\n"
     ]
    },
    {
     "name": "stderr",
     "output_type": "stream",
     "text": [
      "C:\\ProgramData\\Anaconda3\\lib\\site-packages\\sklearn\\utils\\__init__.py:93: FutureWarning: Conversion of the second argument of issubdtype from `int` to `np.signedinteger` is deprecated. In future, it will be treated as `np.int32 == np.dtype(int).type`.\n",
      "  if np.issubdtype(mask.dtype, np.int):\n"
     ]
    },
    {
     "name": "stdout",
     "output_type": "stream",
     "text": [
      "Thresh=0.04945873035941482, n=5, R2 Score: 0.3571428571428572\n"
     ]
    },
    {
     "name": "stderr",
     "output_type": "stream",
     "text": [
      "C:\\ProgramData\\Anaconda3\\lib\\site-packages\\sklearn\\utils\\__init__.py:93: FutureWarning: Conversion of the second argument of issubdtype from `int` to `np.signedinteger` is deprecated. In future, it will be treated as `np.int32 == np.dtype(int).type`.\n",
      "  if np.issubdtype(mask.dtype, np.int):\n"
     ]
    },
    {
     "name": "stdout",
     "output_type": "stream",
     "text": [
      "Thresh=0.05499398778429699, n=4, R2 Score: 0.5714285714285714\n"
     ]
    },
    {
     "name": "stderr",
     "output_type": "stream",
     "text": [
      "C:\\ProgramData\\Anaconda3\\lib\\site-packages\\sklearn\\utils\\__init__.py:93: FutureWarning: Conversion of the second argument of issubdtype from `int` to `np.signedinteger` is deprecated. In future, it will be treated as `np.int32 == np.dtype(int).type`.\n",
      "  if np.issubdtype(mask.dtype, np.int):\n"
     ]
    },
    {
     "name": "stdout",
     "output_type": "stream",
     "text": [
      "Thresh=0.05592660785108759, n=3, R2 Score: 0.3571428571428572\n"
     ]
    },
    {
     "name": "stderr",
     "output_type": "stream",
     "text": [
      "C:\\ProgramData\\Anaconda3\\lib\\site-packages\\sklearn\\utils\\__init__.py:93: FutureWarning: Conversion of the second argument of issubdtype from `int` to `np.signedinteger` is deprecated. In future, it will be treated as `np.int32 == np.dtype(int).type`.\n",
      "  if np.issubdtype(mask.dtype, np.int):\n"
     ]
    },
    {
     "name": "stdout",
     "output_type": "stream",
     "text": [
      "Thresh=0.05668309367555105, n=2, R2 Score: -0.0714285714285714\n"
     ]
    },
    {
     "name": "stderr",
     "output_type": "stream",
     "text": [
      "C:\\ProgramData\\Anaconda3\\lib\\site-packages\\sklearn\\utils\\__init__.py:93: FutureWarning: Conversion of the second argument of issubdtype from `int` to `np.signedinteger` is deprecated. In future, it will be treated as `np.int32 == np.dtype(int).type`.\n",
      "  if np.issubdtype(mask.dtype, np.int):\n"
     ]
    },
    {
     "name": "stdout",
     "output_type": "stream",
     "text": [
      "Thresh=0.062572611362701, n=1, R2 Score: -0.0714285714285714\n"
     ]
    },
    {
     "data": {
      "image/png": "[encoded data removed]",
      "text/plain": [
       "<Figure size 1440x1080 with 1 Axes>"
      ]
     },
     "metadata": {
      "needs_background": "light"
     },
     "output_type": "display_data"
    }
   ],
   "source": [
    "rfr_hist_sysmetric_summary_score, rfr_hist_sysmetric_summary_count = EnsembleWrappers.rfr_wrapper(X_df=rep_hist_sysmetric_summary_df_pruned_norm,\n",
    "                                                                                                  y_df=rep_hist_sysmetric_summary_df_pruned['SNAP_ID'],\n",
    "                                                                                                  test_split=test_split,\n",
    "                                                                                                  table_name='REP_HIST_SYSMETRIC_SUMMARY',\n",
    "                                                                                                  top_n_features=top_n_features,\n",
    "                                                                                                  parallel_degree=parallel_degree)"
   ]
  },
  {
   "cell_type": "markdown",
   "metadata": {},
   "source": [
    "### Gradient Boosting Wrapper (Feature Combination)  (Regression)\n",
    "\n",
    "Utilizes an ensemble Gradient Boosting method to gauge different feature combination/counts.\n",
    "\n",
    "https://machinelearningmastery.com/gentle-introduction-gradient-boosting-algorithm-machine-learning/"
   ]
  },
  {
   "cell_type": "code",
   "execution_count": 149,
   "metadata": {
    "scrolled": true
   },
   "outputs": [
    {
     "name": "stdout",
     "output_type": "stream",
     "text": [
      "Table [REP_HIST_SYSMETRIC_SUMMARY] RFR R2 Score: -18.0\n",
      "Feature Importance\n",
      "------------------------------------------------------------\n",
      "[0.0146     0.         0.         0.         0.         0.\n",
      " 0.         0.         0.         0.         0.         0.\n",
      " 0.         0.         0.         0.         0.012      0.\n",
      " 0.         0.001      0.0142     0.         0.         0.\n",
      " 0.         0.0006     0.         0.         0.001      0.0006\n",
      " 0.         0.         0.         0.         0.         0.\n",
      " 0.         0.0008     0.         0.         0.         0.\n",
      " 0.         0.         0.00193333 0.         0.         0.\n",
      " 0.         0.         0.         0.         0.         0.\n",
      " 0.0006     0.         0.         0.         0.         0.0008\n",
      " 0.009      0.         0.         0.         0.         0.\n",
      " 0.         0.0006     0.0004     0.         0.         0.\n",
      " 0.         0.         0.001      0.0014     0.001      0.0014\n",
      " 0.         0.         0.0014     0.0008     0.         0.0092\n",
      " 0.001      0.         0.001      0.         0.         0.\n",
      " 0.         0.0004     0.         0.002      0.         0.\n",
      " 0.0002     0.         0.01486667 0.0112     0.         0.\n",
      " 0.         0.         0.         0.01446667 0.         0.\n",
      " 0.         0.         0.         0.0012     0.00133333 0.0104\n",
      " 0.0118     0.011      0.         0.         0.         0.\n",
      " 0.         0.         0.         0.         0.         0.\n",
      " 0.         0.         0.         0.         0.         0.\n",
      " 0.         0.         0.0068    ]\n",
      "------------------------------------------------------------\n",
      "Thresh=0.0, n=135, R2 Score: -13.5\n"
     ]
    },
    {
     "name": "stderr",
     "output_type": "stream",
     "text": [
      "C:\\ProgramData\\Anaconda3\\lib\\site-packages\\sklearn\\utils\\__init__.py:93: FutureWarning: Conversion of the second argument of issubdtype from `int` to `np.signedinteger` is deprecated. In future, it will be treated as `np.int32 == np.dtype(int).type`.\n",
      "  if np.issubdtype(mask.dtype, np.int):\n"
     ]
    },
    {
     "name": "stdout",
     "output_type": "stream",
     "text": [
      "Thresh=0.0, n=135, R2 Score: -21.5\n",
      "Thresh=0.0, n=135, R2 Score: -18.0\n",
      "Thresh=0.0, n=135, R2 Score: -17.0\n",
      "Thresh=0.0, n=135, R2 Score: -18.0\n",
      "Thresh=0.0, n=135, R2 Score: -18.0\n",
      "Thresh=0.0, n=135, R2 Score: -21.5\n",
      "Thresh=0.0, n=135, R2 Score: -18.0\n",
      "Thresh=0.0, n=135, R2 Score: -18.0\n",
      "Thresh=0.0, n=135, R2 Score: -18.0\n",
      "Thresh=0.0, n=135, R2 Score: -18.0\n",
      "Thresh=0.0, n=135, R2 Score: -18.0\n",
      "Thresh=0.0, n=135, R2 Score: -21.5\n",
      "Thresh=0.0, n=135, R2 Score: -16.5\n",
      "Thresh=0.0, n=135, R2 Score: -18.0\n",
      "Thresh=0.0, n=135, R2 Score: -21.5\n",
      "Thresh=0.0, n=135, R2 Score: -21.5\n",
      "Thresh=0.0, n=135, R2 Score: -18.0\n",
      "Thresh=0.0, n=135, R2 Score: -17.0\n",
      "Thresh=0.0, n=135, R2 Score: -18.0\n",
      "Thresh=0.0, n=135, R2 Score: -18.0\n",
      "Thresh=0.0, n=135, R2 Score: -18.0\n",
      "Thresh=0.0, n=135, R2 Score: -18.0\n",
      "Thresh=0.0, n=135, R2 Score: -18.0\n",
      "Thresh=0.0, n=135, R2 Score: -18.0\n",
      "Thresh=0.0, n=135, R2 Score: -18.0\n",
      "Thresh=0.0, n=135, R2 Score: -18.0\n",
      "Thresh=0.0, n=135, R2 Score: -18.0\n",
      "Thresh=0.0, n=135, R2 Score: -18.0\n",
      "Thresh=0.0, n=135, R2 Score: -21.5\n",
      "Thresh=0.0, n=135, R2 Score: -18.0\n",
      "Thresh=0.0, n=135, R2 Score: -18.0\n",
      "Thresh=0.0, n=135, R2 Score: -18.0\n",
      "Thresh=0.0, n=135, R2 Score: -18.0\n",
      "Thresh=0.0, n=135, R2 Score: -18.0\n",
      "Thresh=0.0, n=135, R2 Score: -18.0\n",
      "Thresh=0.0, n=135, R2 Score: -18.0\n",
      "Thresh=0.0, n=135, R2 Score: -18.0\n",
      "Thresh=0.0, n=135, R2 Score: -18.0\n",
      "Thresh=0.0, n=135, R2 Score: -21.5\n",
      "Thresh=0.0, n=135, R2 Score: -18.0\n",
      "Thresh=0.0, n=135, R2 Score: -18.0\n",
      "Thresh=0.0, n=135, R2 Score: -18.0\n",
      "Thresh=0.0, n=135, R2 Score: -21.5\n",
      "Thresh=0.0, n=135, R2 Score: -21.5\n",
      "Thresh=0.0, n=135, R2 Score: -21.5\n",
      "Thresh=0.0, n=135, R2 Score: -16.5\n",
      "Thresh=0.0, n=135, R2 Score: -21.5\n",
      "Thresh=0.0, n=135, R2 Score: -18.0\n",
      "Thresh=0.0, n=135, R2 Score: -18.0\n",
      "Thresh=0.0, n=135, R2 Score: -21.5\n",
      "Thresh=0.0, n=135, R2 Score: -15.5\n",
      "Thresh=0.0, n=135, R2 Score: -18.0\n",
      "Thresh=0.0, n=135, R2 Score: -18.0\n",
      "Thresh=0.0, n=135, R2 Score: -20.0\n",
      "Thresh=0.0, n=135, R2 Score: -18.0\n",
      "Thresh=0.0, n=135, R2 Score: -18.0\n",
      "Thresh=0.0, n=135, R2 Score: -18.0\n",
      "Thresh=0.0, n=135, R2 Score: -18.0\n",
      "Thresh=0.0, n=135, R2 Score: -18.0\n",
      "Thresh=0.0, n=135, R2 Score: -21.5\n",
      "Thresh=0.0, n=135, R2 Score: -18.0\n",
      "Thresh=0.0, n=135, R2 Score: -18.0\n",
      "Thresh=0.0, n=135, R2 Score: -18.0\n",
      "Thresh=0.0, n=135, R2 Score: -16.5\n",
      "Thresh=0.0, n=135, R2 Score: -18.0\n",
      "Thresh=0.0, n=135, R2 Score: -18.0\n",
      "Thresh=0.0, n=135, R2 Score: -13.5\n",
      "Thresh=0.0, n=135, R2 Score: -18.0\n",
      "Thresh=0.0, n=135, R2 Score: -18.0\n",
      "Thresh=0.0, n=135, R2 Score: -18.0\n",
      "Thresh=0.0, n=135, R2 Score: -18.0\n",
      "Thresh=0.0, n=135, R2 Score: -12.0\n",
      "Thresh=0.0, n=135, R2 Score: -21.5\n",
      "Thresh=0.0, n=135, R2 Score: -18.0\n",
      "Thresh=0.0, n=135, R2 Score: -18.0\n",
      "Thresh=0.0, n=135, R2 Score: -18.0\n",
      "Thresh=0.0, n=135, R2 Score: -13.5\n",
      "Thresh=0.0, n=135, R2 Score: -21.5\n",
      "Thresh=0.0, n=135, R2 Score: -18.0\n",
      "Thresh=0.0, n=135, R2 Score: -18.0\n",
      "Thresh=0.0, n=135, R2 Score: -17.0\n",
      "Thresh=0.0, n=135, R2 Score: -18.0\n",
      "Thresh=0.0, n=135, R2 Score: -21.5\n",
      "Thresh=0.0, n=135, R2 Score: -18.0\n",
      "Thresh=0.0, n=135, R2 Score: -18.0\n",
      "Thresh=0.0, n=135, R2 Score: -18.0\n",
      "Thresh=0.0, n=135, R2 Score: -18.0\n",
      "Thresh=0.0, n=135, R2 Score: -18.0\n",
      "Thresh=0.0, n=135, R2 Score: -18.0\n",
      "Thresh=0.0, n=135, R2 Score: -13.5\n",
      "Thresh=0.0, n=135, R2 Score: -16.5\n",
      "Thresh=0.0, n=135, R2 Score: -13.5\n",
      "Thresh=0.0, n=135, R2 Score: -18.0\n",
      "Thresh=0.0, n=135, R2 Score: -18.0\n",
      "Thresh=0.0, n=135, R2 Score: -18.0\n",
      "Thresh=0.0, n=135, R2 Score: -18.0\n",
      "Thresh=0.0, n=135, R2 Score: -18.0\n",
      "Thresh=0.0, n=135, R2 Score: -13.5\n",
      "Thresh=0.0, n=135, R2 Score: -18.0\n",
      "Thresh=0.00020000000007414805, n=35, R2 Score: -18.0\n",
      "Thresh=0.0003999999995425786, n=34, R2 Score: -18.0\n",
      "Thresh=0.00040000000005837823, n=33, R2 Score: -18.0\n",
      "Thresh=0.0005999999952323466, n=32, R2 Score: -18.0\n",
      "Thresh=0.0005999999977097872, n=31, R2 Score: -21.5\n",
      "Thresh=0.000600000000059191, n=30, R2 Score: -18.0\n",
      "Thresh=0.0006000000001555092, n=29, R2 Score: -13.5\n",
      "Thresh=0.0007999999988540423, n=28, R2 Score: -18.0\n",
      "Thresh=0.0008000000001093224, n=27, R2 Score: -21.5\n",
      "Thresh=0.0008000000010153632, n=26, R2 Score: -18.0\n",
      "Thresh=0.000999999998429296, n=25, R2 Score: -18.0\n",
      "Thresh=0.0009999999986877361, n=24, R2 Score: -16.5\n",
      "Thresh=0.0009999999994675982, n=23, R2 Score: -18.0\n",
      "Thresh=0.000999999999735835, n=22, R2 Score: -21.5\n",
      "Thresh=0.0009999999997364981, n=21, R2 Score: -13.5\n",
      "Thresh=0.001000000000120911, n=20, R2 Score: -18.0\n",
      "Thresh=0.0011999999988120918, n=19, R2 Score: -18.0\n",
      "Thresh=0.0013333333333333335, n=18, R2 Score: -18.0\n",
      "Thresh=0.0013999999972470676, n=17, R2 Score: -20.0\n",
      "Thresh=0.0013999999986005474, n=16, R2 Score: -16.5\n",
      "Thresh=0.0013999999995872618, n=15, R2 Score: -20.0\n",
      "Thresh=0.0019333333333582713, n=14, R2 Score: -16.5\n",
      "Thresh=0.002, n=13, R2 Score: -16.5\n",
      "Thresh=0.006800000000118031, n=12, R2 Score: -16.5\n",
      "Thresh=0.008999999999165101, n=11, R2 Score: -18.0\n",
      "Thresh=0.009199999998573226, n=10, R2 Score: -18.0\n",
      "Thresh=0.010400000002201482, n=9, R2 Score: -23.5\n",
      "Thresh=0.011000000002804954, n=8, R2 Score: -16.5\n",
      "Thresh=0.01120000000203842, n=7, R2 Score: -22.0\n",
      "Thresh=0.011800000003615559, n=6, R2 Score: -16.5\n",
      "Thresh=0.01200000000048003, n=5, R2 Score: -16.5\n",
      "Thresh=0.014200000003137802, n=4, R2 Score: -22.0\n",
      "Thresh=0.01446666667102354, n=3, R2 Score: -16.5\n",
      "Thresh=0.014599999999977934, n=2, R2 Score: -22.0\n",
      "Thresh=0.014866666666936807, n=1, R2 Score: -22.0\n"
     ]
    },
    {
     "data": {
      "image/png": "[encoded data removed]",
      "text/plain": [
       "<Figure size 1440x1080 with 1 Axes>"
      ]
     },
     "metadata": {
      "needs_background": "light"
     },
     "output_type": "display_data"
    }
   ],
   "source": [
    "gbw_hist_sysmetric_summary_score, gbw_hist_sysmetric_summary_count = EnsembleWrappers.gradient_boosting_wrapper(X_df=rep_hist_sysmetric_summary_df_pruned_norm,\n",
    "                                                                                                                y_df=rep_hist_sysmetric_summary_df_pruned['SNAP_ID'],\n",
    "                                                                                                                test_split=test_split,\n",
    "                                                                                                                table_name='REP_HIST_SYSMETRIC_SUMMARY',\n",
    "                                                                                                                top_n_features=top_n_features)"
   ]
  },
  {
   "cell_type": "markdown",
   "metadata": {},
   "source": [
    "### Recursive Feature Elimination (Regression)\n",
    "\n",
    "Implements a recursive solution, where in features are eliminated based on an ensemble evaluator."
   ]
  },
  {
   "cell_type": "code",
   "execution_count": 150,
   "metadata": {},
   "outputs": [],
   "source": [
    "class FeatureEliminator:\n",
    "    \"\"\"\n",
    "    This class is dedicated to housing logic pertaining to feature selection - retaining only labels which are considered\n",
    "    important.\n",
    "    \"\"\"\n",
    "    def __init__(self, X_df, y_df):\n",
    "        \"\"\"\n",
    "        Class constructor.\n",
    "        :param X_df: (Pandas) Pandas feature matrix.\n",
    "        :param y_df: (Pandas) Pandas label matrix.\n",
    "        :return: None\n",
    "        \"\"\"\n",
    "        self.__X_df = X_df\n",
    "        self.__y_df = y_df\n",
    "    \n",
    "    def rfe_selector(self, test_split=.4, optimum_feature_count=0, model=None, parallel_degree=1):\n",
    "        \"\"\"\n",
    "        Recursive Feature Elimination Function. Isolates and eliminated features one by one, up till the desired amount, starting\n",
    "        by features which are considered less important.\n",
    "        :param test_split:            (Float) Denotes training/testing data split.\n",
    "        :param optimum_feature_count: (Integer) Denotes the best estimated number of features to retain before a performance drop\n",
    "                                                is estimated.\n",
    "        :param parallel_degree:       (Integer) Denotes model training parallel degree.\n",
    "        :return: (List) This list is composed of boolean values, which correspond to the input feature column headers. True List \n",
    "                        values denote columns which have been retained. False values denote eliminated feature headers.\n",
    "        :return: (List) This list denotes feature rankings, which correspond to the input feature column headers. Values of '1',\n",
    "                        denote that features have been retained.\n",
    "        \"\"\"\n",
    "        X_df = self.__X_df.values\n",
    "        y_df = self.__y_df.values\n",
    "        X_train, X_test, y_train, y_test = train_test_split(X_df, y_df, test_size=test_split)\n",
    "        print(X_train.shape)\n",
    "        print(X_test.shape)\n",
    "        print(y_train.shape)\n",
    "        print(y_test.shape)\n",
    "        if model == 0:\n",
    "            model = RandomForestRegressor(n_estimators=100,\n",
    "                                          n_jobs=parallel_degree)\n",
    "        elif model == 1:\n",
    "            model = GradientBoostingRegressor(n_estimators=100)\n",
    "\n",
    "        # create the RFE model and select N attributes\n",
    "        rfe_model = RFE(model, optimum_feature_count, step=1)\n",
    "        rfe_model = rfe_model.fit(X_train, y_train)\n",
    "\n",
    "        # summarize the selection of the attributes\n",
    "        print(rfe_model.support_)\n",
    "        print(rfe_model.ranking_)\n",
    "\n",
    "        # evaluate the model on testing set\n",
    "        pred_y = rfe_model.predict(X_test)\n",
    "        predictions = [round(value) for value in pred_y]\n",
    "        r2s = r2_score(y_test, predictions)\n",
    "        \n",
    "        return rfe_model.support_, rfe_model.ranking_\n",
    "    \n",
    "    def get_selected_features(self, column_mask):\n",
    "        \"\"\"\n",
    "        Retrieves features which have not been eliminated from the RFE function.\n",
    "        :param column_mask: (List) This list is composed of boolean values, which correspond to the input feature column headers. \n",
    "                                   True list values denote columns which have been retained. False values denote eliminated \n",
    "                                   feature headers. \n",
    "        :return: (Pandas) Pandas data matrix.\n",
    "        \"\"\"\n",
    "        recommended_columns = []\n",
    "        for i in range(len(self.__X_df.columns)):\n",
    "            if (column_mask[i]):\n",
    "                recommended_columns.append(self.__X_df.columns[i])\n",
    "                \n",
    "        return self.__X_df[recommended_columns]"
   ]
  },
  {
   "cell_type": "code",
   "execution_count": 151,
   "metadata": {},
   "outputs": [
    {
     "name": "stdout",
     "output_type": "stream",
     "text": [
      "(4, 135)\n",
      "(3, 135)\n",
      "(4,)\n",
      "(3,)\n",
      "[ True False False False False False False False False False False False\n",
      " False False False False False False False  True  True False False False\n",
      " False False False False False False False False False False False False\n",
      " False False False False False False False False False False False False\n",
      " False False False False False False False False False False False  True\n",
      "  True False False False False False False False False False False False\n",
      " False False  True False  True  True False False False False False  True\n",
      "  True False  True False False False False False False False False False\n",
      " False False  True  True False False False False False False False False\n",
      " False False False False False  True  True  True False False False False\n",
      " False False False False False False False False False False False False\n",
      " False False False]\n",
      "[  1  33  31  28  26  25  23  22  21  19  35  30  39  44  48  40   3  47\n",
      "  62   1   1  64  61  42  41  46  63  50  59   9  79  34  83  75  76  32\n",
      "  92  85  74  29  90  99  80  94  77  98  93 100 107 118 105 119 111  86\n",
      "  20 116 115 110 106   1   1  18   6  16  65  67 101   2  97  89  88  84\n",
      "  82  78   1   4   1   1  17  38  12   7  24   1   1  37   1  54   8  49\n",
      "  15  14  27  13  51  43  36  11   1   1  53  58  55  81  56   5  87  52\n",
      "  57  45  91  10  60   1   1   1  73  66 117  68  69 120  70  71  72  95\n",
      "  96 109 112 102 103 104 108 113 114]\n",
      "Index(['SNAP_ID', 'ACTIVE SERIAL SESSIONS', 'AVERAGE ACTIVE SESSIONS',\n",
      "       'AVERAGE SYNCHRONOUS SINGLE-BLOCK READ LATENCY',\n",
      "       'BACKGROUND CPU USAGE PER SEC', 'BACKGROUND CHECKPOINTS PER SEC',\n",
      "       'BACKGROUND TIME PER SEC', 'BRANCH NODE SPLITS PER SEC',\n",
      "       'BRANCH NODE SPLITS PER TXN', 'BUFFER CACHE HIT RATIO',\n",
      "       ...\n",
      "       'USER CALLS RATIO', 'USER COMMITS PER SEC', 'USER COMMITS PERCENTAGE',\n",
      "       'USER LIMIT %', 'USER ROLLBACK UNDO RECORDS APPLIED PER TXN',\n",
      "       'USER ROLLBACK UNDOREC APPLIED PER SEC', 'USER ROLLBACKS PER SEC',\n",
      "       'USER ROLLBACKS PERCENTAGE', 'USER TRANSACTION PER SEC',\n",
      "       'VM IN BYTES PER SEC'],\n",
      "      dtype='object', name='METRIC_NAME', length=135)\n",
      "Index(['SNAP_ID', 'CONSISTENT READ GETS PER SEC',\n",
      "       'CONSISTENT READ GETS PER TXN', 'LOGICAL READS PER SEC',\n",
      "       'LOGICAL READS PER TXN', 'PHYSICAL READ BYTES PER SEC',\n",
      "       'PHYSICAL READ TOTAL BYTES PER SEC',\n",
      "       'PHYSICAL READ TOTAL IO REQUESTS PER SEC', 'PHYSICAL READS PER TXN',\n",
      "       'PHYSICAL WRITE BYTES PER SEC', 'PHYSICAL WRITE TOTAL BYTES PER SEC',\n",
      "       'REDO GENERATED PER SEC', 'REDO GENERATED PER TXN',\n",
      "       'TOTAL INDEX SCANS PER TXN', 'TOTAL PGA ALLOCATED',\n",
      "       'TOTAL PGA USED BY SQL WORKAREAS'],\n",
      "      dtype='object', name='METRIC_NAME')\n"
     ]
    },
    {
     "name": "stderr",
     "output_type": "stream",
     "text": [
      "C:\\ProgramData\\Anaconda3\\lib\\site-packages\\sklearn\\utils\\__init__.py:93: FutureWarning: Conversion of the second argument of issubdtype from `int` to `np.signedinteger` is deprecated. In future, it will be treated as `np.int32 == np.dtype(int).type`.\n",
      "  if np.issubdtype(mask.dtype, np.int):\n"
     ]
    }
   ],
   "source": [
    "if rfr_hist_sysmetric_summary_score > gbw_hist_sysmetric_summary_score:\n",
    "    rep_hist_sysmetric_summary_op = rfr_hist_sysmetric_summary_count\n",
    "    rep_hist_sysmetric_summary_model = 0\n",
    "else:\n",
    "    rep_hist_sysmetric_summary_op = gbw_hist_sysmetric_summary_count\n",
    "    rep_hist_sysmetric_summary_model = 1\n",
    "\n",
    "fe = FeatureEliminator(X_df=rep_hist_sysmetric_summary_df_pruned_norm,\n",
    "                       y_df=rep_hist_sysmetric_summary_df_pruned['SNAP_ID'])\n",
    "column_mask, column_rankings = fe.rfe_selector(test_split=test_split,\n",
    "                                               optimum_feature_count=rep_hist_sysmetric_summary_op,\n",
    "                                               model = rep_hist_sysmetric_summary_model,\n",
    "                                               parallel_degree=parallel_degree)\n",
    "print(rep_hist_sysmetric_summary_df_pruned_norm.columns)\n",
    "rep_hist_sysmetric_summary_df_pruned_norm = fe.get_selected_features(column_mask=column_mask)\n",
    "print(rep_hist_sysmetric_summary_df_pruned_norm.columns)"
   ]
  }
 ],
 "metadata": {
  "kernelspec": {
   "display_name": "Python 3",
   "language": "python",
   "name": "python3"
  },
  "language_info": {
   "codemirror_mode": {
    "name": "ipython",
    "version": 3
   },
   "file_extension": ".py",
   "mimetype": "text/x-python",
   "name": "python",
   "nbconvert_exporter": "python",
   "pygments_lexer": "ipython3",
   "version": "3.6.6"
  }
 },
 "nbformat": 4,
 "nbformat_minor": 2
}
