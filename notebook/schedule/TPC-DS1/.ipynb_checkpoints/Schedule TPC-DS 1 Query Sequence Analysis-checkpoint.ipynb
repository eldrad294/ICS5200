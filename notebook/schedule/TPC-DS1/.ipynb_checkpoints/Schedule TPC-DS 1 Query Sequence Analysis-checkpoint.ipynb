{
 "cells": [
  {
   "cell_type": "markdown",
   "metadata": {},
   "source": [
    "# Query Sequence Analysis\n",
    "\n",
    "This notebook focuses on sequence analysis, when presented with a workload schedule / sequence of queries. In an average day to day work activity, particular query patterns can be discerned. This pattern distinction allows us to discern which queries will be susceptible to execution over time, allowing us to know ahead of time which queries will be executed against the database.\n",
    "\n",
    "### Module Installation and Importing Libraries"
   ]
  },
  {
   "cell_type": "code",
   "execution_count": 78,
   "metadata": {},
   "outputs": [
    {
     "name": "stdout",
     "output_type": "stream",
     "text": [
      "scipy: 0.19.1\n",
      "numpy: 1.15.2\n",
      "pandas: 0.23.4\n",
      "sklearn: 0.18.1\n"
     ]
    }
   ],
   "source": [
    "# scipy\n",
    "import scipy as sc\n",
    "print('scipy: %s' % sc.__version__)\n",
    "# numpy\n",
    "import numpy as np\n",
    "print('numpy: %s' % np.__version__)\n",
    "# matplotlib\n",
    "import matplotlib.pyplot as plt\n",
    "from statsmodels.graphics.gofplots import qqplot\n",
    "# pandas\n",
    "import pandas as pd\n",
    "print('pandas: %s' % pd.__version__)\n",
    "# scikit-learn\n",
    "from sklearn.preprocessing import MinMaxScaler\n",
    "import sklearn as sk\n",
    "print('sklearn: %s' % sk.__version__)"
   ]
  },
  {
   "cell_type": "markdown",
   "metadata": {},
   "source": [
    "### Configuration Cell\n",
    "\n",
    "Tweak parametric changes from this cell to influence outcome of experiment. \n",
    "NB: This experiment demonstrates at time  step = 1 (1 minute in advance). Further down in experiment, other timestep results are also featured and evaluated."
   ]
  },
  {
   "cell_type": "code",
   "execution_count": 79,
   "metadata": {},
   "outputs": [],
   "source": [
    "#\n",
    "# Experiment Config\n",
    "tpcds='TPCDS1' # Schema upon which to operate test\n",
    "lag=3 # Time Series shift / Lag Step. Each lag value equates to 1 minute. Cannot be less than 1\n",
    "test_split=.2 # Denotes which Data Split to operate under when it comes to training / validation\n",
    "batch_size=10\n",
    "y_label = ['SQL_ID'] # Denotes which label to use for time series experiments\n",
    "#\n",
    "# Forest Config\n",
    "parallel_degree = 2\n",
    "n_estimators = 100\n",
    "#\n",
    "if lag < 1:\n",
    "    raise ValueError('Lag value must be greater than 1!')"
   ]
  },
  {
   "cell_type": "markdown",
   "metadata": {},
   "source": [
    "### Read data from file into Pandas Dataframes"
   ]
  },
  {
   "cell_type": "code",
   "execution_count": 80,
   "metadata": {},
   "outputs": [
    {
     "name": "stdout",
     "output_type": "stream",
     "text": [
      "['SNAP_ID' 'DBID' 'INSTANCE_NUMBER' 'SQL_ID' 'PLAN_HASH_VALUE'\n",
      " 'OPTIMIZER_COST' 'OPTIMIZER_MODE' 'OPTIMIZER_ENV_HASH_VALUE'\n",
      " 'SHARABLE_MEM' 'LOADED_VERSIONS' 'VERSION_COUNT' 'MODULE' 'ACTION'\n",
      " 'SQL_PROFILE' 'FORCE_MATCHING_SIGNATURE' 'PARSING_SCHEMA_ID'\n",
      " 'PARSING_SCHEMA_NAME' 'PARSING_USER_ID' 'FETCHES_TOTAL' 'FETCHES_DELTA'\n",
      " 'END_OF_FETCH_COUNT_TOTAL' 'END_OF_FETCH_COUNT_DELTA' 'SORTS_TOTAL'\n",
      " 'SORTS_DELTA' 'EXECUTIONS_TOTAL' 'EXECUTIONS_DELTA'\n",
      " 'PX_SERVERS_EXECS_TOTAL' 'PX_SERVERS_EXECS_DELTA' 'LOADS_TOTAL'\n",
      " 'LOADS_DELTA' 'INVALIDATIONS_TOTAL' 'INVALIDATIONS_DELTA'\n",
      " 'PARSE_CALLS_TOTAL' 'PARSE_CALLS_DELTA' 'DISK_READS_TOTAL'\n",
      " 'DISK_READS_DELTA' 'BUFFER_GETS_TOTAL' 'BUFFER_GETS_DELTA'\n",
      " 'ROWS_PROCESSED_TOTAL' 'ROWS_PROCESSED_DELTA' 'CPU_TIME_TOTAL'\n",
      " 'CPU_TIME_DELTA' 'ELAPSED_TIME_TOTAL' 'ELAPSED_TIME_DELTA' 'IOWAIT_TOTAL'\n",
      " 'IOWAIT_DELTA' 'CLWAIT_TOTAL' 'CLWAIT_DELTA' 'APWAIT_TOTAL'\n",
      " 'APWAIT_DELTA' 'CCWAIT_TOTAL' 'CCWAIT_DELTA' 'DIRECT_WRITES_TOTAL'\n",
      " 'DIRECT_WRITES_DELTA' 'PLSEXEC_TIME_TOTAL' 'PLSEXEC_TIME_DELTA'\n",
      " 'JAVEXEC_TIME_TOTAL' 'JAVEXEC_TIME_DELTA' 'IO_OFFLOAD_ELIG_BYTES_TOTAL'\n",
      " 'IO_OFFLOAD_ELIG_BYTES_DELTA' 'IO_INTERCONNECT_BYTES_TOTAL'\n",
      " 'IO_INTERCONNECT_BYTES_DELTA' 'PHYSICAL_READ_REQUESTS_TOTAL'\n",
      " 'PHYSICAL_READ_REQUESTS_DELTA' 'PHYSICAL_READ_BYTES_TOTAL'\n",
      " 'PHYSICAL_READ_BYTES_DELTA' 'PHYSICAL_WRITE_REQUESTS_TOTAL'\n",
      " 'PHYSICAL_WRITE_REQUESTS_DELTA' 'PHYSICAL_WRITE_BYTES_TOTAL'\n",
      " 'PHYSICAL_WRITE_BYTES_DELTA' 'OPTIMIZED_PHYSICAL_READS_TOTAL'\n",
      " 'OPTIMIZED_PHYSICAL_READS_DELTA' 'CELL_UNCOMPRESSED_BYTES_TOTAL'\n",
      " 'CELL_UNCOMPRESSED_BYTES_DELTA' 'IO_OFFLOAD_RETURN_BYTES_TOTAL'\n",
      " 'IO_OFFLOAD_RETURN_BYTES_DELTA' 'BIND_DATA' 'FLAG' 'CON_DBID' 'CON_ID'\n",
      " 'SQL_TEXT' 'COMMAND_TYPE' 'STARTUP_TIME' 'BEGIN_INTERVAL_TIME'\n",
      " 'END_INTERVAL_TIME' 'FLUSH_ELAPSED' 'SNAP_LEVEL' 'ERROR_COUNT'\n",
      " 'SNAP_FLAG' 'SNAP_TIMEZONE']\n"
     ]
    }
   ],
   "source": [
    "#\n",
    "# Open Data\n",
    "rep_hist_snapshot_path = 'C:/Users/gabriel.sammut/University/Data_ICS5200/Schedule/' + tpcds + '/v2/rep_hist_snapshot.csv'\n",
    "# rep_hist_snapshot_path = 'D:/Projects/Datagenerated_ICS5200/Schedule/' + tpcds + '/v2/rep_hist_snapshot.csv'\n",
    "#\n",
    "rep_hist_snapshot_df = pd.read_csv(rep_hist_snapshot_path)\n",
    "#\n",
    "def prettify_header(headers):\n",
    "    \"\"\"\n",
    "    Cleans header list from unwated character strings\n",
    "    \"\"\"\n",
    "    header_list = []\n",
    "    [header_list.append(header.replace(\"(\",\"\").replace(\")\",\"\").replace(\"'\",\"\").replace(\",\",\"\")) for header in headers]\n",
    "    return header_list\n",
    "#\n",
    "rep_hist_snapshot_df.columns = prettify_header(rep_hist_snapshot_df.columns.values)\n",
    "#\n",
    "print(rep_hist_snapshot_df.columns.values)"
   ]
  },
  {
   "cell_type": "markdown",
   "metadata": {},
   "source": [
    "### Changing Matrix Shapes\n",
    "\n",
    "Changes dataframe shape, in an attempt to drop all numeric data. Below's aggregated data is done so on:\n",
    "* SNAP_ID\n",
    "* INSTANCE_NUMBER\n",
    "* DBID\n",
    "* SQL_ID"
   ]
  },
  {
   "cell_type": "code",
   "execution_count": 81,
   "metadata": {},
   "outputs": [
    {
     "name": "stdout",
     "output_type": "stream",
     "text": [
      "Shape Before Aggregation: (115178, 90)\n",
      "Shape After Aggregation: (94023, 78)\n"
     ]
    }
   ],
   "source": [
    "print(\"Shape Before Aggregation: \" + str(rep_hist_snapshot_df.shape))\n",
    "#\n",
    "# Group By Values by SNAP_ID , sum all metrics (for table REP_HIST_SNAPSHOT) and drop all numeric\n",
    "rep_hist_snapshot_df = rep_hist_snapshot_df.groupby(['SNAP_ID','DBID','INSTANCE_NUMBER','SQL_ID']).sum()\n",
    "rep_hist_snapshot_df.reset_index(inplace=True)\n",
    "#\n",
    "print(\"Shape After Aggregation: \" + str(rep_hist_snapshot_df.shape))"
   ]
  },
  {
   "cell_type": "markdown",
   "metadata": {},
   "source": [
    "### Dealing with Empty Values"
   ]
  },
  {
   "cell_type": "code",
   "execution_count": 82,
   "metadata": {},
   "outputs": [
    {
     "name": "stdout",
     "output_type": "stream",
     "text": [
      "N/A Columns\n",
      "\n",
      "\n",
      " REP_HIST_SNAPSHOT Features 78: []\n",
      "\n"
     ]
    }
   ],
   "source": [
    "def get_na_columns(df, headers):\n",
    "    \"\"\"\n",
    "    Return columns which consist of NAN values\n",
    "    \"\"\"\n",
    "    na_list = []\n",
    "    for head in headers:\n",
    "        if df[head].isnull().values.any():\n",
    "            na_list.append(head)\n",
    "    return na_list\n",
    "#\n",
    "print('N/A Columns\\n')\n",
    "print('\\n REP_HIST_SNAPSHOT Features ' + str(len(rep_hist_snapshot_df.columns)) + ': ' + str(get_na_columns(df=rep_hist_snapshot_df,headers=rep_hist_snapshot_df.columns)) + \"\\n\")\n",
    "#\n",
    "def fill_na(df):\n",
    "    \"\"\"\n",
    "    Replaces NA columns with 0s\n",
    "    \"\"\"\n",
    "    return df.fillna(0)\n",
    "#\n",
    "# Populating NaN values with amount '0'\n",
    "df = fill_na(df=rep_hist_snapshot_df)"
   ]
  },
  {
   "cell_type": "markdown",
   "metadata": {},
   "source": [
    "### Data Ordering\n",
    "\n",
    "Sorting of datasets in order of SNAP_ID."
   ]
  },
  {
   "cell_type": "code",
   "execution_count": 83,
   "metadata": {},
   "outputs": [
    {
     "name": "stdout",
     "output_type": "stream",
     "text": [
      "(94023, 78)\n"
     ]
    }
   ],
   "source": [
    "df.sort_values(by=['SNAP_ID'], ascending=True, inplace=True)\n",
    "print(df.shape)"
   ]
  },
  {
   "cell_type": "markdown",
   "metadata": {},
   "source": [
    "### Floating point precision conversion\n",
    "\n",
    "Each column is converted into a column of type values which are floating point for higher precision."
   ]
  },
  {
   "cell_type": "code",
   "execution_count": 84,
   "metadata": {},
   "outputs": [
    {
     "name": "stdout",
     "output_type": "stream",
     "text": [
      "Couldnt convert column [SQL_ID]\n",
      "(94023, 78)\n"
     ]
    }
   ],
   "source": [
    "for column in df.columns:\n",
    "    try:\n",
    "        df[column].astype('float32', inplace=True)\n",
    "        df[column] = np.round(df[column], 3) # rounds to 3 dp\n",
    "    except:\n",
    "        print('Couldnt convert column [' + column + ']')\n",
    "print(df.shape)"
   ]
  },
  {
   "cell_type": "markdown",
   "metadata": {},
   "source": [
    "### Feature Selection\n",
    "\n",
    "In this step, redundant features are dropped. Features are considered redundant if exhibit a standard devaition of 0 (meaning no change in value)."
   ]
  },
  {
   "cell_type": "code",
   "execution_count": 85,
   "metadata": {},
   "outputs": [
    {
     "name": "stdout",
     "output_type": "stream",
     "text": [
      "Before column drop:\n",
      "(94023, 78)\n",
      "\n",
      "Shape before changes: [(94023, 78)]\n",
      "Shape after changes: [(94023, 63)]\n",
      "Dropped a total [15]\n",
      "\n",
      "After flatline column drop:\n",
      "(94023, 63)\n",
      "\n",
      "After additional column drop:\n",
      "(94023, 53)\n"
     ]
    }
   ],
   "source": [
    "def drop_flatline_columns(df):\n",
    "    columns = df.columns\n",
    "    flatline_features = []\n",
    "    for i in range(len(columns)):\n",
    "        try:\n",
    "            std = df[columns[i]].std()\n",
    "            if std == 0:\n",
    "                flatline_features.append(columns[i])\n",
    "        except:\n",
    "            pass\n",
    "    #\n",
    "    #print('Features which are considered flatline:\\n')\n",
    "    #for col in flatline_features:\n",
    "    #    print(col)\n",
    "    print('\\nShape before changes: [' + str(df.shape) + ']')\n",
    "    df = df.drop(columns=flatline_features)\n",
    "    print('Shape after changes: [' + str(df.shape) + ']')\n",
    "    print('Dropped a total [' + str(len(flatline_features)) + ']')\n",
    "    return df\n",
    "#\n",
    "print('Before column drop:')\n",
    "print(df.shape)\n",
    "df = drop_flatline_columns(df=df)\n",
    "print('\\nAfter flatline column drop:')\n",
    "print(df.shape)\n",
    "dropped_columns_df = [ 'PLAN_HASH_VALUE',\n",
    "                       'OPTIMIZER_ENV_HASH_VALUE',\n",
    "                       'LOADED_VERSIONS',\n",
    "                       'VERSION_COUNT',\n",
    "                       'PARSING_SCHEMA_ID',\n",
    "                       'PARSING_USER_ID',\n",
    "                       'CON_DBID',\n",
    "                       'SNAP_LEVEL',\n",
    "                       'SNAP_FLAG',\n",
    "                       'COMMAND_TYPE']\n",
    "df.drop(columns=dropped_columns_df, inplace=True)\n",
    "print('\\nAfter additional column drop:')\n",
    "print(df.shape)"
   ]
  },
  {
   "cell_type": "markdown",
   "metadata": {},
   "source": [
    "### Data Normalization\n",
    "\n",
    "Under the assumption that outliers have been capped/transformed, data is now passed through a min-max transformer."
   ]
  },
  {
   "cell_type": "code",
   "execution_count": 86,
   "metadata": {},
   "outputs": [
    {
     "name": "stdout",
     "output_type": "stream",
     "text": [
      "(94023, 53)\n",
      "           SQL_ID  SNAP_ID  OPTIMIZER_COST  SHARABLE_MEM  FETCHES_TOTAL  \\\n",
      "0   03ggjrmy0wa1w      0.0    1.984567e-10      0.000168   3.691454e-08   \n",
      "59  bwsf4tnh0gcgv      0.0    6.245616e-11      0.000338   8.613393e-08   \n",
      "58  bkq9pjcfvm9vn      0.0    4.870902e-09      0.001418   4.484870e-05   \n",
      "56  aggcw7yk1a7s6      0.0    6.652939e-11      0.000175   2.460969e-08   \n",
      "55  ac717udu18a35      0.0    7.331811e-11      0.000243   6.890714e-08   \n",
      "\n",
      "    FETCHES_DELTA  END_OF_FETCH_COUNT_TOTAL  END_OF_FETCH_COUNT_DELTA  \\\n",
      "0        0.000021              6.271117e-07                  0.000317   \n",
      "59       0.000021              1.463261e-06                  0.000317   \n",
      "58       0.000363              4.481758e-05                  0.000317   \n",
      "56       0.000021              4.180745e-07                  0.000317   \n",
      "55       0.000021              1.170609e-06                  0.000317   \n",
      "\n",
      "    SORTS_TOTAL  SORTS_DELTA  ...   PHYSICAL_READ_REQUESTS_DELTA  \\\n",
      "0      0.000114     0.041255  ...                            0.0   \n",
      "59     0.000267     0.041255  ...                            0.0   \n",
      "58     0.000067     0.000341  ...                            0.0   \n",
      "56     0.000076     0.041255  ...                            0.0   \n",
      "55     0.000213     0.041255  ...                            0.0   \n",
      "\n",
      "    PHYSICAL_READ_BYTES_TOTAL  PHYSICAL_READ_BYTES_DELTA  \\\n",
      "0                    0.000129                        0.0   \n",
      "59                   0.000446                        0.0   \n",
      "58                   0.094694                        0.0   \n",
      "56                   0.000039                        0.0   \n",
      "55                   0.000144                        0.0   \n",
      "\n",
      "    PHYSICAL_WRITE_REQUESTS_TOTAL  PHYSICAL_WRITE_REQUESTS_DELTA  \\\n",
      "0                        0.000000                            0.0   \n",
      "59                       0.000000                            0.0   \n",
      "58                       0.009564                            0.0   \n",
      "56                       0.000000                            0.0   \n",
      "55                       0.000000                            0.0   \n",
      "\n",
      "    PHYSICAL_WRITE_BYTES_TOTAL  PHYSICAL_WRITE_BYTES_DELTA  \\\n",
      "0                     0.000000                         0.0   \n",
      "59                    0.000000                         0.0   \n",
      "58                    0.007219                         0.0   \n",
      "56                    0.000000                         0.0   \n",
      "55                    0.000000                         0.0   \n",
      "\n",
      "    IO_OFFLOAD_RETURN_BYTES_TOTAL  IO_OFFLOAD_RETURN_BYTES_DELTA  FLAG  \n",
      "0                        0.193714                       0.008761   0.0  \n",
      "59                       0.194627                       0.008761   0.0  \n",
      "58                       0.193622                       0.008761   0.0  \n",
      "56                       0.193622                       0.008761   0.0  \n",
      "55                       0.193622                       0.008761   0.0  \n",
      "\n",
      "[5 rows x 53 columns]\n"
     ]
    }
   ],
   "source": [
    "#\n",
    "# Keep reference of label before normalizaing\n",
    "y_df = df[y_label]\n",
    "df.drop(columns=y_label, inplace=True)\n",
    "#\n",
    "# Normalize values\n",
    "scaler = MinMaxScaler(feature_range=(0, 1))\n",
    "df_normalized_values = scaler.fit_transform(df.values)\n",
    "#\n",
    "# Carry normalized values (numpy array) to pandas df\n",
    "df = pd.DataFrame(data=df_normalized_values, columns=df.columns)\n",
    "del df_normalized_values\n",
    "#\n",
    "# Combine back labels to normalized values\n",
    "df = pd.concat([y_df, df], axis=1, join_axes=[y_df.index])\n",
    "#\n",
    "print(str(df.shape))\n",
    "print(df.head())"
   ]
  },
  {
   "cell_type": "markdown",
   "metadata": {},
   "source": [
    "### Rearranging Labels\n",
    "\n",
    "Removes the label column, and adds it at the beginning of the matrix for later usage"
   ]
  },
  {
   "cell_type": "code",
   "execution_count": 87,
   "metadata": {
    "scrolled": true
   },
   "outputs": [
    {
     "name": "stdout",
     "output_type": "stream",
     "text": [
      "Before Column Switch: (94023, 53)\n",
      "Label ['SQL_ID'] shape: (94023, 1)\n",
      "Feature matrix shape: (94023, 52)\n",
      "After Column Switch: (94023, 53)\n",
      "           SQL_ID  SNAP_ID  OPTIMIZER_COST  SHARABLE_MEM  FETCHES_TOTAL  \\\n",
      "0   03ggjrmy0wa1w      0.0    1.984567e-10      0.000168   3.691454e-08   \n",
      "59  bwsf4tnh0gcgv      0.0    6.245616e-11      0.000338   8.613393e-08   \n",
      "58  bkq9pjcfvm9vn      0.0    4.870902e-09      0.001418   4.484870e-05   \n",
      "56  aggcw7yk1a7s6      0.0    6.652939e-11      0.000175   2.460969e-08   \n",
      "55  ac717udu18a35      0.0    7.331811e-11      0.000243   6.890714e-08   \n",
      "\n",
      "    FETCHES_DELTA  END_OF_FETCH_COUNT_TOTAL  END_OF_FETCH_COUNT_DELTA  \\\n",
      "0        0.000021              6.271117e-07                  0.000317   \n",
      "59       0.000021              1.463261e-06                  0.000317   \n",
      "58       0.000363              4.481758e-05                  0.000317   \n",
      "56       0.000021              4.180745e-07                  0.000317   \n",
      "55       0.000021              1.170609e-06                  0.000317   \n",
      "\n",
      "    SORTS_TOTAL  SORTS_DELTA  ...   PHYSICAL_READ_REQUESTS_DELTA  \\\n",
      "0      0.000114     0.041255  ...                            0.0   \n",
      "59     0.000267     0.041255  ...                            0.0   \n",
      "58     0.000067     0.000341  ...                            0.0   \n",
      "56     0.000076     0.041255  ...                            0.0   \n",
      "55     0.000213     0.041255  ...                            0.0   \n",
      "\n",
      "    PHYSICAL_READ_BYTES_TOTAL  PHYSICAL_READ_BYTES_DELTA  \\\n",
      "0                    0.000129                        0.0   \n",
      "59                   0.000446                        0.0   \n",
      "58                   0.094694                        0.0   \n",
      "56                   0.000039                        0.0   \n",
      "55                   0.000144                        0.0   \n",
      "\n",
      "    PHYSICAL_WRITE_REQUESTS_TOTAL  PHYSICAL_WRITE_REQUESTS_DELTA  \\\n",
      "0                        0.000000                            0.0   \n",
      "59                       0.000000                            0.0   \n",
      "58                       0.009564                            0.0   \n",
      "56                       0.000000                            0.0   \n",
      "55                       0.000000                            0.0   \n",
      "\n",
      "    PHYSICAL_WRITE_BYTES_TOTAL  PHYSICAL_WRITE_BYTES_DELTA  \\\n",
      "0                     0.000000                         0.0   \n",
      "59                    0.000000                         0.0   \n",
      "58                    0.007219                         0.0   \n",
      "56                    0.000000                         0.0   \n",
      "55                    0.000000                         0.0   \n",
      "\n",
      "    IO_OFFLOAD_RETURN_BYTES_TOTAL  IO_OFFLOAD_RETURN_BYTES_DELTA  FLAG  \n",
      "0                        0.193714                       0.008761   0.0  \n",
      "59                       0.194627                       0.008761   0.0  \n",
      "58                       0.193622                       0.008761   0.0  \n",
      "56                       0.193622                       0.008761   0.0  \n",
      "55                       0.193622                       0.008761   0.0  \n",
      "\n",
      "[5 rows x 53 columns]\n"
     ]
    }
   ],
   "source": [
    "print('Before Column Switch: ' + str(df.shape))\n",
    "y_df = df[y_label]\n",
    "df.drop(columns=y_label, inplace=True)\n",
    "print(\"Label \" + str(y_label) + \" shape: \" + str(y_df.shape))\n",
    "print(\"Feature matrix shape: \" + str(df.shape))\n",
    "#\n",
    "# Merging labels and features in respective order\n",
    "df = pd.concat([y_df, df], axis=1, sort=False)\n",
    "print('After Column Switch: ' + str(df.shape))\n",
    "print(df.head())"
   ]
  },
  {
   "cell_type": "markdown",
   "metadata": {},
   "source": [
    "### Time Series Shifting\n",
    "\n",
    "Shifting the datasets N lag minutes, in order to transform the problem into a supervised dataset. Each Lag Shift equates to 60 seconds (due to the way design of the data capturing tool). For each denoted lag amount, the same number of feature vectors will be stripped away at the beginning.\n",
    "\n",
    "Features and Labels are separated into seperate dataframes at this point.\n",
    "\n",
    "https://machinelearningmastery.com/convert-time-series-supervised-learning-problem-python/"
   ]
  },
  {
   "cell_type": "code",
   "execution_count": 88,
   "metadata": {},
   "outputs": [
    {
     "name": "stdout",
     "output_type": "stream",
     "text": [
      "Index(['var1(t+1)'], dtype='object')\n",
      "<class 'pandas.core.indexes.base.Index'>\n",
      "Index(['var1(t+2)'], dtype='object')\n",
      "<class 'pandas.core.indexes.base.Index'>\n",
      "Index(['var1(t+3)'], dtype='object')\n",
      "<class 'pandas.core.indexes.base.Index'>\n",
      "Index([], dtype='object')\n",
      "<class 'pandas.core.indexes.base.Index'>\n",
      "\n",
      "-------------\n",
      "Features\n",
      "Index(['var1(t-3)', 'var2(t-3)', 'var3(t-3)', 'var4(t-3)', 'var5(t-3)',\n",
      "       'var6(t-3)', 'var7(t-3)', 'var8(t-3)', 'var9(t-3)', 'var10(t-3)',\n",
      "       ...\n",
      "       'var44(t+3)', 'var45(t+3)', 'var46(t+3)', 'var47(t+3)', 'var48(t+3)',\n",
      "       'var49(t+3)', 'var50(t+3)', 'var51(t+3)', 'var52(t+3)', 'var53(t+3)'],\n",
      "      dtype='object', length=368)\n",
      "(94017, 368)\n",
      "\n",
      "-------------\n",
      "Labels\n",
      "Index(['var1(t+1)', 'var1(t+2)', 'var1(t+3)'], dtype='object')\n",
      "(94017, 3)\n",
      "\n",
      "-------------\n",
      "Features After Time Shift\n",
      "Index(['var1(t-3)', 'var2(t-3)', 'var3(t-3)', 'var4(t-3)', 'var5(t-3)',\n",
      "       'var6(t-3)', 'var7(t-3)', 'var8(t-3)', 'var9(t-3)', 'var10(t-3)',\n",
      "       ...\n",
      "       'var44(t)', 'var45(t)', 'var46(t)', 'var47(t)', 'var48(t)', 'var49(t)',\n",
      "       'var50(t)', 'var51(t)', 'var52(t)', 'var53(t)'],\n",
      "      dtype='object', length=212)\n",
      "(94017, 212)\n",
      "\n",
      "-------------\n",
      "Labels After Time Shift\n",
      "Index(['var1(t+1)', 'var1(t+2)', 'var1(t+3)'], dtype='object')\n",
      "(94017, 3)\n"
     ]
    }
   ],
   "source": [
    "def series_to_supervised(data, n_in=1, n_out=1, dropnan=True):\n",
    "    \"\"\"\n",
    "    Frame a time series as a supervised learning dataset.\n",
    "    Arguments:\n",
    "        data: Sequence of observations as a list or NumPy array.\n",
    "        n_in: Number of lag observations as input (X).\n",
    "        n_out: Number of observations as output (y).\n",
    "        dropnan: Boolean whether or not to drop rows with NaN values.\n",
    "    Returns:\n",
    "        Pandas DataFrame of series framed for supervised learning.\n",
    "    \"\"\"\n",
    "    n_vars = 1 if type(data) is list else data.shape[1]\n",
    "    df = data\n",
    "    cols, names = list(), list()\n",
    "    # input sequence (t-n, ... t-1)\n",
    "    if n_in != 0:\n",
    "        for i in range(n_in, 0, -1):\n",
    "            cols.append(df.shift(i))\n",
    "            names += [('var%d(t-%d)' % (j+1, i)) for j in range(n_vars)]\n",
    "    # forecast sequence (t, t+1, ... t+n)\n",
    "    n_out += 1\n",
    "    for i in range(0, n_out):\n",
    "        cols.append(df.shift(-i))\n",
    "        if i == 0:\n",
    "            names += [('var%d(t)' % (j+1)) for j in range(n_vars)]\n",
    "        else:\n",
    "            names += [('var%d(t+%d)' % (j+1, i)) for j in range(n_vars)]\n",
    "    # put it all together\n",
    "    agg = pd.concat(cols, axis=1)\n",
    "    agg.columns = names\n",
    "    # drop rows with NaN values\n",
    "    if dropnan:\n",
    "        agg.dropna(inplace=True)\n",
    "    return agg\n",
    "#\n",
    "def remove_n_time_steps(data, n=1):\n",
    "    if n == 0:\n",
    "        return data\n",
    "    df = data\n",
    "    headers = df.columns\n",
    "    dropped_headers = []\n",
    "    #     for header in headers:\n",
    "    #         if \"(t)\" in header:\n",
    "    #             dropped_headers.append(header)\n",
    "    #\n",
    "    for i in range(1,n+1):\n",
    "        for header in headers:\n",
    "            if \"(t+\"+str(i)+\")\" in header:\n",
    "                dropped_headers.append(str(header))\n",
    "    #\n",
    "    return df.drop(dropped_headers, axis=1) \n",
    "#\n",
    "# Frame as supervised learning set\n",
    "shifted_df = series_to_supervised(df, lag, lag)\n",
    "#\n",
    "# Seperate labels from features\n",
    "y_row = []\n",
    "for i in range(lag+1,(lag*2)+2):\n",
    "    y_df_column_names = shifted_df.columns[len(df.columns)*i:len(df.columns)*i + len(y_label)]\n",
    "    y_row.append(y_df_column_names)\n",
    "    print(y_df_column_names)\n",
    "    print(type(y_df_column_names))\n",
    "y_df_column_names = []   \n",
    "for row in y_row:\n",
    "    for val in row:\n",
    "        y_df_column_names.append(val)\n",
    "#\n",
    "# y_df_column_names = shifted_df.columns[len(df.columns)*lag:len(df.columns)*lag + len(y_label)]\n",
    "y_df = shifted_df[y_df_column_names]\n",
    "X_df = shifted_df.drop(columns=y_df_column_names)\n",
    "print('\\n-------------\\nFeatures')\n",
    "print(X_df.columns)\n",
    "print(X_df.shape)\n",
    "print('\\n-------------\\nLabels')\n",
    "print(y_df.columns)\n",
    "print(y_df.shape)\n",
    "#\n",
    "# Delete middle timesteps\n",
    "X_df = remove_n_time_steps(data=X_df, n=lag)\n",
    "print('\\n-------------\\nFeatures After Time Shift')\n",
    "print(X_df.columns)\n",
    "print(X_df.shape)\n",
    "# y_df = remove_n_time_steps(data=y_df, n=lag)\n",
    "print('\\n-------------\\nLabels After Time Shift')\n",
    "print(y_df.columns)\n",
    "print(y_df.shape)"
   ]
  }
 ],
 "metadata": {
  "kernelspec": {
   "display_name": "Python 3",
   "language": "python",
   "name": "python3"
  },
  "language_info": {
   "codemirror_mode": {
    "name": "ipython",
    "version": 3
   },
   "file_extension": ".py",
   "mimetype": "text/x-python",
   "name": "python",
   "nbconvert_exporter": "python",
   "pygments_lexer": "ipython3",
   "version": "3.6.6"
  }
 },
 "nbformat": 4,
 "nbformat_minor": 2
}
