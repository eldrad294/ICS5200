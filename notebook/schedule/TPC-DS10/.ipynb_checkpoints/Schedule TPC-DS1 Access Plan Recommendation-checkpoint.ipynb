{
 "cells": [
  {
   "cell_type": "markdown",
   "metadata": {},
   "source": [
    "# Schedule Access Plan Recommendation\n",
    "\n",
    "This notebook is dedicated to model fitting in terms of database access plans."
   ]
  },
  {
   "cell_type": "code",
   "execution_count": 1,
   "metadata": {},
   "outputs": [
    {
     "name": "stdout",
     "output_type": "stream",
     "text": [
      "pandas: 0.23.4\n",
      "numpy: 1.15.2\n",
      "sklearn: 0.18.1\n"
     ]
    }
   ],
   "source": [
    "# pandas\n",
    "import pandas as pd\n",
    "print('pandas: %s' % pd.__version__)\n",
    "# numpy\n",
    "import numpy as np\n",
    "print('numpy: %s' % np.__version__)\n",
    "# sklearn\n",
    "import sklearn as sk\n",
    "from sklearn import preprocessing\n",
    "print('sklearn: %s' % sk.__version__)"
   ]
  },
  {
   "cell_type": "code",
   "execution_count": 2,
   "metadata": {},
   "outputs": [],
   "source": [
    "#\n",
    "# Experiment Config\n",
    "tpcds='TPCDS1' # Schema upon which to operate test"
   ]
  },
  {
   "cell_type": "markdown",
   "metadata": {},
   "source": [
    "### Read data from file into pandas dataframes"
   ]
  },
  {
   "cell_type": "code",
   "execution_count": 3,
   "metadata": {},
   "outputs": [
    {
     "name": "stdout",
     "output_type": "stream",
     "text": [
      "                                       ('SQL_TEXT',)   ('DBID',)  \\\n",
      "0  select /*+  parallel_index(t, \"CS_SOLD_TIME_SK...  2634225673   \n",
      "1  select /*+  parallel_index(t, \"CS_SOLD_TIME_SK...  2634225673   \n",
      "2  select /*+  parallel_index(t, \"CS_SOLD_TIME_SK...  2634225673   \n",
      "3  select /*+  parallel_index(t, \"CS_SOLD_TIME_SK...  2634225673   \n",
      "4  select /*+  parallel_index(t, \"CS_SOLD_TIME_SK...  2634225673   \n",
      "\n",
      "     ('SQL_ID',)  ('PLAN_HASH_VALUE',)  ('ID',)    ('OPERATION',)  \\\n",
      "0  dxv968j0352kb             103598129        0  SELECT STATEMENT   \n",
      "1  dxv968j0352kb             103598129        1              SORT   \n",
      "2  dxv968j0352kb             103598129        2    PX COORDINATOR   \n",
      "3  dxv968j0352kb             103598129        3           PX SEND   \n",
      "4  dxv968j0352kb             103598129        4              SORT   \n",
      "\n",
      "  ('OPTIONS',) ('OBJECT_NODE',)  ('OBJECT#',) ('OBJECT_OWNER',)     ...       \\\n",
      "0          NaN              NaN           NaN               NaN     ...        \n",
      "1     GROUP BY              NaN           NaN               NaN     ...        \n",
      "2          NaN              NaN           NaN               NaN     ...        \n",
      "3  QC (RANDOM)           :Q1001           NaN               SYS     ...        \n",
      "4     GROUP BY           :Q1001           NaN               NaN     ...        \n",
      "\n",
      "  ('ACCESS_PREDICATES',) ('FILTER_PREDICATES',) ('PROJECTION',) ('TIME',)  \\\n",
      "0                    NaN                    NaN             NaN       NaN   \n",
      "1                    NaN                    NaN             NaN       NaN   \n",
      "2                    NaN                    NaN             NaN       NaN   \n",
      "3                    NaN                    NaN             NaN       NaN   \n",
      "4                    NaN                    NaN             NaN       NaN   \n",
      "\n",
      "   ('QBLOCK_NAME',)  ('REMARKS',)       ('TIMESTAMP',)  \\\n",
      "0               NaN           NaN  2018-10-07 15:52:33   \n",
      "1             SEL$1           NaN  2018-10-07 15:52:33   \n",
      "2               NaN           NaN  2018-10-07 15:52:33   \n",
      "3               NaN           NaN  2018-10-07 15:52:33   \n",
      "4               NaN           NaN  2018-10-07 15:52:33   \n",
      "\n",
      "                                      ('OTHER_XML',)  ('CON_DBID',)  \\\n",
      "0                                                NaN     2634225673   \n",
      "1  <other_xml><info type=\"db_version\">12.1.0.2</i...     2634225673   \n",
      "2                                                NaN     2634225673   \n",
      "3                                                NaN     2634225673   \n",
      "4                                                NaN     2634225673   \n",
      "\n",
      "   ('CON_ID',)  \n",
      "0            0  \n",
      "1            0  \n",
      "2            0  \n",
      "3            0  \n",
      "4            0  \n",
      "\n",
      "[5 rows x 40 columns]\n",
      "------------------------------------------\n",
      "Index(['SQL_TEXT', 'DBID', 'SQL_ID', 'PLAN_HASH_VALUE', 'ID', 'OPERATION',\n",
      "       'OPTIONS', 'OBJECT_NODE', 'OBJECT#', 'OBJECT_OWNER', 'OBJECT_NAME',\n",
      "       'OBJECT_ALIAS', 'OBJECT_TYPE', 'OPTIMIZER', 'PARENT_ID', 'DEPTH',\n",
      "       'POSITION', 'SEARCH_COLUMNS', 'COST', 'CARDINALITY', 'BYTES',\n",
      "       'OTHER_TAG', 'PARTITION_START', 'PARTITION_STOP', 'PARTITION_ID',\n",
      "       'OTHER', 'DISTRIBUTION', 'CPU_COST', 'IO_COST', 'TEMP_SPACE',\n",
      "       'ACCESS_PREDICATES', 'FILTER_PREDICATES', 'PROJECTION', 'TIME',\n",
      "       'QBLOCK_NAME', 'REMARKS', 'TIMESTAMP', 'OTHER_XML', 'CON_DBID',\n",
      "       'CON_ID'],\n",
      "      dtype='object')\n"
     ]
    },
    {
     "name": "stderr",
     "output_type": "stream",
     "text": [
      "C:\\ProgramData\\Anaconda3\\lib\\site-packages\\IPython\\core\\interactiveshell.py:2785: DtypeWarning: Columns (7,21,26) have mixed types. Specify dtype option on import or set low_memory=False.\n",
      "  interactivity=interactivity, compiler=compiler, result=result)\n"
     ]
    }
   ],
   "source": [
    "rep_vsql_plan_path = 'C:/Users/gabriel.sammut/University/Data_ICS5200/Schedule/' + tpcds + '/v2/rep_vsql_plan.csv'\n",
    "#rep_vsql_plan_path = 'D:/Projects/Datagenerated_ICS5200/Schedule/' + tpcds + '/v2/rep_vsql_plan.csv'\n",
    "#\n",
    "rep_vsql_plan_df = pd.read_csv(rep_vsql_plan_path)\n",
    "print(rep_vsql_plan_df.head())\n",
    "#\n",
    "def prettify_header(headers):\n",
    "    \"\"\"\n",
    "    Cleans header list from unwated character strings\n",
    "    \"\"\"\n",
    "    header_list = []\n",
    "    [header_list.append(header.replace(\"(\",\"\").replace(\")\",\"\").replace(\"'\",\"\").replace(\",\",\"\")) for header in headers]\n",
    "    return header_list\n",
    "#\n",
    "rep_vsql_plan_df.columns = prettify_header(rep_vsql_plan_df.columns.values)\n",
    "print('------------------------------------------')\n",
    "print(rep_vsql_plan_df.columns)"
   ]
  },
  {
   "cell_type": "markdown",
   "metadata": {},
   "source": [
    "### Dealing with empty values"
   ]
  },
  {
   "cell_type": "code",
   "execution_count": 4,
   "metadata": {},
   "outputs": [
    {
     "name": "stdout",
     "output_type": "stream",
     "text": [
      "N/A Columns\n",
      "\n",
      "\n",
      "REP_VSQL_PLAN Features 40: ['OPTIONS', 'OBJECT_NODE', 'OBJECT#', 'OBJECT_OWNER', 'OBJECT_NAME', 'OBJECT_ALIAS', 'OBJECT_TYPE', 'OPTIMIZER', 'PARENT_ID', 'COST', 'CARDINALITY', 'OTHER_TAG', 'PARTITION_START', 'PARTITION_STOP', 'PARTITION_ID', 'OTHER', 'DISTRIBUTION', 'IO_COST', 'ACCESS_PREDICATES', 'FILTER_PREDICATES', 'PROJECTION', 'TIME', 'QBLOCK_NAME', 'REMARKS', 'OTHER_XML']\n",
      "\n"
     ]
    }
   ],
   "source": [
    "def get_na_columns(df, headers):\n",
    "    \"\"\"\n",
    "    Return columns which consist of NAN values\n",
    "    \"\"\"\n",
    "    na_list = []\n",
    "    for head in headers:\n",
    "        if df[head].isnull().values.any():\n",
    "            na_list.append(head)\n",
    "    return na_list\n",
    "#\n",
    "print('N/A Columns\\n')\n",
    "print('\\nREP_VSQL_PLAN Features ' + str(len(rep_vsql_plan_df.columns)) + ': ' + str(get_na_columns(df=rep_vsql_plan_df,headers=rep_vsql_plan_df.columns)) + \"\\n\")\n",
    "#\n",
    "def fill_na(df):\n",
    "    \"\"\"\n",
    "    Replaces NA columns with 0s\n",
    "    \"\"\"\n",
    "    return df.fillna(0)\n",
    "#\n",
    "# Populating NaN values with amount '0'\n",
    "df = fill_na(df=rep_vsql_plan_df)"
   ]
  },
  {
   "cell_type": "markdown",
   "metadata": {},
   "source": [
    "### Feature Selection\n",
    "\n",
    "In this step, redundant features are dropped. Features are considered redundant if exhibit a standard devaition of 0 (meaning no change in value)."
   ]
  },
  {
   "cell_type": "code",
   "execution_count": 5,
   "metadata": {},
   "outputs": [
    {
     "name": "stdout",
     "output_type": "stream",
     "text": [
      "\n",
      "Shape before changes: [(26704, 40)]\n",
      "Shape after changes: [(26704, 32)]\n",
      "Dropped a total [8]\n",
      "\n",
      "After flatline column drop:\n",
      "(26704, 32)\n",
      "Index(['SQL_TEXT', 'SQL_ID', 'PLAN_HASH_VALUE', 'ID', 'OPERATION', 'OPTIONS',\n",
      "       'OBJECT_NODE', 'OBJECT#', 'OBJECT_OWNER', 'OBJECT_NAME', 'OBJECT_ALIAS',\n",
      "       'OBJECT_TYPE', 'OPTIMIZER', 'PARENT_ID', 'DEPTH', 'POSITION',\n",
      "       'SEARCH_COLUMNS', 'COST', 'CARDINALITY', 'BYTES', 'OTHER_TAG',\n",
      "       'PARTITION_START', 'PARTITION_STOP', 'PARTITION_ID', 'DISTRIBUTION',\n",
      "       'CPU_COST', 'IO_COST', 'TEMP_SPACE', 'TIME', 'QBLOCK_NAME', 'TIMESTAMP',\n",
      "       'OTHER_XML'],\n",
      "      dtype='object')\n"
     ]
    }
   ],
   "source": [
    "def drop_flatline_columns(df):\n",
    "    columns = df.columns\n",
    "    flatline_features = []\n",
    "    for i in range(len(columns)):\n",
    "        try:\n",
    "            std = df[columns[i]].std()\n",
    "            if std == 0:\n",
    "                flatline_features.append(columns[i])\n",
    "        except:\n",
    "            pass\n",
    "    #\n",
    "    #print('Features which are considered flatline:\\n')\n",
    "    #for col in flatline_features:\n",
    "    #    print(col)\n",
    "    print('\\nShape before changes: [' + str(df.shape) + ']')\n",
    "    df = df.drop(columns=flatline_features)\n",
    "    print('Shape after changes: [' + str(df.shape) + ']')\n",
    "    print('Dropped a total [' + str(len(flatline_features)) + ']')\n",
    "    return df\n",
    "#\n",
    "df = drop_flatline_columns(df=df)\n",
    "print('\\nAfter flatline column drop:')\n",
    "print(df.shape)\n",
    "print(df.columns)"
   ]
  },
  {
   "cell_type": "markdown",
   "metadata": {},
   "source": [
    "### Data Ordering\n",
    "\n",
    "Sorting of datasets in order of \n",
    "* SNAP_ID\n",
    "* SQL_ID\n",
    "* ID"
   ]
  },
  {
   "cell_type": "code",
   "execution_count": 6,
   "metadata": {},
   "outputs": [
    {
     "name": "stdout",
     "output_type": "stream",
     "text": [
      "                                            SQL_TEXT         SQL_ID  \\\n",
      "0  select /*+  parallel_index(t, \"CS_SOLD_TIME_SK...  dxv968j0352kb   \n",
      "1  select /*+  parallel_index(t, \"CS_SOLD_TIME_SK...  dxv968j0352kb   \n",
      "2  select /*+  parallel_index(t, \"CS_SOLD_TIME_SK...  dxv968j0352kb   \n",
      "3  select /*+  parallel_index(t, \"CS_SOLD_TIME_SK...  dxv968j0352kb   \n",
      "4  select /*+  parallel_index(t, \"CS_SOLD_TIME_SK...  dxv968j0352kb   \n",
      "\n",
      "   PLAN_HASH_VALUE  ID         OPERATION      OPTIONS OBJECT_NODE  OBJECT#  \\\n",
      "0        103598129   0  SELECT STATEMENT            0           0      0.0   \n",
      "1        103598129   1              SORT     GROUP BY           0      0.0   \n",
      "2        103598129   2    PX COORDINATOR            0           0      0.0   \n",
      "3        103598129   3           PX SEND  QC (RANDOM)      :Q1001      0.0   \n",
      "4        103598129   4              SORT     GROUP BY      :Q1001      0.0   \n",
      "\n",
      "  OBJECT_OWNER OBJECT_NAME                        ...                          \\\n",
      "0            0           0                        ...                           \n",
      "1            0           0                        ...                           \n",
      "2            0           0                        ...                           \n",
      "3          SYS    :TQ10001                        ...                           \n",
      "4            0           0                        ...                           \n",
      "\n",
      "  PARTITION_STOP PARTITION_ID DISTRIBUTION  CPU_COST  IO_COST  TEMP_SPACE  \\\n",
      "0              0          0.0            0                0.0               \n",
      "1              0          0.0            0                0.0               \n",
      "2              0          0.0            0                0.0               \n",
      "3              0          0.0  QC (RANDOM)                0.0               \n",
      "4              0          0.0            0                0.0               \n",
      "\n",
      "   TIME  QBLOCK_NAME            TIMESTAMP  \\\n",
      "0   0.0            0  2018-10-07 15:52:33   \n",
      "1   0.0        SEL$1  2018-10-07 15:52:33   \n",
      "2   0.0            0  2018-10-07 15:52:33   \n",
      "3   0.0            0  2018-10-07 15:52:33   \n",
      "4   0.0            0  2018-10-07 15:52:33   \n",
      "\n",
      "                                           OTHER_XML  \n",
      "0                                                  0  \n",
      "1  <other_xml><info type=\"db_version\">12.1.0.2</i...  \n",
      "2                                                  0  \n",
      "3                                                  0  \n",
      "4                                                  0  \n",
      "\n",
      "[5 rows x 32 columns]\n"
     ]
    }
   ],
   "source": [
    "df.sort_values(by=['TIMESTAMP','PLAN_HASH_VALUE','ID'], ascending=True, inplace=True)\n",
    "print(df.head())"
   ]
  },
  {
   "cell_type": "markdown",
   "metadata": {},
   "source": [
    "### Label Encoding\n",
    "\n",
    "Converting labels/features into numerical representations"
   ]
  },
  {
   "cell_type": "code",
   "execution_count": 7,
   "metadata": {
    "scrolled": true
   },
   "outputs": [
    {
     "name": "stdout",
     "output_type": "stream",
     "text": [
      "Encoded labels:\n",
      "['OPERATION', 'OPTIONS', 'OBJECT_OWNER', 'OBJECT_NAME', 'OBJECT_ALIAS', 'OBJECT_TYPE', 'OPTIMIZER', 'QBLOCK_NAME']\n",
      "\n",
      "----------------------------------------------\n",
      "\n",
      "\n",
      "                                            SQL_TEXT         SQL_ID  \\\n",
      "0  select /*+  parallel_index(t, \"CS_SOLD_TIME_SK...  dxv968j0352kb   \n",
      "1  select /*+  parallel_index(t, \"CS_SOLD_TIME_SK...  dxv968j0352kb   \n",
      "2  select /*+  parallel_index(t, \"CS_SOLD_TIME_SK...  dxv968j0352kb   \n",
      "3  select /*+  parallel_index(t, \"CS_SOLD_TIME_SK...  dxv968j0352kb   \n",
      "4  select /*+  parallel_index(t, \"CS_SOLD_TIME_SK...  dxv968j0352kb   \n",
      "\n",
      "   PLAN_HASH_VALUE  ID  OPERATION  OPTIONS OBJECT_NODE  OBJECT#  OBJECT_OWNER  \\\n",
      "0        103598129   0         23        0           0      0.0             0   \n",
      "1        103598129   1         25       16           0      0.0             0   \n",
      "2        103598129   2         20        0           0      0.0             0   \n",
      "3        103598129   3         22       28      :Q1001      0.0             1   \n",
      "4        103598129   4         25       16      :Q1001      0.0             0   \n",
      "\n",
      "   OBJECT_NAME                        ...                          \\\n",
      "0            0                        ...                           \n",
      "1            0                        ...                           \n",
      "2            0                        ...                           \n",
      "3            2                        ...                           \n",
      "4            0                        ...                           \n",
      "\n",
      "   PARTITION_STOP  PARTITION_ID  DISTRIBUTION  CPU_COST  IO_COST  TEMP_SPACE  \\\n",
      "0               0           0.0             0                0.0               \n",
      "1               0           0.0             0                0.0               \n",
      "2               0           0.0             0                0.0               \n",
      "3               0           0.0   QC (RANDOM)                0.0               \n",
      "4               0           0.0             0                0.0               \n",
      "\n",
      "   TIME  QBLOCK_NAME            TIMESTAMP  \\\n",
      "0   0.0            0  2018-10-07 15:52:33   \n",
      "1   0.0            6  2018-10-07 15:52:33   \n",
      "2   0.0            0  2018-10-07 15:52:33   \n",
      "3   0.0            0  2018-10-07 15:52:33   \n",
      "4   0.0            0  2018-10-07 15:52:33   \n",
      "\n",
      "                                           OTHER_XML  \n",
      "0                                                  0  \n",
      "1  <other_xml><info type=\"db_version\">12.1.0.2</i...  \n",
      "2                                                  0  \n",
      "3                                                  0  \n",
      "4                                                  0  \n",
      "\n",
      "[5 rows x 32 columns]\n"
     ]
    }
   ],
   "source": [
    "def encode(df, encoded_labels):\n",
    "    for col in df.columns:\n",
    "        if col in encoded_labels:\n",
    "            le = preprocessing.LabelEncoder()\n",
    "            df[col] = le.fit_transform(df[col].astype(str))\n",
    "    return df\n",
    "#\n",
    "#print(rep_vsql_plan_df.head())\n",
    "encoded_labels = ['OPERATION','OPTIONS','OBJECT_OWNER','OBJECT_NAME','OBJECT_ALIAS','OBJECT_TYPE','OPTIMIZER','QBLOCK_NAME']\n",
    "df = encode(df=df, encoded_labels=encoded_labels)\n",
    "print('Encoded labels:\\n' + str(encoded_labels) + \"\\n\\n----------------------------------------------\\n\\n\")\n",
    "print(df.head())"
   ]
  },
  {
   "cell_type": "markdown",
   "metadata": {},
   "source": [
    "### Access Plan Resource Aggregation\n",
    "\n",
    "This method attempts to tackle the problem of access plan anomolies by aggregating resources per explain plan. Notable resources which are being considered are as follows:\n",
    "\n",
    "* COST\n",
    "* CARDINALITY\n",
    "* BYTES\n",
    "* PARTITION_DELTA (Partition End - Partition Start)\n",
    "* CPU_COST\n",
    "* IO_COST\n",
    "* TEMP_SPACE\n",
    "* TIME\n",
    "\n",
    "The reasoning behind these fields in particular is mainly because these columns can be aggregated together."
   ]
  },
  {
   "cell_type": "code",
   "execution_count": 8,
   "metadata": {
    "scrolled": true
   },
   "outputs": [
    {
     "name": "stdout",
     "output_type": "stream",
     "text": [
      "Index(['SQL_ID', 'PLAN_HASH_VALUE', 'ID', 'OPERATION', 'OPTIONS', 'OBJECT#',\n",
      "       'OBJECT_OWNER', 'OBJECT_NAME', 'OBJECT_ALIAS', 'OBJECT_TYPE',\n",
      "       'OPTIMIZER', 'PARENT_ID', 'DEPTH', 'POSITION', 'SEARCH_COLUMNS', 'COST',\n",
      "       'CARDINALITY', 'PARTITION_ID', 'IO_COST', 'TIME', 'QBLOCK_NAME'],\n",
      "      dtype='object')\n",
      "(190, 21)\n"
     ]
    }
   ],
   "source": [
    "df_aggregate = df.groupby(['SQL_ID','PLAN_HASH_VALUE']).sum()\n",
    "df_aggregate.reset_index(inplace=True)\n",
    "print(df_aggregate.columns)\n",
    "print(df_aggregate.shape)"
   ]
  },
  {
   "cell_type": "markdown",
   "metadata": {},
   "source": [
    "### Isolation Forest Outlier Detection\n",
    "\n",
    "Outlier detection of for plans opted for by sqls. A separate dataset consisting of explain plans generated with optimizer hint inclusion will be used to evaluate the achieved model score (this dataset will be considered outliers)."
   ]
  },
  {
   "cell_type": "code",
   "execution_count": null,
   "metadata": {},
   "outputs": [],
   "source": [
    "class IsolationForestWrapper:\n",
    "    #\n",
    "    def __init__(self, X, contamination=.1, parallel_degree=1):\n",
    "        \"\"\"\n",
    "        Constructor Method\n",
    "        :param X - Pandas Dataframe\n",
    "        :param contamination - Real value\n",
    "        \"\"\"\n",
    "        self.X = X.values\n",
    "        self.model = IsolationForest(n_estimators=100, max_samples=256, contamination=contamination, random_state=0, n_jobs=parallel_degree)\n",
    "        self.model.fit(self.X)\n",
    "        self.scorings = []\n",
    "        print(self.model)\n",
    "    #\n",
    "    def predict_labels(self):\n",
    "        return self.model.predict(self.X)        "
   ]
  }
 ],
 "metadata": {
  "kernelspec": {
   "display_name": "Python 3",
   "language": "python",
   "name": "python3"
  },
  "language_info": {
   "codemirror_mode": {
    "name": "ipython",
    "version": 3
   },
   "file_extension": ".py",
   "mimetype": "text/x-python",
   "name": "python",
   "nbconvert_exporter": "python",
   "pygments_lexer": "ipython3",
   "version": "3.6.6"
  }
 },
 "nbformat": 4,
 "nbformat_minor": 2
}
